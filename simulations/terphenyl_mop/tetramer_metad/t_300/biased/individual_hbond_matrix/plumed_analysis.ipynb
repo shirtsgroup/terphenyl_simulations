{
 "cells": [
  {
   "cell_type": "markdown",
   "id": "5080406b",
   "metadata": {},
   "source": [
    "# Plumed Analysis Notebook\n",
    "\n",
    "Using this notebook to visualize and analyze the output from the H-bond metadynamics simulations"
   ]
  },
  {
   "cell_type": "code",
   "execution_count": null,
   "id": "0092406d",
   "metadata": {},
   "outputs": [],
   "source": [
    "import plumed\n",
    "import signac\n",
    "import signac_project\n",
    "import pymbar\n",
    "import matplotlib.pyplot as plt\n",
    "import subprocess\n",
    "import os\n",
    "plt.rcParams.update({'font.size':9})\n",
    "retcode = subprocess.call(['echo', 'foo'], \n",
    "    stdout=subprocess.DEVNULL,\n",
    "    stderr=subprocess.STDOUT)\n",
    "\n",
    "kt = 300 * 8.314462618 * 10 ** -3"
   ]
  },
  {
   "cell_type": "markdown",
   "id": "7b594dc1",
   "metadata": {},
   "source": [
    "## Get Signac setup"
   ]
  },
  {
   "cell_type": "code",
   "execution_count": null,
   "id": "4d7665ef",
   "metadata": {},
   "outputs": [],
   "source": [
    "project = signac.get_project()\n",
    "project"
   ]
  },
  {
   "cell_type": "code",
   "execution_count": null,
   "id": "1cc8b438",
   "metadata": {},
   "outputs": [],
   "source": [
    "!python signac_project.py status"
   ]
  },
  {
   "cell_type": "markdown",
   "id": "0060c7f2",
   "metadata": {},
   "source": [
    "## Check CV of finished simulations\n",
    "\n",
    "Using signac we can access simulations that have finished running"
   ]
  },
  {
   "cell_type": "code",
   "execution_count": null,
   "id": "083d816b",
   "metadata": {},
   "outputs": [],
   "source": [
    "# Funciton to plot H-bonds for individual directories\n",
    "hide_plots = False\n",
    "\n",
    "def plot_CV_bias(job, filename = \"CV_bias_plot.png\", dpi=300):\n",
    "    plt.figure(dpi=dpi)\n",
    "    data = plumed.read_as_pandas(job.fn(\"HBOND_SUMS\"))\n",
    "    fig, ax = plt.subplots(5,1, figsize = [12,8])\n",
    "    ax[0].set_title(\"SIGMA: \" +  str(job.sp.sigma) +  \" HEIGH:\" + str(job.sp.height))\n",
    "    ax[0].plot(data.time/1000, data.values[:,1])\n",
    "    ax[0].set_ylabel(\"Hydrogen Bond 1\")\n",
    "    ax[1].plot(data.time/1000, data.values[:,2])\n",
    "    ax[1].set_ylabel(\"Hydrogen Bond 2\")\n",
    "    ax[2].plot(data.time/1000, data.values[:,3])\n",
    "    ax[2].set_ylabel(\"Hydrogen Bond 3\")\n",
    "    ax[3].plot(data.time/1000, data.values[:,4])\n",
    "    ax[3].set_ylabel(\"Sum of H-Bonds\")\n",
    "    ax[4].plot(data.time/1000, data.values[:,5],'r')\n",
    "    ax[4].set_ylabel(\"Bias Energy\")\n",
    "    ax[4].set_xlabel(\"Time (ns)\")\n",
    "    if hide_plots:\n",
    "        plt.close()\n",
    "    plt.savefig(job.fn(filename))"
   ]
  },
  {
   "cell_type": "code",
   "execution_count": null,
   "id": "b357b705",
   "metadata": {
    "tags": []
   },
   "outputs": [],
   "source": [
    "for job in project.find_jobs():\n",
    "    if signac_project.check_production_npt_finish(job):\n",
    "        plot_CV_bias(job)  "
   ]
  },
  {
   "cell_type": "markdown",
   "id": "f5b42ae4",
   "metadata": {},
   "source": [
    "## Run preliminary free energy calculation\n",
    "\n",
    "First we can calculate a preliminary FES using the `plumed sum_hills` function."
   ]
  },
  {
   "cell_type": "code",
   "execution_count": null,
   "id": "a349f721",
   "metadata": {},
   "outputs": [],
   "source": [
    "os.path.abspath(\"\")"
   ]
  },
  {
   "cell_type": "code",
   "execution_count": null,
   "id": "c2a91d3b",
   "metadata": {},
   "outputs": [],
   "source": [
    "current_dir = os.path.abspath(\"\")"
   ]
  },
  {
   "cell_type": "code",
   "execution_count": null,
   "id": "5d8450ea",
   "metadata": {},
   "outputs": [],
   "source": [
    "for job in project.find_jobs():\n",
    "    if signac_project.check_production_npt_finish(job):\n",
    "        os.chdir(job.fn(\"\"))\n",
    "        subprocess.run([\"plumed\", \"sum_hills\", \"--hills\", \"HILLS\", \"--min\", \"0\", \"--max\", \"3\", \"--kt\", str(kt)])\n",
    "        fes_data = plumed.read_as_pandas(\"fes.dat\")\n",
    "        plt.figure()\n",
    "        plt.plot(fes_data.values[:,0], fes_data.values[:,1])\n",
    "        plt.title(\"SIGMA: \" + str(job.sp.sigma) + \" HEIGHT: \" + str(job.sp.height))\n",
    "        plt.xlabel(\"Number of Hydrogen Bonds\")\n",
    "        plt.ylabel(\"Free Energy\")\n",
    "        os.chdir(current_dir)"
   ]
  },
  {
   "cell_type": "code",
   "execution_count": null,
   "id": "2c4d96b9",
   "metadata": {},
   "outputs": [],
   "source": [
    "def calculate_statistical_inefficiency():\n",
    "    pass"
   ]
  },
  {
   "cell_type": "code",
   "execution_count": null,
   "id": "daa1c83f",
   "metadata": {},
   "outputs": [],
   "source": [
    "for job in project.find_jobs():\n",
    "    if signac_project.check_production_npt_finish(job):\n",
    "        # Calculate"
   ]
  },
  {
   "cell_type": "code",
   "execution_count": null,
   "id": "7c84c23a",
   "metadata": {},
   "outputs": [],
   "source": []
  }
 ],
 "metadata": {
  "kernelspec": {
   "display_name": "Python 3 (ipykernel)",
   "language": "python",
   "name": "python3"
  },
  "language_info": {
   "codemirror_mode": {
    "name": "ipython",
    "version": 3
   },
   "file_extension": ".py",
   "mimetype": "text/x-python",
   "name": "python",
   "nbconvert_exporter": "python",
   "pygments_lexer": "ipython3",
   "version": "3.11.0"
  }
 },
 "nbformat": 4,
 "nbformat_minor": 5
}
