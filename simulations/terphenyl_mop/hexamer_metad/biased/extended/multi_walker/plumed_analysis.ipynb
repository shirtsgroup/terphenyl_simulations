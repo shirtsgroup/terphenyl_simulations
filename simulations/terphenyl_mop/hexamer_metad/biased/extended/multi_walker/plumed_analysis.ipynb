{
 "cells": [
  {
   "cell_type": "markdown",
   "id": "5080406b",
   "metadata": {},
   "source": [
    "# Plumed Analysis Notebook\n",
    "\n",
    "Using this notebook to visualize and analyze the output from the H-bond metadynamics simulations"
   ]
  },
  {
   "cell_type": "code",
   "execution_count": 1,
   "id": "0092406d",
   "metadata": {},
   "outputs": [
    {
     "name": "stderr",
     "output_type": "stream",
     "text": [
      "/home/tfobe/anaconda3/envs/plumed/lib/python3.11/site-packages/tqdm/auto.py:22: TqdmWarning: IProgress not found. Please update jupyter and ipywidgets. See https://ipywidgets.readthedocs.io/en/stable/user_install.html\n",
      "  from .autonotebook import tqdm as notebook_tqdm\n"
     ]
    }
   ],
   "source": [
    "import plumed\n",
    "import signac\n",
    "import signac_project\n",
    "import matplotlib.pyplot as plt\n",
    "import subprocess\n",
    "import pandas as pd\n",
    "import os\n",
    "\n",
    "plt.rcParams.update({'font.size':9})\n",
    "kt = 300 * 8.314462618 * 10 ** -3"
   ]
  },
  {
   "cell_type": "markdown",
   "id": "7b594dc1",
   "metadata": {},
   "source": [
    "## Get Signac setup"
   ]
  },
  {
   "cell_type": "code",
   "execution_count": 2,
   "id": "4d7665ef",
   "metadata": {},
   "outputs": [],
   "source": [
    "project = signac.get_project()\n",
    "df = project.to_dataframe()"
   ]
  },
  {
   "cell_type": "code",
   "execution_count": 3,
   "id": "149bda64-632d-4202-8e0f-7056d1d0d6cc",
   "metadata": {
    "scrolled": false
   },
   "outputs": [
    {
     "name": "stderr",
     "output_type": "stream",
     "text": [
      "/tmp/ipykernel_495294/2111980519.py:3: DeprecatedWarning: get_id is deprecated as of 1.3 and will be removed in 2.0. Use job.id instead.\n",
      "  id = job.get_id()\n"
     ]
    },
    {
     "data": {
      "text/html": [
       "<div>\n",
       "<style scoped>\n",
       "    .dataframe tbody tr th:only-of-type {\n",
       "        vertical-align: middle;\n",
       "    }\n",
       "\n",
       "    .dataframe tbody tr th {\n",
       "        vertical-align: top;\n",
       "    }\n",
       "\n",
       "    .dataframe thead th {\n",
       "        text-align: right;\n",
       "    }\n",
       "</style>\n",
       "<table border=\"1\" class=\"dataframe\">\n",
       "  <thead>\n",
       "    <tr style=\"text-align: right;\">\n",
       "      <th></th>\n",
       "      <th>sp.height</th>\n",
       "      <th>sp.sigma</th>\n",
       "      <th>sp.bf</th>\n",
       "      <th>sp.replica</th>\n",
       "      <th>Completed</th>\n",
       "    </tr>\n",
       "  </thead>\n",
       "  <tbody>\n",
       "    <tr>\n",
       "      <th>e005c8949f54d2f488a34a8c58afa9e7</th>\n",
       "      <td>2.5</td>\n",
       "      <td>0.5</td>\n",
       "      <td>50</td>\n",
       "      <td>1</td>\n",
       "      <td>True</td>\n",
       "    </tr>\n",
       "    <tr>\n",
       "      <th>92418f2455dbccd2c8e0a5fa837c912f</th>\n",
       "      <td>2.5</td>\n",
       "      <td>0.5</td>\n",
       "      <td>50</td>\n",
       "      <td>0</td>\n",
       "      <td>True</td>\n",
       "    </tr>\n",
       "    <tr>\n",
       "      <th>124094afb3eb5b9b79dc24d56c8dd0f4</th>\n",
       "      <td>2.5</td>\n",
       "      <td>0.5</td>\n",
       "      <td>50</td>\n",
       "      <td>4</td>\n",
       "      <td>True</td>\n",
       "    </tr>\n",
       "    <tr>\n",
       "      <th>31d8189088592b14526db82ab3ebf87c</th>\n",
       "      <td>2.5</td>\n",
       "      <td>0.5</td>\n",
       "      <td>50</td>\n",
       "      <td>2</td>\n",
       "      <td>True</td>\n",
       "    </tr>\n",
       "    <tr>\n",
       "      <th>5816dfcc3edff2917296a00af2380da5</th>\n",
       "      <td>2.5</td>\n",
       "      <td>0.5</td>\n",
       "      <td>50</td>\n",
       "      <td>3</td>\n",
       "      <td>True</td>\n",
       "    </tr>\n",
       "  </tbody>\n",
       "</table>\n",
       "</div>"
      ],
      "text/plain": [
       "                                  sp.height  sp.sigma  sp.bf  sp.replica  \\\n",
       "e005c8949f54d2f488a34a8c58afa9e7        2.5       0.5     50           1   \n",
       "92418f2455dbccd2c8e0a5fa837c912f        2.5       0.5     50           0   \n",
       "124094afb3eb5b9b79dc24d56c8dd0f4        2.5       0.5     50           4   \n",
       "31d8189088592b14526db82ab3ebf87c        2.5       0.5     50           2   \n",
       "5816dfcc3edff2917296a00af2380da5        2.5       0.5     50           3   \n",
       "\n",
       "                                  Completed  \n",
       "e005c8949f54d2f488a34a8c58afa9e7       True  \n",
       "92418f2455dbccd2c8e0a5fa837c912f       True  \n",
       "124094afb3eb5b9b79dc24d56c8dd0f4       True  \n",
       "31d8189088592b14526db82ab3ebf87c       True  \n",
       "5816dfcc3edff2917296a00af2380da5       True  "
      ]
     },
     "execution_count": 3,
     "metadata": {},
     "output_type": "execute_result"
    }
   ],
   "source": [
    "status = []\n",
    "for job in project.find_jobs():\n",
    "    id = job.get_id()\n",
    "    status.append(signac_project.check_production_npt_finish(job))\n",
    "df[\"Completed\"] = status\n",
    "pd.set_option('display.max_rows', None)\n",
    "df.sort_values([\"Completed\", \"sp.bf\"], ascending=[False, True])"
   ]
  },
  {
   "cell_type": "code",
   "execution_count": 4,
   "id": "1cc8b438",
   "metadata": {},
   "outputs": [
    {
     "name": "stdout",
     "output_type": "stream",
     "text": [
      "Using environment configuration: StandardEnvironment\n",
      "Fetching status: 100%|██████████████████████████| 45/45 [00:05<00:00,  8.15it/s]\n",
      "Fetching labels: 100%|████████████████████████████| 5/5 [00:00<00:00, 23.05it/s]\n",
      "\n",
      "Overview: 5 jobs/aggregates, 5 jobs/aggregates with eligible operations.\n",
      "\n",
      "label                        ratio\n",
      "---------------------------  --------------------------------------------------------\n",
      "check_berendsen_npt_finish   |████████████████████████████████████████| 5/5 (100.00%)\n",
      "check_berendsen_npt_start    |████████████████████████████████████████| 5/5 (100.00%)\n",
      "check_berendsen_nvt_finish   |████████████████████████████████████████| 5/5 (100.00%)\n",
      "check_berendsen_nvt_start    |████████████████████████████████████████| 5/5 (100.00%)\n",
      "check_production_npt_finish  |████████████████████████████████████████| 5/5 (100.00%)\n",
      "check_production_npt_start   |████████████████████████████████████████| 5/5 (100.00%)\n",
      "check_submitted              |████████████████████████████████████████| 5/5 (100.00%)\n",
      "has_backup_files             |████████████████████████████████████████| 5/5 (100.00%)\n",
      "\n",
      "operation/group                       number of eligible jobs  submission status\n",
      "----------------------------------  -------------------------  -------------------\n",
      "continue_production_npt_simulation                          5  [U]: 5\n",
      "remove_backup_files                                         5  [U]: 5\n",
      "plot_CV_bias                                                5  [U]: 5\n",
      "calculate_sum_hills_FE                                      5  [U]: 5\n",
      "\n",
      "[U]:unknown [R]:registered [I]:inactive [S]:submitted [H]:held [Q]:queued [A]:active [E]:error [GR]:group_registered [GI]:group_inactive [GS]:group_submitted [GH]:group_held [GQ]:group_queued [GA]:group_active [GE]:group_error\n",
      "\n",
      "\n",
      "WARNING: The status compilation took more than 0.2s per job. Consider using `--profile` to determine bottlenecks within the project workflow definition.\n",
      "Execute `signac config set flow.status_performance_warn_threshold VALUE` to specify the warning threshold in seconds.\n",
      "To speed up the compilation, try executing `signac config set flow.status_parallelization 'process'` to set the status_parallelization config value to process.Use -1 to completely suppress this warning.\n",
      "\n"
     ]
    }
   ],
   "source": [
    "!python signac_project.py status"
   ]
  }
 ],
 "metadata": {
  "kernelspec": {
   "display_name": "Python 3 (ipykernel)",
   "language": "python",
   "name": "python3"
  },
  "language_info": {
   "codemirror_mode": {
    "name": "ipython",
    "version": 3
   },
   "file_extension": ".py",
   "mimetype": "text/x-python",
   "name": "python",
   "nbconvert_exporter": "python",
   "pygments_lexer": "ipython3",
   "version": "3.11.0"
  }
 },
 "nbformat": 4,
 "nbformat_minor": 5
}
