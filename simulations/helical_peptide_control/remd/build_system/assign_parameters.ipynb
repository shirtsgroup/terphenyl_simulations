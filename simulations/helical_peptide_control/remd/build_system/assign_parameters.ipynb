{
 "cells": [
  {
   "cell_type": "code",
   "execution_count": 2,
   "id": "30557f01-a3d5-4860-972f-26ede5b26197",
   "metadata": {},
   "outputs": [
    {
     "name": "stderr",
     "output_type": "stream",
     "text": [
      "Warning: importing 'simtk.openmm' is deprecated.  Import 'openmm' instead.\n"
     ]
    }
   ],
   "source": [
    "import pymol\n",
    "\n",
    "import mbuild as mb\n",
    "from mbuild.lib.recipes.polymer import Polymer\n",
    "\n",
    "import warnings\n",
    "warnings.filterwarnings('ignore')\n",
    "\n",
    "import mdtraj as md\n",
    "from openff.interchange import Interchange\n",
    "from openmm import app\n",
    "from openff.toolkit import ForceField, Molecule\n",
    "from openff.toolkit.utils import get_data_file_path"
   ]
  },
  {
   "cell_type": "markdown",
   "id": "18e7d9c0-c8c7-4537-933b-1b5560baa23c",
   "metadata": {},
   "source": [
    "# Build PDB of helical peptide\n",
    "\n",
    "## PyMol Scripts\n",
    "First we build the peptide sequence using PyMOLs built in peptide builder. Here we use the scripting version of PyMOL to build this peptide without interfacing with the PyMOL GUI."
   ]
  },
  {
   "cell_type": "code",
   "execution_count": 3,
   "id": "f1eb6921-ad90-4fda-9c88-505ec4e8b614",
   "metadata": {},
   "outputs": [],
   "source": [
    "peptide_sequence = \"EEEEKKKK\"\n",
    "pymol.cmd.delete(\"all\")\n",
    "pymol.editor.build_peptide(peptide_sequence)\n",
    "pymol.cmd.set(\"pdb_conect_all\", \"on\")\n",
    "pymol.cmd.save(\"short_peptide.pdb\")"
   ]
  },
  {
   "cell_type": "markdown",
   "id": "ba797a91",
   "metadata": {},
   "source": [
    "Next we'll use mbuild to add our capping residues to the generated PyMol generated peptide pdb."
   ]
  },
  {
   "cell_type": "code",
   "execution_count": 25,
   "id": "9807004c-350b-4fa0-b9af-cc925136ad9a",
   "metadata": {
    "scrolled": false
   },
   "outputs": [
    {
     "data": {
      "application/3dmoljs_load.v0": "<div id=\"3dmolviewer_1681942509530095\"  style=\"position: relative; width: 640px; height: 480px\">\n        <p id=\"3dmolwarning_1681942509530095\" style=\"background-color:#ffcccc;color:black\">You appear to be running in JupyterLab (or JavaScript failed to load for some other reason).  You need to install the 3dmol extension: <br>\n        <tt>jupyter labextension install jupyterlab_3dmol</tt></p>\n        </div>\n<script>\n\nvar loadScriptAsync = function(uri){\n  return new Promise((resolve, reject) => {\n    //this is to ignore the existence of requirejs amd\n    var savedexports, savedmodule;\n    if (typeof exports !== 'undefined') savedexports = exports;\n    else exports = {}\n    if (typeof module !== 'undefined') savedmodule = module;\n    else module = {}\n\n    var tag = document.createElement('script');\n    tag.src = uri;\n    tag.async = true;\n    tag.onload = () => {\n        exports = savedexports;\n        module = savedmodule;\n        resolve();\n    };\n  var firstScriptTag = document.getElementsByTagName('script')[0];\n  firstScriptTag.parentNode.insertBefore(tag, firstScriptTag);\n});\n};\n\nif(typeof $3Dmolpromise === 'undefined') {\n$3Dmolpromise = null;\n  $3Dmolpromise = loadScriptAsync('https://cdnjs.cloudflare.com/ajax/libs/3Dmol/2.0.1/3Dmol-min.js');\n}\n\nvar viewer_1681942509530095 = null;\nvar warn = document.getElementById(\"3dmolwarning_1681942509530095\");\nif(warn) {\n    warn.parentNode.removeChild(warn);\n}\n$3Dmolpromise.then(function() {\nviewer_1681942509530095 = $3Dmol.createViewer(document.getElementById(\"3dmolviewer_1681942509530095\"),{backgroundColor:\"white\"});\nviewer_1681942509530095.zoomTo();\n\tviewer_1681942509530095.addModel(\"@<TRIPOS>MOLECULE\\nCompound\\n148 147 1 0 1\\nSMALL\\nNO_CHARGES\\n@<TRIPOS>CRYSIN\\n   33.6320    25.3610    12.5260    90.0000    90.0000    90.0000  1  1\\n@<TRIPOS>ATOM\\n       1 N           -0.5170    -2.3460    -1.0380 N             1 Compound\\n       2 CA           0.0420    -0.9970    -1.0380 CA            1 Compound\\n       3 C            1.5510    -1.0370    -1.0380 C             1 Compound\\n       4 O            2.1880    -1.7980    -0.2950 O             1 Compound\\n       5 CB          -0.4810    -0.2120     0.1990 CB            1 Compound\\n       6 CG          -0.0060     1.2730     0.3100 CG            1 Compound\\n       7 CD          -0.4300     2.0770     1.5250 CD            1 Compound\\n       8 OE1         -1.1580     1.5750     2.4030 OE1           1 Compound\\n       9 OE2         -0.0000     3.2470     1.5970 OE2           1 Compound\\n      10 H            0.1100    -3.2250    -1.0380 H             1 Compound\\n      11 HA          -0.2840    -0.4790    -1.9580 HA            1 Compound\\n      12 HB2         -0.1920    -0.7430     1.1290 HB2           1 Compound\\n      13 HB3         -1.5880    -0.2220     0.2120 HB3           1 Compound\\n      14 HG2         -0.3160     1.8580    -0.5710 HG2           1 Compound\\n      15 HG3          1.0940     1.3400     0.3390 HG3           1 Compound\\n      16 N            2.1970    -0.2560    -1.8360 N             1 Compound\\n      17 CA           3.6570    -0.2950    -1.8360 CA            1 Compound\\n      18 C            4.2340     1.0960    -1.9340 C             1 Compound\\n      19 O            3.7970     1.9340    -2.7370 O             1 Compound\\n      20 CB           4.1580    -1.1760    -3.0150 CB            1 Compound\\n      21 CG           5.7080    -1.3540    -3.1170 CG            1 Compound\\n      22 CD           6.2670    -2.1520    -4.2800 CD            1 Compound\\n      23 OE1          5.5110    -2.6730    -5.1230 OE1           1 Compound\\n      24 OE2          7.5110    -2.2400    -4.3490 OE2           1 Compound\\n      25 H            1.7010     0.3720    -2.4510 H             1 Compound\\n      26 HA           3.9990    -0.7380    -0.8830 HA            1 Compound\\n      27 HB2          3.7890    -0.7620    -3.9760 HB2           1 Compound\\n      28 HB3          3.6990    -2.1820    -2.9570 HB3           1 Compound\\n      29 HG2          6.1180    -1.8130    -2.2030 HG2           1 Compound\\n      30 HG3          6.2170    -0.3810    -3.2150 HG3           1 Compound\\n      31 N            5.2120     1.4240    -1.1590 N             1 Compound\\n      32 CA           5.7710     2.7690    -1.2540 CA            1 Compound\\n      33 C            7.2770     2.7380    -1.1560 C             1 Compound\\n      34 O            7.8660     2.0560    -0.3050 O             1 Compound\\n      35 CB           5.1720     3.6670    -0.1330 CB            1 Compound\\n      36 CG           5.6400     5.1580    -0.1360 CG            1 Compound\\n      37 CD           5.1420     6.0730     0.9670 CD            1 Compound\\n      38 OE1          4.3600     5.6540     1.8420 OE1           1 Compound\\n      39 OE2          5.5670     7.2470     0.9530 OE2           1 Compound\\n      40 H            5.5860     0.7590    -0.4970 H             1 Compound\\n      41 HA           5.5040     3.1950    -2.2380 HA            1 Compound\\n      42 HB2          5.4020     3.2290     0.8600 HB2           1 Compound\\n      43 HB3          4.0670     3.6520    -0.1880 HB3           1 Compound\\n      44 HG2          5.3870     5.6540    -1.0870 HG2           1 Compound\\n      45 HG3          6.7370     5.2330    -0.0450 HG3           1 Compound\\n      46 N            7.9720     3.4420    -1.9840 N             1 Compound\\n      47 CA           9.4290     3.4110    -1.8890 CA            1 Compound\\n      48 C           10.0130     4.7890    -2.0850 C             1 Compound\\n      49 O            9.6280     5.5440    -2.9900 O             1 Compound\\n      50 CB          10.0030     2.4230    -2.9450 CB            1 Compound\\n      51 CG          11.5560     2.2440    -2.9320 CG            1 Compound\\n      52 CD          12.1860     1.3420    -3.9760 CD            1 Compound\\n      53 OE1         11.4840     0.7380    -4.8100 OE1           1 Compound\\n      54 OE2         13.4320     1.2540    -3.9580 OE2           1 Compound\\n      55 H            7.5160     4.0060    -2.6860 H             1 Compound\\n      56 HA           9.7110     3.0630    -0.8790 HA            1 Compound\\n      57 HB2          9.6950     2.7410    -3.9620 HB2           1 Compound\\n      58 HB3          9.5400     1.4250    -2.8190 HB3           1 Compound\\n      59 HG2         11.9080     1.8780    -1.9540 HG2           1 Compound\\n      60 HG3         12.0710     3.2060    -3.0920 HG3           1 Compound\\n      61 N           10.9410     5.1950    -1.2860 N             1 Compound\\n      62 CA          11.5060     6.5280    -1.4740 CA            1 Compound\\n      63 C           13.0040     6.5130    -1.2800 C             1 Compound\\n      64 O           13.5370     5.9190    -0.3320 O             1 Compound\\n      65 CB          10.8280     7.5200    -0.4910 CB            1 Compound\\n      66 CG          11.3060     8.9830    -0.6650 CG            1 Compound\\n      67 CD          10.7070     9.9800     0.3320 CD            1 Compound\\n      68 CE          11.3200    11.3660     0.0920 CE            1 Compound\\n      69 NZ          10.6250    12.3600     0.9280 NZ            1 Compound\\n      70 H           11.2710     4.5990    -0.5400 H             1 Compound\\n      71 HA          11.3090     6.8470    -2.5150 HA            1 Compound\\n      72 HB2         11.0020     7.1880     0.5540 HB2           1 Compound\\n      73 HB3          9.7280     7.4810    -0.6210 HB3           1 Compound\\n      74 HG2         11.1050     9.3190    -1.7010 HG2           1 Compound\\n      75 HG3         12.4040     9.0430    -0.5430 HG3           1 Compound\\n      76 HD2         10.9140     9.6440     1.3690 HD2           1 Compound\\n      77 HD3          9.6050    10.0000     0.2250 HD3           1 Compound\\n      78 HE2         11.2420    11.6590    -0.9750 HE2           1 Compound\\n      79 HE3         12.4060    11.3560     0.3240 HE3           1 Compound\\n      80 HZ1         10.3810    11.9580     1.8410 HZ1           1 Compound\\n      81 HZ2         11.2250    13.1680     1.1240 HZ2           1 Compound\\n      82 HZ3          9.8020    12.6400     0.4130 HZ3           1 Compound\\n      83 N           13.7500     7.1380    -2.1260 N             1 Compound\\n      84 CA          15.1980     7.1250    -1.9390 CA            1 Compound\\n      85 C           15.7940     8.4820    -2.2290 C             1 Compound\\n      86 O           15.4670     9.1440    -3.2250 O             1 Compound\\n      87 CB          15.8270     6.0350    -2.8500 CB            1 Compound\\n      88 CG          17.3580     5.8890    -2.6680 CG            1 Compound\\n      89 CD          18.0230     4.8690    -3.5970 CD            1 Compound\\n      90 CE          19.5380     4.8810    -3.3600 CE            1 Compound\\n      91 NZ          20.1620     3.7850    -4.1230 NZ            1 Compound\\n      92 H           13.3390     7.6300    -2.9060 H             1 Compound\\n      93 HA          15.4110     6.8880    -0.8790 HA            1 Compound\\n      94 HB2         15.5930     6.2570    -3.9110 HB2           1 Compound\\n      95 HB3         15.3440     5.0580    -2.6500 HB3           1 Compound\\n      96 HG2         17.5850     5.6410    -1.6130 HG2           1 Compound\\n      97 HG3         17.8600     6.8560    -2.8580 HG3           1 Compound\\n      98 HD2         17.7980     5.1220    -4.6540 HD2           1 Compound\\n      99 HD3         17.5930     3.8640    -3.4190 HD3           1 Compound\\n     100 HE2         19.7760     4.7650    -2.2830 HE2           1 Compound\\n     101 HE3         19.9710     5.8580    -3.6620 HE3           1 Compound\\n     102 HZ1         19.6940     3.6630    -5.0290 HZ1           1 Compound\\n     103 HZ2         21.1440     3.9910    -4.3360 HZ2           1 Compound\\n     104 HZ3         20.0840     2.9580    -3.5490 HZ3           1 Compound\\n     105 N           16.6710     8.9670    -1.4160 N             1 Compound\\n     106 CA          17.2480    10.2790    -1.6960 CA            1 Compound\\n     107 C           18.7300    10.2910    -1.4090 C             1 Compound\\n     108 O           19.2040     9.7930    -0.3770 O             1 Compound\\n     109 CB          16.5100    11.3570    -0.8570 CB            1 Compound\\n     110 CG          17.0000    12.7990    -1.1400 CG            1 Compound\\n     111 CD          16.3400    13.8840    -0.2830 CD            1 Compound\\n     112 CE          16.9680    15.2430    -0.6160 CE            1 Compound\\n     113 NZ          16.2230    16.3100     0.0760 NZ            1 Compound\\n     114 H           16.9540     8.4470    -0.5980 H             1 Compound\\n     115 HA          17.1160    10.4950    -2.7730 HA            1 Compound\\n     116 HB2         16.6190    11.1280     0.2230 HB2           1 Compound\\n     117 HB3         15.4210    11.3000    -1.0510 HB3           1 Compound\\n     118 HG2         16.8640    13.0330    -2.2140 HG2           1 Compound\\n     119 HG3         18.0880    12.8760    -0.9570 HG3           1 Compound\\n     120 HD2         16.4820    13.6500     0.7920 HD2           1 Compound\\n     121 HD3         15.2470    13.8880    -0.4600 HD3           1 Compound\\n     122 HE2         16.9570    15.4320    -1.7100 HE2           1 Compound\\n     123 HE3         18.0370    15.2610    -0.3170 HE3           1 Compound\\n     124 HZ1         15.9220    15.9960     1.0060 HZ1           1 Compound\\n     125 HZ2         16.8100    17.1360     0.2300 HZ2           1 Compound\\n     126 HZ3         15.4340    16.5340    -0.5140 HZ3           1 Compound\\n     127 N           19.5290    10.8360    -2.2630 N             1 Compound\\n     128 CA          20.9620    10.8470    -1.9860 CA            1 Compound\\n     129 C           21.5760    12.1740    -2.3670 C             1 Compound\\n     130 O           20.9020    13.0950    -2.8490 O             1 Compound\\n     131 CB          21.6460     9.6790    -2.7470 CB            1 Compound\\n     132 CG          23.1630     9.5590    -2.4580 CG            1 Compound\\n     133 CD          23.8830     8.4580    -3.2420 CD            1 Compound\\n     134 CE          25.3810     8.5010    -2.9130 CE            1 Compound\\n     135 NZ          26.0500     7.3400    -3.5270 NZ            1 Compound\\n     136 H           19.1670    11.2480    -3.1110 H             1 Compound\\n     137 HA          21.1080    10.7150    -0.8970 HA            1 Compound\\n     138 HB2         21.4780     9.7970    -3.8380 HB2           1 Compound\\n     139 HB3         21.1500     8.7230    -2.4850 HB3           1 Compound\\n     140 HG2         23.3230     9.4150    -1.3710 HG2           1 Compound\\n     141 HG3         23.6760    10.5060    -2.7080 HG3           1 Compound\\n     142 HD2         23.7250     8.6070    -4.3290 HD2           1 Compound\\n     143 HD3         23.4420     7.4730    -2.9950 HD3           1 Compound\\n     144 HE2         25.5510     8.4890    -1.8160 HE2           1 Compound\\n     145 HE3         25.8320     9.4470    -3.2800 HE3           1 Compound\\n     146 HZ1         25.6390     7.1290    -4.4440 HZ1           1 Compound\\n     147 HZ2         27.0440     7.5290    -3.6970 HZ2           1 Compound\\n     148 HZ3         25.9350     6.5710    -2.8820 HZ3           1 Compound\\n@<TRIPOS>BOND\\n       1        2        1 1\\n       2       10        1 1\\n       3        3        2 1\\n       4        5        2 1\\n       5       11        2 1\\n       6        4        3 1\\n       7       16        3 1\\n       8        6        5 1\\n       9       12        5 1\\n      10       13        5 1\\n      11        7        6 1\\n      12       14        6 1\\n      13       15        6 1\\n      14        8        7 1\\n      15        9        7 1\\n      16       17       16 1\\n      17       25       16 1\\n      18       18       17 1\\n      19       20       17 1\\n      20       26       17 1\\n      21       19       18 1\\n      22       31       18 1\\n      23       21       20 1\\n      24       27       20 1\\n      25       28       20 1\\n      26       22       21 1\\n      27       29       21 1\\n      28       30       21 1\\n      29       23       22 1\\n      30       24       22 1\\n      31       32       31 1\\n      32       40       31 1\\n      33       33       32 1\\n      34       35       32 1\\n      35       41       32 1\\n      36       34       33 1\\n      37       46       33 1\\n      38       36       35 1\\n      39       42       35 1\\n      40       43       35 1\\n      41       37       36 1\\n      42       44       36 1\\n      43       45       36 1\\n      44       38       37 1\\n      45       39       37 1\\n      46       47       46 1\\n      47       55       46 1\\n      48       48       47 1\\n      49       50       47 1\\n      50       56       47 1\\n      51       49       48 1\\n      52       61       48 1\\n      53       51       50 1\\n      54       57       50 1\\n      55       58       50 1\\n      56       52       51 1\\n      57       59       51 1\\n      58       60       51 1\\n      59       53       52 1\\n      60       54       52 1\\n      61       62       61 1\\n      62       70       61 1\\n      63       63       62 1\\n      64       65       62 1\\n      65       71       62 1\\n      66       64       63 1\\n      67       83       63 1\\n      68       66       65 1\\n      69       72       65 1\\n      70       73       65 1\\n      71       67       66 1\\n      72       74       66 1\\n      73       75       66 1\\n      74       68       67 1\\n      75       76       67 1\\n      76       77       67 1\\n      77       78       68 1\\n      78       79       68 1\\n      79       69       68 1\\n      80       80       69 1\\n      81       81       69 1\\n      82       82       69 1\\n      83       84       83 1\\n      84       92       83 1\\n      85       85       84 1\\n      86       87       84 1\\n      87       93       84 1\\n      88       86       85 1\\n      89      105       85 1\\n      90       88       87 1\\n      91       94       87 1\\n      92       95       87 1\\n      93       89       88 1\\n      94       96       88 1\\n      95       97       88 1\\n      96       90       89 1\\n      97       98       89 1\\n      98       99       89 1\\n      99      100       90 1\\n     100      101       90 1\\n     101       91       90 1\\n     102      102       91 1\\n     103      103       91 1\\n     104      104       91 1\\n     105      106      105 1\\n     106      114      105 1\\n     107      107      106 1\\n     108      109      106 1\\n     109      115      106 1\\n     110      108      107 1\\n     111      127      107 1\\n     112      110      109 1\\n     113      116      109 1\\n     114      117      109 1\\n     115      111      110 1\\n     116      118      110 1\\n     117      119      110 1\\n     118      112      111 1\\n     119      120      111 1\\n     120      121      111 1\\n     121      122      112 1\\n     122      123      112 1\\n     123      113      112 1\\n     124      124      113 1\\n     125      125      113 1\\n     126      126      113 1\\n     127      128      127 1\\n     128      136      127 1\\n     129      129      128 1\\n     130      131      128 1\\n     131      137      128 1\\n     132      130      129 1\\n     133      132      131 1\\n     134      138      131 1\\n     135      139      131 1\\n     136      133      132 1\\n     137      140      132 1\\n     138      141      132 1\\n     139      134      133 1\\n     140      142      133 1\\n     141      143      133 1\\n     142      144      134 1\\n     143      145      134 1\\n     144      135      134 1\\n     145      146      135 1\\n     146      147      135 1\\n     147      148      135 1\\n@<TRIPOS>SUBSTRUCTURE\\n       1 Compound        1 RESIDUE    0 **** ROOT      0\\n\",\"mol2\");\n\tviewer_1681942509530095.setStyle({\"stick\": {\"radius\": 0.2, \"color\": \"grey\"}, \"sphere\": {\"scale\": 0.3, \"colorscheme\": {}}});\n\tviewer_1681942509530095.zoomTo();\n\tviewer_1681942509530095.setStyle({\"model\": -1, \"serial\": 1},{\"stick\": {\"radius\": 0.2, \"color\": \"grey\"}, \"sphere\": {\"scale\": 0.6, \"color\": \"black\"}});\n\tviewer_1681942509530095.setStyle({\"model\": -1, \"serial\": 129},{\"stick\": {\"radius\": 0.2, \"color\": \"grey\"}, \"sphere\": {\"scale\": 0.6, \"color\": \"black\"}});\nviewer_1681942509530095.render();\n});\n</script>",
      "text/html": [
       "<div id=\"3dmolviewer_1681942509530095\"  style=\"position: relative; width: 640px; height: 480px\">\n",
       "        <p id=\"3dmolwarning_1681942509530095\" style=\"background-color:#ffcccc;color:black\">You appear to be running in JupyterLab (or JavaScript failed to load for some other reason).  You need to install the 3dmol extension: <br>\n",
       "        <tt>jupyter labextension install jupyterlab_3dmol</tt></p>\n",
       "        </div>\n",
       "<script>\n",
       "\n",
       "var loadScriptAsync = function(uri){\n",
       "  return new Promise((resolve, reject) => {\n",
       "    //this is to ignore the existence of requirejs amd\n",
       "    var savedexports, savedmodule;\n",
       "    if (typeof exports !== 'undefined') savedexports = exports;\n",
       "    else exports = {}\n",
       "    if (typeof module !== 'undefined') savedmodule = module;\n",
       "    else module = {}\n",
       "\n",
       "    var tag = document.createElement('script');\n",
       "    tag.src = uri;\n",
       "    tag.async = true;\n",
       "    tag.onload = () => {\n",
       "        exports = savedexports;\n",
       "        module = savedmodule;\n",
       "        resolve();\n",
       "    };\n",
       "  var firstScriptTag = document.getElementsByTagName('script')[0];\n",
       "  firstScriptTag.parentNode.insertBefore(tag, firstScriptTag);\n",
       "});\n",
       "};\n",
       "\n",
       "if(typeof $3Dmolpromise === 'undefined') {\n",
       "$3Dmolpromise = null;\n",
       "  $3Dmolpromise = loadScriptAsync('https://cdnjs.cloudflare.com/ajax/libs/3Dmol/2.0.1/3Dmol-min.js');\n",
       "}\n",
       "\n",
       "var viewer_1681942509530095 = null;\n",
       "var warn = document.getElementById(\"3dmolwarning_1681942509530095\");\n",
       "if(warn) {\n",
       "    warn.parentNode.removeChild(warn);\n",
       "}\n",
       "$3Dmolpromise.then(function() {\n",
       "viewer_1681942509530095 = $3Dmol.createViewer(document.getElementById(\"3dmolviewer_1681942509530095\"),{backgroundColor:\"white\"});\n",
       "viewer_1681942509530095.zoomTo();\n",
       "\tviewer_1681942509530095.addModel(\"@<TRIPOS>MOLECULE\\nCompound\\n148 147 1 0 1\\nSMALL\\nNO_CHARGES\\n@<TRIPOS>CRYSIN\\n   33.6320    25.3610    12.5260    90.0000    90.0000    90.0000  1  1\\n@<TRIPOS>ATOM\\n       1 N           -0.5170    -2.3460    -1.0380 N             1 Compound\\n       2 CA           0.0420    -0.9970    -1.0380 CA            1 Compound\\n       3 C            1.5510    -1.0370    -1.0380 C             1 Compound\\n       4 O            2.1880    -1.7980    -0.2950 O             1 Compound\\n       5 CB          -0.4810    -0.2120     0.1990 CB            1 Compound\\n       6 CG          -0.0060     1.2730     0.3100 CG            1 Compound\\n       7 CD          -0.4300     2.0770     1.5250 CD            1 Compound\\n       8 OE1         -1.1580     1.5750     2.4030 OE1           1 Compound\\n       9 OE2         -0.0000     3.2470     1.5970 OE2           1 Compound\\n      10 H            0.1100    -3.2250    -1.0380 H             1 Compound\\n      11 HA          -0.2840    -0.4790    -1.9580 HA            1 Compound\\n      12 HB2         -0.1920    -0.7430     1.1290 HB2           1 Compound\\n      13 HB3         -1.5880    -0.2220     0.2120 HB3           1 Compound\\n      14 HG2         -0.3160     1.8580    -0.5710 HG2           1 Compound\\n      15 HG3          1.0940     1.3400     0.3390 HG3           1 Compound\\n      16 N            2.1970    -0.2560    -1.8360 N             1 Compound\\n      17 CA           3.6570    -0.2950    -1.8360 CA            1 Compound\\n      18 C            4.2340     1.0960    -1.9340 C             1 Compound\\n      19 O            3.7970     1.9340    -2.7370 O             1 Compound\\n      20 CB           4.1580    -1.1760    -3.0150 CB            1 Compound\\n      21 CG           5.7080    -1.3540    -3.1170 CG            1 Compound\\n      22 CD           6.2670    -2.1520    -4.2800 CD            1 Compound\\n      23 OE1          5.5110    -2.6730    -5.1230 OE1           1 Compound\\n      24 OE2          7.5110    -2.2400    -4.3490 OE2           1 Compound\\n      25 H            1.7010     0.3720    -2.4510 H             1 Compound\\n      26 HA           3.9990    -0.7380    -0.8830 HA            1 Compound\\n      27 HB2          3.7890    -0.7620    -3.9760 HB2           1 Compound\\n      28 HB3          3.6990    -2.1820    -2.9570 HB3           1 Compound\\n      29 HG2          6.1180    -1.8130    -2.2030 HG2           1 Compound\\n      30 HG3          6.2170    -0.3810    -3.2150 HG3           1 Compound\\n      31 N            5.2120     1.4240    -1.1590 N             1 Compound\\n      32 CA           5.7710     2.7690    -1.2540 CA            1 Compound\\n      33 C            7.2770     2.7380    -1.1560 C             1 Compound\\n      34 O            7.8660     2.0560    -0.3050 O             1 Compound\\n      35 CB           5.1720     3.6670    -0.1330 CB            1 Compound\\n      36 CG           5.6400     5.1580    -0.1360 CG            1 Compound\\n      37 CD           5.1420     6.0730     0.9670 CD            1 Compound\\n      38 OE1          4.3600     5.6540     1.8420 OE1           1 Compound\\n      39 OE2          5.5670     7.2470     0.9530 OE2           1 Compound\\n      40 H            5.5860     0.7590    -0.4970 H             1 Compound\\n      41 HA           5.5040     3.1950    -2.2380 HA            1 Compound\\n      42 HB2          5.4020     3.2290     0.8600 HB2           1 Compound\\n      43 HB3          4.0670     3.6520    -0.1880 HB3           1 Compound\\n      44 HG2          5.3870     5.6540    -1.0870 HG2           1 Compound\\n      45 HG3          6.7370     5.2330    -0.0450 HG3           1 Compound\\n      46 N            7.9720     3.4420    -1.9840 N             1 Compound\\n      47 CA           9.4290     3.4110    -1.8890 CA            1 Compound\\n      48 C           10.0130     4.7890    -2.0850 C             1 Compound\\n      49 O            9.6280     5.5440    -2.9900 O             1 Compound\\n      50 CB          10.0030     2.4230    -2.9450 CB            1 Compound\\n      51 CG          11.5560     2.2440    -2.9320 CG            1 Compound\\n      52 CD          12.1860     1.3420    -3.9760 CD            1 Compound\\n      53 OE1         11.4840     0.7380    -4.8100 OE1           1 Compound\\n      54 OE2         13.4320     1.2540    -3.9580 OE2           1 Compound\\n      55 H            7.5160     4.0060    -2.6860 H             1 Compound\\n      56 HA           9.7110     3.0630    -0.8790 HA            1 Compound\\n      57 HB2          9.6950     2.7410    -3.9620 HB2           1 Compound\\n      58 HB3          9.5400     1.4250    -2.8190 HB3           1 Compound\\n      59 HG2         11.9080     1.8780    -1.9540 HG2           1 Compound\\n      60 HG3         12.0710     3.2060    -3.0920 HG3           1 Compound\\n      61 N           10.9410     5.1950    -1.2860 N             1 Compound\\n      62 CA          11.5060     6.5280    -1.4740 CA            1 Compound\\n      63 C           13.0040     6.5130    -1.2800 C             1 Compound\\n      64 O           13.5370     5.9190    -0.3320 O             1 Compound\\n      65 CB          10.8280     7.5200    -0.4910 CB            1 Compound\\n      66 CG          11.3060     8.9830    -0.6650 CG            1 Compound\\n      67 CD          10.7070     9.9800     0.3320 CD            1 Compound\\n      68 CE          11.3200    11.3660     0.0920 CE            1 Compound\\n      69 NZ          10.6250    12.3600     0.9280 NZ            1 Compound\\n      70 H           11.2710     4.5990    -0.5400 H             1 Compound\\n      71 HA          11.3090     6.8470    -2.5150 HA            1 Compound\\n      72 HB2         11.0020     7.1880     0.5540 HB2           1 Compound\\n      73 HB3          9.7280     7.4810    -0.6210 HB3           1 Compound\\n      74 HG2         11.1050     9.3190    -1.7010 HG2           1 Compound\\n      75 HG3         12.4040     9.0430    -0.5430 HG3           1 Compound\\n      76 HD2         10.9140     9.6440     1.3690 HD2           1 Compound\\n      77 HD3          9.6050    10.0000     0.2250 HD3           1 Compound\\n      78 HE2         11.2420    11.6590    -0.9750 HE2           1 Compound\\n      79 HE3         12.4060    11.3560     0.3240 HE3           1 Compound\\n      80 HZ1         10.3810    11.9580     1.8410 HZ1           1 Compound\\n      81 HZ2         11.2250    13.1680     1.1240 HZ2           1 Compound\\n      82 HZ3          9.8020    12.6400     0.4130 HZ3           1 Compound\\n      83 N           13.7500     7.1380    -2.1260 N             1 Compound\\n      84 CA          15.1980     7.1250    -1.9390 CA            1 Compound\\n      85 C           15.7940     8.4820    -2.2290 C             1 Compound\\n      86 O           15.4670     9.1440    -3.2250 O             1 Compound\\n      87 CB          15.8270     6.0350    -2.8500 CB            1 Compound\\n      88 CG          17.3580     5.8890    -2.6680 CG            1 Compound\\n      89 CD          18.0230     4.8690    -3.5970 CD            1 Compound\\n      90 CE          19.5380     4.8810    -3.3600 CE            1 Compound\\n      91 NZ          20.1620     3.7850    -4.1230 NZ            1 Compound\\n      92 H           13.3390     7.6300    -2.9060 H             1 Compound\\n      93 HA          15.4110     6.8880    -0.8790 HA            1 Compound\\n      94 HB2         15.5930     6.2570    -3.9110 HB2           1 Compound\\n      95 HB3         15.3440     5.0580    -2.6500 HB3           1 Compound\\n      96 HG2         17.5850     5.6410    -1.6130 HG2           1 Compound\\n      97 HG3         17.8600     6.8560    -2.8580 HG3           1 Compound\\n      98 HD2         17.7980     5.1220    -4.6540 HD2           1 Compound\\n      99 HD3         17.5930     3.8640    -3.4190 HD3           1 Compound\\n     100 HE2         19.7760     4.7650    -2.2830 HE2           1 Compound\\n     101 HE3         19.9710     5.8580    -3.6620 HE3           1 Compound\\n     102 HZ1         19.6940     3.6630    -5.0290 HZ1           1 Compound\\n     103 HZ2         21.1440     3.9910    -4.3360 HZ2           1 Compound\\n     104 HZ3         20.0840     2.9580    -3.5490 HZ3           1 Compound\\n     105 N           16.6710     8.9670    -1.4160 N             1 Compound\\n     106 CA          17.2480    10.2790    -1.6960 CA            1 Compound\\n     107 C           18.7300    10.2910    -1.4090 C             1 Compound\\n     108 O           19.2040     9.7930    -0.3770 O             1 Compound\\n     109 CB          16.5100    11.3570    -0.8570 CB            1 Compound\\n     110 CG          17.0000    12.7990    -1.1400 CG            1 Compound\\n     111 CD          16.3400    13.8840    -0.2830 CD            1 Compound\\n     112 CE          16.9680    15.2430    -0.6160 CE            1 Compound\\n     113 NZ          16.2230    16.3100     0.0760 NZ            1 Compound\\n     114 H           16.9540     8.4470    -0.5980 H             1 Compound\\n     115 HA          17.1160    10.4950    -2.7730 HA            1 Compound\\n     116 HB2         16.6190    11.1280     0.2230 HB2           1 Compound\\n     117 HB3         15.4210    11.3000    -1.0510 HB3           1 Compound\\n     118 HG2         16.8640    13.0330    -2.2140 HG2           1 Compound\\n     119 HG3         18.0880    12.8760    -0.9570 HG3           1 Compound\\n     120 HD2         16.4820    13.6500     0.7920 HD2           1 Compound\\n     121 HD3         15.2470    13.8880    -0.4600 HD3           1 Compound\\n     122 HE2         16.9570    15.4320    -1.7100 HE2           1 Compound\\n     123 HE3         18.0370    15.2610    -0.3170 HE3           1 Compound\\n     124 HZ1         15.9220    15.9960     1.0060 HZ1           1 Compound\\n     125 HZ2         16.8100    17.1360     0.2300 HZ2           1 Compound\\n     126 HZ3         15.4340    16.5340    -0.5140 HZ3           1 Compound\\n     127 N           19.5290    10.8360    -2.2630 N             1 Compound\\n     128 CA          20.9620    10.8470    -1.9860 CA            1 Compound\\n     129 C           21.5760    12.1740    -2.3670 C             1 Compound\\n     130 O           20.9020    13.0950    -2.8490 O             1 Compound\\n     131 CB          21.6460     9.6790    -2.7470 CB            1 Compound\\n     132 CG          23.1630     9.5590    -2.4580 CG            1 Compound\\n     133 CD          23.8830     8.4580    -3.2420 CD            1 Compound\\n     134 CE          25.3810     8.5010    -2.9130 CE            1 Compound\\n     135 NZ          26.0500     7.3400    -3.5270 NZ            1 Compound\\n     136 H           19.1670    11.2480    -3.1110 H             1 Compound\\n     137 HA          21.1080    10.7150    -0.8970 HA            1 Compound\\n     138 HB2         21.4780     9.7970    -3.8380 HB2           1 Compound\\n     139 HB3         21.1500     8.7230    -2.4850 HB3           1 Compound\\n     140 HG2         23.3230     9.4150    -1.3710 HG2           1 Compound\\n     141 HG3         23.6760    10.5060    -2.7080 HG3           1 Compound\\n     142 HD2         23.7250     8.6070    -4.3290 HD2           1 Compound\\n     143 HD3         23.4420     7.4730    -2.9950 HD3           1 Compound\\n     144 HE2         25.5510     8.4890    -1.8160 HE2           1 Compound\\n     145 HE3         25.8320     9.4470    -3.2800 HE3           1 Compound\\n     146 HZ1         25.6390     7.1290    -4.4440 HZ1           1 Compound\\n     147 HZ2         27.0440     7.5290    -3.6970 HZ2           1 Compound\\n     148 HZ3         25.9350     6.5710    -2.8820 HZ3           1 Compound\\n@<TRIPOS>BOND\\n       1        2        1 1\\n       2       10        1 1\\n       3        3        2 1\\n       4        5        2 1\\n       5       11        2 1\\n       6        4        3 1\\n       7       16        3 1\\n       8        6        5 1\\n       9       12        5 1\\n      10       13        5 1\\n      11        7        6 1\\n      12       14        6 1\\n      13       15        6 1\\n      14        8        7 1\\n      15        9        7 1\\n      16       17       16 1\\n      17       25       16 1\\n      18       18       17 1\\n      19       20       17 1\\n      20       26       17 1\\n      21       19       18 1\\n      22       31       18 1\\n      23       21       20 1\\n      24       27       20 1\\n      25       28       20 1\\n      26       22       21 1\\n      27       29       21 1\\n      28       30       21 1\\n      29       23       22 1\\n      30       24       22 1\\n      31       32       31 1\\n      32       40       31 1\\n      33       33       32 1\\n      34       35       32 1\\n      35       41       32 1\\n      36       34       33 1\\n      37       46       33 1\\n      38       36       35 1\\n      39       42       35 1\\n      40       43       35 1\\n      41       37       36 1\\n      42       44       36 1\\n      43       45       36 1\\n      44       38       37 1\\n      45       39       37 1\\n      46       47       46 1\\n      47       55       46 1\\n      48       48       47 1\\n      49       50       47 1\\n      50       56       47 1\\n      51       49       48 1\\n      52       61       48 1\\n      53       51       50 1\\n      54       57       50 1\\n      55       58       50 1\\n      56       52       51 1\\n      57       59       51 1\\n      58       60       51 1\\n      59       53       52 1\\n      60       54       52 1\\n      61       62       61 1\\n      62       70       61 1\\n      63       63       62 1\\n      64       65       62 1\\n      65       71       62 1\\n      66       64       63 1\\n      67       83       63 1\\n      68       66       65 1\\n      69       72       65 1\\n      70       73       65 1\\n      71       67       66 1\\n      72       74       66 1\\n      73       75       66 1\\n      74       68       67 1\\n      75       76       67 1\\n      76       77       67 1\\n      77       78       68 1\\n      78       79       68 1\\n      79       69       68 1\\n      80       80       69 1\\n      81       81       69 1\\n      82       82       69 1\\n      83       84       83 1\\n      84       92       83 1\\n      85       85       84 1\\n      86       87       84 1\\n      87       93       84 1\\n      88       86       85 1\\n      89      105       85 1\\n      90       88       87 1\\n      91       94       87 1\\n      92       95       87 1\\n      93       89       88 1\\n      94       96       88 1\\n      95       97       88 1\\n      96       90       89 1\\n      97       98       89 1\\n      98       99       89 1\\n      99      100       90 1\\n     100      101       90 1\\n     101       91       90 1\\n     102      102       91 1\\n     103      103       91 1\\n     104      104       91 1\\n     105      106      105 1\\n     106      114      105 1\\n     107      107      106 1\\n     108      109      106 1\\n     109      115      106 1\\n     110      108      107 1\\n     111      127      107 1\\n     112      110      109 1\\n     113      116      109 1\\n     114      117      109 1\\n     115      111      110 1\\n     116      118      110 1\\n     117      119      110 1\\n     118      112      111 1\\n     119      120      111 1\\n     120      121      111 1\\n     121      122      112 1\\n     122      123      112 1\\n     123      113      112 1\\n     124      124      113 1\\n     125      125      113 1\\n     126      126      113 1\\n     127      128      127 1\\n     128      136      127 1\\n     129      129      128 1\\n     130      131      128 1\\n     131      137      128 1\\n     132      130      129 1\\n     133      132      131 1\\n     134      138      131 1\\n     135      139      131 1\\n     136      133      132 1\\n     137      140      132 1\\n     138      141      132 1\\n     139      134      133 1\\n     140      142      133 1\\n     141      143      133 1\\n     142      144      134 1\\n     143      145      134 1\\n     144      135      134 1\\n     145      146      135 1\\n     146      147      135 1\\n     147      148      135 1\\n@<TRIPOS>SUBSTRUCTURE\\n       1 Compound        1 RESIDUE    0 **** ROOT      0\\n\",\"mol2\");\n",
       "\tviewer_1681942509530095.setStyle({\"stick\": {\"radius\": 0.2, \"color\": \"grey\"}, \"sphere\": {\"scale\": 0.3, \"colorscheme\": {}}});\n",
       "\tviewer_1681942509530095.zoomTo();\n",
       "\tviewer_1681942509530095.setStyle({\"model\": -1, \"serial\": 1},{\"stick\": {\"radius\": 0.2, \"color\": \"grey\"}, \"sphere\": {\"scale\": 0.6, \"color\": \"black\"}});\n",
       "\tviewer_1681942509530095.setStyle({\"model\": -1, \"serial\": 129},{\"stick\": {\"radius\": 0.2, \"color\": \"grey\"}, \"sphere\": {\"scale\": 0.6, \"color\": \"black\"}});\n",
       "viewer_1681942509530095.render();\n",
       "});\n",
       "</script>"
      ]
     },
     "metadata": {},
     "output_type": "display_data"
    },
    {
     "data": {
      "text/plain": [
       "<py3Dmol.view at 0x7fa485433970>"
      ]
     },
     "execution_count": 25,
     "metadata": {},
     "output_type": "execute_result"
    }
   ],
   "source": [
    "# Use mbuild to visualize componenets\n",
    "peptide = mb.load(\"short_peptide.pdb\")\n",
    "peptide\n",
    "view = peptide.visualize(show_ports=True)\n",
    "style = {\n",
    "                \"stick\": {\"radius\": 0.2, \"color\": \"grey\"},\n",
    "                \"sphere\": {\"scale\": 0.6, \"color\" : \"black\"},\n",
    "    }\n",
    "view.setStyle({'model': -1, 'serial':1},style)\n",
    "view.setStyle({'model': -1, 'serial':129},style)"
   ]
  },
  {
   "cell_type": "code",
   "execution_count": 5,
   "id": "b45b3466",
   "metadata": {},
   "outputs": [
    {
     "data": {
      "application/3dmoljs_load.v0": "<div id=\"3dmolviewer_16819422225080855\"  style=\"position: relative; width: 640px; height: 480px\">\n        <p id=\"3dmolwarning_16819422225080855\" style=\"background-color:#ffcccc;color:black\">You appear to be running in JupyterLab (or JavaScript failed to load for some other reason).  You need to install the 3dmol extension: <br>\n        <tt>jupyter labextension install jupyterlab_3dmol</tt></p>\n        </div>\n<script>\n\nvar loadScriptAsync = function(uri){\n  return new Promise((resolve, reject) => {\n    //this is to ignore the existence of requirejs amd\n    var savedexports, savedmodule;\n    if (typeof exports !== 'undefined') savedexports = exports;\n    else exports = {}\n    if (typeof module !== 'undefined') savedmodule = module;\n    else module = {}\n\n    var tag = document.createElement('script');\n    tag.src = uri;\n    tag.async = true;\n    tag.onload = () => {\n        exports = savedexports;\n        module = savedmodule;\n        resolve();\n    };\n  var firstScriptTag = document.getElementsByTagName('script')[0];\n  firstScriptTag.parentNode.insertBefore(tag, firstScriptTag);\n});\n};\n\nif(typeof $3Dmolpromise === 'undefined') {\n$3Dmolpromise = null;\n  $3Dmolpromise = loadScriptAsync('https://cdnjs.cloudflare.com/ajax/libs/3Dmol/2.0.1/3Dmol-min.js');\n}\n\nvar viewer_16819422225080855 = null;\nvar warn = document.getElementById(\"3dmolwarning_16819422225080855\");\nif(warn) {\n    warn.parentNode.removeChild(warn);\n}\n$3Dmolpromise.then(function() {\nviewer_16819422225080855 = $3Dmol.createViewer(document.getElementById(\"3dmolviewer_16819422225080855\"),{backgroundColor:\"white\"});\nviewer_16819422225080855.zoomTo();\n\tviewer_16819422225080855.addModel(\"@<TRIPOS>MOLECULE\\nCompound\\n13 12 1 0 1\\nSMALL\\nNO_CHARGES\\n@<TRIPOS>CRYSIN\\n    8.6932     9.3829     8.7552    90.0000    90.0000    90.0000  1  1\\n@<TRIPOS>ATOM\\n       1 O            1.5486    -0.3419    -1.7372 O             1 Compound\\n       2 C            1.3743    -0.0373    -0.5269 C             1 Compound\\n       3 O            1.7813     1.2075    -0.0572 O             1 Compound\\n       4 C            0.6910    -0.9977     0.3979 C             1 Compound\\n       5 C           -0.8341    -0.9044     0.2819 C             1 Compound\\n       6 C           -1.3461     0.4110     0.7839 C             1 Compound\\n       7 O           -1.5301     0.5875     2.0180 O             1 Compound\\n       8 O           -1.5813     1.4507    -0.1102 O             1 Compound\\n       9 H            1.0098    -2.0319     0.1444 H             1 Compound\\n      10 H            1.0062    -0.7980     1.4453 H             1 Compound\\n      11 H           -1.2923    -1.7220     0.8794 H             1 Compound\\n      12 H           -1.1452    -1.0487    -0.7758 H             1 Compound\\n      13 H           -1.9119     2.3511     0.2155 H             1 Compound\\n@<TRIPOS>BOND\\n       1        2        1 1\\n       2        3        2 1\\n       3        4        2 1\\n       4        5        4 1\\n       5        9        4 1\\n       6       10        4 1\\n       7        6        5 1\\n       8       11        5 1\\n       9       12        5 1\\n      10        7        6 1\\n      11        8        6 1\\n      12       13        8 1\\n@<TRIPOS>SUBSTRUCTURE\\n       1 Compound        1 RESIDUE    0 **** ROOT      0\\n\",\"mol2\");\n\tviewer_16819422225080855.setStyle({\"stick\": {\"radius\": 0.2, \"color\": \"grey\"}, \"sphere\": {\"scale\": 0.3, \"colorscheme\": {}}});\n\tviewer_16819422225080855.zoomTo();\n\tviewer_16819422225080855.setStyle({\"model\": -1, \"serial\": 3},{\"stick\": {\"radius\": 0.2, \"color\": \"grey\"}, \"sphere\": {\"scale\": 0.3, \"color\": \"black\"}});\n\tviewer_16819422225080855.setStyle({\"model\": -1, \"serial\": 3},{\"stick\": {\"radius\": 0.2, \"color\": \"grey\"}, \"sphere\": {\"scale\": 0.3, \"color\": \"black\"}});\nviewer_16819422225080855.render();\n});\n</script>",
      "text/html": [
       "<div id=\"3dmolviewer_16819422225080855\"  style=\"position: relative; width: 640px; height: 480px\">\n",
       "        <p id=\"3dmolwarning_16819422225080855\" style=\"background-color:#ffcccc;color:black\">You appear to be running in JupyterLab (or JavaScript failed to load for some other reason).  You need to install the 3dmol extension: <br>\n",
       "        <tt>jupyter labextension install jupyterlab_3dmol</tt></p>\n",
       "        </div>\n",
       "<script>\n",
       "\n",
       "var loadScriptAsync = function(uri){\n",
       "  return new Promise((resolve, reject) => {\n",
       "    //this is to ignore the existence of requirejs amd\n",
       "    var savedexports, savedmodule;\n",
       "    if (typeof exports !== 'undefined') savedexports = exports;\n",
       "    else exports = {}\n",
       "    if (typeof module !== 'undefined') savedmodule = module;\n",
       "    else module = {}\n",
       "\n",
       "    var tag = document.createElement('script');\n",
       "    tag.src = uri;\n",
       "    tag.async = true;\n",
       "    tag.onload = () => {\n",
       "        exports = savedexports;\n",
       "        module = savedmodule;\n",
       "        resolve();\n",
       "    };\n",
       "  var firstScriptTag = document.getElementsByTagName('script')[0];\n",
       "  firstScriptTag.parentNode.insertBefore(tag, firstScriptTag);\n",
       "});\n",
       "};\n",
       "\n",
       "if(typeof $3Dmolpromise === 'undefined') {\n",
       "$3Dmolpromise = null;\n",
       "  $3Dmolpromise = loadScriptAsync('https://cdnjs.cloudflare.com/ajax/libs/3Dmol/2.0.1/3Dmol-min.js');\n",
       "}\n",
       "\n",
       "var viewer_16819422225080855 = null;\n",
       "var warn = document.getElementById(\"3dmolwarning_16819422225080855\");\n",
       "if(warn) {\n",
       "    warn.parentNode.removeChild(warn);\n",
       "}\n",
       "$3Dmolpromise.then(function() {\n",
       "viewer_16819422225080855 = $3Dmol.createViewer(document.getElementById(\"3dmolviewer_16819422225080855\"),{backgroundColor:\"white\"});\n",
       "viewer_16819422225080855.zoomTo();\n",
       "\tviewer_16819422225080855.addModel(\"@<TRIPOS>MOLECULE\\nCompound\\n13 12 1 0 1\\nSMALL\\nNO_CHARGES\\n@<TRIPOS>CRYSIN\\n    8.6932     9.3829     8.7552    90.0000    90.0000    90.0000  1  1\\n@<TRIPOS>ATOM\\n       1 O            1.5486    -0.3419    -1.7372 O             1 Compound\\n       2 C            1.3743    -0.0373    -0.5269 C             1 Compound\\n       3 O            1.7813     1.2075    -0.0572 O             1 Compound\\n       4 C            0.6910    -0.9977     0.3979 C             1 Compound\\n       5 C           -0.8341    -0.9044     0.2819 C             1 Compound\\n       6 C           -1.3461     0.4110     0.7839 C             1 Compound\\n       7 O           -1.5301     0.5875     2.0180 O             1 Compound\\n       8 O           -1.5813     1.4507    -0.1102 O             1 Compound\\n       9 H            1.0098    -2.0319     0.1444 H             1 Compound\\n      10 H            1.0062    -0.7980     1.4453 H             1 Compound\\n      11 H           -1.2923    -1.7220     0.8794 H             1 Compound\\n      12 H           -1.1452    -1.0487    -0.7758 H             1 Compound\\n      13 H           -1.9119     2.3511     0.2155 H             1 Compound\\n@<TRIPOS>BOND\\n       1        2        1 1\\n       2        3        2 1\\n       3        4        2 1\\n       4        5        4 1\\n       5        9        4 1\\n       6       10        4 1\\n       7        6        5 1\\n       8       11        5 1\\n       9       12        5 1\\n      10        7        6 1\\n      11        8        6 1\\n      12       13        8 1\\n@<TRIPOS>SUBSTRUCTURE\\n       1 Compound        1 RESIDUE    0 **** ROOT      0\\n\",\"mol2\");\n",
       "\tviewer_16819422225080855.setStyle({\"stick\": {\"radius\": 0.2, \"color\": \"grey\"}, \"sphere\": {\"scale\": 0.3, \"colorscheme\": {}}});\n",
       "\tviewer_16819422225080855.zoomTo();\n",
       "\tviewer_16819422225080855.setStyle({\"model\": -1, \"serial\": 3},{\"stick\": {\"radius\": 0.2, \"color\": \"grey\"}, \"sphere\": {\"scale\": 0.3, \"color\": \"black\"}});\n",
       "\tviewer_16819422225080855.setStyle({\"model\": -1, \"serial\": 3},{\"stick\": {\"radius\": 0.2, \"color\": \"grey\"}, \"sphere\": {\"scale\": 0.3, \"color\": \"black\"}});\n",
       "viewer_16819422225080855.render();\n",
       "});\n",
       "</script>"
      ]
     },
     "metadata": {},
     "output_type": "display_data"
    },
    {
     "data": {
      "text/plain": [
       "<py3Dmol.view at 0x7fa482dcf6a0>"
      ]
     },
     "execution_count": 5,
     "metadata": {},
     "output_type": "execute_result"
    }
   ],
   "source": [
    "succynl = mb.load(\"O=C(O)CCC(=O)O\", smiles=True)\n",
    "succynl.save(\"succ.pdb\", overwrite=True)\n",
    "succynl.remove(succynl[8])\n",
    "view = succynl.visualize()\n",
    "\n",
    "style = {\n",
    "                \"stick\": {\"radius\": 0.2, \"color\": \"grey\"},\n",
    "                \"sphere\": {\"scale\": 0.3, \"color\" : \"black\"},\n",
    "    }\n",
    "view.setStyle({'model': -1, 'serial':3},style)\n",
    "#succynl = mb.load(\"O=C([O-])CCC(=O)O\", smiles=True)\n",
    "#view = succynl.visualize()\n",
    "view.setStyle({'model': -1, 'serial':3},style)"
   ]
  },
  {
   "cell_type": "code",
   "execution_count": 6,
   "id": "3ed09a97",
   "metadata": {},
   "outputs": [
    {
     "data": {
      "application/3dmoljs_load.v0": "<div id=\"3dmolviewer_1681942222553085\"  style=\"position: relative; width: 640px; height: 480px\">\n        <p id=\"3dmolwarning_1681942222553085\" style=\"background-color:#ffcccc;color:black\">You appear to be running in JupyterLab (or JavaScript failed to load for some other reason).  You need to install the 3dmol extension: <br>\n        <tt>jupyter labextension install jupyterlab_3dmol</tt></p>\n        </div>\n<script>\n\nvar loadScriptAsync = function(uri){\n  return new Promise((resolve, reject) => {\n    //this is to ignore the existence of requirejs amd\n    var savedexports, savedmodule;\n    if (typeof exports !== 'undefined') savedexports = exports;\n    else exports = {}\n    if (typeof module !== 'undefined') savedmodule = module;\n    else module = {}\n\n    var tag = document.createElement('script');\n    tag.src = uri;\n    tag.async = true;\n    tag.onload = () => {\n        exports = savedexports;\n        module = savedmodule;\n        resolve();\n    };\n  var firstScriptTag = document.getElementsByTagName('script')[0];\n  firstScriptTag.parentNode.insertBefore(tag, firstScriptTag);\n});\n};\n\nif(typeof $3Dmolpromise === 'undefined') {\n$3Dmolpromise = null;\n  $3Dmolpromise = loadScriptAsync('https://cdnjs.cloudflare.com/ajax/libs/3Dmol/2.0.1/3Dmol-min.js');\n}\n\nvar viewer_1681942222553085 = null;\nvar warn = document.getElementById(\"3dmolwarning_1681942222553085\");\nif(warn) {\n    warn.parentNode.removeChild(warn);\n}\n$3Dmolpromise.then(function() {\nviewer_1681942222553085 = $3Dmol.createViewer(document.getElementById(\"3dmolviewer_1681942222553085\"),{backgroundColor:\"white\"});\nviewer_1681942222553085.zoomTo();\n\tviewer_1681942222553085.addModel(\"@<TRIPOS>MOLECULE\\nCompound\\n4 3 1 0 1\\nSMALL\\nNO_CHARGES\\n@<TRIPOS>CRYSIN\\n    6.5469     6.6616     5.4185    90.0000    90.0000    90.0000  1  1\\n@<TRIPOS>ATOM\\n       1 N           -0.0100     0.0043     0.2947 N             1 Compound\\n       2 H            0.9622    -0.1265    -0.0640 H             1 Compound\\n       3 H           -0.5847    -0.7697    -0.1070 H             1 Compound\\n       4 H           -0.3675     0.8919    -0.1237 H             1 Compound\\n@<TRIPOS>BOND\\n       1        2        1 1\\n       2        3        1 1\\n       3        4        1 1\\n@<TRIPOS>SUBSTRUCTURE\\n       1 Compound        1 RESIDUE    0 **** ROOT      0\\n\",\"mol2\");\n\tviewer_1681942222553085.setStyle({\"stick\": {\"radius\": 0.2, \"color\": \"grey\"}, \"sphere\": {\"scale\": 0.3, \"colorscheme\": {}}});\n\tviewer_1681942222553085.zoomTo();\n\tviewer_1681942222553085.setStyle({\"model\": -1, \"serial\": 2},{\"stick\": {\"radius\": 0.2, \"color\": \"grey\"}, \"sphere\": {\"scale\": 0.6, \"color\": \"black\"}});\nviewer_1681942222553085.render();\n});\n</script>",
      "text/html": [
       "<div id=\"3dmolviewer_1681942222553085\"  style=\"position: relative; width: 640px; height: 480px\">\n",
       "        <p id=\"3dmolwarning_1681942222553085\" style=\"background-color:#ffcccc;color:black\">You appear to be running in JupyterLab (or JavaScript failed to load for some other reason).  You need to install the 3dmol extension: <br>\n",
       "        <tt>jupyter labextension install jupyterlab_3dmol</tt></p>\n",
       "        </div>\n",
       "<script>\n",
       "\n",
       "var loadScriptAsync = function(uri){\n",
       "  return new Promise((resolve, reject) => {\n",
       "    //this is to ignore the existence of requirejs amd\n",
       "    var savedexports, savedmodule;\n",
       "    if (typeof exports !== 'undefined') savedexports = exports;\n",
       "    else exports = {}\n",
       "    if (typeof module !== 'undefined') savedmodule = module;\n",
       "    else module = {}\n",
       "\n",
       "    var tag = document.createElement('script');\n",
       "    tag.src = uri;\n",
       "    tag.async = true;\n",
       "    tag.onload = () => {\n",
       "        exports = savedexports;\n",
       "        module = savedmodule;\n",
       "        resolve();\n",
       "    };\n",
       "  var firstScriptTag = document.getElementsByTagName('script')[0];\n",
       "  firstScriptTag.parentNode.insertBefore(tag, firstScriptTag);\n",
       "});\n",
       "};\n",
       "\n",
       "if(typeof $3Dmolpromise === 'undefined') {\n",
       "$3Dmolpromise = null;\n",
       "  $3Dmolpromise = loadScriptAsync('https://cdnjs.cloudflare.com/ajax/libs/3Dmol/2.0.1/3Dmol-min.js');\n",
       "}\n",
       "\n",
       "var viewer_1681942222553085 = null;\n",
       "var warn = document.getElementById(\"3dmolwarning_1681942222553085\");\n",
       "if(warn) {\n",
       "    warn.parentNode.removeChild(warn);\n",
       "}\n",
       "$3Dmolpromise.then(function() {\n",
       "viewer_1681942222553085 = $3Dmol.createViewer(document.getElementById(\"3dmolviewer_1681942222553085\"),{backgroundColor:\"white\"});\n",
       "viewer_1681942222553085.zoomTo();\n",
       "\tviewer_1681942222553085.addModel(\"@<TRIPOS>MOLECULE\\nCompound\\n4 3 1 0 1\\nSMALL\\nNO_CHARGES\\n@<TRIPOS>CRYSIN\\n    6.5469     6.6616     5.4185    90.0000    90.0000    90.0000  1  1\\n@<TRIPOS>ATOM\\n       1 N           -0.0100     0.0043     0.2947 N             1 Compound\\n       2 H            0.9622    -0.1265    -0.0640 H             1 Compound\\n       3 H           -0.5847    -0.7697    -0.1070 H             1 Compound\\n       4 H           -0.3675     0.8919    -0.1237 H             1 Compound\\n@<TRIPOS>BOND\\n       1        2        1 1\\n       2        3        1 1\\n       3        4        1 1\\n@<TRIPOS>SUBSTRUCTURE\\n       1 Compound        1 RESIDUE    0 **** ROOT      0\\n\",\"mol2\");\n",
       "\tviewer_1681942222553085.setStyle({\"stick\": {\"radius\": 0.2, \"color\": \"grey\"}, \"sphere\": {\"scale\": 0.3, \"colorscheme\": {}}});\n",
       "\tviewer_1681942222553085.zoomTo();\n",
       "\tviewer_1681942222553085.setStyle({\"model\": -1, \"serial\": 2},{\"stick\": {\"radius\": 0.2, \"color\": \"grey\"}, \"sphere\": {\"scale\": 0.6, \"color\": \"black\"}});\n",
       "viewer_1681942222553085.render();\n",
       "});\n",
       "</script>"
      ]
     },
     "metadata": {},
     "output_type": "display_data"
    },
    {
     "data": {
      "text/plain": [
       "<py3Dmol.view at 0x7fa485430dc0>"
      ]
     },
     "execution_count": 6,
     "metadata": {},
     "output_type": "execute_result"
    }
   ],
   "source": [
    "nh3 = mb.load(\"N\", smiles=True)\n",
    "nh3.save(\"nh3.pdb\", overwrite=True)\n",
    "view = nh3.visualize()\n",
    "style = {\n",
    "                \"stick\": {\"radius\": 0.2, \"color\": \"grey\"},\n",
    "                \"sphere\": {\"scale\": 0.6, \"color\" : \"black\"},\n",
    "    }\n",
    "view.setStyle({'model': -1, 'serial':2},style)"
   ]
  },
  {
   "cell_type": "code",
   "execution_count": 7,
   "id": "aca96519",
   "metadata": {},
   "outputs": [
    {
     "data": {
      "application/3dmoljs_load.v0": "<div id=\"3dmolviewer_1681942222772848\"  style=\"position: relative; width: 640px; height: 480px\">\n        <p id=\"3dmolwarning_1681942222772848\" style=\"background-color:#ffcccc;color:black\">You appear to be running in JupyterLab (or JavaScript failed to load for some other reason).  You need to install the 3dmol extension: <br>\n        <tt>jupyter labextension install jupyterlab_3dmol</tt></p>\n        </div>\n<script>\n\nvar loadScriptAsync = function(uri){\n  return new Promise((resolve, reject) => {\n    //this is to ignore the existence of requirejs amd\n    var savedexports, savedmodule;\n    if (typeof exports !== 'undefined') savedexports = exports;\n    else exports = {}\n    if (typeof module !== 'undefined') savedmodule = module;\n    else module = {}\n\n    var tag = document.createElement('script');\n    tag.src = uri;\n    tag.async = true;\n    tag.onload = () => {\n        exports = savedexports;\n        module = savedmodule;\n        resolve();\n    };\n  var firstScriptTag = document.getElementsByTagName('script')[0];\n  firstScriptTag.parentNode.insertBefore(tag, firstScriptTag);\n});\n};\n\nif(typeof $3Dmolpromise === 'undefined') {\n$3Dmolpromise = null;\n  $3Dmolpromise = loadScriptAsync('https://cdnjs.cloudflare.com/ajax/libs/3Dmol/2.0.1/3Dmol-min.js');\n}\n\nvar viewer_1681942222772848 = null;\nvar warn = document.getElementById(\"3dmolwarning_1681942222772848\");\nif(warn) {\n    warn.parentNode.removeChild(warn);\n}\n$3Dmolpromise.then(function() {\nviewer_1681942222772848 = $3Dmol.createViewer(document.getElementById(\"3dmolviewer_1681942222772848\"),{backgroundColor:\"white\"});\nviewer_1681942222772848.zoomTo();\n\tviewer_1681942222772848.addModel(\"@<TRIPOS>MOLECULE\\nCompound\\n3 2 1 0 1\\nSMALL\\nNO_CHARGES\\n@<TRIPOS>CRYSIN\\n    6.5659     5.6181     6.0000    90.0000    90.0000    90.0000  1  1\\n@<TRIPOS>ATOM\\n       1 O            0.0062     0.4041     0.0000 O             1 Compound\\n       2 H           -0.7860    -0.1900     0.0000 H             1 Compound\\n       3 H            0.7799    -0.2140     0.0000 H             1 Compound\\n@<TRIPOS>BOND\\n       1        2        1 1\\n       2        3        1 1\\n@<TRIPOS>SUBSTRUCTURE\\n       1 Compound        1 RESIDUE    0 **** ROOT      0\\n\",\"mol2\");\n\tviewer_1681942222772848.setStyle({\"stick\": {\"radius\": 0.2, \"color\": \"grey\"}, \"sphere\": {\"scale\": 0.3, \"colorscheme\": {}}});\n\tviewer_1681942222772848.zoomTo();\nviewer_1681942222772848.render();\n});\n</script>",
      "text/html": [
       "<div id=\"3dmolviewer_1681942222772848\"  style=\"position: relative; width: 640px; height: 480px\">\n",
       "        <p id=\"3dmolwarning_1681942222772848\" style=\"background-color:#ffcccc;color:black\">You appear to be running in JupyterLab (or JavaScript failed to load for some other reason).  You need to install the 3dmol extension: <br>\n",
       "        <tt>jupyter labextension install jupyterlab_3dmol</tt></p>\n",
       "        </div>\n",
       "<script>\n",
       "\n",
       "var loadScriptAsync = function(uri){\n",
       "  return new Promise((resolve, reject) => {\n",
       "    //this is to ignore the existence of requirejs amd\n",
       "    var savedexports, savedmodule;\n",
       "    if (typeof exports !== 'undefined') savedexports = exports;\n",
       "    else exports = {}\n",
       "    if (typeof module !== 'undefined') savedmodule = module;\n",
       "    else module = {}\n",
       "\n",
       "    var tag = document.createElement('script');\n",
       "    tag.src = uri;\n",
       "    tag.async = true;\n",
       "    tag.onload = () => {\n",
       "        exports = savedexports;\n",
       "        module = savedmodule;\n",
       "        resolve();\n",
       "    };\n",
       "  var firstScriptTag = document.getElementsByTagName('script')[0];\n",
       "  firstScriptTag.parentNode.insertBefore(tag, firstScriptTag);\n",
       "});\n",
       "};\n",
       "\n",
       "if(typeof $3Dmolpromise === 'undefined') {\n",
       "$3Dmolpromise = null;\n",
       "  $3Dmolpromise = loadScriptAsync('https://cdnjs.cloudflare.com/ajax/libs/3Dmol/2.0.1/3Dmol-min.js');\n",
       "}\n",
       "\n",
       "var viewer_1681942222772848 = null;\n",
       "var warn = document.getElementById(\"3dmolwarning_1681942222772848\");\n",
       "if(warn) {\n",
       "    warn.parentNode.removeChild(warn);\n",
       "}\n",
       "$3Dmolpromise.then(function() {\n",
       "viewer_1681942222772848 = $3Dmol.createViewer(document.getElementById(\"3dmolviewer_1681942222772848\"),{backgroundColor:\"white\"});\n",
       "viewer_1681942222772848.zoomTo();\n",
       "\tviewer_1681942222772848.addModel(\"@<TRIPOS>MOLECULE\\nCompound\\n3 2 1 0 1\\nSMALL\\nNO_CHARGES\\n@<TRIPOS>CRYSIN\\n    6.5659     5.6181     6.0000    90.0000    90.0000    90.0000  1  1\\n@<TRIPOS>ATOM\\n       1 O            0.0062     0.4041     0.0000 O             1 Compound\\n       2 H           -0.7860    -0.1900     0.0000 H             1 Compound\\n       3 H            0.7799    -0.2140     0.0000 H             1 Compound\\n@<TRIPOS>BOND\\n       1        2        1 1\\n       2        3        1 1\\n@<TRIPOS>SUBSTRUCTURE\\n       1 Compound        1 RESIDUE    0 **** ROOT      0\\n\",\"mol2\");\n",
       "\tviewer_1681942222772848.setStyle({\"stick\": {\"radius\": 0.2, \"color\": \"grey\"}, \"sphere\": {\"scale\": 0.3, \"colorscheme\": {}}});\n",
       "\tviewer_1681942222772848.zoomTo();\n",
       "viewer_1681942222772848.render();\n",
       "});\n",
       "</script>"
      ]
     },
     "metadata": {},
     "output_type": "display_data"
    },
    {
     "data": {
      "text/plain": [
       "<py3Dmol.view at 0x7fa482df4670>"
      ]
     },
     "execution_count": 7,
     "metadata": {},
     "output_type": "execute_result"
    }
   ],
   "source": [
    "h2o = mb.load(\"O\", smiles=True)\n",
    "h2o.save(\"h2o.pdb\", overwrite=True)\n",
    "h2o.visualize()"
   ]
  },
  {
   "cell_type": "markdown",
   "id": "849274d7",
   "metadata": {},
   "source": [
    "Now that we have our peptide and cap residues, we will use `mbuild` Polymer object to combine them."
   ]
  },
  {
   "cell_type": "code",
   "execution_count": 26,
   "id": "9d1c4553",
   "metadata": {},
   "outputs": [],
   "source": [
    "chain = Polymer()\n",
    "\n",
    "chain.add_monomer(compound = peptide, indices=[0, 128], separation=0.15, replace = False)\n",
    "chain.add_end_groups(compound = succynl,\n",
    "                     index = 2,\n",
    "                     separation = 0.15,\n",
    "                     label = \"head\",\n",
    "                     duplicate = False,\n",
    "                     orientation=[0.5,-0.5,0.5]\n",
    "                    )\n",
    "\n",
    "chain.add_end_groups(compound = nh3,\n",
    "                     index = 2,\n",
    "                     separation = 0.15,\n",
    "                     label = \"tail\",\n",
    "                     duplicate = False\n",
    "                    )\n",
    "\n",
    "chain.build(n=1)"
   ]
  },
  {
   "cell_type": "code",
   "execution_count": 27,
   "id": "ad15b347",
   "metadata": {},
   "outputs": [],
   "source": [
    "peptide = chain.children[0]"
   ]
  },
  {
   "cell_type": "markdown",
   "id": "05e2fd77",
   "metadata": {},
   "source": [
    "We have to do some reassignment of bonds. I think the bonds list altered here, so mbuild thikns the aromatic hydrogens are not attached to the ring"
   ]
  },
  {
   "cell_type": "code",
   "execution_count": 28,
   "id": "abb3d0fb",
   "metadata": {},
   "outputs": [
    {
     "name": "stdout",
     "output_type": "stream",
     "text": [
      "CA N\n",
      "H N\n",
      "C CA\n",
      "CB CA\n",
      "HA CA\n",
      "O C\n",
      "CG CB\n",
      "HB2 CB\n",
      "HB3 CB\n",
      "CD CG\n",
      "HG2 CG\n",
      "HG3 CG\n",
      "OE1 CD\n",
      "OE2 CD\n"
     ]
    }
   ],
   "source": [
    "# tyr = peptide.children[0]\n",
    "# for bond in tyr.bonds():\n",
    "#     print(bond[0].name, bond[1].name)"
   ]
  },
  {
   "cell_type": "code",
   "execution_count": 29,
   "id": "ec011f34",
   "metadata": {
    "scrolled": false
   },
   "outputs": [
    {
     "name": "stdout",
     "output_type": "stream",
     "text": [
      "N\n",
      "CA\n",
      "C\n",
      "O\n",
      "CB\n",
      "CG\n",
      "CD\n",
      "OE1\n",
      "OE2\n",
      "H\n",
      "HA\n",
      "HB2\n",
      "HB3\n",
      "HG2\n",
      "HG3\n"
     ]
    }
   ],
   "source": [
    "# for i, atom in enumerate(tyr.children):\n",
    "#     if atom.name[0].isdigit():\n",
    "#         print(\"Switching\", atom.name, \"to\", atom.name[1:] + atom.name[0])\n",
    "#         atom.name = atom.name[1:] + atom.name[0]\n",
    "#     print(atom.name)\n",
    "        "
   ]
  },
  {
   "cell_type": "code",
   "execution_count": 30,
   "id": "2b55cc5e",
   "metadata": {},
   "outputs": [
    {
     "ename": "IndexError",
     "evalue": "list index out of range",
     "output_type": "error",
     "traceback": [
      "\u001b[0;31m---------------------------------------------------------------------------\u001b[0m",
      "\u001b[0;31mIndexError\u001b[0m                                Traceback (most recent call last)",
      "Cell \u001b[0;32mIn[30], line 2\u001b[0m\n\u001b[1;32m      1\u001b[0m \u001b[38;5;66;03m# manually adding lost tyrosine bonds\u001b[39;00m\n\u001b[0;32m----> 2\u001b[0m tyr\u001b[38;5;241m.\u001b[39madd_bond([tyr[\u001b[38;5;241m6\u001b[39m], \u001b[43mtyr\u001b[49m\u001b[43m[\u001b[49m\u001b[38;5;241;43m16\u001b[39;49m\u001b[43m]\u001b[49m])\n\u001b[1;32m      3\u001b[0m tyr\u001b[38;5;241m.\u001b[39madd_bond([tyr[\u001b[38;5;241m7\u001b[39m], tyr[\u001b[38;5;241m17\u001b[39m]])\n\u001b[1;32m      4\u001b[0m tyr\u001b[38;5;241m.\u001b[39madd_bond([tyr[\u001b[38;5;241m8\u001b[39m], tyr[\u001b[38;5;241m18\u001b[39m]])\n",
      "File \u001b[0;32m~/anaconda3/envs/pymol_builder/lib/python3.10/site-packages/mbuild/compound.py:3150\u001b[0m, in \u001b[0;36mCompound.__getitem__\u001b[0;34m(self, selection)\u001b[0m\n\u001b[1;32m   3148\u001b[0m \u001b[38;5;250m\u001b[39m\u001b[38;5;124;03m\"\"\"Get item from Compound.\"\"\"\u001b[39;00m\n\u001b[1;32m   3149\u001b[0m \u001b[38;5;28;01mif\u001b[39;00m \u001b[38;5;28misinstance\u001b[39m(selection, \u001b[38;5;28mint\u001b[39m):\n\u001b[0;32m-> 3150\u001b[0m     \u001b[38;5;28;01mreturn\u001b[39;00m \u001b[38;5;28;43mlist\u001b[39;49m\u001b[43m(\u001b[49m\u001b[38;5;28;43mself\u001b[39;49m\u001b[38;5;241;43m.\u001b[39;49m\u001b[43mparticles\u001b[49m\u001b[43m(\u001b[49m\u001b[43m)\u001b[49m\u001b[43m)\u001b[49m\u001b[43m[\u001b[49m\u001b[43mselection\u001b[49m\u001b[43m]\u001b[49m\n\u001b[1;32m   3151\u001b[0m \u001b[38;5;28;01mif\u001b[39;00m \u001b[38;5;28misinstance\u001b[39m(selection, \u001b[38;5;28mstr\u001b[39m):\n\u001b[1;32m   3152\u001b[0m     \u001b[38;5;28;01mif\u001b[39;00m selection \u001b[38;5;129;01mnot\u001b[39;00m \u001b[38;5;129;01min\u001b[39;00m \u001b[38;5;28mself\u001b[39m\u001b[38;5;241m.\u001b[39mlabels:\n",
      "\u001b[0;31mIndexError\u001b[0m: list index out of range"
     ]
    }
   ],
   "source": [
    "# manually adding lost tyrosine bonds\n",
    "# tyr.add_bond([tyr[6], tyr[16]])\n",
    "# tyr.add_bond([tyr[7], tyr[17]])\n",
    "# tyr.add_bond([tyr[8], tyr[18]])\n",
    "# tyr.add_bond([tyr[9], tyr[19]])"
   ]
  },
  {
   "cell_type": "code",
   "execution_count": 11,
   "id": "a2e687d3",
   "metadata": {},
   "outputs": [
    {
     "name": "stdout",
     "output_type": "stream",
     "text": [
      "C O\n",
      "C C\n",
      "C C\n",
      "H C\n",
      "H C\n",
      "C C\n",
      "H C\n",
      "H C\n",
      "O C\n",
      "O C\n",
      "H O\n"
     ]
    }
   ],
   "source": [
    "# for b in chain.children[1].bonds():\n",
    "#     print(b[0].name, b[1].name)"
   ]
  },
  {
   "cell_type": "code",
   "execution_count": 31,
   "id": "6b92824a",
   "metadata": {},
   "outputs": [
    {
     "data": {
      "application/3dmoljs_load.v0": "<div id=\"3dmolviewer_1681942562630106\"  style=\"position: relative; width: 640px; height: 480px\">\n        <p id=\"3dmolwarning_1681942562630106\" style=\"background-color:#ffcccc;color:black\">You appear to be running in JupyterLab (or JavaScript failed to load for some other reason).  You need to install the 3dmol extension: <br>\n        <tt>jupyter labextension install jupyterlab_3dmol</tt></p>\n        </div>\n<script>\n\nvar loadScriptAsync = function(uri){\n  return new Promise((resolve, reject) => {\n    //this is to ignore the existence of requirejs amd\n    var savedexports, savedmodule;\n    if (typeof exports !== 'undefined') savedexports = exports;\n    else exports = {}\n    if (typeof module !== 'undefined') savedmodule = module;\n    else module = {}\n\n    var tag = document.createElement('script');\n    tag.src = uri;\n    tag.async = true;\n    tag.onload = () => {\n        exports = savedexports;\n        module = savedmodule;\n        resolve();\n    };\n  var firstScriptTag = document.getElementsByTagName('script')[0];\n  firstScriptTag.parentNode.insertBefore(tag, firstScriptTag);\n});\n};\n\nif(typeof $3Dmolpromise === 'undefined') {\n$3Dmolpromise = null;\n  $3Dmolpromise = loadScriptAsync('https://cdnjs.cloudflare.com/ajax/libs/3Dmol/2.0.1/3Dmol-min.js');\n}\n\nvar viewer_1681942562630106 = null;\nvar warn = document.getElementById(\"3dmolwarning_1681942562630106\");\nif(warn) {\n    warn.parentNode.removeChild(warn);\n}\n$3Dmolpromise.then(function() {\nviewer_1681942562630106 = $3Dmol.createViewer(document.getElementById(\"3dmolviewer_1681942562630106\"),{backgroundColor:\"white\"});\nviewer_1681942562630106.zoomTo();\n\tviewer_1681942562630106.addModel(\"@<TRIPOS>MOLECULE\\nPolymer\\n163 162 1 0 1\\nSMALL\\nNO_CHARGES\\n@<TRIPOS>CRYSIN\\n   36.8756    25.0271    13.0877    90.0000    90.0000    90.0000  1  1\\n@<TRIPOS>ATOM\\n       1 N           -0.3019    -2.0159    -0.6981 N             1 Polymer \\n       2 CA           0.3734    -0.6981    -0.6699 CA            1 Polymer \\n       3 C            1.8835    -0.8534    -0.7961 C             1 Polymer \\n       4 O            2.4860    -1.4730     0.0712 O             1 Polymer \\n       5 CB           0.0680    -0.0061     0.6657 CB            1 Polymer \\n       6 CG           0.4934     1.4710     0.6715 CG            1 Polymer \\n       7 CD           0.1116     2.1802     1.9443 CD            1 Polymer \\n       8 OE1         -0.4564     1.5940     2.8536 OE1           1 Polymer \\n       9 OE2          0.3886     3.4907     2.0756 OE2           1 Polymer \\n      10 H            0.3161    -2.7087    -1.1827 H             1 Polymer \\n      11 HA           0.0053    -0.0584    -1.5012 HA            1 Polymer \\n      12 HB2          0.5395    -0.5602     1.5076 HB2           1 Polymer \\n      13 HB3         -1.0052    -0.0500     0.8357 HB3           1 Polymer \\n      14 HG2         -0.0118     1.9905    -0.1719 HG2           1 Polymer \\n      15 HG3          1.5920     1.5507     0.5326 HG3           1 Polymer \\n      16 N            2.5584    -0.3036    -1.8474 N             1 Polymer \\n      17 CA           4.0110    -0.3444    -1.9646 CA            1 Polymer \\n      18 C            4.5294     1.0769    -2.0699 C             1 Polymer \\n      19 O            4.2086     1.7509    -3.0404 O             1 Polymer \\n      20 CB           4.4172    -1.1868    -3.1892 CB            1 Polymer \\n      21 CG           5.9463    -1.3434    -3.3035 CG            1 Polymer \\n      22 CD           6.3675    -2.1987    -4.4700 CD            1 Polymer \\n      23 OE1          5.5453    -2.6905    -5.2279 OE1           1 Polymer \\n      24 OE2          7.6778    -2.4269    -4.6794 OE2           1 Polymer \\n      25 H            2.0241     0.1770    -2.5875 H             1 Polymer \\n      26 HA           4.4549    -0.8310    -1.0682 HA            1 Polymer \\n      27 HB2          4.0128    -0.7257    -4.1173 HB2           1 Polymer \\n      28 HB3          3.9690    -2.1995    -3.0785 HB3           1 Polymer \\n      29 HG2          6.3333    -1.8131    -2.3734 HG2           1 Polymer \\n      30 HG3          6.4187    -0.3448    -3.4200 HG3           1 Polymer \\n      31 N            5.3197     1.6040    -1.0914 N             1 Polymer \\n      32 CA           5.8536     2.9601    -1.1400 CA            1 Polymer \\n      33 C            7.3613     2.9062    -1.0272 C             1 Polymer \\n      34 O            7.8629     2.4399    -0.0150 O             1 Polymer \\n      35 CB           5.2368     3.7906     0.0065 CB            1 Polymer \\n      36 CG           5.6981     5.2597    -0.0273 CG            1 Polymer \\n      37 CD           5.0824     6.0957     1.0638 CD            1 Polymer \\n      38 OE1          4.3055     5.6128     1.8737 OE1           1 Polymer \\n      39 OE2          5.3955     7.4024     1.1474 OE2           1 Polymer \\n      40 H            5.5436     1.0257    -0.2673 H             1 Polymer \\n      41 HA           5.5671     3.4551    -2.0938 HA            1 Polymer \\n      42 HB2          5.5024     3.3347     0.9860 HB2           1 Polymer \\n      43 HB3          4.1290     3.7655    -0.1012 HB3           1 Polymer \\n      44 HG2          5.4197     5.7058    -1.0065 HG2           1 Polymer \\n      45 HG3          6.8022     5.3087     0.0847 HG3           1 Polymer \\n      46 N            8.1528     3.3619    -2.0471 N             1 Polymer \\n      47 CA           9.6085     3.3340    -1.9980 CA            1 Polymer \\n      48 C           10.1577     4.7309    -2.2175 C             1 Polymer \\n      49 O            9.9213     5.2975    -3.2768 O             1 Polymer \\n      50 CB          10.1313     2.3618    -3.0759 CB            1 Polymer \\n      51 CG          11.6642     2.2260    -3.0396 CG            1 Polymer \\n      52 CD          12.1945     1.2636    -4.0680 CD            1 Polymer \\n      53 OE1         11.4469     0.6759    -4.8350 OE1           1 Polymer \\n      54 OE2         13.5212     1.0491    -4.1443 OE2           1 Polymer \\n      55 H            7.7022     3.7229    -2.9001 H             1 Polymer \\n      56 HA           9.9581     2.9511    -1.0123 HA            1 Polymer \\n      57 HB2          9.8071     2.7107    -4.0819 HB2           1 Polymer \\n      58 HB3          9.6800     1.3611    -2.8921 HB3           1 Polymer \\n      59 HG2         11.9730     1.8695    -2.0333 HG2           1 Polymer \\n      60 HG3         12.1320     3.2165    -3.2248 HG3           1 Polymer \\n      61 N           10.9022     5.3476    -1.2537 N             1 Polymer \\n      62 CA          11.4834     6.6760    -1.4186 CA            1 Polymer \\n      63 C           12.9844     6.6214    -1.1763 C             1 Polymer \\n      64 O           13.3948     6.2603    -0.0811 O             1 Polymer \\n      65 CB          10.8110     7.6562    -0.4394 CB            1 Polymer \\n      66 CG          11.3617     9.0817    -0.6071 CG            1 Polymer \\n      67 CD          10.6629    10.0703     0.3278 CD            1 Polymer \\n      68 CE          11.2621    11.4734     0.1608 CE            1 Polymer \\n      69 NZ          10.5942    12.4361     1.0339 NZ            1 Polymer \\n      70 H           11.0548     4.8617    -0.3566 H             1 Polymer \\n      71 HA          11.2914     7.0582    -2.4451 HA            1 Polymer \\n      72 HB2         10.9657     7.3145     0.6082 HB2           1 Polymer \\n      73 HB3          9.7176     7.6641    -0.6451 HB3           1 Polymer \\n      74 HG2         11.2135     9.4100    -1.6597 HG2           1 Polymer \\n      75 HG3         12.4503     9.0869    -0.3818 HG3           1 Polymer \\n      76 HD2         10.7923     9.7402     1.3819 HD2           1 Polymer \\n      77 HD3          9.5768    10.0970     0.0903 HD3           1 Polymer \\n      78 HE2         11.1544    11.8025    -0.8969 HE2           1 Polymer \\n      79 HE3         12.3471    11.4434     0.4094 HE3           1 Polymer \\n      80 HZ1         10.6939    12.1449     2.0334 HZ1           1 Polymer \\n      81 HZ2         11.0376    13.3746     0.9075 HZ2           1 Polymer \\n      82 HZ3          9.5810    12.5025     0.7829 HZ3           1 Polymer \\n      83 N           13.8614     6.9919    -2.1563 N             1 Polymer \\n      84 CA          15.3098     7.0112    -1.9777 CA            1 Polymer \\n      85 C           15.8577     8.3931    -2.3098 C             1 Polymer \\n      86 O           15.6783     8.8388    -3.4344 O             1 Polymer \\n      87 CB          15.9454     5.9450    -2.8898 CB            1 Polymer \\n      88 CG          17.4713     5.8903    -2.7164 CG            1 Polymer \\n      89 CD          18.0938     4.7949    -3.5845 CD            1 Polymer \\n      90 CE          19.6190     4.7842    -3.4181 CE            1 Polymer \\n      91 NZ          20.2259     3.7262    -4.2232 NZ            1 Polymer \\n      92 H           13.4865     7.2648    -3.0784 H             1 Polymer \\n      93 HA          15.5774     6.7499    -0.9300 HA            1 Polymer \\n      94 HB2         15.6969     6.1579    -3.9532 HB2           1 Polymer \\n      95 HB3         15.5154     4.9542    -2.6238 HB3           1 Polymer \\n      96 HG2         17.7121     5.6894    -1.6492 HG2           1 Polymer \\n      97 HG3         17.9134     6.8690    -3.0041 HG3           1 Polymer \\n      98 HD2         17.8435     4.9790    -4.6525 HD2           1 Polymer \\n      99 HD3         17.6788     3.8078    -3.2835 HD3           1 Polymer \\n     100 HE2         19.8771     4.6226    -2.3476 HE2           1 Polymer \\n     101 HE3         20.0317     5.7690    -3.7335 HE3           1 Polymer \\n     102 HZ1         19.9979     3.8673    -5.2341 HZ1           1 Polymer \\n     103 HZ2         21.2638     3.7584    -4.1008 HZ2           1 Polymer \\n     104 HZ3         19.8757     2.7925    -3.9077 HZ3           1 Polymer \\n     105 N           16.5563     9.1147    -1.3822 N             1 Polymer \\n     106 CA          17.1390    10.4265    -1.6617 CA            1 Polymer \\n     107 C           18.6344    10.4199    -1.3758 C             1 Polymer \\n     108 O           19.0173    10.1853    -0.2378 O             1 Polymer \\n     109 CB          16.4345    11.4942    -0.8036 CB            1 Polymer \\n     110 CG          16.9949    12.8982    -1.0857 CG            1 Polymer \\n     111 CD          16.2610    13.9729    -0.2829 CD            1 Polymer \\n     112 CE          16.8754    15.3519    -0.5597 CE            1 Polymer \\n     113 NZ          16.1702    16.3980     0.1770 NZ            1 Polymer \\n     114 H           16.6753     8.7250    -0.4345 H             1 Polymer \\n     115 HA          16.9756    10.7028    -2.7264 HA            1 Polymer \\n     116 HB2         16.5543    11.2553     0.2763 HB2           1 Polymer \\n     117 HB3         15.3486    11.4796    -1.0453 HB3           1 Polymer \\n     118 HG2         16.8938    13.1223    -2.1704 HG2           1 Polymer \\n     119 HG3         18.0729    12.9273    -0.8147 HG3           1 Polymer \\n     120 HD2         16.3412    13.7477     0.8033 HD2           1 Polymer \\n     121 HD3         15.1870    13.9766    -0.5714 HD3           1 Polymer \\n     122 HE2         16.8230    15.5731    -1.6491 HE2           1 Polymer \\n     123 HE3         17.9465    15.3460    -0.2549 HE3           1 Polymer \\n     124 HZ1         16.2160    16.2085     1.2045 HZ1           1 Polymer \\n     125 HZ2         16.6257    17.3184    -0.0197 HZ2           1 Polymer \\n     126 HZ3         15.1719    16.4403    -0.1323 HZ3           1 Polymer \\n     127 N           19.5355    10.6987    -2.3657 N             1 Polymer \\n     128 CA          20.9774    10.7686    -2.1417 CA            1 Polymer \\n     129 C           21.5640    12.1053    -2.6452 C             1 Polymer \\n     130 O           21.2732    12.3347    -3.9955 O             1 Polymer \\n     131 CB          21.6706     9.5883    -2.8437 CB            1 Polymer \\n     132 CG          23.1873     9.5961    -2.5792 CG            1 Polymer \\n     133 CD          23.8775     8.3927    -3.2209 CD            1 Polymer \\n     134 CE          25.3906     8.4419    -2.9646 CE            1 Polymer \\n     135 NZ          26.0590     7.2915    -3.5701 NZ            1 Polymer \\n     136 H           19.1877    10.8512    -3.3244 H             1 Polymer \\n     137 HA          21.2156    10.6796    -1.0588 HA            1 Polymer \\n     138 HB2         21.4774     9.6251    -3.9384 HB2           1 Polymer \\n     139 HB3         21.2407     8.6437    -2.4429 HB3           1 Polymer \\n     140 HG2         23.3697     9.5762    -1.4815 HG2           1 Polymer \\n     141 HG3         23.6339    10.5256    -2.9956 HG3           1 Polymer \\n     142 HD2         23.6915     8.4024    -4.3172 HD2           1 Polymer \\n     143 HD3         23.4578     7.4566    -2.7918 HD3           1 Polymer \\n     144 HE2         25.5849     8.4432    -1.8687 HE2           1 Polymer \\n     145 HE3         25.8099     9.3777    -3.3961 HE3           1 Polymer \\n     146 HZ1         25.8964     7.2852    -4.6035 HZ1           1 Polymer \\n     147 HZ2         27.0866     7.3592    -3.3886 HZ2           1 Polymer \\n     148 HZ3         25.6971     6.4049    -3.1492 HZ3           1 Polymer \\n     149 O           -1.4862    -1.4139    -2.7345 O             1 Polymer \\n     150 C           -1.5497    -2.0467    -1.4882 C             1 Polymer \\n     151 C           -2.9344    -2.0556    -0.8074 C             1 Polymer \\n     152 C           -3.7187    -0.7235    -0.7276 C             1 Polymer \\n     153 C           -3.3744     0.1564     0.4348 C             1 Polymer \\n     154 O           -3.4874    -0.2695     1.5708 O             1 Polymer \\n     155 O           -2.9827     1.4324     0.2314 O             1 Polymer \\n     156 H           -3.5384    -2.6835    -1.4977 H             1 Polymer \\n     157 H           -2.9173    -2.5935     0.1639 H             1 Polymer \\n     158 H           -4.7890    -0.9782    -0.5842 H             1 Polymer \\n     159 H           -3.6323    -0.1714    -1.6888 H             1 Polymer \\n     160 H           -2.7809     2.0191     0.9726 H             1 Polymer \\n     161 N           21.1771    13.2468    -1.8271 N             1 Polymer \\n     162 H           21.9229    13.9716    -1.9415 H             1 Polymer \\n     163 H           20.2788    13.6483    -2.1796 H             1 Polymer \\n@<TRIPOS>BOND\\n       1        2        1 1\\n       2       10        1 1\\n       3      150        1 1\\n       4        3        2 1\\n       5        5        2 1\\n       6       11        2 1\\n       7        4        3 1\\n       8       16        3 1\\n       9        6        5 1\\n      10       12        5 1\\n      11       13        5 1\\n      12        7        6 1\\n      13       14        6 1\\n      14       15        6 1\\n      15        8        7 1\\n      16        9        7 1\\n      17       17       16 1\\n      18       25       16 1\\n      19       18       17 1\\n      20       20       17 1\\n      21       26       17 1\\n      22       19       18 1\\n      23       31       18 1\\n      24       21       20 1\\n      25       27       20 1\\n      26       28       20 1\\n      27       22       21 1\\n      28       29       21 1\\n      29       30       21 1\\n      30       23       22 1\\n      31       24       22 1\\n      32       32       31 1\\n      33       40       31 1\\n      34       33       32 1\\n      35       35       32 1\\n      36       41       32 1\\n      37       34       33 1\\n      38       46       33 1\\n      39       36       35 1\\n      40       42       35 1\\n      41       43       35 1\\n      42       37       36 1\\n      43       44       36 1\\n      44       45       36 1\\n      45       38       37 1\\n      46       39       37 1\\n      47       47       46 1\\n      48       55       46 1\\n      49       48       47 1\\n      50       50       47 1\\n      51       56       47 1\\n      52       49       48 1\\n      53       61       48 1\\n      54       51       50 1\\n      55       57       50 1\\n      56       58       50 1\\n      57       52       51 1\\n      58       59       51 1\\n      59       60       51 1\\n      60       53       52 1\\n      61       54       52 1\\n      62       62       61 1\\n      63       70       61 1\\n      64       63       62 1\\n      65       65       62 1\\n      66       71       62 1\\n      67       64       63 1\\n      68       83       63 1\\n      69       66       65 1\\n      70       72       65 1\\n      71       73       65 1\\n      72       67       66 1\\n      73       74       66 1\\n      74       75       66 1\\n      75       68       67 1\\n      76       76       67 1\\n      77       77       67 1\\n      78       78       68 1\\n      79       79       68 1\\n      80       69       68 1\\n      81       80       69 1\\n      82       81       69 1\\n      83       82       69 1\\n      84       84       83 1\\n      85       92       83 1\\n      86       85       84 1\\n      87       87       84 1\\n      88       93       84 1\\n      89       86       85 1\\n      90      105       85 1\\n      91       88       87 1\\n      92       94       87 1\\n      93       95       87 1\\n      94       89       88 1\\n      95       96       88 1\\n      96       97       88 1\\n      97       90       89 1\\n      98       98       89 1\\n      99       99       89 1\\n     100      100       90 1\\n     101      101       90 1\\n     102       91       90 1\\n     103      102       91 1\\n     104      103       91 1\\n     105      104       91 1\\n     106      106      105 1\\n     107      114      105 1\\n     108      107      106 1\\n     109      109      106 1\\n     110      115      106 1\\n     111      108      107 1\\n     112      127      107 1\\n     113      110      109 1\\n     114      116      109 1\\n     115      117      109 1\\n     116      111      110 1\\n     117      118      110 1\\n     118      119      110 1\\n     119      112      111 1\\n     120      120      111 1\\n     121      121      111 1\\n     122      122      112 1\\n     123      123      112 1\\n     124      113      112 1\\n     125      124      113 1\\n     126      125      113 1\\n     127      126      113 1\\n     128      128      127 1\\n     129      136      127 1\\n     130      129      128 1\\n     131      131      128 1\\n     132      137      128 1\\n     133      130      129 1\\n     134      161      129 1\\n     135      132      131 1\\n     136      138      131 1\\n     137      139      131 1\\n     138      133      132 1\\n     139      140      132 1\\n     140      141      132 1\\n     141      134      133 1\\n     142      142      133 1\\n     143      143      133 1\\n     144      144      134 1\\n     145      145      134 1\\n     146      135      134 1\\n     147      146      135 1\\n     148      147      135 1\\n     149      148      135 1\\n     150      150      149 1\\n     151      151      150 1\\n     152      152      151 1\\n     153      156      151 1\\n     154      157      151 1\\n     155      153      152 1\\n     156      158      152 1\\n     157      159      152 1\\n     158      154      153 1\\n     159      155      153 1\\n     160      160      155 1\\n     161      162      161 1\\n     162      163      161 1\\n@<TRIPOS>SUBSTRUCTURE\\n       1 Polymer         1 RESIDUE    0 **** ROOT      0\\n\",\"mol2\");\n\tviewer_1681942562630106.setStyle({\"stick\": {\"radius\": 0.2, \"color\": \"grey\"}, \"sphere\": {\"scale\": 0.3, \"colorscheme\": {}}});\n\tviewer_1681942562630106.zoomTo();\nviewer_1681942562630106.render();\n});\n</script>",
      "text/html": [
       "<div id=\"3dmolviewer_1681942562630106\"  style=\"position: relative; width: 640px; height: 480px\">\n",
       "        <p id=\"3dmolwarning_1681942562630106\" style=\"background-color:#ffcccc;color:black\">You appear to be running in JupyterLab (or JavaScript failed to load for some other reason).  You need to install the 3dmol extension: <br>\n",
       "        <tt>jupyter labextension install jupyterlab_3dmol</tt></p>\n",
       "        </div>\n",
       "<script>\n",
       "\n",
       "var loadScriptAsync = function(uri){\n",
       "  return new Promise((resolve, reject) => {\n",
       "    //this is to ignore the existence of requirejs amd\n",
       "    var savedexports, savedmodule;\n",
       "    if (typeof exports !== 'undefined') savedexports = exports;\n",
       "    else exports = {}\n",
       "    if (typeof module !== 'undefined') savedmodule = module;\n",
       "    else module = {}\n",
       "\n",
       "    var tag = document.createElement('script');\n",
       "    tag.src = uri;\n",
       "    tag.async = true;\n",
       "    tag.onload = () => {\n",
       "        exports = savedexports;\n",
       "        module = savedmodule;\n",
       "        resolve();\n",
       "    };\n",
       "  var firstScriptTag = document.getElementsByTagName('script')[0];\n",
       "  firstScriptTag.parentNode.insertBefore(tag, firstScriptTag);\n",
       "});\n",
       "};\n",
       "\n",
       "if(typeof $3Dmolpromise === 'undefined') {\n",
       "$3Dmolpromise = null;\n",
       "  $3Dmolpromise = loadScriptAsync('https://cdnjs.cloudflare.com/ajax/libs/3Dmol/2.0.1/3Dmol-min.js');\n",
       "}\n",
       "\n",
       "var viewer_1681942562630106 = null;\n",
       "var warn = document.getElementById(\"3dmolwarning_1681942562630106\");\n",
       "if(warn) {\n",
       "    warn.parentNode.removeChild(warn);\n",
       "}\n",
       "$3Dmolpromise.then(function() {\n",
       "viewer_1681942562630106 = $3Dmol.createViewer(document.getElementById(\"3dmolviewer_1681942562630106\"),{backgroundColor:\"white\"});\n",
       "viewer_1681942562630106.zoomTo();\n",
       "\tviewer_1681942562630106.addModel(\"@<TRIPOS>MOLECULE\\nPolymer\\n163 162 1 0 1\\nSMALL\\nNO_CHARGES\\n@<TRIPOS>CRYSIN\\n   36.8756    25.0271    13.0877    90.0000    90.0000    90.0000  1  1\\n@<TRIPOS>ATOM\\n       1 N           -0.3019    -2.0159    -0.6981 N             1 Polymer \\n       2 CA           0.3734    -0.6981    -0.6699 CA            1 Polymer \\n       3 C            1.8835    -0.8534    -0.7961 C             1 Polymer \\n       4 O            2.4860    -1.4730     0.0712 O             1 Polymer \\n       5 CB           0.0680    -0.0061     0.6657 CB            1 Polymer \\n       6 CG           0.4934     1.4710     0.6715 CG            1 Polymer \\n       7 CD           0.1116     2.1802     1.9443 CD            1 Polymer \\n       8 OE1         -0.4564     1.5940     2.8536 OE1           1 Polymer \\n       9 OE2          0.3886     3.4907     2.0756 OE2           1 Polymer \\n      10 H            0.3161    -2.7087    -1.1827 H             1 Polymer \\n      11 HA           0.0053    -0.0584    -1.5012 HA            1 Polymer \\n      12 HB2          0.5395    -0.5602     1.5076 HB2           1 Polymer \\n      13 HB3         -1.0052    -0.0500     0.8357 HB3           1 Polymer \\n      14 HG2         -0.0118     1.9905    -0.1719 HG2           1 Polymer \\n      15 HG3          1.5920     1.5507     0.5326 HG3           1 Polymer \\n      16 N            2.5584    -0.3036    -1.8474 N             1 Polymer \\n      17 CA           4.0110    -0.3444    -1.9646 CA            1 Polymer \\n      18 C            4.5294     1.0769    -2.0699 C             1 Polymer \\n      19 O            4.2086     1.7509    -3.0404 O             1 Polymer \\n      20 CB           4.4172    -1.1868    -3.1892 CB            1 Polymer \\n      21 CG           5.9463    -1.3434    -3.3035 CG            1 Polymer \\n      22 CD           6.3675    -2.1987    -4.4700 CD            1 Polymer \\n      23 OE1          5.5453    -2.6905    -5.2279 OE1           1 Polymer \\n      24 OE2          7.6778    -2.4269    -4.6794 OE2           1 Polymer \\n      25 H            2.0241     0.1770    -2.5875 H             1 Polymer \\n      26 HA           4.4549    -0.8310    -1.0682 HA            1 Polymer \\n      27 HB2          4.0128    -0.7257    -4.1173 HB2           1 Polymer \\n      28 HB3          3.9690    -2.1995    -3.0785 HB3           1 Polymer \\n      29 HG2          6.3333    -1.8131    -2.3734 HG2           1 Polymer \\n      30 HG3          6.4187    -0.3448    -3.4200 HG3           1 Polymer \\n      31 N            5.3197     1.6040    -1.0914 N             1 Polymer \\n      32 CA           5.8536     2.9601    -1.1400 CA            1 Polymer \\n      33 C            7.3613     2.9062    -1.0272 C             1 Polymer \\n      34 O            7.8629     2.4399    -0.0150 O             1 Polymer \\n      35 CB           5.2368     3.7906     0.0065 CB            1 Polymer \\n      36 CG           5.6981     5.2597    -0.0273 CG            1 Polymer \\n      37 CD           5.0824     6.0957     1.0638 CD            1 Polymer \\n      38 OE1          4.3055     5.6128     1.8737 OE1           1 Polymer \\n      39 OE2          5.3955     7.4024     1.1474 OE2           1 Polymer \\n      40 H            5.5436     1.0257    -0.2673 H             1 Polymer \\n      41 HA           5.5671     3.4551    -2.0938 HA            1 Polymer \\n      42 HB2          5.5024     3.3347     0.9860 HB2           1 Polymer \\n      43 HB3          4.1290     3.7655    -0.1012 HB3           1 Polymer \\n      44 HG2          5.4197     5.7058    -1.0065 HG2           1 Polymer \\n      45 HG3          6.8022     5.3087     0.0847 HG3           1 Polymer \\n      46 N            8.1528     3.3619    -2.0471 N             1 Polymer \\n      47 CA           9.6085     3.3340    -1.9980 CA            1 Polymer \\n      48 C           10.1577     4.7309    -2.2175 C             1 Polymer \\n      49 O            9.9213     5.2975    -3.2768 O             1 Polymer \\n      50 CB          10.1313     2.3618    -3.0759 CB            1 Polymer \\n      51 CG          11.6642     2.2260    -3.0396 CG            1 Polymer \\n      52 CD          12.1945     1.2636    -4.0680 CD            1 Polymer \\n      53 OE1         11.4469     0.6759    -4.8350 OE1           1 Polymer \\n      54 OE2         13.5212     1.0491    -4.1443 OE2           1 Polymer \\n      55 H            7.7022     3.7229    -2.9001 H             1 Polymer \\n      56 HA           9.9581     2.9511    -1.0123 HA            1 Polymer \\n      57 HB2          9.8071     2.7107    -4.0819 HB2           1 Polymer \\n      58 HB3          9.6800     1.3611    -2.8921 HB3           1 Polymer \\n      59 HG2         11.9730     1.8695    -2.0333 HG2           1 Polymer \\n      60 HG3         12.1320     3.2165    -3.2248 HG3           1 Polymer \\n      61 N           10.9022     5.3476    -1.2537 N             1 Polymer \\n      62 CA          11.4834     6.6760    -1.4186 CA            1 Polymer \\n      63 C           12.9844     6.6214    -1.1763 C             1 Polymer \\n      64 O           13.3948     6.2603    -0.0811 O             1 Polymer \\n      65 CB          10.8110     7.6562    -0.4394 CB            1 Polymer \\n      66 CG          11.3617     9.0817    -0.6071 CG            1 Polymer \\n      67 CD          10.6629    10.0703     0.3278 CD            1 Polymer \\n      68 CE          11.2621    11.4734     0.1608 CE            1 Polymer \\n      69 NZ          10.5942    12.4361     1.0339 NZ            1 Polymer \\n      70 H           11.0548     4.8617    -0.3566 H             1 Polymer \\n      71 HA          11.2914     7.0582    -2.4451 HA            1 Polymer \\n      72 HB2         10.9657     7.3145     0.6082 HB2           1 Polymer \\n      73 HB3          9.7176     7.6641    -0.6451 HB3           1 Polymer \\n      74 HG2         11.2135     9.4100    -1.6597 HG2           1 Polymer \\n      75 HG3         12.4503     9.0869    -0.3818 HG3           1 Polymer \\n      76 HD2         10.7923     9.7402     1.3819 HD2           1 Polymer \\n      77 HD3          9.5768    10.0970     0.0903 HD3           1 Polymer \\n      78 HE2         11.1544    11.8025    -0.8969 HE2           1 Polymer \\n      79 HE3         12.3471    11.4434     0.4094 HE3           1 Polymer \\n      80 HZ1         10.6939    12.1449     2.0334 HZ1           1 Polymer \\n      81 HZ2         11.0376    13.3746     0.9075 HZ2           1 Polymer \\n      82 HZ3          9.5810    12.5025     0.7829 HZ3           1 Polymer \\n      83 N           13.8614     6.9919    -2.1563 N             1 Polymer \\n      84 CA          15.3098     7.0112    -1.9777 CA            1 Polymer \\n      85 C           15.8577     8.3931    -2.3098 C             1 Polymer \\n      86 O           15.6783     8.8388    -3.4344 O             1 Polymer \\n      87 CB          15.9454     5.9450    -2.8898 CB            1 Polymer \\n      88 CG          17.4713     5.8903    -2.7164 CG            1 Polymer \\n      89 CD          18.0938     4.7949    -3.5845 CD            1 Polymer \\n      90 CE          19.6190     4.7842    -3.4181 CE            1 Polymer \\n      91 NZ          20.2259     3.7262    -4.2232 NZ            1 Polymer \\n      92 H           13.4865     7.2648    -3.0784 H             1 Polymer \\n      93 HA          15.5774     6.7499    -0.9300 HA            1 Polymer \\n      94 HB2         15.6969     6.1579    -3.9532 HB2           1 Polymer \\n      95 HB3         15.5154     4.9542    -2.6238 HB3           1 Polymer \\n      96 HG2         17.7121     5.6894    -1.6492 HG2           1 Polymer \\n      97 HG3         17.9134     6.8690    -3.0041 HG3           1 Polymer \\n      98 HD2         17.8435     4.9790    -4.6525 HD2           1 Polymer \\n      99 HD3         17.6788     3.8078    -3.2835 HD3           1 Polymer \\n     100 HE2         19.8771     4.6226    -2.3476 HE2           1 Polymer \\n     101 HE3         20.0317     5.7690    -3.7335 HE3           1 Polymer \\n     102 HZ1         19.9979     3.8673    -5.2341 HZ1           1 Polymer \\n     103 HZ2         21.2638     3.7584    -4.1008 HZ2           1 Polymer \\n     104 HZ3         19.8757     2.7925    -3.9077 HZ3           1 Polymer \\n     105 N           16.5563     9.1147    -1.3822 N             1 Polymer \\n     106 CA          17.1390    10.4265    -1.6617 CA            1 Polymer \\n     107 C           18.6344    10.4199    -1.3758 C             1 Polymer \\n     108 O           19.0173    10.1853    -0.2378 O             1 Polymer \\n     109 CB          16.4345    11.4942    -0.8036 CB            1 Polymer \\n     110 CG          16.9949    12.8982    -1.0857 CG            1 Polymer \\n     111 CD          16.2610    13.9729    -0.2829 CD            1 Polymer \\n     112 CE          16.8754    15.3519    -0.5597 CE            1 Polymer \\n     113 NZ          16.1702    16.3980     0.1770 NZ            1 Polymer \\n     114 H           16.6753     8.7250    -0.4345 H             1 Polymer \\n     115 HA          16.9756    10.7028    -2.7264 HA            1 Polymer \\n     116 HB2         16.5543    11.2553     0.2763 HB2           1 Polymer \\n     117 HB3         15.3486    11.4796    -1.0453 HB3           1 Polymer \\n     118 HG2         16.8938    13.1223    -2.1704 HG2           1 Polymer \\n     119 HG3         18.0729    12.9273    -0.8147 HG3           1 Polymer \\n     120 HD2         16.3412    13.7477     0.8033 HD2           1 Polymer \\n     121 HD3         15.1870    13.9766    -0.5714 HD3           1 Polymer \\n     122 HE2         16.8230    15.5731    -1.6491 HE2           1 Polymer \\n     123 HE3         17.9465    15.3460    -0.2549 HE3           1 Polymer \\n     124 HZ1         16.2160    16.2085     1.2045 HZ1           1 Polymer \\n     125 HZ2         16.6257    17.3184    -0.0197 HZ2           1 Polymer \\n     126 HZ3         15.1719    16.4403    -0.1323 HZ3           1 Polymer \\n     127 N           19.5355    10.6987    -2.3657 N             1 Polymer \\n     128 CA          20.9774    10.7686    -2.1417 CA            1 Polymer \\n     129 C           21.5640    12.1053    -2.6452 C             1 Polymer \\n     130 O           21.2732    12.3347    -3.9955 O             1 Polymer \\n     131 CB          21.6706     9.5883    -2.8437 CB            1 Polymer \\n     132 CG          23.1873     9.5961    -2.5792 CG            1 Polymer \\n     133 CD          23.8775     8.3927    -3.2209 CD            1 Polymer \\n     134 CE          25.3906     8.4419    -2.9646 CE            1 Polymer \\n     135 NZ          26.0590     7.2915    -3.5701 NZ            1 Polymer \\n     136 H           19.1877    10.8512    -3.3244 H             1 Polymer \\n     137 HA          21.2156    10.6796    -1.0588 HA            1 Polymer \\n     138 HB2         21.4774     9.6251    -3.9384 HB2           1 Polymer \\n     139 HB3         21.2407     8.6437    -2.4429 HB3           1 Polymer \\n     140 HG2         23.3697     9.5762    -1.4815 HG2           1 Polymer \\n     141 HG3         23.6339    10.5256    -2.9956 HG3           1 Polymer \\n     142 HD2         23.6915     8.4024    -4.3172 HD2           1 Polymer \\n     143 HD3         23.4578     7.4566    -2.7918 HD3           1 Polymer \\n     144 HE2         25.5849     8.4432    -1.8687 HE2           1 Polymer \\n     145 HE3         25.8099     9.3777    -3.3961 HE3           1 Polymer \\n     146 HZ1         25.8964     7.2852    -4.6035 HZ1           1 Polymer \\n     147 HZ2         27.0866     7.3592    -3.3886 HZ2           1 Polymer \\n     148 HZ3         25.6971     6.4049    -3.1492 HZ3           1 Polymer \\n     149 O           -1.4862    -1.4139    -2.7345 O             1 Polymer \\n     150 C           -1.5497    -2.0467    -1.4882 C             1 Polymer \\n     151 C           -2.9344    -2.0556    -0.8074 C             1 Polymer \\n     152 C           -3.7187    -0.7235    -0.7276 C             1 Polymer \\n     153 C           -3.3744     0.1564     0.4348 C             1 Polymer \\n     154 O           -3.4874    -0.2695     1.5708 O             1 Polymer \\n     155 O           -2.9827     1.4324     0.2314 O             1 Polymer \\n     156 H           -3.5384    -2.6835    -1.4977 H             1 Polymer \\n     157 H           -2.9173    -2.5935     0.1639 H             1 Polymer \\n     158 H           -4.7890    -0.9782    -0.5842 H             1 Polymer \\n     159 H           -3.6323    -0.1714    -1.6888 H             1 Polymer \\n     160 H           -2.7809     2.0191     0.9726 H             1 Polymer \\n     161 N           21.1771    13.2468    -1.8271 N             1 Polymer \\n     162 H           21.9229    13.9716    -1.9415 H             1 Polymer \\n     163 H           20.2788    13.6483    -2.1796 H             1 Polymer \\n@<TRIPOS>BOND\\n       1        2        1 1\\n       2       10        1 1\\n       3      150        1 1\\n       4        3        2 1\\n       5        5        2 1\\n       6       11        2 1\\n       7        4        3 1\\n       8       16        3 1\\n       9        6        5 1\\n      10       12        5 1\\n      11       13        5 1\\n      12        7        6 1\\n      13       14        6 1\\n      14       15        6 1\\n      15        8        7 1\\n      16        9        7 1\\n      17       17       16 1\\n      18       25       16 1\\n      19       18       17 1\\n      20       20       17 1\\n      21       26       17 1\\n      22       19       18 1\\n      23       31       18 1\\n      24       21       20 1\\n      25       27       20 1\\n      26       28       20 1\\n      27       22       21 1\\n      28       29       21 1\\n      29       30       21 1\\n      30       23       22 1\\n      31       24       22 1\\n      32       32       31 1\\n      33       40       31 1\\n      34       33       32 1\\n      35       35       32 1\\n      36       41       32 1\\n      37       34       33 1\\n      38       46       33 1\\n      39       36       35 1\\n      40       42       35 1\\n      41       43       35 1\\n      42       37       36 1\\n      43       44       36 1\\n      44       45       36 1\\n      45       38       37 1\\n      46       39       37 1\\n      47       47       46 1\\n      48       55       46 1\\n      49       48       47 1\\n      50       50       47 1\\n      51       56       47 1\\n      52       49       48 1\\n      53       61       48 1\\n      54       51       50 1\\n      55       57       50 1\\n      56       58       50 1\\n      57       52       51 1\\n      58       59       51 1\\n      59       60       51 1\\n      60       53       52 1\\n      61       54       52 1\\n      62       62       61 1\\n      63       70       61 1\\n      64       63       62 1\\n      65       65       62 1\\n      66       71       62 1\\n      67       64       63 1\\n      68       83       63 1\\n      69       66       65 1\\n      70       72       65 1\\n      71       73       65 1\\n      72       67       66 1\\n      73       74       66 1\\n      74       75       66 1\\n      75       68       67 1\\n      76       76       67 1\\n      77       77       67 1\\n      78       78       68 1\\n      79       79       68 1\\n      80       69       68 1\\n      81       80       69 1\\n      82       81       69 1\\n      83       82       69 1\\n      84       84       83 1\\n      85       92       83 1\\n      86       85       84 1\\n      87       87       84 1\\n      88       93       84 1\\n      89       86       85 1\\n      90      105       85 1\\n      91       88       87 1\\n      92       94       87 1\\n      93       95       87 1\\n      94       89       88 1\\n      95       96       88 1\\n      96       97       88 1\\n      97       90       89 1\\n      98       98       89 1\\n      99       99       89 1\\n     100      100       90 1\\n     101      101       90 1\\n     102       91       90 1\\n     103      102       91 1\\n     104      103       91 1\\n     105      104       91 1\\n     106      106      105 1\\n     107      114      105 1\\n     108      107      106 1\\n     109      109      106 1\\n     110      115      106 1\\n     111      108      107 1\\n     112      127      107 1\\n     113      110      109 1\\n     114      116      109 1\\n     115      117      109 1\\n     116      111      110 1\\n     117      118      110 1\\n     118      119      110 1\\n     119      112      111 1\\n     120      120      111 1\\n     121      121      111 1\\n     122      122      112 1\\n     123      123      112 1\\n     124      113      112 1\\n     125      124      113 1\\n     126      125      113 1\\n     127      126      113 1\\n     128      128      127 1\\n     129      136      127 1\\n     130      129      128 1\\n     131      131      128 1\\n     132      137      128 1\\n     133      130      129 1\\n     134      161      129 1\\n     135      132      131 1\\n     136      138      131 1\\n     137      139      131 1\\n     138      133      132 1\\n     139      140      132 1\\n     140      141      132 1\\n     141      134      133 1\\n     142      142      133 1\\n     143      143      133 1\\n     144      144      134 1\\n     145      145      134 1\\n     146      135      134 1\\n     147      146      135 1\\n     148      147      135 1\\n     149      148      135 1\\n     150      150      149 1\\n     151      151      150 1\\n     152      152      151 1\\n     153      156      151 1\\n     154      157      151 1\\n     155      153      152 1\\n     156      158      152 1\\n     157      159      152 1\\n     158      154      153 1\\n     159      155      153 1\\n     160      160      155 1\\n     161      162      161 1\\n     162      163      161 1\\n@<TRIPOS>SUBSTRUCTURE\\n       1 Polymer         1 RESIDUE    0 **** ROOT      0\\n\",\"mol2\");\n",
       "\tviewer_1681942562630106.setStyle({\"stick\": {\"radius\": 0.2, \"color\": \"grey\"}, \"sphere\": {\"scale\": 0.3, \"colorscheme\": {}}});\n",
       "\tviewer_1681942562630106.zoomTo();\n",
       "viewer_1681942562630106.render();\n",
       "});\n",
       "</script>"
      ]
     },
     "metadata": {},
     "output_type": "display_data"
    },
    {
     "data": {
      "text/plain": [
       "<py3Dmol.view at 0x7fa482b8cbb0>"
      ]
     },
     "execution_count": 31,
     "metadata": {},
     "output_type": "execute_result"
    }
   ],
   "source": [
    "chain.energy_minimize()\n",
    "chain.visualize()"
   ]
  },
  {
   "cell_type": "code",
   "execution_count": 32,
   "id": "81c7fd10",
   "metadata": {},
   "outputs": [
    {
     "name": "stdout",
     "output_type": "stream",
     "text": [
      "<Compound 12 particles, 11 bonds, non-periodic, id: 140344535286736>\n",
      "<Compound 3 particles, 2 bonds, non-periodic, id: 140344535286784>\n"
     ]
    }
   ],
   "source": [
    "# Set labels for capping residues\n",
    "print(chain.children[1])\n",
    "chain.children[1].name = \"NTC\"\n",
    "\n",
    "print(chain.children[2])\n",
    "chain.children[2].name = \"CTC\""
   ]
  },
  {
   "cell_type": "code",
   "execution_count": 33,
   "id": "e9c7f9a6",
   "metadata": {},
   "outputs": [
    {
     "data": {
      "text/plain": [
       "<NTC 12 particles, 11 bonds, non-periodic, id: 140344535286736>"
      ]
     },
     "execution_count": 33,
     "metadata": {},
     "output_type": "execute_result"
    }
   ],
   "source": [
    "# Verify we relabeled the non-standard capping residues\n",
    "chain.labels['Compound'][0]"
   ]
  },
  {
   "cell_type": "markdown",
   "id": "da6b0980",
   "metadata": {},
   "source": [
    "Now we save the peptide to file, ensuring amino acid residue names are written correctly. We also add the residues `NTC` and `CTC` for the N-terminal and C-terminal caps."
   ]
  },
  {
   "cell_type": "code",
   "execution_count": 34,
   "id": "6008028b",
   "metadata": {},
   "outputs": [],
   "source": [
    "chain.save(\"mbuild_small_peptide.pdb\", overwrite = True, residues=[\"ALA\", \"LYS\", \"GLU\", \"TYR\", \"SER\", \"NTC\", \"CTC\"])\n",
    "smiles = chain.to_smiles()"
   ]
  },
  {
   "cell_type": "code",
   "execution_count": null,
   "id": "aad6fe32-931a-415a-a077-171ef2b0e352",
   "metadata": {},
   "outputs": [],
   "source": []
  }
 ],
 "metadata": {
  "kernelspec": {
   "display_name": "Python 3 (ipykernel)",
   "language": "python",
   "name": "python3"
  },
  "language_info": {
   "codemirror_mode": {
    "name": "ipython",
    "version": 3
   },
   "file_extension": ".py",
   "mimetype": "text/x-python",
   "name": "python",
   "nbconvert_exporter": "python",
   "pygments_lexer": "ipython3",
   "version": "3.10.10"
  }
 },
 "nbformat": 4,
 "nbformat_minor": 5
}
