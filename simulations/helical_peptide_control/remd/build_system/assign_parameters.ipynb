{
 "cells": [
  {
   "cell_type": "code",
   "execution_count": 1,
   "id": "30557f01-a3d5-4860-972f-26ede5b26197",
   "metadata": {},
   "outputs": [
    {
     "name": "stderr",
     "output_type": "stream",
     "text": [
      "Warning: importing 'simtk.openmm' is deprecated.  Import 'openmm' instead.\n"
     ]
    }
   ],
   "source": [
    "import pymol\n",
    "\n",
    "import mbuild as mb\n",
    "from mbuild.lib.recipes.polymer import Polymer\n",
    "\n",
    "import warnings\n",
    "warnings.filterwarnings('ignore')\n",
    "\n",
    "import mdtraj as md\n",
    "from openff.interchange import Interchange\n",
    "from openmm import app\n",
    "from openff.toolkit import ForceField, Molecule\n",
    "from openff.toolkit.utils import get_data_file_path"
   ]
  },
  {
   "cell_type": "markdown",
   "id": "18e7d9c0-c8c7-4537-933b-1b5560baa23c",
   "metadata": {},
   "source": [
    "# Build PDB of helical peptide\n",
    "\n",
    "## PyMol Scripts\n",
    "First we build the peptide sequence using PyMOLs built in peptide builder. Here we use the scripting version of PyMOL to build this peptide without interfacing with the PyMOL GUI."
   ]
  },
  {
   "cell_type": "code",
   "execution_count": 2,
   "id": "f1eb6921-ad90-4fda-9c88-505ec4e8b614",
   "metadata": {},
   "outputs": [],
   "source": [
    "peptide_sequence = \"EEEEKKKK\"\n",
    "pymol.cmd.delete(\"all\")\n",
    "pymol.editor.fab(peptide_sequence, ss = 1)\n",
    "pymol.cmd.set(\"pdb_conect_all\", \"on\")\n",
    "pymol.cmd.save(\"short_peptide.pdb\")"
   ]
  },
  {
   "cell_type": "markdown",
   "id": "ba797a91",
   "metadata": {},
   "source": [
    "Next we'll use mbuild to add our capping residues to the generated PyMol generated peptide pdb."
   ]
  },
  {
   "cell_type": "code",
   "execution_count": 3,
   "id": "9807004c-350b-4fa0-b9af-cc925136ad9a",
   "metadata": {
    "scrolled": false
   },
   "outputs": [
    {
     "data": {
      "application/3dmoljs_load.v0": "<div id=\"3dmolviewer_16867816495999894\"  style=\"position: relative; width: 640px; height: 480px\">\n        <p id=\"3dmolwarning_16867816495999894\" style=\"background-color:#ffcccc;color:black\">You appear to be running in JupyterLab (or JavaScript failed to load for some other reason).  You need to install the 3dmol extension: <br>\n        <tt>jupyter labextension install jupyterlab_3dmol</tt></p>\n        </div>\n<script>\n\nvar loadScriptAsync = function(uri){\n  return new Promise((resolve, reject) => {\n    //this is to ignore the existence of requirejs amd\n    var savedexports, savedmodule;\n    if (typeof exports !== 'undefined') savedexports = exports;\n    else exports = {}\n    if (typeof module !== 'undefined') savedmodule = module;\n    else module = {}\n\n    var tag = document.createElement('script');\n    tag.src = uri;\n    tag.async = true;\n    tag.onload = () => {\n        exports = savedexports;\n        module = savedmodule;\n        resolve();\n    };\n  var firstScriptTag = document.getElementsByTagName('script')[0];\n  firstScriptTag.parentNode.insertBefore(tag, firstScriptTag);\n});\n};\n\nif(typeof $3Dmolpromise === 'undefined') {\n$3Dmolpromise = null;\n  $3Dmolpromise = loadScriptAsync('https://cdnjs.cloudflare.com/ajax/libs/3Dmol/2.0.1/3Dmol-min.js');\n}\n\nvar viewer_16867816495999894 = null;\nvar warn = document.getElementById(\"3dmolwarning_16867816495999894\");\nif(warn) {\n    warn.parentNode.removeChild(warn);\n}\n$3Dmolpromise.then(function() {\nviewer_16867816495999894 = $3Dmol.createViewer(document.getElementById(\"3dmolviewer_16867816495999894\"),{backgroundColor:\"white\"});\nviewer_16867816495999894.zoomTo();\n\tviewer_16867816495999894.addModel(\"@<TRIPOS>MOLECULE\\nCompound\\n148 147 1 0 1\\nSMALL\\nNO_CHARGES\\n@<TRIPOS>CRYSIN\\n   18.9500    21.8790    21.7250    90.0000    90.0000    90.0000  1  1\\n@<TRIPOS>ATOM\\n       1 N           -0.5170    -2.3460    -1.0380 N             1 Compound\\n       2 CA           0.0420    -0.9970    -1.0380 CA            1 Compound\\n       3 C            1.5510    -1.0370    -1.0380 C             1 Compound\\n       4 O            2.2270    -0.3380    -1.8060 O             1 Compound\\n       5 CB          -0.4810    -0.2120     0.1990 CB            1 Compound\\n       6 CG          -0.0060     1.2730     0.3100 CG            1 Compound\\n       7 CD          -0.4300     2.0770     1.5250 CD            1 Compound\\n       8 OE1         -1.1580     1.5750     2.4030 OE1           1 Compound\\n       9 OE2         -0.0000     3.2470     1.5970 OE2           1 Compound\\n      10 H            0.1100    -3.2250    -1.0380 H             1 Compound\\n      11 HA          -0.2840    -0.4790    -1.9580 HA            1 Compound\\n      12 HB2         -0.1920    -0.7430     1.1290 HB2           1 Compound\\n      13 HB3         -1.5880    -0.2220     0.2120 HB3           1 Compound\\n      14 HG2         -0.3160     1.8580    -0.5710 HG2           1 Compound\\n      15 HG3          1.0940     1.3400     0.3390 HG3           1 Compound\\n      16 N            2.1550    -1.8230    -0.2120 N             1 Compound\\n      17 CA           3.6150    -1.8620    -0.2120 CA            1 Compound\\n      18 C            4.1470    -2.2170    -1.5800 C             1 Compound\\n      19 O            5.0690    -1.5820    -2.1120 O             1 Compound\\n      20 CB           4.1130    -2.8860     0.8470 CB            1 Compound\\n      21 CG           5.6640    -3.0040     1.0000 CG            1 Compound\\n      22 CD           6.2170    -4.0290     1.9730 CD            1 Compound\\n      23 OE1          5.4550    -4.7440     2.6520 OE1           1 Compound\\n      24 OE2          7.4610    -4.1200     2.0400 OE2           1 Compound\\n      25 H            1.6270    -2.4030     0.4240 H             1 Compound\\n      26 HA           3.9960    -0.8580     0.0500 HA            1 Compound\\n      27 HB2          3.7060    -3.8920     0.6160 HB2           1 Compound\\n      28 HB3          3.6860    -2.6410     1.8390 HB3           1 Compound\\n      29 HG2          6.1120    -2.0370     1.2820 HG2           1 Compound\\n      30 HG3          6.1400    -3.2850     0.0460 HG3           1 Compound\\n      31 N            3.6260    -3.2120    -2.2140 N             1 Compound\\n      32 CA           4.1400    -3.5560    -3.5370 CA            1 Compound\\n      33 C            4.0470    -2.3780    -4.4760 C             1 Compound\\n      34 O            4.9960    -2.0340    -5.1950 O             1 Compound\\n      35 CB           3.3510    -4.7700    -4.1070 CB            1 Compound\\n      36 CG           3.8230    -5.2890    -5.5040 CG            1 Compound\\n      37 CD           3.0570    -6.4310    -6.1450 CD            1 Compound\\n      38 OE1          2.0900    -6.9600    -5.5640 OE1           1 Compound\\n      39 OE2          3.4400    -6.7920    -7.2780 OE2           1 Compound\\n      40 H            2.8730    -3.7460    -1.8020 H             1 Compound\\n      41 HA           5.2060    -3.8310    -3.4420 HA            1 Compound\\n      42 HB2          2.2730    -4.5190    -4.1720 HB2           1 Compound\\n      43 HB3          3.3920    -5.6150    -3.3940 HB3           1 Compound\\n      44 HG2          4.8800    -5.6010    -5.4780 HG2           1 Compound\\n      45 HG3          3.7670    -4.4930    -6.2660 HG3           1 Compound\\n      46 N            2.9450    -1.7090    -4.5320 N             1 Compound\\n      47 CA           2.8550    -0.5690    -5.4410 CA            1 Compound\\n      48 C            3.9350     0.4440    -5.1470 C             1 Compound\\n      49 O            4.6290     0.9430    -6.0440 O             1 Compound\\n      50 CB           1.4490     0.0860    -5.3230 CB            1 Compound\\n      51 CG           1.1820     1.2950    -6.2770 CG            1 Compound\\n      52 CD          -0.1470     2.0180    -6.1700 CD            1 Compound\\n      53 OE1         -1.0160     1.6450    -5.3590 OE1           1 Compound\\n      54 OE2         -0.3080     3.0030    -6.9220 OE2           1 Compound\\n      55 H            2.1570    -1.9690    -3.9560 H             1 Compound\\n      56 HA           2.9990    -0.9290    -6.4750 HA            1 Compound\\n      57 HB2          1.2760     0.4180    -4.2790 HB2           1 Compound\\n      58 HB3          0.6630    -0.6740    -5.5010 HB3           1 Compound\\n      59 HG2          1.2900     1.0020    -7.3330 HG2           1 Compound\\n      60 HG3          1.9170     2.1010    -6.1160 HG3           1 Compound\\n      61 N            4.1410     0.8010    -3.9250 N             1 Compound\\n      62 CA           5.1850     1.7810    -3.6390 CA            1 Compound\\n      63 C            6.5240     1.3120    -4.1600 C             1 Compound\\n      64 O            7.2710     2.0540    -4.8140 O             1 Compound\\n      65 CB           5.2450     2.0420    -2.1100 CB            1 Compound\\n      66 CG           6.2750     3.1280    -1.7100 CG            1 Compound\\n      67 CD           6.4080     3.3660    -0.2030 CD            1 Compound\\n      68 CE           7.5060     4.4070     0.0500 CE            1 Compound\\n      69 NZ           7.5210     4.7670     1.4780 NZ            1 Compound\\n      70 H            3.5880     0.4090    -3.1760 H             1 Compound\\n      71 HA           4.9350     2.7210    -4.1650 HA            1 Compound\\n      72 HB2          5.4710     1.0950    -1.5780 HB2           1 Compound\\n      73 HB3          4.2430     2.3410    -1.7430 HB3           1 Compound\\n      74 HG2          6.0300     4.0790    -2.2220 HG2           1 Compound\\n      75 HG3          7.2820     2.8500    -2.0710 HG3           1 Compound\\n      76 HD2          6.6580     2.4140     0.3070 HD2           1 Compound\\n      77 HD3          5.4350     3.6950     0.2120 HD3           1 Compound\\n      78 HE2          7.3420     5.3190    -0.5610 HE2           1 Compound\\n      79 HE3          8.4960     4.0100    -0.2600 HE3           1 Compound\\n      80 HZ1          7.3230     3.9450     2.0610 HZ1           1 Compound\\n      81 HZ2          8.4440     5.1060     1.7680 HZ2           1 Compound\\n      82 HZ3          6.8200     5.4850     1.5980 HZ3           1 Compound\\n      83 N            6.9000     0.1030    -3.9160 N             1 Compound\\n      84 CA           8.1940    -0.3510    -4.4190 CA            1 Compound\\n      85 C            8.2780    -0.1910    -5.9190 C             1 Compound\\n      86 O            9.2640     0.3200    -6.4710 O             1 Compound\\n      87 CB           8.4190    -1.8310    -4.0060 CB            1 Compound\\n      88 CG           9.8020    -2.3860    -4.4280 CG            1 Compound\\n      89 CD          10.0340    -3.8620    -4.0950 CD            1 Compound\\n      90 CE          11.4050    -4.2930    -4.6310 CE            1 Compound\\n      91 NZ          11.7070    -5.6580    -4.1650 NZ            1 Compound\\n      92 H            6.3090    -0.5210    -3.3860 H             1 Compound\\n      93 HA           8.9840     0.2810    -3.9720 HA            1 Compound\\n      94 HB2          7.6130    -2.4640    -4.4320 HB2           1 Compound\\n      95 HB3          8.3080    -1.9330    -2.9080 HB3           1 Compound\\n      96 HG2         10.6030    -1.7670    -3.9790 HG2           1 Compound\\n      97 HG3          9.9340    -2.2890    -5.5220 HG3           1 Compound\\n      98 HD2          9.2330    -4.4800    -4.5500 HD2           1 Compound\\n      99 HD3          9.9610    -4.0150    -3.0010 HD3           1 Compound\\n     100 HE2         12.2030    -3.6000    -4.2930 HE2           1 Compound\\n     101 HE3         11.4190    -4.2510    -5.7410 HE3           1 Compound\\n     102 HZ1         10.8560    -6.2320    -4.1530 HZ1           1 Compound\\n     103 HZ2         12.3620    -6.1310    -4.7960 HZ2           1 Compound\\n     104 HZ3         12.1040    -5.5620    -3.2410 HZ3           1 Compound\\n     105 N            7.2940    -0.5970    -6.6480 N             1 Compound\\n     106 CA           7.3750    -0.4420    -8.0970 CA            1 Compound\\n     107 C            7.5950     1.0040    -8.4750 C             1 Compound\\n     108 O            8.4530     1.3440    -9.3020 O             1 Compound\\n     109 CB           6.0790    -0.9960    -8.7490 CB            1 Compound\\n     110 CG           6.0990    -0.9460   -10.2970 CG            1 Compound\\n     111 CD           4.8100    -1.4240   -10.9730 CD            1 Compound\\n     112 CE           4.9430    -1.2530   -12.4920 CE            1 Compound\\n     113 NZ           3.7810    -1.8690   -13.1580 NZ            1 Compound\\n     114 H            6.4800    -1.0160    -6.2220 H             1 Compound\\n     115 HA           8.2470    -1.0170    -8.4620 HA            1 Compound\\n     116 HB2          5.2000    -0.4370    -8.3650 HB2           1 Compound\\n     117 HB3          5.9150    -2.0420    -8.4220 HB3           1 Compound\\n     118 HG2          6.9620    -1.5270   -10.6770 HG2           1 Compound\\n     119 HG3          6.2660     0.0900   -10.6440 HG3           1 Compound\\n     120 HD2          3.9480    -0.8380   -10.5960 HD2           1 Compound\\n     121 HD3          4.6130    -2.4790   -10.7000 HD3           1 Compound\\n     122 HE2          5.8760    -1.7210   -12.8680 HE2           1 Compound\\n     123 HE3          5.0150    -0.1770   -12.7570 HE3           1 Compound\\n     124 HZ1          2.9270    -1.7210   -12.6060 HZ1           1 Compound\\n     125 HZ2          3.6060    -1.4410   -14.0730 HZ2           1 Compound\\n     126 HZ3          3.9960    -2.8510   -13.2540 HZ3           1 Compound\\n     127 N            6.8660     1.9130    -7.9210 N             1 Compound\\n     128 CA           7.0780     3.3110    -8.2860 CA            1 Compound\\n     129 C            8.5090     3.7250    -8.0360 C             1 Compound\\n     130 O            9.3500     2.9380    -7.5800 O             1 Compound\\n     131 CB           6.0930     4.2080    -7.4880 CB            1 Compound\\n     132 CG           6.1860     5.7090    -7.8610 CG            1 Compound\\n     133 CD           5.2750     6.6330    -7.0470 CD            1 Compound\\n     134 CE           5.5230     8.0870    -7.4690 CE            1 Compound\\n     135 NZ           4.5320     8.9620    -6.8180 NZ            1 Compound\\n     136 H            6.1600     1.6610    -7.2440 H             1 Compound\\n     137 HA           6.8840     3.4220    -9.3690 HA            1 Compound\\n     138 HB2          6.2690     4.0790    -6.4000 HB2           1 Compound\\n     139 HB3          5.0540     3.8580    -7.6510 HB3           1 Compound\\n     140 HG2          5.9840     5.8360    -8.9420 HG2           1 Compound\\n     141 HG3          7.2180     6.0760    -7.7090 HG3           1 Compound\\n     142 HD2          5.4830     6.5070    -5.9650 HD2           1 Compound\\n     143 HD3          4.2170     6.3420    -7.1970 HD3           1 Compound\\n     144 HE2          5.4520     8.2020    -8.5710 HE2           1 Compound\\n     145 HE3          6.5530     8.4000    -7.1980 HE3           1 Compound\\n     146 HZ1          4.3330     8.6350    -5.8650 HZ1           1 Compound\\n     147 HZ2          4.8850     9.9190    -6.7230 HZ2           1 Compound\\n     148 HZ3          3.7060     8.9380    -7.3990 HZ3           1 Compound\\n@<TRIPOS>BOND\\n       1        2        1 1\\n       2       10        1 1\\n       3        3        2 1\\n       4        5        2 1\\n       5       11        2 1\\n       6        4        3 1\\n       7       16        3 1\\n       8        6        5 1\\n       9       12        5 1\\n      10       13        5 1\\n      11        7        6 1\\n      12       14        6 1\\n      13       15        6 1\\n      14        8        7 1\\n      15        9        7 1\\n      16       17       16 1\\n      17       25       16 1\\n      18       18       17 1\\n      19       20       17 1\\n      20       26       17 1\\n      21       19       18 1\\n      22       31       18 1\\n      23       21       20 1\\n      24       27       20 1\\n      25       28       20 1\\n      26       22       21 1\\n      27       29       21 1\\n      28       30       21 1\\n      29       23       22 1\\n      30       24       22 1\\n      31       32       31 1\\n      32       40       31 1\\n      33       33       32 1\\n      34       35       32 1\\n      35       41       32 1\\n      36       34       33 1\\n      37       46       33 1\\n      38       36       35 1\\n      39       42       35 1\\n      40       43       35 1\\n      41       37       36 1\\n      42       44       36 1\\n      43       45       36 1\\n      44       38       37 1\\n      45       39       37 1\\n      46       47       46 1\\n      47       55       46 1\\n      48       48       47 1\\n      49       50       47 1\\n      50       56       47 1\\n      51       49       48 1\\n      52       61       48 1\\n      53       51       50 1\\n      54       57       50 1\\n      55       58       50 1\\n      56       52       51 1\\n      57       59       51 1\\n      58       60       51 1\\n      59       53       52 1\\n      60       54       52 1\\n      61       62       61 1\\n      62       70       61 1\\n      63       63       62 1\\n      64       65       62 1\\n      65       71       62 1\\n      66       64       63 1\\n      67       83       63 1\\n      68       66       65 1\\n      69       72       65 1\\n      70       73       65 1\\n      71       67       66 1\\n      72       74       66 1\\n      73       75       66 1\\n      74       68       67 1\\n      75       76       67 1\\n      76       77       67 1\\n      77       78       68 1\\n      78       79       68 1\\n      79       69       68 1\\n      80       80       69 1\\n      81       81       69 1\\n      82       82       69 1\\n      83       84       83 1\\n      84       92       83 1\\n      85       85       84 1\\n      86       87       84 1\\n      87       93       84 1\\n      88       86       85 1\\n      89      105       85 1\\n      90       88       87 1\\n      91       94       87 1\\n      92       95       87 1\\n      93       89       88 1\\n      94       96       88 1\\n      95       97       88 1\\n      96       90       89 1\\n      97       98       89 1\\n      98       99       89 1\\n      99      100       90 1\\n     100      101       90 1\\n     101       91       90 1\\n     102      102       91 1\\n     103      103       91 1\\n     104      104       91 1\\n     105      106      105 1\\n     106      114      105 1\\n     107      107      106 1\\n     108      109      106 1\\n     109      115      106 1\\n     110      108      107 1\\n     111      127      107 1\\n     112      110      109 1\\n     113      116      109 1\\n     114      117      109 1\\n     115      111      110 1\\n     116      118      110 1\\n     117      119      110 1\\n     118      112      111 1\\n     119      120      111 1\\n     120      121      111 1\\n     121      122      112 1\\n     122      123      112 1\\n     123      113      112 1\\n     124      124      113 1\\n     125      125      113 1\\n     126      126      113 1\\n     127      128      127 1\\n     128      136      127 1\\n     129      129      128 1\\n     130      131      128 1\\n     131      137      128 1\\n     132      130      129 1\\n     133      132      131 1\\n     134      138      131 1\\n     135      139      131 1\\n     136      133      132 1\\n     137      140      132 1\\n     138      141      132 1\\n     139      134      133 1\\n     140      142      133 1\\n     141      143      133 1\\n     142      144      134 1\\n     143      145      134 1\\n     144      135      134 1\\n     145      146      135 1\\n     146      147      135 1\\n     147      148      135 1\\n@<TRIPOS>SUBSTRUCTURE\\n       1 Compound        1 RESIDUE    0 **** ROOT      0\\n\",\"mol2\");\n\tviewer_16867816495999894.setStyle({\"stick\": {\"radius\": 0.2, \"color\": \"grey\"}, \"sphere\": {\"scale\": 0.3, \"colorscheme\": {}}});\n\tviewer_16867816495999894.zoomTo();\n\tviewer_16867816495999894.setStyle({\"model\": -1, \"serial\": 1},{\"stick\": {\"radius\": 0.2, \"color\": \"grey\"}, \"sphere\": {\"scale\": 0.6, \"color\": \"black\"}});\n\tviewer_16867816495999894.setStyle({\"model\": -1, \"serial\": 129},{\"stick\": {\"radius\": 0.2, \"color\": \"grey\"}, \"sphere\": {\"scale\": 0.6, \"color\": \"black\"}});\nviewer_16867816495999894.render();\n});\n</script>",
      "text/html": [
       "<div id=\"3dmolviewer_16867816495999894\"  style=\"position: relative; width: 640px; height: 480px\">\n",
       "        <p id=\"3dmolwarning_16867816495999894\" style=\"background-color:#ffcccc;color:black\">You appear to be running in JupyterLab (or JavaScript failed to load for some other reason).  You need to install the 3dmol extension: <br>\n",
       "        <tt>jupyter labextension install jupyterlab_3dmol</tt></p>\n",
       "        </div>\n",
       "<script>\n",
       "\n",
       "var loadScriptAsync = function(uri){\n",
       "  return new Promise((resolve, reject) => {\n",
       "    //this is to ignore the existence of requirejs amd\n",
       "    var savedexports, savedmodule;\n",
       "    if (typeof exports !== 'undefined') savedexports = exports;\n",
       "    else exports = {}\n",
       "    if (typeof module !== 'undefined') savedmodule = module;\n",
       "    else module = {}\n",
       "\n",
       "    var tag = document.createElement('script');\n",
       "    tag.src = uri;\n",
       "    tag.async = true;\n",
       "    tag.onload = () => {\n",
       "        exports = savedexports;\n",
       "        module = savedmodule;\n",
       "        resolve();\n",
       "    };\n",
       "  var firstScriptTag = document.getElementsByTagName('script')[0];\n",
       "  firstScriptTag.parentNode.insertBefore(tag, firstScriptTag);\n",
       "});\n",
       "};\n",
       "\n",
       "if(typeof $3Dmolpromise === 'undefined') {\n",
       "$3Dmolpromise = null;\n",
       "  $3Dmolpromise = loadScriptAsync('https://cdnjs.cloudflare.com/ajax/libs/3Dmol/2.0.1/3Dmol-min.js');\n",
       "}\n",
       "\n",
       "var viewer_16867816495999894 = null;\n",
       "var warn = document.getElementById(\"3dmolwarning_16867816495999894\");\n",
       "if(warn) {\n",
       "    warn.parentNode.removeChild(warn);\n",
       "}\n",
       "$3Dmolpromise.then(function() {\n",
       "viewer_16867816495999894 = $3Dmol.createViewer(document.getElementById(\"3dmolviewer_16867816495999894\"),{backgroundColor:\"white\"});\n",
       "viewer_16867816495999894.zoomTo();\n",
       "\tviewer_16867816495999894.addModel(\"@<TRIPOS>MOLECULE\\nCompound\\n148 147 1 0 1\\nSMALL\\nNO_CHARGES\\n@<TRIPOS>CRYSIN\\n   18.9500    21.8790    21.7250    90.0000    90.0000    90.0000  1  1\\n@<TRIPOS>ATOM\\n       1 N           -0.5170    -2.3460    -1.0380 N             1 Compound\\n       2 CA           0.0420    -0.9970    -1.0380 CA            1 Compound\\n       3 C            1.5510    -1.0370    -1.0380 C             1 Compound\\n       4 O            2.2270    -0.3380    -1.8060 O             1 Compound\\n       5 CB          -0.4810    -0.2120     0.1990 CB            1 Compound\\n       6 CG          -0.0060     1.2730     0.3100 CG            1 Compound\\n       7 CD          -0.4300     2.0770     1.5250 CD            1 Compound\\n       8 OE1         -1.1580     1.5750     2.4030 OE1           1 Compound\\n       9 OE2         -0.0000     3.2470     1.5970 OE2           1 Compound\\n      10 H            0.1100    -3.2250    -1.0380 H             1 Compound\\n      11 HA          -0.2840    -0.4790    -1.9580 HA            1 Compound\\n      12 HB2         -0.1920    -0.7430     1.1290 HB2           1 Compound\\n      13 HB3         -1.5880    -0.2220     0.2120 HB3           1 Compound\\n      14 HG2         -0.3160     1.8580    -0.5710 HG2           1 Compound\\n      15 HG3          1.0940     1.3400     0.3390 HG3           1 Compound\\n      16 N            2.1550    -1.8230    -0.2120 N             1 Compound\\n      17 CA           3.6150    -1.8620    -0.2120 CA            1 Compound\\n      18 C            4.1470    -2.2170    -1.5800 C             1 Compound\\n      19 O            5.0690    -1.5820    -2.1120 O             1 Compound\\n      20 CB           4.1130    -2.8860     0.8470 CB            1 Compound\\n      21 CG           5.6640    -3.0040     1.0000 CG            1 Compound\\n      22 CD           6.2170    -4.0290     1.9730 CD            1 Compound\\n      23 OE1          5.4550    -4.7440     2.6520 OE1           1 Compound\\n      24 OE2          7.4610    -4.1200     2.0400 OE2           1 Compound\\n      25 H            1.6270    -2.4030     0.4240 H             1 Compound\\n      26 HA           3.9960    -0.8580     0.0500 HA            1 Compound\\n      27 HB2          3.7060    -3.8920     0.6160 HB2           1 Compound\\n      28 HB3          3.6860    -2.6410     1.8390 HB3           1 Compound\\n      29 HG2          6.1120    -2.0370     1.2820 HG2           1 Compound\\n      30 HG3          6.1400    -3.2850     0.0460 HG3           1 Compound\\n      31 N            3.6260    -3.2120    -2.2140 N             1 Compound\\n      32 CA           4.1400    -3.5560    -3.5370 CA            1 Compound\\n      33 C            4.0470    -2.3780    -4.4760 C             1 Compound\\n      34 O            4.9960    -2.0340    -5.1950 O             1 Compound\\n      35 CB           3.3510    -4.7700    -4.1070 CB            1 Compound\\n      36 CG           3.8230    -5.2890    -5.5040 CG            1 Compound\\n      37 CD           3.0570    -6.4310    -6.1450 CD            1 Compound\\n      38 OE1          2.0900    -6.9600    -5.5640 OE1           1 Compound\\n      39 OE2          3.4400    -6.7920    -7.2780 OE2           1 Compound\\n      40 H            2.8730    -3.7460    -1.8020 H             1 Compound\\n      41 HA           5.2060    -3.8310    -3.4420 HA            1 Compound\\n      42 HB2          2.2730    -4.5190    -4.1720 HB2           1 Compound\\n      43 HB3          3.3920    -5.6150    -3.3940 HB3           1 Compound\\n      44 HG2          4.8800    -5.6010    -5.4780 HG2           1 Compound\\n      45 HG3          3.7670    -4.4930    -6.2660 HG3           1 Compound\\n      46 N            2.9450    -1.7090    -4.5320 N             1 Compound\\n      47 CA           2.8550    -0.5690    -5.4410 CA            1 Compound\\n      48 C            3.9350     0.4440    -5.1470 C             1 Compound\\n      49 O            4.6290     0.9430    -6.0440 O             1 Compound\\n      50 CB           1.4490     0.0860    -5.3230 CB            1 Compound\\n      51 CG           1.1820     1.2950    -6.2770 CG            1 Compound\\n      52 CD          -0.1470     2.0180    -6.1700 CD            1 Compound\\n      53 OE1         -1.0160     1.6450    -5.3590 OE1           1 Compound\\n      54 OE2         -0.3080     3.0030    -6.9220 OE2           1 Compound\\n      55 H            2.1570    -1.9690    -3.9560 H             1 Compound\\n      56 HA           2.9990    -0.9290    -6.4750 HA            1 Compound\\n      57 HB2          1.2760     0.4180    -4.2790 HB2           1 Compound\\n      58 HB3          0.6630    -0.6740    -5.5010 HB3           1 Compound\\n      59 HG2          1.2900     1.0020    -7.3330 HG2           1 Compound\\n      60 HG3          1.9170     2.1010    -6.1160 HG3           1 Compound\\n      61 N            4.1410     0.8010    -3.9250 N             1 Compound\\n      62 CA           5.1850     1.7810    -3.6390 CA            1 Compound\\n      63 C            6.5240     1.3120    -4.1600 C             1 Compound\\n      64 O            7.2710     2.0540    -4.8140 O             1 Compound\\n      65 CB           5.2450     2.0420    -2.1100 CB            1 Compound\\n      66 CG           6.2750     3.1280    -1.7100 CG            1 Compound\\n      67 CD           6.4080     3.3660    -0.2030 CD            1 Compound\\n      68 CE           7.5060     4.4070     0.0500 CE            1 Compound\\n      69 NZ           7.5210     4.7670     1.4780 NZ            1 Compound\\n      70 H            3.5880     0.4090    -3.1760 H             1 Compound\\n      71 HA           4.9350     2.7210    -4.1650 HA            1 Compound\\n      72 HB2          5.4710     1.0950    -1.5780 HB2           1 Compound\\n      73 HB3          4.2430     2.3410    -1.7430 HB3           1 Compound\\n      74 HG2          6.0300     4.0790    -2.2220 HG2           1 Compound\\n      75 HG3          7.2820     2.8500    -2.0710 HG3           1 Compound\\n      76 HD2          6.6580     2.4140     0.3070 HD2           1 Compound\\n      77 HD3          5.4350     3.6950     0.2120 HD3           1 Compound\\n      78 HE2          7.3420     5.3190    -0.5610 HE2           1 Compound\\n      79 HE3          8.4960     4.0100    -0.2600 HE3           1 Compound\\n      80 HZ1          7.3230     3.9450     2.0610 HZ1           1 Compound\\n      81 HZ2          8.4440     5.1060     1.7680 HZ2           1 Compound\\n      82 HZ3          6.8200     5.4850     1.5980 HZ3           1 Compound\\n      83 N            6.9000     0.1030    -3.9160 N             1 Compound\\n      84 CA           8.1940    -0.3510    -4.4190 CA            1 Compound\\n      85 C            8.2780    -0.1910    -5.9190 C             1 Compound\\n      86 O            9.2640     0.3200    -6.4710 O             1 Compound\\n      87 CB           8.4190    -1.8310    -4.0060 CB            1 Compound\\n      88 CG           9.8020    -2.3860    -4.4280 CG            1 Compound\\n      89 CD          10.0340    -3.8620    -4.0950 CD            1 Compound\\n      90 CE          11.4050    -4.2930    -4.6310 CE            1 Compound\\n      91 NZ          11.7070    -5.6580    -4.1650 NZ            1 Compound\\n      92 H            6.3090    -0.5210    -3.3860 H             1 Compound\\n      93 HA           8.9840     0.2810    -3.9720 HA            1 Compound\\n      94 HB2          7.6130    -2.4640    -4.4320 HB2           1 Compound\\n      95 HB3          8.3080    -1.9330    -2.9080 HB3           1 Compound\\n      96 HG2         10.6030    -1.7670    -3.9790 HG2           1 Compound\\n      97 HG3          9.9340    -2.2890    -5.5220 HG3           1 Compound\\n      98 HD2          9.2330    -4.4800    -4.5500 HD2           1 Compound\\n      99 HD3          9.9610    -4.0150    -3.0010 HD3           1 Compound\\n     100 HE2         12.2030    -3.6000    -4.2930 HE2           1 Compound\\n     101 HE3         11.4190    -4.2510    -5.7410 HE3           1 Compound\\n     102 HZ1         10.8560    -6.2320    -4.1530 HZ1           1 Compound\\n     103 HZ2         12.3620    -6.1310    -4.7960 HZ2           1 Compound\\n     104 HZ3         12.1040    -5.5620    -3.2410 HZ3           1 Compound\\n     105 N            7.2940    -0.5970    -6.6480 N             1 Compound\\n     106 CA           7.3750    -0.4420    -8.0970 CA            1 Compound\\n     107 C            7.5950     1.0040    -8.4750 C             1 Compound\\n     108 O            8.4530     1.3440    -9.3020 O             1 Compound\\n     109 CB           6.0790    -0.9960    -8.7490 CB            1 Compound\\n     110 CG           6.0990    -0.9460   -10.2970 CG            1 Compound\\n     111 CD           4.8100    -1.4240   -10.9730 CD            1 Compound\\n     112 CE           4.9430    -1.2530   -12.4920 CE            1 Compound\\n     113 NZ           3.7810    -1.8690   -13.1580 NZ            1 Compound\\n     114 H            6.4800    -1.0160    -6.2220 H             1 Compound\\n     115 HA           8.2470    -1.0170    -8.4620 HA            1 Compound\\n     116 HB2          5.2000    -0.4370    -8.3650 HB2           1 Compound\\n     117 HB3          5.9150    -2.0420    -8.4220 HB3           1 Compound\\n     118 HG2          6.9620    -1.5270   -10.6770 HG2           1 Compound\\n     119 HG3          6.2660     0.0900   -10.6440 HG3           1 Compound\\n     120 HD2          3.9480    -0.8380   -10.5960 HD2           1 Compound\\n     121 HD3          4.6130    -2.4790   -10.7000 HD3           1 Compound\\n     122 HE2          5.8760    -1.7210   -12.8680 HE2           1 Compound\\n     123 HE3          5.0150    -0.1770   -12.7570 HE3           1 Compound\\n     124 HZ1          2.9270    -1.7210   -12.6060 HZ1           1 Compound\\n     125 HZ2          3.6060    -1.4410   -14.0730 HZ2           1 Compound\\n     126 HZ3          3.9960    -2.8510   -13.2540 HZ3           1 Compound\\n     127 N            6.8660     1.9130    -7.9210 N             1 Compound\\n     128 CA           7.0780     3.3110    -8.2860 CA            1 Compound\\n     129 C            8.5090     3.7250    -8.0360 C             1 Compound\\n     130 O            9.3500     2.9380    -7.5800 O             1 Compound\\n     131 CB           6.0930     4.2080    -7.4880 CB            1 Compound\\n     132 CG           6.1860     5.7090    -7.8610 CG            1 Compound\\n     133 CD           5.2750     6.6330    -7.0470 CD            1 Compound\\n     134 CE           5.5230     8.0870    -7.4690 CE            1 Compound\\n     135 NZ           4.5320     8.9620    -6.8180 NZ            1 Compound\\n     136 H            6.1600     1.6610    -7.2440 H             1 Compound\\n     137 HA           6.8840     3.4220    -9.3690 HA            1 Compound\\n     138 HB2          6.2690     4.0790    -6.4000 HB2           1 Compound\\n     139 HB3          5.0540     3.8580    -7.6510 HB3           1 Compound\\n     140 HG2          5.9840     5.8360    -8.9420 HG2           1 Compound\\n     141 HG3          7.2180     6.0760    -7.7090 HG3           1 Compound\\n     142 HD2          5.4830     6.5070    -5.9650 HD2           1 Compound\\n     143 HD3          4.2170     6.3420    -7.1970 HD3           1 Compound\\n     144 HE2          5.4520     8.2020    -8.5710 HE2           1 Compound\\n     145 HE3          6.5530     8.4000    -7.1980 HE3           1 Compound\\n     146 HZ1          4.3330     8.6350    -5.8650 HZ1           1 Compound\\n     147 HZ2          4.8850     9.9190    -6.7230 HZ2           1 Compound\\n     148 HZ3          3.7060     8.9380    -7.3990 HZ3           1 Compound\\n@<TRIPOS>BOND\\n       1        2        1 1\\n       2       10        1 1\\n       3        3        2 1\\n       4        5        2 1\\n       5       11        2 1\\n       6        4        3 1\\n       7       16        3 1\\n       8        6        5 1\\n       9       12        5 1\\n      10       13        5 1\\n      11        7        6 1\\n      12       14        6 1\\n      13       15        6 1\\n      14        8        7 1\\n      15        9        7 1\\n      16       17       16 1\\n      17       25       16 1\\n      18       18       17 1\\n      19       20       17 1\\n      20       26       17 1\\n      21       19       18 1\\n      22       31       18 1\\n      23       21       20 1\\n      24       27       20 1\\n      25       28       20 1\\n      26       22       21 1\\n      27       29       21 1\\n      28       30       21 1\\n      29       23       22 1\\n      30       24       22 1\\n      31       32       31 1\\n      32       40       31 1\\n      33       33       32 1\\n      34       35       32 1\\n      35       41       32 1\\n      36       34       33 1\\n      37       46       33 1\\n      38       36       35 1\\n      39       42       35 1\\n      40       43       35 1\\n      41       37       36 1\\n      42       44       36 1\\n      43       45       36 1\\n      44       38       37 1\\n      45       39       37 1\\n      46       47       46 1\\n      47       55       46 1\\n      48       48       47 1\\n      49       50       47 1\\n      50       56       47 1\\n      51       49       48 1\\n      52       61       48 1\\n      53       51       50 1\\n      54       57       50 1\\n      55       58       50 1\\n      56       52       51 1\\n      57       59       51 1\\n      58       60       51 1\\n      59       53       52 1\\n      60       54       52 1\\n      61       62       61 1\\n      62       70       61 1\\n      63       63       62 1\\n      64       65       62 1\\n      65       71       62 1\\n      66       64       63 1\\n      67       83       63 1\\n      68       66       65 1\\n      69       72       65 1\\n      70       73       65 1\\n      71       67       66 1\\n      72       74       66 1\\n      73       75       66 1\\n      74       68       67 1\\n      75       76       67 1\\n      76       77       67 1\\n      77       78       68 1\\n      78       79       68 1\\n      79       69       68 1\\n      80       80       69 1\\n      81       81       69 1\\n      82       82       69 1\\n      83       84       83 1\\n      84       92       83 1\\n      85       85       84 1\\n      86       87       84 1\\n      87       93       84 1\\n      88       86       85 1\\n      89      105       85 1\\n      90       88       87 1\\n      91       94       87 1\\n      92       95       87 1\\n      93       89       88 1\\n      94       96       88 1\\n      95       97       88 1\\n      96       90       89 1\\n      97       98       89 1\\n      98       99       89 1\\n      99      100       90 1\\n     100      101       90 1\\n     101       91       90 1\\n     102      102       91 1\\n     103      103       91 1\\n     104      104       91 1\\n     105      106      105 1\\n     106      114      105 1\\n     107      107      106 1\\n     108      109      106 1\\n     109      115      106 1\\n     110      108      107 1\\n     111      127      107 1\\n     112      110      109 1\\n     113      116      109 1\\n     114      117      109 1\\n     115      111      110 1\\n     116      118      110 1\\n     117      119      110 1\\n     118      112      111 1\\n     119      120      111 1\\n     120      121      111 1\\n     121      122      112 1\\n     122      123      112 1\\n     123      113      112 1\\n     124      124      113 1\\n     125      125      113 1\\n     126      126      113 1\\n     127      128      127 1\\n     128      136      127 1\\n     129      129      128 1\\n     130      131      128 1\\n     131      137      128 1\\n     132      130      129 1\\n     133      132      131 1\\n     134      138      131 1\\n     135      139      131 1\\n     136      133      132 1\\n     137      140      132 1\\n     138      141      132 1\\n     139      134      133 1\\n     140      142      133 1\\n     141      143      133 1\\n     142      144      134 1\\n     143      145      134 1\\n     144      135      134 1\\n     145      146      135 1\\n     146      147      135 1\\n     147      148      135 1\\n@<TRIPOS>SUBSTRUCTURE\\n       1 Compound        1 RESIDUE    0 **** ROOT      0\\n\",\"mol2\");\n",
       "\tviewer_16867816495999894.setStyle({\"stick\": {\"radius\": 0.2, \"color\": \"grey\"}, \"sphere\": {\"scale\": 0.3, \"colorscheme\": {}}});\n",
       "\tviewer_16867816495999894.zoomTo();\n",
       "\tviewer_16867816495999894.setStyle({\"model\": -1, \"serial\": 1},{\"stick\": {\"radius\": 0.2, \"color\": \"grey\"}, \"sphere\": {\"scale\": 0.6, \"color\": \"black\"}});\n",
       "\tviewer_16867816495999894.setStyle({\"model\": -1, \"serial\": 129},{\"stick\": {\"radius\": 0.2, \"color\": \"grey\"}, \"sphere\": {\"scale\": 0.6, \"color\": \"black\"}});\n",
       "viewer_16867816495999894.render();\n",
       "});\n",
       "</script>"
      ]
     },
     "metadata": {},
     "output_type": "display_data"
    },
    {
     "data": {
      "text/plain": [
       "<py3Dmol.view at 0x7f97e8053820>"
      ]
     },
     "execution_count": 3,
     "metadata": {},
     "output_type": "execute_result"
    }
   ],
   "source": [
    "# Use mbuild to visualize componenets\n",
    "peptide = mb.load(\"short_peptide.pdb\")\n",
    "peptide\n",
    "view = peptide.visualize(show_ports=True)\n",
    "style = {\n",
    "                \"stick\": {\"radius\": 0.2, \"color\": \"grey\"},\n",
    "                \"sphere\": {\"scale\": 0.6, \"color\" : \"black\"},\n",
    "    }\n",
    "view.setStyle({'model': -1, 'serial':1},style)\n",
    "view.setStyle({'model': -1, 'serial':129},style)"
   ]
  },
  {
   "cell_type": "code",
   "execution_count": 4,
   "id": "b45b3466",
   "metadata": {},
   "outputs": [
    {
     "data": {
      "application/3dmoljs_load.v0": "<div id=\"3dmolviewer_16867816496999502\"  style=\"position: relative; width: 640px; height: 480px\">\n        <p id=\"3dmolwarning_16867816496999502\" style=\"background-color:#ffcccc;color:black\">You appear to be running in JupyterLab (or JavaScript failed to load for some other reason).  You need to install the 3dmol extension: <br>\n        <tt>jupyter labextension install jupyterlab_3dmol</tt></p>\n        </div>\n<script>\n\nvar loadScriptAsync = function(uri){\n  return new Promise((resolve, reject) => {\n    //this is to ignore the existence of requirejs amd\n    var savedexports, savedmodule;\n    if (typeof exports !== 'undefined') savedexports = exports;\n    else exports = {}\n    if (typeof module !== 'undefined') savedmodule = module;\n    else module = {}\n\n    var tag = document.createElement('script');\n    tag.src = uri;\n    tag.async = true;\n    tag.onload = () => {\n        exports = savedexports;\n        module = savedmodule;\n        resolve();\n    };\n  var firstScriptTag = document.getElementsByTagName('script')[0];\n  firstScriptTag.parentNode.insertBefore(tag, firstScriptTag);\n});\n};\n\nif(typeof $3Dmolpromise === 'undefined') {\n$3Dmolpromise = null;\n  $3Dmolpromise = loadScriptAsync('https://cdnjs.cloudflare.com/ajax/libs/3Dmol/2.0.1/3Dmol-min.js');\n}\n\nvar viewer_16867816496999502 = null;\nvar warn = document.getElementById(\"3dmolwarning_16867816496999502\");\nif(warn) {\n    warn.parentNode.removeChild(warn);\n}\n$3Dmolpromise.then(function() {\nviewer_16867816496999502 = $3Dmol.createViewer(document.getElementById(\"3dmolviewer_16867816496999502\"),{backgroundColor:\"white\"});\nviewer_16867816496999502.zoomTo();\n\tviewer_16867816496999502.addModel(\"@<TRIPOS>MOLECULE\\nCompound\\n13 12 1 0 1\\nSMALL\\nNO_CHARGES\\n@<TRIPOS>CRYSIN\\n    8.6932     9.3829     8.7552    90.0000    90.0000    90.0000  1  1\\n@<TRIPOS>ATOM\\n       1 O            1.5486    -0.3419    -1.7372 O             1 Compound\\n       2 C            1.3743    -0.0373    -0.5269 C             1 Compound\\n       3 O            1.7813     1.2075    -0.0572 O             1 Compound\\n       4 C            0.6910    -0.9977     0.3979 C             1 Compound\\n       5 C           -0.8341    -0.9044     0.2819 C             1 Compound\\n       6 C           -1.3461     0.4110     0.7839 C             1 Compound\\n       7 O           -1.5301     0.5875     2.0180 O             1 Compound\\n       8 O           -1.5813     1.4507    -0.1102 O             1 Compound\\n       9 H            1.0098    -2.0319     0.1444 H             1 Compound\\n      10 H            1.0062    -0.7980     1.4453 H             1 Compound\\n      11 H           -1.2923    -1.7220     0.8794 H             1 Compound\\n      12 H           -1.1452    -1.0487    -0.7758 H             1 Compound\\n      13 H           -1.9119     2.3511     0.2155 H             1 Compound\\n@<TRIPOS>BOND\\n       1        2        1 1\\n       2        3        2 1\\n       3        4        2 1\\n       4        5        4 1\\n       5        9        4 1\\n       6       10        4 1\\n       7        6        5 1\\n       8       11        5 1\\n       9       12        5 1\\n      10        7        6 1\\n      11        8        6 1\\n      12       13        8 1\\n@<TRIPOS>SUBSTRUCTURE\\n       1 Compound        1 RESIDUE    0 **** ROOT      0\\n\",\"mol2\");\n\tviewer_16867816496999502.setStyle({\"stick\": {\"radius\": 0.2, \"color\": \"grey\"}, \"sphere\": {\"scale\": 0.3, \"colorscheme\": {}}});\n\tviewer_16867816496999502.zoomTo();\n\tviewer_16867816496999502.setStyle({\"model\": -1, \"serial\": 3},{\"stick\": {\"radius\": 0.2, \"color\": \"grey\"}, \"sphere\": {\"scale\": 0.3, \"color\": \"black\"}});\n\tviewer_16867816496999502.setStyle({\"model\": -1, \"serial\": 3},{\"stick\": {\"radius\": 0.2, \"color\": \"grey\"}, \"sphere\": {\"scale\": 0.3, \"color\": \"black\"}});\nviewer_16867816496999502.render();\n});\n</script>",
      "text/html": [
       "<div id=\"3dmolviewer_16867816496999502\"  style=\"position: relative; width: 640px; height: 480px\">\n",
       "        <p id=\"3dmolwarning_16867816496999502\" style=\"background-color:#ffcccc;color:black\">You appear to be running in JupyterLab (or JavaScript failed to load for some other reason).  You need to install the 3dmol extension: <br>\n",
       "        <tt>jupyter labextension install jupyterlab_3dmol</tt></p>\n",
       "        </div>\n",
       "<script>\n",
       "\n",
       "var loadScriptAsync = function(uri){\n",
       "  return new Promise((resolve, reject) => {\n",
       "    //this is to ignore the existence of requirejs amd\n",
       "    var savedexports, savedmodule;\n",
       "    if (typeof exports !== 'undefined') savedexports = exports;\n",
       "    else exports = {}\n",
       "    if (typeof module !== 'undefined') savedmodule = module;\n",
       "    else module = {}\n",
       "\n",
       "    var tag = document.createElement('script');\n",
       "    tag.src = uri;\n",
       "    tag.async = true;\n",
       "    tag.onload = () => {\n",
       "        exports = savedexports;\n",
       "        module = savedmodule;\n",
       "        resolve();\n",
       "    };\n",
       "  var firstScriptTag = document.getElementsByTagName('script')[0];\n",
       "  firstScriptTag.parentNode.insertBefore(tag, firstScriptTag);\n",
       "});\n",
       "};\n",
       "\n",
       "if(typeof $3Dmolpromise === 'undefined') {\n",
       "$3Dmolpromise = null;\n",
       "  $3Dmolpromise = loadScriptAsync('https://cdnjs.cloudflare.com/ajax/libs/3Dmol/2.0.1/3Dmol-min.js');\n",
       "}\n",
       "\n",
       "var viewer_16867816496999502 = null;\n",
       "var warn = document.getElementById(\"3dmolwarning_16867816496999502\");\n",
       "if(warn) {\n",
       "    warn.parentNode.removeChild(warn);\n",
       "}\n",
       "$3Dmolpromise.then(function() {\n",
       "viewer_16867816496999502 = $3Dmol.createViewer(document.getElementById(\"3dmolviewer_16867816496999502\"),{backgroundColor:\"white\"});\n",
       "viewer_16867816496999502.zoomTo();\n",
       "\tviewer_16867816496999502.addModel(\"@<TRIPOS>MOLECULE\\nCompound\\n13 12 1 0 1\\nSMALL\\nNO_CHARGES\\n@<TRIPOS>CRYSIN\\n    8.6932     9.3829     8.7552    90.0000    90.0000    90.0000  1  1\\n@<TRIPOS>ATOM\\n       1 O            1.5486    -0.3419    -1.7372 O             1 Compound\\n       2 C            1.3743    -0.0373    -0.5269 C             1 Compound\\n       3 O            1.7813     1.2075    -0.0572 O             1 Compound\\n       4 C            0.6910    -0.9977     0.3979 C             1 Compound\\n       5 C           -0.8341    -0.9044     0.2819 C             1 Compound\\n       6 C           -1.3461     0.4110     0.7839 C             1 Compound\\n       7 O           -1.5301     0.5875     2.0180 O             1 Compound\\n       8 O           -1.5813     1.4507    -0.1102 O             1 Compound\\n       9 H            1.0098    -2.0319     0.1444 H             1 Compound\\n      10 H            1.0062    -0.7980     1.4453 H             1 Compound\\n      11 H           -1.2923    -1.7220     0.8794 H             1 Compound\\n      12 H           -1.1452    -1.0487    -0.7758 H             1 Compound\\n      13 H           -1.9119     2.3511     0.2155 H             1 Compound\\n@<TRIPOS>BOND\\n       1        2        1 1\\n       2        3        2 1\\n       3        4        2 1\\n       4        5        4 1\\n       5        9        4 1\\n       6       10        4 1\\n       7        6        5 1\\n       8       11        5 1\\n       9       12        5 1\\n      10        7        6 1\\n      11        8        6 1\\n      12       13        8 1\\n@<TRIPOS>SUBSTRUCTURE\\n       1 Compound        1 RESIDUE    0 **** ROOT      0\\n\",\"mol2\");\n",
       "\tviewer_16867816496999502.setStyle({\"stick\": {\"radius\": 0.2, \"color\": \"grey\"}, \"sphere\": {\"scale\": 0.3, \"colorscheme\": {}}});\n",
       "\tviewer_16867816496999502.zoomTo();\n",
       "\tviewer_16867816496999502.setStyle({\"model\": -1, \"serial\": 3},{\"stick\": {\"radius\": 0.2, \"color\": \"grey\"}, \"sphere\": {\"scale\": 0.3, \"color\": \"black\"}});\n",
       "\tviewer_16867816496999502.setStyle({\"model\": -1, \"serial\": 3},{\"stick\": {\"radius\": 0.2, \"color\": \"grey\"}, \"sphere\": {\"scale\": 0.3, \"color\": \"black\"}});\n",
       "viewer_16867816496999502.render();\n",
       "});\n",
       "</script>"
      ]
     },
     "metadata": {},
     "output_type": "display_data"
    },
    {
     "data": {
      "text/plain": [
       "<py3Dmol.view at 0x7f97e5af6b00>"
      ]
     },
     "execution_count": 4,
     "metadata": {},
     "output_type": "execute_result"
    }
   ],
   "source": [
    "succynl = mb.load(\"O=C(O)CCC(=O)O\", smiles=True)\n",
    "succynl.save(\"succ.pdb\", overwrite=True)\n",
    "succynl.remove(succynl[8])\n",
    "view = succynl.visualize()\n",
    "\n",
    "style = {\n",
    "                \"stick\": {\"radius\": 0.2, \"color\": \"grey\"},\n",
    "                \"sphere\": {\"scale\": 0.3, \"color\" : \"black\"},\n",
    "    }\n",
    "view.setStyle({'model': -1, 'serial':3},style)\n",
    "#succynl = mb.load(\"O=C([O-])CCC(=O)O\", smiles=True)\n",
    "#view = succynl.visualize()\n",
    "view.setStyle({'model': -1, 'serial':3},style)"
   ]
  },
  {
   "cell_type": "code",
   "execution_count": 5,
   "id": "3ed09a97",
   "metadata": {},
   "outputs": [
    {
     "data": {
      "application/3dmoljs_load.v0": "<div id=\"3dmolviewer_16867816497897284\"  style=\"position: relative; width: 640px; height: 480px\">\n        <p id=\"3dmolwarning_16867816497897284\" style=\"background-color:#ffcccc;color:black\">You appear to be running in JupyterLab (or JavaScript failed to load for some other reason).  You need to install the 3dmol extension: <br>\n        <tt>jupyter labextension install jupyterlab_3dmol</tt></p>\n        </div>\n<script>\n\nvar loadScriptAsync = function(uri){\n  return new Promise((resolve, reject) => {\n    //this is to ignore the existence of requirejs amd\n    var savedexports, savedmodule;\n    if (typeof exports !== 'undefined') savedexports = exports;\n    else exports = {}\n    if (typeof module !== 'undefined') savedmodule = module;\n    else module = {}\n\n    var tag = document.createElement('script');\n    tag.src = uri;\n    tag.async = true;\n    tag.onload = () => {\n        exports = savedexports;\n        module = savedmodule;\n        resolve();\n    };\n  var firstScriptTag = document.getElementsByTagName('script')[0];\n  firstScriptTag.parentNode.insertBefore(tag, firstScriptTag);\n});\n};\n\nif(typeof $3Dmolpromise === 'undefined') {\n$3Dmolpromise = null;\n  $3Dmolpromise = loadScriptAsync('https://cdnjs.cloudflare.com/ajax/libs/3Dmol/2.0.1/3Dmol-min.js');\n}\n\nvar viewer_16867816497897284 = null;\nvar warn = document.getElementById(\"3dmolwarning_16867816497897284\");\nif(warn) {\n    warn.parentNode.removeChild(warn);\n}\n$3Dmolpromise.then(function() {\nviewer_16867816497897284 = $3Dmol.createViewer(document.getElementById(\"3dmolviewer_16867816497897284\"),{backgroundColor:\"white\"});\nviewer_16867816497897284.zoomTo();\n\tviewer_16867816497897284.addModel(\"@<TRIPOS>MOLECULE\\nCompound\\n4 3 1 0 1\\nSMALL\\nNO_CHARGES\\n@<TRIPOS>CRYSIN\\n    6.5469     6.6616     5.4185    90.0000    90.0000    90.0000  1  1\\n@<TRIPOS>ATOM\\n       1 N           -0.0100     0.0043     0.2947 N             1 Compound\\n       2 H            0.9622    -0.1265    -0.0640 H             1 Compound\\n       3 H           -0.5847    -0.7697    -0.1070 H             1 Compound\\n       4 H           -0.3675     0.8919    -0.1237 H             1 Compound\\n@<TRIPOS>BOND\\n       1        2        1 1\\n       2        3        1 1\\n       3        4        1 1\\n@<TRIPOS>SUBSTRUCTURE\\n       1 Compound        1 RESIDUE    0 **** ROOT      0\\n\",\"mol2\");\n\tviewer_16867816497897284.setStyle({\"stick\": {\"radius\": 0.2, \"color\": \"grey\"}, \"sphere\": {\"scale\": 0.3, \"colorscheme\": {}}});\n\tviewer_16867816497897284.zoomTo();\n\tviewer_16867816497897284.setStyle({\"model\": -1, \"serial\": 2},{\"stick\": {\"radius\": 0.2, \"color\": \"grey\"}, \"sphere\": {\"scale\": 0.6, \"color\": \"black\"}});\nviewer_16867816497897284.render();\n});\n</script>",
      "text/html": [
       "<div id=\"3dmolviewer_16867816497897284\"  style=\"position: relative; width: 640px; height: 480px\">\n",
       "        <p id=\"3dmolwarning_16867816497897284\" style=\"background-color:#ffcccc;color:black\">You appear to be running in JupyterLab (or JavaScript failed to load for some other reason).  You need to install the 3dmol extension: <br>\n",
       "        <tt>jupyter labextension install jupyterlab_3dmol</tt></p>\n",
       "        </div>\n",
       "<script>\n",
       "\n",
       "var loadScriptAsync = function(uri){\n",
       "  return new Promise((resolve, reject) => {\n",
       "    //this is to ignore the existence of requirejs amd\n",
       "    var savedexports, savedmodule;\n",
       "    if (typeof exports !== 'undefined') savedexports = exports;\n",
       "    else exports = {}\n",
       "    if (typeof module !== 'undefined') savedmodule = module;\n",
       "    else module = {}\n",
       "\n",
       "    var tag = document.createElement('script');\n",
       "    tag.src = uri;\n",
       "    tag.async = true;\n",
       "    tag.onload = () => {\n",
       "        exports = savedexports;\n",
       "        module = savedmodule;\n",
       "        resolve();\n",
       "    };\n",
       "  var firstScriptTag = document.getElementsByTagName('script')[0];\n",
       "  firstScriptTag.parentNode.insertBefore(tag, firstScriptTag);\n",
       "});\n",
       "};\n",
       "\n",
       "if(typeof $3Dmolpromise === 'undefined') {\n",
       "$3Dmolpromise = null;\n",
       "  $3Dmolpromise = loadScriptAsync('https://cdnjs.cloudflare.com/ajax/libs/3Dmol/2.0.1/3Dmol-min.js');\n",
       "}\n",
       "\n",
       "var viewer_16867816497897284 = null;\n",
       "var warn = document.getElementById(\"3dmolwarning_16867816497897284\");\n",
       "if(warn) {\n",
       "    warn.parentNode.removeChild(warn);\n",
       "}\n",
       "$3Dmolpromise.then(function() {\n",
       "viewer_16867816497897284 = $3Dmol.createViewer(document.getElementById(\"3dmolviewer_16867816497897284\"),{backgroundColor:\"white\"});\n",
       "viewer_16867816497897284.zoomTo();\n",
       "\tviewer_16867816497897284.addModel(\"@<TRIPOS>MOLECULE\\nCompound\\n4 3 1 0 1\\nSMALL\\nNO_CHARGES\\n@<TRIPOS>CRYSIN\\n    6.5469     6.6616     5.4185    90.0000    90.0000    90.0000  1  1\\n@<TRIPOS>ATOM\\n       1 N           -0.0100     0.0043     0.2947 N             1 Compound\\n       2 H            0.9622    -0.1265    -0.0640 H             1 Compound\\n       3 H           -0.5847    -0.7697    -0.1070 H             1 Compound\\n       4 H           -0.3675     0.8919    -0.1237 H             1 Compound\\n@<TRIPOS>BOND\\n       1        2        1 1\\n       2        3        1 1\\n       3        4        1 1\\n@<TRIPOS>SUBSTRUCTURE\\n       1 Compound        1 RESIDUE    0 **** ROOT      0\\n\",\"mol2\");\n",
       "\tviewer_16867816497897284.setStyle({\"stick\": {\"radius\": 0.2, \"color\": \"grey\"}, \"sphere\": {\"scale\": 0.3, \"colorscheme\": {}}});\n",
       "\tviewer_16867816497897284.zoomTo();\n",
       "\tviewer_16867816497897284.setStyle({\"model\": -1, \"serial\": 2},{\"stick\": {\"radius\": 0.2, \"color\": \"grey\"}, \"sphere\": {\"scale\": 0.6, \"color\": \"black\"}});\n",
       "viewer_16867816497897284.render();\n",
       "});\n",
       "</script>"
      ]
     },
     "metadata": {},
     "output_type": "display_data"
    },
    {
     "data": {
      "text/plain": [
       "<py3Dmol.view at 0x7f97e5af71f0>"
      ]
     },
     "execution_count": 5,
     "metadata": {},
     "output_type": "execute_result"
    }
   ],
   "source": [
    "nh3 = mb.load(\"N\", smiles=True)\n",
    "nh3.save(\"nh3.pdb\", overwrite=True)\n",
    "view = nh3.visualize()\n",
    "style = {\n",
    "                \"stick\": {\"radius\": 0.2, \"color\": \"grey\"},\n",
    "                \"sphere\": {\"scale\": 0.6, \"color\" : \"black\"},\n",
    "    }\n",
    "view.setStyle({'model': -1, 'serial':2},style)"
   ]
  },
  {
   "cell_type": "code",
   "execution_count": 6,
   "id": "aca96519",
   "metadata": {},
   "outputs": [
    {
     "data": {
      "application/3dmoljs_load.v0": "<div id=\"3dmolviewer_16867816499268775\"  style=\"position: relative; width: 640px; height: 480px\">\n        <p id=\"3dmolwarning_16867816499268775\" style=\"background-color:#ffcccc;color:black\">You appear to be running in JupyterLab (or JavaScript failed to load for some other reason).  You need to install the 3dmol extension: <br>\n        <tt>jupyter labextension install jupyterlab_3dmol</tt></p>\n        </div>\n<script>\n\nvar loadScriptAsync = function(uri){\n  return new Promise((resolve, reject) => {\n    //this is to ignore the existence of requirejs amd\n    var savedexports, savedmodule;\n    if (typeof exports !== 'undefined') savedexports = exports;\n    else exports = {}\n    if (typeof module !== 'undefined') savedmodule = module;\n    else module = {}\n\n    var tag = document.createElement('script');\n    tag.src = uri;\n    tag.async = true;\n    tag.onload = () => {\n        exports = savedexports;\n        module = savedmodule;\n        resolve();\n    };\n  var firstScriptTag = document.getElementsByTagName('script')[0];\n  firstScriptTag.parentNode.insertBefore(tag, firstScriptTag);\n});\n};\n\nif(typeof $3Dmolpromise === 'undefined') {\n$3Dmolpromise = null;\n  $3Dmolpromise = loadScriptAsync('https://cdnjs.cloudflare.com/ajax/libs/3Dmol/2.0.1/3Dmol-min.js');\n}\n\nvar viewer_16867816499268775 = null;\nvar warn = document.getElementById(\"3dmolwarning_16867816499268775\");\nif(warn) {\n    warn.parentNode.removeChild(warn);\n}\n$3Dmolpromise.then(function() {\nviewer_16867816499268775 = $3Dmol.createViewer(document.getElementById(\"3dmolviewer_16867816499268775\"),{backgroundColor:\"white\"});\nviewer_16867816499268775.zoomTo();\n\tviewer_16867816499268775.addModel(\"@<TRIPOS>MOLECULE\\nCompound\\n3 2 1 0 1\\nSMALL\\nNO_CHARGES\\n@<TRIPOS>CRYSIN\\n    6.5659     5.6181     6.0000    90.0000    90.0000    90.0000  1  1\\n@<TRIPOS>ATOM\\n       1 O            0.0062     0.4041     0.0000 O             1 Compound\\n       2 H           -0.7860    -0.1900     0.0000 H             1 Compound\\n       3 H            0.7799    -0.2140     0.0000 H             1 Compound\\n@<TRIPOS>BOND\\n       1        2        1 1\\n       2        3        1 1\\n@<TRIPOS>SUBSTRUCTURE\\n       1 Compound        1 RESIDUE    0 **** ROOT      0\\n\",\"mol2\");\n\tviewer_16867816499268775.setStyle({\"stick\": {\"radius\": 0.2, \"color\": \"grey\"}, \"sphere\": {\"scale\": 0.3, \"colorscheme\": {}}});\n\tviewer_16867816499268775.zoomTo();\nviewer_16867816499268775.render();\n});\n</script>",
      "text/html": [
       "<div id=\"3dmolviewer_16867816499268775\"  style=\"position: relative; width: 640px; height: 480px\">\n",
       "        <p id=\"3dmolwarning_16867816499268775\" style=\"background-color:#ffcccc;color:black\">You appear to be running in JupyterLab (or JavaScript failed to load for some other reason).  You need to install the 3dmol extension: <br>\n",
       "        <tt>jupyter labextension install jupyterlab_3dmol</tt></p>\n",
       "        </div>\n",
       "<script>\n",
       "\n",
       "var loadScriptAsync = function(uri){\n",
       "  return new Promise((resolve, reject) => {\n",
       "    //this is to ignore the existence of requirejs amd\n",
       "    var savedexports, savedmodule;\n",
       "    if (typeof exports !== 'undefined') savedexports = exports;\n",
       "    else exports = {}\n",
       "    if (typeof module !== 'undefined') savedmodule = module;\n",
       "    else module = {}\n",
       "\n",
       "    var tag = document.createElement('script');\n",
       "    tag.src = uri;\n",
       "    tag.async = true;\n",
       "    tag.onload = () => {\n",
       "        exports = savedexports;\n",
       "        module = savedmodule;\n",
       "        resolve();\n",
       "    };\n",
       "  var firstScriptTag = document.getElementsByTagName('script')[0];\n",
       "  firstScriptTag.parentNode.insertBefore(tag, firstScriptTag);\n",
       "});\n",
       "};\n",
       "\n",
       "if(typeof $3Dmolpromise === 'undefined') {\n",
       "$3Dmolpromise = null;\n",
       "  $3Dmolpromise = loadScriptAsync('https://cdnjs.cloudflare.com/ajax/libs/3Dmol/2.0.1/3Dmol-min.js');\n",
       "}\n",
       "\n",
       "var viewer_16867816499268775 = null;\n",
       "var warn = document.getElementById(\"3dmolwarning_16867816499268775\");\n",
       "if(warn) {\n",
       "    warn.parentNode.removeChild(warn);\n",
       "}\n",
       "$3Dmolpromise.then(function() {\n",
       "viewer_16867816499268775 = $3Dmol.createViewer(document.getElementById(\"3dmolviewer_16867816499268775\"),{backgroundColor:\"white\"});\n",
       "viewer_16867816499268775.zoomTo();\n",
       "\tviewer_16867816499268775.addModel(\"@<TRIPOS>MOLECULE\\nCompound\\n3 2 1 0 1\\nSMALL\\nNO_CHARGES\\n@<TRIPOS>CRYSIN\\n    6.5659     5.6181     6.0000    90.0000    90.0000    90.0000  1  1\\n@<TRIPOS>ATOM\\n       1 O            0.0062     0.4041     0.0000 O             1 Compound\\n       2 H           -0.7860    -0.1900     0.0000 H             1 Compound\\n       3 H            0.7799    -0.2140     0.0000 H             1 Compound\\n@<TRIPOS>BOND\\n       1        2        1 1\\n       2        3        1 1\\n@<TRIPOS>SUBSTRUCTURE\\n       1 Compound        1 RESIDUE    0 **** ROOT      0\\n\",\"mol2\");\n",
       "\tviewer_16867816499268775.setStyle({\"stick\": {\"radius\": 0.2, \"color\": \"grey\"}, \"sphere\": {\"scale\": 0.3, \"colorscheme\": {}}});\n",
       "\tviewer_16867816499268775.zoomTo();\n",
       "viewer_16867816499268775.render();\n",
       "});\n",
       "</script>"
      ]
     },
     "metadata": {},
     "output_type": "display_data"
    },
    {
     "data": {
      "text/plain": [
       "<py3Dmol.view at 0x7f97e5af78e0>"
      ]
     },
     "execution_count": 6,
     "metadata": {},
     "output_type": "execute_result"
    }
   ],
   "source": [
    "h2o = mb.load(\"O\", smiles=True)\n",
    "h2o.save(\"h2o.pdb\", overwrite=True)\n",
    "h2o.visualize()"
   ]
  },
  {
   "cell_type": "markdown",
   "id": "849274d7",
   "metadata": {},
   "source": [
    "Now that we have our peptide and cap residues, we will use `mbuild` Polymer object to combine them."
   ]
  },
  {
   "cell_type": "code",
   "execution_count": 7,
   "id": "9d1c4553",
   "metadata": {},
   "outputs": [],
   "source": [
    "chain = Polymer()\n",
    "\n",
    "chain.add_monomer(compound = peptide, indices=[0, 128], separation=0.15, replace = False)\n",
    "chain.add_end_groups(compound = succynl,\n",
    "                     index = 2,\n",
    "                     separation = 0.15,\n",
    "                     label = \"head\",\n",
    "                     duplicate = False,\n",
    "                     orientation=[0.5,-0.5,0.5]\n",
    "                    )\n",
    "\n",
    "chain.add_end_groups(compound = nh3,\n",
    "                     index = 2,\n",
    "                     separation = 0.15,\n",
    "                     label = \"tail\",\n",
    "                     duplicate = False\n",
    "                    )\n",
    "\n",
    "chain.build(n=1)"
   ]
  },
  {
   "cell_type": "code",
   "execution_count": 8,
   "id": "ad15b347",
   "metadata": {},
   "outputs": [],
   "source": [
    "peptide = chain.children[0]"
   ]
  },
  {
   "cell_type": "markdown",
   "id": "05e2fd77",
   "metadata": {},
   "source": [
    "We have to do some reassignment of bonds. I think the bonds list altered here, so mbuild thikns the aromatic hydrogens are not attached to the ring"
   ]
  },
  {
   "cell_type": "code",
   "execution_count": 9,
   "id": "abb3d0fb",
   "metadata": {},
   "outputs": [],
   "source": [
    "# tyr = peptide.children[0]\n",
    "# for bond in tyr.bonds():\n",
    "#     print(bond[0].name, bond[1].name)"
   ]
  },
  {
   "cell_type": "code",
   "execution_count": 10,
   "id": "ec011f34",
   "metadata": {
    "scrolled": false
   },
   "outputs": [],
   "source": [
    "# for i, atom in enumerate(tyr.children):\n",
    "#     if atom.name[0].isdigit():\n",
    "#         print(\"Switching\", atom.name, \"to\", atom.name[1:] + atom.name[0])\n",
    "#         atom.name = atom.name[1:] + atom.name[0]\n",
    "#     print(atom.name)\n",
    "        "
   ]
  },
  {
   "cell_type": "code",
   "execution_count": 11,
   "id": "2b55cc5e",
   "metadata": {},
   "outputs": [],
   "source": [
    "# manually adding lost tyrosine bonds\n",
    "# tyr.add_bond([tyr[6], tyr[16]])\n",
    "# tyr.add_bond([tyr[7], tyr[17]])\n",
    "# tyr.add_bond([tyr[8], tyr[18]])\n",
    "# tyr.add_bond([tyr[9], tyr[19]])"
   ]
  },
  {
   "cell_type": "code",
   "execution_count": 12,
   "id": "a2e687d3",
   "metadata": {},
   "outputs": [],
   "source": [
    "# for b in chain.children[1].bonds():\n",
    "#     print(b[0].name, b[1].name)"
   ]
  },
  {
   "cell_type": "code",
   "execution_count": 13,
   "id": "6b92824a",
   "metadata": {},
   "outputs": [
    {
     "data": {
      "application/3dmoljs_load.v0": "<div id=\"3dmolviewer_16867816548256395\"  style=\"position: relative; width: 640px; height: 480px\">\n        <p id=\"3dmolwarning_16867816548256395\" style=\"background-color:#ffcccc;color:black\">You appear to be running in JupyterLab (or JavaScript failed to load for some other reason).  You need to install the 3dmol extension: <br>\n        <tt>jupyter labextension install jupyterlab_3dmol</tt></p>\n        </div>\n<script>\n\nvar loadScriptAsync = function(uri){\n  return new Promise((resolve, reject) => {\n    //this is to ignore the existence of requirejs amd\n    var savedexports, savedmodule;\n    if (typeof exports !== 'undefined') savedexports = exports;\n    else exports = {}\n    if (typeof module !== 'undefined') savedmodule = module;\n    else module = {}\n\n    var tag = document.createElement('script');\n    tag.src = uri;\n    tag.async = true;\n    tag.onload = () => {\n        exports = savedexports;\n        module = savedmodule;\n        resolve();\n    };\n  var firstScriptTag = document.getElementsByTagName('script')[0];\n  firstScriptTag.parentNode.insertBefore(tag, firstScriptTag);\n});\n};\n\nif(typeof $3Dmolpromise === 'undefined') {\n$3Dmolpromise = null;\n  $3Dmolpromise = loadScriptAsync('https://cdnjs.cloudflare.com/ajax/libs/3Dmol/2.0.1/3Dmol-min.js');\n}\n\nvar viewer_16867816548256395 = null;\nvar warn = document.getElementById(\"3dmolwarning_16867816548256395\");\nif(warn) {\n    warn.parentNode.removeChild(warn);\n}\n$3Dmolpromise.then(function() {\nviewer_16867816548256395 = $3Dmol.createViewer(document.getElementById(\"3dmolviewer_16867816548256395\"),{backgroundColor:\"white\"});\nviewer_16867816548256395.zoomTo();\n\tviewer_16867816548256395.addModel(\"@<TRIPOS>MOLECULE\\nPolymer\\n163 162 1 0 1\\nSMALL\\nNO_CHARGES\\n@<TRIPOS>CRYSIN\\n   22.4380    21.8782    22.0249    90.0000    90.0000    90.0000  1  1\\n@<TRIPOS>ATOM\\n       1 N           -0.3340    -1.6256    -1.1121 N             1 Polymer \\n       2 CA           0.4897    -0.4645    -0.7258 CA            1 Polymer \\n       3 C            1.9615    -0.7951    -0.7319 C             1 Polymer \\n       4 O            2.6890    -0.0968    -1.4102 O             1 Polymer \\n       5 CB           0.0673     0.1208     0.6435 CB            1 Polymer \\n       6 CG           0.6886     1.5089     0.8731 CG            1 Polymer \\n       7 CD           0.1981     2.1691     2.1335 CD            1 Polymer \\n       8 OE1         -0.5872     1.6071     2.8818 OE1           1 Polymer \\n       9 OE2          0.6169     3.4136     2.4290 OE2           1 Polymer \\n      10 H           -0.3420    -2.3151    -0.3249 H             1 Polymer \\n      11 HA           0.3326     0.3360    -1.4907 HA            1 Polymer \\n      12 HB2          0.3212    -0.5818     1.4671 HB2           1 Polymer \\n      13 HB3         -1.0262     0.2725     0.6472 HB3           1 Polymer \\n      14 HG2          0.4040     2.1675     0.0223 HG2           1 Polymer \\n      15 HG3          1.7954     1.4339     0.9084 HG3           1 Polymer \\n      16 N            2.4976    -1.8074     0.0067 N             1 Polymer \\n      17 CA           3.9339    -2.0802    -0.0092 CA            1 Polymer \\n      18 C            4.3964    -2.3983    -1.4223 C             1 Polymer \\n      19 O            5.3167    -1.7548    -1.8988 O             1 Polymer \\n      20 CB           4.3009    -3.2145     0.9688 CB            1 Polymer \\n      21 CG           5.8315    -3.3744     1.0847 CG            1 Polymer \\n      22 CD           6.2541    -4.4100     2.0918 CD            1 Polymer \\n      23 OE1          5.4304    -5.0518     2.7239 OE1           1 Polymer \\n      24 OE2          7.5656    -4.6277     2.3024 OE2           1 Polymer \\n      25 H            1.8761    -2.3870     0.5912 H             1 Polymer \\n      26 HA           4.4630    -1.1676     0.3510 HA            1 Polymer \\n      27 HB2          3.8340    -4.1714     0.6479 HB2           1 Polymer \\n      28 HB3          3.9054    -2.9463     1.9737 HB3           1 Polymer \\n      29 HG2          6.2742    -2.4023     1.3965 HG2           1 Polymer \\n      30 HG3          6.2591    -3.6561     0.0994 HG3           1 Polymer \\n      31 N            3.7747    -3.3600    -2.1609 N             1 Polymer \\n      32 CA           4.1580    -3.6964    -3.5316 CA            1 Polymer \\n      33 C            4.0809    -2.4859    -4.4525 C             1 Polymer \\n      34 O            5.0568    -2.2134    -5.1322 O             1 Polymer \\n      35 CB           3.2613    -4.8349    -4.0691 CB            1 Polymer \\n      36 CG           3.6973    -5.3030    -5.4728 CG            1 Polymer \\n      37 CD           2.8696    -6.4440    -6.0025 CD            1 Polymer \\n      38 OE1          1.9500    -6.9176    -5.3521 OE1           1 Polymer \\n      39 OE2          3.1497    -6.9516    -7.2174 OE2           1 Polymer \\n      40 H            2.9868    -3.8677    -1.7290 H             1 Polymer \\n      41 HA           5.2032    -4.0777    -3.5234 HA            1 Polymer \\n      42 HB2          2.2012    -4.4997    -4.0974 HB2           1 Polymer \\n      43 HB3          3.3398    -5.6994    -3.3729 HB3           1 Polymer \\n      44 HG2          4.7578    -5.6337    -5.4332 HG2           1 Polymer \\n      45 HG3          3.6145    -4.4613    -6.1929 HG3           1 Polymer \\n      46 N            2.9554    -1.7201    -4.5309 N             1 Polymer \\n      47 CA           2.8037    -0.5891    -5.4498 CA            1 Polymer \\n      48 C            3.9255     0.4301    -5.2896 C             1 Polymer \\n      49 O            4.5610     0.7619    -6.2731 O             1 Polymer \\n      50 CB           1.4263     0.0778    -5.2354 CB            1 Polymer \\n      51 CG           1.1657     1.2212    -6.2359 CG            1 Polymer \\n      52 CD          -0.1872     1.8603    -6.0653 CD            1 Polymer \\n      53 OE1         -0.9663     1.4788    -5.2046 OE1           1 Polymer \\n      54 OE2         -0.5438     2.8729    -6.8772 OE2           1 Polymer \\n      55 H            2.1655    -1.9642    -3.9109 H             1 Polymer \\n      56 HA           2.8304    -0.9767    -6.4936 HA            1 Polymer \\n      57 HB2          1.3558     0.4695    -4.1962 HB2           1 Polymer \\n      58 HB3          0.6367    -0.6949    -5.3725 HB3           1 Polymer \\n      59 HG2          1.2351     0.8229    -7.2713 HG2           1 Polymer \\n      60 HG3          1.9328     2.0141    -6.1076 HG3           1 Polymer \\n      61 N            4.2260     0.9485    -4.0725 N             1 Polymer \\n      62 CA           5.2753     1.9277    -3.7960 CA            1 Polymer \\n      63 C            6.6259     1.4711    -4.3183 C             1 Polymer \\n      64 O            7.2757     2.2369    -5.0168 O             1 Polymer \\n      65 CB           5.3390     2.1697    -2.2670 CB            1 Polymer \\n      66 CG           6.3904     3.2119    -1.8636 CG            1 Polymer \\n      67 CD           6.3829     3.4359    -0.3458 CD            1 Polymer \\n      68 CE           7.4618     4.4467     0.0640 CE            1 Polymer \\n      69 NZ           7.4502     4.6683     1.5094 NZ            1 Polymer \\n      70 H            3.6756     0.6027    -3.2895 H             1 Polymer \\n      71 HA           5.0135     2.8934    -4.2843 HA            1 Polymer \\n      72 HB2          5.5603     1.2098    -1.7490 HB2           1 Polymer \\n      73 HB3          4.3390     2.5234    -1.9275 HB3           1 Polymer \\n      74 HG2          6.1765     4.1734    -2.3792 HG2           1 Polymer \\n      75 HG3          7.3995     2.8567    -2.1677 HG3           1 Polymer \\n      76 HD2          6.5759     2.4703     0.1721 HD2           1 Polymer \\n      77 HD3          5.3840     3.8139    -0.0343 HD3           1 Polymer \\n      78 HE2          7.2840     5.4139    -0.4565 HE2           1 Polymer \\n      79 HE3          8.4614     4.0622    -0.2393 HE3           1 Polymer \\n      80 HZ1          7.6305     3.7696     2.0134 HZ1           1 Polymer \\n      81 HZ2          8.2026     5.3513     1.7561 HZ2           1 Polymer \\n      82 HZ3          6.5267     5.0602     1.8049 HZ3           1 Polymer \\n      83 N            7.0990     0.2247    -4.0449 N             1 Polymer \\n      84 CA           8.3809    -0.2853    -4.5266 CA            1 Polymer \\n      85 C            8.5014    -0.1223    -6.0330 C             1 Polymer \\n      86 O            9.4905     0.4348    -6.4880 O             1 Polymer \\n      87 CB           8.5459    -1.7642    -4.1106 CB            1 Polymer \\n      88 CG           9.9024    -2.3382    -4.5482 CG            1 Polymer \\n      89 CD          10.0738    -3.7901    -4.0876 CD            1 Polymer \\n      90 CE          11.4180    -4.3515    -4.5725 CE            1 Polymer \\n      91 NZ          11.6020    -5.7327    -4.1302 NZ            1 Polymer \\n      92 H            6.4996    -0.3998    -3.4907 H             1 Polymer \\n      93 HA           9.2022     0.2949    -4.0430 HA            1 Polymer \\n      94 HB2          7.7282    -2.3743    -4.5530 HB2           1 Polymer \\n      95 HB3          8.4696    -1.8302    -3.0021 HB3           1 Polymer \\n      96 HG2         10.7198    -1.7207    -4.1168 HG2           1 Polymer \\n      97 HG3          9.9751    -2.3067    -5.6571 HG3           1 Polymer \\n      98 HD2          9.2489    -4.4113    -4.5006 HD2           1 Polymer \\n      99 HD3         10.0323    -3.8317    -2.9769 HD3           1 Polymer \\n     100 HE2         12.2490    -3.7266    -4.1756 HE2           1 Polymer \\n     101 HE3         11.4527    -4.3160    -5.6846 HE3           1 Polymer \\n     102 HZ1         10.8355    -6.3365    -4.5068 HZ1           1 Polymer \\n     103 HZ2         12.5186    -6.0858    -4.4886 HZ2           1 Polymer \\n     104 HZ3         11.6071    -5.7764    -3.0852 HZ3           1 Polymer \\n     105 N            7.5076    -0.5466    -6.8601 N             1 Polymer \\n     106 CA           7.5317    -0.3788    -8.3102 CA            1 Polymer \\n     107 C            7.7675     1.0802    -8.6776 C             1 Polymer \\n     108 O            8.7026     1.3517    -9.4177 O             1 Polymer \\n     109 CB           6.2115    -0.9097    -8.9152 CB            1 Polymer \\n     110 CG           6.1935    -0.8231   -10.4475 CG            1 Polymer \\n     111 CD           4.8990    -1.4140   -11.0186 CD            1 Polymer \\n     112 CE           4.8797    -1.2994   -12.5487 CE            1 Polymer \\n     113 NZ           3.6554    -1.8758   -13.1027 NZ            1 Polymer \\n     114 H            6.6797    -0.9780    -6.4308 H             1 Polymer \\n     115 HA           8.3631    -0.9896    -8.7261 HA            1 Polymer \\n     116 HB2          5.3488    -0.3409    -8.5072 HB2           1 Polymer \\n     117 HB3          6.0963    -1.9759    -8.6184 HB3           1 Polymer \\n     118 HG2          7.0618    -1.3841   -10.8573 HG2           1 Polymer \\n     119 HG3          6.2732     0.2412   -10.7585 HG3           1 Polymer \\n     120 HD2          4.0245    -0.8683   -10.6004 HD2           1 Polymer \\n     121 HD3          4.8240    -2.4851   -10.7278 HD3           1 Polymer \\n     122 HE2          5.7594    -1.8324   -12.9735 HE2           1 Polymer \\n     123 HE3          4.9442    -0.2269   -12.8391 HE3           1 Polymer \\n     124 HZ1          2.8183    -1.3762   -12.7237 HZ1           1 Polymer \\n     125 HZ2          3.6701    -1.7716   -14.1431 HZ2           1 Polymer \\n     126 HZ3          3.5986    -2.8927   -12.8651 HZ3           1 Polymer \\n     127 N            6.9887     2.0736    -8.1607 N             1 Polymer \\n     128 CA           7.2045     3.4914    -8.4411 CA            1 Polymer \\n     129 C            8.6124     3.9120    -8.0381 C             1 Polymer \\n     130 O            9.2451     3.2510    -7.2272 O             1 Polymer \\n     131 CB           6.1346     4.3355    -7.6946 CB            1 Polymer \\n     132 CG           6.2423     5.8477    -7.9437 CG            1 Polymer \\n     133 CD           5.1618     6.6306    -7.1878 CD            1 Polymer \\n     134 CE           5.3307     8.1386    -7.4299 CE            1 Polymer \\n     135 NZ           4.3234     8.9085    -6.7020 NZ            1 Polymer \\n     136 H            6.2263     1.8095    -7.5296 H             1 Polymer \\n     137 HA           7.0917     3.6336    -9.5385 HA            1 Polymer \\n     138 HB2          6.2241     4.1494    -6.6010 HB2           1 Polymer \\n     139 HB3          5.1272     3.9933    -8.0202 HB3           1 Polymer \\n     140 HG2          6.1516     6.0470    -9.0336 HG2           1 Polymer \\n     141 HG3          7.2246     6.2123    -7.5807 HG3           1 Polymer \\n     142 HD2          5.2528     6.4254    -6.0981 HD2           1 Polymer \\n     143 HD3          4.1547     6.3071    -7.5301 HD3           1 Polymer \\n     144 HE2          5.2409     8.3524    -8.5182 HE2           1 Polymer \\n     145 HE3          6.3431     8.4567    -7.0931 HE3           1 Polymer \\n     146 HZ1          4.4144     8.7379    -5.6741 HZ1           1 Polymer \\n     147 HZ2          4.4735     9.9266    -6.8895 HZ2           1 Polymer \\n     148 HZ3          3.3650     8.6418    -7.0235 HZ3           1 Polymer \\n     149 O           -1.8598    -0.8616    -2.7447 O             1 Polymer \\n     150 C           -1.6810    -1.1068    -1.3808 C             1 Polymer \\n     151 C           -2.8471    -1.9015    -0.7857 C             1 Polymer \\n     152 C           -4.0306    -0.9453    -0.5615 C             1 Polymer \\n     153 C           -3.6884     0.0845     0.4882 C             1 Polymer \\n     154 O           -3.4407    -0.2715     1.6311 O             1 Polymer \\n     155 O           -3.6231     1.3933     0.1635 O             1 Polymer \\n     156 H           -3.1205    -2.7326    -1.4707 H             1 Polymer \\n     157 H           -2.5717    -2.3372     0.1989 H             1 Polymer \\n     158 H           -4.9193    -1.5123    -0.2149 H             1 Polymer \\n     159 H           -4.2895    -0.4422    -1.5193 H             1 Polymer \\n     160 H           -3.3574     2.0579     0.8169 H             1 Polymer \\n     161 N            9.1910     4.9987    -8.6008 N             1 Polymer \\n     162 H           10.1491     5.2756    -8.3361 H             1 Polymer \\n     163 H            8.6955     5.5566    -9.3096 H             1 Polymer \\n@<TRIPOS>BOND\\n       1        2        1 1\\n       2       10        1 1\\n       3      150        1 1\\n       4        3        2 1\\n       5        5        2 1\\n       6       11        2 1\\n       7        4        3 1\\n       8       16        3 1\\n       9        6        5 1\\n      10       12        5 1\\n      11       13        5 1\\n      12        7        6 1\\n      13       14        6 1\\n      14       15        6 1\\n      15        8        7 1\\n      16        9        7 1\\n      17       17       16 1\\n      18       25       16 1\\n      19       18       17 1\\n      20       20       17 1\\n      21       26       17 1\\n      22       19       18 1\\n      23       31       18 1\\n      24       21       20 1\\n      25       27       20 1\\n      26       28       20 1\\n      27       22       21 1\\n      28       29       21 1\\n      29       30       21 1\\n      30       23       22 1\\n      31       24       22 1\\n      32       32       31 1\\n      33       40       31 1\\n      34       33       32 1\\n      35       35       32 1\\n      36       41       32 1\\n      37       34       33 1\\n      38       46       33 1\\n      39       36       35 1\\n      40       42       35 1\\n      41       43       35 1\\n      42       37       36 1\\n      43       44       36 1\\n      44       45       36 1\\n      45       38       37 1\\n      46       39       37 1\\n      47       47       46 1\\n      48       55       46 1\\n      49       48       47 1\\n      50       50       47 1\\n      51       56       47 1\\n      52       49       48 1\\n      53       61       48 1\\n      54       51       50 1\\n      55       57       50 1\\n      56       58       50 1\\n      57       52       51 1\\n      58       59       51 1\\n      59       60       51 1\\n      60       53       52 1\\n      61       54       52 1\\n      62       62       61 1\\n      63       70       61 1\\n      64       63       62 1\\n      65       65       62 1\\n      66       71       62 1\\n      67       64       63 1\\n      68       83       63 1\\n      69       66       65 1\\n      70       72       65 1\\n      71       73       65 1\\n      72       67       66 1\\n      73       74       66 1\\n      74       75       66 1\\n      75       68       67 1\\n      76       76       67 1\\n      77       77       67 1\\n      78       78       68 1\\n      79       79       68 1\\n      80       69       68 1\\n      81       80       69 1\\n      82       81       69 1\\n      83       82       69 1\\n      84       84       83 1\\n      85       92       83 1\\n      86       85       84 1\\n      87       87       84 1\\n      88       93       84 1\\n      89       86       85 1\\n      90      105       85 1\\n      91       88       87 1\\n      92       94       87 1\\n      93       95       87 1\\n      94       89       88 1\\n      95       96       88 1\\n      96       97       88 1\\n      97       90       89 1\\n      98       98       89 1\\n      99       99       89 1\\n     100      100       90 1\\n     101      101       90 1\\n     102       91       90 1\\n     103      102       91 1\\n     104      103       91 1\\n     105      104       91 1\\n     106      106      105 1\\n     107      114      105 1\\n     108      107      106 1\\n     109      109      106 1\\n     110      115      106 1\\n     111      108      107 1\\n     112      127      107 1\\n     113      110      109 1\\n     114      116      109 1\\n     115      117      109 1\\n     116      111      110 1\\n     117      118      110 1\\n     118      119      110 1\\n     119      112      111 1\\n     120      120      111 1\\n     121      121      111 1\\n     122      122      112 1\\n     123      123      112 1\\n     124      113      112 1\\n     125      124      113 1\\n     126      125      113 1\\n     127      126      113 1\\n     128      128      127 1\\n     129      136      127 1\\n     130      129      128 1\\n     131      131      128 1\\n     132      137      128 1\\n     133      130      129 1\\n     134      161      129 1\\n     135      132      131 1\\n     136      138      131 1\\n     137      139      131 1\\n     138      133      132 1\\n     139      140      132 1\\n     140      141      132 1\\n     141      134      133 1\\n     142      142      133 1\\n     143      143      133 1\\n     144      144      134 1\\n     145      145      134 1\\n     146      135      134 1\\n     147      146      135 1\\n     148      147      135 1\\n     149      148      135 1\\n     150      150      149 1\\n     151      151      150 1\\n     152      152      151 1\\n     153      156      151 1\\n     154      157      151 1\\n     155      153      152 1\\n     156      158      152 1\\n     157      159      152 1\\n     158      154      153 1\\n     159      155      153 1\\n     160      160      155 1\\n     161      162      161 1\\n     162      163      161 1\\n@<TRIPOS>SUBSTRUCTURE\\n       1 Polymer         1 RESIDUE    0 **** ROOT      0\\n\",\"mol2\");\n\tviewer_16867816548256395.setStyle({\"stick\": {\"radius\": 0.2, \"color\": \"grey\"}, \"sphere\": {\"scale\": 0.3, \"colorscheme\": {}}});\n\tviewer_16867816548256395.zoomTo();\nviewer_16867816548256395.render();\n});\n</script>",
      "text/html": [
       "<div id=\"3dmolviewer_16867816548256395\"  style=\"position: relative; width: 640px; height: 480px\">\n",
       "        <p id=\"3dmolwarning_16867816548256395\" style=\"background-color:#ffcccc;color:black\">You appear to be running in JupyterLab (or JavaScript failed to load for some other reason).  You need to install the 3dmol extension: <br>\n",
       "        <tt>jupyter labextension install jupyterlab_3dmol</tt></p>\n",
       "        </div>\n",
       "<script>\n",
       "\n",
       "var loadScriptAsync = function(uri){\n",
       "  return new Promise((resolve, reject) => {\n",
       "    //this is to ignore the existence of requirejs amd\n",
       "    var savedexports, savedmodule;\n",
       "    if (typeof exports !== 'undefined') savedexports = exports;\n",
       "    else exports = {}\n",
       "    if (typeof module !== 'undefined') savedmodule = module;\n",
       "    else module = {}\n",
       "\n",
       "    var tag = document.createElement('script');\n",
       "    tag.src = uri;\n",
       "    tag.async = true;\n",
       "    tag.onload = () => {\n",
       "        exports = savedexports;\n",
       "        module = savedmodule;\n",
       "        resolve();\n",
       "    };\n",
       "  var firstScriptTag = document.getElementsByTagName('script')[0];\n",
       "  firstScriptTag.parentNode.insertBefore(tag, firstScriptTag);\n",
       "});\n",
       "};\n",
       "\n",
       "if(typeof $3Dmolpromise === 'undefined') {\n",
       "$3Dmolpromise = null;\n",
       "  $3Dmolpromise = loadScriptAsync('https://cdnjs.cloudflare.com/ajax/libs/3Dmol/2.0.1/3Dmol-min.js');\n",
       "}\n",
       "\n",
       "var viewer_16867816548256395 = null;\n",
       "var warn = document.getElementById(\"3dmolwarning_16867816548256395\");\n",
       "if(warn) {\n",
       "    warn.parentNode.removeChild(warn);\n",
       "}\n",
       "$3Dmolpromise.then(function() {\n",
       "viewer_16867816548256395 = $3Dmol.createViewer(document.getElementById(\"3dmolviewer_16867816548256395\"),{backgroundColor:\"white\"});\n",
       "viewer_16867816548256395.zoomTo();\n",
       "\tviewer_16867816548256395.addModel(\"@<TRIPOS>MOLECULE\\nPolymer\\n163 162 1 0 1\\nSMALL\\nNO_CHARGES\\n@<TRIPOS>CRYSIN\\n   22.4380    21.8782    22.0249    90.0000    90.0000    90.0000  1  1\\n@<TRIPOS>ATOM\\n       1 N           -0.3340    -1.6256    -1.1121 N             1 Polymer \\n       2 CA           0.4897    -0.4645    -0.7258 CA            1 Polymer \\n       3 C            1.9615    -0.7951    -0.7319 C             1 Polymer \\n       4 O            2.6890    -0.0968    -1.4102 O             1 Polymer \\n       5 CB           0.0673     0.1208     0.6435 CB            1 Polymer \\n       6 CG           0.6886     1.5089     0.8731 CG            1 Polymer \\n       7 CD           0.1981     2.1691     2.1335 CD            1 Polymer \\n       8 OE1         -0.5872     1.6071     2.8818 OE1           1 Polymer \\n       9 OE2          0.6169     3.4136     2.4290 OE2           1 Polymer \\n      10 H           -0.3420    -2.3151    -0.3249 H             1 Polymer \\n      11 HA           0.3326     0.3360    -1.4907 HA            1 Polymer \\n      12 HB2          0.3212    -0.5818     1.4671 HB2           1 Polymer \\n      13 HB3         -1.0262     0.2725     0.6472 HB3           1 Polymer \\n      14 HG2          0.4040     2.1675     0.0223 HG2           1 Polymer \\n      15 HG3          1.7954     1.4339     0.9084 HG3           1 Polymer \\n      16 N            2.4976    -1.8074     0.0067 N             1 Polymer \\n      17 CA           3.9339    -2.0802    -0.0092 CA            1 Polymer \\n      18 C            4.3964    -2.3983    -1.4223 C             1 Polymer \\n      19 O            5.3167    -1.7548    -1.8988 O             1 Polymer \\n      20 CB           4.3009    -3.2145     0.9688 CB            1 Polymer \\n      21 CG           5.8315    -3.3744     1.0847 CG            1 Polymer \\n      22 CD           6.2541    -4.4100     2.0918 CD            1 Polymer \\n      23 OE1          5.4304    -5.0518     2.7239 OE1           1 Polymer \\n      24 OE2          7.5656    -4.6277     2.3024 OE2           1 Polymer \\n      25 H            1.8761    -2.3870     0.5912 H             1 Polymer \\n      26 HA           4.4630    -1.1676     0.3510 HA            1 Polymer \\n      27 HB2          3.8340    -4.1714     0.6479 HB2           1 Polymer \\n      28 HB3          3.9054    -2.9463     1.9737 HB3           1 Polymer \\n      29 HG2          6.2742    -2.4023     1.3965 HG2           1 Polymer \\n      30 HG3          6.2591    -3.6561     0.0994 HG3           1 Polymer \\n      31 N            3.7747    -3.3600    -2.1609 N             1 Polymer \\n      32 CA           4.1580    -3.6964    -3.5316 CA            1 Polymer \\n      33 C            4.0809    -2.4859    -4.4525 C             1 Polymer \\n      34 O            5.0568    -2.2134    -5.1322 O             1 Polymer \\n      35 CB           3.2613    -4.8349    -4.0691 CB            1 Polymer \\n      36 CG           3.6973    -5.3030    -5.4728 CG            1 Polymer \\n      37 CD           2.8696    -6.4440    -6.0025 CD            1 Polymer \\n      38 OE1          1.9500    -6.9176    -5.3521 OE1           1 Polymer \\n      39 OE2          3.1497    -6.9516    -7.2174 OE2           1 Polymer \\n      40 H            2.9868    -3.8677    -1.7290 H             1 Polymer \\n      41 HA           5.2032    -4.0777    -3.5234 HA            1 Polymer \\n      42 HB2          2.2012    -4.4997    -4.0974 HB2           1 Polymer \\n      43 HB3          3.3398    -5.6994    -3.3729 HB3           1 Polymer \\n      44 HG2          4.7578    -5.6337    -5.4332 HG2           1 Polymer \\n      45 HG3          3.6145    -4.4613    -6.1929 HG3           1 Polymer \\n      46 N            2.9554    -1.7201    -4.5309 N             1 Polymer \\n      47 CA           2.8037    -0.5891    -5.4498 CA            1 Polymer \\n      48 C            3.9255     0.4301    -5.2896 C             1 Polymer \\n      49 O            4.5610     0.7619    -6.2731 O             1 Polymer \\n      50 CB           1.4263     0.0778    -5.2354 CB            1 Polymer \\n      51 CG           1.1657     1.2212    -6.2359 CG            1 Polymer \\n      52 CD          -0.1872     1.8603    -6.0653 CD            1 Polymer \\n      53 OE1         -0.9663     1.4788    -5.2046 OE1           1 Polymer \\n      54 OE2         -0.5438     2.8729    -6.8772 OE2           1 Polymer \\n      55 H            2.1655    -1.9642    -3.9109 H             1 Polymer \\n      56 HA           2.8304    -0.9767    -6.4936 HA            1 Polymer \\n      57 HB2          1.3558     0.4695    -4.1962 HB2           1 Polymer \\n      58 HB3          0.6367    -0.6949    -5.3725 HB3           1 Polymer \\n      59 HG2          1.2351     0.8229    -7.2713 HG2           1 Polymer \\n      60 HG3          1.9328     2.0141    -6.1076 HG3           1 Polymer \\n      61 N            4.2260     0.9485    -4.0725 N             1 Polymer \\n      62 CA           5.2753     1.9277    -3.7960 CA            1 Polymer \\n      63 C            6.6259     1.4711    -4.3183 C             1 Polymer \\n      64 O            7.2757     2.2369    -5.0168 O             1 Polymer \\n      65 CB           5.3390     2.1697    -2.2670 CB            1 Polymer \\n      66 CG           6.3904     3.2119    -1.8636 CG            1 Polymer \\n      67 CD           6.3829     3.4359    -0.3458 CD            1 Polymer \\n      68 CE           7.4618     4.4467     0.0640 CE            1 Polymer \\n      69 NZ           7.4502     4.6683     1.5094 NZ            1 Polymer \\n      70 H            3.6756     0.6027    -3.2895 H             1 Polymer \\n      71 HA           5.0135     2.8934    -4.2843 HA            1 Polymer \\n      72 HB2          5.5603     1.2098    -1.7490 HB2           1 Polymer \\n      73 HB3          4.3390     2.5234    -1.9275 HB3           1 Polymer \\n      74 HG2          6.1765     4.1734    -2.3792 HG2           1 Polymer \\n      75 HG3          7.3995     2.8567    -2.1677 HG3           1 Polymer \\n      76 HD2          6.5759     2.4703     0.1721 HD2           1 Polymer \\n      77 HD3          5.3840     3.8139    -0.0343 HD3           1 Polymer \\n      78 HE2          7.2840     5.4139    -0.4565 HE2           1 Polymer \\n      79 HE3          8.4614     4.0622    -0.2393 HE3           1 Polymer \\n      80 HZ1          7.6305     3.7696     2.0134 HZ1           1 Polymer \\n      81 HZ2          8.2026     5.3513     1.7561 HZ2           1 Polymer \\n      82 HZ3          6.5267     5.0602     1.8049 HZ3           1 Polymer \\n      83 N            7.0990     0.2247    -4.0449 N             1 Polymer \\n      84 CA           8.3809    -0.2853    -4.5266 CA            1 Polymer \\n      85 C            8.5014    -0.1223    -6.0330 C             1 Polymer \\n      86 O            9.4905     0.4348    -6.4880 O             1 Polymer \\n      87 CB           8.5459    -1.7642    -4.1106 CB            1 Polymer \\n      88 CG           9.9024    -2.3382    -4.5482 CG            1 Polymer \\n      89 CD          10.0738    -3.7901    -4.0876 CD            1 Polymer \\n      90 CE          11.4180    -4.3515    -4.5725 CE            1 Polymer \\n      91 NZ          11.6020    -5.7327    -4.1302 NZ            1 Polymer \\n      92 H            6.4996    -0.3998    -3.4907 H             1 Polymer \\n      93 HA           9.2022     0.2949    -4.0430 HA            1 Polymer \\n      94 HB2          7.7282    -2.3743    -4.5530 HB2           1 Polymer \\n      95 HB3          8.4696    -1.8302    -3.0021 HB3           1 Polymer \\n      96 HG2         10.7198    -1.7207    -4.1168 HG2           1 Polymer \\n      97 HG3          9.9751    -2.3067    -5.6571 HG3           1 Polymer \\n      98 HD2          9.2489    -4.4113    -4.5006 HD2           1 Polymer \\n      99 HD3         10.0323    -3.8317    -2.9769 HD3           1 Polymer \\n     100 HE2         12.2490    -3.7266    -4.1756 HE2           1 Polymer \\n     101 HE3         11.4527    -4.3160    -5.6846 HE3           1 Polymer \\n     102 HZ1         10.8355    -6.3365    -4.5068 HZ1           1 Polymer \\n     103 HZ2         12.5186    -6.0858    -4.4886 HZ2           1 Polymer \\n     104 HZ3         11.6071    -5.7764    -3.0852 HZ3           1 Polymer \\n     105 N            7.5076    -0.5466    -6.8601 N             1 Polymer \\n     106 CA           7.5317    -0.3788    -8.3102 CA            1 Polymer \\n     107 C            7.7675     1.0802    -8.6776 C             1 Polymer \\n     108 O            8.7026     1.3517    -9.4177 O             1 Polymer \\n     109 CB           6.2115    -0.9097    -8.9152 CB            1 Polymer \\n     110 CG           6.1935    -0.8231   -10.4475 CG            1 Polymer \\n     111 CD           4.8990    -1.4140   -11.0186 CD            1 Polymer \\n     112 CE           4.8797    -1.2994   -12.5487 CE            1 Polymer \\n     113 NZ           3.6554    -1.8758   -13.1027 NZ            1 Polymer \\n     114 H            6.6797    -0.9780    -6.4308 H             1 Polymer \\n     115 HA           8.3631    -0.9896    -8.7261 HA            1 Polymer \\n     116 HB2          5.3488    -0.3409    -8.5072 HB2           1 Polymer \\n     117 HB3          6.0963    -1.9759    -8.6184 HB3           1 Polymer \\n     118 HG2          7.0618    -1.3841   -10.8573 HG2           1 Polymer \\n     119 HG3          6.2732     0.2412   -10.7585 HG3           1 Polymer \\n     120 HD2          4.0245    -0.8683   -10.6004 HD2           1 Polymer \\n     121 HD3          4.8240    -2.4851   -10.7278 HD3           1 Polymer \\n     122 HE2          5.7594    -1.8324   -12.9735 HE2           1 Polymer \\n     123 HE3          4.9442    -0.2269   -12.8391 HE3           1 Polymer \\n     124 HZ1          2.8183    -1.3762   -12.7237 HZ1           1 Polymer \\n     125 HZ2          3.6701    -1.7716   -14.1431 HZ2           1 Polymer \\n     126 HZ3          3.5986    -2.8927   -12.8651 HZ3           1 Polymer \\n     127 N            6.9887     2.0736    -8.1607 N             1 Polymer \\n     128 CA           7.2045     3.4914    -8.4411 CA            1 Polymer \\n     129 C            8.6124     3.9120    -8.0381 C             1 Polymer \\n     130 O            9.2451     3.2510    -7.2272 O             1 Polymer \\n     131 CB           6.1346     4.3355    -7.6946 CB            1 Polymer \\n     132 CG           6.2423     5.8477    -7.9437 CG            1 Polymer \\n     133 CD           5.1618     6.6306    -7.1878 CD            1 Polymer \\n     134 CE           5.3307     8.1386    -7.4299 CE            1 Polymer \\n     135 NZ           4.3234     8.9085    -6.7020 NZ            1 Polymer \\n     136 H            6.2263     1.8095    -7.5296 H             1 Polymer \\n     137 HA           7.0917     3.6336    -9.5385 HA            1 Polymer \\n     138 HB2          6.2241     4.1494    -6.6010 HB2           1 Polymer \\n     139 HB3          5.1272     3.9933    -8.0202 HB3           1 Polymer \\n     140 HG2          6.1516     6.0470    -9.0336 HG2           1 Polymer \\n     141 HG3          7.2246     6.2123    -7.5807 HG3           1 Polymer \\n     142 HD2          5.2528     6.4254    -6.0981 HD2           1 Polymer \\n     143 HD3          4.1547     6.3071    -7.5301 HD3           1 Polymer \\n     144 HE2          5.2409     8.3524    -8.5182 HE2           1 Polymer \\n     145 HE3          6.3431     8.4567    -7.0931 HE3           1 Polymer \\n     146 HZ1          4.4144     8.7379    -5.6741 HZ1           1 Polymer \\n     147 HZ2          4.4735     9.9266    -6.8895 HZ2           1 Polymer \\n     148 HZ3          3.3650     8.6418    -7.0235 HZ3           1 Polymer \\n     149 O           -1.8598    -0.8616    -2.7447 O             1 Polymer \\n     150 C           -1.6810    -1.1068    -1.3808 C             1 Polymer \\n     151 C           -2.8471    -1.9015    -0.7857 C             1 Polymer \\n     152 C           -4.0306    -0.9453    -0.5615 C             1 Polymer \\n     153 C           -3.6884     0.0845     0.4882 C             1 Polymer \\n     154 O           -3.4407    -0.2715     1.6311 O             1 Polymer \\n     155 O           -3.6231     1.3933     0.1635 O             1 Polymer \\n     156 H           -3.1205    -2.7326    -1.4707 H             1 Polymer \\n     157 H           -2.5717    -2.3372     0.1989 H             1 Polymer \\n     158 H           -4.9193    -1.5123    -0.2149 H             1 Polymer \\n     159 H           -4.2895    -0.4422    -1.5193 H             1 Polymer \\n     160 H           -3.3574     2.0579     0.8169 H             1 Polymer \\n     161 N            9.1910     4.9987    -8.6008 N             1 Polymer \\n     162 H           10.1491     5.2756    -8.3361 H             1 Polymer \\n     163 H            8.6955     5.5566    -9.3096 H             1 Polymer \\n@<TRIPOS>BOND\\n       1        2        1 1\\n       2       10        1 1\\n       3      150        1 1\\n       4        3        2 1\\n       5        5        2 1\\n       6       11        2 1\\n       7        4        3 1\\n       8       16        3 1\\n       9        6        5 1\\n      10       12        5 1\\n      11       13        5 1\\n      12        7        6 1\\n      13       14        6 1\\n      14       15        6 1\\n      15        8        7 1\\n      16        9        7 1\\n      17       17       16 1\\n      18       25       16 1\\n      19       18       17 1\\n      20       20       17 1\\n      21       26       17 1\\n      22       19       18 1\\n      23       31       18 1\\n      24       21       20 1\\n      25       27       20 1\\n      26       28       20 1\\n      27       22       21 1\\n      28       29       21 1\\n      29       30       21 1\\n      30       23       22 1\\n      31       24       22 1\\n      32       32       31 1\\n      33       40       31 1\\n      34       33       32 1\\n      35       35       32 1\\n      36       41       32 1\\n      37       34       33 1\\n      38       46       33 1\\n      39       36       35 1\\n      40       42       35 1\\n      41       43       35 1\\n      42       37       36 1\\n      43       44       36 1\\n      44       45       36 1\\n      45       38       37 1\\n      46       39       37 1\\n      47       47       46 1\\n      48       55       46 1\\n      49       48       47 1\\n      50       50       47 1\\n      51       56       47 1\\n      52       49       48 1\\n      53       61       48 1\\n      54       51       50 1\\n      55       57       50 1\\n      56       58       50 1\\n      57       52       51 1\\n      58       59       51 1\\n      59       60       51 1\\n      60       53       52 1\\n      61       54       52 1\\n      62       62       61 1\\n      63       70       61 1\\n      64       63       62 1\\n      65       65       62 1\\n      66       71       62 1\\n      67       64       63 1\\n      68       83       63 1\\n      69       66       65 1\\n      70       72       65 1\\n      71       73       65 1\\n      72       67       66 1\\n      73       74       66 1\\n      74       75       66 1\\n      75       68       67 1\\n      76       76       67 1\\n      77       77       67 1\\n      78       78       68 1\\n      79       79       68 1\\n      80       69       68 1\\n      81       80       69 1\\n      82       81       69 1\\n      83       82       69 1\\n      84       84       83 1\\n      85       92       83 1\\n      86       85       84 1\\n      87       87       84 1\\n      88       93       84 1\\n      89       86       85 1\\n      90      105       85 1\\n      91       88       87 1\\n      92       94       87 1\\n      93       95       87 1\\n      94       89       88 1\\n      95       96       88 1\\n      96       97       88 1\\n      97       90       89 1\\n      98       98       89 1\\n      99       99       89 1\\n     100      100       90 1\\n     101      101       90 1\\n     102       91       90 1\\n     103      102       91 1\\n     104      103       91 1\\n     105      104       91 1\\n     106      106      105 1\\n     107      114      105 1\\n     108      107      106 1\\n     109      109      106 1\\n     110      115      106 1\\n     111      108      107 1\\n     112      127      107 1\\n     113      110      109 1\\n     114      116      109 1\\n     115      117      109 1\\n     116      111      110 1\\n     117      118      110 1\\n     118      119      110 1\\n     119      112      111 1\\n     120      120      111 1\\n     121      121      111 1\\n     122      122      112 1\\n     123      123      112 1\\n     124      113      112 1\\n     125      124      113 1\\n     126      125      113 1\\n     127      126      113 1\\n     128      128      127 1\\n     129      136      127 1\\n     130      129      128 1\\n     131      131      128 1\\n     132      137      128 1\\n     133      130      129 1\\n     134      161      129 1\\n     135      132      131 1\\n     136      138      131 1\\n     137      139      131 1\\n     138      133      132 1\\n     139      140      132 1\\n     140      141      132 1\\n     141      134      133 1\\n     142      142      133 1\\n     143      143      133 1\\n     144      144      134 1\\n     145      145      134 1\\n     146      135      134 1\\n     147      146      135 1\\n     148      147      135 1\\n     149      148      135 1\\n     150      150      149 1\\n     151      151      150 1\\n     152      152      151 1\\n     153      156      151 1\\n     154      157      151 1\\n     155      153      152 1\\n     156      158      152 1\\n     157      159      152 1\\n     158      154      153 1\\n     159      155      153 1\\n     160      160      155 1\\n     161      162      161 1\\n     162      163      161 1\\n@<TRIPOS>SUBSTRUCTURE\\n       1 Polymer         1 RESIDUE    0 **** ROOT      0\\n\",\"mol2\");\n",
       "\tviewer_16867816548256395.setStyle({\"stick\": {\"radius\": 0.2, \"color\": \"grey\"}, \"sphere\": {\"scale\": 0.3, \"colorscheme\": {}}});\n",
       "\tviewer_16867816548256395.zoomTo();\n",
       "viewer_16867816548256395.render();\n",
       "});\n",
       "</script>"
      ]
     },
     "metadata": {},
     "output_type": "display_data"
    },
    {
     "data": {
      "text/plain": [
       "<py3Dmol.view at 0x7f97e59bab90>"
      ]
     },
     "execution_count": 13,
     "metadata": {},
     "output_type": "execute_result"
    }
   ],
   "source": [
    "chain.energy_minimize()\n",
    "chain.visualize()"
   ]
  },
  {
   "cell_type": "code",
   "execution_count": 14,
   "id": "81c7fd10",
   "metadata": {},
   "outputs": [
    {
     "name": "stdout",
     "output_type": "stream",
     "text": [
      "<Compound 12 particles, 11 bonds, non-periodic, id: 140290409442816>\n",
      "<Compound 3 particles, 2 bonds, non-periodic, id: 140290409445552>\n"
     ]
    }
   ],
   "source": [
    "# Set labels for capping residues\n",
    "print(chain.children[1])\n",
    "chain.children[1].name = \"NTC\"\n",
    "\n",
    "print(chain.children[2])\n",
    "chain.children[2].name = \"CTC\""
   ]
  },
  {
   "cell_type": "code",
   "execution_count": 15,
   "id": "e9c7f9a6",
   "metadata": {},
   "outputs": [
    {
     "data": {
      "text/plain": [
       "<NTC 12 particles, 11 bonds, non-periodic, id: 140290409442816>"
      ]
     },
     "execution_count": 15,
     "metadata": {},
     "output_type": "execute_result"
    }
   ],
   "source": [
    "# Verify we relabeled the non-standard capping residues\n",
    "chain.labels['Compound'][0]"
   ]
  },
  {
   "cell_type": "markdown",
   "id": "da6b0980",
   "metadata": {},
   "source": [
    "Now we save the peptide to file, ensuring amino acid residue names are written correctly. We also add the residues `NTC` and `CTC` for the N-terminal and C-terminal caps."
   ]
  },
  {
   "cell_type": "code",
   "execution_count": 16,
   "id": "6008028b",
   "metadata": {},
   "outputs": [],
   "source": [
    "chain.save(\"mbuild_small_peptide.pdb\", overwrite = True, residues=[\"ALA\", \"LYS\", \"GLU\", \"TYR\", \"SER\", \"NTC\", \"CTC\"])\n",
    "smiles = chain.to_smiles()"
   ]
  },
  {
   "cell_type": "code",
   "execution_count": null,
   "id": "aad6fe32-931a-415a-a077-171ef2b0e352",
   "metadata": {},
   "outputs": [],
   "source": []
  }
 ],
 "metadata": {
  "kernelspec": {
   "display_name": "Python 3 (ipykernel)",
   "language": "python",
   "name": "python3"
  },
  "language_info": {
   "codemirror_mode": {
    "name": "ipython",
    "version": 3
   },
   "file_extension": ".py",
   "mimetype": "text/x-python",
   "name": "python",
   "nbconvert_exporter": "python",
   "pygments_lexer": "ipython3",
   "version": "3.10.10"
  }
 },
 "nbformat": 4,
 "nbformat_minor": 5
}
