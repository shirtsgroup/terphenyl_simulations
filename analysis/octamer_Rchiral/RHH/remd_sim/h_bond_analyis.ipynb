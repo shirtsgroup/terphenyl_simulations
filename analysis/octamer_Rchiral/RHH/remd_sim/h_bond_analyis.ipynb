{
 "cells": [
  {
   "cell_type": "markdown",
   "metadata": {},
   "source": [
    "## H-Bonding with Temperature\n",
    "\n",
    "Since we're unsure whether the Cp spike we're observing at 225 K is due to the solvent or the molecule, we need to investigate the average hydrogen bonds formed in each replica simulation. This will confirm if there is a significant change in the number of hydrogen bonds at low temperatures, indicating that the terphenyl molecule may be giving rise to the large heat capacity spike."
   ]
  },
  {
   "cell_type": "code",
   "execution_count": 1,
   "metadata": {},
   "outputs": [],
   "source": [
    "%load_ext autoreload\n",
    "%autoreload 2"
   ]
  },
  {
   "cell_type": "code",
   "execution_count": 2,
   "metadata": {},
   "outputs": [],
   "source": [
    "import h_bonds\n",
    "import matplotlib.pyplot as plt\n",
    "import numpy as np\n",
    "import pymbar\n",
    "import heat_capacity\n",
    "from multiprocessing import Pool\n",
    "\n",
    "plt.style.use('ggplot')"
   ]
  },
  {
   "cell_type": "code",
   "execution_count": null,
   "metadata": {
    "scrolled": true
   },
   "outputs": [
    {
     "name": "stdout",
     "output_type": "stream",
     "text": [
      "Replica 0\n",
      "npt.whole.xtc\n",
      "npt.part0002.whole.xtc\n",
      "npt.part0003.whole.xtc\n",
      "npt.part0004.whole.xtc\n",
      "Replica 1\n",
      "npt.whole.xtc\n",
      "npt.part0002.whole.xtc\n",
      "npt.part0003.whole.xtc\n",
      "npt.part0004.whole.xtc\n",
      "Replica 2\n",
      "npt.whole.xtc\n",
      "npt.part0002.whole.xtc\n",
      "npt.part0003.whole.xtc\n",
      "npt.part0004.whole.xtc\n",
      "Replica 3\n",
      "npt.whole.xtc\n",
      "npt.part0002.whole.xtc\n",
      "npt.part0003.whole.xtc\n",
      "npt.part0004.whole.xtc\n",
      "Replica 4\n",
      "npt.whole.xtc\n",
      "npt.part0002.whole.xtc\n",
      "npt.part0003.whole.xtc\n",
      "npt.part0004.whole.xtc\n",
      "Replica 5\n",
      "npt.whole.xtc\n",
      "npt.part0002.whole.xtc\n",
      "npt.part0003.whole.xtc\n",
      "npt.part0004.whole.xtc\n",
      "Replica 6\n",
      "npt.whole.xtc\n",
      "npt.part0002.whole.xtc\n",
      "npt.part0003.whole.xtc\n",
      "npt.part0004.whole.xtc\n",
      "Replica 7\n",
      "npt.whole.xtc\n",
      "npt.part0002.whole.xtc\n",
      "npt.part0003.whole.xtc\n",
      "npt.part0004.whole.xtc\n",
      "Replica 8\n",
      "npt.whole.xtc\n",
      "npt.part0002.whole.xtc\n",
      "npt.part0003.whole.xtc\n",
      "npt.part0004.whole.xtc\n",
      "Replica 9\n",
      "npt.whole.xtc\n",
      "npt.part0002.whole.xtc\n",
      "npt.part0003.whole.xtc\n",
      "npt.part0004.whole.xtc\n",
      "Replica 10\n",
      "npt.whole.xtc\n",
      "npt.part0002.whole.xtc\n",
      "npt.part0003.whole.xtc\n",
      "npt.part0004.whole.xtc\n",
      "Replica 11\n",
      "npt.whole.xtc\n",
      "npt.part0002.whole.xtc\n",
      "npt.part0003.whole.xtc\n",
      "npt.part0004.whole.xtc\n",
      "Replica 12\n",
      "npt.whole.xtc\n",
      "npt.part0002.whole.xtc\n",
      "npt.part0003.whole.xtc\n",
      "npt.part0004.whole.xtc\n",
      "Replica 13\n",
      "npt.whole.xtc\n",
      "npt.part0002.whole.xtc\n",
      "npt.part0003.whole.xtc\n",
      "npt.part0004.whole.xtc\n",
      "Replica 14\n",
      "npt.whole.xtc\n",
      "npt.part0002.whole.xtc\n",
      "npt.part0003.whole.xtc\n",
      "npt.part0004.whole.xtc\n",
      "Replica 15\n",
      "npt.whole.xtc\n",
      "npt.part0002.whole.xtc\n",
      "npt.part0003.whole.xtc\n",
      "npt.part0004.whole.xtc\n",
      "Replica 16\n",
      "npt.whole.xtc\n",
      "npt.part0002.whole.xtc\n",
      "npt.part0003.whole.xtc\n",
      "npt.part0004.whole.xtc\n",
      "Replica 17\n",
      "npt.whole.xtc\n",
      "npt.part0002.whole.xtc\n",
      "npt.part0003.whole.xtc\n",
      "npt.part0004.whole.xtc\n",
      "Replica 18\n",
      "npt.whole.xtc\n",
      "npt.part0002.whole.xtc\n",
      "npt.part0003.whole.xtc\n",
      "npt.part0004.whole.xtc\n",
      "Replica 19\n",
      "npt.whole.xtc\n",
      "npt.part0002.whole.xtc\n",
      "npt.part0003.whole.xtc\n",
      "npt.part0004.whole.xtc\n",
      "Replica 20\n",
      "npt.whole.xtc\n",
      "npt.part0002.whole.xtc\n",
      "npt.part0003.whole.xtc\n",
      "npt.part0004.whole.xtc\n",
      "Replica 21\n",
      "npt.whole.xtc\n",
      "npt.part0002.whole.xtc\n",
      "npt.part0003.whole.xtc\n",
      "npt.part0004.whole.xtc\n",
      "Replica 22\n",
      "npt.whole.xtc\n",
      "npt.part0002.whole.xtc\n",
      "npt.part0003.whole.xtc\n",
      "npt.part0004.whole.xtc\n",
      "Replica 23\n",
      "npt.whole.xtc\n",
      "npt.part0002.whole.xtc\n",
      "npt.part0003.whole.xtc\n",
      "npt.part0004.whole.xtc\n",
      "Replica 24\n",
      "npt.whole.xtc\n",
      "npt.part0002.whole.xtc\n",
      "npt.part0003.whole.xtc\n",
      "npt.part0004.whole.xtc\n",
      "Replica 25\n",
      "npt.whole.xtc\n",
      "npt.part0002.whole.xtc\n",
      "npt.part0003.whole.xtc\n",
      "npt.part0004.whole.xtc\n",
      "Replica 26\n",
      "npt.whole.xtc\n",
      "npt.part0002.whole.xtc\n",
      "npt.part0003.whole.xtc\n",
      "npt.part0004.whole.xtc\n",
      "Replica 27\n",
      "npt.whole.xtc\n",
      "npt.part0002.whole.xtc\n",
      "npt.part0003.whole.xtc\n",
      "npt.part0004.whole.xtc\n",
      "Replica 28\n",
      "npt.whole.xtc\n",
      "npt.part0002.whole.xtc\n",
      "npt.part0003.whole.xtc\n",
      "npt.part0004.whole.xtc\n"
     ]
    }
   ],
   "source": [
    "remd_trajs = h_bonds.REMD_trajectories(\"/mnt/summit/simulations/octamer_Rchiral/RHH/remd_sim/200K_to_350K\", \"npt\", \"whole.xtc\",\"sim\", \"/mnt/summit/simulations/octamer_Rchiral/RHH/remd_sim/200K_to_350K/sim0/berendsen.gro\", np = 1)"
   ]
  },
  {
   "cell_type": "code",
   "execution_count": null,
   "metadata": {},
   "outputs": [],
   "source": [
    "h_bond_finder = h_bonds.HydrogenBondFinder(remd_trajs.trajs[0][0], remd_trajs.trajs[0][0].top)\n",
    "h_bond_finder.get_donors()\n",
    "h_bond_finder.get_acceptors()\n",
    "n_h_bonds, h_bond_ids = h_bond_finder.get_hydrogen_bonds(remd_trajs.trajs[0])"
   ]
  },
  {
   "cell_type": "code",
   "execution_count": null,
   "metadata": {
    "scrolled": true
   },
   "outputs": [],
   "source": [
    "pool = Pool(4)"
   ]
  },
  {
   "cell_type": "code",
   "execution_count": null,
   "metadata": {},
   "outputs": [],
   "source": [
    "n_h_bonds_remd, h_bonds_remd = zip(*pool.map(h_bond_finder.get_hydrogen_bonds, remd_trajs.trajs))"
   ]
  },
  {
   "cell_type": "code",
   "execution_count": null,
   "metadata": {},
   "outputs": [],
   "source": [
    "n_h_bonds_remd = np.array(n_h_bonds_remd)\n",
    "h_bonds_remd = h_bonds_remd"
   ]
  },
  {
   "cell_type": "code",
   "execution_count": null,
   "metadata": {},
   "outputs": [],
   "source": [
    "temps = np.array(remd_trajs.temps)"
   ]
  },
  {
   "cell_type": "code",
   "execution_count": null,
   "metadata": {},
   "outputs": [],
   "source": [
    "plt.scatter(temps, np.mean(n_h_bonds_remd, axis = 1))\n",
    "plt.ylabel(\"# Hydrogen Bonds\")\n",
    "plt.xlabel(\"Replica Temperature\")"
   ]
  },
  {
   "cell_type": "markdown",
   "metadata": {},
   "source": [
    "## H-bond analysis using ensemble averaging\n",
    "\n",
    "Now that we've extracted the number of H-bonds per frame at each temperature we can use ensemble reweighting to get a continuous function of the number of hydrogen bonds over the range of replica temperatures."
   ]
  },
  {
   "cell_type": "code",
   "execution_count": null,
   "metadata": {
    "scrolled": true
   },
   "outputs": [],
   "source": [
    "# Extract Potential Energies from each simulation\n",
    "sim_dir_name = \"sim\"\n",
    "path = \"/mnt/summit/simulations/octamer_Rchiral/RHH/remd_sim/200K_to_350K/\"\n",
    "n_replicas = 40\n",
    "\n",
    "energies, temps = heat_capacity.get_energies(sim_dir_name, path, n_replicas)"
   ]
  },
  {
   "cell_type": "code",
   "execution_count": null,
   "metadata": {},
   "outputs": [],
   "source": [
    "u_kln, n_samples, t_list, betas = heat_capacity.construct_u_kln_matrix(temps, energies, add_temps = np.linspace(200, 350, 200))"
   ]
  },
  {
   "cell_type": "code",
   "execution_count": null,
   "metadata": {},
   "outputs": [],
   "source": [
    "h_bonds_kln = np.zeros([240, 240, 3608])\n",
    "for k in range(n_h_bonds_remd.shape[0]):\n",
    "    for l in range(h_bonds_kln.shape[0]):\n",
    "        h_bonds_kln[k,l,:] = n_h_bonds_remd[k]"
   ]
  },
  {
   "cell_type": "code",
   "execution_count": null,
   "metadata": {},
   "outputs": [],
   "source": [
    "for i in range(h_bonds_kln.shape[0]):\n",
    "    print(h_bonds_kln)"
   ]
  },
  {
   "cell_type": "code",
   "execution_count": null,
   "metadata": {},
   "outputs": [],
   "source": [
    "n_samples[:40] = h_bonds_kln.shape[-1]"
   ]
  },
  {
   "cell_type": "code",
   "execution_count": null,
   "metadata": {},
   "outputs": [],
   "source": [
    "mbar_h_bonds = pymbar.MBAR(u_kln[:,:,:3608], n_samples, verbose = True, relative_tolerance = 1e-10, initial_f_k= None, maximum_iterations=1000)"
   ]
  },
  {
   "cell_type": "code",
   "execution_count": null,
   "metadata": {},
   "outputs": [],
   "source": [
    "results = mbar_h_bonds.computeExpectations(h_bonds_kln, state_dependent=True, return_dict=True)\n",
    "\n",
    "h_bonds_mu = results[\"mu\"]\n",
    "h_bonds_sigma = results[\"sigma\"]"
   ]
  },
  {
   "cell_type": "code",
   "execution_count": null,
   "metadata": {},
   "outputs": [],
   "source": [
    "n_replicas = 40\n",
    "plt.figure(figsize=[8,4], dpi=600)\n",
    "# plt.scatter(t_list[:n_replicas], h_bonds_mu[:n_replicas])\n",
    "plt.plot(t_list[n_replicas:], h_bonds_mu[n_replicas:], c=\"gray\")\n",
    "plt.errorbar(t_list[:n_replicas], h_bonds_mu[:n_replicas], yerr=2*h_bonds_sigma[:n_replicas], fmt=\".\")\n",
    "plt.fill_between(t_list[n_replicas:], h_bonds_mu[n_replicas:]-2*h_bonds_sigma[n_replicas:],  h_bonds_mu[n_replicas:]+2*h_bonds_sigma[n_replicas:], color=\"gray\", alpha = 0.3)\n",
    "\n",
    "\n",
    "plt.ylabel(\"# Hydrogen Bonds\")\n",
    "plt.xlabel(\"Temperature (K)\")"
   ]
  },
  {
   "cell_type": "code",
   "execution_count": null,
   "metadata": {},
   "outputs": [],
   "source": []
  }
 ],
 "metadata": {
  "kernelspec": {
   "display_name": "Python 3",
   "language": "python",
   "name": "python3"
  },
  "language_info": {
   "codemirror_mode": {
    "name": "ipython",
    "version": 3
   },
   "file_extension": ".py",
   "mimetype": "text/x-python",
   "name": "python",
   "nbconvert_exporter": "python",
   "pygments_lexer": "ipython3",
   "version": "3.8.3"
  }
 },
 "nbformat": 4,
 "nbformat_minor": 4
}
