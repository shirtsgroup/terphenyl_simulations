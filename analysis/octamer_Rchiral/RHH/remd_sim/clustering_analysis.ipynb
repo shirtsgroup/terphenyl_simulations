{
 "cells": [
  {
   "cell_type": "markdown",
   "metadata": {},
   "source": [
    "## Dihedral Analysis + Classification\n",
    "\n",
    "We want to address what structural motifs are present in the terphenyl oligamer as it is subjected to the temperature changes of REMD. We will rerun the torsion analysis we ran on the vanilla MD simulations to confirm that the distributions are similar (meaning that we effectively sampled these distributions on our first pass) and to classify monomer structures to see what are typical conformations.\n",
    "\n",
    "The goal of this analysis is to be able to extract specific frames coresponding to specific \"classified\" structures.\n",
    "\n",
    "We will attempt 3 types of clustering in this jupyter-notebook. First we will"
   ]
  },
  {
   "cell_type": "code",
   "execution_count": 1,
   "metadata": {},
   "outputs": [],
   "source": [
    "%load_ext autoreload\n",
    "%autoreload 2"
   ]
  },
  {
   "cell_type": "code",
   "execution_count": 2,
   "metadata": {},
   "outputs": [],
   "source": [
    "import utils\n",
    "import os\n",
    "import h_bonds\n",
    "import mdtraj\n",
    "import matplotlib.pyplot as plt\n",
    "import numpy as np\n",
    "import pandas\n",
    "from sklearn.cluster import KMeans\n",
    "\n",
    "%matplotlib inline"
   ]
  },
  {
   "cell_type": "code",
   "execution_count": 3,
   "metadata": {},
   "outputs": [],
   "source": [
    "torsion_ids = [\"A\", \"B\", \"CC\", \"D\", \"E\", \"F\", \"G\"]\n",
    "\n",
    "torsion_annotations = [[torsion_id + str(i) for i in range(1, 5)] for torsion_id in torsion_ids]"
   ]
  },
  {
   "cell_type": "markdown",
   "metadata": {},
   "source": [
    "Here we output the atoms making up the torsion we want to look at. These torsions are extracted from an annotated .itp file which has speicifc atoms manually selected. There are torsions A-G (with C being represented as CC to not be confused with carbon naming). Here we show that can extract torsions at all temperatures."
   ]
  },
  {
   "cell_type": "code",
   "execution_count": 4,
   "metadata": {},
   "outputs": [],
   "source": [
    "itp_reader = utils.ReadItpFile(\"../OCT_dihes.itp\")\n",
    "selector = itp_reader.construct_dihe_selection(torsion_annotations[1])"
   ]
  },
  {
   "cell_type": "code",
   "execution_count": 5,
   "metadata": {
    "scrolled": true
   },
   "outputs": [
    {
     "name": "stdout",
     "output_type": "stream",
     "text": [
      "ReplicaReplicaReplicaReplica    3906\n",
      "\n",
      "\n",
      "\n",
      "npt.whole.xtc\n",
      "npt.part0002.whole.xtcnpt.whole.xtc\n",
      "\n",
      "npt.part0003.whole.xtcnpt.part0002.whole.xtcnpt.whole.xtc\n",
      "\n",
      "\n",
      "npt.part0004.whole.xtcnpt.part0002.whole.xtcnpt.part0003.whole.xtc\n",
      "\n",
      "\n",
      "npt.part0004.whole.xtcnpt.part0003.whole.xtc\n",
      "\n",
      "npt.part0004.whole.xtcnpt.whole.xtc\n",
      "\n",
      "npt.part0002.whole.xtc\n",
      "npt.part0003.whole.xtc\n",
      "npt.part0004.whole.xtc\n",
      "Replica 1\n",
      "Replica 7\n",
      "ReplicaReplica  410\n",
      "\n",
      "npt.whole.xtc\n",
      "npt.part0002.whole.xtc\n",
      "npt.part0003.whole.xtc\n",
      "npt.part0004.whole.xtc\n",
      "npt.whole.xtc\n",
      "npt.part0002.whole.xtc\n",
      "npt.part0003.whole.xtc\n",
      "npt.part0004.whole.xtc\n",
      "npt.whole.xtc\n",
      "npt.part0002.whole.xtc\n",
      "npt.part0003.whole.xtc\n",
      "npt.part0004.whole.xtc\n",
      "npt.whole.xtc\n",
      "npt.part0002.whole.xtc\n",
      "npt.part0003.whole.xtc\n",
      "npt.part0004.whole.xtc\n",
      "Replica 8\n",
      "Replica 2\n",
      "Replica 11\n",
      "Replica 5\n",
      "npt.whole.xtc\n",
      "npt.part0002.whole.xtc\n",
      "npt.part0003.whole.xtc\n",
      "npt.part0004.whole.xtc\n",
      "npt.whole.xtc\n",
      "npt.part0002.whole.xtc\n",
      "npt.part0003.whole.xtc\n",
      "npt.part0004.whole.xtc\n",
      "npt.whole.xtc\n",
      "npt.part0002.whole.xtc\n",
      "npt.part0003.whole.xtc\n",
      "npt.part0004.whole.xtc\n",
      "npt.whole.xtc\n",
      "npt.part0002.whole.xtc\n",
      "npt.part0003.whole.xtc\n",
      "npt.part0004.whole.xtc\n",
      "Replica 12\n",
      "npt.whole.xtc\n",
      "npt.part0002.whole.xtc\n",
      "npt.part0003.whole.xtc\n",
      "npt.part0004.whole.xtc\n",
      "Replica 15\n",
      "npt.whole.xtc\n",
      "npt.part0002.whole.xtc\n",
      "npt.part0003.whole.xtc\n",
      "npt.part0004.whole.xtc\n",
      "Replica 18\n",
      "npt.whole.xtc\n",
      "npt.part0002.whole.xtc\n",
      "npt.part0003.whole.xtc\n",
      "npt.part0004.whole.xtc\n",
      "Replica 21\n",
      "npt.whole.xtc\n",
      "npt.part0002.whole.xtc\n",
      "npt.part0003.whole.xtc\n",
      "npt.part0004.whole.xtc\n",
      "Replica 16\n",
      "Replica 13\n",
      "npt.whole.xtc\n",
      "npt.part0002.whole.xtc\n",
      "npt.part0003.whole.xtc\n",
      "npt.part0004.whole.xtc\n",
      "Replica 19\n",
      "npt.whole.xtc\n",
      "npt.part0002.whole.xtc\n",
      "npt.part0003.whole.xtc\n",
      "npt.part0004.whole.xtc\n",
      "npt.whole.xtc\n",
      "npt.part0002.whole.xtc\n",
      "npt.part0003.whole.xtc\n",
      "npt.part0004.whole.xtc\n",
      "Replica 22\n",
      "npt.whole.xtc\n",
      "npt.part0002.whole.xtc\n",
      "npt.part0003.whole.xtc\n",
      "npt.part0004.whole.xtc\n",
      "Replica 20\n",
      "Replica 17\n",
      "Replica 14\n",
      "Replica 23\n",
      "npt.whole.xtc\n",
      "npt.part0002.whole.xtc\n",
      "npt.part0003.whole.xtc\n",
      "npt.part0004.whole.xtc\n",
      "npt.whole.xtc\n",
      "npt.part0002.whole.xtc\n",
      "npt.part0003.whole.xtc\n",
      "npt.part0004.whole.xtc\n",
      "npt.whole.xtc\n",
      "npt.part0002.whole.xtc\n",
      "npt.part0003.whole.xtc\n",
      "npt.part0004.whole.xtc\n",
      "npt.whole.xtc\n",
      "npt.part0002.whole.xtc\n",
      "npt.part0003.whole.xtc\n",
      "npt.part0004.whole.xtc\n",
      "Replica 24\n",
      "npt.whole.xtc\n",
      "npt.part0002.whole.xtc\n",
      "npt.part0003.whole.xtc\n",
      "npt.part0004.whole.xtc\n",
      "Replica 27\n",
      "npt.whole.xtc\n",
      "npt.part0002.whole.xtc\n",
      "npt.part0003.whole.xtc\n",
      "npt.part0004.whole.xtc\n",
      "Replica 30\n",
      "npt.whole.xtc\n",
      "npt.part0002.whole.xtc\n",
      "npt.part0003.whole.xtc\n",
      "npt.part0004.whole.xtc\n",
      "Replica 33\n",
      "npt.whole.xtc\n",
      "npt.part0002.whole.xtc\n",
      "npt.part0003.whole.xtc\n",
      "npt.part0004.whole.xtc\n",
      "Replica 25\n",
      "npt.whole.xtc\n",
      "npt.part0002.whole.xtc\n",
      "npt.part0003.whole.xtc\n",
      "npt.part0004.whole.xtc\n",
      "Replica 28\n",
      "npt.whole.xtc\n",
      "npt.part0002.whole.xtc\n",
      "npt.part0003.whole.xtc\n",
      "npt.part0004.whole.xtc\n",
      "Replica 31\n",
      "npt.whole.xtc\n",
      "npt.part0002.whole.xtc\n",
      "npt.part0003.whole.xtc\n",
      "npt.part0004.whole.xtc\n",
      "Replica 34\n",
      "npt.whole.xtc\n",
      "npt.part0002.whole.xtc\n",
      "npt.part0003.whole.xtc\n",
      "npt.part0004.whole.xtc\n",
      "Replica 26\n",
      "npt.whole.xtc\n",
      "npt.part0002.whole.xtc\n",
      "npt.part0003.whole.xtc\n",
      "npt.part0004.whole.xtc\n",
      "Replica 29\n",
      "npt.whole.xtc\n",
      "npt.part0002.whole.xtc\n",
      "npt.part0003.whole.xtc\n",
      "npt.part0004.whole.xtc\n",
      "Replica 32\n",
      "npt.whole.xtc\n",
      "npt.part0002.whole.xtc\n",
      "npt.part0003.whole.xtc\n",
      "npt.part0004.whole.xtc\n",
      "Replica 35\n",
      "npt.whole.xtc\n",
      "npt.part0002.whole.xtc\n",
      "npt.part0003.whole.xtc\n",
      "npt.part0004.whole.xtc\n",
      "Replica 36\n",
      "npt.whole.xtc\n",
      "npt.part0002.whole.xtc\n",
      "npt.part0003.whole.xtc\n",
      "npt.part0004.whole.xtc\n",
      "Replica 39\n",
      "npt.whole.xtc\n",
      "npt.part0002.whole.xtc\n",
      "npt.part0003.whole.xtc\n",
      "npt.part0004.whole.xtc\n",
      "Replica 37\n",
      "npt.whole.xtc\n",
      "npt.part0002.whole.xtc\n",
      "npt.part0003.whole.xtc\n",
      "npt.part0004.whole.xtc\n",
      "Replica 38\n",
      "npt.whole.xtc\n",
      "npt.part0002.whole.xtc\n",
      "npt.part0003.whole.xtc\n",
      "npt.part0004.whole.xtc\n"
     ]
    }
   ],
   "source": [
    "remd_trajs = h_bonds.REMD_trajectories(\"/mnt/summit/simulations/octamer_Rchiral/RHH/remd_sim/200K_to_350K\", \"npt\", \"whole.xtc\",\"sim\", \"/mnt/summit/simulations/octamer_Rchiral/RHH/remd_sim/200K_to_350K/sim0/berendsen.gro\", np = 4)"
   ]
  },
  {
   "cell_type": "code",
   "execution_count": 6,
   "metadata": {},
   "outputs": [],
   "source": [
    "dihes = utils.get_dihedrals(selector, remd_trajs.trajs[0])"
   ]
  },
  {
   "cell_type": "code",
   "execution_count": 7,
   "metadata": {},
   "outputs": [],
   "source": [
    "torsions_temps = []\n",
    "for i_rep in range(remd_trajs.n_replicas):\n",
    "    dihes_t = utils.get_dihedrals(selector, remd_trajs.trajs[i_rep])\n",
    "    torsions_temps.append(dihes_t)"
   ]
  },
  {
   "cell_type": "markdown",
   "metadata": {},
   "source": [
    "## All 1D Torsion Distributions"
   ]
  },
  {
   "cell_type": "code",
   "execution_count": 14,
   "metadata": {},
   "outputs": [
    {
     "data": {
      "image/png": "[encoded data removed]",
      "text/plain": [
       "<Figure size 432x288 with 1 Axes>"
      ]
     },
     "metadata": {
      "needs_background": "light"
     },
     "output_type": "display_data"
    },
    {
     "data": {
      "image/png": "[encoded data removed]",
      "text/plain": [
       "<Figure size 432x288 with 1 Axes>"
      ]
     },
     "metadata": {
      "needs_background": "light"
     },
     "output_type": "display_data"
    },
    {
     "data": {
      "image/png": "[encoded data removed]",
      "text/plain": [
       "<Figure size 432x288 with 1 Axes>"
      ]
     },
     "metadata": {
      "needs_background": "light"
     },
     "output_type": "display_data"
    },
    {
     "data": {
      "image/png": "[encoded data removed]",
      "text/plain": [
       "<Figure size 432x288 with 1 Axes>"
      ]
     },
     "metadata": {
      "needs_background": "light"
     },
     "output_type": "display_data"
    },
    {
     "data": {
      "image/png": "[encoded data removed]",
      "text/plain": [
       "<Figure size 432x288 with 1 Axes>"
      ]
     },
     "metadata": {
      "needs_background": "light"
     },
     "output_type": "display_data"
    },
    {
     "data": {
      "image/png": "[encoded data removed]",
      "text/plain": [
       "<Figure size 432x288 with 1 Axes>"
      ]
     },
     "metadata": {
      "needs_background": "light"
     },
     "output_type": "display_data"
    },
    {
     "data": {
      "image/png": "[encoded data removed]",
      "text/plain": [
       "<Figure size 432x288 with 1 Axes>"
      ]
     },
     "metadata": {
      "needs_background": "light"
     },
     "output_type": "display_data"
    }
   ],
   "source": [
    "torsion_matrix = []\n",
    "for i_torsions in range(len(torsion_annotations)):\n",
    "    itp_reader = utils.ReadItpFile(\"../OCT_dihes.itp\")\n",
    "    selector = itp_reader.construct_dihe_selection(torsion_annotations[i_torsions])\n",
    "    dihes = utils.get_dihedrals(selector, remd_trajs.trajs[0])\n",
    "    torsions_temps = []\n",
    "    for i_rep in range(remd_trajs.n_replicas):\n",
    "        dihes_t = utils.get_dihedrals(selector, remd_trajs.trajs[i_rep])\n",
    "        torsions_temps.append(dihes_t)\n",
    "    plt.figure()\n",
    "    for torsions in torsions_temps:\n",
    "        hist = plt.hist(torsions, alpha = 0.05, bins=50, density=True)\n",
    "    plt.xlabel(\"Torsion \" + str(i_torsions))\n",
    "    plt.ylabel(\"Density\") "
   ]
  },
  {
   "cell_type": "markdown",
   "metadata": {},
   "source": [
    "## Monomer Classification\n",
    "\n",
    "We can now extract the torsions for each temperature"
   ]
  },
  {
   "cell_type": "code",
   "execution_count": null,
   "metadata": {},
   "outputs": [],
   "source": [
    "classification_matrix = []\n",
    "for i_torsions in range(len(torsion_annotations)):\n",
    "    itp_reader = utils.ReadItpFile(\"../OCT_dihes.itp\")\n",
    "    selector = itp_reader.construct_dihe_selection(torsion_annotations[i_torsions])\n",
    "    dihes = utils.get_dihedrals(selector, remd_trajs.trajs[0])\n",
    "    torsions_temps = []\n",
    "    for i_rep in range(remd_trajs.n_replicas):\n",
    "        dihes_t = utils.get_dihedrals(selector, remd_trajs.trajs[i_rep])\n",
    "        torsions_temps.append(dihes_t)\n",
    "    all_torsions = np.array(torsions_temps)\n",
    "    print(all_torsions.shape)\n",
    "    total_torsions = all_torsions.shape[1]\n",
    "    classification_matrix.append(all_torsions)"
   ]
  },
  {
   "cell_type": "code",
   "execution_count": null,
   "metadata": {},
   "outputs": [],
   "source": [
    "classification_matrix = np.array(classification_matrix)\n",
    "print(classification_matrix.shape)\n",
    "classification_matrix = classification_matrix.reshape(40, 7 * 6, int(classification_matrix.shape[2] / 6 ) )"
   ]
  },
  {
   "cell_type": "code",
   "execution_count": null,
   "metadata": {},
   "outputs": [],
   "source": [
    "# Indicies represent:\n",
    "# 1. Torsions\n",
    "# 2. Residues\n",
    "# 3. Temperature\n",
    "# 4. frames\n",
    "print(classification_matrix.shape)"
   ]
  },
  {
   "cell_type": "code",
   "execution_count": null,
   "metadata": {},
   "outputs": [],
   "source": [
    "per_monomer_torsions = classification_matrix.reshape(classification_matrix.shape[0], -1)\n",
    "print(per_monomer_torsions.shape)\n",
    "\n",
    "# Convert to x and y components of torsions to remove periodic variables\n",
    "per_monomer_torsions_comp = []\n",
    "for i in range(per_monomer_torsions.shape[0]):\n",
    "    per_monomer_torsions_comp.append(np.cos(per_monomer_torsions[i, :]))\n",
    "    per_monomer_torsions_comp.append(np.sin(per_monomer_torsions[i, :]))\n",
    "torsion_comps = np.array(per_monomer_torsions_comp).reshape(40, 84, 3608)\n",
    "print(torsion_comps.shape)"
   ]
  },
  {
   "cell_type": "code",
   "execution_count": null,
   "metadata": {},
   "outputs": [],
   "source": [
    "per_monomer_torsions = per_monomer_torsions.reshape(40, 42, 3608)\n",
    "per_monomer_torsions.shape"
   ]
  },
  {
   "cell_type": "code",
   "execution_count": null,
   "metadata": {},
   "outputs": [],
   "source": [
    "structure_class = []\n",
    "n_residues = 6\n",
    "n_torsions = 7\n",
    "for j in range(per_monomer_torsions.shape[0]):\n",
    "    per_temp_classes = []\n",
    "    for i in range(per_monomer_torsions.shape[2]):\n",
    "        id_str = \"\"\n",
    "        torsions =  per_monomer_torsions[j, :, i]\n",
    "        for k in range(n_residues):\n",
    "            # Torsion 1\n",
    "            # print(\"Index:\", 0 + k*n_torsions)\n",
    "            if  torsions[0 + k*n_torsions] >= -np.pi and torsions[0 + k*n_torsions] <= -np.pi/2:\n",
    "                id_str += \"0\"\n",
    "            elif torsions[0 + k*n_torsions] >= -np.pi/2 and torsions[0 + k*n_torsions] <= 0:\n",
    "                id_str += \"1\"\n",
    "            elif torsions[0 + k*n_torsions] >= 0 and torsions[0 + k*n_torsions] <= np.pi/2:\n",
    "                id_str += \"2\"\n",
    "            elif torsions[0 + k*n_torsions] >= np.pi/2 and torsions[0 + k*n_torsions] <= np.pi:\n",
    "                id_str += \"3\"\n",
    "\n",
    "            # Torsion 2\n",
    "            # print(\"Index:\", 2 + k*n_torsions)\n",
    "            if  torsions[2+ k*n_torsions] >= -np.pi and torsions[2+ k*n_torsions] <= -np.pi/2:\n",
    "                id_str += \"0\"\n",
    "            elif torsions[2+ k*n_torsions] >= -np.pi/2 and torsions[2+ k*n_torsions] <= 0:\n",
    "                id_str += \"1\"\n",
    "            elif torsions[2+ k*n_torsions] >= 0 and torsions[2+ k*n_torsions] <= np.pi/2:\n",
    "                id_str += \"2\"\n",
    "            elif torsions[2+ k*n_torsions] >= np.pi/2 and torsions[2+ k*n_torsions] <= np.pi:\n",
    "                id_str += \"3\"\n",
    "\n",
    "            # Torsion 3\n",
    "            # print(\"Index:\", 3 + k*n_torsions)\n",
    "            if  torsions[3+ k*n_torsions] >= - np.pi and torsions[3+ k*n_torsions] <= 0:\n",
    "                id_str += \"0\"\n",
    "            elif  torsions[3+ k*n_torsions] >= 0 and torsions[3+ k*n_torsions] <= np.pi:\n",
    "                id_str += \"1\"\n",
    "\n",
    "            # Torsion 4\n",
    "            # print(\"Index:\", 6 + k*n_torsions)\n",
    "            if np.abs(torsions[6+ k*n_torsions]) <= np.pi/2:\n",
    "                id_str += \"0\"\n",
    "            elif np.abs(torsions[6+ k*n_torsions]) >= np.pi/2:\n",
    "                id_str += \"1\"\n",
    "\n",
    "        # Add to list\n",
    "        per_temp_classes.append(id_str)\n",
    "    structure_class.append(per_temp_classes)\n",
    "structure_class = np.array(structure_class)"
   ]
  },
  {
   "cell_type": "code",
   "execution_count": null,
   "metadata": {},
   "outputs": [],
   "source": [
    "structure_class.shape"
   ]
  },
  {
   "cell_type": "code",
   "execution_count": null,
   "metadata": {},
   "outputs": [],
   "source": [
    "pandas.DataFrame(structure_class)"
   ]
  },
  {
   "cell_type": "code",
   "execution_count": null,
   "metadata": {},
   "outputs": [],
   "source": [
    "test = structure_class[4, :]\n",
    "test"
   ]
  },
  {
   "cell_type": "code",
   "execution_count": null,
   "metadata": {},
   "outputs": [],
   "source": [
    "# Go from 3608 vector of configrations to a 3608x3608 matrix of distances\n",
    "dist_matrix = np.zeros([test.shape[0],test.shape[0]])\n",
    "for i in range(test.shape[0]):\n",
    "    for j in range(test.shape[0]):\n",
    "        dist_matrix[i, j] = sum([int(test[i][k] != test[j][k]) for k in range(len(test[0]))])\n",
    "print(dist_matrix)"
   ]
  },
  {
   "cell_type": "code",
   "execution_count": null,
   "metadata": {},
   "outputs": [],
   "source": [
    "k_means = KMeans(n_clusters=3)\n",
    "k_means.fit(dist_matrix)"
   ]
  },
  {
   "cell_type": "code",
   "execution_count": null,
   "metadata": {},
   "outputs": [],
   "source": [
    "k_means.labels_"
   ]
  },
  {
   "cell_type": "code",
   "execution_count": 8,
   "metadata": {
    "scrolled": false
   },
   "outputs": [
    {
     "ename": "NameError",
     "evalue": "name 'dist_matrix' is not defined",
     "output_type": "error",
     "traceback": [
      "\u001b[0;31m---------------------------------------------------------------------------\u001b[0m",
      "\u001b[0;31mNameError\u001b[0m                                 Traceback (most recent call last)",
      "\u001b[0;32m<ipython-input-8-5cbdc233bbc1>\u001b[0m in \u001b[0;36m<module>\u001b[0;34m\u001b[0m\n\u001b[1;32m     19\u001b[0m     \u001b[0;31m# The (n_clusters+1)*10 is for inserting blank space between silhouette\u001b[0m\u001b[0;34m\u001b[0m\u001b[0;34m\u001b[0m\u001b[0;34m\u001b[0m\u001b[0m\n\u001b[1;32m     20\u001b[0m     \u001b[0;31m# plots of individual clusters, to demarcate them clearly.\u001b[0m\u001b[0;34m\u001b[0m\u001b[0;34m\u001b[0m\u001b[0;34m\u001b[0m\u001b[0m\n\u001b[0;32m---> 21\u001b[0;31m     \u001b[0max1\u001b[0m\u001b[0;34m.\u001b[0m\u001b[0mset_ylim\u001b[0m\u001b[0;34m(\u001b[0m\u001b[0;34m[\u001b[0m\u001b[0;36m0\u001b[0m\u001b[0;34m,\u001b[0m \u001b[0mlen\u001b[0m\u001b[0;34m(\u001b[0m\u001b[0mdist_matrix\u001b[0m\u001b[0;34m)\u001b[0m \u001b[0;34m+\u001b[0m \u001b[0;34m(\u001b[0m\u001b[0mn_clusters\u001b[0m \u001b[0;34m+\u001b[0m \u001b[0;36m1\u001b[0m\u001b[0;34m)\u001b[0m \u001b[0;34m*\u001b[0m \u001b[0;36m10\u001b[0m\u001b[0;34m]\u001b[0m\u001b[0;34m)\u001b[0m\u001b[0;34m\u001b[0m\u001b[0;34m\u001b[0m\u001b[0m\n\u001b[0m\u001b[1;32m     22\u001b[0m \u001b[0;34m\u001b[0m\u001b[0m\n\u001b[1;32m     23\u001b[0m     \u001b[0;31m# Initialize the clusterer with n_clusters value and a random generator\u001b[0m\u001b[0;34m\u001b[0m\u001b[0;34m\u001b[0m\u001b[0;34m\u001b[0m\u001b[0m\n",
      "\u001b[0;31mNameError\u001b[0m: name 'dist_matrix' is not defined"
     ]
    },
    {
     "data": {
      "image/png": "[encoded data removed]",
      "text/plain": [
       "<Figure size 432x288 with 1 Axes>"
      ]
     },
     "metadata": {
      "needs_background": "light"
     },
     "output_type": "display_data"
    }
   ],
   "source": [
    "from sklearn.datasets import make_blobs\n",
    "from sklearn.cluster import KMeans\n",
    "from sklearn.metrics import silhouette_samples, silhouette_score\n",
    "\n",
    "import matplotlib.pyplot as plt\n",
    "import matplotlib.cm as cm\n",
    "import numpy as np\n",
    "\n",
    "range_n_clusters = np.arange(2, 10, 1)\n",
    "\n",
    "for n_clusters in range_n_clusters:\n",
    "    # Create a subplot with 1 row and 2 columns\n",
    "    fig, ax1= plt.subplots(1, 1)\n",
    "\n",
    "    # The 1st subplot is the silhouette plot\n",
    "    # The silhouette coefficient can range from -1, 1 but in this example all\n",
    "    # lie within [-0.1, 1]\n",
    "    ax1.set_xlim([-0.1, 1])\n",
    "    # The (n_clusters+1)*10 is for inserting blank space between silhouette\n",
    "    # plots of individual clusters, to demarcate them clearly.\n",
    "    ax1.set_ylim([0, len(dist_matrix) + (n_clusters + 1) * 10])\n",
    "\n",
    "    # Initialize the clusterer with n_clusters value and a random generator\n",
    "    # seed of 10 for reproducibility.\n",
    "    clusterer = KMeans(n_clusters=n_clusters, random_state=10)\n",
    "    cluster_labels = clusterer.fit_predict(dist_matrix)\n",
    "\n",
    "    # The silhouette_score gives the average value for all the samples.\n",
    "    # This gives a perspective into the density and separation of the formed\n",
    "    # clusters\n",
    "    silhouette_avg = silhouette_score(dist_matrix, cluster_labels)\n",
    "    print(\"For n_clusters =\", n_clusters,\n",
    "          \"The average silhouette_score is :\", silhouette_avg)\n",
    "\n",
    "    # Compute the silhouette scores for each sample\n",
    "    sample_silhouette_values = silhouette_samples(dist_matrix, cluster_labels)\n",
    "\n",
    "    y_lower = 10\n",
    "    for i in range(n_clusters):\n",
    "        # Aggregate the silhouette scores for samples belonging to\n",
    "        # cluster i, and sort them\n",
    "        ith_cluster_silhouette_values = \\\n",
    "            sample_silhouette_values[cluster_labels == i]\n",
    "\n",
    "        ith_cluster_silhouette_values.sort()\n",
    "\n",
    "        size_cluster_i = ith_cluster_silhouette_values.shape[0]\n",
    "        y_upper = y_lower + size_cluster_i\n",
    "\n",
    "        color = cm.nipy_spectral(float(i) / n_clusters)\n",
    "        ax1.fill_betweenx(np.arange(y_lower, y_upper),\n",
    "                          0, ith_cluster_silhouette_values,\n",
    "                          facecolor=color, edgecolor=color, alpha=0.7)\n",
    "\n",
    "        # Label the silhouette plots with their cluster numbers at the middle\n",
    "        ax1.text(-0.05, y_lower + 0.5 * size_cluster_i, str(i))\n",
    "\n",
    "        # Compute the new y_lower for next plot\n",
    "        y_lower = y_upper + 10  # 10 for the 0 samples\n",
    "\n",
    "    ax1.set_title(\"The silhouette plot for the various clusters.\")\n",
    "    ax1.set_xlabel(\"The silhouette coefficient values\")\n",
    "    ax1.set_ylabel(\"Cluster label\")\n",
    "\n",
    "    # The vertical line for average silhouette score of all the values\n",
    "    ax1.axvline(x=silhouette_avg, color=\"red\", linestyle=\"--\")\n",
    "\n",
    "    ax1.set_yticks([])  # Clear the yaxis labels / ticks\n",
    "    ax1.set_xticks([-0.1, 0, 0.2, 0.4, 0.6, 0.8, 1])\n",
    "\n",
    "    # Labeling the clusters\n",
    "    centers = clusterer.cluster_centers_\n",
    "\n",
    "plt.show()"
   ]
  },
  {
   "cell_type": "code",
   "execution_count": null,
   "metadata": {},
   "outputs": [],
   "source": [
    "if not os.path.isdir(\"binary_classification\"):\n",
    "    os.mkdir(\"binary_classification\")\n",
    "for i_temp in range(structure_class.shape[0]):\n",
    "    test = structure_class[i_temp, :]\n",
    "    # Go from 3608 vector of configrations to a 3608x3608 matrix of distances\n",
    "    dist_matrix = np.zeros([test.shape[0],test.shape[0]])\n",
    "    for i in range(test.shape[0]):\n",
    "        for j in range(test.shape[0]):\n",
    "            dist_matrix[i, j] = sum([int(test[i][k] != test[j][k]) for k in range(len(test[0]))])\n",
    "    print(dist_matrix)\n",
    "    k_means = KMeans(n_clusters=3)\n",
    "    k_means.fit(dist_matrix)\n",
    "    \n",
    "    if not os.path.isdir(os.path.join(\"binary_classification\", str(i_temp))):\n",
    "        os.mkdir(os.path.join(\"binary_classification\", str(i_temp)))\n",
    "    for i_cluster in np.unique(k_means.labels_):\n",
    "        print(\"Cluster index\", i_cluster)\n",
    "        cluster_index = np.where(k_means.labels_ == i_cluster)\n",
    "        print(test[cluster_index])\n",
    "        cluster = remd_trajs.trajs[i_temp][cluster_index]\n",
    "        print(os.path.join(\"binary_classification\", str(i_temp), \"test_\" + str(i_cluster) + \".pdb\"))\n",
    "        cluster.save(os.path.join(\"binary_classification\", str(i_temp), \"test_\" + str(i_cluster) + \".pdb\"))"
   ]
  },
  {
   "cell_type": "markdown",
   "metadata": {},
   "source": [
    "## Clustering based on angle components"
   ]
  },
  {
   "cell_type": "code",
   "execution_count": null,
   "metadata": {},
   "outputs": [],
   "source": [
    "from sklearn.cluster import MeanShift, estimate_bandwidth"
   ]
  },
  {
   "cell_type": "code",
   "execution_count": null,
   "metadata": {},
   "outputs": [],
   "source": [
    "classification_matrix.shape"
   ]
  },
  {
   "cell_type": "code",
   "execution_count": null,
   "metadata": {},
   "outputs": [],
   "source": [
    "torsion_component_shape = list(classification_matrix.shape)\n",
    "torsion_component_shape[1] = torsion_component_shape[1] * 2\n",
    "classification_matrix_comps = np.zeros(torsion_component_shape)"
   ]
  },
  {
   "cell_type": "code",
   "execution_count": null,
   "metadata": {},
   "outputs": [],
   "source": [
    "torsion_component_shape = list(classification_matrix.shape)\n",
    "torsion_component_shape[1] = torsion_component_shape[1] * 2\n",
    "classification_matrix_comps = np.zeros(torsion_component_shape)\n",
    "for i in range(classification_matrix.shape[1]):\n",
    "    torsions = classification_matrix[:, i, :]\n",
    "    classification_matrix_comps[:, 2*i, :] = np.cos(torsions)\n",
    "    classification_matrix_comps[:, 2*i + 1, :] = np.sin(torsions)\n",
    "classification_matrix_comps.shape"
   ]
  },
  {
   "cell_type": "code",
   "execution_count": null,
   "metadata": {},
   "outputs": [],
   "source": [
    "per_monomer_torsions_comp = np.array(per_monomer_torsions_comp)\n",
    "per_monomer_torsions_comp.shape"
   ]
  },
  {
   "cell_type": "code",
   "execution_count": null,
   "metadata": {},
   "outputs": [],
   "source": []
  },
  {
   "cell_type": "code",
   "execution_count": null,
   "metadata": {},
   "outputs": [],
   "source": [
    "for i in range(classification_matrix_comps.shape[0]):\n",
    "    temp_frames = classification_matrix_comps[i, :, :]\n",
    "    bandwidth = 1.5\n",
    "    ms = MeanShift(bandwidth=bandwidth, bin_seeding=True, n_jobs= -1)\n",
    "    print(temp_frames.shape)\n",
    "    ms.fit(temp_frames.T)\n",
    "    labels = ms.labels_\n",
    "    print(labels)\n",
    "    unique, counts = np.unique(labels, return_counts = True)\n",
    "    for a, b in zip(unique, counts):\n",
    "        print(\"Label\", a, \":\", b)"
   ]
  },
  {
   "cell_type": "code",
   "execution_count": null,
   "metadata": {},
   "outputs": [],
   "source": [
    "label_per_residue_temp_frame = labels.reshape(*classification_matrix.shape[1:])\n",
    "label_per_residue_temp_frame.shape"
   ]
  },
  {
   "cell_type": "code",
   "execution_count": null,
   "metadata": {},
   "outputs": [],
   "source": [
    "unique, counts = np.unique(labels,return_counts=True)\n",
    "\n",
    "for u, c in zip(unique, counts):\n",
    "    print(\"Cluster\", u, \":\", c)"
   ]
  },
  {
   "cell_type": "code",
   "execution_count": null,
   "metadata": {},
   "outputs": [],
   "source": [
    "cluster_torsions = [np.arctan2(ms.cluster_centers_[:, 2*i + 1], ms.cluster_centers_[:, 2*i]) for i in range(7)]\n",
    "cluster_torsions = np.array(cluster_torsions)\n",
    "cluster_torsions.shape"
   ]
  },
  {
   "cell_type": "code",
   "execution_count": null,
   "metadata": {
    "scrolled": false
   },
   "outputs": [],
   "source": [
    "import matplotlib\n",
    "cm = matplotlib.cm.cmap_d[\"Set1\"]\n",
    "\n",
    "cluster_id = 0\n",
    "colors = cm(np.linspace(0,1,7))\n",
    "for i in range(7):\n",
    "    plt.figure(dpi=300)\n",
    "    hist = plt.hist(np.arctan2(per_monomer_torsions_comp[2*i + 1,:], per_monomer_torsions_comp[2*i,:]), bins=80, density=True, color=colors[i])\n",
    "    print(colors[i])\n",
    "    plt.xlabel(\"Torsion \" + str(i))\n",
    "    plt.ylabel(\"Density\")\n",
    "    plt.savefig(\"terphenyl_remd_torsion_\" + str(i) + \".png\")\n",
    "    colors = cm(np.linspace(0,1,cluster_torsions.shape[1]))\n",
    "    for j in range(cluster_torsions.shape[1]):\n",
    "        plt.vlines(cluster_torsions[i,j], ymin=0, ymax=np.max(hist[0]), color = colors[j], linestyles = \"dotted\", linewidths=2)"
   ]
  },
  {
   "cell_type": "code",
   "execution_count": null,
   "metadata": {},
   "outputs": [],
   "source": [
    "# Extract structures of clusters"
   ]
  },
  {
   "cell_type": "markdown",
   "metadata": {},
   "source": [
    "## RMSD Clustering\n",
    "\n"
   ]
  },
  {
   "cell_type": "code",
   "execution_count": 9,
   "metadata": {},
   "outputs": [],
   "source": [
    "top = remd_trajs.trajs[0].topology\n",
    "resname_selection = top.select(\"resname OCT\")\n",
    "\n",
    "octamer = remd_trajs.trajs[29].atom_slice(resname_selection)"
   ]
  },
  {
   "cell_type": "code",
   "execution_count": 10,
   "metadata": {},
   "outputs": [
    {
     "data": {
      "text/plain": [
       "<mdtraj.Trajectory with 3608 frames, 373 atoms, 1 residues, and unitcells at 0x7f0a47436370>"
      ]
     },
     "execution_count": 10,
     "metadata": {},
     "output_type": "execute_result"
    }
   ],
   "source": [
    "octamer.superpose(octamer[0])"
   ]
  },
  {
   "cell_type": "code",
   "execution_count": 11,
   "metadata": {},
   "outputs": [],
   "source": [
    "rmsd_matrix = np.zeros([octamer.n_frames]*2)\n",
    "for i in range(octamer.n_frames):\n",
    "    rmsd_matrix[:, i] = mdtraj.rmsd(octamer, octamer[i])"
   ]
  },
  {
   "cell_type": "code",
   "execution_count": 24,
   "metadata": {
    "scrolled": true
   },
   "outputs": [
    {
     "name": "stdout",
     "output_type": "stream",
     "text": [
      "Temperature 0\n",
      "2 clusters, silhouette score: 0.2574213800970541\n",
      "4 clusters, silhouette score: 0.28775143870990577\n",
      "6 clusters, silhouette score: 0.3001573599895302\n",
      "8 clusters, silhouette score: 0.3354499124675876\n",
      "10 clusters, silhouette score: 0.3645837123752954\n",
      "12 clusters, silhouette score: 0.37556459717055807\n",
      "14 clusters, silhouette score: 0.3887928576615987\n",
      "16 clusters, silhouette score: 0.3964523107280065\n",
      "18 clusters, silhouette score: 0.3990966214732435\n",
      "20 clusters, silhouette score: 0.40514437333429765\n",
      "22 clusters, silhouette score: 0.40011427397577615\n",
      "24 clusters, silhouette score: 0.405226157237934\n",
      "26 clusters, silhouette score: 0.4133968581770129\n",
      "28 clusters, silhouette score: 0.4114169093892919\n",
      "30 clusters, silhouette score: 0.38578196682565385\n",
      "32 clusters, silhouette score: 0.3829929879366187\n",
      "34 clusters, silhouette score: 0.38243696353566636\n",
      "36 clusters, silhouette score: 0.3735829701748065\n",
      "38 clusters, silhouette score: 0.38631701925202383\n",
      "Temperature 1\n",
      "2 clusters, silhouette score: 0.2537261754711776\n",
      "4 clusters, silhouette score: 0.271448015865408\n",
      "6 clusters, silhouette score: 0.29214372020562174\n",
      "8 clusters, silhouette score: 0.33198871606317926\n",
      "10 clusters, silhouette score: 0.3585538167289616\n",
      "12 clusters, silhouette score: 0.35907005527954194\n",
      "14 clusters, silhouette score: 0.3763692629448588\n",
      "16 clusters, silhouette score: 0.38171756089400294\n",
      "18 clusters, silhouette score: 0.38877510118859754\n",
      "20 clusters, silhouette score: 0.3913782550312644\n",
      "22 clusters, silhouette score: 0.39517727981699674\n",
      "24 clusters, silhouette score: 0.394430098349901\n",
      "26 clusters, silhouette score: 0.3926553074974122\n",
      "28 clusters, silhouette score: 0.3666826665570415\n",
      "30 clusters, silhouette score: 0.3694933603841882\n",
      "32 clusters, silhouette score: 0.36945285937441336\n",
      "34 clusters, silhouette score: 0.3619781345201891\n",
      "36 clusters, silhouette score: 0.3531884617141104\n",
      "38 clusters, silhouette score: 0.3951049355377213\n",
      "Temperature 2\n",
      "2 clusters, silhouette score: 0.2532419343015824\n",
      "4 clusters, silhouette score: 0.243797808608631\n",
      "6 clusters, silhouette score: 0.2626017112507676\n",
      "8 clusters, silhouette score: 0.29690802463824956\n",
      "10 clusters, silhouette score: 0.3252293650836399\n",
      "12 clusters, silhouette score: 0.3228821767951659\n",
      "14 clusters, silhouette score: 0.33661002988660893\n",
      "16 clusters, silhouette score: 0.3464149832792774\n",
      "18 clusters, silhouette score: 0.36364837335915845\n",
      "20 clusters, silhouette score: 0.3643750880920911\n",
      "22 clusters, silhouette score: 0.36853260463143017\n",
      "24 clusters, silhouette score: 0.35480364597310265\n",
      "26 clusters, silhouette score: 0.36268862276626057\n",
      "28 clusters, silhouette score: 0.37104089238725196\n",
      "30 clusters, silhouette score: 0.36913042742342556\n",
      "32 clusters, silhouette score: 0.3695595905081675\n",
      "34 clusters, silhouette score: 0.37631328824337723\n",
      "36 clusters, silhouette score: 0.37203457203430595\n",
      "38 clusters, silhouette score: 0.34577047924980187\n",
      "Temperature 3\n",
      "2 clusters, silhouette score: 0.2585127440137617\n",
      "4 clusters, silhouette score: 0.22656323293598668\n",
      "6 clusters, silhouette score: 0.2672247526077099\n",
      "8 clusters, silhouette score: 0.2678564736398549\n",
      "10 clusters, silhouette score: 0.30363249613760374\n",
      "12 clusters, silhouette score: 0.2985282635413262\n",
      "14 clusters, silhouette score: 0.31436626179699856\n",
      "16 clusters, silhouette score: 0.3309687658909633\n",
      "18 clusters, silhouette score: 0.34237773319962606\n",
      "20 clusters, silhouette score: 0.33890718940174797\n",
      "22 clusters, silhouette score: 0.3483815522553398\n",
      "24 clusters, silhouette score: 0.3559923356846034\n",
      "26 clusters, silhouette score: 0.3414791058514375\n",
      "28 clusters, silhouette score: 0.34703088615683536\n",
      "30 clusters, silhouette score: 0.3449198738948378\n",
      "32 clusters, silhouette score: 0.346268771964542\n",
      "34 clusters, silhouette score: 0.3307053261266874\n",
      "36 clusters, silhouette score: 0.3481494153845892\n",
      "38 clusters, silhouette score: 0.35928884781588194\n",
      "Temperature 4\n",
      "2 clusters, silhouette score: 0.26774333607111134\n",
      "4 clusters, silhouette score: 0.23662349317756565\n",
      "6 clusters, silhouette score: 0.25043562227540006\n",
      "8 clusters, silhouette score: 0.25536758942656146\n",
      "10 clusters, silhouette score: 0.2713625652604261\n",
      "12 clusters, silhouette score: 0.29157584910819645\n",
      "14 clusters, silhouette score: 0.29359449253796926\n",
      "16 clusters, silhouette score: 0.3029987066937803\n",
      "18 clusters, silhouette score: 0.30570558729158437\n",
      "20 clusters, silhouette score: 0.32058325800533927\n",
      "22 clusters, silhouette score: 0.3239931096493826\n",
      "24 clusters, silhouette score: 0.32493472037024657\n",
      "26 clusters, silhouette score: 0.3285972323880844\n",
      "28 clusters, silhouette score: 0.3334707799390484\n",
      "30 clusters, silhouette score: 0.33654303249581374\n",
      "32 clusters, silhouette score: 0.3256438725828585\n",
      "34 clusters, silhouette score: 0.3284347522082198\n",
      "36 clusters, silhouette score: 0.3360968614688533\n",
      "38 clusters, silhouette score: 0.34579630334353473\n",
      "Temperature 5\n",
      "2 clusters, silhouette score: 0.2715594618364974\n",
      "4 clusters, silhouette score: 0.216061387237459\n",
      "6 clusters, silhouette score: 0.23541859994055342\n",
      "8 clusters, silhouette score: 0.24336876650610997\n",
      "10 clusters, silhouette score: 0.25962940073244084\n",
      "12 clusters, silhouette score: 0.27464242855069515\n",
      "14 clusters, silhouette score: 0.27219252272060546\n",
      "16 clusters, silhouette score: 0.2805000711530029\n",
      "18 clusters, silhouette score: 0.2907109845308138\n",
      "20 clusters, silhouette score: 0.29858060533445147\n",
      "22 clusters, silhouette score: 0.3098781793340035\n",
      "24 clusters, silhouette score: 0.302509272670234\n",
      "26 clusters, silhouette score: 0.3180756853646303\n",
      "28 clusters, silhouette score: 0.305646344713262\n",
      "30 clusters, silhouette score: 0.31612926054506296\n",
      "32 clusters, silhouette score: 0.3293150722762307\n",
      "34 clusters, silhouette score: 0.31935601419152554\n",
      "36 clusters, silhouette score: 0.29959246855162486\n",
      "38 clusters, silhouette score: 0.314924637731868\n",
      "Temperature 6\n",
      "2 clusters, silhouette score: 0.2834418156798632\n",
      "4 clusters, silhouette score: 0.20895966878983596\n",
      "6 clusters, silhouette score: 0.21132502723285104\n",
      "8 clusters, silhouette score: 0.22987783763813197\n",
      "10 clusters, silhouette score: 0.24351878269432334\n",
      "12 clusters, silhouette score: 0.25277843352791785\n",
      "14 clusters, silhouette score: 0.27611305872670383\n",
      "16 clusters, silhouette score: 0.27682446533453364\n",
      "18 clusters, silhouette score: 0.2862300819269318\n",
      "20 clusters, silhouette score: 0.2920272101872947\n",
      "22 clusters, silhouette score: 0.2982895857434546\n",
      "24 clusters, silhouette score: 0.29926996434364656\n",
      "26 clusters, silhouette score: 0.302589393933664\n",
      "28 clusters, silhouette score: 0.3041633939298436\n",
      "30 clusters, silhouette score: 0.31122661545264535\n",
      "32 clusters, silhouette score: 0.3095894529367249\n",
      "34 clusters, silhouette score: 0.31125763435724724\n",
      "36 clusters, silhouette score: 0.3119576923132907\n",
      "38 clusters, silhouette score: 0.31458953639854376\n",
      "Temperature 7\n",
      "2 clusters, silhouette score: 0.27379238054587096\n",
      "4 clusters, silhouette score: 0.20167451965612068\n",
      "6 clusters, silhouette score: 0.1978955129178477\n",
      "8 clusters, silhouette score: 0.21010813069430725\n",
      "10 clusters, silhouette score: 0.2146030754434445\n",
      "12 clusters, silhouette score: 0.23400812652915268\n",
      "14 clusters, silhouette score: 0.25489686829759967\n",
      "16 clusters, silhouette score: 0.26949743250011593\n",
      "18 clusters, silhouette score: 0.27044827919797204\n",
      "20 clusters, silhouette score: 0.2764904497853007\n",
      "22 clusters, silhouette score: 0.28476647703957103\n",
      "24 clusters, silhouette score: 0.2878536546394465\n",
      "26 clusters, silhouette score: 0.2877143633161393\n",
      "28 clusters, silhouette score: 0.2866655650620962\n",
      "30 clusters, silhouette score: 0.29415656506754473\n",
      "32 clusters, silhouette score: 0.29548831938184483\n",
      "34 clusters, silhouette score: 0.3034754620527217\n",
      "36 clusters, silhouette score: 0.2967821339856146\n",
      "38 clusters, silhouette score: 0.2968639315961011\n",
      "Temperature 8\n",
      "2 clusters, silhouette score: 0.262093887858525\n",
      "4 clusters, silhouette score: 0.19349645150073946\n",
      "6 clusters, silhouette score: 0.19061527642646725\n",
      "8 clusters, silhouette score: 0.19155942659304773\n",
      "10 clusters, silhouette score: 0.20350660494400752\n",
      "12 clusters, silhouette score: 0.22613531059421665\n",
      "14 clusters, silhouette score: 0.22885186911846075\n",
      "16 clusters, silhouette score: 0.2287516137543169\n",
      "18 clusters, silhouette score: 0.23583616378656766\n"
     ]
    },
    {
     "name": "stdout",
     "output_type": "stream",
     "text": [
      "20 clusters, silhouette score: 0.2464785433340465\n",
      "22 clusters, silhouette score: 0.2510041975646142\n",
      "24 clusters, silhouette score: 0.2569112035098184\n",
      "26 clusters, silhouette score: 0.25632090313484346\n",
      "28 clusters, silhouette score: 0.26844095143770846\n",
      "30 clusters, silhouette score: 0.2686720978668321\n",
      "32 clusters, silhouette score: 0.26905470330039866\n",
      "34 clusters, silhouette score: 0.2717615363538696\n",
      "36 clusters, silhouette score: 0.2781335047907145\n",
      "38 clusters, silhouette score: 0.27496555197453015\n",
      "Temperature 9\n",
      "2 clusters, silhouette score: 0.2461170520986071\n",
      "4 clusters, silhouette score: 0.18940127857980552\n",
      "6 clusters, silhouette score: 0.1757805961339505\n",
      "8 clusters, silhouette score: 0.17762112343852013\n",
      "10 clusters, silhouette score: 0.2006685005290243\n",
      "12 clusters, silhouette score: 0.20909001297347754\n",
      "14 clusters, silhouette score: 0.21530078843613343\n",
      "16 clusters, silhouette score: 0.2195579899035654\n",
      "18 clusters, silhouette score: 0.21845971723470795\n",
      "20 clusters, silhouette score: 0.22602554175731485\n",
      "22 clusters, silhouette score: 0.22818702618822997\n",
      "24 clusters, silhouette score: 0.23624651585845974\n",
      "26 clusters, silhouette score: 0.2400082027143829\n",
      "28 clusters, silhouette score: 0.24480886136916688\n",
      "30 clusters, silhouette score: 0.25554287616882504\n",
      "32 clusters, silhouette score: 0.25216835009402944\n",
      "34 clusters, silhouette score: 0.25749855149245326\n",
      "36 clusters, silhouette score: 0.25848211469877336\n",
      "38 clusters, silhouette score: 0.26302659562146574\n",
      "Temperature 10\n",
      "2 clusters, silhouette score: 0.23950904434996576\n",
      "4 clusters, silhouette score: 0.19475666352316037\n",
      "6 clusters, silhouette score: 0.1721319486762291\n",
      "8 clusters, silhouette score: 0.16829539167031704\n",
      "10 clusters, silhouette score: 0.18296468862054668\n",
      "12 clusters, silhouette score: 0.1909587962984055\n",
      "14 clusters, silhouette score: 0.1928346201776495\n",
      "16 clusters, silhouette score: 0.20318033090283183\n",
      "18 clusters, silhouette score: 0.20050542368983423\n",
      "20 clusters, silhouette score: 0.20296266973851335\n",
      "22 clusters, silhouette score: 0.213277733396481\n",
      "24 clusters, silhouette score: 0.2129996601341701\n",
      "26 clusters, silhouette score: 0.22230940180896505\n",
      "28 clusters, silhouette score: 0.22372588423927459\n",
      "30 clusters, silhouette score: 0.23042496229826087\n",
      "32 clusters, silhouette score: 0.2297935356551603\n",
      "34 clusters, silhouette score: 0.2365685672062983\n",
      "36 clusters, silhouette score: 0.23661688550007776\n",
      "38 clusters, silhouette score: 0.2409706843179384\n",
      "Temperature 11\n",
      "2 clusters, silhouette score: 0.21521154160551467\n",
      "4 clusters, silhouette score: 0.18996321427484325\n",
      "6 clusters, silhouette score: 0.15976555607891726\n",
      "8 clusters, silhouette score: 0.16879936470045379\n",
      "10 clusters, silhouette score: 0.17892274866534238\n",
      "12 clusters, silhouette score: 0.1827087175184576\n",
      "14 clusters, silhouette score: 0.18931334210813583\n",
      "16 clusters, silhouette score: 0.1862078527560366\n",
      "18 clusters, silhouette score: 0.1847390471217931\n",
      "20 clusters, silhouette score: 0.18659165646994214\n",
      "22 clusters, silhouette score: 0.19096792321212713\n",
      "24 clusters, silhouette score: 0.1944817612088129\n",
      "26 clusters, silhouette score: 0.20307307705730704\n",
      "28 clusters, silhouette score: 0.1963456907302688\n",
      "30 clusters, silhouette score: 0.20294674853057645\n",
      "32 clusters, silhouette score: 0.20965587581119216\n",
      "34 clusters, silhouette score: 0.21487281676151462\n",
      "36 clusters, silhouette score: 0.214778290498807\n",
      "38 clusters, silhouette score: 0.22127784102918685\n",
      "Temperature 12\n",
      "2 clusters, silhouette score: 0.21004434726759888\n",
      "4 clusters, silhouette score: 0.1810007777439517\n",
      "6 clusters, silhouette score: 0.15471035227041988\n",
      "8 clusters, silhouette score: 0.16327406374360398\n",
      "10 clusters, silhouette score: 0.1630450415804371\n",
      "12 clusters, silhouette score: 0.17294814385456986\n",
      "14 clusters, silhouette score: 0.16944465984620746\n",
      "16 clusters, silhouette score: 0.17787836830048717\n",
      "18 clusters, silhouette score: 0.18333683826720687\n",
      "20 clusters, silhouette score: 0.17994042725175624\n",
      "22 clusters, silhouette score: 0.18704281745265364\n",
      "24 clusters, silhouette score: 0.18825464908537903\n",
      "26 clusters, silhouette score: 0.19228004345682786\n",
      "28 clusters, silhouette score: 0.1935194867376073\n",
      "30 clusters, silhouette score: 0.19903403741036685\n",
      "32 clusters, silhouette score: 0.1959149427712926\n",
      "34 clusters, silhouette score: 0.20333483087868204\n",
      "36 clusters, silhouette score: 0.20709497242958455\n",
      "38 clusters, silhouette score: 0.20409051298223974\n",
      "Temperature 13\n",
      "2 clusters, silhouette score: 0.22522372058258253\n",
      "4 clusters, silhouette score: 0.17310362377181757\n",
      "6 clusters, silhouette score: 0.14679592165738617\n",
      "8 clusters, silhouette score: 0.16988691715510684\n",
      "10 clusters, silhouette score: 0.15710486087233994\n",
      "12 clusters, silhouette score: 0.16290760110596755\n",
      "14 clusters, silhouette score: 0.167858716097946\n",
      "16 clusters, silhouette score: 0.17438901387616088\n",
      "18 clusters, silhouette score: 0.17154579073249862\n",
      "20 clusters, silhouette score: 0.16992557118533866\n",
      "22 clusters, silhouette score: 0.17394496867104814\n",
      "24 clusters, silhouette score: 0.18121729318855923\n",
      "26 clusters, silhouette score: 0.17827916230197327\n",
      "28 clusters, silhouette score: 0.18223323055082916\n",
      "30 clusters, silhouette score: 0.19459032108499197\n",
      "32 clusters, silhouette score: 0.18962170406980025\n",
      "34 clusters, silhouette score: 0.19582997884394243\n",
      "36 clusters, silhouette score: 0.20083114233220306\n",
      "38 clusters, silhouette score: 0.20079865409341938\n",
      "Temperature 14\n",
      "2 clusters, silhouette score: 0.22491276964234946\n",
      "4 clusters, silhouette score: 0.16828926252874385\n",
      "6 clusters, silhouette score: 0.16371796991363263\n",
      "8 clusters, silhouette score: 0.16211919494029584\n",
      "10 clusters, silhouette score: 0.1641387847826438\n",
      "12 clusters, silhouette score: 0.16579536057098412\n",
      "14 clusters, silhouette score: 0.16485478343525306\n",
      "16 clusters, silhouette score: 0.16797740163095454\n",
      "18 clusters, silhouette score: 0.16517395782750396\n",
      "20 clusters, silhouette score: 0.169563573523798\n",
      "22 clusters, silhouette score: 0.17603278398321232\n",
      "24 clusters, silhouette score: 0.17320982960180037\n",
      "26 clusters, silhouette score: 0.18038746952121174\n",
      "28 clusters, silhouette score: 0.18222000641932842\n",
      "30 clusters, silhouette score: 0.18915027452037092\n",
      "32 clusters, silhouette score: 0.18475182675542084\n",
      "34 clusters, silhouette score: 0.18938293425511168\n",
      "36 clusters, silhouette score: 0.1949822458908503\n",
      "38 clusters, silhouette score: 0.20049194826295777\n",
      "Temperature 15\n",
      "2 clusters, silhouette score: 0.20985714144927833\n",
      "4 clusters, silhouette score: 0.16147469549616456\n",
      "6 clusters, silhouette score: 0.14238088673949925\n",
      "8 clusters, silhouette score: 0.16040964422169932\n",
      "10 clusters, silhouette score: 0.1480627179335668\n",
      "12 clusters, silhouette score: 0.15156260269127012\n",
      "14 clusters, silhouette score: 0.1499536215955819\n",
      "16 clusters, silhouette score: 0.1522509149648604\n",
      "18 clusters, silhouette score: 0.15738158970569316\n",
      "20 clusters, silhouette score: 0.15982416698475613\n",
      "22 clusters, silhouette score: 0.15829569281522343\n",
      "24 clusters, silhouette score: 0.16319583809429622\n",
      "26 clusters, silhouette score: 0.17222148437386736\n",
      "28 clusters, silhouette score: 0.16847489831691825\n",
      "30 clusters, silhouette score: 0.16925965602315568\n",
      "32 clusters, silhouette score: 0.17829043454094762\n",
      "34 clusters, silhouette score: 0.17402657042242\n",
      "36 clusters, silhouette score: 0.1740014166811972\n",
      "38 clusters, silhouette score: 0.1804421504892025\n",
      "Temperature 16\n",
      "2 clusters, silhouette score: 0.21868223720197727\n",
      "4 clusters, silhouette score: 0.17712081138914632\n",
      "6 clusters, silhouette score: 0.1402249071636532\n",
      "8 clusters, silhouette score: 0.1581283470624538\n",
      "10 clusters, silhouette score: 0.15637070773392622\n",
      "12 clusters, silhouette score: 0.1488176865520702\n",
      "14 clusters, silhouette score: 0.15212002637525493\n",
      "16 clusters, silhouette score: 0.1572942371941196\n",
      "18 clusters, silhouette score: 0.15653738806440756\n",
      "20 clusters, silhouette score: 0.1570028012321052\n",
      "22 clusters, silhouette score: 0.15324339203434642\n",
      "24 clusters, silhouette score: 0.16176162883520842\n",
      "26 clusters, silhouette score: 0.16090082380363394\n",
      "28 clusters, silhouette score: 0.16616396183070334\n",
      "30 clusters, silhouette score: 0.1666246885471635\n",
      "32 clusters, silhouette score: 0.16816884984274338\n",
      "34 clusters, silhouette score: 0.16978041333989782\n"
     ]
    },
    {
     "name": "stdout",
     "output_type": "stream",
     "text": [
      "36 clusters, silhouette score: 0.17508539125535055\n",
      "38 clusters, silhouette score: 0.17399003147205308\n",
      "Temperature 17\n",
      "2 clusters, silhouette score: 0.21345056117044428\n",
      "4 clusters, silhouette score: 0.17795778992044944\n",
      "6 clusters, silhouette score: 0.14238903045983617\n",
      "8 clusters, silhouette score: 0.13456584332800478\n",
      "10 clusters, silhouette score: 0.1427527400969894\n",
      "12 clusters, silhouette score: 0.1409484459626051\n",
      "14 clusters, silhouette score: 0.14002876332740088\n",
      "16 clusters, silhouette score: 0.14324406200215772\n",
      "18 clusters, silhouette score: 0.14734828924277524\n",
      "20 clusters, silhouette score: 0.1466018750308946\n",
      "22 clusters, silhouette score: 0.14719740395454664\n",
      "24 clusters, silhouette score: 0.1486815867896733\n",
      "26 clusters, silhouette score: 0.15369068137300163\n",
      "28 clusters, silhouette score: 0.15736165754983697\n",
      "30 clusters, silhouette score: 0.16058019030651818\n",
      "32 clusters, silhouette score: 0.16293663651512183\n",
      "34 clusters, silhouette score: 0.16038272964782654\n",
      "36 clusters, silhouette score: 0.16964204888830442\n",
      "38 clusters, silhouette score: 0.17317223635929416\n",
      "Temperature 18\n",
      "2 clusters, silhouette score: 0.20835185625495045\n",
      "4 clusters, silhouette score: 0.16642438884713823\n",
      "6 clusters, silhouette score: 0.14036464007990693\n",
      "8 clusters, silhouette score: 0.1326070539819947\n",
      "10 clusters, silhouette score: 0.144731796601048\n",
      "12 clusters, silhouette score: 0.13838175834526836\n",
      "14 clusters, silhouette score: 0.1359843623863674\n",
      "16 clusters, silhouette score: 0.14417111357321435\n",
      "18 clusters, silhouette score: 0.1468415112885623\n",
      "20 clusters, silhouette score: 0.149583487160794\n",
      "22 clusters, silhouette score: 0.1476947593540978\n",
      "24 clusters, silhouette score: 0.14762818514065884\n",
      "26 clusters, silhouette score: 0.15389852581551688\n",
      "28 clusters, silhouette score: 0.15753074160806974\n",
      "30 clusters, silhouette score: 0.1578509817676315\n",
      "32 clusters, silhouette score: 0.16388209482155408\n",
      "34 clusters, silhouette score: 0.16006167574835642\n",
      "36 clusters, silhouette score: 0.16443742621195723\n",
      "38 clusters, silhouette score: 0.16388566142485858\n",
      "Temperature 19\n",
      "2 clusters, silhouette score: 0.19790942486279653\n",
      "4 clusters, silhouette score: 0.19390848093444515\n",
      "6 clusters, silhouette score: 0.1402228316311734\n",
      "8 clusters, silhouette score: 0.13278303359213556\n",
      "10 clusters, silhouette score: 0.14304174130748734\n",
      "12 clusters, silhouette score: 0.13641446024594142\n",
      "14 clusters, silhouette score: 0.1345915212237695\n",
      "16 clusters, silhouette score: 0.1383083293462264\n",
      "18 clusters, silhouette score: 0.13990651647738572\n",
      "20 clusters, silhouette score: 0.13847994572915354\n",
      "22 clusters, silhouette score: 0.14439552491585086\n",
      "24 clusters, silhouette score: 0.144858937823304\n",
      "26 clusters, silhouette score: 0.14478751719564537\n",
      "28 clusters, silhouette score: 0.1524177014026719\n",
      "30 clusters, silhouette score: 0.1536713285293022\n",
      "32 clusters, silhouette score: 0.15740457826328386\n",
      "34 clusters, silhouette score: 0.15851561589493396\n",
      "36 clusters, silhouette score: 0.16207143975989177\n",
      "38 clusters, silhouette score: 0.16480258268010906\n",
      "Temperature 20\n",
      "2 clusters, silhouette score: 0.201828556863436\n",
      "4 clusters, silhouette score: 0.19801827246778617\n",
      "6 clusters, silhouette score: 0.1334516232004039\n",
      "8 clusters, silhouette score: 0.13351081648469615\n",
      "10 clusters, silhouette score: 0.12498520247079947\n",
      "12 clusters, silhouette score: 0.12818143130308193\n",
      "14 clusters, silhouette score: 0.12875818741813835\n",
      "16 clusters, silhouette score: 0.13526252324629567\n",
      "18 clusters, silhouette score: 0.13740474581819329\n",
      "20 clusters, silhouette score: 0.13473026858211473\n",
      "22 clusters, silhouette score: 0.1374642767779163\n",
      "24 clusters, silhouette score: 0.142545471689877\n",
      "26 clusters, silhouette score: 0.14054617558055923\n",
      "28 clusters, silhouette score: 0.14630282237133907\n",
      "30 clusters, silhouette score: 0.14375687503893633\n",
      "32 clusters, silhouette score: 0.14398893015887665\n",
      "34 clusters, silhouette score: 0.14190036683708598\n",
      "36 clusters, silhouette score: 0.1454770933078167\n",
      "38 clusters, silhouette score: 0.1479578059100354\n",
      "Temperature 21\n",
      "2 clusters, silhouette score: 0.20207568142342772\n",
      "4 clusters, silhouette score: 0.18045013378072147\n",
      "6 clusters, silhouette score: 0.1475189051889887\n",
      "8 clusters, silhouette score: 0.13288040041467816\n",
      "10 clusters, silhouette score: 0.12916905242796992\n",
      "12 clusters, silhouette score: 0.13469605987990577\n",
      "14 clusters, silhouette score: 0.1404587052295953\n",
      "16 clusters, silhouette score: 0.1362748928972326\n",
      "18 clusters, silhouette score: 0.13806934338853988\n",
      "20 clusters, silhouette score: 0.14209640552269948\n",
      "22 clusters, silhouette score: 0.14488115097686563\n",
      "24 clusters, silhouette score: 0.1432363684774871\n",
      "26 clusters, silhouette score: 0.14843312285704766\n",
      "28 clusters, silhouette score: 0.149928124350251\n",
      "30 clusters, silhouette score: 0.14726327029756386\n",
      "32 clusters, silhouette score: 0.1522749618781333\n",
      "34 clusters, silhouette score: 0.15236566965655254\n",
      "36 clusters, silhouette score: 0.1530321198039342\n",
      "38 clusters, silhouette score: 0.1530107689314813\n",
      "Temperature 22\n",
      "2 clusters, silhouette score: 0.19632681025316404\n",
      "4 clusters, silhouette score: 0.186099395793111\n",
      "6 clusters, silhouette score: 0.15484565749819904\n",
      "8 clusters, silhouette score: 0.13054038854399366\n",
      "10 clusters, silhouette score: 0.12746476793378028\n",
      "12 clusters, silhouette score: 0.13261726049589895\n",
      "14 clusters, silhouette score: 0.126151571970866\n",
      "16 clusters, silhouette score: 0.1316661055290615\n",
      "18 clusters, silhouette score: 0.13041405903778172\n",
      "20 clusters, silhouette score: 0.12899164965268675\n",
      "22 clusters, silhouette score: 0.1281857581939675\n",
      "24 clusters, silhouette score: 0.13124962584243585\n",
      "26 clusters, silhouette score: 0.13396112522905307\n",
      "28 clusters, silhouette score: 0.13108808216950954\n",
      "30 clusters, silhouette score: 0.1364932494568938\n",
      "32 clusters, silhouette score: 0.13650496398715287\n",
      "34 clusters, silhouette score: 0.14060759625932504\n",
      "36 clusters, silhouette score: 0.13938194703216095\n",
      "38 clusters, silhouette score: 0.1399980164182976\n",
      "Temperature 23\n",
      "2 clusters, silhouette score: 0.20160327764082966\n",
      "4 clusters, silhouette score: 0.19283586926093135\n",
      "6 clusters, silhouette score: 0.15161564868216884\n",
      "8 clusters, silhouette score: 0.13446693401162418\n",
      "10 clusters, silhouette score: 0.14451989879691293\n",
      "12 clusters, silhouette score: 0.1414192592368487\n",
      "14 clusters, silhouette score: 0.13797432044861485\n",
      "16 clusters, silhouette score: 0.1371790516838526\n",
      "18 clusters, silhouette score: 0.13705957991520748\n",
      "20 clusters, silhouette score: 0.13866299663326187\n",
      "22 clusters, silhouette score: 0.13810146374897167\n",
      "24 clusters, silhouette score: 0.13704879637750705\n",
      "26 clusters, silhouette score: 0.1369661697521835\n",
      "28 clusters, silhouette score: 0.13726492411070534\n",
      "30 clusters, silhouette score: 0.1382488616900998\n",
      "32 clusters, silhouette score: 0.13670746275897108\n",
      "34 clusters, silhouette score: 0.13939634077155\n",
      "36 clusters, silhouette score: 0.14132826876161456\n",
      "38 clusters, silhouette score: 0.13653160868737088\n",
      "Temperature 24\n",
      "2 clusters, silhouette score: 0.19971489611822815\n",
      "4 clusters, silhouette score: 0.19068041130609906\n",
      "6 clusters, silhouette score: 0.16307370374697344\n",
      "8 clusters, silhouette score: 0.14372863188307672\n",
      "10 clusters, silhouette score: 0.1299019656788289\n",
      "12 clusters, silhouette score: 0.12768177707256737\n",
      "14 clusters, silhouette score: 0.13621925729470913\n",
      "16 clusters, silhouette score: 0.127319905596211\n",
      "18 clusters, silhouette score: 0.1297433641192257\n",
      "20 clusters, silhouette score: 0.12964058430607853\n",
      "22 clusters, silhouette score: 0.12730407333035917\n",
      "24 clusters, silhouette score: 0.12790227911156804\n",
      "26 clusters, silhouette score: 0.12801973861018273\n",
      "28 clusters, silhouette score: 0.13168050783056076\n",
      "30 clusters, silhouette score: 0.1300722894206466\n",
      "32 clusters, silhouette score: 0.13232850711071248\n",
      "34 clusters, silhouette score: 0.13493963559038266\n",
      "36 clusters, silhouette score: 0.13524262320258237\n",
      "38 clusters, silhouette score: 0.13703481829667524\n",
      "Temperature 25\n",
      "2 clusters, silhouette score: 0.20075666908069684\n",
      "4 clusters, silhouette score: 0.18165766795958646\n",
      "6 clusters, silhouette score: 0.15372465274006802\n",
      "8 clusters, silhouette score: 0.13614201274947113\n",
      "10 clusters, silhouette score: 0.12479140529906486\n",
      "12 clusters, silhouette score: 0.12522759543121798\n"
     ]
    },
    {
     "name": "stdout",
     "output_type": "stream",
     "text": [
      "14 clusters, silhouette score: 0.1253912421588618\n",
      "16 clusters, silhouette score: 0.13170297415261528\n",
      "18 clusters, silhouette score: 0.1327494427045008\n",
      "20 clusters, silhouette score: 0.13442408479794182\n",
      "22 clusters, silhouette score: 0.13010269606399255\n",
      "24 clusters, silhouette score: 0.13117057634848053\n",
      "26 clusters, silhouette score: 0.13431326322535023\n",
      "28 clusters, silhouette score: 0.13101283582449466\n",
      "30 clusters, silhouette score: 0.13299722137302517\n",
      "32 clusters, silhouette score: 0.1319829647681369\n",
      "34 clusters, silhouette score: 0.1286104531082437\n",
      "36 clusters, silhouette score: 0.13287804485184684\n",
      "38 clusters, silhouette score: 0.13172740881944547\n",
      "Temperature 26\n",
      "2 clusters, silhouette score: 0.2052125409228128\n",
      "4 clusters, silhouette score: 0.1824161782899584\n",
      "6 clusters, silhouette score: 0.16518317295751328\n",
      "8 clusters, silhouette score: 0.13030216850425252\n",
      "10 clusters, silhouette score: 0.12698389299843515\n",
      "12 clusters, silhouette score: 0.1232562792310277\n",
      "14 clusters, silhouette score: 0.12726404690056975\n",
      "16 clusters, silhouette score: 0.12776064958573838\n",
      "18 clusters, silhouette score: 0.12753576907945777\n",
      "20 clusters, silhouette score: 0.12690270037164794\n",
      "22 clusters, silhouette score: 0.13062411826362894\n",
      "24 clusters, silhouette score: 0.1322767317854867\n",
      "26 clusters, silhouette score: 0.12821100236096167\n",
      "28 clusters, silhouette score: 0.12730962451845743\n",
      "30 clusters, silhouette score: 0.1304328297107989\n",
      "32 clusters, silhouette score: 0.12995664846806923\n",
      "34 clusters, silhouette score: 0.13069970586230398\n",
      "36 clusters, silhouette score: 0.12882882278446642\n",
      "38 clusters, silhouette score: 0.1362581204557449\n",
      "Temperature 27\n",
      "2 clusters, silhouette score: 0.2023123836167936\n",
      "4 clusters, silhouette score: 0.1714752315061102\n",
      "6 clusters, silhouette score: 0.14563684815324654\n",
      "8 clusters, silhouette score: 0.13261827098670506\n",
      "10 clusters, silhouette score: 0.12142669427620843\n",
      "12 clusters, silhouette score: 0.1227818362801291\n",
      "14 clusters, silhouette score: 0.12309414257156945\n",
      "16 clusters, silhouette score: 0.13019033077370915\n",
      "18 clusters, silhouette score: 0.13363567813509367\n",
      "20 clusters, silhouette score: 0.12761320350391292\n",
      "22 clusters, silhouette score: 0.1316741381573832\n",
      "24 clusters, silhouette score: 0.13032966038934912\n",
      "26 clusters, silhouette score: 0.12949978900736883\n",
      "28 clusters, silhouette score: 0.1286893510824775\n",
      "30 clusters, silhouette score: 0.1246940871812432\n",
      "32 clusters, silhouette score: 0.1285698167356727\n",
      "34 clusters, silhouette score: 0.12983598749663322\n",
      "36 clusters, silhouette score: 0.12800541254492612\n",
      "38 clusters, silhouette score: 0.12894940051848047\n",
      "Temperature 28\n",
      "2 clusters, silhouette score: 0.19738438191717775\n",
      "4 clusters, silhouette score: 0.17432569022549949\n",
      "6 clusters, silhouette score: 0.14515582318482217\n",
      "8 clusters, silhouette score: 0.131246950146867\n",
      "10 clusters, silhouette score: 0.12119550230935833\n",
      "12 clusters, silhouette score: 0.12070412018335426\n",
      "14 clusters, silhouette score: 0.11798304603169599\n",
      "16 clusters, silhouette score: 0.12184387163695753\n",
      "18 clusters, silhouette score: 0.1167487115022767\n",
      "20 clusters, silhouette score: 0.12296524715294793\n",
      "22 clusters, silhouette score: 0.11935823677974275\n",
      "24 clusters, silhouette score: 0.11831294902135121\n",
      "26 clusters, silhouette score: 0.12155081578002151\n",
      "28 clusters, silhouette score: 0.1155812007998322\n",
      "30 clusters, silhouette score: 0.11758460186198677\n",
      "32 clusters, silhouette score: 0.11912496035197731\n",
      "34 clusters, silhouette score: 0.11879991888175706\n",
      "36 clusters, silhouette score: 0.11747230459477051\n",
      "38 clusters, silhouette score: 0.12096219322209614\n",
      "Temperature 29\n",
      "2 clusters, silhouette score: 0.19793698712290533\n",
      "4 clusters, silhouette score: 0.17908959705338823\n",
      "6 clusters, silhouette score: 0.14925134417581745\n",
      "8 clusters, silhouette score: 0.13755744406874065\n",
      "10 clusters, silhouette score: 0.12291205508842273\n",
      "12 clusters, silhouette score: 0.12171863446245677\n",
      "14 clusters, silhouette score: 0.11633950706886237\n",
      "16 clusters, silhouette score: 0.11581586338813005\n",
      "18 clusters, silhouette score: 0.1128490189339885\n",
      "20 clusters, silhouette score: 0.11872202090558125\n",
      "22 clusters, silhouette score: 0.11303007957112976\n",
      "24 clusters, silhouette score: 0.11786702230447695\n",
      "26 clusters, silhouette score: 0.11507017336217644\n",
      "28 clusters, silhouette score: 0.11129099087432834\n",
      "30 clusters, silhouette score: 0.1170742374494648\n",
      "32 clusters, silhouette score: 0.11645732394347151\n",
      "34 clusters, silhouette score: 0.11558200397280088\n",
      "36 clusters, silhouette score: 0.1154858467490266\n",
      "38 clusters, silhouette score: 0.11699322856400948\n",
      "Temperature 30\n",
      "2 clusters, silhouette score: 0.20579050619780972\n",
      "4 clusters, silhouette score: 0.17795560923595197\n",
      "6 clusters, silhouette score: 0.14893624909612388\n",
      "8 clusters, silhouette score: 0.13506708212913396\n",
      "10 clusters, silhouette score: 0.12358545230287087\n",
      "12 clusters, silhouette score: 0.12496106416670659\n",
      "14 clusters, silhouette score: 0.12575903394157334\n",
      "16 clusters, silhouette score: 0.12314190036185574\n",
      "18 clusters, silhouette score: 0.12075112720559962\n",
      "20 clusters, silhouette score: 0.11373225106466393\n",
      "22 clusters, silhouette score: 0.11919691378567629\n",
      "24 clusters, silhouette score: 0.11440383260916684\n",
      "26 clusters, silhouette score: 0.11430849384965722\n",
      "28 clusters, silhouette score: 0.11159235434390555\n",
      "30 clusters, silhouette score: 0.11828308864567849\n",
      "32 clusters, silhouette score: 0.11685795392848343\n",
      "34 clusters, silhouette score: 0.11376552426795464\n",
      "36 clusters, silhouette score: 0.1163319878687215\n",
      "38 clusters, silhouette score: 0.1143534357755374\n",
      "Temperature 31\n",
      "2 clusters, silhouette score: 0.2012066037988583\n",
      "4 clusters, silhouette score: 0.18351118468699865\n",
      "6 clusters, silhouette score: 0.15150298544213797\n",
      "8 clusters, silhouette score: 0.1381941074691893\n",
      "10 clusters, silhouette score: 0.12427892430250694\n",
      "12 clusters, silhouette score: 0.12224480874599962\n",
      "14 clusters, silhouette score: 0.12392601259561625\n",
      "16 clusters, silhouette score: 0.12197705991510417\n",
      "18 clusters, silhouette score: 0.11332419094547033\n",
      "20 clusters, silhouette score: 0.11511173962022395\n",
      "22 clusters, silhouette score: 0.11253928758401271\n",
      "24 clusters, silhouette score: 0.11251252034262536\n",
      "26 clusters, silhouette score: 0.11759902437557898\n",
      "28 clusters, silhouette score: 0.11373826190627125\n",
      "30 clusters, silhouette score: 0.1146156583505638\n",
      "32 clusters, silhouette score: 0.11252079382317272\n",
      "34 clusters, silhouette score: 0.11673490186921151\n",
      "36 clusters, silhouette score: 0.11382909819728457\n",
      "38 clusters, silhouette score: 0.11099635546623388\n",
      "Temperature 32\n",
      "2 clusters, silhouette score: 0.22104483055133736\n",
      "4 clusters, silhouette score: 0.19278883023554463\n",
      "6 clusters, silhouette score: 0.15675905777928015\n",
      "8 clusters, silhouette score: 0.14194854200023935\n",
      "10 clusters, silhouette score: 0.1253648218558328\n",
      "12 clusters, silhouette score: 0.12798060070885559\n",
      "14 clusters, silhouette score: 0.12800230840516405\n",
      "16 clusters, silhouette score: 0.12482690208173745\n",
      "18 clusters, silhouette score: 0.12675080172662365\n",
      "20 clusters, silhouette score: 0.1241159285315774\n",
      "22 clusters, silhouette score: 0.11535169652309316\n",
      "24 clusters, silhouette score: 0.11939240894462319\n",
      "26 clusters, silhouette score: 0.11349130221510996\n",
      "28 clusters, silhouette score: 0.11827400339363496\n",
      "30 clusters, silhouette score: 0.11460146061177945\n",
      "32 clusters, silhouette score: 0.1205177457382631\n",
      "34 clusters, silhouette score: 0.11250173021575842\n",
      "36 clusters, silhouette score: 0.11781369865700855\n",
      "38 clusters, silhouette score: 0.114771797939057\n",
      "Temperature 33\n",
      "2 clusters, silhouette score: 0.21251384117839017\n",
      "4 clusters, silhouette score: 0.18673942061609394\n",
      "6 clusters, silhouette score: 0.14681929415754683\n",
      "8 clusters, silhouette score: 0.13682750662640933\n",
      "10 clusters, silhouette score: 0.11964245563315769\n",
      "12 clusters, silhouette score: 0.11674694756710274\n",
      "14 clusters, silhouette score: 0.11729797494384017\n",
      "16 clusters, silhouette score: 0.11510550317342644\n",
      "18 clusters, silhouette score: 0.11885134234076121\n",
      "20 clusters, silhouette score: 0.11066429515477869\n",
      "22 clusters, silhouette score: 0.1088029506608893\n",
      "24 clusters, silhouette score: 0.1132102020612089\n",
      "26 clusters, silhouette score: 0.10668384836441601\n",
      "28 clusters, silhouette score: 0.11191479551136363\n"
     ]
    },
    {
     "name": "stdout",
     "output_type": "stream",
     "text": [
      "30 clusters, silhouette score: 0.10800152446650121\n",
      "32 clusters, silhouette score: 0.11076130926476772\n",
      "34 clusters, silhouette score: 0.11262222751012729\n",
      "36 clusters, silhouette score: 0.11483213896057373\n",
      "38 clusters, silhouette score: 0.11267270617264065\n",
      "Temperature 34\n",
      "2 clusters, silhouette score: 0.21168730718836692\n",
      "4 clusters, silhouette score: 0.1812278309822787\n",
      "6 clusters, silhouette score: 0.14664319528676176\n",
      "8 clusters, silhouette score: 0.1389140426379517\n",
      "10 clusters, silhouette score: 0.1191247619184628\n",
      "12 clusters, silhouette score: 0.11140571645034052\n",
      "14 clusters, silhouette score: 0.11506208033839072\n",
      "16 clusters, silhouette score: 0.11431010674240932\n",
      "18 clusters, silhouette score: 0.1138901485842379\n",
      "20 clusters, silhouette score: 0.10924501532747402\n",
      "22 clusters, silhouette score: 0.10487122583894874\n",
      "24 clusters, silhouette score: 0.10316019773934935\n",
      "26 clusters, silhouette score: 0.10415256709257989\n",
      "28 clusters, silhouette score: 0.10575498967902092\n",
      "30 clusters, silhouette score: 0.10717728593332489\n",
      "32 clusters, silhouette score: 0.10677072494561556\n",
      "34 clusters, silhouette score: 0.10886639493085423\n",
      "36 clusters, silhouette score: 0.1095187074121379\n",
      "38 clusters, silhouette score: 0.10554682805983341\n",
      "Temperature 35\n",
      "2 clusters, silhouette score: 0.2161623847365508\n",
      "4 clusters, silhouette score: 0.18551254124265626\n",
      "6 clusters, silhouette score: 0.14618246314541483\n",
      "8 clusters, silhouette score: 0.13684842908625575\n",
      "10 clusters, silhouette score: 0.12314253403621646\n",
      "12 clusters, silhouette score: 0.11793967091393816\n",
      "14 clusters, silhouette score: 0.11180766617687334\n",
      "16 clusters, silhouette score: 0.11287959996526709\n",
      "18 clusters, silhouette score: 0.1122736310114542\n",
      "20 clusters, silhouette score: 0.11281739836416299\n",
      "22 clusters, silhouette score: 0.10930202042769818\n",
      "24 clusters, silhouette score: 0.11108619323967579\n",
      "26 clusters, silhouette score: 0.10351213288076076\n",
      "28 clusters, silhouette score: 0.10628094291905911\n",
      "30 clusters, silhouette score: 0.10673619366790578\n",
      "32 clusters, silhouette score: 0.1050417165274853\n",
      "34 clusters, silhouette score: 0.10684680241453855\n",
      "36 clusters, silhouette score: 0.10424934601579182\n",
      "38 clusters, silhouette score: 0.1058899946424922\n",
      "Temperature 36\n",
      "2 clusters, silhouette score: 0.22346502774344432\n",
      "4 clusters, silhouette score: 0.1950916658787303\n",
      "6 clusters, silhouette score: 0.15769963945683188\n",
      "8 clusters, silhouette score: 0.1409613446458465\n",
      "10 clusters, silhouette score: 0.12369741652268992\n",
      "12 clusters, silhouette score: 0.11768279456402117\n",
      "14 clusters, silhouette score: 0.11656826670316739\n",
      "16 clusters, silhouette score: 0.10640785305830695\n",
      "18 clusters, silhouette score: 0.10689994715179944\n",
      "20 clusters, silhouette score: 0.10341199911684909\n",
      "22 clusters, silhouette score: 0.10726501041385757\n",
      "24 clusters, silhouette score: 0.10534993624308328\n",
      "26 clusters, silhouette score: 0.10618483175015903\n",
      "28 clusters, silhouette score: 0.10535228190426071\n",
      "30 clusters, silhouette score: 0.10741990360460597\n",
      "32 clusters, silhouette score: 0.10042404471633179\n",
      "34 clusters, silhouette score: 0.10165415183798071\n",
      "36 clusters, silhouette score: 0.10651113334757063\n",
      "38 clusters, silhouette score: 0.10518109730531149\n",
      "Temperature 37\n",
      "2 clusters, silhouette score: 0.20364976208292182\n",
      "4 clusters, silhouette score: 0.18376503479851952\n",
      "6 clusters, silhouette score: 0.14598696096739977\n",
      "8 clusters, silhouette score: 0.13769316655520242\n",
      "10 clusters, silhouette score: 0.11738829977788472\n",
      "12 clusters, silhouette score: 0.1135489736799852\n",
      "14 clusters, silhouette score: 0.11203875713028859\n",
      "16 clusters, silhouette score: 0.11009122849049627\n",
      "18 clusters, silhouette score: 0.11018473511145849\n",
      "20 clusters, silhouette score: 0.10926834012497828\n",
      "22 clusters, silhouette score: 0.10937246570841129\n",
      "24 clusters, silhouette score: 0.10492629520878678\n",
      "26 clusters, silhouette score: 0.10515336204721237\n",
      "28 clusters, silhouette score: 0.10469250153097036\n",
      "30 clusters, silhouette score: 0.10566832860228188\n",
      "32 clusters, silhouette score: 0.10719221875967064\n",
      "34 clusters, silhouette score: 0.10259365503411487\n",
      "36 clusters, silhouette score: 0.10706532566563376\n",
      "38 clusters, silhouette score: 0.108238612412094\n",
      "Temperature 38\n",
      "2 clusters, silhouette score: 0.20716973104281805\n",
      "4 clusters, silhouette score: 0.1879753996017752\n",
      "6 clusters, silhouette score: 0.14670395026543373\n",
      "8 clusters, silhouette score: 0.13811434598893105\n",
      "10 clusters, silhouette score: 0.12025622605310578\n",
      "12 clusters, silhouette score: 0.11139227608138372\n",
      "14 clusters, silhouette score: 0.11719551518123426\n",
      "16 clusters, silhouette score: 0.11248465151742051\n",
      "18 clusters, silhouette score: 0.11089989639865068\n",
      "20 clusters, silhouette score: 0.1145919400567354\n",
      "22 clusters, silhouette score: 0.1114762089237932\n",
      "24 clusters, silhouette score: 0.10980884562658305\n",
      "26 clusters, silhouette score: 0.10897237993474414\n",
      "28 clusters, silhouette score: 0.10680729203228062\n",
      "30 clusters, silhouette score: 0.10829634886377018\n",
      "32 clusters, silhouette score: 0.10701976003439585\n",
      "34 clusters, silhouette score: 0.10619203960206139\n",
      "36 clusters, silhouette score: 0.10413521332683724\n",
      "38 clusters, silhouette score: 0.1077578952897639\n",
      "Temperature 39\n",
      "2 clusters, silhouette score: 0.19871840139223665\n",
      "4 clusters, silhouette score: 0.18891884668448805\n",
      "6 clusters, silhouette score: 0.13974162163667897\n",
      "8 clusters, silhouette score: 0.13414720131067798\n",
      "10 clusters, silhouette score: 0.11794849059099644\n",
      "12 clusters, silhouette score: 0.11018278133532988\n",
      "14 clusters, silhouette score: 0.1078420459379049\n",
      "16 clusters, silhouette score: 0.10462985622912731\n",
      "18 clusters, silhouette score: 0.10587085507633827\n",
      "20 clusters, silhouette score: 0.10801009213549638\n",
      "22 clusters, silhouette score: 0.10533189679725868\n",
      "24 clusters, silhouette score: 0.10832814125080534\n",
      "26 clusters, silhouette score: 0.10516033898485817\n",
      "28 clusters, silhouette score: 0.10651164367199693\n",
      "30 clusters, silhouette score: 0.10427863406572056\n",
      "32 clusters, silhouette score: 0.10212459935303296\n",
      "34 clusters, silhouette score: 0.10620310944570915\n",
      "36 clusters, silhouette score: 0.10732398465995976\n",
      "38 clusters, silhouette score: 0.10252089279433685\n"
     ]
    }
   ],
   "source": [
    "temp_silhouette_scores = []\n",
    "for i_temp in range(len(remd_trajs.trajs)):\n",
    "    print(\"Temperature\", i_temp)\n",
    "    octamer = remd_trajs.trajs[i_temp].atom_slice(resname_selection)\n",
    "    octamer.superpose(octamer[0])\n",
    "    rmsd_matrix = np.zeros([octamer.n_frames]*2)\n",
    "    for i in range(octamer.n_frames):\n",
    "        rmsd_matrix[:, i] = mdtraj.rmsd(octamer, octamer[i])\n",
    "    n_clusters = np.arange(2, 40, 2)\n",
    "    silhouette_scores = []\n",
    "    for n in n_clusters:\n",
    "        kmeans = KMeans(n_clusters=n)\n",
    "        kmeans.fit(rmsd_matrix)\n",
    "\n",
    "        avg_silhouette = silhouette_score(rmsd_matrix, kmeans.fit_predict(rmsd_matrix))\n",
    "        silhouette_scores.append(avg_silhouette)\n",
    "        print(n, \"clusters,\", \"silhouette score:\", avg_silhouette)\n",
    "    temp_silhouette_scores.append(silhouette_scores)"
   ]
  },
  {
   "cell_type": "code",
   "execution_count": 25,
   "metadata": {},
   "outputs": [
    {
     "name": "stderr",
     "output_type": "stream",
     "text": [
      "/home/lenny/anaconda3/lib/python3.6/site-packages/ipykernel_launcher.py:8: MatplotlibDeprecationWarning: Adding an axes using the same arguments as a previous axes currently reuses the earlier instance.  In a future version, a new instance will always be created and returned.  Meanwhile, this warning can be suppressed, and the future behavior ensured, by passing a unique label to each axes instance.\n",
      "  \n"
     ]
    },
    {
     "data": {
      "image/png": "[encoded data removed]",
      "text/plain": [
       "<Figure size 432x288 with 1 Axes>"
      ]
     },
     "metadata": {
      "needs_background": "light"
     },
     "output_type": "display_data"
    }
   ],
   "source": [
    "for i in range(len(temp_silhouette_scores)):\n",
    "    plt.plot(n_clusters, temp_silhouette_scores[i])\n",
    "\n",
    "plt.style.use('classic')\n",
    "plt.ylabel(\"Average Silhouette Score\")\n",
    "plt.xlabel(\"Number of Clusters\")\n",
    "plt.vlines(15, ymin = 0.1, ymax=0.45, color=\"r\", linestyles='dashed')\n",
    "ax = plt.axes()\n",
    "ax.grid()"
   ]
  },
  {
   "cell_type": "code",
   "execution_count": 12,
   "metadata": {},
   "outputs": [
    {
     "data": {
      "text/plain": [
       "KMeans(n_clusters=15)"
      ]
     },
     "execution_count": 12,
     "metadata": {},
     "output_type": "execute_result"
    }
   ],
   "source": [
    "# Fit with appropriate number of clusters\n",
    "k_clusters = 15\n",
    "kmeans = KMeans(n_clusters=k_clusters)\n",
    "kmeans.fit(rmsd_matrix)\n",
    "\n"
   ]
  },
  {
   "cell_type": "code",
   "execution_count": 15,
   "metadata": {},
   "outputs": [
    {
     "name": "stderr",
     "output_type": "stream",
     "text": [
      "100%|██████████| 3608/3608 [00:02<00:00, 1365.74it/s]\n"
     ]
    }
   ],
   "source": [
    "import h_bonds\n",
    "\n",
    "h_bond_finder = h_bonds.HydrogenBondFinder(remd_trajs.trajs[0][0], remd_trajs.trajs[0][0].top)\n",
    "h_bond_finder.get_donors()\n",
    "h_bond_finder.get_acceptors()\n",
    "n_h_bonds, h_bond_ids = h_bond_finder.get_hydrogen_bonds(remd_trajs.trajs[0])"
   ]
  },
  {
   "cell_type": "code",
   "execution_count": null,
   "metadata": {},
   "outputs": [],
   "source": []
  },
  {
   "cell_type": "code",
   "execution_count": 21,
   "metadata": {},
   "outputs": [
    {
     "name": "stderr",
     "output_type": "stream",
     "text": [
      "100%|██████████| 345/345 [00:00<00:00, 1874.65it/s]\n",
      "100%|██████████| 309/309 [00:00<00:00, 1860.17it/s]\n",
      "100%|██████████| 211/211 [00:00<00:00, 1879.85it/s]\n",
      "100%|██████████| 330/330 [00:00<00:00, 1854.12it/s]\n",
      "100%|██████████| 198/198 [00:00<00:00, 1849.83it/s]\n",
      "100%|██████████| 177/177 [00:00<00:00, 1852.98it/s]\n",
      "100%|██████████| 284/284 [00:00<00:00, 1815.49it/s]\n",
      "100%|██████████| 212/212 [00:00<00:00, 1778.66it/s]\n",
      "100%|██████████| 152/152 [00:00<00:00, 1698.82it/s]\n",
      "100%|██████████| 237/237 [00:00<00:00, 1752.68it/s]\n",
      "100%|██████████| 218/218 [00:00<00:00, 1775.30it/s]\n",
      "100%|██████████| 292/292 [00:00<00:00, 1793.00it/s]\n",
      "100%|██████████| 225/225 [00:00<00:00, 1848.60it/s]\n",
      "100%|██████████| 48/48 [00:00<00:00, 1704.47it/s]\n",
      "100%|██████████| 370/370 [00:00<00:00, 1866.43it/s]"
     ]
    },
    {
     "name": "stdout",
     "output_type": "stream",
     "text": [
      "Label: 0Counts: 345\n",
      "# H-bonds 3.4\n",
      "Label: 1Counts: 309\n",
      "# H-bonds 3.352750809061489\n",
      "Label: 2Counts: 211\n",
      "# H-bonds 3.4928909952606637\n",
      "Label: 3Counts: 330\n",
      "# H-bonds 3.3636363636363638\n",
      "Label: 4Counts: 198\n",
      "# H-bonds 3.3838383838383836\n",
      "Label: 5Counts: 177\n",
      "# H-bonds 3.5762711864406778\n",
      "Label: 6Counts: 284\n",
      "# H-bonds 3.3485915492957745\n",
      "Label: 7Counts: 212\n",
      "# H-bonds 3.30188679245283\n",
      "Label: 8Counts: 152\n",
      "# H-bonds 3.335526315789474\n",
      "Label: 9Counts: 237\n",
      "# H-bonds 3.3755274261603376\n",
      "Label: 10Counts: 218\n",
      "# H-bonds 3.3944954128440368\n",
      "Label: 11Counts: 292\n",
      "# H-bonds 3.3321917808219177\n",
      "Label: 12Counts: 225\n",
      "# H-bonds 3.52\n",
      "Label: 13Counts: 48\n",
      "# H-bonds 3.5833333333333335\n",
      "Label: 14Counts: 370\n",
      "# H-bonds 3.381081081081081\n",
      "\n"
     ]
    },
    {
     "name": "stderr",
     "output_type": "stream",
     "text": [
      "\n"
     ]
    }
   ],
   "source": [
    "output = \"\"\n",
    "for a, b in zip(*np.unique(kmeans.labels_, return_counts = True)):\n",
    "    output += \"Label: \" +  str(a) + \"Counts: \" +  str(b) + \"\\n\"\n",
    "    indexes = np.where(kmeans.labels_ == a)\n",
    "    n_h_bonds, h_bond_ids = h_bond_finder.get_hydrogen_bonds(remd_trajs.trajs[0][indexes])\n",
    "    output += \"# H-bonds \" + str(np.average(n_h_bonds)) + \"\\n\"\n",
    "print(output)"
   ]
  },
  {
   "cell_type": "code",
   "execution_count": 14,
   "metadata": {},
   "outputs": [
    {
     "data": {
      "text/plain": [
       "array([[0.95069482, 0.86274409, 0.85549476, ..., 1.17449895, 1.18195946,\n",
       "        1.16473859],\n",
       "       [1.07797413, 1.21381833, 1.15974784, ..., 0.80912784, 0.79173171,\n",
       "        0.79862084],\n",
       "       [1.08932352, 1.07234937, 1.06097728, ..., 1.25293444, 1.26743818,\n",
       "        1.28388157],\n",
       "       ...,\n",
       "       [1.14661038, 1.29555521, 1.26078104, ..., 1.00199975, 1.00972222,\n",
       "        1.03132222],\n",
       "       [1.37191974, 1.16429387, 1.18620616, ..., 1.54609717, 1.54844815,\n",
       "        1.51819328],\n",
       "       [0.86394732, 0.89755352, 0.85521232, ..., 1.02884398, 1.05271111,\n",
       "        1.03669078]])"
      ]
     },
     "execution_count": 14,
     "metadata": {},
     "output_type": "execute_result"
    }
   ],
   "source": [
    "kmeans.cluster_centers_"
   ]
  },
  {
   "cell_type": "code",
   "execution_count": 35,
   "metadata": {},
   "outputs": [
    {
     "name": "stderr",
     "output_type": "stream",
     "text": [
      " 26%|██▌       | 124/480 [00:00<00:00, 1230.95it/s]"
     ]
    },
    {
     "name": "stdout",
     "output_type": "stream",
     "text": [
      "Temperature: 0 Silhouette Score: 0.39332037332154746\n"
     ]
    },
    {
     "name": "stderr",
     "output_type": "stream",
     "text": [
      "100%|██████████| 480/480 [00:00<00:00, 1507.32it/s]\n",
      "100%|██████████| 149/149 [00:00<00:00, 1214.77it/s]\n",
      "  0%|          | 0/211 [00:00<?, ?it/s]"
     ]
    },
    {
     "name": "stdout",
     "output_type": "stream",
     "text": [
      "Label: 0 Counts: 480 Avg. H-bonds: 4.583333333333333 Avg. RMSD: 0.19845542\n",
      "Label: 1 Counts: 149 Avg. H-bonds: 2.959731543624161 Avg. RMSD: 0.396045\n"
     ]
    },
    {
     "name": "stderr",
     "output_type": "stream",
     "text": [
      "100%|██████████| 211/211 [00:00<00:00, 1119.68it/s]\n",
      " 36%|███▌      | 118/327 [00:00<00:00, 1172.03it/s]"
     ]
    },
    {
     "name": "stdout",
     "output_type": "stream",
     "text": [
      "Label: 2 Counts: 211 Avg. H-bonds: 3.5497630331753554 Avg. RMSD: 0.41546074\n"
     ]
    },
    {
     "name": "stderr",
     "output_type": "stream",
     "text": [
      "100%|██████████| 327/327 [00:00<00:00, 1344.96it/s]\n",
      " 37%|███▋      | 118/317 [00:00<00:00, 1179.00it/s]"
     ]
    },
    {
     "name": "stdout",
     "output_type": "stream",
     "text": [
      "Label: 3 Counts: 327 Avg. H-bonds: 2.397553516819572 Avg. RMSD: 0.9979804\n"
     ]
    },
    {
     "name": "stderr",
     "output_type": "stream",
     "text": [
      "100%|██████████| 317/317 [00:00<00:00, 1274.58it/s]\n",
      " 38%|███▊      | 117/310 [00:00<00:00, 1169.94it/s]"
     ]
    },
    {
     "name": "stdout",
     "output_type": "stream",
     "text": [
      "Label: 4 Counts: 317 Avg. H-bonds: 2.3438485804416405 Avg. RMSD: 0.8113308\n"
     ]
    },
    {
     "name": "stderr",
     "output_type": "stream",
     "text": [
      "100%|██████████| 310/310 [00:00<00:00, 1318.34it/s]\n",
      "100%|██████████| 187/187 [00:00<00:00, 1200.73it/s]\n"
     ]
    },
    {
     "name": "stdout",
     "output_type": "stream",
     "text": [
      "Label: 5 Counts: 310 Avg. H-bonds: 3.6580645161290324 Avg. RMSD: 0.3635322\n",
      "Label: 6 Counts: 187 Avg. H-bonds: 3.893048128342246 Avg. RMSD: 0.16680588\n"
     ]
    },
    {
     "name": "stderr",
     "output_type": "stream",
     "text": [
      "100%|██████████| 241/241 [00:00<00:00, 1289.07it/s]\n",
      "100%|██████████| 81/81 [00:00<00:00, 1186.49it/s]\n",
      "  0%|          | 0/103 [00:00<?, ?it/s]"
     ]
    },
    {
     "name": "stdout",
     "output_type": "stream",
     "text": [
      "Label: 7 Counts: 241 Avg. H-bonds: 3.7012448132780085 Avg. RMSD: 0.24776906\n",
      "Label: 8 Counts: 81 Avg. H-bonds: 3.4444444444444446 Avg. RMSD: 0.9387773\n"
     ]
    },
    {
     "name": "stderr",
     "output_type": "stream",
     "text": [
      "100%|██████████| 103/103 [00:00<00:00, 1252.46it/s]\n",
      "100%|██████████| 222/222 [00:00<00:00, 1270.41it/s]"
     ]
    },
    {
     "name": "stdout",
     "output_type": "stream",
     "text": [
      "Label: 9 Counts: 103 Avg. H-bonds: 2.9902912621359223 Avg. RMSD: 0.2543653\n",
      "Label: 10 Counts: 222 Avg. H-bonds: 3.0675675675675675 Avg. RMSD: 0.5101752\n"
     ]
    },
    {
     "name": "stderr",
     "output_type": "stream",
     "text": [
      "\n",
      "100%|██████████| 275/275 [00:00<00:00, 1242.60it/s]\n"
     ]
    },
    {
     "name": "stdout",
     "output_type": "stream",
     "text": [
      "Label: 11 Counts: 275 Avg. H-bonds: 3.5272727272727273 Avg. RMSD: 0.57216954\n"
     ]
    },
    {
     "name": "stderr",
     "output_type": "stream",
     "text": [
      "100%|██████████| 138/138 [00:00<00:00, 1223.48it/s]\n",
      " 43%|████▎     | 112/261 [00:00<00:00, 1111.40it/s]"
     ]
    },
    {
     "name": "stdout",
     "output_type": "stream",
     "text": [
      "Label: 12 Counts: 138 Avg. H-bonds: 2.9782608695652173 Avg. RMSD: 0.34241408\n"
     ]
    },
    {
     "name": "stderr",
     "output_type": "stream",
     "text": [
      "100%|██████████| 261/261 [00:00<00:00, 1211.69it/s]\n",
      " 40%|████      | 123/306 [00:00<00:00, 1223.98it/s]"
     ]
    },
    {
     "name": "stdout",
     "output_type": "stream",
     "text": [
      "Label: 13 Counts: 261 Avg. H-bonds: 3.6475095785440614 Avg. RMSD: 0.5548477\n"
     ]
    },
    {
     "name": "stderr",
     "output_type": "stream",
     "text": [
      "100%|██████████| 306/306 [00:00<00:00, 1327.55it/s]\n"
     ]
    },
    {
     "name": "stdout",
     "output_type": "stream",
     "text": [
      "Label: 14 Counts: 306 Avg. H-bonds: 3.179738562091503 Avg. RMSD: 0.5385109\n"
     ]
    },
    {
     "name": "stderr",
     "output_type": "stream",
     "text": [
      "100%|██████████| 101/101 [00:00<00:00, 1755.76it/s]\n",
      "  0%|          | 0/293 [00:00<?, ?it/s]"
     ]
    },
    {
     "name": "stdout",
     "output_type": "stream",
     "text": [
      "Temperature: 1 Silhouette Score: 0.38160535456161343\n",
      "Label: 0 Counts: 101 Avg. H-bonds: 3.1683168316831685 Avg. RMSD: 0.28742287\n"
     ]
    },
    {
     "name": "stderr",
     "output_type": "stream",
     "text": [
      "100%|██████████| 293/293 [00:00<00:00, 1330.41it/s]\n",
      " 44%|████▍     | 120/271 [00:00<00:00, 1194.17it/s]"
     ]
    },
    {
     "name": "stdout",
     "output_type": "stream",
     "text": [
      "Label: 1 Counts: 293 Avg. H-bonds: 3.348122866894198 Avg. RMSD: 0.5629006\n"
     ]
    },
    {
     "name": "stderr",
     "output_type": "stream",
     "text": [
      "100%|██████████| 271/271 [00:00<00:00, 1167.12it/s]\n",
      "100%|██████████| 169/169 [00:00<00:00, 1214.95it/s]\n",
      "  0%|          | 0/266 [00:00<?, ?it/s]"
     ]
    },
    {
     "name": "stdout",
     "output_type": "stream",
     "text": [
      "Label: 2 Counts: 271 Avg. H-bonds: 3.5682656826568264 Avg. RMSD: 0.35393995\n",
      "Label: 3 Counts: 169 Avg. H-bonds: 3.4142011834319526 Avg. RMSD: 0.36670932\n"
     ]
    },
    {
     "name": "stderr",
     "output_type": "stream",
     "text": [
      "100%|██████████| 266/266 [00:00<00:00, 1298.57it/s]\n",
      " 26%|██▌       | 115/439 [00:00<00:00, 1149.22it/s]"
     ]
    },
    {
     "name": "stdout",
     "output_type": "stream",
     "text": [
      "Label: 4 Counts: 266 Avg. H-bonds: 3.4774436090225564 Avg. RMSD: 0.2581486\n"
     ]
    },
    {
     "name": "stderr",
     "output_type": "stream",
     "text": [
      "100%|██████████| 439/439 [00:00<00:00, 1317.86it/s]\n",
      "100%|██████████| 101/101 [00:00<00:00, 1128.23it/s]\n",
      "  0%|          | 0/359 [00:00<?, ?it/s]"
     ]
    },
    {
     "name": "stdout",
     "output_type": "stream",
     "text": [
      "Label: 5 Counts: 439 Avg. H-bonds: 3.30751708428246 Avg. RMSD: 0.20404986\n",
      "Label: 6 Counts: 101 Avg. H-bonds: 3.3168316831683167 Avg. RMSD: 0.9062715\n"
     ]
    },
    {
     "name": "stderr",
     "output_type": "stream",
     "text": [
      "100%|██████████| 359/359 [00:00<00:00, 1362.72it/s]\n",
      "100%|██████████| 214/214 [00:00<00:00, 1265.28it/s]\n"
     ]
    },
    {
     "name": "stdout",
     "output_type": "stream",
     "text": [
      "Label: 7 Counts: 359 Avg. H-bonds: 3.4540389972144845 Avg. RMSD: 1.0159712\n",
      "Label: 8 Counts: 214 Avg. H-bonds: 3.3411214953271027 Avg. RMSD: 0.5155194\n"
     ]
    },
    {
     "name": "stderr",
     "output_type": "stream",
     "text": [
      "100%|██████████| 178/178 [00:00<00:00, 1232.56it/s]\n",
      " 50%|█████     | 119/238 [00:00<00:00, 1182.49it/s]"
     ]
    },
    {
     "name": "stdout",
     "output_type": "stream",
     "text": [
      "Label: 9 Counts: 178 Avg. H-bonds: 3.1123595505617976 Avg. RMSD: 0.17919223\n"
     ]
    },
    {
     "name": "stderr",
     "output_type": "stream",
     "text": [
      "100%|██████████| 238/238 [00:00<00:00, 1265.26it/s]\n",
      " 56%|█████▌    | 119/214 [00:00<00:00, 1186.87it/s]"
     ]
    },
    {
     "name": "stdout",
     "output_type": "stream",
     "text": [
      "Label: 10 Counts: 238 Avg. H-bonds: 3.331932773109244 Avg. RMSD: 0.43594745\n"
     ]
    },
    {
     "name": "stderr",
     "output_type": "stream",
     "text": [
      "100%|██████████| 214/214 [00:00<00:00, 1202.47it/s]\n",
      "100%|██████████| 180/180 [00:00<00:00, 1166.23it/s]\n"
     ]
    },
    {
     "name": "stdout",
     "output_type": "stream",
     "text": [
      "Label: 11 Counts: 214 Avg. H-bonds: 3.4065420560747666 Avg. RMSD: 0.38672185\n",
      "Label:"
     ]
    },
    {
     "name": "stderr",
     "output_type": "stream",
     "text": [
      " 32%|███▏      | 90/278 [00:00<00:00, 898.63it/s]"
     ]
    },
    {
     "name": "stdout",
     "output_type": "stream",
     "text": [
      " 12 Counts: 180 Avg. H-bonds: 3.6055555555555556 Avg. RMSD: 0.5481702\n"
     ]
    },
    {
     "name": "stderr",
     "output_type": "stream",
     "text": [
      "100%|██████████| 278/278 [00:00<00:00, 1194.25it/s]\n"
     ]
    },
    {
     "name": "stdout",
     "output_type": "stream",
     "text": [
      "Label: 13 Counts: 278 Avg. H-bonds: 3.402877697841727 Avg. RMSD: 0.5108777\n"
     ]
    },
    {
     "name": "stderr",
     "output_type": "stream",
     "text": [
      "100%|██████████| 307/307 [00:00<00:00, 1804.75it/s]\n"
     ]
    },
    {
     "name": "stdout",
     "output_type": "stream",
     "text": [
      "Label: 14 Counts: 307 Avg. H-bonds: 3.45928338762215 Avg. RMSD: 0.81479025\n"
     ]
    },
    {
     "name": "stderr",
     "output_type": "stream",
     "text": [
      "100%|██████████| 185/185 [00:00<00:00, 1851.54it/s]\n",
      "  0%|          | 0/359 [00:00<?, ?it/s]"
     ]
    },
    {
     "name": "stdout",
     "output_type": "stream",
     "text": [
      "Temperature: 2 Silhouette Score: 0.34692989888639547\n",
      "Label: 0 Counts: 185 Avg. H-bonds: 3.4216216216216218 Avg. RMSD: 0.38670287\n"
     ]
    },
    {
     "name": "stderr",
     "output_type": "stream",
     "text": [
      "100%|██████████| 359/359 [00:00<00:00, 1396.84it/s]\n"
     ]
    },
    {
     "name": "stdout",
     "output_type": "stream",
     "text": [
      "Label: 1 Counts: 359 Avg. H-bonds: 3.2701949860724233 Avg. RMSD: 0.19797544\n"
     ]
    },
    {
     "name": "stderr",
     "output_type": "stream",
     "text": [
      "100%|██████████| 445/445 [00:00<00:00, 1883.39it/s]\n",
      " 50%|█████     | 126/251 [00:00<00:00, 1255.14it/s]"
     ]
    },
    {
     "name": "stdout",
     "output_type": "stream",
     "text": [
      "Label: 2 Counts: 445 Avg. H-bonds: 3.397752808988764 Avg. RMSD: 1.0204648\n"
     ]
    },
    {
     "name": "stderr",
     "output_type": "stream",
     "text": [
      "100%|██████████| 251/251 [00:00<00:00, 1302.33it/s]\n",
      " 48%|████▊     | 125/260 [00:00<00:00, 1246.94it/s]"
     ]
    },
    {
     "name": "stdout",
     "output_type": "stream",
     "text": [
      "Label: 3 Counts: 251 Avg. H-bonds: 3.366533864541833 Avg. RMSD: 0.48146427\n"
     ]
    },
    {
     "name": "stderr",
     "output_type": "stream",
     "text": [
      "100%|██████████| 260/260 [00:00<00:00, 1312.88it/s]\n",
      " 38%|███▊      | 124/326 [00:00<00:00, 1238.42it/s]"
     ]
    },
    {
     "name": "stdout",
     "output_type": "stream",
     "text": [
      "Label: 4 Counts: 260 Avg. H-bonds: 3.4461538461538463 Avg. RMSD: 0.42532995\n"
     ]
    },
    {
     "name": "stderr",
     "output_type": "stream",
     "text": [
      "100%|██████████| 326/326 [00:00<00:00, 1365.78it/s]\n",
      " 45%|████▍     | 128/286 [00:00<00:00, 1270.29it/s]"
     ]
    },
    {
     "name": "stdout",
     "output_type": "stream",
     "text": [
      "Label: 5 Counts: 326 Avg. H-bonds: 3.3588957055214723 Avg. RMSD: 0.8175925\n"
     ]
    },
    {
     "name": "stderr",
     "output_type": "stream",
     "text": [
      "100%|██████████| 286/286 [00:00<00:00, 1334.62it/s]\n",
      " 45%|████▌     | 128/282 [00:00<00:00, 1279.24it/s]"
     ]
    },
    {
     "name": "stdout",
     "output_type": "stream",
     "text": [
      "Label: 6 Counts: 286 Avg. H-bonds: 3.3286713286713288 Avg. RMSD: 0.3062354\n"
     ]
    },
    {
     "name": "stderr",
     "output_type": "stream",
     "text": [
      "100%|██████████| 282/282 [00:00<00:00, 1330.05it/s]\n",
      "100%|██████████| 186/186 [00:00<00:00, 1218.33it/s]\n"
     ]
    },
    {
     "name": "stdout",
     "output_type": "stream",
     "text": [
      "Label: 7 Counts: 282 Avg. H-bonds: 3.297872340425532 Avg. RMSD: 0.55501175\n",
      "Label: 8 Counts: 186 Avg. H-bonds: 3.5053763440860215 Avg. RMSD: 0.39985058\n"
     ]
    },
    {
     "name": "stderr",
     "output_type": "stream",
     "text": [
      "100%|██████████| 262/262 [00:00<00:00, 1294.42it/s]\n",
      " 55%|█████▍    | 117/214 [00:00<00:00, 1166.65it/s]"
     ]
    },
    {
     "name": "stdout",
     "output_type": "stream",
     "text": [
      "Label: 9 Counts: 262 Avg. H-bonds: 3.568702290076336 Avg. RMSD: 0.38037214\n"
     ]
    },
    {
     "name": "stderr",
     "output_type": "stream",
     "text": [
      "100%|██████████| 214/214 [00:00<00:00, 1202.31it/s]\n",
      " 40%|████      | 81/201 [00:00<00:00, 808.39it/s]"
     ]
    },
    {
     "name": "stdout",
     "output_type": "stream",
     "text": [
      "Label: 10 Counts: 214 Avg. H-bonds: 3.7149532710280373 Avg. RMSD: 0.53247726\n"
     ]
    },
    {
     "name": "stderr",
     "output_type": "stream",
     "text": [
      "100%|██████████| 201/201 [00:00<00:00, 957.92it/s]\n",
      "100%|██████████| 144/144 [00:00<00:00, 1257.63it/s]\n",
      "  0%|          | 0/107 [00:00<?, ?it/s]"
     ]
    },
    {
     "name": "stdout",
     "output_type": "stream",
     "text": [
      "Label: 11 Counts: 201 Avg. H-bonds: 3.5024875621890548 Avg. RMSD: 0.5518026\n",
      "Label: 12 Counts: 144 Avg. H-bonds: 3.013888888888889 Avg. RMSD: 0.19464293\n"
     ]
    },
    {
     "name": "stderr",
     "output_type": "stream",
     "text": [
      "100%|██████████| 107/107 [00:00<00:00, 873.55it/s]\n",
      "100%|██████████| 100/100 [00:00<00:00, 1120.49it/s]\n"
     ]
    },
    {
     "name": "stdout",
     "output_type": "stream",
     "text": [
      "Label: 13 Counts: 107 Avg. H-bonds: 3.4018691588785046 Avg. RMSD: 0.9826959\n",
      "Label: 14 Counts: 100 Avg. H-bonds: 3.24 Avg. RMSD: 0.30338964\n"
     ]
    },
    {
     "name": "stderr",
     "output_type": "stream",
     "text": [
      "100%|██████████| 150/150 [00:00<00:00, 1829.99it/s]\n",
      "  0%|          | 0/384 [00:00<?, ?it/s]"
     ]
    },
    {
     "name": "stdout",
     "output_type": "stream",
     "text": [
      "Temperature: 3 Silhouette Score: 0.32151792409271446\n",
      "Label: 0 Counts: 150 Avg. H-bonds: 3.6866666666666665 Avg. RMSD: 0.43520325\n"
     ]
    },
    {
     "name": "stderr",
     "output_type": "stream",
     "text": [
      "100%|██████████| 384/384 [00:00<00:00, 1428.34it/s]\n",
      "100%|██████████| 169/169 [00:00<00:00, 1261.26it/s]\n",
      "  0%|          | 0/261 [00:00<?, ?it/s]"
     ]
    },
    {
     "name": "stdout",
     "output_type": "stream",
     "text": [
      "Label: 1 Counts: 384 Avg. H-bonds: 3.4244791666666665 Avg. RMSD: 0.9934395\n",
      "Label: 2 Counts: 169 Avg. H-bonds: 3.514792899408284 Avg. RMSD: 0.36787152\n"
     ]
    },
    {
     "name": "stderr",
     "output_type": "stream",
     "text": [
      "100%|██████████| 261/261 [00:00<00:00, 1265.63it/s]\n"
     ]
    },
    {
     "name": "stdout",
     "output_type": "stream",
     "text": [
      "Label: 3 Counts: 261 Avg. H-bonds: 3.471264367816092 Avg. RMSD: 0.50264955\n"
     ]
    },
    {
     "name": "stderr",
     "output_type": "stream",
     "text": [
      "100%|██████████| 381/381 [00:00<00:00, 1920.26it/s]\n",
      " 50%|████▉     | 129/260 [00:00<00:00, 1281.72it/s]"
     ]
    },
    {
     "name": "stdout",
     "output_type": "stream",
     "text": [
      "Label: 4 Counts: 381 Avg. H-bonds: 3.4881889763779528 Avg. RMSD: 0.5671017\n"
     ]
    },
    {
     "name": "stderr",
     "output_type": "stream",
     "text": [
      "100%|██████████| 260/260 [00:00<00:00, 1314.59it/s]\n",
      " 34%|███▍      | 120/350 [00:00<00:00, 1198.46it/s]"
     ]
    },
    {
     "name": "stdout",
     "output_type": "stream",
     "text": [
      "Label: 5 Counts: 260 Avg. H-bonds: 3.4923076923076923 Avg. RMSD: 0.32007357\n"
     ]
    },
    {
     "name": "stderr",
     "output_type": "stream",
     "text": [
      "100%|██████████| 350/350 [00:00<00:00, 1374.84it/s]\n",
      " 34%|███▍      | 128/375 [00:00<00:00, 1275.62it/s]"
     ]
    },
    {
     "name": "stdout",
     "output_type": "stream",
     "text": [
      "Label: 6 Counts: 350 Avg. H-bonds: 3.1685714285714286 Avg. RMSD: 0.19782211\n"
     ]
    },
    {
     "name": "stderr",
     "output_type": "stream",
     "text": [
      "100%|██████████| 375/375 [00:00<00:00, 1430.23it/s]\n",
      "100%|██████████| 118/118 [00:00<00:00, 1203.33it/s]\n",
      "  0%|          | 0/181 [00:00<?, ?it/s]"
     ]
    },
    {
     "name": "stdout",
     "output_type": "stream",
     "text": [
      "Label: 7 Counts: 375 Avg. H-bonds: 3.3706666666666667 Avg. RMSD: 0.92183644\n",
      "Label: 8 Counts: 118 Avg. H-bonds: 3.211864406779661 Avg. RMSD: 0.8844487\n"
     ]
    },
    {
     "name": "stderr",
     "output_type": "stream",
     "text": [
      "100%|██████████| 181/181 [00:00<00:00, 1100.84it/s]\n",
      "100%|██████████| 103/103 [00:00<00:00, 1114.77it/s]\n",
      "  0%|          | 0/252 [00:00<?, ?it/s]"
     ]
    },
    {
     "name": "stdout",
     "output_type": "stream",
     "text": [
      "Label: 9 Counts: 181 Avg. H-bonds: 3.541436464088398 Avg. RMSD: 0.37697634\n",
      "Label: 10 Counts: 103 Avg. H-bonds: 3.621359223300971 Avg. RMSD: 0.9537626\n"
     ]
    },
    {
     "name": "stderr",
     "output_type": "stream",
     "text": [
      "100%|██████████| 252/252 [00:00<00:00, 1293.66it/s]\n",
      "100%|██████████| 133/133 [00:00<00:00, 1205.70it/s]\n",
      "  0%|          | 0/246 [00:00<?, ?it/s]"
     ]
    },
    {
     "name": "stdout",
     "output_type": "stream",
     "text": [
      "Label: 11 Counts: 252 Avg. H-bonds: 3.392857142857143 Avg. RMSD: 0.39875436\n",
      "Label: 12 Counts: 133 Avg. H-bonds: 2.857142857142857 Avg. RMSD: 0.20505635\n"
     ]
    },
    {
     "name": "stderr",
     "output_type": "stream",
     "text": [
      "100%|██████████| 246/246 [00:00<00:00, 1259.71it/s]\n",
      " 51%|█████     | 124/245 [00:00<00:00, 1235.35it/s]"
     ]
    },
    {
     "name": "stdout",
     "output_type": "stream",
     "text": [
      "Label: 13 Counts: 246 Avg. H-bonds: 3.386178861788618 Avg. RMSD: 0.5280311\n"
     ]
    },
    {
     "name": "stderr",
     "output_type": "stream",
     "text": [
      "100%|██████████| 245/245 [00:00<00:00, 1290.58it/s]\n"
     ]
    },
    {
     "name": "stdout",
     "output_type": "stream",
     "text": [
      "Label: 14 Counts: 245 Avg. H-bonds: 3.289795918367347 Avg. RMSD: 0.62919515\n"
     ]
    },
    {
     "name": "stderr",
     "output_type": "stream",
     "text": [
      "100%|██████████| 262/262 [00:00<00:00, 1887.76it/s]"
     ]
    },
    {
     "name": "stdout",
     "output_type": "stream",
     "text": [
      "Temperature: 4 Silhouette Score: 0.30035741476582567\n",
      "Label: 0 Counts: 262 Avg. H-bonds: 3.2900763358778624 Avg. RMSD: 0.65035105\n"
     ]
    },
    {
     "name": "stderr",
     "output_type": "stream",
     "text": [
      "\n",
      "100%|██████████| 264/264 [00:00<00:00, 1285.77it/s]\n",
      " 27%|██▋       | 126/470 [00:00<00:00, 1255.94it/s]"
     ]
    },
    {
     "name": "stdout",
     "output_type": "stream",
     "text": [
      "Label: 1 Counts: 264 Avg. H-bonds: 3.5757575757575757 Avg. RMSD: 0.3160607\n"
     ]
    },
    {
     "name": "stderr",
     "output_type": "stream",
     "text": [
      "100%|██████████| 470/470 [00:00<00:00, 1483.24it/s]\n",
      " 48%|████▊     | 117/243 [00:00<00:00, 1164.48it/s]"
     ]
    },
    {
     "name": "stdout",
     "output_type": "stream",
     "text": [
      "Label: 2 Counts: 470 Avg. H-bonds: 3.4574468085106385 Avg. RMSD: 0.99959236\n"
     ]
    },
    {
     "name": "stderr",
     "output_type": "stream",
     "text": [
      "100%|██████████| 243/243 [00:00<00:00, 1234.21it/s]\n",
      " 26%|██▌       | 114/442 [00:00<00:00, 1131.77it/s]"
     ]
    },
    {
     "name": "stdout",
     "output_type": "stream",
     "text": [
      "Label: 3 Counts: 243 Avg. H-bonds: 3.4979423868312756 Avg. RMSD: 0.5199744\n"
     ]
    },
    {
     "name": "stderr",
     "output_type": "stream",
     "text": [
      "100%|██████████| 442/442 [00:00<00:00, 1418.36it/s]\n",
      "100%|██████████| 95/95 [00:00<00:00, 1231.23it/s]\n",
      "  0%|          | 0/281 [00:00<?, ?it/s]"
     ]
    },
    {
     "name": "stdout",
     "output_type": "stream",
     "text": [
      "Label: 4 Counts: 442 Avg. H-bonds: 3.32579185520362 Avg. RMSD: 0.5541828\n",
      "Label: 5 Counts: 95 Avg. H-bonds: 3.0105263157894737 Avg. RMSD: 0.28438035\n"
     ]
    },
    {
     "name": "stderr",
     "output_type": "stream",
     "text": [
      "100%|██████████| 281/281 [00:00<00:00, 1314.64it/s]\n"
     ]
    },
    {
     "name": "stdout",
     "output_type": "stream",
     "text": [
      "Label: 6 Counts: 281 Avg. H-bonds: 3.1423487544483986 Avg. RMSD: 0.17895234\n"
     ]
    },
    {
     "name": "stderr",
     "output_type": "stream",
     "text": [
      "100%|██████████| 278/278 [00:00<00:00, 1909.12it/s]\n",
      " 37%|███▋      | 125/341 [00:00<00:00, 1244.47it/s]"
     ]
    },
    {
     "name": "stdout",
     "output_type": "stream",
     "text": [
      "Label: 7 Counts: 278 Avg. H-bonds: 3.323741007194245 Avg. RMSD: 0.42042038\n"
     ]
    },
    {
     "name": "stderr",
     "output_type": "stream",
     "text": [
      "100%|██████████| 341/341 [00:00<00:00, 1363.51it/s]\n",
      "100%|██████████| 173/173 [00:00<00:00, 1201.53it/s]\n",
      "  0%|          | 0/211 [00:00<?, ?it/s]"
     ]
    },
    {
     "name": "stdout",
     "output_type": "stream",
     "text": [
      "Label: 8 Counts: 341 Avg. H-bonds: 3.5219941348973607 Avg. RMSD: 0.9050193\n",
      "Label: 9 Counts: 173 Avg. H-bonds: 3.3294797687861273 Avg. RMSD: 0.43591225\n"
     ]
    },
    {
     "name": "stderr",
     "output_type": "stream",
     "text": [
      "100%|██████████| 211/211 [00:00<00:00, 1161.19it/s]\n",
      "100%|██████████| 99/99 [00:00<00:00, 1121.97it/s]\n",
      "  0%|          | 0/124 [00:00<?, ?it/s]"
     ]
    },
    {
     "name": "stdout",
     "output_type": "stream",
     "text": [
      "Label: 10 Counts: 211 Avg. H-bonds: 3.4265402843601898 Avg. RMSD: 0.38593763\n",
      "Label: 11 Counts: 99 Avg. H-bonds: 3.4242424242424243 Avg. RMSD: 0.9434349\n"
     ]
    },
    {
     "name": "stderr",
     "output_type": "stream",
     "text": [
      "100%|██████████| 124/124 [00:00<00:00, 1216.20it/s]\n",
      "100%|██████████| 204/204 [00:00<00:00, 1245.56it/s]\n"
     ]
    },
    {
     "name": "stdout",
     "output_type": "stream",
     "text": [
      "Label: 12 Counts: 124 Avg. H-bonds: 3.306451612903226 Avg. RMSD: 0.87619656\n",
      "Label: 13 Counts: 204 Avg. H-bonds: 3.5784313725490198 Avg. RMSD: 0.58055884\n"
     ]
    },
    {
     "name": "stderr",
     "output_type": "stream",
     "text": [
      "100%|██████████| 121/121 [00:00<00:00, 1250.26it/s]\n"
     ]
    },
    {
     "name": "stdout",
     "output_type": "stream",
     "text": [
      "Label: 14 Counts: 121 Avg. H-bonds: 3.487603305785124 Avg. RMSD: 0.3966768\n"
     ]
    },
    {
     "name": "stderr",
     "output_type": "stream",
     "text": [
      "100%|██████████| 249/249 [00:00<00:00, 1738.07it/s]"
     ]
    },
    {
     "name": "stdout",
     "output_type": "stream",
     "text": [
      "Temperature: 5 Silhouette Score: 0.27257816197724116\n",
      "Label: 0 Counts: 249 Avg. H-bonds: 3.4377510040160644 Avg. RMSD: 0.34992307\n"
     ]
    },
    {
     "name": "stderr",
     "output_type": "stream",
     "text": [
      "\n",
      "100%|██████████| 342/342 [00:00<00:00, 1378.35it/s]\n",
      " 47%|████▋     | 121/255 [00:00<00:00, 1202.09it/s]"
     ]
    },
    {
     "name": "stdout",
     "output_type": "stream",
     "text": [
      "Label: 1 Counts: 342 Avg. H-bonds: 3.517543859649123 Avg. RMSD: 0.5908675\n"
     ]
    },
    {
     "name": "stderr",
     "output_type": "stream",
     "text": [
      "100%|██████████| 255/255 [00:00<00:00, 1275.12it/s]\n",
      " 32%|███▏      | 125/386 [00:00<00:00, 1241.53it/s]"
     ]
    },
    {
     "name": "stdout",
     "output_type": "stream",
     "text": [
      "Label: 2 Counts: 255 Avg. H-bonds: 3.4 Avg. RMSD: 0.9904018\n"
     ]
    },
    {
     "name": "stderr",
     "output_type": "stream",
     "text": [
      "100%|██████████| 386/386 [00:00<00:00, 1452.68it/s]\n",
      "100%|██████████| 140/140 [00:00<00:00, 1225.55it/s]\n",
      "  0%|          | 0/367 [00:00<?, ?it/s]"
     ]
    },
    {
     "name": "stdout",
     "output_type": "stream",
     "text": [
      "Label: 3 Counts: 386 Avg. H-bonds: 3.4533678756476682 Avg. RMSD: 0.931491\n",
      "Label: 4 Counts: 140 Avg. H-bonds: 3.357142857142857 Avg. RMSD: 0.87659115\n"
     ]
    },
    {
     "name": "stderr",
     "output_type": "stream",
     "text": [
      "100%|██████████| 367/367 [00:00<00:00, 1433.76it/s]\n",
      " 54%|█████▎    | 125/233 [00:00<00:00, 1245.24it/s]"
     ]
    },
    {
     "name": "stdout",
     "output_type": "stream",
     "text": [
      "Label: 5 Counts: 367 Avg. H-bonds: 3.4359673024523163 Avg. RMSD: 0.49493533\n"
     ]
    },
    {
     "name": "stderr",
     "output_type": "stream",
     "text": [
      "100%|██████████| 233/233 [00:00<00:00, 1257.96it/s]\n",
      " 47%|████▋     | 123/262 [00:00<00:00, 1223.14it/s]"
     ]
    },
    {
     "name": "stdout",
     "output_type": "stream",
     "text": [
      "Label: 6 Counts: 233 Avg. H-bonds: 3.278969957081545 Avg. RMSD: 0.6611754\n"
     ]
    },
    {
     "name": "stderr",
     "output_type": "stream",
     "text": [
      "100%|██████████| 262/262 [00:00<00:00, 1309.61it/s]\n",
      "100%|██████████| 62/62 [00:00<00:00, 1168.84it/s]\n",
      "  0%|          | 0/277 [00:00<?, ?it/s]"
     ]
    },
    {
     "name": "stdout",
     "output_type": "stream",
     "text": [
      "Label: 7 Counts: 262 Avg. H-bonds: 3.1946564885496183 Avg. RMSD: 0.55715525\n",
      "Label: 8 Counts: 62 Avg. H-bonds: 3.129032258064516 Avg. RMSD: 0.30688077\n"
     ]
    },
    {
     "name": "stderr",
     "output_type": "stream",
     "text": [
      "100%|██████████| 277/277 [00:00<00:00, 1322.94it/s]\n"
     ]
    },
    {
     "name": "stdout",
     "output_type": "stream",
     "text": [
      "Label: 9 Counts: 277 Avg. H-bonds: 3.2310469314079424 Avg. RMSD: 0.17210801\n"
     ]
    },
    {
     "name": "stderr",
     "output_type": "stream",
     "text": [
      "100%|██████████| 206/206 [00:00<00:00, 1866.07it/s]\n",
      " 62%|██████▏   | 128/208 [00:00<00:00, 1279.56it/s]"
     ]
    },
    {
     "name": "stdout",
     "output_type": "stream",
     "text": [
      "Label: 10 Counts: 206 Avg. H-bonds: 3.495145631067961 Avg. RMSD: 0.53776515\n"
     ]
    },
    {
     "name": "stderr",
     "output_type": "stream",
     "text": [
      "100%|██████████| 208/208 [00:00<00:00, 1188.86it/s]\n",
      "100%|██████████| 87/87 [00:00<00:00, 1168.57it/s]\n",
      "  0%|          | 0/350 [00:00<?, ?it/s]"
     ]
    },
    {
     "name": "stdout",
     "output_type": "stream",
     "text": [
      "Label: 11 Counts: 208 Avg. H-bonds: 3.5288461538461537 Avg. RMSD: 0.4170011\n",
      "Label: 12 Counts: 87 Avg. H-bonds: 3.3908045977011496 Avg. RMSD: 0.9201133\n"
     ]
    },
    {
     "name": "stderr",
     "output_type": "stream",
     "text": [
      "100%|██████████| 350/350 [00:00<00:00, 1394.82it/s]\n",
      "100%|██████████| 184/184 [00:00<00:00, 1179.44it/s]\n"
     ]
    },
    {
     "name": "stdout",
     "output_type": "stream",
     "text": [
      "Label: 13 Counts: 350 Avg. H-bonds: 3.3914285714285715 Avg. RMSD: 0.95564115\n",
      "Label: 14 Counts: 184 Avg. H-bonds: 3.4184782608695654 Avg. RMSD: 0.4484006\n"
     ]
    },
    {
     "name": "stderr",
     "output_type": "stream",
     "text": [
      " 56%|█████▌    | 169/304 [00:00<00:00, 1676.34it/s]"
     ]
    },
    {
     "name": "stdout",
     "output_type": "stream",
     "text": [
      "Temperature: 6 Silhouette Score: 0.2615349390986552\n"
     ]
    },
    {
     "name": "stderr",
     "output_type": "stream",
     "text": [
      "100%|██████████| 304/304 [00:00<00:00, 1499.09it/s]\n",
      "100%|██████████| 89/89 [00:00<00:00, 1206.16it/s]\n",
      "  0%|          | 0/267 [00:00<?, ?it/s]"
     ]
    },
    {
     "name": "stdout",
     "output_type": "stream",
     "text": [
      "Label: 0 Counts: 304 Avg. H-bonds: 3.5723684210526314 Avg. RMSD: 0.55361086\n",
      "Label: 1 Counts: 89 Avg. H-bonds: 3.6292134831460676 Avg. RMSD: 0.8607104\n"
     ]
    },
    {
     "name": "stderr",
     "output_type": "stream",
     "text": [
      "100%|██████████| 267/267 [00:00<00:00, 1306.87it/s]\n",
      " 58%|█████▊    | 125/216 [00:00<00:00, 1243.27it/s]"
     ]
    },
    {
     "name": "stdout",
     "output_type": "stream",
     "text": [
      "Label: 2 Counts: 267 Avg. H-bonds: 3.4269662921348316 Avg. RMSD: 0.9057118\n"
     ]
    },
    {
     "name": "stderr",
     "output_type": "stream",
     "text": [
      "100%|██████████| 216/216 [00:00<00:00, 1252.81it/s]\n",
      "100%|██████████| 151/151 [00:00<00:00, 1165.63it/s]\n",
      "  0%|          | 0/216 [00:00<?, ?it/s]"
     ]
    },
    {
     "name": "stdout",
     "output_type": "stream",
     "text": [
      "Label: 3 Counts: 216 Avg. H-bonds: 3.25 Avg. RMSD: 0.53644764\n",
      "Label: 4 Counts: 151 Avg. H-bonds: 3.4503311258278146 Avg. RMSD: 0.91991216\n"
     ]
    },
    {
     "name": "stderr",
     "output_type": "stream",
     "text": [
      "100%|██████████| 216/216 [00:00<00:00, 1158.65it/s]\n",
      " 28%|██▊       | 114/407 [00:00<00:00, 1135.22it/s]"
     ]
    },
    {
     "name": "stdout",
     "output_type": "stream",
     "text": [
      "Label: 5 Counts: 216 Avg. H-bonds: 3.1527777777777777 Avg. RMSD: 0.15798046\n"
     ]
    },
    {
     "name": "stderr",
     "output_type": "stream",
     "text": [
      "100%|██████████| 407/407 [00:00<00:00, 1385.50it/s]\n",
      " 45%|████▌     | 122/269 [00:00<00:00, 1217.55it/s]"
     ]
    },
    {
     "name": "stdout",
     "output_type": "stream",
     "text": [
      "Label: 6 Counts: 407 Avg. H-bonds: 3.371007371007371 Avg. RMSD: 1.0301079\n"
     ]
    },
    {
     "name": "stderr",
     "output_type": "stream",
     "text": [
      "100%|██████████| 269/269 [00:00<00:00, 1272.61it/s]\n",
      " 56%|█████▋    | 112/199 [00:00<00:00, 1114.46it/s]"
     ]
    },
    {
     "name": "stdout",
     "output_type": "stream",
     "text": [
      "Label: 7 Counts: 269 Avg. H-bonds: 3.4646840148698885 Avg. RMSD: 0.40595683\n"
     ]
    },
    {
     "name": "stderr",
     "output_type": "stream",
     "text": [
      "100%|██████████| 199/199 [00:00<00:00, 1159.28it/s]\n",
      " 31%|███▏      | 111/354 [00:00<00:00, 1108.54it/s]"
     ]
    },
    {
     "name": "stdout",
     "output_type": "stream",
     "text": [
      "Label: 8 Counts: 199 Avg. H-bonds: 3.391959798994975 Avg. RMSD: 0.43373868\n"
     ]
    },
    {
     "name": "stderr",
     "output_type": "stream",
     "text": [
      "100%|██████████| 354/354 [00:00<00:00, 1357.91it/s]\n",
      "100%|██████████| 152/152 [00:00<00:00, 1236.09it/s]\n",
      "  0%|          | 0/273 [00:00<?, ?it/s]"
     ]
    },
    {
     "name": "stdout",
     "output_type": "stream",
     "text": [
      "Label: 9 Counts: 354 Avg. H-bonds: 3.426553672316384 Avg. RMSD: 0.5624291\n",
      "Label: 10 Counts: 152 Avg. H-bonds: 3.276315789473684 Avg. RMSD: 0.6593667\n"
     ]
    },
    {
     "name": "stderr",
     "output_type": "stream",
     "text": [
      "100%|██████████| 273/273 [00:00<00:00, 1337.48it/s]\n",
      "100%|██████████| 181/181 [00:00<00:00, 1235.66it/s]\n"
     ]
    },
    {
     "name": "stdout",
     "output_type": "stream",
     "text": [
      "Label: 11 Counts: 273 Avg. H-bonds: 3.457875457875458 Avg. RMSD: 0.855868\n",
      "Label: 12 Counts: 181 Avg. H-bonds: 3.546961325966851 Avg. RMSD: 0.42063937\n"
     ]
    },
    {
     "name": "stderr",
     "output_type": "stream",
     "text": [
      "100%|██████████| 244/244 [00:00<00:00, 1864.62it/s]\n",
      " 44%|████▎     | 125/286 [00:00<00:00, 1246.87it/s]"
     ]
    },
    {
     "name": "stdout",
     "output_type": "stream",
     "text": [
      "Label: 13 Counts: 244 Avg. H-bonds: 3.30327868852459 Avg. RMSD: 0.3556983\n"
     ]
    },
    {
     "name": "stderr",
     "output_type": "stream",
     "text": [
      "100%|██████████| 286/286 [00:00<00:00, 1318.57it/s]\n"
     ]
    },
    {
     "name": "stdout",
     "output_type": "stream",
     "text": [
      "Label: 14 Counts: 286 Avg. H-bonds: 3.269230769230769 Avg. RMSD: 0.6469132\n"
     ]
    },
    {
     "name": "stderr",
     "output_type": "stream",
     "text": [
      " 43%|████▎     | 183/427 [00:00<00:00, 1827.67it/s]"
     ]
    },
    {
     "name": "stdout",
     "output_type": "stream",
     "text": [
      "Temperature: 7 Silhouette Score: 0.25695372376611014\n"
     ]
    },
    {
     "name": "stderr",
     "output_type": "stream",
     "text": [
      "100%|██████████| 427/427 [00:00<00:00, 1749.09it/s]\n"
     ]
    },
    {
     "name": "stdout",
     "output_type": "stream",
     "text": [
      "Label: 0 Counts: 427 Avg. H-bonds: 3.4028103044496487 Avg. RMSD: 0.96422434\n"
     ]
    },
    {
     "name": "stderr",
     "output_type": "stream",
     "text": [
      "100%|██████████| 173/173 [00:00<00:00, 1892.73it/s]\n",
      "100%|██████████| 206/206 [00:00<00:00, 1195.98it/s]\n"
     ]
    },
    {
     "name": "stdout",
     "output_type": "stream",
     "text": [
      "Label: 1 Counts: 173 Avg. H-bonds: 3.2890173410404624 Avg. RMSD: 0.4476569\n",
      "Label: 2 Counts: 206 Avg. H-bonds: 3.4611650485436893 Avg. RMSD: 0.9377172\n"
     ]
    },
    {
     "name": "stderr",
     "output_type": "stream",
     "text": [
      "100%|██████████| 177/177 [00:00<00:00, 1177.46it/s]\n",
      " 42%|████▏     | 120/288 [00:00<00:00, 1195.08it/s]"
     ]
    },
    {
     "name": "stdout",
     "output_type": "stream",
     "text": [
      "Label: 3 Counts: 177 Avg. H-bonds: 3.367231638418079 Avg. RMSD: 0.7224419\n"
     ]
    },
    {
     "name": "stderr",
     "output_type": "stream",
     "text": [
      "100%|██████████| 288/288 [00:00<00:00, 1306.97it/s]\n",
      "100%|██████████| 88/88 [00:00<00:00, 1243.81it/s]\n",
      "  0%|          | 0/279 [00:00<?, ?it/s]"
     ]
    },
    {
     "name": "stdout",
     "output_type": "stream",
     "text": [
      "Label: 4 Counts: 288 Avg. H-bonds: 3.3402777777777777 Avg. RMSD: 0.543718\n",
      "Label: 5 Counts: 88 Avg. H-bonds: 3.25 Avg. RMSD: 0.28480685\n"
     ]
    },
    {
     "name": "stderr",
     "output_type": "stream",
     "text": [
      "100%|██████████| 279/279 [00:00<00:00, 1282.60it/s]\n",
      "100%|██████████| 208/208 [00:00<00:00, 1250.83it/s]\n"
     ]
    },
    {
     "name": "stdout",
     "output_type": "stream",
     "text": [
      "Label: 6 Counts: 279 Avg. H-bonds: 3.3978494623655915 Avg. RMSD: 0.5713754\n",
      "Label: 7 Counts: 208 Avg. H-bonds: 3.480769230769231 Avg. RMSD: 0.3624916\n"
     ]
    },
    {
     "name": "stderr",
     "output_type": "stream",
     "text": [
      "100%|██████████| 347/347 [00:00<00:00, 1341.93it/s]\n",
      " 29%|██▉       | 124/431 [00:00<00:00, 1234.81it/s]"
     ]
    },
    {
     "name": "stdout",
     "output_type": "stream",
     "text": [
      "Label: 8 Counts: 347 Avg. H-bonds: 3.2939481268011526 Avg. RMSD: 0.49367425\n"
     ]
    },
    {
     "name": "stderr",
     "output_type": "stream",
     "text": [
      "100%|██████████| 431/431 [00:00<00:00, 1456.76it/s]\n",
      "100%|██████████| 184/184 [00:00<00:00, 1203.98it/s]\n"
     ]
    },
    {
     "name": "stdout",
     "output_type": "stream",
     "text": [
      "Label: 9 Counts: 431 Avg. H-bonds: 3.4733178654292343 Avg. RMSD: 0.96658486\n",
      "Label: 10 Counts: 184 Avg. H-bonds: 3.1739130434782608 Avg. RMSD: 0.16036218\n"
     ]
    },
    {
     "name": "stderr",
     "output_type": "stream",
     "text": [
      "100%|██████████| 167/167 [00:00<00:00, 1202.09it/s]\n",
      " 57%|█████▋    | 112/195 [00:00<00:00, 1119.00it/s]"
     ]
    },
    {
     "name": "stdout",
     "output_type": "stream",
     "text": [
      "Label: 11 Counts: 167 Avg. H-bonds: 3.2994011976047903 Avg. RMSD: 0.9446965\n"
     ]
    },
    {
     "name": "stderr",
     "output_type": "stream",
     "text": [
      "100%|██████████| 195/195 [00:00<00:00, 1112.73it/s]\n",
      " 51%|█████     | 113/222 [00:00<00:00, 1129.21it/s]"
     ]
    },
    {
     "name": "stdout",
     "output_type": "stream",
     "text": [
      "Label: 12 Counts: 195 Avg. H-bonds: 3.6564102564102563 Avg. RMSD: 0.45605808\n"
     ]
    },
    {
     "name": "stderr",
     "output_type": "stream",
     "text": [
      "100%|██████████| 222/222 [00:00<00:00, 1168.06it/s]\n",
      " 55%|█████▍    | 118/216 [00:00<00:00, 1174.30it/s]"
     ]
    },
    {
     "name": "stdout",
     "output_type": "stream",
     "text": [
      "Label: 13 Counts: 222 Avg. H-bonds: 3.7027027027027026 Avg. RMSD: 0.5070057\n"
     ]
    },
    {
     "name": "stderr",
     "output_type": "stream",
     "text": [
      "100%|██████████| 216/216 [00:00<00:00, 1204.92it/s]\n"
     ]
    },
    {
     "name": "stdout",
     "output_type": "stream",
     "text": [
      "Label: 14 Counts: 216 Avg. H-bonds: 3.1666666666666665 Avg. RMSD: 0.6119396\n"
     ]
    },
    {
     "name": "stderr",
     "output_type": "stream",
     "text": [
      "100%|██████████| 223/223 [00:00<00:00, 1776.19it/s]\n",
      "  0%|          | 0/296 [00:00<?, ?it/s]"
     ]
    },
    {
     "name": "stdout",
     "output_type": "stream",
     "text": [
      "Temperature: 8 Silhouette Score: 0.2292133452491593\n",
      "Label: 0 Counts: 223 Avg. H-bonds: 3.381165919282511 Avg. RMSD: 0.37094116\n"
     ]
    },
    {
     "name": "stderr",
     "output_type": "stream",
     "text": [
      "100%|██████████| 296/296 [00:00<00:00, 1246.24it/s]\n",
      "100%|██████████| 136/136 [00:00<00:00, 1238.98it/s]\n",
      "  0%|          | 0/314 [00:00<?, ?it/s]"
     ]
    },
    {
     "name": "stdout",
     "output_type": "stream",
     "text": [
      "Label: 1 Counts: 296 Avg. H-bonds: 3.3378378378378377 Avg. RMSD: 0.6909127\n",
      "Label: 2 Counts: 136 Avg. H-bonds: 3.375 Avg. RMSD: 0.8619849\n"
     ]
    },
    {
     "name": "stderr",
     "output_type": "stream",
     "text": [
      "100%|██████████| 314/314 [00:00<00:00, 1372.32it/s]\n",
      "100%|██████████| 85/85 [00:00<00:00, 1211.38it/s]\n",
      "  0%|          | 0/218 [00:00<?, ?it/s]"
     ]
    },
    {
     "name": "stdout",
     "output_type": "stream",
     "text": [
      "Label: 3 Counts: 314 Avg. H-bonds: 3.468152866242038 Avg. RMSD: 0.47228396\n",
      "Label: 4 Counts: 85 Avg. H-bonds: 3.4 Avg. RMSD: 0.3419269\n"
     ]
    },
    {
     "name": "stderr",
     "output_type": "stream",
     "text": [
      "100%|██████████| 218/218 [00:00<00:00, 1181.51it/s]\n",
      " 49%|████▉     | 127/258 [00:00<00:00, 1263.19it/s]"
     ]
    },
    {
     "name": "stdout",
     "output_type": "stream",
     "text": [
      "Label: 5 Counts: 218 Avg. H-bonds: 3.4311926605504586 Avg. RMSD: 1.0158782\n"
     ]
    },
    {
     "name": "stderr",
     "output_type": "stream",
     "text": [
      "100%|██████████| 258/258 [00:00<00:00, 1320.09it/s]\n",
      " 51%|█████▏    | 126/245 [00:00<00:00, 1251.47it/s]"
     ]
    },
    {
     "name": "stdout",
     "output_type": "stream",
     "text": [
      "Label: 6 Counts: 258 Avg. H-bonds: 3.6705426356589146 Avg. RMSD: 0.5859737\n"
     ]
    },
    {
     "name": "stderr",
     "output_type": "stream",
     "text": [
      "100%|██████████| 245/245 [00:00<00:00, 1292.27it/s]\n",
      " 26%|██▌       | 116/454 [00:00<00:00, 1158.65it/s]"
     ]
    },
    {
     "name": "stdout",
     "output_type": "stream",
     "text": [
      "Label: 7 Counts: 245 Avg. H-bonds: 3.273469387755102 Avg. RMSD: 0.9551522\n"
     ]
    },
    {
     "name": "stderr",
     "output_type": "stream",
     "text": [
      "100%|██████████| 454/454 [00:00<00:00, 1445.54it/s]\n",
      " 30%|███       | 128/420 [00:00<00:00, 1279.42it/s]"
     ]
    },
    {
     "name": "stdout",
     "output_type": "stream",
     "text": [
      "Label: 8 Counts: 454 Avg. H-bonds: 3.356828193832599 Avg. RMSD: 0.50911576\n"
     ]
    },
    {
     "name": "stderr",
     "output_type": "stream",
     "text": [
      "100%|██████████| 420/420 [00:00<00:00, 1480.79it/s]\n",
      " 37%|███▋      | 127/346 [00:00<00:00, 1263.53it/s]"
     ]
    },
    {
     "name": "stdout",
     "output_type": "stream",
     "text": [
      "Label: 9 Counts: 420 Avg. H-bonds: 3.4 Avg. RMSD: 0.9391572\n"
     ]
    },
    {
     "name": "stderr",
     "output_type": "stream",
     "text": [
      "100%|██████████| 346/346 [00:00<00:00, 1420.25it/s]\n",
      " 39%|███▉      | 125/321 [00:00<00:00, 1202.31it/s]"
     ]
    },
    {
     "name": "stdout",
     "output_type": "stream",
     "text": [
      "Label: 10 Counts: 346 Avg. H-bonds: 3.2890173410404624 Avg. RMSD: 0.950996\n"
     ]
    },
    {
     "name": "stderr",
     "output_type": "stream",
     "text": [
      "100%|██████████| 321/321 [00:00<00:00, 1334.00it/s]\n",
      "100%|██████████| 165/165 [00:00<00:00, 1277.93it/s]\n",
      "  0%|          | 0/51 [00:00<?, ?it/s]"
     ]
    },
    {
     "name": "stdout",
     "output_type": "stream",
     "text": [
      "Label: 11 Counts: 321 Avg. H-bonds: 3.4143302180685358 Avg. RMSD: 0.5426289\n",
      "Label: 12 Counts: 165 Avg. H-bonds: 3.3454545454545452 Avg. RMSD: 0.45413885\n"
     ]
    },
    {
     "name": "stderr",
     "output_type": "stream",
     "text": [
      "100%|██████████| 51/51 [00:00<00:00, 1268.26it/s]\n",
      "100%|██████████| 76/76 [00:00<00:00, 1190.74it/s]\n"
     ]
    },
    {
     "name": "stdout",
     "output_type": "stream",
     "text": [
      "Label: 13 Counts: 51 Avg. H-bonds: 3.3137254901960786 Avg. RMSD: 0.84171724\n",
      "Label: 14 Counts: 76 Avg. H-bonds: 3.4473684210526314 Avg. RMSD: 0.27571368\n"
     ]
    },
    {
     "name": "stderr",
     "output_type": "stream",
     "text": [
      "100%|██████████| 92/92 [00:00<00:00, 1799.92it/s]\n",
      "  0%|          | 0/161 [00:00<?, ?it/s]"
     ]
    },
    {
     "name": "stdout",
     "output_type": "stream",
     "text": [
      "Temperature: 9 Silhouette Score: 0.22267311589855476\n",
      "Label: 0 Counts: 92 Avg. H-bonds: 3.4239130434782608 Avg. RMSD: 0.27870217\n"
     ]
    },
    {
     "name": "stderr",
     "output_type": "stream",
     "text": [
      "100%|██████████| 161/161 [00:00<00:00, 1102.68it/s]\n",
      " 56%|█████▋    | 112/199 [00:00<00:00, 1118.58it/s]"
     ]
    },
    {
     "name": "stdout",
     "output_type": "stream",
     "text": [
      "Label: 1 Counts: 161 Avg. H-bonds: 3.2236024844720497 Avg. RMSD: 0.46593717\n"
     ]
    },
    {
     "name": "stderr",
     "output_type": "stream",
     "text": [
      "100%|██████████| 199/199 [00:00<00:00, 1134.92it/s]\n",
      " 23%|██▎       | 121/537 [00:00<00:00, 1207.74it/s]"
     ]
    },
    {
     "name": "stdout",
     "output_type": "stream",
     "text": [
      "Label: 2 Counts: 199 Avg. H-bonds: 3.407035175879397 Avg. RMSD: 0.3415594\n"
     ]
    },
    {
     "name": "stderr",
     "output_type": "stream",
     "text": [
      "100%|██████████| 537/537 [00:00<00:00, 1352.67it/s]\n",
      "100%|██████████| 89/89 [00:00<00:00, 1205.88it/s]\n",
      "  0%|          | 0/433 [00:00<?, ?it/s]"
     ]
    },
    {
     "name": "stdout",
     "output_type": "stream",
     "text": [
      "Label: 3 Counts: 537 Avg. H-bonds: 3.521415270018622 Avg. RMSD: 0.5812172\n",
      "Label: 4 Counts: 89 Avg. H-bonds: 3.3146067415730336 Avg. RMSD: 0.3721616\n"
     ]
    },
    {
     "name": "stderr",
     "output_type": "stream",
     "text": [
      "100%|██████████| 433/433 [00:00<00:00, 1475.66it/s]\n"
     ]
    },
    {
     "name": "stdout",
     "output_type": "stream",
     "text": [
      "Label: 5 Counts: 433 Avg. H-bonds: 3.344110854503464 Avg. RMSD: 0.9571112\n"
     ]
    },
    {
     "name": "stderr",
     "output_type": "stream",
     "text": [
      "100%|██████████| 48/48 [00:00<00:00, 1829.76it/s]\n",
      " 31%|███▏      | 121/386 [00:00<00:00, 1208.32it/s]"
     ]
    },
    {
     "name": "stdout",
     "output_type": "stream",
     "text": [
      "Label: 6 Counts: 48 Avg. H-bonds: 3.4791666666666665 Avg. RMSD: 0.82819897\n"
     ]
    },
    {
     "name": "stderr",
     "output_type": "stream",
     "text": [
      "100%|██████████| 386/386 [00:00<00:00, 1413.80it/s]\n",
      " 33%|███▎      | 121/370 [00:00<00:00, 1202.24it/s]"
     ]
    },
    {
     "name": "stdout",
     "output_type": "stream",
     "text": [
      "Label: 7 Counts: 386 Avg. H-bonds: 3.3678756476683938 Avg. RMSD: 0.5700421\n"
     ]
    },
    {
     "name": "stderr",
     "output_type": "stream",
     "text": [
      "100%|██████████| 370/370 [00:00<00:00, 1399.93it/s]\n",
      "100%|██████████| 199/199 [00:00<00:00, 1255.47it/s]\n"
     ]
    },
    {
     "name": "stdout",
     "output_type": "stream",
     "text": [
      "Label: 8 Counts: 370 Avg. H-bonds: 3.272972972972973 Avg. RMSD: 0.93330896\n",
      "Label: 9 Counts: 199 Avg. H-bonds: 3.336683417085427 Avg. RMSD: 0.873027\n"
     ]
    },
    {
     "name": "stderr",
     "output_type": "stream",
     "text": [
      "100%|██████████| 295/295 [00:00<00:00, 1389.37it/s]\n",
      "100%|██████████| 213/213 [00:00<00:00, 1223.59it/s]"
     ]
    },
    {
     "name": "stdout",
     "output_type": "stream",
     "text": [
      "Label: 10 Counts: 295 Avg. H-bonds: 3.440677966101695 Avg. RMSD: 0.58343637\n"
     ]
    },
    {
     "name": "stderr",
     "output_type": "stream",
     "text": [
      "\n",
      " 47%|████▋     | 129/274 [00:00<00:00, 1289.95it/s]"
     ]
    },
    {
     "name": "stdout",
     "output_type": "stream",
     "text": [
      "Label: 11 Counts: 213 Avg. H-bonds: 3.4788732394366195 Avg. RMSD: 1.0146049\n"
     ]
    },
    {
     "name": "stderr",
     "output_type": "stream",
     "text": [
      "100%|██████████| 274/274 [00:00<00:00, 1330.00it/s]\n",
      "100%|██████████| 91/91 [00:00<00:00, 1005.34it/s]\n",
      "  0%|          | 0/221 [00:00<?, ?it/s]"
     ]
    },
    {
     "name": "stdout",
     "output_type": "stream",
     "text": [
      "Label: 12 Counts: 274 Avg. H-bonds: 3.343065693430657 Avg. RMSD: 0.6875584\n",
      "Label: 13 Counts: 91 Avg. H-bonds: 3.4945054945054945 Avg. RMSD: 0.27742\n"
     ]
    },
    {
     "name": "stderr",
     "output_type": "stream",
     "text": [
      "100%|██████████| 221/221 [00:00<00:00, 1276.33it/s]\n"
     ]
    },
    {
     "name": "stdout",
     "output_type": "stream",
     "text": [
      "Label: 14 Counts: 221 Avg. H-bonds: 3.4705882352941178 Avg. RMSD: 0.94006\n"
     ]
    },
    {
     "name": "stderr",
     "output_type": "stream",
     "text": [
      "100%|██████████| 90/90 [00:00<00:00, 1641.63it/s]\n",
      "  0%|          | 0/272 [00:00<?, ?it/s]"
     ]
    },
    {
     "name": "stdout",
     "output_type": "stream",
     "text": [
      "Temperature: 10 Silhouette Score: 0.1982151035938367\n",
      "Label: 0 Counts: 90 Avg. H-bonds: 3.2 Avg. RMSD: 0.33038047\n"
     ]
    },
    {
     "name": "stderr",
     "output_type": "stream",
     "text": [
      "100%|██████████| 272/272 [00:00<00:00, 1194.61it/s]\n",
      " 21%|██        | 113/534 [00:00<00:00, 1128.78it/s]"
     ]
    },
    {
     "name": "stdout",
     "output_type": "stream",
     "text": [
      "Label: 1 Counts: 272 Avg. H-bonds: 3.6213235294117645 Avg. RMSD: 0.60008097\n"
     ]
    },
    {
     "name": "stderr",
     "output_type": "stream",
     "text": [
      "100%|██████████| 534/534 [00:00<00:00, 1422.18it/s]\n",
      "100%|██████████| 174/174 [00:00<00:00, 1243.60it/s]\n",
      "  0%|          | 0/158 [00:00<?, ?it/s]"
     ]
    },
    {
     "name": "stdout",
     "output_type": "stream",
     "text": [
      "Label: 2 Counts: 534 Avg. H-bonds: 3.398876404494382 Avg. RMSD: 0.95010585\n",
      "Label: 3 Counts: 174 Avg. H-bonds: 3.442528735632184 Avg. RMSD: 0.8619639\n"
     ]
    },
    {
     "name": "stderr",
     "output_type": "stream",
     "text": [
      "100%|██████████| 158/158 [00:00<00:00, 1208.43it/s]\n",
      "100%|██████████| 181/181 [00:00<00:00, 1125.55it/s]\n"
     ]
    },
    {
     "name": "stdout",
     "output_type": "stream",
     "text": [
      "Label: 4 Counts: 158 Avg. H-bonds: 3.537974683544304 Avg. RMSD: 0.82632184\n",
      "Label: 5 "
     ]
    },
    {
     "name": "stderr",
     "output_type": "stream",
     "text": [
      "100%|██████████| 87/87 [00:00<00:00, 1055.63it/s]\n",
      "  0%|          | 0/163 [00:00<?, ?it/s]"
     ]
    },
    {
     "name": "stdout",
     "output_type": "stream",
     "text": [
      "Counts: 181 Avg. H-bonds: 3.3701657458563536 Avg. RMSD: 0.9765423\n",
      "Label: 6 Counts: 87 Avg. H-bonds: 3.413793103448276 Avg. RMSD: 0.26062614\n"
     ]
    },
    {
     "name": "stderr",
     "output_type": "stream",
     "text": [
      "100%|██████████| 163/163 [00:00<00:00, 1097.02it/s]\n",
      " 39%|███▉      | 117/299 [00:00<00:00, 1169.69it/s]"
     ]
    },
    {
     "name": "stdout",
     "output_type": "stream",
     "text": [
      "Label: 7 Counts: 163 Avg. H-bonds: 3.233128834355828 Avg. RMSD: 0.494371\n"
     ]
    },
    {
     "name": "stderr",
     "output_type": "stream",
     "text": [
      "100%|██████████| 299/299 [00:00<00:00, 1275.13it/s]\n"
     ]
    },
    {
     "name": "stdout",
     "output_type": "stream",
     "text": [
      "Label: 8 Counts: 299 Avg. H-bonds: 3.4849498327759196 Avg. RMSD: 0.51873106\n"
     ]
    },
    {
     "name": "stderr",
     "output_type": "stream",
     "text": [
      "100%|██████████| 215/215 [00:00<00:00, 1822.67it/s]\n",
      "100%|██████████| 171/171 [00:00<00:00, 1096.90it/s]\n"
     ]
    },
    {
     "name": "stdout",
     "output_type": "stream",
     "text": [
      "Label: 9 Counts: 215 Avg. H-bonds: 3.3813953488372093 Avg. RMSD: 0.5789855\n",
      "Label: 10 Counts: 171 Avg. H-bonds: 3.4502923976608186 Avg. RMSD: 0.34412456\n"
     ]
    },
    {
     "name": "stderr",
     "output_type": "stream",
     "text": [
      "100%|██████████| 364/364 [00:00<00:00, 1312.11it/s]\n",
      " 53%|█████▎    | 127/238 [00:00<00:00, 1260.45it/s]"
     ]
    },
    {
     "name": "stdout",
     "output_type": "stream",
     "text": [
      "Label: 11 Counts: 364 Avg. H-bonds: 3.3736263736263736 Avg. RMSD: 0.9209642\n"
     ]
    },
    {
     "name": "stderr",
     "output_type": "stream",
     "text": [
      "100%|██████████| 238/238 [00:00<00:00, 1282.10it/s]\n",
      " 39%|███▉      | 123/317 [00:00<00:00, 1227.62it/s]"
     ]
    },
    {
     "name": "stdout",
     "output_type": "stream",
     "text": [
      "Label: 12 Counts: 238 Avg. H-bonds: 3.4159663865546217 Avg. RMSD: 0.8156987\n"
     ]
    },
    {
     "name": "stderr",
     "output_type": "stream",
     "text": [
      "100%|██████████| 317/317 [00:00<00:00, 1352.12it/s]\n",
      " 35%|███▌      | 122/345 [00:00<00:00, 1217.49it/s]"
     ]
    },
    {
     "name": "stdout",
     "output_type": "stream",
     "text": [
      "Label: 13 Counts: 317 Avg. H-bonds: 3.3438485804416405 Avg. RMSD: 0.74985814\n"
     ]
    },
    {
     "name": "stderr",
     "output_type": "stream",
     "text": [
      "100%|██████████| 345/345 [00:00<00:00, 1344.54it/s]\n"
     ]
    },
    {
     "name": "stdout",
     "output_type": "stream",
     "text": [
      "Label: 14 Counts: 345 Avg. H-bonds: 3.2028985507246377 Avg. RMSD: 0.46104136\n"
     ]
    },
    {
     "name": "stderr",
     "output_type": "stream",
     "text": [
      " 45%|████▌     | 181/401 [00:00<00:00, 1801.79it/s]"
     ]
    },
    {
     "name": "stdout",
     "output_type": "stream",
     "text": [
      "Temperature: 11 Silhouette Score: 0.190959500600246\n"
     ]
    },
    {
     "name": "stderr",
     "output_type": "stream",
     "text": [
      "100%|██████████| 401/401 [00:00<00:00, 1746.41it/s]\n",
      " 50%|█████     | 128/254 [00:00<00:00, 1279.91it/s]"
     ]
    },
    {
     "name": "stdout",
     "output_type": "stream",
     "text": [
      "Label: 0 Counts: 401 Avg. H-bonds: 3.3840399002493764 Avg. RMSD: 0.8905854\n"
     ]
    },
    {
     "name": "stderr",
     "output_type": "stream",
     "text": [
      "100%|██████████| 254/254 [00:00<00:00, 1312.09it/s]\n",
      " 45%|████▍     | 125/278 [00:00<00:00, 1241.69it/s]"
     ]
    },
    {
     "name": "stdout",
     "output_type": "stream",
     "text": [
      "Label: 1 Counts: 254 Avg. H-bonds: 3.3818897637795278 Avg. RMSD: 0.60650325\n"
     ]
    },
    {
     "name": "stderr",
     "output_type": "stream",
     "text": [
      "100%|██████████| 278/278 [00:00<00:00, 1318.93it/s]\n",
      " 49%|████▉     | 126/258 [00:00<00:00, 1257.41it/s]"
     ]
    },
    {
     "name": "stdout",
     "output_type": "stream",
     "text": [
      "Label: 2 Counts: 278 Avg. H-bonds: 3.3309352517985613 Avg. RMSD: 0.7215756\n"
     ]
    },
    {
     "name": "stderr",
     "output_type": "stream",
     "text": [
      "100%|██████████| 258/258 [00:00<00:00, 1254.32it/s]\n",
      "100%|██████████| 141/141 [00:00<00:00, 1173.19it/s]\n",
      "  0%|          | 0/165 [00:00<?, ?it/s]"
     ]
    },
    {
     "name": "stdout",
     "output_type": "stream",
     "text": [
      "Label: 3 Counts: 258 Avg. H-bonds: 3.387596899224806 Avg. RMSD: 0.8929162\n",
      "Label: 4 Counts: 141 Avg. H-bonds: 3.3333333333333335 Avg. RMSD: 0.94839543\n"
     ]
    },
    {
     "name": "stderr",
     "output_type": "stream",
     "text": [
      "100%|██████████| 165/165 [00:00<00:00, 1147.17it/s]\n",
      " 44%|████▍     | 120/272 [00:00<00:00, 1196.21it/s]"
     ]
    },
    {
     "name": "stdout",
     "output_type": "stream",
     "text": [
      "Label: 5 Counts: 165 Avg. H-bonds: 3.4060606060606062 Avg. RMSD: 0.42009535\n"
     ]
    },
    {
     "name": "stderr",
     "output_type": "stream",
     "text": [
      "100%|██████████| 272/272 [00:00<00:00, 1216.58it/s]\n",
      "100%|██████████| 162/162 [00:00<00:00, 1415.05it/s]\n",
      "  0%|          | 0/421 [00:00<?, ?it/s]"
     ]
    },
    {
     "name": "stdout",
     "output_type": "stream",
     "text": [
      "Label: 6 Counts: 272 Avg. H-bonds: 3.4080882352941178 Avg. RMSD: 0.5581642\n",
      "Label: 7 Counts: 162 Avg. H-bonds: 3.4691358024691357 Avg. RMSD: 0.8841715\n"
     ]
    },
    {
     "name": "stderr",
     "output_type": "stream",
     "text": [
      "100%|██████████| 421/421 [00:00<00:00, 1341.96it/s]\n",
      " 26%|██▋       | 122/463 [00:00<00:00, 1215.18it/s]"
     ]
    },
    {
     "name": "stdout",
     "output_type": "stream",
     "text": [
      "Label: 8 Counts: 421 Avg. H-bonds: 3.401425178147268 Avg. RMSD: 0.9367437\n"
     ]
    },
    {
     "name": "stderr",
     "output_type": "stream",
     "text": [
      "100%|██████████| 463/463 [00:00<00:00, 1477.44it/s]\n",
      "100%|██████████| 132/132 [00:00<00:00, 1214.24it/s]\n",
      "  0%|          | 0/149 [00:00<?, ?it/s]"
     ]
    },
    {
     "name": "stdout",
     "output_type": "stream",
     "text": [
      "Label: 9 Counts: 463 Avg. H-bonds: 3.529157667386609 Avg. RMSD: 0.63009584\n",
      "Label: 10 Counts: 132 Avg. H-bonds: 3.515151515151515 Avg. RMSD: 0.82424724\n"
     ]
    },
    {
     "name": "stderr",
     "output_type": "stream",
     "text": [
      "100%|██████████| 149/149 [00:00<00:00, 1116.13it/s]\n",
      "100%|██████████| 112/112 [00:00<00:00, 1182.63it/s]\n",
      "  0%|          | 0/99 [00:00<?, ?it/s]"
     ]
    },
    {
     "name": "stdout",
     "output_type": "stream",
     "text": [
      "Label: 11 Counts: 149 Avg. H-bonds: 3.174496644295302 Avg. RMSD: 0.4995662\n",
      "Label: 12 Counts: 112 Avg. H-bonds: 3.2767857142857144 Avg. RMSD: 0.26254526\n"
     ]
    },
    {
     "name": "stderr",
     "output_type": "stream",
     "text": [
      "100%|██████████| 99/99 [00:00<00:00, 1062.76it/s]\n",
      " 38%|███▊      | 115/301 [00:00<00:00, 1142.32it/s]"
     ]
    },
    {
     "name": "stdout",
     "output_type": "stream",
     "text": [
      "Label: 13 Counts: 99 Avg. H-bonds: 3.4646464646464645 Avg. RMSD: 0.32118055\n"
     ]
    },
    {
     "name": "stderr",
     "output_type": "stream",
     "text": [
      "100%|██████████| 301/301 [00:00<00:00, 1356.19it/s]\n"
     ]
    },
    {
     "name": "stdout",
     "output_type": "stream",
     "text": [
      "Label: 14 Counts: 301 Avg. H-bonds: 3.3056478405315612 Avg. RMSD: 0.8817304\n"
     ]
    },
    {
     "name": "stderr",
     "output_type": "stream",
     "text": [
      " 54%|█████▍    | 176/327 [00:00<00:00, 1751.60it/s]"
     ]
    },
    {
     "name": "stdout",
     "output_type": "stream",
     "text": [
      "Temperature: 12 Silhouette Score: 0.17243587520539527\n"
     ]
    },
    {
     "name": "stderr",
     "output_type": "stream",
     "text": [
      "100%|██████████| 327/327 [00:00<00:00, 1721.82it/s]\n",
      "100%|██████████| 64/64 [00:00<00:00, 1213.95it/s]\n",
      "  0%|          | 0/386 [00:00<?, ?it/s]"
     ]
    },
    {
     "name": "stdout",
     "output_type": "stream",
     "text": [
      "Label: 0 Counts: 327 Avg. H-bonds: 3.458715596330275 Avg. RMSD: 0.7417209\n",
      "Label: 1 Counts: 64 Avg. H-bonds: 3.34375 Avg. RMSD: 0.32667774\n"
     ]
    },
    {
     "name": "stderr",
     "output_type": "stream",
     "text": [
      "100%|██████████| 386/386 [00:00<00:00, 1422.65it/s]\n",
      "100%|██████████| 93/93 [00:00<00:00, 1224.61it/s]\n",
      "  0%|          | 0/237 [00:00<?, ?it/s]"
     ]
    },
    {
     "name": "stdout",
     "output_type": "stream",
     "text": [
      "Label: 2 Counts: 386 Avg. H-bonds: 3.326424870466321 Avg. RMSD: 0.90951216\n",
      "Label: 3 Counts: 93 Avg. H-bonds: 3.2795698924731185 Avg. RMSD: 0.36746073\n"
     ]
    },
    {
     "name": "stderr",
     "output_type": "stream",
     "text": [
      "100%|██████████| 237/237 [00:00<00:00, 1144.72it/s]\n",
      " 24%|██▍       | 108/445 [00:00<00:00, 1077.78it/s]"
     ]
    },
    {
     "name": "stdout",
     "output_type": "stream",
     "text": [
      "Label: 4 Counts: 237 Avg. H-bonds: 3.308016877637131 Avg. RMSD: 0.9603818\n"
     ]
    },
    {
     "name": "stderr",
     "output_type": "stream",
     "text": [
      "100%|██████████| 445/445 [00:00<00:00, 1357.40it/s]\n",
      " 46%|████▌     | 126/276 [00:00<00:00, 1254.37it/s]"
     ]
    },
    {
     "name": "stdout",
     "output_type": "stream",
     "text": [
      "Label: 5 Counts: 445 Avg. H-bonds: 3.5258426966292133 Avg. RMSD: 0.6513526\n"
     ]
    },
    {
     "name": "stderr",
     "output_type": "stream",
     "text": [
      "100%|██████████| 276/276 [00:00<00:00, 1334.33it/s]\n",
      "100%|██████████| 111/111 [00:00<00:00, 1241.01it/s]\n",
      "  0%|          | 0/196 [00:00<?, ?it/s]"
     ]
    },
    {
     "name": "stdout",
     "output_type": "stream",
     "text": [
      "Label: 6 Counts: 276 Avg. H-bonds: 3.318840579710145 Avg. RMSD: 0.94766116\n",
      "Label: 7 Counts: 111 Avg. H-bonds: 3.3333333333333335 Avg. RMSD: 0.26590732\n"
     ]
    },
    {
     "name": "stderr",
     "output_type": "stream",
     "text": [
      "100%|██████████| 196/196 [00:00<00:00, 1247.95it/s]\n",
      " 49%|████▉     | 121/247 [00:00<00:00, 1201.14it/s]"
     ]
    },
    {
     "name": "stdout",
     "output_type": "stream",
     "text": [
      "Label: 8 Counts: 196 Avg. H-bonds: 3.3520408163265305 Avg. RMSD: 0.6056201\n"
     ]
    },
    {
     "name": "stderr",
     "output_type": "stream",
     "text": [
      "100%|██████████| 247/247 [00:00<00:00, 1253.59it/s]\n",
      " 41%|████      | 111/273 [00:00<00:00, 1107.64it/s]"
     ]
    },
    {
     "name": "stdout",
     "output_type": "stream",
     "text": [
      "Label: 9 Counts: 247 Avg. H-bonds: 3.5182186234817814 Avg. RMSD: 0.8942987\n"
     ]
    },
    {
     "name": "stderr",
     "output_type": "stream",
     "text": [
      "100%|██████████| 273/273 [00:00<00:00, 1217.21it/s]\n",
      "100%|██████████| 75/75 [00:00<00:00, 1255.86it/s]\n",
      "  0%|          | 0/447 [00:00<?, ?it/s]"
     ]
    },
    {
     "name": "stdout",
     "output_type": "stream",
     "text": [
      "Label: 10 Counts: 273 Avg. H-bonds: 3.3736263736263736 Avg. RMSD: 0.6800433\n",
      "Label: 11 Counts: 75 Avg. H-bonds: 3.3866666666666667 Avg. RMSD: 0.8760032\n"
     ]
    },
    {
     "name": "stderr",
     "output_type": "stream",
     "text": [
      "100%|██████████| 447/447 [00:00<00:00, 1418.79it/s]\n",
      " 47%|████▋     | 128/274 [00:00<00:00, 1275.46it/s]"
     ]
    },
    {
     "name": "stdout",
     "output_type": "stream",
     "text": [
      "Label: 12 Counts: 447 Avg. H-bonds: 3.373601789709172 Avg. RMSD: 0.95298874\n"
     ]
    },
    {
     "name": "stderr",
     "output_type": "stream",
     "text": [
      "100%|██████████| 274/274 [00:00<00:00, 1322.20it/s]\n",
      "100%|██████████| 157/157 [00:00<00:00, 1140.07it/s]\n"
     ]
    },
    {
     "name": "stdout",
     "output_type": "stream",
     "text": [
      "Label: 13 Counts: 274 Avg. H-bonds: 3.3686131386861313 Avg. RMSD: 0.5631764\n",
      "Label: 14 Counts: 157 Avg. H-bonds: 3.4394904458598727 Avg. RMSD: 0.871691\n"
     ]
    },
    {
     "name": "stderr",
     "output_type": "stream",
     "text": [
      "100%|██████████| 240/240 [00:00<00:00, 1796.25it/s]\n",
      "  0%|          | 0/300 [00:00<?, ?it/s]"
     ]
    },
    {
     "name": "stdout",
     "output_type": "stream",
     "text": [
      "Temperature: 13 Silhouette Score: 0.16961661213125986\n",
      "Label: 0 Counts: 240 Avg. H-bonds: 3.3208333333333333 Avg. RMSD: 0.67250866\n"
     ]
    },
    {
     "name": "stderr",
     "output_type": "stream",
     "text": [
      "100%|██████████| 300/300 [00:00<00:00, 1328.87it/s]\n"
     ]
    },
    {
     "name": "stdout",
     "output_type": "stream",
     "text": [
      "Label: 1 Counts: 300 Avg. H-bonds: 3.32 Avg. RMSD: 0.9923136\n"
     ]
    },
    {
     "name": "stderr",
     "output_type": "stream",
     "text": [
      "100%|██████████| 323/323 [00:00<00:00, 1830.03it/s]\n",
      " 42%|████▏     | 138/328 [00:00<00:00, 1367.45it/s]"
     ]
    },
    {
     "name": "stdout",
     "output_type": "stream",
     "text": [
      "Label: 2 Counts: 323 Avg. H-bonds: 3.588235294117647 Avg. RMSD: 0.5935404\n"
     ]
    },
    {
     "name": "stderr",
     "output_type": "stream",
     "text": [
      "100%|██████████| 328/328 [00:00<00:00, 1345.99it/s]\n",
      "100%|██████████| 185/185 [00:00<00:00, 1272.10it/s]\n",
      "  0%|          | 0/168 [00:00<?, ?it/s]"
     ]
    },
    {
     "name": "stdout",
     "output_type": "stream",
     "text": [
      "Label: 3 Counts: 328 Avg. H-bonds: 3.3384146341463414 Avg. RMSD: 0.96187943\n",
      "Label: 4 Counts: 185 Avg. H-bonds: 3.4486486486486485 Avg. RMSD: 0.8596884\n"
     ]
    },
    {
     "name": "stderr",
     "output_type": "stream",
     "text": [
      "100%|██████████| 168/168 [00:00<00:00, 1253.06it/s]\n",
      " 22%|██▏       | 126/564 [00:00<00:00, 1253.60it/s]"
     ]
    },
    {
     "name": "stdout",
     "output_type": "stream",
     "text": [
      "Label: 5 Counts: 168 Avg. H-bonds: 3.517857142857143 Avg. RMSD: 0.8958517\n"
     ]
    },
    {
     "name": "stderr",
     "output_type": "stream",
     "text": [
      "100%|██████████| 564/564 [00:00<00:00, 1559.64it/s]\n",
      "100%|██████████| 102/102 [00:00<00:00, 1172.65it/s]\n",
      "  0%|          | 0/213 [00:00<?, ?it/s]"
     ]
    },
    {
     "name": "stdout",
     "output_type": "stream",
     "text": [
      "Label: 6 Counts: 564 Avg. H-bonds: 3.3439716312056738 Avg. RMSD: 0.9510469\n",
      "Label: 7 Counts: 102 Avg. H-bonds: 3.303921568627451 Avg. RMSD: 0.23886788\n"
     ]
    },
    {
     "name": "stderr",
     "output_type": "stream",
     "text": [
      "100%|██████████| 213/213 [00:00<00:00, 1198.05it/s]\n",
      "100%|██████████| 151/151 [00:00<00:00, 1182.03it/s]\n",
      "  0%|          | 0/265 [00:00<?, ?it/s]"
     ]
    },
    {
     "name": "stdout",
     "output_type": "stream",
     "text": [
      "Label: 8 Counts: 213 Avg. H-bonds: 3.4507042253521125 Avg. RMSD: 0.5881873\n",
      "Label: 9 Counts: 151 Avg. H-bonds: 3.2582781456953644 Avg. RMSD: 0.5387333\n"
     ]
    },
    {
     "name": "stderr",
     "output_type": "stream",
     "text": [
      "100%|██████████| 265/265 [00:00<00:00, 1311.34it/s]\n",
      "100%|██████████| 120/120 [00:00<00:00, 1249.43it/s]\n",
      "  0%|          | 0/326 [00:00<?, ?it/s]"
     ]
    },
    {
     "name": "stdout",
     "output_type": "stream",
     "text": [
      "Label: 10 Counts: 265 Avg. H-bonds: 3.3471698113207546 Avg. RMSD: 0.76422673\n",
      "Label: 11 Counts: 120 Avg. H-bonds: 3.466666666666667 Avg. RMSD: 0.94354475\n"
     ]
    },
    {
     "name": "stderr",
     "output_type": "stream",
     "text": [
      "100%|██████████| 326/326 [00:00<00:00, 1371.19it/s]\n",
      "100%|██████████| 95/95 [00:00<00:00, 1128.24it/s]\n",
      "  0%|          | 0/228 [00:00<?, ?it/s]"
     ]
    },
    {
     "name": "stdout",
     "output_type": "stream",
     "text": [
      "Label: 12 Counts: 326 Avg. H-bonds: 3.441717791411043 Avg. RMSD: 0.89186215\n",
      "Label: 13 Counts: 95 Avg. H-bonds: 3.357894736842105 Avg. RMSD: 0.3776384\n"
     ]
    },
    {
     "name": "stderr",
     "output_type": "stream",
     "text": [
      "100%|██████████| 228/228 [00:00<00:00, 1197.69it/s]\n"
     ]
    },
    {
     "name": "stdout",
     "output_type": "stream",
     "text": [
      "Label: 14 Counts: 228 Avg. H-bonds: 3.3991228070175437 Avg. RMSD: 0.55991423\n"
     ]
    },
    {
     "name": "stderr",
     "output_type": "stream",
     "text": [
      "100%|██████████| 146/146 [00:00<00:00, 1503.35it/s]\n",
      "  0%|          | 0/283 [00:00<?, ?it/s]"
     ]
    },
    {
     "name": "stdout",
     "output_type": "stream",
     "text": [
      "Temperature: 14 Silhouette Score: 0.16089351555264222\n",
      "Label: 0 Counts: 146 Avg. H-bonds: 3.3904109589041096 Avg. RMSD: 0.83159816\n"
     ]
    },
    {
     "name": "stderr",
     "output_type": "stream",
     "text": [
      "100%|██████████| 283/283 [00:00<00:00, 1258.09it/s]\n",
      " 40%|████      | 111/276 [00:00<00:00, 1103.23it/s]"
     ]
    },
    {
     "name": "stdout",
     "output_type": "stream",
     "text": [
      "Label: 1 Counts: 283 Avg. H-bonds: 3.3180212014134276 Avg. RMSD: 0.7445242\n"
     ]
    },
    {
     "name": "stderr",
     "output_type": "stream",
     "text": [
      "100%|██████████| 276/276 [00:00<00:00, 1102.79it/s]\n",
      " 42%|████▏     | 122/288 [00:00<00:00, 1211.25it/s]"
     ]
    },
    {
     "name": "stdout",
     "output_type": "stream",
     "text": [
      "Label: 2 Counts: 276 Avg. H-bonds: 3.5072463768115942 Avg. RMSD: 0.94955623\n"
     ]
    },
    {
     "name": "stderr",
     "output_type": "stream",
     "text": [
      "100%|██████████| 288/288 [00:00<00:00, 1290.66it/s]\n",
      "100%|██████████| 100/100 [00:00<00:00, 1083.61it/s]\n"
     ]
    },
    {
     "name": "stdout",
     "output_type": "stream",
     "text": [
      "Label: 3 Counts: 288 Avg. H-bonds: 3.3090277777777777 Avg. RMSD: 0.9826464\n",
      "Label: 4 Counts: 100 Avg. H-bonds: 3.5 Avg. RMSD: 0.90404165\n"
     ]
    },
    {
     "name": "stderr",
     "output_type": "stream",
     "text": [
      "100%|██████████| 217/217 [00:00<00:00, 1779.50it/s]\n",
      " 39%|███▉      | 114/289 [00:00<00:00, 1137.92it/s]"
     ]
    },
    {
     "name": "stdout",
     "output_type": "stream",
     "text": [
      "Label: 5 Counts: 217 Avg. H-bonds: 3.3824884792626726 Avg. RMSD: 0.8489893\n"
     ]
    },
    {
     "name": "stderr",
     "output_type": "stream",
     "text": [
      "100%|██████████| 289/289 [00:00<00:00, 1255.97it/s]\n",
      " 36%|███▌      | 110/307 [00:00<00:00, 1095.06it/s]"
     ]
    },
    {
     "name": "stdout",
     "output_type": "stream",
     "text": [
      "Label: 6 Counts: 289 Avg. H-bonds: 3.3356401384083045 Avg. RMSD: 0.7040663\n"
     ]
    },
    {
     "name": "stderr",
     "output_type": "stream",
     "text": [
      "100%|██████████| 307/307 [00:00<00:00, 1220.19it/s]\n",
      "100%|██████████| 89/89 [00:00<00:00, 1120.38it/s]\n",
      "  0%|          | 0/459 [00:00<?, ?it/s]"
     ]
    },
    {
     "name": "stdout",
     "output_type": "stream",
     "text": [
      "Label: 7 Counts: 307 Avg. H-bonds: 3.560260586319218 Avg. RMSD: 0.5989831\n",
      "Label: 8 Counts: 89 Avg. H-bonds: 3.235955056179775 Avg. RMSD: 0.3366409\n"
     ]
    },
    {
     "name": "stderr",
     "output_type": "stream",
     "text": [
      "100%|██████████| 459/459 [00:00<00:00, 1388.29it/s]\n",
      "100%|██████████| 132/132 [00:00<00:00, 1217.00it/s]\n",
      "  0%|          | 0/252 [00:00<?, ?it/s]"
     ]
    },
    {
     "name": "stdout",
     "output_type": "stream",
     "text": [
      "Label: 9 Counts: 459 Avg. H-bonds: 3.3812636165577343 Avg. RMSD: 0.94974744\n",
      "Label: 10 Counts: 132 Avg. H-bonds: 3.4015151515151514 Avg. RMSD: 0.27272016\n"
     ]
    },
    {
     "name": "stderr",
     "output_type": "stream",
     "text": [
      "100%|██████████| 252/252 [00:00<00:00, 1217.67it/s]\n",
      " 37%|███▋      | 126/338 [00:00<00:00, 1253.79it/s]"
     ]
    },
    {
     "name": "stdout",
     "output_type": "stream",
     "text": [
      "Label: 11 Counts: 252 Avg. H-bonds: 3.3492063492063493 Avg. RMSD: 0.8472289\n"
     ]
    },
    {
     "name": "stderr",
     "output_type": "stream",
     "text": [
      "100%|██████████| 338/338 [00:00<00:00, 1389.67it/s]\n",
      " 49%|████▉     | 109/222 [00:00<00:00, 1083.72it/s]"
     ]
    },
    {
     "name": "stdout",
     "output_type": "stream",
     "text": [
      "Label: 12 Counts: 338 Avg. H-bonds: 3.3402366863905324 Avg. RMSD: 0.6362599\n"
     ]
    },
    {
     "name": "stderr",
     "output_type": "stream",
     "text": [
      "100%|██████████| 222/222 [00:00<00:00, 1154.30it/s]\n",
      " 58%|█████▊    | 121/210 [00:00<00:00, 1209.88it/s]"
     ]
    },
    {
     "name": "stdout",
     "output_type": "stream",
     "text": [
      "Label: 13 Counts: 222 Avg. H-bonds: 3.4414414414414414 Avg. RMSD: 0.780598\n"
     ]
    },
    {
     "name": "stderr",
     "output_type": "stream",
     "text": [
      "100%|██████████| 210/210 [00:00<00:00, 1205.96it/s]\n"
     ]
    },
    {
     "name": "stdout",
     "output_type": "stream",
     "text": [
      "Label: 14 Counts: 210 Avg. H-bonds: 3.442857142857143 Avg. RMSD: 0.759578\n"
     ]
    },
    {
     "name": "stderr",
     "output_type": "stream",
     "text": [
      "100%|██████████| 287/287 [00:00<00:00, 1869.04it/s]"
     ]
    },
    {
     "name": "stdout",
     "output_type": "stream",
     "text": [
      "Temperature: 15 Silhouette Score: 0.14800333295546972\n",
      "Label: 0 Counts: 287 Avg. H-bonds: 3.3205574912891986 Avg. RMSD: 0.858987\n"
     ]
    },
    {
     "name": "stderr",
     "output_type": "stream",
     "text": [
      "\n",
      "100%|██████████| 257/257 [00:00<00:00, 1198.52it/s]\n",
      "100%|██████████| 82/82 [00:00<00:00, 1167.64it/s]\n",
      "  0%|          | 0/352 [00:00<?, ?it/s]"
     ]
    },
    {
     "name": "stdout",
     "output_type": "stream",
     "text": [
      "Label: 1 Counts: 257 Avg. H-bonds: 3.357976653696498 Avg. RMSD: 0.95493776\n",
      "Label: 2 Counts: 82 Avg. H-bonds: 3.451219512195122 Avg. RMSD: 0.8783301\n"
     ]
    },
    {
     "name": "stderr",
     "output_type": "stream",
     "text": [
      "100%|██████████| 352/352 [00:00<00:00, 1364.03it/s]\n",
      " 49%|████▉     | 118/242 [00:00<00:00, 1176.28it/s]"
     ]
    },
    {
     "name": "stdout",
     "output_type": "stream",
     "text": [
      "Label: 3 Counts: 352 Avg. H-bonds: 3.5142045454545454 Avg. RMSD: 0.6001345\n"
     ]
    },
    {
     "name": "stderr",
     "output_type": "stream",
     "text": [
      "100%|██████████| 242/242 [00:00<00:00, 1232.99it/s]\n",
      " 45%|████▌     | 120/264 [00:00<00:00, 1195.87it/s]"
     ]
    },
    {
     "name": "stdout",
     "output_type": "stream",
     "text": [
      "Label: 4 Counts: 242 Avg. H-bonds: 3.3925619834710745 Avg. RMSD: 0.87870246\n"
     ]
    },
    {
     "name": "stderr",
     "output_type": "stream",
     "text": [
      "100%|██████████| 264/264 [00:00<00:00, 1205.78it/s]\n",
      " 53%|█████▎    | 121/228 [00:00<00:00, 1207.46it/s]"
     ]
    },
    {
     "name": "stdout",
     "output_type": "stream",
     "text": [
      "Label: 5 Counts: 264 Avg. H-bonds: 3.3863636363636362 Avg. RMSD: 0.7564957\n"
     ]
    },
    {
     "name": "stderr",
     "output_type": "stream",
     "text": [
      "100%|██████████| 228/228 [00:00<00:00, 1222.71it/s]\n",
      "100%|██████████| 164/164 [00:00<00:00, 1171.15it/s]\n"
     ]
    },
    {
     "name": "stdout",
     "output_type": "stream",
     "text": [
      "Label: 6 Counts: 228 Avg. H-bonds: 3.3991228070175437 Avg. RMSD: 0.90755635\n",
      "Label: 7 Counts: 164 Avg. H-bonds: 3.402439024390244 Avg. RMSD: 0.74076533\n"
     ]
    },
    {
     "name": "stderr",
     "output_type": "stream",
     "text": [
      "100%|██████████| 158/158 [00:00<00:00, 1842.41it/s]\n",
      " 46%|████▌     | 126/273 [00:00<00:00, 1257.62it/s]"
     ]
    },
    {
     "name": "stdout",
     "output_type": "stream",
     "text": [
      "Label: 8 Counts: 158 Avg. H-bonds: 3.3860759493670884 Avg. RMSD: 0.7828335\n"
     ]
    },
    {
     "name": "stderr",
     "output_type": "stream",
     "text": [
      "100%|██████████| 273/273 [00:00<00:00, 1270.77it/s]\n",
      " 45%|████▌     | 117/259 [00:00<00:00, 1168.49it/s]"
     ]
    },
    {
     "name": "stdout",
     "output_type": "stream",
     "text": [
      "Label: 9 Counts: 273 Avg. H-bonds: 3.311355311355311 Avg. RMSD: 0.63543546\n"
     ]
    },
    {
     "name": "stderr",
     "output_type": "stream",
     "text": [
      "100%|██████████| 259/259 [00:00<00:00, 1242.29it/s]\n",
      "100%|██████████| 135/135 [00:00<00:00, 1137.51it/s]\n",
      "  0%|          | 0/192 [00:00<?, ?it/s]"
     ]
    },
    {
     "name": "stdout",
     "output_type": "stream",
     "text": [
      "Label: 10 Counts: 259 Avg. H-bonds: 3.3552123552123554 Avg. RMSD: 0.9364035\n",
      "Label: 11 Counts: 135 Avg. H-bonds: 3.3407407407407406 Avg. RMSD: 0.34221774\n"
     ]
    },
    {
     "name": "stderr",
     "output_type": "stream",
     "text": [
      "100%|██████████| 192/192 [00:00<00:00, 1173.13it/s]\n",
      " 42%|████▏     | 118/283 [00:00<00:00, 1178.18it/s]"
     ]
    },
    {
     "name": "stdout",
     "output_type": "stream",
     "text": [
      "Label: 12 Counts: 192 Avg. H-bonds: 3.4427083333333335 Avg. RMSD: 0.6608884\n"
     ]
    },
    {
     "name": "stderr",
     "output_type": "stream",
     "text": [
      "100%|██████████| 283/283 [00:00<00:00, 1289.02it/s]\n",
      " 28%|██▊       | 120/432 [00:00<00:00, 1193.70it/s]"
     ]
    },
    {
     "name": "stdout",
     "output_type": "stream",
     "text": [
      "Label: 13 Counts: 283 Avg. H-bonds: 3.3674911660777385 Avg. RMSD: 0.93455046\n"
     ]
    },
    {
     "name": "stderr",
     "output_type": "stream",
     "text": [
      "100%|██████████| 432/432 [00:00<00:00, 1461.50it/s]\n"
     ]
    },
    {
     "name": "stdout",
     "output_type": "stream",
     "text": [
      "Label: 14 Counts: 432 Avg. H-bonds: 3.4444444444444446 Avg. RMSD: 0.89848936\n"
     ]
    },
    {
     "name": "stderr",
     "output_type": "stream",
     "text": [
      " 38%|███▊      | 126/332 [00:00<00:00, 1257.24it/s]"
     ]
    },
    {
     "name": "stdout",
     "output_type": "stream",
     "text": [
      "Temperature: 16 Silhouette Score: 0.15517252056931216\n"
     ]
    },
    {
     "name": "stderr",
     "output_type": "stream",
     "text": [
      "100%|██████████| 332/332 [00:00<00:00, 1489.53it/s]\n",
      " 36%|███▋      | 116/318 [00:00<00:00, 1159.53it/s]"
     ]
    },
    {
     "name": "stdout",
     "output_type": "stream",
     "text": [
      "Label: 0 Counts: 332 Avg. H-bonds: 3.319277108433735 Avg. RMSD: 0.6790585\n"
     ]
    },
    {
     "name": "stderr",
     "output_type": "stream",
     "text": [
      "100%|██████████| 318/318 [00:00<00:00, 1285.40it/s]\n",
      " 35%|███▌      | 124/353 [00:00<00:00, 1237.58it/s]"
     ]
    },
    {
     "name": "stdout",
     "output_type": "stream",
     "text": [
      "Label: 1 Counts: 318 Avg. H-bonds: 3.2955974842767297 Avg. RMSD: 0.943159\n"
     ]
    },
    {
     "name": "stderr",
     "output_type": "stream",
     "text": [
      "100%|██████████| 353/353 [00:00<00:00, 1365.31it/s]\n",
      "100%|██████████| 175/175 [00:00<00:00, 1178.25it/s]\n"
     ]
    },
    {
     "name": "stdout",
     "output_type": "stream",
     "text": [
      "Label: 2 Counts: 353 Avg. H-bonds: 3.3371104815864023 Avg. RMSD: 0.7436672\n",
      "Label: 3 Counts: 175 Avg. H-bonds: 3.525714285714286 Avg. RMSD: 0.78779453\n"
     ]
    },
    {
     "name": "stderr",
     "output_type": "stream",
     "text": [
      "100%|██████████| 311/311 [00:00<00:00, 1322.75it/s]\n",
      "100%|██████████| 121/121 [00:00<00:00, 1212.63it/s]\n",
      "  0%|          | 0/422 [00:00<?, ?it/s]"
     ]
    },
    {
     "name": "stdout",
     "output_type": "stream",
     "text": [
      "Label: 4 Counts: 311 Avg. H-bonds: 3.5562700964630225 Avg. RMSD: 0.630094\n",
      "Label: 5 Counts: 121 Avg. H-bonds: 3.396694214876033 Avg. RMSD: 0.9197499\n"
     ]
    },
    {
     "name": "stderr",
     "output_type": "stream",
     "text": [
      "100%|██████████| 422/422 [00:00<00:00, 1442.03it/s]\n",
      "100%|██████████| 166/166 [00:00<00:00, 1252.76it/s]\n",
      "  0%|          | 0/316 [00:00<?, ?it/s]"
     ]
    },
    {
     "name": "stdout",
     "output_type": "stream",
     "text": [
      "Label: 6 Counts: 422 Avg. H-bonds: 3.4075829383886256 Avg. RMSD: 0.89617956\n",
      "Label: 7 Counts: 166 Avg. H-bonds: 3.3674698795180724 Avg. RMSD: 0.8743221\n"
     ]
    },
    {
     "name": "stderr",
     "output_type": "stream",
     "text": [
      "100%|██████████| 316/316 [00:00<00:00, 1315.92it/s]\n",
      " 44%|████▍     | 122/276 [00:00<00:00, 1219.23it/s]"
     ]
    },
    {
     "name": "stdout",
     "output_type": "stream",
     "text": [
      "Label: 8 Counts: 316 Avg. H-bonds: 3.2943037974683542 Avg. RMSD: 0.97488385\n"
     ]
    },
    {
     "name": "stderr",
     "output_type": "stream",
     "text": [
      "100%|██████████| 276/276 [00:00<00:00, 1285.33it/s]\n",
      " 48%|████▊     | 112/232 [00:00<00:00, 1114.61it/s]"
     ]
    },
    {
     "name": "stdout",
     "output_type": "stream",
     "text": [
      "Label: 9 Counts: 276 Avg. H-bonds: 3.4528985507246377 Avg. RMSD: 0.8690742\n"
     ]
    },
    {
     "name": "stderr",
     "output_type": "stream",
     "text": [
      "100%|██████████| 232/232 [00:00<00:00, 1173.17it/s]\n"
     ]
    },
    {
     "name": "stdout",
     "output_type": "stream",
     "text": [
      "Label: 10 Counts: 232 Avg. H-bonds: 3.3491379310344827 Avg. RMSD: 0.852267\n"
     ]
    },
    {
     "name": "stderr",
     "output_type": "stream",
     "text": [
      "100%|██████████| 97/97 [00:00<00:00, 1777.98it/s]\n",
      " 39%|███▉      | 117/299 [00:00<00:00, 1168.07it/s]"
     ]
    },
    {
     "name": "stdout",
     "output_type": "stream",
     "text": [
      "Label: 11 Counts: 97 Avg. H-bonds: 3.4329896907216493 Avg. RMSD: 0.4614546\n"
     ]
    },
    {
     "name": "stderr",
     "output_type": "stream",
     "text": [
      "100%|██████████| 299/299 [00:00<00:00, 1287.19it/s]\n",
      "100%|██████████| 76/76 [00:00<00:00, 1068.91it/s]\n",
      "  0%|          | 0/114 [00:00<?, ?it/s]"
     ]
    },
    {
     "name": "stdout",
     "output_type": "stream",
     "text": [
      "Label: 12 Counts: 299 Avg. H-bonds: 3.3645484949832776 Avg. RMSD: 0.9173916\n",
      "Label: 13 Counts: 76 Avg. H-bonds: 3.513157894736842 Avg. RMSD: 0.39268288\n"
     ]
    },
    {
     "name": "stderr",
     "output_type": "stream",
     "text": [
      "100%|██████████| 114/114 [00:00<00:00, 967.38it/s]\n"
     ]
    },
    {
     "name": "stdout",
     "output_type": "stream",
     "text": [
      "Label: 14 Counts: 114 Avg. H-bonds: 3.587719298245614 Avg. RMSD: 0.29440007\n"
     ]
    },
    {
     "name": "stderr",
     "output_type": "stream",
     "text": [
      " 54%|█████▍    | 181/334 [00:00<00:00, 1808.31it/s]"
     ]
    },
    {
     "name": "stdout",
     "output_type": "stream",
     "text": [
      "Temperature: 17 Silhouette Score: 0.13875524663743802\n"
     ]
    },
    {
     "name": "stderr",
     "output_type": "stream",
     "text": [
      "100%|██████████| 334/334 [00:00<00:00, 1595.03it/s]\n",
      " 39%|███▉      | 120/304 [00:00<00:00, 1197.85it/s]"
     ]
    },
    {
     "name": "stdout",
     "output_type": "stream",
     "text": [
      "Label: 0 Counts: 334 Avg. H-bonds: 3.2994011976047903 Avg. RMSD: 0.95813113\n"
     ]
    },
    {
     "name": "stderr",
     "output_type": "stream",
     "text": [
      "100%|██████████| 304/304 [00:00<00:00, 1332.82it/s]\n",
      "100%|██████████| 128/128 [00:00<00:00, 997.65it/s] \n"
     ]
    },
    {
     "name": "stdout",
     "output_type": "stream",
     "text": [
      "Label: 1 Counts: 304 Avg. H-bonds: 3.450657894736842 Avg. RMSD: 0.8910988\n",
      "Label: 2 Counts: 128 Avg. H-bonds: 3.4765625 Avg. RMSD: 0.89378047\n"
     ]
    },
    {
     "name": "stderr",
     "output_type": "stream",
     "text": [
      "100%|██████████| 204/204 [00:00<00:00, 1185.88it/s]\n",
      "100%|██████████| 209/209 [00:00<00:00, 1252.40it/s]"
     ]
    },
    {
     "name": "stdout",
     "output_type": "stream",
     "text": [
      "Label: 3 Counts: 204 Avg. H-bonds: 3.357843137254902 Avg. RMSD: 0.7775944\n"
     ]
    },
    {
     "name": "stderr",
     "output_type": "stream",
     "text": [
      "\n",
      "100%|██████████| 198/198 [00:00<00:00, 1267.47it/s]\n"
     ]
    },
    {
     "name": "stdout",
     "output_type": "stream",
     "text": [
      "Label: 4 Counts: 209 Avg. H-bonds: 3.277511961722488 Avg. RMSD: 0.7016765\n",
      "Label: 5 Counts: 198 Avg. H-bonds: 3.313131313131313 Avg. RMSD: 0.9295875\n"
     ]
    },
    {
     "name": "stderr",
     "output_type": "stream",
     "text": [
      "100%|██████████| 225/225 [00:00<00:00, 1227.41it/s]\n",
      " 46%|████▌     | 117/255 [00:00<00:00, 1168.95it/s]"
     ]
    },
    {
     "name": "stdout",
     "output_type": "stream",
     "text": [
      "Label: 6 Counts: 225 Avg. H-bonds: 3.4755555555555557 Avg. RMSD: 0.6841528\n"
     ]
    },
    {
     "name": "stderr",
     "output_type": "stream",
     "text": [
      "100%|██████████| 255/255 [00:00<00:00, 1268.52it/s]\n",
      " 44%|████▍     | 125/284 [00:00<00:00, 1245.15it/s]"
     ]
    },
    {
     "name": "stdout",
     "output_type": "stream",
     "text": [
      "Label: 7 Counts: 255 Avg. H-bonds: 3.4823529411764707 Avg. RMSD: 0.5757474\n"
     ]
    },
    {
     "name": "stderr",
     "output_type": "stream",
     "text": [
      "100%|██████████| 284/284 [00:00<00:00, 1330.88it/s]\n",
      "100%|██████████| 101/101 [00:00<00:00, 1234.14it/s]\n",
      "  0%|          | 0/254 [00:00<?, ?it/s]"
     ]
    },
    {
     "name": "stdout",
     "output_type": "stream",
     "text": [
      "Label: 8 Counts: 284 Avg. H-bonds: 3.426056338028169 Avg. RMSD: 0.92317456\n",
      "Label: 9 Counts: 101 Avg. H-bonds: 3.3465346534653464 Avg. RMSD: 0.42241892\n"
     ]
    },
    {
     "name": "stderr",
     "output_type": "stream",
     "text": [
      "100%|██████████| 254/254 [00:00<00:00, 1226.32it/s]\n",
      " 31%|███       | 127/413 [00:00<00:00, 1266.49it/s]"
     ]
    },
    {
     "name": "stdout",
     "output_type": "stream",
     "text": [
      "Label: 10 Counts: 254 Avg. H-bonds: 3.3464566929133857 Avg. RMSD: 0.6948182\n"
     ]
    },
    {
     "name": "stderr",
     "output_type": "stream",
     "text": [
      "100%|██████████| 413/413 [00:00<00:00, 1455.76it/s]\n",
      " 35%|███▌      | 128/362 [00:00<00:00, 1278.55it/s]"
     ]
    },
    {
     "name": "stdout",
     "output_type": "stream",
     "text": [
      "Label: 11 Counts: 413 Avg. H-bonds: 3.4092009685230025 Avg. RMSD: 0.9443418\n"
     ]
    },
    {
     "name": "stderr",
     "output_type": "stream",
     "text": [
      "100%|██████████| 362/362 [00:00<00:00, 1318.17it/s]\n",
      " 52%|█████▏    | 127/245 [00:00<00:00, 1265.47it/s]"
     ]
    },
    {
     "name": "stdout",
     "output_type": "stream",
     "text": [
      "Label: 12 Counts: 362 Avg. H-bonds: 3.3370165745856353 Avg. RMSD: 0.86429775\n"
     ]
    },
    {
     "name": "stderr",
     "output_type": "stream",
     "text": [
      "100%|██████████| 245/245 [00:00<00:00, 1278.18it/s]\n"
     ]
    },
    {
     "name": "stdout",
     "output_type": "stream",
     "text": [
      "Label: 13 Counts: 245 Avg. H-bonds: 3.4693877551020407 Avg. RMSD: 0.82370263\n"
     ]
    },
    {
     "name": "stderr",
     "output_type": "stream",
     "text": [
      "100%|██████████| 92/92 [00:00<00:00, 1870.71it/s]\n"
     ]
    },
    {
     "name": "stdout",
     "output_type": "stream",
     "text": [
      "Label: 14 Counts: 92 Avg. H-bonds: 3.5434782608695654 Avg. RMSD: 0.314398\n"
     ]
    },
    {
     "name": "stderr",
     "output_type": "stream",
     "text": [
      "100%|██████████| 179/179 [00:00<00:00, 1810.38it/s]\n",
      "  0%|          | 0/264 [00:00<?, ?it/s]"
     ]
    },
    {
     "name": "stdout",
     "output_type": "stream",
     "text": [
      "Temperature: 18 Silhouette Score: 0.1453843342895461\n",
      "Label: 0 Counts: 179 Avg. H-bonds: 3.4189944134078214 Avg. RMSD: 0.7975837\n"
     ]
    },
    {
     "name": "stderr",
     "output_type": "stream",
     "text": [
      "100%|██████████| 264/264 [00:00<00:00, 1186.82it/s]\n"
     ]
    },
    {
     "name": "stdout",
     "output_type": "stream",
     "text": [
      "Label: 1 Counts: 264 Avg. H-bonds: 3.4053030303030303 Avg. RMSD: 0.85828483\n"
     ]
    },
    {
     "name": "stderr",
     "output_type": "stream",
     "text": [
      "100%|██████████| 103/103 [00:00<00:00, 1785.02it/s]\n",
      "100%|██████████| 119/119 [00:00<00:00, 1223.28it/s]\n",
      "  0%|          | 0/271 [00:00<?, ?it/s]"
     ]
    },
    {
     "name": "stdout",
     "output_type": "stream",
     "text": [
      "Label: 2 Counts: 103 Avg. H-bonds: 3.436893203883495 Avg. RMSD: 0.8848179\n",
      "Label: 3 Counts: 119 Avg. H-bonds: 3.495798319327731 Avg. RMSD: 0.6939144\n"
     ]
    },
    {
     "name": "stderr",
     "output_type": "stream",
     "text": [
      "100%|██████████| 271/271 [00:00<00:00, 1283.58it/s]\n",
      " 26%|██▌       | 125/484 [00:00<00:00, 1240.56it/s]"
     ]
    },
    {
     "name": "stdout",
     "output_type": "stream",
     "text": [
      "Label: 4 Counts: 271 Avg. H-bonds: 3.3985239852398523 Avg. RMSD: 0.53579676\n"
     ]
    },
    {
     "name": "stderr",
     "output_type": "stream",
     "text": [
      "100%|██████████| 484/484 [00:00<00:00, 1471.38it/s]\n",
      "100%|██████████| 76/76 [00:00<00:00, 1109.55it/s]\n",
      "  0%|          | 0/90 [00:00<?, ?it/s]"
     ]
    },
    {
     "name": "stdout",
     "output_type": "stream",
     "text": [
      "Label: 5 Counts: 484 Avg. H-bonds: 3.37603305785124 Avg. RMSD: 0.8951613\n",
      "Label: 6 Counts: 76 Avg. H-bonds: 3.4473684210526314 Avg. RMSD: 0.372239\n"
     ]
    },
    {
     "name": "stderr",
     "output_type": "stream",
     "text": [
      "100%|██████████| 90/90 [00:00<00:00, 904.80it/s]\n",
      " 35%|███▌      | 103/294 [00:00<00:00, 1026.52it/s]"
     ]
    },
    {
     "name": "stdout",
     "output_type": "stream",
     "text": [
      "Label: 7 Counts: 90 Avg. H-bonds: 3.3666666666666667 Avg. RMSD: 0.31422284\n"
     ]
    },
    {
     "name": "stderr",
     "output_type": "stream",
     "text": [
      "100%|██████████| 294/294 [00:00<00:00, 1228.68it/s]\n",
      " 38%|███▊      | 116/309 [00:00<00:00, 1152.73it/s]"
     ]
    },
    {
     "name": "stdout",
     "output_type": "stream",
     "text": [
      "Label: 8 Counts: 294 Avg. H-bonds: 3.3741496598639458 Avg. RMSD: 0.8367003\n"
     ]
    },
    {
     "name": "stderr",
     "output_type": "stream",
     "text": [
      "100%|██████████| 309/309 [00:00<00:00, 1295.97it/s]\n",
      " 28%|██▊       | 116/415 [00:00<00:00, 1158.49it/s]"
     ]
    },
    {
     "name": "stdout",
     "output_type": "stream",
     "text": [
      "Label: 9 Counts: 309 Avg. H-bonds: 3.349514563106796 Avg. RMSD: 0.9534389\n"
     ]
    },
    {
     "name": "stderr",
     "output_type": "stream",
     "text": [
      "100%|██████████| 415/415 [00:00<00:00, 1400.24it/s]\n",
      " 53%|█████▎    | 127/240 [00:00<00:00, 1262.43it/s]"
     ]
    },
    {
     "name": "stdout",
     "output_type": "stream",
     "text": [
      "Label: 10 Counts: 415 Avg. H-bonds: 3.31566265060241 Avg. RMSD: 0.81072515\n"
     ]
    },
    {
     "name": "stderr",
     "output_type": "stream",
     "text": [
      "100%|██████████| 240/240 [00:00<00:00, 1271.22it/s]\n",
      " 40%|███▉      | 117/294 [00:00<00:00, 1163.79it/s]"
     ]
    },
    {
     "name": "stdout",
     "output_type": "stream",
     "text": [
      "Label: 11 Counts: 240 Avg. H-bonds: 3.4583333333333335 Avg. RMSD: 0.9320013\n"
     ]
    },
    {
     "name": "stderr",
     "output_type": "stream",
     "text": [
      "100%|██████████| 294/294 [00:00<00:00, 1304.53it/s]\n",
      " 50%|█████     | 112/222 [00:00<00:00, 1115.74it/s]"
     ]
    },
    {
     "name": "stdout",
     "output_type": "stream",
     "text": [
      "Label: 12 Counts: 294 Avg. H-bonds: 3.326530612244898 Avg. RMSD: 0.92089564\n"
     ]
    },
    {
     "name": "stderr",
     "output_type": "stream",
     "text": [
      "100%|██████████| 222/222 [00:00<00:00, 1157.22it/s]\n",
      " 46%|████▋     | 115/248 [00:00<00:00, 1144.60it/s]"
     ]
    },
    {
     "name": "stdout",
     "output_type": "stream",
     "text": [
      "Label: 13 Counts: 222 Avg. H-bonds: 3.454954954954955 Avg. RMSD: 0.8385035\n"
     ]
    },
    {
     "name": "stderr",
     "output_type": "stream",
     "text": [
      "100%|██████████| 248/248 [00:00<00:00, 1199.79it/s]\n"
     ]
    },
    {
     "name": "stdout",
     "output_type": "stream",
     "text": [
      "Label: 14 Counts: 248 Avg. H-bonds: 3.4919354838709675 Avg. RMSD: 0.8625729\n"
     ]
    },
    {
     "name": "stderr",
     "output_type": "stream",
     "text": [
      "100%|██████████| 269/269 [00:00<00:00, 1761.69it/s]"
     ]
    },
    {
     "name": "stdout",
     "output_type": "stream",
     "text": [
      "Temperature: 19 Silhouette Score: 0.1377955113612685\n",
      "Label: 0 Counts: 269 Avg. H-bonds: 3.3717472118959106 Avg. RMSD: 0.8515915\n"
     ]
    },
    {
     "name": "stderr",
     "output_type": "stream",
     "text": [
      "\n",
      "100%|██████████| 467/467 [00:00<00:00, 1453.82it/s]\n",
      "100%|██████████| 97/97 [00:00<00:00, 1196.11it/s]\n",
      "  0%|          | 0/297 [00:00<?, ?it/s]"
     ]
    },
    {
     "name": "stdout",
     "output_type": "stream",
     "text": [
      "Label: 1 Counts: 467 Avg. H-bonds: 3.30406852248394 Avg. RMSD: 0.86661845\n",
      "Label: 2 Counts: 97 Avg. H-bonds: 3.443298969072165 Avg. RMSD: 0.2912711\n"
     ]
    },
    {
     "name": "stderr",
     "output_type": "stream",
     "text": [
      "100%|██████████| 297/297 [00:00<00:00, 1252.39it/s]\n",
      "100%|██████████| 194/194 [00:00<00:00, 1436.65it/s]\n"
     ]
    },
    {
     "name": "stdout",
     "output_type": "stream",
     "text": [
      "Label: 3 Counts: 297 Avg. H-bonds: 3.393939393939394 Avg. RMSD: 0.9168658\n",
      "Label: 4 Counts: 194 Avg. H-bonds: 3.4123711340206184 Avg. RMSD: 0.70834035\n"
     ]
    },
    {
     "name": "stderr",
     "output_type": "stream",
     "text": [
      "100%|██████████| 290/290 [00:00<00:00, 1800.42it/s]\n",
      "100%|██████████| 45/45 [00:00<00:00, 1191.74it/s]\n",
      " 66%|██████▌   | 131/199 [00:00<00:00, 1307.61it/s]"
     ]
    },
    {
     "name": "stdout",
     "output_type": "stream",
     "text": [
      "Label: 5 Counts: 290 Avg. H-bonds: 3.489655172413793 Avg. RMSD: 0.9353074\n",
      "Label: 6 Counts: 45 Avg. H-bonds: 3.4444444444444446 Avg. RMSD: 0.81939936\n"
     ]
    },
    {
     "name": "stderr",
     "output_type": "stream",
     "text": [
      "100%|██████████| 199/199 [00:00<00:00, 1244.45it/s]\n",
      "100%|██████████| 169/169 [00:00<00:00, 1077.94it/s]\n"
     ]
    },
    {
     "name": "stdout",
     "output_type": "stream",
     "text": [
      "Label: 7 Counts: 199 Avg. H-bonds: 3.5025125628140703 Avg. RMSD: 0.76570535\n",
      "Label: 8 Counts: 169 Avg. H-bonds: 3.408284023668639 Avg. RMSD: 0.75936526\n"
     ]
    },
    {
     "name": "stderr",
     "output_type": "stream",
     "text": [
      "100%|██████████| 263/263 [00:00<00:00, 1270.91it/s]\n",
      " 30%|██▉       | 114/385 [00:00<00:00, 1132.96it/s]"
     ]
    },
    {
     "name": "stdout",
     "output_type": "stream",
     "text": [
      "Label: 9 Counts: 263 Avg. H-bonds: 3.2927756653992395 Avg. RMSD: 0.7392542\n"
     ]
    },
    {
     "name": "stderr",
     "output_type": "stream",
     "text": [
      "100%|██████████| 385/385 [00:00<00:00, 1368.15it/s]\n",
      "100%|██████████| 182/182 [00:00<00:00, 1225.36it/s]\n"
     ]
    },
    {
     "name": "stdout",
     "output_type": "stream",
     "text": [
      "Label: 10 Counts: 385 Avg. H-bonds: 3.381818181818182 Avg. RMSD: 0.96056795\n",
      "Label: 11 Counts: 182 Avg. H-bonds: 3.412087912087912 Avg. RMSD: 0.92111975\n"
     ]
    },
    {
     "name": "stderr",
     "output_type": "stream",
     "text": [
      "100%|██████████| 234/234 [00:00<00:00, 1250.13it/s]\n",
      " 52%|█████▏    | 118/227 [00:00<00:00, 1176.64it/s]"
     ]
    },
    {
     "name": "stdout",
     "output_type": "stream",
     "text": [
      "Label: 12 Counts: 234 Avg. H-bonds: 3.5982905982905984 Avg. RMSD: 0.5733156\n"
     ]
    },
    {
     "name": "stderr",
     "output_type": "stream",
     "text": [
      "100%|██████████| 227/227 [00:00<00:00, 1190.60it/s]\n",
      " 42%|████▏     | 121/290 [00:00<00:00, 1208.98it/s]"
     ]
    },
    {
     "name": "stdout",
     "output_type": "stream",
     "text": [
      "Label: 13 Counts: 227 Avg. H-bonds: 3.3083700440528636 Avg. RMSD: 0.8002584\n"
     ]
    },
    {
     "name": "stderr",
     "output_type": "stream",
     "text": [
      "100%|██████████| 290/290 [00:00<00:00, 1270.09it/s]\n"
     ]
    },
    {
     "name": "stdout",
     "output_type": "stream",
     "text": [
      "Label: 14 Counts: 290 Avg. H-bonds: 3.3413793103448275 Avg. RMSD: 0.9380693\n"
     ]
    },
    {
     "name": "stderr",
     "output_type": "stream",
     "text": [
      "100%|██████████| 266/266 [00:00<00:00, 1672.56it/s]"
     ]
    },
    {
     "name": "stdout",
     "output_type": "stream",
     "text": [
      "Temperature: 20 Silhouette Score: 0.1301987997754228\n"
     ]
    },
    {
     "name": "stderr",
     "output_type": "stream",
     "text": [
      "\n",
      " 52%|█████▏    | 124/239 [00:00<00:00, 1236.41it/s]"
     ]
    },
    {
     "name": "stdout",
     "output_type": "stream",
     "text": [
      "Label: 0 Counts: 266 Avg. H-bonds: 3.5413533834586466 Avg. RMSD: 0.62149894\n"
     ]
    },
    {
     "name": "stderr",
     "output_type": "stream",
     "text": [
      "100%|██████████| 239/239 [00:00<00:00, 1273.77it/s]\n",
      " 54%|█████▍    | 104/192 [00:00<00:00, 1038.77it/s]"
     ]
    },
    {
     "name": "stdout",
     "output_type": "stream",
     "text": [
      "Label: 1 Counts: 239 Avg. H-bonds: 3.2510460251046025 Avg. RMSD: 0.9379598\n"
     ]
    },
    {
     "name": "stderr",
     "output_type": "stream",
     "text": [
      "100%|██████████| 192/192 [00:00<00:00, 1105.68it/s]\n",
      " 52%|█████▏    | 117/226 [00:00<00:00, 1168.33it/s]"
     ]
    },
    {
     "name": "stdout",
     "output_type": "stream",
     "text": [
      "Label: 2 Counts: 192 Avg. H-bonds: 3.3802083333333335 Avg. RMSD: 0.93326116\n"
     ]
    },
    {
     "name": "stderr",
     "output_type": "stream",
     "text": [
      "100%|██████████| 226/226 [00:00<00:00, 1208.74it/s]\n",
      " 40%|███▉      | 109/273 [00:00<00:00, 1083.60it/s]"
     ]
    },
    {
     "name": "stdout",
     "output_type": "stream",
     "text": [
      "Label: 3 Counts: 226 Avg. H-bonds: 3.3805309734513274 Avg. RMSD: 0.88780916\n"
     ]
    },
    {
     "name": "stderr",
     "output_type": "stream",
     "text": [
      "100%|██████████| 273/273 [00:00<00:00, 1181.58it/s]\n",
      "100%|██████████| 127/127 [00:00<00:00, 969.10it/s]\n"
     ]
    },
    {
     "name": "stdout",
     "output_type": "stream",
     "text": [
      "Label: 4 Counts: 273 Avg. H-bonds: 3.4835164835164836 Avg. RMSD: 0.83150125\n",
      "Label: 5 Counts: 127 Avg. H-bonds: 3.4015748031496065 Avg. RMSD: 0.9339574\n"
     ]
    },
    {
     "name": "stderr",
     "output_type": "stream",
     "text": [
      "100%|██████████| 318/318 [00:00<00:00, 1239.43it/s]\n"
     ]
    },
    {
     "name": "stdout",
     "output_type": "stream",
     "text": [
      "Label: 6 Counts: 318 Avg. H-bonds: 3.342767295597484 Avg. RMSD: 0.8886359\n"
     ]
    },
    {
     "name": "stderr",
     "output_type": "stream",
     "text": [
      "100%|██████████| 203/203 [00:00<00:00, 1848.30it/s]\n",
      "100%|██████████| 170/170 [00:00<00:00, 1157.63it/s]\n"
     ]
    },
    {
     "name": "stdout",
     "output_type": "stream",
     "text": [
      "Label: 7 Counts: 203 Avg. H-bonds: 3.4039408866995076 Avg. RMSD: 0.8686538\n",
      "Label: 8 Counts: 170 Avg. H-bonds: 3.4411764705882355 Avg. RMSD: 0.8876885\n"
     ]
    },
    {
     "name": "stderr",
     "output_type": "stream",
     "text": [
      "100%|██████████| 101/101 [00:00<00:00, 877.85it/s]\n",
      " 23%|██▎       | 106/459 [00:00<00:00, 1052.87it/s]"
     ]
    },
    {
     "name": "stdout",
     "output_type": "stream",
     "text": [
      "Label: 9 Counts: 101 Avg. H-bonds: 3.297029702970297 Avg. RMSD: 0.5484606\n"
     ]
    },
    {
     "name": "stderr",
     "output_type": "stream",
     "text": [
      "100%|██████████| 459/459 [00:00<00:00, 1357.63it/s]\n",
      " 23%|██▎       | 104/462 [00:00<00:00, 1038.84it/s]"
     ]
    },
    {
     "name": "stdout",
     "output_type": "stream",
     "text": [
      "Label: 10 Counts: 459 Avg. H-bonds: 3.394335511982571 Avg. RMSD: 0.8655806\n"
     ]
    },
    {
     "name": "stderr",
     "output_type": "stream",
     "text": [
      "100%|██████████| 462/462 [00:00<00:00, 1334.46it/s]\n",
      " 51%|█████     | 110/215 [00:00<00:00, 1099.01it/s]"
     ]
    },
    {
     "name": "stdout",
     "output_type": "stream",
     "text": [
      "Label: 11 Counts: 462 Avg. H-bonds: 3.3701298701298703 Avg. RMSD: 0.8480643\n"
     ]
    },
    {
     "name": "stderr",
     "output_type": "stream",
     "text": [
      "100%|██████████| 215/215 [00:00<00:00, 1165.37it/s]\n",
      " 49%|████▉     | 127/260 [00:00<00:00, 1266.12it/s]"
     ]
    },
    {
     "name": "stdout",
     "output_type": "stream",
     "text": [
      "Label: 12 Counts: 215 Avg. H-bonds: 3.4 Avg. RMSD: 0.91274667\n"
     ]
    },
    {
     "name": "stderr",
     "output_type": "stream",
     "text": [
      "100%|██████████| 260/260 [00:00<00:00, 1333.05it/s]\n",
      "100%|██████████| 97/97 [00:00<00:00, 1075.68it/s]\n"
     ]
    },
    {
     "name": "stdout",
     "output_type": "stream",
     "text": [
      "Label: 13 Counts: 260 Avg. H-bonds: 3.3692307692307693 Avg. RMSD: 0.9038436\n",
      "Label: 14 Counts: 97 Avg. H-bonds: 3.463917525773196 Avg. RMSD: 0.4341383\n"
     ]
    },
    {
     "name": "stderr",
     "output_type": "stream",
     "text": [
      "100%|██████████| 75/75 [00:00<00:00, 1562.29it/s]\n",
      "  0%|          | 0/251 [00:00<?, ?it/s]"
     ]
    },
    {
     "name": "stdout",
     "output_type": "stream",
     "text": [
      "Temperature: 21 Silhouette Score: 0.1416345451298804\n",
      "Label: 0 Counts: 75 Avg. H-bonds: 3.453333333333333 Avg. RMSD: 0.3389328\n"
     ]
    },
    {
     "name": "stderr",
     "output_type": "stream",
     "text": [
      "100%|██████████| 251/251 [00:00<00:00, 1308.56it/s]\n",
      " 31%|███       | 120/386 [00:00<00:00, 1199.67it/s]"
     ]
    },
    {
     "name": "stdout",
     "output_type": "stream",
     "text": [
      "Label: 1 Counts: 251 Avg. H-bonds: 3.3824701195219125 Avg. RMSD: 0.9565039\n"
     ]
    },
    {
     "name": "stderr",
     "output_type": "stream",
     "text": [
      "100%|██████████| 386/386 [00:00<00:00, 1416.23it/s]\n",
      "100%|██████████| 154/154 [00:00<00:00, 1068.99it/s]\n"
     ]
    },
    {
     "name": "stdout",
     "output_type": "stream",
     "text": [
      "Label: 2 Counts: 386 Avg. H-bonds: 3.393782383419689 Avg. RMSD: 0.93928206\n",
      "Label: 3 Counts: 154 Avg. H-bonds: 3.3376623376623376 Avg. RMSD: 0.68679905\n"
     ]
    },
    {
     "name": "stderr",
     "output_type": "stream",
     "text": [
      "100%|██████████| 317/317 [00:00<00:00, 1348.68it/s]\n",
      " 26%|██▌       | 108/420 [00:00<00:00, 1076.62it/s]"
     ]
    },
    {
     "name": "stdout",
     "output_type": "stream",
     "text": [
      "Label: 4 Counts: 317 Avg. H-bonds: 3.3501577287066246 Avg. RMSD: 0.88165647\n"
     ]
    },
    {
     "name": "stderr",
     "output_type": "stream",
     "text": [
      "100%|██████████| 420/420 [00:00<00:00, 1435.19it/s]\n",
      " 53%|█████▎    | 121/229 [00:00<00:00, 1209.28it/s]"
     ]
    },
    {
     "name": "stdout",
     "output_type": "stream",
     "text": [
      "Label: 5 Counts: 420 Avg. H-bonds: 3.3904761904761904 Avg. RMSD: 0.9192361\n"
     ]
    },
    {
     "name": "stderr",
     "output_type": "stream",
     "text": [
      "100%|██████████| 229/229 [00:00<00:00, 1243.26it/s]\n",
      " 25%|██▌       | 117/459 [00:00<00:00, 1168.27it/s]"
     ]
    },
    {
     "name": "stdout",
     "output_type": "stream",
     "text": [
      "Label: 6 Counts: 229 Avg. H-bonds: 3.353711790393013 Avg. RMSD: 0.8248031\n"
     ]
    },
    {
     "name": "stderr",
     "output_type": "stream",
     "text": [
      "100%|██████████| 459/459 [00:00<00:00, 1480.16it/s]\n",
      "100%|██████████| 182/182 [00:00<00:00, 1141.17it/s]\n"
     ]
    },
    {
     "name": "stdout",
     "output_type": "stream",
     "text": [
      "Label: 7 Counts: 459 Avg. H-bonds: 3.3115468409586057 Avg. RMSD: 0.86180496\n",
      "Label: 8 Counts: 182 Avg. H-bonds: 3.434065934065934 Avg. RMSD: 0.821302\n"
     ]
    },
    {
     "name": "stderr",
     "output_type": "stream",
     "text": [
      "100%|██████████| 286/286 [00:00<00:00, 1271.55it/s]\n",
      "100%|██████████| 98/98 [00:00<00:00, 1208.18it/s]\n"
     ]
    },
    {
     "name": "stdout",
     "output_type": "stream",
     "text": [
      "Label: 9 Counts: 286 Avg. H-bonds: 3.4335664335664338 Avg. RMSD: 0.8712567\n"
     ]
    },
    {
     "name": "stderr",
     "output_type": "stream",
     "text": [
      "100%|██████████| 84/84 [00:00<00:00, 1210.68it/s]\n",
      "  0%|          | 0/181 [00:00<?, ?it/s]"
     ]
    },
    {
     "name": "stdout",
     "output_type": "stream",
     "text": [
      "Label: 10 Counts: 98 Avg. H-bonds: 3.4591836734693877 Avg. RMSD: 0.8798479\n",
      "Label: 11 Counts: 84 Avg. H-bonds: 3.4166666666666665 Avg. RMSD: 0.38668942\n"
     ]
    },
    {
     "name": "stderr",
     "output_type": "stream",
     "text": [
      "100%|██████████| 181/181 [00:00<00:00, 1133.83it/s]\n",
      " 57%|█████▋    | 121/212 [00:00<00:00, 1201.57it/s]"
     ]
    },
    {
     "name": "stdout",
     "output_type": "stream",
     "text": [
      "Label: 12 Counts: 181 Avg. H-bonds: 3.4419889502762433 Avg. RMSD: 0.80877346\n"
     ]
    },
    {
     "name": "stderr",
     "output_type": "stream",
     "text": [
      "100%|██████████| 212/212 [00:00<00:00, 1211.06it/s]\n",
      " 45%|████▍     | 123/274 [00:00<00:00, 1223.35it/s]"
     ]
    },
    {
     "name": "stdout",
     "output_type": "stream",
     "text": [
      "Label: 13 Counts: 212 Avg. H-bonds: 3.4716981132075473 Avg. RMSD: 0.9025437\n"
     ]
    },
    {
     "name": "stderr",
     "output_type": "stream",
     "text": [
      "100%|██████████| 274/274 [00:00<00:00, 1308.59it/s]\n"
     ]
    },
    {
     "name": "stdout",
     "output_type": "stream",
     "text": [
      "Label: 14 Counts: 274 Avg. H-bonds: 3.4562043795620436 Avg. RMSD: 0.5969191\n"
     ]
    },
    {
     "name": "stderr",
     "output_type": "stream",
     "text": [
      "100%|██████████| 189/189 [00:00<00:00, 1838.29it/s]\n",
      "  0%|          | 0/198 [00:00<?, ?it/s]"
     ]
    },
    {
     "name": "stdout",
     "output_type": "stream",
     "text": [
      "Temperature: 22 Silhouette Score: 0.1344263732840523\n",
      "Label: 0 Counts: 189 Avg. H-bonds: 3.4285714285714284 Avg. RMSD: 0.9175562\n"
     ]
    },
    {
     "name": "stderr",
     "output_type": "stream",
     "text": [
      "100%|██████████| 198/198 [00:00<00:00, 1245.02it/s]\n",
      " 55%|█████▍    | 115/211 [00:00<00:00, 1143.00it/s]"
     ]
    },
    {
     "name": "stdout",
     "output_type": "stream",
     "text": [
      "Label: 1 Counts: 198 Avg. H-bonds: 3.393939393939394 Avg. RMSD: 0.81354016\n"
     ]
    },
    {
     "name": "stderr",
     "output_type": "stream",
     "text": [
      "100%|██████████| 211/211 [00:00<00:00, 1119.46it/s]\n",
      " 43%|████▎     | 116/272 [00:00<00:00, 1150.30it/s]"
     ]
    },
    {
     "name": "stdout",
     "output_type": "stream",
     "text": [
      "Label: 2 Counts: 211 Avg. H-bonds: 3.2701421800947865 Avg. RMSD: 0.9390978\n"
     ]
    },
    {
     "name": "stderr",
     "output_type": "stream",
     "text": [
      "100%|██████████| 272/272 [00:00<00:00, 1241.56it/s]\n",
      "100%|██████████| 74/74 [00:00<00:00, 1104.46it/s]\n",
      "  0%|          | 0/213 [00:00<?, ?it/s]"
     ]
    },
    {
     "name": "stdout",
     "output_type": "stream",
     "text": [
      "Label: 3 Counts: 272 Avg. H-bonds: 3.5220588235294117 Avg. RMSD: 0.56700927\n",
      "Label: 4 Counts: 74 Avg. H-bonds: 3.324324324324324 Avg. RMSD: 0.319948\n"
     ]
    },
    {
     "name": "stderr",
     "output_type": "stream",
     "text": [
      "100%|██████████| 213/213 [00:00<00:00, 1166.37it/s]\n",
      " 56%|█████▌    | 122/218 [00:00<00:00, 1213.51it/s]"
     ]
    },
    {
     "name": "stdout",
     "output_type": "stream",
     "text": [
      "Label: 5 Counts: 213 Avg. H-bonds: 3.3708920187793425 Avg. RMSD: 0.8730032\n"
     ]
    },
    {
     "name": "stderr",
     "output_type": "stream",
     "text": [
      "100%|██████████| 218/218 [00:00<00:00, 1207.06it/s]\n",
      " 36%|███▋      | 114/313 [00:00<00:00, 1136.27it/s]"
     ]
    },
    {
     "name": "stdout",
     "output_type": "stream",
     "text": [
      "Label: 6 Counts: 218 Avg. H-bonds: 3.5 Avg. RMSD: 0.82722723\n"
     ]
    },
    {
     "name": "stderr",
     "output_type": "stream",
     "text": [
      "100%|██████████| 313/313 [00:00<00:00, 1274.92it/s]\n",
      " 45%|████▍     | 121/269 [00:00<00:00, 1201.62it/s]"
     ]
    },
    {
     "name": "stdout",
     "output_type": "stream",
     "text": [
      "Label: 7 Counts: 313 Avg. H-bonds: 3.4792332268370605 Avg. RMSD: 0.9502186\n"
     ]
    },
    {
     "name": "stderr",
     "output_type": "stream",
     "text": [
      "100%|██████████| 269/269 [00:00<00:00, 1281.81it/s]\n",
      " 34%|███▍      | 114/336 [00:00<00:00, 1135.09it/s]"
     ]
    },
    {
     "name": "stdout",
     "output_type": "stream",
     "text": [
      "Label: 8 Counts: 269 Avg. H-bonds: 3.345724907063197 Avg. RMSD: 0.7955224\n"
     ]
    },
    {
     "name": "stderr",
     "output_type": "stream",
     "text": [
      "100%|██████████| 336/336 [00:00<00:00, 1320.53it/s]\n",
      "100%|██████████| 81/81 [00:00<00:00, 1118.84it/s]\n",
      "  0%|          | 0/514 [00:00<?, ?it/s]"
     ]
    },
    {
     "name": "stdout",
     "output_type": "stream",
     "text": [
      "Label: 9 Counts: 336 Avg. H-bonds: 3.392857142857143 Avg. RMSD: 0.8743199\n",
      "Label: 10 Counts: 81 Avg. H-bonds: 3.567901234567901 Avg. RMSD: 0.8612353\n"
     ]
    },
    {
     "name": "stderr",
     "output_type": "stream",
     "text": [
      "100%|██████████| 514/514 [00:00<00:00, 1425.53it/s]\n",
      "100%|██████████| 205/205 [00:00<00:00, 1221.47it/s]\n"
     ]
    },
    {
     "name": "stdout",
     "output_type": "stream",
     "text": [
      "Label: 11 Counts: 514 Avg. H-bonds: 3.3171206225680936 Avg. RMSD: 0.9641187\n",
      "Label: 12 Counts: 205 Avg. H-bonds: 3.478048780487805 Avg. RMSD: 0.7785232\n"
     ]
    },
    {
     "name": "stderr",
     "output_type": "stream",
     "text": [
      "100%|██████████| 220/220 [00:00<00:00, 1898.72it/s]\n",
      " 38%|███▊      | 111/295 [00:00<00:00, 1102.61it/s]"
     ]
    },
    {
     "name": "stdout",
     "output_type": "stream",
     "text": [
      "Label: 13 Counts: 220 Avg. H-bonds: 3.3727272727272726 Avg. RMSD: 0.92653614\n"
     ]
    },
    {
     "name": "stderr",
     "output_type": "stream",
     "text": [
      "100%|██████████| 295/295 [00:00<00:00, 1204.55it/s]\n"
     ]
    },
    {
     "name": "stdout",
     "output_type": "stream",
     "text": [
      "Label: 14 Counts: 295 Avg. H-bonds: 3.294915254237288 Avg. RMSD: 0.81754774\n"
     ]
    },
    {
     "name": "stderr",
     "output_type": "stream",
     "text": [
      " 56%|█████▌    | 180/322 [00:00<00:00, 1794.07it/s]"
     ]
    },
    {
     "name": "stdout",
     "output_type": "stream",
     "text": [
      "Temperature: 23 Silhouette Score: 0.13640609296720424\n"
     ]
    },
    {
     "name": "stderr",
     "output_type": "stream",
     "text": [
      "100%|██████████| 322/322 [00:00<00:00, 1774.09it/s]\n"
     ]
    },
    {
     "name": "stdout",
     "output_type": "stream",
     "text": [
      "Label: 0 Counts: 322 Avg. H-bonds: 3.400621118012422 Avg. RMSD: 0.8938801\n"
     ]
    },
    {
     "name": "stderr",
     "output_type": "stream",
     "text": [
      "100%|██████████| 236/236 [00:00<00:00, 1774.54it/s]\n",
      "100%|██████████| 155/155 [00:00<00:00, 1127.86it/s]\n"
     ]
    },
    {
     "name": "stdout",
     "output_type": "stream",
     "text": [
      "Label: 1 Counts: 236 Avg. H-bonds: 3.4322033898305087 Avg. RMSD: 0.841881\n",
      "Label: 2 Counts: 155 Avg. H-bonds: 3.535483870967742 Avg. RMSD: 0.9146688\n"
     ]
    },
    {
     "name": "stderr",
     "output_type": "stream",
     "text": [
      "100%|██████████| 84/84 [00:00<00:00, 1092.81it/s]\n",
      " 43%|████▎     | 118/277 [00:00<00:00, 1173.03it/s]"
     ]
    },
    {
     "name": "stdout",
     "output_type": "stream",
     "text": [
      "Label: 3 Counts: 84 Avg. H-bonds: 3.5952380952380953 Avg. RMSD: 0.30215937\n"
     ]
    },
    {
     "name": "stderr",
     "output_type": "stream",
     "text": [
      "100%|██████████| 277/277 [00:00<00:00, 1281.46it/s]\n",
      "100%|██████████| 198/198 [00:00<00:00, 1191.20it/s]\n"
     ]
    },
    {
     "name": "stdout",
     "output_type": "stream",
     "text": [
      "Label: 4 Counts: 277 Avg. H-bonds: 3.3971119133574006 Avg. RMSD: 0.8496541\n",
      "Label: 5 Counts: 198 Avg. H-bonds: 3.3737373737373737 Avg. RMSD: 0.867375\n"
     ]
    },
    {
     "name": "stderr",
     "output_type": "stream",
     "text": [
      "100%|██████████| 216/216 [00:00<00:00, 1243.34it/s]\n",
      " 48%|████▊     | 116/240 [00:00<00:00, 1151.47it/s]"
     ]
    },
    {
     "name": "stdout",
     "output_type": "stream",
     "text": [
      "Label: 6 Counts: 216 Avg. H-bonds: 3.2777777777777777 Avg. RMSD: 0.9083731\n"
     ]
    },
    {
     "name": "stderr",
     "output_type": "stream",
     "text": [
      "100%|██████████| 240/240 [00:00<00:00, 1229.95it/s]\n",
      " 31%|███       | 116/372 [00:00<00:00, 1155.96it/s]"
     ]
    },
    {
     "name": "stdout",
     "output_type": "stream",
     "text": [
      "Label: 7 Counts: 240 Avg. H-bonds: 3.441666666666667 Avg. RMSD: 0.52413166\n"
     ]
    },
    {
     "name": "stderr",
     "output_type": "stream",
     "text": [
      "100%|██████████| 372/372 [00:00<00:00, 1369.73it/s]\n",
      "100%|██████████| 86/86 [00:00<00:00, 1243.87it/s]\n",
      "  0%|          | 0/325 [00:00<?, ?it/s]"
     ]
    },
    {
     "name": "stdout",
     "output_type": "stream",
     "text": [
      "Label: 8 Counts: 372 Avg. H-bonds: 3.3629032258064515 Avg. RMSD: 0.986622\n",
      "Label: 9 Counts: 86 Avg. H-bonds: 3.2674418604651163 Avg. RMSD: 0.90219676\n"
     ]
    },
    {
     "name": "stderr",
     "output_type": "stream",
     "text": [
      "100%|██████████| 325/325 [00:00<00:00, 1290.00it/s]\n",
      "100%|██████████| 173/173 [00:00<00:00, 1185.26it/s]\n"
     ]
    },
    {
     "name": "stdout",
     "output_type": "stream",
     "text": [
      "Label: 10 Counts: 325 Avg. H-bonds: 3.390769230769231 Avg. RMSD: 0.85828954\n",
      "Label: 11 Counts: 173 Avg. H-bonds: 3.445086705202312 Avg. RMSD: 0.8921913\n"
     ]
    },
    {
     "name": "stderr",
     "output_type": "stream",
     "text": [
      "100%|██████████| 281/281 [00:00<00:00, 1294.76it/s]\n",
      " 26%|██▌       | 125/489 [00:00<00:00, 1247.33it/s]"
     ]
    },
    {
     "name": "stdout",
     "output_type": "stream",
     "text": [
      "Label: 12 Counts: 281 Avg. H-bonds: 3.4412811387900355 Avg. RMSD: 0.9088518\n"
     ]
    },
    {
     "name": "stderr",
     "output_type": "stream",
     "text": [
      "100%|██████████| 489/489 [00:00<00:00, 1479.48it/s]\n",
      "100%|██████████| 154/154 [00:00<00:00, 1184.85it/s]\n"
     ]
    },
    {
     "name": "stdout",
     "output_type": "stream",
     "text": [
      "Label: 13 Counts: 489 Avg. H-bonds: 3.339468302658487 Avg. RMSD: 0.90763265\n",
      "Label: 14 Counts: 154 Avg. H-bonds: 3.357142857142857 Avg. RMSD: 0.92310303\n"
     ]
    },
    {
     "name": "stderr",
     "output_type": "stream",
     "text": [
      "100%|██████████| 36/36 [00:00<00:00, 1712.87it/s]\n",
      " 55%|█████▌    | 124/224 [00:00<00:00, 1236.55it/s]"
     ]
    },
    {
     "name": "stdout",
     "output_type": "stream",
     "text": [
      "Temperature: 24 Silhouette Score: 0.13349204165570627\n",
      "Label: 0 Counts: 36 Avg. H-bonds: 3.361111111111111 Avg. RMSD: 0.8452064\n"
     ]
    },
    {
     "name": "stderr",
     "output_type": "stream",
     "text": [
      "100%|██████████| 224/224 [00:00<00:00, 1263.02it/s]\n",
      " 49%|████▉     | 118/239 [00:00<00:00, 1175.68it/s]"
     ]
    },
    {
     "name": "stdout",
     "output_type": "stream",
     "text": [
      "Label: 1 Counts: 224 Avg. H-bonds: 3.5044642857142856 Avg. RMSD: 0.8351473\n"
     ]
    },
    {
     "name": "stderr",
     "output_type": "stream",
     "text": [
      "100%|██████████| 239/239 [00:00<00:00, 1268.09it/s]\n",
      " 26%|██▋       | 112/426 [00:00<00:00, 1114.23it/s]"
     ]
    },
    {
     "name": "stdout",
     "output_type": "stream",
     "text": [
      "Label: 2 Counts: 239 Avg. H-bonds: 3.3807531380753137 Avg. RMSD: 0.86805606\n"
     ]
    },
    {
     "name": "stderr",
     "output_type": "stream",
     "text": [
      "100%|██████████| 426/426 [00:00<00:00, 1362.45it/s]\n"
     ]
    },
    {
     "name": "stdout",
     "output_type": "stream",
     "text": [
      "Label: 3 Counts: 426 Avg. H-bonds: 3.323943661971831 Avg. RMSD: 0.875771\n"
     ]
    },
    {
     "name": "stderr",
     "output_type": "stream",
     "text": [
      "100%|██████████| 318/318 [00:00<00:00, 1913.72it/s]\n",
      " 44%|████▍     | 127/290 [00:00<00:00, 1261.13it/s]"
     ]
    },
    {
     "name": "stdout",
     "output_type": "stream",
     "text": [
      "Label: 4 Counts: 318 Avg. H-bonds: 3.3742138364779874 Avg. RMSD: 0.8111096\n"
     ]
    },
    {
     "name": "stderr",
     "output_type": "stream",
     "text": [
      "100%|██████████| 290/290 [00:00<00:00, 1318.27it/s]\n",
      " 28%|██▊       | 119/429 [00:00<00:00, 1183.76it/s]"
     ]
    },
    {
     "name": "stdout",
     "output_type": "stream",
     "text": [
      "Label: 5 Counts: 290 Avg. H-bonds: 3.3586206896551722 Avg. RMSD: 0.93299854\n"
     ]
    },
    {
     "name": "stderr",
     "output_type": "stream",
     "text": [
      "100%|██████████| 429/429 [00:00<00:00, 1448.06it/s]\n",
      "100%|██████████| 134/134 [00:00<00:00, 1250.68it/s]\n",
      "  0%|          | 0/268 [00:00<?, ?it/s]"
     ]
    },
    {
     "name": "stdout",
     "output_type": "stream",
     "text": [
      "Label: 6 Counts: 429 Avg. H-bonds: 3.3286713286713288 Avg. RMSD: 0.9335644\n",
      "Label: 7 Counts: 134 Avg. H-bonds: 3.328358208955224 Avg. RMSD: 0.86282563\n"
     ]
    },
    {
     "name": "stderr",
     "output_type": "stream",
     "text": [
      "100%|██████████| 268/268 [00:00<00:00, 1184.67it/s]\n",
      "100%|██████████| 185/185 [00:00<00:00, 1177.42it/s]\n"
     ]
    },
    {
     "name": "stdout",
     "output_type": "stream",
     "text": [
      "Label: 8 Counts: 268 Avg. H-bonds: 3.425373134328358 Avg. RMSD: 0.82046574\n",
      "Label: 9 Counts: 185 Avg. H-bonds: 3.4054054054054053 Avg. RMSD: 0.858824\n"
     ]
    },
    {
     "name": "stderr",
     "output_type": "stream",
     "text": [
      "100%|██████████| 232/232 [00:00<00:00, 1204.14it/s]\n",
      "100%|██████████| 169/169 [00:00<00:00, 1233.87it/s]\n",
      "  0%|          | 0/319 [00:00<?, ?it/s]"
     ]
    },
    {
     "name": "stdout",
     "output_type": "stream",
     "text": [
      "Label: 10 Counts: 232 Avg. H-bonds: 3.5474137931034484 Avg. RMSD: 0.5332353\n",
      "Label: 11 Counts: 169 Avg. H-bonds: 3.3076923076923075 Avg. RMSD: 0.8972543\n"
     ]
    },
    {
     "name": "stderr",
     "output_type": "stream",
     "text": [
      "100%|██████████| 319/319 [00:00<00:00, 1277.12it/s]\n",
      " 46%|████▌     | 124/270 [00:00<00:00, 1239.56it/s]"
     ]
    },
    {
     "name": "stdout",
     "output_type": "stream",
     "text": [
      "Label: 12 Counts: 319 Avg. H-bonds: 3.413793103448276 Avg. RMSD: 0.8950553\n"
     ]
    },
    {
     "name": "stderr",
     "output_type": "stream",
     "text": [
      "100%|██████████| 270/270 [00:00<00:00, 1274.39it/s]\n",
      "100%|██████████| 69/69 [00:00<00:00, 1220.31it/s]\n"
     ]
    },
    {
     "name": "stdout",
     "output_type": "stream",
     "text": [
      "Label: 13 Counts: 270 Avg. H-bonds: 3.4555555555555557 Avg. RMSD: 0.9180229\n",
      "Label: 14 Counts: 69 Avg. H-bonds: 3.5072463768115942 Avg. RMSD: 0.32375926\n"
     ]
    },
    {
     "name": "stderr",
     "output_type": "stream",
     "text": [
      "100%|██████████| 196/196 [00:00<00:00, 1620.27it/s]\n",
      "  0%|          | 0/75 [00:00<?, ?it/s]"
     ]
    },
    {
     "name": "stdout",
     "output_type": "stream",
     "text": [
      "Temperature: 25 Silhouette Score: 0.12818300764369897\n",
      "Label: 0 Counts: 196 Avg. H-bonds: 3.423469387755102 Avg. RMSD: 0.9313621\n"
     ]
    },
    {
     "name": "stderr",
     "output_type": "stream",
     "text": [
      "100%|██████████| 75/75 [00:00<00:00, 1179.48it/s]\n",
      "100%|██████████| 199/199 [00:00<00:00, 1190.52it/s]\n"
     ]
    },
    {
     "name": "stdout",
     "output_type": "stream",
     "text": [
      "Label: 1 Counts: 75 Avg. H-bonds: 3.533333333333333 Avg. RMSD: 0.35000187\n",
      "Label: 2 Counts: 199 Avg. H-bonds: 3.306532663316583 Avg. RMSD: 0.82109874\n"
     ]
    },
    {
     "name": "stderr",
     "output_type": "stream",
     "text": [
      "100%|██████████| 476/476 [00:00<00:00, 1496.88it/s]\n",
      " 38%|███▊      | 123/320 [00:00<00:00, 1222.33it/s]"
     ]
    },
    {
     "name": "stdout",
     "output_type": "stream",
     "text": [
      "Label: 3 Counts: 476 Avg. H-bonds: 3.3760504201680672 Avg. RMSD: 0.88884705\n"
     ]
    },
    {
     "name": "stderr",
     "output_type": "stream",
     "text": [
      "100%|██████████| 320/320 [00:00<00:00, 1358.23it/s]\n",
      " 30%|███       | 104/346 [00:00<00:00, 1037.73it/s]"
     ]
    },
    {
     "name": "stdout",
     "output_type": "stream",
     "text": [
      "Label: 4 Counts: 320 Avg. H-bonds: 3.440625 Avg. RMSD: 0.77796465\n"
     ]
    },
    {
     "name": "stderr",
     "output_type": "stream",
     "text": [
      "100%|██████████| 346/346 [00:00<00:00, 1303.03it/s]\n",
      " 59%|█████▉    | 133/226 [00:00<00:00, 1324.66it/s]"
     ]
    },
    {
     "name": "stdout",
     "output_type": "stream",
     "text": [
      "Label: 5 Counts: 346 Avg. H-bonds: 3.3901734104046244 Avg. RMSD: 0.90594834\n"
     ]
    },
    {
     "name": "stderr",
     "output_type": "stream",
     "text": [
      "100%|██████████| 226/226 [00:00<00:00, 1230.61it/s]\n"
     ]
    },
    {
     "name": "stdout",
     "output_type": "stream",
     "text": [
      "Label: 6 Counts: 226 Avg. H-bonds: 3.4911504424778763 Avg. RMSD: 0.9095396\n"
     ]
    },
    {
     "name": "stderr",
     "output_type": "stream",
     "text": [
      "100%|██████████| 195/195 [00:00<00:00, 1642.92it/s]\n",
      " 38%|███▊      | 116/305 [00:00<00:00, 1157.09it/s]"
     ]
    },
    {
     "name": "stdout",
     "output_type": "stream",
     "text": [
      "Label: 7 Counts: 195 Avg. H-bonds: 3.605128205128205 Avg. RMSD: 0.50803703\n"
     ]
    },
    {
     "name": "stderr",
     "output_type": "stream",
     "text": [
      "100%|██████████| 305/305 [00:00<00:00, 1266.95it/s]\n",
      " 48%|████▊     | 123/255 [00:00<00:00, 1226.86it/s]"
     ]
    },
    {
     "name": "stdout",
     "output_type": "stream",
     "text": [
      "Label: 8 Counts: 305 Avg. H-bonds: 3.262295081967213 Avg. RMSD: 0.90672195\n"
     ]
    },
    {
     "name": "stderr",
     "output_type": "stream",
     "text": [
      "100%|██████████| 255/255 [00:00<00:00, 1274.63it/s]\n",
      "100%|██████████| 144/144 [00:00<00:00, 1216.98it/s]\n",
      "  0%|          | 0/235 [00:00<?, ?it/s]"
     ]
    },
    {
     "name": "stdout",
     "output_type": "stream",
     "text": [
      "Label: 9 Counts: 255 Avg. H-bonds: 3.392156862745098 Avg. RMSD: 0.84307855\n",
      "Label: 10 Counts: 144 Avg. H-bonds: 3.4722222222222223 Avg. RMSD: 0.8992354\n"
     ]
    },
    {
     "name": "stderr",
     "output_type": "stream",
     "text": [
      "100%|██████████| 235/235 [00:00<00:00, 1246.56it/s]\n",
      " 35%|███▌      | 83/237 [00:00<00:00, 828.36it/s]"
     ]
    },
    {
     "name": "stdout",
     "output_type": "stream",
     "text": [
      "Label: 11 Counts: 235 Avg. H-bonds: 3.429787234042553 Avg. RMSD: 0.805972\n"
     ]
    },
    {
     "name": "stderr",
     "output_type": "stream",
     "text": [
      "100%|██████████| 237/237 [00:00<00:00, 1093.30it/s]\n",
      "100%|██████████| 85/85 [00:00<00:00, 708.08it/s]\n"
     ]
    },
    {
     "name": "stdout",
     "output_type": "stream",
     "text": [
      "Label: 12 Counts: 237 Avg. H-bonds: 3.2869198312236287 Avg. RMSD: 0.9280763\n",
      "Label: 13 Counts: 85 Avg. H-bonds: 3.235294117647059 Avg. RMSD: 0.8790335\n"
     ]
    },
    {
     "name": "stderr",
     "output_type": "stream",
     "text": [
      "100%|██████████| 314/314 [00:00<00:00, 1090.69it/s]\n"
     ]
    },
    {
     "name": "stdout",
     "output_type": "stream",
     "text": [
      "Label: 14 Counts: 314 Avg. H-bonds: 3.3694267515923566 Avg. RMSD: 0.8967909\n"
     ]
    },
    {
     "name": "stderr",
     "output_type": "stream",
     "text": [
      "100%|██████████| 260/260 [00:00<00:00, 1629.53it/s]"
     ]
    },
    {
     "name": "stdout",
     "output_type": "stream",
     "text": [
      "Temperature: 26 Silhouette Score: 0.12394263556887862\n"
     ]
    },
    {
     "name": "stderr",
     "output_type": "stream",
     "text": [
      "\n",
      "100%|██████████| 160/160 [00:00<00:00, 1062.28it/s]\n"
     ]
    },
    {
     "name": "stdout",
     "output_type": "stream",
     "text": [
      "Label: 0 Counts: 260 Avg. H-bonds: 3.4461538461538463 Avg. RMSD: 0.8244806\n",
      "Label: 1 Counts: 160 Avg. H-bonds: 3.46875 Avg. RMSD: 0.8375122\n"
     ]
    },
    {
     "name": "stderr",
     "output_type": "stream",
     "text": [
      "100%|██████████| 444/444 [00:00<00:00, 1380.63it/s]\n",
      " 54%|█████▍    | 120/222 [00:00<00:00, 1192.85it/s]"
     ]
    },
    {
     "name": "stdout",
     "output_type": "stream",
     "text": [
      "Label: 2 Counts: 444 Avg. H-bonds: 3.34009009009009 Avg. RMSD: 0.88507617\n"
     ]
    },
    {
     "name": "stderr",
     "output_type": "stream",
     "text": [
      "100%|██████████| 222/222 [00:00<00:00, 1206.41it/s]\n",
      "100%|██████████| 128/128 [00:00<00:00, 1521.70it/s]\n",
      "  0%|          | 0/310 [00:00<?, ?it/s]"
     ]
    },
    {
     "name": "stdout",
     "output_type": "stream",
     "text": [
      "Label: 3 Counts: 222 Avg. H-bonds: 3.3963963963963963 Avg. RMSD: 0.75108963\n",
      "Label: 4 Counts: 128 Avg. H-bonds: 3.4296875 Avg. RMSD: 0.9101448\n"
     ]
    },
    {
     "name": "stderr",
     "output_type": "stream",
     "text": [
      "100%|██████████| 310/310 [00:00<00:00, 1381.17it/s]\n",
      " 37%|███▋      | 126/343 [00:00<00:00, 1257.92it/s]"
     ]
    },
    {
     "name": "stdout",
     "output_type": "stream",
     "text": [
      "Label: 5 Counts: 310 Avg. H-bonds: 3.42258064516129 Avg. RMSD: 0.8900554\n"
     ]
    },
    {
     "name": "stderr",
     "output_type": "stream",
     "text": [
      "100%|██████████| 343/343 [00:00<00:00, 1352.76it/s]\n",
      " 38%|███▊      | 128/335 [00:00<00:00, 1269.98it/s]"
     ]
    },
    {
     "name": "stdout",
     "output_type": "stream",
     "text": [
      "Label: 6 Counts: 343 Avg. H-bonds: 3.259475218658892 Avg. RMSD: 0.9537882\n"
     ]
    },
    {
     "name": "stderr",
     "output_type": "stream",
     "text": [
      "100%|██████████| 335/335 [00:00<00:00, 1341.12it/s]\n",
      " 50%|████▉     | 115/232 [00:00<00:00, 1143.96it/s]"
     ]
    },
    {
     "name": "stdout",
     "output_type": "stream",
     "text": [
      "Label: 7 Counts: 335 Avg. H-bonds: 3.370149253731343 Avg. RMSD: 0.92556536\n"
     ]
    },
    {
     "name": "stderr",
     "output_type": "stream",
     "text": [
      "100%|██████████| 232/232 [00:00<00:00, 1208.05it/s]\n",
      " 56%|█████▌    | 115/207 [00:00<00:00, 1141.87it/s]"
     ]
    },
    {
     "name": "stdout",
     "output_type": "stream",
     "text": [
      "Label: 8 Counts: 232 Avg. H-bonds: 3.3663793103448274 Avg. RMSD: 0.8670024\n"
     ]
    },
    {
     "name": "stderr",
     "output_type": "stream",
     "text": [
      "100%|██████████| 207/207 [00:00<00:00, 1133.59it/s]\n"
     ]
    },
    {
     "name": "stdout",
     "output_type": "stream",
     "text": [
      "Label: 9 Counts: 207 Avg. H-bonds: 3.391304347826087 Avg. RMSD: 0.7951796\n"
     ]
    },
    {
     "name": "stderr",
     "output_type": "stream",
     "text": [
      "100%|██████████| 236/236 [00:00<00:00, 1841.50it/s]\n",
      "100%|██████████| 153/153 [00:00<00:00, 1248.54it/s]\n",
      "  0%|          | 0/323 [00:00<?, ?it/s]"
     ]
    },
    {
     "name": "stdout",
     "output_type": "stream",
     "text": [
      "Label: 10 Counts: 236 Avg. H-bonds: 3.4661016949152543 Avg. RMSD: 0.9340135\n",
      "Label: 11 Counts: 153 Avg. H-bonds: 3.3790849673202614 Avg. RMSD: 0.9116229\n"
     ]
    },
    {
     "name": "stderr",
     "output_type": "stream",
     "text": [
      "100%|██████████| 323/323 [00:00<00:00, 1398.72it/s]\n",
      "100%|██████████| 211/211 [00:00<00:00, 1229.18it/s]"
     ]
    },
    {
     "name": "stdout",
     "output_type": "stream",
     "text": [
      "Label: 12 Counts: 323 Avg. H-bonds: 3.414860681114551 Avg. RMSD: 0.8338865\n"
     ]
    },
    {
     "name": "stderr",
     "output_type": "stream",
     "text": [
      "\n",
      "100%|██████████| 44/44 [00:00<00:00, 1123.57it/s]\n"
     ]
    },
    {
     "name": "stdout",
     "output_type": "stream",
     "text": [
      "Label: 13 Counts: 211 Avg. H-bonds: 3.4881516587677726 Avg. RMSD: 0.5386248\n",
      "Label: 14 Counts: 44 Avg. H-bonds: 3.477272727272727 Avg. RMSD: 0.8603785\n"
     ]
    },
    {
     "name": "stderr",
     "output_type": "stream",
     "text": [
      "100%|██████████| 71/71 [00:00<00:00, 1218.85it/s]\n",
      "  0%|          | 0/213 [00:00<?, ?it/s]"
     ]
    },
    {
     "name": "stdout",
     "output_type": "stream",
     "text": [
      "Temperature: 27 Silhouette Score: 0.12853481460972999\n",
      "Label: 0 Counts: 71 Avg. H-bonds: 3.436619718309859 Avg. RMSD: 0.8737793\n"
     ]
    },
    {
     "name": "stderr",
     "output_type": "stream",
     "text": [
      "100%|██████████| 213/213 [00:00<00:00, 1235.91it/s]\n",
      " 47%|████▋     | 111/236 [00:00<00:00, 1104.90it/s]"
     ]
    },
    {
     "name": "stdout",
     "output_type": "stream",
     "text": [
      "Label: 1 Counts: 213 Avg. H-bonds: 3.380281690140845 Avg. RMSD: 0.82248956\n"
     ]
    },
    {
     "name": "stderr",
     "output_type": "stream",
     "text": [
      "100%|██████████| 236/236 [00:00<00:00, 1211.56it/s]\n",
      " 56%|█████▌    | 129/230 [00:00<00:00, 1286.33it/s]"
     ]
    },
    {
     "name": "stdout",
     "output_type": "stream",
     "text": [
      "Label: 2 Counts: 236 Avg. H-bonds: 3.2966101694915255 Avg. RMSD: 0.9179192\n"
     ]
    },
    {
     "name": "stderr",
     "output_type": "stream",
     "text": [
      "100%|██████████| 230/230 [00:00<00:00, 1279.19it/s]\n",
      " 43%|████▎     | 117/269 [00:00<00:00, 1164.32it/s]"
     ]
    },
    {
     "name": "stdout",
     "output_type": "stream",
     "text": [
      "Label: 3 Counts: 230 Avg. H-bonds: 3.3391304347826085 Avg. RMSD: 0.9439611\n"
     ]
    },
    {
     "name": "stderr",
     "output_type": "stream",
     "text": [
      "100%|██████████| 269/269 [00:00<00:00, 1205.74it/s]\n",
      "100%|██████████| 204/204 [00:00<00:00, 1222.51it/s]\n"
     ]
    },
    {
     "name": "stdout",
     "output_type": "stream",
     "text": [
      "Label: 4 Counts: 269 Avg. H-bonds: 3.41635687732342 Avg. RMSD: 0.8943309\n"
     ]
    },
    {
     "name": "stderr",
     "output_type": "stream",
     "text": [
      "100%|██████████| 182/182 [00:00<00:00, 1188.66it/s]\n"
     ]
    },
    {
     "name": "stdout",
     "output_type": "stream",
     "text": [
      "Label: 5 Counts: 204 Avg. H-bonds: 3.485294117647059 Avg. RMSD: 0.51935524\n",
      "Label: 6 Counts: 182 Avg. H-bonds: 3.510989010989011 Avg. RMSD: 0.80953676\n"
     ]
    },
    {
     "name": "stderr",
     "output_type": "stream",
     "text": [
      "100%|██████████| 121/121 [00:00<00:00, 876.99it/s]\n",
      " 41%|████      | 111/271 [00:00<00:00, 1105.31it/s]"
     ]
    },
    {
     "name": "stdout",
     "output_type": "stream",
     "text": [
      "Label: 7 Counts: 121 Avg. H-bonds: 3.479338842975207 Avg. RMSD: 0.5600935\n"
     ]
    },
    {
     "name": "stderr",
     "output_type": "stream",
     "text": [
      "100%|██████████| 271/271 [00:00<00:00, 1261.21it/s]\n",
      " 37%|███▋      | 126/338 [00:00<00:00, 1258.50it/s]"
     ]
    },
    {
     "name": "stdout",
     "output_type": "stream",
     "text": [
      "Label: 8 Counts: 271 Avg. H-bonds: 3.4464944649446494 Avg. RMSD: 0.7828613\n"
     ]
    },
    {
     "name": "stderr",
     "output_type": "stream",
     "text": [
      "100%|██████████| 338/338 [00:00<00:00, 1386.24it/s]\n",
      " 35%|███▌      | 121/342 [00:00<00:00, 1208.03it/s]"
     ]
    },
    {
     "name": "stdout",
     "output_type": "stream",
     "text": [
      "Label: 9 Counts: 338 Avg. H-bonds: 3.405325443786982 Avg. RMSD: 0.91950345\n"
     ]
    },
    {
     "name": "stderr",
     "output_type": "stream",
     "text": [
      "100%|██████████| 342/342 [00:00<00:00, 1349.05it/s]\n",
      " 38%|███▊      | 124/325 [00:00<00:00, 1233.10it/s]"
     ]
    },
    {
     "name": "stdout",
     "output_type": "stream",
     "text": [
      "Label: 10 Counts: 342 Avg. H-bonds: 3.4298245614035086 Avg. RMSD: 0.9060155\n"
     ]
    },
    {
     "name": "stderr",
     "output_type": "stream",
     "text": [
      "100%|██████████| 325/325 [00:00<00:00, 1355.26it/s]\n",
      " 52%|█████▏    | 124/238 [00:00<00:00, 1232.97it/s]"
     ]
    },
    {
     "name": "stdout",
     "output_type": "stream",
     "text": [
      "Label: 11 Counts: 325 Avg. H-bonds: 3.3046153846153845 Avg. RMSD: 0.8907771\n"
     ]
    },
    {
     "name": "stderr",
     "output_type": "stream",
     "text": [
      "100%|██████████| 238/238 [00:00<00:00, 1214.68it/s]\n"
     ]
    },
    {
     "name": "stdout",
     "output_type": "stream",
     "text": [
      "Label: 12 Counts: 238 Avg. H-bonds: 3.319327731092437 Avg. RMSD: 0.91718686\n"
     ]
    },
    {
     "name": "stderr",
     "output_type": "stream",
     "text": [
      "100%|██████████| 495/495 [00:00<00:00, 1850.87it/s]\n",
      "100%|██████████| 73/73 [00:00<00:00, 1067.65it/s]\n"
     ]
    },
    {
     "name": "stdout",
     "output_type": "stream",
     "text": [
      "Label: 13 Counts: 495 Avg. H-bonds: 3.412121212121212 Avg. RMSD: 0.90192056\n",
      "Label: 14 Counts: 73 Avg. H-bonds: 3.2054794520547945 Avg. RMSD: 0.36904815\n"
     ]
    },
    {
     "name": "stderr",
     "output_type": "stream",
     "text": [
      " 50%|█████     | 189/377 [00:00<00:00, 1883.66it/s]"
     ]
    },
    {
     "name": "stdout",
     "output_type": "stream",
     "text": [
      "Temperature: 28 Silhouette Score: 0.12255785438821386\n"
     ]
    },
    {
     "name": "stderr",
     "output_type": "stream",
     "text": [
      "100%|██████████| 377/377 [00:00<00:00, 1854.60it/s]\n"
     ]
    },
    {
     "name": "stdout",
     "output_type": "stream",
     "text": [
      "Label: 0 Counts: 377 Avg. H-bonds: 3.3660477453580904 Avg. RMSD: 0.91921616\n"
     ]
    },
    {
     "name": "stderr",
     "output_type": "stream",
     "text": [
      "100%|██████████| 373/373 [00:00<00:00, 1415.18it/s]\n",
      "100%|██████████| 62/62 [00:00<00:00, 1072.43it/s]\n",
      "  0%|          | 0/262 [00:00<?, ?it/s]"
     ]
    },
    {
     "name": "stdout",
     "output_type": "stream",
     "text": [
      "Label: 1 Counts: 373 Avg. H-bonds: 3.3672922252010724 Avg. RMSD: 0.8883364\n",
      "Label: 2 Counts: 62 Avg. H-bonds: 3.1774193548387095 Avg. RMSD: 0.88333493\n"
     ]
    },
    {
     "name": "stderr",
     "output_type": "stream",
     "text": [
      "100%|██████████| 262/262 [00:00<00:00, 1243.17it/s]\n",
      "100%|██████████| 127/127 [00:00<00:00, 1313.89it/s]\n",
      "  0%|          | 0/257 [00:00<?, ?it/s]"
     ]
    },
    {
     "name": "stdout",
     "output_type": "stream",
     "text": [
      "Label: 3 Counts: 262 Avg. H-bonds: 3.385496183206107 Avg. RMSD: 0.90465736\n",
      "Label: 4 Counts: 127 Avg. H-bonds: 3.4330708661417324 Avg. RMSD: 0.6236383\n"
     ]
    },
    {
     "name": "stderr",
     "output_type": "stream",
     "text": [
      "100%|██████████| 257/257 [00:00<00:00, 1258.47it/s]\n",
      "100%|██████████| 152/152 [00:00<00:00, 1144.95it/s]\n",
      "  0%|          | 0/307 [00:00<?, ?it/s]"
     ]
    },
    {
     "name": "stdout",
     "output_type": "stream",
     "text": [
      "Label: 5 Counts: 257 Avg. H-bonds: 3.369649805447471 Avg. RMSD: 0.9096609\n",
      "Label: 6 Counts: 152 Avg. H-bonds: 3.473684210526316 Avg. RMSD: 0.91967714\n"
     ]
    },
    {
     "name": "stderr",
     "output_type": "stream",
     "text": [
      "100%|██████████| 307/307 [00:00<00:00, 1324.81it/s]\n",
      " 29%|██▉       | 120/410 [00:00<00:00, 1196.82it/s]"
     ]
    },
    {
     "name": "stdout",
     "output_type": "stream",
     "text": [
      "Label: 7 Counts: 307 Avg. H-bonds: 3.478827361563518 Avg. RMSD: 0.69717526\n"
     ]
    },
    {
     "name": "stderr",
     "output_type": "stream",
     "text": [
      "100%|██████████| 410/410 [00:00<00:00, 1429.03it/s]\n",
      " 53%|█████▎    | 102/194 [00:00<00:00, 1018.63it/s]"
     ]
    },
    {
     "name": "stdout",
     "output_type": "stream",
     "text": [
      "Label: 8 Counts: 410 Avg. H-bonds: 3.3097560975609754 Avg. RMSD: 0.9396919\n"
     ]
    },
    {
     "name": "stderr",
     "output_type": "stream",
     "text": [
      "100%|██████████| 194/194 [00:00<00:00, 1096.30it/s]\n",
      " 42%|████▏     | 113/267 [00:00<00:00, 1125.16it/s]"
     ]
    },
    {
     "name": "stdout",
     "output_type": "stream",
     "text": [
      "Label: 9 Counts: 194 Avg. H-bonds: 3.4329896907216493 Avg. RMSD: 0.747356\n"
     ]
    },
    {
     "name": "stderr",
     "output_type": "stream",
     "text": [
      "100%|██████████| 267/267 [00:00<00:00, 1236.61it/s]\n",
      " 56%|█████▌    | 114/204 [00:00<00:00, 1138.96it/s]"
     ]
    },
    {
     "name": "stdout",
     "output_type": "stream",
     "text": [
      "Label: 10 Counts: 267 Avg. H-bonds: 3.3408239700374533 Avg. RMSD: 0.9226146\n"
     ]
    },
    {
     "name": "stderr",
     "output_type": "stream",
     "text": [
      "100%|██████████| 204/204 [00:00<00:00, 1157.34it/s]\n",
      " 46%|████▌     | 111/241 [00:00<00:00, 1105.99it/s]"
     ]
    },
    {
     "name": "stdout",
     "output_type": "stream",
     "text": [
      "Label: 11 Counts: 204 Avg. H-bonds: 3.5245098039215685 Avg. RMSD: 0.9024781\n"
     ]
    },
    {
     "name": "stderr",
     "output_type": "stream",
     "text": [
      "100%|██████████| 241/241 [00:00<00:00, 1092.08it/s]\n",
      " 46%|████▌     | 104/226 [00:00<00:00, 1034.81it/s]"
     ]
    },
    {
     "name": "stdout",
     "output_type": "stream",
     "text": [
      "Label: 12 Counts: 241 Avg. H-bonds: 3.2987551867219915 Avg. RMSD: 0.8198154\n"
     ]
    },
    {
     "name": "stderr",
     "output_type": "stream",
     "text": [
      "100%|██████████| 226/226 [00:00<00:00, 1166.69it/s]\n",
      "100%|██████████| 149/149 [00:00<00:00, 1108.87it/s]\n"
     ]
    },
    {
     "name": "stdout",
     "output_type": "stream",
     "text": [
      "Label: 13 Counts: 226 Avg. H-bonds: 3.5353982300884956 Avg. RMSD: 0.7692403\n",
      "Label: 14 Counts: 149 Avg. H-bonds: 3.422818791946309 Avg. RMSD: 0.91262245\n"
     ]
    },
    {
     "name": "stderr",
     "output_type": "stream",
     "text": [
      " 50%|█████     | 143/284 [00:00<00:00, 1428.47it/s]"
     ]
    },
    {
     "name": "stdout",
     "output_type": "stream",
     "text": [
      "Temperature: 29 Silhouette Score: 0.11800102911258746\n"
     ]
    },
    {
     "name": "stderr",
     "output_type": "stream",
     "text": [
      "100%|██████████| 284/284 [00:00<00:00, 1581.84it/s]\n",
      "100%|██████████| 195/195 [00:00<00:00, 1153.18it/s]"
     ]
    },
    {
     "name": "stdout",
     "output_type": "stream",
     "text": [
      "Label: 0 Counts: 284 Avg. H-bonds: 3.3380281690140845 Avg. RMSD: 0.88755006\n",
      "Label: 1 Counts: 195 Avg. H-bonds: 3.5794871794871796 Avg. RMSD: 0.5113919\n"
     ]
    },
    {
     "name": "stderr",
     "output_type": "stream",
     "text": [
      "\n",
      "100%|██████████| 227/227 [00:00<00:00, 1233.44it/s]\n",
      "100%|██████████| 72/72 [00:00<00:00, 1212.65it/s]\n"
     ]
    },
    {
     "name": "stdout",
     "output_type": "stream",
     "text": [
      "Label: 2 Counts: 227 Avg. H-bonds: 3.5330396475770924 Avg. RMSD: 0.81115675\n"
     ]
    },
    {
     "name": "stderr",
     "output_type": "stream",
     "text": [
      "100%|██████████| 178/178 [00:00<00:00, 1135.45it/s]"
     ]
    },
    {
     "name": "stdout",
     "output_type": "stream",
     "text": [
      "Label: 3 Counts: 72 Avg. H-bonds: 3.4722222222222223 Avg. RMSD: 0.86439526\n"
     ]
    },
    {
     "name": "stderr",
     "output_type": "stream",
     "text": [
      "\n",
      " 40%|███▉      | 122/306 [00:00<00:00, 1213.64it/s]"
     ]
    },
    {
     "name": "stdout",
     "output_type": "stream",
     "text": [
      "Label: 4 Counts: 178 Avg. H-bonds: 3.3820224719101124 Avg. RMSD: 0.7851142\n"
     ]
    },
    {
     "name": "stderr",
     "output_type": "stream",
     "text": [
      "100%|██████████| 306/306 [00:00<00:00, 1310.36it/s]\n",
      " 46%|████▋     | 122/263 [00:00<00:00, 1218.26it/s]"
     ]
    },
    {
     "name": "stdout",
     "output_type": "stream",
     "text": [
      "Label: 5 Counts: 306 Avg. H-bonds: 3.366013071895425 Avg. RMSD: 0.950223\n"
     ]
    },
    {
     "name": "stderr",
     "output_type": "stream",
     "text": [
      "100%|██████████| 263/263 [00:00<00:00, 1256.90it/s]\n",
      " 58%|█████▊    | 121/207 [00:00<00:00, 1202.95it/s]"
     ]
    },
    {
     "name": "stdout",
     "output_type": "stream",
     "text": [
      "Label: 6 Counts: 263 Avg. H-bonds: 3.3307984790874525 Avg. RMSD: 0.80351806\n"
     ]
    },
    {
     "name": "stderr",
     "output_type": "stream",
     "text": [
      "100%|██████████| 207/207 [00:00<00:00, 1210.59it/s]\n",
      "100%|██████████| 168/168 [00:00<00:00, 1198.84it/s]\n"
     ]
    },
    {
     "name": "stdout",
     "output_type": "stream",
     "text": [
      "Label: 7 Counts: 207 Avg. H-bonds: 3.3816425120772946 Avg. RMSD: 0.93201536\n",
      "Label: 8 Counts: 168 Avg. H-bonds: 3.4345238095238093 Avg. RMSD: 0.81808996\n"
     ]
    },
    {
     "name": "stderr",
     "output_type": "stream",
     "text": [
      "100%|██████████| 417/417 [00:00<00:00, 1420.66it/s]\n",
      "100%|██████████| 185/185 [00:00<00:00, 1198.04it/s]\n"
     ]
    },
    {
     "name": "stdout",
     "output_type": "stream",
     "text": [
      "Label: 9 Counts: 417 Avg. H-bonds: 3.369304556354916 Avg. RMSD: 0.9190063\n",
      "Label: 10 Counts: 185 Avg. H-bonds: 3.324324324324324 Avg. RMSD: 0.73026437\n"
     ]
    },
    {
     "name": "stderr",
     "output_type": "stream",
     "text": [
      "100%|██████████| 434/434 [00:00<00:00, 1465.62it/s]\n",
      " 54%|█████▎    | 121/226 [00:00<00:00, 1204.33it/s]"
     ]
    },
    {
     "name": "stdout",
     "output_type": "stream",
     "text": [
      "Label: 11 Counts: 434 Avg. H-bonds: 3.391705069124424 Avg. RMSD: 0.9042298\n"
     ]
    },
    {
     "name": "stderr",
     "output_type": "stream",
     "text": [
      "100%|██████████| 226/226 [00:00<00:00, 1215.88it/s]\n",
      "100%|██████████| 163/163 [00:00<00:00, 1221.20it/s]\n"
     ]
    },
    {
     "name": "stdout",
     "output_type": "stream",
     "text": [
      "Label: 12 Counts: 226 Avg. H-bonds: 3.4469026548672566 Avg. RMSD: 0.821988\n",
      "Label: 13 Counts: 163 Avg. H-bonds: 3.3067484662576687 Avg. RMSD: 0.88395596\n"
     ]
    },
    {
     "name": "stderr",
     "output_type": "stream",
     "text": [
      "100%|██████████| 283/283 [00:00<00:00, 1319.54it/s]\n"
     ]
    },
    {
     "name": "stdout",
     "output_type": "stream",
     "text": [
      "Label: 14 Counts: 283 Avg. H-bonds: 3.363957597173145 Avg. RMSD: 0.9441235\n"
     ]
    },
    {
     "name": "stderr",
     "output_type": "stream",
     "text": [
      "100%|██████████| 132/132 [00:00<00:00, 1830.13it/s]\n",
      "  0%|          | 0/363 [00:00<?, ?it/s]"
     ]
    },
    {
     "name": "stdout",
     "output_type": "stream",
     "text": [
      "Temperature: 30 Silhouette Score: 0.12169226204321792\n",
      "Label: 0 Counts: 132 Avg. H-bonds: 3.265151515151515 Avg. RMSD: 0.5821187\n"
     ]
    },
    {
     "name": "stderr",
     "output_type": "stream",
     "text": [
      "100%|██████████| 363/363 [00:00<00:00, 1296.90it/s]\n",
      " 27%|██▋       | 106/391 [00:00<00:00, 1053.05it/s]"
     ]
    },
    {
     "name": "stdout",
     "output_type": "stream",
     "text": [
      "Label: 1 Counts: 363 Avg. H-bonds: 3.330578512396694 Avg. RMSD: 0.9500013\n"
     ]
    },
    {
     "name": "stderr",
     "output_type": "stream",
     "text": [
      "100%|██████████| 391/391 [00:00<00:00, 1367.49it/s]\n",
      "100%|██████████| 211/211 [00:00<00:00, 1246.51it/s]\n"
     ]
    },
    {
     "name": "stdout",
     "output_type": "stream",
     "text": [
      "Label: 2 Counts: 391 Avg. H-bonds: 3.3887468030690537 Avg. RMSD: 0.9058677\n",
      "Label: 3 Counts:"
     ]
    },
    {
     "name": "stderr",
     "output_type": "stream",
     "text": [
      "100%|██████████| 53/53 [00:00<00:00, 1096.20it/s]\n",
      "  0%|          | 0/232 [00:00<?, ?it/s]"
     ]
    },
    {
     "name": "stdout",
     "output_type": "stream",
     "text": [
      " 211 Avg. H-bonds: 3.3838862559241707 Avg. RMSD: 0.83255726\n",
      "Label: 4 Counts: 53 Avg. H-bonds: 3.3773584905660377 Avg. RMSD: 0.83281046\n"
     ]
    },
    {
     "name": "stderr",
     "output_type": "stream",
     "text": [
      "100%|██████████| 232/232 [00:00<00:00, 1180.50it/s]\n"
     ]
    },
    {
     "name": "stdout",
     "output_type": "stream",
     "text": [
      "Label: 5 Counts: 232 Avg. H-bonds: 3.3448275862068964 Avg. RMSD: 0.9179869\n"
     ]
    },
    {
     "name": "stderr",
     "output_type": "stream",
     "text": [
      "100%|██████████| 170/170 [00:00<00:00, 1814.28it/s]\n",
      " 36%|███▌      | 119/330 [00:00<00:00, 1185.39it/s]"
     ]
    },
    {
     "name": "stdout",
     "output_type": "stream",
     "text": [
      "Label: 6 Counts: 170 Avg. H-bonds: 3.447058823529412 Avg. RMSD: 0.8935387\n"
     ]
    },
    {
     "name": "stderr",
     "output_type": "stream",
     "text": [
      "100%|██████████| 330/330 [00:00<00:00, 1333.66it/s]\n",
      " 55%|█████▍    | 126/230 [00:00<00:00, 1251.06it/s]"
     ]
    },
    {
     "name": "stdout",
     "output_type": "stream",
     "text": [
      "Label: 7 Counts: 330 Avg. H-bonds: 3.306060606060606 Avg. RMSD: 0.91486084\n"
     ]
    },
    {
     "name": "stderr",
     "output_type": "stream",
     "text": [
      "100%|██████████| 230/230 [00:00<00:00, 1262.17it/s]\n",
      " 43%|████▎     | 114/265 [00:00<00:00, 1135.72it/s]"
     ]
    },
    {
     "name": "stdout",
     "output_type": "stream",
     "text": [
      "Label: 8 Counts: 230 Avg. H-bonds: 3.4695652173913043 Avg. RMSD: 0.8579879\n"
     ]
    },
    {
     "name": "stderr",
     "output_type": "stream",
     "text": [
      "100%|██████████| 265/265 [00:00<00:00, 1263.79it/s]\n",
      " 49%|████▉     | 124/253 [00:00<00:00, 1232.85it/s]"
     ]
    },
    {
     "name": "stdout",
     "output_type": "stream",
     "text": [
      "Label: 9 Counts: 265 Avg. H-bonds: 3.430188679245283 Avg. RMSD: 0.80073327\n"
     ]
    },
    {
     "name": "stderr",
     "output_type": "stream",
     "text": [
      "100%|██████████| 253/253 [00:00<00:00, 1264.39it/s]\n",
      "100%|██████████| 188/188 [00:00<00:00, 1109.85it/s]"
     ]
    },
    {
     "name": "stdout",
     "output_type": "stream",
     "text": [
      "Label: 10 Counts: 253 Avg. H-bonds: 3.4426877470355732 Avg. RMSD: 0.928209\n"
     ]
    },
    {
     "name": "stderr",
     "output_type": "stream",
     "text": [
      "\n",
      " 48%|████▊     | 108/225 [00:00<00:00, 1078.26it/s]"
     ]
    },
    {
     "name": "stdout",
     "output_type": "stream",
     "text": [
      "Label: 11 Counts: 188 Avg. H-bonds: 3.5 Avg. RMSD: 0.8417967\n"
     ]
    },
    {
     "name": "stderr",
     "output_type": "stream",
     "text": [
      "100%|██████████| 225/225 [00:00<00:00, 1161.86it/s]\n",
      "100%|██████████| 204/204 [00:00<00:00, 1219.52it/s]\n"
     ]
    },
    {
     "name": "stdout",
     "output_type": "stream",
     "text": [
      "Label: 12 Counts: 225 Avg. H-bonds: 3.4044444444444446 Avg. RMSD: 0.5594537\n",
      "Label: 13 Counts: 204"
     ]
    },
    {
     "name": "stderr",
     "output_type": "stream",
     "text": [
      " 33%|███▎      | 120/361 [00:00<00:00, 1195.90it/s]"
     ]
    },
    {
     "name": "stdout",
     "output_type": "stream",
     "text": [
      " Avg. H-bonds: 3.3970588235294117 Avg. RMSD: 0.79134053\n"
     ]
    },
    {
     "name": "stderr",
     "output_type": "stream",
     "text": [
      "100%|██████████| 361/361 [00:00<00:00, 1405.17it/s]\n"
     ]
    },
    {
     "name": "stdout",
     "output_type": "stream",
     "text": [
      "Label: 14 Counts: 361 Avg. H-bonds: 3.4321329639889195 Avg. RMSD: 0.9246123\n"
     ]
    },
    {
     "name": "stderr",
     "output_type": "stream",
     "text": [
      "100%|██████████| 175/175 [00:00<00:00, 1648.66it/s]\n",
      "  0%|          | 0/98 [00:00<?, ?it/s]"
     ]
    },
    {
     "name": "stdout",
     "output_type": "stream",
     "text": [
      "Temperature: 31 Silhouette Score: 0.1221931605948424\n",
      "Label: 0 Counts: 175 Avg. H-bonds: 3.3485714285714288 Avg. RMSD: 0.8891731\n"
     ]
    },
    {
     "name": "stderr",
     "output_type": "stream",
     "text": [
      "100%|██████████| 98/98 [00:00<00:00, 1110.96it/s]\n",
      " 53%|█████▎    | 123/234 [00:00<00:00, 1227.98it/s]"
     ]
    },
    {
     "name": "stdout",
     "output_type": "stream",
     "text": [
      "Label: 1 Counts: 98 Avg. H-bonds: 3.2448979591836733 Avg. RMSD: 0.5688659\n"
     ]
    },
    {
     "name": "stderr",
     "output_type": "stream",
     "text": [
      "100%|██████████| 234/234 [00:00<00:00, 1176.72it/s]\n",
      " 45%|████▌     | 106/233 [00:00<00:00, 1055.79it/s]"
     ]
    },
    {
     "name": "stdout",
     "output_type": "stream",
     "text": [
      "Label: 2 Counts: 234 Avg. H-bonds: 3.4957264957264957 Avg. RMSD: 0.80549645\n"
     ]
    },
    {
     "name": "stderr",
     "output_type": "stream",
     "text": [
      "100%|██████████| 233/233 [00:00<00:00, 1197.37it/s]\n",
      " 54%|█████▍    | 120/222 [00:00<00:00, 1199.60it/s]"
     ]
    },
    {
     "name": "stdout",
     "output_type": "stream",
     "text": [
      "Label: 3 Counts: 233 Avg. H-bonds: 3.351931330472103 Avg. RMSD: 0.581665\n"
     ]
    },
    {
     "name": "stderr",
     "output_type": "stream",
     "text": [
      "100%|██████████| 222/222 [00:00<00:00, 1199.54it/s]\n",
      " 41%|████      | 110/269 [00:00<00:00, 1091.84it/s]"
     ]
    },
    {
     "name": "stdout",
     "output_type": "stream",
     "text": [
      "Label: 4 Counts: 222 Avg. H-bonds: 3.418918918918919 Avg. RMSD: 0.955685\n"
     ]
    },
    {
     "name": "stderr",
     "output_type": "stream",
     "text": [
      "100%|██████████| 269/269 [00:00<00:00, 1208.38it/s]\n",
      " 49%|████▉     | 120/245 [00:00<00:00, 1190.73it/s]"
     ]
    },
    {
     "name": "stdout",
     "output_type": "stream",
     "text": [
      "Label: 5 Counts: 269 Avg. H-bonds: 3.3680297397769516 Avg. RMSD: 0.8958273\n"
     ]
    },
    {
     "name": "stderr",
     "output_type": "stream",
     "text": [
      "100%|██████████| 245/245 [00:00<00:00, 1247.93it/s]\n",
      " 29%|██▊       | 119/416 [00:00<00:00, 1184.30it/s]"
     ]
    },
    {
     "name": "stdout",
     "output_type": "stream",
     "text": [
      "Label: 6 Counts: 245 Avg. H-bonds: 3.4571428571428573 Avg. RMSD: 0.8027137\n"
     ]
    },
    {
     "name": "stderr",
     "output_type": "stream",
     "text": [
      "100%|██████████| 416/416 [00:00<00:00, 1422.20it/s]\n",
      "100%|██████████| 212/212 [00:00<00:00, 1220.06it/s]"
     ]
    },
    {
     "name": "stdout",
     "output_type": "stream",
     "text": [
      "Label: 7 Counts: 416 Avg. H-bonds: 3.4086538461538463 Avg. RMSD: 0.9135183\n",
      "Label: 8 Counts: 212 Avg. H-bonds: 3.4339622641509435 Avg. RMSD: 0.7096867\n"
     ]
    },
    {
     "name": "stderr",
     "output_type": "stream",
     "text": [
      "\n",
      "100%|██████████| 315/315 [00:00<00:00, 1758.33it/s]\n",
      " 31%|███       | 105/343 [00:00<00:00, 1046.55it/s]"
     ]
    },
    {
     "name": "stdout",
     "output_type": "stream",
     "text": [
      "Label: 9 Counts: 315 Avg. H-bonds: 3.3301587301587303 Avg. RMSD: 0.9309212\n"
     ]
    },
    {
     "name": "stderr",
     "output_type": "stream",
     "text": [
      "100%|██████████| 343/343 [00:00<00:00, 1291.29it/s]\n",
      "100%|██████████| 73/73 [00:00<00:00, 1227.13it/s]\n",
      "  0%|          | 0/238 [00:00<?, ?it/s]"
     ]
    },
    {
     "name": "stdout",
     "output_type": "stream",
     "text": [
      "Label: 10 Counts: 343 Avg. H-bonds: 3.4839650145772594 Avg. RMSD: 0.8724306\n",
      "Label: 11 Counts: 73 Avg. H-bonds: 3.3972602739726026 Avg. RMSD: 0.87920356\n"
     ]
    },
    {
     "name": "stderr",
     "output_type": "stream",
     "text": [
      "100%|██████████| 238/238 [00:00<00:00, 1212.67it/s]\n",
      " 40%|███▉      | 125/316 [00:00<00:00, 1246.72it/s]"
     ]
    },
    {
     "name": "stdout",
     "output_type": "stream",
     "text": [
      "Label: 12 Counts: 238 Avg. H-bonds: 3.361344537815126 Avg. RMSD: 0.9268698\n"
     ]
    },
    {
     "name": "stderr",
     "output_type": "stream",
     "text": [
      "100%|██████████| 316/316 [00:00<00:00, 1337.99it/s]\n",
      " 53%|█████▎    | 116/219 [00:00<00:00, 1153.08it/s]"
     ]
    },
    {
     "name": "stdout",
     "output_type": "stream",
     "text": [
      "Label: 13 Counts: 316 Avg. H-bonds: 3.3449367088607596 Avg. RMSD: 0.9283647\n"
     ]
    },
    {
     "name": "stderr",
     "output_type": "stream",
     "text": [
      "100%|██████████| 219/219 [00:00<00:00, 1174.83it/s]\n"
     ]
    },
    {
     "name": "stdout",
     "output_type": "stream",
     "text": [
      "Label: 14 Counts: 219 Avg. H-bonds: 3.356164383561644 Avg. RMSD: 0.93758035\n"
     ]
    },
    {
     "name": "stderr",
     "output_type": "stream",
     "text": [
      " 52%|█████▏    | 121/233 [00:00<00:00, 1199.87it/s]"
     ]
    },
    {
     "name": "stdout",
     "output_type": "stream",
     "text": [
      "Temperature: 32 Silhouette Score: 0.12953471692921747\n"
     ]
    },
    {
     "name": "stderr",
     "output_type": "stream",
     "text": [
      "100%|██████████| 233/233 [00:00<00:00, 1236.91it/s]\n",
      " 50%|█████     | 123/245 [00:00<00:00, 1227.65it/s]"
     ]
    },
    {
     "name": "stdout",
     "output_type": "stream",
     "text": [
      "Label: 0 Counts: 233 Avg. H-bonds: 3.424892703862661 Avg. RMSD: 0.6014335\n"
     ]
    },
    {
     "name": "stderr",
     "output_type": "stream",
     "text": [
      "100%|██████████| 245/245 [00:00<00:00, 1237.18it/s]\n",
      "100%|██████████| 110/110 [00:00<00:00, 1187.00it/s]\n",
      "  0%|          | 0/267 [00:00<?, ?it/s]"
     ]
    },
    {
     "name": "stdout",
     "output_type": "stream",
     "text": [
      "Label: 1 Counts: 245 Avg. H-bonds: 3.404081632653061 Avg. RMSD: 0.93350166\n",
      "Label: 2 Counts: 110 Avg. H-bonds: 3.3363636363636364 Avg. RMSD: 0.5504106\n"
     ]
    },
    {
     "name": "stderr",
     "output_type": "stream",
     "text": [
      "100%|██████████| 267/267 [00:00<00:00, 1232.22it/s]\n",
      " 35%|███▌      | 118/336 [00:00<00:00, 1178.74it/s]"
     ]
    },
    {
     "name": "stdout",
     "output_type": "stream",
     "text": [
      "Label: 3 Counts: 267 Avg. H-bonds: 3.397003745318352 Avg. RMSD: 0.81919205\n"
     ]
    },
    {
     "name": "stderr",
     "output_type": "stream",
     "text": [
      "100%|██████████| 336/336 [00:00<00:00, 1283.59it/s]\n",
      "100%|██████████| 169/169 [00:00<00:00, 1260.92it/s]\n",
      "  0%|          | 0/70 [00:00<?, ?it/s]"
     ]
    },
    {
     "name": "stdout",
     "output_type": "stream",
     "text": [
      "Label: 4 Counts: 336 Avg. H-bonds: 3.375 Avg. RMSD: 0.9225693\n",
      "Label: 5 Counts: 169 Avg. H-bonds: 3.396449704142012 Avg. RMSD: 0.9183816\n"
     ]
    },
    {
     "name": "stderr",
     "output_type": "stream",
     "text": [
      "100%|██████████| 70/70 [00:00<00:00, 1204.56it/s]\n",
      " 44%|████▎     | 121/278 [00:00<00:00, 1203.06it/s]"
     ]
    },
    {
     "name": "stdout",
     "output_type": "stream",
     "text": [
      "Label: 6 Counts: 70 Avg. H-bonds: 3.142857142857143 Avg. RMSD: 0.8655854\n"
     ]
    },
    {
     "name": "stderr",
     "output_type": "stream",
     "text": [
      "100%|██████████| 278/278 [00:00<00:00, 1316.45it/s]\n",
      " 46%|████▌     | 110/240 [00:00<00:00, 1095.65it/s]"
     ]
    },
    {
     "name": "stdout",
     "output_type": "stream",
     "text": [
      "Label: 7 Counts: 278 Avg. H-bonds: 3.4424460431654675 Avg. RMSD: 0.7385542\n"
     ]
    },
    {
     "name": "stderr",
     "output_type": "stream",
     "text": [
      "100%|██████████| 240/240 [00:00<00:00, 1204.35it/s]\n",
      "100%|██████████| 172/172 [00:00<00:00, 1237.23it/s]\n",
      "  0%|          | 0/380 [00:00<?, ?it/s]"
     ]
    },
    {
     "name": "stdout",
     "output_type": "stream",
     "text": [
      "Label: 8 Counts: 240 Avg. H-bonds: 3.5125 Avg. RMSD: 0.79389817\n",
      "Label: 9 Counts: 172 Avg. H-bonds: 3.377906976744186 Avg. RMSD: 0.9131098\n"
     ]
    },
    {
     "name": "stderr",
     "output_type": "stream",
     "text": [
      "100%|██████████| 380/380 [00:00<00:00, 1362.54it/s]\n",
      " 36%|███▌      | 119/332 [00:00<00:00, 1185.24it/s]"
     ]
    },
    {
     "name": "stdout",
     "output_type": "stream",
     "text": [
      "Label: 10 Counts: 380 Avg. H-bonds: 3.444736842105263 Avg. RMSD: 0.9292461\n"
     ]
    },
    {
     "name": "stderr",
     "output_type": "stream",
     "text": [
      "100%|██████████| 332/332 [00:00<00:00, 1352.45it/s]\n"
     ]
    },
    {
     "name": "stdout",
     "output_type": "stream",
     "text": [
      "Label: 11 Counts: 332 Avg. H-bonds: 3.3042168674698793 Avg. RMSD: 0.9306568\n"
     ]
    },
    {
     "name": "stderr",
     "output_type": "stream",
     "text": [
      "100%|██████████| 214/214 [00:00<00:00, 1849.47it/s]\n",
      " 48%|████▊     | 122/255 [00:00<00:00, 1216.26it/s]"
     ]
    },
    {
     "name": "stdout",
     "output_type": "stream",
     "text": [
      "Label: 12 Counts: 214 Avg. H-bonds: 3.369158878504673 Avg. RMSD: 0.91791093\n"
     ]
    },
    {
     "name": "stderr",
     "output_type": "stream",
     "text": [
      "100%|██████████| 255/255 [00:00<00:00, 1281.91it/s]\n",
      " 33%|███▎      | 100/307 [00:00<00:00, 997.18it/s]"
     ]
    },
    {
     "name": "stdout",
     "output_type": "stream",
     "text": [
      "Label: 13 Counts: 255 Avg. H-bonds: 3.384313725490196 Avg. RMSD: 0.91739607\n"
     ]
    },
    {
     "name": "stderr",
     "output_type": "stream",
     "text": [
      "100%|██████████| 307/307 [00:00<00:00, 1230.32it/s]\n"
     ]
    },
    {
     "name": "stdout",
     "output_type": "stream",
     "text": [
      "Label: 14 Counts: 307 Avg. H-bonds: 3.3876221498371337 Avg. RMSD: 0.92658794\n",
      "Temperature: 33 Silhouette Score: 0.11655462918993145\n"
     ]
    },
    {
     "name": "stderr",
     "output_type": "stream",
     "text": [
      "100%|██████████| 230/230 [00:00<00:00, 1840.72it/s]\n",
      "100%|██████████| 147/147 [00:00<00:00, 1251.15it/s]\n",
      "  0%|          | 0/421 [00:00<?, ?it/s]"
     ]
    },
    {
     "name": "stdout",
     "output_type": "stream",
     "text": [
      "Label: 0 Counts: 230 Avg. H-bonds: 3.2869565217391306 Avg. RMSD: 0.92837924\n",
      "Label: 1 Counts: 147 Avg. H-bonds: 3.496598639455782 Avg. RMSD: 0.8413849\n"
     ]
    },
    {
     "name": "stderr",
     "output_type": "stream",
     "text": [
      "100%|██████████| 421/421 [00:00<00:00, 1372.00it/s]\n",
      "100%|██████████| 203/203 [00:00<00:00, 1190.88it/s]\n"
     ]
    },
    {
     "name": "stdout",
     "output_type": "stream",
     "text": [
      "Label: 2 Counts: 421 Avg. H-bonds: 3.4299287410926365 Avg. RMSD: 0.89686376\n"
     ]
    },
    {
     "name": "stderr",
     "output_type": "stream",
     "text": [
      " 36%|███▌      | 113/317 [00:00<00:00, 1127.65it/s]"
     ]
    },
    {
     "name": "stdout",
     "output_type": "stream",
     "text": [
      "Label: 3 Counts: 203 Avg. H-bonds: 3.394088669950739 Avg. RMSD: 0.84193355\n"
     ]
    },
    {
     "name": "stderr",
     "output_type": "stream",
     "text": [
      "100%|██████████| 317/317 [00:00<00:00, 1295.30it/s]\n",
      " 36%|███▌      | 112/314 [00:00<00:00, 1112.05it/s]"
     ]
    },
    {
     "name": "stdout",
     "output_type": "stream",
     "text": [
      "Label: 4 Counts: 317 Avg. H-bonds: 3.3470031545741326 Avg. RMSD: 0.9120605\n"
     ]
    },
    {
     "name": "stderr",
     "output_type": "stream",
     "text": [
      "100%|██████████| 314/314 [00:00<00:00, 1312.81it/s]\n",
      " 40%|███▉      | 124/313 [00:00<00:00, 1232.78it/s]"
     ]
    },
    {
     "name": "stdout",
     "output_type": "stream",
     "text": [
      "Label: 5 Counts: 314 Avg. H-bonds: 3.426751592356688 Avg. RMSD: 0.9333287\n"
     ]
    },
    {
     "name": "stderr",
     "output_type": "stream",
     "text": [
      "100%|██████████| 313/313 [00:00<00:00, 1333.20it/s]\n",
      "100%|██████████| 82/82 [00:00<00:00, 1228.70it/s]\n",
      "  0%|          | 0/213 [00:00<?, ?it/s]"
     ]
    },
    {
     "name": "stdout",
     "output_type": "stream",
     "text": [
      "Label: 6 Counts: 313 Avg. H-bonds: 3.3482428115015974 Avg. RMSD: 0.9025572\n",
      "Label: 7 Counts: 82 Avg. H-bonds: 3.3658536585365852 Avg. RMSD: 0.8987657\n"
     ]
    },
    {
     "name": "stderr",
     "output_type": "stream",
     "text": [
      "100%|██████████| 213/213 [00:00<00:00, 1163.41it/s]\n",
      " 45%|████▌     | 127/281 [00:00<00:00, 1261.28it/s]"
     ]
    },
    {
     "name": "stdout",
     "output_type": "stream",
     "text": [
      "Label: 8 Counts: 213 Avg. H-bonds: 3.375586854460094 Avg. RMSD: 0.9079048\n"
     ]
    },
    {
     "name": "stderr",
     "output_type": "stream",
     "text": [
      "100%|██████████| 281/281 [00:00<00:00, 1249.04it/s]\n",
      " 25%|██▍       | 55/223 [00:00<00:00, 545.62it/s]"
     ]
    },
    {
     "name": "stdout",
     "output_type": "stream",
     "text": [
      "Label: 9 Counts: 281 Avg. H-bonds: 3.4412811387900355 Avg. RMSD: 0.95063907\n"
     ]
    },
    {
     "name": "stderr",
     "output_type": "stream",
     "text": [
      "100%|██████████| 223/223 [00:00<00:00, 778.97it/s]\n",
      "100%|██████████| 192/192 [00:00<00:00, 1216.14it/s]"
     ]
    },
    {
     "name": "stdout",
     "output_type": "stream",
     "text": [
      "Label: 10 Counts: 223 Avg. H-bonds: 3.497757847533632 Avg. RMSD: 0.8222587\n",
      "Label: 11 Counts: 192 Avg. H-bonds: 3.2083333333333335 Avg. RMSD: 0.5778666\n"
     ]
    },
    {
     "name": "stderr",
     "output_type": "stream",
     "text": [
      "\n",
      "100%|██████████| 137/137 [00:00<00:00, 1127.96it/s]\n",
      " 39%|███▊      | 112/290 [00:00<00:00, 1115.73it/s]"
     ]
    },
    {
     "name": "stdout",
     "output_type": "stream",
     "text": [
      "Label: 12 Counts: 137 Avg. H-bonds: 3.3503649635036497 Avg. RMSD: 0.6024811\n"
     ]
    },
    {
     "name": "stderr",
     "output_type": "stream",
     "text": [
      "100%|██████████| 290/290 [00:00<00:00, 1237.55it/s]\n",
      " 58%|█████▊    | 142/245 [00:00<00:00, 1412.14it/s]"
     ]
    },
    {
     "name": "stdout",
     "output_type": "stream",
     "text": [
      "Label: 13 Counts: 290 Avg. H-bonds: 3.3620689655172415 Avg. RMSD: 0.73330164\n"
     ]
    },
    {
     "name": "stderr",
     "output_type": "stream",
     "text": [
      "100%|██████████| 245/245 [00:00<00:00, 1303.58it/s]\n"
     ]
    },
    {
     "name": "stdout",
     "output_type": "stream",
     "text": [
      "Label: 14 Counts: 245 Avg. H-bonds: 3.5306122448979593 Avg. RMSD: 0.92603433\n"
     ]
    },
    {
     "name": "stderr",
     "output_type": "stream",
     "text": [
      "100%|██████████| 287/287 [00:00<00:00, 1868.60it/s]"
     ]
    },
    {
     "name": "stdout",
     "output_type": "stream",
     "text": [
      "Temperature: 34 Silhouette Score: 0.11125508873663162\n",
      "Label: 0 Counts: 287 Avg. H-bonds: 3.3763066202090593 Avg. RMSD: 0.7984859\n"
     ]
    },
    {
     "name": "stderr",
     "output_type": "stream",
     "text": [
      "\n",
      "100%|██████████| 346/346 [00:00<00:00, 1397.03it/s]\n",
      " 40%|███▉      | 104/263 [00:00<00:00, 1035.81it/s]"
     ]
    },
    {
     "name": "stdout",
     "output_type": "stream",
     "text": [
      "Label: 1 Counts: 346 Avg. H-bonds: 3.341040462427746 Avg. RMSD: 0.9288167\n"
     ]
    },
    {
     "name": "stderr",
     "output_type": "stream",
     "text": [
      "100%|██████████| 263/263 [00:00<00:00, 1159.19it/s]\n"
     ]
    },
    {
     "name": "stdout",
     "output_type": "stream",
     "text": [
      "Label: 2 Counts: 263 Avg. H-bonds: 3.4372623574144487 Avg. RMSD: 0.9452049\n"
     ]
    },
    {
     "name": "stderr",
     "output_type": "stream",
     "text": [
      "100%|██████████| 292/292 [00:00<00:00, 1834.58it/s]\n",
      " 24%|██▍       | 120/492 [00:00<00:00, 1196.87it/s]"
     ]
    },
    {
     "name": "stdout",
     "output_type": "stream",
     "text": [
      "Label: 3 Counts: 292 Avg. H-bonds: 3.4280821917808217 Avg. RMSD: 0.8998008\n"
     ]
    },
    {
     "name": "stderr",
     "output_type": "stream",
     "text": [
      "100%|██████████| 492/492 [00:00<00:00, 1449.93it/s]\n",
      "100%|██████████| 199/199 [00:00<00:00, 1187.28it/s]"
     ]
    },
    {
     "name": "stdout",
     "output_type": "stream",
     "text": [
      "Label: 4 Counts: 492 Avg. H-bonds: 3.3841463414634148 Avg. RMSD: 0.95684093\n"
     ]
    },
    {
     "name": "stderr",
     "output_type": "stream",
     "text": [
      "\n",
      "100%|██████████| 27/27 [00:00<00:00, 1264.90it/s]\n",
      " 72%|███████▏  | 125/173 [00:00<00:00, 1242.76it/s]"
     ]
    },
    {
     "name": "stdout",
     "output_type": "stream",
     "text": [
      "Label: 5 Counts: 199 Avg. H-bonds: 3.442211055276382 Avg. RMSD: 0.75823295\n",
      "Label: 6 Counts: 27 Avg. H-bonds: 3.4814814814814814 Avg. RMSD: 0.8219647\n"
     ]
    },
    {
     "name": "stderr",
     "output_type": "stream",
     "text": [
      "100%|██████████| 173/173 [00:00<00:00, 1215.86it/s]\n",
      " 54%|█████▍    | 116/214 [00:00<00:00, 1157.76it/s]"
     ]
    },
    {
     "name": "stdout",
     "output_type": "stream",
     "text": [
      "Label: 7 Counts: 173 Avg. H-bonds: 3.445086705202312 Avg. RMSD: 0.9041439\n"
     ]
    },
    {
     "name": "stderr",
     "output_type": "stream",
     "text": [
      "100%|██████████| 214/214 [00:00<00:00, 1183.58it/s]\n",
      " 48%|████▊     | 114/238 [00:00<00:00, 1130.91it/s]"
     ]
    },
    {
     "name": "stdout",
     "output_type": "stream",
     "text": [
      "Label: 8 Counts: 214 Avg. H-bonds: 3.303738317757009 Avg. RMSD: 0.7902493\n"
     ]
    },
    {
     "name": "stderr",
     "output_type": "stream",
     "text": [
      "100%|██████████| 238/238 [00:00<00:00, 1191.44it/s]\n",
      "100%|██████████| 183/183 [00:00<00:00, 1150.09it/s]\n"
     ]
    },
    {
     "name": "stdout",
     "output_type": "stream",
     "text": [
      "Label: 9 Counts: 238 Avg. H-bonds: 3.4327731092436973 Avg. RMSD: 0.6160635\n",
      "Label: 10 Counts: 183 Avg. H-bonds: 3.4371584699453552 Avg. RMSD: 0.85057586\n"
     ]
    },
    {
     "name": "stderr",
     "output_type": "stream",
     "text": [
      "100%|██████████| 364/364 [00:00<00:00, 1405.25it/s]\n",
      "100%|██████████| 144/144 [00:00<00:00, 1222.69it/s]\n",
      "  0%|          | 0/97 [00:00<?, ?it/s]"
     ]
    },
    {
     "name": "stdout",
     "output_type": "stream",
     "text": [
      "Label: 11 Counts: 364 Avg. H-bonds: 3.357142857142857 Avg. RMSD: 0.9102899\n",
      "Label: 12 Counts: 144 Avg. H-bonds: 3.2152777777777777 Avg. RMSD: 0.94001985\n"
     ]
    },
    {
     "name": "stderr",
     "output_type": "stream",
     "text": [
      "100%|██████████| 97/97 [00:00<00:00, 1071.53it/s]\n",
      " 37%|███▋      | 107/289 [00:00<00:00, 1064.57it/s]"
     ]
    },
    {
     "name": "stdout",
     "output_type": "stream",
     "text": [
      "Label: 13 Counts: 97 Avg. H-bonds: 3.3711340206185567 Avg. RMSD: 0.58064634\n"
     ]
    },
    {
     "name": "stderr",
     "output_type": "stream",
     "text": [
      "100%|██████████| 289/289 [00:00<00:00, 1240.39it/s]\n"
     ]
    },
    {
     "name": "stdout",
     "output_type": "stream",
     "text": [
      "Label: 14 Counts: 289 Avg. H-bonds: 3.4948096885813147 Avg. RMSD: 0.93513465\n"
     ]
    },
    {
     "name": "stderr",
     "output_type": "stream",
     "text": [
      " 60%|██████    | 172/285 [00:00<00:00, 1713.22it/s]"
     ]
    },
    {
     "name": "stdout",
     "output_type": "stream",
     "text": [
      "Temperature: 35 Silhouette Score: 0.11857677872696795\n"
     ]
    },
    {
     "name": "stderr",
     "output_type": "stream",
     "text": [
      "100%|██████████| 285/285 [00:00<00:00, 1668.93it/s]\n",
      " 40%|████      | 127/314 [00:00<00:00, 1261.77it/s]"
     ]
    },
    {
     "name": "stdout",
     "output_type": "stream",
     "text": [
      "Label: 0 Counts: 285 Avg. H-bonds: 3.354385964912281 Avg. RMSD: 0.8358171\n"
     ]
    },
    {
     "name": "stderr",
     "output_type": "stream",
     "text": [
      "100%|██████████| 314/314 [00:00<00:00, 1365.69it/s]\n",
      "100%|██████████| 78/78 [00:00<00:00, 1249.81it/s]\n",
      "  0%|          | 0/279 [00:00<?, ?it/s]"
     ]
    },
    {
     "name": "stdout",
     "output_type": "stream",
     "text": [
      "Label: 1 Counts: 314 Avg. H-bonds: 3.3152866242038215 Avg. RMSD: 0.90323365\n",
      "Label: 2 Counts: 78 Avg. H-bonds: 3.3846153846153846 Avg. RMSD: 0.88221675\n"
     ]
    },
    {
     "name": "stderr",
     "output_type": "stream",
     "text": [
      "100%|██████████| 279/279 [00:00<00:00, 1345.67it/s]\n",
      "100%|██████████| 77/77 [00:00<00:00, 1211.14it/s]\n",
      "  0%|          | 0/176 [00:00<?, ?it/s]"
     ]
    },
    {
     "name": "stdout",
     "output_type": "stream",
     "text": [
      "Label: 3 Counts: 279 Avg. H-bonds: 3.4336917562724016 Avg. RMSD: 0.8927476\n",
      "Label: 4 Counts: 77 Avg. H-bonds: 3.324675324675325 Avg. RMSD: 0.5096036\n"
     ]
    },
    {
     "name": "stderr",
     "output_type": "stream",
     "text": [
      "100%|██████████| 176/176 [00:00<00:00, 1207.15it/s]\n"
     ]
    },
    {
     "name": "stdout",
     "output_type": "stream",
     "text": [
      "Label: 5 Counts: 176 Avg. H-bonds: 3.340909090909091 Avg. RMSD: 0.9232563\n"
     ]
    },
    {
     "name": "stderr",
     "output_type": "stream",
     "text": [
      "100%|██████████| 262/262 [00:00<00:00, 1797.41it/s]\n",
      " 34%|███▍      | 117/345 [00:00<00:00, 1165.45it/s]"
     ]
    },
    {
     "name": "stdout",
     "output_type": "stream",
     "text": [
      "Label: 6 Counts: 262 Avg. H-bonds: 3.4732824427480917 Avg. RMSD: 0.72086483\n"
     ]
    },
    {
     "name": "stderr",
     "output_type": "stream",
     "text": [
      "100%|██████████| 345/345 [00:00<00:00, 1349.12it/s]\n",
      " 45%|████▍     | 111/249 [00:00<00:00, 1105.71it/s]"
     ]
    },
    {
     "name": "stdout",
     "output_type": "stream",
     "text": [
      "Label: 7 Counts: 345 Avg. H-bonds: 3.3594202898550725 Avg. RMSD: 0.9019521\n"
     ]
    },
    {
     "name": "stderr",
     "output_type": "stream",
     "text": [
      "100%|██████████| 249/249 [00:00<00:00, 1192.41it/s]\n",
      " 54%|█████▎    | 127/237 [00:00<00:00, 1260.53it/s]"
     ]
    },
    {
     "name": "stdout",
     "output_type": "stream",
     "text": [
      "Label: 8 Counts: 249 Avg. H-bonds: 3.281124497991968 Avg. RMSD: 0.88662785\n"
     ]
    },
    {
     "name": "stderr",
     "output_type": "stream",
     "text": [
      "100%|██████████| 237/237 [00:00<00:00, 1286.35it/s]\n",
      " 43%|████▎     | 117/273 [00:00<00:00, 1164.90it/s]"
     ]
    },
    {
     "name": "stdout",
     "output_type": "stream",
     "text": [
      "Label: 9 Counts: 237 Avg. H-bonds: 3.3966244725738397 Avg. RMSD: 0.9367113\n"
     ]
    },
    {
     "name": "stderr",
     "output_type": "stream",
     "text": [
      "100%|██████████| 273/273 [00:00<00:00, 1189.94it/s]\n",
      " 57%|█████▋    | 119/207 [00:00<00:00, 1183.97it/s]"
     ]
    },
    {
     "name": "stdout",
     "output_type": "stream",
     "text": [
      "Label: 10 Counts: 273 Avg. H-bonds: 3.2673992673992673 Avg. RMSD: 0.68837476\n"
     ]
    },
    {
     "name": "stderr",
     "output_type": "stream",
     "text": [
      "100%|██████████| 207/207 [00:00<00:00, 1129.47it/s]\n",
      " 54%|█████▍    | 119/220 [00:00<00:00, 1189.62it/s]"
     ]
    },
    {
     "name": "stdout",
     "output_type": "stream",
     "text": [
      "Label: 11 Counts: 207 Avg. H-bonds: 3.4106280193236715 Avg. RMSD: 0.80062336\n"
     ]
    },
    {
     "name": "stderr",
     "output_type": "stream",
     "text": [
      "100%|██████████| 220/220 [00:00<00:00, 1218.64it/s]\n",
      " 39%|███▉      | 121/311 [00:00<00:00, 1201.21it/s]"
     ]
    },
    {
     "name": "stdout",
     "output_type": "stream",
     "text": [
      "Label: 12 Counts: 220 Avg. H-bonds: 3.6136363636363638 Avg. RMSD: 0.9189628\n"
     ]
    },
    {
     "name": "stderr",
     "output_type": "stream",
     "text": [
      "100%|██████████| 311/311 [00:00<00:00, 1334.41it/s]\n",
      " 42%|████▏     | 123/295 [00:00<00:00, 1228.98it/s]"
     ]
    },
    {
     "name": "stdout",
     "output_type": "stream",
     "text": [
      "Label: 13 Counts: 311 Avg. H-bonds: 3.469453376205788 Avg. RMSD: 0.9449499\n"
     ]
    },
    {
     "name": "stderr",
     "output_type": "stream",
     "text": [
      "100%|██████████| 295/295 [00:00<00:00, 1322.47it/s]\n"
     ]
    },
    {
     "name": "stdout",
     "output_type": "stream",
     "text": [
      "Label: 14 Counts: 295 Avg. H-bonds: 3.454237288135593 Avg. RMSD: 0.90464526\n"
     ]
    },
    {
     "name": "stderr",
     "output_type": "stream",
     "text": [
      "100%|██████████| 249/249 [00:00<00:00, 1813.60it/s]"
     ]
    },
    {
     "name": "stdout",
     "output_type": "stream",
     "text": [
      "Temperature: 36 Silhouette Score: 0.11326977014682742\n",
      "Label: 0 Counts: 249 Avg. H-bonds: 3.4538152610441766 Avg. RMSD: 0.9378839\n"
     ]
    },
    {
     "name": "stderr",
     "output_type": "stream",
     "text": [
      "\n",
      "100%|██████████| 277/277 [00:00<00:00, 1289.23it/s]\n",
      " 40%|████      | 112/279 [00:00<00:00, 1112.32it/s]"
     ]
    },
    {
     "name": "stdout",
     "output_type": "stream",
     "text": [
      "Label: 1 Counts: 277 Avg. H-bonds: 3.411552346570397 Avg. RMSD: 0.6955282\n"
     ]
    },
    {
     "name": "stderr",
     "output_type": "stream",
     "text": [
      "100%|██████████| 279/279 [00:00<00:00, 1263.67it/s]\n",
      " 47%|████▋     | 125/267 [00:00<00:00, 1244.14it/s]"
     ]
    },
    {
     "name": "stdout",
     "output_type": "stream",
     "text": [
      "Label: 2 Counts: 279 Avg. H-bonds: 3.2652329749103943 Avg. RMSD: 0.6803048\n"
     ]
    },
    {
     "name": "stderr",
     "output_type": "stream",
     "text": [
      "100%|██████████| 267/267 [00:00<00:00, 1243.24it/s]\n",
      " 33%|███▎      | 117/357 [00:00<00:00, 1169.93it/s]"
     ]
    },
    {
     "name": "stdout",
     "output_type": "stream",
     "text": [
      "Label: 3 Counts: 267 Avg. H-bonds: 3.303370786516854 Avg. RMSD: 0.8996365\n"
     ]
    },
    {
     "name": "stderr",
     "output_type": "stream",
     "text": [
      "100%|██████████| 357/357 [00:00<00:00, 1337.53it/s]\n",
      "100%|██████████| 120/120 [00:00<00:00, 1240.51it/s]\n",
      "  0%|          | 0/213 [00:00<?, ?it/s]"
     ]
    },
    {
     "name": "stdout",
     "output_type": "stream",
     "text": [
      "Label: 4 Counts: 357 Avg. H-bonds: 3.3977591036414565 Avg. RMSD: 0.8876278\n",
      "Label: 5 Counts: 120 Avg. H-bonds: 3.3916666666666666 Avg. RMSD: 0.61537564\n"
     ]
    },
    {
     "name": "stderr",
     "output_type": "stream",
     "text": [
      "100%|██████████| 213/213 [00:00<00:00, 1198.25it/s]\n",
      "100%|██████████| 184/184 [00:00<00:00, 1151.98it/s]\n"
     ]
    },
    {
     "name": "stdout",
     "output_type": "stream",
     "text": [
      "Label: 6 Counts: 213 Avg. H-bonds: 3.483568075117371 Avg. RMSD: 0.91942555\n"
     ]
    },
    {
     "name": "stderr",
     "output_type": "stream",
     "text": [
      " 60%|█████▉    | 115/193 [00:00<00:00, 1148.97it/s]"
     ]
    },
    {
     "name": "stdout",
     "output_type": "stream",
     "text": [
      "Label: 7 Counts: 184 Avg. H-bonds: 3.3967391304347827 Avg. RMSD: 0.7987976\n"
     ]
    },
    {
     "name": "stderr",
     "output_type": "stream",
     "text": [
      "100%|██████████| 193/193 [00:00<00:00, 1142.60it/s]\n"
     ]
    },
    {
     "name": "stdout",
     "output_type": "stream",
     "text": [
      "Label: 8 Counts: 193 Avg. H-bonds: 3.305699481865285 Avg. RMSD: 0.9276499\n"
     ]
    },
    {
     "name": "stderr",
     "output_type": "stream",
     "text": [
      "100%|██████████| 345/345 [00:00<00:00, 1878.21it/s]\n",
      " 53%|█████▎    | 124/235 [00:00<00:00, 1235.73it/s]"
     ]
    },
    {
     "name": "stdout",
     "output_type": "stream",
     "text": [
      "Label: 9 Counts: 345 Avg. H-bonds: 3.527536231884058 Avg. RMSD: 0.9475476\n"
     ]
    },
    {
     "name": "stderr",
     "output_type": "stream",
     "text": [
      "100%|██████████| 235/235 [00:00<00:00, 1271.61it/s]\n",
      " 40%|████      | 99/245 [00:00<00:00, 987.00it/s]"
     ]
    },
    {
     "name": "stdout",
     "output_type": "stream",
     "text": [
      "Label: 10 Counts: 235 Avg. H-bonds: 3.370212765957447 Avg. RMSD: 0.80287695\n"
     ]
    },
    {
     "name": "stderr",
     "output_type": "stream",
     "text": [
      "100%|██████████| 245/245 [00:00<00:00, 1169.11it/s]\n",
      "100%|██████████| 102/102 [00:00<00:00, 1167.40it/s]\n",
      "  0%|          | 0/240 [00:00<?, ?it/s]"
     ]
    },
    {
     "name": "stdout",
     "output_type": "stream",
     "text": [
      "Label: 11 Counts: 245 Avg. H-bonds: 3.3959183673469386 Avg. RMSD: 0.8504068\n",
      "Label: 12 Counts: 102 Avg. H-bonds: 3.323529411764706 Avg. RMSD: 0.87986493\n"
     ]
    },
    {
     "name": "stderr",
     "output_type": "stream",
     "text": [
      "100%|██████████| 240/240 [00:00<00:00, 1230.81it/s]\n",
      " 37%|███▋      | 113/302 [00:00<00:00, 1129.69it/s]"
     ]
    },
    {
     "name": "stdout",
     "output_type": "stream",
     "text": [
      "Label: 13 Counts: 240 Avg. H-bonds: 3.4458333333333333 Avg. RMSD: 0.8884335\n"
     ]
    },
    {
     "name": "stderr",
     "output_type": "stream",
     "text": [
      "100%|██████████| 302/302 [00:00<00:00, 1282.98it/s]\n"
     ]
    },
    {
     "name": "stdout",
     "output_type": "stream",
     "text": [
      "Label: 14 Counts: 302 Avg. H-bonds: 3.3609271523178808 Avg. RMSD: 0.94013685\n"
     ]
    },
    {
     "name": "stderr",
     "output_type": "stream",
     "text": [
      "100%|██████████| 83/83 [00:00<00:00, 1781.18it/s]\n",
      "  0%|          | 0/245 [00:00<?, ?it/s]"
     ]
    },
    {
     "name": "stdout",
     "output_type": "stream",
     "text": [
      "Temperature: 37 Silhouette Score: 0.11397550864492713\n",
      "Label: 0 Counts: 83 Avg. H-bonds: 3.325301204819277 Avg. RMSD: 0.90876245\n"
     ]
    },
    {
     "name": "stderr",
     "output_type": "stream",
     "text": [
      "100%|██████████| 245/245 [00:00<00:00, 1269.19it/s]\n",
      " 46%|████▋     | 99/213 [00:00<00:00, 986.34it/s]"
     ]
    },
    {
     "name": "stdout",
     "output_type": "stream",
     "text": [
      "Label: 1 Counts: 245 Avg. H-bonds: 3.4979591836734696 Avg. RMSD: 0.929239\n"
     ]
    },
    {
     "name": "stderr",
     "output_type": "stream",
     "text": [
      "100%|██████████| 213/213 [00:00<00:00, 994.17it/s]\n",
      " 52%|█████▏    | 152/295 [00:00<00:00, 1519.60it/s]"
     ]
    },
    {
     "name": "stdout",
     "output_type": "stream",
     "text": [
      "Label: 2 Counts: 213 Avg. H-bonds: 3.516431924882629 Avg. RMSD: 0.9121052\n"
     ]
    },
    {
     "name": "stderr",
     "output_type": "stream",
     "text": [
      "100%|██████████| 295/295 [00:00<00:00, 1320.35it/s]\n",
      " 46%|████▌     | 117/256 [00:00<00:00, 1167.68it/s]"
     ]
    },
    {
     "name": "stdout",
     "output_type": "stream",
     "text": [
      "Label: 3 Counts: 295 Avg. H-bonds: 3.406779661016949 Avg. RMSD: 0.93083423\n"
     ]
    },
    {
     "name": "stderr",
     "output_type": "stream",
     "text": [
      "100%|██████████| 256/256 [00:00<00:00, 1117.86it/s]\n",
      " 43%|████▎     | 114/264 [00:00<00:00, 1133.89it/s]"
     ]
    },
    {
     "name": "stdout",
     "output_type": "stream",
     "text": [
      "Label: 4 Counts: 256 Avg. H-bonds: 3.4140625 Avg. RMSD: 0.7919667\n"
     ]
    },
    {
     "name": "stderr",
     "output_type": "stream",
     "text": [
      "100%|██████████| 264/264 [00:00<00:00, 1241.61it/s]\n",
      " 31%|███       | 105/342 [00:00<00:00, 1046.18it/s]"
     ]
    },
    {
     "name": "stdout",
     "output_type": "stream",
     "text": [
      "Label: 5 Counts: 264 Avg. H-bonds: 3.522727272727273 Avg. RMSD: 0.92605495\n"
     ]
    },
    {
     "name": "stderr",
     "output_type": "stream",
     "text": [
      "100%|██████████| 342/342 [00:00<00:00, 1302.12it/s]\n",
      "100%|██████████| 227/227 [00:00<00:00, 1278.06it/s]"
     ]
    },
    {
     "name": "stdout",
     "output_type": "stream",
     "text": [
      "Label: 6 Counts: 342 Avg. H-bonds: 3.2690058479532165 Avg. RMSD: 0.9161434\n"
     ]
    },
    {
     "name": "stderr",
     "output_type": "stream",
     "text": [
      "\n",
      " 35%|███▌      | 111/316 [00:00<00:00, 1102.41it/s]"
     ]
    },
    {
     "name": "stdout",
     "output_type": "stream",
     "text": [
      "Label: 7 Counts: 227 Avg. H-bonds: 3.290748898678414 Avg. RMSD: 0.897643\n"
     ]
    },
    {
     "name": "stderr",
     "output_type": "stream",
     "text": [
      "100%|██████████| 316/316 [00:00<00:00, 1313.58it/s]\n",
      "100%|██████████| 187/187 [00:00<00:00, 1269.44it/s]\n"
     ]
    },
    {
     "name": "stdout",
     "output_type": "stream",
     "text": [
      "Label: 8 Counts: 316 Avg. H-bonds: 3.240506329113924 Avg. RMSD: 0.68374217\n",
      "Label: 9 Counts: 187 Avg. H-bonds: 3.406417112299465 Avg. RMSD: 0.8277427\n"
     ]
    },
    {
     "name": "stderr",
     "output_type": "stream",
     "text": [
      "100%|██████████| 196/196 [00:00<00:00, 1185.69it/s]\n",
      "100%|██████████| 120/120 [00:00<00:00, 1234.56it/s]\n",
      "  0%|          | 0/260 [00:00<?, ?it/s]"
     ]
    },
    {
     "name": "stdout",
     "output_type": "stream",
     "text": [
      "Label: 10 Counts: 196 Avg. H-bonds: 3.423469387755102 Avg. RMSD: 0.93430734\n",
      "Label: 11 Counts: 120 Avg. H-bonds: 3.35 Avg. RMSD: 0.61476123\n"
     ]
    },
    {
     "name": "stderr",
     "output_type": "stream",
     "text": [
      "100%|██████████| 260/260 [00:00<00:00, 1317.37it/s]\n",
      " 55%|█████▍    | 188/343 [00:00<00:00, 1871.20it/s]"
     ]
    },
    {
     "name": "stdout",
     "output_type": "stream",
     "text": [
      "Label: 12 Counts: 260 Avg. H-bonds: 3.45 Avg. RMSD: 0.7264835\n"
     ]
    },
    {
     "name": "stderr",
     "output_type": "stream",
     "text": [
      "100%|██████████| 343/343 [00:00<00:00, 1882.04it/s]\n",
      " 48%|████▊     | 125/261 [00:00<00:00, 1245.60it/s]"
     ]
    },
    {
     "name": "stdout",
     "output_type": "stream",
     "text": [
      "Label: 13 Counts: 343 Avg. H-bonds: 3.379008746355685 Avg. RMSD: 0.89631766\n"
     ]
    },
    {
     "name": "stderr",
     "output_type": "stream",
     "text": [
      "100%|██████████| 261/261 [00:00<00:00, 1302.39it/s]\n"
     ]
    },
    {
     "name": "stdout",
     "output_type": "stream",
     "text": [
      "Label: 14 Counts: 261 Avg. H-bonds: 3.4444444444444446 Avg. RMSD: 0.85412335\n",
      "Temperature: 38 Silhouette Score: 0.11639877988315746\n"
     ]
    },
    {
     "name": "stderr",
     "output_type": "stream",
     "text": [
      "100%|██████████| 372/372 [00:00<00:00, 1736.93it/s]\n",
      "100%|██████████| 188/188 [00:00<00:00, 1133.39it/s]\n"
     ]
    },
    {
     "name": "stdout",
     "output_type": "stream",
     "text": [
      "Label: 0 Counts: 372 Avg. H-bonds: 3.35752688172043 Avg. RMSD: 0.77868026\n"
     ]
    },
    {
     "name": "stderr",
     "output_type": "stream",
     "text": [
      "100%|██████████| 256/256 [00:00<00:00, 1242.13it/s]\n",
      "100%|██████████| 142/142 [00:00<00:00, 1256.14it/s]\n",
      "  0%|          | 0/225 [00:00<?, ?it/s]"
     ]
    },
    {
     "name": "stdout",
     "output_type": "stream",
     "text": [
      "Label: 1 Counts: 188 Avg. H-bonds: 3.3297872340425534 Avg. RMSD: 0.81566775\n",
      "Label: 2 Counts: 256 Avg. H-bonds: 3.43359375 Avg. RMSD: 0.93733144\n",
      "Label: 3 Counts: 142 Avg. H-bonds: 3.3661971830985915 Avg. RMSD: 0.8406102\n"
     ]
    },
    {
     "name": "stderr",
     "output_type": "stream",
     "text": [
      "100%|██████████| 225/225 [00:00<00:00, 1215.66it/s]\n",
      "100%|██████████| 167/167 [00:00<00:00, 1082.33it/s]\n"
     ]
    },
    {
     "name": "stdout",
     "output_type": "stream",
     "text": [
      "Label: 4 Counts: 225 Avg. H-bonds: 3.408888888888889 Avg. RMSD: 0.902087\n",
      "Label: 5 Counts: 167 Avg. H-bonds: 3.407185628742515 Avg. RMSD: 0.8304646\n"
     ]
    },
    {
     "name": "stderr",
     "output_type": "stream",
     "text": [
      "100%|██████████| 77/77 [00:00<00:00, 1179.28it/s]\n",
      " 46%|████▌     | 109/238 [00:00<00:00, 1089.47it/s]"
     ]
    },
    {
     "name": "stdout",
     "output_type": "stream",
     "text": [
      "Label: 6 Counts: 77 Avg. H-bonds: 3.4415584415584415 Avg. RMSD: 0.8713397\n"
     ]
    },
    {
     "name": "stderr",
     "output_type": "stream",
     "text": [
      "100%|██████████| 238/238 [00:00<00:00, 1189.64it/s]\n",
      " 58%|█████▊    | 107/185 [00:00<00:00, 1067.35it/s]"
     ]
    },
    {
     "name": "stdout",
     "output_type": "stream",
     "text": [
      "Label: 7 Counts: 238 Avg. H-bonds: 3.3823529411764706 Avg. RMSD: 0.7197602\n"
     ]
    },
    {
     "name": "stderr",
     "output_type": "stream",
     "text": [
      "100%|██████████| 185/185 [00:00<00:00, 1101.01it/s]\n",
      " 47%|████▋     | 125/268 [00:00<00:00, 1241.31it/s]"
     ]
    },
    {
     "name": "stdout",
     "output_type": "stream",
     "text": [
      "Label: 8 Counts: 185 Avg. H-bonds: 3.4324324324324325 Avg. RMSD: 0.84254944\n"
     ]
    },
    {
     "name": "stderr",
     "output_type": "stream",
     "text": [
      "100%|██████████| 268/268 [00:00<00:00, 1353.02it/s]\n",
      " 55%|█████▌    | 113/205 [00:00<00:00, 1126.54it/s]"
     ]
    },
    {
     "name": "stdout",
     "output_type": "stream",
     "text": [
      "Label: 9 Counts: 268 Avg. H-bonds: 3.3955223880597014 Avg. RMSD: 0.85539395\n"
     ]
    },
    {
     "name": "stderr",
     "output_type": "stream",
     "text": [
      "100%|██████████| 205/205 [00:00<00:00, 1161.38it/s]\n",
      " 36%|███▌      | 128/359 [00:00<00:00, 1277.41it/s]"
     ]
    },
    {
     "name": "stdout",
     "output_type": "stream",
     "text": [
      "Label: 10 Counts: 205 Avg. H-bonds: 3.4146341463414633 Avg. RMSD: 0.90390235\n"
     ]
    },
    {
     "name": "stderr",
     "output_type": "stream",
     "text": [
      "100%|██████████| 359/359 [00:00<00:00, 1423.53it/s]\n",
      " 31%|███       | 122/394 [00:00<00:00, 1218.76it/s]"
     ]
    },
    {
     "name": "stdout",
     "output_type": "stream",
     "text": [
      "Label: 11 Counts: 359 Avg. H-bonds: 3.467966573816156 Avg. RMSD: 0.940924\n"
     ]
    },
    {
     "name": "stderr",
     "output_type": "stream",
     "text": [
      "100%|██████████| 394/394 [00:00<00:00, 1412.98it/s]\n",
      " 53%|█████▎    | 114/215 [00:00<00:00, 1134.45it/s]"
     ]
    },
    {
     "name": "stdout",
     "output_type": "stream",
     "text": [
      "Label: 12 Counts: 394 Avg. H-bonds: 3.4213197969543145 Avg. RMSD: 0.93596196\n"
     ]
    },
    {
     "name": "stderr",
     "output_type": "stream",
     "text": [
      "100%|██████████| 215/215 [00:00<00:00, 1205.15it/s]\n",
      " 30%|███       | 96/317 [00:00<00:00, 958.11it/s]"
     ]
    },
    {
     "name": "stdout",
     "output_type": "stream",
     "text": [
      "Label: 13 Counts: 215 Avg. H-bonds: 3.4651162790697674 Avg. RMSD: 0.6965914\n"
     ]
    },
    {
     "name": "stderr",
     "output_type": "stream",
     "text": [
      "100%|██████████| 317/317 [00:00<00:00, 1274.19it/s]\n"
     ]
    },
    {
     "name": "stdout",
     "output_type": "stream",
     "text": [
      "Label: 14 Counts: 317 Avg. H-bonds: 3.230283911671924 Avg. RMSD: 0.9140351\n"
     ]
    },
    {
     "name": "stderr",
     "output_type": "stream",
     "text": [
      "100%|██████████| 208/208 [00:00<00:00, 1815.61it/s]\n",
      "  0%|          | 0/315 [00:00<?, ?it/s]"
     ]
    },
    {
     "name": "stdout",
     "output_type": "stream",
     "text": [
      "Temperature: 39 Silhouette Score: 0.10651612652528467\n",
      "Label: 0 Counts: 208 Avg. H-bonds: 3.360576923076923 Avg. RMSD: 0.9213603\n"
     ]
    },
    {
     "name": "stderr",
     "output_type": "stream",
     "text": [
      "100%|██████████| 315/315 [00:00<00:00, 1367.34it/s]\n",
      "100%|██████████| 201/201 [00:00<00:00, 1226.87it/s]\n"
     ]
    },
    {
     "name": "stdout",
     "output_type": "stream",
     "text": [
      "Label: 1 Counts: 315 Avg. H-bonds: 3.4603174603174605 Avg. RMSD: 0.90241814\n",
      "Label: 2 Counts: 201 Avg. H-bonds: 3.462686567164179 Avg. RMSD: 0.9299428\n"
     ]
    },
    {
     "name": "stderr",
     "output_type": "stream",
     "text": [
      "100%|██████████| 238/238 [00:00<00:00, 1799.78it/s]\n",
      "100%|██████████| 197/197 [00:00<00:00, 1230.23it/s]\n"
     ]
    },
    {
     "name": "stdout",
     "output_type": "stream",
     "text": [
      "Label: 3 Counts: 238 Avg. H-bonds: 3.2521008403361344 Avg. RMSD: 0.66643554\n",
      "Label: 4 Counts: 197 Avg. H-bonds: 3.482233502538071 Avg. RMSD: 0.7892238\n"
     ]
    },
    {
     "name": "stderr",
     "output_type": "stream",
     "text": [
      "100%|██████████| 300/300 [00:00<00:00, 1359.11it/s]\n",
      "100%|██████████| 32/32 [00:00<00:00, 1174.27it/s]\n",
      " 33%|███▎      | 116/349 [00:00<00:00, 1158.92it/s]"
     ]
    },
    {
     "name": "stdout",
     "output_type": "stream",
     "text": [
      "Label: 5 Counts: 300 Avg. H-bonds: 3.35 Avg. RMSD: 0.78558344\n",
      "Label: 6 Counts: 32 Avg. H-bonds: 3.4375 Avg. RMSD: 0.8429134\n"
     ]
    },
    {
     "name": "stderr",
     "output_type": "stream",
     "text": [
      "100%|██████████| 349/349 [00:00<00:00, 1361.66it/s]\n",
      " 34%|███▎      | 122/364 [00:00<00:00, 1211.57it/s]"
     ]
    },
    {
     "name": "stdout",
     "output_type": "stream",
     "text": [
      "Label: 7 Counts: 349 Avg. H-bonds: 3.432664756446991 Avg. RMSD: 0.9302819\n"
     ]
    },
    {
     "name": "stderr",
     "output_type": "stream",
     "text": [
      "100%|██████████| 364/364 [00:00<00:00, 1375.17it/s]\n",
      " 46%|████▌     | 114/248 [00:00<00:00, 1136.85it/s]"
     ]
    },
    {
     "name": "stdout",
     "output_type": "stream",
     "text": [
      "Label: 8 Counts: 364 Avg. H-bonds: 3.392857142857143 Avg. RMSD: 0.9196388\n"
     ]
    },
    {
     "name": "stderr",
     "output_type": "stream",
     "text": [
      "100%|██████████| 248/248 [00:00<00:00, 1256.18it/s]\n",
      " 32%|███▏      | 125/385 [00:00<00:00, 1247.94it/s]"
     ]
    },
    {
     "name": "stdout",
     "output_type": "stream",
     "text": [
      "Label: 9 Counts: 248 Avg. H-bonds: 3.2983870967741935 Avg. RMSD: 0.86528355\n"
     ]
    },
    {
     "name": "stderr",
     "output_type": "stream",
     "text": [
      "100%|██████████| 385/385 [00:00<00:00, 1439.08it/s]\n",
      "100%|██████████| 176/176 [00:00<00:00, 1196.00it/s]\n"
     ]
    },
    {
     "name": "stdout",
     "output_type": "stream",
     "text": [
      "Label: 10 Counts: 385 Avg. H-bonds: 3.374025974025974 Avg. RMSD: 0.89896405\n",
      "Label: 11 Counts: 176 Avg. H-bonds: 3.4431818181818183 Avg. RMSD: 0.8474985\n"
     ]
    },
    {
     "name": "stderr",
     "output_type": "stream",
     "text": [
      "100%|██████████| 246/246 [00:00<00:00, 1213.41it/s]\n",
      "100%|██████████| 145/145 [00:00<00:00, 1148.73it/s]\n"
     ]
    },
    {
     "name": "stdout",
     "output_type": "stream",
     "text": [
      "Label: 12 Counts: 246 Avg. H-bonds: 3.4471544715447155 Avg. RMSD: 0.7509969\n",
      "Label: 13 Counts: 145 Avg. H-bonds: 3.3655172413793104 Avg. RMSD: 0.92239296\n"
     ]
    },
    {
     "name": "stderr",
     "output_type": "stream",
     "text": [
      "100%|██████████| 204/204 [00:00<00:00, 1225.32it/s]"
     ]
    },
    {
     "name": "stdout",
     "output_type": "stream",
     "text": [
      "Label: 14 Counts: 204 Avg. H-bonds: 3.3970588235294117 Avg. RMSD: 0.8948451\n"
     ]
    },
    {
     "name": "stderr",
     "output_type": "stream",
     "text": [
      "\n"
     ]
    }
   ],
   "source": [
    "for i_temp in range(len(remd_trajs.trajs)):\n",
    "    \n",
    "    # Get trajectory from specific temperature\n",
    "    octamer = remd_trajs.trajs[i_temp].atom_slice(resname_selection)\n",
    "    \n",
    "    # Create RMSD matrix for comparing configurations \n",
    "    rmsd_matrix = np.zeros([octamer.n_frames]*2)\n",
    "    for i in range(octamer.n_frames):\n",
    "        rmsd_matrix[:, i] = mdtraj.rmsd(octamer, octamer[i])\n",
    "    \n",
    "    # Fit with appropriate number of clusters\n",
    "    k_clusters = 15\n",
    "    kmeans = KMeans(n_clusters=k_clusters)\n",
    "    kmeans.fit(rmsd_matrix)\n",
    "    \n",
    "    # Print silhouette score\n",
    "    avg_silhouette = silhouette_score(rmsd_matrix, kmeans.fit_predict(rmsd_matrix))\n",
    "    print(\"Temperature:\", i_temp, \"Silhouette Score:\", avg_silhouette)\n",
    "\n",
    "    \n",
    "    \n",
    "    dist_to_centroids = kmeans.transform(rmsd_matrix)\n",
    "    closest_indices = np.argmin(dist_to_centroids, axis=0)\n",
    "    \n",
    "    # Create directories as needed\n",
    "    if not os.path.isdir(\"rmsd_clustering_centroids\"):\n",
    "        os.mkdir(\"rmsd_clustering_centroids\")\n",
    "    if not os.path.isdir(os.path.join(\"rmsd_clustering_centroids\", \"temp_\" + str(i_temp))):\n",
    "        os.mkdir(os.path.join(\"rmsd_clustering_centroids\", \"temp_\" + str(i_temp)))\n",
    "    \n",
    "    # Output relevant data\n",
    "    with open(os.path.join(\"rmsd_clustering_centroids\", \"temp_\" + str(i_temp), \"data.txt\"), \"w\") as data:\n",
    "        for a, b in zip(*np.unique(kmeans.labels_, return_counts = True)):\n",
    "            indexes = np.where(kmeans.labels_ == a)\n",
    "            n_h_bonds, h_bond_ids = h_bond_finder.get_hydrogen_bonds(remd_trajs.trajs[0][indexes])\n",
    "            print(\"Label:\", a,\n",
    "                  \"Counts:\", b,\n",
    "                  \"Avg. H-bonds:\", np.average(n_h_bonds),\n",
    "                  \"Avg. RMSD:\",  np.average(mdtraj.rmsd(octamer[indexes], octamer[closest_indices[a]])))\n",
    "            data.write(\"Label: \" +  str(a) + \\\n",
    "                      \" Counts: \" +  str(b) + \\\n",
    "                      \" Avg. H-bonds: \" +  str(np.average(n_h_bonds)) + \\\n",
    "                      \" Avg. RMSD: \" + str(np.average(mdtraj.rmsd(octamer[indexes], octamer[closest_indices[a]]))) + \"\\n\")\n",
    "            # Write centroids to file\n",
    "            centroid = octamer[closest_indices[a]]\n",
    "            centroid.save(os.path.join(\"rmsd_clustering_centroids\", \"temp_\" + str(i_temp), \"centroid_\" + str(a) + \".pdb\"))"
   ]
  },
  {
   "cell_type": "code",
   "execution_count": null,
   "metadata": {},
   "outputs": [],
   "source": []
  }
 ],
 "metadata": {
  "kernelspec": {
   "display_name": "Python 3",
   "language": "python",
   "name": "python3"
  },
  "language_info": {
   "codemirror_mode": {
    "name": "ipython",
    "version": 3
   },
   "file_extension": ".py",
   "mimetype": "text/x-python",
   "name": "python",
   "nbconvert_exporter": "python",
   "pygments_lexer": "ipython3",
   "version": "3.8.3"
  }
 },
 "nbformat": 4,
 "nbformat_minor": 4
}
