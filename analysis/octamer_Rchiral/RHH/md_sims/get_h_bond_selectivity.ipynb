{
 "cells": [
  {
   "cell_type": "code",
   "execution_count": 2,
   "metadata": {},
   "outputs": [],
   "source": [
    "import numpy as np\n",
    "import mdtraj as md\n",
    "import matplotlib\n",
    "import matplotlib.pyplot as plt\n",
    "import itertools\n",
    "import tqdm\n",
    "%matplotlib inline\n",
    "\n",
    "plt.style.use(\"ggplot\")"
   ]
  },
  {
   "cell_type": "markdown",
   "metadata": {},
   "source": [
    "# Hydrogen Bond Finder\n",
    "\n",
    "This jupyter notebook will be used to search for hydrogen bonds in a simulation. Hydrogen bonds are defined as a dipole-dipole short-range interaction. They are often described as partially positive charged hydrogen bond donors (N-H, O-H, C-H) and partially negative charged hydrogen bond acceptors (O:, N:, C:). Hydrogen bonds are a weak intreaction, at 1-2 $kJ mol^{-1}$. However, they are strong enough to persist in molecular dynamics simulations.\n",
    "\n",
    "In this notebook we will search for N-H hydrogen bond donors and O: hydrogen bond acceptors using coordinate geometry and atom names.\n",
    "\n",
    "First we load in our simulation trajectory using `mdtraj`."
   ]
  },
  {
   "cell_type": "code",
   "execution_count": null,
   "metadata": {},
   "outputs": [],
   "source": [
    "# traj = md.load([\"/mnt/summit/simulations/octamer_Rchiral/RHH/remd_sim/200K_to_350K/sim0/npt.whole.xtc\", \"/mnt/summit/simulations/octamer_Rchiral/RHH/remd_sim/200K_to_350K/sim0/npt.part0002.whole.xtc\", \"/mnt/summit/simulations/octamer_Rchiral/RHH/remd_sim/200K_to_350K/sim0/npt.part0003.whole.xtc\", \"/mnt/summit/simulations/octamer_Rchiral/RHH/remd_sim/200K_to_350K/sim0/npt.part0004.whole.xtc\"],\n",
    "#                top = \"/mnt/summit/simulations/octamer_Rchiral/RHH/remd_sim/200K_to_350K/sim0/berendsen.gro\") # \"../Parsley/3/nvt_whole.xtc\", \"../Parsley/4/nvt_whole.xtc\"] ,top=\"../Parsley/1/nvt_restrained.gro\")\n",
    "# print(traj)"
   ]
  },
  {
   "cell_type": "code",
   "execution_count": 16,
   "metadata": {},
   "outputs": [
    {
     "ename": "OSError",
     "evalue": "No such file: /mnt/summit/simulations/octamer_Rchiral/RHH/md_sims/1/npt_whole.xtc",
     "output_type": "error",
     "traceback": [
      "\u001b[0;31m---------------------------------------------------------------------------\u001b[0m",
      "\u001b[0;31mOSError\u001b[0m                                   Traceback (most recent call last)",
      "\u001b[0;32m<ipython-input-16-b31f0e25ded6>\u001b[0m in \u001b[0;36m<module>\u001b[0;34m\u001b[0m\n\u001b[0;32m----> 1\u001b[0;31m traj = md.load([\"/mnt/summit/simulations/octamer_Rchiral/RHH/md_sims/1/npt_whole.xtc\", \"/mnt/summit/simulations/octamer_Rchiral/RHH/md_sims/2/npt_whole.xtc\", \"/mnt/summit/simulations/octamer_Rchiral/RHH/md_sims/3/npt_whole.xtc\", \"/mnt/summit/simulations/octamer_Rchiral/RHH/md_sims/4/npt_whole.xtc\"],\n\u001b[0m\u001b[1;32m      2\u001b[0m                top = \"/mnt/summit/simulations/octamer_Rchiral/RHH/md_sims/chloroform_freezing/225K/berendsen.gro\") # \"../Parsley/3/nvt_whole.xtc\", \"../Parsley/4/nvt_whole.xtc\"] ,top=\"../Parsley/1/nvt_restrained.gro\")\n\u001b[1;32m      3\u001b[0m \u001b[0mprint\u001b[0m\u001b[0;34m(\u001b[0m\u001b[0mtraj\u001b[0m\u001b[0;34m)\u001b[0m\u001b[0;34m\u001b[0m\u001b[0;34m\u001b[0m\u001b[0m\n",
      "\u001b[0;32m~/anaconda3/envs/terphenyl/lib/python3.8/site-packages/mdtraj/core/trajectory.py\u001b[0m in \u001b[0;36mload\u001b[0;34m(filename_or_filenames, discard_overlapping_frames, **kwargs)\u001b[0m\n\u001b[1;32m    397\u001b[0m             \u001b[0mtrajectories\u001b[0m \u001b[0;34m=\u001b[0m \u001b[0;34m[\u001b[0m\u001b[0;34m]\u001b[0m\u001b[0;34m\u001b[0m\u001b[0;34m\u001b[0m\u001b[0m\n\u001b[1;32m    398\u001b[0m             \u001b[0;32mfor\u001b[0m \u001b[0;34m(\u001b[0m\u001b[0mi\u001b[0m\u001b[0;34m,\u001b[0m \u001b[0mf\u001b[0m\u001b[0;34m)\u001b[0m \u001b[0;32min\u001b[0m \u001b[0menumerate\u001b[0m\u001b[0;34m(\u001b[0m\u001b[0mfilename_or_filenames\u001b[0m\u001b[0;34m)\u001b[0m\u001b[0;34m:\u001b[0m\u001b[0;34m\u001b[0m\u001b[0;34m\u001b[0m\u001b[0m\n\u001b[0;32m--> 399\u001b[0;31m                 \u001b[0mt\u001b[0m \u001b[0;34m=\u001b[0m \u001b[0mload\u001b[0m\u001b[0;34m(\u001b[0m\u001b[0mf\u001b[0m\u001b[0;34m,\u001b[0m \u001b[0;34m**\u001b[0m\u001b[0mkwargs\u001b[0m\u001b[0;34m)\u001b[0m\u001b[0;34m\u001b[0m\u001b[0;34m\u001b[0m\u001b[0m\n\u001b[0m\u001b[1;32m    400\u001b[0m                 \u001b[0;32mif\u001b[0m \u001b[0mi\u001b[0m \u001b[0;34m!=\u001b[0m \u001b[0;36m0\u001b[0m\u001b[0;34m:\u001b[0m\u001b[0;34m\u001b[0m\u001b[0;34m\u001b[0m\u001b[0m\n\u001b[1;32m    401\u001b[0m                     \u001b[0mt\u001b[0m\u001b[0;34m.\u001b[0m\u001b[0mtopology\u001b[0m \u001b[0;34m=\u001b[0m \u001b[0;32mNone\u001b[0m\u001b[0;34m\u001b[0m\u001b[0;34m\u001b[0m\u001b[0m\n",
      "\u001b[0;32m~/anaconda3/envs/terphenyl/lib/python3.8/site-packages/mdtraj/core/trajectory.py\u001b[0m in \u001b[0;36mload\u001b[0;34m(filename_or_filenames, discard_overlapping_frames, **kwargs)\u001b[0m\n\u001b[1;32m    427\u001b[0m \u001b[0;34m\u001b[0m\u001b[0m\n\u001b[1;32m    428\u001b[0m     \u001b[0;32mif\u001b[0m \u001b[0mloader\u001b[0m\u001b[0;34m.\u001b[0m\u001b[0m__name__\u001b[0m \u001b[0;32mnot\u001b[0m \u001b[0;32min\u001b[0m \u001b[0;34m[\u001b[0m\u001b[0;34m'load_dtr'\u001b[0m\u001b[0;34m]\u001b[0m\u001b[0;34m:\u001b[0m\u001b[0;34m\u001b[0m\u001b[0;34m\u001b[0m\u001b[0m\n\u001b[0;32m--> 429\u001b[0;31m         \u001b[0m_assert_files_exist\u001b[0m\u001b[0;34m(\u001b[0m\u001b[0mfilename_or_filenames\u001b[0m\u001b[0;34m)\u001b[0m\u001b[0;34m\u001b[0m\u001b[0;34m\u001b[0m\u001b[0m\n\u001b[0m\u001b[1;32m    430\u001b[0m     \u001b[0;32melse\u001b[0m\u001b[0;34m:\u001b[0m\u001b[0;34m\u001b[0m\u001b[0;34m\u001b[0m\u001b[0m\n\u001b[1;32m    431\u001b[0m         \u001b[0m_assert_files_or_dirs_exist\u001b[0m\u001b[0;34m(\u001b[0m\u001b[0mfilename_or_filenames\u001b[0m\u001b[0;34m)\u001b[0m\u001b[0;34m\u001b[0m\u001b[0;34m\u001b[0m\u001b[0m\n",
      "\u001b[0;32m~/anaconda3/envs/terphenyl/lib/python3.8/site-packages/mdtraj/core/trajectory.py\u001b[0m in \u001b[0;36m_assert_files_exist\u001b[0;34m(filenames)\u001b[0m\n\u001b[1;32m     98\u001b[0m     \u001b[0;32mfor\u001b[0m \u001b[0mfn\u001b[0m \u001b[0;32min\u001b[0m \u001b[0mfilenames\u001b[0m\u001b[0;34m:\u001b[0m\u001b[0;34m\u001b[0m\u001b[0;34m\u001b[0m\u001b[0m\n\u001b[1;32m     99\u001b[0m         \u001b[0;32mif\u001b[0m \u001b[0;32mnot\u001b[0m \u001b[0;34m(\u001b[0m\u001b[0mos\u001b[0m\u001b[0;34m.\u001b[0m\u001b[0mpath\u001b[0m\u001b[0;34m.\u001b[0m\u001b[0mexists\u001b[0m\u001b[0;34m(\u001b[0m\u001b[0mfn\u001b[0m\u001b[0;34m)\u001b[0m \u001b[0;32mand\u001b[0m \u001b[0mos\u001b[0m\u001b[0;34m.\u001b[0m\u001b[0mpath\u001b[0m\u001b[0;34m.\u001b[0m\u001b[0misfile\u001b[0m\u001b[0;34m(\u001b[0m\u001b[0mfn\u001b[0m\u001b[0;34m)\u001b[0m\u001b[0;34m)\u001b[0m\u001b[0;34m:\u001b[0m\u001b[0;34m\u001b[0m\u001b[0;34m\u001b[0m\u001b[0m\n\u001b[0;32m--> 100\u001b[0;31m             \u001b[0;32mraise\u001b[0m \u001b[0mIOError\u001b[0m\u001b[0;34m(\u001b[0m\u001b[0;34m'No such file: %s'\u001b[0m \u001b[0;34m%\u001b[0m \u001b[0mfn\u001b[0m\u001b[0;34m)\u001b[0m\u001b[0;34m\u001b[0m\u001b[0;34m\u001b[0m\u001b[0m\n\u001b[0m\u001b[1;32m    101\u001b[0m \u001b[0;34m\u001b[0m\u001b[0m\n\u001b[1;32m    102\u001b[0m \u001b[0;34m\u001b[0m\u001b[0m\n",
      "\u001b[0;31mOSError\u001b[0m: No such file: /mnt/summit/simulations/octamer_Rchiral/RHH/md_sims/1/npt_whole.xtc"
     ]
    }
   ],
   "source": [
    "traj = md.load([\"/mnt/summit/simulations/octamer_Rchiral/RHH/md_sims/1/npt_whole.xtc\", \"/mnt/summit/simulations/octamer_Rchiral/RHH/md_sims/2/npt_whole.xtc\", \"/mnt/summit/simulations/octamer_Rchiral/RHH/md_sims/3/npt_whole.xtc\", \"/mnt/summit/simulations/octamer_Rchiral/RHH/md_sims/4/npt_whole.xtc\"],\n",
    "               top = \"/mnt/summit/simulations/octamer_Rchiral/RHH/md_sims/chloroform_freezing/225K/berendsen.gro\") # \"../Parsley/3/nvt_whole.xtc\", \"../Parsley/4/nvt_whole.xtc\"] ,top=\"../Parsley/1/nvt_restrained.gro\")\n",
    "print(traj)"
   ]
  },
  {
   "cell_type": "markdown",
   "metadata": {},
   "source": [
    "### Building H-acceptors/donors\n",
    "\n",
    "In the next few cells we get lists of all atoms that make up the hydrogen bond acceptors and donors we're interested in analyzing."
   ]
  },
  {
   "cell_type": "code",
   "execution_count": 15,
   "metadata": {},
   "outputs": [
    {
     "data": {
      "text/plain": [
       "19"
      ]
     },
     "execution_count": 15,
     "metadata": {},
     "output_type": "execute_result"
    }
   ],
   "source": [
    "top = traj.topology\n",
    "os = top.select(\"element O\")\n",
    "traj.atom_slice(os)\n",
    "len(os)"
   ]
  },
  {
   "cell_type": "code",
   "execution_count": 6,
   "metadata": {},
   "outputs": [
    {
     "data": {
      "text/plain": [
       "8"
      ]
     },
     "execution_count": 6,
     "metadata": {},
     "output_type": "execute_result"
    }
   ],
   "source": [
    "ns = top.select(\"element N and resname OCT\")\n",
    "traj.atom_slice(ns)\n",
    "len(ns)"
   ]
  },
  {
   "cell_type": "code",
   "execution_count": 7,
   "metadata": {},
   "outputs": [
    {
     "data": {
      "text/plain": [
       "164"
      ]
     },
     "execution_count": 7,
     "metadata": {},
     "output_type": "execute_result"
    }
   ],
   "source": [
    "hs = top.select(\"element H and resname OCT\")\n",
    "traj.atom_slice(hs)\n",
    "len(hs)"
   ]
  },
  {
   "cell_type": "markdown",
   "metadata": {},
   "source": [
    "For the hydrogen bond donors of interest (N-H) we iterate over all hydrogens and nitrogens and append a donor pair to our list if the two atoms are within the bonded distance of a N-H bond (~0.105 nm). For the hydrogen bond acceptors we just use the list of oxygens in the system.\n",
    "\n",
    "Be sure to check that you get the right number of acceptors and donors for your system. We only do this calculation on the begining frame of the simulation, because we don't expect hydrogen donors or acceptors to disapear or apear during the course of the simulation."
   ]
  },
  {
   "cell_type": "code",
   "execution_count": 8,
   "metadata": {},
   "outputs": [
    {
     "name": "stdout",
     "output_type": "stream",
     "text": [
      "[(35, 36), (73, 77), (127, 131), (171, 175), (215, 219), (259, 263), (303, 307), (347, 351)]\n",
      "[ 38  41  78  79  90 112 134 156 178 200 222 244 266 288 310 332 352 358\n",
      " 359]\n"
     ]
    }
   ],
   "source": [
    "# get h_donors\n",
    "h_donors = []\n",
    "n_h = 0.105 ** 2\n",
    "for pair in itertools.product(ns,hs):\n",
    "    r1 = traj.xyz[0, pair[0], :] - traj.xyz[0, pair[1], :]\n",
    "    if np.dot(r1,r1) < n_h:\n",
    "        h_donors.append(pair)\n",
    "\n",
    "# get h_acceptors\n",
    "h_acceptors = os.tolist()\n",
    "print(h_donors)\n",
    "print(os)"
   ]
  },
  {
   "cell_type": "markdown",
   "metadata": {},
   "source": [
    "### Mapping H-accecptors/donors to residues\n",
    "\n",
    "In this simulation, the molecule of interest did not have residues specified. For this reason I had to manually map the acceptors and donors indexes to specific resiude numbers. I also added the \"MO\" string for the methoxy hydrogen bond acceptors as these are an undesired interaction.\n",
    "\n",
    "For systems with residue or chain numbers, this process might be automatable."
   ]
  },
  {
   "cell_type": "code",
   "execution_count": 9,
   "metadata": {},
   "outputs": [],
   "source": [
    "# Mapping indexes to residue numbers (Manual at the moment)\n",
    "\n",
    "hd_to_res = {\n",
    "            (35, 36) : 8,\n",
    "            (73, 77) : 7,\n",
    "            (127, 131) : 6,\n",
    "            (171, 175) : 5,\n",
    "            (215, 219) : 4,\n",
    "            (259, 263) : 3,\n",
    "            (303, 307) : 2,\n",
    "            (347, 351) : 1,\n",
    "            }\n",
    "ha_to_res = {358 : 0, 359 : 0,\n",
    "             310 : 1, 332 : \"MO\",\n",
    "             266 : 2, 288 : \"MO\",\n",
    "             222 : 3, 244 : \"MO\",\n",
    "             178 : 4, 200 : \"MO\", \n",
    "             134 : 5, 156 : \"MO\",\n",
    "             90 : 6, 112 : \"MO\",\n",
    "             79 : 7, 41 : \"MO\",\n",
    "             352 : 8, 38 : 8, 78 : \"MO\",\n",
    "            }"
   ]
  },
  {
   "cell_type": "markdown",
   "metadata": {},
   "source": [
    "### Main Loop\n",
    "\n",
    "In the main loop of this program we iterate over each possible pair of hydrogen bond acceptors and donors and calculate their distance and angle. If they fall within the definition of a hydrogen bond, we append that pair to a growing list of hydrogen bonds over each frame of the simulation."
   ]
  },
  {
   "cell_type": "code",
   "execution_count": 10,
   "metadata": {
    "scrolled": true
   },
   "outputs": [
    {
     "name": "stderr",
     "output_type": "stream",
     "text": [
      "100%|██████████| 3608/3608 [00:01<00:00, 1915.86it/s]\n"
     ]
    }
   ],
   "source": [
    "h_bond = []\n",
    "o_h = 0.3 ** 2\n",
    "for i in tqdm.tqdm(range(traj.xyz.shape[0])):\n",
    "    for pair in itertools.product(h_donors, h_acceptors):\n",
    "        r2 = traj.xyz[i, pair[0][1],:] - traj.xyz[i, pair[1],:]\n",
    "        d_sq = np.dot(r2,r2)\n",
    "        if d_sq < o_h:\n",
    "            r1 = traj.xyz[i, pair[0][0],:] - traj.xyz[i, pair[0][1],:]\n",
    "            theta = np.arccos(np.dot(r1, r2) / np.sqrt(np.dot(r2,r2) * np.dot(r1,r1)))\n",
    "            if np.abs(theta - np.pi) > (np.pi / 180 * 120):\n",
    "                h_bond.append([pair[0], pair[1]])\n",
    "            # print(traj.top.atom(pair[0]), traj.top.atom(pair[1]), traj.top.atom(pair[2]), d)"
   ]
  },
  {
   "cell_type": "markdown",
   "metadata": {},
   "source": [
    "Once we've built our list of all hydrogen bonds, we have to classify them into their respective interactions. This is achieved with the dictionaries we made 2 cells ago. Taking the difference between the residues of each hydrogen bond pair, we get the i to i + N interaction, we then append this to a growing hydrogen bond interaction list. Getting the unique and counts for this new interaction list gives us the frequency the heteropolymer was interacting with specific residues for the entire entire simulation."
   ]
  },
  {
   "cell_type": "code",
   "execution_count": 11,
   "metadata": {
    "scrolled": true
   },
   "outputs": [],
   "source": [
    "h_bond_ints = []\n",
    "# [hd_to_res[p[0]] - ha_to_res[p[1]] for p in h_bond]\n",
    "for pair in h_bond:\n",
    "    if ha_to_res[pair[1]] == \"MO\":\n",
    "        h_bond_ints.append(\"MO\")\n",
    "    else:\n",
    "        diff = ha_to_res[pair[1]] - hd_to_res[pair[0]]\n",
    "        if diff >= 0:\n",
    "            h_bond_ints.append(\"i to i + \" + str(diff))\n",
    "        else:\n",
    "            h_bond_ints.append(\"i to i - \" + str(np.abs(diff)))\n"
   ]
  },
  {
   "cell_type": "code",
   "execution_count": 12,
   "metadata": {},
   "outputs": [],
   "source": [
    "unique, counts = np.unique(h_bond_ints, return_counts=True)"
   ]
  },
  {
   "cell_type": "code",
   "execution_count": 13,
   "metadata": {},
   "outputs": [
    {
     "data": {
      "text/plain": [
       "Text(0, 0.5, 'Counts')"
      ]
     },
     "execution_count": 13,
     "metadata": {},
     "output_type": "execute_result"
    },
    {
     "data": {
      "image/png": "[encoded data removed]",
      "text/plain": [
       "<Figure size 1080x360 with 1 Axes>"
      ]
     },
     "metadata": {},
     "output_type": "display_data"
    }
   ],
   "source": [
    "plt.figure(figsize=[15,5])\n",
    "plt.bar(unique, counts)\n",
    "plt.xticks(unique, rotation='vertical')\n",
    "plt.xlabel(\"Interaction Type\")\n",
    "plt.ylabel(\"Counts\")"
   ]
  },
  {
   "cell_type": "code",
   "execution_count": null,
   "metadata": {},
   "outputs": [],
   "source": []
  },
  {
   "cell_type": "code",
   "execution_count": null,
   "metadata": {},
   "outputs": [],
   "source": []
  }
 ],
 "metadata": {
  "kernelspec": {
   "display_name": "Python 3",
   "language": "python",
   "name": "python3"
  },
  "language_info": {
   "codemirror_mode": {
    "name": "ipython",
    "version": 3
   },
   "file_extension": ".py",
   "mimetype": "text/x-python",
   "name": "python",
   "nbconvert_exporter": "python",
   "pygments_lexer": "ipython3",
   "version": "3.6.10"
  }
 },
 "nbformat": 4,
 "nbformat_minor": 2
}
