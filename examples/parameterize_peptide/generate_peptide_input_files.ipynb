{
 "cells": [
  {
   "cell_type": "code",
   "execution_count": 1,
   "id": "30557f01-a3d5-4860-972f-26ede5b26197",
   "metadata": {},
   "outputs": [
    {
     "name": "stderr",
     "output_type": "stream",
     "text": [
      "Warning: importing 'simtk.openmm' is deprecated.  Import 'openmm' instead.\n"
     ]
    }
   ],
   "source": [
    "import pymol\n",
    "import mbuild as mb\n",
    "from mbuild.lib.recipes.polymer import Polymer\n",
    "import warnings\n",
    "warnings.filterwarnings('ignore')\n",
    "import mdtraj as md\n",
    "from openff.interchange import Interchange\n",
    "from openmm import app\n",
    "from openff.toolkit import ForceField, Molecule\n",
    "from openff.toolkit.utils import get_data_file_path\n",
    "import os"
   ]
  },
  {
   "cell_type": "code",
   "execution_count": 2,
   "id": "6d248ecd",
   "metadata": {},
   "outputs": [],
   "source": [
    "# Make output directory\n",
    "output_dir = \"output\"\n",
    "\n",
    "if not os.path.exists(output_dir):\n",
    "    os.makedirs(output_dir)"
   ]
  },
  {
   "cell_type": "markdown",
   "id": "18e7d9c0-c8c7-4537-933b-1b5560baa23c",
   "metadata": {},
   "source": [
    "# 1. Build PDB of helical peptide\n",
    "\n",
    "## 1.1 PyMol Scripts\n",
    "First we build the peptide sequence using PyMOLs built in peptide builder. Here we use the scripting version of PyMOL to build this peptide without interfacing with the PyMOL GUI."
   ]
  },
  {
   "cell_type": "code",
   "execution_count": 3,
   "id": "f1eb6921-ad90-4fda-9c88-505ec4e8b614",
   "metadata": {},
   "outputs": [],
   "source": [
    "peptide_sequence = \"AAQAAAAQAA\"\n",
    "pymol.cmd.delete(\"all\")\n",
    "pymol.editor.fab(peptide_sequence, ss = 1, hydro=0)\n",
    "pymol.editor.attach_amino_acid(\"last name C\", 'nme', hydro=0)\n",
    "pymol.editor.attach_amino_acid(\"first name N\", 'ace', hydro=0)\n",
    "\n",
    "# Change the naming of NME CH3 to C, so it is consistent with AMBER\n",
    "pymol.cmd.alter(\"resn NME and name CH3\", \"name='C'\")\n",
    "pymol.cmd.set(\"pdb_conect_all\", \"off\")\n",
    "pymol.cmd.save(os.path.join(output_dir, \"short_peptide.pdb\"))"
   ]
  },
  {
   "cell_type": "code",
   "execution_count": 4,
   "id": "2b64029d",
   "metadata": {},
   "outputs": [],
   "source": [
    "# Remove extra TER group after terminal alanine\n",
    "with open(os.path.join(output_dir, \"short_peptide.pdb\"), 'r') as fn:\n",
    "    lines = []\n",
    "    for line in fn.readlines():\n",
    "        if \"TER\" in line:\n",
    "            continue\n",
    "        else:\n",
    "            lines.append(line)\n",
    "with open(os.path.join(output_dir, \"short_peptide.pdb\"), 'w') as fn:\n",
    "    fn.writelines(lines)"
   ]
  },
  {
   "cell_type": "markdown",
   "id": "ba797a91",
   "metadata": {},
   "source": [
    "## 1.2 Adding Capping Residues\n",
    "\n",
    "Next we'll use `mbuild` to add our capping residues to the generated PyMol generated peptide pdb. If the peptide generated above has capping residues that are available in PyMOL, these steps can be skipped."
   ]
  },
  {
   "cell_type": "code",
   "execution_count": null,
   "id": "9807004c-350b-4fa0-b9af-cc925136ad9a",
   "metadata": {
    "scrolled": false
   },
   "outputs": [],
   "source": [
    "# Use mbuild to visualize componenets\n",
    "peptide = mb.load(os.path.join(output_dir, \"short_peptide.pdb\"))\n",
    "peptide\n",
    "view = peptide.visualize(show_ports=True)\n",
    "style = {\n",
    "                \"stick\": {\"radius\": 0.2, \"color\": \"grey\"},\n",
    "                \"sphere\": {\"scale\": 0.6, \"color\" : \"black\"},\n",
    "    }\n",
    "view.setStyle({'model': -1, 'serial':1},style)\n",
    "view.setStyle({'model': -1, 'serial':129},style)"
   ]
  },
  {
   "cell_type": "code",
   "execution_count": null,
   "id": "b45b3466",
   "metadata": {},
   "outputs": [],
   "source": [
    "succynl = mb.load(\"O=C(O)CCC(=O)O\", smiles=True)\n",
    "succynl.save(\"succ.pdb\", overwrite=True)\n",
    "succynl.remove(succynl[8])\n",
    "view = succynl.visualize()\n",
    "\n",
    "style = {\n",
    "                \"stick\": {\"radius\": 0.2, \"color\": \"grey\"},\n",
    "                \"sphere\": {\"scale\": 0.3, \"color\" : \"black\"},\n",
    "    }\n",
    "view.setStyle({'model': -1, 'serial':3},style)\n",
    "#succynl = mb.load(\"O=C([O-])CCC(=O)O\", smiles=True)\n",
    "#view = succynl.visualize()\n",
    "view.setStyle({'model': -1, 'serial':3},style)"
   ]
  },
  {
   "cell_type": "code",
   "execution_count": null,
   "id": "3ed09a97",
   "metadata": {},
   "outputs": [],
   "source": [
    "nh3 = mb.load(\"N\", smiles=True)\n",
    "nh3.save(\"nh3.pdb\", overwrite=True)\n",
    "view = nh3.visualize()\n",
    "style = {\n",
    "                \"stick\": {\"radius\": 0.2, \"color\": \"grey\"},\n",
    "                \"sphere\": {\"scale\": 0.6, \"color\" : \"black\"},\n",
    "    }\n",
    "view.setStyle({'model': -1, 'serial':2},style)"
   ]
  },
  {
   "cell_type": "code",
   "execution_count": null,
   "id": "aca96519",
   "metadata": {},
   "outputs": [],
   "source": [
    "h2o = mb.load(\"O\", smiles=True)\n",
    "h2o.save(\"h2o.pdb\", overwrite=True)\n",
    "h2o.visualize()"
   ]
  },
  {
   "cell_type": "markdown",
   "id": "849274d7",
   "metadata": {},
   "source": [
    "Now that we have our peptide and cap residues, we will use `mbuild` Polymer object to combine them."
   ]
  },
  {
   "cell_type": "code",
   "execution_count": null,
   "id": "9d1c4553",
   "metadata": {},
   "outputs": [],
   "source": [
    "chain = Polymer()\n",
    "\n",
    "chain.add_monomer(compound = peptide, indices=[0, 128], separation=0.15, replace = False)\n",
    "chain.add_end_groups(compound = succynl,\n",
    "                     index = 2,\n",
    "                     separation = 0.15,\n",
    "                     label = \"head\",\n",
    "                     duplicate = False,\n",
    "                     orientation=[0.5,-0.5,0.5]\n",
    "                    )\n",
    "\n",
    "chain.add_end_groups(compound = nh3,\n",
    "                     index = 2,\n",
    "                     separation = 0.15,\n",
    "                     label = \"tail\",\n",
    "                     duplicate = False\n",
    "                    )\n",
    "\n",
    "chain.build(n=1)"
   ]
  },
  {
   "cell_type": "code",
   "execution_count": null,
   "id": "ad15b347",
   "metadata": {},
   "outputs": [],
   "source": [
    "peptide = chain.children[0]"
   ]
  },
  {
   "cell_type": "code",
   "execution_count": null,
   "id": "6b92824a",
   "metadata": {},
   "outputs": [],
   "source": [
    "chain.energy_minimize()\n",
    "chain.visualize()"
   ]
  },
  {
   "cell_type": "code",
   "execution_count": null,
   "id": "81c7fd10",
   "metadata": {},
   "outputs": [],
   "source": [
    "# Set labels for capping residues\n",
    "print(chain.children[1])\n",
    "chain.children[1].name = \"NTC\"\n",
    "\n",
    "print(chain.children[2])\n",
    "chain.children[2].name = \"CTC\""
   ]
  },
  {
   "cell_type": "code",
   "execution_count": null,
   "id": "e9c7f9a6",
   "metadata": {},
   "outputs": [],
   "source": [
    "# Verify we relabeled the non-standard capping residues\n",
    "chain.labels['Compound'][0]"
   ]
  },
  {
   "cell_type": "markdown",
   "id": "da6b0980",
   "metadata": {},
   "source": [
    "Now we save the peptide to file, ensuring amino acid residue names are written correctly. We also add the residues `NTC` and `CTC` for the N-terminal and C-terminal caps."
   ]
  },
  {
   "cell_type": "code",
   "execution_count": null,
   "id": "6008028b",
   "metadata": {},
   "outputs": [],
   "source": [
    "chain.save(\"mbuild_small_peptide.pdb\", overwrite = True, residues=[\"ALA\", \"LYS\", \"GLU\", \"TYR\", \"SER\", \"NTC\", \"CTC\"])\n",
    "smiles = chain.to_smiles()"
   ]
  },
  {
   "cell_type": "markdown",
   "id": "e38877c3",
   "metadata": {},
   "source": [
    "# 2. AMBER Parameterization\n",
    "\n",
    "Now we will use the AmberTools workflow to assign parameters for the peptide generated above."
   ]
  },
  {
   "cell_type": "code",
   "execution_count": 5,
   "id": "23af6d7e",
   "metadata": {},
   "outputs": [],
   "source": [
    "import subprocess\n",
    "\n",
    "peptide_pdb_fn = os.path.join(output_dir, \"short_peptide.pdb\")"
   ]
  },
  {
   "cell_type": "markdown",
   "id": "bec17dd7",
   "metadata": {},
   "source": [
    "## 2.1 Preparing the PDB file\n",
    "\n",
    "We first run our PDB through `pdb4amber` which prepares the PDB file for parameter assignment using `tleap`. "
   ]
  },
  {
   "cell_type": "code",
   "execution_count": 12,
   "id": "b9aa94e7",
   "metadata": {},
   "outputs": [
    {
     "name": "stderr",
     "output_type": "stream",
     "text": [
      "Warning: importing 'simtk.openmm' is deprecated.  Import 'openmm' instead.\n",
      "\n",
      "==================================================\n",
      "Summary of pdb4amber for: output/short_peptide.pdb\n",
      "===================================================\n",
      "\n",
      "----------Chains\n",
      "The following (original) chains have been found:\n",
      "\n",
      "\n",
      "---------- Alternate Locations (Original Residues!))\n",
      "\n",
      "The following residues had alternate locations:\n",
      "None\n",
      "-----------Non-standard-resnames\n",
      "\n",
      "\n",
      "---------- Gaps (Renumbered Residues!)\n",
      "gap of 4.090978 A between ACE 1 and ALA 3\n",
      "gap of 3.227160 A between ALA 2 and GLN 4\n",
      "gap of 3.229751 A between ALA 3 and ALA 5\n",
      "gap of 3.226545 A between GLN 4 and ALA 6\n",
      "gap of 3.227391 A between ALA 5 and ALA 7\n",
      "gap of 3.226035 A between ALA 6 and ALA 8\n",
      "gap of 3.227061 A between ALA 7 and GLN 9\n",
      "gap of 3.229582 A between ALA 8 and ALA 10\n",
      "gap of 3.227263 A between GLN 9 and ALA 11\n",
      "\n",
      "---------- Missing heavy atom(s)\n",
      "\n",
      "None\n"
     ]
    },
    {
     "data": {
      "text/plain": [
       "0"
      ]
     },
     "execution_count": 12,
     "metadata": {},
     "output_type": "execute_result"
    }
   ],
   "source": [
    "subprocess.Popen([\"pdb4amber\",\"-i\", peptide_pdb_fn,\"-o\", os.path.join(output_dir, \"peptide_amber.pdb\",), \"--reduce\", \"--add-missing-atoms\"]).wait()"
   ]
  },
  {
   "cell_type": "markdown",
   "id": "78effc91",
   "metadata": {},
   "source": [
    "## 2.2 Computing Partial Charges with Antechamber\n",
    "\n",
    "Next we use `antechamber` to assign partial charges for any custom residues. This requires having a `.cif` file of the custom residue used in your simulation.\n",
    "\n",
    "```\n",
    "$ antechamber -fi ccif -i CRO.cif -bk CRO -fo ac -o cro.ac -c bcc -at amber\n",
    "```"
   ]
  },
  {
   "cell_type": "markdown",
   "id": "3172ebc7",
   "metadata": {},
   "source": [
    "## 2.3 Preparing residue library files\n",
    "\n",
    "Here we prepare the custom residue library files to be included in the parameter assignment when we call `tleap`"
   ]
  },
  {
   "cell_type": "markdown",
   "id": "942d9863",
   "metadata": {},
   "source": [
    "## 2.4 Write `tleap` Input File \n",
    "\n",
    "We write an input file for `tleap` to assign parameters for the `peptide_amber.pdb` file we generated above. Additional custom residue prep and parameter files must be loaded using `loadAmberPrep` and `LoadAmberParams`."
   ]
  },
  {
   "cell_type": "code",
   "execution_count": 13,
   "id": "6438d762",
   "metadata": {},
   "outputs": [],
   "source": [
    "amb_parm_file = os.path.join(output_dir,\"peptide_amber.parm7\")\n",
    "amb_rst_file = os.path.join(output_dir, \"peptide_amber.rst7\")\n",
    "\n",
    "lines = [\n",
    "    \"source leaprc.protein.ff14SB\",\n",
    "    \"x = loadPDB \" + os.path.join(output_dir,\"peptide_amber.pdb\"),\n",
    "    \"saveAmberParm x \" + \\\n",
    "    amb_parm_file + \" \" + \\\n",
    "    amb_rst_file,\n",
    "    \"quit\"\n",
    "]\n",
    "\n",
    "with open(os.path.join(output_dir, \"tleap.in\"), 'w') as fn:\n",
    "    fn.write(\"\\n\".join(lines))"
   ]
  },
  {
   "cell_type": "markdown",
   "id": "f324851e",
   "metadata": {},
   "source": [
    "##  2.5 Run `tleap` for Parameter Assignment"
   ]
  },
  {
   "cell_type": "code",
   "execution_count": 14,
   "id": "27336a82",
   "metadata": {},
   "outputs": [
    {
     "name": "stdout",
     "output_type": "stream",
     "text": [
      "-I: Adding /home/tfobe/anaconda3/envs/pymol_builder/dat/leap/prep to search path.\n",
      "-I: Adding /home/tfobe/anaconda3/envs/pymol_builder/dat/leap/lib to search path.\n",
      "-I: Adding /home/tfobe/anaconda3/envs/pymol_builder/dat/leap/parm to search path.\n",
      "-I: Adding /home/tfobe/anaconda3/envs/pymol_builder/dat/leap/cmd to search path.\n",
      "-f: Source output/tleap.in.\n",
      "\n",
      "Welcome to LEaP!\n",
      "(no leaprc in search path)\n",
      "Sourcing: ./output/tleap.in\n",
      "----- Source: /home/tfobe/anaconda3/envs/pymol_builder/dat/leap/cmd/leaprc.protein.ff14SB\n",
      "----- Source of /home/tfobe/anaconda3/envs/pymol_builder/dat/leap/cmd/leaprc.protein.ff14SB done\n",
      "Log file: ./leap.log\n",
      "Loading parameters: /home/tfobe/anaconda3/envs/pymol_builder/dat/leap/parm/parm10.dat\n",
      "Reading title:\n",
      "PARM99 + frcmod.ff99SB + frcmod.parmbsc0 + OL3 for RNA\n",
      "Loading parameters: /home/tfobe/anaconda3/envs/pymol_builder/dat/leap/parm/frcmod.ff14SB\n",
      "Reading force field modification type file (frcmod)\n",
      "Reading title:\n",
      "ff14SB protein backbone and sidechain parameters\n",
      "Loading library: /home/tfobe/anaconda3/envs/pymol_builder/dat/leap/lib/amino12.lib\n",
      "Loading library: /home/tfobe/anaconda3/envs/pymol_builder/dat/leap/lib/aminoct12.lib\n",
      "Loading library: /home/tfobe/anaconda3/envs/pymol_builder/dat/leap/lib/aminont12.lib\n",
      "Loading PDB file: ./output/peptide_amber.pdb\n",
      "  total atoms in file: 126\n",
      "Checking Unit.\n",
      "Building topology.\n",
      "Building atom parameters.\n",
      "Building bond parameters.\n",
      "Building angle parameters.\n",
      "Building proper torsion parameters.\n",
      "Building improper torsion parameters.\n",
      " total 26 improper torsions applied\n",
      "Building H-Bond parameters.\n",
      "Incorporating Non-Bonded adjustments.\n",
      "Not Marking per-residue atom chain types.\n",
      "Marking per-residue atom chain types.\n",
      " (no restraints)\n",
      "\tQuit\n",
      "\n",
      "Exiting LEaP: Errors = 0; Warnings = 0; Notes = 0.\n"
     ]
    },
    {
     "data": {
      "text/plain": [
       "0"
      ]
     },
     "execution_count": 14,
     "metadata": {},
     "output_type": "execute_result"
    }
   ],
   "source": [
    "subprocess.Popen([\"tleap\", \"-f\", os.path.join(output_dir, \"tleap.in\")]).wait()"
   ]
  },
  {
   "cell_type": "markdown",
   "id": "67b4bba5",
   "metadata": {},
   "source": [
    "## 3. Convert to GROMACS Parameter Files\n",
    "\n",
    "Now we will use `InterMol` a program for converting parameters between different FF packages. Intermol generates a `.top` file that contains the parameters for the peptide"
   ]
  },
  {
   "cell_type": "code",
   "execution_count": 15,
   "id": "8cd4bf14",
   "metadata": {},
   "outputs": [
    {
     "name": "stderr",
     "output_type": "stream",
     "text": [
      "Warning: importing 'simtk.openmm' is deprecated.  Import 'openmm' instead.\n"
     ]
    },
    {
     "name": "stdout",
     "output_type": "stream",
     "text": [
      "/home/tfobe/Research/heteropolymer_simulations/examples/parameterize_peptide/output/peptide_amber.parm7 /home/tfobe/Research/heteropolymer_simulations/examples/parameterize_peptide/output/peptide_amber.rst7\n"
     ]
    },
    {
     "name": "stderr",
     "output_type": "stream",
     "text": [
      "{'gromacs': 'Converted'}\n"
     ]
    },
    {
     "data": {
      "text/plain": [
       "1"
      ]
     },
     "execution_count": 15,
     "metadata": {},
     "output_type": "execute_result"
    }
   ],
   "source": [
    "subprocess.Popen([\"intermol-convert\", \"-f\", \"--amb_in\", amb_parm_file, amb_rst_file, \"--gromacs\"]).wait()"
   ]
  },
  {
   "cell_type": "markdown",
   "id": "0604c2a9",
   "metadata": {},
   "source": [
    "For some reason the output `peptide_amber_from_amber.gro` file is never formated correctly, so we will use `gmx editconf` to conver the PDB file output from `pdb4amber` to a GRO file."
   ]
  },
  {
   "cell_type": "code",
   "execution_count": 16,
   "id": "57802636",
   "metadata": {},
   "outputs": [
    {
     "data": {
      "text/plain": [
       "<Popen: returncode: None args: ['gmx', 'editconf', '-f', 'output/peptide_amb...>"
      ]
     },
     "execution_count": 16,
     "metadata": {},
     "output_type": "execute_result"
    },
    {
     "name": "stderr",
     "output_type": "stream",
     "text": [
      "                     :-) GROMACS - gmx editconf, 2022.4 (-:\n",
      "\n",
      "Executable:   /usr/local/bin/gmx\n",
      "Data prefix:  /usr/local\n",
      "Working dir:  /home/tfobe/Research/heteropolymer_simulations/examples/parameterize_peptide\n",
      "Command line:\n",
      "  gmx editconf -f output/peptide_amber.pdb -box 10 -o output/peptide_amber.gro\n",
      "\n",
      "WARNING: all CONECT records are ignored\n",
      "\n",
      "GROMACS reminds you: \"I'd Like Monday Mornings Better If They Started Later\" (Garfield)\n",
      "\n"
     ]
    },
    {
     "name": "stdout",
     "output_type": "stream",
     "text": [
      "Note that major changes are planned in future for editconf, to improve usability and utility.\n",
      "Read 126 atoms\n",
      "No velocities found\n",
      "    system size :  1.746  1.521  1.493 (nm)\n",
      "    center      :  0.571  0.062 -0.468 (nm)\n",
      "    box vectors :  0.000  0.000  0.000 (nm)\n",
      "    box angles  :   0.00   0.00   0.00 (degrees)\n",
      "    box volume  :   0.00               (nm^3)\n",
      "    shift       :  4.429  4.938  5.468 (nm)\n",
      "new center      :  5.000  5.000  5.000 (nm)\n",
      "new box vectors : 10.000 10.000 10.000 (nm)\n",
      "new box angles  :  90.00  90.00  90.00 (degrees)\n",
      "new box volume  :1000.00               (nm^3)\n"
     ]
    }
   ],
   "source": [
    "subprocess.Popen([\"gmx\", \"editconf\", \"-f\", os.path.join(output_dir, \"peptide_amber.pdb\"), \"-box\", \"10\", \"-o\", os.path.join(output_dir, \"peptide_amber.gro\")])"
   ]
  },
  {
   "cell_type": "code",
   "execution_count": null,
   "id": "fe7d8706",
   "metadata": {},
   "outputs": [],
   "source": []
  }
 ],
 "metadata": {
  "kernelspec": {
   "display_name": "Python 3 (ipykernel)",
   "language": "python",
   "name": "python3"
  },
  "language_info": {
   "codemirror_mode": {
    "name": "ipython",
    "version": 3
   },
   "file_extension": ".py",
   "mimetype": "text/x-python",
   "name": "python",
   "nbconvert_exporter": "python",
   "pygments_lexer": "ipython3",
   "version": "3.10.10"
  }
 },
 "nbformat": 4,
 "nbformat_minor": 5
}
