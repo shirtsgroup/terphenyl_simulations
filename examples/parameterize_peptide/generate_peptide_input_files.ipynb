{
 "cells": [
  {
   "cell_type": "code",
   "execution_count": 1,
   "id": "30557f01-a3d5-4860-972f-26ede5b26197",
   "metadata": {},
   "outputs": [
    {
     "name": "stderr",
     "output_type": "stream",
     "text": [
      "/home/lenny/anaconda3/envs/pymol_builder/lib/python3.11/site-packages/mdtraj/formats/__init__.py:6: DeprecationWarning: 'xdrlib' is deprecated and slated for removal in Python 3.13\n",
      "  from .xtc import XTCTrajectoryFile\n",
      "/home/lenny/anaconda3/envs/pymol_builder/lib/python3.11/site-packages/mdtraj/geometry/order.py:25: DeprecationWarning: pkg_resources is deprecated as an API. See https://setuptools.pypa.io/en/latest/pkg_resources.html\n",
      "  from pkg_resources import parse_version\n",
      "/home/lenny/anaconda3/envs/pymol_builder/lib/python3.11/site-packages/pkg_resources/__init__.py:2871: DeprecationWarning: Deprecated call to `pkg_resources.declare_namespace('google')`.\n",
      "Implementing implicit namespace packages (as specified in PEP 420) is preferred to `pkg_resources.declare_namespace`. See https://setuptools.pypa.io/en/latest/references/keywords.html#keyword-namespace-packages\n",
      "  declare_namespace(pkg)\n",
      "/home/lenny/anaconda3/envs/pymol_builder/lib/python3.11/site-packages/mbuild/recipes/__init__.py:13: DeprecationWarning: SelectableGroups dict interface is deprecated. Use select.\n",
      "  entry_points = metadata.entry_points()[\"mbuild.plugins\"]\n"
     ]
    }
   ],
   "source": [
    "import pymol\n",
    "import mbuild as mb\n",
    "from mbuild.lib.recipes.polymer import Polymer\n",
    "import warnings\n",
    "warnings.filterwarnings('ignore')\n",
    "import mdtraj as md\n",
    "from openff.interchange import Interchange\n",
    "from openmm import app\n",
    "from openff.toolkit import ForceField, Molecule\n",
    "from openff.toolkit.utils import get_data_file_path\n",
    "import os"
   ]
  },
  {
   "cell_type": "code",
   "execution_count": 2,
   "id": "d21904a8",
   "metadata": {},
   "outputs": [],
   "source": [
    "# Make output directory\n",
    "output_dir = \"output\"\n",
    "\n",
    "if not os.path.exists(output_dir):\n",
    "    os.makedirs(output_dir)"
   ]
  },
  {
   "cell_type": "markdown",
   "id": "18e7d9c0-c8c7-4537-933b-1b5560baa23c",
   "metadata": {},
   "source": [
    "# 1. Build PDB of helical peptide\n",
    "\n",
    "## 1.1 PyMol Scripts\n",
    "First we build the peptide sequence using PyMOLs built in peptide builder. Here we use the scripting version of PyMOL to build this peptide without interfacing with the PyMOL GUI."
   ]
  },
  {
   "cell_type": "code",
   "execution_count": 3,
   "id": "f1eb6921-ad90-4fda-9c88-505ec4e8b614",
   "metadata": {},
   "outputs": [],
   "source": [
    "peptide_sequence = \"AAQAAAAQAAAAQAA\"\n",
    "pymol.cmd.delete(\"all\")\n",
    "pymol.editor.fab(peptide_sequence, ss = 1, hydro=0)\n",
    "pymol.editor.attach_amino_acid(\"last name C\", 'nme', hydro=0)\n",
    "pymol.editor.attach_amino_acid(\"first name N\", 'ace', hydro=0)\n",
    "\n",
    "# Change the naming of NME CH3 to C, so it is consistent with AMBER\n",
    "pymol.cmd.alter(\"resn NME and name CH3\", \"name='C'\")\n",
    "pymol.cmd.set(\"pdb_conect_all\", \"off\")\n",
    "pymol.cmd.save(os.path.join(output_dir, \"long_peptide.pdb\"))"
   ]
  },
  {
   "cell_type": "code",
   "execution_count": 4,
   "id": "18be188b",
   "metadata": {},
   "outputs": [],
   "source": [
    "# Remove extra TER group after terminal alanine\n",
    "with open(os.path.join(output_dir, \"long_peptide.pdb\"), 'r') as fn:\n",
    "    lines = []\n",
    "    for line in fn.readlines():\n",
    "        if \"TER\" in line:\n",
    "            continue\n",
    "        else:\n",
    "            lines.append(line)\n",
    "with open(os.path.join(output_dir, \"long_peptide.pdb\"), 'w') as fn:\n",
    "    fn.writelines(lines)"
   ]
  },
  {
   "cell_type": "markdown",
   "id": "ba797a91",
   "metadata": {},
   "source": [
    "## 1.2 Adding Capping Residues\n",
    "\n",
    "Next we'll use `mbuild` to add our capping residues to the generated PyMol generated peptide pdb. If the peptide generated above has capping residues that are available in PyMOL, these steps can be skipped."
   ]
  },
  {
   "cell_type": "code",
   "execution_count": 8,
   "id": "9807004c-350b-4fa0-b9af-cc925136ad9a",
   "metadata": {},
   "outputs": [
    {
     "data": {
      "application/3dmoljs_load.v0": "<div id=\"3dmolviewer_16954082935003242\"  style=\"position: relative; width: 640px; height: 480px;\">\n        <p id=\"3dmolwarning_16954082935003242\" style=\"background-color:#ffcccc;color:black\">You appear to be running in JupyterLab (or JavaScript failed to load for some other reason).  You need to install the 3dmol extension: <br>\n        <tt>jupyter labextension install jupyterlab_3dmol</tt></p>\n        </div>\n<script>\n\nvar loadScriptAsync = function(uri){\n  return new Promise((resolve, reject) => {\n    //this is to ignore the existence of requirejs amd\n    var savedexports, savedmodule;\n    if (typeof exports !== 'undefined') savedexports = exports;\n    else exports = {}\n    if (typeof module !== 'undefined') savedmodule = module;\n    else module = {}\n\n    var tag = document.createElement('script');\n    tag.src = uri;\n    tag.async = true;\n    tag.onload = () => {\n        exports = savedexports;\n        module = savedmodule;\n        resolve();\n    };\n  var firstScriptTag = document.getElementsByTagName('script')[0];\n  firstScriptTag.parentNode.insertBefore(tag, firstScriptTag);\n});\n};\n\nif(typeof $3Dmolpromise === 'undefined') {\n$3Dmolpromise = null;\n  $3Dmolpromise = loadScriptAsync('https://cdnjs.cloudflare.com/ajax/libs/3Dmol/2.0.4/3Dmol-min.js');\n}\n\nvar viewer_16954082935003242 = null;\nvar warn = document.getElementById(\"3dmolwarning_16954082935003242\");\nif(warn) {\n    warn.parentNode.removeChild(warn);\n}\n$3Dmolpromise.then(function() {\nviewer_16954082935003242 = $3Dmol.createViewer(document.getElementById(\"3dmolviewer_16954082935003242\"),{backgroundColor:\"white\"});\nviewer_16954082935003242.zoomTo();\n\tviewer_16954082935003242.addModel(\"@<TRIPOS>MOLECULE\\nRES\\n92 91 1 0 1\\nSMALL\\nNO_CHARGES\\n@<TRIPOS>CRYSIN\\n   26.6670    20.1400    21.9060    90.0000    90.0000    90.0000 1 1\\n@<TRIPOS>ATOM\\n       1 C           16.2420     2.9610   -15.3630 C             1 RES     \\n       2 O           15.8190     3.8910   -16.0630 O             1 RES     \\n       3 CH3         15.5500     1.6150   -15.3540 CH3           1 RES     \\n       4 N           17.2880     3.1420   -14.6300 N             1 RES     \\n       5 CA          17.9640     4.4360   -14.6300 CA            1 RES     \\n       6 C           19.4640     4.2620   -14.6300 C             1 RES     \\n       7 O           20.1980     4.8970   -15.3960 O             1 RES     \\n       8 CB          17.4560     5.2280   -13.4130 CB            1 RES     \\n       9 N           19.9960     3.4260   -13.8040 N             1 RES     \\n      10 CA          21.4460     3.2580   -13.8040 CA            1 RES     \\n      11 C           21.9430     2.8570   -15.1730 C             1 RES     \\n      12 O           22.9160     3.4060   -15.7050 O             1 RES     \\n      13 CB          21.7970     2.2270   -12.7170 CB            1 RES     \\n      14 N           21.3360     1.9120   -15.8070 N             1 RES     \\n      15 CA          21.8160     1.5230   -17.1290 CA            1 RES     \\n      16 C           21.8270     2.7050   -18.0700 C             1 RES     \\n      17 O           22.7950     2.9580   -18.7840 O             1 RES     \\n      18 CB          20.9130     0.3930   -17.6710 CB            1 RES     \\n      19 CG          21.3020    -0.1910   -19.0700 CG            1 RES     \\n      20 CD          20.4170    -1.2730   -19.6990 CD            1 RES     \\n      21 NE2         19.3610    -1.7090   -19.0600 NE2           1 RES     \\n      22 OE1         20.6650    -1.7260   -20.8070 OE1           1 RES     \\n      23 N           20.7900     3.4700   -18.1270 N             1 RES     \\n      24 CA          20.8030     4.6110   -19.0370 CA            1 RES     \\n      25 C           21.9700     5.5230   -18.7440 C             1 RES     \\n      26 O           22.7060     5.9560   -19.6390 O             1 RES     \\n      27 CB          19.4440     5.3230   -18.9120 CB            1 RES     \\n      28 N           22.2070     5.8620   -17.5220 N             1 RES     \\n      29 CA          23.3360     6.7440   -17.2390 CA            1 RES     \\n      30 C           24.6250     6.1550   -17.7590 C             1 RES     \\n      31 O           25.4350     6.8230   -18.4130 O             1 RES     \\n      32 CB          23.3640     6.9930   -15.7210 CB            1 RES     \\n      33 N           24.8910     4.9170   -17.5130 N             1 RES     \\n      34 CA          26.1380     4.3480   -18.0160 CA            1 RES     \\n      35 C           26.2340     4.4980   -19.5160 C             1 RES     \\n      36 O           27.2590     4.9160   -20.0680 O             1 RES     \\n      37 CB          26.1980     2.8800   -17.5600 CB            1 RES     \\n      38 N           25.2170     4.1810   -20.2420 N             1 RES     \\n      39 CA          25.3100     4.3270   -21.6920 CA            1 RES     \\n      40 C           25.6590     5.7460   -22.0710 C             1 RES     \\n      41 O           26.5420     6.0070   -22.8970 O             1 RES     \\n      42 CB          23.9740     3.8600   -22.2950 CB            1 RES     \\n      43 N           25.0150     6.7170   -21.5170 N             1 RES     \\n      44 CA          25.3520     8.0890   -21.8820 CA            1 RES     \\n      45 C           26.8140     8.3740   -21.6340 C             1 RES     \\n      46 O           27.5190     8.9330   -22.4720 O             1 RES     \\n      47 CB          24.4550     9.0520   -21.0720 CB            1 RES     \\n      48 CG          24.6390    10.5780   -21.3630 CG            1 RES     \\n      49 CD          23.8270    11.5960   -20.5540 CD            1 RES     \\n      50 NE2         22.9810    11.1840   -19.6440 NE2           1 RES     \\n      51 OE1         23.9710    12.7970   -20.7250 OE1           1 RES     \\n      52 N           27.3380     8.0210   -20.5100 N             1 RES     \\n      53 CA          28.7520     8.2970   -20.2710 CA            1 RES     \\n      54 C           29.6130     7.6690   -21.3400 C             1 RES     \\n      55 O           30.5180     8.2940   -21.9050 O             1 RES     \\n      56 CB          29.0930     7.7930   -18.8580 CB            1 RES     \\n      57 N           29.3980     6.4420   -21.6750 N             1 RES     \\n      58 CA          30.2310     5.8340   -22.7090 CA            1 RES     \\n      59 C           30.1630     6.6280   -23.9920 C             1 RES     \\n      60 O           31.1790     6.9340   -24.6290 O             1 RES     \\n      61 CB          29.7690     4.3780   -22.8850 CB            1 RES     \\n      62 N           29.0110     6.9980   -24.4390 N             1 RES     \\n      63 CA          28.9460     7.7650   -25.6790 CA            1 RES     \\n      64 C           29.7710     9.0260   -25.5790 C             1 RES     \\n      65 O           30.5570     9.3680   -26.4700 O             1 RES     \\n      66 CB          27.4630     8.0450   -25.9780 CB            1 RES     \\n      67 N           29.6520     9.7680   -24.5310 N             1 RES     \\n      68 CA          30.4490    10.9870   -24.4340 CA            1 RES     \\n      69 C           31.9230    10.6800   -24.5530 C             1 RES     \\n      70 O           32.6710    11.3300   -25.2930 O             1 RES     \\n      71 CB          30.0900    11.6750   -23.1050 CB            1 RES     \\n      72 N           32.4170     9.7090   -23.8630 N             1 RES     \\n      73 CA          33.8410     9.4110   -23.9780 CA            1 RES     \\n      74 C           34.2220     9.1270   -25.4120 C             1 RES     \\n      75 O           35.2060     9.6420   -25.9370 O             1 RES     \\n      76 CB          34.1700     8.2060   -23.0690 CB            1 RES     \\n      77 CG          35.6700     7.7640   -23.0240 CG            1 RES     \\n      78 CD          36.0630     6.5370   -22.1910 CD            1 RES     \\n      79 NE2         35.1510     5.8850   -21.5170 NE2           1 RES     \\n      80 OE1         37.2170     6.1380   -22.1620 OE1           1 RES     \\n      81 N           33.4920     8.3210   -26.1050 N             1 RES     \\n      82 CA          33.8600     8.0480   -27.4910 CA            1 RES     \\n      83 C           33.9350     9.3250   -28.2920 C             1 RES     \\n      84 O           34.8890     9.5770   -29.0390 O             1 RES     \\n      85 CB          32.8380     7.0480   -28.0580 CB            1 RES     \\n      86 N           32.9750    10.1810   -28.1960 N             1 RES     \\n      87 CA          33.0480    11.4160   -28.9700 CA            1 RES     \\n      88 C           34.3110    12.1800   -28.6530 C             1 RES     \\n      89 O           34.7040    12.3450   -27.4920 O             1 RES     \\n      90 CB          31.7730    12.2260   -28.6780 CB            1 RES     \\n      91 N           35.0020    12.6760   -29.6230 N             1 RES     \\n      92 C           36.2210    13.4140   -29.3420 C             1 RES     \\n@<TRIPOS>BOND\\n       1        1        3 1\\n       2        1        2 1\\n       3        1        4 1\\n       4        4        5 1\\n       5        5        6 1\\n       6        5        8 1\\n       7        6        7 1\\n       8        6        9 1\\n       9        9       10 1\\n      10       10       11 1\\n      11       10       13 1\\n      12       11       12 1\\n      13       11       14 1\\n      14       14       15 1\\n      15       15       16 1\\n      16       15       18 1\\n      17       16       17 1\\n      18       16       23 1\\n      19       18       19 1\\n      20       19       20 1\\n      21       20       21 1\\n      22       20       22 1\\n      23       23       24 1\\n      24       24       25 1\\n      25       24       27 1\\n      26       25       26 1\\n      27       25       28 1\\n      28       28       29 1\\n      29       29       30 1\\n      30       29       32 1\\n      31       30       31 1\\n      32       30       33 1\\n      33       33       34 1\\n      34       34       35 1\\n      35       34       37 1\\n      36       35       36 1\\n      37       35       38 1\\n      38       38       39 1\\n      39       39       40 1\\n      40       39       42 1\\n      41       40       41 1\\n      42       40       43 1\\n      43       43       44 1\\n      44       44       45 1\\n      45       44       47 1\\n      46       45       46 1\\n      47       45       52 1\\n      48       47       48 1\\n      49       48       49 1\\n      50       49       50 1\\n      51       49       51 1\\n      52       52       53 1\\n      53       53       54 1\\n      54       53       56 1\\n      55       54       55 1\\n      56       54       57 1\\n      57       57       58 1\\n      58       58       59 1\\n      59       58       61 1\\n      60       59       60 1\\n      61       59       62 1\\n      62       62       63 1\\n      63       63       64 1\\n      64       63       66 1\\n      65       64       65 1\\n      66       64       67 1\\n      67       67       68 1\\n      68       68       69 1\\n      69       68       71 1\\n      70       69       70 1\\n      71       69       72 1\\n      72       72       73 1\\n      73       73       74 1\\n      74       73       76 1\\n      75       74       75 1\\n      76       74       81 1\\n      77       76       77 1\\n      78       77       78 1\\n      79       78       79 1\\n      80       78       80 1\\n      81       81       82 1\\n      82       82       83 1\\n      83       82       85 1\\n      84       83       84 1\\n      85       83       86 1\\n      86       86       87 1\\n      87       87       88 1\\n      88       87       90 1\\n      89       88       89 1\\n      90       88       91 1\\n      91       91       92 1\\n@<TRIPOS>SUBSTRUCTURE\\n       1 RES             1 RESIDUE    0 **** ROOT      0\\n\",\"mol2\");\n\tviewer_16954082935003242.setStyle({\"stick\": {\"radius\": 0.2, \"color\": \"grey\"}, \"sphere\": {\"scale\": 0.3, \"colorscheme\": {}}});\n\tviewer_16954082935003242.zoomTo();\n\tviewer_16954082935003242.setStyle({\"model\": -1, \"serial\": 1},{\"stick\": {\"radius\": 0.2, \"color\": \"grey\"}, \"sphere\": {\"scale\": 0.6, \"color\": \"black\"}});\n\tviewer_16954082935003242.setStyle({\"model\": -1, \"serial\": 129},{\"stick\": {\"radius\": 0.2, \"color\": \"grey\"}, \"sphere\": {\"scale\": 0.6, \"color\": \"black\"}});\nviewer_16954082935003242.render();\n});\n</script>",
      "text/html": [
       "<div id=\"3dmolviewer_16954082935003242\"  style=\"position: relative; width: 640px; height: 480px;\">\n",
       "        <p id=\"3dmolwarning_16954082935003242\" style=\"background-color:#ffcccc;color:black\">You appear to be running in JupyterLab (or JavaScript failed to load for some other reason).  You need to install the 3dmol extension: <br>\n",
       "        <tt>jupyter labextension install jupyterlab_3dmol</tt></p>\n",
       "        </div>\n",
       "<script>\n",
       "\n",
       "var loadScriptAsync = function(uri){\n",
       "  return new Promise((resolve, reject) => {\n",
       "    //this is to ignore the existence of requirejs amd\n",
       "    var savedexports, savedmodule;\n",
       "    if (typeof exports !== 'undefined') savedexports = exports;\n",
       "    else exports = {}\n",
       "    if (typeof module !== 'undefined') savedmodule = module;\n",
       "    else module = {}\n",
       "\n",
       "    var tag = document.createElement('script');\n",
       "    tag.src = uri;\n",
       "    tag.async = true;\n",
       "    tag.onload = () => {\n",
       "        exports = savedexports;\n",
       "        module = savedmodule;\n",
       "        resolve();\n",
       "    };\n",
       "  var firstScriptTag = document.getElementsByTagName('script')[0];\n",
       "  firstScriptTag.parentNode.insertBefore(tag, firstScriptTag);\n",
       "});\n",
       "};\n",
       "\n",
       "if(typeof $3Dmolpromise === 'undefined') {\n",
       "$3Dmolpromise = null;\n",
       "  $3Dmolpromise = loadScriptAsync('https://cdnjs.cloudflare.com/ajax/libs/3Dmol/2.0.4/3Dmol-min.js');\n",
       "}\n",
       "\n",
       "var viewer_16954082935003242 = null;\n",
       "var warn = document.getElementById(\"3dmolwarning_16954082935003242\");\n",
       "if(warn) {\n",
       "    warn.parentNode.removeChild(warn);\n",
       "}\n",
       "$3Dmolpromise.then(function() {\n",
       "viewer_16954082935003242 = $3Dmol.createViewer(document.getElementById(\"3dmolviewer_16954082935003242\"),{backgroundColor:\"white\"});\n",
       "viewer_16954082935003242.zoomTo();\n",
       "\tviewer_16954082935003242.addModel(\"@<TRIPOS>MOLECULE\\nRES\\n92 91 1 0 1\\nSMALL\\nNO_CHARGES\\n@<TRIPOS>CRYSIN\\n   26.6670    20.1400    21.9060    90.0000    90.0000    90.0000 1 1\\n@<TRIPOS>ATOM\\n       1 C           16.2420     2.9610   -15.3630 C             1 RES     \\n       2 O           15.8190     3.8910   -16.0630 O             1 RES     \\n       3 CH3         15.5500     1.6150   -15.3540 CH3           1 RES     \\n       4 N           17.2880     3.1420   -14.6300 N             1 RES     \\n       5 CA          17.9640     4.4360   -14.6300 CA            1 RES     \\n       6 C           19.4640     4.2620   -14.6300 C             1 RES     \\n       7 O           20.1980     4.8970   -15.3960 O             1 RES     \\n       8 CB          17.4560     5.2280   -13.4130 CB            1 RES     \\n       9 N           19.9960     3.4260   -13.8040 N             1 RES     \\n      10 CA          21.4460     3.2580   -13.8040 CA            1 RES     \\n      11 C           21.9430     2.8570   -15.1730 C             1 RES     \\n      12 O           22.9160     3.4060   -15.7050 O             1 RES     \\n      13 CB          21.7970     2.2270   -12.7170 CB            1 RES     \\n      14 N           21.3360     1.9120   -15.8070 N             1 RES     \\n      15 CA          21.8160     1.5230   -17.1290 CA            1 RES     \\n      16 C           21.8270     2.7050   -18.0700 C             1 RES     \\n      17 O           22.7950     2.9580   -18.7840 O             1 RES     \\n      18 CB          20.9130     0.3930   -17.6710 CB            1 RES     \\n      19 CG          21.3020    -0.1910   -19.0700 CG            1 RES     \\n      20 CD          20.4170    -1.2730   -19.6990 CD            1 RES     \\n      21 NE2         19.3610    -1.7090   -19.0600 NE2           1 RES     \\n      22 OE1         20.6650    -1.7260   -20.8070 OE1           1 RES     \\n      23 N           20.7900     3.4700   -18.1270 N             1 RES     \\n      24 CA          20.8030     4.6110   -19.0370 CA            1 RES     \\n      25 C           21.9700     5.5230   -18.7440 C             1 RES     \\n      26 O           22.7060     5.9560   -19.6390 O             1 RES     \\n      27 CB          19.4440     5.3230   -18.9120 CB            1 RES     \\n      28 N           22.2070     5.8620   -17.5220 N             1 RES     \\n      29 CA          23.3360     6.7440   -17.2390 CA            1 RES     \\n      30 C           24.6250     6.1550   -17.7590 C             1 RES     \\n      31 O           25.4350     6.8230   -18.4130 O             1 RES     \\n      32 CB          23.3640     6.9930   -15.7210 CB            1 RES     \\n      33 N           24.8910     4.9170   -17.5130 N             1 RES     \\n      34 CA          26.1380     4.3480   -18.0160 CA            1 RES     \\n      35 C           26.2340     4.4980   -19.5160 C             1 RES     \\n      36 O           27.2590     4.9160   -20.0680 O             1 RES     \\n      37 CB          26.1980     2.8800   -17.5600 CB            1 RES     \\n      38 N           25.2170     4.1810   -20.2420 N             1 RES     \\n      39 CA          25.3100     4.3270   -21.6920 CA            1 RES     \\n      40 C           25.6590     5.7460   -22.0710 C             1 RES     \\n      41 O           26.5420     6.0070   -22.8970 O             1 RES     \\n      42 CB          23.9740     3.8600   -22.2950 CB            1 RES     \\n      43 N           25.0150     6.7170   -21.5170 N             1 RES     \\n      44 CA          25.3520     8.0890   -21.8820 CA            1 RES     \\n      45 C           26.8140     8.3740   -21.6340 C             1 RES     \\n      46 O           27.5190     8.9330   -22.4720 O             1 RES     \\n      47 CB          24.4550     9.0520   -21.0720 CB            1 RES     \\n      48 CG          24.6390    10.5780   -21.3630 CG            1 RES     \\n      49 CD          23.8270    11.5960   -20.5540 CD            1 RES     \\n      50 NE2         22.9810    11.1840   -19.6440 NE2           1 RES     \\n      51 OE1         23.9710    12.7970   -20.7250 OE1           1 RES     \\n      52 N           27.3380     8.0210   -20.5100 N             1 RES     \\n      53 CA          28.7520     8.2970   -20.2710 CA            1 RES     \\n      54 C           29.6130     7.6690   -21.3400 C             1 RES     \\n      55 O           30.5180     8.2940   -21.9050 O             1 RES     \\n      56 CB          29.0930     7.7930   -18.8580 CB            1 RES     \\n      57 N           29.3980     6.4420   -21.6750 N             1 RES     \\n      58 CA          30.2310     5.8340   -22.7090 CA            1 RES     \\n      59 C           30.1630     6.6280   -23.9920 C             1 RES     \\n      60 O           31.1790     6.9340   -24.6290 O             1 RES     \\n      61 CB          29.7690     4.3780   -22.8850 CB            1 RES     \\n      62 N           29.0110     6.9980   -24.4390 N             1 RES     \\n      63 CA          28.9460     7.7650   -25.6790 CA            1 RES     \\n      64 C           29.7710     9.0260   -25.5790 C             1 RES     \\n      65 O           30.5570     9.3680   -26.4700 O             1 RES     \\n      66 CB          27.4630     8.0450   -25.9780 CB            1 RES     \\n      67 N           29.6520     9.7680   -24.5310 N             1 RES     \\n      68 CA          30.4490    10.9870   -24.4340 CA            1 RES     \\n      69 C           31.9230    10.6800   -24.5530 C             1 RES     \\n      70 O           32.6710    11.3300   -25.2930 O             1 RES     \\n      71 CB          30.0900    11.6750   -23.1050 CB            1 RES     \\n      72 N           32.4170     9.7090   -23.8630 N             1 RES     \\n      73 CA          33.8410     9.4110   -23.9780 CA            1 RES     \\n      74 C           34.2220     9.1270   -25.4120 C             1 RES     \\n      75 O           35.2060     9.6420   -25.9370 O             1 RES     \\n      76 CB          34.1700     8.2060   -23.0690 CB            1 RES     \\n      77 CG          35.6700     7.7640   -23.0240 CG            1 RES     \\n      78 CD          36.0630     6.5370   -22.1910 CD            1 RES     \\n      79 NE2         35.1510     5.8850   -21.5170 NE2           1 RES     \\n      80 OE1         37.2170     6.1380   -22.1620 OE1           1 RES     \\n      81 N           33.4920     8.3210   -26.1050 N             1 RES     \\n      82 CA          33.8600     8.0480   -27.4910 CA            1 RES     \\n      83 C           33.9350     9.3250   -28.2920 C             1 RES     \\n      84 O           34.8890     9.5770   -29.0390 O             1 RES     \\n      85 CB          32.8380     7.0480   -28.0580 CB            1 RES     \\n      86 N           32.9750    10.1810   -28.1960 N             1 RES     \\n      87 CA          33.0480    11.4160   -28.9700 CA            1 RES     \\n      88 C           34.3110    12.1800   -28.6530 C             1 RES     \\n      89 O           34.7040    12.3450   -27.4920 O             1 RES     \\n      90 CB          31.7730    12.2260   -28.6780 CB            1 RES     \\n      91 N           35.0020    12.6760   -29.6230 N             1 RES     \\n      92 C           36.2210    13.4140   -29.3420 C             1 RES     \\n@<TRIPOS>BOND\\n       1        1        3 1\\n       2        1        2 1\\n       3        1        4 1\\n       4        4        5 1\\n       5        5        6 1\\n       6        5        8 1\\n       7        6        7 1\\n       8        6        9 1\\n       9        9       10 1\\n      10       10       11 1\\n      11       10       13 1\\n      12       11       12 1\\n      13       11       14 1\\n      14       14       15 1\\n      15       15       16 1\\n      16       15       18 1\\n      17       16       17 1\\n      18       16       23 1\\n      19       18       19 1\\n      20       19       20 1\\n      21       20       21 1\\n      22       20       22 1\\n      23       23       24 1\\n      24       24       25 1\\n      25       24       27 1\\n      26       25       26 1\\n      27       25       28 1\\n      28       28       29 1\\n      29       29       30 1\\n      30       29       32 1\\n      31       30       31 1\\n      32       30       33 1\\n      33       33       34 1\\n      34       34       35 1\\n      35       34       37 1\\n      36       35       36 1\\n      37       35       38 1\\n      38       38       39 1\\n      39       39       40 1\\n      40       39       42 1\\n      41       40       41 1\\n      42       40       43 1\\n      43       43       44 1\\n      44       44       45 1\\n      45       44       47 1\\n      46       45       46 1\\n      47       45       52 1\\n      48       47       48 1\\n      49       48       49 1\\n      50       49       50 1\\n      51       49       51 1\\n      52       52       53 1\\n      53       53       54 1\\n      54       53       56 1\\n      55       54       55 1\\n      56       54       57 1\\n      57       57       58 1\\n      58       58       59 1\\n      59       58       61 1\\n      60       59       60 1\\n      61       59       62 1\\n      62       62       63 1\\n      63       63       64 1\\n      64       63       66 1\\n      65       64       65 1\\n      66       64       67 1\\n      67       67       68 1\\n      68       68       69 1\\n      69       68       71 1\\n      70       69       70 1\\n      71       69       72 1\\n      72       72       73 1\\n      73       73       74 1\\n      74       73       76 1\\n      75       74       75 1\\n      76       74       81 1\\n      77       76       77 1\\n      78       77       78 1\\n      79       78       79 1\\n      80       78       80 1\\n      81       81       82 1\\n      82       82       83 1\\n      83       82       85 1\\n      84       83       84 1\\n      85       83       86 1\\n      86       86       87 1\\n      87       87       88 1\\n      88       87       90 1\\n      89       88       89 1\\n      90       88       91 1\\n      91       91       92 1\\n@<TRIPOS>SUBSTRUCTURE\\n       1 RES             1 RESIDUE    0 **** ROOT      0\\n\",\"mol2\");\n",
       "\tviewer_16954082935003242.setStyle({\"stick\": {\"radius\": 0.2, \"color\": \"grey\"}, \"sphere\": {\"scale\": 0.3, \"colorscheme\": {}}});\n",
       "\tviewer_16954082935003242.zoomTo();\n",
       "\tviewer_16954082935003242.setStyle({\"model\": -1, \"serial\": 1},{\"stick\": {\"radius\": 0.2, \"color\": \"grey\"}, \"sphere\": {\"scale\": 0.6, \"color\": \"black\"}});\n",
       "\tviewer_16954082935003242.setStyle({\"model\": -1, \"serial\": 129},{\"stick\": {\"radius\": 0.2, \"color\": \"grey\"}, \"sphere\": {\"scale\": 0.6, \"color\": \"black\"}});\n",
       "viewer_16954082935003242.render();\n",
       "});\n",
       "</script>"
      ]
     },
     "metadata": {},
     "output_type": "display_data"
    },
    {
     "data": {
      "text/plain": [
       "<py3Dmol.view at 0x7f6f1e6c1c50>"
      ]
     },
     "execution_count": 8,
     "metadata": {},
     "output_type": "execute_result"
    }
   ],
   "source": [
    "# Use mbuild to visualize componenets\n",
    "peptide = mb.load(os.path.join(output_dir, \"long_peptide.pdb\"))\n",
    "peptide\n",
    "view = peptide.visualize(show_ports=True)\n",
    "style = {\n",
    "                \"stick\": {\"radius\": 0.2, \"color\": \"grey\"},\n",
    "                \"sphere\": {\"scale\": 0.6, \"color\" : \"black\"},\n",
    "    }\n",
    "view.setStyle({'model': -1, 'serial':1},style)\n",
    "view.setStyle({'model': -1, 'serial':129},style)"
   ]
  },
  {
   "cell_type": "code",
   "execution_count": 9,
   "id": "b45b3466",
   "metadata": {},
   "outputs": [
    {
     "data": {
      "application/3dmoljs_load.v0": "<div id=\"3dmolviewer_16954083003187997\"  style=\"position: relative; width: 640px; height: 480px;\">\n        <p id=\"3dmolwarning_16954083003187997\" style=\"background-color:#ffcccc;color:black\">You appear to be running in JupyterLab (or JavaScript failed to load for some other reason).  You need to install the 3dmol extension: <br>\n        <tt>jupyter labextension install jupyterlab_3dmol</tt></p>\n        </div>\n<script>\n\nvar loadScriptAsync = function(uri){\n  return new Promise((resolve, reject) => {\n    //this is to ignore the existence of requirejs amd\n    var savedexports, savedmodule;\n    if (typeof exports !== 'undefined') savedexports = exports;\n    else exports = {}\n    if (typeof module !== 'undefined') savedmodule = module;\n    else module = {}\n\n    var tag = document.createElement('script');\n    tag.src = uri;\n    tag.async = true;\n    tag.onload = () => {\n        exports = savedexports;\n        module = savedmodule;\n        resolve();\n    };\n  var firstScriptTag = document.getElementsByTagName('script')[0];\n  firstScriptTag.parentNode.insertBefore(tag, firstScriptTag);\n});\n};\n\nif(typeof $3Dmolpromise === 'undefined') {\n$3Dmolpromise = null;\n  $3Dmolpromise = loadScriptAsync('https://cdnjs.cloudflare.com/ajax/libs/3Dmol/2.0.4/3Dmol-min.js');\n}\n\nvar viewer_16954083003187997 = null;\nvar warn = document.getElementById(\"3dmolwarning_16954083003187997\");\nif(warn) {\n    warn.parentNode.removeChild(warn);\n}\n$3Dmolpromise.then(function() {\nviewer_16954083003187997 = $3Dmol.createViewer(document.getElementById(\"3dmolviewer_16954083003187997\"),{backgroundColor:\"white\"});\nviewer_16954083003187997.zoomTo();\n\tviewer_16954083003187997.addModel(\"@<TRIPOS>MOLECULE\\nRES\\n13 12 1 0 1\\nSMALL\\nNO_CHARGES\\n@<TRIPOS>CRYSIN\\n    8.6932     9.3829     8.7552    90.0000    90.0000    90.0000 1 1\\n@<TRIPOS>ATOM\\n       1 O            1.5486    -0.3419    -1.7372 O             1 RES     \\n       2 C            1.3743    -0.0373    -0.5269 C             1 RES     \\n       3 O            1.7813     1.2075    -0.0572 O             1 RES     \\n       4 C            0.6910    -0.9977     0.3979 C             1 RES     \\n       5 C           -0.8341    -0.9044     0.2819 C             1 RES     \\n       6 C           -1.3461     0.4110     0.7839 C             1 RES     \\n       7 O           -1.5301     0.5875     2.0180 O             1 RES     \\n       8 O           -1.5813     1.4507    -0.1102 O             1 RES     \\n       9 H            1.0098    -2.0319     0.1444 H             1 RES     \\n      10 H            1.0062    -0.7980     1.4453 H             1 RES     \\n      11 H           -1.2923    -1.7220     0.8794 H             1 RES     \\n      12 H           -1.1452    -1.0487    -0.7758 H             1 RES     \\n      13 H           -1.9119     2.3511     0.2155 H             1 RES     \\n@<TRIPOS>BOND\\n       1        1        2 1\\n       2        2        3 1\\n       3        2        4 1\\n       4        4        5 1\\n       5        4        9 1\\n       6        4       10 1\\n       7        5        6 1\\n       8        5       11 1\\n       9        5       12 1\\n      10        6        7 1\\n      11        6        8 1\\n      12        8       13 1\\n@<TRIPOS>SUBSTRUCTURE\\n       1 RES             1 RESIDUE    0 **** ROOT      0\\n\",\"mol2\");\n\tviewer_16954083003187997.setStyle({\"stick\": {\"radius\": 0.2, \"color\": \"grey\"}, \"sphere\": {\"scale\": 0.3, \"colorscheme\": {}}});\n\tviewer_16954083003187997.zoomTo();\n\tviewer_16954083003187997.setStyle({\"model\": -1, \"serial\": 3},{\"stick\": {\"radius\": 0.2, \"color\": \"grey\"}, \"sphere\": {\"scale\": 0.3, \"color\": \"black\"}});\n\tviewer_16954083003187997.setStyle({\"model\": -1, \"serial\": 3},{\"stick\": {\"radius\": 0.2, \"color\": \"grey\"}, \"sphere\": {\"scale\": 0.3, \"color\": \"black\"}});\nviewer_16954083003187997.render();\n});\n</script>",
      "text/html": [
       "<div id=\"3dmolviewer_16954083003187997\"  style=\"position: relative; width: 640px; height: 480px;\">\n",
       "        <p id=\"3dmolwarning_16954083003187997\" style=\"background-color:#ffcccc;color:black\">You appear to be running in JupyterLab (or JavaScript failed to load for some other reason).  You need to install the 3dmol extension: <br>\n",
       "        <tt>jupyter labextension install jupyterlab_3dmol</tt></p>\n",
       "        </div>\n",
       "<script>\n",
       "\n",
       "var loadScriptAsync = function(uri){\n",
       "  return new Promise((resolve, reject) => {\n",
       "    //this is to ignore the existence of requirejs amd\n",
       "    var savedexports, savedmodule;\n",
       "    if (typeof exports !== 'undefined') savedexports = exports;\n",
       "    else exports = {}\n",
       "    if (typeof module !== 'undefined') savedmodule = module;\n",
       "    else module = {}\n",
       "\n",
       "    var tag = document.createElement('script');\n",
       "    tag.src = uri;\n",
       "    tag.async = true;\n",
       "    tag.onload = () => {\n",
       "        exports = savedexports;\n",
       "        module = savedmodule;\n",
       "        resolve();\n",
       "    };\n",
       "  var firstScriptTag = document.getElementsByTagName('script')[0];\n",
       "  firstScriptTag.parentNode.insertBefore(tag, firstScriptTag);\n",
       "});\n",
       "};\n",
       "\n",
       "if(typeof $3Dmolpromise === 'undefined') {\n",
       "$3Dmolpromise = null;\n",
       "  $3Dmolpromise = loadScriptAsync('https://cdnjs.cloudflare.com/ajax/libs/3Dmol/2.0.4/3Dmol-min.js');\n",
       "}\n",
       "\n",
       "var viewer_16954083003187997 = null;\n",
       "var warn = document.getElementById(\"3dmolwarning_16954083003187997\");\n",
       "if(warn) {\n",
       "    warn.parentNode.removeChild(warn);\n",
       "}\n",
       "$3Dmolpromise.then(function() {\n",
       "viewer_16954083003187997 = $3Dmol.createViewer(document.getElementById(\"3dmolviewer_16954083003187997\"),{backgroundColor:\"white\"});\n",
       "viewer_16954083003187997.zoomTo();\n",
       "\tviewer_16954083003187997.addModel(\"@<TRIPOS>MOLECULE\\nRES\\n13 12 1 0 1\\nSMALL\\nNO_CHARGES\\n@<TRIPOS>CRYSIN\\n    8.6932     9.3829     8.7552    90.0000    90.0000    90.0000 1 1\\n@<TRIPOS>ATOM\\n       1 O            1.5486    -0.3419    -1.7372 O             1 RES     \\n       2 C            1.3743    -0.0373    -0.5269 C             1 RES     \\n       3 O            1.7813     1.2075    -0.0572 O             1 RES     \\n       4 C            0.6910    -0.9977     0.3979 C             1 RES     \\n       5 C           -0.8341    -0.9044     0.2819 C             1 RES     \\n       6 C           -1.3461     0.4110     0.7839 C             1 RES     \\n       7 O           -1.5301     0.5875     2.0180 O             1 RES     \\n       8 O           -1.5813     1.4507    -0.1102 O             1 RES     \\n       9 H            1.0098    -2.0319     0.1444 H             1 RES     \\n      10 H            1.0062    -0.7980     1.4453 H             1 RES     \\n      11 H           -1.2923    -1.7220     0.8794 H             1 RES     \\n      12 H           -1.1452    -1.0487    -0.7758 H             1 RES     \\n      13 H           -1.9119     2.3511     0.2155 H             1 RES     \\n@<TRIPOS>BOND\\n       1        1        2 1\\n       2        2        3 1\\n       3        2        4 1\\n       4        4        5 1\\n       5        4        9 1\\n       6        4       10 1\\n       7        5        6 1\\n       8        5       11 1\\n       9        5       12 1\\n      10        6        7 1\\n      11        6        8 1\\n      12        8       13 1\\n@<TRIPOS>SUBSTRUCTURE\\n       1 RES             1 RESIDUE    0 **** ROOT      0\\n\",\"mol2\");\n",
       "\tviewer_16954083003187997.setStyle({\"stick\": {\"radius\": 0.2, \"color\": \"grey\"}, \"sphere\": {\"scale\": 0.3, \"colorscheme\": {}}});\n",
       "\tviewer_16954083003187997.zoomTo();\n",
       "\tviewer_16954083003187997.setStyle({\"model\": -1, \"serial\": 3},{\"stick\": {\"radius\": 0.2, \"color\": \"grey\"}, \"sphere\": {\"scale\": 0.3, \"color\": \"black\"}});\n",
       "\tviewer_16954083003187997.setStyle({\"model\": -1, \"serial\": 3},{\"stick\": {\"radius\": 0.2, \"color\": \"grey\"}, \"sphere\": {\"scale\": 0.3, \"color\": \"black\"}});\n",
       "viewer_16954083003187997.render();\n",
       "});\n",
       "</script>"
      ]
     },
     "metadata": {},
     "output_type": "display_data"
    },
    {
     "data": {
      "text/plain": [
       "<py3Dmol.view at 0x7f6f1633bc10>"
      ]
     },
     "execution_count": 9,
     "metadata": {},
     "output_type": "execute_result"
    }
   ],
   "source": [
    "succynl = mb.load(\"O=C(O)CCC(=O)O\", smiles=True)\n",
    "succynl.save(os.path.join(output_dir,\"succ.pdb\"), overwrite=True)\n",
    "succynl.remove(succynl[8])\n",
    "view = succynl.visualize()\n",
    "\n",
    "style = {\n",
    "                \"stick\": {\"radius\": 0.2, \"color\": \"grey\"},\n",
    "                \"sphere\": {\"scale\": 0.3, \"color\" : \"black\"},\n",
    "    }\n",
    "view.setStyle({'model': -1, 'serial':3},style)\n",
    "#succynl = mb.load(\"O=C([O-])CCC(=O)O\", smiles=True)\n",
    "#view = succynl.visualize()\n",
    "view.setStyle({'model': -1, 'serial':3},style)"
   ]
  },
  {
   "cell_type": "code",
   "execution_count": 10,
   "id": "3ed09a97",
   "metadata": {},
   "outputs": [
    {
     "data": {
      "application/3dmoljs_load.v0": "<div id=\"3dmolviewer_16954083026748369\"  style=\"position: relative; width: 640px; height: 480px;\">\n        <p id=\"3dmolwarning_16954083026748369\" style=\"background-color:#ffcccc;color:black\">You appear to be running in JupyterLab (or JavaScript failed to load for some other reason).  You need to install the 3dmol extension: <br>\n        <tt>jupyter labextension install jupyterlab_3dmol</tt></p>\n        </div>\n<script>\n\nvar loadScriptAsync = function(uri){\n  return new Promise((resolve, reject) => {\n    //this is to ignore the existence of requirejs amd\n    var savedexports, savedmodule;\n    if (typeof exports !== 'undefined') savedexports = exports;\n    else exports = {}\n    if (typeof module !== 'undefined') savedmodule = module;\n    else module = {}\n\n    var tag = document.createElement('script');\n    tag.src = uri;\n    tag.async = true;\n    tag.onload = () => {\n        exports = savedexports;\n        module = savedmodule;\n        resolve();\n    };\n  var firstScriptTag = document.getElementsByTagName('script')[0];\n  firstScriptTag.parentNode.insertBefore(tag, firstScriptTag);\n});\n};\n\nif(typeof $3Dmolpromise === 'undefined') {\n$3Dmolpromise = null;\n  $3Dmolpromise = loadScriptAsync('https://cdnjs.cloudflare.com/ajax/libs/3Dmol/2.0.4/3Dmol-min.js');\n}\n\nvar viewer_16954083026748369 = null;\nvar warn = document.getElementById(\"3dmolwarning_16954083026748369\");\nif(warn) {\n    warn.parentNode.removeChild(warn);\n}\n$3Dmolpromise.then(function() {\nviewer_16954083026748369 = $3Dmol.createViewer(document.getElementById(\"3dmolviewer_16954083026748369\"),{backgroundColor:\"white\"});\nviewer_16954083026748369.zoomTo();\n\tviewer_16954083026748369.addModel(\"@<TRIPOS>MOLECULE\\nRES\\n4 3 1 0 1\\nSMALL\\nNO_CHARGES\\n@<TRIPOS>CRYSIN\\n    6.5469     6.6616     5.4185    90.0000    90.0000    90.0000 1 1\\n@<TRIPOS>ATOM\\n       1 N           -0.0100     0.0043     0.2947 N             1 RES     \\n       2 H            0.9622    -0.1265    -0.0640 H             1 RES     \\n       3 H           -0.5847    -0.7697    -0.1070 H             1 RES     \\n       4 H           -0.3675     0.8919    -0.1237 H             1 RES     \\n@<TRIPOS>BOND\\n       1        1        2 1\\n       2        1        3 1\\n       3        1        4 1\\n@<TRIPOS>SUBSTRUCTURE\\n       1 RES             1 RESIDUE    0 **** ROOT      0\\n\",\"mol2\");\n\tviewer_16954083026748369.setStyle({\"stick\": {\"radius\": 0.2, \"color\": \"grey\"}, \"sphere\": {\"scale\": 0.3, \"colorscheme\": {}}});\n\tviewer_16954083026748369.zoomTo();\n\tviewer_16954083026748369.setStyle({\"model\": -1, \"serial\": 2},{\"stick\": {\"radius\": 0.2, \"color\": \"grey\"}, \"sphere\": {\"scale\": 0.6, \"color\": \"black\"}});\nviewer_16954083026748369.render();\n});\n</script>",
      "text/html": [
       "<div id=\"3dmolviewer_16954083026748369\"  style=\"position: relative; width: 640px; height: 480px;\">\n",
       "        <p id=\"3dmolwarning_16954083026748369\" style=\"background-color:#ffcccc;color:black\">You appear to be running in JupyterLab (or JavaScript failed to load for some other reason).  You need to install the 3dmol extension: <br>\n",
       "        <tt>jupyter labextension install jupyterlab_3dmol</tt></p>\n",
       "        </div>\n",
       "<script>\n",
       "\n",
       "var loadScriptAsync = function(uri){\n",
       "  return new Promise((resolve, reject) => {\n",
       "    //this is to ignore the existence of requirejs amd\n",
       "    var savedexports, savedmodule;\n",
       "    if (typeof exports !== 'undefined') savedexports = exports;\n",
       "    else exports = {}\n",
       "    if (typeof module !== 'undefined') savedmodule = module;\n",
       "    else module = {}\n",
       "\n",
       "    var tag = document.createElement('script');\n",
       "    tag.src = uri;\n",
       "    tag.async = true;\n",
       "    tag.onload = () => {\n",
       "        exports = savedexports;\n",
       "        module = savedmodule;\n",
       "        resolve();\n",
       "    };\n",
       "  var firstScriptTag = document.getElementsByTagName('script')[0];\n",
       "  firstScriptTag.parentNode.insertBefore(tag, firstScriptTag);\n",
       "});\n",
       "};\n",
       "\n",
       "if(typeof $3Dmolpromise === 'undefined') {\n",
       "$3Dmolpromise = null;\n",
       "  $3Dmolpromise = loadScriptAsync('https://cdnjs.cloudflare.com/ajax/libs/3Dmol/2.0.4/3Dmol-min.js');\n",
       "}\n",
       "\n",
       "var viewer_16954083026748369 = null;\n",
       "var warn = document.getElementById(\"3dmolwarning_16954083026748369\");\n",
       "if(warn) {\n",
       "    warn.parentNode.removeChild(warn);\n",
       "}\n",
       "$3Dmolpromise.then(function() {\n",
       "viewer_16954083026748369 = $3Dmol.createViewer(document.getElementById(\"3dmolviewer_16954083026748369\"),{backgroundColor:\"white\"});\n",
       "viewer_16954083026748369.zoomTo();\n",
       "\tviewer_16954083026748369.addModel(\"@<TRIPOS>MOLECULE\\nRES\\n4 3 1 0 1\\nSMALL\\nNO_CHARGES\\n@<TRIPOS>CRYSIN\\n    6.5469     6.6616     5.4185    90.0000    90.0000    90.0000 1 1\\n@<TRIPOS>ATOM\\n       1 N           -0.0100     0.0043     0.2947 N             1 RES     \\n       2 H            0.9622    -0.1265    -0.0640 H             1 RES     \\n       3 H           -0.5847    -0.7697    -0.1070 H             1 RES     \\n       4 H           -0.3675     0.8919    -0.1237 H             1 RES     \\n@<TRIPOS>BOND\\n       1        1        2 1\\n       2        1        3 1\\n       3        1        4 1\\n@<TRIPOS>SUBSTRUCTURE\\n       1 RES             1 RESIDUE    0 **** ROOT      0\\n\",\"mol2\");\n",
       "\tviewer_16954083026748369.setStyle({\"stick\": {\"radius\": 0.2, \"color\": \"grey\"}, \"sphere\": {\"scale\": 0.3, \"colorscheme\": {}}});\n",
       "\tviewer_16954083026748369.zoomTo();\n",
       "\tviewer_16954083026748369.setStyle({\"model\": -1, \"serial\": 2},{\"stick\": {\"radius\": 0.2, \"color\": \"grey\"}, \"sphere\": {\"scale\": 0.6, \"color\": \"black\"}});\n",
       "viewer_16954083026748369.render();\n",
       "});\n",
       "</script>"
      ]
     },
     "metadata": {},
     "output_type": "display_data"
    },
    {
     "data": {
      "text/plain": [
       "<py3Dmol.view at 0x7f6f22a05f90>"
      ]
     },
     "execution_count": 10,
     "metadata": {},
     "output_type": "execute_result"
    }
   ],
   "source": [
    "nh3 = mb.load(\"N\", smiles=True)\n",
    "nh3.save(os.path.join(output_dir,\"nh3.pdb\"), overwrite=True)\n",
    "view = nh3.visualize()\n",
    "style = {\n",
    "                \"stick\": {\"radius\": 0.2, \"color\": \"grey\"},\n",
    "                \"sphere\": {\"scale\": 0.6, \"color\" : \"black\"},\n",
    "    }\n",
    "view.setStyle({'model': -1, 'serial':2},style)"
   ]
  },
  {
   "cell_type": "code",
   "execution_count": 11,
   "id": "aca96519",
   "metadata": {},
   "outputs": [
    {
     "data": {
      "application/3dmoljs_load.v0": "<div id=\"3dmolviewer_16954083091458557\"  style=\"position: relative; width: 640px; height: 480px;\">\n        <p id=\"3dmolwarning_16954083091458557\" style=\"background-color:#ffcccc;color:black\">You appear to be running in JupyterLab (or JavaScript failed to load for some other reason).  You need to install the 3dmol extension: <br>\n        <tt>jupyter labextension install jupyterlab_3dmol</tt></p>\n        </div>\n<script>\n\nvar loadScriptAsync = function(uri){\n  return new Promise((resolve, reject) => {\n    //this is to ignore the existence of requirejs amd\n    var savedexports, savedmodule;\n    if (typeof exports !== 'undefined') savedexports = exports;\n    else exports = {}\n    if (typeof module !== 'undefined') savedmodule = module;\n    else module = {}\n\n    var tag = document.createElement('script');\n    tag.src = uri;\n    tag.async = true;\n    tag.onload = () => {\n        exports = savedexports;\n        module = savedmodule;\n        resolve();\n    };\n  var firstScriptTag = document.getElementsByTagName('script')[0];\n  firstScriptTag.parentNode.insertBefore(tag, firstScriptTag);\n});\n};\n\nif(typeof $3Dmolpromise === 'undefined') {\n$3Dmolpromise = null;\n  $3Dmolpromise = loadScriptAsync('https://cdnjs.cloudflare.com/ajax/libs/3Dmol/2.0.4/3Dmol-min.js');\n}\n\nvar viewer_16954083091458557 = null;\nvar warn = document.getElementById(\"3dmolwarning_16954083091458557\");\nif(warn) {\n    warn.parentNode.removeChild(warn);\n}\n$3Dmolpromise.then(function() {\nviewer_16954083091458557 = $3Dmol.createViewer(document.getElementById(\"3dmolviewer_16954083091458557\"),{backgroundColor:\"white\"});\nviewer_16954083091458557.zoomTo();\n\tviewer_16954083091458557.addModel(\"@<TRIPOS>MOLECULE\\nRES\\n3 2 1 0 1\\nSMALL\\nNO_CHARGES\\n@<TRIPOS>CRYSIN\\n    6.5659     5.6181     6.0000    90.0000    90.0000    90.0000 1 1\\n@<TRIPOS>ATOM\\n       1 O            0.0062     0.4041     0.0000 O             1 RES     \\n       2 H           -0.7860    -0.1900     0.0000 H             1 RES     \\n       3 H            0.7799    -0.2140     0.0000 H             1 RES     \\n@<TRIPOS>BOND\\n       1        1        2 1\\n       2        1        3 1\\n@<TRIPOS>SUBSTRUCTURE\\n       1 RES             1 RESIDUE    0 **** ROOT      0\\n\",\"mol2\");\n\tviewer_16954083091458557.setStyle({\"stick\": {\"radius\": 0.2, \"color\": \"grey\"}, \"sphere\": {\"scale\": 0.3, \"colorscheme\": {}}});\n\tviewer_16954083091458557.zoomTo();\nviewer_16954083091458557.render();\n});\n</script>",
      "text/html": [
       "<div id=\"3dmolviewer_16954083091458557\"  style=\"position: relative; width: 640px; height: 480px;\">\n",
       "        <p id=\"3dmolwarning_16954083091458557\" style=\"background-color:#ffcccc;color:black\">You appear to be running in JupyterLab (or JavaScript failed to load for some other reason).  You need to install the 3dmol extension: <br>\n",
       "        <tt>jupyter labextension install jupyterlab_3dmol</tt></p>\n",
       "        </div>\n",
       "<script>\n",
       "\n",
       "var loadScriptAsync = function(uri){\n",
       "  return new Promise((resolve, reject) => {\n",
       "    //this is to ignore the existence of requirejs amd\n",
       "    var savedexports, savedmodule;\n",
       "    if (typeof exports !== 'undefined') savedexports = exports;\n",
       "    else exports = {}\n",
       "    if (typeof module !== 'undefined') savedmodule = module;\n",
       "    else module = {}\n",
       "\n",
       "    var tag = document.createElement('script');\n",
       "    tag.src = uri;\n",
       "    tag.async = true;\n",
       "    tag.onload = () => {\n",
       "        exports = savedexports;\n",
       "        module = savedmodule;\n",
       "        resolve();\n",
       "    };\n",
       "  var firstScriptTag = document.getElementsByTagName('script')[0];\n",
       "  firstScriptTag.parentNode.insertBefore(tag, firstScriptTag);\n",
       "});\n",
       "};\n",
       "\n",
       "if(typeof $3Dmolpromise === 'undefined') {\n",
       "$3Dmolpromise = null;\n",
       "  $3Dmolpromise = loadScriptAsync('https://cdnjs.cloudflare.com/ajax/libs/3Dmol/2.0.4/3Dmol-min.js');\n",
       "}\n",
       "\n",
       "var viewer_16954083091458557 = null;\n",
       "var warn = document.getElementById(\"3dmolwarning_16954083091458557\");\n",
       "if(warn) {\n",
       "    warn.parentNode.removeChild(warn);\n",
       "}\n",
       "$3Dmolpromise.then(function() {\n",
       "viewer_16954083091458557 = $3Dmol.createViewer(document.getElementById(\"3dmolviewer_16954083091458557\"),{backgroundColor:\"white\"});\n",
       "viewer_16954083091458557.zoomTo();\n",
       "\tviewer_16954083091458557.addModel(\"@<TRIPOS>MOLECULE\\nRES\\n3 2 1 0 1\\nSMALL\\nNO_CHARGES\\n@<TRIPOS>CRYSIN\\n    6.5659     5.6181     6.0000    90.0000    90.0000    90.0000 1 1\\n@<TRIPOS>ATOM\\n       1 O            0.0062     0.4041     0.0000 O             1 RES     \\n       2 H           -0.7860    -0.1900     0.0000 H             1 RES     \\n       3 H            0.7799    -0.2140     0.0000 H             1 RES     \\n@<TRIPOS>BOND\\n       1        1        2 1\\n       2        1        3 1\\n@<TRIPOS>SUBSTRUCTURE\\n       1 RES             1 RESIDUE    0 **** ROOT      0\\n\",\"mol2\");\n",
       "\tviewer_16954083091458557.setStyle({\"stick\": {\"radius\": 0.2, \"color\": \"grey\"}, \"sphere\": {\"scale\": 0.3, \"colorscheme\": {}}});\n",
       "\tviewer_16954083091458557.zoomTo();\n",
       "viewer_16954083091458557.render();\n",
       "});\n",
       "</script>"
      ]
     },
     "metadata": {},
     "output_type": "display_data"
    },
    {
     "data": {
      "text/plain": [
       "<py3Dmol.view at 0x7f6f163552d0>"
      ]
     },
     "execution_count": 11,
     "metadata": {},
     "output_type": "execute_result"
    }
   ],
   "source": [
    "h2o = mb.load(\"O\", smiles=True)\n",
    "h2o.save(os.path.join(output_dir,\"h2o.pdb\"), overwrite=True)\n",
    "h2o.visualize()"
   ]
  },
  {
   "cell_type": "markdown",
   "id": "849274d7",
   "metadata": {},
   "source": [
    "Now that we have our peptide and cap residues, we will use `mbuild` Polymer object to combine them."
   ]
  },
  {
   "cell_type": "code",
   "execution_count": 12,
   "id": "9d1c4553",
   "metadata": {},
   "outputs": [
    {
     "ename": "IndexError",
     "evalue": "list index out of range",
     "output_type": "error",
     "traceback": [
      "\u001b[0;31m---------------------------------------------------------------------------\u001b[0m",
      "\u001b[0;31mIndexError\u001b[0m                                Traceback (most recent call last)",
      "Cell \u001b[0;32mIn[12], line 3\u001b[0m\n\u001b[1;32m      1\u001b[0m chain \u001b[38;5;241m=\u001b[39m Polymer()\n\u001b[0;32m----> 3\u001b[0m \u001b[43mchain\u001b[49m\u001b[38;5;241;43m.\u001b[39;49m\u001b[43madd_monomer\u001b[49m\u001b[43m(\u001b[49m\u001b[43mcompound\u001b[49m\u001b[43m \u001b[49m\u001b[38;5;241;43m=\u001b[39;49m\u001b[43m \u001b[49m\u001b[43mpeptide\u001b[49m\u001b[43m,\u001b[49m\u001b[43m \u001b[49m\u001b[43mindices\u001b[49m\u001b[38;5;241;43m=\u001b[39;49m\u001b[43m[\u001b[49m\u001b[38;5;241;43m0\u001b[39;49m\u001b[43m,\u001b[49m\u001b[43m \u001b[49m\u001b[38;5;241;43m128\u001b[39;49m\u001b[43m]\u001b[49m\u001b[43m,\u001b[49m\u001b[43m \u001b[49m\u001b[43mseparation\u001b[49m\u001b[38;5;241;43m=\u001b[39;49m\u001b[38;5;241;43m0.15\u001b[39;49m\u001b[43m,\u001b[49m\u001b[43m \u001b[49m\u001b[43mreplace\u001b[49m\u001b[43m \u001b[49m\u001b[38;5;241;43m=\u001b[39;49m\u001b[43m \u001b[49m\u001b[38;5;28;43;01mFalse\u001b[39;49;00m\u001b[43m)\u001b[49m\n\u001b[1;32m      4\u001b[0m chain\u001b[38;5;241m.\u001b[39madd_end_groups(compound \u001b[38;5;241m=\u001b[39m succynl,\n\u001b[1;32m      5\u001b[0m                      index \u001b[38;5;241m=\u001b[39m \u001b[38;5;241m2\u001b[39m,\n\u001b[1;32m      6\u001b[0m                      separation \u001b[38;5;241m=\u001b[39m \u001b[38;5;241m0.15\u001b[39m,\n\u001b[0;32m   (...)\u001b[0m\n\u001b[1;32m      9\u001b[0m                      orientation\u001b[38;5;241m=\u001b[39m[\u001b[38;5;241m0.5\u001b[39m,\u001b[38;5;241m-\u001b[39m\u001b[38;5;241m0.5\u001b[39m,\u001b[38;5;241m0.5\u001b[39m]\n\u001b[1;32m     10\u001b[0m                     )\n\u001b[1;32m     12\u001b[0m chain\u001b[38;5;241m.\u001b[39madd_end_groups(compound \u001b[38;5;241m=\u001b[39m nh3,\n\u001b[1;32m     13\u001b[0m                      index \u001b[38;5;241m=\u001b[39m \u001b[38;5;241m2\u001b[39m,\n\u001b[1;32m     14\u001b[0m                      separation \u001b[38;5;241m=\u001b[39m \u001b[38;5;241m0.15\u001b[39m,\n\u001b[1;32m     15\u001b[0m                      label \u001b[38;5;241m=\u001b[39m \u001b[38;5;124m\"\u001b[39m\u001b[38;5;124mtail\u001b[39m\u001b[38;5;124m\"\u001b[39m,\n\u001b[1;32m     16\u001b[0m                      duplicate \u001b[38;5;241m=\u001b[39m \u001b[38;5;28;01mFalse\u001b[39;00m\n\u001b[1;32m     17\u001b[0m                     )\n",
      "File \u001b[0;32m~/anaconda3/envs/pymol_builder/lib/python3.11/site-packages/mbuild/lib/recipes/polymer.py:279\u001b[0m, in \u001b[0;36mPolymer.add_monomer\u001b[0;34m(self, compound, indices, separation, orientation, replace)\u001b[0m\n\u001b[1;32m    276\u001b[0m comp \u001b[38;5;241m=\u001b[39m clone(compound)\n\u001b[1;32m    278\u001b[0m \u001b[38;5;28;01mfor\u001b[39;00m idx, label, orientation \u001b[38;5;129;01min\u001b[39;00m \u001b[38;5;28mzip\u001b[39m(indices, port_labels, orientation):\n\u001b[0;32m--> 279\u001b[0m     \u001b[43m_add_port\u001b[49m\u001b[43m(\u001b[49m\u001b[43mcomp\u001b[49m\u001b[43m,\u001b[49m\u001b[43m \u001b[49m\u001b[43mlabel\u001b[49m\u001b[43m,\u001b[49m\u001b[43m \u001b[49m\u001b[43midx\u001b[49m\u001b[43m,\u001b[49m\u001b[43m \u001b[49m\u001b[43mseparation\u001b[49m\u001b[43m,\u001b[49m\u001b[43m \u001b[49m\u001b[43morientation\u001b[49m\u001b[43m,\u001b[49m\u001b[43m \u001b[49m\u001b[43mreplace\u001b[49m\u001b[43m)\u001b[49m\n\u001b[1;32m    280\u001b[0m \u001b[38;5;28;01mif\u001b[39;00m replace:\n\u001b[1;32m    281\u001b[0m     remove_atom1 \u001b[38;5;241m=\u001b[39m comp[indices[\u001b[38;5;241m0\u001b[39m]]\n",
      "File \u001b[0;32m~/anaconda3/envs/pymol_builder/lib/python3.11/site-packages/mbuild/lib/recipes/polymer.py:380\u001b[0m, in \u001b[0;36m_add_port\u001b[0;34m(compound, label, idx, separation, orientation, replace)\u001b[0m\n\u001b[1;32m    378\u001b[0m         separation \u001b[38;5;241m=\u001b[39m np\u001b[38;5;241m.\u001b[39mlinalg\u001b[38;5;241m.\u001b[39mnorm(compound[idx]\u001b[38;5;241m.\u001b[39mpos \u001b[38;5;241m-\u001b[39m anchor\u001b[38;5;241m.\u001b[39mpos)\n\u001b[1;32m    379\u001b[0m \u001b[38;5;28;01melse\u001b[39;00m:\n\u001b[0;32m--> 380\u001b[0m     anchor \u001b[38;5;241m=\u001b[39m \u001b[43mcompound\u001b[49m\u001b[43m[\u001b[49m\u001b[43midx\u001b[49m\u001b[43m]\u001b[49m\n\u001b[1;32m    382\u001b[0m port \u001b[38;5;241m=\u001b[39m Port(\n\u001b[1;32m    383\u001b[0m     anchor\u001b[38;5;241m=\u001b[39manchor,\n\u001b[1;32m    384\u001b[0m     orientation\u001b[38;5;241m=\u001b[39morientation,\n\u001b[1;32m    385\u001b[0m     separation\u001b[38;5;241m=\u001b[39mseparation \u001b[38;5;241m/\u001b[39m \u001b[38;5;241m2\u001b[39m,\n\u001b[1;32m    386\u001b[0m )\n\u001b[1;32m    387\u001b[0m compound\u001b[38;5;241m.\u001b[39madd(port, label\u001b[38;5;241m=\u001b[39mlabel)\n",
      "File \u001b[0;32m~/anaconda3/envs/pymol_builder/lib/python3.11/site-packages/mbuild/compound.py:3445\u001b[0m, in \u001b[0;36mCompound.__getitem__\u001b[0;34m(self, selection)\u001b[0m\n\u001b[1;32m   3443\u001b[0m \u001b[38;5;250m\u001b[39m\u001b[38;5;124;03m\"\"\"Get item from Compound.\"\"\"\u001b[39;00m\n\u001b[1;32m   3444\u001b[0m \u001b[38;5;28;01mif\u001b[39;00m \u001b[38;5;28misinstance\u001b[39m(selection, \u001b[38;5;28mint\u001b[39m):\n\u001b[0;32m-> 3445\u001b[0m     \u001b[38;5;28;01mreturn\u001b[39;00m \u001b[38;5;28;43mlist\u001b[39;49m\u001b[43m(\u001b[49m\u001b[38;5;28;43mself\u001b[39;49m\u001b[38;5;241;43m.\u001b[39;49m\u001b[43mparticles\u001b[49m\u001b[43m(\u001b[49m\u001b[43m)\u001b[49m\u001b[43m)\u001b[49m\u001b[43m[\u001b[49m\u001b[43mselection\u001b[49m\u001b[43m]\u001b[49m\n\u001b[1;32m   3446\u001b[0m \u001b[38;5;28;01mif\u001b[39;00m \u001b[38;5;28misinstance\u001b[39m(selection, \u001b[38;5;28mstr\u001b[39m):\n\u001b[1;32m   3447\u001b[0m     \u001b[38;5;28;01mif\u001b[39;00m selection \u001b[38;5;129;01mnot\u001b[39;00m \u001b[38;5;129;01min\u001b[39;00m \u001b[38;5;28mself\u001b[39m\u001b[38;5;241m.\u001b[39mlabels:\n",
      "\u001b[0;31mIndexError\u001b[0m: list index out of range"
     ]
    }
   ],
   "source": [
    "chain = Polymer()\n",
    "\n",
    "chain.add_monomer(compound = peptide, indices=[0, 128], separation=0.15, replace = False)\n",
    "chain.add_end_groups(compound = succynl,\n",
    "                     index = 2,\n",
    "                     separation = 0.15,\n",
    "                     label = \"head\",\n",
    "                     duplicate = False,\n",
    "                     orientation=[0.5,-0.5,0.5]\n",
    "                    )\n",
    "\n",
    "chain.add_end_groups(compound = nh3,\n",
    "                     index = 2,\n",
    "                     separation = 0.15,\n",
    "                     label = \"tail\",\n",
    "                     duplicate = False\n",
    "                    )\n",
    "\n",
    "chain.build(n=1)"
   ]
  },
  {
   "cell_type": "code",
   "execution_count": null,
   "id": "ad15b347",
   "metadata": {},
   "outputs": [],
   "source": [
    "peptide = chain.children[0]"
   ]
  },
  {
   "cell_type": "code",
   "execution_count": null,
   "id": "6b92824a",
   "metadata": {},
   "outputs": [],
   "source": [
    "chain.energy_minimize()\n",
    "chain.visualize()"
   ]
  },
  {
   "cell_type": "code",
   "execution_count": null,
   "id": "81c7fd10",
   "metadata": {},
   "outputs": [],
   "source": [
    "# Set labels for capping residues\n",
    "print(chain.children[1])\n",
    "chain.children[1].name = \"NTC\"\n",
    "\n",
    "print(chain.children[2])\n",
    "chain.children[2].name = \"CTC\""
   ]
  },
  {
   "cell_type": "code",
   "execution_count": null,
   "id": "e9c7f9a6",
   "metadata": {},
   "outputs": [],
   "source": [
    "# Verify we relabeled the non-standard capping residues\n",
    "chain.labels['Compound'][0]"
   ]
  },
  {
   "cell_type": "markdown",
   "id": "da6b0980",
   "metadata": {},
   "source": [
    "Now we save the peptide to file, ensuring amino acid residue names are written correctly. We also add the residues `NTC` and `CTC` for the N-terminal and C-terminal caps."
   ]
  },
  {
   "cell_type": "code",
   "execution_count": null,
   "id": "6008028b",
   "metadata": {},
   "outputs": [],
   "source": [
    "chain.save(\"mbuild_small_peptide.pdb\", overwrite = True, residues=[\"ALA\", \"LYS\", \"GLU\", \"TYR\", \"SER\", \"NTC\", \"CTC\"])\n",
    "smiles = chain.to_smiles()"
   ]
  },
  {
   "cell_type": "markdown",
   "id": "e38877c3",
   "metadata": {},
   "source": [
    "# 2. AMBER Parameterization\n",
    "\n",
    "Now we will use the AmberTools workflow to assign parameters for the peptide generated above."
   ]
  },
  {
   "cell_type": "code",
   "execution_count": 5,
   "id": "23af6d7e",
   "metadata": {},
   "outputs": [],
   "source": [
    "import subprocess\n",
    "\n",
    "peptide_pdb_fn = os.path.join(output_dir, \"long_peptide.pdb\")"
   ]
  },
  {
   "cell_type": "markdown",
   "id": "bec17dd7",
   "metadata": {},
   "source": [
    "## 2.1 Preparing the PDB file\n",
    "\n",
    "We first run our PDB through `pdb4amber` which prepares the PDB file for parameter assignment using `tleap`. "
   ]
  },
  {
   "cell_type": "code",
   "execution_count": 6,
   "id": "b9aa94e7",
   "metadata": {},
   "outputs": [
    {
     "name": "stderr",
     "output_type": "stream",
     "text": [
      "\n",
      "==================================================\n",
      "Summary of pdb4amber for: output/long_peptide.pdb\n",
      "===================================================\n",
      "\n",
      "----------Chains\n",
      "The following (original) chains have been found:\n",
      "\n",
      "\n",
      "---------- Alternate Locations (Original Residues!))\n",
      "\n",
      "The following residues had alternate locations:\n",
      "None\n",
      "-----------Non-standard-resnames\n",
      "\n",
      "\n",
      "---------- Gaps (Renumbered Residues!)\n",
      "gap of 4.090978 A between ACE 1 and ALA 3\n",
      "gap of 3.227160 A between ALA 2 and GLN 4\n",
      "gap of 3.229751 A between ALA 3 and ALA 5\n",
      "gap of 3.226545 A between GLN 4 and ALA 6\n",
      "gap of 3.227391 A between ALA 5 and ALA 7\n",
      "gap of 3.226035 A between ALA 6 and ALA 8\n",
      "gap of 3.227061 A between ALA 7 and GLN 9\n",
      "gap of 3.229582 A between ALA 8 and ALA 10\n",
      "gap of 3.227263 A between GLN 9 and ALA 11\n",
      "gap of 3.227452 A between ALA 10 and ALA 12\n",
      "gap of 3.227777 A between ALA 11 and ALA 13\n",
      "gap of 3.226835 A between ALA 12 and GLN 14\n",
      "gap of 3.229648 A between ALA 13 and ALA 15\n",
      "gap of 3.226610 A between GLN 14 and ALA 16\n",
      "\n",
      "---------- Missing heavy atom(s)\n",
      "\n",
      "None\n"
     ]
    },
    {
     "data": {
      "text/plain": [
       "0"
      ]
     },
     "execution_count": 6,
     "metadata": {},
     "output_type": "execute_result"
    }
   ],
   "source": [
    "subprocess.Popen([\"pdb4amber\",\"-i\", peptide_pdb_fn,\"-o\", os.path.join(output_dir, \"peptide_amber.pdb\",), \"--reduce\", \"--add-missing-atoms\"]).wait()"
   ]
  },
  {
   "cell_type": "markdown",
   "id": "84916946",
   "metadata": {},
   "source": [
    "## 2.2 Computing Partial Charges with Antechamber\n",
    "\n",
    "Next we use `antechamber` to assign partial charges for any custom residues. This requires having a `.cif` file of the custom residue used in your simulation.\n",
    "\n",
    "```\n",
    "$ antechamber -fi ccif -i CRO.cif -bk CRO -fo ac -o cro.ac -c bcc -at amber\n",
    "```"
   ]
  },
  {
   "cell_type": "markdown",
   "id": "53ca91b2",
   "metadata": {},
   "source": [
    "## 2.3 Preparing residue library files\n",
    "\n",
    "Here we prepare the custom residue library files to be included in the parameter assignment when we call `tleap`"
   ]
  },
  {
   "cell_type": "markdown",
   "id": "9849ddf0",
   "metadata": {},
   "source": [
    "## 2.4 Write `tleap` Input File \n",
    "\n",
    "We write an input file for `tleap` to assign parameters for the `peptide_amber.pdb` file we generated above. Additional custom residue prep and parameter files must be loaded using `loadAmberPrep` and `LoadAmberParams`."
   ]
  },
  {
   "cell_type": "code",
   "execution_count": 7,
   "id": "81e0c7e2",
   "metadata": {},
   "outputs": [],
   "source": [
    "amb_parm_file = os.path.join(output_dir,\"peptide_amber.parm7\")\n",
    "amb_rst_file = os.path.join(output_dir, \"peptide_amber.rst7\")\n",
    "\n",
    "lines = [\n",
    "    \"source leaprc.protein.ff14SB\",\n",
    "    \"x = loadPDB \" + os.path.join(output_dir,\"peptide_amber.pdb\"),\n",
    "    \"saveAmberParm x \" + \\\n",
    "    amb_parm_file + \" \" + \\\n",
    "    amb_rst_file,\n",
    "    \"quit\"\n",
    "]\n",
    "\n",
    "with open(os.path.join(output_dir, \"tleap.in\"), 'w') as fn:\n",
    "    fn.write(\"\\n\".join(lines))"
   ]
  },
  {
   "cell_type": "markdown",
   "id": "f6e4c117",
   "metadata": {},
   "source": [
    "##  2.5 Run `tleap` for Parameter Assignment"
   ]
  },
  {
   "cell_type": "code",
   "execution_count": 16,
   "id": "31c9d94a",
   "metadata": {},
   "outputs": [
    {
     "name": "stdout",
     "output_type": "stream",
     "text": [
      "-I: Adding /home/lenny/anaconda3/envs/pymol_builder/dat/leap/prep to search path.\n",
      "-I: Adding /home/lenny/anaconda3/envs/pymol_builder/dat/leap/lib to search path.\n",
      "-I: Adding /home/lenny/anaconda3/envs/pymol_builder/dat/leap/parm to search path.\n",
      "-I: Adding /home/lenny/anaconda3/envs/pymol_builder/dat/leap/cmd to search path.\n",
      "-f: Source output/tleap.in.\n",
      "\n",
      "Welcome to LEaP!\n",
      "(no leaprc in search path)\n",
      "Sourcing: ./output/tleap.in\n",
      "----- Source: /home/lenny/anaconda3/envs/pymol_builder/dat/leap/cmd/leaprc.protein.ff14SB\n",
      "----- Source of /home/lenny/anaconda3/envs/pymol_builder/dat/leap/cmd/leaprc.protein.ff14SB done\n",
      "Log file: ./leap.log\n",
      "Loading parameters: /home/lenny/anaconda3/envs/pymol_builder/dat/leap/parm/parm10.dat\n",
      "Reading title:\n",
      "PARM99 + frcmod.ff99SB + frcmod.parmbsc0 + OL3 for RNA\n",
      "Loading parameters: /home/lenny/anaconda3/envs/pymol_builder/dat/leap/parm/frcmod.ff14SB\n",
      "Reading force field modification type file (frcmod)\n",
      "Reading title:\n",
      "ff14SB protein backbone and sidechain parameters\n",
      "Loading library: /home/lenny/anaconda3/envs/pymol_builder/dat/leap/lib/amino12.lib\n",
      "Loading library: /home/lenny/anaconda3/envs/pymol_builder/dat/leap/lib/aminoct12.lib\n",
      "Loading library: /home/lenny/anaconda3/envs/pymol_builder/dat/leap/lib/aminont12.lib\n",
      "Loading PDB file: ./output/peptide_amber.pdb\n",
      "  total atoms in file: 183\n",
      "Checking Unit.\n",
      "Building topology.\n",
      "Building atom parameters.\n",
      "Building bond parameters.\n",
      "Building angle parameters.\n",
      "Building proper torsion parameters.\n",
      "Building improper torsion parameters.\n",
      " total 38 improper torsions applied\n",
      "Building H-Bond parameters.\n",
      "Incorporating Non-Bonded adjustments.\n",
      "Not Marking per-residue atom chain types.\n",
      "Marking per-residue atom chain types.\n",
      " (no restraints)\n",
      "\tQuit\n",
      "\n",
      "Exiting LEaP: Errors = 0; Warnings = 0; Notes = 0.\n"
     ]
    },
    {
     "data": {
      "text/plain": [
       "0"
      ]
     },
     "execution_count": 16,
     "metadata": {},
     "output_type": "execute_result"
    }
   ],
   "source": [
    "subprocess.Popen([\"tleap\", \"-f\", os.path.join(output_dir, \"tleap.in\")]).wait()"
   ]
  },
  {
   "cell_type": "markdown",
   "id": "8dde592b",
   "metadata": {},
   "source": [
    "## 3. Convert to GROMACS Parameter Files\n",
    "\n",
    "Now we will use `InterMol` a program for converting parameters between different FF packages. Intermol generates a `.top` file that contains the parameters for the peptide"
   ]
  },
  {
   "cell_type": "code",
   "execution_count": 17,
   "id": "80209164",
   "metadata": {},
   "outputs": [
    {
     "ename": "PermissionError",
     "evalue": "[Errno 13] Permission denied: 'intermol-convert'",
     "output_type": "error",
     "traceback": [
      "\u001b[0;31m---------------------------------------------------------------------------\u001b[0m",
      "\u001b[0;31mPermissionError\u001b[0m                           Traceback (most recent call last)",
      "Cell \u001b[0;32mIn[17], line 1\u001b[0m\n\u001b[0;32m----> 1\u001b[0m \u001b[43msubprocess\u001b[49m\u001b[38;5;241;43m.\u001b[39;49m\u001b[43mPopen\u001b[49m\u001b[43m(\u001b[49m\u001b[43m[\u001b[49m\u001b[38;5;124;43m\"\u001b[39;49m\u001b[38;5;124;43mintermol-convert\u001b[39;49m\u001b[38;5;124;43m\"\u001b[39;49m\u001b[43m,\u001b[49m\u001b[43m \u001b[49m\u001b[38;5;124;43m\"\u001b[39;49m\u001b[38;5;124;43m-f\u001b[39;49m\u001b[38;5;124;43m\"\u001b[39;49m\u001b[43m,\u001b[49m\u001b[43m \u001b[49m\u001b[38;5;124;43m\"\u001b[39;49m\u001b[38;5;124;43m--amb_in\u001b[39;49m\u001b[38;5;124;43m\"\u001b[39;49m\u001b[43m,\u001b[49m\u001b[43m \u001b[49m\u001b[43mamb_parm_file\u001b[49m\u001b[43m,\u001b[49m\u001b[43m \u001b[49m\u001b[43mamb_rst_file\u001b[49m\u001b[43m,\u001b[49m\u001b[43m \u001b[49m\u001b[38;5;124;43m\"\u001b[39;49m\u001b[38;5;124;43m--gromacs\u001b[39;49m\u001b[38;5;124;43m\"\u001b[39;49m\u001b[43m]\u001b[49m\u001b[43m)\u001b[49m\u001b[38;5;241m.\u001b[39mwait()\n",
      "File \u001b[0;32m~/anaconda3/envs/pymol_builder/lib/python3.11/subprocess.py:1026\u001b[0m, in \u001b[0;36mPopen.__init__\u001b[0;34m(self, args, bufsize, executable, stdin, stdout, stderr, preexec_fn, close_fds, shell, cwd, env, universal_newlines, startupinfo, creationflags, restore_signals, start_new_session, pass_fds, user, group, extra_groups, encoding, errors, text, umask, pipesize, process_group)\u001b[0m\n\u001b[1;32m   1022\u001b[0m         \u001b[38;5;28;01mif\u001b[39;00m \u001b[38;5;28mself\u001b[39m\u001b[38;5;241m.\u001b[39mtext_mode:\n\u001b[1;32m   1023\u001b[0m             \u001b[38;5;28mself\u001b[39m\u001b[38;5;241m.\u001b[39mstderr \u001b[38;5;241m=\u001b[39m io\u001b[38;5;241m.\u001b[39mTextIOWrapper(\u001b[38;5;28mself\u001b[39m\u001b[38;5;241m.\u001b[39mstderr,\n\u001b[1;32m   1024\u001b[0m                     encoding\u001b[38;5;241m=\u001b[39mencoding, errors\u001b[38;5;241m=\u001b[39merrors)\n\u001b[0;32m-> 1026\u001b[0m     \u001b[38;5;28;43mself\u001b[39;49m\u001b[38;5;241;43m.\u001b[39;49m\u001b[43m_execute_child\u001b[49m\u001b[43m(\u001b[49m\u001b[43margs\u001b[49m\u001b[43m,\u001b[49m\u001b[43m \u001b[49m\u001b[43mexecutable\u001b[49m\u001b[43m,\u001b[49m\u001b[43m \u001b[49m\u001b[43mpreexec_fn\u001b[49m\u001b[43m,\u001b[49m\u001b[43m \u001b[49m\u001b[43mclose_fds\u001b[49m\u001b[43m,\u001b[49m\n\u001b[1;32m   1027\u001b[0m \u001b[43m                        \u001b[49m\u001b[43mpass_fds\u001b[49m\u001b[43m,\u001b[49m\u001b[43m \u001b[49m\u001b[43mcwd\u001b[49m\u001b[43m,\u001b[49m\u001b[43m \u001b[49m\u001b[43menv\u001b[49m\u001b[43m,\u001b[49m\n\u001b[1;32m   1028\u001b[0m \u001b[43m                        \u001b[49m\u001b[43mstartupinfo\u001b[49m\u001b[43m,\u001b[49m\u001b[43m \u001b[49m\u001b[43mcreationflags\u001b[49m\u001b[43m,\u001b[49m\u001b[43m \u001b[49m\u001b[43mshell\u001b[49m\u001b[43m,\u001b[49m\n\u001b[1;32m   1029\u001b[0m \u001b[43m                        \u001b[49m\u001b[43mp2cread\u001b[49m\u001b[43m,\u001b[49m\u001b[43m \u001b[49m\u001b[43mp2cwrite\u001b[49m\u001b[43m,\u001b[49m\n\u001b[1;32m   1030\u001b[0m \u001b[43m                        \u001b[49m\u001b[43mc2pread\u001b[49m\u001b[43m,\u001b[49m\u001b[43m \u001b[49m\u001b[43mc2pwrite\u001b[49m\u001b[43m,\u001b[49m\n\u001b[1;32m   1031\u001b[0m \u001b[43m                        \u001b[49m\u001b[43merrread\u001b[49m\u001b[43m,\u001b[49m\u001b[43m \u001b[49m\u001b[43merrwrite\u001b[49m\u001b[43m,\u001b[49m\n\u001b[1;32m   1032\u001b[0m \u001b[43m                        \u001b[49m\u001b[43mrestore_signals\u001b[49m\u001b[43m,\u001b[49m\n\u001b[1;32m   1033\u001b[0m \u001b[43m                        \u001b[49m\u001b[43mgid\u001b[49m\u001b[43m,\u001b[49m\u001b[43m \u001b[49m\u001b[43mgids\u001b[49m\u001b[43m,\u001b[49m\u001b[43m \u001b[49m\u001b[43muid\u001b[49m\u001b[43m,\u001b[49m\u001b[43m \u001b[49m\u001b[43mumask\u001b[49m\u001b[43m,\u001b[49m\n\u001b[1;32m   1034\u001b[0m \u001b[43m                        \u001b[49m\u001b[43mstart_new_session\u001b[49m\u001b[43m,\u001b[49m\u001b[43m \u001b[49m\u001b[43mprocess_group\u001b[49m\u001b[43m)\u001b[49m\n\u001b[1;32m   1035\u001b[0m \u001b[38;5;28;01mexcept\u001b[39;00m:\n\u001b[1;32m   1036\u001b[0m     \u001b[38;5;66;03m# Cleanup if the child failed starting.\u001b[39;00m\n\u001b[1;32m   1037\u001b[0m     \u001b[38;5;28;01mfor\u001b[39;00m f \u001b[38;5;129;01min\u001b[39;00m \u001b[38;5;28mfilter\u001b[39m(\u001b[38;5;28;01mNone\u001b[39;00m, (\u001b[38;5;28mself\u001b[39m\u001b[38;5;241m.\u001b[39mstdin, \u001b[38;5;28mself\u001b[39m\u001b[38;5;241m.\u001b[39mstdout, \u001b[38;5;28mself\u001b[39m\u001b[38;5;241m.\u001b[39mstderr)):\n",
      "File \u001b[0;32m~/anaconda3/envs/pymol_builder/lib/python3.11/subprocess.py:1950\u001b[0m, in \u001b[0;36mPopen._execute_child\u001b[0;34m(self, args, executable, preexec_fn, close_fds, pass_fds, cwd, env, startupinfo, creationflags, shell, p2cread, p2cwrite, c2pread, c2pwrite, errread, errwrite, restore_signals, gid, gids, uid, umask, start_new_session, process_group)\u001b[0m\n\u001b[1;32m   1948\u001b[0m     \u001b[38;5;28;01mif\u001b[39;00m errno_num \u001b[38;5;241m!=\u001b[39m \u001b[38;5;241m0\u001b[39m:\n\u001b[1;32m   1949\u001b[0m         err_msg \u001b[38;5;241m=\u001b[39m os\u001b[38;5;241m.\u001b[39mstrerror(errno_num)\n\u001b[0;32m-> 1950\u001b[0m     \u001b[38;5;28;01mraise\u001b[39;00m child_exception_type(errno_num, err_msg, err_filename)\n\u001b[1;32m   1951\u001b[0m \u001b[38;5;28;01mraise\u001b[39;00m child_exception_type(err_msg)\n",
      "\u001b[0;31mPermissionError\u001b[0m: [Errno 13] Permission denied: 'intermol-convert'"
     ]
    }
   ],
   "source": [
    "subprocess.Popen([\"intermol-convert\", \"-f\", \"--amb_in\", amb_parm_file, amb_rst_file, \"--gromacs\"]).wait()"
   ]
  },
  {
   "cell_type": "markdown",
   "id": "6efd620a",
   "metadata": {},
   "source": [
    "For some reason the output `peptide_amber_from_amber.gro` file is never formated correctly, so we will use `gmx editconf` to conver the PDB file output from `pdb4amber` to a GRO file."
   ]
  },
  {
   "cell_type": "code",
   "execution_count": null,
   "id": "2e991844",
   "metadata": {},
   "outputs": [],
   "source": [
    "subprocess.Popen([\"gmx\", \"editconf\", \"-f\", os.path.join(output_dir, \"peptide_amber.pdb\"), \"-box\", \"10\", \"-o\", os.path.join(output_dir, \"peptide_amber.gro\")])"
   ]
  },
  {
   "cell_type": "code",
   "execution_count": null,
   "id": "d0878136",
   "metadata": {},
   "outputs": [],
   "source": []
  }
 ],
 "metadata": {
  "kernelspec": {
   "display_name": "Python 3 (ipykernel)",
   "language": "python",
   "name": "python3"
  },
  "language_info": {
   "codemirror_mode": {
    "name": "ipython",
    "version": 3
   },
   "file_extension": ".py",
   "mimetype": "text/x-python",
   "name": "python",
   "nbconvert_exporter": "python",
   "pygments_lexer": "ipython3",
   "version": "3.11.5"
  }
 },
 "nbformat": 4,
 "nbformat_minor": 5
}
