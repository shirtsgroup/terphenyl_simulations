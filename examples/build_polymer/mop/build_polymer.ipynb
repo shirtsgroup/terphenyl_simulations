{
 "cells": [
  {
   "cell_type": "markdown",
   "id": "fc04dc5f",
   "metadata": {},
   "source": [
    "# Building MOP-Terphenyl Polymers using mbuild\n",
    "\n",
    "Here we use `mbuild` to read in a SMILES string of a terphenyl monomer and build an n-residue polymer from the monomer."
   ]
  },
  {
   "cell_type": "code",
   "execution_count": 1,
   "id": "8d8dc4a9",
   "metadata": {},
   "outputs": [
    {
     "name": "stderr",
     "output_type": "stream",
     "text": [
      "Warning: importing 'simtk.openmm' is deprecated.  Import 'openmm' instead.\n"
     ]
    }
   ],
   "source": [
    "import mbuild as mb\n",
    "import numpy as np\n",
    "import subprocess\n",
    "from mbuild.lib.recipes.polymer import Polymer\n",
    "import warnings\n",
    "warnings.filterwarnings('ignore')"
   ]
  },
  {
   "cell_type": "markdown",
   "id": "c054b3df",
   "metadata": {},
   "source": [
    "First we get the MOP-terphenyl monomer from a smiles string."
   ]
  },
  {
   "cell_type": "code",
   "execution_count": 2,
   "id": "de5966db",
   "metadata": {},
   "outputs": [],
   "source": [
    "comp = mb.load('C(=O)c1ccc(c2c(cc(OC)cc2)(c3cccc(c3)[C@H](N)C))cc1', smiles = True, name=\"MOP\")"
   ]
  },
  {
   "cell_type": "markdown",
   "id": "d77b3b26",
   "metadata": {},
   "source": [
    "I output all the indexes of hydrogen atoms because we will uses these indexes for extending the polymer later on."
   ]
  },
  {
   "cell_type": "code",
   "execution_count": 3,
   "id": "97ca2c2a",
   "metadata": {},
   "outputs": [
    {
     "name": "stdout",
     "output_type": "stream",
     "text": [
      "25 <H pos=([-0.212  -0.58   -0.0471]), 1 bonds, id: 139962245819184>\n",
      "26 <H pos=([-0.0898 -0.3998  0.0731]), 1 bonds, id: 139962245820384>\n",
      "27 <H pos=([-0.05   -0.163   0.1233]), 1 bonds, id: 139962245821248>\n",
      "28 <H pos=([0.0677 0.2914 0.0327]), 1 bonds, id: 139962245822112>\n",
      "29 <H pos=([-0.1634  0.6468  0.1882]), 1 bonds, id: 139962245956368>\n",
      "30 <H pos=([-0.2546  0.5109  0.2639]), 1 bonds, id: 139962245955840>\n",
      "31 <H pos=([-0.2903  0.5616  0.0926]), 1 bonds, id: 139962245957664>\n",
      "32 <H pos=([-0.3495  0.3241  0.1313]), 1 bonds, id: 139962245821680>\n",
      "33 <H pos=([-0.3838  0.0902  0.0722]), 1 bonds, id: 139962245821344>\n",
      "34 <H pos=([-0.0312 -0.0175 -0.2343]), 1 bonds, id: 139962245823120>\n",
      "35 <H pos=([ 0.1606 -0.1453 -0.3215]), 1 bonds, id: 139962245824176>\n",
      "36 <H pos=([ 0.3677 -0.1653 -0.1902]), 1 bonds, id: 139962245823888>\n",
      "37 <H pos=([0.1908 0.073  0.123 ]), 1 bonds, id: 139962245957856>\n",
      "38 <H pos=([ 0.4982 -0.1177 -0.0019]), 1 bonds, id: 139962245955696>\n",
      "39 <H pos=([ 0.3596 -0.2263  0.1593]), 1 bonds, id: 139962245823984>\n",
      "40 <H pos=([ 0.3299 -0.0814  0.2403]), 1 bonds, id: 139962245823312>\n",
      "41 <H pos=([0.4204 0.1383 0.1503]), 1 bonds, id: 139962245819568>\n",
      "42 <H pos=([ 0.5041  0.1311 -0.0098]), 1 bonds, id: 139962245957376>\n",
      "43 <H pos=([0.5836 0.0632 0.137 ]), 1 bonds, id: 139962245957328>\n",
      "44 <H pos=([-0.363  -0.0518 -0.1518]), 1 bonds, id: 139962245959248>\n",
      "45 <H pos=([-0.4042 -0.2884 -0.2008]), 1 bonds, id: 139962245959680>\n"
     ]
    }
   ],
   "source": [
    "for i, atom in enumerate(comp):\n",
    "    if atom.name == \"H\":\n",
    "        print(i, atom)"
   ]
  },
  {
   "cell_type": "markdown",
   "id": "49431c09",
   "metadata": {},
   "source": [
    "`mbuild` comes with a nice tool to visualize Compounds built into jupyter-notebooks. Using the object from `py3Dmol` we can coloro the atoms to identify the indices needed to make substiutions when building the polymer."
   ]
  },
  {
   "cell_type": "code",
   "execution_count": 4,
   "id": "c147e44b",
   "metadata": {},
   "outputs": [
    {
     "data": {
      "application/3dmoljs_load.v0": "<div id=\"3dmolviewer_16915951018176765\"  style=\"position: relative; width: 640px; height: 480px\">\n        <p id=\"3dmolwarning_16915951018176765\" style=\"background-color:#ffcccc;color:black\">You appear to be running in JupyterLab (or JavaScript failed to load for some other reason).  You need to install the 3dmol extension: <br>\n        <tt>jupyter labextension install jupyterlab_3dmol</tt></p>\n        </div>\n<script>\n\nvar loadScriptAsync = function(uri){\n  return new Promise((resolve, reject) => {\n    //this is to ignore the existence of requirejs amd\n    var savedexports, savedmodule;\n    if (typeof exports !== 'undefined') savedexports = exports;\n    else exports = {}\n    if (typeof module !== 'undefined') savedmodule = module;\n    else module = {}\n\n    var tag = document.createElement('script');\n    tag.src = uri;\n    tag.async = true;\n    tag.onload = () => {\n        exports = savedexports;\n        module = savedmodule;\n        resolve();\n    };\n  var firstScriptTag = document.getElementsByTagName('script')[0];\n  firstScriptTag.parentNode.insertBefore(tag, firstScriptTag);\n});\n};\n\nif(typeof $3Dmolpromise === 'undefined') {\n$3Dmolpromise = null;\n  $3Dmolpromise = loadScriptAsync('https://cdnjs.cloudflare.com/ajax/libs/3Dmol/2.0.1/3Dmol-min.js');\n}\n\nvar viewer_16915951018176765 = null;\nvar warn = document.getElementById(\"3dmolwarning_16915951018176765\");\nif(warn) {\n    warn.parentNode.removeChild(warn);\n}\n$3Dmolpromise.then(function() {\nviewer_16915951018176765 = $3Dmol.createViewer(document.getElementById(\"3dmolviewer_16915951018176765\"),{backgroundColor:\"white\"});\nviewer_16915951018176765.zoomTo();\n\tviewer_16915951018176765.addModel(\"@<TRIPOS>MOLECULE\\nCompound\\n46 48 1 0 1\\nSMALL\\nNO_CHARGES\\n@<TRIPOS>CRYSIN\\n   14.8779    17.2689    10.8531    90.0000    90.0000    90.0000  1  1\\n@<TRIPOS>ATOM\\n       1 C           -2.7229    -5.0476    -0.9632 C             1 Compound\\n       2 O           -3.6117    -5.4151    -1.7767 O             1 Compound\\n       3 C           -2.4960    -3.6192    -0.6770 C             1 Compound\\n       4 C           -1.4981    -3.2452     0.2351 C             1 Compound\\n       5 C           -1.2678    -1.8960     0.5172 C             1 Compound\\n       6 C           -2.0265    -0.8981    -0.1164 C             1 Compound\\n       7 C           -1.7780     0.5351     0.1731 C             1 Compound\\n       8 C           -0.4896     1.1153     0.0522 C             1 Compound\\n       9 C           -0.3028     2.4596     0.4166 C             1 Compound\\n      10 C           -1.3700     3.2395     0.8718 C             1 Compound\\n      11 O           -1.1189     4.5765     1.2144 O             1 Compound\\n      12 C           -2.1076     5.4844     1.6897 C             1 Compound\\n      13 C           -2.6487     2.6652     0.9661 C             1 Compound\\n      14 C           -2.8475     1.3279     0.6198 C             1 Compound\\n      15 C            0.6657     0.3585    -0.4868 C             1 Compound\\n      16 C            0.5886    -0.2559    -1.7464 C             1 Compound\\n      17 C            1.6744    -0.9770    -2.2448 C             1 Compound\\n      18 C            2.8487    -1.0857    -1.4968 C             1 Compound\\n      19 C            2.9523    -0.4672    -0.2390 C             1 Compound\\n      20 C            1.8519     0.2569     0.2580 C             1 Compound\\n      21 C            4.2328    -0.6006     0.5680 C             1 Compound\\n      22 N            4.0005    -1.3251     1.8199 N             1 Compound\\n      23 C            4.8612     0.7670     0.8537 C             1 Compound\\n      24 C           -3.0335    -1.2726    -1.0197 C             1 Compound\\n      25 C           -3.2649    -2.6222    -1.3011 C             1 Compound\\n      26 H           -2.1203    -5.8004    -0.4710 H             1 Compound\\n      27 H           -0.8975    -3.9979     0.7313 H             1 Compound\\n      28 H           -0.4995    -1.6298     1.2326 H             1 Compound\\n      29 H            0.6772     2.9137     0.3268 H             1 Compound\\n      30 H           -1.6335     6.4685     1.8821 H             1 Compound\\n      31 H           -2.5459     5.1091     2.6385 H             1 Compound\\n      32 H           -2.9034     5.6162     0.9264 H             1 Compound\\n      33 H           -3.4953     3.2414     1.3135 H             1 Compound\\n      34 H           -3.8384     0.9021     0.7224 H             1 Compound\\n      35 H           -0.3117    -0.1747    -2.3429 H             1 Compound\\n      36 H            1.6062    -1.4528    -3.2146 H             1 Compound\\n      37 H            3.6775    -1.6526    -1.9022 H             1 Compound\\n      38 H            1.9083     0.7301     1.2303 H             1 Compound\\n      39 H            4.9824    -1.1770    -0.0193 H             1 Compound\\n      40 H            3.5958    -2.2630     1.5931 H             1 Compound\\n      41 H            3.2989    -0.8141     2.4031 H             1 Compound\\n      42 H            4.2038     1.3832     1.5026 H             1 Compound\\n      43 H            5.0410     1.3106    -0.0984 H             1 Compound\\n      44 H            5.8355     0.6318     1.3697 H             1 Compound\\n      45 H           -3.6302    -0.5182    -1.5178 H             1 Compound\\n      46 H           -4.0424    -2.8844    -2.0076 H             1 Compound\\n@<TRIPOS>BOND\\n       1        1        2 1\\n       2        1        3 1\\n       3        1       26 1\\n       4        3        4 1\\n       5        3       25 1\\n       6        4        5 1\\n       7        4       27 1\\n       8        5        6 1\\n       9        5       28 1\\n      10        6        7 1\\n      11        6       24 1\\n      12        7        8 1\\n      13        7       14 1\\n      14        8        9 1\\n      15        8       15 1\\n      16        9       10 1\\n      17        9       29 1\\n      18       10       11 1\\n      19       10       13 1\\n      20       11       12 1\\n      21       12       30 1\\n      22       12       31 1\\n      23       12       32 1\\n      24       13       14 1\\n      25       13       33 1\\n      26       14       34 1\\n      27       15       16 1\\n      28       15       20 1\\n      29       16       17 1\\n      30       16       35 1\\n      31       17       18 1\\n      32       17       36 1\\n      33       18       19 1\\n      34       18       37 1\\n      35       19       20 1\\n      36       19       21 1\\n      37       20       38 1\\n      38       21       22 1\\n      39       21       23 1\\n      40       21       39 1\\n      41       22       40 1\\n      42       22       41 1\\n      43       23       42 1\\n      44       23       43 1\\n      45       23       44 1\\n      46       24       25 1\\n      47       24       45 1\\n      48       25       46 1\\n@<TRIPOS>SUBSTRUCTURE\\n       1 Compound        1 RESIDUE    0 **** ROOT      0\\n\",\"mol2\");\n\tviewer_16915951018176765.setStyle({\"stick\": {\"radius\": 0.2, \"color\": \"grey\"}, \"sphere\": {\"scale\": 0.3, \"colorscheme\": {}}});\n\tviewer_16915951018176765.zoomTo();\n\tviewer_16915951018176765.setStyle({\"model\": -1, \"serial\": 26},{\"stick\": {\"radius\": 0.2, \"color\": \"grey\"}, \"sphere\": {\"scale\": 0.3, \"color\": \"black\"}});\n\tviewer_16915951018176765.setStyle({\"model\": -1, \"serial\": 41},{\"stick\": {\"radius\": 0.2, \"color\": \"grey\"}, \"sphere\": {\"scale\": 0.3, \"color\": \"black\"}});\nviewer_16915951018176765.render();\n});\n</script>",
      "text/html": [
       "<div id=\"3dmolviewer_16915951018176765\"  style=\"position: relative; width: 640px; height: 480px\">\n",
       "        <p id=\"3dmolwarning_16915951018176765\" style=\"background-color:#ffcccc;color:black\">You appear to be running in JupyterLab (or JavaScript failed to load for some other reason).  You need to install the 3dmol extension: <br>\n",
       "        <tt>jupyter labextension install jupyterlab_3dmol</tt></p>\n",
       "        </div>\n",
       "<script>\n",
       "\n",
       "var loadScriptAsync = function(uri){\n",
       "  return new Promise((resolve, reject) => {\n",
       "    //this is to ignore the existence of requirejs amd\n",
       "    var savedexports, savedmodule;\n",
       "    if (typeof exports !== 'undefined') savedexports = exports;\n",
       "    else exports = {}\n",
       "    if (typeof module !== 'undefined') savedmodule = module;\n",
       "    else module = {}\n",
       "\n",
       "    var tag = document.createElement('script');\n",
       "    tag.src = uri;\n",
       "    tag.async = true;\n",
       "    tag.onload = () => {\n",
       "        exports = savedexports;\n",
       "        module = savedmodule;\n",
       "        resolve();\n",
       "    };\n",
       "  var firstScriptTag = document.getElementsByTagName('script')[0];\n",
       "  firstScriptTag.parentNode.insertBefore(tag, firstScriptTag);\n",
       "});\n",
       "};\n",
       "\n",
       "if(typeof $3Dmolpromise === 'undefined') {\n",
       "$3Dmolpromise = null;\n",
       "  $3Dmolpromise = loadScriptAsync('https://cdnjs.cloudflare.com/ajax/libs/3Dmol/2.0.1/3Dmol-min.js');\n",
       "}\n",
       "\n",
       "var viewer_16915951018176765 = null;\n",
       "var warn = document.getElementById(\"3dmolwarning_16915951018176765\");\n",
       "if(warn) {\n",
       "    warn.parentNode.removeChild(warn);\n",
       "}\n",
       "$3Dmolpromise.then(function() {\n",
       "viewer_16915951018176765 = $3Dmol.createViewer(document.getElementById(\"3dmolviewer_16915951018176765\"),{backgroundColor:\"white\"});\n",
       "viewer_16915951018176765.zoomTo();\n",
       "\tviewer_16915951018176765.addModel(\"@<TRIPOS>MOLECULE\\nCompound\\n46 48 1 0 1\\nSMALL\\nNO_CHARGES\\n@<TRIPOS>CRYSIN\\n   14.8779    17.2689    10.8531    90.0000    90.0000    90.0000  1  1\\n@<TRIPOS>ATOM\\n       1 C           -2.7229    -5.0476    -0.9632 C             1 Compound\\n       2 O           -3.6117    -5.4151    -1.7767 O             1 Compound\\n       3 C           -2.4960    -3.6192    -0.6770 C             1 Compound\\n       4 C           -1.4981    -3.2452     0.2351 C             1 Compound\\n       5 C           -1.2678    -1.8960     0.5172 C             1 Compound\\n       6 C           -2.0265    -0.8981    -0.1164 C             1 Compound\\n       7 C           -1.7780     0.5351     0.1731 C             1 Compound\\n       8 C           -0.4896     1.1153     0.0522 C             1 Compound\\n       9 C           -0.3028     2.4596     0.4166 C             1 Compound\\n      10 C           -1.3700     3.2395     0.8718 C             1 Compound\\n      11 O           -1.1189     4.5765     1.2144 O             1 Compound\\n      12 C           -2.1076     5.4844     1.6897 C             1 Compound\\n      13 C           -2.6487     2.6652     0.9661 C             1 Compound\\n      14 C           -2.8475     1.3279     0.6198 C             1 Compound\\n      15 C            0.6657     0.3585    -0.4868 C             1 Compound\\n      16 C            0.5886    -0.2559    -1.7464 C             1 Compound\\n      17 C            1.6744    -0.9770    -2.2448 C             1 Compound\\n      18 C            2.8487    -1.0857    -1.4968 C             1 Compound\\n      19 C            2.9523    -0.4672    -0.2390 C             1 Compound\\n      20 C            1.8519     0.2569     0.2580 C             1 Compound\\n      21 C            4.2328    -0.6006     0.5680 C             1 Compound\\n      22 N            4.0005    -1.3251     1.8199 N             1 Compound\\n      23 C            4.8612     0.7670     0.8537 C             1 Compound\\n      24 C           -3.0335    -1.2726    -1.0197 C             1 Compound\\n      25 C           -3.2649    -2.6222    -1.3011 C             1 Compound\\n      26 H           -2.1203    -5.8004    -0.4710 H             1 Compound\\n      27 H           -0.8975    -3.9979     0.7313 H             1 Compound\\n      28 H           -0.4995    -1.6298     1.2326 H             1 Compound\\n      29 H            0.6772     2.9137     0.3268 H             1 Compound\\n      30 H           -1.6335     6.4685     1.8821 H             1 Compound\\n      31 H           -2.5459     5.1091     2.6385 H             1 Compound\\n      32 H           -2.9034     5.6162     0.9264 H             1 Compound\\n      33 H           -3.4953     3.2414     1.3135 H             1 Compound\\n      34 H           -3.8384     0.9021     0.7224 H             1 Compound\\n      35 H           -0.3117    -0.1747    -2.3429 H             1 Compound\\n      36 H            1.6062    -1.4528    -3.2146 H             1 Compound\\n      37 H            3.6775    -1.6526    -1.9022 H             1 Compound\\n      38 H            1.9083     0.7301     1.2303 H             1 Compound\\n      39 H            4.9824    -1.1770    -0.0193 H             1 Compound\\n      40 H            3.5958    -2.2630     1.5931 H             1 Compound\\n      41 H            3.2989    -0.8141     2.4031 H             1 Compound\\n      42 H            4.2038     1.3832     1.5026 H             1 Compound\\n      43 H            5.0410     1.3106    -0.0984 H             1 Compound\\n      44 H            5.8355     0.6318     1.3697 H             1 Compound\\n      45 H           -3.6302    -0.5182    -1.5178 H             1 Compound\\n      46 H           -4.0424    -2.8844    -2.0076 H             1 Compound\\n@<TRIPOS>BOND\\n       1        1        2 1\\n       2        1        3 1\\n       3        1       26 1\\n       4        3        4 1\\n       5        3       25 1\\n       6        4        5 1\\n       7        4       27 1\\n       8        5        6 1\\n       9        5       28 1\\n      10        6        7 1\\n      11        6       24 1\\n      12        7        8 1\\n      13        7       14 1\\n      14        8        9 1\\n      15        8       15 1\\n      16        9       10 1\\n      17        9       29 1\\n      18       10       11 1\\n      19       10       13 1\\n      20       11       12 1\\n      21       12       30 1\\n      22       12       31 1\\n      23       12       32 1\\n      24       13       14 1\\n      25       13       33 1\\n      26       14       34 1\\n      27       15       16 1\\n      28       15       20 1\\n      29       16       17 1\\n      30       16       35 1\\n      31       17       18 1\\n      32       17       36 1\\n      33       18       19 1\\n      34       18       37 1\\n      35       19       20 1\\n      36       19       21 1\\n      37       20       38 1\\n      38       21       22 1\\n      39       21       23 1\\n      40       21       39 1\\n      41       22       40 1\\n      42       22       41 1\\n      43       23       42 1\\n      44       23       43 1\\n      45       23       44 1\\n      46       24       25 1\\n      47       24       45 1\\n      48       25       46 1\\n@<TRIPOS>SUBSTRUCTURE\\n       1 Compound        1 RESIDUE    0 **** ROOT      0\\n\",\"mol2\");\n",
       "\tviewer_16915951018176765.setStyle({\"stick\": {\"radius\": 0.2, \"color\": \"grey\"}, \"sphere\": {\"scale\": 0.3, \"colorscheme\": {}}});\n",
       "\tviewer_16915951018176765.zoomTo();\n",
       "\tviewer_16915951018176765.setStyle({\"model\": -1, \"serial\": 26},{\"stick\": {\"radius\": 0.2, \"color\": \"grey\"}, \"sphere\": {\"scale\": 0.3, \"color\": \"black\"}});\n",
       "\tviewer_16915951018176765.setStyle({\"model\": -1, \"serial\": 41},{\"stick\": {\"radius\": 0.2, \"color\": \"grey\"}, \"sphere\": {\"scale\": 0.3, \"color\": \"black\"}});\n",
       "viewer_16915951018176765.render();\n",
       "});\n",
       "</script>"
      ]
     },
     "metadata": {},
     "output_type": "display_data"
    },
    {
     "data": {
      "text/plain": [
       "<py3Dmol.view at 0x7f4b7ff3eef0>"
      ]
     },
     "execution_count": 4,
     "metadata": {},
     "output_type": "execute_result"
    }
   ],
   "source": [
    "view = comp.visualize(show_ports=True)\n",
    "style = {\n",
    "                \"stick\": {\"radius\": 0.2, \"color\": \"grey\"},\n",
    "                \"sphere\": {\"scale\": 0.3, \"color\" : \"black\"},\n",
    "    }\n",
    "view.setStyle({'model': -1, 'serial':26},style)\n",
    "view.setStyle({'model': -1, 'serial':41},style)"
   ]
  },
  {
   "cell_type": "markdown",
   "id": "82da58e8",
   "metadata": {},
   "source": [
    "We also make the two capping compounds using SMILES strings:"
   ]
  },
  {
   "cell_type": "code",
   "execution_count": 5,
   "id": "48b31918",
   "metadata": {
    "scrolled": false
   },
   "outputs": [
    {
     "data": {
      "application/3dmoljs_load.v0": "<div id=\"3dmolviewer_16915951018765059\"  style=\"position: relative; width: 640px; height: 480px\">\n        <p id=\"3dmolwarning_16915951018765059\" style=\"background-color:#ffcccc;color:black\">You appear to be running in JupyterLab (or JavaScript failed to load for some other reason).  You need to install the 3dmol extension: <br>\n        <tt>jupyter labextension install jupyterlab_3dmol</tt></p>\n        </div>\n<script>\n\nvar loadScriptAsync = function(uri){\n  return new Promise((resolve, reject) => {\n    //this is to ignore the existence of requirejs amd\n    var savedexports, savedmodule;\n    if (typeof exports !== 'undefined') savedexports = exports;\n    else exports = {}\n    if (typeof module !== 'undefined') savedmodule = module;\n    else module = {}\n\n    var tag = document.createElement('script');\n    tag.src = uri;\n    tag.async = true;\n    tag.onload = () => {\n        exports = savedexports;\n        module = savedmodule;\n        resolve();\n    };\n  var firstScriptTag = document.getElementsByTagName('script')[0];\n  firstScriptTag.parentNode.insertBefore(tag, firstScriptTag);\n});\n};\n\nif(typeof $3Dmolpromise === 'undefined') {\n$3Dmolpromise = null;\n  $3Dmolpromise = loadScriptAsync('https://cdnjs.cloudflare.com/ajax/libs/3Dmol/2.0.1/3Dmol-min.js');\n}\n\nvar viewer_16915951018765059 = null;\nvar warn = document.getElementById(\"3dmolwarning_16915951018765059\");\nif(warn) {\n    warn.parentNode.removeChild(warn);\n}\n$3Dmolpromise.then(function() {\nviewer_16915951018765059 = $3Dmol.createViewer(document.getElementById(\"3dmolviewer_16915951018765059\"),{backgroundColor:\"white\"});\nviewer_16915951018765059.zoomTo();\n\tviewer_16915951018765059.addModel(\"@<TRIPOS>MOLECULE\\nCompound\\n6 5 1 0 1\\nSMALL\\nNO_CHARGES\\n@<TRIPOS>CRYSIN\\n    7.5955     6.7325     6.5627    90.0000    90.0000    90.0000  1  1\\n@<TRIPOS>ATOM\\n       1 C           -0.3566    -0.0316    -0.0168 C             1 Compound\\n       2 O            0.9584    -0.4372    -0.2657 O             1 Compound\\n       3 H           -0.5386     0.0288     1.0783 H             1 Compound\\n       4 H           -1.0555    -0.7739    -0.4544 H             1 Compound\\n       5 H           -0.5477     0.9586    -0.4845 H             1 Compound\\n       6 H            1.5400     0.2553     0.1430 H             1 Compound\\n@<TRIPOS>BOND\\n       1        1        2 1\\n       2        1        3 1\\n       3        1        4 1\\n       4        1        5 1\\n       5        2        6 1\\n@<TRIPOS>SUBSTRUCTURE\\n       1 Compound        1 RESIDUE    0 **** ROOT      0\\n\",\"mol2\");\n\tviewer_16915951018765059.setStyle({\"stick\": {\"radius\": 0.2, \"color\": \"grey\"}, \"sphere\": {\"scale\": 0.3, \"colorscheme\": {}}});\n\tviewer_16915951018765059.zoomTo();\nviewer_16915951018765059.render();\n});\n</script>",
      "text/html": [
       "<div id=\"3dmolviewer_16915951018765059\"  style=\"position: relative; width: 640px; height: 480px\">\n",
       "        <p id=\"3dmolwarning_16915951018765059\" style=\"background-color:#ffcccc;color:black\">You appear to be running in JupyterLab (or JavaScript failed to load for some other reason).  You need to install the 3dmol extension: <br>\n",
       "        <tt>jupyter labextension install jupyterlab_3dmol</tt></p>\n",
       "        </div>\n",
       "<script>\n",
       "\n",
       "var loadScriptAsync = function(uri){\n",
       "  return new Promise((resolve, reject) => {\n",
       "    //this is to ignore the existence of requirejs amd\n",
       "    var savedexports, savedmodule;\n",
       "    if (typeof exports !== 'undefined') savedexports = exports;\n",
       "    else exports = {}\n",
       "    if (typeof module !== 'undefined') savedmodule = module;\n",
       "    else module = {}\n",
       "\n",
       "    var tag = document.createElement('script');\n",
       "    tag.src = uri;\n",
       "    tag.async = true;\n",
       "    tag.onload = () => {\n",
       "        exports = savedexports;\n",
       "        module = savedmodule;\n",
       "        resolve();\n",
       "    };\n",
       "  var firstScriptTag = document.getElementsByTagName('script')[0];\n",
       "  firstScriptTag.parentNode.insertBefore(tag, firstScriptTag);\n",
       "});\n",
       "};\n",
       "\n",
       "if(typeof $3Dmolpromise === 'undefined') {\n",
       "$3Dmolpromise = null;\n",
       "  $3Dmolpromise = loadScriptAsync('https://cdnjs.cloudflare.com/ajax/libs/3Dmol/2.0.1/3Dmol-min.js');\n",
       "}\n",
       "\n",
       "var viewer_16915951018765059 = null;\n",
       "var warn = document.getElementById(\"3dmolwarning_16915951018765059\");\n",
       "if(warn) {\n",
       "    warn.parentNode.removeChild(warn);\n",
       "}\n",
       "$3Dmolpromise.then(function() {\n",
       "viewer_16915951018765059 = $3Dmol.createViewer(document.getElementById(\"3dmolviewer_16915951018765059\"),{backgroundColor:\"white\"});\n",
       "viewer_16915951018765059.zoomTo();\n",
       "\tviewer_16915951018765059.addModel(\"@<TRIPOS>MOLECULE\\nCompound\\n6 5 1 0 1\\nSMALL\\nNO_CHARGES\\n@<TRIPOS>CRYSIN\\n    7.5955     6.7325     6.5627    90.0000    90.0000    90.0000  1  1\\n@<TRIPOS>ATOM\\n       1 C           -0.3566    -0.0316    -0.0168 C             1 Compound\\n       2 O            0.9584    -0.4372    -0.2657 O             1 Compound\\n       3 H           -0.5386     0.0288     1.0783 H             1 Compound\\n       4 H           -1.0555    -0.7739    -0.4544 H             1 Compound\\n       5 H           -0.5477     0.9586    -0.4845 H             1 Compound\\n       6 H            1.5400     0.2553     0.1430 H             1 Compound\\n@<TRIPOS>BOND\\n       1        1        2 1\\n       2        1        3 1\\n       3        1        4 1\\n       4        1        5 1\\n       5        2        6 1\\n@<TRIPOS>SUBSTRUCTURE\\n       1 Compound        1 RESIDUE    0 **** ROOT      0\\n\",\"mol2\");\n",
       "\tviewer_16915951018765059.setStyle({\"stick\": {\"radius\": 0.2, \"color\": \"grey\"}, \"sphere\": {\"scale\": 0.3, \"colorscheme\": {}}});\n",
       "\tviewer_16915951018765059.zoomTo();\n",
       "viewer_16915951018765059.render();\n",
       "});\n",
       "</script>"
      ]
     },
     "metadata": {},
     "output_type": "display_data"
    },
    {
     "data": {
      "text/plain": [
       "<py3Dmol.view at 0x7f4b7ff3e200>"
      ]
     },
     "execution_count": 5,
     "metadata": {},
     "output_type": "execute_result"
    }
   ],
   "source": [
    "cap_o = mb.load('CO', smiles = True)\n",
    "cap_o.visualize()"
   ]
  },
  {
   "cell_type": "code",
   "execution_count": 6,
   "id": "98f339ae",
   "metadata": {
    "scrolled": false
   },
   "outputs": [
    {
     "data": {
      "application/3dmoljs_load.v0": "<div id=\"3dmolviewer_16915951019865499\"  style=\"position: relative; width: 640px; height: 480px\">\n        <p id=\"3dmolwarning_16915951019865499\" style=\"background-color:#ffcccc;color:black\">You appear to be running in JupyterLab (or JavaScript failed to load for some other reason).  You need to install the 3dmol extension: <br>\n        <tt>jupyter labextension install jupyterlab_3dmol</tt></p>\n        </div>\n<script>\n\nvar loadScriptAsync = function(uri){\n  return new Promise((resolve, reject) => {\n    //this is to ignore the existence of requirejs amd\n    var savedexports, savedmodule;\n    if (typeof exports !== 'undefined') savedexports = exports;\n    else exports = {}\n    if (typeof module !== 'undefined') savedmodule = module;\n    else module = {}\n\n    var tag = document.createElement('script');\n    tag.src = uri;\n    tag.async = true;\n    tag.onload = () => {\n        exports = savedexports;\n        module = savedmodule;\n        resolve();\n    };\n  var firstScriptTag = document.getElementsByTagName('script')[0];\n  firstScriptTag.parentNode.insertBefore(tag, firstScriptTag);\n});\n};\n\nif(typeof $3Dmolpromise === 'undefined') {\n$3Dmolpromise = null;\n  $3Dmolpromise = loadScriptAsync('https://cdnjs.cloudflare.com/ajax/libs/3Dmol/2.0.1/3Dmol-min.js');\n}\n\nvar viewer_16915951019865499 = null;\nvar warn = document.getElementById(\"3dmolwarning_16915951019865499\");\nif(warn) {\n    warn.parentNode.removeChild(warn);\n}\n$3Dmolpromise.then(function() {\nviewer_16915951019865499 = $3Dmol.createViewer(document.getElementById(\"3dmolviewer_16915951019865499\"),{backgroundColor:\"white\"});\nviewer_16915951019865499.zoomTo();\n\tviewer_16915951019865499.addModel(\"@<TRIPOS>MOLECULE\\nCompound\\n17 16 1 0 1\\nSMALL\\nNO_CHARGES\\n@<TRIPOS>CRYSIN\\n   10.1459     9.1665     9.1441    90.0000    90.0000    90.0000  1  1\\n@<TRIPOS>ATOM\\n       1 C           -0.7699     1.5203    -0.5363 C             1 Compound\\n       2 C           -0.1188     0.2072    -0.0756 C             1 Compound\\n       3 C           -0.7685    -0.2314     1.2509 C             1 Compound\\n       4 C           -0.3325    -0.8625    -1.1638 C             1 Compound\\n       5 O            1.2809     0.4683     0.1089 O             1 Compound\\n       6 C            2.2481    -0.4575     0.5254 C             1 Compound\\n       7 O            1.9539    -1.6539     0.7850 O             1 Compound\\n       8 H           -1.8618     1.3889    -0.6991 H             1 Compound\\n       9 H           -0.6194     2.3137     0.2272 H             1 Compound\\n      10 H           -0.3099     1.8657    -1.4872 H             1 Compound\\n      11 H           -0.5474     0.5091     2.0492 H             1 Compound\\n      12 H           -0.3906    -1.2212     1.5788 H             1 Compound\\n      13 H           -1.8713    -0.3123     1.1379 H             1 Compound\\n      14 H            0.2008    -0.5740    -2.0948 H             1 Compound\\n      15 H            0.0457    -1.8527    -0.8376 H             1 Compound\\n      16 H           -1.4140    -0.9742    -1.3948 H             1 Compound\\n      17 H            3.2746    -0.1334     0.6260 H             1 Compound\\n@<TRIPOS>BOND\\n       1        1        2 1\\n       2        1        8 1\\n       3        1        9 1\\n       4        1       10 1\\n       5        2        3 1\\n       6        2        4 1\\n       7        2        5 1\\n       8        3       11 1\\n       9        3       12 1\\n      10        3       13 1\\n      11        4       14 1\\n      12        4       15 1\\n      13        4       16 1\\n      14        5        6 1\\n      15        6        7 1\\n      16        6       17 1\\n@<TRIPOS>SUBSTRUCTURE\\n       1 Compound        1 RESIDUE    0 **** ROOT      0\\n\",\"mol2\");\n\tviewer_16915951019865499.setStyle({\"stick\": {\"radius\": 0.2, \"color\": \"grey\"}, \"sphere\": {\"scale\": 0.3, \"colorscheme\": {}}});\n\tviewer_16915951019865499.zoomTo();\nviewer_16915951019865499.render();\n});\n</script>",
      "text/html": [
       "<div id=\"3dmolviewer_16915951019865499\"  style=\"position: relative; width: 640px; height: 480px\">\n",
       "        <p id=\"3dmolwarning_16915951019865499\" style=\"background-color:#ffcccc;color:black\">You appear to be running in JupyterLab (or JavaScript failed to load for some other reason).  You need to install the 3dmol extension: <br>\n",
       "        <tt>jupyter labextension install jupyterlab_3dmol</tt></p>\n",
       "        </div>\n",
       "<script>\n",
       "\n",
       "var loadScriptAsync = function(uri){\n",
       "  return new Promise((resolve, reject) => {\n",
       "    //this is to ignore the existence of requirejs amd\n",
       "    var savedexports, savedmodule;\n",
       "    if (typeof exports !== 'undefined') savedexports = exports;\n",
       "    else exports = {}\n",
       "    if (typeof module !== 'undefined') savedmodule = module;\n",
       "    else module = {}\n",
       "\n",
       "    var tag = document.createElement('script');\n",
       "    tag.src = uri;\n",
       "    tag.async = true;\n",
       "    tag.onload = () => {\n",
       "        exports = savedexports;\n",
       "        module = savedmodule;\n",
       "        resolve();\n",
       "    };\n",
       "  var firstScriptTag = document.getElementsByTagName('script')[0];\n",
       "  firstScriptTag.parentNode.insertBefore(tag, firstScriptTag);\n",
       "});\n",
       "};\n",
       "\n",
       "if(typeof $3Dmolpromise === 'undefined') {\n",
       "$3Dmolpromise = null;\n",
       "  $3Dmolpromise = loadScriptAsync('https://cdnjs.cloudflare.com/ajax/libs/3Dmol/2.0.1/3Dmol-min.js');\n",
       "}\n",
       "\n",
       "var viewer_16915951019865499 = null;\n",
       "var warn = document.getElementById(\"3dmolwarning_16915951019865499\");\n",
       "if(warn) {\n",
       "    warn.parentNode.removeChild(warn);\n",
       "}\n",
       "$3Dmolpromise.then(function() {\n",
       "viewer_16915951019865499 = $3Dmol.createViewer(document.getElementById(\"3dmolviewer_16915951019865499\"),{backgroundColor:\"white\"});\n",
       "viewer_16915951019865499.zoomTo();\n",
       "\tviewer_16915951019865499.addModel(\"@<TRIPOS>MOLECULE\\nCompound\\n17 16 1 0 1\\nSMALL\\nNO_CHARGES\\n@<TRIPOS>CRYSIN\\n   10.1459     9.1665     9.1441    90.0000    90.0000    90.0000  1  1\\n@<TRIPOS>ATOM\\n       1 C           -0.7699     1.5203    -0.5363 C             1 Compound\\n       2 C           -0.1188     0.2072    -0.0756 C             1 Compound\\n       3 C           -0.7685    -0.2314     1.2509 C             1 Compound\\n       4 C           -0.3325    -0.8625    -1.1638 C             1 Compound\\n       5 O            1.2809     0.4683     0.1089 O             1 Compound\\n       6 C            2.2481    -0.4575     0.5254 C             1 Compound\\n       7 O            1.9539    -1.6539     0.7850 O             1 Compound\\n       8 H           -1.8618     1.3889    -0.6991 H             1 Compound\\n       9 H           -0.6194     2.3137     0.2272 H             1 Compound\\n      10 H           -0.3099     1.8657    -1.4872 H             1 Compound\\n      11 H           -0.5474     0.5091     2.0492 H             1 Compound\\n      12 H           -0.3906    -1.2212     1.5788 H             1 Compound\\n      13 H           -1.8713    -0.3123     1.1379 H             1 Compound\\n      14 H            0.2008    -0.5740    -2.0948 H             1 Compound\\n      15 H            0.0457    -1.8527    -0.8376 H             1 Compound\\n      16 H           -1.4140    -0.9742    -1.3948 H             1 Compound\\n      17 H            3.2746    -0.1334     0.6260 H             1 Compound\\n@<TRIPOS>BOND\\n       1        1        2 1\\n       2        1        8 1\\n       3        1        9 1\\n       4        1       10 1\\n       5        2        3 1\\n       6        2        4 1\\n       7        2        5 1\\n       8        3       11 1\\n       9        3       12 1\\n      10        3       13 1\\n      11        4       14 1\\n      12        4       15 1\\n      13        4       16 1\\n      14        5        6 1\\n      15        6        7 1\\n      16        6       17 1\\n@<TRIPOS>SUBSTRUCTURE\\n       1 Compound        1 RESIDUE    0 **** ROOT      0\\n\",\"mol2\");\n",
       "\tviewer_16915951019865499.setStyle({\"stick\": {\"radius\": 0.2, \"color\": \"grey\"}, \"sphere\": {\"scale\": 0.3, \"colorscheme\": {}}});\n",
       "\tviewer_16915951019865499.zoomTo();\n",
       "viewer_16915951019865499.render();\n",
       "});\n",
       "</script>"
      ]
     },
     "metadata": {},
     "output_type": "display_data"
    },
    {
     "data": {
      "text/plain": [
       "<py3Dmol.view at 0x7f4b7ff7b520>"
      ]
     },
     "execution_count": 6,
     "metadata": {},
     "output_type": "execute_result"
    }
   ],
   "source": [
    "cap_n = mb.load('CC(C)(C)OC=O', smiles = True)\n",
    "cap_n.visualize()"
   ]
  },
  {
   "cell_type": "markdown",
   "id": "21187d37",
   "metadata": {},
   "source": [
    "Here we use the `Polymer` object to build a hexamer from the molecules we built in the previous cells. `Polymer.add_monomer()` is used to add the monomers to the polymer object. `Polymer.add_end_groups()` adds the capping groups to the object with `\"head\"` and `\"tail\"` labels for the each end of the polymer. `replace = True` will replace the specified atoms with the next residue. `indices` is used to specify which atom will be replaced in each group. Finally, when we call `Polymer.build()`, the polymer is built with the specified `n` residues and the provided capping residues. `sequence` is used if multiple monomers are provided."
   ]
  },
  {
   "cell_type": "code",
   "execution_count": 7,
   "id": "e6206e9d",
   "metadata": {},
   "outputs": [],
   "source": [
    "chain = Polymer()\n",
    "chain.add_monomer(compound=comp,\n",
    "                  indices=[25, 40],\n",
    "                  separation=.15,\n",
    "                  replace=True,\n",
    "                  # orientation = [[0,-1,0],[1,0,0]]\n",
    "                 )\n",
    "chain.add_end_groups(compound = cap_o,\n",
    "                     index = -1,\n",
    "                     separation=0.15,\n",
    "                     label=\"head\",\n",
    "                     duplicate = False\n",
    "                    )\n",
    "\n",
    "chain.add_end_groups(compound = cap_n,\n",
    "                     index = -1,\n",
    "                     separation=0.15,\n",
    "                     label=\"tail\",\n",
    "                     duplicate = False\n",
    "                    )\n",
    "\n",
    "chain.build(n=6, sequence='A')"
   ]
  },
  {
   "cell_type": "code",
   "execution_count": 8,
   "id": "b7e07dc0",
   "metadata": {},
   "outputs": [
    {
     "data": {
      "application/3dmoljs_load.v0": "<div id=\"3dmolviewer_16915951023991146\"  style=\"position: relative; width: 640px; height: 480px\">\n        <p id=\"3dmolwarning_16915951023991146\" style=\"background-color:#ffcccc;color:black\">You appear to be running in JupyterLab (or JavaScript failed to load for some other reason).  You need to install the 3dmol extension: <br>\n        <tt>jupyter labextension install jupyterlab_3dmol</tt></p>\n        </div>\n<script>\n\nvar loadScriptAsync = function(uri){\n  return new Promise((resolve, reject) => {\n    //this is to ignore the existence of requirejs amd\n    var savedexports, savedmodule;\n    if (typeof exports !== 'undefined') savedexports = exports;\n    else exports = {}\n    if (typeof module !== 'undefined') savedmodule = module;\n    else module = {}\n\n    var tag = document.createElement('script');\n    tag.src = uri;\n    tag.async = true;\n    tag.onload = () => {\n        exports = savedexports;\n        module = savedmodule;\n        resolve();\n    };\n  var firstScriptTag = document.getElementsByTagName('script')[0];\n  firstScriptTag.parentNode.insertBefore(tag, firstScriptTag);\n});\n};\n\nif(typeof $3Dmolpromise === 'undefined') {\n$3Dmolpromise = null;\n  $3Dmolpromise = loadScriptAsync('https://cdnjs.cloudflare.com/ajax/libs/3Dmol/2.0.1/3Dmol-min.js');\n}\n\nvar viewer_16915951023991146 = null;\nvar warn = document.getElementById(\"3dmolwarning_16915951023991146\");\nif(warn) {\n    warn.parentNode.removeChild(warn);\n}\n$3Dmolpromise.then(function() {\nviewer_16915951023991146 = $3Dmol.createViewer(document.getElementById(\"3dmolviewer_16915951023991146\"),{backgroundColor:\"white\"});\nviewer_16915951023991146.zoomTo();\n\tviewer_16915951023991146.addModel(\"@<TRIPOS>MOLECULE\\nPolymer\\n285 302 1 0 1\\nSMALL\\nNO_CHARGES\\n@<TRIPOS>CRYSIN\\n   49.7366    31.4847    21.9954    90.0000    90.0000    90.0000  1  1\\n@<TRIPOS>ATOM\\n       1 C           -2.7229    -5.0476    -0.9632 C             1 Polymer \\n       2 O           -3.6117    -5.4151    -1.7767 O             1 Polymer \\n       3 C           -2.4960    -3.6192    -0.6770 C             1 Polymer \\n       4 C           -1.4981    -3.2452     0.2351 C             1 Polymer \\n       5 C           -1.2678    -1.8960     0.5172 C             1 Polymer \\n       6 C           -2.0265    -0.8981    -0.1164 C             1 Polymer \\n       7 C           -1.7780     0.5351     0.1731 C             1 Polymer \\n       8 C           -0.4896     1.1153     0.0522 C             1 Polymer \\n       9 C           -0.3028     2.4596     0.4166 C             1 Polymer \\n      10 C           -1.3700     3.2395     0.8718 C             1 Polymer \\n      11 O           -1.1189     4.5765     1.2144 O             1 Polymer \\n      12 C           -2.1076     5.4844     1.6897 C             1 Polymer \\n      13 C           -2.6487     2.6652     0.9661 C             1 Polymer \\n      14 C           -2.8475     1.3279     0.6198 C             1 Polymer \\n      15 C            0.6657     0.3585    -0.4868 C             1 Polymer \\n      16 C            0.5886    -0.2559    -1.7464 C             1 Polymer \\n      17 C            1.6744    -0.9770    -2.2448 C             1 Polymer \\n      18 C            2.8487    -1.0857    -1.4968 C             1 Polymer \\n      19 C            2.9523    -0.4672    -0.2390 C             1 Polymer \\n      20 C            1.8519     0.2569     0.2580 C             1 Polymer \\n      21 C            4.2328    -0.6006     0.5680 C             1 Polymer \\n      22 N            4.0005    -1.3251     1.8199 N             1 Polymer \\n      23 C            4.8612     0.7670     0.8537 C             1 Polymer \\n      24 C           -3.0335    -1.2726    -1.0197 C             1 Polymer \\n      25 C           -3.2649    -2.6222    -1.3011 C             1 Polymer \\n      26 H           -0.8975    -3.9979     0.7313 H             1 Polymer \\n      27 H           -0.4995    -1.6298     1.2326 H             1 Polymer \\n      28 H            0.6772     2.9137     0.3268 H             1 Polymer \\n      29 H           -1.6335     6.4685     1.8821 H             1 Polymer \\n      30 H           -2.5459     5.1091     2.6385 H             1 Polymer \\n      31 H           -2.9034     5.6162     0.9264 H             1 Polymer \\n      32 H           -3.4953     3.2414     1.3135 H             1 Polymer \\n      33 H           -3.8384     0.9021     0.7224 H             1 Polymer \\n      34 H           -0.3117    -0.1747    -2.3429 H             1 Polymer \\n      35 H            1.6062    -1.4528    -3.2146 H             1 Polymer \\n      36 H            3.6775    -1.6526    -1.9022 H             1 Polymer \\n      37 H            1.9083     0.7301     1.2303 H             1 Polymer \\n      38 H            4.9824    -1.1770    -0.0193 H             1 Polymer \\n      39 H            3.5958    -2.2630     1.5931 H             1 Polymer \\n      40 H            4.2038     1.3832     1.5026 H             1 Polymer \\n      41 H            5.0410     1.3106    -0.0984 H             1 Polymer \\n      42 H            5.8355     0.6318     1.3697 H             1 Polymer \\n      43 H           -3.6302    -0.5182    -1.5178 H             1 Polymer \\n      44 H           -4.0424    -2.8844    -2.0076 H             1 Polymer \\n      45 C            2.9941    -0.5922     2.6565 C             1 Polymer \\n      46 O            1.8325    -0.4201     2.2004 O             1 Polymer \\n      47 C            3.3717    -0.0865     3.9889 C             1 Polymer \\n      48 C            4.6739    -0.2963     4.4662 C             1 Polymer \\n      49 C            5.0501     0.1775     5.7259 C             1 Polymer \\n      50 C            4.1315     0.8778     6.5250 C             1 Polymer \\n      51 C            4.5303     1.3908     7.8582 C             1 Polymer \\n      52 C            5.6676     2.2191     8.0369 C             1 Polymer \\n      53 C            6.0390     2.6082     9.3353 C             1 Polymer \\n      54 C            5.2920     2.2132    10.4490 C             1 Polymer \\n      55 O            5.7121     2.6398    11.7177 O             1 Polymer \\n      56 C            5.0494     2.3155    12.9356 C             1 Polymer \\n      57 C            4.1525     1.4128    10.2626 C             1 Polymer \\n      58 C            3.7782     1.0079     8.9806 C             1 Polymer \\n      59 C            6.4598     2.7244     6.8902 C             1 Polymer \\n      60 C            5.8367     3.4371     5.8540 C             1 Polymer \\n      61 C            6.5844     3.9009     4.7708 C             1 Polymer \\n      62 C            7.9599     3.6658     4.7142 C             1 Polymer \\n      63 C            8.6064     2.9660     5.7474 C             1 Polymer \\n      64 C            7.8449     2.4995     6.8360 C             1 Polymer \\n      65 C           10.1020     2.7098     5.6691 C             1 Polymer \\n      66 N           10.3933     1.2768     5.5831 N             1 Polymer \\n      67 C           10.8411     3.3324     6.8578 C             1 Polymer \\n      68 C            2.8248     1.0771     6.0529 C             1 Polymer \\n      69 C            2.4479     0.6021     4.7933 C             1 Polymer \\n      70 H            5.4002    -0.8292     3.8646 H             1 Polymer \\n      71 H            6.0575    -0.0048     6.0795 H             1 Polymer \\n      72 H            6.9053     3.2423     9.4834 H             1 Polymer \\n      73 H            5.5956     2.7821    13.7808 H             1 Polymer \\n      74 H            5.0388     1.2149    13.0832 H             1 Polymer \\n      75 H            4.0113     2.7098    12.9221 H             1 Polymer \\n      76 H            3.5528     1.0911    11.1029 H             1 Polymer \\n      77 H            2.9084     0.3724     8.8651 H             1 Polymer \\n      78 H            4.7724     3.6350     5.8862 H             1 Polymer \\n      79 H            6.0965     4.4451     3.9725 H             1 Polymer \\n      80 H            8.5194     4.0325     3.8628 H             1 Polymer \\n      81 H            8.3231     1.9477     7.6356 H             1 Polymer \\n      82 H           10.5128     3.1915     4.7535 H             1 Polymer \\n      83 H            9.8973     0.8843     4.7496 H             1 Polymer \\n      84 H           10.5412     2.8523     7.8131 H             1 Polymer \\n      85 H           10.6221     4.4201     6.9159 H             1 Polymer \\n      86 H           11.9365     3.2016     6.7287 H             1 Polymer \\n      87 H            2.1013     1.6137     6.6544 H             1 Polymer \\n      88 H            1.4360     0.7757     4.4490 H             1 Polymer \\n      89 C            9.8606     0.5723     6.7955 C             1 Polymer \\n      90 O            8.6220     0.6040     7.0233 O             1 Polymer \\n      91 C           10.7828    -0.1414     7.6977 C             1 Polymer \\n      92 C           12.1563    -0.1571     7.4136 C             1 Polymer \\n      93 C           13.0454    -0.8270     8.2584 C             1 Polymer \\n      94 C           12.5753    -1.4844     9.4072 C             1 Polymer \\n      95 C           13.5172    -2.1878    10.3114 C             1 Polymer \\n      96 C           14.6528    -1.5433    10.8648 C             1 Polymer \\n      97 C           15.5507    -2.2852    11.6511 C             1 Polymer \\n      98 C           15.3293    -3.6397    11.9165 C             1 Polymer \\n      99 O           16.2603    -4.3229    12.7133 O             1 Polymer \\n     100 C           16.1617    -5.6992    13.0648 C             1 Polymer \\n     101 C           14.1895    -4.2660    11.3853 C             1 Polymer \\n     102 C           13.2952    -3.5457    10.5921 C             1 Polymer \\n     103 C           14.9053    -0.0949    10.6739 C             1 Polymer \\n     104 C           13.9295     0.8501    11.0272 C             1 Polymer \\n     105 C           14.1669     2.2117    10.8349 C             1 Polymer \\n     106 C           15.3808     2.6443    10.2967 C             1 Polymer \\n     107 C           16.3770     1.7161     9.9483 C             1 Polymer \\n     108 C           16.1293     0.3438    10.1434 C             1 Polymer \\n     109 C           17.6899     2.1999     9.3558 C             1 Polymer \\n     110 N           17.8659     1.7158     7.9845 N             1 Polymer \\n     111 C           18.8831     1.7865    10.2230 C             1 Polymer \\n     112 C           11.1994    -1.4794     9.6850 C             1 Polymer \\n     113 C           10.3097    -0.8104     8.8393 C             1 Polymer \\n     114 H           12.5415     0.3477     6.5360 H             1 Polymer \\n     115 H           14.1006    -0.8356     8.0146 H             1 Polymer \\n     116 H           16.4210    -1.8024    12.0803 H             1 Polymer \\n     117 H           17.0297    -5.9747    13.6980 H             1 Polymer \\n     118 H           16.1747    -6.3287    12.1501 H             1 Polymer \\n     119 H           15.2296    -5.8803    13.6407 H             1 Polymer \\n     120 H           13.9888    -5.3120    11.5726 H             1 Polymer \\n     121 H           12.4355    -4.0569    10.1757 H             1 Polymer \\n     122 H           12.9859     0.5321    11.4532 H             1 Polymer \\n     123 H           13.4078     2.9346    11.1046 H             1 Polymer \\n     124 H           15.5420     3.7055    10.1538 H             1 Polymer \\n     125 H           16.8798    -0.3872     9.8698 H             1 Polymer \\n     126 H           17.6933     3.3125     9.3222 H             1 Polymer \\n     127 H           17.0509     2.0338     7.4106 H             1 Polymer \\n     128 H           18.9969     0.6823    10.2493 H             1 Polymer \\n     129 H           18.7484     2.1605    11.2606 H             1 Polymer \\n     130 H           19.8165     2.2252     9.8106 H             1 Polymer \\n     131 H           10.8168    -1.9814    10.5652 H             1 Polymer \\n     132 H            9.2540    -0.8149     9.0801 H             1 Polymer \\n     133 C           17.8691     0.2159     7.9674 C             1 Polymer \\n     134 O           16.8440    -0.4000     8.3637 O             1 Polymer \\n     135 C           19.0593    -0.5131     7.4923 C             1 Polymer \\n     136 C           20.1835     0.2043     7.0574 C             1 Polymer \\n     137 C           21.3211    -0.4699     6.6055 C             1 Polymer \\n     138 C           21.3558    -1.8739     6.5905 C             1 Polymer \\n     139 C           22.5652    -2.5927     6.1211 C             1 Polymer \\n     140 C           23.8507    -2.3375     6.6631 C             1 Polymer \\n     141 C           24.9691    -2.9941     6.1217 C             1 Polymer \\n     142 C           24.8315    -3.9118     5.0761 C             1 Polymer \\n     143 O           25.9864    -4.5380     4.5838 O             1 Polymer \\n     144 C           25.9957    -5.4915     3.5263 C             1 Polymer \\n     145 C           23.5523    -4.1782     4.5603 C             1 Polymer \\n     146 C           22.4336    -3.5247     5.0789 C             1 Polymer \\n     147 C           24.0511    -1.4259     7.8150 C             1 Polymer \\n     148 C           23.3500    -1.6295     9.0137 C             1 Polymer \\n     149 C           23.5330    -0.7621    10.0915 C             1 Polymer \\n     150 C           24.4215     0.3103     9.9874 C             1 Polymer \\n     151 C           25.1438     0.5249     8.8010 C             1 Polymer \\n     152 C           24.9522    -0.3534     7.7173 C             1 Polymer \\n     153 C           26.1009     1.7005     8.6984 C             1 Polymer \\n     154 N           25.6647     2.6549     7.6763 N             1 Polymer \\n     155 C           27.5328     1.2354     8.4154 C             1 Polymer \\n     156 C           20.2265    -2.5920     7.0140 C             1 Polymer \\n     157 C           19.0880    -1.9178     7.4648 C             1 Polymer \\n     158 H           20.1806     1.2875     7.0654 H             1 Polymer \\n     159 H           22.1741     0.1036     6.2642 H             1 Polymer \\n     160 H           25.9559    -2.8078     6.5291 H             1 Polymer \\n     161 H           27.0392    -5.8201     3.3437 H             1 Polymer \\n     162 H           25.5992    -5.0333     2.5957 H             1 Polymer \\n     163 H           25.3875    -6.3776     3.8058 H             1 Polymer \\n     164 H           23.4117    -4.8832     3.7524 H             1 Polymer \\n     165 H           21.4606    -3.7306     4.6490 H             1 Polymer \\n     166 H           22.6632    -2.4609     9.1139 H             1 Polymer \\n     167 H           22.9850    -0.9218    11.0111 H             1 Polymer \\n     168 H           24.5455     0.9721    10.8355 H             1 Polymer \\n     169 H           25.4905    -0.1972     6.7908 H             1 Polymer \\n     170 H           26.1299     2.2404     9.6714 H             1 Polymer \\n     171 H           24.6958     2.9740     7.9087 H             1 Polymer \\n     172 H           27.6073     0.7475     7.4207 H             1 Polymer \\n     173 H           27.8618     0.5164     9.1959 H             1 Polymer \\n     174 H           28.2204     2.1077     8.4301 H             1 Polymer \\n     175 H           20.2330    -3.6751     7.0090 H             1 Polymer \\n     176 H           18.2328    -2.4951     7.7935 H             1 Polymer \\n     177 C           25.6064     1.9806     6.3376 C             1 Polymer \\n     178 O           24.8226     1.0071     6.1797 O             1 Polymer \\n     179 C           26.4582     2.4593     5.2336 C             1 Polymer \\n     180 C           27.3193     3.5465     5.4440 C             1 Polymer \\n     181 C           28.1352     4.0127     4.4097 C             1 Polymer \\n     182 C           28.1097     3.3921     3.1500 C             1 Polymer \\n     183 C           28.9817     3.8778     2.0530 C             1 Polymer \\n     184 C           30.3841     4.0174     2.2115 C             1 Polymer \\n     185 C           31.1455     4.5574     1.1609 C             1 Polymer \\n     186 C           30.5470     4.9351    -0.0447 C             1 Polymer \\n     187 O           31.3632     5.4625    -1.0566 O             1 Polymer \\n     188 C           30.8914     5.8863    -2.3314 C             1 Polymer \\n     189 C           29.1608     4.7716    -0.2039 C             1 Polymer \\n     190 C           28.3894     4.2485     0.8349 C             1 Polymer \\n     191 C           31.0842     3.5730     3.4404 C             1 Polymer \\n     192 C           30.9471     2.2539     3.8998 C             1 Polymer \\n     193 C           31.5986     1.8431     5.0636 C             1 Polymer \\n     194 C           32.3984     2.7401     5.7750 C             1 Polymer \\n     195 C           32.5603     4.0619     5.3256 C             1 Polymer \\n     196 C           31.8981     4.4694     4.1518 C             1 Polymer \\n     197 C           33.4266     5.0297     6.1140 C             1 Polymer \\n     198 N           32.6347     6.1415     6.6458 N             1 Polymer \\n     199 C           34.5878     5.5608     5.2677 C             1 Polymer \\n     200 C           27.2392     2.3120     2.9355 C             1 Polymer \\n     201 C           26.4220     1.8463     3.9696 C             1 Polymer \\n     202 H           27.3590     4.0369     6.4091 H             1 Polymer \\n     203 H           28.7847     4.8603     4.5907 H             1 Polymer \\n     204 H           32.2181     4.6671     1.2705 H             1 Polymer \\n     205 H           31.7480     6.2588    -2.9295 H             1 Polymer \\n     206 H           30.1562     6.7100    -2.2119 H             1 Polymer \\n     207 H           30.4263     5.0334    -2.8694 H             1 Polymer \\n     208 H           28.6674     5.0530    -1.1241 H             1 Polymer \\n     209 H           27.3192     4.1529     0.6957 H             1 Polymer \\n     210 H           30.3371     1.5434     3.3557 H             1 Polymer \\n     211 H           31.4841     0.8259     5.4151 H             1 Polymer \\n     212 H           32.8921     2.4002     6.6768 H             1 Polymer \\n     213 H           32.0008     5.4871     3.7965 H             1 Polymer \\n     214 H           33.8825     4.4982     6.9792 H             1 Polymer \\n     215 H           31.8663     5.7510     7.2389 H             1 Polymer \\n     216 H           34.2183     6.1710     4.4168 H             1 Polymer \\n     217 H           35.1890     4.7148     4.8712 H             1 Polymer \\n     218 H           35.2484     6.1970     5.8943 H             1 Polymer \\n     219 H           27.2040     1.8206     1.9709 H             1 Polymer \\n     220 H           25.7650     1.0066     3.7807 H             1 Polymer \\n     221 C           31.9932     6.8977     5.5203 C             1 Polymer \\n     222 O           31.1813     6.2966     4.7675 O             1 Polymer \\n     223 C           32.3167     8.3206     5.3097 C             1 Polymer \\n     224 C           33.2247     8.9590     6.1673 C             1 Polymer \\n     225 C           33.5446    10.3067     5.9817 C             1 Polymer \\n     226 C           32.9680    11.0352     4.9284 C             1 Polymer \\n     227 C           33.3130    12.4629     4.7223 C             1 Polymer \\n     228 C           34.6555    12.9027     4.5973 C             1 Polymer \\n     229 C           34.9218    14.2778     4.4828 C             1 Polymer \\n     230 C           33.8848    15.2152     4.4650 C             1 Polymer \\n     231 O           34.2167    16.5728     4.3427 O             1 Polymer \\n     232 C           33.2669    17.6331     4.3096 C             1 Polymer \\n     233 C           32.5559    14.7707     4.5649 C             1 Polymer \\n     234 C           32.2761    13.4094     4.6918 C             1 Polymer \\n     235 C           35.7920    11.9522     4.5426 C             1 Polymer \\n     236 C           35.8140    10.9235     3.5880 C             1 Polymer \\n     237 C           36.8802    10.0241     3.5478 C             1 Polymer \\n     238 C           37.9371    10.1462     4.4524 C             1 Polymer \\n     239 C           37.9419    11.1769     5.4079 C             1 Polymer \\n     240 C           36.8617    12.0793     5.4436 C             1 Polymer \\n     241 C           39.0941    11.2931     6.3916 C             1 Polymer \\n     242 N           38.6409    11.0875     7.7694 N             1 Polymer \\n     243 C           39.8085    12.6420     6.2624 C             1 Polymer \\n     244 C           32.0500    10.3999     4.0776 C             1 Polymer \\n     245 C           31.7288     9.0522     4.2638 C             1 Polymer \\n     246 H           33.6853     8.4150     6.9830 H             1 Polymer \\n     247 H           34.2399    10.7829     6.6620 H             1 Polymer \\n     248 H           35.9438    14.6249     4.3851 H             1 Polymer \\n     249 H           33.8044    18.5981     4.2078 H             1 Polymer \\n     250 H           32.6809    17.6503     5.2528 H             1 Polymer \\n     251 H           32.5880    17.5107     3.4394 H             1 Polymer \\n     252 H           31.7310    15.4699     4.5533 H             1 Polymer \\n     253 H           31.2443    13.0936     4.7896 H             1 Polymer \\n     254 H           35.0063    10.8195     2.8740 H             1 Polymer \\n     255 H           36.8881     9.2299     2.8125 H             1 Polymer \\n     256 H           38.7525     9.4353     4.4045 H             1 Polymer \\n     257 H           36.8415    12.8725     6.1804 H             1 Polymer \\n     258 H           39.8529    10.5102     6.1674 H             1 Polymer \\n     259 H           38.1807    10.1500     7.8336 H             1 Polymer \\n     260 H           39.1369    13.4806     6.5430 H             1 Polymer \\n     261 H           40.1556    12.7914     5.2176 H             1 Polymer \\n     262 H           40.6942    12.6632     6.9325 H             1 Polymer \\n     263 H           31.5936    10.9447     3.2601 H             1 Polymer \\n     264 H           31.0236     8.5834     3.5890 H             1 Polymer \\n     265 C           -2.7791    -7.0833     0.1387 C             1 Polymer \\n     266 O           -1.8880    -6.0907    -0.2812 O             1 Polymer \\n     267 H           -3.5210    -6.6574     0.8486 H             1 Polymer \\n     268 H           -2.2128    -7.8866     0.6535 H             1 Polymer \\n     269 H           -3.3056    -7.5215    -0.7369 H             1 Polymer \\n     270 C           38.0156    15.8383     8.5121 C             1 Polymer \\n     271 C           37.1473    14.5712     8.5445 C             1 Polymer \\n     272 C           36.5642    14.4039     9.9608 C             1 Polymer \\n     273 C           36.0177    14.7157     7.5066 C             1 Polymer \\n     274 O           37.9989    13.4634     8.2141 O             1 Polymer \\n     275 C           37.6123    12.1183     8.1294 C             1 Polymer \\n     276 O           36.4272    11.7529     8.3469 O             1 Polymer \\n     277 H           37.4150    16.7403     8.7604 H             1 Polymer \\n     278 H           38.8470    15.7545     9.2448 H             1 Polymer \\n     279 H           38.4590    15.9758     7.5023 H             1 Polymer \\n     280 H           37.3808    14.2266    10.6930 H             1 Polymer \\n     281 H           35.8596    13.5489    10.0100 H             1 Polymer \\n     282 H           36.0078    15.3170    10.2646 H             1 Polymer \\n     283 H           36.4429    14.7615     6.4811 H             1 Polymer \\n     284 H           35.3128    13.8608     7.5540 H             1 Polymer \\n     285 H           35.4346    15.6439     7.6904 H             1 Polymer \\n@<TRIPOS>BOND\\n       1        1        2 1\\n       2        1        3 1\\n       3        1      266 1\\n       4        3        4 1\\n       5        3       25 1\\n       6        4        5 1\\n       7        4       26 1\\n       8        5        6 1\\n       9        5       27 1\\n      10        6        7 1\\n      11        6       24 1\\n      12        7        8 1\\n      13        7       14 1\\n      14        8        9 1\\n      15        8       15 1\\n      16        9       10 1\\n      17        9       28 1\\n      18       10       11 1\\n      19       10       13 1\\n      20       11       12 1\\n      21       12       29 1\\n      22       12       30 1\\n      23       12       31 1\\n      24       13       14 1\\n      25       13       32 1\\n      26       14       33 1\\n      27       15       16 1\\n      28       15       20 1\\n      29       16       17 1\\n      30       16       34 1\\n      31       17       18 1\\n      32       17       35 1\\n      33       18       19 1\\n      34       18       36 1\\n      35       19       20 1\\n      36       19       21 1\\n      37       20       37 1\\n      38       21       22 1\\n      39       21       23 1\\n      40       21       38 1\\n      41       22       39 1\\n      42       22       45 1\\n      43       23       40 1\\n      44       23       41 1\\n      45       23       42 1\\n      46       24       25 1\\n      47       24       43 1\\n      48       25       44 1\\n      49       45       46 1\\n      50       45       47 1\\n      51       47       48 1\\n      52       47       69 1\\n      53       48       49 1\\n      54       48       70 1\\n      55       49       50 1\\n      56       49       71 1\\n      57       50       51 1\\n      58       50       68 1\\n      59       51       52 1\\n      60       51       58 1\\n      61       52       53 1\\n      62       52       59 1\\n      63       53       54 1\\n      64       53       72 1\\n      65       54       55 1\\n      66       54       57 1\\n      67       55       56 1\\n      68       56       73 1\\n      69       56       74 1\\n      70       56       75 1\\n      71       57       58 1\\n      72       57       76 1\\n      73       58       77 1\\n      74       59       60 1\\n      75       59       64 1\\n      76       60       61 1\\n      77       60       78 1\\n      78       61       62 1\\n      79       61       79 1\\n      80       62       63 1\\n      81       62       80 1\\n      82       63       64 1\\n      83       63       65 1\\n      84       64       81 1\\n      85       65       66 1\\n      86       65       67 1\\n      87       65       82 1\\n      88       66       83 1\\n      89       66       89 1\\n      90       67       84 1\\n      91       67       85 1\\n      92       67       86 1\\n      93       68       69 1\\n      94       68       87 1\\n      95       69       88 1\\n      96       89       90 1\\n      97       89       91 1\\n      98       91       92 1\\n      99       91      113 1\\n     100       92       93 1\\n     101       92      114 1\\n     102       93       94 1\\n     103       93      115 1\\n     104       94       95 1\\n     105       94      112 1\\n     106       95       96 1\\n     107       95      102 1\\n     108       96       97 1\\n     109       96      103 1\\n     110       97       98 1\\n     111       97      116 1\\n     112       98       99 1\\n     113       98      101 1\\n     114       99      100 1\\n     115      100      117 1\\n     116      100      118 1\\n     117      100      119 1\\n     118      101      102 1\\n     119      101      120 1\\n     120      102      121 1\\n     121      103      104 1\\n     122      103      108 1\\n     123      104      105 1\\n     124      104      122 1\\n     125      105      106 1\\n     126      105      123 1\\n     127      106      107 1\\n     128      106      124 1\\n     129      107      108 1\\n     130      107      109 1\\n     131      108      125 1\\n     132      109      110 1\\n     133      109      111 1\\n     134      109      126 1\\n     135      110      127 1\\n     136      110      133 1\\n     137      111      128 1\\n     138      111      129 1\\n     139      111      130 1\\n     140      112      113 1\\n     141      112      131 1\\n     142      113      132 1\\n     143      133      134 1\\n     144      133      135 1\\n     145      135      136 1\\n     146      135      157 1\\n     147      136      137 1\\n     148      136      158 1\\n     149      137      138 1\\n     150      137      159 1\\n     151      138      139 1\\n     152      138      156 1\\n     153      139      140 1\\n     154      139      146 1\\n     155      140      141 1\\n     156      140      147 1\\n     157      141      142 1\\n     158      141      160 1\\n     159      142      143 1\\n     160      142      145 1\\n     161      143      144 1\\n     162      144      161 1\\n     163      144      162 1\\n     164      144      163 1\\n     165      145      146 1\\n     166      145      164 1\\n     167      146      165 1\\n     168      147      148 1\\n     169      147      152 1\\n     170      148      149 1\\n     171      148      166 1\\n     172      149      150 1\\n     173      149      167 1\\n     174      150      151 1\\n     175      150      168 1\\n     176      151      152 1\\n     177      151      153 1\\n     178      152      169 1\\n     179      153      154 1\\n     180      153      155 1\\n     181      153      170 1\\n     182      154      171 1\\n     183      154      177 1\\n     184      155      172 1\\n     185      155      173 1\\n     186      155      174 1\\n     187      156      157 1\\n     188      156      175 1\\n     189      157      176 1\\n     190      177      178 1\\n     191      177      179 1\\n     192      179      180 1\\n     193      179      201 1\\n     194      180      181 1\\n     195      180      202 1\\n     196      181      182 1\\n     197      181      203 1\\n     198      182      183 1\\n     199      182      200 1\\n     200      183      184 1\\n     201      183      190 1\\n     202      184      185 1\\n     203      184      191 1\\n     204      185      186 1\\n     205      185      204 1\\n     206      186      187 1\\n     207      186      189 1\\n     208      187      188 1\\n     209      188      205 1\\n     210      188      206 1\\n     211      188      207 1\\n     212      189      190 1\\n     213      189      208 1\\n     214      190      209 1\\n     215      191      192 1\\n     216      191      196 1\\n     217      192      193 1\\n     218      192      210 1\\n     219      193      194 1\\n     220      193      211 1\\n     221      194      195 1\\n     222      194      212 1\\n     223      195      196 1\\n     224      195      197 1\\n     225      196      213 1\\n     226      197      198 1\\n     227      197      199 1\\n     228      197      214 1\\n     229      198      215 1\\n     230      198      221 1\\n     231      199      216 1\\n     232      199      217 1\\n     233      199      218 1\\n     234      200      201 1\\n     235      200      219 1\\n     236      201      220 1\\n     237      221      222 1\\n     238      221      223 1\\n     239      223      224 1\\n     240      223      245 1\\n     241      224      225 1\\n     242      224      246 1\\n     243      225      226 1\\n     244      225      247 1\\n     245      226      227 1\\n     246      226      244 1\\n     247      227      228 1\\n     248      227      234 1\\n     249      228      229 1\\n     250      228      235 1\\n     251      229      230 1\\n     252      229      248 1\\n     253      230      231 1\\n     254      230      233 1\\n     255      231      232 1\\n     256      232      249 1\\n     257      232      250 1\\n     258      232      251 1\\n     259      233      234 1\\n     260      233      252 1\\n     261      234      253 1\\n     262      235      236 1\\n     263      235      240 1\\n     264      236      237 1\\n     265      236      254 1\\n     266      237      238 1\\n     267      237      255 1\\n     268      238      239 1\\n     269      238      256 1\\n     270      239      240 1\\n     271      239      241 1\\n     272      240      257 1\\n     273      241      242 1\\n     274      241      243 1\\n     275      241      258 1\\n     276      242      259 1\\n     277      242      275 1\\n     278      243      260 1\\n     279      243      261 1\\n     280      243      262 1\\n     281      244      245 1\\n     282      244      263 1\\n     283      245      264 1\\n     284      265      266 1\\n     285      265      267 1\\n     286      265      268 1\\n     287      265      269 1\\n     288      270      271 1\\n     289      270      277 1\\n     290      270      278 1\\n     291      270      279 1\\n     292      271      272 1\\n     293      271      273 1\\n     294      271      274 1\\n     295      272      280 1\\n     296      272      281 1\\n     297      272      282 1\\n     298      273      283 1\\n     299      273      284 1\\n     300      273      285 1\\n     301      274      275 1\\n     302      275      276 1\\n@<TRIPOS>SUBSTRUCTURE\\n       1 Polymer         1 RESIDUE    0 **** ROOT      0\\n\",\"mol2\");\n\tviewer_16915951023991146.setStyle({\"stick\": {\"radius\": 0.2, \"color\": \"grey\"}, \"sphere\": {\"scale\": 0.3, \"colorscheme\": {}}});\n\tviewer_16915951023991146.zoomTo();\nviewer_16915951023991146.render();\n});\n</script>",
      "text/html": [
       "<div id=\"3dmolviewer_16915951023991146\"  style=\"position: relative; width: 640px; height: 480px\">\n",
       "        <p id=\"3dmolwarning_16915951023991146\" style=\"background-color:#ffcccc;color:black\">You appear to be running in JupyterLab (or JavaScript failed to load for some other reason).  You need to install the 3dmol extension: <br>\n",
       "        <tt>jupyter labextension install jupyterlab_3dmol</tt></p>\n",
       "        </div>\n",
       "<script>\n",
       "\n",
       "var loadScriptAsync = function(uri){\n",
       "  return new Promise((resolve, reject) => {\n",
       "    //this is to ignore the existence of requirejs amd\n",
       "    var savedexports, savedmodule;\n",
       "    if (typeof exports !== 'undefined') savedexports = exports;\n",
       "    else exports = {}\n",
       "    if (typeof module !== 'undefined') savedmodule = module;\n",
       "    else module = {}\n",
       "\n",
       "    var tag = document.createElement('script');\n",
       "    tag.src = uri;\n",
       "    tag.async = true;\n",
       "    tag.onload = () => {\n",
       "        exports = savedexports;\n",
       "        module = savedmodule;\n",
       "        resolve();\n",
       "    };\n",
       "  var firstScriptTag = document.getElementsByTagName('script')[0];\n",
       "  firstScriptTag.parentNode.insertBefore(tag, firstScriptTag);\n",
       "});\n",
       "};\n",
       "\n",
       "if(typeof $3Dmolpromise === 'undefined') {\n",
       "$3Dmolpromise = null;\n",
       "  $3Dmolpromise = loadScriptAsync('https://cdnjs.cloudflare.com/ajax/libs/3Dmol/2.0.1/3Dmol-min.js');\n",
       "}\n",
       "\n",
       "var viewer_16915951023991146 = null;\n",
       "var warn = document.getElementById(\"3dmolwarning_16915951023991146\");\n",
       "if(warn) {\n",
       "    warn.parentNode.removeChild(warn);\n",
       "}\n",
       "$3Dmolpromise.then(function() {\n",
       "viewer_16915951023991146 = $3Dmol.createViewer(document.getElementById(\"3dmolviewer_16915951023991146\"),{backgroundColor:\"white\"});\n",
       "viewer_16915951023991146.zoomTo();\n",
       "\tviewer_16915951023991146.addModel(\"@<TRIPOS>MOLECULE\\nPolymer\\n285 302 1 0 1\\nSMALL\\nNO_CHARGES\\n@<TRIPOS>CRYSIN\\n   49.7366    31.4847    21.9954    90.0000    90.0000    90.0000  1  1\\n@<TRIPOS>ATOM\\n       1 C           -2.7229    -5.0476    -0.9632 C             1 Polymer \\n       2 O           -3.6117    -5.4151    -1.7767 O             1 Polymer \\n       3 C           -2.4960    -3.6192    -0.6770 C             1 Polymer \\n       4 C           -1.4981    -3.2452     0.2351 C             1 Polymer \\n       5 C           -1.2678    -1.8960     0.5172 C             1 Polymer \\n       6 C           -2.0265    -0.8981    -0.1164 C             1 Polymer \\n       7 C           -1.7780     0.5351     0.1731 C             1 Polymer \\n       8 C           -0.4896     1.1153     0.0522 C             1 Polymer \\n       9 C           -0.3028     2.4596     0.4166 C             1 Polymer \\n      10 C           -1.3700     3.2395     0.8718 C             1 Polymer \\n      11 O           -1.1189     4.5765     1.2144 O             1 Polymer \\n      12 C           -2.1076     5.4844     1.6897 C             1 Polymer \\n      13 C           -2.6487     2.6652     0.9661 C             1 Polymer \\n      14 C           -2.8475     1.3279     0.6198 C             1 Polymer \\n      15 C            0.6657     0.3585    -0.4868 C             1 Polymer \\n      16 C            0.5886    -0.2559    -1.7464 C             1 Polymer \\n      17 C            1.6744    -0.9770    -2.2448 C             1 Polymer \\n      18 C            2.8487    -1.0857    -1.4968 C             1 Polymer \\n      19 C            2.9523    -0.4672    -0.2390 C             1 Polymer \\n      20 C            1.8519     0.2569     0.2580 C             1 Polymer \\n      21 C            4.2328    -0.6006     0.5680 C             1 Polymer \\n      22 N            4.0005    -1.3251     1.8199 N             1 Polymer \\n      23 C            4.8612     0.7670     0.8537 C             1 Polymer \\n      24 C           -3.0335    -1.2726    -1.0197 C             1 Polymer \\n      25 C           -3.2649    -2.6222    -1.3011 C             1 Polymer \\n      26 H           -0.8975    -3.9979     0.7313 H             1 Polymer \\n      27 H           -0.4995    -1.6298     1.2326 H             1 Polymer \\n      28 H            0.6772     2.9137     0.3268 H             1 Polymer \\n      29 H           -1.6335     6.4685     1.8821 H             1 Polymer \\n      30 H           -2.5459     5.1091     2.6385 H             1 Polymer \\n      31 H           -2.9034     5.6162     0.9264 H             1 Polymer \\n      32 H           -3.4953     3.2414     1.3135 H             1 Polymer \\n      33 H           -3.8384     0.9021     0.7224 H             1 Polymer \\n      34 H           -0.3117    -0.1747    -2.3429 H             1 Polymer \\n      35 H            1.6062    -1.4528    -3.2146 H             1 Polymer \\n      36 H            3.6775    -1.6526    -1.9022 H             1 Polymer \\n      37 H            1.9083     0.7301     1.2303 H             1 Polymer \\n      38 H            4.9824    -1.1770    -0.0193 H             1 Polymer \\n      39 H            3.5958    -2.2630     1.5931 H             1 Polymer \\n      40 H            4.2038     1.3832     1.5026 H             1 Polymer \\n      41 H            5.0410     1.3106    -0.0984 H             1 Polymer \\n      42 H            5.8355     0.6318     1.3697 H             1 Polymer \\n      43 H           -3.6302    -0.5182    -1.5178 H             1 Polymer \\n      44 H           -4.0424    -2.8844    -2.0076 H             1 Polymer \\n      45 C            2.9941    -0.5922     2.6565 C             1 Polymer \\n      46 O            1.8325    -0.4201     2.2004 O             1 Polymer \\n      47 C            3.3717    -0.0865     3.9889 C             1 Polymer \\n      48 C            4.6739    -0.2963     4.4662 C             1 Polymer \\n      49 C            5.0501     0.1775     5.7259 C             1 Polymer \\n      50 C            4.1315     0.8778     6.5250 C             1 Polymer \\n      51 C            4.5303     1.3908     7.8582 C             1 Polymer \\n      52 C            5.6676     2.2191     8.0369 C             1 Polymer \\n      53 C            6.0390     2.6082     9.3353 C             1 Polymer \\n      54 C            5.2920     2.2132    10.4490 C             1 Polymer \\n      55 O            5.7121     2.6398    11.7177 O             1 Polymer \\n      56 C            5.0494     2.3155    12.9356 C             1 Polymer \\n      57 C            4.1525     1.4128    10.2626 C             1 Polymer \\n      58 C            3.7782     1.0079     8.9806 C             1 Polymer \\n      59 C            6.4598     2.7244     6.8902 C             1 Polymer \\n      60 C            5.8367     3.4371     5.8540 C             1 Polymer \\n      61 C            6.5844     3.9009     4.7708 C             1 Polymer \\n      62 C            7.9599     3.6658     4.7142 C             1 Polymer \\n      63 C            8.6064     2.9660     5.7474 C             1 Polymer \\n      64 C            7.8449     2.4995     6.8360 C             1 Polymer \\n      65 C           10.1020     2.7098     5.6691 C             1 Polymer \\n      66 N           10.3933     1.2768     5.5831 N             1 Polymer \\n      67 C           10.8411     3.3324     6.8578 C             1 Polymer \\n      68 C            2.8248     1.0771     6.0529 C             1 Polymer \\n      69 C            2.4479     0.6021     4.7933 C             1 Polymer \\n      70 H            5.4002    -0.8292     3.8646 H             1 Polymer \\n      71 H            6.0575    -0.0048     6.0795 H             1 Polymer \\n      72 H            6.9053     3.2423     9.4834 H             1 Polymer \\n      73 H            5.5956     2.7821    13.7808 H             1 Polymer \\n      74 H            5.0388     1.2149    13.0832 H             1 Polymer \\n      75 H            4.0113     2.7098    12.9221 H             1 Polymer \\n      76 H            3.5528     1.0911    11.1029 H             1 Polymer \\n      77 H            2.9084     0.3724     8.8651 H             1 Polymer \\n      78 H            4.7724     3.6350     5.8862 H             1 Polymer \\n      79 H            6.0965     4.4451     3.9725 H             1 Polymer \\n      80 H            8.5194     4.0325     3.8628 H             1 Polymer \\n      81 H            8.3231     1.9477     7.6356 H             1 Polymer \\n      82 H           10.5128     3.1915     4.7535 H             1 Polymer \\n      83 H            9.8973     0.8843     4.7496 H             1 Polymer \\n      84 H           10.5412     2.8523     7.8131 H             1 Polymer \\n      85 H           10.6221     4.4201     6.9159 H             1 Polymer \\n      86 H           11.9365     3.2016     6.7287 H             1 Polymer \\n      87 H            2.1013     1.6137     6.6544 H             1 Polymer \\n      88 H            1.4360     0.7757     4.4490 H             1 Polymer \\n      89 C            9.8606     0.5723     6.7955 C             1 Polymer \\n      90 O            8.6220     0.6040     7.0233 O             1 Polymer \\n      91 C           10.7828    -0.1414     7.6977 C             1 Polymer \\n      92 C           12.1563    -0.1571     7.4136 C             1 Polymer \\n      93 C           13.0454    -0.8270     8.2584 C             1 Polymer \\n      94 C           12.5753    -1.4844     9.4072 C             1 Polymer \\n      95 C           13.5172    -2.1878    10.3114 C             1 Polymer \\n      96 C           14.6528    -1.5433    10.8648 C             1 Polymer \\n      97 C           15.5507    -2.2852    11.6511 C             1 Polymer \\n      98 C           15.3293    -3.6397    11.9165 C             1 Polymer \\n      99 O           16.2603    -4.3229    12.7133 O             1 Polymer \\n     100 C           16.1617    -5.6992    13.0648 C             1 Polymer \\n     101 C           14.1895    -4.2660    11.3853 C             1 Polymer \\n     102 C           13.2952    -3.5457    10.5921 C             1 Polymer \\n     103 C           14.9053    -0.0949    10.6739 C             1 Polymer \\n     104 C           13.9295     0.8501    11.0272 C             1 Polymer \\n     105 C           14.1669     2.2117    10.8349 C             1 Polymer \\n     106 C           15.3808     2.6443    10.2967 C             1 Polymer \\n     107 C           16.3770     1.7161     9.9483 C             1 Polymer \\n     108 C           16.1293     0.3438    10.1434 C             1 Polymer \\n     109 C           17.6899     2.1999     9.3558 C             1 Polymer \\n     110 N           17.8659     1.7158     7.9845 N             1 Polymer \\n     111 C           18.8831     1.7865    10.2230 C             1 Polymer \\n     112 C           11.1994    -1.4794     9.6850 C             1 Polymer \\n     113 C           10.3097    -0.8104     8.8393 C             1 Polymer \\n     114 H           12.5415     0.3477     6.5360 H             1 Polymer \\n     115 H           14.1006    -0.8356     8.0146 H             1 Polymer \\n     116 H           16.4210    -1.8024    12.0803 H             1 Polymer \\n     117 H           17.0297    -5.9747    13.6980 H             1 Polymer \\n     118 H           16.1747    -6.3287    12.1501 H             1 Polymer \\n     119 H           15.2296    -5.8803    13.6407 H             1 Polymer \\n     120 H           13.9888    -5.3120    11.5726 H             1 Polymer \\n     121 H           12.4355    -4.0569    10.1757 H             1 Polymer \\n     122 H           12.9859     0.5321    11.4532 H             1 Polymer \\n     123 H           13.4078     2.9346    11.1046 H             1 Polymer \\n     124 H           15.5420     3.7055    10.1538 H             1 Polymer \\n     125 H           16.8798    -0.3872     9.8698 H             1 Polymer \\n     126 H           17.6933     3.3125     9.3222 H             1 Polymer \\n     127 H           17.0509     2.0338     7.4106 H             1 Polymer \\n     128 H           18.9969     0.6823    10.2493 H             1 Polymer \\n     129 H           18.7484     2.1605    11.2606 H             1 Polymer \\n     130 H           19.8165     2.2252     9.8106 H             1 Polymer \\n     131 H           10.8168    -1.9814    10.5652 H             1 Polymer \\n     132 H            9.2540    -0.8149     9.0801 H             1 Polymer \\n     133 C           17.8691     0.2159     7.9674 C             1 Polymer \\n     134 O           16.8440    -0.4000     8.3637 O             1 Polymer \\n     135 C           19.0593    -0.5131     7.4923 C             1 Polymer \\n     136 C           20.1835     0.2043     7.0574 C             1 Polymer \\n     137 C           21.3211    -0.4699     6.6055 C             1 Polymer \\n     138 C           21.3558    -1.8739     6.5905 C             1 Polymer \\n     139 C           22.5652    -2.5927     6.1211 C             1 Polymer \\n     140 C           23.8507    -2.3375     6.6631 C             1 Polymer \\n     141 C           24.9691    -2.9941     6.1217 C             1 Polymer \\n     142 C           24.8315    -3.9118     5.0761 C             1 Polymer \\n     143 O           25.9864    -4.5380     4.5838 O             1 Polymer \\n     144 C           25.9957    -5.4915     3.5263 C             1 Polymer \\n     145 C           23.5523    -4.1782     4.5603 C             1 Polymer \\n     146 C           22.4336    -3.5247     5.0789 C             1 Polymer \\n     147 C           24.0511    -1.4259     7.8150 C             1 Polymer \\n     148 C           23.3500    -1.6295     9.0137 C             1 Polymer \\n     149 C           23.5330    -0.7621    10.0915 C             1 Polymer \\n     150 C           24.4215     0.3103     9.9874 C             1 Polymer \\n     151 C           25.1438     0.5249     8.8010 C             1 Polymer \\n     152 C           24.9522    -0.3534     7.7173 C             1 Polymer \\n     153 C           26.1009     1.7005     8.6984 C             1 Polymer \\n     154 N           25.6647     2.6549     7.6763 N             1 Polymer \\n     155 C           27.5328     1.2354     8.4154 C             1 Polymer \\n     156 C           20.2265    -2.5920     7.0140 C             1 Polymer \\n     157 C           19.0880    -1.9178     7.4648 C             1 Polymer \\n     158 H           20.1806     1.2875     7.0654 H             1 Polymer \\n     159 H           22.1741     0.1036     6.2642 H             1 Polymer \\n     160 H           25.9559    -2.8078     6.5291 H             1 Polymer \\n     161 H           27.0392    -5.8201     3.3437 H             1 Polymer \\n     162 H           25.5992    -5.0333     2.5957 H             1 Polymer \\n     163 H           25.3875    -6.3776     3.8058 H             1 Polymer \\n     164 H           23.4117    -4.8832     3.7524 H             1 Polymer \\n     165 H           21.4606    -3.7306     4.6490 H             1 Polymer \\n     166 H           22.6632    -2.4609     9.1139 H             1 Polymer \\n     167 H           22.9850    -0.9218    11.0111 H             1 Polymer \\n     168 H           24.5455     0.9721    10.8355 H             1 Polymer \\n     169 H           25.4905    -0.1972     6.7908 H             1 Polymer \\n     170 H           26.1299     2.2404     9.6714 H             1 Polymer \\n     171 H           24.6958     2.9740     7.9087 H             1 Polymer \\n     172 H           27.6073     0.7475     7.4207 H             1 Polymer \\n     173 H           27.8618     0.5164     9.1959 H             1 Polymer \\n     174 H           28.2204     2.1077     8.4301 H             1 Polymer \\n     175 H           20.2330    -3.6751     7.0090 H             1 Polymer \\n     176 H           18.2328    -2.4951     7.7935 H             1 Polymer \\n     177 C           25.6064     1.9806     6.3376 C             1 Polymer \\n     178 O           24.8226     1.0071     6.1797 O             1 Polymer \\n     179 C           26.4582     2.4593     5.2336 C             1 Polymer \\n     180 C           27.3193     3.5465     5.4440 C             1 Polymer \\n     181 C           28.1352     4.0127     4.4097 C             1 Polymer \\n     182 C           28.1097     3.3921     3.1500 C             1 Polymer \\n     183 C           28.9817     3.8778     2.0530 C             1 Polymer \\n     184 C           30.3841     4.0174     2.2115 C             1 Polymer \\n     185 C           31.1455     4.5574     1.1609 C             1 Polymer \\n     186 C           30.5470     4.9351    -0.0447 C             1 Polymer \\n     187 O           31.3632     5.4625    -1.0566 O             1 Polymer \\n     188 C           30.8914     5.8863    -2.3314 C             1 Polymer \\n     189 C           29.1608     4.7716    -0.2039 C             1 Polymer \\n     190 C           28.3894     4.2485     0.8349 C             1 Polymer \\n     191 C           31.0842     3.5730     3.4404 C             1 Polymer \\n     192 C           30.9471     2.2539     3.8998 C             1 Polymer \\n     193 C           31.5986     1.8431     5.0636 C             1 Polymer \\n     194 C           32.3984     2.7401     5.7750 C             1 Polymer \\n     195 C           32.5603     4.0619     5.3256 C             1 Polymer \\n     196 C           31.8981     4.4694     4.1518 C             1 Polymer \\n     197 C           33.4266     5.0297     6.1140 C             1 Polymer \\n     198 N           32.6347     6.1415     6.6458 N             1 Polymer \\n     199 C           34.5878     5.5608     5.2677 C             1 Polymer \\n     200 C           27.2392     2.3120     2.9355 C             1 Polymer \\n     201 C           26.4220     1.8463     3.9696 C             1 Polymer \\n     202 H           27.3590     4.0369     6.4091 H             1 Polymer \\n     203 H           28.7847     4.8603     4.5907 H             1 Polymer \\n     204 H           32.2181     4.6671     1.2705 H             1 Polymer \\n     205 H           31.7480     6.2588    -2.9295 H             1 Polymer \\n     206 H           30.1562     6.7100    -2.2119 H             1 Polymer \\n     207 H           30.4263     5.0334    -2.8694 H             1 Polymer \\n     208 H           28.6674     5.0530    -1.1241 H             1 Polymer \\n     209 H           27.3192     4.1529     0.6957 H             1 Polymer \\n     210 H           30.3371     1.5434     3.3557 H             1 Polymer \\n     211 H           31.4841     0.8259     5.4151 H             1 Polymer \\n     212 H           32.8921     2.4002     6.6768 H             1 Polymer \\n     213 H           32.0008     5.4871     3.7965 H             1 Polymer \\n     214 H           33.8825     4.4982     6.9792 H             1 Polymer \\n     215 H           31.8663     5.7510     7.2389 H             1 Polymer \\n     216 H           34.2183     6.1710     4.4168 H             1 Polymer \\n     217 H           35.1890     4.7148     4.8712 H             1 Polymer \\n     218 H           35.2484     6.1970     5.8943 H             1 Polymer \\n     219 H           27.2040     1.8206     1.9709 H             1 Polymer \\n     220 H           25.7650     1.0066     3.7807 H             1 Polymer \\n     221 C           31.9932     6.8977     5.5203 C             1 Polymer \\n     222 O           31.1813     6.2966     4.7675 O             1 Polymer \\n     223 C           32.3167     8.3206     5.3097 C             1 Polymer \\n     224 C           33.2247     8.9590     6.1673 C             1 Polymer \\n     225 C           33.5446    10.3067     5.9817 C             1 Polymer \\n     226 C           32.9680    11.0352     4.9284 C             1 Polymer \\n     227 C           33.3130    12.4629     4.7223 C             1 Polymer \\n     228 C           34.6555    12.9027     4.5973 C             1 Polymer \\n     229 C           34.9218    14.2778     4.4828 C             1 Polymer \\n     230 C           33.8848    15.2152     4.4650 C             1 Polymer \\n     231 O           34.2167    16.5728     4.3427 O             1 Polymer \\n     232 C           33.2669    17.6331     4.3096 C             1 Polymer \\n     233 C           32.5559    14.7707     4.5649 C             1 Polymer \\n     234 C           32.2761    13.4094     4.6918 C             1 Polymer \\n     235 C           35.7920    11.9522     4.5426 C             1 Polymer \\n     236 C           35.8140    10.9235     3.5880 C             1 Polymer \\n     237 C           36.8802    10.0241     3.5478 C             1 Polymer \\n     238 C           37.9371    10.1462     4.4524 C             1 Polymer \\n     239 C           37.9419    11.1769     5.4079 C             1 Polymer \\n     240 C           36.8617    12.0793     5.4436 C             1 Polymer \\n     241 C           39.0941    11.2931     6.3916 C             1 Polymer \\n     242 N           38.6409    11.0875     7.7694 N             1 Polymer \\n     243 C           39.8085    12.6420     6.2624 C             1 Polymer \\n     244 C           32.0500    10.3999     4.0776 C             1 Polymer \\n     245 C           31.7288     9.0522     4.2638 C             1 Polymer \\n     246 H           33.6853     8.4150     6.9830 H             1 Polymer \\n     247 H           34.2399    10.7829     6.6620 H             1 Polymer \\n     248 H           35.9438    14.6249     4.3851 H             1 Polymer \\n     249 H           33.8044    18.5981     4.2078 H             1 Polymer \\n     250 H           32.6809    17.6503     5.2528 H             1 Polymer \\n     251 H           32.5880    17.5107     3.4394 H             1 Polymer \\n     252 H           31.7310    15.4699     4.5533 H             1 Polymer \\n     253 H           31.2443    13.0936     4.7896 H             1 Polymer \\n     254 H           35.0063    10.8195     2.8740 H             1 Polymer \\n     255 H           36.8881     9.2299     2.8125 H             1 Polymer \\n     256 H           38.7525     9.4353     4.4045 H             1 Polymer \\n     257 H           36.8415    12.8725     6.1804 H             1 Polymer \\n     258 H           39.8529    10.5102     6.1674 H             1 Polymer \\n     259 H           38.1807    10.1500     7.8336 H             1 Polymer \\n     260 H           39.1369    13.4806     6.5430 H             1 Polymer \\n     261 H           40.1556    12.7914     5.2176 H             1 Polymer \\n     262 H           40.6942    12.6632     6.9325 H             1 Polymer \\n     263 H           31.5936    10.9447     3.2601 H             1 Polymer \\n     264 H           31.0236     8.5834     3.5890 H             1 Polymer \\n     265 C           -2.7791    -7.0833     0.1387 C             1 Polymer \\n     266 O           -1.8880    -6.0907    -0.2812 O             1 Polymer \\n     267 H           -3.5210    -6.6574     0.8486 H             1 Polymer \\n     268 H           -2.2128    -7.8866     0.6535 H             1 Polymer \\n     269 H           -3.3056    -7.5215    -0.7369 H             1 Polymer \\n     270 C           38.0156    15.8383     8.5121 C             1 Polymer \\n     271 C           37.1473    14.5712     8.5445 C             1 Polymer \\n     272 C           36.5642    14.4039     9.9608 C             1 Polymer \\n     273 C           36.0177    14.7157     7.5066 C             1 Polymer \\n     274 O           37.9989    13.4634     8.2141 O             1 Polymer \\n     275 C           37.6123    12.1183     8.1294 C             1 Polymer \\n     276 O           36.4272    11.7529     8.3469 O             1 Polymer \\n     277 H           37.4150    16.7403     8.7604 H             1 Polymer \\n     278 H           38.8470    15.7545     9.2448 H             1 Polymer \\n     279 H           38.4590    15.9758     7.5023 H             1 Polymer \\n     280 H           37.3808    14.2266    10.6930 H             1 Polymer \\n     281 H           35.8596    13.5489    10.0100 H             1 Polymer \\n     282 H           36.0078    15.3170    10.2646 H             1 Polymer \\n     283 H           36.4429    14.7615     6.4811 H             1 Polymer \\n     284 H           35.3128    13.8608     7.5540 H             1 Polymer \\n     285 H           35.4346    15.6439     7.6904 H             1 Polymer \\n@<TRIPOS>BOND\\n       1        1        2 1\\n       2        1        3 1\\n       3        1      266 1\\n       4        3        4 1\\n       5        3       25 1\\n       6        4        5 1\\n       7        4       26 1\\n       8        5        6 1\\n       9        5       27 1\\n      10        6        7 1\\n      11        6       24 1\\n      12        7        8 1\\n      13        7       14 1\\n      14        8        9 1\\n      15        8       15 1\\n      16        9       10 1\\n      17        9       28 1\\n      18       10       11 1\\n      19       10       13 1\\n      20       11       12 1\\n      21       12       29 1\\n      22       12       30 1\\n      23       12       31 1\\n      24       13       14 1\\n      25       13       32 1\\n      26       14       33 1\\n      27       15       16 1\\n      28       15       20 1\\n      29       16       17 1\\n      30       16       34 1\\n      31       17       18 1\\n      32       17       35 1\\n      33       18       19 1\\n      34       18       36 1\\n      35       19       20 1\\n      36       19       21 1\\n      37       20       37 1\\n      38       21       22 1\\n      39       21       23 1\\n      40       21       38 1\\n      41       22       39 1\\n      42       22       45 1\\n      43       23       40 1\\n      44       23       41 1\\n      45       23       42 1\\n      46       24       25 1\\n      47       24       43 1\\n      48       25       44 1\\n      49       45       46 1\\n      50       45       47 1\\n      51       47       48 1\\n      52       47       69 1\\n      53       48       49 1\\n      54       48       70 1\\n      55       49       50 1\\n      56       49       71 1\\n      57       50       51 1\\n      58       50       68 1\\n      59       51       52 1\\n      60       51       58 1\\n      61       52       53 1\\n      62       52       59 1\\n      63       53       54 1\\n      64       53       72 1\\n      65       54       55 1\\n      66       54       57 1\\n      67       55       56 1\\n      68       56       73 1\\n      69       56       74 1\\n      70       56       75 1\\n      71       57       58 1\\n      72       57       76 1\\n      73       58       77 1\\n      74       59       60 1\\n      75       59       64 1\\n      76       60       61 1\\n      77       60       78 1\\n      78       61       62 1\\n      79       61       79 1\\n      80       62       63 1\\n      81       62       80 1\\n      82       63       64 1\\n      83       63       65 1\\n      84       64       81 1\\n      85       65       66 1\\n      86       65       67 1\\n      87       65       82 1\\n      88       66       83 1\\n      89       66       89 1\\n      90       67       84 1\\n      91       67       85 1\\n      92       67       86 1\\n      93       68       69 1\\n      94       68       87 1\\n      95       69       88 1\\n      96       89       90 1\\n      97       89       91 1\\n      98       91       92 1\\n      99       91      113 1\\n     100       92       93 1\\n     101       92      114 1\\n     102       93       94 1\\n     103       93      115 1\\n     104       94       95 1\\n     105       94      112 1\\n     106       95       96 1\\n     107       95      102 1\\n     108       96       97 1\\n     109       96      103 1\\n     110       97       98 1\\n     111       97      116 1\\n     112       98       99 1\\n     113       98      101 1\\n     114       99      100 1\\n     115      100      117 1\\n     116      100      118 1\\n     117      100      119 1\\n     118      101      102 1\\n     119      101      120 1\\n     120      102      121 1\\n     121      103      104 1\\n     122      103      108 1\\n     123      104      105 1\\n     124      104      122 1\\n     125      105      106 1\\n     126      105      123 1\\n     127      106      107 1\\n     128      106      124 1\\n     129      107      108 1\\n     130      107      109 1\\n     131      108      125 1\\n     132      109      110 1\\n     133      109      111 1\\n     134      109      126 1\\n     135      110      127 1\\n     136      110      133 1\\n     137      111      128 1\\n     138      111      129 1\\n     139      111      130 1\\n     140      112      113 1\\n     141      112      131 1\\n     142      113      132 1\\n     143      133      134 1\\n     144      133      135 1\\n     145      135      136 1\\n     146      135      157 1\\n     147      136      137 1\\n     148      136      158 1\\n     149      137      138 1\\n     150      137      159 1\\n     151      138      139 1\\n     152      138      156 1\\n     153      139      140 1\\n     154      139      146 1\\n     155      140      141 1\\n     156      140      147 1\\n     157      141      142 1\\n     158      141      160 1\\n     159      142      143 1\\n     160      142      145 1\\n     161      143      144 1\\n     162      144      161 1\\n     163      144      162 1\\n     164      144      163 1\\n     165      145      146 1\\n     166      145      164 1\\n     167      146      165 1\\n     168      147      148 1\\n     169      147      152 1\\n     170      148      149 1\\n     171      148      166 1\\n     172      149      150 1\\n     173      149      167 1\\n     174      150      151 1\\n     175      150      168 1\\n     176      151      152 1\\n     177      151      153 1\\n     178      152      169 1\\n     179      153      154 1\\n     180      153      155 1\\n     181      153      170 1\\n     182      154      171 1\\n     183      154      177 1\\n     184      155      172 1\\n     185      155      173 1\\n     186      155      174 1\\n     187      156      157 1\\n     188      156      175 1\\n     189      157      176 1\\n     190      177      178 1\\n     191      177      179 1\\n     192      179      180 1\\n     193      179      201 1\\n     194      180      181 1\\n     195      180      202 1\\n     196      181      182 1\\n     197      181      203 1\\n     198      182      183 1\\n     199      182      200 1\\n     200      183      184 1\\n     201      183      190 1\\n     202      184      185 1\\n     203      184      191 1\\n     204      185      186 1\\n     205      185      204 1\\n     206      186      187 1\\n     207      186      189 1\\n     208      187      188 1\\n     209      188      205 1\\n     210      188      206 1\\n     211      188      207 1\\n     212      189      190 1\\n     213      189      208 1\\n     214      190      209 1\\n     215      191      192 1\\n     216      191      196 1\\n     217      192      193 1\\n     218      192      210 1\\n     219      193      194 1\\n     220      193      211 1\\n     221      194      195 1\\n     222      194      212 1\\n     223      195      196 1\\n     224      195      197 1\\n     225      196      213 1\\n     226      197      198 1\\n     227      197      199 1\\n     228      197      214 1\\n     229      198      215 1\\n     230      198      221 1\\n     231      199      216 1\\n     232      199      217 1\\n     233      199      218 1\\n     234      200      201 1\\n     235      200      219 1\\n     236      201      220 1\\n     237      221      222 1\\n     238      221      223 1\\n     239      223      224 1\\n     240      223      245 1\\n     241      224      225 1\\n     242      224      246 1\\n     243      225      226 1\\n     244      225      247 1\\n     245      226      227 1\\n     246      226      244 1\\n     247      227      228 1\\n     248      227      234 1\\n     249      228      229 1\\n     250      228      235 1\\n     251      229      230 1\\n     252      229      248 1\\n     253      230      231 1\\n     254      230      233 1\\n     255      231      232 1\\n     256      232      249 1\\n     257      232      250 1\\n     258      232      251 1\\n     259      233      234 1\\n     260      233      252 1\\n     261      234      253 1\\n     262      235      236 1\\n     263      235      240 1\\n     264      236      237 1\\n     265      236      254 1\\n     266      237      238 1\\n     267      237      255 1\\n     268      238      239 1\\n     269      238      256 1\\n     270      239      240 1\\n     271      239      241 1\\n     272      240      257 1\\n     273      241      242 1\\n     274      241      243 1\\n     275      241      258 1\\n     276      242      259 1\\n     277      242      275 1\\n     278      243      260 1\\n     279      243      261 1\\n     280      243      262 1\\n     281      244      245 1\\n     282      244      263 1\\n     283      245      264 1\\n     284      265      266 1\\n     285      265      267 1\\n     286      265      268 1\\n     287      265      269 1\\n     288      270      271 1\\n     289      270      277 1\\n     290      270      278 1\\n     291      270      279 1\\n     292      271      272 1\\n     293      271      273 1\\n     294      271      274 1\\n     295      272      280 1\\n     296      272      281 1\\n     297      272      282 1\\n     298      273      283 1\\n     299      273      284 1\\n     300      273      285 1\\n     301      274      275 1\\n     302      275      276 1\\n@<TRIPOS>SUBSTRUCTURE\\n       1 Polymer         1 RESIDUE    0 **** ROOT      0\\n\",\"mol2\");\n",
       "\tviewer_16915951023991146.setStyle({\"stick\": {\"radius\": 0.2, \"color\": \"grey\"}, \"sphere\": {\"scale\": 0.3, \"colorscheme\": {}}});\n",
       "\tviewer_16915951023991146.zoomTo();\n",
       "viewer_16915951023991146.render();\n",
       "});\n",
       "</script>"
      ]
     },
     "metadata": {},
     "output_type": "display_data"
    },
    {
     "data": {
      "text/plain": [
       "<py3Dmol.view at 0x7f4b8038f250>"
      ]
     },
     "execution_count": 8,
     "metadata": {},
     "output_type": "execute_result"
    }
   ],
   "source": [
    "chain.visualize()"
   ]
  },
  {
   "cell_type": "code",
   "execution_count": 9,
   "id": "78a7eede",
   "metadata": {},
   "outputs": [
    {
     "name": "stdout",
     "output_type": "stream",
     "text": [
      "<C pos=([-0.2723 -0.5048 -0.0963]), 3 bonds, id: 139962205062432>\n",
      "<O pos=([-0.3612 -0.5415 -0.1777]), 1 bonds, id: 139962205062624>\n",
      "<C pos=([-0.2496 -0.3619 -0.0677]), 3 bonds, id: 139962205062768>\n",
      "<C pos=([-0.1498 -0.3245  0.0235]), 3 bonds, id: 139962205062912>\n",
      "<C pos=([-0.1268 -0.1896  0.0517]), 3 bonds, id: 139962205063056>\n",
      "<C pos=([-0.2026 -0.0898 -0.0116]), 3 bonds, id: 139962205063200>\n",
      "<C pos=([-0.1778  0.0535  0.0173]), 3 bonds, id: 139962205063344>\n",
      "<C pos=([-0.049   0.1115  0.0052]), 3 bonds, id: 139962205063488>\n",
      "<C pos=([-0.0303  0.246   0.0417]), 3 bonds, id: 139962205063632>\n",
      "<C pos=([-0.137   0.3239  0.0872]), 3 bonds, id: 139962205063776>\n",
      "<O pos=([-0.1119  0.4577  0.1214]), 2 bonds, id: 139962205063920>\n",
      "<C pos=([-0.2108  0.5484  0.169 ]), 4 bonds, id: 139962205064064>\n",
      "<C pos=([-0.2649  0.2665  0.0966]), 3 bonds, id: 139962205064208>\n",
      "<C pos=([-0.2847  0.1328  0.062 ]), 3 bonds, id: 139962205064352>\n",
      "<C pos=([ 0.0666  0.0359 -0.0487]), 3 bonds, id: 139962205064496>\n",
      "<C pos=([ 0.0589 -0.0256 -0.1746]), 3 bonds, id: 139962205064640>\n",
      "<C pos=([ 0.1674 -0.0977 -0.2245]), 3 bonds, id: 139962205064784>\n",
      "<C pos=([ 0.2849 -0.1086 -0.1497]), 3 bonds, id: 139962205064928>\n",
      "<C pos=([ 0.2952 -0.0467 -0.0239]), 3 bonds, id: 139962205065072>\n",
      "<C pos=([0.1852 0.0257 0.0258]), 3 bonds, id: 139962205065216>\n",
      "<C pos=([ 0.4233 -0.0601  0.0568]), 4 bonds, id: 139962205065360>\n",
      "<N pos=([ 0.4    -0.1325  0.182 ]), 3 bonds, id: 139962205065504>\n",
      "<C pos=([0.4861 0.0767 0.0854]), 4 bonds, id: 139962246442208>\n",
      "<C pos=([-0.3034 -0.1273 -0.102 ]), 3 bonds, id: 139962204978960>\n",
      "<C pos=([-0.3265 -0.2622 -0.1301]), 3 bonds, id: 139962204979104>\n",
      "<H pos=([-0.0898 -0.3998  0.0731]), 1 bonds, id: 139962204978480>\n",
      "<H pos=([-0.05   -0.163   0.1233]), 1 bonds, id: 139962204978576>\n",
      "<H pos=([0.0677 0.2914 0.0327]), 1 bonds, id: 139962204976752>\n",
      "<H pos=([-0.1634  0.6468  0.1882]), 1 bonds, id: 139962204976992>\n",
      "<H pos=([-0.2546  0.5109  0.2639]), 1 bonds, id: 139962204976176>\n",
      "<H pos=([-0.2903  0.5616  0.0926]), 1 bonds, id: 139962204976464>\n",
      "<H pos=([-0.3495  0.3241  0.1313]), 1 bonds, id: 139962204975792>\n",
      "<H pos=([-0.3838  0.0902  0.0722]), 1 bonds, id: 139962204969168>\n",
      "<H pos=([-0.0312 -0.0175 -0.2343]), 1 bonds, id: 139962204968736>\n",
      "<H pos=([ 0.1606 -0.1453 -0.3215]), 1 bonds, id: 139962204971568>\n",
      "<H pos=([ 0.3677 -0.1653 -0.1902]), 1 bonds, id: 139962204970800>\n",
      "<H pos=([0.1908 0.073  0.123 ]), 1 bonds, id: 139962204971760>\n",
      "<H pos=([ 0.4982 -0.1177 -0.0019]), 1 bonds, id: 139962205065552>\n",
      "<H pos=([ 0.3596 -0.2263  0.1593]), 1 bonds, id: 139962205061760>\n",
      "<H pos=([0.4204 0.1383 0.1503]), 1 bonds, id: 139962205061424>\n",
      "<H pos=([ 0.5041  0.1311 -0.0098]), 1 bonds, id: 139962205065744>\n",
      "<H pos=([0.5836 0.0632 0.137 ]), 1 bonds, id: 139962205065888>\n",
      "<H pos=([-0.363  -0.0518 -0.1518]), 1 bonds, id: 139962205066032>\n",
      "<H pos=([-0.4042 -0.2884 -0.2008]), 1 bonds, id: 139962205066176>\n",
      "<C pos=([ 0.2994 -0.0592  0.2656]), 3 bonds, id: 139962205072176>\n",
      "<O pos=([ 0.1832 -0.042   0.22  ]), 1 bonds, id: 139962205069920>\n",
      "<C pos=([ 0.3372 -0.0086  0.3989]), 3 bonds, id: 139962205069968>\n",
      "<C pos=([ 0.4674 -0.0296  0.4466]), 3 bonds, id: 139962205068288>\n",
      "<C pos=([0.505  0.0178 0.5726]), 3 bonds, id: 139962205068192>\n",
      "<C pos=([0.4132 0.0878 0.6525]), 3 bonds, id: 139962246437936>\n",
      "<C pos=([0.453  0.1391 0.7858]), 3 bonds, id: 139962246438560>\n",
      "<C pos=([0.5668 0.2219 0.8037]), 3 bonds, id: 139962246214416>\n",
      "<C pos=([0.6039 0.2608 0.9335]), 3 bonds, id: 139962246214080>\n",
      "<C pos=([0.5292 0.2213 1.0449]), 3 bonds, id: 139962246207024>\n",
      "<O pos=([0.5712 0.264  1.1718]), 2 bonds, id: 139962246209376>\n",
      "<C pos=([0.5049 0.2316 1.2936]), 4 bonds, id: 139962246209568>\n",
      "<C pos=([0.4153 0.1413 1.0263]), 3 bonds, id: 139962246207120>\n",
      "<C pos=([0.3778 0.1008 0.8981]), 3 bonds, id: 139962246207360>\n",
      "<C pos=([0.646  0.2724 0.689 ]), 3 bonds, id: 139962246210000>\n",
      "<C pos=([0.5837 0.3437 0.5854]), 3 bonds, id: 139962246202704>\n",
      "<C pos=([0.6584 0.3901 0.4771]), 3 bonds, id: 139962246202656>\n",
      "<C pos=([0.796  0.3666 0.4714]), 3 bonds, id: 139962246202608>\n",
      "<C pos=([0.8606 0.2966 0.5747]), 3 bonds, id: 139962246202560>\n",
      "<C pos=([0.7845 0.2499 0.6836]), 3 bonds, id: 139962246202512>\n",
      "<C pos=([1.0102 0.271  0.5669]), 4 bonds, id: 139962246202464>\n",
      "<N pos=([1.0393 0.1277 0.5583]), 3 bonds, id: 139962246202416>\n",
      "<C pos=([1.0841 0.3332 0.6858]), 4 bonds, id: 139962246202368>\n",
      "<C pos=([0.2825 0.1077 0.6053]), 3 bonds, id: 139962246202320>\n",
      "<C pos=([0.2448 0.0602 0.4793]), 3 bonds, id: 139962246202272>\n",
      "<H pos=([ 0.54   -0.0829  0.3865]), 1 bonds, id: 139962246202224>\n",
      "<H pos=([ 6.0575e-01 -4.7807e-04  6.0795e-01]), 1 bonds, id: 139962246202176>\n",
      "<H pos=([0.6905 0.3242 0.9483]), 1 bonds, id: 139962246202128>\n",
      "<H pos=([0.5596 0.2782 1.3781]), 1 bonds, id: 139962246202080>\n",
      "<H pos=([0.5039 0.1215 1.3083]), 1 bonds, id: 139962246202032>\n",
      "<H pos=([0.4011 0.271  1.2922]), 1 bonds, id: 139962246201984>\n",
      "<H pos=([0.3553 0.1091 1.1103]), 1 bonds, id: 139962246201408>\n",
      "<H pos=([0.2908 0.0372 0.8865]), 1 bonds, id: 139962246201456>\n",
      "<H pos=([0.4772 0.3635 0.5886]), 1 bonds, id: 139962246201600>\n",
      "<H pos=([0.6097 0.4445 0.3972]), 1 bonds, id: 139962246202992>\n",
      "<H pos=([0.8519 0.4033 0.3863]), 1 bonds, id: 139962246201696>\n",
      "<H pos=([0.8323 0.1948 0.7636]), 1 bonds, id: 139962246206736>\n",
      "<H pos=([1.0513 0.3191 0.4753]), 1 bonds, id: 139962246203424>\n",
      "<H pos=([0.9897 0.0884 0.475 ]), 1 bonds, id: 139962246205968>\n",
      "<H pos=([1.0541 0.2852 0.7813]), 1 bonds, id: 139962246205824>\n",
      "<H pos=([1.0622 0.442  0.6916]), 1 bonds, id: 139962246205680>\n",
      "<H pos=([1.1937 0.3202 0.6729]), 1 bonds, id: 139962246205536>\n",
      "<H pos=([0.2101 0.1614 0.6654]), 1 bonds, id: 139962246205104>\n",
      "<H pos=([0.1436 0.0776 0.4449]), 1 bonds, id: 139962246204960>\n",
      "<C pos=([0.9861 0.0572 0.6796]), 3 bonds, id: 139962205073760>\n",
      "<O pos=([0.8622 0.0604 0.7023]), 1 bonds, id: 139962205169520>\n",
      "<C pos=([ 1.0783 -0.0141  0.7698]), 3 bonds, id: 139962205168752>\n",
      "<C pos=([ 1.2156 -0.0157  0.7414]), 3 bonds, id: 139962205169616>\n",
      "<C pos=([ 1.3045 -0.0827  0.8258]), 3 bonds, id: 139962205169376>\n",
      "<C pos=([ 1.2575 -0.1484  0.9407]), 3 bonds, id: 139962205168848>\n",
      "<C pos=([ 1.3517 -0.2188  1.0311]), 3 bonds, id: 139962205169040>\n",
      "<C pos=([ 1.4653 -0.1543  1.0865]), 3 bonds, id: 139962205168944>\n",
      "<C pos=([ 1.5551 -0.2285  1.1651]), 3 bonds, id: 139962205166928>\n",
      "<C pos=([ 1.5329 -0.364   1.1917]), 3 bonds, id: 139962205164336>\n",
      "<O pos=([ 1.626  -0.4323  1.2713]), 2 bonds, id: 139962205166832>\n",
      "<C pos=([ 1.6162 -0.5699  1.3065]), 4 bonds, id: 139962205165104>\n",
      "<C pos=([ 1.4189 -0.4266  1.1385]), 3 bonds, id: 139962205164816>\n",
      "<C pos=([ 1.3295 -0.3546  1.0592]), 3 bonds, id: 139962205164720>\n",
      "<C pos=([ 1.4905 -0.0095  1.0674]), 3 bonds, id: 139962205164624>\n",
      "<C pos=([1.3929 0.085  1.1027]), 3 bonds, id: 139962205163952>\n",
      "<C pos=([1.4167 0.2212 1.0835]), 3 bonds, id: 139962205164000>\n",
      "<C pos=([1.5381 0.2644 1.0297]), 3 bonds, id: 139962205162032>\n",
      "<C pos=([1.6377 0.1716 0.9948]), 3 bonds, id: 139962205162080>\n",
      "<C pos=([1.6129 0.0344 1.0143]), 3 bonds, id: 139962205160256>\n",
      "<C pos=([1.769  0.22   0.9356]), 4 bonds, id: 139962205169472>\n",
      "<N pos=([1.7866 0.1716 0.7984]), 3 bonds, id: 139962205170096>\n",
      "<C pos=([1.8883 0.1786 1.0223]), 4 bonds, id: 139962205170240>\n",
      "<C pos=([ 1.1199 -0.1479  0.9685]), 3 bonds, id: 139962205170384>\n",
      "<C pos=([ 1.031  -0.081   0.8839]), 3 bonds, id: 139962205170528>\n",
      "<H pos=([1.2541 0.0348 0.6536]), 1 bonds, id: 139962205170672>\n",
      "<H pos=([ 1.4101 -0.0836  0.8015]), 1 bonds, id: 139962205170816>\n",
      "<H pos=([ 1.6421 -0.1802  1.208 ]), 1 bonds, id: 139962205170960>\n",
      "<H pos=([ 1.703  -0.5975  1.3698]), 1 bonds, id: 139962205171104>\n",
      "<H pos=([ 1.6175 -0.6329  1.215 ]), 1 bonds, id: 139962205171248>\n",
      "<H pos=([ 1.523  -0.588   1.3641]), 1 bonds, id: 139962205171392>\n",
      "<H pos=([ 1.3989 -0.5312  1.1573]), 1 bonds, id: 139962205171536>\n",
      "<H pos=([ 1.2436 -0.4057  1.0176]), 1 bonds, id: 139962205171680>\n",
      "<H pos=([1.2986 0.0532 1.1453]), 1 bonds, id: 139962205171824>\n",
      "<H pos=([1.3408 0.2935 1.1105]), 1 bonds, id: 139962205171968>\n",
      "<H pos=([1.5542 0.3705 1.0154]), 1 bonds, id: 139962205172112>\n",
      "<H pos=([ 1.688  -0.0387  0.987 ]), 1 bonds, id: 139962205172256>\n",
      "<H pos=([1.7693 0.3312 0.9322]), 1 bonds, id: 139962205172400>\n",
      "<H pos=([1.7051 0.2034 0.7411]), 1 bonds, id: 139962205172544>\n",
      "<H pos=([1.8997 0.0682 1.0249]), 1 bonds, id: 139962205172688>\n",
      "<H pos=([1.8748 0.216  1.1261]), 1 bonds, id: 139962205172832>\n",
      "<H pos=([1.9817 0.2225 0.9811]), 1 bonds, id: 139962205172976>\n",
      "<H pos=([ 1.0817 -0.1981  1.0565]), 1 bonds, id: 139962205173120>\n",
      "<H pos=([ 0.9254 -0.0815  0.908 ]), 1 bonds, id: 139962205173264>\n",
      "<C pos=([1.7869 0.0216 0.7967]), 3 bonds, id: 139962205316544>\n",
      "<O pos=([ 1.6844 -0.04    0.8364]), 1 bonds, id: 139962205317408>\n",
      "<C pos=([ 1.9059 -0.0513  0.7492]), 3 bonds, id: 139962205317168>\n",
      "<C pos=([2.0183 0.0204 0.7057]), 3 bonds, id: 139962205316640>\n",
      "<C pos=([ 2.1321 -0.047   0.6606]), 3 bonds, id: 139962205316832>\n",
      "<C pos=([ 2.1356 -0.1874  0.6591]), 3 bonds, id: 139962205316736>\n",
      "<C pos=([ 2.2565 -0.2593  0.6121]), 3 bonds, id: 139962205314720>\n",
      "<C pos=([ 2.3851 -0.2337  0.6663]), 3 bonds, id: 139962205312128>\n",
      "<C pos=([ 2.4969 -0.2994  0.6122]), 3 bonds, id: 139962205314624>\n",
      "<C pos=([ 2.4832 -0.3912  0.5076]), 3 bonds, id: 139962205312896>\n",
      "<O pos=([ 2.5986 -0.4538  0.4584]), 2 bonds, id: 139962205312608>\n",
      "<C pos=([ 2.5996 -0.5491  0.3526]), 4 bonds, id: 139962205312512>\n",
      "<C pos=([ 2.3552 -0.4178  0.456 ]), 3 bonds, id: 139962205312416>\n",
      "<C pos=([ 2.2434 -0.3525  0.5079]), 3 bonds, id: 139962205311744>\n",
      "<C pos=([ 2.4051 -0.1426  0.7815]), 3 bonds, id: 139962205307712>\n",
      "<C pos=([ 2.335  -0.1629  0.9014]), 3 bonds, id: 139962205311648>\n",
      "<C pos=([ 2.3533 -0.0762  1.0091]), 3 bonds, id: 139962205310016>\n",
      "<C pos=([2.4422 0.031  0.9987]), 3 bonds, id: 139962205309728>\n",
      "<C pos=([2.5144 0.0525 0.8801]), 3 bonds, id: 139962205308096>\n",
      "<C pos=([ 2.4952 -0.0353  0.7717]), 3 bonds, id: 139962205308000>\n",
      "<C pos=([2.6101 0.1701 0.8698]), 4 bonds, id: 139962205317264>\n",
      "<N pos=([2.5665 0.2655 0.7676]), 3 bonds, id: 139962205317888>\n",
      "<C pos=([2.7533 0.1235 0.8415]), 4 bonds, id: 139962205318032>\n",
      "<C pos=([ 2.0227 -0.2592  0.7014]), 3 bonds, id: 139962205318176>\n",
      "<C pos=([ 1.9088 -0.1918  0.7465]), 3 bonds, id: 139962205318320>\n",
      "<H pos=([2.0181 0.1288 0.7065]), 1 bonds, id: 139962205318464>\n",
      "<H pos=([2.2174 0.0104 0.6264]), 1 bonds, id: 139962205318608>\n",
      "<H pos=([ 2.5956 -0.2808  0.6529]), 1 bonds, id: 139962205318752>\n",
      "<H pos=([ 2.7039 -0.582   0.3344]), 1 bonds, id: 139962205318896>\n",
      "<H pos=([ 2.5599 -0.5033  0.2596]), 1 bonds, id: 139962205319040>\n",
      "<H pos=([ 2.5388 -0.6378  0.3806]), 1 bonds, id: 139962205319184>\n",
      "<H pos=([ 2.3412 -0.4883  0.3752]), 1 bonds, id: 139962205319328>\n",
      "<H pos=([ 2.1461 -0.3731  0.4649]), 1 bonds, id: 139962205319472>\n",
      "<H pos=([ 2.2663 -0.2461  0.9114]), 1 bonds, id: 139962205319616>\n",
      "<H pos=([ 2.2985 -0.0922  1.1011]), 1 bonds, id: 139962205319760>\n",
      "<H pos=([2.4546 0.0972 1.0835]), 1 bonds, id: 139962205319904>\n",
      "<H pos=([ 2.549  -0.0197  0.6791]), 1 bonds, id: 139962205320048>\n",
      "<H pos=([2.613  0.224  0.9671]), 1 bonds, id: 139962246203280>\n",
      "<H pos=([2.4696 0.2974 0.7909]), 1 bonds, id: 139962205320144>\n",
      "<H pos=([2.7607 0.0748 0.7421]), 1 bonds, id: 139962205317312>\n",
      "<H pos=([2.7862 0.0516 0.9196]), 1 bonds, id: 139962205320240>\n",
      "<H pos=([2.822  0.2108 0.843 ]), 1 bonds, id: 139962205320384>\n",
      "<H pos=([ 2.0233 -0.3675  0.7009]), 1 bonds, id: 139962205320528>\n",
      "<H pos=([ 1.8233 -0.2495  0.7793]), 1 bonds, id: 139962205320672>\n",
      "<C pos=([2.5606 0.1981 0.6338]), 3 bonds, id: 139962205514208>\n",
      "<O pos=([2.4823 0.1007 0.618 ]), 1 bonds, id: 139962205509696>\n",
      "<C pos=([2.6458 0.2459 0.5234]), 3 bonds, id: 139962205513536>\n",
      "<C pos=([2.7319 0.3547 0.5444]), 3 bonds, id: 139962205511856>\n",
      "<C pos=([2.8135 0.4013 0.441 ]), 3 bonds, id: 139962205511760>\n",
      "<C pos=([2.811  0.3392 0.315 ]), 3 bonds, id: 139962205509792>\n",
      "<C pos=([2.8982 0.3878 0.2053]), 3 bonds, id: 139962205509264>\n",
      "<C pos=([3.0384 0.4017 0.2211]), 3 bonds, id: 139962205509312>\n",
      "<C pos=([3.1145 0.4557 0.1161]), 3 bonds, id: 139962205506624>\n",
      "<C pos=([ 3.0547  0.4935 -0.0045]), 3 bonds, id: 139962205509216>\n",
      "<O pos=([ 3.1363  0.5462 -0.1057]), 2 bonds, id: 139962205508880>\n",
      "<C pos=([ 3.0891  0.5886 -0.2331]), 4 bonds, id: 139962205508784>\n",
      "<C pos=([ 2.9161  0.4772 -0.0204]), 3 bonds, id: 139962205506912>\n",
      "<C pos=([2.8389 0.4248 0.0835]), 3 bonds, id: 139962205506864>\n",
      "<C pos=([3.1084 0.3573 0.344 ]), 3 bonds, id: 139962205504992>\n",
      "<C pos=([3.0947 0.2254 0.39  ]), 3 bonds, id: 139962205504896>\n",
      "<C pos=([3.1599 0.1843 0.5064]), 3 bonds, id: 139962205514448>\n",
      "<C pos=([3.2398 0.274  0.5775]), 3 bonds, id: 139962205514592>\n",
      "<C pos=([3.256  0.4062 0.5326]), 3 bonds, id: 139962205514736>\n",
      "<C pos=([3.1898 0.4469 0.4152]), 3 bonds, id: 139962205514880>\n",
      "<C pos=([3.3427 0.503  0.6114]), 4 bonds, id: 139962205515024>\n",
      "<N pos=([3.2635 0.6142 0.6646]), 3 bonds, id: 139962205515168>\n",
      "<C pos=([3.4588 0.5561 0.5268]), 4 bonds, id: 139962205515312>\n",
      "<C pos=([2.7239 0.2312 0.2935]), 3 bonds, id: 139962205515456>\n",
      "<C pos=([2.6422 0.1846 0.397 ]), 3 bonds, id: 139962205515600>\n",
      "<H pos=([2.7359 0.4037 0.6409]), 1 bonds, id: 139962205515744>\n",
      "<H pos=([2.8785 0.486  0.4591]), 1 bonds, id: 139962205515888>\n",
      "<H pos=([3.2218 0.4667 0.1271]), 1 bonds, id: 139962205516032>\n",
      "<H pos=([ 3.1748  0.6259 -0.293 ]), 1 bonds, id: 139962205516176>\n",
      "<H pos=([ 3.0156  0.671  -0.2212]), 1 bonds, id: 139962205516320>\n",
      "<H pos=([ 3.0426  0.5033 -0.2869]), 1 bonds, id: 139962205516464>\n",
      "<H pos=([ 2.8667  0.5053 -0.1124]), 1 bonds, id: 139962205516608>\n",
      "<H pos=([2.7319 0.4153 0.0696]), 1 bonds, id: 139962205516752>\n",
      "<H pos=([3.0337 0.1543 0.3356]), 1 bonds, id: 139962205516896>\n",
      "<H pos=([3.1484 0.0826 0.5415]), 1 bonds, id: 139962205517040>\n",
      "<H pos=([3.2892 0.24   0.6677]), 1 bonds, id: 139962205517184>\n",
      "<H pos=([3.2001 0.5487 0.3796]), 1 bonds, id: 139962205517328>\n",
      "<H pos=([3.3883 0.4498 0.6979]), 1 bonds, id: 139962205517472>\n",
      "<H pos=([3.1866 0.5751 0.7239]), 1 bonds, id: 139962205517616>\n",
      "<H pos=([3.4218 0.6171 0.4417]), 1 bonds, id: 139962205517760>\n",
      "<H pos=([3.5189 0.4715 0.4871]), 1 bonds, id: 139962205517904>\n",
      "<H pos=([3.5248 0.6197 0.5894]), 1 bonds, id: 139962205518048>\n",
      "<H pos=([2.7204 0.1821 0.1971]), 1 bonds, id: 139962205518192>\n",
      "<H pos=([2.5765 0.1007 0.3781]), 1 bonds, id: 139962205518336>\n",
      "<C pos=([3.1993 0.6898 0.552 ]), 3 bonds, id: 139962205726624>\n",
      "<O pos=([3.1181 0.6297 0.4768]), 1 bonds, id: 139962205726288>\n",
      "<C pos=([3.2317 0.8321 0.531 ]), 3 bonds, id: 139962205722352>\n",
      "<C pos=([3.3225 0.8959 0.6167]), 3 bonds, id: 139962205726192>\n",
      "<C pos=([3.3545 1.0307 0.5982]), 3 bonds, id: 139962205724512>\n",
      "<C pos=([3.2968 1.1035 0.4928]), 3 bonds, id: 139962205724416>\n",
      "<C pos=([3.3313 1.2463 0.4722]), 3 bonds, id: 139962205722448>\n",
      "<C pos=([3.4655 1.2903 0.4597]), 3 bonds, id: 139962205716976>\n",
      "<C pos=([3.4922 1.4278 0.4483]), 3 bonds, id: 139962205717024>\n",
      "<C pos=([3.3885 1.5215 0.4465]), 3 bonds, id: 139962205720672>\n",
      "<O pos=([3.4217 1.6573 0.4343]), 2 bonds, id: 139962205716784>\n",
      "<C pos=([3.3267 1.7633 0.431 ]), 4 bonds, id: 139962205718752>\n",
      "<C pos=([3.2556 1.4771 0.4565]), 3 bonds, id: 139962205719040>\n",
      "<C pos=([3.2276 1.3409 0.4692]), 3 bonds, id: 139962205726864>\n",
      "<C pos=([3.5792 1.1952 0.4543]), 3 bonds, id: 139962205727488>\n",
      "<C pos=([3.5814 1.0924 0.3588]), 3 bonds, id: 139962205727632>\n",
      "<C pos=([3.688  1.0024 0.3548]), 3 bonds, id: 139962205727776>\n",
      "<C pos=([3.7937 1.0146 0.4452]), 3 bonds, id: 139962205727920>\n",
      "<C pos=([3.7942 1.1177 0.5408]), 3 bonds, id: 139962205728064>\n",
      "<C pos=([3.6862 1.2079 0.5444]), 3 bonds, id: 139962205728208>\n",
      "<C pos=([3.9094 1.1293 0.6392]), 4 bonds, id: 139962205728352>\n",
      "<N pos=([3.8641 1.1088 0.7769]), 3 bonds, id: 139962205728496>\n",
      "<C pos=([3.9808 1.2642 0.6262]), 4 bonds, id: 139962205728640>\n",
      "<C pos=([3.205  1.04   0.4078]), 3 bonds, id: 139962205728784>\n",
      "<C pos=([3.1729 0.9052 0.4264]), 3 bonds, id: 139962205728928>\n",
      "<H pos=([3.3685 0.8415 0.6983]), 1 bonds, id: 139962205729072>\n",
      "<H pos=([3.424  1.0783 0.6662]), 1 bonds, id: 139962205729216>\n",
      "<H pos=([3.5944 1.4625 0.4385]), 1 bonds, id: 139962205729360>\n",
      "<H pos=([3.3804 1.8598 0.4208]), 1 bonds, id: 139962205729504>\n",
      "<H pos=([3.2681 1.765  0.5253]), 1 bonds, id: 139962205729648>\n",
      "<H pos=([3.2588 1.7511 0.3439]), 1 bonds, id: 139962205729792>\n",
      "<H pos=([3.1731 1.547  0.4553]), 1 bonds, id: 139962205729936>\n",
      "<H pos=([3.1244 1.3094 0.479 ]), 1 bonds, id: 139962205730080>\n",
      "<H pos=([3.5006 1.082  0.2874]), 1 bonds, id: 139962205730224>\n",
      "<H pos=([3.6888 0.923  0.2812]), 1 bonds, id: 139962205726528>\n",
      "<H pos=([3.8752 0.9435 0.4404]), 1 bonds, id: 139962205726912>\n",
      "<H pos=([3.6842 1.2872 0.618 ]), 1 bonds, id: 139962205730272>\n",
      "<H pos=([3.9853 1.051  0.6167]), 1 bonds, id: 139962205730416>\n",
      "<H pos=([3.8181 1.015  0.7834]), 1 bonds, id: 139962205730560>\n",
      "<H pos=([3.9137 1.3481 0.6543]), 1 bonds, id: 139962205730704>\n",
      "<H pos=([4.0156 1.2791 0.5218]), 1 bonds, id: 139962205730848>\n",
      "<H pos=([4.0694 1.2663 0.6932]), 1 bonds, id: 139962205730992>\n",
      "<H pos=([3.1594 1.0945 0.326 ]), 1 bonds, id: 139962205731136>\n",
      "<H pos=([3.1024 0.8583 0.3589]), 1 bonds, id: 139962205731280>\n",
      "<C pos=([-0.2779 -0.7083  0.0139]), 4 bonds, id: 139962204967488>\n",
      "<O pos=([-0.1888 -0.6091 -0.0281]), 2 bonds, id: 139962204967584>\n",
      "<H pos=([-0.3521 -0.6657  0.0849]), 1 bonds, id: 139962204967728>\n",
      "<H pos=([-0.2213 -0.7887  0.0653]), 1 bonds, id: 139962204967872>\n",
      "<H pos=([-0.3306 -0.7521 -0.0737]), 1 bonds, id: 139962204968016>\n",
      "<C pos=([3.8016 1.5838 0.8512]), 4 bonds, id: 139962204972816>\n",
      "<C pos=([3.7147 1.4571 0.8544]), 4 bonds, id: 139962204972912>\n",
      "<C pos=([3.6564 1.4404 0.9961]), 4 bonds, id: 139962204973056>\n",
      "<C pos=([3.6018 1.4716 0.7507]), 4 bonds, id: 139962204973200>\n",
      "<O pos=([3.7999 1.3463 0.8214]), 2 bonds, id: 139962204973344>\n",
      "<C pos=([3.7612 1.2118 0.8129]), 3 bonds, id: 139962204973488>\n",
      "<O pos=([3.6427 1.1753 0.8347]), 1 bonds, id: 139962204973632>\n",
      "<H pos=([3.7415 1.674  0.876 ]), 1 bonds, id: 139962204973776>\n",
      "<H pos=([3.8847 1.5755 0.9245]), 1 bonds, id: 139962204973920>\n",
      "<H pos=([3.8459 1.5976 0.7502]), 1 bonds, id: 139962204974064>\n",
      "<H pos=([3.7381 1.4227 1.0693]), 1 bonds, id: 139962204974208>\n",
      "<H pos=([3.586  1.3549 1.001 ]), 1 bonds, id: 139962204974352>\n",
      "<H pos=([3.6008 1.5317 1.0265]), 1 bonds, id: 139962204974496>\n",
      "<H pos=([3.6443 1.4762 0.6481]), 1 bonds, id: 139962204974640>\n",
      "<H pos=([3.5313 1.3861 0.7554]), 1 bonds, id: 139962204974784>\n",
      "<H pos=([3.5435 1.5644 0.769 ]), 1 bonds, id: 139962204974928>\n"
     ]
    }
   ],
   "source": [
    "for p in chain.particles():\n",
    "    print(p)"
   ]
  },
  {
   "cell_type": "code",
   "execution_count": 10,
   "id": "7e5b1cba",
   "metadata": {},
   "outputs": [],
   "source": [
    "# no need for rotation of peptide bonds\n",
    "#for bond in chain.bonds():\n",
    "#    if bond[0].name == \"N\":\n",
    "#        if bond[1].n_direct_bonds == 3:\n",
    "#            print(\"Rotating bond:\", bond, \"by\", np.pi/2)\n",
    "#            chain.rotate_dihedral(bond, np.pi/2)\n",
    "#            \n",
    "#    if bond[1].name == \"N\":\n",
    "#        if bond[0].n_direct_bonds == 3:\n",
    "#            print(\"Rotating bond:\", bond, \"by\", np.pi/2)\n",
    "#            chain.rotate_dihedral(bond, np.pi/2)       "
   ]
  },
  {
   "cell_type": "code",
   "execution_count": 11,
   "id": "afea3dba",
   "metadata": {},
   "outputs": [
    {
     "data": {
      "application/3dmoljs_load.v0": "<div id=\"3dmolviewer_16915951030014544\"  style=\"position: relative; width: 640px; height: 480px\">\n        <p id=\"3dmolwarning_16915951030014544\" style=\"background-color:#ffcccc;color:black\">You appear to be running in JupyterLab (or JavaScript failed to load for some other reason).  You need to install the 3dmol extension: <br>\n        <tt>jupyter labextension install jupyterlab_3dmol</tt></p>\n        </div>\n<script>\n\nvar loadScriptAsync = function(uri){\n  return new Promise((resolve, reject) => {\n    //this is to ignore the existence of requirejs amd\n    var savedexports, savedmodule;\n    if (typeof exports !== 'undefined') savedexports = exports;\n    else exports = {}\n    if (typeof module !== 'undefined') savedmodule = module;\n    else module = {}\n\n    var tag = document.createElement('script');\n    tag.src = uri;\n    tag.async = true;\n    tag.onload = () => {\n        exports = savedexports;\n        module = savedmodule;\n        resolve();\n    };\n  var firstScriptTag = document.getElementsByTagName('script')[0];\n  firstScriptTag.parentNode.insertBefore(tag, firstScriptTag);\n});\n};\n\nif(typeof $3Dmolpromise === 'undefined') {\n$3Dmolpromise = null;\n  $3Dmolpromise = loadScriptAsync('https://cdnjs.cloudflare.com/ajax/libs/3Dmol/2.0.1/3Dmol-min.js');\n}\n\nvar viewer_16915951030014544 = null;\nvar warn = document.getElementById(\"3dmolwarning_16915951030014544\");\nif(warn) {\n    warn.parentNode.removeChild(warn);\n}\n$3Dmolpromise.then(function() {\nviewer_16915951030014544 = $3Dmol.createViewer(document.getElementById(\"3dmolviewer_16915951030014544\"),{backgroundColor:\"white\"});\nviewer_16915951030014544.zoomTo();\n\tviewer_16915951030014544.addModel(\"@<TRIPOS>MOLECULE\\nPolymer\\n285 302 1 0 1\\nSMALL\\nNO_CHARGES\\n@<TRIPOS>CRYSIN\\n   49.7366    31.4847    21.9954    90.0000    90.0000    90.0000  1  1\\n@<TRIPOS>ATOM\\n       1 C           -2.7229    -5.0476    -0.9632 C             1 Polymer \\n       2 O           -3.6117    -5.4151    -1.7767 O             1 Polymer \\n       3 C           -2.4960    -3.6192    -0.6770 C             1 Polymer \\n       4 C           -1.4981    -3.2452     0.2351 C             1 Polymer \\n       5 C           -1.2678    -1.8960     0.5172 C             1 Polymer \\n       6 C           -2.0265    -0.8981    -0.1164 C             1 Polymer \\n       7 C           -1.7780     0.5351     0.1731 C             1 Polymer \\n       8 C           -0.4896     1.1153     0.0522 C             1 Polymer \\n       9 C           -0.3028     2.4596     0.4166 C             1 Polymer \\n      10 C           -1.3700     3.2395     0.8718 C             1 Polymer \\n      11 O           -1.1189     4.5765     1.2144 O             1 Polymer \\n      12 C           -2.1076     5.4844     1.6897 C             1 Polymer \\n      13 C           -2.6487     2.6652     0.9661 C             1 Polymer \\n      14 C           -2.8475     1.3279     0.6198 C             1 Polymer \\n      15 C            0.6657     0.3585    -0.4868 C             1 Polymer \\n      16 C            0.5886    -0.2559    -1.7464 C             1 Polymer \\n      17 C            1.6744    -0.9770    -2.2448 C             1 Polymer \\n      18 C            2.8487    -1.0857    -1.4968 C             1 Polymer \\n      19 C            2.9523    -0.4672    -0.2390 C             1 Polymer \\n      20 C            1.8519     0.2569     0.2580 C             1 Polymer \\n      21 C            4.2328    -0.6006     0.5680 C             1 Polymer \\n      22 N            4.0005    -1.3251     1.8199 N             1 Polymer \\n      23 C            4.8612     0.7670     0.8537 C             1 Polymer \\n      24 C           -3.0335    -1.2726    -1.0197 C             1 Polymer \\n      25 C           -3.2649    -2.6222    -1.3011 C             1 Polymer \\n      26 H           -0.8975    -3.9979     0.7313 H             1 Polymer \\n      27 H           -0.4995    -1.6298     1.2326 H             1 Polymer \\n      28 H            0.6772     2.9137     0.3268 H             1 Polymer \\n      29 H           -1.6335     6.4685     1.8821 H             1 Polymer \\n      30 H           -2.5459     5.1091     2.6385 H             1 Polymer \\n      31 H           -2.9034     5.6162     0.9264 H             1 Polymer \\n      32 H           -3.4953     3.2414     1.3135 H             1 Polymer \\n      33 H           -3.8384     0.9021     0.7224 H             1 Polymer \\n      34 H           -0.3117    -0.1747    -2.3429 H             1 Polymer \\n      35 H            1.6062    -1.4528    -3.2146 H             1 Polymer \\n      36 H            3.6775    -1.6526    -1.9022 H             1 Polymer \\n      37 H            1.9083     0.7301     1.2303 H             1 Polymer \\n      38 H            4.9824    -1.1770    -0.0193 H             1 Polymer \\n      39 H            3.5958    -2.2630     1.5931 H             1 Polymer \\n      40 H            4.2038     1.3832     1.5026 H             1 Polymer \\n      41 H            5.0410     1.3106    -0.0984 H             1 Polymer \\n      42 H            5.8355     0.6318     1.3697 H             1 Polymer \\n      43 H           -3.6302    -0.5182    -1.5178 H             1 Polymer \\n      44 H           -4.0424    -2.8844    -2.0076 H             1 Polymer \\n      45 C            2.9941    -0.5922     2.6565 C             1 Polymer \\n      46 O            1.8325    -0.4201     2.2004 O             1 Polymer \\n      47 C            3.3717    -0.0865     3.9889 C             1 Polymer \\n      48 C            4.6739    -0.2963     4.4662 C             1 Polymer \\n      49 C            5.0501     0.1775     5.7259 C             1 Polymer \\n      50 C            4.1315     0.8778     6.5250 C             1 Polymer \\n      51 C            4.5303     1.3908     7.8582 C             1 Polymer \\n      52 C            5.6676     2.2191     8.0369 C             1 Polymer \\n      53 C            6.0390     2.6082     9.3353 C             1 Polymer \\n      54 C            5.2920     2.2132    10.4490 C             1 Polymer \\n      55 O            5.7121     2.6398    11.7177 O             1 Polymer \\n      56 C            5.0494     2.3155    12.9356 C             1 Polymer \\n      57 C            4.1525     1.4128    10.2626 C             1 Polymer \\n      58 C            3.7782     1.0079     8.9806 C             1 Polymer \\n      59 C            6.4598     2.7244     6.8902 C             1 Polymer \\n      60 C            5.8367     3.4371     5.8540 C             1 Polymer \\n      61 C            6.5844     3.9009     4.7708 C             1 Polymer \\n      62 C            7.9599     3.6658     4.7142 C             1 Polymer \\n      63 C            8.6064     2.9660     5.7474 C             1 Polymer \\n      64 C            7.8449     2.4995     6.8360 C             1 Polymer \\n      65 C           10.1020     2.7098     5.6691 C             1 Polymer \\n      66 N           10.3933     1.2768     5.5831 N             1 Polymer \\n      67 C           10.8411     3.3324     6.8578 C             1 Polymer \\n      68 C            2.8248     1.0771     6.0529 C             1 Polymer \\n      69 C            2.4479     0.6021     4.7933 C             1 Polymer \\n      70 H            5.4002    -0.8292     3.8646 H             1 Polymer \\n      71 H            6.0575    -0.0048     6.0795 H             1 Polymer \\n      72 H            6.9053     3.2423     9.4834 H             1 Polymer \\n      73 H            5.5956     2.7821    13.7808 H             1 Polymer \\n      74 H            5.0388     1.2149    13.0832 H             1 Polymer \\n      75 H            4.0113     2.7098    12.9221 H             1 Polymer \\n      76 H            3.5528     1.0911    11.1029 H             1 Polymer \\n      77 H            2.9084     0.3724     8.8651 H             1 Polymer \\n      78 H            4.7724     3.6350     5.8862 H             1 Polymer \\n      79 H            6.0965     4.4451     3.9725 H             1 Polymer \\n      80 H            8.5194     4.0325     3.8628 H             1 Polymer \\n      81 H            8.3231     1.9477     7.6356 H             1 Polymer \\n      82 H           10.5128     3.1915     4.7535 H             1 Polymer \\n      83 H            9.8973     0.8843     4.7496 H             1 Polymer \\n      84 H           10.5412     2.8523     7.8131 H             1 Polymer \\n      85 H           10.6221     4.4201     6.9159 H             1 Polymer \\n      86 H           11.9365     3.2016     6.7287 H             1 Polymer \\n      87 H            2.1013     1.6137     6.6544 H             1 Polymer \\n      88 H            1.4360     0.7757     4.4490 H             1 Polymer \\n      89 C            9.8606     0.5723     6.7955 C             1 Polymer \\n      90 O            8.6220     0.6040     7.0233 O             1 Polymer \\n      91 C           10.7828    -0.1414     7.6977 C             1 Polymer \\n      92 C           12.1563    -0.1571     7.4136 C             1 Polymer \\n      93 C           13.0454    -0.8270     8.2584 C             1 Polymer \\n      94 C           12.5753    -1.4844     9.4072 C             1 Polymer \\n      95 C           13.5172    -2.1878    10.3114 C             1 Polymer \\n      96 C           14.6528    -1.5433    10.8648 C             1 Polymer \\n      97 C           15.5507    -2.2852    11.6511 C             1 Polymer \\n      98 C           15.3293    -3.6397    11.9165 C             1 Polymer \\n      99 O           16.2603    -4.3229    12.7133 O             1 Polymer \\n     100 C           16.1617    -5.6992    13.0648 C             1 Polymer \\n     101 C           14.1895    -4.2660    11.3853 C             1 Polymer \\n     102 C           13.2952    -3.5457    10.5921 C             1 Polymer \\n     103 C           14.9053    -0.0949    10.6739 C             1 Polymer \\n     104 C           13.9295     0.8501    11.0272 C             1 Polymer \\n     105 C           14.1669     2.2117    10.8349 C             1 Polymer \\n     106 C           15.3808     2.6443    10.2967 C             1 Polymer \\n     107 C           16.3770     1.7161     9.9483 C             1 Polymer \\n     108 C           16.1293     0.3438    10.1434 C             1 Polymer \\n     109 C           17.6899     2.1999     9.3558 C             1 Polymer \\n     110 N           17.8659     1.7158     7.9845 N             1 Polymer \\n     111 C           18.8831     1.7865    10.2230 C             1 Polymer \\n     112 C           11.1994    -1.4794     9.6850 C             1 Polymer \\n     113 C           10.3097    -0.8104     8.8393 C             1 Polymer \\n     114 H           12.5415     0.3477     6.5360 H             1 Polymer \\n     115 H           14.1006    -0.8356     8.0146 H             1 Polymer \\n     116 H           16.4210    -1.8024    12.0803 H             1 Polymer \\n     117 H           17.0297    -5.9747    13.6980 H             1 Polymer \\n     118 H           16.1747    -6.3287    12.1501 H             1 Polymer \\n     119 H           15.2296    -5.8803    13.6407 H             1 Polymer \\n     120 H           13.9888    -5.3120    11.5726 H             1 Polymer \\n     121 H           12.4355    -4.0569    10.1757 H             1 Polymer \\n     122 H           12.9859     0.5321    11.4532 H             1 Polymer \\n     123 H           13.4078     2.9346    11.1046 H             1 Polymer \\n     124 H           15.5420     3.7055    10.1538 H             1 Polymer \\n     125 H           16.8798    -0.3872     9.8698 H             1 Polymer \\n     126 H           17.6933     3.3125     9.3222 H             1 Polymer \\n     127 H           17.0509     2.0338     7.4106 H             1 Polymer \\n     128 H           18.9969     0.6823    10.2493 H             1 Polymer \\n     129 H           18.7484     2.1605    11.2606 H             1 Polymer \\n     130 H           19.8165     2.2252     9.8106 H             1 Polymer \\n     131 H           10.8168    -1.9814    10.5652 H             1 Polymer \\n     132 H            9.2540    -0.8149     9.0801 H             1 Polymer \\n     133 C           17.8691     0.2159     7.9674 C             1 Polymer \\n     134 O           16.8440    -0.4000     8.3637 O             1 Polymer \\n     135 C           19.0593    -0.5131     7.4923 C             1 Polymer \\n     136 C           20.1835     0.2043     7.0574 C             1 Polymer \\n     137 C           21.3211    -0.4699     6.6055 C             1 Polymer \\n     138 C           21.3558    -1.8739     6.5905 C             1 Polymer \\n     139 C           22.5652    -2.5927     6.1211 C             1 Polymer \\n     140 C           23.8507    -2.3375     6.6631 C             1 Polymer \\n     141 C           24.9691    -2.9941     6.1217 C             1 Polymer \\n     142 C           24.8315    -3.9118     5.0761 C             1 Polymer \\n     143 O           25.9864    -4.5380     4.5838 O             1 Polymer \\n     144 C           25.9957    -5.4915     3.5263 C             1 Polymer \\n     145 C           23.5523    -4.1782     4.5603 C             1 Polymer \\n     146 C           22.4336    -3.5247     5.0789 C             1 Polymer \\n     147 C           24.0511    -1.4259     7.8150 C             1 Polymer \\n     148 C           23.3500    -1.6295     9.0137 C             1 Polymer \\n     149 C           23.5330    -0.7621    10.0915 C             1 Polymer \\n     150 C           24.4215     0.3103     9.9874 C             1 Polymer \\n     151 C           25.1438     0.5249     8.8010 C             1 Polymer \\n     152 C           24.9522    -0.3534     7.7173 C             1 Polymer \\n     153 C           26.1009     1.7005     8.6984 C             1 Polymer \\n     154 N           25.6647     2.6549     7.6763 N             1 Polymer \\n     155 C           27.5328     1.2354     8.4154 C             1 Polymer \\n     156 C           20.2265    -2.5920     7.0140 C             1 Polymer \\n     157 C           19.0880    -1.9178     7.4648 C             1 Polymer \\n     158 H           20.1806     1.2875     7.0654 H             1 Polymer \\n     159 H           22.1741     0.1036     6.2642 H             1 Polymer \\n     160 H           25.9559    -2.8078     6.5291 H             1 Polymer \\n     161 H           27.0392    -5.8201     3.3437 H             1 Polymer \\n     162 H           25.5992    -5.0333     2.5957 H             1 Polymer \\n     163 H           25.3875    -6.3776     3.8058 H             1 Polymer \\n     164 H           23.4117    -4.8832     3.7524 H             1 Polymer \\n     165 H           21.4606    -3.7306     4.6490 H             1 Polymer \\n     166 H           22.6632    -2.4609     9.1139 H             1 Polymer \\n     167 H           22.9850    -0.9218    11.0111 H             1 Polymer \\n     168 H           24.5455     0.9721    10.8355 H             1 Polymer \\n     169 H           25.4905    -0.1972     6.7908 H             1 Polymer \\n     170 H           26.1299     2.2404     9.6714 H             1 Polymer \\n     171 H           24.6958     2.9740     7.9087 H             1 Polymer \\n     172 H           27.6073     0.7475     7.4207 H             1 Polymer \\n     173 H           27.8618     0.5164     9.1959 H             1 Polymer \\n     174 H           28.2204     2.1077     8.4301 H             1 Polymer \\n     175 H           20.2330    -3.6751     7.0090 H             1 Polymer \\n     176 H           18.2328    -2.4951     7.7935 H             1 Polymer \\n     177 C           25.6064     1.9806     6.3376 C             1 Polymer \\n     178 O           24.8226     1.0071     6.1797 O             1 Polymer \\n     179 C           26.4582     2.4593     5.2336 C             1 Polymer \\n     180 C           27.3193     3.5465     5.4440 C             1 Polymer \\n     181 C           28.1352     4.0127     4.4097 C             1 Polymer \\n     182 C           28.1097     3.3921     3.1500 C             1 Polymer \\n     183 C           28.9817     3.8778     2.0530 C             1 Polymer \\n     184 C           30.3841     4.0174     2.2115 C             1 Polymer \\n     185 C           31.1455     4.5574     1.1609 C             1 Polymer \\n     186 C           30.5470     4.9351    -0.0447 C             1 Polymer \\n     187 O           31.3632     5.4625    -1.0566 O             1 Polymer \\n     188 C           30.8914     5.8863    -2.3314 C             1 Polymer \\n     189 C           29.1608     4.7716    -0.2039 C             1 Polymer \\n     190 C           28.3894     4.2485     0.8349 C             1 Polymer \\n     191 C           31.0842     3.5730     3.4404 C             1 Polymer \\n     192 C           30.9471     2.2539     3.8998 C             1 Polymer \\n     193 C           31.5986     1.8431     5.0636 C             1 Polymer \\n     194 C           32.3984     2.7401     5.7750 C             1 Polymer \\n     195 C           32.5603     4.0619     5.3256 C             1 Polymer \\n     196 C           31.8981     4.4694     4.1518 C             1 Polymer \\n     197 C           33.4266     5.0297     6.1140 C             1 Polymer \\n     198 N           32.6347     6.1415     6.6458 N             1 Polymer \\n     199 C           34.5878     5.5608     5.2677 C             1 Polymer \\n     200 C           27.2392     2.3120     2.9355 C             1 Polymer \\n     201 C           26.4220     1.8463     3.9696 C             1 Polymer \\n     202 H           27.3590     4.0369     6.4091 H             1 Polymer \\n     203 H           28.7847     4.8603     4.5907 H             1 Polymer \\n     204 H           32.2181     4.6671     1.2705 H             1 Polymer \\n     205 H           31.7480     6.2588    -2.9295 H             1 Polymer \\n     206 H           30.1562     6.7100    -2.2119 H             1 Polymer \\n     207 H           30.4263     5.0334    -2.8694 H             1 Polymer \\n     208 H           28.6674     5.0530    -1.1241 H             1 Polymer \\n     209 H           27.3192     4.1529     0.6957 H             1 Polymer \\n     210 H           30.3371     1.5434     3.3557 H             1 Polymer \\n     211 H           31.4841     0.8259     5.4151 H             1 Polymer \\n     212 H           32.8921     2.4002     6.6768 H             1 Polymer \\n     213 H           32.0008     5.4871     3.7965 H             1 Polymer \\n     214 H           33.8825     4.4982     6.9792 H             1 Polymer \\n     215 H           31.8663     5.7510     7.2389 H             1 Polymer \\n     216 H           34.2183     6.1710     4.4168 H             1 Polymer \\n     217 H           35.1890     4.7148     4.8712 H             1 Polymer \\n     218 H           35.2484     6.1970     5.8943 H             1 Polymer \\n     219 H           27.2040     1.8206     1.9709 H             1 Polymer \\n     220 H           25.7650     1.0066     3.7807 H             1 Polymer \\n     221 C           31.9932     6.8977     5.5203 C             1 Polymer \\n     222 O           31.1813     6.2966     4.7675 O             1 Polymer \\n     223 C           32.3167     8.3206     5.3097 C             1 Polymer \\n     224 C           33.2247     8.9590     6.1673 C             1 Polymer \\n     225 C           33.5446    10.3067     5.9817 C             1 Polymer \\n     226 C           32.9680    11.0352     4.9284 C             1 Polymer \\n     227 C           33.3130    12.4629     4.7223 C             1 Polymer \\n     228 C           34.6555    12.9027     4.5973 C             1 Polymer \\n     229 C           34.9218    14.2778     4.4828 C             1 Polymer \\n     230 C           33.8848    15.2152     4.4650 C             1 Polymer \\n     231 O           34.2167    16.5728     4.3427 O             1 Polymer \\n     232 C           33.2669    17.6331     4.3096 C             1 Polymer \\n     233 C           32.5559    14.7707     4.5649 C             1 Polymer \\n     234 C           32.2761    13.4094     4.6918 C             1 Polymer \\n     235 C           35.7920    11.9522     4.5426 C             1 Polymer \\n     236 C           35.8140    10.9235     3.5880 C             1 Polymer \\n     237 C           36.8802    10.0241     3.5478 C             1 Polymer \\n     238 C           37.9371    10.1462     4.4524 C             1 Polymer \\n     239 C           37.9419    11.1769     5.4079 C             1 Polymer \\n     240 C           36.8617    12.0793     5.4436 C             1 Polymer \\n     241 C           39.0941    11.2931     6.3916 C             1 Polymer \\n     242 N           38.6409    11.0875     7.7694 N             1 Polymer \\n     243 C           39.8085    12.6420     6.2624 C             1 Polymer \\n     244 C           32.0500    10.3999     4.0776 C             1 Polymer \\n     245 C           31.7288     9.0522     4.2638 C             1 Polymer \\n     246 H           33.6853     8.4150     6.9830 H             1 Polymer \\n     247 H           34.2399    10.7829     6.6620 H             1 Polymer \\n     248 H           35.9438    14.6249     4.3851 H             1 Polymer \\n     249 H           33.8044    18.5981     4.2078 H             1 Polymer \\n     250 H           32.6809    17.6503     5.2528 H             1 Polymer \\n     251 H           32.5880    17.5107     3.4394 H             1 Polymer \\n     252 H           31.7310    15.4699     4.5533 H             1 Polymer \\n     253 H           31.2443    13.0936     4.7896 H             1 Polymer \\n     254 H           35.0063    10.8195     2.8740 H             1 Polymer \\n     255 H           36.8881     9.2299     2.8125 H             1 Polymer \\n     256 H           38.7525     9.4353     4.4045 H             1 Polymer \\n     257 H           36.8415    12.8725     6.1804 H             1 Polymer \\n     258 H           39.8529    10.5102     6.1674 H             1 Polymer \\n     259 H           38.1807    10.1500     7.8336 H             1 Polymer \\n     260 H           39.1369    13.4806     6.5430 H             1 Polymer \\n     261 H           40.1556    12.7914     5.2176 H             1 Polymer \\n     262 H           40.6942    12.6632     6.9325 H             1 Polymer \\n     263 H           31.5936    10.9447     3.2601 H             1 Polymer \\n     264 H           31.0236     8.5834     3.5890 H             1 Polymer \\n     265 C           -2.7791    -7.0833     0.1387 C             1 Polymer \\n     266 O           -1.8880    -6.0907    -0.2812 O             1 Polymer \\n     267 H           -3.5210    -6.6574     0.8486 H             1 Polymer \\n     268 H           -2.2128    -7.8866     0.6535 H             1 Polymer \\n     269 H           -3.3056    -7.5215    -0.7369 H             1 Polymer \\n     270 C           38.0156    15.8383     8.5121 C             1 Polymer \\n     271 C           37.1473    14.5712     8.5445 C             1 Polymer \\n     272 C           36.5642    14.4039     9.9608 C             1 Polymer \\n     273 C           36.0177    14.7157     7.5066 C             1 Polymer \\n     274 O           37.9989    13.4634     8.2141 O             1 Polymer \\n     275 C           37.6123    12.1183     8.1294 C             1 Polymer \\n     276 O           36.4272    11.7529     8.3469 O             1 Polymer \\n     277 H           37.4150    16.7403     8.7604 H             1 Polymer \\n     278 H           38.8470    15.7545     9.2448 H             1 Polymer \\n     279 H           38.4590    15.9758     7.5023 H             1 Polymer \\n     280 H           37.3808    14.2266    10.6930 H             1 Polymer \\n     281 H           35.8596    13.5489    10.0100 H             1 Polymer \\n     282 H           36.0078    15.3170    10.2646 H             1 Polymer \\n     283 H           36.4429    14.7615     6.4811 H             1 Polymer \\n     284 H           35.3128    13.8608     7.5540 H             1 Polymer \\n     285 H           35.4346    15.6439     7.6904 H             1 Polymer \\n@<TRIPOS>BOND\\n       1        1        2 1\\n       2        1        3 1\\n       3        1      266 1\\n       4        3        4 1\\n       5        3       25 1\\n       6        4        5 1\\n       7        4       26 1\\n       8        5        6 1\\n       9        5       27 1\\n      10        6        7 1\\n      11        6       24 1\\n      12        7        8 1\\n      13        7       14 1\\n      14        8        9 1\\n      15        8       15 1\\n      16        9       10 1\\n      17        9       28 1\\n      18       10       11 1\\n      19       10       13 1\\n      20       11       12 1\\n      21       12       29 1\\n      22       12       30 1\\n      23       12       31 1\\n      24       13       14 1\\n      25       13       32 1\\n      26       14       33 1\\n      27       15       16 1\\n      28       15       20 1\\n      29       16       17 1\\n      30       16       34 1\\n      31       17       18 1\\n      32       17       35 1\\n      33       18       19 1\\n      34       18       36 1\\n      35       19       20 1\\n      36       19       21 1\\n      37       20       37 1\\n      38       21       22 1\\n      39       21       23 1\\n      40       21       38 1\\n      41       22       39 1\\n      42       22       45 1\\n      43       23       40 1\\n      44       23       41 1\\n      45       23       42 1\\n      46       24       25 1\\n      47       24       43 1\\n      48       25       44 1\\n      49       45       46 1\\n      50       45       47 1\\n      51       47       48 1\\n      52       47       69 1\\n      53       48       49 1\\n      54       48       70 1\\n      55       49       50 1\\n      56       49       71 1\\n      57       50       51 1\\n      58       50       68 1\\n      59       51       52 1\\n      60       51       58 1\\n      61       52       53 1\\n      62       52       59 1\\n      63       53       54 1\\n      64       53       72 1\\n      65       54       55 1\\n      66       54       57 1\\n      67       55       56 1\\n      68       56       73 1\\n      69       56       74 1\\n      70       56       75 1\\n      71       57       58 1\\n      72       57       76 1\\n      73       58       77 1\\n      74       59       60 1\\n      75       59       64 1\\n      76       60       61 1\\n      77       60       78 1\\n      78       61       62 1\\n      79       61       79 1\\n      80       62       63 1\\n      81       62       80 1\\n      82       63       64 1\\n      83       63       65 1\\n      84       64       81 1\\n      85       65       66 1\\n      86       65       67 1\\n      87       65       82 1\\n      88       66       83 1\\n      89       66       89 1\\n      90       67       84 1\\n      91       67       85 1\\n      92       67       86 1\\n      93       68       69 1\\n      94       68       87 1\\n      95       69       88 1\\n      96       89       90 1\\n      97       89       91 1\\n      98       91       92 1\\n      99       91      113 1\\n     100       92       93 1\\n     101       92      114 1\\n     102       93       94 1\\n     103       93      115 1\\n     104       94       95 1\\n     105       94      112 1\\n     106       95       96 1\\n     107       95      102 1\\n     108       96       97 1\\n     109       96      103 1\\n     110       97       98 1\\n     111       97      116 1\\n     112       98       99 1\\n     113       98      101 1\\n     114       99      100 1\\n     115      100      117 1\\n     116      100      118 1\\n     117      100      119 1\\n     118      101      102 1\\n     119      101      120 1\\n     120      102      121 1\\n     121      103      104 1\\n     122      103      108 1\\n     123      104      105 1\\n     124      104      122 1\\n     125      105      106 1\\n     126      105      123 1\\n     127      106      107 1\\n     128      106      124 1\\n     129      107      108 1\\n     130      107      109 1\\n     131      108      125 1\\n     132      109      110 1\\n     133      109      111 1\\n     134      109      126 1\\n     135      110      127 1\\n     136      110      133 1\\n     137      111      128 1\\n     138      111      129 1\\n     139      111      130 1\\n     140      112      113 1\\n     141      112      131 1\\n     142      113      132 1\\n     143      133      134 1\\n     144      133      135 1\\n     145      135      136 1\\n     146      135      157 1\\n     147      136      137 1\\n     148      136      158 1\\n     149      137      138 1\\n     150      137      159 1\\n     151      138      139 1\\n     152      138      156 1\\n     153      139      140 1\\n     154      139      146 1\\n     155      140      141 1\\n     156      140      147 1\\n     157      141      142 1\\n     158      141      160 1\\n     159      142      143 1\\n     160      142      145 1\\n     161      143      144 1\\n     162      144      161 1\\n     163      144      162 1\\n     164      144      163 1\\n     165      145      146 1\\n     166      145      164 1\\n     167      146      165 1\\n     168      147      148 1\\n     169      147      152 1\\n     170      148      149 1\\n     171      148      166 1\\n     172      149      150 1\\n     173      149      167 1\\n     174      150      151 1\\n     175      150      168 1\\n     176      151      152 1\\n     177      151      153 1\\n     178      152      169 1\\n     179      153      154 1\\n     180      153      155 1\\n     181      153      170 1\\n     182      154      171 1\\n     183      154      177 1\\n     184      155      172 1\\n     185      155      173 1\\n     186      155      174 1\\n     187      156      157 1\\n     188      156      175 1\\n     189      157      176 1\\n     190      177      178 1\\n     191      177      179 1\\n     192      179      180 1\\n     193      179      201 1\\n     194      180      181 1\\n     195      180      202 1\\n     196      181      182 1\\n     197      181      203 1\\n     198      182      183 1\\n     199      182      200 1\\n     200      183      184 1\\n     201      183      190 1\\n     202      184      185 1\\n     203      184      191 1\\n     204      185      186 1\\n     205      185      204 1\\n     206      186      187 1\\n     207      186      189 1\\n     208      187      188 1\\n     209      188      205 1\\n     210      188      206 1\\n     211      188      207 1\\n     212      189      190 1\\n     213      189      208 1\\n     214      190      209 1\\n     215      191      192 1\\n     216      191      196 1\\n     217      192      193 1\\n     218      192      210 1\\n     219      193      194 1\\n     220      193      211 1\\n     221      194      195 1\\n     222      194      212 1\\n     223      195      196 1\\n     224      195      197 1\\n     225      196      213 1\\n     226      197      198 1\\n     227      197      199 1\\n     228      197      214 1\\n     229      198      215 1\\n     230      198      221 1\\n     231      199      216 1\\n     232      199      217 1\\n     233      199      218 1\\n     234      200      201 1\\n     235      200      219 1\\n     236      201      220 1\\n     237      221      222 1\\n     238      221      223 1\\n     239      223      224 1\\n     240      223      245 1\\n     241      224      225 1\\n     242      224      246 1\\n     243      225      226 1\\n     244      225      247 1\\n     245      226      227 1\\n     246      226      244 1\\n     247      227      228 1\\n     248      227      234 1\\n     249      228      229 1\\n     250      228      235 1\\n     251      229      230 1\\n     252      229      248 1\\n     253      230      231 1\\n     254      230      233 1\\n     255      231      232 1\\n     256      232      249 1\\n     257      232      250 1\\n     258      232      251 1\\n     259      233      234 1\\n     260      233      252 1\\n     261      234      253 1\\n     262      235      236 1\\n     263      235      240 1\\n     264      236      237 1\\n     265      236      254 1\\n     266      237      238 1\\n     267      237      255 1\\n     268      238      239 1\\n     269      238      256 1\\n     270      239      240 1\\n     271      239      241 1\\n     272      240      257 1\\n     273      241      242 1\\n     274      241      243 1\\n     275      241      258 1\\n     276      242      259 1\\n     277      242      275 1\\n     278      243      260 1\\n     279      243      261 1\\n     280      243      262 1\\n     281      244      245 1\\n     282      244      263 1\\n     283      245      264 1\\n     284      265      266 1\\n     285      265      267 1\\n     286      265      268 1\\n     287      265      269 1\\n     288      270      271 1\\n     289      270      277 1\\n     290      270      278 1\\n     291      270      279 1\\n     292      271      272 1\\n     293      271      273 1\\n     294      271      274 1\\n     295      272      280 1\\n     296      272      281 1\\n     297      272      282 1\\n     298      273      283 1\\n     299      273      284 1\\n     300      273      285 1\\n     301      274      275 1\\n     302      275      276 1\\n@<TRIPOS>SUBSTRUCTURE\\n       1 Polymer         1 RESIDUE    0 **** ROOT      0\\n\",\"mol2\");\n\tviewer_16915951030014544.setStyle({\"stick\": {\"radius\": 0.2, \"color\": \"grey\"}, \"sphere\": {\"scale\": 0.3, \"colorscheme\": {}}});\n\tviewer_16915951030014544.zoomTo();\nviewer_16915951030014544.render();\n});\n</script>",
      "text/html": [
       "<div id=\"3dmolviewer_16915951030014544\"  style=\"position: relative; width: 640px; height: 480px\">\n",
       "        <p id=\"3dmolwarning_16915951030014544\" style=\"background-color:#ffcccc;color:black\">You appear to be running in JupyterLab (or JavaScript failed to load for some other reason).  You need to install the 3dmol extension: <br>\n",
       "        <tt>jupyter labextension install jupyterlab_3dmol</tt></p>\n",
       "        </div>\n",
       "<script>\n",
       "\n",
       "var loadScriptAsync = function(uri){\n",
       "  return new Promise((resolve, reject) => {\n",
       "    //this is to ignore the existence of requirejs amd\n",
       "    var savedexports, savedmodule;\n",
       "    if (typeof exports !== 'undefined') savedexports = exports;\n",
       "    else exports = {}\n",
       "    if (typeof module !== 'undefined') savedmodule = module;\n",
       "    else module = {}\n",
       "\n",
       "    var tag = document.createElement('script');\n",
       "    tag.src = uri;\n",
       "    tag.async = true;\n",
       "    tag.onload = () => {\n",
       "        exports = savedexports;\n",
       "        module = savedmodule;\n",
       "        resolve();\n",
       "    };\n",
       "  var firstScriptTag = document.getElementsByTagName('script')[0];\n",
       "  firstScriptTag.parentNode.insertBefore(tag, firstScriptTag);\n",
       "});\n",
       "};\n",
       "\n",
       "if(typeof $3Dmolpromise === 'undefined') {\n",
       "$3Dmolpromise = null;\n",
       "  $3Dmolpromise = loadScriptAsync('https://cdnjs.cloudflare.com/ajax/libs/3Dmol/2.0.1/3Dmol-min.js');\n",
       "}\n",
       "\n",
       "var viewer_16915951030014544 = null;\n",
       "var warn = document.getElementById(\"3dmolwarning_16915951030014544\");\n",
       "if(warn) {\n",
       "    warn.parentNode.removeChild(warn);\n",
       "}\n",
       "$3Dmolpromise.then(function() {\n",
       "viewer_16915951030014544 = $3Dmol.createViewer(document.getElementById(\"3dmolviewer_16915951030014544\"),{backgroundColor:\"white\"});\n",
       "viewer_16915951030014544.zoomTo();\n",
       "\tviewer_16915951030014544.addModel(\"@<TRIPOS>MOLECULE\\nPolymer\\n285 302 1 0 1\\nSMALL\\nNO_CHARGES\\n@<TRIPOS>CRYSIN\\n   49.7366    31.4847    21.9954    90.0000    90.0000    90.0000  1  1\\n@<TRIPOS>ATOM\\n       1 C           -2.7229    -5.0476    -0.9632 C             1 Polymer \\n       2 O           -3.6117    -5.4151    -1.7767 O             1 Polymer \\n       3 C           -2.4960    -3.6192    -0.6770 C             1 Polymer \\n       4 C           -1.4981    -3.2452     0.2351 C             1 Polymer \\n       5 C           -1.2678    -1.8960     0.5172 C             1 Polymer \\n       6 C           -2.0265    -0.8981    -0.1164 C             1 Polymer \\n       7 C           -1.7780     0.5351     0.1731 C             1 Polymer \\n       8 C           -0.4896     1.1153     0.0522 C             1 Polymer \\n       9 C           -0.3028     2.4596     0.4166 C             1 Polymer \\n      10 C           -1.3700     3.2395     0.8718 C             1 Polymer \\n      11 O           -1.1189     4.5765     1.2144 O             1 Polymer \\n      12 C           -2.1076     5.4844     1.6897 C             1 Polymer \\n      13 C           -2.6487     2.6652     0.9661 C             1 Polymer \\n      14 C           -2.8475     1.3279     0.6198 C             1 Polymer \\n      15 C            0.6657     0.3585    -0.4868 C             1 Polymer \\n      16 C            0.5886    -0.2559    -1.7464 C             1 Polymer \\n      17 C            1.6744    -0.9770    -2.2448 C             1 Polymer \\n      18 C            2.8487    -1.0857    -1.4968 C             1 Polymer \\n      19 C            2.9523    -0.4672    -0.2390 C             1 Polymer \\n      20 C            1.8519     0.2569     0.2580 C             1 Polymer \\n      21 C            4.2328    -0.6006     0.5680 C             1 Polymer \\n      22 N            4.0005    -1.3251     1.8199 N             1 Polymer \\n      23 C            4.8612     0.7670     0.8537 C             1 Polymer \\n      24 C           -3.0335    -1.2726    -1.0197 C             1 Polymer \\n      25 C           -3.2649    -2.6222    -1.3011 C             1 Polymer \\n      26 H           -0.8975    -3.9979     0.7313 H             1 Polymer \\n      27 H           -0.4995    -1.6298     1.2326 H             1 Polymer \\n      28 H            0.6772     2.9137     0.3268 H             1 Polymer \\n      29 H           -1.6335     6.4685     1.8821 H             1 Polymer \\n      30 H           -2.5459     5.1091     2.6385 H             1 Polymer \\n      31 H           -2.9034     5.6162     0.9264 H             1 Polymer \\n      32 H           -3.4953     3.2414     1.3135 H             1 Polymer \\n      33 H           -3.8384     0.9021     0.7224 H             1 Polymer \\n      34 H           -0.3117    -0.1747    -2.3429 H             1 Polymer \\n      35 H            1.6062    -1.4528    -3.2146 H             1 Polymer \\n      36 H            3.6775    -1.6526    -1.9022 H             1 Polymer \\n      37 H            1.9083     0.7301     1.2303 H             1 Polymer \\n      38 H            4.9824    -1.1770    -0.0193 H             1 Polymer \\n      39 H            3.5958    -2.2630     1.5931 H             1 Polymer \\n      40 H            4.2038     1.3832     1.5026 H             1 Polymer \\n      41 H            5.0410     1.3106    -0.0984 H             1 Polymer \\n      42 H            5.8355     0.6318     1.3697 H             1 Polymer \\n      43 H           -3.6302    -0.5182    -1.5178 H             1 Polymer \\n      44 H           -4.0424    -2.8844    -2.0076 H             1 Polymer \\n      45 C            2.9941    -0.5922     2.6565 C             1 Polymer \\n      46 O            1.8325    -0.4201     2.2004 O             1 Polymer \\n      47 C            3.3717    -0.0865     3.9889 C             1 Polymer \\n      48 C            4.6739    -0.2963     4.4662 C             1 Polymer \\n      49 C            5.0501     0.1775     5.7259 C             1 Polymer \\n      50 C            4.1315     0.8778     6.5250 C             1 Polymer \\n      51 C            4.5303     1.3908     7.8582 C             1 Polymer \\n      52 C            5.6676     2.2191     8.0369 C             1 Polymer \\n      53 C            6.0390     2.6082     9.3353 C             1 Polymer \\n      54 C            5.2920     2.2132    10.4490 C             1 Polymer \\n      55 O            5.7121     2.6398    11.7177 O             1 Polymer \\n      56 C            5.0494     2.3155    12.9356 C             1 Polymer \\n      57 C            4.1525     1.4128    10.2626 C             1 Polymer \\n      58 C            3.7782     1.0079     8.9806 C             1 Polymer \\n      59 C            6.4598     2.7244     6.8902 C             1 Polymer \\n      60 C            5.8367     3.4371     5.8540 C             1 Polymer \\n      61 C            6.5844     3.9009     4.7708 C             1 Polymer \\n      62 C            7.9599     3.6658     4.7142 C             1 Polymer \\n      63 C            8.6064     2.9660     5.7474 C             1 Polymer \\n      64 C            7.8449     2.4995     6.8360 C             1 Polymer \\n      65 C           10.1020     2.7098     5.6691 C             1 Polymer \\n      66 N           10.3933     1.2768     5.5831 N             1 Polymer \\n      67 C           10.8411     3.3324     6.8578 C             1 Polymer \\n      68 C            2.8248     1.0771     6.0529 C             1 Polymer \\n      69 C            2.4479     0.6021     4.7933 C             1 Polymer \\n      70 H            5.4002    -0.8292     3.8646 H             1 Polymer \\n      71 H            6.0575    -0.0048     6.0795 H             1 Polymer \\n      72 H            6.9053     3.2423     9.4834 H             1 Polymer \\n      73 H            5.5956     2.7821    13.7808 H             1 Polymer \\n      74 H            5.0388     1.2149    13.0832 H             1 Polymer \\n      75 H            4.0113     2.7098    12.9221 H             1 Polymer \\n      76 H            3.5528     1.0911    11.1029 H             1 Polymer \\n      77 H            2.9084     0.3724     8.8651 H             1 Polymer \\n      78 H            4.7724     3.6350     5.8862 H             1 Polymer \\n      79 H            6.0965     4.4451     3.9725 H             1 Polymer \\n      80 H            8.5194     4.0325     3.8628 H             1 Polymer \\n      81 H            8.3231     1.9477     7.6356 H             1 Polymer \\n      82 H           10.5128     3.1915     4.7535 H             1 Polymer \\n      83 H            9.8973     0.8843     4.7496 H             1 Polymer \\n      84 H           10.5412     2.8523     7.8131 H             1 Polymer \\n      85 H           10.6221     4.4201     6.9159 H             1 Polymer \\n      86 H           11.9365     3.2016     6.7287 H             1 Polymer \\n      87 H            2.1013     1.6137     6.6544 H             1 Polymer \\n      88 H            1.4360     0.7757     4.4490 H             1 Polymer \\n      89 C            9.8606     0.5723     6.7955 C             1 Polymer \\n      90 O            8.6220     0.6040     7.0233 O             1 Polymer \\n      91 C           10.7828    -0.1414     7.6977 C             1 Polymer \\n      92 C           12.1563    -0.1571     7.4136 C             1 Polymer \\n      93 C           13.0454    -0.8270     8.2584 C             1 Polymer \\n      94 C           12.5753    -1.4844     9.4072 C             1 Polymer \\n      95 C           13.5172    -2.1878    10.3114 C             1 Polymer \\n      96 C           14.6528    -1.5433    10.8648 C             1 Polymer \\n      97 C           15.5507    -2.2852    11.6511 C             1 Polymer \\n      98 C           15.3293    -3.6397    11.9165 C             1 Polymer \\n      99 O           16.2603    -4.3229    12.7133 O             1 Polymer \\n     100 C           16.1617    -5.6992    13.0648 C             1 Polymer \\n     101 C           14.1895    -4.2660    11.3853 C             1 Polymer \\n     102 C           13.2952    -3.5457    10.5921 C             1 Polymer \\n     103 C           14.9053    -0.0949    10.6739 C             1 Polymer \\n     104 C           13.9295     0.8501    11.0272 C             1 Polymer \\n     105 C           14.1669     2.2117    10.8349 C             1 Polymer \\n     106 C           15.3808     2.6443    10.2967 C             1 Polymer \\n     107 C           16.3770     1.7161     9.9483 C             1 Polymer \\n     108 C           16.1293     0.3438    10.1434 C             1 Polymer \\n     109 C           17.6899     2.1999     9.3558 C             1 Polymer \\n     110 N           17.8659     1.7158     7.9845 N             1 Polymer \\n     111 C           18.8831     1.7865    10.2230 C             1 Polymer \\n     112 C           11.1994    -1.4794     9.6850 C             1 Polymer \\n     113 C           10.3097    -0.8104     8.8393 C             1 Polymer \\n     114 H           12.5415     0.3477     6.5360 H             1 Polymer \\n     115 H           14.1006    -0.8356     8.0146 H             1 Polymer \\n     116 H           16.4210    -1.8024    12.0803 H             1 Polymer \\n     117 H           17.0297    -5.9747    13.6980 H             1 Polymer \\n     118 H           16.1747    -6.3287    12.1501 H             1 Polymer \\n     119 H           15.2296    -5.8803    13.6407 H             1 Polymer \\n     120 H           13.9888    -5.3120    11.5726 H             1 Polymer \\n     121 H           12.4355    -4.0569    10.1757 H             1 Polymer \\n     122 H           12.9859     0.5321    11.4532 H             1 Polymer \\n     123 H           13.4078     2.9346    11.1046 H             1 Polymer \\n     124 H           15.5420     3.7055    10.1538 H             1 Polymer \\n     125 H           16.8798    -0.3872     9.8698 H             1 Polymer \\n     126 H           17.6933     3.3125     9.3222 H             1 Polymer \\n     127 H           17.0509     2.0338     7.4106 H             1 Polymer \\n     128 H           18.9969     0.6823    10.2493 H             1 Polymer \\n     129 H           18.7484     2.1605    11.2606 H             1 Polymer \\n     130 H           19.8165     2.2252     9.8106 H             1 Polymer \\n     131 H           10.8168    -1.9814    10.5652 H             1 Polymer \\n     132 H            9.2540    -0.8149     9.0801 H             1 Polymer \\n     133 C           17.8691     0.2159     7.9674 C             1 Polymer \\n     134 O           16.8440    -0.4000     8.3637 O             1 Polymer \\n     135 C           19.0593    -0.5131     7.4923 C             1 Polymer \\n     136 C           20.1835     0.2043     7.0574 C             1 Polymer \\n     137 C           21.3211    -0.4699     6.6055 C             1 Polymer \\n     138 C           21.3558    -1.8739     6.5905 C             1 Polymer \\n     139 C           22.5652    -2.5927     6.1211 C             1 Polymer \\n     140 C           23.8507    -2.3375     6.6631 C             1 Polymer \\n     141 C           24.9691    -2.9941     6.1217 C             1 Polymer \\n     142 C           24.8315    -3.9118     5.0761 C             1 Polymer \\n     143 O           25.9864    -4.5380     4.5838 O             1 Polymer \\n     144 C           25.9957    -5.4915     3.5263 C             1 Polymer \\n     145 C           23.5523    -4.1782     4.5603 C             1 Polymer \\n     146 C           22.4336    -3.5247     5.0789 C             1 Polymer \\n     147 C           24.0511    -1.4259     7.8150 C             1 Polymer \\n     148 C           23.3500    -1.6295     9.0137 C             1 Polymer \\n     149 C           23.5330    -0.7621    10.0915 C             1 Polymer \\n     150 C           24.4215     0.3103     9.9874 C             1 Polymer \\n     151 C           25.1438     0.5249     8.8010 C             1 Polymer \\n     152 C           24.9522    -0.3534     7.7173 C             1 Polymer \\n     153 C           26.1009     1.7005     8.6984 C             1 Polymer \\n     154 N           25.6647     2.6549     7.6763 N             1 Polymer \\n     155 C           27.5328     1.2354     8.4154 C             1 Polymer \\n     156 C           20.2265    -2.5920     7.0140 C             1 Polymer \\n     157 C           19.0880    -1.9178     7.4648 C             1 Polymer \\n     158 H           20.1806     1.2875     7.0654 H             1 Polymer \\n     159 H           22.1741     0.1036     6.2642 H             1 Polymer \\n     160 H           25.9559    -2.8078     6.5291 H             1 Polymer \\n     161 H           27.0392    -5.8201     3.3437 H             1 Polymer \\n     162 H           25.5992    -5.0333     2.5957 H             1 Polymer \\n     163 H           25.3875    -6.3776     3.8058 H             1 Polymer \\n     164 H           23.4117    -4.8832     3.7524 H             1 Polymer \\n     165 H           21.4606    -3.7306     4.6490 H             1 Polymer \\n     166 H           22.6632    -2.4609     9.1139 H             1 Polymer \\n     167 H           22.9850    -0.9218    11.0111 H             1 Polymer \\n     168 H           24.5455     0.9721    10.8355 H             1 Polymer \\n     169 H           25.4905    -0.1972     6.7908 H             1 Polymer \\n     170 H           26.1299     2.2404     9.6714 H             1 Polymer \\n     171 H           24.6958     2.9740     7.9087 H             1 Polymer \\n     172 H           27.6073     0.7475     7.4207 H             1 Polymer \\n     173 H           27.8618     0.5164     9.1959 H             1 Polymer \\n     174 H           28.2204     2.1077     8.4301 H             1 Polymer \\n     175 H           20.2330    -3.6751     7.0090 H             1 Polymer \\n     176 H           18.2328    -2.4951     7.7935 H             1 Polymer \\n     177 C           25.6064     1.9806     6.3376 C             1 Polymer \\n     178 O           24.8226     1.0071     6.1797 O             1 Polymer \\n     179 C           26.4582     2.4593     5.2336 C             1 Polymer \\n     180 C           27.3193     3.5465     5.4440 C             1 Polymer \\n     181 C           28.1352     4.0127     4.4097 C             1 Polymer \\n     182 C           28.1097     3.3921     3.1500 C             1 Polymer \\n     183 C           28.9817     3.8778     2.0530 C             1 Polymer \\n     184 C           30.3841     4.0174     2.2115 C             1 Polymer \\n     185 C           31.1455     4.5574     1.1609 C             1 Polymer \\n     186 C           30.5470     4.9351    -0.0447 C             1 Polymer \\n     187 O           31.3632     5.4625    -1.0566 O             1 Polymer \\n     188 C           30.8914     5.8863    -2.3314 C             1 Polymer \\n     189 C           29.1608     4.7716    -0.2039 C             1 Polymer \\n     190 C           28.3894     4.2485     0.8349 C             1 Polymer \\n     191 C           31.0842     3.5730     3.4404 C             1 Polymer \\n     192 C           30.9471     2.2539     3.8998 C             1 Polymer \\n     193 C           31.5986     1.8431     5.0636 C             1 Polymer \\n     194 C           32.3984     2.7401     5.7750 C             1 Polymer \\n     195 C           32.5603     4.0619     5.3256 C             1 Polymer \\n     196 C           31.8981     4.4694     4.1518 C             1 Polymer \\n     197 C           33.4266     5.0297     6.1140 C             1 Polymer \\n     198 N           32.6347     6.1415     6.6458 N             1 Polymer \\n     199 C           34.5878     5.5608     5.2677 C             1 Polymer \\n     200 C           27.2392     2.3120     2.9355 C             1 Polymer \\n     201 C           26.4220     1.8463     3.9696 C             1 Polymer \\n     202 H           27.3590     4.0369     6.4091 H             1 Polymer \\n     203 H           28.7847     4.8603     4.5907 H             1 Polymer \\n     204 H           32.2181     4.6671     1.2705 H             1 Polymer \\n     205 H           31.7480     6.2588    -2.9295 H             1 Polymer \\n     206 H           30.1562     6.7100    -2.2119 H             1 Polymer \\n     207 H           30.4263     5.0334    -2.8694 H             1 Polymer \\n     208 H           28.6674     5.0530    -1.1241 H             1 Polymer \\n     209 H           27.3192     4.1529     0.6957 H             1 Polymer \\n     210 H           30.3371     1.5434     3.3557 H             1 Polymer \\n     211 H           31.4841     0.8259     5.4151 H             1 Polymer \\n     212 H           32.8921     2.4002     6.6768 H             1 Polymer \\n     213 H           32.0008     5.4871     3.7965 H             1 Polymer \\n     214 H           33.8825     4.4982     6.9792 H             1 Polymer \\n     215 H           31.8663     5.7510     7.2389 H             1 Polymer \\n     216 H           34.2183     6.1710     4.4168 H             1 Polymer \\n     217 H           35.1890     4.7148     4.8712 H             1 Polymer \\n     218 H           35.2484     6.1970     5.8943 H             1 Polymer \\n     219 H           27.2040     1.8206     1.9709 H             1 Polymer \\n     220 H           25.7650     1.0066     3.7807 H             1 Polymer \\n     221 C           31.9932     6.8977     5.5203 C             1 Polymer \\n     222 O           31.1813     6.2966     4.7675 O             1 Polymer \\n     223 C           32.3167     8.3206     5.3097 C             1 Polymer \\n     224 C           33.2247     8.9590     6.1673 C             1 Polymer \\n     225 C           33.5446    10.3067     5.9817 C             1 Polymer \\n     226 C           32.9680    11.0352     4.9284 C             1 Polymer \\n     227 C           33.3130    12.4629     4.7223 C             1 Polymer \\n     228 C           34.6555    12.9027     4.5973 C             1 Polymer \\n     229 C           34.9218    14.2778     4.4828 C             1 Polymer \\n     230 C           33.8848    15.2152     4.4650 C             1 Polymer \\n     231 O           34.2167    16.5728     4.3427 O             1 Polymer \\n     232 C           33.2669    17.6331     4.3096 C             1 Polymer \\n     233 C           32.5559    14.7707     4.5649 C             1 Polymer \\n     234 C           32.2761    13.4094     4.6918 C             1 Polymer \\n     235 C           35.7920    11.9522     4.5426 C             1 Polymer \\n     236 C           35.8140    10.9235     3.5880 C             1 Polymer \\n     237 C           36.8802    10.0241     3.5478 C             1 Polymer \\n     238 C           37.9371    10.1462     4.4524 C             1 Polymer \\n     239 C           37.9419    11.1769     5.4079 C             1 Polymer \\n     240 C           36.8617    12.0793     5.4436 C             1 Polymer \\n     241 C           39.0941    11.2931     6.3916 C             1 Polymer \\n     242 N           38.6409    11.0875     7.7694 N             1 Polymer \\n     243 C           39.8085    12.6420     6.2624 C             1 Polymer \\n     244 C           32.0500    10.3999     4.0776 C             1 Polymer \\n     245 C           31.7288     9.0522     4.2638 C             1 Polymer \\n     246 H           33.6853     8.4150     6.9830 H             1 Polymer \\n     247 H           34.2399    10.7829     6.6620 H             1 Polymer \\n     248 H           35.9438    14.6249     4.3851 H             1 Polymer \\n     249 H           33.8044    18.5981     4.2078 H             1 Polymer \\n     250 H           32.6809    17.6503     5.2528 H             1 Polymer \\n     251 H           32.5880    17.5107     3.4394 H             1 Polymer \\n     252 H           31.7310    15.4699     4.5533 H             1 Polymer \\n     253 H           31.2443    13.0936     4.7896 H             1 Polymer \\n     254 H           35.0063    10.8195     2.8740 H             1 Polymer \\n     255 H           36.8881     9.2299     2.8125 H             1 Polymer \\n     256 H           38.7525     9.4353     4.4045 H             1 Polymer \\n     257 H           36.8415    12.8725     6.1804 H             1 Polymer \\n     258 H           39.8529    10.5102     6.1674 H             1 Polymer \\n     259 H           38.1807    10.1500     7.8336 H             1 Polymer \\n     260 H           39.1369    13.4806     6.5430 H             1 Polymer \\n     261 H           40.1556    12.7914     5.2176 H             1 Polymer \\n     262 H           40.6942    12.6632     6.9325 H             1 Polymer \\n     263 H           31.5936    10.9447     3.2601 H             1 Polymer \\n     264 H           31.0236     8.5834     3.5890 H             1 Polymer \\n     265 C           -2.7791    -7.0833     0.1387 C             1 Polymer \\n     266 O           -1.8880    -6.0907    -0.2812 O             1 Polymer \\n     267 H           -3.5210    -6.6574     0.8486 H             1 Polymer \\n     268 H           -2.2128    -7.8866     0.6535 H             1 Polymer \\n     269 H           -3.3056    -7.5215    -0.7369 H             1 Polymer \\n     270 C           38.0156    15.8383     8.5121 C             1 Polymer \\n     271 C           37.1473    14.5712     8.5445 C             1 Polymer \\n     272 C           36.5642    14.4039     9.9608 C             1 Polymer \\n     273 C           36.0177    14.7157     7.5066 C             1 Polymer \\n     274 O           37.9989    13.4634     8.2141 O             1 Polymer \\n     275 C           37.6123    12.1183     8.1294 C             1 Polymer \\n     276 O           36.4272    11.7529     8.3469 O             1 Polymer \\n     277 H           37.4150    16.7403     8.7604 H             1 Polymer \\n     278 H           38.8470    15.7545     9.2448 H             1 Polymer \\n     279 H           38.4590    15.9758     7.5023 H             1 Polymer \\n     280 H           37.3808    14.2266    10.6930 H             1 Polymer \\n     281 H           35.8596    13.5489    10.0100 H             1 Polymer \\n     282 H           36.0078    15.3170    10.2646 H             1 Polymer \\n     283 H           36.4429    14.7615     6.4811 H             1 Polymer \\n     284 H           35.3128    13.8608     7.5540 H             1 Polymer \\n     285 H           35.4346    15.6439     7.6904 H             1 Polymer \\n@<TRIPOS>BOND\\n       1        1        2 1\\n       2        1        3 1\\n       3        1      266 1\\n       4        3        4 1\\n       5        3       25 1\\n       6        4        5 1\\n       7        4       26 1\\n       8        5        6 1\\n       9        5       27 1\\n      10        6        7 1\\n      11        6       24 1\\n      12        7        8 1\\n      13        7       14 1\\n      14        8        9 1\\n      15        8       15 1\\n      16        9       10 1\\n      17        9       28 1\\n      18       10       11 1\\n      19       10       13 1\\n      20       11       12 1\\n      21       12       29 1\\n      22       12       30 1\\n      23       12       31 1\\n      24       13       14 1\\n      25       13       32 1\\n      26       14       33 1\\n      27       15       16 1\\n      28       15       20 1\\n      29       16       17 1\\n      30       16       34 1\\n      31       17       18 1\\n      32       17       35 1\\n      33       18       19 1\\n      34       18       36 1\\n      35       19       20 1\\n      36       19       21 1\\n      37       20       37 1\\n      38       21       22 1\\n      39       21       23 1\\n      40       21       38 1\\n      41       22       39 1\\n      42       22       45 1\\n      43       23       40 1\\n      44       23       41 1\\n      45       23       42 1\\n      46       24       25 1\\n      47       24       43 1\\n      48       25       44 1\\n      49       45       46 1\\n      50       45       47 1\\n      51       47       48 1\\n      52       47       69 1\\n      53       48       49 1\\n      54       48       70 1\\n      55       49       50 1\\n      56       49       71 1\\n      57       50       51 1\\n      58       50       68 1\\n      59       51       52 1\\n      60       51       58 1\\n      61       52       53 1\\n      62       52       59 1\\n      63       53       54 1\\n      64       53       72 1\\n      65       54       55 1\\n      66       54       57 1\\n      67       55       56 1\\n      68       56       73 1\\n      69       56       74 1\\n      70       56       75 1\\n      71       57       58 1\\n      72       57       76 1\\n      73       58       77 1\\n      74       59       60 1\\n      75       59       64 1\\n      76       60       61 1\\n      77       60       78 1\\n      78       61       62 1\\n      79       61       79 1\\n      80       62       63 1\\n      81       62       80 1\\n      82       63       64 1\\n      83       63       65 1\\n      84       64       81 1\\n      85       65       66 1\\n      86       65       67 1\\n      87       65       82 1\\n      88       66       83 1\\n      89       66       89 1\\n      90       67       84 1\\n      91       67       85 1\\n      92       67       86 1\\n      93       68       69 1\\n      94       68       87 1\\n      95       69       88 1\\n      96       89       90 1\\n      97       89       91 1\\n      98       91       92 1\\n      99       91      113 1\\n     100       92       93 1\\n     101       92      114 1\\n     102       93       94 1\\n     103       93      115 1\\n     104       94       95 1\\n     105       94      112 1\\n     106       95       96 1\\n     107       95      102 1\\n     108       96       97 1\\n     109       96      103 1\\n     110       97       98 1\\n     111       97      116 1\\n     112       98       99 1\\n     113       98      101 1\\n     114       99      100 1\\n     115      100      117 1\\n     116      100      118 1\\n     117      100      119 1\\n     118      101      102 1\\n     119      101      120 1\\n     120      102      121 1\\n     121      103      104 1\\n     122      103      108 1\\n     123      104      105 1\\n     124      104      122 1\\n     125      105      106 1\\n     126      105      123 1\\n     127      106      107 1\\n     128      106      124 1\\n     129      107      108 1\\n     130      107      109 1\\n     131      108      125 1\\n     132      109      110 1\\n     133      109      111 1\\n     134      109      126 1\\n     135      110      127 1\\n     136      110      133 1\\n     137      111      128 1\\n     138      111      129 1\\n     139      111      130 1\\n     140      112      113 1\\n     141      112      131 1\\n     142      113      132 1\\n     143      133      134 1\\n     144      133      135 1\\n     145      135      136 1\\n     146      135      157 1\\n     147      136      137 1\\n     148      136      158 1\\n     149      137      138 1\\n     150      137      159 1\\n     151      138      139 1\\n     152      138      156 1\\n     153      139      140 1\\n     154      139      146 1\\n     155      140      141 1\\n     156      140      147 1\\n     157      141      142 1\\n     158      141      160 1\\n     159      142      143 1\\n     160      142      145 1\\n     161      143      144 1\\n     162      144      161 1\\n     163      144      162 1\\n     164      144      163 1\\n     165      145      146 1\\n     166      145      164 1\\n     167      146      165 1\\n     168      147      148 1\\n     169      147      152 1\\n     170      148      149 1\\n     171      148      166 1\\n     172      149      150 1\\n     173      149      167 1\\n     174      150      151 1\\n     175      150      168 1\\n     176      151      152 1\\n     177      151      153 1\\n     178      152      169 1\\n     179      153      154 1\\n     180      153      155 1\\n     181      153      170 1\\n     182      154      171 1\\n     183      154      177 1\\n     184      155      172 1\\n     185      155      173 1\\n     186      155      174 1\\n     187      156      157 1\\n     188      156      175 1\\n     189      157      176 1\\n     190      177      178 1\\n     191      177      179 1\\n     192      179      180 1\\n     193      179      201 1\\n     194      180      181 1\\n     195      180      202 1\\n     196      181      182 1\\n     197      181      203 1\\n     198      182      183 1\\n     199      182      200 1\\n     200      183      184 1\\n     201      183      190 1\\n     202      184      185 1\\n     203      184      191 1\\n     204      185      186 1\\n     205      185      204 1\\n     206      186      187 1\\n     207      186      189 1\\n     208      187      188 1\\n     209      188      205 1\\n     210      188      206 1\\n     211      188      207 1\\n     212      189      190 1\\n     213      189      208 1\\n     214      190      209 1\\n     215      191      192 1\\n     216      191      196 1\\n     217      192      193 1\\n     218      192      210 1\\n     219      193      194 1\\n     220      193      211 1\\n     221      194      195 1\\n     222      194      212 1\\n     223      195      196 1\\n     224      195      197 1\\n     225      196      213 1\\n     226      197      198 1\\n     227      197      199 1\\n     228      197      214 1\\n     229      198      215 1\\n     230      198      221 1\\n     231      199      216 1\\n     232      199      217 1\\n     233      199      218 1\\n     234      200      201 1\\n     235      200      219 1\\n     236      201      220 1\\n     237      221      222 1\\n     238      221      223 1\\n     239      223      224 1\\n     240      223      245 1\\n     241      224      225 1\\n     242      224      246 1\\n     243      225      226 1\\n     244      225      247 1\\n     245      226      227 1\\n     246      226      244 1\\n     247      227      228 1\\n     248      227      234 1\\n     249      228      229 1\\n     250      228      235 1\\n     251      229      230 1\\n     252      229      248 1\\n     253      230      231 1\\n     254      230      233 1\\n     255      231      232 1\\n     256      232      249 1\\n     257      232      250 1\\n     258      232      251 1\\n     259      233      234 1\\n     260      233      252 1\\n     261      234      253 1\\n     262      235      236 1\\n     263      235      240 1\\n     264      236      237 1\\n     265      236      254 1\\n     266      237      238 1\\n     267      237      255 1\\n     268      238      239 1\\n     269      238      256 1\\n     270      239      240 1\\n     271      239      241 1\\n     272      240      257 1\\n     273      241      242 1\\n     274      241      243 1\\n     275      241      258 1\\n     276      242      259 1\\n     277      242      275 1\\n     278      243      260 1\\n     279      243      261 1\\n     280      243      262 1\\n     281      244      245 1\\n     282      244      263 1\\n     283      245      264 1\\n     284      265      266 1\\n     285      265      267 1\\n     286      265      268 1\\n     287      265      269 1\\n     288      270      271 1\\n     289      270      277 1\\n     290      270      278 1\\n     291      270      279 1\\n     292      271      272 1\\n     293      271      273 1\\n     294      271      274 1\\n     295      272      280 1\\n     296      272      281 1\\n     297      272      282 1\\n     298      273      283 1\\n     299      273      284 1\\n     300      273      285 1\\n     301      274      275 1\\n     302      275      276 1\\n@<TRIPOS>SUBSTRUCTURE\\n       1 Polymer         1 RESIDUE    0 **** ROOT      0\\n\",\"mol2\");\n",
       "\tviewer_16915951030014544.setStyle({\"stick\": {\"radius\": 0.2, \"color\": \"grey\"}, \"sphere\": {\"scale\": 0.3, \"colorscheme\": {}}});\n",
       "\tviewer_16915951030014544.zoomTo();\n",
       "viewer_16915951030014544.render();\n",
       "});\n",
       "</script>"
      ]
     },
     "metadata": {},
     "output_type": "display_data"
    },
    {
     "data": {
      "text/plain": [
       "<py3Dmol.view at 0x7f4b7d6d9900>"
      ]
     },
     "execution_count": 11,
     "metadata": {},
     "output_type": "execute_result"
    }
   ],
   "source": [
    "chain.visualize(show_ports=True)"
   ]
  },
  {
   "cell_type": "markdown",
   "id": "438faabc",
   "metadata": {},
   "source": [
    "Next we add specific residue labels for the componenets of the `Polymer` object. Here we label the monomers as HEX and the capping moieties as CAP."
   ]
  },
  {
   "cell_type": "code",
   "execution_count": 12,
   "id": "106fb8a7",
   "metadata": {},
   "outputs": [
    {
     "name": "stdout",
     "output_type": "stream",
     "text": [
      "OrderedDict([('monomer', [<Compound 44 particles, 46 bonds, non-periodic, id: 139962204972720>, <Compound 44 particles, 46 bonds, non-periodic, id: 139962204963648>, <Compound 44 particles, 46 bonds, non-periodic, id: 139962245970480>, <Compound 44 particles, 46 bonds, non-periodic, id: 139962246203328>, <Compound 44 particles, 46 bonds, non-periodic, id: 139962205322496>, <Compound 44 particles, 46 bonds, non-periodic, id: 139962205726720>]), ('monomer[0]', <Compound 44 particles, 46 bonds, non-periodic, id: 139962204972720>), ('monomer[1]', <Compound 44 particles, 46 bonds, non-periodic, id: 139962204963648>), ('monomer[2]', <Compound 44 particles, 46 bonds, non-periodic, id: 139962245970480>), ('monomer[3]', <Compound 44 particles, 46 bonds, non-periodic, id: 139962246203328>), ('monomer[4]', <Compound 44 particles, 46 bonds, non-periodic, id: 139962205322496>), ('monomer[5]', <Compound 44 particles, 46 bonds, non-periodic, id: 139962205726720>), ('Compound', [<Compound 5 particles, 4 bonds, non-periodic, id: 139962246216336>, <Compound 16 particles, 15 bonds, non-periodic, id: 139962246446576>]), ('Compound[0]', <Compound 5 particles, 4 bonds, non-periodic, id: 139962246216336>), ('Compound[1]', <Compound 16 particles, 15 bonds, non-periodic, id: 139962246446576>)])\n",
      "<HEX 44 particles, 46 bonds, non-periodic, id: 139962204972720>\n",
      "<HEX 44 particles, 46 bonds, non-periodic, id: 139962204963648>\n",
      "<HEX 44 particles, 46 bonds, non-periodic, id: 139962245970480>\n",
      "<HEX 44 particles, 46 bonds, non-periodic, id: 139962246203328>\n",
      "<HEX 44 particles, 46 bonds, non-periodic, id: 139962205322496>\n",
      "<HEX 44 particles, 46 bonds, non-periodic, id: 139962205726720>\n",
      "<CAP 5 particles, 4 bonds, non-periodic, id: 139962246216336>\n",
      "<CAP 16 particles, 15 bonds, non-periodic, id: 139962246446576>\n"
     ]
    }
   ],
   "source": [
    "print(chain.labels)\n",
    "for label in chain.labels[\"monomer\"]:\n",
    "    label.name = \"HEX\"\n",
    "    print(label)\n",
    "for label in chain.labels[\"Compound\"]:\n",
    "    label.name = \"CAP\"\n",
    "    print(label)"
   ]
  },
  {
   "cell_type": "markdown",
   "id": "a6e0bc38",
   "metadata": {},
   "source": [
    "We save these as a pdb file and provide the names of the residues to include in the file."
   ]
  },
  {
   "cell_type": "code",
   "execution_count": 13,
   "id": "eaa3f061",
   "metadata": {
    "scrolled": true
   },
   "outputs": [],
   "source": [
    "chain.save(\"mop_hexamer_mbuild.pdb\", overwrite=True, residues=[\"HEX\", \"CAP\"])"
   ]
  },
  {
   "cell_type": "markdown",
   "id": "0b405a5a",
   "metadata": {},
   "source": [
    "Using Gromacs I generate a new gro file with the correct residue labels. `mbuild` doesn't seem to label residues correctly when writing `.gro` files."
   ]
  },
  {
   "cell_type": "code",
   "execution_count": 14,
   "id": "a6c16565",
   "metadata": {},
   "outputs": [
    {
     "name": "stdout",
     "output_type": "stream",
     "text": [
      "                     :-) GROMACS - gmx editconf, 2022.4 (-:\n",
      "\n",
      "Executable:   /usr/local/bin/gmx\n",
      "Data prefix:  /usr/local\n",
      "Working dir:  /home/tfobe/Research/terphenyl_simulations/examples/build_polymer/mop\n",
      "Command line:\n",
      "  gmx editconf -f mop_hexamer_mbuild.pdb -o mop_hexamer_mbuild.gro\n",
      "\n",
      "Note that major changes are planned in future for editconf, to improve usability and utility.\n",
      "WARNING: all CONECT records are ignored\n",
      "Read 285 atoms\n",
      "Volume: 34.4435 nm^3, corresponds to roughly 15400 electrons\n",
      "No velocities found\n",
      "\n",
      "Back Off! I just backed up mop_hexamer_mbuild.gro to ./#mop_hexamer_mbuild.gro.3#\n",
      "\n",
      "GROMACS reminds you: \"Science progresses best when observations force us to alter our preconceptions.\" (Vera Rubin)\n",
      "\n"
     ]
    }
   ],
   "source": [
    "! gmx editconf -f mop_hexamer_mbuild.pdb -o mop_hexamer_mbuild.gro"
   ]
  },
  {
   "cell_type": "markdown",
   "id": "527e9edb",
   "metadata": {},
   "source": [
    "Lastly, I use openBabel to generate a `.mol` file for use in the OpenFF parameter assignment workflow."
   ]
  },
  {
   "cell_type": "code",
   "execution_count": 15,
   "id": "07362221",
   "metadata": {},
   "outputs": [
    {
     "name": "stdout",
     "output_type": "stream",
     "text": [
      "==============================\r\n",
      "*** Open Babel Error  in ReadMolecule\r\n",
      "  ERROR: not a valid PDB file\r\n",
      "\r\n",
      "1 molecule converted\r\n"
     ]
    }
   ],
   "source": [
    "! obabel -ipdb mop_hexamer_mbuild.pdb -omol mop_hexamer_mbuild.mol -O mop_hexamer_mbuild.mol"
   ]
  },
  {
   "cell_type": "markdown",
   "id": "6725027a",
   "metadata": {},
   "source": [
    "# Building arbitrary n-mers of MOP monomer\n",
    "\n",
    "Now we put it all together to generate a tetramer, hexamer and octamer PMP terphenyl foldamer:"
   ]
  },
  {
   "cell_type": "code",
   "execution_count": 16,
   "id": "1f14cd02",
   "metadata": {
    "scrolled": true
   },
   "outputs": [
    {
     "name": "stdout",
     "output_type": "stream",
     "text": [
      "<DIM 44 particles, 46 bonds, non-periodic, id: 139962185906688>\n",
      "<DIM 44 particles, 46 bonds, non-periodic, id: 139962185904192>\n",
      "<CAP 5 particles, 4 bonds, non-periodic, id: 139962185175520>\n",
      "<CAP 16 particles, 15 bonds, non-periodic, id: 139962185892576>\n",
      "Note that major changes are planned in future for editconf, to improve usability and utility.\n",
      "Read 109 atoms\n",
      "Volume: 8.96552 nm^3, corresponds to roughly 4000 electrons\n",
      "No velocities found\n"
     ]
    },
    {
     "name": "stderr",
     "output_type": "stream",
     "text": [
      "                     :-) GROMACS - gmx editconf, 2022.4 (-:\n",
      "\n",
      "Executable:   /usr/local/bin/gmx\n",
      "Data prefix:  /usr/local\n",
      "Working dir:  /home/tfobe/Research/terphenyl_simulations/examples/build_polymer/mop\n",
      "Command line:\n",
      "  gmx editconf -f mop_dimer_mbuild.pdb -o mop_dimer_mbuild.gro\n",
      "\n",
      "WARNING: all CONECT records are ignored\n",
      "\n",
      "Back Off! I just backed up mop_dimer_mbuild.gro to ./#mop_dimer_mbuild.gro.2#\n",
      "\n",
      "GROMACS reminds you: \"The future still looks good, and you've got time to rectify all the things that you should\" (G. Harrison)\n",
      "\n",
      "==============================\n",
      "*** Open Babel Error  in ReadMolecule\n",
      "  ERROR: not a valid PDB file\n",
      "\n",
      "1 molecule converted\n",
      "Warning: importing 'simtk.openmm' is deprecated.  Import 'openmm' instead.\n"
     ]
    },
    {
     "name": "stdout",
     "output_type": "stream",
     "text": [
      "<TRI 44 particles, 46 bonds, non-periodic, id: 139962203687808>\n",
      "<TRI 44 particles, 46 bonds, non-periodic, id: 139962203689296>\n",
      "<TRI 44 particles, 46 bonds, non-periodic, id: 139962927955248>\n",
      "<CAP 5 particles, 4 bonds, non-periodic, id: 139962185141984>\n",
      "<CAP 16 particles, 15 bonds, non-periodic, id: 139962203697312>\n",
      "Note that major changes are planned in future for editconf, to improve usability and utility.\n",
      "Read 153 atoms\n",
      "Volume: 12.894 nm^3, corresponds to roughly 5800 electrons\n",
      "No velocities found\n"
     ]
    },
    {
     "name": "stderr",
     "output_type": "stream",
     "text": [
      "                     :-) GROMACS - gmx editconf, 2022.4 (-:\n",
      "\n",
      "Executable:   /usr/local/bin/gmx\n",
      "Data prefix:  /usr/local\n",
      "Working dir:  /home/tfobe/Research/terphenyl_simulations/examples/build_polymer/mop\n",
      "Command line:\n",
      "  gmx editconf -f mop_trimer_mbuild.pdb -o mop_trimer_mbuild.gro\n",
      "\n",
      "WARNING: all CONECT records are ignored\n",
      "\n",
      "Back Off! I just backed up mop_trimer_mbuild.gro to ./#mop_trimer_mbuild.gro.2#\n",
      "\n",
      "GROMACS reminds you: \"And after some more talk we agreed that the wisdom of rats had been grossly overrated, being in fact no greater than that of men\" (Joseph Conrad)\n",
      "\n",
      "==============================\n",
      "*** Open Babel Error  in ReadMolecule\n",
      "  ERROR: not a valid PDB file\n",
      "\n",
      "1 molecule converted\n",
      "Warning: importing 'simtk.openmm' is deprecated.  Import 'openmm' instead.\n"
     ]
    },
    {
     "name": "stdout",
     "output_type": "stream",
     "text": [
      "<TET 44 particles, 46 bonds, non-periodic, id: 139962928126688>\n",
      "<TET 44 particles, 46 bonds, non-periodic, id: 139962928124192>\n",
      "<TET 44 particles, 46 bonds, non-periodic, id: 139962184951808>\n",
      "<TET 44 particles, 46 bonds, non-periodic, id: 139962928249632>\n",
      "<CAP 5 particles, 4 bonds, non-periodic, id: 139962185473456>\n",
      "<CAP 16 particles, 15 bonds, non-periodic, id: 139962185466304>\n",
      "Note that major changes are planned in future for editconf, to improve usability and utility.\n",
      "Read 197 atoms\n",
      "Volume: 16.1929 nm^3, corresponds to roughly 7200 electrons\n",
      "No velocities found\n"
     ]
    },
    {
     "name": "stderr",
     "output_type": "stream",
     "text": [
      "                     :-) GROMACS - gmx editconf, 2022.4 (-:\n",
      "\n",
      "Executable:   /usr/local/bin/gmx\n",
      "Data prefix:  /usr/local\n",
      "Working dir:  /home/tfobe/Research/terphenyl_simulations/examples/build_polymer/mop\n",
      "Command line:\n",
      "  gmx editconf -f mop_tetramer_mbuild.pdb -o mop_tetramer_mbuild.gro\n",
      "\n",
      "WARNING: all CONECT records are ignored\n",
      "\n",
      "Back Off! I just backed up mop_tetramer_mbuild.gro to ./#mop_tetramer_mbuild.gro.2#\n",
      "\n",
      "GROMACS reminds you: \"It's Unacceptable That Chocolate Makes You Fat\" (MI 3)\n",
      "\n",
      "==============================\n",
      "*** Open Babel Error  in ReadMolecule\n",
      "  ERROR: not a valid PDB file\n",
      "\n",
      "1 molecule converted\n",
      "Warning: importing 'simtk.openmm' is deprecated.  Import 'openmm' instead.\n"
     ]
    },
    {
     "name": "stdout",
     "output_type": "stream",
     "text": [
      "<HEX 44 particles, 46 bonds, non-periodic, id: 139962928492224>\n",
      "<HEX 44 particles, 46 bonds, non-periodic, id: 139962926989168>\n",
      "<HEX 44 particles, 46 bonds, non-periodic, id: 139962927151568>\n",
      "<HEX 44 particles, 46 bonds, non-periodic, id: 139962927300464>\n",
      "<HEX 44 particles, 46 bonds, non-periodic, id: 139962928704928>\n",
      "<HEX 44 particles, 46 bonds, non-periodic, id: 139962927567520>\n",
      "<CAP 5 particles, 4 bonds, non-periodic, id: 139962928698880>\n",
      "<CAP 16 particles, 15 bonds, non-periodic, id: 139962928709488>\n",
      "Note that major changes are planned in future for editconf, to improve usability and utility.\n",
      "Read 285 atoms\n",
      "Volume: 34.4435 nm^3, corresponds to roughly 15400 electrons\n",
      "No velocities found\n"
     ]
    },
    {
     "name": "stderr",
     "output_type": "stream",
     "text": [
      "                     :-) GROMACS - gmx editconf, 2022.4 (-:\n",
      "\n",
      "Executable:   /usr/local/bin/gmx\n",
      "Data prefix:  /usr/local\n",
      "Working dir:  /home/tfobe/Research/terphenyl_simulations/examples/build_polymer/mop\n",
      "Command line:\n",
      "  gmx editconf -f mop_hexamer_mbuild.pdb -o mop_hexamer_mbuild.gro\n",
      "\n",
      "WARNING: all CONECT records are ignored\n",
      "\n",
      "Back Off! I just backed up mop_hexamer_mbuild.gro to ./#mop_hexamer_mbuild.gro.4#\n",
      "\n",
      "GROMACS reminds you: \"Two guys can move very fast when they're motivated enough and unemployed\" (Eric Betzig)\n",
      "\n",
      "==============================\n",
      "*** Open Babel Error  in ReadMolecule\n",
      "  ERROR: not a valid PDB file\n",
      "\n",
      "1 molecule converted\n",
      "Warning: importing 'simtk.openmm' is deprecated.  Import 'openmm' instead.\n"
     ]
    },
    {
     "name": "stdout",
     "output_type": "stream",
     "text": [
      "<OCT 44 particles, 46 bonds, non-periodic, id: 139962926419632>\n",
      "<OCT 44 particles, 46 bonds, non-periodic, id: 139962926420688>\n",
      "<OCT 44 particles, 46 bonds, non-periodic, id: 139962924573376>\n",
      "<OCT 44 particles, 46 bonds, non-periodic, id: 139962924736928>\n",
      "<OCT 44 particles, 46 bonds, non-periodic, id: 139962924736352>\n",
      "<OCT 44 particles, 46 bonds, non-periodic, id: 139962925162240>\n",
      "<OCT 44 particles, 46 bonds, non-periodic, id: 139962925157344>\n",
      "<OCT 44 particles, 46 bonds, non-periodic, id: 139962924835904>\n",
      "<CAP 5 particles, 4 bonds, non-periodic, id: 139962926308832>\n",
      "<CAP 16 particles, 15 bonds, non-periodic, id: 139962926315024>\n",
      "Note that major changes are planned in future for editconf, to improve usability and utility.\n",
      "Read 373 atoms\n",
      "Volume: 62.5637 nm^3, corresponds to roughly 28100 electrons\n",
      "No velocities found\n"
     ]
    },
    {
     "name": "stderr",
     "output_type": "stream",
     "text": [
      "                     :-) GROMACS - gmx editconf, 2022.4 (-:\n",
      "\n",
      "Executable:   /usr/local/bin/gmx\n",
      "Data prefix:  /usr/local\n",
      "Working dir:  /home/tfobe/Research/terphenyl_simulations/examples/build_polymer/mop\n",
      "Command line:\n",
      "  gmx editconf -f mop_octamer_mbuild.pdb -o mop_octamer_mbuild.gro\n",
      "\n",
      "WARNING: all CONECT records are ignored\n",
      "\n",
      "Back Off! I just backed up mop_octamer_mbuild.gro to ./#mop_octamer_mbuild.gro.2#\n",
      "\n",
      "GROMACS reminds you: \"Act like Prometheus would\" (Gogol Bordello)\n",
      "\n",
      "==============================\n",
      "*** Open Babel Error  in ReadMolecule\n",
      "  ERROR: not a valid PDB file\n",
      "\n",
      "1 molecule converted\n",
      "Warning: importing 'simtk.openmm' is deprecated.  Import 'openmm' instead.\n"
     ]
    },
    {
     "name": "stdout",
     "output_type": "stream",
     "text": [
      "<DEC 44 particles, 46 bonds, non-periodic, id: 139962924394976>\n",
      "<DEC 44 particles, 46 bonds, non-periodic, id: 139962924396944>\n",
      "<DEC 44 particles, 46 bonds, non-periodic, id: 139962922514704>\n",
      "<DEC 44 particles, 46 bonds, non-periodic, id: 139962922630208>\n",
      "<DEC 44 particles, 46 bonds, non-periodic, id: 139962922794768>\n",
      "<DEC 44 particles, 46 bonds, non-periodic, id: 139962922973840>\n",
      "<DEC 44 particles, 46 bonds, non-periodic, id: 139962923187120>\n",
      "<DEC 44 particles, 46 bonds, non-periodic, id: 139962923006224>\n",
      "<DEC 44 particles, 46 bonds, non-periodic, id: 139962923416160>\n",
      "<DEC 44 particles, 46 bonds, non-periodic, id: 139962921565776>\n",
      "<CAP 5 particles, 4 bonds, non-periodic, id: 139962924285376>\n",
      "<CAP 16 particles, 15 bonds, non-periodic, id: 139962924283792>\n"
     ]
    },
    {
     "name": "stderr",
     "output_type": "stream",
     "text": [
      "                     :-) GROMACS - gmx editconf, 2022.4 (-:\n",
      "\n",
      "Executable:   /usr/local/bin/gmx\n",
      "Data prefix:  /usr/local\n",
      "Working dir:  /home/tfobe/Research/terphenyl_simulations/examples/build_polymer/mop\n",
      "Command line:\n",
      "  gmx editconf -f mop_decamer_mbuild.pdb -o mop_decamer_mbuild.gro\n",
      "\n",
      "WARNING: all CONECT records are ignored\n",
      "\n",
      "Back Off! I just backed up mop_decamer_mbuild.gro to ./#mop_decamer_mbuild.gro.2#\n",
      "\n",
      "GROMACS reminds you: \"We must have perseverance and above all confidence in ourselves. We must believe that we are gifted for something and that this thing must be attained.\" (Marie Curie)\n",
      "\n"
     ]
    },
    {
     "name": "stdout",
     "output_type": "stream",
     "text": [
      "Note that major changes are planned in future for editconf, to improve usability and utility.\n",
      "Read 461 atoms\n",
      "Volume: 82.9883 nm^3, corresponds to roughly 37300 electrons\n",
      "No velocities found\n"
     ]
    },
    {
     "name": "stderr",
     "output_type": "stream",
     "text": [
      "==============================\n",
      "*** Open Babel Error  in ReadMolecule\n",
      "  ERROR: not a valid PDB file\n",
      "\n",
      "1 molecule converted\n",
      "Warning: importing 'simtk.openmm' is deprecated.  Import 'openmm' instead.\n"
     ]
    }
   ],
   "source": [
    "n_residues = [2,3,4,6,8,10]\n",
    "residue_labels = [\"DIM\", \"TRI\",\"TET\", \"HEX\", \"OCT\", \"DEC\"]\n",
    "file_names = [\"mop_dimer_mbuild\", \"mop_trimer_mbuild\", \"mop_tetramer_mbuild\", \"mop_hexamer_mbuild\", \"mop_octamer_mbuild\", \"mop_decamer_mbuild\"]\n",
    "for i in range(len(n_residues)):\n",
    "    # Generate polymer\n",
    "    chain = Polymer()\n",
    "    chain.add_monomer(compound=comp,\n",
    "                      indices=[25, 40],\n",
    "                      separation=.15,\n",
    "                      replace=True,\n",
    "                      # orientation = [[0,-1,0],[1,0,0]]\n",
    "                     )\n",
    "    chain.add_end_groups(compound = cap_o,\n",
    "                         index = -1,\n",
    "                         separation=0.15,\n",
    "                         label=\"head\",\n",
    "                         duplicate = False\n",
    "                        )\n",
    "\n",
    "    chain.add_end_groups(compound = cap_n,\n",
    "                         index = -1,\n",
    "                         separation=0.15,\n",
    "                         label=\"tail\",\n",
    "                         duplicate = False\n",
    "                        )\n",
    "\n",
    "    chain.build(n=n_residues[i], sequence='A')\n",
    "\n",
    "    # Rotate peptide bond\n",
    "    #for bond in chain.bonds():\n",
    "    #    if bond[0].name == \"N\":\n",
    "    #        if bond[1].n_direct_bonds == 3:\n",
    "    #            print(\"Rotating bond:\", bond, \"by\", np.pi/2)\n",
    "    #            chain.rotate_dihedral(bond, np.pi/2)\n",
    "\n",
    "    #    if bond[1].name == \"N\":\n",
    "    #        if bond[0].n_direct_bonds == 3:\n",
    "    #            print(\"Rotating bond:\", bond, \"by\", np.pi/2)\n",
    "    #            chain.rotate_dihedral(bond, np.pi/2)  \n",
    "\n",
    "\n",
    "    # Relabel chains\n",
    "    for label in chain.labels[\"monomer\"]:\n",
    "        label.name = residue_labels[i]\n",
    "        print(label)\n",
    "    for label in chain.labels[\"Compound\"]:\n",
    "        label.name = \"CAP\"\n",
    "        print(label)\n",
    "            \n",
    "            \n",
    "    chain.save(file_names[i] + \".pdb\", overwrite=True, residues=[residue_labels[i], \"CAP\"])\n",
    "    \n",
    "    subprocess.run([\"gmx\", \"editconf\", \"-f\", file_names[i] + \".pdb\", \"-o\", file_names[i]+ \".gro\"])\n",
    "    subprocess.run([\"obabel\", \"-ipdb\", file_names[i] + \".pdb\", \"-omol\", file_names[i] + \".mol\",  \"-O\", file_names[i] + \".mol\"])\n",
    "    subprocess.run([\"renumber_pdb_atoms\", \"-f\", file_names[i] + \".pdb\", \"-o\", file_names[i] + \"_renum.pdb\"])"
   ]
  },
  {
   "cell_type": "code",
   "execution_count": null,
   "id": "db526c12",
   "metadata": {},
   "outputs": [],
   "source": []
  }
 ],
 "metadata": {
  "kernelspec": {
   "display_name": "Python 3 (ipykernel)",
   "language": "python",
   "name": "python3"
  },
  "language_info": {
   "codemirror_mode": {
    "name": "ipython",
    "version": 3
   },
   "file_extension": ".py",
   "mimetype": "text/x-python",
   "name": "python",
   "nbconvert_exporter": "python",
   "pygments_lexer": "ipython3",
   "version": "3.10.10"
  }
 },
 "nbformat": 4,
 "nbformat_minor": 5
}
