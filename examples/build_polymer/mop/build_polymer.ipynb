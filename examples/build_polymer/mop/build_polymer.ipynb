{
 "cells": [
  {
   "cell_type": "markdown",
   "id": "fc04dc5f",
   "metadata": {},
   "source": [
    "# Building MOP-Terphenyl Polymers using mbuild\n",
    "\n",
    "Here we use `mbuild` to read in a SMILES string of a terphenyl monomer and build an n-residue polymer from the monomer."
   ]
  },
  {
   "cell_type": "code",
   "execution_count": 1,
   "id": "8d8dc4a9",
   "metadata": {},
   "outputs": [
    {
     "name": "stderr",
     "output_type": "stream",
     "text": [
      "Warning: importing 'simtk.openmm' is deprecated.  Import 'openmm' instead.\n"
     ]
    }
   ],
   "source": [
    "import mbuild as mb\n",
    "import numpy as np\n",
    "import subprocess\n",
    "from mbuild.lib.recipes.polymer import Polymer\n",
    "import warnings\n",
    "warnings.filterwarnings('ignore')"
   ]
  },
  {
   "cell_type": "markdown",
   "id": "c054b3df",
   "metadata": {},
   "source": [
    "First we get the MOP-terphenyl monomer from a smiles string."
   ]
  },
  {
   "cell_type": "code",
   "execution_count": 2,
   "id": "de5966db",
   "metadata": {},
   "outputs": [],
   "source": [
    "comp = mb.load('C(=O)c1ccc(c2c(cc(OC)cc2)(c3cccc(c3)[C@@H](N)C))cc1', smiles = True, name=\"MOP\")"
   ]
  },
  {
   "cell_type": "markdown",
   "id": "d77b3b26",
   "metadata": {},
   "source": [
    "I output all the indexes of hydrogen atoms because we will uses these indexes for extending the polymer later on."
   ]
  },
  {
   "cell_type": "code",
   "execution_count": 3,
   "id": "97ca2c2a",
   "metadata": {},
   "outputs": [
    {
     "name": "stdout",
     "output_type": "stream",
     "text": [
      "25 <H pos=([-0.2453 -0.5566  0.0782]), 1 bonds, id: 139773138644896>\n",
      "26 <H pos=([-0.1188 -0.3599  0.1631]), 1 bonds, id: 139773138644944>\n",
      "27 <H pos=([-0.0695 -0.1196  0.1639]), 1 bonds, id: 139773138674112>\n",
      "28 <H pos=([ 0.0728  0.3003 -0.0153]), 1 bonds, id: 139773138674352>\n",
      "29 <H pos=([-0.1463  0.6895  0.0515]), 1 bonds, id: 139773138674592>\n",
      "30 <H pos=([-0.2465  0.5765  0.1501]), 1 bonds, id: 139773138674832>\n",
      "31 <H pos=([-0.2739  0.5909 -0.0294]), 1 bonds, id: 139773138675072>\n",
      "32 <H pos=([-0.3456  0.3696  0.0561]), 1 bonds, id: 139773138675312>\n",
      "33 <H pos=([-0.3889  0.13    0.0462]), 1 bonds, id: 139773138675552>\n",
      "34 <H pos=([-0.0317 -0.0545 -0.2148]), 1 bonds, id: 139773138675792>\n",
      "35 <H pos=([ 0.1565 -0.2054 -0.2646]), 1 bonds, id: 139773138676032>\n",
      "36 <H pos=([ 0.3579 -0.205  -0.1237]), 1 bonds, id: 139773138676272>\n",
      "37 <H pos=([0.1828 0.1017 0.1242]), 1 bonds, id: 139773138676512>\n",
      "38 <H pos=([0.3972 0.0289 0.1781]), 1 bonds, id: 139773138676752>\n",
      "39 <H pos=([ 0.4395 -0.2537  0.0963]), 1 bonds, id: 139773138676992>\n",
      "40 <H pos=([ 0.3417 -0.1991  0.2223]), 1 bonds, id: 139773138677232>\n",
      "41 <H pos=([ 0.5583 -0.0888 -0.0563]), 1 bonds, id: 139773138677472>\n",
      "42 <H pos=([ 0.6216 -0.0033  0.089 ]), 1 bonds, id: 139773138677712>\n",
      "43 <H pos=([ 0.5205  0.0861 -0.0304]), 1 bonds, id: 139773138677520>\n",
      "44 <H pos=([-0.3672 -0.057  -0.1418]), 1 bonds, id: 139773138694640>\n",
      "45 <H pos=([-0.418  -0.2968 -0.1416]), 1 bonds, id: 139773138694880>\n"
     ]
    }
   ],
   "source": [
    "for i, atom in enumerate(comp):\n",
    "    if atom.name == \"H\":\n",
    "        print(i, atom)"
   ]
  },
  {
   "cell_type": "markdown",
   "id": "49431c09",
   "metadata": {},
   "source": [
    "`mbuild` comes with a nice tool to visualize Compounds built into jupyter-notebooks. Using the object from `py3Dmol` we can coloro the atoms to identify the indices needed to make substiutions when building the polymer."
   ]
  },
  {
   "cell_type": "code",
   "execution_count": 4,
   "id": "c147e44b",
   "metadata": {},
   "outputs": [
    {
     "data": {
      "application/3dmoljs_load.v0": "<div id=\"3dmolviewer_16808262528459244\"  style=\"position: relative; width: 640px; height: 480px\">\n        <p id=\"3dmolwarning_16808262528459244\" style=\"background-color:#ffcccc;color:black\">You appear to be running in JupyterLab (or JavaScript failed to load for some other reason).  You need to install the 3dmol extension: <br>\n        <tt>jupyter labextension install jupyterlab_3dmol</tt></p>\n        </div>\n<script>\n\nvar loadScriptAsync = function(uri){\n  return new Promise((resolve, reject) => {\n    var tag = document.createElement('script');\n    tag.src = uri;\n    tag.async = true;\n    tag.onload = () => {\n      resolve();\n    };\n  var firstScriptTag = document.getElementsByTagName('script')[0];\n  firstScriptTag.parentNode.insertBefore(tag, firstScriptTag);\n});\n};\n\nif(typeof $3Dmolpromise === 'undefined') {\n$3Dmolpromise = null;\n  $3Dmolpromise = loadScriptAsync('https://cdn.jsdelivr.net/npm/3dmol@latest/build/3Dmol-min.min.js');\n}\n\nvar viewer_16808262528459244 = null;\nvar warn = document.getElementById(\"3dmolwarning_16808262528459244\");\nif(warn) {\n    warn.parentNode.removeChild(warn);\n}\n$3Dmolpromise.then(function() {\nviewer_16808262528459244 = $3Dmol.createViewer($(\"#3dmolviewer_16808262528459244\"),{backgroundColor:\"white\"});\nviewer_16808262528459244.zoomTo();\n\tviewer_16808262528459244.addModel(\"@<TRIPOS>MOLECULE\\nRES\\n46 48 1 0 1\\nSMALL\\nNO_CHARGES\\n@<TRIPOS>CRYSIN\\n   15.3955    17.4604     9.8692    90.0000    90.0000    90.0000  1  1\\n@<TRIPOS>ATOM\\n       1 C           -3.0021    -4.9111     0.1167 C             1 RES     \\n       2 O           -3.8790    -5.4074    -0.6395 O             1 RES     \\n       3 C           -2.7172    -3.4646     0.1056 C             1 RES     \\n       4 C           -1.7345    -2.9453     0.9614 C             1 RES     \\n       5 C           -1.4499    -1.5771     0.9631 C             1 RES     \\n       6 C           -2.1376    -0.7072     0.1013 C             1 RES     \\n       7 C           -1.8309     0.7439     0.0931 C             1 RES     \\n       8 C           -0.5127     1.2341    -0.0912 C             1 RES     \\n       9 C           -0.2750     2.6169    -0.0112 C             1 RES     \\n      10 C           -1.3190     3.5169     0.2221 C             1 RES     \\n      11 O           -1.0166     4.8854     0.2851 O             1 RES     \\n      12 C           -1.9768     5.9116     0.5142 C             1 RES     \\n      13 C           -2.6259     3.0264     0.3800 C             1 RES     \\n      14 C           -2.8761     1.6549     0.3155 C             1 RES     \\n      15 C            0.6231     0.3353    -0.4080 C             1 RES     \\n      16 C            0.5583    -0.5314    -1.5102 C             1 RES     \\n      17 C            1.6242    -1.3848    -1.7976 C             1 RES     \\n      18 C            2.7669    -1.3768    -0.9950 C             1 RES     \\n      19 C            2.8583    -0.5057     0.1065 C             1 RES     \\n      20 C            1.7788     0.3497     0.3902 C             1 RES     \\n      21 C            4.0917    -0.4897     0.9941 C             1 RES     \\n      22 N            4.2784    -1.7757     1.6701 N             1 RES     \\n      23 C            5.3486    -0.1181     0.2013 C             1 RES     \\n      24 C           -3.1297    -1.2247    -0.7463 C             1 RES     \\n      25 C           -3.4155    -2.5930    -0.7473 C             1 RES     \\n      26 H           -2.4535    -5.5656     0.7821 H             1 RES     \\n      27 H           -1.1881    -3.5987     1.6306 H             1 RES     \\n      28 H           -0.6948    -1.1957     1.6395 H             1 RES     \\n      29 H            0.7278     3.0029    -0.1525 H             1 RES     \\n      30 H           -1.4634     6.8948     0.5148 H             1 RES     \\n      31 H           -2.4646     5.7646     1.5010 H             1 RES     \\n      32 H           -2.7388     5.9088    -0.2936 H             1 RES     \\n      33 H           -3.4556     3.6960     0.5607 H             1 RES     \\n      34 H           -3.8891     1.2999     0.4623 H             1 RES     \\n      35 H           -0.3171    -0.5446    -2.1477 H             1 RES     \\n      36 H            1.5651    -2.0544    -2.6459 H             1 RES     \\n      37 H            3.5790    -2.0496    -1.2373 H             1 RES     \\n      38 H            1.8278     1.0174     1.2423 H             1 RES     \\n      39 H            3.9723     0.2887     1.7807 H             1 RES     \\n      40 H            4.3948    -2.5371     0.9628 H             1 RES     \\n      41 H            3.4167    -1.9906     2.2233 H             1 RES     \\n      42 H            5.5828    -0.8883    -0.5635 H             1 RES     \\n      43 H            6.2156    -0.0334     0.8905 H             1 RES     \\n      44 H            5.2054     0.8610    -0.3040 H             1 RES     \\n      45 H           -3.6721    -0.5702    -1.4176 H             1 RES     \\n      46 H           -4.1799    -2.9683    -1.4162 H             1 RES     \\n@<TRIPOS>BOND\\n       1        2        1 1\\n       2        3        1 1\\n       3       26        1 1\\n       4        4        3 1\\n       5       25        3 1\\n       6        5        4 1\\n       7       27        4 1\\n       8        6        5 1\\n       9       28        5 1\\n      10        7        6 1\\n      11       24        6 1\\n      12        8        7 1\\n      13       14        7 1\\n      14        9        8 1\\n      15       15        8 1\\n      16       10        9 1\\n      17       29        9 1\\n      18       11       10 1\\n      19       13       10 1\\n      20       12       11 1\\n      21       30       12 1\\n      22       31       12 1\\n      23       32       12 1\\n      24       14       13 1\\n      25       33       13 1\\n      26       34       14 1\\n      27       16       15 1\\n      28       20       15 1\\n      29       17       16 1\\n      30       35       16 1\\n      31       18       17 1\\n      32       36       17 1\\n      33       19       18 1\\n      34       37       18 1\\n      35       20       19 1\\n      36       21       19 1\\n      37       38       20 1\\n      38       22       21 1\\n      39       23       21 1\\n      40       39       21 1\\n      41       40       22 1\\n      42       41       22 1\\n      43       42       23 1\\n      44       43       23 1\\n      45       44       23 1\\n      46       25       24 1\\n      47       45       24 1\\n      48       46       25 1\\n@<TRIPOS>SUBSTRUCTURE\\n       1 RES             1 RESIDUE    0 **** ROOT      0\\n\",\"mol2\");\n\tviewer_16808262528459244.setStyle({\"stick\": {\"radius\": 0.2, \"color\": \"grey\"}, \"sphere\": {\"scale\": 0.3, \"colorscheme\": {}}});\n\tviewer_16808262528459244.zoomTo();\n\tviewer_16808262528459244.setStyle({\"model\": -1, \"serial\": 26},{\"stick\": {\"radius\": 0.2, \"color\": \"grey\"}, \"sphere\": {\"scale\": 0.3, \"color\": \"black\"}});\n\tviewer_16808262528459244.setStyle({\"model\": -1, \"serial\": 41},{\"stick\": {\"radius\": 0.2, \"color\": \"grey\"}, \"sphere\": {\"scale\": 0.3, \"color\": \"black\"}});\nviewer_16808262528459244.render();\n});\n</script>",
      "text/html": [
       "<div id=\"3dmolviewer_16808262528459244\"  style=\"position: relative; width: 640px; height: 480px\">\n",
       "        <p id=\"3dmolwarning_16808262528459244\" style=\"background-color:#ffcccc;color:black\">You appear to be running in JupyterLab (or JavaScript failed to load for some other reason).  You need to install the 3dmol extension: <br>\n",
       "        <tt>jupyter labextension install jupyterlab_3dmol</tt></p>\n",
       "        </div>\n",
       "<script>\n",
       "\n",
       "var loadScriptAsync = function(uri){\n",
       "  return new Promise((resolve, reject) => {\n",
       "    var tag = document.createElement('script');\n",
       "    tag.src = uri;\n",
       "    tag.async = true;\n",
       "    tag.onload = () => {\n",
       "      resolve();\n",
       "    };\n",
       "  var firstScriptTag = document.getElementsByTagName('script')[0];\n",
       "  firstScriptTag.parentNode.insertBefore(tag, firstScriptTag);\n",
       "});\n",
       "};\n",
       "\n",
       "if(typeof $3Dmolpromise === 'undefined') {\n",
       "$3Dmolpromise = null;\n",
       "  $3Dmolpromise = loadScriptAsync('https://cdn.jsdelivr.net/npm/3dmol@latest/build/3Dmol-min.min.js');\n",
       "}\n",
       "\n",
       "var viewer_16808262528459244 = null;\n",
       "var warn = document.getElementById(\"3dmolwarning_16808262528459244\");\n",
       "if(warn) {\n",
       "    warn.parentNode.removeChild(warn);\n",
       "}\n",
       "$3Dmolpromise.then(function() {\n",
       "viewer_16808262528459244 = $3Dmol.createViewer($(\"#3dmolviewer_16808262528459244\"),{backgroundColor:\"white\"});\n",
       "viewer_16808262528459244.zoomTo();\n",
       "\tviewer_16808262528459244.addModel(\"@<TRIPOS>MOLECULE\\nRES\\n46 48 1 0 1\\nSMALL\\nNO_CHARGES\\n@<TRIPOS>CRYSIN\\n   15.3955    17.4604     9.8692    90.0000    90.0000    90.0000  1  1\\n@<TRIPOS>ATOM\\n       1 C           -3.0021    -4.9111     0.1167 C             1 RES     \\n       2 O           -3.8790    -5.4074    -0.6395 O             1 RES     \\n       3 C           -2.7172    -3.4646     0.1056 C             1 RES     \\n       4 C           -1.7345    -2.9453     0.9614 C             1 RES     \\n       5 C           -1.4499    -1.5771     0.9631 C             1 RES     \\n       6 C           -2.1376    -0.7072     0.1013 C             1 RES     \\n       7 C           -1.8309     0.7439     0.0931 C             1 RES     \\n       8 C           -0.5127     1.2341    -0.0912 C             1 RES     \\n       9 C           -0.2750     2.6169    -0.0112 C             1 RES     \\n      10 C           -1.3190     3.5169     0.2221 C             1 RES     \\n      11 O           -1.0166     4.8854     0.2851 O             1 RES     \\n      12 C           -1.9768     5.9116     0.5142 C             1 RES     \\n      13 C           -2.6259     3.0264     0.3800 C             1 RES     \\n      14 C           -2.8761     1.6549     0.3155 C             1 RES     \\n      15 C            0.6231     0.3353    -0.4080 C             1 RES     \\n      16 C            0.5583    -0.5314    -1.5102 C             1 RES     \\n      17 C            1.6242    -1.3848    -1.7976 C             1 RES     \\n      18 C            2.7669    -1.3768    -0.9950 C             1 RES     \\n      19 C            2.8583    -0.5057     0.1065 C             1 RES     \\n      20 C            1.7788     0.3497     0.3902 C             1 RES     \\n      21 C            4.0917    -0.4897     0.9941 C             1 RES     \\n      22 N            4.2784    -1.7757     1.6701 N             1 RES     \\n      23 C            5.3486    -0.1181     0.2013 C             1 RES     \\n      24 C           -3.1297    -1.2247    -0.7463 C             1 RES     \\n      25 C           -3.4155    -2.5930    -0.7473 C             1 RES     \\n      26 H           -2.4535    -5.5656     0.7821 H             1 RES     \\n      27 H           -1.1881    -3.5987     1.6306 H             1 RES     \\n      28 H           -0.6948    -1.1957     1.6395 H             1 RES     \\n      29 H            0.7278     3.0029    -0.1525 H             1 RES     \\n      30 H           -1.4634     6.8948     0.5148 H             1 RES     \\n      31 H           -2.4646     5.7646     1.5010 H             1 RES     \\n      32 H           -2.7388     5.9088    -0.2936 H             1 RES     \\n      33 H           -3.4556     3.6960     0.5607 H             1 RES     \\n      34 H           -3.8891     1.2999     0.4623 H             1 RES     \\n      35 H           -0.3171    -0.5446    -2.1477 H             1 RES     \\n      36 H            1.5651    -2.0544    -2.6459 H             1 RES     \\n      37 H            3.5790    -2.0496    -1.2373 H             1 RES     \\n      38 H            1.8278     1.0174     1.2423 H             1 RES     \\n      39 H            3.9723     0.2887     1.7807 H             1 RES     \\n      40 H            4.3948    -2.5371     0.9628 H             1 RES     \\n      41 H            3.4167    -1.9906     2.2233 H             1 RES     \\n      42 H            5.5828    -0.8883    -0.5635 H             1 RES     \\n      43 H            6.2156    -0.0334     0.8905 H             1 RES     \\n      44 H            5.2054     0.8610    -0.3040 H             1 RES     \\n      45 H           -3.6721    -0.5702    -1.4176 H             1 RES     \\n      46 H           -4.1799    -2.9683    -1.4162 H             1 RES     \\n@<TRIPOS>BOND\\n       1        2        1 1\\n       2        3        1 1\\n       3       26        1 1\\n       4        4        3 1\\n       5       25        3 1\\n       6        5        4 1\\n       7       27        4 1\\n       8        6        5 1\\n       9       28        5 1\\n      10        7        6 1\\n      11       24        6 1\\n      12        8        7 1\\n      13       14        7 1\\n      14        9        8 1\\n      15       15        8 1\\n      16       10        9 1\\n      17       29        9 1\\n      18       11       10 1\\n      19       13       10 1\\n      20       12       11 1\\n      21       30       12 1\\n      22       31       12 1\\n      23       32       12 1\\n      24       14       13 1\\n      25       33       13 1\\n      26       34       14 1\\n      27       16       15 1\\n      28       20       15 1\\n      29       17       16 1\\n      30       35       16 1\\n      31       18       17 1\\n      32       36       17 1\\n      33       19       18 1\\n      34       37       18 1\\n      35       20       19 1\\n      36       21       19 1\\n      37       38       20 1\\n      38       22       21 1\\n      39       23       21 1\\n      40       39       21 1\\n      41       40       22 1\\n      42       41       22 1\\n      43       42       23 1\\n      44       43       23 1\\n      45       44       23 1\\n      46       25       24 1\\n      47       45       24 1\\n      48       46       25 1\\n@<TRIPOS>SUBSTRUCTURE\\n       1 RES             1 RESIDUE    0 **** ROOT      0\\n\",\"mol2\");\n",
       "\tviewer_16808262528459244.setStyle({\"stick\": {\"radius\": 0.2, \"color\": \"grey\"}, \"sphere\": {\"scale\": 0.3, \"colorscheme\": {}}});\n",
       "\tviewer_16808262528459244.zoomTo();\n",
       "\tviewer_16808262528459244.setStyle({\"model\": -1, \"serial\": 26},{\"stick\": {\"radius\": 0.2, \"color\": \"grey\"}, \"sphere\": {\"scale\": 0.3, \"color\": \"black\"}});\n",
       "\tviewer_16808262528459244.setStyle({\"model\": -1, \"serial\": 41},{\"stick\": {\"radius\": 0.2, \"color\": \"grey\"}, \"sphere\": {\"scale\": 0.3, \"color\": \"black\"}});\n",
       "viewer_16808262528459244.render();\n",
       "});\n",
       "</script>"
      ]
     },
     "metadata": {},
     "output_type": "display_data"
    },
    {
     "data": {
      "text/plain": [
       "<py3Dmol.view at 0x7f1f782afd60>"
      ]
     },
     "execution_count": 4,
     "metadata": {},
     "output_type": "execute_result"
    }
   ],
   "source": [
    "view = comp.visualize(show_ports=True)\n",
    "style = {\n",
    "                \"stick\": {\"radius\": 0.2, \"color\": \"grey\"},\n",
    "                \"sphere\": {\"scale\": 0.3, \"color\" : \"black\"},\n",
    "    }\n",
    "view.setStyle({'model': -1, 'serial':26},style)\n",
    "view.setStyle({'model': -1, 'serial':41},style)"
   ]
  },
  {
   "cell_type": "markdown",
   "id": "82da58e8",
   "metadata": {},
   "source": [
    "We also make the two capping compounds using SMILES strings:"
   ]
  },
  {
   "cell_type": "code",
   "execution_count": 5,
   "id": "48b31918",
   "metadata": {
    "scrolled": false
   },
   "outputs": [
    {
     "data": {
      "application/3dmoljs_load.v0": "<div id=\"3dmolviewer_168082625296542\"  style=\"position: relative; width: 640px; height: 480px\">\n        <p id=\"3dmolwarning_168082625296542\" style=\"background-color:#ffcccc;color:black\">You appear to be running in JupyterLab (or JavaScript failed to load for some other reason).  You need to install the 3dmol extension: <br>\n        <tt>jupyter labextension install jupyterlab_3dmol</tt></p>\n        </div>\n<script>\n\nvar loadScriptAsync = function(uri){\n  return new Promise((resolve, reject) => {\n    var tag = document.createElement('script');\n    tag.src = uri;\n    tag.async = true;\n    tag.onload = () => {\n      resolve();\n    };\n  var firstScriptTag = document.getElementsByTagName('script')[0];\n  firstScriptTag.parentNode.insertBefore(tag, firstScriptTag);\n});\n};\n\nif(typeof $3Dmolpromise === 'undefined') {\n$3Dmolpromise = null;\n  $3Dmolpromise = loadScriptAsync('https://cdn.jsdelivr.net/npm/3dmol@latest/build/3Dmol-min.min.js');\n}\n\nvar viewer_168082625296542 = null;\nvar warn = document.getElementById(\"3dmolwarning_168082625296542\");\nif(warn) {\n    warn.parentNode.removeChild(warn);\n}\n$3Dmolpromise.then(function() {\nviewer_168082625296542 = $3Dmol.createViewer($(\"#3dmolviewer_168082625296542\"),{backgroundColor:\"white\"});\nviewer_168082625296542.zoomTo();\n\tviewer_168082625296542.addModel(\"@<TRIPOS>MOLECULE\\nRES\\n6 5 1 0 1\\nSMALL\\nNO_CHARGES\\n@<TRIPOS>CRYSIN\\n    7.5955     6.7325     6.5627    90.0000    90.0000    90.0000  1  1\\n@<TRIPOS>ATOM\\n       1 C           -0.3566    -0.0316    -0.0168 C             1 RES     \\n       2 O            0.9584    -0.4372    -0.2657 O             1 RES     \\n       3 H           -0.5386     0.0288     1.0783 H             1 RES     \\n       4 H           -1.0555    -0.7739    -0.4544 H             1 RES     \\n       5 H           -0.5477     0.9586    -0.4845 H             1 RES     \\n       6 H            1.5400     0.2553     0.1430 H             1 RES     \\n@<TRIPOS>BOND\\n       1        2        1 1\\n       2        3        1 1\\n       3        4        1 1\\n       4        5        1 1\\n       5        6        2 1\\n@<TRIPOS>SUBSTRUCTURE\\n       1 RES             1 RESIDUE    0 **** ROOT      0\\n\",\"mol2\");\n\tviewer_168082625296542.setStyle({\"stick\": {\"radius\": 0.2, \"color\": \"grey\"}, \"sphere\": {\"scale\": 0.3, \"colorscheme\": {}}});\n\tviewer_168082625296542.zoomTo();\nviewer_168082625296542.render();\n});\n</script>",
      "text/html": [
       "<div id=\"3dmolviewer_168082625296542\"  style=\"position: relative; width: 640px; height: 480px\">\n",
       "        <p id=\"3dmolwarning_168082625296542\" style=\"background-color:#ffcccc;color:black\">You appear to be running in JupyterLab (or JavaScript failed to load for some other reason).  You need to install the 3dmol extension: <br>\n",
       "        <tt>jupyter labextension install jupyterlab_3dmol</tt></p>\n",
       "        </div>\n",
       "<script>\n",
       "\n",
       "var loadScriptAsync = function(uri){\n",
       "  return new Promise((resolve, reject) => {\n",
       "    var tag = document.createElement('script');\n",
       "    tag.src = uri;\n",
       "    tag.async = true;\n",
       "    tag.onload = () => {\n",
       "      resolve();\n",
       "    };\n",
       "  var firstScriptTag = document.getElementsByTagName('script')[0];\n",
       "  firstScriptTag.parentNode.insertBefore(tag, firstScriptTag);\n",
       "});\n",
       "};\n",
       "\n",
       "if(typeof $3Dmolpromise === 'undefined') {\n",
       "$3Dmolpromise = null;\n",
       "  $3Dmolpromise = loadScriptAsync('https://cdn.jsdelivr.net/npm/3dmol@latest/build/3Dmol-min.min.js');\n",
       "}\n",
       "\n",
       "var viewer_168082625296542 = null;\n",
       "var warn = document.getElementById(\"3dmolwarning_168082625296542\");\n",
       "if(warn) {\n",
       "    warn.parentNode.removeChild(warn);\n",
       "}\n",
       "$3Dmolpromise.then(function() {\n",
       "viewer_168082625296542 = $3Dmol.createViewer($(\"#3dmolviewer_168082625296542\"),{backgroundColor:\"white\"});\n",
       "viewer_168082625296542.zoomTo();\n",
       "\tviewer_168082625296542.addModel(\"@<TRIPOS>MOLECULE\\nRES\\n6 5 1 0 1\\nSMALL\\nNO_CHARGES\\n@<TRIPOS>CRYSIN\\n    7.5955     6.7325     6.5627    90.0000    90.0000    90.0000  1  1\\n@<TRIPOS>ATOM\\n       1 C           -0.3566    -0.0316    -0.0168 C             1 RES     \\n       2 O            0.9584    -0.4372    -0.2657 O             1 RES     \\n       3 H           -0.5386     0.0288     1.0783 H             1 RES     \\n       4 H           -1.0555    -0.7739    -0.4544 H             1 RES     \\n       5 H           -0.5477     0.9586    -0.4845 H             1 RES     \\n       6 H            1.5400     0.2553     0.1430 H             1 RES     \\n@<TRIPOS>BOND\\n       1        2        1 1\\n       2        3        1 1\\n       3        4        1 1\\n       4        5        1 1\\n       5        6        2 1\\n@<TRIPOS>SUBSTRUCTURE\\n       1 RES             1 RESIDUE    0 **** ROOT      0\\n\",\"mol2\");\n",
       "\tviewer_168082625296542.setStyle({\"stick\": {\"radius\": 0.2, \"color\": \"grey\"}, \"sphere\": {\"scale\": 0.3, \"colorscheme\": {}}});\n",
       "\tviewer_168082625296542.zoomTo();\n",
       "viewer_168082625296542.render();\n",
       "});\n",
       "</script>"
      ]
     },
     "metadata": {},
     "output_type": "display_data"
    },
    {
     "data": {
      "text/plain": [
       "<py3Dmol.view at 0x7f1f782ccc40>"
      ]
     },
     "execution_count": 5,
     "metadata": {},
     "output_type": "execute_result"
    }
   ],
   "source": [
    "cap_o = mb.load('CO', smiles = True)\n",
    "cap_o.visualize()"
   ]
  },
  {
   "cell_type": "code",
   "execution_count": 6,
   "id": "98f339ae",
   "metadata": {
    "scrolled": false
   },
   "outputs": [
    {
     "data": {
      "application/3dmoljs_load.v0": "<div id=\"3dmolviewer_16808262530761971\"  style=\"position: relative; width: 640px; height: 480px\">\n        <p id=\"3dmolwarning_16808262530761971\" style=\"background-color:#ffcccc;color:black\">You appear to be running in JupyterLab (or JavaScript failed to load for some other reason).  You need to install the 3dmol extension: <br>\n        <tt>jupyter labextension install jupyterlab_3dmol</tt></p>\n        </div>\n<script>\n\nvar loadScriptAsync = function(uri){\n  return new Promise((resolve, reject) => {\n    var tag = document.createElement('script');\n    tag.src = uri;\n    tag.async = true;\n    tag.onload = () => {\n      resolve();\n    };\n  var firstScriptTag = document.getElementsByTagName('script')[0];\n  firstScriptTag.parentNode.insertBefore(tag, firstScriptTag);\n});\n};\n\nif(typeof $3Dmolpromise === 'undefined') {\n$3Dmolpromise = null;\n  $3Dmolpromise = loadScriptAsync('https://cdn.jsdelivr.net/npm/3dmol@latest/build/3Dmol-min.min.js');\n}\n\nvar viewer_16808262530761971 = null;\nvar warn = document.getElementById(\"3dmolwarning_16808262530761971\");\nif(warn) {\n    warn.parentNode.removeChild(warn);\n}\n$3Dmolpromise.then(function() {\nviewer_16808262530761971 = $3Dmol.createViewer($(\"#3dmolviewer_16808262530761971\"),{backgroundColor:\"white\"});\nviewer_16808262530761971.zoomTo();\n\tviewer_16808262530761971.addModel(\"@<TRIPOS>MOLECULE\\nRES\\n17 16 1 0 1\\nSMALL\\nNO_CHARGES\\n@<TRIPOS>CRYSIN\\n   10.1459     9.1665     9.1441    90.0000    90.0000    90.0000  1  1\\n@<TRIPOS>ATOM\\n       1 C           -0.7699     1.5203    -0.5363 C             1 RES     \\n       2 C           -0.1188     0.2072    -0.0756 C             1 RES     \\n       3 C           -0.7685    -0.2314     1.2509 C             1 RES     \\n       4 C           -0.3325    -0.8625    -1.1638 C             1 RES     \\n       5 O            1.2809     0.4683     0.1089 O             1 RES     \\n       6 C            2.2481    -0.4575     0.5254 C             1 RES     \\n       7 O            1.9539    -1.6539     0.7850 O             1 RES     \\n       8 H           -1.8618     1.3889    -0.6991 H             1 RES     \\n       9 H           -0.6194     2.3137     0.2272 H             1 RES     \\n      10 H           -0.3099     1.8657    -1.4872 H             1 RES     \\n      11 H           -0.5474     0.5091     2.0492 H             1 RES     \\n      12 H           -0.3906    -1.2212     1.5788 H             1 RES     \\n      13 H           -1.8713    -0.3123     1.1379 H             1 RES     \\n      14 H            0.2008    -0.5740    -2.0948 H             1 RES     \\n      15 H            0.0457    -1.8527    -0.8376 H             1 RES     \\n      16 H           -1.4140    -0.9742    -1.3948 H             1 RES     \\n      17 H            3.2746    -0.1334     0.6260 H             1 RES     \\n@<TRIPOS>BOND\\n       1        2        1 1\\n       2        8        1 1\\n       3        9        1 1\\n       4       10        1 1\\n       5        3        2 1\\n       6        4        2 1\\n       7        5        2 1\\n       8       11        3 1\\n       9       12        3 1\\n      10       13        3 1\\n      11       14        4 1\\n      12       15        4 1\\n      13       16        4 1\\n      14        6        5 1\\n      15        7        6 1\\n      16       17        6 1\\n@<TRIPOS>SUBSTRUCTURE\\n       1 RES             1 RESIDUE    0 **** ROOT      0\\n\",\"mol2\");\n\tviewer_16808262530761971.setStyle({\"stick\": {\"radius\": 0.2, \"color\": \"grey\"}, \"sphere\": {\"scale\": 0.3, \"colorscheme\": {}}});\n\tviewer_16808262530761971.zoomTo();\nviewer_16808262530761971.render();\n});\n</script>",
      "text/html": [
       "<div id=\"3dmolviewer_16808262530761971\"  style=\"position: relative; width: 640px; height: 480px\">\n",
       "        <p id=\"3dmolwarning_16808262530761971\" style=\"background-color:#ffcccc;color:black\">You appear to be running in JupyterLab (or JavaScript failed to load for some other reason).  You need to install the 3dmol extension: <br>\n",
       "        <tt>jupyter labextension install jupyterlab_3dmol</tt></p>\n",
       "        </div>\n",
       "<script>\n",
       "\n",
       "var loadScriptAsync = function(uri){\n",
       "  return new Promise((resolve, reject) => {\n",
       "    var tag = document.createElement('script');\n",
       "    tag.src = uri;\n",
       "    tag.async = true;\n",
       "    tag.onload = () => {\n",
       "      resolve();\n",
       "    };\n",
       "  var firstScriptTag = document.getElementsByTagName('script')[0];\n",
       "  firstScriptTag.parentNode.insertBefore(tag, firstScriptTag);\n",
       "});\n",
       "};\n",
       "\n",
       "if(typeof $3Dmolpromise === 'undefined') {\n",
       "$3Dmolpromise = null;\n",
       "  $3Dmolpromise = loadScriptAsync('https://cdn.jsdelivr.net/npm/3dmol@latest/build/3Dmol-min.min.js');\n",
       "}\n",
       "\n",
       "var viewer_16808262530761971 = null;\n",
       "var warn = document.getElementById(\"3dmolwarning_16808262530761971\");\n",
       "if(warn) {\n",
       "    warn.parentNode.removeChild(warn);\n",
       "}\n",
       "$3Dmolpromise.then(function() {\n",
       "viewer_16808262530761971 = $3Dmol.createViewer($(\"#3dmolviewer_16808262530761971\"),{backgroundColor:\"white\"});\n",
       "viewer_16808262530761971.zoomTo();\n",
       "\tviewer_16808262530761971.addModel(\"@<TRIPOS>MOLECULE\\nRES\\n17 16 1 0 1\\nSMALL\\nNO_CHARGES\\n@<TRIPOS>CRYSIN\\n   10.1459     9.1665     9.1441    90.0000    90.0000    90.0000  1  1\\n@<TRIPOS>ATOM\\n       1 C           -0.7699     1.5203    -0.5363 C             1 RES     \\n       2 C           -0.1188     0.2072    -0.0756 C             1 RES     \\n       3 C           -0.7685    -0.2314     1.2509 C             1 RES     \\n       4 C           -0.3325    -0.8625    -1.1638 C             1 RES     \\n       5 O            1.2809     0.4683     0.1089 O             1 RES     \\n       6 C            2.2481    -0.4575     0.5254 C             1 RES     \\n       7 O            1.9539    -1.6539     0.7850 O             1 RES     \\n       8 H           -1.8618     1.3889    -0.6991 H             1 RES     \\n       9 H           -0.6194     2.3137     0.2272 H             1 RES     \\n      10 H           -0.3099     1.8657    -1.4872 H             1 RES     \\n      11 H           -0.5474     0.5091     2.0492 H             1 RES     \\n      12 H           -0.3906    -1.2212     1.5788 H             1 RES     \\n      13 H           -1.8713    -0.3123     1.1379 H             1 RES     \\n      14 H            0.2008    -0.5740    -2.0948 H             1 RES     \\n      15 H            0.0457    -1.8527    -0.8376 H             1 RES     \\n      16 H           -1.4140    -0.9742    -1.3948 H             1 RES     \\n      17 H            3.2746    -0.1334     0.6260 H             1 RES     \\n@<TRIPOS>BOND\\n       1        2        1 1\\n       2        8        1 1\\n       3        9        1 1\\n       4       10        1 1\\n       5        3        2 1\\n       6        4        2 1\\n       7        5        2 1\\n       8       11        3 1\\n       9       12        3 1\\n      10       13        3 1\\n      11       14        4 1\\n      12       15        4 1\\n      13       16        4 1\\n      14        6        5 1\\n      15        7        6 1\\n      16       17        6 1\\n@<TRIPOS>SUBSTRUCTURE\\n       1 RES             1 RESIDUE    0 **** ROOT      0\\n\",\"mol2\");\n",
       "\tviewer_16808262530761971.setStyle({\"stick\": {\"radius\": 0.2, \"color\": \"grey\"}, \"sphere\": {\"scale\": 0.3, \"colorscheme\": {}}});\n",
       "\tviewer_16808262530761971.zoomTo();\n",
       "viewer_16808262530761971.render();\n",
       "});\n",
       "</script>"
      ]
     },
     "metadata": {},
     "output_type": "display_data"
    },
    {
     "data": {
      "text/plain": [
       "<py3Dmol.view at 0x7f1f70279100>"
      ]
     },
     "execution_count": 6,
     "metadata": {},
     "output_type": "execute_result"
    }
   ],
   "source": [
    "cap_n = mb.load('CC(C)(C)OC=O', smiles = True)\n",
    "cap_n.visualize()"
   ]
  },
  {
   "cell_type": "markdown",
   "id": "21187d37",
   "metadata": {},
   "source": [
    "Here we use the `Polymer` object to build a hexamer from the molecules we built in the previous cells. `Polymer.add_monomer()` is used to add the monomers to the polymer object. `Polymer.add_end_groups()` adds the capping groups to the object with `\"head\"` and `\"tail\"` labels for the each end of the polymer. `replace = True` will replace the specified atoms with the next residue. `indices` is used to specify which atom will be replaced in each group. Finally, when we call `Polymer.build()`, the polymer is built with the specified `n` residues and the provided capping residues. `sequence` is used if multiple monomers are provided."
   ]
  },
  {
   "cell_type": "code",
   "execution_count": 7,
   "id": "e6206e9d",
   "metadata": {},
   "outputs": [],
   "source": [
    "chain = Polymer()\n",
    "chain.add_monomer(compound=comp,\n",
    "                  indices=[25, 40],\n",
    "                  separation=.15,\n",
    "                  replace=True,\n",
    "                  # orientation = [[0,-1,0],[1,0,0]]\n",
    "                 )\n",
    "chain.add_end_groups(compound = cap_o,\n",
    "                     index = -1,\n",
    "                     separation=0.15,\n",
    "                     label=\"head\",\n",
    "                     duplicate = False\n",
    "                    )\n",
    "\n",
    "chain.add_end_groups(compound = cap_n,\n",
    "                     index = -1,\n",
    "                     separation=0.15,\n",
    "                     label=\"tail\",\n",
    "                     duplicate = False\n",
    "                    )\n",
    "\n",
    "chain.build(n=6, sequence='A')"
   ]
  },
  {
   "cell_type": "code",
   "execution_count": 8,
   "id": "b7e07dc0",
   "metadata": {},
   "outputs": [
    {
     "data": {
      "application/3dmoljs_load.v0": "<div id=\"3dmolviewer_16808262536117017\"  style=\"position: relative; width: 640px; height: 480px\">\n        <p id=\"3dmolwarning_16808262536117017\" style=\"background-color:#ffcccc;color:black\">You appear to be running in JupyterLab (or JavaScript failed to load for some other reason).  You need to install the 3dmol extension: <br>\n        <tt>jupyter labextension install jupyterlab_3dmol</tt></p>\n        </div>\n<script>\n\nvar loadScriptAsync = function(uri){\n  return new Promise((resolve, reject) => {\n    var tag = document.createElement('script');\n    tag.src = uri;\n    tag.async = true;\n    tag.onload = () => {\n      resolve();\n    };\n  var firstScriptTag = document.getElementsByTagName('script')[0];\n  firstScriptTag.parentNode.insertBefore(tag, firstScriptTag);\n});\n};\n\nif(typeof $3Dmolpromise === 'undefined') {\n$3Dmolpromise = null;\n  $3Dmolpromise = loadScriptAsync('https://cdn.jsdelivr.net/npm/3dmol@latest/build/3Dmol-min.min.js');\n}\n\nvar viewer_16808262536117017 = null;\nvar warn = document.getElementById(\"3dmolwarning_16808262536117017\");\nif(warn) {\n    warn.parentNode.removeChild(warn);\n}\n$3Dmolpromise.then(function() {\nviewer_16808262536117017 = $3Dmol.createViewer($(\"#3dmolviewer_16808262536117017\"),{backgroundColor:\"white\"});\nviewer_16808262536117017.zoomTo();\n\tviewer_16808262536117017.addModel(\"@<TRIPOS>MOLECULE\\nRES\\n285 302 1 0 1\\nSMALL\\nNO_CHARGES\\n@<TRIPOS>CRYSIN\\n   40.4903    27.8793    32.8775    90.0000    90.0000    90.0000  1  1\\n@<TRIPOS>ATOM\\n       1 C           -3.0021    -4.9111     0.1167 C             1 RES     \\n       2 O           -3.8790    -5.4074    -0.6395 O             1 RES     \\n       3 C           -2.7172    -3.4646     0.1056 C             1 RES     \\n       4 C           -1.7345    -2.9453     0.9614 C             1 RES     \\n       5 C           -1.4499    -1.5771     0.9631 C             1 RES     \\n       6 C           -2.1376    -0.7072     0.1013 C             1 RES     \\n       7 C           -1.8309     0.7439     0.0931 C             1 RES     \\n       8 C           -0.5127     1.2341    -0.0912 C             1 RES     \\n       9 C           -0.2750     2.6169    -0.0112 C             1 RES     \\n      10 C           -1.3190     3.5169     0.2221 C             1 RES     \\n      11 O           -1.0166     4.8854     0.2851 O             1 RES     \\n      12 C           -1.9768     5.9116     0.5142 C             1 RES     \\n      13 C           -2.6259     3.0264     0.3800 C             1 RES     \\n      14 C           -2.8761     1.6549     0.3155 C             1 RES     \\n      15 C            0.6231     0.3353    -0.4080 C             1 RES     \\n      16 C            0.5583    -0.5314    -1.5102 C             1 RES     \\n      17 C            1.6242    -1.3848    -1.7976 C             1 RES     \\n      18 C            2.7669    -1.3768    -0.9950 C             1 RES     \\n      19 C            2.8583    -0.5057     0.1065 C             1 RES     \\n      20 C            1.7788     0.3497     0.3902 C             1 RES     \\n      21 C            4.0917    -0.4897     0.9941 C             1 RES     \\n      22 N            4.2784    -1.7757     1.6701 N             1 RES     \\n      23 C            5.3486    -0.1181     0.2013 C             1 RES     \\n      24 C           -3.1297    -1.2247    -0.7463 C             1 RES     \\n      25 C           -3.4155    -2.5930    -0.7473 C             1 RES     \\n      26 H           -1.1881    -3.5987     1.6306 H             1 RES     \\n      27 H           -0.6948    -1.1957     1.6395 H             1 RES     \\n      28 H            0.7278     3.0029    -0.1525 H             1 RES     \\n      29 H           -1.4634     6.8948     0.5148 H             1 RES     \\n      30 H           -2.4646     5.7646     1.5010 H             1 RES     \\n      31 H           -2.7388     5.9088    -0.2936 H             1 RES     \\n      32 H           -3.4556     3.6960     0.5607 H             1 RES     \\n      33 H           -3.8891     1.2999     0.4623 H             1 RES     \\n      34 H           -0.3171    -0.5446    -2.1477 H             1 RES     \\n      35 H            1.5651    -2.0544    -2.6459 H             1 RES     \\n      36 H            3.5790    -2.0496    -1.2373 H             1 RES     \\n      37 H            1.8278     1.0174     1.2423 H             1 RES     \\n      38 H            3.9723     0.2887     1.7807 H             1 RES     \\n      39 H            4.3948    -2.5371     0.9628 H             1 RES     \\n      40 H            5.5828    -0.8883    -0.5635 H             1 RES     \\n      41 H            6.2156    -0.0334     0.8905 H             1 RES     \\n      42 H            5.2054     0.8610    -0.3040 H             1 RES     \\n      43 H           -3.6721    -0.5702    -1.4176 H             1 RES     \\n      44 H           -4.1799    -2.9683    -1.4162 H             1 RES     \\n      45 C            3.0430    -2.0838     2.4631 C             1 RES     \\n      46 O            2.0276    -2.5250     1.8619 O             1 RES     \\n      47 C            3.0308    -1.8690     3.9216 C             1 RES     \\n      48 C            4.1794    -1.3771     4.5592 C             1 RES     \\n      49 C            4.1855    -1.1656     5.9405 C             1 RES     \\n      50 C            3.0385    -1.4339     6.7055 C             1 RES     \\n      51 C            3.0380    -1.2008     8.1702 C             1 RES     \\n      52 C            3.4020     0.0486     8.7342 C             1 RES     \\n      53 C            3.4565     0.1833    10.1320 C             1 RES     \\n      54 C            3.1345    -0.8855    10.9737 C             1 RES     \\n      55 O            3.2031    -0.6848    12.3605 O             1 RES     \\n      56 C            2.9028    -1.6805    13.3331 C             1 RES     \\n      57 C            2.7518    -2.1133    10.4084 C             1 RES     \\n      58 C            2.7047    -2.2663     9.0221 C             1 RES     \\n      59 C            3.6888     1.2365     7.8945 C             1 RES     \\n      60 C            2.7476     1.6883     6.9563 C             1 RES     \\n      61 C            3.0266     2.7990     6.1589 C             1 RES     \\n      62 C            4.2414     3.4741     6.2947 C             1 RES     \\n      63 C            5.1931     3.0464     7.2390 C             1 RES     \\n      64 C            4.9047     1.9250     8.0372 C             1 RES     \\n      65 C            6.5227     3.7655     7.3943 C             1 RES     \\n      66 N            7.3219     3.6782     6.1698 N             1 RES     \\n      67 C            6.3247     5.2302     7.7968 C             1 RES     \\n      68 C            1.8930    -1.9379     6.0696 C             1 RES     \\n      69 C            1.8872    -2.1508     4.6880 C             1 RES     \\n      70 H            5.0735    -1.1583     3.9881 H             1 RES     \\n      71 H            5.0864    -0.7954     6.4141 H             1 RES     \\n      72 H            3.7312     1.1339    10.5740 H             1 RES     \\n      73 H            3.0405    -1.2507    14.3463 H             1 RES     \\n      74 H            3.5888    -2.5461    13.2178 H             1 RES     \\n      75 H            1.8480    -2.0115    13.2276 H             1 RES     \\n      76 H            2.4957    -2.9592    11.0316 H             1 RES     \\n      77 H            2.4278    -3.2295     8.6106 H             1 RES     \\n      78 H            1.7973     1.1812     6.8437 H             1 RES     \\n      79 H            2.2985     3.1385     5.4337 H             1 RES     \\n      80 H            4.4350     4.3313     5.6633 H             1 RES     \\n      81 H            5.6320     1.5749     8.7601 H             1 RES     \\n      82 H            7.1087     3.2892     8.2120 H             1 RES     \\n      83 H            6.8043     4.1167     5.3738 H             1 RES     \\n      84 H            5.8075     5.7999     6.9963 H             1 RES     \\n      85 H            7.3115     5.7048     7.9833 H             1 RES     \\n      86 H            5.7243     5.2915     8.7297 H             1 RES     \\n      87 H            0.9988    -2.1521     6.6419 H             1 RES     \\n      88 H            0.9883    -2.5329     4.2204 H             1 RES     \\n      89 C            7.5238     2.2309     5.8317 C             1 RES     \\n      90 O            6.5825     1.5957     5.2861 O             1 RES     \\n      91 C            8.8079     1.5746     6.1387 C             1 RES     \\n      92 C            9.8351     2.3119     6.7460 C             1 RES     \\n      93 C           11.0581     1.7059     7.0459 C             1 RES     \\n      94 C           11.2698     0.3490     6.7517 C             1 RES     \\n      95 C           12.5629    -0.3000     7.0781 C             1 RES     \\n      96 C           13.1178    -0.2596     8.3827 C             1 RES     \\n      97 C           14.3834    -0.8268     8.6104 C             1 RES     \\n      98 C           15.0914    -1.4506     7.5789 C             1 RES     \\n      99 O           16.3474    -2.0024     7.8726 O             1 RES     \\n     100 C           17.1760    -2.6664     6.9239 C             1 RES     \\n     101 C           14.5253    -1.5080     6.2946 C             1 RES     \\n     102 C           13.2749    -0.9386     6.0499 C             1 RES     \\n     103 C           12.3859     0.3280     9.5305 C             1 RES     \\n     104 C           11.0969    -0.1213     9.8573 C             1 RES     \\n     105 C           10.4063     0.4431    10.9304 C             1 RES     \\n     106 C           10.9963     1.4537    11.6923 C             1 RES     \\n     107 C           12.2933     1.9091    11.3905 C             1 RES     \\n     108 C           12.9815     1.3362    10.3062 C             1 RES     \\n     109 C           12.9467     3.0130    12.2051 C             1 RES     \\n     110 N           12.2029     4.2699    12.0926 N             1 RES     \\n     111 C           13.0944     2.6123    13.6762 C             1 RES     \\n     112 C           10.2465    -0.3858     6.1327 C             1 RES     \\n     113 C            9.0235     0.2204     5.8314 C             1 RES     \\n     114 H            9.6918     3.3583     6.9866 H             1 RES     \\n     115 H           11.8414     2.2963     7.5051 H             1 RES     \\n     116 H           14.8162    -0.8036     9.6037 H             1 RES     \\n     117 H           18.1070    -2.9999     7.4263 H             1 RES     \\n     118 H           17.4455    -1.9720     6.1002 H             1 RES     \\n     119 H           16.6525    -3.5574     6.5173 H             1 RES     \\n     120 H           15.0466    -1.9840     5.4754 H             1 RES     \\n     121 H           12.8696    -0.9766     5.0458 H             1 RES     \\n     122 H           10.6278    -0.9099     9.2818 H             1 RES     \\n     123 H            9.4105     0.0955    11.1733 H             1 RES     \\n     124 H           10.4395     1.8769    12.5180 H             1 RES     \\n     125 H           13.9758     1.6843    10.0525 H             1 RES     \\n     126 H           13.9757     3.1966    11.8225 H             1 RES     \\n     127 H           11.2265     4.1393    12.4434 H             1 RES     \\n     128 H           12.1026     2.4799    14.1575 H             1 RES     \\n     129 H           13.6485     3.4023    14.2265 H             1 RES     \\n     130 H           13.6652     1.6624    13.7574 H             1 RES     \\n     131 H           10.3904    -1.4331     5.8967 H             1 RES     \\n     132 H            8.2474    -0.3704     5.3610 H             1 RES     \\n     133 C           12.1133     4.6453    10.6431 C             1 RES     \\n     134 O           11.2709     4.0585     9.9129 O             1 RES     \\n     135 C           13.0028     5.6855    10.0949 C             1 RES     \\n     136 C           13.9289     6.3192    10.9365 C             1 RES     \\n     137 C           14.7811     7.3061    10.4339 C             1 RES     \\n     138 C           14.7272     7.6682     9.0779 C             1 RES     \\n     139 C           15.6373     8.7078     8.5388 C             1 RES     \\n     140 C           17.0445     8.6341     8.7000 C             1 RES     \\n     141 C           17.8471     9.6895     8.2342 C             1 RES     \\n     142 C           17.2835    10.7971     7.5938 C             1 RES     \\n     143 O           18.1398    11.8146     7.1469 O             1 RES     \\n     144 C           17.7062    12.9955     6.4798 C             1 RES     \\n     145 C           15.8911    10.8525     7.4162 C             1 RES     \\n     146 C           15.0797     9.8180     7.8842 C             1 RES     \\n     147 C           17.7052     7.4553     9.3103 C             1 RES     \\n     148 C           17.4781     6.1683     8.7981 C             1 RES     \\n     149 C           18.0918     5.0601     9.3832 C             1 RES     \\n     150 C           18.9430     5.2246    10.4778 C             1 RES     \\n     151 C           19.1955     6.5076    10.9981 C             1 RES     \\n     152 C           18.5715     7.6189    10.4037 C             1 RES     \\n     153 C           20.1135     6.7031    12.1932 C             1 RES     \\n     154 N           19.5805     6.0441    13.3879 N             1 RES     \\n     155 C           21.5316     6.2046    11.8988 C             1 RES     \\n     156 C           13.7920     7.0431     8.2383 C             1 RES     \\n     157 C           12.9385     6.0568     8.7411 C             1 RES     \\n     158 H           13.9914     6.0519    11.9844 H             1 RES     \\n     159 H           15.4814     7.7902    11.1035 H             1 RES     \\n     160 H           18.9236     9.6429     8.3500 H             1 RES     \\n     161 H           18.5896    13.6227     6.2421 H             1 RES     \\n     162 H           17.0241    13.5762     7.1361 H             1 RES     \\n     163 H           17.1920    12.7315     5.5316 H             1 RES     \\n     164 H           15.4241    11.6946     6.9242 H             1 RES     \\n     165 H           14.0067     9.8945     7.7547 H             1 RES     \\n     166 H           16.8271     6.0238     7.9447 H             1 RES     \\n     167 H           17.9078     4.0700     8.9865 H             1 RES     \\n     168 H           19.4051     4.3494    10.9152 H             1 RES     \\n     169 H           18.7451     8.6123    10.8002 H             1 RES     \\n     170 H           20.2008     7.7893    12.4200 H             1 RES     \\n     171 H           19.4828     5.0173    13.2155 H             1 RES     \\n     172 H           21.5445     5.1069    11.7319 H             1 RES     \\n     173 H           22.1967     6.4363    12.7577 H             1 RES     \\n     174 H           21.9347     6.7120    10.9963 H             1 RES     \\n     175 H           13.7339     7.3090     7.1899 H             1 RES     \\n     176 H           12.2314     5.5842     8.0709 H             1 RES     \\n     177 C           18.2091     6.5861    13.6625 C             1 RES     \\n     178 O           17.2399     6.1675    12.9751 O             1 RES     \\n     179 C           18.0128     7.5923    14.7221 C             1 RES     \\n     180 C           19.1142     8.0358    15.4690 C             1 RES     \\n     181 C           18.9474     8.9903    16.4760 C             1 RES     \\n     182 C           17.6765     9.5239    16.7457 C             1 RES     \\n     183 C           17.4974    10.5446    17.8067 C             1 RES     \\n     184 C           18.2589    11.7408    17.8373 C             1 RES     \\n     185 C           18.0975    12.6324    18.9117 C             1 RES     \\n     186 C           17.1824    12.3711    19.9357 C             1 RES     \\n     187 O           17.0645    13.3038    20.9771 O             1 RES     \\n     188 C           16.1755    13.1687    22.0811 C             1 RES     \\n     189 C           16.4142    11.1960    19.8867 C             1 RES     \\n     190 C           16.5719    10.2949    18.8328 C             1 RES     \\n     191 C           19.1953    12.1048    16.7469 C             1 RES     \\n     192 C           18.7494    12.1658    15.4174 C             1 RES     \\n     193 C           19.6368    12.4963    14.3924 C             1 RES     \\n     194 C           20.9734    12.7768    14.6833 C             1 RES     \\n     195 C           21.4379    12.7351    16.0111 C             1 RES     \\n     196 C           20.5375    12.3993    17.0378 C             1 RES     \\n     197 C           22.8909    13.0306    16.3438 C             1 RES     \\n     198 N           23.7884    12.0496    15.7291 N             1 RES     \\n     199 C           23.2855    14.4496    15.9229 C             1 RES     \\n     200 C           16.5722     9.0711    16.0069 C             1 RES     \\n     201 C           16.7386     8.1153    15.0004 C             1 RES     \\n     202 H           20.1044     7.6418    15.2744 H             1 RES     \\n     203 H           19.8095     9.3110    17.0477 H             1 RES     \\n     204 H           18.6724    13.5504    18.9443 H             1 RES     \\n     205 H           16.2910    14.0466    22.7491 H             1 RES     \\n     206 H           16.4176    12.2500    22.6561 H             1 RES     \\n     207 H           15.1250    13.1302    21.7229 H             1 RES     \\n     208 H           15.6971    10.9650    20.6625 H             1 RES     \\n     209 H           15.9836     9.3851    18.8292 H             1 RES     \\n     210 H           17.7143    11.9591    15.1751 H             1 RES     \\n     211 H           19.2873    12.5362    13.3688 H             1 RES     \\n     212 H           21.6423    13.0283    13.8708 H             1 RES     \\n     213 H           20.8819    12.3501    18.0640 H             1 RES     \\n     214 H           23.0376    12.9752    17.4458 H             1 RES     \\n     215 H           23.6807    12.0700    14.6891 H             1 RES     \\n     216 H           23.2369    14.5690    14.8201 H             1 RES     \\n     217 H           24.3241    14.6638    16.2533 H             1 RES     \\n     218 H           22.6068    15.1907    16.3969 H             1 RES     \\n     219 H           15.5837     9.4694    16.2002 H             1 RES     \\n     220 H           15.8719     7.7884    14.4396 H             1 RES     \\n     221 C           23.3925    10.6799    16.1952 C             1 RES     \\n     222 O           22.3920    10.1233    15.6696 O             1 RES     \\n     223 C           24.1701    10.0078    17.2522 C             1 RES     \\n     224 C           25.2791    10.6564    17.8153 C             1 RES     \\n     225 C           26.0267    10.0353    18.8194 C             1 RES     \\n     226 C           25.6708     8.7584    19.2834 C             1 RES     \\n     227 C           26.4558     8.1005    20.3562 C             1 RES     \\n     228 C           26.7096     8.7333    21.5999 C             1 RES     \\n     229 C           27.5255     8.0897    22.5460 C             1 RES     \\n     230 C           28.0696     6.8274    22.2909 C             1 RES     \\n     231 O           28.8712     6.2360    23.2788 O             1 RES     \\n     232 C           29.4873     4.9582    23.1561 C             1 RES     \\n     233 C           27.7946     6.1960    21.0665 C             1 RES     \\n     234 C           26.9963     6.8276    20.1119 C             1 RES     \\n     235 C           26.1063    10.0405    21.9544 C             1 RES     \\n     236 C           24.7153    10.2200    21.8999 C             1 RES     \\n     237 C           24.1523    11.4555    22.2221 C             1 RES     \\n     238 C           24.9687    12.5202    22.6090 C             1 RES     \\n     239 C           26.3646    12.3577    22.6839 C             1 RES     \\n     240 C           26.9239    11.1098    22.3558 C             1 RES     \\n     241 C           27.2676    13.5082    23.0963 C             1 RES     \\n     242 N           27.1910    14.6149    22.1397 N             1 RES     \\n     243 C           26.9379    14.0019    24.5083 C             1 RES     \\n     244 C           24.5686     8.1039    18.7114 C             1 RES     \\n     245 C           23.8214     8.7244    17.7061 C             1 RES     \\n     246 H           25.5684    11.6437    17.4763 H             1 RES     \\n     247 H           26.8856    10.5495    19.2329 H             1 RES     \\n     248 H           27.7243     8.5628    23.5005 H             1 RES     \\n     249 H           30.0601     4.7417    24.0810 H             1 RES     \\n     250 H           30.1879     4.9532    22.2946 H             1 RES     \\n     251 H           28.7137     4.1723    23.0248 H             1 RES     \\n     252 H           28.1993     5.2194    20.8387 H             1 RES     \\n     253 H           26.8170     6.3295    19.1666 H             1 RES     \\n     254 H           24.0669     9.4024    21.6096 H             1 RES     \\n     255 H           23.0793    11.5883    22.1725 H             1 RES     \\n     256 H           24.5083    13.4689    22.8517 H             1 RES     \\n     257 H           27.9979    10.9716    22.3958 H             1 RES     \\n     258 H           28.3243    13.1594    23.1219 H             1 RES     \\n     259 H           26.2099    14.9727    22.0859 H             1 RES     \\n     260 H           25.9174    14.4372    24.5530 H             1 RES     \\n     261 H           27.6661    14.7837    24.8121 H             1 RES     \\n     262 H           27.0040    13.1611    25.2316 H             1 RES     \\n     263 H           24.2785     7.1184    19.0546 H             1 RES     \\n     264 H           22.9709     8.2016    17.2867 H             1 RES     \\n     265 C           -3.0147    -6.9769     1.1625 C             1 RES     \\n     266 O           -2.2420    -5.8179     1.0386 O             1 RES     \\n     267 H           -4.0087    -6.7308     1.5953 H             1 RES     \\n     268 H           -2.4975    -7.6887     1.8382 H             1 RES     \\n     269 H           -3.1464    -7.4581     0.1690 H             1 RES     \\n     270 C           30.5898    12.1424    19.7216 C             1 RES     \\n     271 C           29.2520    12.8252    19.3981 C             1 RES     \\n     272 C           29.4981    13.9321    18.3549 C             1 RES     \\n     273 C           28.2748    11.7688    18.8475 C             1 RES     \\n     274 O           28.7536    13.3858    20.6223 O             1 RES     \\n     275 C           27.5564    14.0986    20.7796 C             1 RES     \\n     276 O           26.7812    14.3166    19.8116 O             1 RES     \\n     277 H           31.0344    11.6838    18.8117 H             1 RES     \\n     278 H           31.3104    12.8819    20.1328 H             1 RES     \\n     279 H           30.4419    11.3460    20.4825 H             1 RES     \\n     280 H           30.1443    14.7272    18.7849 H             1 RES     \\n     281 H           28.5464    14.3963    18.0252 H             1 RES     \\n     282 H           29.9998    13.5160    17.4546 H             1 RES     \\n     283 H           28.0448    11.0146    19.6302 H             1 RES     \\n     284 H           27.3222    12.2314    18.5181 H             1 RES     \\n     285 H           28.7167    11.2469    17.9712 H             1 RES     \\n@<TRIPOS>BOND\\n       1        2        1 1\\n       2        3        1 1\\n       3      266        1 1\\n       4        4        3 1\\n       5       25        3 1\\n       6        5        4 1\\n       7       26        4 1\\n       8        6        5 1\\n       9       27        5 1\\n      10        7        6 1\\n      11       24        6 1\\n      12        8        7 1\\n      13       14        7 1\\n      14        9        8 1\\n      15       15        8 1\\n      16       10        9 1\\n      17       28        9 1\\n      18       11       10 1\\n      19       13       10 1\\n      20       12       11 1\\n      21       29       12 1\\n      22       30       12 1\\n      23       31       12 1\\n      24       14       13 1\\n      25       32       13 1\\n      26       33       14 1\\n      27       16       15 1\\n      28       20       15 1\\n      29       17       16 1\\n      30       34       16 1\\n      31       18       17 1\\n      32       35       17 1\\n      33       19       18 1\\n      34       36       18 1\\n      35       20       19 1\\n      36       21       19 1\\n      37       37       20 1\\n      38       22       21 1\\n      39       23       21 1\\n      40       38       21 1\\n      41       39       22 1\\n      42       45       22 1\\n      43       40       23 1\\n      44       41       23 1\\n      45       42       23 1\\n      46       25       24 1\\n      47       43       24 1\\n      48       44       25 1\\n      49       46       45 1\\n      50       47       45 1\\n      51       48       47 1\\n      52       69       47 1\\n      53       49       48 1\\n      54       70       48 1\\n      55       50       49 1\\n      56       71       49 1\\n      57       51       50 1\\n      58       68       50 1\\n      59       52       51 1\\n      60       58       51 1\\n      61       53       52 1\\n      62       59       52 1\\n      63       54       53 1\\n      64       72       53 1\\n      65       55       54 1\\n      66       57       54 1\\n      67       56       55 1\\n      68       73       56 1\\n      69       74       56 1\\n      70       75       56 1\\n      71       58       57 1\\n      72       76       57 1\\n      73       77       58 1\\n      74       60       59 1\\n      75       64       59 1\\n      76       61       60 1\\n      77       78       60 1\\n      78       62       61 1\\n      79       79       61 1\\n      80       63       62 1\\n      81       80       62 1\\n      82       64       63 1\\n      83       65       63 1\\n      84       81       64 1\\n      85       66       65 1\\n      86       67       65 1\\n      87       82       65 1\\n      88       83       66 1\\n      89       89       66 1\\n      90       84       67 1\\n      91       85       67 1\\n      92       86       67 1\\n      93       69       68 1\\n      94       87       68 1\\n      95       88       69 1\\n      96       90       89 1\\n      97       91       89 1\\n      98       92       91 1\\n      99      113       91 1\\n     100       93       92 1\\n     101      114       92 1\\n     102       94       93 1\\n     103      115       93 1\\n     104       95       94 1\\n     105      112       94 1\\n     106       96       95 1\\n     107      102       95 1\\n     108       97       96 1\\n     109      103       96 1\\n     110       98       97 1\\n     111      116       97 1\\n     112       99       98 1\\n     113      101       98 1\\n     114      100       99 1\\n     115      117      100 1\\n     116      118      100 1\\n     117      119      100 1\\n     118      102      101 1\\n     119      120      101 1\\n     120      121      102 1\\n     121      104      103 1\\n     122      108      103 1\\n     123      105      104 1\\n     124      122      104 1\\n     125      106      105 1\\n     126      123      105 1\\n     127      107      106 1\\n     128      124      106 1\\n     129      108      107 1\\n     130      109      107 1\\n     131      125      108 1\\n     132      110      109 1\\n     133      111      109 1\\n     134      126      109 1\\n     135      127      110 1\\n     136      133      110 1\\n     137      128      111 1\\n     138      129      111 1\\n     139      130      111 1\\n     140      113      112 1\\n     141      131      112 1\\n     142      132      113 1\\n     143      134      133 1\\n     144      135      133 1\\n     145      136      135 1\\n     146      157      135 1\\n     147      137      136 1\\n     148      158      136 1\\n     149      138      137 1\\n     150      159      137 1\\n     151      139      138 1\\n     152      156      138 1\\n     153      140      139 1\\n     154      146      139 1\\n     155      141      140 1\\n     156      147      140 1\\n     157      142      141 1\\n     158      160      141 1\\n     159      143      142 1\\n     160      145      142 1\\n     161      144      143 1\\n     162      161      144 1\\n     163      162      144 1\\n     164      163      144 1\\n     165      146      145 1\\n     166      164      145 1\\n     167      165      146 1\\n     168      148      147 1\\n     169      152      147 1\\n     170      149      148 1\\n     171      166      148 1\\n     172      150      149 1\\n     173      167      149 1\\n     174      151      150 1\\n     175      168      150 1\\n     176      152      151 1\\n     177      153      151 1\\n     178      169      152 1\\n     179      154      153 1\\n     180      155      153 1\\n     181      170      153 1\\n     182      171      154 1\\n     183      177      154 1\\n     184      172      155 1\\n     185      173      155 1\\n     186      174      155 1\\n     187      157      156 1\\n     188      175      156 1\\n     189      176      157 1\\n     190      178      177 1\\n     191      179      177 1\\n     192      180      179 1\\n     193      201      179 1\\n     194      181      180 1\\n     195      202      180 1\\n     196      182      181 1\\n     197      203      181 1\\n     198      183      182 1\\n     199      200      182 1\\n     200      184      183 1\\n     201      190      183 1\\n     202      185      184 1\\n     203      191      184 1\\n     204      186      185 1\\n     205      204      185 1\\n     206      187      186 1\\n     207      189      186 1\\n     208      188      187 1\\n     209      205      188 1\\n     210      206      188 1\\n     211      207      188 1\\n     212      190      189 1\\n     213      208      189 1\\n     214      209      190 1\\n     215      192      191 1\\n     216      196      191 1\\n     217      193      192 1\\n     218      210      192 1\\n     219      194      193 1\\n     220      211      193 1\\n     221      195      194 1\\n     222      212      194 1\\n     223      196      195 1\\n     224      197      195 1\\n     225      213      196 1\\n     226      198      197 1\\n     227      199      197 1\\n     228      214      197 1\\n     229      215      198 1\\n     230      221      198 1\\n     231      216      199 1\\n     232      217      199 1\\n     233      218      199 1\\n     234      201      200 1\\n     235      219      200 1\\n     236      220      201 1\\n     237      222      221 1\\n     238      223      221 1\\n     239      224      223 1\\n     240      245      223 1\\n     241      225      224 1\\n     242      246      224 1\\n     243      226      225 1\\n     244      247      225 1\\n     245      227      226 1\\n     246      244      226 1\\n     247      228      227 1\\n     248      234      227 1\\n     249      229      228 1\\n     250      235      228 1\\n     251      230      229 1\\n     252      248      229 1\\n     253      231      230 1\\n     254      233      230 1\\n     255      232      231 1\\n     256      249      232 1\\n     257      250      232 1\\n     258      251      232 1\\n     259      234      233 1\\n     260      252      233 1\\n     261      253      234 1\\n     262      236      235 1\\n     263      240      235 1\\n     264      237      236 1\\n     265      254      236 1\\n     266      238      237 1\\n     267      255      237 1\\n     268      239      238 1\\n     269      256      238 1\\n     270      240      239 1\\n     271      241      239 1\\n     272      257      240 1\\n     273      242      241 1\\n     274      243      241 1\\n     275      258      241 1\\n     276      259      242 1\\n     277      275      242 1\\n     278      260      243 1\\n     279      261      243 1\\n     280      262      243 1\\n     281      245      244 1\\n     282      263      244 1\\n     283      264      245 1\\n     284      266      265 1\\n     285      267      265 1\\n     286      268      265 1\\n     287      269      265 1\\n     288      271      270 1\\n     289      277      270 1\\n     290      278      270 1\\n     291      279      270 1\\n     292      272      271 1\\n     293      273      271 1\\n     294      274      271 1\\n     295      280      272 1\\n     296      281      272 1\\n     297      282      272 1\\n     298      283      273 1\\n     299      284      273 1\\n     300      285      273 1\\n     301      275      274 1\\n     302      276      275 1\\n@<TRIPOS>SUBSTRUCTURE\\n       1 RES             1 RESIDUE    0 **** ROOT      0\\n\",\"mol2\");\n\tviewer_16808262536117017.setStyle({\"stick\": {\"radius\": 0.2, \"color\": \"grey\"}, \"sphere\": {\"scale\": 0.3, \"colorscheme\": {}}});\n\tviewer_16808262536117017.zoomTo();\nviewer_16808262536117017.render();\n});\n</script>",
      "text/html": [
       "<div id=\"3dmolviewer_16808262536117017\"  style=\"position: relative; width: 640px; height: 480px\">\n",
       "        <p id=\"3dmolwarning_16808262536117017\" style=\"background-color:#ffcccc;color:black\">You appear to be running in JupyterLab (or JavaScript failed to load for some other reason).  You need to install the 3dmol extension: <br>\n",
       "        <tt>jupyter labextension install jupyterlab_3dmol</tt></p>\n",
       "        </div>\n",
       "<script>\n",
       "\n",
       "var loadScriptAsync = function(uri){\n",
       "  return new Promise((resolve, reject) => {\n",
       "    var tag = document.createElement('script');\n",
       "    tag.src = uri;\n",
       "    tag.async = true;\n",
       "    tag.onload = () => {\n",
       "      resolve();\n",
       "    };\n",
       "  var firstScriptTag = document.getElementsByTagName('script')[0];\n",
       "  firstScriptTag.parentNode.insertBefore(tag, firstScriptTag);\n",
       "});\n",
       "};\n",
       "\n",
       "if(typeof $3Dmolpromise === 'undefined') {\n",
       "$3Dmolpromise = null;\n",
       "  $3Dmolpromise = loadScriptAsync('https://cdn.jsdelivr.net/npm/3dmol@latest/build/3Dmol-min.min.js');\n",
       "}\n",
       "\n",
       "var viewer_16808262536117017 = null;\n",
       "var warn = document.getElementById(\"3dmolwarning_16808262536117017\");\n",
       "if(warn) {\n",
       "    warn.parentNode.removeChild(warn);\n",
       "}\n",
       "$3Dmolpromise.then(function() {\n",
       "viewer_16808262536117017 = $3Dmol.createViewer($(\"#3dmolviewer_16808262536117017\"),{backgroundColor:\"white\"});\n",
       "viewer_16808262536117017.zoomTo();\n",
       "\tviewer_16808262536117017.addModel(\"@<TRIPOS>MOLECULE\\nRES\\n285 302 1 0 1\\nSMALL\\nNO_CHARGES\\n@<TRIPOS>CRYSIN\\n   40.4903    27.8793    32.8775    90.0000    90.0000    90.0000  1  1\\n@<TRIPOS>ATOM\\n       1 C           -3.0021    -4.9111     0.1167 C             1 RES     \\n       2 O           -3.8790    -5.4074    -0.6395 O             1 RES     \\n       3 C           -2.7172    -3.4646     0.1056 C             1 RES     \\n       4 C           -1.7345    -2.9453     0.9614 C             1 RES     \\n       5 C           -1.4499    -1.5771     0.9631 C             1 RES     \\n       6 C           -2.1376    -0.7072     0.1013 C             1 RES     \\n       7 C           -1.8309     0.7439     0.0931 C             1 RES     \\n       8 C           -0.5127     1.2341    -0.0912 C             1 RES     \\n       9 C           -0.2750     2.6169    -0.0112 C             1 RES     \\n      10 C           -1.3190     3.5169     0.2221 C             1 RES     \\n      11 O           -1.0166     4.8854     0.2851 O             1 RES     \\n      12 C           -1.9768     5.9116     0.5142 C             1 RES     \\n      13 C           -2.6259     3.0264     0.3800 C             1 RES     \\n      14 C           -2.8761     1.6549     0.3155 C             1 RES     \\n      15 C            0.6231     0.3353    -0.4080 C             1 RES     \\n      16 C            0.5583    -0.5314    -1.5102 C             1 RES     \\n      17 C            1.6242    -1.3848    -1.7976 C             1 RES     \\n      18 C            2.7669    -1.3768    -0.9950 C             1 RES     \\n      19 C            2.8583    -0.5057     0.1065 C             1 RES     \\n      20 C            1.7788     0.3497     0.3902 C             1 RES     \\n      21 C            4.0917    -0.4897     0.9941 C             1 RES     \\n      22 N            4.2784    -1.7757     1.6701 N             1 RES     \\n      23 C            5.3486    -0.1181     0.2013 C             1 RES     \\n      24 C           -3.1297    -1.2247    -0.7463 C             1 RES     \\n      25 C           -3.4155    -2.5930    -0.7473 C             1 RES     \\n      26 H           -1.1881    -3.5987     1.6306 H             1 RES     \\n      27 H           -0.6948    -1.1957     1.6395 H             1 RES     \\n      28 H            0.7278     3.0029    -0.1525 H             1 RES     \\n      29 H           -1.4634     6.8948     0.5148 H             1 RES     \\n      30 H           -2.4646     5.7646     1.5010 H             1 RES     \\n      31 H           -2.7388     5.9088    -0.2936 H             1 RES     \\n      32 H           -3.4556     3.6960     0.5607 H             1 RES     \\n      33 H           -3.8891     1.2999     0.4623 H             1 RES     \\n      34 H           -0.3171    -0.5446    -2.1477 H             1 RES     \\n      35 H            1.5651    -2.0544    -2.6459 H             1 RES     \\n      36 H            3.5790    -2.0496    -1.2373 H             1 RES     \\n      37 H            1.8278     1.0174     1.2423 H             1 RES     \\n      38 H            3.9723     0.2887     1.7807 H             1 RES     \\n      39 H            4.3948    -2.5371     0.9628 H             1 RES     \\n      40 H            5.5828    -0.8883    -0.5635 H             1 RES     \\n      41 H            6.2156    -0.0334     0.8905 H             1 RES     \\n      42 H            5.2054     0.8610    -0.3040 H             1 RES     \\n      43 H           -3.6721    -0.5702    -1.4176 H             1 RES     \\n      44 H           -4.1799    -2.9683    -1.4162 H             1 RES     \\n      45 C            3.0430    -2.0838     2.4631 C             1 RES     \\n      46 O            2.0276    -2.5250     1.8619 O             1 RES     \\n      47 C            3.0308    -1.8690     3.9216 C             1 RES     \\n      48 C            4.1794    -1.3771     4.5592 C             1 RES     \\n      49 C            4.1855    -1.1656     5.9405 C             1 RES     \\n      50 C            3.0385    -1.4339     6.7055 C             1 RES     \\n      51 C            3.0380    -1.2008     8.1702 C             1 RES     \\n      52 C            3.4020     0.0486     8.7342 C             1 RES     \\n      53 C            3.4565     0.1833    10.1320 C             1 RES     \\n      54 C            3.1345    -0.8855    10.9737 C             1 RES     \\n      55 O            3.2031    -0.6848    12.3605 O             1 RES     \\n      56 C            2.9028    -1.6805    13.3331 C             1 RES     \\n      57 C            2.7518    -2.1133    10.4084 C             1 RES     \\n      58 C            2.7047    -2.2663     9.0221 C             1 RES     \\n      59 C            3.6888     1.2365     7.8945 C             1 RES     \\n      60 C            2.7476     1.6883     6.9563 C             1 RES     \\n      61 C            3.0266     2.7990     6.1589 C             1 RES     \\n      62 C            4.2414     3.4741     6.2947 C             1 RES     \\n      63 C            5.1931     3.0464     7.2390 C             1 RES     \\n      64 C            4.9047     1.9250     8.0372 C             1 RES     \\n      65 C            6.5227     3.7655     7.3943 C             1 RES     \\n      66 N            7.3219     3.6782     6.1698 N             1 RES     \\n      67 C            6.3247     5.2302     7.7968 C             1 RES     \\n      68 C            1.8930    -1.9379     6.0696 C             1 RES     \\n      69 C            1.8872    -2.1508     4.6880 C             1 RES     \\n      70 H            5.0735    -1.1583     3.9881 H             1 RES     \\n      71 H            5.0864    -0.7954     6.4141 H             1 RES     \\n      72 H            3.7312     1.1339    10.5740 H             1 RES     \\n      73 H            3.0405    -1.2507    14.3463 H             1 RES     \\n      74 H            3.5888    -2.5461    13.2178 H             1 RES     \\n      75 H            1.8480    -2.0115    13.2276 H             1 RES     \\n      76 H            2.4957    -2.9592    11.0316 H             1 RES     \\n      77 H            2.4278    -3.2295     8.6106 H             1 RES     \\n      78 H            1.7973     1.1812     6.8437 H             1 RES     \\n      79 H            2.2985     3.1385     5.4337 H             1 RES     \\n      80 H            4.4350     4.3313     5.6633 H             1 RES     \\n      81 H            5.6320     1.5749     8.7601 H             1 RES     \\n      82 H            7.1087     3.2892     8.2120 H             1 RES     \\n      83 H            6.8043     4.1167     5.3738 H             1 RES     \\n      84 H            5.8075     5.7999     6.9963 H             1 RES     \\n      85 H            7.3115     5.7048     7.9833 H             1 RES     \\n      86 H            5.7243     5.2915     8.7297 H             1 RES     \\n      87 H            0.9988    -2.1521     6.6419 H             1 RES     \\n      88 H            0.9883    -2.5329     4.2204 H             1 RES     \\n      89 C            7.5238     2.2309     5.8317 C             1 RES     \\n      90 O            6.5825     1.5957     5.2861 O             1 RES     \\n      91 C            8.8079     1.5746     6.1387 C             1 RES     \\n      92 C            9.8351     2.3119     6.7460 C             1 RES     \\n      93 C           11.0581     1.7059     7.0459 C             1 RES     \\n      94 C           11.2698     0.3490     6.7517 C             1 RES     \\n      95 C           12.5629    -0.3000     7.0781 C             1 RES     \\n      96 C           13.1178    -0.2596     8.3827 C             1 RES     \\n      97 C           14.3834    -0.8268     8.6104 C             1 RES     \\n      98 C           15.0914    -1.4506     7.5789 C             1 RES     \\n      99 O           16.3474    -2.0024     7.8726 O             1 RES     \\n     100 C           17.1760    -2.6664     6.9239 C             1 RES     \\n     101 C           14.5253    -1.5080     6.2946 C             1 RES     \\n     102 C           13.2749    -0.9386     6.0499 C             1 RES     \\n     103 C           12.3859     0.3280     9.5305 C             1 RES     \\n     104 C           11.0969    -0.1213     9.8573 C             1 RES     \\n     105 C           10.4063     0.4431    10.9304 C             1 RES     \\n     106 C           10.9963     1.4537    11.6923 C             1 RES     \\n     107 C           12.2933     1.9091    11.3905 C             1 RES     \\n     108 C           12.9815     1.3362    10.3062 C             1 RES     \\n     109 C           12.9467     3.0130    12.2051 C             1 RES     \\n     110 N           12.2029     4.2699    12.0926 N             1 RES     \\n     111 C           13.0944     2.6123    13.6762 C             1 RES     \\n     112 C           10.2465    -0.3858     6.1327 C             1 RES     \\n     113 C            9.0235     0.2204     5.8314 C             1 RES     \\n     114 H            9.6918     3.3583     6.9866 H             1 RES     \\n     115 H           11.8414     2.2963     7.5051 H             1 RES     \\n     116 H           14.8162    -0.8036     9.6037 H             1 RES     \\n     117 H           18.1070    -2.9999     7.4263 H             1 RES     \\n     118 H           17.4455    -1.9720     6.1002 H             1 RES     \\n     119 H           16.6525    -3.5574     6.5173 H             1 RES     \\n     120 H           15.0466    -1.9840     5.4754 H             1 RES     \\n     121 H           12.8696    -0.9766     5.0458 H             1 RES     \\n     122 H           10.6278    -0.9099     9.2818 H             1 RES     \\n     123 H            9.4105     0.0955    11.1733 H             1 RES     \\n     124 H           10.4395     1.8769    12.5180 H             1 RES     \\n     125 H           13.9758     1.6843    10.0525 H             1 RES     \\n     126 H           13.9757     3.1966    11.8225 H             1 RES     \\n     127 H           11.2265     4.1393    12.4434 H             1 RES     \\n     128 H           12.1026     2.4799    14.1575 H             1 RES     \\n     129 H           13.6485     3.4023    14.2265 H             1 RES     \\n     130 H           13.6652     1.6624    13.7574 H             1 RES     \\n     131 H           10.3904    -1.4331     5.8967 H             1 RES     \\n     132 H            8.2474    -0.3704     5.3610 H             1 RES     \\n     133 C           12.1133     4.6453    10.6431 C             1 RES     \\n     134 O           11.2709     4.0585     9.9129 O             1 RES     \\n     135 C           13.0028     5.6855    10.0949 C             1 RES     \\n     136 C           13.9289     6.3192    10.9365 C             1 RES     \\n     137 C           14.7811     7.3061    10.4339 C             1 RES     \\n     138 C           14.7272     7.6682     9.0779 C             1 RES     \\n     139 C           15.6373     8.7078     8.5388 C             1 RES     \\n     140 C           17.0445     8.6341     8.7000 C             1 RES     \\n     141 C           17.8471     9.6895     8.2342 C             1 RES     \\n     142 C           17.2835    10.7971     7.5938 C             1 RES     \\n     143 O           18.1398    11.8146     7.1469 O             1 RES     \\n     144 C           17.7062    12.9955     6.4798 C             1 RES     \\n     145 C           15.8911    10.8525     7.4162 C             1 RES     \\n     146 C           15.0797     9.8180     7.8842 C             1 RES     \\n     147 C           17.7052     7.4553     9.3103 C             1 RES     \\n     148 C           17.4781     6.1683     8.7981 C             1 RES     \\n     149 C           18.0918     5.0601     9.3832 C             1 RES     \\n     150 C           18.9430     5.2246    10.4778 C             1 RES     \\n     151 C           19.1955     6.5076    10.9981 C             1 RES     \\n     152 C           18.5715     7.6189    10.4037 C             1 RES     \\n     153 C           20.1135     6.7031    12.1932 C             1 RES     \\n     154 N           19.5805     6.0441    13.3879 N             1 RES     \\n     155 C           21.5316     6.2046    11.8988 C             1 RES     \\n     156 C           13.7920     7.0431     8.2383 C             1 RES     \\n     157 C           12.9385     6.0568     8.7411 C             1 RES     \\n     158 H           13.9914     6.0519    11.9844 H             1 RES     \\n     159 H           15.4814     7.7902    11.1035 H             1 RES     \\n     160 H           18.9236     9.6429     8.3500 H             1 RES     \\n     161 H           18.5896    13.6227     6.2421 H             1 RES     \\n     162 H           17.0241    13.5762     7.1361 H             1 RES     \\n     163 H           17.1920    12.7315     5.5316 H             1 RES     \\n     164 H           15.4241    11.6946     6.9242 H             1 RES     \\n     165 H           14.0067     9.8945     7.7547 H             1 RES     \\n     166 H           16.8271     6.0238     7.9447 H             1 RES     \\n     167 H           17.9078     4.0700     8.9865 H             1 RES     \\n     168 H           19.4051     4.3494    10.9152 H             1 RES     \\n     169 H           18.7451     8.6123    10.8002 H             1 RES     \\n     170 H           20.2008     7.7893    12.4200 H             1 RES     \\n     171 H           19.4828     5.0173    13.2155 H             1 RES     \\n     172 H           21.5445     5.1069    11.7319 H             1 RES     \\n     173 H           22.1967     6.4363    12.7577 H             1 RES     \\n     174 H           21.9347     6.7120    10.9963 H             1 RES     \\n     175 H           13.7339     7.3090     7.1899 H             1 RES     \\n     176 H           12.2314     5.5842     8.0709 H             1 RES     \\n     177 C           18.2091     6.5861    13.6625 C             1 RES     \\n     178 O           17.2399     6.1675    12.9751 O             1 RES     \\n     179 C           18.0128     7.5923    14.7221 C             1 RES     \\n     180 C           19.1142     8.0358    15.4690 C             1 RES     \\n     181 C           18.9474     8.9903    16.4760 C             1 RES     \\n     182 C           17.6765     9.5239    16.7457 C             1 RES     \\n     183 C           17.4974    10.5446    17.8067 C             1 RES     \\n     184 C           18.2589    11.7408    17.8373 C             1 RES     \\n     185 C           18.0975    12.6324    18.9117 C             1 RES     \\n     186 C           17.1824    12.3711    19.9357 C             1 RES     \\n     187 O           17.0645    13.3038    20.9771 O             1 RES     \\n     188 C           16.1755    13.1687    22.0811 C             1 RES     \\n     189 C           16.4142    11.1960    19.8867 C             1 RES     \\n     190 C           16.5719    10.2949    18.8328 C             1 RES     \\n     191 C           19.1953    12.1048    16.7469 C             1 RES     \\n     192 C           18.7494    12.1658    15.4174 C             1 RES     \\n     193 C           19.6368    12.4963    14.3924 C             1 RES     \\n     194 C           20.9734    12.7768    14.6833 C             1 RES     \\n     195 C           21.4379    12.7351    16.0111 C             1 RES     \\n     196 C           20.5375    12.3993    17.0378 C             1 RES     \\n     197 C           22.8909    13.0306    16.3438 C             1 RES     \\n     198 N           23.7884    12.0496    15.7291 N             1 RES     \\n     199 C           23.2855    14.4496    15.9229 C             1 RES     \\n     200 C           16.5722     9.0711    16.0069 C             1 RES     \\n     201 C           16.7386     8.1153    15.0004 C             1 RES     \\n     202 H           20.1044     7.6418    15.2744 H             1 RES     \\n     203 H           19.8095     9.3110    17.0477 H             1 RES     \\n     204 H           18.6724    13.5504    18.9443 H             1 RES     \\n     205 H           16.2910    14.0466    22.7491 H             1 RES     \\n     206 H           16.4176    12.2500    22.6561 H             1 RES     \\n     207 H           15.1250    13.1302    21.7229 H             1 RES     \\n     208 H           15.6971    10.9650    20.6625 H             1 RES     \\n     209 H           15.9836     9.3851    18.8292 H             1 RES     \\n     210 H           17.7143    11.9591    15.1751 H             1 RES     \\n     211 H           19.2873    12.5362    13.3688 H             1 RES     \\n     212 H           21.6423    13.0283    13.8708 H             1 RES     \\n     213 H           20.8819    12.3501    18.0640 H             1 RES     \\n     214 H           23.0376    12.9752    17.4458 H             1 RES     \\n     215 H           23.6807    12.0700    14.6891 H             1 RES     \\n     216 H           23.2369    14.5690    14.8201 H             1 RES     \\n     217 H           24.3241    14.6638    16.2533 H             1 RES     \\n     218 H           22.6068    15.1907    16.3969 H             1 RES     \\n     219 H           15.5837     9.4694    16.2002 H             1 RES     \\n     220 H           15.8719     7.7884    14.4396 H             1 RES     \\n     221 C           23.3925    10.6799    16.1952 C             1 RES     \\n     222 O           22.3920    10.1233    15.6696 O             1 RES     \\n     223 C           24.1701    10.0078    17.2522 C             1 RES     \\n     224 C           25.2791    10.6564    17.8153 C             1 RES     \\n     225 C           26.0267    10.0353    18.8194 C             1 RES     \\n     226 C           25.6708     8.7584    19.2834 C             1 RES     \\n     227 C           26.4558     8.1005    20.3562 C             1 RES     \\n     228 C           26.7096     8.7333    21.5999 C             1 RES     \\n     229 C           27.5255     8.0897    22.5460 C             1 RES     \\n     230 C           28.0696     6.8274    22.2909 C             1 RES     \\n     231 O           28.8712     6.2360    23.2788 O             1 RES     \\n     232 C           29.4873     4.9582    23.1561 C             1 RES     \\n     233 C           27.7946     6.1960    21.0665 C             1 RES     \\n     234 C           26.9963     6.8276    20.1119 C             1 RES     \\n     235 C           26.1063    10.0405    21.9544 C             1 RES     \\n     236 C           24.7153    10.2200    21.8999 C             1 RES     \\n     237 C           24.1523    11.4555    22.2221 C             1 RES     \\n     238 C           24.9687    12.5202    22.6090 C             1 RES     \\n     239 C           26.3646    12.3577    22.6839 C             1 RES     \\n     240 C           26.9239    11.1098    22.3558 C             1 RES     \\n     241 C           27.2676    13.5082    23.0963 C             1 RES     \\n     242 N           27.1910    14.6149    22.1397 N             1 RES     \\n     243 C           26.9379    14.0019    24.5083 C             1 RES     \\n     244 C           24.5686     8.1039    18.7114 C             1 RES     \\n     245 C           23.8214     8.7244    17.7061 C             1 RES     \\n     246 H           25.5684    11.6437    17.4763 H             1 RES     \\n     247 H           26.8856    10.5495    19.2329 H             1 RES     \\n     248 H           27.7243     8.5628    23.5005 H             1 RES     \\n     249 H           30.0601     4.7417    24.0810 H             1 RES     \\n     250 H           30.1879     4.9532    22.2946 H             1 RES     \\n     251 H           28.7137     4.1723    23.0248 H             1 RES     \\n     252 H           28.1993     5.2194    20.8387 H             1 RES     \\n     253 H           26.8170     6.3295    19.1666 H             1 RES     \\n     254 H           24.0669     9.4024    21.6096 H             1 RES     \\n     255 H           23.0793    11.5883    22.1725 H             1 RES     \\n     256 H           24.5083    13.4689    22.8517 H             1 RES     \\n     257 H           27.9979    10.9716    22.3958 H             1 RES     \\n     258 H           28.3243    13.1594    23.1219 H             1 RES     \\n     259 H           26.2099    14.9727    22.0859 H             1 RES     \\n     260 H           25.9174    14.4372    24.5530 H             1 RES     \\n     261 H           27.6661    14.7837    24.8121 H             1 RES     \\n     262 H           27.0040    13.1611    25.2316 H             1 RES     \\n     263 H           24.2785     7.1184    19.0546 H             1 RES     \\n     264 H           22.9709     8.2016    17.2867 H             1 RES     \\n     265 C           -3.0147    -6.9769     1.1625 C             1 RES     \\n     266 O           -2.2420    -5.8179     1.0386 O             1 RES     \\n     267 H           -4.0087    -6.7308     1.5953 H             1 RES     \\n     268 H           -2.4975    -7.6887     1.8382 H             1 RES     \\n     269 H           -3.1464    -7.4581     0.1690 H             1 RES     \\n     270 C           30.5898    12.1424    19.7216 C             1 RES     \\n     271 C           29.2520    12.8252    19.3981 C             1 RES     \\n     272 C           29.4981    13.9321    18.3549 C             1 RES     \\n     273 C           28.2748    11.7688    18.8475 C             1 RES     \\n     274 O           28.7536    13.3858    20.6223 O             1 RES     \\n     275 C           27.5564    14.0986    20.7796 C             1 RES     \\n     276 O           26.7812    14.3166    19.8116 O             1 RES     \\n     277 H           31.0344    11.6838    18.8117 H             1 RES     \\n     278 H           31.3104    12.8819    20.1328 H             1 RES     \\n     279 H           30.4419    11.3460    20.4825 H             1 RES     \\n     280 H           30.1443    14.7272    18.7849 H             1 RES     \\n     281 H           28.5464    14.3963    18.0252 H             1 RES     \\n     282 H           29.9998    13.5160    17.4546 H             1 RES     \\n     283 H           28.0448    11.0146    19.6302 H             1 RES     \\n     284 H           27.3222    12.2314    18.5181 H             1 RES     \\n     285 H           28.7167    11.2469    17.9712 H             1 RES     \\n@<TRIPOS>BOND\\n       1        2        1 1\\n       2        3        1 1\\n       3      266        1 1\\n       4        4        3 1\\n       5       25        3 1\\n       6        5        4 1\\n       7       26        4 1\\n       8        6        5 1\\n       9       27        5 1\\n      10        7        6 1\\n      11       24        6 1\\n      12        8        7 1\\n      13       14        7 1\\n      14        9        8 1\\n      15       15        8 1\\n      16       10        9 1\\n      17       28        9 1\\n      18       11       10 1\\n      19       13       10 1\\n      20       12       11 1\\n      21       29       12 1\\n      22       30       12 1\\n      23       31       12 1\\n      24       14       13 1\\n      25       32       13 1\\n      26       33       14 1\\n      27       16       15 1\\n      28       20       15 1\\n      29       17       16 1\\n      30       34       16 1\\n      31       18       17 1\\n      32       35       17 1\\n      33       19       18 1\\n      34       36       18 1\\n      35       20       19 1\\n      36       21       19 1\\n      37       37       20 1\\n      38       22       21 1\\n      39       23       21 1\\n      40       38       21 1\\n      41       39       22 1\\n      42       45       22 1\\n      43       40       23 1\\n      44       41       23 1\\n      45       42       23 1\\n      46       25       24 1\\n      47       43       24 1\\n      48       44       25 1\\n      49       46       45 1\\n      50       47       45 1\\n      51       48       47 1\\n      52       69       47 1\\n      53       49       48 1\\n      54       70       48 1\\n      55       50       49 1\\n      56       71       49 1\\n      57       51       50 1\\n      58       68       50 1\\n      59       52       51 1\\n      60       58       51 1\\n      61       53       52 1\\n      62       59       52 1\\n      63       54       53 1\\n      64       72       53 1\\n      65       55       54 1\\n      66       57       54 1\\n      67       56       55 1\\n      68       73       56 1\\n      69       74       56 1\\n      70       75       56 1\\n      71       58       57 1\\n      72       76       57 1\\n      73       77       58 1\\n      74       60       59 1\\n      75       64       59 1\\n      76       61       60 1\\n      77       78       60 1\\n      78       62       61 1\\n      79       79       61 1\\n      80       63       62 1\\n      81       80       62 1\\n      82       64       63 1\\n      83       65       63 1\\n      84       81       64 1\\n      85       66       65 1\\n      86       67       65 1\\n      87       82       65 1\\n      88       83       66 1\\n      89       89       66 1\\n      90       84       67 1\\n      91       85       67 1\\n      92       86       67 1\\n      93       69       68 1\\n      94       87       68 1\\n      95       88       69 1\\n      96       90       89 1\\n      97       91       89 1\\n      98       92       91 1\\n      99      113       91 1\\n     100       93       92 1\\n     101      114       92 1\\n     102       94       93 1\\n     103      115       93 1\\n     104       95       94 1\\n     105      112       94 1\\n     106       96       95 1\\n     107      102       95 1\\n     108       97       96 1\\n     109      103       96 1\\n     110       98       97 1\\n     111      116       97 1\\n     112       99       98 1\\n     113      101       98 1\\n     114      100       99 1\\n     115      117      100 1\\n     116      118      100 1\\n     117      119      100 1\\n     118      102      101 1\\n     119      120      101 1\\n     120      121      102 1\\n     121      104      103 1\\n     122      108      103 1\\n     123      105      104 1\\n     124      122      104 1\\n     125      106      105 1\\n     126      123      105 1\\n     127      107      106 1\\n     128      124      106 1\\n     129      108      107 1\\n     130      109      107 1\\n     131      125      108 1\\n     132      110      109 1\\n     133      111      109 1\\n     134      126      109 1\\n     135      127      110 1\\n     136      133      110 1\\n     137      128      111 1\\n     138      129      111 1\\n     139      130      111 1\\n     140      113      112 1\\n     141      131      112 1\\n     142      132      113 1\\n     143      134      133 1\\n     144      135      133 1\\n     145      136      135 1\\n     146      157      135 1\\n     147      137      136 1\\n     148      158      136 1\\n     149      138      137 1\\n     150      159      137 1\\n     151      139      138 1\\n     152      156      138 1\\n     153      140      139 1\\n     154      146      139 1\\n     155      141      140 1\\n     156      147      140 1\\n     157      142      141 1\\n     158      160      141 1\\n     159      143      142 1\\n     160      145      142 1\\n     161      144      143 1\\n     162      161      144 1\\n     163      162      144 1\\n     164      163      144 1\\n     165      146      145 1\\n     166      164      145 1\\n     167      165      146 1\\n     168      148      147 1\\n     169      152      147 1\\n     170      149      148 1\\n     171      166      148 1\\n     172      150      149 1\\n     173      167      149 1\\n     174      151      150 1\\n     175      168      150 1\\n     176      152      151 1\\n     177      153      151 1\\n     178      169      152 1\\n     179      154      153 1\\n     180      155      153 1\\n     181      170      153 1\\n     182      171      154 1\\n     183      177      154 1\\n     184      172      155 1\\n     185      173      155 1\\n     186      174      155 1\\n     187      157      156 1\\n     188      175      156 1\\n     189      176      157 1\\n     190      178      177 1\\n     191      179      177 1\\n     192      180      179 1\\n     193      201      179 1\\n     194      181      180 1\\n     195      202      180 1\\n     196      182      181 1\\n     197      203      181 1\\n     198      183      182 1\\n     199      200      182 1\\n     200      184      183 1\\n     201      190      183 1\\n     202      185      184 1\\n     203      191      184 1\\n     204      186      185 1\\n     205      204      185 1\\n     206      187      186 1\\n     207      189      186 1\\n     208      188      187 1\\n     209      205      188 1\\n     210      206      188 1\\n     211      207      188 1\\n     212      190      189 1\\n     213      208      189 1\\n     214      209      190 1\\n     215      192      191 1\\n     216      196      191 1\\n     217      193      192 1\\n     218      210      192 1\\n     219      194      193 1\\n     220      211      193 1\\n     221      195      194 1\\n     222      212      194 1\\n     223      196      195 1\\n     224      197      195 1\\n     225      213      196 1\\n     226      198      197 1\\n     227      199      197 1\\n     228      214      197 1\\n     229      215      198 1\\n     230      221      198 1\\n     231      216      199 1\\n     232      217      199 1\\n     233      218      199 1\\n     234      201      200 1\\n     235      219      200 1\\n     236      220      201 1\\n     237      222      221 1\\n     238      223      221 1\\n     239      224      223 1\\n     240      245      223 1\\n     241      225      224 1\\n     242      246      224 1\\n     243      226      225 1\\n     244      247      225 1\\n     245      227      226 1\\n     246      244      226 1\\n     247      228      227 1\\n     248      234      227 1\\n     249      229      228 1\\n     250      235      228 1\\n     251      230      229 1\\n     252      248      229 1\\n     253      231      230 1\\n     254      233      230 1\\n     255      232      231 1\\n     256      249      232 1\\n     257      250      232 1\\n     258      251      232 1\\n     259      234      233 1\\n     260      252      233 1\\n     261      253      234 1\\n     262      236      235 1\\n     263      240      235 1\\n     264      237      236 1\\n     265      254      236 1\\n     266      238      237 1\\n     267      255      237 1\\n     268      239      238 1\\n     269      256      238 1\\n     270      240      239 1\\n     271      241      239 1\\n     272      257      240 1\\n     273      242      241 1\\n     274      243      241 1\\n     275      258      241 1\\n     276      259      242 1\\n     277      275      242 1\\n     278      260      243 1\\n     279      261      243 1\\n     280      262      243 1\\n     281      245      244 1\\n     282      263      244 1\\n     283      264      245 1\\n     284      266      265 1\\n     285      267      265 1\\n     286      268      265 1\\n     287      269      265 1\\n     288      271      270 1\\n     289      277      270 1\\n     290      278      270 1\\n     291      279      270 1\\n     292      272      271 1\\n     293      273      271 1\\n     294      274      271 1\\n     295      280      272 1\\n     296      281      272 1\\n     297      282      272 1\\n     298      283      273 1\\n     299      284      273 1\\n     300      285      273 1\\n     301      275      274 1\\n     302      276      275 1\\n@<TRIPOS>SUBSTRUCTURE\\n       1 RES             1 RESIDUE    0 **** ROOT      0\\n\",\"mol2\");\n",
       "\tviewer_16808262536117017.setStyle({\"stick\": {\"radius\": 0.2, \"color\": \"grey\"}, \"sphere\": {\"scale\": 0.3, \"colorscheme\": {}}});\n",
       "\tviewer_16808262536117017.zoomTo();\n",
       "viewer_16808262536117017.render();\n",
       "});\n",
       "</script>"
      ]
     },
     "metadata": {},
     "output_type": "display_data"
    },
    {
     "data": {
      "text/plain": [
       "<py3Dmol.view at 0x7f1f70210160>"
      ]
     },
     "execution_count": 8,
     "metadata": {},
     "output_type": "execute_result"
    }
   ],
   "source": [
    "chain.visualize()"
   ]
  },
  {
   "cell_type": "code",
   "execution_count": 9,
   "id": "78a7eede",
   "metadata": {},
   "outputs": [
    {
     "name": "stdout",
     "output_type": "stream",
     "text": [
      "<C pos=([-0.3002 -0.4911  0.0117]), 3 bonds, id: 139773002123680>\n",
      "<O pos=([-0.3879 -0.5407 -0.0639]), 1 bonds, id: 139773002152880>\n",
      "<C pos=([-0.2717 -0.3465  0.0106]), 3 bonds, id: 139773002152976>\n",
      "<C pos=([-0.1735 -0.2945  0.0961]), 3 bonds, id: 139773002153120>\n",
      "<C pos=([-0.145  -0.1577  0.0963]), 3 bonds, id: 139773002153264>\n",
      "<C pos=([-0.2138 -0.0707  0.0101]), 3 bonds, id: 139773002153408>\n",
      "<C pos=([-0.1831  0.0744  0.0093]), 3 bonds, id: 139773002153552>\n",
      "<C pos=([-0.0513  0.1234 -0.0091]), 3 bonds, id: 139773002121472>\n",
      "<C pos=([-0.0275  0.2617 -0.0011]), 3 bonds, id: 139773002153600>\n",
      "<C pos=([-0.1319  0.3517  0.0222]), 3 bonds, id: 139773002153792>\n",
      "<O pos=([-0.1017  0.4885  0.0285]), 2 bonds, id: 139773002153936>\n",
      "<C pos=([-0.1977  0.5912  0.0514]), 4 bonds, id: 139773002174624>\n",
      "<C pos=([-0.2626  0.3026  0.038 ]), 3 bonds, id: 139773002174768>\n",
      "<C pos=([-0.2876  0.1655  0.0315]), 3 bonds, id: 139773002174912>\n",
      "<C pos=([ 0.0623  0.0335 -0.0408]), 3 bonds, id: 139773002175056>\n",
      "<C pos=([ 0.0558 -0.0531 -0.151 ]), 3 bonds, id: 139773002175200>\n",
      "<C pos=([ 0.1624 -0.1385 -0.1798]), 3 bonds, id: 139773002175344>\n",
      "<C pos=([ 0.2767 -0.1377 -0.0995]), 3 bonds, id: 139773002175488>\n",
      "<C pos=([ 0.2858 -0.0506  0.0107]), 3 bonds, id: 139773002175632>\n",
      "<C pos=([0.1779 0.035  0.039 ]), 3 bonds, id: 139773002175776>\n",
      "<C pos=([ 0.4092 -0.049   0.0994]), 4 bonds, id: 139773002175920>\n",
      "<N pos=([ 0.4278 -0.1776  0.167 ]), 3 bonds, id: 139773002176064>\n",
      "<C pos=([ 0.5349 -0.0118  0.0201]), 4 bonds, id: 139773002176208>\n",
      "<C pos=([-0.313  -0.1225 -0.0746]), 3 bonds, id: 139773002176352>\n",
      "<C pos=([-0.3416 -0.2593 -0.0747]), 3 bonds, id: 139773002176496>\n",
      "<H pos=([-0.1188 -0.3599  0.1631]), 1 bonds, id: 139773002176640>\n",
      "<H pos=([-0.0695 -0.1196  0.1639]), 1 bonds, id: 139773002176784>\n",
      "<H pos=([ 0.0728  0.3003 -0.0153]), 1 bonds, id: 139773002176928>\n",
      "<H pos=([-0.1463  0.6895  0.0515]), 1 bonds, id: 139773002177072>\n",
      "<H pos=([-0.2465  0.5765  0.1501]), 1 bonds, id: 139773002177216>\n",
      "<H pos=([-0.2739  0.5909 -0.0294]), 1 bonds, id: 139773002177360>\n",
      "<H pos=([-0.3456  0.3696  0.0561]), 1 bonds, id: 139773002177504>\n",
      "<H pos=([-0.3889  0.13    0.0462]), 1 bonds, id: 139773002177648>\n",
      "<H pos=([-0.0317 -0.0545 -0.2148]), 1 bonds, id: 139773002177792>\n",
      "<H pos=([ 0.1565 -0.2054 -0.2646]), 1 bonds, id: 139773002177936>\n",
      "<H pos=([ 0.3579 -0.205  -0.1237]), 1 bonds, id: 139773002178080>\n",
      "<H pos=([0.1828 0.1017 0.1242]), 1 bonds, id: 139773002178224>\n",
      "<H pos=([0.3972 0.0289 0.1781]), 1 bonds, id: 139773002178368>\n",
      "<H pos=([ 0.4395 -0.2537  0.0963]), 1 bonds, id: 139773002178512>\n",
      "<H pos=([ 0.5583 -0.0888 -0.0563]), 1 bonds, id: 139773002207392>\n",
      "<H pos=([ 0.6216 -0.0033  0.089 ]), 1 bonds, id: 139773002207536>\n",
      "<H pos=([ 0.5205  0.0861 -0.0304]), 1 bonds, id: 139773002207680>\n",
      "<H pos=([-0.3672 -0.057  -0.1418]), 1 bonds, id: 139773002207824>\n",
      "<H pos=([-0.418  -0.2968 -0.1416]), 1 bonds, id: 139773002207968>\n",
      "<C pos=([ 0.3043 -0.2084  0.2463]), 3 bonds, id: 139773002382304>\n",
      "<O pos=([ 0.2028 -0.2525  0.1862]), 1 bonds, id: 139773001780864>\n",
      "<C pos=([ 0.3031 -0.1869  0.3922]), 3 bonds, id: 139773001781008>\n",
      "<C pos=([ 0.4179 -0.1377  0.4559]), 3 bonds, id: 139773001781152>\n",
      "<C pos=([ 0.4185 -0.1166  0.5941]), 3 bonds, id: 139773001793648>\n",
      "<C pos=([ 0.3038 -0.1434  0.6705]), 3 bonds, id: 139773001793792>\n",
      "<C pos=([ 0.3038 -0.1201  0.817 ]), 3 bonds, id: 139773001793936>\n",
      "<C pos=([0.3402 0.0049 0.8734]), 3 bonds, id: 139773001794080>\n",
      "<C pos=([0.3457 0.0183 1.0132]), 3 bonds, id: 139773001794224>\n",
      "<C pos=([ 0.3135 -0.0886  1.0974]), 3 bonds, id: 139773001794368>\n",
      "<O pos=([ 0.3203 -0.0685  1.236 ]), 2 bonds, id: 139773001794512>\n",
      "<C pos=([ 0.2903 -0.168   1.3333]), 4 bonds, id: 139773001794656>\n",
      "<C pos=([ 0.2752 -0.2113  1.0408]), 3 bonds, id: 139773001794800>\n",
      "<C pos=([ 0.2705 -0.2266  0.9022]), 3 bonds, id: 139773001794944>\n",
      "<C pos=([0.3689 0.1236 0.7894]), 3 bonds, id: 139773001795088>\n",
      "<C pos=([0.2748 0.1688 0.6956]), 3 bonds, id: 139773001795232>\n",
      "<C pos=([0.3027 0.2799 0.6159]), 3 bonds, id: 139773001795376>\n",
      "<C pos=([0.4241 0.3474 0.6295]), 3 bonds, id: 139773001795520>\n",
      "<C pos=([0.5193 0.3046 0.7239]), 3 bonds, id: 139773001795664>\n",
      "<C pos=([0.4905 0.1925 0.8037]), 3 bonds, id: 139773001795808>\n",
      "<C pos=([0.6523 0.3766 0.7394]), 4 bonds, id: 139773001795952>\n",
      "<N pos=([0.7322 0.3678 0.617 ]), 3 bonds, id: 139773001796096>\n",
      "<C pos=([0.6325 0.523  0.7797]), 4 bonds, id: 139773001796240>\n",
      "<C pos=([ 0.1893 -0.1938  0.607 ]), 3 bonds, id: 139773001796384>\n",
      "<C pos=([ 0.1887 -0.2151  0.4688]), 3 bonds, id: 139773001796528>\n",
      "<H pos=([ 0.5073 -0.1158  0.3988]), 1 bonds, id: 139773001796672>\n",
      "<H pos=([ 0.5086 -0.0795  0.6414]), 1 bonds, id: 139773001796816>\n",
      "<H pos=([0.3731 0.1134 1.0574]), 1 bonds, id: 139773001796960>\n",
      "<H pos=([ 0.3041 -0.1251  1.4346]), 1 bonds, id: 139773001797104>\n",
      "<H pos=([ 0.3589 -0.2546  1.3218]), 1 bonds, id: 139773001797248>\n",
      "<H pos=([ 0.1848 -0.2011  1.3228]), 1 bonds, id: 139773001797392>\n",
      "<H pos=([ 0.2496 -0.2959  1.1032]), 1 bonds, id: 139773001797536>\n",
      "<H pos=([ 0.2428 -0.323   0.8611]), 1 bonds, id: 139773001830512>\n",
      "<H pos=([0.1797 0.1181 0.6844]), 1 bonds, id: 139773001830656>\n",
      "<H pos=([0.2298 0.3139 0.5434]), 1 bonds, id: 139773001830800>\n",
      "<H pos=([0.4435 0.4331 0.5663]), 1 bonds, id: 139773001830944>\n",
      "<H pos=([0.5632 0.1575 0.876 ]), 1 bonds, id: 139773001831088>\n",
      "<H pos=([0.7109 0.3289 0.8212]), 1 bonds, id: 139773001831232>\n",
      "<H pos=([0.6804 0.4117 0.5374]), 1 bonds, id: 139773001831376>\n",
      "<H pos=([0.5807 0.58   0.6996]), 1 bonds, id: 139773001831520>\n",
      "<H pos=([0.7312 0.5705 0.7983]), 1 bonds, id: 139773001831664>\n",
      "<H pos=([0.5724 0.5292 0.873 ]), 1 bonds, id: 139773001831808>\n",
      "<H pos=([ 0.0999 -0.2152  0.6642]), 1 bonds, id: 139773001831952>\n",
      "<H pos=([ 0.0988 -0.2533  0.422 ]), 1 bonds, id: 139773001832096>\n",
      "<C pos=([0.7524 0.2231 0.5832]), 3 bonds, id: 139773001933872>\n",
      "<O pos=([0.6583 0.1596 0.5286]), 1 bonds, id: 139773001934016>\n",
      "<C pos=([0.8808 0.1575 0.6139]), 3 bonds, id: 139773001934160>\n",
      "<C pos=([0.9835 0.2312 0.6746]), 3 bonds, id: 139773001934304>\n",
      "<C pos=([1.1058 0.1706 0.7046]), 3 bonds, id: 139773001934448>\n",
      "<C pos=([1.127  0.0349 0.6752]), 3 bonds, id: 139773001934592>\n",
      "<C pos=([ 1.2563 -0.03    0.7078]), 3 bonds, id: 139773001934640>\n",
      "<C pos=([ 1.3118 -0.026   0.8383]), 3 bonds, id: 139773001933680>\n",
      "<C pos=([ 1.4383 -0.0827  0.861 ]), 3 bonds, id: 139773001933440>\n",
      "<C pos=([ 1.5091 -0.1451  0.7579]), 3 bonds, id: 139773001934784>\n",
      "<O pos=([ 1.6347 -0.2002  0.7873]), 2 bonds, id: 139773001934928>\n",
      "<C pos=([ 1.7176 -0.2666  0.6924]), 4 bonds, id: 139773001935072>\n",
      "<C pos=([ 1.4525 -0.1508  0.6295]), 3 bonds, id: 139773001935216>\n",
      "<C pos=([ 1.3275 -0.0939  0.605 ]), 3 bonds, id: 139773001935360>\n",
      "<C pos=([1.2386 0.0328 0.953 ]), 3 bonds, id: 139773001935504>\n",
      "<C pos=([ 1.1097 -0.0121  0.9857]), 3 bonds, id: 139773001935648>\n",
      "<C pos=([1.0406 0.0443 1.093 ]), 3 bonds, id: 139773001935792>\n",
      "<C pos=([1.0996 0.1454 1.1692]), 3 bonds, id: 139773001935936>\n",
      "<C pos=([1.2293 0.1909 1.1391]), 3 bonds, id: 139773001936080>\n",
      "<C pos=([1.2982 0.1336 1.0306]), 3 bonds, id: 139773001936224>\n",
      "<C pos=([1.2947 0.3013 1.2205]), 4 bonds, id: 139773001936368>\n",
      "<N pos=([1.2203 0.427  1.2093]), 3 bonds, id: 139773001936512>\n",
      "<C pos=([1.3094 0.2612 1.3676]), 4 bonds, id: 139773001936656>\n",
      "<C pos=([ 1.0246 -0.0386  0.6133]), 3 bonds, id: 139773001936800>\n",
      "<C pos=([0.9023 0.022  0.5831]), 3 bonds, id: 139773001982064>\n",
      "<H pos=([0.9692 0.3358 0.6987]), 1 bonds, id: 139773001982208>\n",
      "<H pos=([1.1841 0.2296 0.7505]), 1 bonds, id: 139773001982352>\n",
      "<H pos=([ 1.4816 -0.0804  0.9604]), 1 bonds, id: 139773001982496>\n",
      "<H pos=([ 1.8107 -0.3     0.7426]), 1 bonds, id: 139773001982640>\n",
      "<H pos=([ 1.7445 -0.1972  0.61  ]), 1 bonds, id: 139773001982784>\n",
      "<H pos=([ 1.6653 -0.3557  0.6517]), 1 bonds, id: 139773001982928>\n",
      "<H pos=([ 1.5047 -0.1984  0.5475]), 1 bonds, id: 139773001983072>\n",
      "<H pos=([ 1.287  -0.0977  0.5046]), 1 bonds, id: 139773001983216>\n",
      "<H pos=([ 1.0628 -0.091   0.9282]), 1 bonds, id: 139773001983360>\n",
      "<H pos=([0.941  0.0096 1.1173]), 1 bonds, id: 139773001983504>\n",
      "<H pos=([1.0439 0.1877 1.2518]), 1 bonds, id: 139773001983648>\n",
      "<H pos=([1.3976 0.1684 1.0052]), 1 bonds, id: 139773001983792>\n",
      "<H pos=([1.3976 0.3197 1.1823]), 1 bonds, id: 139773001983936>\n",
      "<H pos=([1.1226 0.4139 1.2443]), 1 bonds, id: 139773001984080>\n",
      "<H pos=([1.2103 0.248  1.4157]), 1 bonds, id: 139773001984224>\n",
      "<H pos=([1.3648 0.3402 1.4226]), 1 bonds, id: 139773001984368>\n",
      "<H pos=([1.3665 0.1662 1.3757]), 1 bonds, id: 139773001984512>\n",
      "<H pos=([ 1.039  -0.1433  0.5897]), 1 bonds, id: 139773001984656>\n",
      "<H pos=([ 0.8247 -0.037   0.5361]), 1 bonds, id: 139773001984800>\n",
      "<C pos=([1.2113 0.4645 1.0643]), 3 bonds, id: 139773001522192>\n",
      "<O pos=([1.1271 0.4059 0.9913]), 1 bonds, id: 139773001522336>\n",
      "<C pos=([1.3003 0.5685 1.0095]), 3 bonds, id: 139773001522480>\n",
      "<C pos=([1.3929 0.6319 1.0937]), 3 bonds, id: 139773001522624>\n",
      "<C pos=([1.4781 0.7306 1.0434]), 3 bonds, id: 139773001522768>\n",
      "<C pos=([1.4727 0.7668 0.9078]), 3 bonds, id: 139773001522912>\n",
      "<C pos=([1.5637 0.8708 0.8539]), 3 bonds, id: 139773001523056>\n",
      "<C pos=([1.7045 0.8634 0.87  ]), 3 bonds, id: 139773001584704>\n",
      "<C pos=([1.7847 0.969  0.8234]), 3 bonds, id: 139773001584848>\n",
      "<C pos=([1.7284 1.0797 0.7594]), 3 bonds, id: 139773001584992>\n",
      "<O pos=([1.814  1.1815 0.7147]), 2 bonds, id: 139773001585136>\n",
      "<C pos=([1.7706 1.2996 0.648 ]), 4 bonds, id: 139773001585280>\n",
      "<C pos=([1.5891 1.0852 0.7416]), 3 bonds, id: 139773001585424>\n",
      "<C pos=([1.508  0.9818 0.7884]), 3 bonds, id: 139773001585568>\n",
      "<C pos=([1.7705 0.7455 0.931 ]), 3 bonds, id: 139773001585712>\n",
      "<C pos=([1.7478 0.6168 0.8798]), 3 bonds, id: 139773001585856>\n",
      "<C pos=([1.8092 0.506  0.9383]), 3 bonds, id: 139773001586000>\n",
      "<C pos=([1.8943 0.5225 1.0478]), 3 bonds, id: 139773001586144>\n",
      "<C pos=([1.9195 0.6508 1.0998]), 3 bonds, id: 139773001586288>\n",
      "<C pos=([1.8571 0.7619 1.0404]), 3 bonds, id: 139773001586432>\n",
      "<C pos=([2.0113 0.6703 1.2193]), 4 bonds, id: 139773001586576>\n",
      "<N pos=([1.958  0.6044 1.3388]), 3 bonds, id: 139773001586720>\n",
      "<C pos=([2.1532 0.6205 1.1899]), 4 bonds, id: 139773001586864>\n",
      "<C pos=([1.3792 0.7043 0.8238]), 3 bonds, id: 139773001587008>\n",
      "<C pos=([1.2938 0.6057 0.8741]), 3 bonds, id: 139773001587152>\n",
      "<H pos=([1.3991 0.6052 1.1984]), 1 bonds, id: 139773001587296>\n",
      "<H pos=([1.5481 0.779  1.1103]), 1 bonds, id: 139773001587440>\n",
      "<H pos=([1.8924 0.9643 0.835 ]), 1 bonds, id: 139773001587584>\n",
      "<H pos=([1.859  1.3623 0.6242]), 1 bonds, id: 139773001587728>\n",
      "<H pos=([1.7024 1.3576 0.7136]), 1 bonds, id: 139773001587872>\n",
      "<H pos=([1.7192 1.2732 0.5532]), 1 bonds, id: 139773001588016>\n",
      "<H pos=([1.5424 1.1695 0.6924]), 1 bonds, id: 139773001588160>\n",
      "<H pos=([1.4007 0.9895 0.7755]), 1 bonds, id: 139773001588304>\n",
      "<H pos=([1.6827 0.6024 0.7945]), 1 bonds, id: 139773001588448>\n",
      "<H pos=([1.7908 0.407  0.8986]), 1 bonds, id: 139773001588592>\n",
      "<H pos=([1.9405 0.4349 1.0915]), 1 bonds, id: 139773001605184>\n",
      "<H pos=([1.8745 0.8612 1.08  ]), 1 bonds, id: 139773001605328>\n",
      "<H pos=([2.0201 0.7789 1.242 ]), 1 bonds, id: 139773001605472>\n",
      "<H pos=([1.9483 0.5017 1.3215]), 1 bonds, id: 139773001605616>\n",
      "<H pos=([2.1544 0.5107 1.1732]), 1 bonds, id: 139773001605760>\n",
      "<H pos=([2.2197 0.6436 1.2758]), 1 bonds, id: 139773001605904>\n",
      "<H pos=([2.1935 0.6712 1.0996]), 1 bonds, id: 139773001606048>\n",
      "<H pos=([1.3734 0.7309 0.719 ]), 1 bonds, id: 139773001606192>\n",
      "<H pos=([1.2231 0.5584 0.8071]), 1 bonds, id: 139773001606336>\n",
      "<C pos=([1.8209 0.6586 1.3662]), 3 bonds, id: 139773001695392>\n",
      "<O pos=([1.724  0.6168 1.2975]), 1 bonds, id: 139773001695536>\n",
      "<C pos=([1.8013 0.7592 1.4722]), 3 bonds, id: 139773001695680>\n",
      "<C pos=([1.9114 0.8036 1.5469]), 3 bonds, id: 139773001695824>\n",
      "<C pos=([1.8947 0.899  1.6476]), 3 bonds, id: 139773001695968>\n",
      "<C pos=([1.7676 0.9524 1.6746]), 3 bonds, id: 139773001696112>\n",
      "<C pos=([1.7497 1.0545 1.7807]), 3 bonds, id: 139773001696256>\n",
      "<C pos=([1.8259 1.1741 1.7837]), 3 bonds, id: 139773001696400>\n",
      "<C pos=([1.8097 1.2632 1.8912]), 3 bonds, id: 139773001696544>\n",
      "<C pos=([1.7182 1.2371 1.9936]), 3 bonds, id: 139773001696688>\n",
      "<O pos=([1.7064 1.3304 2.0977]), 2 bonds, id: 139773001696832>\n",
      "<C pos=([1.6175 1.3169 2.2081]), 4 bonds, id: 139773001696976>\n",
      "<C pos=([1.6414 1.1196 1.9887]), 3 bonds, id: 139773001697120>\n",
      "<C pos=([1.6572 1.0295 1.8833]), 3 bonds, id: 139773001686896>\n",
      "<C pos=([1.9195 1.2105 1.6747]), 3 bonds, id: 139773001686704>\n",
      "<C pos=([1.8749 1.2166 1.5417]), 3 bonds, id: 139773001697216>\n",
      "<C pos=([1.9637 1.2496 1.4392]), 3 bonds, id: 139773001695296>\n",
      "<C pos=([2.0973 1.2777 1.4683]), 3 bonds, id: 139773001697456>\n",
      "<C pos=([2.1438 1.2735 1.6011]), 3 bonds, id: 139773001697600>\n",
      "<C pos=([2.0537 1.2399 1.7038]), 3 bonds, id: 139773001697744>\n",
      "<C pos=([2.2891 1.3031 1.6344]), 4 bonds, id: 139773001697888>\n",
      "<N pos=([2.3788 1.205  1.5729]), 3 bonds, id: 139773001698032>\n",
      "<C pos=([2.3285 1.445  1.5923]), 4 bonds, id: 139773001698176>\n",
      "<C pos=([1.6572 0.9071 1.6007]), 3 bonds, id: 139773001698320>\n",
      "<C pos=([1.6739 0.8115 1.5   ]), 3 bonds, id: 139773001698464>\n",
      "<H pos=([2.0104 0.7642 1.5274]), 1 bonds, id: 139773001698608>\n",
      "<H pos=([1.981  0.9311 1.7048]), 1 bonds, id: 139773001698752>\n",
      "<H pos=([1.8672 1.355  1.8944]), 1 bonds, id: 139773001698896>\n",
      "<H pos=([1.6291 1.4047 2.2749]), 1 bonds, id: 139773001699040>\n",
      "<H pos=([1.6418 1.225  2.2656]), 1 bonds, id: 139773001699184>\n",
      "<H pos=([1.5125 1.313  2.1723]), 1 bonds, id: 139773001723968>\n",
      "<H pos=([1.5697 1.0965 2.0663]), 1 bonds, id: 139773001724112>\n",
      "<H pos=([1.5984 0.9385 1.8829]), 1 bonds, id: 139773001724256>\n",
      "<H pos=([1.7714 1.1959 1.5175]), 1 bonds, id: 139773001724400>\n",
      "<H pos=([1.9287 1.2536 1.3369]), 1 bonds, id: 139773001724544>\n",
      "<H pos=([2.1642 1.3028 1.3871]), 1 bonds, id: 139773001724688>\n",
      "<H pos=([2.0882 1.235  1.8064]), 1 bonds, id: 139773001724832>\n",
      "<H pos=([2.3038 1.2975 1.7446]), 1 bonds, id: 139773001724976>\n",
      "<H pos=([2.3681 1.207  1.4689]), 1 bonds, id: 139773001725120>\n",
      "<H pos=([2.3237 1.4569 1.482 ]), 1 bonds, id: 139773001725264>\n",
      "<H pos=([2.4324 1.4664 1.6253]), 1 bonds, id: 139773001725408>\n",
      "<H pos=([2.2607 1.5191 1.6397]), 1 bonds, id: 139773001725552>\n",
      "<H pos=([1.5584 0.9469 1.62  ]), 1 bonds, id: 139773001725696>\n",
      "<H pos=([1.5872 0.7788 1.444 ]), 1 bonds, id: 139773001725840>\n",
      "<C pos=([2.3392 1.068  1.6195]), 3 bonds, id: 139773001340144>\n",
      "<O pos=([2.2392 1.0123 1.567 ]), 1 bonds, id: 139773001340288>\n",
      "<C pos=([2.417  1.0008 1.7252]), 3 bonds, id: 139773001340432>\n",
      "<C pos=([2.5279 1.0656 1.7815]), 3 bonds, id: 139773001340576>\n",
      "<C pos=([2.6027 1.0035 1.8819]), 3 bonds, id: 139773001340720>\n",
      "<C pos=([2.5671 0.8758 1.9283]), 3 bonds, id: 139773001340864>\n",
      "<C pos=([2.6456 0.8101 2.0356]), 3 bonds, id: 139773001341008>\n",
      "<C pos=([2.671  0.8733 2.16  ]), 3 bonds, id: 139773001341152>\n",
      "<C pos=([2.7525 0.809  2.2546]), 3 bonds, id: 139773001341296>\n",
      "<C pos=([2.807  0.6827 2.2291]), 3 bonds, id: 139773001341440>\n",
      "<O pos=([2.8871 0.6236 2.3279]), 2 bonds, id: 139773001341584>\n",
      "<C pos=([2.9487 0.4958 2.3156]), 4 bonds, id: 139773001341728>\n",
      "<C pos=([2.7795 0.6196 2.1067]), 3 bonds, id: 139773001341872>\n",
      "<C pos=([2.6996 0.6828 2.0112]), 3 bonds, id: 139773001342016>\n",
      "<C pos=([2.6106 1.0041 2.1954]), 3 bonds, id: 139773001342160>\n",
      "<C pos=([2.4715 1.022  2.19  ]), 3 bonds, id: 139773001342304>\n",
      "<C pos=([2.4152 1.1455 2.2222]), 3 bonds, id: 139773001342448>\n",
      "<C pos=([2.4969 1.252  2.2609]), 3 bonds, id: 139773001342592>\n",
      "<C pos=([2.6365 1.2358 2.2684]), 3 bonds, id: 139773001342736>\n",
      "<C pos=([2.6924 1.111  2.2356]), 3 bonds, id: 139773001342880>\n",
      "<C pos=([2.7268 1.3508 2.3096]), 4 bonds, id: 139773001375856>\n",
      "<N pos=([2.7191 1.4615 2.214 ]), 3 bonds, id: 139773001376000>\n",
      "<C pos=([2.6938 1.4002 2.4508]), 4 bonds, id: 139773001376144>\n",
      "<C pos=([2.4569 0.8104 1.8711]), 3 bonds, id: 139773001376288>\n",
      "<C pos=([2.3821 0.8724 1.7706]), 3 bonds, id: 139773001376432>\n",
      "<H pos=([2.5568 1.1644 1.7476]), 1 bonds, id: 139773001376576>\n",
      "<H pos=([2.6886 1.055  1.9233]), 1 bonds, id: 139773001376720>\n",
      "<H pos=([2.7724 0.8563 2.3501]), 1 bonds, id: 139773001376864>\n",
      "<H pos=([3.006  0.4742 2.4081]), 1 bonds, id: 139773001377008>\n",
      "<H pos=([3.0188 0.4953 2.2295]), 1 bonds, id: 139773001377152>\n",
      "<H pos=([2.8714 0.4172 2.3025]), 1 bonds, id: 139773001377296>\n",
      "<H pos=([2.8199 0.5219 2.0839]), 1 bonds, id: 139773001377440>\n",
      "<H pos=([2.6817 0.633  1.9167]), 1 bonds, id: 139773001377584>\n",
      "<H pos=([2.4067 0.9402 2.161 ]), 1 bonds, id: 139773001377728>\n",
      "<H pos=([2.3079 1.1588 2.2173]), 1 bonds, id: 139773001377872>\n",
      "<H pos=([2.4508 1.3469 2.2852]), 1 bonds, id: 139773001378016>\n",
      "<H pos=([2.7998 1.0972 2.2396]), 1 bonds, id: 139773001378160>\n",
      "<H pos=([2.8324 1.3159 2.3122]), 1 bonds, id: 139773001378304>\n",
      "<H pos=([2.621  1.4973 2.2086]), 1 bonds, id: 139773001378448>\n",
      "<H pos=([2.5917 1.4437 2.4553]), 1 bonds, id: 139773001378592>\n",
      "<H pos=([2.7666 1.4784 2.4812]), 1 bonds, id: 139773001378736>\n",
      "<H pos=([2.7004 1.3161 2.5232]), 1 bonds, id: 139773001378880>\n",
      "<H pos=([2.4279 0.7118 1.9055]), 1 bonds, id: 139773001379024>\n",
      "<H pos=([2.2971 0.8202 1.7287]), 1 bonds, id: 139773001379168>\n",
      "<C pos=([-0.3015 -0.6977  0.1162]), 4 bonds, id: 139773002516176>\n",
      "<O pos=([-0.2242 -0.5818  0.1039]), 2 bonds, id: 139773002043744>\n",
      "<H pos=([-0.4009 -0.6731  0.1595]), 1 bonds, id: 139773002043840>\n",
      "<H pos=([-0.2497 -0.7689  0.1838]), 1 bonds, id: 139773002043984>\n",
      "<H pos=([-0.3146 -0.7458  0.0169]), 1 bonds, id: 139773002044128>\n",
      "<C pos=([3.059  1.2142 1.9722]), 4 bonds, id: 139773002045040>\n",
      "<C pos=([2.9252 1.2825 1.9398]), 4 bonds, id: 139773002100896>\n",
      "<C pos=([2.9498 1.3932 1.8355]), 4 bonds, id: 139773002100992>\n",
      "<C pos=([2.8275 1.1769 1.8847]), 4 bonds, id: 139773002101136>\n",
      "<O pos=([2.8754 1.3386 2.0622]), 2 bonds, id: 139773002101280>\n",
      "<C pos=([2.7556 1.4099 2.078 ]), 3 bonds, id: 139773002101424>\n",
      "<O pos=([2.6781 1.4317 1.9812]), 1 bonds, id: 139773002101568>\n",
      "<H pos=([3.1034 1.1684 1.8812]), 1 bonds, id: 139773002101712>\n",
      "<H pos=([3.131  1.2882 2.0133]), 1 bonds, id: 139773002101856>\n",
      "<H pos=([3.0442 1.1346 2.0483]), 1 bonds, id: 139773002102000>\n",
      "<H pos=([3.0144 1.4727 1.8785]), 1 bonds, id: 139773002102144>\n",
      "<H pos=([2.8546 1.4396 1.8025]), 1 bonds, id: 139773002102288>\n",
      "<H pos=([3.     1.3516 1.7455]), 1 bonds, id: 139773002102432>\n",
      "<H pos=([2.8045 1.1015 1.963 ]), 1 bonds, id: 139773002102576>\n",
      "<H pos=([2.7322 1.2231 1.8518]), 1 bonds, id: 139773002102720>\n",
      "<H pos=([2.8717 1.1247 1.7971]), 1 bonds, id: 139773002102864>\n"
     ]
    }
   ],
   "source": [
    "for p in chain.particles():\n",
    "    print(p)"
   ]
  },
  {
   "cell_type": "code",
   "execution_count": 10,
   "id": "7e5b1cba",
   "metadata": {},
   "outputs": [],
   "source": [
    "# no need for rotation of peptide bonds\n",
    "#for bond in chain.bonds():\n",
    "#    if bond[0].name == \"N\":\n",
    "#        if bond[1].n_direct_bonds == 3:\n",
    "#            print(\"Rotating bond:\", bond, \"by\", np.pi/2)\n",
    "#            chain.rotate_dihedral(bond, np.pi/2)\n",
    "#            \n",
    "#    if bond[1].name == \"N\":\n",
    "#        if bond[0].n_direct_bonds == 3:\n",
    "#            print(\"Rotating bond:\", bond, \"by\", np.pi/2)\n",
    "#            chain.rotate_dihedral(bond, np.pi/2)       "
   ]
  },
  {
   "cell_type": "code",
   "execution_count": 11,
   "id": "afea3dba",
   "metadata": {},
   "outputs": [
    {
     "data": {
      "application/3dmoljs_load.v0": "<div id=\"3dmolviewer_16808262540397944\"  style=\"position: relative; width: 640px; height: 480px\">\n        <p id=\"3dmolwarning_16808262540397944\" style=\"background-color:#ffcccc;color:black\">You appear to be running in JupyterLab (or JavaScript failed to load for some other reason).  You need to install the 3dmol extension: <br>\n        <tt>jupyter labextension install jupyterlab_3dmol</tt></p>\n        </div>\n<script>\n\nvar loadScriptAsync = function(uri){\n  return new Promise((resolve, reject) => {\n    var tag = document.createElement('script');\n    tag.src = uri;\n    tag.async = true;\n    tag.onload = () => {\n      resolve();\n    };\n  var firstScriptTag = document.getElementsByTagName('script')[0];\n  firstScriptTag.parentNode.insertBefore(tag, firstScriptTag);\n});\n};\n\nif(typeof $3Dmolpromise === 'undefined') {\n$3Dmolpromise = null;\n  $3Dmolpromise = loadScriptAsync('https://cdn.jsdelivr.net/npm/3dmol@latest/build/3Dmol-min.min.js');\n}\n\nvar viewer_16808262540397944 = null;\nvar warn = document.getElementById(\"3dmolwarning_16808262540397944\");\nif(warn) {\n    warn.parentNode.removeChild(warn);\n}\n$3Dmolpromise.then(function() {\nviewer_16808262540397944 = $3Dmol.createViewer($(\"#3dmolviewer_16808262540397944\"),{backgroundColor:\"white\"});\nviewer_16808262540397944.zoomTo();\n\tviewer_16808262540397944.addModel(\"@<TRIPOS>MOLECULE\\nRES\\n285 302 1 0 1\\nSMALL\\nNO_CHARGES\\n@<TRIPOS>CRYSIN\\n   40.4903    27.8793    32.8775    90.0000    90.0000    90.0000  1  1\\n@<TRIPOS>ATOM\\n       1 C           -3.0021    -4.9111     0.1167 C             1 RES     \\n       2 O           -3.8790    -5.4074    -0.6395 O             1 RES     \\n       3 C           -2.7172    -3.4646     0.1056 C             1 RES     \\n       4 C           -1.7345    -2.9453     0.9614 C             1 RES     \\n       5 C           -1.4499    -1.5771     0.9631 C             1 RES     \\n       6 C           -2.1376    -0.7072     0.1013 C             1 RES     \\n       7 C           -1.8309     0.7439     0.0931 C             1 RES     \\n       8 C           -0.5127     1.2341    -0.0912 C             1 RES     \\n       9 C           -0.2750     2.6169    -0.0112 C             1 RES     \\n      10 C           -1.3190     3.5169     0.2221 C             1 RES     \\n      11 O           -1.0166     4.8854     0.2851 O             1 RES     \\n      12 C           -1.9768     5.9116     0.5142 C             1 RES     \\n      13 C           -2.6259     3.0264     0.3800 C             1 RES     \\n      14 C           -2.8761     1.6549     0.3155 C             1 RES     \\n      15 C            0.6231     0.3353    -0.4080 C             1 RES     \\n      16 C            0.5583    -0.5314    -1.5102 C             1 RES     \\n      17 C            1.6242    -1.3848    -1.7976 C             1 RES     \\n      18 C            2.7669    -1.3768    -0.9950 C             1 RES     \\n      19 C            2.8583    -0.5057     0.1065 C             1 RES     \\n      20 C            1.7788     0.3497     0.3902 C             1 RES     \\n      21 C            4.0917    -0.4897     0.9941 C             1 RES     \\n      22 N            4.2784    -1.7757     1.6701 N             1 RES     \\n      23 C            5.3486    -0.1181     0.2013 C             1 RES     \\n      24 C           -3.1297    -1.2247    -0.7463 C             1 RES     \\n      25 C           -3.4155    -2.5930    -0.7473 C             1 RES     \\n      26 H           -1.1881    -3.5987     1.6306 H             1 RES     \\n      27 H           -0.6948    -1.1957     1.6395 H             1 RES     \\n      28 H            0.7278     3.0029    -0.1525 H             1 RES     \\n      29 H           -1.4634     6.8948     0.5148 H             1 RES     \\n      30 H           -2.4646     5.7646     1.5010 H             1 RES     \\n      31 H           -2.7388     5.9088    -0.2936 H             1 RES     \\n      32 H           -3.4556     3.6960     0.5607 H             1 RES     \\n      33 H           -3.8891     1.2999     0.4623 H             1 RES     \\n      34 H           -0.3171    -0.5446    -2.1477 H             1 RES     \\n      35 H            1.5651    -2.0544    -2.6459 H             1 RES     \\n      36 H            3.5790    -2.0496    -1.2373 H             1 RES     \\n      37 H            1.8278     1.0174     1.2423 H             1 RES     \\n      38 H            3.9723     0.2887     1.7807 H             1 RES     \\n      39 H            4.3948    -2.5371     0.9628 H             1 RES     \\n      40 H            5.5828    -0.8883    -0.5635 H             1 RES     \\n      41 H            6.2156    -0.0334     0.8905 H             1 RES     \\n      42 H            5.2054     0.8610    -0.3040 H             1 RES     \\n      43 H           -3.6721    -0.5702    -1.4176 H             1 RES     \\n      44 H           -4.1799    -2.9683    -1.4162 H             1 RES     \\n      45 C            3.0430    -2.0838     2.4631 C             1 RES     \\n      46 O            2.0276    -2.5250     1.8619 O             1 RES     \\n      47 C            3.0308    -1.8690     3.9216 C             1 RES     \\n      48 C            4.1794    -1.3771     4.5592 C             1 RES     \\n      49 C            4.1855    -1.1656     5.9405 C             1 RES     \\n      50 C            3.0385    -1.4339     6.7055 C             1 RES     \\n      51 C            3.0380    -1.2008     8.1702 C             1 RES     \\n      52 C            3.4020     0.0486     8.7342 C             1 RES     \\n      53 C            3.4565     0.1833    10.1320 C             1 RES     \\n      54 C            3.1345    -0.8855    10.9737 C             1 RES     \\n      55 O            3.2031    -0.6848    12.3605 O             1 RES     \\n      56 C            2.9028    -1.6805    13.3331 C             1 RES     \\n      57 C            2.7518    -2.1133    10.4084 C             1 RES     \\n      58 C            2.7047    -2.2663     9.0221 C             1 RES     \\n      59 C            3.6888     1.2365     7.8945 C             1 RES     \\n      60 C            2.7476     1.6883     6.9563 C             1 RES     \\n      61 C            3.0266     2.7990     6.1589 C             1 RES     \\n      62 C            4.2414     3.4741     6.2947 C             1 RES     \\n      63 C            5.1931     3.0464     7.2390 C             1 RES     \\n      64 C            4.9047     1.9250     8.0372 C             1 RES     \\n      65 C            6.5227     3.7655     7.3943 C             1 RES     \\n      66 N            7.3219     3.6782     6.1698 N             1 RES     \\n      67 C            6.3247     5.2302     7.7968 C             1 RES     \\n      68 C            1.8930    -1.9379     6.0696 C             1 RES     \\n      69 C            1.8872    -2.1508     4.6880 C             1 RES     \\n      70 H            5.0735    -1.1583     3.9881 H             1 RES     \\n      71 H            5.0864    -0.7954     6.4141 H             1 RES     \\n      72 H            3.7312     1.1339    10.5740 H             1 RES     \\n      73 H            3.0405    -1.2507    14.3463 H             1 RES     \\n      74 H            3.5888    -2.5461    13.2178 H             1 RES     \\n      75 H            1.8480    -2.0115    13.2276 H             1 RES     \\n      76 H            2.4957    -2.9592    11.0316 H             1 RES     \\n      77 H            2.4278    -3.2295     8.6106 H             1 RES     \\n      78 H            1.7973     1.1812     6.8437 H             1 RES     \\n      79 H            2.2985     3.1385     5.4337 H             1 RES     \\n      80 H            4.4350     4.3313     5.6633 H             1 RES     \\n      81 H            5.6320     1.5749     8.7601 H             1 RES     \\n      82 H            7.1087     3.2892     8.2120 H             1 RES     \\n      83 H            6.8043     4.1167     5.3738 H             1 RES     \\n      84 H            5.8075     5.7999     6.9963 H             1 RES     \\n      85 H            7.3115     5.7048     7.9833 H             1 RES     \\n      86 H            5.7243     5.2915     8.7297 H             1 RES     \\n      87 H            0.9988    -2.1521     6.6419 H             1 RES     \\n      88 H            0.9883    -2.5329     4.2204 H             1 RES     \\n      89 C            7.5238     2.2309     5.8317 C             1 RES     \\n      90 O            6.5825     1.5957     5.2861 O             1 RES     \\n      91 C            8.8079     1.5746     6.1387 C             1 RES     \\n      92 C            9.8351     2.3119     6.7460 C             1 RES     \\n      93 C           11.0581     1.7059     7.0459 C             1 RES     \\n      94 C           11.2698     0.3490     6.7517 C             1 RES     \\n      95 C           12.5629    -0.3000     7.0781 C             1 RES     \\n      96 C           13.1178    -0.2596     8.3827 C             1 RES     \\n      97 C           14.3834    -0.8268     8.6104 C             1 RES     \\n      98 C           15.0914    -1.4506     7.5789 C             1 RES     \\n      99 O           16.3474    -2.0024     7.8726 O             1 RES     \\n     100 C           17.1760    -2.6664     6.9239 C             1 RES     \\n     101 C           14.5253    -1.5080     6.2946 C             1 RES     \\n     102 C           13.2749    -0.9386     6.0499 C             1 RES     \\n     103 C           12.3859     0.3280     9.5305 C             1 RES     \\n     104 C           11.0969    -0.1213     9.8573 C             1 RES     \\n     105 C           10.4063     0.4431    10.9304 C             1 RES     \\n     106 C           10.9963     1.4537    11.6923 C             1 RES     \\n     107 C           12.2933     1.9091    11.3905 C             1 RES     \\n     108 C           12.9815     1.3362    10.3062 C             1 RES     \\n     109 C           12.9467     3.0130    12.2051 C             1 RES     \\n     110 N           12.2029     4.2699    12.0926 N             1 RES     \\n     111 C           13.0944     2.6123    13.6762 C             1 RES     \\n     112 C           10.2465    -0.3858     6.1327 C             1 RES     \\n     113 C            9.0235     0.2204     5.8314 C             1 RES     \\n     114 H            9.6918     3.3583     6.9866 H             1 RES     \\n     115 H           11.8414     2.2963     7.5051 H             1 RES     \\n     116 H           14.8162    -0.8036     9.6037 H             1 RES     \\n     117 H           18.1070    -2.9999     7.4263 H             1 RES     \\n     118 H           17.4455    -1.9720     6.1002 H             1 RES     \\n     119 H           16.6525    -3.5574     6.5173 H             1 RES     \\n     120 H           15.0466    -1.9840     5.4754 H             1 RES     \\n     121 H           12.8696    -0.9766     5.0458 H             1 RES     \\n     122 H           10.6278    -0.9099     9.2818 H             1 RES     \\n     123 H            9.4105     0.0955    11.1733 H             1 RES     \\n     124 H           10.4395     1.8769    12.5180 H             1 RES     \\n     125 H           13.9758     1.6843    10.0525 H             1 RES     \\n     126 H           13.9757     3.1966    11.8225 H             1 RES     \\n     127 H           11.2265     4.1393    12.4434 H             1 RES     \\n     128 H           12.1026     2.4799    14.1575 H             1 RES     \\n     129 H           13.6485     3.4023    14.2265 H             1 RES     \\n     130 H           13.6652     1.6624    13.7574 H             1 RES     \\n     131 H           10.3904    -1.4331     5.8967 H             1 RES     \\n     132 H            8.2474    -0.3704     5.3610 H             1 RES     \\n     133 C           12.1133     4.6453    10.6431 C             1 RES     \\n     134 O           11.2709     4.0585     9.9129 O             1 RES     \\n     135 C           13.0028     5.6855    10.0949 C             1 RES     \\n     136 C           13.9289     6.3192    10.9365 C             1 RES     \\n     137 C           14.7811     7.3061    10.4339 C             1 RES     \\n     138 C           14.7272     7.6682     9.0779 C             1 RES     \\n     139 C           15.6373     8.7078     8.5388 C             1 RES     \\n     140 C           17.0445     8.6341     8.7000 C             1 RES     \\n     141 C           17.8471     9.6895     8.2342 C             1 RES     \\n     142 C           17.2835    10.7971     7.5938 C             1 RES     \\n     143 O           18.1398    11.8146     7.1469 O             1 RES     \\n     144 C           17.7062    12.9955     6.4798 C             1 RES     \\n     145 C           15.8911    10.8525     7.4162 C             1 RES     \\n     146 C           15.0797     9.8180     7.8842 C             1 RES     \\n     147 C           17.7052     7.4553     9.3103 C             1 RES     \\n     148 C           17.4781     6.1683     8.7981 C             1 RES     \\n     149 C           18.0918     5.0601     9.3832 C             1 RES     \\n     150 C           18.9430     5.2246    10.4778 C             1 RES     \\n     151 C           19.1955     6.5076    10.9981 C             1 RES     \\n     152 C           18.5715     7.6189    10.4037 C             1 RES     \\n     153 C           20.1135     6.7031    12.1932 C             1 RES     \\n     154 N           19.5805     6.0441    13.3879 N             1 RES     \\n     155 C           21.5316     6.2046    11.8988 C             1 RES     \\n     156 C           13.7920     7.0431     8.2383 C             1 RES     \\n     157 C           12.9385     6.0568     8.7411 C             1 RES     \\n     158 H           13.9914     6.0519    11.9844 H             1 RES     \\n     159 H           15.4814     7.7902    11.1035 H             1 RES     \\n     160 H           18.9236     9.6429     8.3500 H             1 RES     \\n     161 H           18.5896    13.6227     6.2421 H             1 RES     \\n     162 H           17.0241    13.5762     7.1361 H             1 RES     \\n     163 H           17.1920    12.7315     5.5316 H             1 RES     \\n     164 H           15.4241    11.6946     6.9242 H             1 RES     \\n     165 H           14.0067     9.8945     7.7547 H             1 RES     \\n     166 H           16.8271     6.0238     7.9447 H             1 RES     \\n     167 H           17.9078     4.0700     8.9865 H             1 RES     \\n     168 H           19.4051     4.3494    10.9152 H             1 RES     \\n     169 H           18.7451     8.6123    10.8002 H             1 RES     \\n     170 H           20.2008     7.7893    12.4200 H             1 RES     \\n     171 H           19.4828     5.0173    13.2155 H             1 RES     \\n     172 H           21.5445     5.1069    11.7319 H             1 RES     \\n     173 H           22.1967     6.4363    12.7577 H             1 RES     \\n     174 H           21.9347     6.7120    10.9963 H             1 RES     \\n     175 H           13.7339     7.3090     7.1899 H             1 RES     \\n     176 H           12.2314     5.5842     8.0709 H             1 RES     \\n     177 C           18.2091     6.5861    13.6625 C             1 RES     \\n     178 O           17.2399     6.1675    12.9751 O             1 RES     \\n     179 C           18.0128     7.5923    14.7221 C             1 RES     \\n     180 C           19.1142     8.0358    15.4690 C             1 RES     \\n     181 C           18.9474     8.9903    16.4760 C             1 RES     \\n     182 C           17.6765     9.5239    16.7457 C             1 RES     \\n     183 C           17.4974    10.5446    17.8067 C             1 RES     \\n     184 C           18.2589    11.7408    17.8373 C             1 RES     \\n     185 C           18.0975    12.6324    18.9117 C             1 RES     \\n     186 C           17.1824    12.3711    19.9357 C             1 RES     \\n     187 O           17.0645    13.3038    20.9771 O             1 RES     \\n     188 C           16.1755    13.1687    22.0811 C             1 RES     \\n     189 C           16.4142    11.1960    19.8867 C             1 RES     \\n     190 C           16.5719    10.2949    18.8328 C             1 RES     \\n     191 C           19.1953    12.1048    16.7469 C             1 RES     \\n     192 C           18.7494    12.1658    15.4174 C             1 RES     \\n     193 C           19.6368    12.4963    14.3924 C             1 RES     \\n     194 C           20.9734    12.7768    14.6833 C             1 RES     \\n     195 C           21.4379    12.7351    16.0111 C             1 RES     \\n     196 C           20.5375    12.3993    17.0378 C             1 RES     \\n     197 C           22.8909    13.0306    16.3438 C             1 RES     \\n     198 N           23.7884    12.0496    15.7291 N             1 RES     \\n     199 C           23.2855    14.4496    15.9229 C             1 RES     \\n     200 C           16.5722     9.0711    16.0069 C             1 RES     \\n     201 C           16.7386     8.1153    15.0004 C             1 RES     \\n     202 H           20.1044     7.6418    15.2744 H             1 RES     \\n     203 H           19.8095     9.3110    17.0477 H             1 RES     \\n     204 H           18.6724    13.5504    18.9443 H             1 RES     \\n     205 H           16.2910    14.0466    22.7491 H             1 RES     \\n     206 H           16.4176    12.2500    22.6561 H             1 RES     \\n     207 H           15.1250    13.1302    21.7229 H             1 RES     \\n     208 H           15.6971    10.9650    20.6625 H             1 RES     \\n     209 H           15.9836     9.3851    18.8292 H             1 RES     \\n     210 H           17.7143    11.9591    15.1751 H             1 RES     \\n     211 H           19.2873    12.5362    13.3688 H             1 RES     \\n     212 H           21.6423    13.0283    13.8708 H             1 RES     \\n     213 H           20.8819    12.3501    18.0640 H             1 RES     \\n     214 H           23.0376    12.9752    17.4458 H             1 RES     \\n     215 H           23.6807    12.0700    14.6891 H             1 RES     \\n     216 H           23.2369    14.5690    14.8201 H             1 RES     \\n     217 H           24.3241    14.6638    16.2533 H             1 RES     \\n     218 H           22.6068    15.1907    16.3969 H             1 RES     \\n     219 H           15.5837     9.4694    16.2002 H             1 RES     \\n     220 H           15.8719     7.7884    14.4396 H             1 RES     \\n     221 C           23.3925    10.6799    16.1952 C             1 RES     \\n     222 O           22.3920    10.1233    15.6696 O             1 RES     \\n     223 C           24.1701    10.0078    17.2522 C             1 RES     \\n     224 C           25.2791    10.6564    17.8153 C             1 RES     \\n     225 C           26.0267    10.0353    18.8194 C             1 RES     \\n     226 C           25.6708     8.7584    19.2834 C             1 RES     \\n     227 C           26.4558     8.1005    20.3562 C             1 RES     \\n     228 C           26.7096     8.7333    21.5999 C             1 RES     \\n     229 C           27.5255     8.0897    22.5460 C             1 RES     \\n     230 C           28.0696     6.8274    22.2909 C             1 RES     \\n     231 O           28.8712     6.2360    23.2788 O             1 RES     \\n     232 C           29.4873     4.9582    23.1561 C             1 RES     \\n     233 C           27.7946     6.1960    21.0665 C             1 RES     \\n     234 C           26.9963     6.8276    20.1119 C             1 RES     \\n     235 C           26.1063    10.0405    21.9544 C             1 RES     \\n     236 C           24.7153    10.2200    21.8999 C             1 RES     \\n     237 C           24.1523    11.4555    22.2221 C             1 RES     \\n     238 C           24.9687    12.5202    22.6090 C             1 RES     \\n     239 C           26.3646    12.3577    22.6839 C             1 RES     \\n     240 C           26.9239    11.1098    22.3558 C             1 RES     \\n     241 C           27.2676    13.5082    23.0963 C             1 RES     \\n     242 N           27.1910    14.6149    22.1397 N             1 RES     \\n     243 C           26.9379    14.0019    24.5083 C             1 RES     \\n     244 C           24.5686     8.1039    18.7114 C             1 RES     \\n     245 C           23.8214     8.7244    17.7061 C             1 RES     \\n     246 H           25.5684    11.6437    17.4763 H             1 RES     \\n     247 H           26.8856    10.5495    19.2329 H             1 RES     \\n     248 H           27.7243     8.5628    23.5005 H             1 RES     \\n     249 H           30.0601     4.7417    24.0810 H             1 RES     \\n     250 H           30.1879     4.9532    22.2946 H             1 RES     \\n     251 H           28.7137     4.1723    23.0248 H             1 RES     \\n     252 H           28.1993     5.2194    20.8387 H             1 RES     \\n     253 H           26.8170     6.3295    19.1666 H             1 RES     \\n     254 H           24.0669     9.4024    21.6096 H             1 RES     \\n     255 H           23.0793    11.5883    22.1725 H             1 RES     \\n     256 H           24.5083    13.4689    22.8517 H             1 RES     \\n     257 H           27.9979    10.9716    22.3958 H             1 RES     \\n     258 H           28.3243    13.1594    23.1219 H             1 RES     \\n     259 H           26.2099    14.9727    22.0859 H             1 RES     \\n     260 H           25.9174    14.4372    24.5530 H             1 RES     \\n     261 H           27.6661    14.7837    24.8121 H             1 RES     \\n     262 H           27.0040    13.1611    25.2316 H             1 RES     \\n     263 H           24.2785     7.1184    19.0546 H             1 RES     \\n     264 H           22.9709     8.2016    17.2867 H             1 RES     \\n     265 C           -3.0147    -6.9769     1.1625 C             1 RES     \\n     266 O           -2.2420    -5.8179     1.0386 O             1 RES     \\n     267 H           -4.0087    -6.7308     1.5953 H             1 RES     \\n     268 H           -2.4975    -7.6887     1.8382 H             1 RES     \\n     269 H           -3.1464    -7.4581     0.1690 H             1 RES     \\n     270 C           30.5898    12.1424    19.7216 C             1 RES     \\n     271 C           29.2520    12.8252    19.3981 C             1 RES     \\n     272 C           29.4981    13.9321    18.3549 C             1 RES     \\n     273 C           28.2748    11.7688    18.8475 C             1 RES     \\n     274 O           28.7536    13.3858    20.6223 O             1 RES     \\n     275 C           27.5564    14.0986    20.7796 C             1 RES     \\n     276 O           26.7812    14.3166    19.8116 O             1 RES     \\n     277 H           31.0344    11.6838    18.8117 H             1 RES     \\n     278 H           31.3104    12.8819    20.1328 H             1 RES     \\n     279 H           30.4419    11.3460    20.4825 H             1 RES     \\n     280 H           30.1443    14.7272    18.7849 H             1 RES     \\n     281 H           28.5464    14.3963    18.0252 H             1 RES     \\n     282 H           29.9998    13.5160    17.4546 H             1 RES     \\n     283 H           28.0448    11.0146    19.6302 H             1 RES     \\n     284 H           27.3222    12.2314    18.5181 H             1 RES     \\n     285 H           28.7167    11.2469    17.9712 H             1 RES     \\n@<TRIPOS>BOND\\n       1        2        1 1\\n       2        3        1 1\\n       3      266        1 1\\n       4        4        3 1\\n       5       25        3 1\\n       6        5        4 1\\n       7       26        4 1\\n       8        6        5 1\\n       9       27        5 1\\n      10        7        6 1\\n      11       24        6 1\\n      12        8        7 1\\n      13       14        7 1\\n      14        9        8 1\\n      15       15        8 1\\n      16       10        9 1\\n      17       28        9 1\\n      18       11       10 1\\n      19       13       10 1\\n      20       12       11 1\\n      21       29       12 1\\n      22       30       12 1\\n      23       31       12 1\\n      24       14       13 1\\n      25       32       13 1\\n      26       33       14 1\\n      27       16       15 1\\n      28       20       15 1\\n      29       17       16 1\\n      30       34       16 1\\n      31       18       17 1\\n      32       35       17 1\\n      33       19       18 1\\n      34       36       18 1\\n      35       20       19 1\\n      36       21       19 1\\n      37       37       20 1\\n      38       22       21 1\\n      39       23       21 1\\n      40       38       21 1\\n      41       39       22 1\\n      42       45       22 1\\n      43       40       23 1\\n      44       41       23 1\\n      45       42       23 1\\n      46       25       24 1\\n      47       43       24 1\\n      48       44       25 1\\n      49       46       45 1\\n      50       47       45 1\\n      51       48       47 1\\n      52       69       47 1\\n      53       49       48 1\\n      54       70       48 1\\n      55       50       49 1\\n      56       71       49 1\\n      57       51       50 1\\n      58       68       50 1\\n      59       52       51 1\\n      60       58       51 1\\n      61       53       52 1\\n      62       59       52 1\\n      63       54       53 1\\n      64       72       53 1\\n      65       55       54 1\\n      66       57       54 1\\n      67       56       55 1\\n      68       73       56 1\\n      69       74       56 1\\n      70       75       56 1\\n      71       58       57 1\\n      72       76       57 1\\n      73       77       58 1\\n      74       60       59 1\\n      75       64       59 1\\n      76       61       60 1\\n      77       78       60 1\\n      78       62       61 1\\n      79       79       61 1\\n      80       63       62 1\\n      81       80       62 1\\n      82       64       63 1\\n      83       65       63 1\\n      84       81       64 1\\n      85       66       65 1\\n      86       67       65 1\\n      87       82       65 1\\n      88       83       66 1\\n      89       89       66 1\\n      90       84       67 1\\n      91       85       67 1\\n      92       86       67 1\\n      93       69       68 1\\n      94       87       68 1\\n      95       88       69 1\\n      96       90       89 1\\n      97       91       89 1\\n      98       92       91 1\\n      99      113       91 1\\n     100       93       92 1\\n     101      114       92 1\\n     102       94       93 1\\n     103      115       93 1\\n     104       95       94 1\\n     105      112       94 1\\n     106       96       95 1\\n     107      102       95 1\\n     108       97       96 1\\n     109      103       96 1\\n     110       98       97 1\\n     111      116       97 1\\n     112       99       98 1\\n     113      101       98 1\\n     114      100       99 1\\n     115      117      100 1\\n     116      118      100 1\\n     117      119      100 1\\n     118      102      101 1\\n     119      120      101 1\\n     120      121      102 1\\n     121      104      103 1\\n     122      108      103 1\\n     123      105      104 1\\n     124      122      104 1\\n     125      106      105 1\\n     126      123      105 1\\n     127      107      106 1\\n     128      124      106 1\\n     129      108      107 1\\n     130      109      107 1\\n     131      125      108 1\\n     132      110      109 1\\n     133      111      109 1\\n     134      126      109 1\\n     135      127      110 1\\n     136      133      110 1\\n     137      128      111 1\\n     138      129      111 1\\n     139      130      111 1\\n     140      113      112 1\\n     141      131      112 1\\n     142      132      113 1\\n     143      134      133 1\\n     144      135      133 1\\n     145      136      135 1\\n     146      157      135 1\\n     147      137      136 1\\n     148      158      136 1\\n     149      138      137 1\\n     150      159      137 1\\n     151      139      138 1\\n     152      156      138 1\\n     153      140      139 1\\n     154      146      139 1\\n     155      141      140 1\\n     156      147      140 1\\n     157      142      141 1\\n     158      160      141 1\\n     159      143      142 1\\n     160      145      142 1\\n     161      144      143 1\\n     162      161      144 1\\n     163      162      144 1\\n     164      163      144 1\\n     165      146      145 1\\n     166      164      145 1\\n     167      165      146 1\\n     168      148      147 1\\n     169      152      147 1\\n     170      149      148 1\\n     171      166      148 1\\n     172      150      149 1\\n     173      167      149 1\\n     174      151      150 1\\n     175      168      150 1\\n     176      152      151 1\\n     177      153      151 1\\n     178      169      152 1\\n     179      154      153 1\\n     180      155      153 1\\n     181      170      153 1\\n     182      171      154 1\\n     183      177      154 1\\n     184      172      155 1\\n     185      173      155 1\\n     186      174      155 1\\n     187      157      156 1\\n     188      175      156 1\\n     189      176      157 1\\n     190      178      177 1\\n     191      179      177 1\\n     192      180      179 1\\n     193      201      179 1\\n     194      181      180 1\\n     195      202      180 1\\n     196      182      181 1\\n     197      203      181 1\\n     198      183      182 1\\n     199      200      182 1\\n     200      184      183 1\\n     201      190      183 1\\n     202      185      184 1\\n     203      191      184 1\\n     204      186      185 1\\n     205      204      185 1\\n     206      187      186 1\\n     207      189      186 1\\n     208      188      187 1\\n     209      205      188 1\\n     210      206      188 1\\n     211      207      188 1\\n     212      190      189 1\\n     213      208      189 1\\n     214      209      190 1\\n     215      192      191 1\\n     216      196      191 1\\n     217      193      192 1\\n     218      210      192 1\\n     219      194      193 1\\n     220      211      193 1\\n     221      195      194 1\\n     222      212      194 1\\n     223      196      195 1\\n     224      197      195 1\\n     225      213      196 1\\n     226      198      197 1\\n     227      199      197 1\\n     228      214      197 1\\n     229      215      198 1\\n     230      221      198 1\\n     231      216      199 1\\n     232      217      199 1\\n     233      218      199 1\\n     234      201      200 1\\n     235      219      200 1\\n     236      220      201 1\\n     237      222      221 1\\n     238      223      221 1\\n     239      224      223 1\\n     240      245      223 1\\n     241      225      224 1\\n     242      246      224 1\\n     243      226      225 1\\n     244      247      225 1\\n     245      227      226 1\\n     246      244      226 1\\n     247      228      227 1\\n     248      234      227 1\\n     249      229      228 1\\n     250      235      228 1\\n     251      230      229 1\\n     252      248      229 1\\n     253      231      230 1\\n     254      233      230 1\\n     255      232      231 1\\n     256      249      232 1\\n     257      250      232 1\\n     258      251      232 1\\n     259      234      233 1\\n     260      252      233 1\\n     261      253      234 1\\n     262      236      235 1\\n     263      240      235 1\\n     264      237      236 1\\n     265      254      236 1\\n     266      238      237 1\\n     267      255      237 1\\n     268      239      238 1\\n     269      256      238 1\\n     270      240      239 1\\n     271      241      239 1\\n     272      257      240 1\\n     273      242      241 1\\n     274      243      241 1\\n     275      258      241 1\\n     276      259      242 1\\n     277      275      242 1\\n     278      260      243 1\\n     279      261      243 1\\n     280      262      243 1\\n     281      245      244 1\\n     282      263      244 1\\n     283      264      245 1\\n     284      266      265 1\\n     285      267      265 1\\n     286      268      265 1\\n     287      269      265 1\\n     288      271      270 1\\n     289      277      270 1\\n     290      278      270 1\\n     291      279      270 1\\n     292      272      271 1\\n     293      273      271 1\\n     294      274      271 1\\n     295      280      272 1\\n     296      281      272 1\\n     297      282      272 1\\n     298      283      273 1\\n     299      284      273 1\\n     300      285      273 1\\n     301      275      274 1\\n     302      276      275 1\\n@<TRIPOS>SUBSTRUCTURE\\n       1 RES             1 RESIDUE    0 **** ROOT      0\\n\",\"mol2\");\n\tviewer_16808262540397944.setStyle({\"stick\": {\"radius\": 0.2, \"color\": \"grey\"}, \"sphere\": {\"scale\": 0.3, \"colorscheme\": {}}});\n\tviewer_16808262540397944.zoomTo();\nviewer_16808262540397944.render();\n});\n</script>",
      "text/html": [
       "<div id=\"3dmolviewer_16808262540397944\"  style=\"position: relative; width: 640px; height: 480px\">\n",
       "        <p id=\"3dmolwarning_16808262540397944\" style=\"background-color:#ffcccc;color:black\">You appear to be running in JupyterLab (or JavaScript failed to load for some other reason).  You need to install the 3dmol extension: <br>\n",
       "        <tt>jupyter labextension install jupyterlab_3dmol</tt></p>\n",
       "        </div>\n",
       "<script>\n",
       "\n",
       "var loadScriptAsync = function(uri){\n",
       "  return new Promise((resolve, reject) => {\n",
       "    var tag = document.createElement('script');\n",
       "    tag.src = uri;\n",
       "    tag.async = true;\n",
       "    tag.onload = () => {\n",
       "      resolve();\n",
       "    };\n",
       "  var firstScriptTag = document.getElementsByTagName('script')[0];\n",
       "  firstScriptTag.parentNode.insertBefore(tag, firstScriptTag);\n",
       "});\n",
       "};\n",
       "\n",
       "if(typeof $3Dmolpromise === 'undefined') {\n",
       "$3Dmolpromise = null;\n",
       "  $3Dmolpromise = loadScriptAsync('https://cdn.jsdelivr.net/npm/3dmol@latest/build/3Dmol-min.min.js');\n",
       "}\n",
       "\n",
       "var viewer_16808262540397944 = null;\n",
       "var warn = document.getElementById(\"3dmolwarning_16808262540397944\");\n",
       "if(warn) {\n",
       "    warn.parentNode.removeChild(warn);\n",
       "}\n",
       "$3Dmolpromise.then(function() {\n",
       "viewer_16808262540397944 = $3Dmol.createViewer($(\"#3dmolviewer_16808262540397944\"),{backgroundColor:\"white\"});\n",
       "viewer_16808262540397944.zoomTo();\n",
       "\tviewer_16808262540397944.addModel(\"@<TRIPOS>MOLECULE\\nRES\\n285 302 1 0 1\\nSMALL\\nNO_CHARGES\\n@<TRIPOS>CRYSIN\\n   40.4903    27.8793    32.8775    90.0000    90.0000    90.0000  1  1\\n@<TRIPOS>ATOM\\n       1 C           -3.0021    -4.9111     0.1167 C             1 RES     \\n       2 O           -3.8790    -5.4074    -0.6395 O             1 RES     \\n       3 C           -2.7172    -3.4646     0.1056 C             1 RES     \\n       4 C           -1.7345    -2.9453     0.9614 C             1 RES     \\n       5 C           -1.4499    -1.5771     0.9631 C             1 RES     \\n       6 C           -2.1376    -0.7072     0.1013 C             1 RES     \\n       7 C           -1.8309     0.7439     0.0931 C             1 RES     \\n       8 C           -0.5127     1.2341    -0.0912 C             1 RES     \\n       9 C           -0.2750     2.6169    -0.0112 C             1 RES     \\n      10 C           -1.3190     3.5169     0.2221 C             1 RES     \\n      11 O           -1.0166     4.8854     0.2851 O             1 RES     \\n      12 C           -1.9768     5.9116     0.5142 C             1 RES     \\n      13 C           -2.6259     3.0264     0.3800 C             1 RES     \\n      14 C           -2.8761     1.6549     0.3155 C             1 RES     \\n      15 C            0.6231     0.3353    -0.4080 C             1 RES     \\n      16 C            0.5583    -0.5314    -1.5102 C             1 RES     \\n      17 C            1.6242    -1.3848    -1.7976 C             1 RES     \\n      18 C            2.7669    -1.3768    -0.9950 C             1 RES     \\n      19 C            2.8583    -0.5057     0.1065 C             1 RES     \\n      20 C            1.7788     0.3497     0.3902 C             1 RES     \\n      21 C            4.0917    -0.4897     0.9941 C             1 RES     \\n      22 N            4.2784    -1.7757     1.6701 N             1 RES     \\n      23 C            5.3486    -0.1181     0.2013 C             1 RES     \\n      24 C           -3.1297    -1.2247    -0.7463 C             1 RES     \\n      25 C           -3.4155    -2.5930    -0.7473 C             1 RES     \\n      26 H           -1.1881    -3.5987     1.6306 H             1 RES     \\n      27 H           -0.6948    -1.1957     1.6395 H             1 RES     \\n      28 H            0.7278     3.0029    -0.1525 H             1 RES     \\n      29 H           -1.4634     6.8948     0.5148 H             1 RES     \\n      30 H           -2.4646     5.7646     1.5010 H             1 RES     \\n      31 H           -2.7388     5.9088    -0.2936 H             1 RES     \\n      32 H           -3.4556     3.6960     0.5607 H             1 RES     \\n      33 H           -3.8891     1.2999     0.4623 H             1 RES     \\n      34 H           -0.3171    -0.5446    -2.1477 H             1 RES     \\n      35 H            1.5651    -2.0544    -2.6459 H             1 RES     \\n      36 H            3.5790    -2.0496    -1.2373 H             1 RES     \\n      37 H            1.8278     1.0174     1.2423 H             1 RES     \\n      38 H            3.9723     0.2887     1.7807 H             1 RES     \\n      39 H            4.3948    -2.5371     0.9628 H             1 RES     \\n      40 H            5.5828    -0.8883    -0.5635 H             1 RES     \\n      41 H            6.2156    -0.0334     0.8905 H             1 RES     \\n      42 H            5.2054     0.8610    -0.3040 H             1 RES     \\n      43 H           -3.6721    -0.5702    -1.4176 H             1 RES     \\n      44 H           -4.1799    -2.9683    -1.4162 H             1 RES     \\n      45 C            3.0430    -2.0838     2.4631 C             1 RES     \\n      46 O            2.0276    -2.5250     1.8619 O             1 RES     \\n      47 C            3.0308    -1.8690     3.9216 C             1 RES     \\n      48 C            4.1794    -1.3771     4.5592 C             1 RES     \\n      49 C            4.1855    -1.1656     5.9405 C             1 RES     \\n      50 C            3.0385    -1.4339     6.7055 C             1 RES     \\n      51 C            3.0380    -1.2008     8.1702 C             1 RES     \\n      52 C            3.4020     0.0486     8.7342 C             1 RES     \\n      53 C            3.4565     0.1833    10.1320 C             1 RES     \\n      54 C            3.1345    -0.8855    10.9737 C             1 RES     \\n      55 O            3.2031    -0.6848    12.3605 O             1 RES     \\n      56 C            2.9028    -1.6805    13.3331 C             1 RES     \\n      57 C            2.7518    -2.1133    10.4084 C             1 RES     \\n      58 C            2.7047    -2.2663     9.0221 C             1 RES     \\n      59 C            3.6888     1.2365     7.8945 C             1 RES     \\n      60 C            2.7476     1.6883     6.9563 C             1 RES     \\n      61 C            3.0266     2.7990     6.1589 C             1 RES     \\n      62 C            4.2414     3.4741     6.2947 C             1 RES     \\n      63 C            5.1931     3.0464     7.2390 C             1 RES     \\n      64 C            4.9047     1.9250     8.0372 C             1 RES     \\n      65 C            6.5227     3.7655     7.3943 C             1 RES     \\n      66 N            7.3219     3.6782     6.1698 N             1 RES     \\n      67 C            6.3247     5.2302     7.7968 C             1 RES     \\n      68 C            1.8930    -1.9379     6.0696 C             1 RES     \\n      69 C            1.8872    -2.1508     4.6880 C             1 RES     \\n      70 H            5.0735    -1.1583     3.9881 H             1 RES     \\n      71 H            5.0864    -0.7954     6.4141 H             1 RES     \\n      72 H            3.7312     1.1339    10.5740 H             1 RES     \\n      73 H            3.0405    -1.2507    14.3463 H             1 RES     \\n      74 H            3.5888    -2.5461    13.2178 H             1 RES     \\n      75 H            1.8480    -2.0115    13.2276 H             1 RES     \\n      76 H            2.4957    -2.9592    11.0316 H             1 RES     \\n      77 H            2.4278    -3.2295     8.6106 H             1 RES     \\n      78 H            1.7973     1.1812     6.8437 H             1 RES     \\n      79 H            2.2985     3.1385     5.4337 H             1 RES     \\n      80 H            4.4350     4.3313     5.6633 H             1 RES     \\n      81 H            5.6320     1.5749     8.7601 H             1 RES     \\n      82 H            7.1087     3.2892     8.2120 H             1 RES     \\n      83 H            6.8043     4.1167     5.3738 H             1 RES     \\n      84 H            5.8075     5.7999     6.9963 H             1 RES     \\n      85 H            7.3115     5.7048     7.9833 H             1 RES     \\n      86 H            5.7243     5.2915     8.7297 H             1 RES     \\n      87 H            0.9988    -2.1521     6.6419 H             1 RES     \\n      88 H            0.9883    -2.5329     4.2204 H             1 RES     \\n      89 C            7.5238     2.2309     5.8317 C             1 RES     \\n      90 O            6.5825     1.5957     5.2861 O             1 RES     \\n      91 C            8.8079     1.5746     6.1387 C             1 RES     \\n      92 C            9.8351     2.3119     6.7460 C             1 RES     \\n      93 C           11.0581     1.7059     7.0459 C             1 RES     \\n      94 C           11.2698     0.3490     6.7517 C             1 RES     \\n      95 C           12.5629    -0.3000     7.0781 C             1 RES     \\n      96 C           13.1178    -0.2596     8.3827 C             1 RES     \\n      97 C           14.3834    -0.8268     8.6104 C             1 RES     \\n      98 C           15.0914    -1.4506     7.5789 C             1 RES     \\n      99 O           16.3474    -2.0024     7.8726 O             1 RES     \\n     100 C           17.1760    -2.6664     6.9239 C             1 RES     \\n     101 C           14.5253    -1.5080     6.2946 C             1 RES     \\n     102 C           13.2749    -0.9386     6.0499 C             1 RES     \\n     103 C           12.3859     0.3280     9.5305 C             1 RES     \\n     104 C           11.0969    -0.1213     9.8573 C             1 RES     \\n     105 C           10.4063     0.4431    10.9304 C             1 RES     \\n     106 C           10.9963     1.4537    11.6923 C             1 RES     \\n     107 C           12.2933     1.9091    11.3905 C             1 RES     \\n     108 C           12.9815     1.3362    10.3062 C             1 RES     \\n     109 C           12.9467     3.0130    12.2051 C             1 RES     \\n     110 N           12.2029     4.2699    12.0926 N             1 RES     \\n     111 C           13.0944     2.6123    13.6762 C             1 RES     \\n     112 C           10.2465    -0.3858     6.1327 C             1 RES     \\n     113 C            9.0235     0.2204     5.8314 C             1 RES     \\n     114 H            9.6918     3.3583     6.9866 H             1 RES     \\n     115 H           11.8414     2.2963     7.5051 H             1 RES     \\n     116 H           14.8162    -0.8036     9.6037 H             1 RES     \\n     117 H           18.1070    -2.9999     7.4263 H             1 RES     \\n     118 H           17.4455    -1.9720     6.1002 H             1 RES     \\n     119 H           16.6525    -3.5574     6.5173 H             1 RES     \\n     120 H           15.0466    -1.9840     5.4754 H             1 RES     \\n     121 H           12.8696    -0.9766     5.0458 H             1 RES     \\n     122 H           10.6278    -0.9099     9.2818 H             1 RES     \\n     123 H            9.4105     0.0955    11.1733 H             1 RES     \\n     124 H           10.4395     1.8769    12.5180 H             1 RES     \\n     125 H           13.9758     1.6843    10.0525 H             1 RES     \\n     126 H           13.9757     3.1966    11.8225 H             1 RES     \\n     127 H           11.2265     4.1393    12.4434 H             1 RES     \\n     128 H           12.1026     2.4799    14.1575 H             1 RES     \\n     129 H           13.6485     3.4023    14.2265 H             1 RES     \\n     130 H           13.6652     1.6624    13.7574 H             1 RES     \\n     131 H           10.3904    -1.4331     5.8967 H             1 RES     \\n     132 H            8.2474    -0.3704     5.3610 H             1 RES     \\n     133 C           12.1133     4.6453    10.6431 C             1 RES     \\n     134 O           11.2709     4.0585     9.9129 O             1 RES     \\n     135 C           13.0028     5.6855    10.0949 C             1 RES     \\n     136 C           13.9289     6.3192    10.9365 C             1 RES     \\n     137 C           14.7811     7.3061    10.4339 C             1 RES     \\n     138 C           14.7272     7.6682     9.0779 C             1 RES     \\n     139 C           15.6373     8.7078     8.5388 C             1 RES     \\n     140 C           17.0445     8.6341     8.7000 C             1 RES     \\n     141 C           17.8471     9.6895     8.2342 C             1 RES     \\n     142 C           17.2835    10.7971     7.5938 C             1 RES     \\n     143 O           18.1398    11.8146     7.1469 O             1 RES     \\n     144 C           17.7062    12.9955     6.4798 C             1 RES     \\n     145 C           15.8911    10.8525     7.4162 C             1 RES     \\n     146 C           15.0797     9.8180     7.8842 C             1 RES     \\n     147 C           17.7052     7.4553     9.3103 C             1 RES     \\n     148 C           17.4781     6.1683     8.7981 C             1 RES     \\n     149 C           18.0918     5.0601     9.3832 C             1 RES     \\n     150 C           18.9430     5.2246    10.4778 C             1 RES     \\n     151 C           19.1955     6.5076    10.9981 C             1 RES     \\n     152 C           18.5715     7.6189    10.4037 C             1 RES     \\n     153 C           20.1135     6.7031    12.1932 C             1 RES     \\n     154 N           19.5805     6.0441    13.3879 N             1 RES     \\n     155 C           21.5316     6.2046    11.8988 C             1 RES     \\n     156 C           13.7920     7.0431     8.2383 C             1 RES     \\n     157 C           12.9385     6.0568     8.7411 C             1 RES     \\n     158 H           13.9914     6.0519    11.9844 H             1 RES     \\n     159 H           15.4814     7.7902    11.1035 H             1 RES     \\n     160 H           18.9236     9.6429     8.3500 H             1 RES     \\n     161 H           18.5896    13.6227     6.2421 H             1 RES     \\n     162 H           17.0241    13.5762     7.1361 H             1 RES     \\n     163 H           17.1920    12.7315     5.5316 H             1 RES     \\n     164 H           15.4241    11.6946     6.9242 H             1 RES     \\n     165 H           14.0067     9.8945     7.7547 H             1 RES     \\n     166 H           16.8271     6.0238     7.9447 H             1 RES     \\n     167 H           17.9078     4.0700     8.9865 H             1 RES     \\n     168 H           19.4051     4.3494    10.9152 H             1 RES     \\n     169 H           18.7451     8.6123    10.8002 H             1 RES     \\n     170 H           20.2008     7.7893    12.4200 H             1 RES     \\n     171 H           19.4828     5.0173    13.2155 H             1 RES     \\n     172 H           21.5445     5.1069    11.7319 H             1 RES     \\n     173 H           22.1967     6.4363    12.7577 H             1 RES     \\n     174 H           21.9347     6.7120    10.9963 H             1 RES     \\n     175 H           13.7339     7.3090     7.1899 H             1 RES     \\n     176 H           12.2314     5.5842     8.0709 H             1 RES     \\n     177 C           18.2091     6.5861    13.6625 C             1 RES     \\n     178 O           17.2399     6.1675    12.9751 O             1 RES     \\n     179 C           18.0128     7.5923    14.7221 C             1 RES     \\n     180 C           19.1142     8.0358    15.4690 C             1 RES     \\n     181 C           18.9474     8.9903    16.4760 C             1 RES     \\n     182 C           17.6765     9.5239    16.7457 C             1 RES     \\n     183 C           17.4974    10.5446    17.8067 C             1 RES     \\n     184 C           18.2589    11.7408    17.8373 C             1 RES     \\n     185 C           18.0975    12.6324    18.9117 C             1 RES     \\n     186 C           17.1824    12.3711    19.9357 C             1 RES     \\n     187 O           17.0645    13.3038    20.9771 O             1 RES     \\n     188 C           16.1755    13.1687    22.0811 C             1 RES     \\n     189 C           16.4142    11.1960    19.8867 C             1 RES     \\n     190 C           16.5719    10.2949    18.8328 C             1 RES     \\n     191 C           19.1953    12.1048    16.7469 C             1 RES     \\n     192 C           18.7494    12.1658    15.4174 C             1 RES     \\n     193 C           19.6368    12.4963    14.3924 C             1 RES     \\n     194 C           20.9734    12.7768    14.6833 C             1 RES     \\n     195 C           21.4379    12.7351    16.0111 C             1 RES     \\n     196 C           20.5375    12.3993    17.0378 C             1 RES     \\n     197 C           22.8909    13.0306    16.3438 C             1 RES     \\n     198 N           23.7884    12.0496    15.7291 N             1 RES     \\n     199 C           23.2855    14.4496    15.9229 C             1 RES     \\n     200 C           16.5722     9.0711    16.0069 C             1 RES     \\n     201 C           16.7386     8.1153    15.0004 C             1 RES     \\n     202 H           20.1044     7.6418    15.2744 H             1 RES     \\n     203 H           19.8095     9.3110    17.0477 H             1 RES     \\n     204 H           18.6724    13.5504    18.9443 H             1 RES     \\n     205 H           16.2910    14.0466    22.7491 H             1 RES     \\n     206 H           16.4176    12.2500    22.6561 H             1 RES     \\n     207 H           15.1250    13.1302    21.7229 H             1 RES     \\n     208 H           15.6971    10.9650    20.6625 H             1 RES     \\n     209 H           15.9836     9.3851    18.8292 H             1 RES     \\n     210 H           17.7143    11.9591    15.1751 H             1 RES     \\n     211 H           19.2873    12.5362    13.3688 H             1 RES     \\n     212 H           21.6423    13.0283    13.8708 H             1 RES     \\n     213 H           20.8819    12.3501    18.0640 H             1 RES     \\n     214 H           23.0376    12.9752    17.4458 H             1 RES     \\n     215 H           23.6807    12.0700    14.6891 H             1 RES     \\n     216 H           23.2369    14.5690    14.8201 H             1 RES     \\n     217 H           24.3241    14.6638    16.2533 H             1 RES     \\n     218 H           22.6068    15.1907    16.3969 H             1 RES     \\n     219 H           15.5837     9.4694    16.2002 H             1 RES     \\n     220 H           15.8719     7.7884    14.4396 H             1 RES     \\n     221 C           23.3925    10.6799    16.1952 C             1 RES     \\n     222 O           22.3920    10.1233    15.6696 O             1 RES     \\n     223 C           24.1701    10.0078    17.2522 C             1 RES     \\n     224 C           25.2791    10.6564    17.8153 C             1 RES     \\n     225 C           26.0267    10.0353    18.8194 C             1 RES     \\n     226 C           25.6708     8.7584    19.2834 C             1 RES     \\n     227 C           26.4558     8.1005    20.3562 C             1 RES     \\n     228 C           26.7096     8.7333    21.5999 C             1 RES     \\n     229 C           27.5255     8.0897    22.5460 C             1 RES     \\n     230 C           28.0696     6.8274    22.2909 C             1 RES     \\n     231 O           28.8712     6.2360    23.2788 O             1 RES     \\n     232 C           29.4873     4.9582    23.1561 C             1 RES     \\n     233 C           27.7946     6.1960    21.0665 C             1 RES     \\n     234 C           26.9963     6.8276    20.1119 C             1 RES     \\n     235 C           26.1063    10.0405    21.9544 C             1 RES     \\n     236 C           24.7153    10.2200    21.8999 C             1 RES     \\n     237 C           24.1523    11.4555    22.2221 C             1 RES     \\n     238 C           24.9687    12.5202    22.6090 C             1 RES     \\n     239 C           26.3646    12.3577    22.6839 C             1 RES     \\n     240 C           26.9239    11.1098    22.3558 C             1 RES     \\n     241 C           27.2676    13.5082    23.0963 C             1 RES     \\n     242 N           27.1910    14.6149    22.1397 N             1 RES     \\n     243 C           26.9379    14.0019    24.5083 C             1 RES     \\n     244 C           24.5686     8.1039    18.7114 C             1 RES     \\n     245 C           23.8214     8.7244    17.7061 C             1 RES     \\n     246 H           25.5684    11.6437    17.4763 H             1 RES     \\n     247 H           26.8856    10.5495    19.2329 H             1 RES     \\n     248 H           27.7243     8.5628    23.5005 H             1 RES     \\n     249 H           30.0601     4.7417    24.0810 H             1 RES     \\n     250 H           30.1879     4.9532    22.2946 H             1 RES     \\n     251 H           28.7137     4.1723    23.0248 H             1 RES     \\n     252 H           28.1993     5.2194    20.8387 H             1 RES     \\n     253 H           26.8170     6.3295    19.1666 H             1 RES     \\n     254 H           24.0669     9.4024    21.6096 H             1 RES     \\n     255 H           23.0793    11.5883    22.1725 H             1 RES     \\n     256 H           24.5083    13.4689    22.8517 H             1 RES     \\n     257 H           27.9979    10.9716    22.3958 H             1 RES     \\n     258 H           28.3243    13.1594    23.1219 H             1 RES     \\n     259 H           26.2099    14.9727    22.0859 H             1 RES     \\n     260 H           25.9174    14.4372    24.5530 H             1 RES     \\n     261 H           27.6661    14.7837    24.8121 H             1 RES     \\n     262 H           27.0040    13.1611    25.2316 H             1 RES     \\n     263 H           24.2785     7.1184    19.0546 H             1 RES     \\n     264 H           22.9709     8.2016    17.2867 H             1 RES     \\n     265 C           -3.0147    -6.9769     1.1625 C             1 RES     \\n     266 O           -2.2420    -5.8179     1.0386 O             1 RES     \\n     267 H           -4.0087    -6.7308     1.5953 H             1 RES     \\n     268 H           -2.4975    -7.6887     1.8382 H             1 RES     \\n     269 H           -3.1464    -7.4581     0.1690 H             1 RES     \\n     270 C           30.5898    12.1424    19.7216 C             1 RES     \\n     271 C           29.2520    12.8252    19.3981 C             1 RES     \\n     272 C           29.4981    13.9321    18.3549 C             1 RES     \\n     273 C           28.2748    11.7688    18.8475 C             1 RES     \\n     274 O           28.7536    13.3858    20.6223 O             1 RES     \\n     275 C           27.5564    14.0986    20.7796 C             1 RES     \\n     276 O           26.7812    14.3166    19.8116 O             1 RES     \\n     277 H           31.0344    11.6838    18.8117 H             1 RES     \\n     278 H           31.3104    12.8819    20.1328 H             1 RES     \\n     279 H           30.4419    11.3460    20.4825 H             1 RES     \\n     280 H           30.1443    14.7272    18.7849 H             1 RES     \\n     281 H           28.5464    14.3963    18.0252 H             1 RES     \\n     282 H           29.9998    13.5160    17.4546 H             1 RES     \\n     283 H           28.0448    11.0146    19.6302 H             1 RES     \\n     284 H           27.3222    12.2314    18.5181 H             1 RES     \\n     285 H           28.7167    11.2469    17.9712 H             1 RES     \\n@<TRIPOS>BOND\\n       1        2        1 1\\n       2        3        1 1\\n       3      266        1 1\\n       4        4        3 1\\n       5       25        3 1\\n       6        5        4 1\\n       7       26        4 1\\n       8        6        5 1\\n       9       27        5 1\\n      10        7        6 1\\n      11       24        6 1\\n      12        8        7 1\\n      13       14        7 1\\n      14        9        8 1\\n      15       15        8 1\\n      16       10        9 1\\n      17       28        9 1\\n      18       11       10 1\\n      19       13       10 1\\n      20       12       11 1\\n      21       29       12 1\\n      22       30       12 1\\n      23       31       12 1\\n      24       14       13 1\\n      25       32       13 1\\n      26       33       14 1\\n      27       16       15 1\\n      28       20       15 1\\n      29       17       16 1\\n      30       34       16 1\\n      31       18       17 1\\n      32       35       17 1\\n      33       19       18 1\\n      34       36       18 1\\n      35       20       19 1\\n      36       21       19 1\\n      37       37       20 1\\n      38       22       21 1\\n      39       23       21 1\\n      40       38       21 1\\n      41       39       22 1\\n      42       45       22 1\\n      43       40       23 1\\n      44       41       23 1\\n      45       42       23 1\\n      46       25       24 1\\n      47       43       24 1\\n      48       44       25 1\\n      49       46       45 1\\n      50       47       45 1\\n      51       48       47 1\\n      52       69       47 1\\n      53       49       48 1\\n      54       70       48 1\\n      55       50       49 1\\n      56       71       49 1\\n      57       51       50 1\\n      58       68       50 1\\n      59       52       51 1\\n      60       58       51 1\\n      61       53       52 1\\n      62       59       52 1\\n      63       54       53 1\\n      64       72       53 1\\n      65       55       54 1\\n      66       57       54 1\\n      67       56       55 1\\n      68       73       56 1\\n      69       74       56 1\\n      70       75       56 1\\n      71       58       57 1\\n      72       76       57 1\\n      73       77       58 1\\n      74       60       59 1\\n      75       64       59 1\\n      76       61       60 1\\n      77       78       60 1\\n      78       62       61 1\\n      79       79       61 1\\n      80       63       62 1\\n      81       80       62 1\\n      82       64       63 1\\n      83       65       63 1\\n      84       81       64 1\\n      85       66       65 1\\n      86       67       65 1\\n      87       82       65 1\\n      88       83       66 1\\n      89       89       66 1\\n      90       84       67 1\\n      91       85       67 1\\n      92       86       67 1\\n      93       69       68 1\\n      94       87       68 1\\n      95       88       69 1\\n      96       90       89 1\\n      97       91       89 1\\n      98       92       91 1\\n      99      113       91 1\\n     100       93       92 1\\n     101      114       92 1\\n     102       94       93 1\\n     103      115       93 1\\n     104       95       94 1\\n     105      112       94 1\\n     106       96       95 1\\n     107      102       95 1\\n     108       97       96 1\\n     109      103       96 1\\n     110       98       97 1\\n     111      116       97 1\\n     112       99       98 1\\n     113      101       98 1\\n     114      100       99 1\\n     115      117      100 1\\n     116      118      100 1\\n     117      119      100 1\\n     118      102      101 1\\n     119      120      101 1\\n     120      121      102 1\\n     121      104      103 1\\n     122      108      103 1\\n     123      105      104 1\\n     124      122      104 1\\n     125      106      105 1\\n     126      123      105 1\\n     127      107      106 1\\n     128      124      106 1\\n     129      108      107 1\\n     130      109      107 1\\n     131      125      108 1\\n     132      110      109 1\\n     133      111      109 1\\n     134      126      109 1\\n     135      127      110 1\\n     136      133      110 1\\n     137      128      111 1\\n     138      129      111 1\\n     139      130      111 1\\n     140      113      112 1\\n     141      131      112 1\\n     142      132      113 1\\n     143      134      133 1\\n     144      135      133 1\\n     145      136      135 1\\n     146      157      135 1\\n     147      137      136 1\\n     148      158      136 1\\n     149      138      137 1\\n     150      159      137 1\\n     151      139      138 1\\n     152      156      138 1\\n     153      140      139 1\\n     154      146      139 1\\n     155      141      140 1\\n     156      147      140 1\\n     157      142      141 1\\n     158      160      141 1\\n     159      143      142 1\\n     160      145      142 1\\n     161      144      143 1\\n     162      161      144 1\\n     163      162      144 1\\n     164      163      144 1\\n     165      146      145 1\\n     166      164      145 1\\n     167      165      146 1\\n     168      148      147 1\\n     169      152      147 1\\n     170      149      148 1\\n     171      166      148 1\\n     172      150      149 1\\n     173      167      149 1\\n     174      151      150 1\\n     175      168      150 1\\n     176      152      151 1\\n     177      153      151 1\\n     178      169      152 1\\n     179      154      153 1\\n     180      155      153 1\\n     181      170      153 1\\n     182      171      154 1\\n     183      177      154 1\\n     184      172      155 1\\n     185      173      155 1\\n     186      174      155 1\\n     187      157      156 1\\n     188      175      156 1\\n     189      176      157 1\\n     190      178      177 1\\n     191      179      177 1\\n     192      180      179 1\\n     193      201      179 1\\n     194      181      180 1\\n     195      202      180 1\\n     196      182      181 1\\n     197      203      181 1\\n     198      183      182 1\\n     199      200      182 1\\n     200      184      183 1\\n     201      190      183 1\\n     202      185      184 1\\n     203      191      184 1\\n     204      186      185 1\\n     205      204      185 1\\n     206      187      186 1\\n     207      189      186 1\\n     208      188      187 1\\n     209      205      188 1\\n     210      206      188 1\\n     211      207      188 1\\n     212      190      189 1\\n     213      208      189 1\\n     214      209      190 1\\n     215      192      191 1\\n     216      196      191 1\\n     217      193      192 1\\n     218      210      192 1\\n     219      194      193 1\\n     220      211      193 1\\n     221      195      194 1\\n     222      212      194 1\\n     223      196      195 1\\n     224      197      195 1\\n     225      213      196 1\\n     226      198      197 1\\n     227      199      197 1\\n     228      214      197 1\\n     229      215      198 1\\n     230      221      198 1\\n     231      216      199 1\\n     232      217      199 1\\n     233      218      199 1\\n     234      201      200 1\\n     235      219      200 1\\n     236      220      201 1\\n     237      222      221 1\\n     238      223      221 1\\n     239      224      223 1\\n     240      245      223 1\\n     241      225      224 1\\n     242      246      224 1\\n     243      226      225 1\\n     244      247      225 1\\n     245      227      226 1\\n     246      244      226 1\\n     247      228      227 1\\n     248      234      227 1\\n     249      229      228 1\\n     250      235      228 1\\n     251      230      229 1\\n     252      248      229 1\\n     253      231      230 1\\n     254      233      230 1\\n     255      232      231 1\\n     256      249      232 1\\n     257      250      232 1\\n     258      251      232 1\\n     259      234      233 1\\n     260      252      233 1\\n     261      253      234 1\\n     262      236      235 1\\n     263      240      235 1\\n     264      237      236 1\\n     265      254      236 1\\n     266      238      237 1\\n     267      255      237 1\\n     268      239      238 1\\n     269      256      238 1\\n     270      240      239 1\\n     271      241      239 1\\n     272      257      240 1\\n     273      242      241 1\\n     274      243      241 1\\n     275      258      241 1\\n     276      259      242 1\\n     277      275      242 1\\n     278      260      243 1\\n     279      261      243 1\\n     280      262      243 1\\n     281      245      244 1\\n     282      263      244 1\\n     283      264      245 1\\n     284      266      265 1\\n     285      267      265 1\\n     286      268      265 1\\n     287      269      265 1\\n     288      271      270 1\\n     289      277      270 1\\n     290      278      270 1\\n     291      279      270 1\\n     292      272      271 1\\n     293      273      271 1\\n     294      274      271 1\\n     295      280      272 1\\n     296      281      272 1\\n     297      282      272 1\\n     298      283      273 1\\n     299      284      273 1\\n     300      285      273 1\\n     301      275      274 1\\n     302      276      275 1\\n@<TRIPOS>SUBSTRUCTURE\\n       1 RES             1 RESIDUE    0 **** ROOT      0\\n\",\"mol2\");\n",
       "\tviewer_16808262540397944.setStyle({\"stick\": {\"radius\": 0.2, \"color\": \"grey\"}, \"sphere\": {\"scale\": 0.3, \"colorscheme\": {}}});\n",
       "\tviewer_16808262540397944.zoomTo();\n",
       "viewer_16808262540397944.render();\n",
       "});\n",
       "</script>"
      ]
     },
     "metadata": {},
     "output_type": "display_data"
    },
    {
     "data": {
      "text/plain": [
       "<py3Dmol.view at 0x7f1f78489cd0>"
      ]
     },
     "execution_count": 11,
     "metadata": {},
     "output_type": "execute_result"
    }
   ],
   "source": [
    "chain.visualize(show_ports=True)"
   ]
  },
  {
   "cell_type": "markdown",
   "id": "438faabc",
   "metadata": {},
   "source": [
    "Next we add specific residue labels for the componenets of the `Polymer` object. Here we label the monomers as HEX and the capping moieties as CAP."
   ]
  },
  {
   "cell_type": "code",
   "execution_count": 12,
   "id": "106fb8a7",
   "metadata": {},
   "outputs": [
    {
     "name": "stdout",
     "output_type": "stream",
     "text": [
      "OrderedDict([('monomer', [<Compound 44 particles, 46 bonds, non-periodic, id: 139773002047440>, <Compound 44 particles, 46 bonds, non-periodic, id: 139773002063936>, <Compound 44 particles, 46 bonds, non-periodic, id: 139773001933392>, <Compound 44 particles, 46 bonds, non-periodic, id: 139773001521808>, <Compound 44 particles, 46 bonds, non-periodic, id: 139773001686752>, <Compound 44 particles, 46 bonds, non-periodic, id: 139773001339760>]), ('monomer[0]', <Compound 44 particles, 46 bonds, non-periodic, id: 139773002047440>), ('monomer[1]', <Compound 44 particles, 46 bonds, non-periodic, id: 139773002063936>), ('monomer[2]', <Compound 44 particles, 46 bonds, non-periodic, id: 139773001933392>), ('monomer[3]', <Compound 44 particles, 46 bonds, non-periodic, id: 139773001521808>), ('monomer[4]', <Compound 44 particles, 46 bonds, non-periodic, id: 139773001686752>), ('monomer[5]', <Compound 44 particles, 46 bonds, non-periodic, id: 139773001339760>), ('Compound', [<Compound 5 particles, 4 bonds, non-periodic, id: 139773002382352>, <Compound 16 particles, 15 bonds, non-periodic, id: 139773002451360>]), ('Compound[0]', <Compound 5 particles, 4 bonds, non-periodic, id: 139773002382352>), ('Compound[1]', <Compound 16 particles, 15 bonds, non-periodic, id: 139773002451360>)])\n",
      "<HEX 44 particles, 46 bonds, non-periodic, id: 139773002047440>\n",
      "<HEX 44 particles, 46 bonds, non-periodic, id: 139773002063936>\n",
      "<HEX 44 particles, 46 bonds, non-periodic, id: 139773001933392>\n",
      "<HEX 44 particles, 46 bonds, non-periodic, id: 139773001521808>\n",
      "<HEX 44 particles, 46 bonds, non-periodic, id: 139773001686752>\n",
      "<HEX 44 particles, 46 bonds, non-periodic, id: 139773001339760>\n",
      "<CAP 5 particles, 4 bonds, non-periodic, id: 139773002382352>\n",
      "<CAP 16 particles, 15 bonds, non-periodic, id: 139773002451360>\n"
     ]
    }
   ],
   "source": [
    "print(chain.labels)\n",
    "for label in chain.labels[\"monomer\"]:\n",
    "    label.name = \"HEX\"\n",
    "    print(label)\n",
    "for label in chain.labels[\"Compound\"]:\n",
    "    label.name = \"CAP\"\n",
    "    print(label)"
   ]
  },
  {
   "cell_type": "markdown",
   "id": "a6e0bc38",
   "metadata": {},
   "source": [
    "We save these as a pdb file and provide the names of the residues to include in the file."
   ]
  },
  {
   "cell_type": "code",
   "execution_count": 13,
   "id": "eaa3f061",
   "metadata": {
    "scrolled": true
   },
   "outputs": [],
   "source": [
    "chain.save(\"mop_hexamer_mbuild.pdb\", overwrite=True, residues=[\"HEX\", \"CAP\"])"
   ]
  },
  {
   "cell_type": "markdown",
   "id": "0b405a5a",
   "metadata": {},
   "source": [
    "Using Gromacs I generate a new gro file with the correct residue labels. `mbuild` doesn't seem to label residues correctly when writing `.gro` files."
   ]
  },
  {
   "cell_type": "code",
   "execution_count": 14,
   "id": "a6c16565",
   "metadata": {},
   "outputs": [
    {
     "name": "stdout",
     "output_type": "stream",
     "text": [
      "                     :-) GROMACS - gmx editconf, 2022.4 (-:\n",
      "\n",
      "Executable:   /usr/local/bin/gmx\n",
      "Data prefix:  /usr/local\n",
      "Working dir:  /home/tfobe/Research/heteropolymer_simulations/examples/build_polymer/mop\n",
      "Command line:\n",
      "  gmx editconf -f mop_hexamer_mbuild.pdb -o mop_hexamer_mbuild.gro\n",
      "\n",
      "Note that major changes are planned in future for editconf, to improve usability and utility.\n",
      "Read 285 atoms\n",
      "Volume: 37.1134 nm^3, corresponds to roughly 16700 electrons\n",
      "No velocities found\n",
      "\n",
      "Back Off! I just backed up mop_hexamer_mbuild.gro to ./#mop_hexamer_mbuild.gro.3#\n",
      "\n",
      "GROMACS reminds you: \"People are DNA's way of making more DNA.\" (Edward O. Wilson)\n",
      "\n"
     ]
    }
   ],
   "source": [
    "! gmx editconf -f mop_hexamer_mbuild.pdb -o mop_hexamer_mbuild.gro"
   ]
  },
  {
   "cell_type": "markdown",
   "id": "527e9edb",
   "metadata": {},
   "source": [
    "Lastly, I use openBabel to generate a `.mol` file for use in the OpenFF parameter assignment workflow."
   ]
  },
  {
   "cell_type": "code",
   "execution_count": 15,
   "id": "07362221",
   "metadata": {},
   "outputs": [
    {
     "name": "stdout",
     "output_type": "stream",
     "text": [
      "==============================\r\n",
      "*** Open Babel Error  in ReadMolecule\r\n",
      "  ERROR: not a valid PDB file\r\n",
      "\r\n",
      "1 molecule converted\r\n"
     ]
    }
   ],
   "source": [
    "! obabel -ipdb mop_hexamer_mbuild.pdb -omol mop_hexamer_mbuild.mol -O mop_hexamer_mbuild.mol"
   ]
  },
  {
   "cell_type": "markdown",
   "id": "6725027a",
   "metadata": {},
   "source": [
    "# Building arbitrary n-mers of MOP monomer\n",
    "\n",
    "Now we put it all together to generate a tetramer, hexamer and octamer PMP terphenyl foldamer:"
   ]
  },
  {
   "cell_type": "code",
   "execution_count": 16,
   "id": "1f14cd02",
   "metadata": {
    "scrolled": true
   },
   "outputs": [
    {
     "name": "stdout",
     "output_type": "stream",
     "text": [
      "<DIM 44 particles, 46 bonds, non-periodic, id: 139772972745728>\n",
      "<DIM 44 particles, 46 bonds, non-periodic, id: 139772972748224>\n",
      "<CAP 5 particles, 4 bonds, non-periodic, id: 139772973128384>\n",
      "<CAP 16 particles, 15 bonds, non-periodic, id: 139772972657200>\n",
      "Note that major changes are planned in future for editconf, to improve usability and utility.\n",
      "Read 109 atoms\n",
      "Volume: 8.36704 nm^3, corresponds to roughly 3700 electrons\n",
      "No velocities found\n"
     ]
    },
    {
     "name": "stderr",
     "output_type": "stream",
     "text": [
      "                     :-) GROMACS - gmx editconf, 2022.4 (-:\n",
      "\n",
      "Executable:   /usr/local/bin/gmx\n",
      "Data prefix:  /usr/local\n",
      "Working dir:  /home/tfobe/Research/heteropolymer_simulations/examples/build_polymer/mop\n",
      "Command line:\n",
      "  gmx editconf -f mop_dimer_mbuild.pdb -o mop_dimer_mbuild.gro\n",
      "\n",
      "\n",
      "Back Off! I just backed up mop_dimer_mbuild.gro to ./#mop_dimer_mbuild.gro.1#\n",
      "\n",
      "GROMACS reminds you: \"What's Your Definition Of Dirty ?\" (G. Michael)\n",
      "\n",
      "==============================\n",
      "*** Open Babel Error  in ReadMolecule\n",
      "  ERROR: not a valid PDB file\n",
      "\n",
      "1 molecule converted\n",
      "Warning: importing 'simtk.openmm' is deprecated.  Import 'openmm' instead.\n"
     ]
    },
    {
     "name": "stdout",
     "output_type": "stream",
     "text": [
      "<TRI 44 particles, 46 bonds, non-periodic, id: 139772973327936>\n",
      "<TRI 44 particles, 46 bonds, non-periodic, id: 139772973330144>\n",
      "<TRI 44 particles, 46 bonds, non-periodic, id: 139772973444736>\n",
      "<CAP 5 particles, 4 bonds, non-periodic, id: 139772972201920>\n",
      "<CAP 16 particles, 15 bonds, non-periodic, id: 139772972163616>\n",
      "Note that major changes are planned in future for editconf, to improve usability and utility.\n",
      "Read 153 atoms\n",
      "Volume: 11.9203 nm^3, corresponds to roughly 5300 electrons\n",
      "No velocities found\n"
     ]
    },
    {
     "name": "stderr",
     "output_type": "stream",
     "text": [
      "                     :-) GROMACS - gmx editconf, 2022.4 (-:\n",
      "\n",
      "Executable:   /usr/local/bin/gmx\n",
      "Data prefix:  /usr/local\n",
      "Working dir:  /home/tfobe/Research/heteropolymer_simulations/examples/build_polymer/mop\n",
      "Command line:\n",
      "  gmx editconf -f mop_trimer_mbuild.pdb -o mop_trimer_mbuild.gro\n",
      "\n",
      "\n",
      "Back Off! I just backed up mop_trimer_mbuild.gro to ./#mop_trimer_mbuild.gro.1#\n",
      "\n",
      "GROMACS reminds you: \"I always think there is something foreign about jolly phrases at breakfast.\" (Mr. Carson in Downtown Abbey)\n",
      "\n",
      "==============================\n",
      "*** Open Babel Error  in ReadMolecule\n",
      "  ERROR: not a valid PDB file\n",
      "\n",
      "1 molecule converted\n",
      "Warning: importing 'simtk.openmm' is deprecated.  Import 'openmm' instead.\n"
     ]
    },
    {
     "name": "stdout",
     "output_type": "stream",
     "text": [
      "<TET 44 particles, 46 bonds, non-periodic, id: 139772973753152>\n",
      "<TET 44 particles, 46 bonds, non-periodic, id: 139772973755648>\n",
      "<TET 44 particles, 46 bonds, non-periodic, id: 139772973377184>\n",
      "<TET 44 particles, 46 bonds, non-periodic, id: 139772971985840>\n",
      "<CAP 5 particles, 4 bonds, non-periodic, id: 139772973680480>\n",
      "<CAP 16 particles, 15 bonds, non-periodic, id: 139772973680192>\n",
      "Note that major changes are planned in future for editconf, to improve usability and utility.\n",
      "Read 197 atoms\n",
      "Volume: 19.6508 nm^3, corresponds to roughly 8800 electrons\n",
      "No velocities found\n"
     ]
    },
    {
     "name": "stderr",
     "output_type": "stream",
     "text": [
      "                     :-) GROMACS - gmx editconf, 2022.4 (-:\n",
      "\n",
      "Executable:   /usr/local/bin/gmx\n",
      "Data prefix:  /usr/local\n",
      "Working dir:  /home/tfobe/Research/heteropolymer_simulations/examples/build_polymer/mop\n",
      "Command line:\n",
      "  gmx editconf -f mop_tetramer_mbuild.pdb -o mop_tetramer_mbuild.gro\n",
      "\n",
      "\n",
      "Back Off! I just backed up mop_tetramer_mbuild.gro to ./#mop_tetramer_mbuild.gro.2#\n",
      "\n",
      "GROMACS reminds you: \"It Doesn't Have to Be Tip Top\" (Pulp Fiction)\n",
      "\n",
      "==============================\n",
      "*** Open Babel Error  in ReadMolecule\n",
      "  ERROR: not a valid PDB file\n",
      "\n",
      "1 molecule converted\n",
      "Warning: importing 'simtk.openmm' is deprecated.  Import 'openmm' instead.\n"
     ]
    },
    {
     "name": "stdout",
     "output_type": "stream",
     "text": [
      "<HEX 44 particles, 46 bonds, non-periodic, id: 139772971561984>\n",
      "<HEX 44 particles, 46 bonds, non-periodic, id: 139772971564480>\n",
      "<HEX 44 particles, 46 bonds, non-periodic, id: 139772970845856>\n",
      "<HEX 44 particles, 46 bonds, non-periodic, id: 139772971010800>\n",
      "<HEX 44 particles, 46 bonds, non-periodic, id: 139772970647360>\n",
      "<HEX 44 particles, 46 bonds, non-periodic, id: 139772970312464>\n",
      "<CAP 5 particles, 4 bonds, non-periodic, id: 139772971432640>\n",
      "<CAP 16 particles, 15 bonds, non-periodic, id: 139772971477552>\n",
      "Note that major changes are planned in future for editconf, to improve usability and utility.\n",
      "Read 285 atoms\n",
      "Volume: 37.1134 nm^3, corresponds to roughly 16700 electrons\n",
      "No velocities found\n"
     ]
    },
    {
     "name": "stderr",
     "output_type": "stream",
     "text": [
      "                     :-) GROMACS - gmx editconf, 2022.4 (-:\n",
      "\n",
      "Executable:   /usr/local/bin/gmx\n",
      "Data prefix:  /usr/local\n",
      "Working dir:  /home/tfobe/Research/heteropolymer_simulations/examples/build_polymer/mop\n",
      "Command line:\n",
      "  gmx editconf -f mop_hexamer_mbuild.pdb -o mop_hexamer_mbuild.gro\n",
      "\n",
      "\n",
      "Back Off! I just backed up mop_hexamer_mbuild.gro to ./#mop_hexamer_mbuild.gro.4#\n",
      "\n",
      "GROMACS reminds you: \"If Life Seems Jolly Rotten, There's Something You've Forgotten !\" (Monty Python)\n",
      "\n",
      "==============================\n",
      "*** Open Babel Error  in ReadMolecule\n",
      "  ERROR: not a valid PDB file\n",
      "\n",
      "1 molecule converted\n",
      "Warning: importing 'simtk.openmm' is deprecated.  Import 'openmm' instead.\n"
     ]
    },
    {
     "name": "stdout",
     "output_type": "stream",
     "text": [
      "<OCT 44 particles, 46 bonds, non-periodic, id: 139772970274096>\n",
      "<OCT 44 particles, 46 bonds, non-periodic, id: 139772970274240>\n",
      "<OCT 44 particles, 46 bonds, non-periodic, id: 139772969712560>\n",
      "<OCT 44 particles, 46 bonds, non-periodic, id: 139772969295632>\n",
      "<OCT 44 particles, 46 bonds, non-periodic, id: 139772969452688>\n",
      "<OCT 44 particles, 46 bonds, non-periodic, id: 139772969085152>\n",
      "<OCT 44 particles, 46 bonds, non-periodic, id: 139772969200944>\n",
      "<OCT 44 particles, 46 bonds, non-periodic, id: 139772968800704>\n",
      "<CAP 5 particles, 4 bonds, non-periodic, id: 139772969954080>\n",
      "<CAP 16 particles, 15 bonds, non-periodic, id: 139772970003088>\n",
      "Note that major changes are planned in future for editconf, to improve usability and utility.\n",
      "Read 373 atoms\n",
      "Volume: 78.1318 nm^3, corresponds to roughly 35100 electrons\n",
      "No velocities found\n"
     ]
    },
    {
     "name": "stderr",
     "output_type": "stream",
     "text": [
      "                     :-) GROMACS - gmx editconf, 2022.4 (-:\n",
      "\n",
      "Executable:   /usr/local/bin/gmx\n",
      "Data prefix:  /usr/local\n",
      "Working dir:  /home/tfobe/Research/heteropolymer_simulations/examples/build_polymer/mop\n",
      "Command line:\n",
      "  gmx editconf -f mop_octamer_mbuild.pdb -o mop_octamer_mbuild.gro\n",
      "\n",
      "\n",
      "Back Off! I just backed up mop_octamer_mbuild.gro to ./#mop_octamer_mbuild.gro.2#\n",
      "\n",
      "GROMACS reminds you: \"Count the Bubbles In Your Hair\" (The Breeders)\n",
      "\n",
      "==============================\n",
      "*** Open Babel Error  in ReadMolecule\n",
      "  ERROR: not a valid PDB file\n",
      "\n",
      "1 molecule converted\n",
      "Warning: importing 'simtk.openmm' is deprecated.  Import 'openmm' instead.\n"
     ]
    },
    {
     "name": "stdout",
     "output_type": "stream",
     "text": [
      "<DEC 44 particles, 46 bonds, non-periodic, id: 139775712905056>\n",
      "<DEC 44 particles, 46 bonds, non-periodic, id: 139775712905008>\n",
      "<DEC 44 particles, 46 bonds, non-periodic, id: 139775695923664>\n",
      "<DEC 44 particles, 46 bonds, non-periodic, id: 139775695560224>\n",
      "<DEC 44 particles, 46 bonds, non-periodic, id: 139775695200944>\n",
      "<DEC 44 particles, 46 bonds, non-periodic, id: 139775695394560>\n",
      "<DEC 44 particles, 46 bonds, non-periodic, id: 139775695006544>\n",
      "<DEC 44 particles, 46 bonds, non-periodic, id: 139775694634720>\n",
      "<DEC 44 particles, 46 bonds, non-periodic, id: 139775694787440>\n",
      "<DEC 44 particles, 46 bonds, non-periodic, id: 139775694411712>\n",
      "<CAP 5 particles, 4 bonds, non-periodic, id: 139775712771568>\n",
      "<CAP 16 particles, 15 bonds, non-periodic, id: 139775712820576>\n"
     ]
    },
    {
     "name": "stderr",
     "output_type": "stream",
     "text": [
      "                     :-) GROMACS - gmx editconf, 2022.4 (-:\n",
      "\n",
      "Executable:   /usr/local/bin/gmx\n",
      "Data prefix:  /usr/local\n",
      "Working dir:  /home/tfobe/Research/heteropolymer_simulations/examples/build_polymer/mop\n",
      "Command line:\n",
      "  gmx editconf -f mop_decamer_mbuild.pdb -o mop_decamer_mbuild.gro\n",
      "\n",
      "\n",
      "Back Off! I just backed up mop_decamer_mbuild.gro to ./#mop_decamer_mbuild.gro.2#\n",
      "\n",
      "GROMACS reminds you: \"Two chemists walk into a bar. The first one says, 'I'll have some H2O.'. The second one says, 'I'll have some H2O, too'. He dies.\" (Anonymous)\n",
      "\n"
     ]
    },
    {
     "name": "stdout",
     "output_type": "stream",
     "text": [
      "Note that major changes are planned in future for editconf, to improve usability and utility.\n",
      "Read 461 atoms\n",
      "Volume: 121.016 nm^3, corresponds to roughly 54400 electrons\n",
      "No velocities found\n"
     ]
    },
    {
     "name": "stderr",
     "output_type": "stream",
     "text": [
      "==============================\n",
      "*** Open Babel Error  in ReadMolecule\n",
      "  ERROR: not a valid PDB file\n",
      "\n",
      "1 molecule converted\n",
      "Warning: importing 'simtk.openmm' is deprecated.  Import 'openmm' instead.\n"
     ]
    }
   ],
   "source": [
    "n_residues = [2,3,4,6,8,10]\n",
    "residue_labels = [\"DIM\", \"TRI\",\"TET\", \"HEX\", \"OCT\", \"DEC\"]\n",
    "file_names = [\"mop_dimer_mbuild\", \"mop_trimer_mbuild\", \"mop_tetramer_mbuild\", \"mop_hexamer_mbuild\", \"mop_octamer_mbuild\", \"mop_decamer_mbuild\"]\n",
    "for i in range(len(n_residues)):\n",
    "    # Generate polymer\n",
    "    chain = Polymer()\n",
    "    chain.add_monomer(compound=comp,\n",
    "                      indices=[25, 40],\n",
    "                      separation=.15,\n",
    "                      replace=True,\n",
    "                      # orientation = [[0,-1,0],[1,0,0]]\n",
    "                     )\n",
    "    chain.add_end_groups(compound = cap_o,\n",
    "                         index = -1,\n",
    "                         separation=0.15,\n",
    "                         label=\"head\",\n",
    "                         duplicate = False\n",
    "                        )\n",
    "\n",
    "    chain.add_end_groups(compound = cap_n,\n",
    "                         index = -1,\n",
    "                         separation=0.15,\n",
    "                         label=\"tail\",\n",
    "                         duplicate = False\n",
    "                        )\n",
    "\n",
    "    chain.build(n=n_residues[i], sequence='A')\n",
    "\n",
    "    # Rotate peptide bond\n",
    "    #for bond in chain.bonds():\n",
    "    #    if bond[0].name == \"N\":\n",
    "    #        if bond[1].n_direct_bonds == 3:\n",
    "    #            print(\"Rotating bond:\", bond, \"by\", np.pi/2)\n",
    "    #            chain.rotate_dihedral(bond, np.pi/2)\n",
    "\n",
    "    #    if bond[1].name == \"N\":\n",
    "    #        if bond[0].n_direct_bonds == 3:\n",
    "    #            print(\"Rotating bond:\", bond, \"by\", np.pi/2)\n",
    "    #            chain.rotate_dihedral(bond, np.pi/2)  \n",
    "\n",
    "\n",
    "    # Relabel chains\n",
    "    for label in chain.labels[\"monomer\"]:\n",
    "        label.name = residue_labels[i]\n",
    "        print(label)\n",
    "    for label in chain.labels[\"Compound\"]:\n",
    "        label.name = \"CAP\"\n",
    "        print(label)\n",
    "            \n",
    "            \n",
    "    chain.save(file_names[i] + \".pdb\", overwrite=True, residues=[residue_labels[i], \"CAP\"])\n",
    "    \n",
    "    subprocess.run([\"gmx\", \"editconf\", \"-f\", file_names[i] + \".pdb\", \"-o\", file_names[i]+ \".gro\"])\n",
    "    subprocess.run([\"obabel\", \"-ipdb\", file_names[i] + \".pdb\", \"-omol\", file_names[i] + \".mol\",  \"-O\", file_names[i] + \".mol\"])\n",
    "    subprocess.run([\"renumber_pdb_atoms\", \"-f\", file_names[i] + \".pdb\", \"-o\", file_names[i] + \"_renum.pdb\"])"
   ]
  },
  {
   "cell_type": "code",
   "execution_count": null,
   "id": "db526c12",
   "metadata": {},
   "outputs": [],
   "source": []
  }
 ],
 "metadata": {
  "kernelspec": {
   "display_name": "Python 3 (ipykernel)",
   "language": "python",
   "name": "python3"
  },
  "language_info": {
   "codemirror_mode": {
    "name": "ipython",
    "version": 3
   },
   "file_extension": ".py",
   "mimetype": "text/x-python",
   "name": "python",
   "nbconvert_exporter": "python",
   "pygments_lexer": "ipython3",
   "version": "3.10.10"
  }
 },
 "nbformat": 4,
 "nbformat_minor": 5
}
