{
 "cells": [
  {
   "cell_type": "markdown",
   "id": "fc04dc5f",
   "metadata": {},
   "source": [
    "# Building POP-Terphenyl Polymers using mbuild\n",
    "\n",
    "Here we use `mbuild` to read in a SMILES string of a terphenyl monomer and build an n-residue polymer from the monomer."
   ]
  },
  {
   "cell_type": "code",
   "execution_count": 1,
   "id": "8d8dc4a9",
   "metadata": {},
   "outputs": [
    {
     "name": "stderr",
     "output_type": "stream",
     "text": [
      "Warning: importing 'simtk.openmm' is deprecated.  Import 'openmm' instead.\n"
     ]
    }
   ],
   "source": [
    "import mbuild as mb\n",
    "import numpy as np\n",
    "import subprocess\n",
    "from mbuild.lib.recipes.polymer import Polymer\n",
    "import warnings\n",
    "\n",
    "warnings.filterwarnings('ignore')"
   ]
  },
  {
   "cell_type": "markdown",
   "id": "c054b3df",
   "metadata": {},
   "source": [
    "First we get the POP-terphenyl monomer from a smiles string."
   ]
  },
  {
   "cell_type": "code",
   "execution_count": 2,
   "id": "de5966db",
   "metadata": {},
   "outputs": [],
   "source": [
    "comp = mb.load('C(=O)c1ccc(c2c(cc(OC)cc2)(c3ccc(cc3)[C@H](N)C))cc1', smiles = True, name=\"POP\")"
   ]
  },
  {
   "cell_type": "markdown",
   "id": "d77b3b26",
   "metadata": {},
   "source": [
    "I output all the indexes of hydrogen atoms because we will uses these indexes for extending the polymer later on."
   ]
  },
  {
   "cell_type": "code",
   "execution_count": 3,
   "id": "97ca2c2a",
   "metadata": {},
   "outputs": [
    {
     "name": "stdout",
     "output_type": "stream",
     "text": [
      "25 <H pos=([-0.2863 -0.53   -0.1319]), 1 bonds, id: 140593077943024>\n",
      "26 <H pos=([-0.3535 -0.356   0.0328]), 1 bonds, id: 140593077941008>\n",
      "27 <H pos=([-0.3417 -0.1275  0.1218]), 1 bonds, id: 140593077941392>\n",
      "28 <H pos=([0.0238 0.3237 0.1286]), 1 bonds, id: 140593078093520>\n",
      "29 <H pos=([-0.2587  0.6644  0.2184]), 1 bonds, id: 140593078092992>\n",
      "30 <H pos=([-0.3616  0.5219  0.2592]), 1 bonds, id: 140593078092224>\n",
      "31 <H pos=([-0.3482  0.5794  0.0869]), 1 bonds, id: 140593077941344>\n",
      "32 <H pos=([-0.4049  0.3384  0.0985]), 1 bonds, id: 140593077942832>\n",
      "33 <H pos=([-0.4091  0.1083  0.0184]), 1 bonds, id: 140593077940960>\n",
      "34 <H pos=([ 0.1529  0.2134 -0.0776]), 1 bonds, id: 140593077940576>\n",
      "35 <H pos=([ 0.365   0.0909 -0.0926]), 1 bonds, id: 140593078092608>\n",
      "36 <H pos=([ 0.2052 -0.2164  0.1649]), 1 bonds, id: 140593078093616>\n",
      "37 <H pos=([-0.006  -0.093   0.1809]), 1 bonds, id: 140593078094960>\n",
      "38 <H pos=([ 0.4333 -0.2302  0.1013]), 1 bonds, id: 140593078095392>\n",
      "39 <H pos=([ 0.6328 -0.1197  0.0441]), 1 bonds, id: 140593077943456>\n",
      "40 <H pos=([ 0.5393 -0.0218  0.1421]), 1 bonds, id: 140593077943504>\n",
      "41 <H pos=([ 0.3516 -0.2815 -0.13  ]), 1 bonds, id: 140593077941200>\n",
      "42 <H pos=([ 0.4432 -0.1391 -0.1937]), 1 bonds, id: 140593078095008>\n",
      "43 <H pos=([ 0.5313 -0.2782 -0.1198]), 1 bonds, id: 140593078093040>\n",
      "44 <H pos=([-0.0662 -0.0195 -0.192 ]), 1 bonds, id: 140593078096064>\n",
      "45 <H pos=([-0.0763 -0.2479 -0.2799]), 1 bonds, id: 140593078096544>\n"
     ]
    }
   ],
   "source": [
    "for i, atom in enumerate(comp):\n",
    "    if atom.name == \"H\":\n",
    "        print(i, atom)"
   ]
  },
  {
   "cell_type": "markdown",
   "id": "49431c09",
   "metadata": {},
   "source": [
    "`mbuild` comes with a nice tool to visualize Compounds built into jupyter-notebooks. Using the object from `py3Dmol` we can coloro the atoms to identify the indices needed to make substiutions when building the polymer."
   ]
  },
  {
   "cell_type": "code",
   "execution_count": 4,
   "id": "c147e44b",
   "metadata": {},
   "outputs": [],
   "source": [
    "view = comp.visualize(show_ports=True)\n",
    "style = {\n",
    "                \"stick\": {\"radius\": 0.2, \"color\": \"grey\"},\n",
    "                \"sphere\": {\"scale\": 0.3, \"color\" : \"black\"},\n",
    "    }\n",
    "view.setStyle({'model': -1, 'serial':26},style)\n",
    "view.setStyle({'model': -1, 'serial':41},style)\n",
    "\n",
    "nterm_connect = 41\n",
    "cterm_connect = 26"
   ]
  },
  {
   "cell_type": "markdown",
   "id": "82da58e8",
   "metadata": {},
   "source": [
    "We also make the two capping compounds using SMILES strings:"
   ]
  },
  {
   "cell_type": "code",
   "execution_count": 5,
   "id": "48b31918",
   "metadata": {
    "scrolled": true
   },
   "outputs": [
    {
     "data": {
      "application/3dmoljs_load.v0": "<div id=\"3dmolviewer_169203909552381\"  style=\"position: relative; width: 640px; height: 480px\">\n        <p id=\"3dmolwarning_169203909552381\" style=\"background-color:#ffcccc;color:black\">You appear to be running in JupyterLab (or JavaScript failed to load for some other reason).  You need to install the 3dmol extension: <br>\n        <tt>jupyter labextension install jupyterlab_3dmol</tt></p>\n        </div>\n<script>\n\nvar loadScriptAsync = function(uri){\n  return new Promise((resolve, reject) => {\n    //this is to ignore the existence of requirejs amd\n    var savedexports, savedmodule;\n    if (typeof exports !== 'undefined') savedexports = exports;\n    else exports = {}\n    if (typeof module !== 'undefined') savedmodule = module;\n    else module = {}\n\n    var tag = document.createElement('script');\n    tag.src = uri;\n    tag.async = true;\n    tag.onload = () => {\n        exports = savedexports;\n        module = savedmodule;\n        resolve();\n    };\n  var firstScriptTag = document.getElementsByTagName('script')[0];\n  firstScriptTag.parentNode.insertBefore(tag, firstScriptTag);\n});\n};\n\nif(typeof $3Dmolpromise === 'undefined') {\n$3Dmolpromise = null;\n  $3Dmolpromise = loadScriptAsync('https://cdnjs.cloudflare.com/ajax/libs/3Dmol/2.0.1/3Dmol-min.js');\n}\n\nvar viewer_169203909552381 = null;\nvar warn = document.getElementById(\"3dmolwarning_169203909552381\");\nif(warn) {\n    warn.parentNode.removeChild(warn);\n}\n$3Dmolpromise.then(function() {\nviewer_169203909552381 = $3Dmol.createViewer(document.getElementById(\"3dmolviewer_169203909552381\"),{backgroundColor:\"white\"});\nviewer_169203909552381.zoomTo();\n\tviewer_169203909552381.addModel(\"@<TRIPOS>MOLECULE\\nCompound\\n6 5 1 0 1\\nSMALL\\nNO_CHARGES\\n@<TRIPOS>CRYSIN\\n    7.5955     6.7325     6.5627    90.0000    90.0000    90.0000  1  1\\n@<TRIPOS>ATOM\\n       1 C           -0.3566    -0.0316    -0.0168 C             1 Compound\\n       2 O            0.9584    -0.4372    -0.2657 O             1 Compound\\n       3 H           -0.5386     0.0288     1.0783 H             1 Compound\\n       4 H           -1.0555    -0.7739    -0.4544 H             1 Compound\\n       5 H           -0.5477     0.9586    -0.4845 H             1 Compound\\n       6 H            1.5400     0.2553     0.1430 H             1 Compound\\n@<TRIPOS>BOND\\n       1        1        2 1\\n       2        1        3 1\\n       3        1        4 1\\n       4        1        5 1\\n       5        2        6 1\\n@<TRIPOS>SUBSTRUCTURE\\n       1 Compound        1 RESIDUE    0 **** ROOT      0\\n\",\"mol2\");\n\tviewer_169203909552381.setStyle({\"stick\": {\"radius\": 0.2, \"color\": \"grey\"}, \"sphere\": {\"scale\": 0.3, \"colorscheme\": {}}});\n\tviewer_169203909552381.zoomTo();\nviewer_169203909552381.render();\n});\n</script>",
      "text/html": [
       "<div id=\"3dmolviewer_169203909552381\"  style=\"position: relative; width: 640px; height: 480px\">\n",
       "        <p id=\"3dmolwarning_169203909552381\" style=\"background-color:#ffcccc;color:black\">You appear to be running in JupyterLab (or JavaScript failed to load for some other reason).  You need to install the 3dmol extension: <br>\n",
       "        <tt>jupyter labextension install jupyterlab_3dmol</tt></p>\n",
       "        </div>\n",
       "<script>\n",
       "\n",
       "var loadScriptAsync = function(uri){\n",
       "  return new Promise((resolve, reject) => {\n",
       "    //this is to ignore the existence of requirejs amd\n",
       "    var savedexports, savedmodule;\n",
       "    if (typeof exports !== 'undefined') savedexports = exports;\n",
       "    else exports = {}\n",
       "    if (typeof module !== 'undefined') savedmodule = module;\n",
       "    else module = {}\n",
       "\n",
       "    var tag = document.createElement('script');\n",
       "    tag.src = uri;\n",
       "    tag.async = true;\n",
       "    tag.onload = () => {\n",
       "        exports = savedexports;\n",
       "        module = savedmodule;\n",
       "        resolve();\n",
       "    };\n",
       "  var firstScriptTag = document.getElementsByTagName('script')[0];\n",
       "  firstScriptTag.parentNode.insertBefore(tag, firstScriptTag);\n",
       "});\n",
       "};\n",
       "\n",
       "if(typeof $3Dmolpromise === 'undefined') {\n",
       "$3Dmolpromise = null;\n",
       "  $3Dmolpromise = loadScriptAsync('https://cdnjs.cloudflare.com/ajax/libs/3Dmol/2.0.1/3Dmol-min.js');\n",
       "}\n",
       "\n",
       "var viewer_169203909552381 = null;\n",
       "var warn = document.getElementById(\"3dmolwarning_169203909552381\");\n",
       "if(warn) {\n",
       "    warn.parentNode.removeChild(warn);\n",
       "}\n",
       "$3Dmolpromise.then(function() {\n",
       "viewer_169203909552381 = $3Dmol.createViewer(document.getElementById(\"3dmolviewer_169203909552381\"),{backgroundColor:\"white\"});\n",
       "viewer_169203909552381.zoomTo();\n",
       "\tviewer_169203909552381.addModel(\"@<TRIPOS>MOLECULE\\nCompound\\n6 5 1 0 1\\nSMALL\\nNO_CHARGES\\n@<TRIPOS>CRYSIN\\n    7.5955     6.7325     6.5627    90.0000    90.0000    90.0000  1  1\\n@<TRIPOS>ATOM\\n       1 C           -0.3566    -0.0316    -0.0168 C             1 Compound\\n       2 O            0.9584    -0.4372    -0.2657 O             1 Compound\\n       3 H           -0.5386     0.0288     1.0783 H             1 Compound\\n       4 H           -1.0555    -0.7739    -0.4544 H             1 Compound\\n       5 H           -0.5477     0.9586    -0.4845 H             1 Compound\\n       6 H            1.5400     0.2553     0.1430 H             1 Compound\\n@<TRIPOS>BOND\\n       1        1        2 1\\n       2        1        3 1\\n       3        1        4 1\\n       4        1        5 1\\n       5        2        6 1\\n@<TRIPOS>SUBSTRUCTURE\\n       1 Compound        1 RESIDUE    0 **** ROOT      0\\n\",\"mol2\");\n",
       "\tviewer_169203909552381.setStyle({\"stick\": {\"radius\": 0.2, \"color\": \"grey\"}, \"sphere\": {\"scale\": 0.3, \"colorscheme\": {}}});\n",
       "\tviewer_169203909552381.zoomTo();\n",
       "viewer_169203909552381.render();\n",
       "});\n",
       "</script>"
      ]
     },
     "metadata": {},
     "output_type": "display_data"
    },
    {
     "data": {
      "text/plain": [
       "<py3Dmol.view at 0x7fde607e1de0>"
      ]
     },
     "execution_count": 5,
     "metadata": {},
     "output_type": "execute_result"
    }
   ],
   "source": [
    "cap_o = mb.load('CO', smiles = True)\n",
    "cap_o.visualize()"
   ]
  },
  {
   "cell_type": "code",
   "execution_count": 6,
   "id": "98f339ae",
   "metadata": {
    "scrolled": true
   },
   "outputs": [
    {
     "data": {
      "application/3dmoljs_load.v0": "<div id=\"3dmolviewer_16920390956414695\"  style=\"position: relative; width: 640px; height: 480px\">\n        <p id=\"3dmolwarning_16920390956414695\" style=\"background-color:#ffcccc;color:black\">You appear to be running in JupyterLab (or JavaScript failed to load for some other reason).  You need to install the 3dmol extension: <br>\n        <tt>jupyter labextension install jupyterlab_3dmol</tt></p>\n        </div>\n<script>\n\nvar loadScriptAsync = function(uri){\n  return new Promise((resolve, reject) => {\n    //this is to ignore the existence of requirejs amd\n    var savedexports, savedmodule;\n    if (typeof exports !== 'undefined') savedexports = exports;\n    else exports = {}\n    if (typeof module !== 'undefined') savedmodule = module;\n    else module = {}\n\n    var tag = document.createElement('script');\n    tag.src = uri;\n    tag.async = true;\n    tag.onload = () => {\n        exports = savedexports;\n        module = savedmodule;\n        resolve();\n    };\n  var firstScriptTag = document.getElementsByTagName('script')[0];\n  firstScriptTag.parentNode.insertBefore(tag, firstScriptTag);\n});\n};\n\nif(typeof $3Dmolpromise === 'undefined') {\n$3Dmolpromise = null;\n  $3Dmolpromise = loadScriptAsync('https://cdnjs.cloudflare.com/ajax/libs/3Dmol/2.0.1/3Dmol-min.js');\n}\n\nvar viewer_16920390956414695 = null;\nvar warn = document.getElementById(\"3dmolwarning_16920390956414695\");\nif(warn) {\n    warn.parentNode.removeChild(warn);\n}\n$3Dmolpromise.then(function() {\nviewer_16920390956414695 = $3Dmol.createViewer(document.getElementById(\"3dmolviewer_16920390956414695\"),{backgroundColor:\"white\"});\nviewer_16920390956414695.zoomTo();\n\tviewer_16920390956414695.addModel(\"@<TRIPOS>MOLECULE\\nCompound\\n17 16 1 0 1\\nSMALL\\nNO_CHARGES\\n@<TRIPOS>CRYSIN\\n   10.1459     9.1665     9.1441    90.0000    90.0000    90.0000  1  1\\n@<TRIPOS>ATOM\\n       1 C           -0.7699     1.5203    -0.5363 C             1 Compound\\n       2 C           -0.1188     0.2072    -0.0756 C             1 Compound\\n       3 C           -0.7685    -0.2314     1.2509 C             1 Compound\\n       4 C           -0.3325    -0.8625    -1.1638 C             1 Compound\\n       5 O            1.2809     0.4683     0.1089 O             1 Compound\\n       6 C            2.2481    -0.4575     0.5254 C             1 Compound\\n       7 O            1.9539    -1.6539     0.7850 O             1 Compound\\n       8 H           -1.8618     1.3889    -0.6991 H             1 Compound\\n       9 H           -0.6194     2.3137     0.2272 H             1 Compound\\n      10 H           -0.3099     1.8657    -1.4872 H             1 Compound\\n      11 H           -0.5474     0.5091     2.0492 H             1 Compound\\n      12 H           -0.3906    -1.2212     1.5788 H             1 Compound\\n      13 H           -1.8713    -0.3123     1.1379 H             1 Compound\\n      14 H            0.2008    -0.5740    -2.0948 H             1 Compound\\n      15 H            0.0457    -1.8527    -0.8376 H             1 Compound\\n      16 H           -1.4140    -0.9742    -1.3948 H             1 Compound\\n      17 H            3.2746    -0.1334     0.6260 H             1 Compound\\n@<TRIPOS>BOND\\n       1        1        2 1\\n       2        1        8 1\\n       3        1        9 1\\n       4        1       10 1\\n       5        2        3 1\\n       6        2        4 1\\n       7        2        5 1\\n       8        3       11 1\\n       9        3       12 1\\n      10        3       13 1\\n      11        4       14 1\\n      12        4       15 1\\n      13        4       16 1\\n      14        5        6 1\\n      15        6        7 1\\n      16        6       17 1\\n@<TRIPOS>SUBSTRUCTURE\\n       1 Compound        1 RESIDUE    0 **** ROOT      0\\n\",\"mol2\");\n\tviewer_16920390956414695.setStyle({\"stick\": {\"radius\": 0.2, \"color\": \"grey\"}, \"sphere\": {\"scale\": 0.3, \"colorscheme\": {}}});\n\tviewer_16920390956414695.zoomTo();\nviewer_16920390956414695.render();\n});\n</script>",
      "text/html": [
       "<div id=\"3dmolviewer_16920390956414695\"  style=\"position: relative; width: 640px; height: 480px\">\n",
       "        <p id=\"3dmolwarning_16920390956414695\" style=\"background-color:#ffcccc;color:black\">You appear to be running in JupyterLab (or JavaScript failed to load for some other reason).  You need to install the 3dmol extension: <br>\n",
       "        <tt>jupyter labextension install jupyterlab_3dmol</tt></p>\n",
       "        </div>\n",
       "<script>\n",
       "\n",
       "var loadScriptAsync = function(uri){\n",
       "  return new Promise((resolve, reject) => {\n",
       "    //this is to ignore the existence of requirejs amd\n",
       "    var savedexports, savedmodule;\n",
       "    if (typeof exports !== 'undefined') savedexports = exports;\n",
       "    else exports = {}\n",
       "    if (typeof module !== 'undefined') savedmodule = module;\n",
       "    else module = {}\n",
       "\n",
       "    var tag = document.createElement('script');\n",
       "    tag.src = uri;\n",
       "    tag.async = true;\n",
       "    tag.onload = () => {\n",
       "        exports = savedexports;\n",
       "        module = savedmodule;\n",
       "        resolve();\n",
       "    };\n",
       "  var firstScriptTag = document.getElementsByTagName('script')[0];\n",
       "  firstScriptTag.parentNode.insertBefore(tag, firstScriptTag);\n",
       "});\n",
       "};\n",
       "\n",
       "if(typeof $3Dmolpromise === 'undefined') {\n",
       "$3Dmolpromise = null;\n",
       "  $3Dmolpromise = loadScriptAsync('https://cdnjs.cloudflare.com/ajax/libs/3Dmol/2.0.1/3Dmol-min.js');\n",
       "}\n",
       "\n",
       "var viewer_16920390956414695 = null;\n",
       "var warn = document.getElementById(\"3dmolwarning_16920390956414695\");\n",
       "if(warn) {\n",
       "    warn.parentNode.removeChild(warn);\n",
       "}\n",
       "$3Dmolpromise.then(function() {\n",
       "viewer_16920390956414695 = $3Dmol.createViewer(document.getElementById(\"3dmolviewer_16920390956414695\"),{backgroundColor:\"white\"});\n",
       "viewer_16920390956414695.zoomTo();\n",
       "\tviewer_16920390956414695.addModel(\"@<TRIPOS>MOLECULE\\nCompound\\n17 16 1 0 1\\nSMALL\\nNO_CHARGES\\n@<TRIPOS>CRYSIN\\n   10.1459     9.1665     9.1441    90.0000    90.0000    90.0000  1  1\\n@<TRIPOS>ATOM\\n       1 C           -0.7699     1.5203    -0.5363 C             1 Compound\\n       2 C           -0.1188     0.2072    -0.0756 C             1 Compound\\n       3 C           -0.7685    -0.2314     1.2509 C             1 Compound\\n       4 C           -0.3325    -0.8625    -1.1638 C             1 Compound\\n       5 O            1.2809     0.4683     0.1089 O             1 Compound\\n       6 C            2.2481    -0.4575     0.5254 C             1 Compound\\n       7 O            1.9539    -1.6539     0.7850 O             1 Compound\\n       8 H           -1.8618     1.3889    -0.6991 H             1 Compound\\n       9 H           -0.6194     2.3137     0.2272 H             1 Compound\\n      10 H           -0.3099     1.8657    -1.4872 H             1 Compound\\n      11 H           -0.5474     0.5091     2.0492 H             1 Compound\\n      12 H           -0.3906    -1.2212     1.5788 H             1 Compound\\n      13 H           -1.8713    -0.3123     1.1379 H             1 Compound\\n      14 H            0.2008    -0.5740    -2.0948 H             1 Compound\\n      15 H            0.0457    -1.8527    -0.8376 H             1 Compound\\n      16 H           -1.4140    -0.9742    -1.3948 H             1 Compound\\n      17 H            3.2746    -0.1334     0.6260 H             1 Compound\\n@<TRIPOS>BOND\\n       1        1        2 1\\n       2        1        8 1\\n       3        1        9 1\\n       4        1       10 1\\n       5        2        3 1\\n       6        2        4 1\\n       7        2        5 1\\n       8        3       11 1\\n       9        3       12 1\\n      10        3       13 1\\n      11        4       14 1\\n      12        4       15 1\\n      13        4       16 1\\n      14        5        6 1\\n      15        6        7 1\\n      16        6       17 1\\n@<TRIPOS>SUBSTRUCTURE\\n       1 Compound        1 RESIDUE    0 **** ROOT      0\\n\",\"mol2\");\n",
       "\tviewer_16920390956414695.setStyle({\"stick\": {\"radius\": 0.2, \"color\": \"grey\"}, \"sphere\": {\"scale\": 0.3, \"colorscheme\": {}}});\n",
       "\tviewer_16920390956414695.zoomTo();\n",
       "viewer_16920390956414695.render();\n",
       "});\n",
       "</script>"
      ]
     },
     "metadata": {},
     "output_type": "display_data"
    },
    {
     "data": {
      "text/plain": [
       "<py3Dmol.view at 0x7fde607e35e0>"
      ]
     },
     "execution_count": 6,
     "metadata": {},
     "output_type": "execute_result"
    }
   ],
   "source": [
    "cap_n = mb.load('CC(C)(C)OC=O', smiles = True)\n",
    "cap_n.visualize()"
   ]
  },
  {
   "cell_type": "markdown",
   "id": "21187d37",
   "metadata": {},
   "source": [
    "Here we use the `Polymer` object to build a hexamer from the molecules we built in the previous cells. `Polymer.add_monomer()` is used to add the monomers to the polymer object. `Polymer.add_end_groups()` adds the capping groups to the object with `\"head\"` and `\"tail\"` labels for the each end of the polymer. `replace = True` will replace the specified atoms with the next residue. `indices` is used to specify which atom will be replaced in each group. Finally, when we call `Polymer.build()`, the polymer is built with the specified `n` residues and the provided capping residues. `sequence` is used if multiple monomers are provided."
   ]
  },
  {
   "cell_type": "code",
   "execution_count": 7,
   "id": "e6206e9d",
   "metadata": {},
   "outputs": [],
   "source": [
    "chain = Polymer()\n",
    "chain.add_monomer(compound=comp,\n",
    "                  indices=[cterm_connect - 1, nterm_connect - 1],\n",
    "                  separation=.15,\n",
    "                  replace=True,\n",
    "                  # orientation = [[0,-1,0],[1,0,0]]\n",
    "                 )\n",
    "chain.add_end_groups(compound = cap_o,\n",
    "                     index = -1,\n",
    "                     separation=0.15,\n",
    "                     label=\"head\",\n",
    "                     duplicate = False\n",
    "                    )\n",
    "\n",
    "chain.add_end_groups(compound = cap_n,\n",
    "                     index = -1,\n",
    "                     separation=0.15,\n",
    "                     label=\"tail\",\n",
    "                     duplicate = False\n",
    "                    )\n",
    "\n",
    "chain.build(n=6, sequence='A')\n",
    "chain.energy_minimize()"
   ]
  },
  {
   "cell_type": "code",
   "execution_count": 8,
   "id": "b7e07dc0",
   "metadata": {},
   "outputs": [
    {
     "data": {
      "application/3dmoljs_load.v0": "<div id=\"3dmolviewer_1692039104174789\"  style=\"position: relative; width: 640px; height: 480px\">\n        <p id=\"3dmolwarning_1692039104174789\" style=\"background-color:#ffcccc;color:black\">You appear to be running in JupyterLab (or JavaScript failed to load for some other reason).  You need to install the 3dmol extension: <br>\n        <tt>jupyter labextension install jupyterlab_3dmol</tt></p>\n        </div>\n<script>\n\nvar loadScriptAsync = function(uri){\n  return new Promise((resolve, reject) => {\n    //this is to ignore the existence of requirejs amd\n    var savedexports, savedmodule;\n    if (typeof exports !== 'undefined') savedexports = exports;\n    else exports = {}\n    if (typeof module !== 'undefined') savedmodule = module;\n    else module = {}\n\n    var tag = document.createElement('script');\n    tag.src = uri;\n    tag.async = true;\n    tag.onload = () => {\n        exports = savedexports;\n        module = savedmodule;\n        resolve();\n    };\n  var firstScriptTag = document.getElementsByTagName('script')[0];\n  firstScriptTag.parentNode.insertBefore(tag, firstScriptTag);\n});\n};\n\nif(typeof $3Dmolpromise === 'undefined') {\n$3Dmolpromise = null;\n  $3Dmolpromise = loadScriptAsync('https://cdnjs.cloudflare.com/ajax/libs/3Dmol/2.0.1/3Dmol-min.js');\n}\n\nvar viewer_1692039104174789 = null;\nvar warn = document.getElementById(\"3dmolwarning_1692039104174789\");\nif(warn) {\n    warn.parentNode.removeChild(warn);\n}\n$3Dmolpromise.then(function() {\nviewer_1692039104174789 = $3Dmol.createViewer(document.getElementById(\"3dmolviewer_1692039104174789\"),{backgroundColor:\"white\"});\nviewer_1692039104174789.zoomTo();\n\tviewer_1692039104174789.addModel(\"@<TRIPOS>MOLECULE\\nPolymer\\n285 302 1 0 1\\nSMALL\\nNO_CHARGES\\n@<TRIPOS>CRYSIN\\n   47.4968    29.0565    29.3719    90.0000    90.0000    90.0000  1  1\\n@<TRIPOS>ATOM\\n       1 C           -2.1737    -4.6229    -1.5971 C             1 Polymer \\n       2 O           -1.3752    -5.0126    -2.4390 O             1 Polymer \\n       3 C           -2.2090    -3.2015    -1.2007 C             1 Polymer \\n       4 C           -3.0860    -2.7730    -0.1899 C             1 Polymer \\n       5 C           -3.0457    -1.4572     0.2744 C             1 Polymer \\n       6 C           -2.1083    -0.5513    -0.2473 C             1 Polymer \\n       7 C           -1.9845     0.8289     0.3051 C             1 Polymer \\n       8 C           -0.7193     1.4701     0.5057 C             1 Polymer \\n       9 C           -0.7055     2.8206     0.9101 C             1 Polymer \\n      10 C           -1.8904     3.5224     1.1555 C             1 Polymer \\n      11 O           -1.8022     4.8200     1.5486 O             1 Polymer \\n      12 C           -2.8699     5.6546     1.8091 C             1 Polymer \\n      13 C           -3.1216     2.8657     1.0000 C             1 Polymer \\n      14 C           -3.1649     1.5391     0.5822 C             1 Polymer \\n      15 C            0.5927     0.7495     0.3553 C             1 Polymer \\n      16 C            1.7140     1.3948    -0.1943 C             1 Polymer \\n      17 C            2.9123     0.7000    -0.3847 C             1 Polymer \\n      18 C            3.0279    -0.6541    -0.0194 C             1 Polymer \\n      19 C            1.9312    -1.2890     0.5745 C             1 Polymer \\n      20 C            0.7345    -0.5963     0.7650 C             1 Polymer \\n      21 C            4.3185    -1.4096    -0.2780 C             1 Polymer \\n      22 N            5.4207    -0.7465     0.4113 N             1 Polymer \\n      23 C            4.5847    -1.4817    -1.7872 C             1 Polymer \\n      24 C           -1.2716    -0.9735    -1.3006 C             1 Polymer \\n      25 C           -1.3202    -2.2817    -1.7720 C             1 Polymer \\n      26 H           -3.7832    -3.4635     0.2673 H             1 Polymer \\n      27 H           -3.7086    -1.1682     1.0797 H             1 Polymer \\n      28 H            0.2340     3.3343     1.0707 H             1 Polymer \\n      29 H           -2.4873     6.6523     2.1059 H             1 Polymer \\n      30 H           -3.4826     5.2476     2.6417 H             1 Polymer \\n      31 H           -3.4952     5.7717     0.8980 H             1 Polymer \\n      32 H           -4.0570     3.3765     1.1846 H             1 Polymer \\n      33 H           -4.1343     1.0781     0.4383 H             1 Polymer \\n      34 H            1.6575     2.4257    -0.5172 H             1 Polymer \\n      35 H            3.7490     1.2163    -0.8367 H             1 Polymer \\n      36 H            1.9920    -2.3253     0.8820 H             1 Polymer \\n      37 H           -0.0853    -1.1249     1.2324 H             1 Polymer \\n      38 H            4.2466    -2.4654    -0.0061 H             1 Polymer \\n      39 H            6.1144    -0.2706    -0.1881 H             1 Polymer \\n      40 H            3.7445    -2.0084    -2.2910 H             1 Polymer \\n      41 H            4.7005    -0.4740    -2.2346 H             1 Polymer \\n      42 H            5.5147    -2.0621    -1.9716 H             1 Polymer \\n      43 H           -0.5596    -0.2937    -1.7507 H             1 Polymer \\n      44 H           -0.6352    -2.5792    -2.5568 H             1 Polymer \\n      45 C            5.5718    -0.5760     1.7655 C             1 Polymer \\n      46 O            6.4506     0.1919     2.1338 O             1 Polymer \\n      47 C            4.7620    -1.2401     2.8490 C             1 Polymer \\n      48 C            4.1575    -2.5076     2.7174 C             1 Polymer \\n      49 C            3.4736    -3.1017     3.7716 C             1 Polymer \\n      50 C            3.4011    -2.4723     5.0128 C             1 Polymer \\n      51 C            2.7568    -3.1768     6.1494 C             1 Polymer \\n      52 C            3.3720    -3.2920     7.4330 C             1 Polymer \\n      53 C            2.6457    -3.9149     8.4711 C             1 Polymer \\n      54 C            1.3683    -4.4498     8.2498 C             1 Polymer \\n      55 O            0.7358    -5.0717     9.2797 O             1 Polymer \\n      56 C           -0.4974    -5.6895     9.2054 C             1 Polymer \\n      57 C            0.7942    -4.3500     6.9725 C             1 Polymer \\n      58 C            1.4812    -3.7232     5.9401 C             1 Polymer \\n      59 C            4.7833    -2.8389     7.6917 C             1 Polymer \\n      60 C            5.1522    -2.2730     8.9242 C             1 Polymer \\n      61 C            6.4564    -1.8102     9.1317 C             1 Polymer \\n      62 C            7.4282    -1.9103     8.1178 C             1 Polymer \\n      63 C            7.0810    -2.5182     6.9082 C             1 Polymer \\n      64 C            5.7839    -2.9824     6.7024 C             1 Polymer \\n      65 C            8.8258    -1.3623     8.3311 C             1 Polymer \\n      66 N            9.4400    -2.0280     9.4734 N             1 Polymer \\n      67 C            8.7633     0.1540     8.5460 C             1 Polymer \\n      68 C            3.9977    -1.2090     5.1714 C             1 Polymer \\n      69 C            4.6684    -0.6035     4.1051 C             1 Polymer \\n      70 H            4.2356    -3.1110     1.8480 H             1 Polymer \\n      71 H            3.0535    -4.0906     3.6340 H             1 Polymer \\n      72 H            3.0857    -4.0321     9.4532 H             1 Polymer \\n      73 H           -0.7459    -6.1302    10.1920 H             1 Polymer \\n      74 H           -0.4728    -6.5066     8.4518 H             1 Polymer \\n      75 H           -1.2827    -4.9510     8.9369 H             1 Polymer \\n      76 H           -0.1889    -4.7502     6.7637 H             1 Polymer \\n      77 H            1.0009    -3.6427     4.9720 H             1 Polymer \\n      78 H            4.4269    -2.1511     9.7176 H             1 Polymer \\n      79 H            6.7047    -1.3548    10.0814 H             1 Polymer \\n      80 H            7.8090    -2.6301     6.1148 H             1 Polymer \\n      81 H            5.5746    -3.4583     5.7561 H             1 Polymer \\n      82 H            9.4445    -1.4427     7.4354 H             1 Polymer \\n      83 H            9.5695    -1.4543    10.3235 H             1 Polymer \\n      84 H            8.3088     0.6387     7.6547 H             1 Polymer \\n      85 H            8.1705     0.4198     9.4450 H             1 Polymer \\n      86 H            9.7937     0.5534     8.6671 H             1 Polymer \\n      87 H            3.9537    -0.6961     6.1250 H             1 Polymer \\n      88 H            5.1245     0.3654     4.2702 H             1 Polymer \\n      89 C            9.7473    -3.3609     9.5884 C             1 Polymer \\n      90 O           10.0518    -3.7695    10.7001 O             1 Polymer \\n      91 C            9.7491    -4.3779     8.4757 C             1 Polymer \\n      92 C           10.0293    -4.0696     7.1273 C             1 Polymer \\n      93 C           10.0866    -5.0577     6.1508 C             1 Polymer \\n      94 C            9.9093    -6.3983     6.4885 C             1 Polymer \\n      95 C           10.0902    -7.4401     5.4462 C             1 Polymer \\n      96 C           10.9150    -8.5896     5.6419 C             1 Polymer \\n      97 C           10.9681    -9.5592     4.6168 C             1 Polymer \\n      98 C           10.2679    -9.3896     3.4137 C             1 Polymer \\n      99 O           10.3937   -10.3378     2.4478 O             1 Polymer \\n     100 C            9.8223   -10.2812     1.1914 C             1 Polymer \\n     101 C            9.4836    -8.2391     3.2324 C             1 Polymer \\n     102 C            9.3990    -7.2807     4.2351 C             1 Polymer \\n     103 C           11.7794    -8.7612     6.8622 C             1 Polymer \\n     104 C           11.9978   -10.0292     7.4285 C             1 Polymer \\n     105 C           12.7652   -10.1660     8.5912 C             1 Polymer \\n     106 C           13.3426    -9.0414     9.2119 C             1 Polymer \\n     107 C           13.1702    -7.7854     8.6258 C             1 Polymer \\n     108 C           12.4106    -7.6490     7.4663 C             1 Polymer \\n     109 C           14.1313    -9.1888    10.4987 C             1 Polymer \\n     110 N           15.2632   -10.0820    10.2784 N             1 Polymer \\n     111 C           13.2182    -9.7211    11.6098 C             1 Polymer \\n     112 C            9.6322    -6.7326     7.8257 C             1 Polymer \\n     113 C            9.5544    -5.7366     8.8033 C             1 Polymer \\n     114 H           10.2787    -3.0959     6.7842 H             1 Polymer \\n     115 H           10.3387    -4.7789     5.1350 H             1 Polymer \\n     116 H           11.5947   -10.4356     4.7241 H             1 Polymer \\n     117 H           10.1206   -11.1787     0.6127 H             1 Polymer \\n     118 H           10.1790    -9.3789     0.6482 H             1 Polymer \\n     119 H            8.7145   -10.2608     1.2717 H             1 Polymer \\n     120 H            8.9291    -8.0739     2.3184 H             1 Polymer \\n     121 H            8.7687    -6.4143     4.0724 H             1 Polymer \\n     122 H           11.5468   -10.9136     6.9984 H             1 Polymer \\n     123 H           12.8942   -11.1513     9.0193 H             1 Polymer \\n     124 H           13.6163    -6.9021     9.0653 H             1 Polymer \\n     125 H           12.3259    -6.6577     7.0472 H             1 Polymer \\n     126 H           14.4500    -8.2259    10.9039 H             1 Polymer \\n     127 H           15.2076   -11.0098    10.7290 H             1 Polymer \\n     128 H           12.3751    -9.0135    11.7712 H             1 Polymer \\n     129 H           12.8085   -10.7215    11.3641 H             1 Polymer \\n     130 H           13.7927    -9.7937    12.5584 H             1 Polymer \\n     131 H            9.4902    -7.7674     8.1147 H             1 Polymer \\n     132 H            9.3531    -6.0356     9.8251 H             1 Polymer \\n     133 C           16.3308    -9.8769     9.4387 C             1 Polymer \\n     134 O           17.0620   -10.8348     9.2265 O             1 Polymer \\n     135 C           16.6992    -8.5858     8.7509 C             1 Polymer \\n     136 C           16.4120    -7.3041     9.2669 C             1 Polymer \\n     137 C           16.8379    -6.1466     8.6233 C             1 Polymer \\n     138 C           17.6037    -6.2232     7.4607 C             1 Polymer \\n     139 C           18.1415    -4.9768     6.8576 C             1 Polymer \\n     140 C           19.5120    -4.8323     6.4805 C             1 Polymer \\n     141 C           19.9101    -3.6357     5.8454 C             1 Polymer \\n     142 C           19.0035    -2.5904     5.6211 C             1 Polymer \\n     143 O           19.4579    -1.4501     5.0374 O             1 Polymer \\n     144 C           18.7025    -0.3209     4.7894 C             1 Polymer \\n     145 C           17.6675    -2.7423     6.0252 C             1 Polymer \\n     146 C           17.2467    -3.9184     6.6351 C             1 Polymer \\n     147 C           20.5502    -5.8745     6.7984 C             1 Polymer \\n     148 C           21.6131    -6.1353     5.9156 C             1 Polymer \\n     149 C           22.5430    -7.1412     6.2003 C             1 Polymer \\n     150 C           22.4417    -7.9066     7.3775 C             1 Polymer \\n     151 C           21.4166    -7.6187     8.2828 C             1 Polymer \\n     152 C           20.4938    -6.6139     8.0026 C             1 Polymer \\n     153 C           23.4229    -9.0284     7.6550 C             1 Polymer \\n     154 N           24.7771    -8.4900     7.7034 N             1 Polymer \\n     155 C           23.2981   -10.1064     6.5702 C             1 Polymer \\n     156 C           17.9030    -7.4886     6.9262 C             1 Polymer \\n     157 C           17.4584    -8.6508     7.5629 C             1 Polymer \\n     158 H           15.9222    -7.1373    10.1940 H             1 Polymer \\n     159 H           16.6240    -5.1854     9.0746 H             1 Polymer \\n     160 H           20.9429    -3.4853     5.5579 H             1 Polymer \\n     161 H           19.3459     0.4552     4.3276 H             1 Polymer \\n     162 H           18.2918     0.0832     5.7402 H             1 Polymer \\n     163 H           17.8732    -0.5588     4.0896 H             1 Polymer \\n     164 H           16.9397    -1.9575     5.8689 H             1 Polymer \\n     165 H           16.2040    -4.0125     6.9146 H             1 Polymer \\n     166 H           21.7087    -5.5906     4.9859 H             1 Polymer \\n     167 H           23.3350    -7.3364     5.4891 H             1 Polymer \\n     168 H           21.3202    -8.1746     9.2065 H             1 Polymer \\n     169 H           19.7336    -6.4224     8.7452 H             1 Polymer \\n     170 H           23.1782    -9.5852     8.5620 H             1 Polymer \\n     171 H           25.3979    -8.7449     6.9176 H             1 Polymer \\n     172 H           22.2630   -10.5141     6.5664 H             1 Polymer \\n     173 H           23.5331    -9.7083     5.5627 H             1 Polymer \\n     174 H           23.9959   -10.9415     6.7955 H             1 Polymer \\n     175 H           18.4938    -7.5772     6.0221 H             1 Polymer \\n     176 H           17.7220    -9.6067     7.1264 H             1 Polymer \\n     177 C           25.2820    -7.5857     8.6047 C             1 Polymer \\n     178 O           26.3750    -7.0979     8.3482 O             1 Polymer \\n     179 C           24.6304    -7.1309     9.8876 C             1 Polymer \\n     180 C           23.7351    -7.9164    10.6445 C             1 Polymer \\n     181 C           23.2215    -7.4720    11.8582 C             1 Polymer \\n     182 C           23.6118    -6.2418    12.3856 C             1 Polymer \\n     183 C           23.1359    -5.8427    13.7355 C             1 Polymer \\n     184 C           24.0135    -5.3419    14.7456 C             1 Polymer \\n     185 C           23.4546    -4.9210    15.9718 C             1 Polymer \\n     186 C           22.0790    -5.0266    16.2223 C             1 Polymer \\n     187 O           21.6073    -4.6424    17.4378 O             1 Polymer \\n     188 C           20.2935    -4.7384    17.8534 C             1 Polymer \\n     189 C           21.2381    -5.5470    15.2256 C             1 Polymer \\n     190 C           21.7619    -5.9487    14.0027 C             1 Polymer \\n     191 C           25.5080    -5.3174    14.5733 C             1 Polymer \\n     192 C           26.2860    -4.2738    15.1039 C             1 Polymer \\n     193 C           27.6689    -4.2387    14.8899 C             1 Polymer \\n     194 C           28.3112    -5.2501    14.1499 C             1 Polymer \\n     195 C           27.5499    -6.3165    13.6638 C             1 Polymer \\n     196 C           26.1744    -6.3541    13.8801 C             1 Polymer \\n     197 C           29.8013    -5.1791    13.8755 C             1 Polymer \\n     198 N           30.5317    -5.1602    15.1386 N             1 Polymer \\n     199 C           30.1179    -3.9345    13.0386 C             1 Polymer \\n     200 C           24.5002    -5.4384    11.6493 C             1 Polymer \\n     201 C           25.0017    -5.8779    10.4210 C             1 Polymer \\n     202 H           23.4493    -8.9043    10.3833 H             1 Polymer \\n     203 H           22.5651    -8.1246    12.4209 H             1 Polymer \\n     204 H           24.0915    -4.5495    16.7647 H             1 Polymer \\n     205 H           20.2124    -4.3739    18.8974 H             1 Polymer \\n     206 H           19.9584    -5.7982    17.8245 H             1 Polymer \\n     207 H           19.6382    -4.1168    17.2068 H             1 Polymer \\n     208 H           20.1721    -5.6434    15.3822 H             1 Polymer \\n     209 H           21.0822    -6.3252    13.2474 H             1 Polymer \\n     210 H           25.8252    -3.4623    15.6515 H             1 Polymer \\n     211 H           28.2381    -3.4083    15.2867 H             1 Polymer \\n     212 H           28.0138    -7.1206    13.1072 H             1 Polymer \\n     213 H           25.6369    -7.2086    13.4959 H             1 Polymer \\n     214 H           30.1431    -5.9866    13.2246 H             1 Polymer \\n     215 H           30.9862    -4.2684    15.3884 H             1 Polymer \\n     216 H           29.5666    -3.9836    12.0736 H             1 Polymer \\n     217 H           29.8408    -3.0000    13.5664 H             1 Polymer \\n     218 H           31.2057    -3.9077    12.8119 H             1 Polymer \\n     219 H           24.8169    -4.4756    12.0324 H             1 Polymer \\n     220 H           25.6953    -5.2348     9.8926 H             1 Polymer \\n     221 C           30.5753    -6.1530    16.0867 C             1 Polymer \\n     222 O           31.0619    -5.8633    17.1721 O             1 Polymer \\n     223 C           30.0839    -7.5696    15.9272 C             1 Polymer \\n     224 C           30.0517    -8.2637    14.6987 C             1 Polymer \\n     225 C           29.6414    -9.5908    14.6196 C             1 Polymer \\n     226 C           29.2899   -10.2923    15.7712 C             1 Polymer \\n     227 C           28.9522   -11.7356    15.6776 C             1 Polymer \\n     228 C           29.5389   -12.7086    16.5383 C             1 Polymer \\n     229 C           29.1203   -14.0494    16.4324 C             1 Polymer \\n     230 C           28.1803   -14.4404    15.4674 C             1 Polymer \\n     231 O           27.8563   -15.7567    15.3710 O             1 Polymer \\n     232 C           27.0218   -16.3066    14.4175 C             1 Polymer \\n     233 C           27.6317   -13.4711    14.6095 C             1 Polymer \\n     234 C           28.0136   -12.1383    14.7166 C             1 Polymer \\n     235 C           30.6691   -12.3666    17.4598 C             1 Polymer \\n     236 C           30.7751   -12.9037    18.7555 C             1 Polymer \\n     237 C           31.8509   -12.5460    19.5846 C             1 Polymer \\n     238 C           32.8530   -11.6724    19.1182 C             1 Polymer \\n     239 C           32.7643   -11.1707    17.8169 C             1 Polymer \\n     240 C           31.6920   -11.5095    17.0046 C             1 Polymer \\n     241 C           34.0368   -11.2722    19.9762 C             1 Polymer \\n     242 N           34.7619   -12.4439    20.4395 N             1 Polymer \\n     243 C           33.5753   -10.4154    21.1579 C             1 Polymer \\n     244 C           29.3244    -9.6284    17.0098 C             1 Polymer \\n     245 C           29.7130    -8.2877    17.0853 C             1 Polymer \\n     246 H           30.3907    -7.8522    13.7805 H             1 Polymer \\n     247 H           29.6611   -10.0917    13.6593 H             1 Polymer \\n     248 H           29.5679   -14.8106    17.0598 H             1 Polymer \\n     249 H           26.9706   -17.4042    14.5651 H             1 Polymer \\n     250 H           27.4211   -16.1084    13.3985 H             1 Polymer \\n     251 H           25.9986   -15.8850    14.5110 H             1 Polymer \\n     252 H           26.9064   -13.7356    13.8519 H             1 Polymer \\n     253 H           27.5604   -11.4111    14.0533 H             1 Polymer \\n     254 H           30.0164   -13.5759    19.1349 H             1 Polymer \\n     255 H           31.9084   -12.9549    20.5852 H             1 Polymer \\n     256 H           33.5277   -10.5105    17.4234 H             1 Polymer \\n     257 H           31.6823   -11.1080    16.0012 H             1 Polymer \\n     258 H           34.7379   -10.6429    19.3829 H             1 Polymer \\n     259 H           34.8793   -12.6006    21.4520 H             1 Polymer \\n     260 H           33.0601    -9.5044    20.7824 H             1 Polymer \\n     261 H           32.8808   -10.9790    21.8151 H             1 Polymer \\n     262 H           34.4550   -10.0937    21.7553 H             1 Polymer \\n     263 H           29.0533   -10.1498    17.9201 H             1 Polymer \\n     264 H           29.7302    -7.8135    18.0592 H             1 Polymer \\n     265 C           -2.3836    -6.6925    -0.4232 C             1 Polymer \\n     266 O           -2.9127    -5.5129    -0.8944 O             1 Polymer \\n     267 H           -1.9302    -7.2880    -1.2425 H             1 Polymer \\n     268 H           -3.1828    -7.2797     0.0706 H             1 Polymer \\n     269 H           -1.6054    -6.4545     0.3364 H             1 Polymer \\n     270 C           37.2615   -16.3686    20.4919 C             1 Polymer \\n     271 C           36.5343   -15.5072    19.4456 C             1 Polymer \\n     272 C           37.5621   -15.0685    18.3795 C             1 Polymer \\n     273 C           35.4136   -16.3452    18.8029 C             1 Polymer \\n     274 O           35.9967   -14.4124    20.1139 O             1 Polymer \\n     275 C           35.3197   -13.3562    19.5921 C             1 Polymer \\n     276 O           35.1933   -13.2186    18.3825 O             1 Polymer \\n     277 H           37.7120   -17.2699    20.0253 H             1 Polymer \\n     278 H           38.0702   -15.7827    20.9802 H             1 Polymer \\n     279 H           36.5520   -16.6978    21.2841 H             1 Polymer \\n     280 H           38.3625   -14.4529    18.8431 H             1 Polymer \\n     281 H           37.0924   -14.4746    17.5698 H             1 Polymer \\n     282 H           38.0324   -15.9564    17.9031 H             1 Polymer \\n     283 H           34.6853   -16.6717    19.5776 H             1 Polymer \\n     284 H           34.8647   -15.7594    18.0367 H             1 Polymer \\n     285 H           35.8331   -17.2490    18.3102 H             1 Polymer \\n@<TRIPOS>BOND\\n       1        1        2 1\\n       2        1        3 1\\n       3        1      266 1\\n       4        3        4 1\\n       5        3       25 1\\n       6        4        5 1\\n       7        4       26 1\\n       8        5        6 1\\n       9        5       27 1\\n      10        6        7 1\\n      11        6       24 1\\n      12        7        8 1\\n      13        7       14 1\\n      14        8        9 1\\n      15        8       15 1\\n      16        9       10 1\\n      17        9       28 1\\n      18       10       11 1\\n      19       10       13 1\\n      20       11       12 1\\n      21       12       29 1\\n      22       12       30 1\\n      23       12       31 1\\n      24       13       14 1\\n      25       13       32 1\\n      26       14       33 1\\n      27       15       16 1\\n      28       15       20 1\\n      29       16       17 1\\n      30       16       34 1\\n      31       17       18 1\\n      32       17       35 1\\n      33       18       19 1\\n      34       18       21 1\\n      35       19       20 1\\n      36       19       36 1\\n      37       20       37 1\\n      38       21       22 1\\n      39       21       23 1\\n      40       21       38 1\\n      41       22       39 1\\n      42       22       45 1\\n      43       23       40 1\\n      44       23       41 1\\n      45       23       42 1\\n      46       24       25 1\\n      47       24       43 1\\n      48       25       44 1\\n      49       45       46 1\\n      50       45       47 1\\n      51       47       48 1\\n      52       47       69 1\\n      53       48       49 1\\n      54       48       70 1\\n      55       49       50 1\\n      56       49       71 1\\n      57       50       51 1\\n      58       50       68 1\\n      59       51       52 1\\n      60       51       58 1\\n      61       52       53 1\\n      62       52       59 1\\n      63       53       54 1\\n      64       53       72 1\\n      65       54       55 1\\n      66       54       57 1\\n      67       55       56 1\\n      68       56       73 1\\n      69       56       74 1\\n      70       56       75 1\\n      71       57       58 1\\n      72       57       76 1\\n      73       58       77 1\\n      74       59       60 1\\n      75       59       64 1\\n      76       60       61 1\\n      77       60       78 1\\n      78       61       62 1\\n      79       61       79 1\\n      80       62       63 1\\n      81       62       65 1\\n      82       63       64 1\\n      83       63       80 1\\n      84       64       81 1\\n      85       65       66 1\\n      86       65       67 1\\n      87       65       82 1\\n      88       66       83 1\\n      89       66       89 1\\n      90       67       84 1\\n      91       67       85 1\\n      92       67       86 1\\n      93       68       69 1\\n      94       68       87 1\\n      95       69       88 1\\n      96       89       90 1\\n      97       89       91 1\\n      98       91       92 1\\n      99       91      113 1\\n     100       92       93 1\\n     101       92      114 1\\n     102       93       94 1\\n     103       93      115 1\\n     104       94       95 1\\n     105       94      112 1\\n     106       95       96 1\\n     107       95      102 1\\n     108       96       97 1\\n     109       96      103 1\\n     110       97       98 1\\n     111       97      116 1\\n     112       98       99 1\\n     113       98      101 1\\n     114       99      100 1\\n     115      100      117 1\\n     116      100      118 1\\n     117      100      119 1\\n     118      101      102 1\\n     119      101      120 1\\n     120      102      121 1\\n     121      103      104 1\\n     122      103      108 1\\n     123      104      105 1\\n     124      104      122 1\\n     125      105      106 1\\n     126      105      123 1\\n     127      106      107 1\\n     128      106      109 1\\n     129      107      108 1\\n     130      107      124 1\\n     131      108      125 1\\n     132      109      110 1\\n     133      109      111 1\\n     134      109      126 1\\n     135      110      127 1\\n     136      110      133 1\\n     137      111      128 1\\n     138      111      129 1\\n     139      111      130 1\\n     140      112      113 1\\n     141      112      131 1\\n     142      113      132 1\\n     143      133      134 1\\n     144      133      135 1\\n     145      135      136 1\\n     146      135      157 1\\n     147      136      137 1\\n     148      136      158 1\\n     149      137      138 1\\n     150      137      159 1\\n     151      138      139 1\\n     152      138      156 1\\n     153      139      140 1\\n     154      139      146 1\\n     155      140      141 1\\n     156      140      147 1\\n     157      141      142 1\\n     158      141      160 1\\n     159      142      143 1\\n     160      142      145 1\\n     161      143      144 1\\n     162      144      161 1\\n     163      144      162 1\\n     164      144      163 1\\n     165      145      146 1\\n     166      145      164 1\\n     167      146      165 1\\n     168      147      148 1\\n     169      147      152 1\\n     170      148      149 1\\n     171      148      166 1\\n     172      149      150 1\\n     173      149      167 1\\n     174      150      151 1\\n     175      150      153 1\\n     176      151      152 1\\n     177      151      168 1\\n     178      152      169 1\\n     179      153      154 1\\n     180      153      155 1\\n     181      153      170 1\\n     182      154      171 1\\n     183      154      177 1\\n     184      155      172 1\\n     185      155      173 1\\n     186      155      174 1\\n     187      156      157 1\\n     188      156      175 1\\n     189      157      176 1\\n     190      177      178 1\\n     191      177      179 1\\n     192      179      180 1\\n     193      179      201 1\\n     194      180      181 1\\n     195      180      202 1\\n     196      181      182 1\\n     197      181      203 1\\n     198      182      183 1\\n     199      182      200 1\\n     200      183      184 1\\n     201      183      190 1\\n     202      184      185 1\\n     203      184      191 1\\n     204      185      186 1\\n     205      185      204 1\\n     206      186      187 1\\n     207      186      189 1\\n     208      187      188 1\\n     209      188      205 1\\n     210      188      206 1\\n     211      188      207 1\\n     212      189      190 1\\n     213      189      208 1\\n     214      190      209 1\\n     215      191      192 1\\n     216      191      196 1\\n     217      192      193 1\\n     218      192      210 1\\n     219      193      194 1\\n     220      193      211 1\\n     221      194      195 1\\n     222      194      197 1\\n     223      195      196 1\\n     224      195      212 1\\n     225      196      213 1\\n     226      197      198 1\\n     227      197      199 1\\n     228      197      214 1\\n     229      198      215 1\\n     230      198      221 1\\n     231      199      216 1\\n     232      199      217 1\\n     233      199      218 1\\n     234      200      201 1\\n     235      200      219 1\\n     236      201      220 1\\n     237      221      222 1\\n     238      221      223 1\\n     239      223      224 1\\n     240      223      245 1\\n     241      224      225 1\\n     242      224      246 1\\n     243      225      226 1\\n     244      225      247 1\\n     245      226      227 1\\n     246      226      244 1\\n     247      227      228 1\\n     248      227      234 1\\n     249      228      229 1\\n     250      228      235 1\\n     251      229      230 1\\n     252      229      248 1\\n     253      230      231 1\\n     254      230      233 1\\n     255      231      232 1\\n     256      232      249 1\\n     257      232      250 1\\n     258      232      251 1\\n     259      233      234 1\\n     260      233      252 1\\n     261      234      253 1\\n     262      235      236 1\\n     263      235      240 1\\n     264      236      237 1\\n     265      236      254 1\\n     266      237      238 1\\n     267      237      255 1\\n     268      238      239 1\\n     269      238      241 1\\n     270      239      240 1\\n     271      239      256 1\\n     272      240      257 1\\n     273      241      242 1\\n     274      241      243 1\\n     275      241      258 1\\n     276      242      259 1\\n     277      242      275 1\\n     278      243      260 1\\n     279      243      261 1\\n     280      243      262 1\\n     281      244      245 1\\n     282      244      263 1\\n     283      245      264 1\\n     284      265      266 1\\n     285      265      267 1\\n     286      265      268 1\\n     287      265      269 1\\n     288      270      271 1\\n     289      270      277 1\\n     290      270      278 1\\n     291      270      279 1\\n     292      271      272 1\\n     293      271      273 1\\n     294      271      274 1\\n     295      272      280 1\\n     296      272      281 1\\n     297      272      282 1\\n     298      273      283 1\\n     299      273      284 1\\n     300      273      285 1\\n     301      274      275 1\\n     302      275      276 1\\n@<TRIPOS>SUBSTRUCTURE\\n       1 Polymer         1 RESIDUE    0 **** ROOT      0\\n\",\"mol2\");\n\tviewer_1692039104174789.setStyle({\"stick\": {\"radius\": 0.2, \"color\": \"grey\"}, \"sphere\": {\"scale\": 0.3, \"colorscheme\": {}}});\n\tviewer_1692039104174789.zoomTo();\nviewer_1692039104174789.render();\n});\n</script>",
      "text/html": [
       "<div id=\"3dmolviewer_1692039104174789\"  style=\"position: relative; width: 640px; height: 480px\">\n",
       "        <p id=\"3dmolwarning_1692039104174789\" style=\"background-color:#ffcccc;color:black\">You appear to be running in JupyterLab (or JavaScript failed to load for some other reason).  You need to install the 3dmol extension: <br>\n",
       "        <tt>jupyter labextension install jupyterlab_3dmol</tt></p>\n",
       "        </div>\n",
       "<script>\n",
       "\n",
       "var loadScriptAsync = function(uri){\n",
       "  return new Promise((resolve, reject) => {\n",
       "    //this is to ignore the existence of requirejs amd\n",
       "    var savedexports, savedmodule;\n",
       "    if (typeof exports !== 'undefined') savedexports = exports;\n",
       "    else exports = {}\n",
       "    if (typeof module !== 'undefined') savedmodule = module;\n",
       "    else module = {}\n",
       "\n",
       "    var tag = document.createElement('script');\n",
       "    tag.src = uri;\n",
       "    tag.async = true;\n",
       "    tag.onload = () => {\n",
       "        exports = savedexports;\n",
       "        module = savedmodule;\n",
       "        resolve();\n",
       "    };\n",
       "  var firstScriptTag = document.getElementsByTagName('script')[0];\n",
       "  firstScriptTag.parentNode.insertBefore(tag, firstScriptTag);\n",
       "});\n",
       "};\n",
       "\n",
       "if(typeof $3Dmolpromise === 'undefined') {\n",
       "$3Dmolpromise = null;\n",
       "  $3Dmolpromise = loadScriptAsync('https://cdnjs.cloudflare.com/ajax/libs/3Dmol/2.0.1/3Dmol-min.js');\n",
       "}\n",
       "\n",
       "var viewer_1692039104174789 = null;\n",
       "var warn = document.getElementById(\"3dmolwarning_1692039104174789\");\n",
       "if(warn) {\n",
       "    warn.parentNode.removeChild(warn);\n",
       "}\n",
       "$3Dmolpromise.then(function() {\n",
       "viewer_1692039104174789 = $3Dmol.createViewer(document.getElementById(\"3dmolviewer_1692039104174789\"),{backgroundColor:\"white\"});\n",
       "viewer_1692039104174789.zoomTo();\n",
       "\tviewer_1692039104174789.addModel(\"@<TRIPOS>MOLECULE\\nPolymer\\n285 302 1 0 1\\nSMALL\\nNO_CHARGES\\n@<TRIPOS>CRYSIN\\n   47.4968    29.0565    29.3719    90.0000    90.0000    90.0000  1  1\\n@<TRIPOS>ATOM\\n       1 C           -2.1737    -4.6229    -1.5971 C             1 Polymer \\n       2 O           -1.3752    -5.0126    -2.4390 O             1 Polymer \\n       3 C           -2.2090    -3.2015    -1.2007 C             1 Polymer \\n       4 C           -3.0860    -2.7730    -0.1899 C             1 Polymer \\n       5 C           -3.0457    -1.4572     0.2744 C             1 Polymer \\n       6 C           -2.1083    -0.5513    -0.2473 C             1 Polymer \\n       7 C           -1.9845     0.8289     0.3051 C             1 Polymer \\n       8 C           -0.7193     1.4701     0.5057 C             1 Polymer \\n       9 C           -0.7055     2.8206     0.9101 C             1 Polymer \\n      10 C           -1.8904     3.5224     1.1555 C             1 Polymer \\n      11 O           -1.8022     4.8200     1.5486 O             1 Polymer \\n      12 C           -2.8699     5.6546     1.8091 C             1 Polymer \\n      13 C           -3.1216     2.8657     1.0000 C             1 Polymer \\n      14 C           -3.1649     1.5391     0.5822 C             1 Polymer \\n      15 C            0.5927     0.7495     0.3553 C             1 Polymer \\n      16 C            1.7140     1.3948    -0.1943 C             1 Polymer \\n      17 C            2.9123     0.7000    -0.3847 C             1 Polymer \\n      18 C            3.0279    -0.6541    -0.0194 C             1 Polymer \\n      19 C            1.9312    -1.2890     0.5745 C             1 Polymer \\n      20 C            0.7345    -0.5963     0.7650 C             1 Polymer \\n      21 C            4.3185    -1.4096    -0.2780 C             1 Polymer \\n      22 N            5.4207    -0.7465     0.4113 N             1 Polymer \\n      23 C            4.5847    -1.4817    -1.7872 C             1 Polymer \\n      24 C           -1.2716    -0.9735    -1.3006 C             1 Polymer \\n      25 C           -1.3202    -2.2817    -1.7720 C             1 Polymer \\n      26 H           -3.7832    -3.4635     0.2673 H             1 Polymer \\n      27 H           -3.7086    -1.1682     1.0797 H             1 Polymer \\n      28 H            0.2340     3.3343     1.0707 H             1 Polymer \\n      29 H           -2.4873     6.6523     2.1059 H             1 Polymer \\n      30 H           -3.4826     5.2476     2.6417 H             1 Polymer \\n      31 H           -3.4952     5.7717     0.8980 H             1 Polymer \\n      32 H           -4.0570     3.3765     1.1846 H             1 Polymer \\n      33 H           -4.1343     1.0781     0.4383 H             1 Polymer \\n      34 H            1.6575     2.4257    -0.5172 H             1 Polymer \\n      35 H            3.7490     1.2163    -0.8367 H             1 Polymer \\n      36 H            1.9920    -2.3253     0.8820 H             1 Polymer \\n      37 H           -0.0853    -1.1249     1.2324 H             1 Polymer \\n      38 H            4.2466    -2.4654    -0.0061 H             1 Polymer \\n      39 H            6.1144    -0.2706    -0.1881 H             1 Polymer \\n      40 H            3.7445    -2.0084    -2.2910 H             1 Polymer \\n      41 H            4.7005    -0.4740    -2.2346 H             1 Polymer \\n      42 H            5.5147    -2.0621    -1.9716 H             1 Polymer \\n      43 H           -0.5596    -0.2937    -1.7507 H             1 Polymer \\n      44 H           -0.6352    -2.5792    -2.5568 H             1 Polymer \\n      45 C            5.5718    -0.5760     1.7655 C             1 Polymer \\n      46 O            6.4506     0.1919     2.1338 O             1 Polymer \\n      47 C            4.7620    -1.2401     2.8490 C             1 Polymer \\n      48 C            4.1575    -2.5076     2.7174 C             1 Polymer \\n      49 C            3.4736    -3.1017     3.7716 C             1 Polymer \\n      50 C            3.4011    -2.4723     5.0128 C             1 Polymer \\n      51 C            2.7568    -3.1768     6.1494 C             1 Polymer \\n      52 C            3.3720    -3.2920     7.4330 C             1 Polymer \\n      53 C            2.6457    -3.9149     8.4711 C             1 Polymer \\n      54 C            1.3683    -4.4498     8.2498 C             1 Polymer \\n      55 O            0.7358    -5.0717     9.2797 O             1 Polymer \\n      56 C           -0.4974    -5.6895     9.2054 C             1 Polymer \\n      57 C            0.7942    -4.3500     6.9725 C             1 Polymer \\n      58 C            1.4812    -3.7232     5.9401 C             1 Polymer \\n      59 C            4.7833    -2.8389     7.6917 C             1 Polymer \\n      60 C            5.1522    -2.2730     8.9242 C             1 Polymer \\n      61 C            6.4564    -1.8102     9.1317 C             1 Polymer \\n      62 C            7.4282    -1.9103     8.1178 C             1 Polymer \\n      63 C            7.0810    -2.5182     6.9082 C             1 Polymer \\n      64 C            5.7839    -2.9824     6.7024 C             1 Polymer \\n      65 C            8.8258    -1.3623     8.3311 C             1 Polymer \\n      66 N            9.4400    -2.0280     9.4734 N             1 Polymer \\n      67 C            8.7633     0.1540     8.5460 C             1 Polymer \\n      68 C            3.9977    -1.2090     5.1714 C             1 Polymer \\n      69 C            4.6684    -0.6035     4.1051 C             1 Polymer \\n      70 H            4.2356    -3.1110     1.8480 H             1 Polymer \\n      71 H            3.0535    -4.0906     3.6340 H             1 Polymer \\n      72 H            3.0857    -4.0321     9.4532 H             1 Polymer \\n      73 H           -0.7459    -6.1302    10.1920 H             1 Polymer \\n      74 H           -0.4728    -6.5066     8.4518 H             1 Polymer \\n      75 H           -1.2827    -4.9510     8.9369 H             1 Polymer \\n      76 H           -0.1889    -4.7502     6.7637 H             1 Polymer \\n      77 H            1.0009    -3.6427     4.9720 H             1 Polymer \\n      78 H            4.4269    -2.1511     9.7176 H             1 Polymer \\n      79 H            6.7047    -1.3548    10.0814 H             1 Polymer \\n      80 H            7.8090    -2.6301     6.1148 H             1 Polymer \\n      81 H            5.5746    -3.4583     5.7561 H             1 Polymer \\n      82 H            9.4445    -1.4427     7.4354 H             1 Polymer \\n      83 H            9.5695    -1.4543    10.3235 H             1 Polymer \\n      84 H            8.3088     0.6387     7.6547 H             1 Polymer \\n      85 H            8.1705     0.4198     9.4450 H             1 Polymer \\n      86 H            9.7937     0.5534     8.6671 H             1 Polymer \\n      87 H            3.9537    -0.6961     6.1250 H             1 Polymer \\n      88 H            5.1245     0.3654     4.2702 H             1 Polymer \\n      89 C            9.7473    -3.3609     9.5884 C             1 Polymer \\n      90 O           10.0518    -3.7695    10.7001 O             1 Polymer \\n      91 C            9.7491    -4.3779     8.4757 C             1 Polymer \\n      92 C           10.0293    -4.0696     7.1273 C             1 Polymer \\n      93 C           10.0866    -5.0577     6.1508 C             1 Polymer \\n      94 C            9.9093    -6.3983     6.4885 C             1 Polymer \\n      95 C           10.0902    -7.4401     5.4462 C             1 Polymer \\n      96 C           10.9150    -8.5896     5.6419 C             1 Polymer \\n      97 C           10.9681    -9.5592     4.6168 C             1 Polymer \\n      98 C           10.2679    -9.3896     3.4137 C             1 Polymer \\n      99 O           10.3937   -10.3378     2.4478 O             1 Polymer \\n     100 C            9.8223   -10.2812     1.1914 C             1 Polymer \\n     101 C            9.4836    -8.2391     3.2324 C             1 Polymer \\n     102 C            9.3990    -7.2807     4.2351 C             1 Polymer \\n     103 C           11.7794    -8.7612     6.8622 C             1 Polymer \\n     104 C           11.9978   -10.0292     7.4285 C             1 Polymer \\n     105 C           12.7652   -10.1660     8.5912 C             1 Polymer \\n     106 C           13.3426    -9.0414     9.2119 C             1 Polymer \\n     107 C           13.1702    -7.7854     8.6258 C             1 Polymer \\n     108 C           12.4106    -7.6490     7.4663 C             1 Polymer \\n     109 C           14.1313    -9.1888    10.4987 C             1 Polymer \\n     110 N           15.2632   -10.0820    10.2784 N             1 Polymer \\n     111 C           13.2182    -9.7211    11.6098 C             1 Polymer \\n     112 C            9.6322    -6.7326     7.8257 C             1 Polymer \\n     113 C            9.5544    -5.7366     8.8033 C             1 Polymer \\n     114 H           10.2787    -3.0959     6.7842 H             1 Polymer \\n     115 H           10.3387    -4.7789     5.1350 H             1 Polymer \\n     116 H           11.5947   -10.4356     4.7241 H             1 Polymer \\n     117 H           10.1206   -11.1787     0.6127 H             1 Polymer \\n     118 H           10.1790    -9.3789     0.6482 H             1 Polymer \\n     119 H            8.7145   -10.2608     1.2717 H             1 Polymer \\n     120 H            8.9291    -8.0739     2.3184 H             1 Polymer \\n     121 H            8.7687    -6.4143     4.0724 H             1 Polymer \\n     122 H           11.5468   -10.9136     6.9984 H             1 Polymer \\n     123 H           12.8942   -11.1513     9.0193 H             1 Polymer \\n     124 H           13.6163    -6.9021     9.0653 H             1 Polymer \\n     125 H           12.3259    -6.6577     7.0472 H             1 Polymer \\n     126 H           14.4500    -8.2259    10.9039 H             1 Polymer \\n     127 H           15.2076   -11.0098    10.7290 H             1 Polymer \\n     128 H           12.3751    -9.0135    11.7712 H             1 Polymer \\n     129 H           12.8085   -10.7215    11.3641 H             1 Polymer \\n     130 H           13.7927    -9.7937    12.5584 H             1 Polymer \\n     131 H            9.4902    -7.7674     8.1147 H             1 Polymer \\n     132 H            9.3531    -6.0356     9.8251 H             1 Polymer \\n     133 C           16.3308    -9.8769     9.4387 C             1 Polymer \\n     134 O           17.0620   -10.8348     9.2265 O             1 Polymer \\n     135 C           16.6992    -8.5858     8.7509 C             1 Polymer \\n     136 C           16.4120    -7.3041     9.2669 C             1 Polymer \\n     137 C           16.8379    -6.1466     8.6233 C             1 Polymer \\n     138 C           17.6037    -6.2232     7.4607 C             1 Polymer \\n     139 C           18.1415    -4.9768     6.8576 C             1 Polymer \\n     140 C           19.5120    -4.8323     6.4805 C             1 Polymer \\n     141 C           19.9101    -3.6357     5.8454 C             1 Polymer \\n     142 C           19.0035    -2.5904     5.6211 C             1 Polymer \\n     143 O           19.4579    -1.4501     5.0374 O             1 Polymer \\n     144 C           18.7025    -0.3209     4.7894 C             1 Polymer \\n     145 C           17.6675    -2.7423     6.0252 C             1 Polymer \\n     146 C           17.2467    -3.9184     6.6351 C             1 Polymer \\n     147 C           20.5502    -5.8745     6.7984 C             1 Polymer \\n     148 C           21.6131    -6.1353     5.9156 C             1 Polymer \\n     149 C           22.5430    -7.1412     6.2003 C             1 Polymer \\n     150 C           22.4417    -7.9066     7.3775 C             1 Polymer \\n     151 C           21.4166    -7.6187     8.2828 C             1 Polymer \\n     152 C           20.4938    -6.6139     8.0026 C             1 Polymer \\n     153 C           23.4229    -9.0284     7.6550 C             1 Polymer \\n     154 N           24.7771    -8.4900     7.7034 N             1 Polymer \\n     155 C           23.2981   -10.1064     6.5702 C             1 Polymer \\n     156 C           17.9030    -7.4886     6.9262 C             1 Polymer \\n     157 C           17.4584    -8.6508     7.5629 C             1 Polymer \\n     158 H           15.9222    -7.1373    10.1940 H             1 Polymer \\n     159 H           16.6240    -5.1854     9.0746 H             1 Polymer \\n     160 H           20.9429    -3.4853     5.5579 H             1 Polymer \\n     161 H           19.3459     0.4552     4.3276 H             1 Polymer \\n     162 H           18.2918     0.0832     5.7402 H             1 Polymer \\n     163 H           17.8732    -0.5588     4.0896 H             1 Polymer \\n     164 H           16.9397    -1.9575     5.8689 H             1 Polymer \\n     165 H           16.2040    -4.0125     6.9146 H             1 Polymer \\n     166 H           21.7087    -5.5906     4.9859 H             1 Polymer \\n     167 H           23.3350    -7.3364     5.4891 H             1 Polymer \\n     168 H           21.3202    -8.1746     9.2065 H             1 Polymer \\n     169 H           19.7336    -6.4224     8.7452 H             1 Polymer \\n     170 H           23.1782    -9.5852     8.5620 H             1 Polymer \\n     171 H           25.3979    -8.7449     6.9176 H             1 Polymer \\n     172 H           22.2630   -10.5141     6.5664 H             1 Polymer \\n     173 H           23.5331    -9.7083     5.5627 H             1 Polymer \\n     174 H           23.9959   -10.9415     6.7955 H             1 Polymer \\n     175 H           18.4938    -7.5772     6.0221 H             1 Polymer \\n     176 H           17.7220    -9.6067     7.1264 H             1 Polymer \\n     177 C           25.2820    -7.5857     8.6047 C             1 Polymer \\n     178 O           26.3750    -7.0979     8.3482 O             1 Polymer \\n     179 C           24.6304    -7.1309     9.8876 C             1 Polymer \\n     180 C           23.7351    -7.9164    10.6445 C             1 Polymer \\n     181 C           23.2215    -7.4720    11.8582 C             1 Polymer \\n     182 C           23.6118    -6.2418    12.3856 C             1 Polymer \\n     183 C           23.1359    -5.8427    13.7355 C             1 Polymer \\n     184 C           24.0135    -5.3419    14.7456 C             1 Polymer \\n     185 C           23.4546    -4.9210    15.9718 C             1 Polymer \\n     186 C           22.0790    -5.0266    16.2223 C             1 Polymer \\n     187 O           21.6073    -4.6424    17.4378 O             1 Polymer \\n     188 C           20.2935    -4.7384    17.8534 C             1 Polymer \\n     189 C           21.2381    -5.5470    15.2256 C             1 Polymer \\n     190 C           21.7619    -5.9487    14.0027 C             1 Polymer \\n     191 C           25.5080    -5.3174    14.5733 C             1 Polymer \\n     192 C           26.2860    -4.2738    15.1039 C             1 Polymer \\n     193 C           27.6689    -4.2387    14.8899 C             1 Polymer \\n     194 C           28.3112    -5.2501    14.1499 C             1 Polymer \\n     195 C           27.5499    -6.3165    13.6638 C             1 Polymer \\n     196 C           26.1744    -6.3541    13.8801 C             1 Polymer \\n     197 C           29.8013    -5.1791    13.8755 C             1 Polymer \\n     198 N           30.5317    -5.1602    15.1386 N             1 Polymer \\n     199 C           30.1179    -3.9345    13.0386 C             1 Polymer \\n     200 C           24.5002    -5.4384    11.6493 C             1 Polymer \\n     201 C           25.0017    -5.8779    10.4210 C             1 Polymer \\n     202 H           23.4493    -8.9043    10.3833 H             1 Polymer \\n     203 H           22.5651    -8.1246    12.4209 H             1 Polymer \\n     204 H           24.0915    -4.5495    16.7647 H             1 Polymer \\n     205 H           20.2124    -4.3739    18.8974 H             1 Polymer \\n     206 H           19.9584    -5.7982    17.8245 H             1 Polymer \\n     207 H           19.6382    -4.1168    17.2068 H             1 Polymer \\n     208 H           20.1721    -5.6434    15.3822 H             1 Polymer \\n     209 H           21.0822    -6.3252    13.2474 H             1 Polymer \\n     210 H           25.8252    -3.4623    15.6515 H             1 Polymer \\n     211 H           28.2381    -3.4083    15.2867 H             1 Polymer \\n     212 H           28.0138    -7.1206    13.1072 H             1 Polymer \\n     213 H           25.6369    -7.2086    13.4959 H             1 Polymer \\n     214 H           30.1431    -5.9866    13.2246 H             1 Polymer \\n     215 H           30.9862    -4.2684    15.3884 H             1 Polymer \\n     216 H           29.5666    -3.9836    12.0736 H             1 Polymer \\n     217 H           29.8408    -3.0000    13.5664 H             1 Polymer \\n     218 H           31.2057    -3.9077    12.8119 H             1 Polymer \\n     219 H           24.8169    -4.4756    12.0324 H             1 Polymer \\n     220 H           25.6953    -5.2348     9.8926 H             1 Polymer \\n     221 C           30.5753    -6.1530    16.0867 C             1 Polymer \\n     222 O           31.0619    -5.8633    17.1721 O             1 Polymer \\n     223 C           30.0839    -7.5696    15.9272 C             1 Polymer \\n     224 C           30.0517    -8.2637    14.6987 C             1 Polymer \\n     225 C           29.6414    -9.5908    14.6196 C             1 Polymer \\n     226 C           29.2899   -10.2923    15.7712 C             1 Polymer \\n     227 C           28.9522   -11.7356    15.6776 C             1 Polymer \\n     228 C           29.5389   -12.7086    16.5383 C             1 Polymer \\n     229 C           29.1203   -14.0494    16.4324 C             1 Polymer \\n     230 C           28.1803   -14.4404    15.4674 C             1 Polymer \\n     231 O           27.8563   -15.7567    15.3710 O             1 Polymer \\n     232 C           27.0218   -16.3066    14.4175 C             1 Polymer \\n     233 C           27.6317   -13.4711    14.6095 C             1 Polymer \\n     234 C           28.0136   -12.1383    14.7166 C             1 Polymer \\n     235 C           30.6691   -12.3666    17.4598 C             1 Polymer \\n     236 C           30.7751   -12.9037    18.7555 C             1 Polymer \\n     237 C           31.8509   -12.5460    19.5846 C             1 Polymer \\n     238 C           32.8530   -11.6724    19.1182 C             1 Polymer \\n     239 C           32.7643   -11.1707    17.8169 C             1 Polymer \\n     240 C           31.6920   -11.5095    17.0046 C             1 Polymer \\n     241 C           34.0368   -11.2722    19.9762 C             1 Polymer \\n     242 N           34.7619   -12.4439    20.4395 N             1 Polymer \\n     243 C           33.5753   -10.4154    21.1579 C             1 Polymer \\n     244 C           29.3244    -9.6284    17.0098 C             1 Polymer \\n     245 C           29.7130    -8.2877    17.0853 C             1 Polymer \\n     246 H           30.3907    -7.8522    13.7805 H             1 Polymer \\n     247 H           29.6611   -10.0917    13.6593 H             1 Polymer \\n     248 H           29.5679   -14.8106    17.0598 H             1 Polymer \\n     249 H           26.9706   -17.4042    14.5651 H             1 Polymer \\n     250 H           27.4211   -16.1084    13.3985 H             1 Polymer \\n     251 H           25.9986   -15.8850    14.5110 H             1 Polymer \\n     252 H           26.9064   -13.7356    13.8519 H             1 Polymer \\n     253 H           27.5604   -11.4111    14.0533 H             1 Polymer \\n     254 H           30.0164   -13.5759    19.1349 H             1 Polymer \\n     255 H           31.9084   -12.9549    20.5852 H             1 Polymer \\n     256 H           33.5277   -10.5105    17.4234 H             1 Polymer \\n     257 H           31.6823   -11.1080    16.0012 H             1 Polymer \\n     258 H           34.7379   -10.6429    19.3829 H             1 Polymer \\n     259 H           34.8793   -12.6006    21.4520 H             1 Polymer \\n     260 H           33.0601    -9.5044    20.7824 H             1 Polymer \\n     261 H           32.8808   -10.9790    21.8151 H             1 Polymer \\n     262 H           34.4550   -10.0937    21.7553 H             1 Polymer \\n     263 H           29.0533   -10.1498    17.9201 H             1 Polymer \\n     264 H           29.7302    -7.8135    18.0592 H             1 Polymer \\n     265 C           -2.3836    -6.6925    -0.4232 C             1 Polymer \\n     266 O           -2.9127    -5.5129    -0.8944 O             1 Polymer \\n     267 H           -1.9302    -7.2880    -1.2425 H             1 Polymer \\n     268 H           -3.1828    -7.2797     0.0706 H             1 Polymer \\n     269 H           -1.6054    -6.4545     0.3364 H             1 Polymer \\n     270 C           37.2615   -16.3686    20.4919 C             1 Polymer \\n     271 C           36.5343   -15.5072    19.4456 C             1 Polymer \\n     272 C           37.5621   -15.0685    18.3795 C             1 Polymer \\n     273 C           35.4136   -16.3452    18.8029 C             1 Polymer \\n     274 O           35.9967   -14.4124    20.1139 O             1 Polymer \\n     275 C           35.3197   -13.3562    19.5921 C             1 Polymer \\n     276 O           35.1933   -13.2186    18.3825 O             1 Polymer \\n     277 H           37.7120   -17.2699    20.0253 H             1 Polymer \\n     278 H           38.0702   -15.7827    20.9802 H             1 Polymer \\n     279 H           36.5520   -16.6978    21.2841 H             1 Polymer \\n     280 H           38.3625   -14.4529    18.8431 H             1 Polymer \\n     281 H           37.0924   -14.4746    17.5698 H             1 Polymer \\n     282 H           38.0324   -15.9564    17.9031 H             1 Polymer \\n     283 H           34.6853   -16.6717    19.5776 H             1 Polymer \\n     284 H           34.8647   -15.7594    18.0367 H             1 Polymer \\n     285 H           35.8331   -17.2490    18.3102 H             1 Polymer \\n@<TRIPOS>BOND\\n       1        1        2 1\\n       2        1        3 1\\n       3        1      266 1\\n       4        3        4 1\\n       5        3       25 1\\n       6        4        5 1\\n       7        4       26 1\\n       8        5        6 1\\n       9        5       27 1\\n      10        6        7 1\\n      11        6       24 1\\n      12        7        8 1\\n      13        7       14 1\\n      14        8        9 1\\n      15        8       15 1\\n      16        9       10 1\\n      17        9       28 1\\n      18       10       11 1\\n      19       10       13 1\\n      20       11       12 1\\n      21       12       29 1\\n      22       12       30 1\\n      23       12       31 1\\n      24       13       14 1\\n      25       13       32 1\\n      26       14       33 1\\n      27       15       16 1\\n      28       15       20 1\\n      29       16       17 1\\n      30       16       34 1\\n      31       17       18 1\\n      32       17       35 1\\n      33       18       19 1\\n      34       18       21 1\\n      35       19       20 1\\n      36       19       36 1\\n      37       20       37 1\\n      38       21       22 1\\n      39       21       23 1\\n      40       21       38 1\\n      41       22       39 1\\n      42       22       45 1\\n      43       23       40 1\\n      44       23       41 1\\n      45       23       42 1\\n      46       24       25 1\\n      47       24       43 1\\n      48       25       44 1\\n      49       45       46 1\\n      50       45       47 1\\n      51       47       48 1\\n      52       47       69 1\\n      53       48       49 1\\n      54       48       70 1\\n      55       49       50 1\\n      56       49       71 1\\n      57       50       51 1\\n      58       50       68 1\\n      59       51       52 1\\n      60       51       58 1\\n      61       52       53 1\\n      62       52       59 1\\n      63       53       54 1\\n      64       53       72 1\\n      65       54       55 1\\n      66       54       57 1\\n      67       55       56 1\\n      68       56       73 1\\n      69       56       74 1\\n      70       56       75 1\\n      71       57       58 1\\n      72       57       76 1\\n      73       58       77 1\\n      74       59       60 1\\n      75       59       64 1\\n      76       60       61 1\\n      77       60       78 1\\n      78       61       62 1\\n      79       61       79 1\\n      80       62       63 1\\n      81       62       65 1\\n      82       63       64 1\\n      83       63       80 1\\n      84       64       81 1\\n      85       65       66 1\\n      86       65       67 1\\n      87       65       82 1\\n      88       66       83 1\\n      89       66       89 1\\n      90       67       84 1\\n      91       67       85 1\\n      92       67       86 1\\n      93       68       69 1\\n      94       68       87 1\\n      95       69       88 1\\n      96       89       90 1\\n      97       89       91 1\\n      98       91       92 1\\n      99       91      113 1\\n     100       92       93 1\\n     101       92      114 1\\n     102       93       94 1\\n     103       93      115 1\\n     104       94       95 1\\n     105       94      112 1\\n     106       95       96 1\\n     107       95      102 1\\n     108       96       97 1\\n     109       96      103 1\\n     110       97       98 1\\n     111       97      116 1\\n     112       98       99 1\\n     113       98      101 1\\n     114       99      100 1\\n     115      100      117 1\\n     116      100      118 1\\n     117      100      119 1\\n     118      101      102 1\\n     119      101      120 1\\n     120      102      121 1\\n     121      103      104 1\\n     122      103      108 1\\n     123      104      105 1\\n     124      104      122 1\\n     125      105      106 1\\n     126      105      123 1\\n     127      106      107 1\\n     128      106      109 1\\n     129      107      108 1\\n     130      107      124 1\\n     131      108      125 1\\n     132      109      110 1\\n     133      109      111 1\\n     134      109      126 1\\n     135      110      127 1\\n     136      110      133 1\\n     137      111      128 1\\n     138      111      129 1\\n     139      111      130 1\\n     140      112      113 1\\n     141      112      131 1\\n     142      113      132 1\\n     143      133      134 1\\n     144      133      135 1\\n     145      135      136 1\\n     146      135      157 1\\n     147      136      137 1\\n     148      136      158 1\\n     149      137      138 1\\n     150      137      159 1\\n     151      138      139 1\\n     152      138      156 1\\n     153      139      140 1\\n     154      139      146 1\\n     155      140      141 1\\n     156      140      147 1\\n     157      141      142 1\\n     158      141      160 1\\n     159      142      143 1\\n     160      142      145 1\\n     161      143      144 1\\n     162      144      161 1\\n     163      144      162 1\\n     164      144      163 1\\n     165      145      146 1\\n     166      145      164 1\\n     167      146      165 1\\n     168      147      148 1\\n     169      147      152 1\\n     170      148      149 1\\n     171      148      166 1\\n     172      149      150 1\\n     173      149      167 1\\n     174      150      151 1\\n     175      150      153 1\\n     176      151      152 1\\n     177      151      168 1\\n     178      152      169 1\\n     179      153      154 1\\n     180      153      155 1\\n     181      153      170 1\\n     182      154      171 1\\n     183      154      177 1\\n     184      155      172 1\\n     185      155      173 1\\n     186      155      174 1\\n     187      156      157 1\\n     188      156      175 1\\n     189      157      176 1\\n     190      177      178 1\\n     191      177      179 1\\n     192      179      180 1\\n     193      179      201 1\\n     194      180      181 1\\n     195      180      202 1\\n     196      181      182 1\\n     197      181      203 1\\n     198      182      183 1\\n     199      182      200 1\\n     200      183      184 1\\n     201      183      190 1\\n     202      184      185 1\\n     203      184      191 1\\n     204      185      186 1\\n     205      185      204 1\\n     206      186      187 1\\n     207      186      189 1\\n     208      187      188 1\\n     209      188      205 1\\n     210      188      206 1\\n     211      188      207 1\\n     212      189      190 1\\n     213      189      208 1\\n     214      190      209 1\\n     215      191      192 1\\n     216      191      196 1\\n     217      192      193 1\\n     218      192      210 1\\n     219      193      194 1\\n     220      193      211 1\\n     221      194      195 1\\n     222      194      197 1\\n     223      195      196 1\\n     224      195      212 1\\n     225      196      213 1\\n     226      197      198 1\\n     227      197      199 1\\n     228      197      214 1\\n     229      198      215 1\\n     230      198      221 1\\n     231      199      216 1\\n     232      199      217 1\\n     233      199      218 1\\n     234      200      201 1\\n     235      200      219 1\\n     236      201      220 1\\n     237      221      222 1\\n     238      221      223 1\\n     239      223      224 1\\n     240      223      245 1\\n     241      224      225 1\\n     242      224      246 1\\n     243      225      226 1\\n     244      225      247 1\\n     245      226      227 1\\n     246      226      244 1\\n     247      227      228 1\\n     248      227      234 1\\n     249      228      229 1\\n     250      228      235 1\\n     251      229      230 1\\n     252      229      248 1\\n     253      230      231 1\\n     254      230      233 1\\n     255      231      232 1\\n     256      232      249 1\\n     257      232      250 1\\n     258      232      251 1\\n     259      233      234 1\\n     260      233      252 1\\n     261      234      253 1\\n     262      235      236 1\\n     263      235      240 1\\n     264      236      237 1\\n     265      236      254 1\\n     266      237      238 1\\n     267      237      255 1\\n     268      238      239 1\\n     269      238      241 1\\n     270      239      240 1\\n     271      239      256 1\\n     272      240      257 1\\n     273      241      242 1\\n     274      241      243 1\\n     275      241      258 1\\n     276      242      259 1\\n     277      242      275 1\\n     278      243      260 1\\n     279      243      261 1\\n     280      243      262 1\\n     281      244      245 1\\n     282      244      263 1\\n     283      245      264 1\\n     284      265      266 1\\n     285      265      267 1\\n     286      265      268 1\\n     287      265      269 1\\n     288      270      271 1\\n     289      270      277 1\\n     290      270      278 1\\n     291      270      279 1\\n     292      271      272 1\\n     293      271      273 1\\n     294      271      274 1\\n     295      272      280 1\\n     296      272      281 1\\n     297      272      282 1\\n     298      273      283 1\\n     299      273      284 1\\n     300      273      285 1\\n     301      274      275 1\\n     302      275      276 1\\n@<TRIPOS>SUBSTRUCTURE\\n       1 Polymer         1 RESIDUE    0 **** ROOT      0\\n\",\"mol2\");\n",
       "\tviewer_1692039104174789.setStyle({\"stick\": {\"radius\": 0.2, \"color\": \"grey\"}, \"sphere\": {\"scale\": 0.3, \"colorscheme\": {}}});\n",
       "\tviewer_1692039104174789.zoomTo();\n",
       "viewer_1692039104174789.render();\n",
       "});\n",
       "</script>"
      ]
     },
     "metadata": {},
     "output_type": "display_data"
    },
    {
     "data": {
      "text/plain": [
       "<py3Dmol.view at 0x7fde5d2ace50>"
      ]
     },
     "execution_count": 8,
     "metadata": {},
     "output_type": "execute_result"
    }
   ],
   "source": [
    "chain.visualize()"
   ]
  },
  {
   "cell_type": "code",
   "execution_count": 9,
   "id": "78a7eede",
   "metadata": {},
   "outputs": [
    {
     "name": "stdout",
     "output_type": "stream",
     "text": [
      "<C pos=([-0.2174 -0.4623 -0.1597]), 3 bonds, id: 140593038656944>\n",
      "<O pos=([-0.1375 -0.5013 -0.2439]), 1 bonds, id: 140593038657136>\n",
      "<C pos=([-0.2209 -0.3201 -0.1201]), 3 bonds, id: 140593038657280>\n",
      "<C pos=([-0.3086 -0.2773 -0.019 ]), 3 bonds, id: 140593038657424>\n",
      "<C pos=([-0.3046 -0.1457  0.0274]), 3 bonds, id: 140593038657568>\n",
      "<C pos=([-0.2108 -0.0551 -0.0247]), 3 bonds, id: 140593038657712>\n",
      "<C pos=([-0.1984  0.0829  0.0305]), 3 bonds, id: 140593038657856>\n",
      "<C pos=([-0.0719  0.147   0.0506]), 3 bonds, id: 140593038658000>\n",
      "<C pos=([-0.0706  0.2821  0.091 ]), 3 bonds, id: 140593038658144>\n",
      "<C pos=([-0.189   0.3522  0.1155]), 3 bonds, id: 140593038658288>\n",
      "<O pos=([-0.1802  0.482   0.1549]), 2 bonds, id: 140593038658432>\n",
      "<C pos=([-0.287   0.5655  0.1809]), 4 bonds, id: 140593038658576>\n",
      "<C pos=([-0.3122  0.2866  0.1   ]), 3 bonds, id: 140593038658720>\n",
      "<C pos=([-0.3165  0.1539  0.0582]), 3 bonds, id: 140593038658864>\n",
      "<C pos=([0.0593 0.0749 0.0355]), 3 bonds, id: 140593038659008>\n",
      "<C pos=([ 0.1714  0.1395 -0.0194]), 3 bonds, id: 140593038659152>\n",
      "<C pos=([ 0.2912  0.07   -0.0385]), 3 bonds, id: 140593038659296>\n",
      "<C pos=([ 0.3028 -0.0654 -0.0019]), 3 bonds, id: 140593038659440>\n",
      "<C pos=([ 0.1931 -0.1289  0.0575]), 3 bonds, id: 140593038659584>\n",
      "<C pos=([ 0.0735 -0.0596  0.0765]), 3 bonds, id: 140593038659728>\n",
      "<C pos=([ 0.4318 -0.141  -0.0278]), 4 bonds, id: 140593038659872>\n",
      "<N pos=([ 0.5421 -0.0747  0.0411]), 3 bonds, id: 140593038660016>\n",
      "<C pos=([ 0.4585 -0.1482 -0.1787]), 4 bonds, id: 140593078561200>\n",
      "<C pos=([-0.1272 -0.0974 -0.1301]), 3 bonds, id: 140593038589520>\n",
      "<C pos=([-0.132  -0.2282 -0.1772]), 3 bonds, id: 140593038589808>\n",
      "<H pos=([-0.3783 -0.3463  0.0267]), 1 bonds, id: 140593038589136>\n",
      "<H pos=([-0.3709 -0.1168  0.108 ]), 1 bonds, id: 140593038588224>\n",
      "<H pos=([0.0234 0.3334 0.1071]), 1 bonds, id: 140593038587408>\n",
      "<H pos=([-0.2487  0.6652  0.2106]), 1 bonds, id: 140593038587696>\n",
      "<H pos=([-0.3483  0.5248  0.2642]), 1 bonds, id: 140593038586976>\n",
      "<H pos=([-0.3495  0.5772  0.0898]), 1 bonds, id: 140593038587216>\n",
      "<H pos=([-0.4057  0.3377  0.1185]), 1 bonds, id: 140593038586256>\n",
      "<H pos=([-0.4134  0.1078  0.0438]), 1 bonds, id: 140593038581792>\n",
      "<H pos=([ 0.1657  0.2426 -0.0517]), 1 bonds, id: 140593038579728>\n",
      "<H pos=([ 0.3749  0.1216 -0.0837]), 1 bonds, id: 140593038582800>\n",
      "<H pos=([ 0.1992 -0.2325  0.0882]), 1 bonds, id: 140593038582320>\n",
      "<H pos=([-0.0085 -0.1125  0.1232]), 1 bonds, id: 140593038582416>\n",
      "<H pos=([ 0.4247 -0.2465 -0.0006]), 1 bonds, id: 140593038655792>\n",
      "<H pos=([ 0.6114 -0.0271 -0.0188]), 1 bonds, id: 140593038656080>\n",
      "<H pos=([ 0.3744 -0.2008 -0.2291]), 1 bonds, id: 140593038655744>\n",
      "<H pos=([ 0.47   -0.0474 -0.2235]), 1 bonds, id: 140593038660256>\n",
      "<H pos=([ 0.5515 -0.2062 -0.1972]), 1 bonds, id: 140593038660400>\n",
      "<H pos=([-0.056  -0.0294 -0.1751]), 1 bonds, id: 140593038660544>\n",
      "<H pos=([-0.0635 -0.2579 -0.2557]), 1 bonds, id: 140593038660688>\n",
      "<C pos=([ 0.5572 -0.0576  0.1766]), 3 bonds, id: 140593038666688>\n",
      "<O pos=([0.6451 0.0192 0.2134]), 1 bonds, id: 140593038664432>\n",
      "<C pos=([ 0.4762 -0.124   0.2849]), 3 bonds, id: 140593038664480>\n",
      "<C pos=([ 0.4158 -0.2508  0.2717]), 3 bonds, id: 140593038662800>\n",
      "<C pos=([ 0.3474 -0.3102  0.3772]), 3 bonds, id: 140593038662704>\n",
      "<C pos=([ 0.3401 -0.2472  0.5013]), 3 bonds, id: 140593078557984>\n",
      "<C pos=([ 0.2757 -0.3177  0.6149]), 3 bonds, id: 140593078350272>\n",
      "<C pos=([ 0.3372 -0.3292  0.7433]), 3 bonds, id: 140593078349936>\n",
      "<C pos=([ 0.2646 -0.3915  0.8471]), 3 bonds, id: 140593078344176>\n",
      "<C pos=([ 0.1368 -0.445   0.825 ]), 3 bonds, id: 140593078339904>\n",
      "<O pos=([ 0.0736 -0.5072  0.928 ]), 2 bonds, id: 140593078337936>\n",
      "<C pos=([-0.0497 -0.5689  0.9205]), 4 bonds, id: 140593078343936>\n",
      "<C pos=([ 0.0794 -0.435   0.6972]), 3 bonds, id: 140593078343792>\n",
      "<C pos=([ 0.1481 -0.3723  0.594 ]), 3 bonds, id: 140593078343696>\n",
      "<C pos=([ 0.4783 -0.2839  0.7692]), 3 bonds, id: 140593078343600>\n",
      "<C pos=([ 0.5152 -0.2273  0.8924]), 3 bonds, id: 140593078339664>\n",
      "<C pos=([ 0.6456 -0.181   0.9132]), 3 bonds, id: 140593078339616>\n",
      "<C pos=([ 0.7428 -0.191   0.8118]), 3 bonds, id: 140593078338080>\n",
      "<C pos=([ 0.7081 -0.2518  0.6908]), 3 bonds, id: 140593078343168>\n",
      "<C pos=([ 0.5784 -0.2982  0.6702]), 3 bonds, id: 140593078343024>\n",
      "<C pos=([ 0.8826 -0.1362  0.8331]), 4 bonds, id: 140593078339472>\n",
      "<N pos=([ 0.944  -0.2028  0.9473]), 3 bonds, id: 140593078338272>\n",
      "<C pos=([0.8763 0.0154 0.8546]), 4 bonds, id: 140593078342496>\n",
      "<C pos=([ 0.3998 -0.1209  0.5171]), 3 bonds, id: 140593078342064>\n",
      "<C pos=([ 0.4668 -0.0604  0.4105]), 3 bonds, id: 140593078339328>\n",
      "<H pos=([ 0.4236 -0.3111  0.1848]), 1 bonds, id: 140593078338512>\n",
      "<H pos=([ 0.3053 -0.4091  0.3634]), 1 bonds, id: 140593078341824>\n",
      "<H pos=([ 0.3086 -0.4032  0.9453]), 1 bonds, id: 140593078341680>\n",
      "<H pos=([-0.0746 -0.613   1.0192]), 1 bonds, id: 140593078341584>\n",
      "<H pos=([-0.0473 -0.6507  0.8452]), 1 bonds, id: 140593078341200>\n",
      "<H pos=([-0.1283 -0.4951  0.8937]), 1 bonds, id: 140593078340432>\n",
      "<H pos=([-0.0189 -0.475   0.6764]), 1 bonds, id: 140593078340240>\n",
      "<H pos=([ 0.1001 -0.3643  0.4972]), 1 bonds, id: 140593078338752>\n",
      "<H pos=([ 0.4427 -0.2151  0.9718]), 1 bonds, id: 140593078340096>\n",
      "<H pos=([ 0.6705 -0.1355  1.0081]), 1 bonds, id: 140593078340624>\n",
      "<H pos=([ 0.7809 -0.263   0.6115]), 1 bonds, id: 140593078343360>\n",
      "<H pos=([ 0.5575 -0.3458  0.5756]), 1 bonds, id: 140593078342832>\n",
      "<H pos=([ 0.9445 -0.1443  0.7435]), 1 bonds, id: 140593078342256>\n",
      "<H pos=([ 0.957  -0.1454  1.0323]), 1 bonds, id: 140593078342928>\n",
      "<H pos=([0.8309 0.0639 0.7655]), 1 bonds, id: 140593078342784>\n",
      "<H pos=([0.817  0.042  0.9445]), 1 bonds, id: 140593078342352>\n",
      "<H pos=([0.9794 0.0553 0.8667]), 1 bonds, id: 140593078342208>\n",
      "<H pos=([ 0.3954 -0.0696  0.6125]), 1 bonds, id: 140593078340816>\n",
      "<H pos=([0.5124 0.0365 0.427 ]), 1 bonds, id: 140593078341920>\n",
      "<C pos=([ 0.9747 -0.3361  0.9588]), 3 bonds, id: 140593038747888>\n",
      "<O pos=([ 1.0052 -0.3769  1.07  ]), 1 bonds, id: 140593038748752>\n",
      "<C pos=([ 0.9749 -0.4378  0.8476]), 3 bonds, id: 140593038748512>\n",
      "<C pos=([ 1.0029 -0.407   0.7127]), 3 bonds, id: 140593038747984>\n",
      "<C pos=([ 1.0087 -0.5058  0.6151]), 3 bonds, id: 140593038748176>\n",
      "<C pos=([ 0.9909 -0.6398  0.6489]), 3 bonds, id: 140593038748080>\n",
      "<C pos=([ 1.009  -0.744   0.5446]), 3 bonds, id: 140593038746064>\n",
      "<C pos=([ 1.0915 -0.859   0.5642]), 3 bonds, id: 140593038743472>\n",
      "<C pos=([ 1.0968 -0.9559  0.4617]), 3 bonds, id: 140593038745968>\n",
      "<C pos=([ 1.0268 -0.939   0.3414]), 3 bonds, id: 140593038744240>\n",
      "<O pos=([ 1.0394 -1.0338  0.2448]), 2 bonds, id: 140593038743952>\n",
      "<C pos=([ 0.9822 -1.0281  0.1191]), 4 bonds, id: 140593038743856>\n",
      "<C pos=([ 0.9484 -0.8239  0.3232]), 3 bonds, id: 140593038743760>\n",
      "<C pos=([ 0.9399 -0.7281  0.4235]), 3 bonds, id: 140593038743088>\n",
      "<C pos=([ 1.1779 -0.8761  0.6862]), 3 bonds, id: 140593038739056>\n",
      "<C pos=([ 1.1998 -1.0029  0.7428]), 3 bonds, id: 140593038742992>\n",
      "<C pos=([ 1.2765 -1.0166  0.8591]), 3 bonds, id: 140593038741360>\n",
      "<C pos=([ 1.3343 -0.9041  0.9212]), 3 bonds, id: 140593038741072>\n",
      "<C pos=([ 1.317  -0.7785  0.8626]), 3 bonds, id: 140593038739440>\n",
      "<C pos=([ 1.2411 -0.7649  0.7466]), 3 bonds, id: 140593038739344>\n",
      "<C pos=([ 1.4131 -0.9189  1.0499]), 4 bonds, id: 140593038748608>\n",
      "<N pos=([ 1.5263 -1.0082  1.0278]), 3 bonds, id: 140593038749232>\n",
      "<C pos=([ 1.3218 -0.9721  1.161 ]), 4 bonds, id: 140593038749376>\n",
      "<C pos=([ 0.9632 -0.6733  0.7826]), 3 bonds, id: 140593038749520>\n",
      "<C pos=([ 0.9554 -0.5737  0.8803]), 3 bonds, id: 140593038749664>\n",
      "<H pos=([ 1.0279 -0.3096  0.6784]), 1 bonds, id: 140593038749808>\n",
      "<H pos=([ 1.0339 -0.4779  0.5135]), 1 bonds, id: 140593038749952>\n",
      "<H pos=([ 1.1595 -1.0436  0.4724]), 1 bonds, id: 140593038750096>\n",
      "<H pos=([ 1.0121 -1.1179  0.0613]), 1 bonds, id: 140593038750240>\n",
      "<H pos=([ 1.0179 -0.9379  0.0648]), 1 bonds, id: 140593038750384>\n",
      "<H pos=([ 0.8715 -1.0261  0.1272]), 1 bonds, id: 140593038750528>\n",
      "<H pos=([ 0.8929 -0.8074  0.2318]), 1 bonds, id: 140593038750672>\n",
      "<H pos=([ 0.8769 -0.6414  0.4072]), 1 bonds, id: 140593038750816>\n",
      "<H pos=([ 1.1547 -1.0914  0.6998]), 1 bonds, id: 140593038750960>\n",
      "<H pos=([ 1.2894 -1.1151  0.9019]), 1 bonds, id: 140593038751104>\n",
      "<H pos=([ 1.3616 -0.6902  0.9065]), 1 bonds, id: 140593038751248>\n",
      "<H pos=([ 1.2326 -0.6658  0.7047]), 1 bonds, id: 140593038751392>\n",
      "<H pos=([ 1.445  -0.8226  1.0904]), 1 bonds, id: 140593038751536>\n",
      "<H pos=([ 1.5208 -1.101   1.0729]), 1 bonds, id: 140593038751680>\n",
      "<H pos=([ 1.2375 -0.9013  1.1771]), 1 bonds, id: 140593038751824>\n",
      "<H pos=([ 1.2809 -1.0721  1.1364]), 1 bonds, id: 140593038751968>\n",
      "<H pos=([ 1.3793 -0.9794  1.2558]), 1 bonds, id: 140593038752112>\n",
      "<H pos=([ 0.949  -0.7767  0.8115]), 1 bonds, id: 140593038752256>\n",
      "<H pos=([ 0.9353 -0.6036  0.9825]), 1 bonds, id: 140593038752400>\n",
      "<C pos=([ 1.6331 -0.9877  0.9439]), 3 bonds, id: 140593038945312>\n",
      "<O pos=([ 1.7062 -1.0835  0.9227]), 1 bonds, id: 140593038944976>\n",
      "<C pos=([ 1.6699 -0.8586  0.8751]), 3 bonds, id: 140593038941040>\n",
      "<C pos=([ 1.6412 -0.7304  0.9267]), 3 bonds, id: 140593038944880>\n",
      "<C pos=([ 1.6838 -0.6147  0.8623]), 3 bonds, id: 140593038943200>\n",
      "<C pos=([ 1.7604 -0.6223  0.7461]), 3 bonds, id: 140593038943104>\n",
      "<C pos=([ 1.8141 -0.4977  0.6858]), 3 bonds, id: 140593038941136>\n",
      "<C pos=([ 1.9512 -0.4832  0.648 ]), 3 bonds, id: 140593038940608>\n",
      "<C pos=([ 1.991  -0.3636  0.5845]), 3 bonds, id: 140593038940656>\n",
      "<C pos=([ 1.9004 -0.259   0.5621]), 3 bonds, id: 140593038937968>\n",
      "<O pos=([ 1.9458 -0.145   0.5037]), 2 bonds, id: 140593038940560>\n",
      "<C pos=([ 1.8703 -0.0321  0.4789]), 4 bonds, id: 140593038940224>\n",
      "<C pos=([ 1.7667 -0.2742  0.6025]), 3 bonds, id: 140593038940128>\n",
      "<C pos=([ 1.7247 -0.3918  0.6635]), 3 bonds, id: 140593038938256>\n",
      "<C pos=([ 2.055  -0.5874  0.6798]), 3 bonds, id: 140593038938160>\n",
      "<C pos=([ 2.1613 -0.6135  0.5916]), 3 bonds, id: 140593038936192>\n",
      "<C pos=([ 2.2543 -0.7141  0.62  ]), 3 bonds, id: 140593038936048>\n",
      "<C pos=([ 2.2442 -0.7907  0.7377]), 3 bonds, id: 140593038936096>\n",
      "<C pos=([ 2.1417 -0.7619  0.8283]), 3 bonds, id: 140593038946080>\n",
      "<C pos=([ 2.0494 -0.6614  0.8003]), 3 bonds, id: 140593038946224>\n",
      "<C pos=([ 2.3423 -0.9028  0.7655]), 4 bonds, id: 140593038946368>\n",
      "<N pos=([ 2.4777 -0.849   0.7703]), 3 bonds, id: 140593038946512>\n",
      "<C pos=([ 2.3298 -1.0106  0.657 ]), 4 bonds, id: 140593038946656>\n",
      "<C pos=([ 1.7903 -0.7489  0.6926]), 3 bonds, id: 140593038946800>\n",
      "<C pos=([ 1.7458 -0.8651  0.7563]), 3 bonds, id: 140593038946944>\n",
      "<H pos=([ 1.5922 -0.7137  1.0194]), 1 bonds, id: 140593038947088>\n",
      "<H pos=([ 1.6624 -0.5185  0.9075]), 1 bonds, id: 140593038947232>\n",
      "<H pos=([ 2.0943 -0.3485  0.5558]), 1 bonds, id: 140593038947376>\n",
      "<H pos=([1.9346 0.0455 0.4328]), 1 bonds, id: 140593038947520>\n",
      "<H pos=([1.8292 0.0083 0.574 ]), 1 bonds, id: 140593038947664>\n",
      "<H pos=([ 1.7873 -0.0559  0.409 ]), 1 bonds, id: 140593038947808>\n",
      "<H pos=([ 1.694  -0.1957  0.5869]), 1 bonds, id: 140593038947952>\n",
      "<H pos=([ 1.6204 -0.4013  0.6915]), 1 bonds, id: 140593038948096>\n",
      "<H pos=([ 2.1709 -0.5591  0.4986]), 1 bonds, id: 140593038948240>\n",
      "<H pos=([ 2.3335 -0.7336  0.5489]), 1 bonds, id: 140593038948384>\n",
      "<H pos=([ 2.132  -0.8175  0.9207]), 1 bonds, id: 140593038948528>\n",
      "<H pos=([ 1.9734 -0.6422  0.8745]), 1 bonds, id: 140593038948672>\n",
      "<H pos=([ 2.3178 -0.9585  0.8562]), 1 bonds, id: 140593038948816>\n",
      "<H pos=([ 2.5398 -0.8745  0.6918]), 1 bonds, id: 140593038945216>\n",
      "<H pos=([ 2.2263 -1.0514  0.6566]), 1 bonds, id: 140593038945600>\n",
      "<H pos=([ 2.3533 -0.9708  0.5563]), 1 bonds, id: 140593038948864>\n",
      "<H pos=([ 2.3996 -1.0941  0.6796]), 1 bonds, id: 140593038949008>\n",
      "<H pos=([ 1.8494 -0.7577  0.6022]), 1 bonds, id: 140593038949152>\n",
      "<H pos=([ 1.7722 -0.9607  0.7126]), 1 bonds, id: 140593038949296>\n",
      "<C pos=([ 2.5282 -0.7586  0.8605]), 3 bonds, id: 140593039142832>\n",
      "<O pos=([ 2.6375 -0.7098  0.8348]), 1 bonds, id: 140593039140336>\n",
      "<C pos=([ 2.463  -0.7131  0.9888]), 3 bonds, id: 140593039138272>\n",
      "<C pos=([ 2.3735 -0.7916  1.0645]), 3 bonds, id: 140593039137168>\n",
      "<C pos=([ 2.3222 -0.7472  1.1858]), 3 bonds, id: 140593039138368>\n",
      "<C pos=([ 2.3612 -0.6242  1.2386]), 3 bonds, id: 140593039138128>\n",
      "<C pos=([ 2.3136 -0.5843  1.3735]), 3 bonds, id: 140593039138032>\n",
      "<C pos=([ 2.4013 -0.5342  1.4746]), 3 bonds, id: 140593039137456>\n",
      "<C pos=([ 2.3455 -0.4921  1.5972]), 3 bonds, id: 140593039137360>\n",
      "<C pos=([ 2.2079 -0.5027  1.6222]), 3 bonds, id: 140593039135392>\n",
      "<O pos=([ 2.1607 -0.4642  1.7438]), 2 bonds, id: 140593039131312>\n",
      "<C pos=([ 2.0294 -0.4738  1.7853]), 4 bonds, id: 140593039135296>\n",
      "<C pos=([ 2.1238 -0.5547  1.5226]), 3 bonds, id: 140593039133664>\n",
      "<C pos=([ 2.1762 -0.5949  1.4003]), 3 bonds, id: 140593039133568>\n",
      "<C pos=([ 2.5508 -0.5317  1.4573]), 3 bonds, id: 140593039131648>\n",
      "<C pos=([ 2.6286 -0.4274  1.5104]), 3 bonds, id: 140593039131552>\n",
      "<C pos=([ 2.7669 -0.4239  1.489 ]), 3 bonds, id: 140593039143072>\n",
      "<C pos=([ 2.8311 -0.525   1.415 ]), 3 bonds, id: 140593039143216>\n",
      "<C pos=([ 2.755  -0.6316  1.3664]), 3 bonds, id: 140593039143360>\n",
      "<C pos=([ 2.6174 -0.6354  1.388 ]), 3 bonds, id: 140593039143504>\n",
      "<C pos=([ 2.9801 -0.5179  1.3876]), 4 bonds, id: 140593039143648>\n",
      "<N pos=([ 3.0532 -0.516   1.5139]), 3 bonds, id: 140593039143792>\n",
      "<C pos=([ 3.0118 -0.3934  1.3039]), 4 bonds, id: 140593039143936>\n",
      "<C pos=([ 2.45   -0.5438  1.1649]), 3 bonds, id: 140593039144080>\n",
      "<C pos=([ 2.5002 -0.5878  1.0421]), 3 bonds, id: 140593039144224>\n",
      "<H pos=([ 2.3449 -0.8904  1.0383]), 1 bonds, id: 140593039144368>\n",
      "<H pos=([ 2.2565 -0.8125  1.2421]), 1 bonds, id: 140593039144512>\n",
      "<H pos=([ 2.4092 -0.455   1.6765]), 1 bonds, id: 140593039144656>\n",
      "<H pos=([ 2.0212 -0.4374  1.8897]), 1 bonds, id: 140593039144800>\n",
      "<H pos=([ 1.9958 -0.5798  1.7824]), 1 bonds, id: 140593039144944>\n",
      "<H pos=([ 1.9638 -0.4117  1.7207]), 1 bonds, id: 140593039145088>\n",
      "<H pos=([ 2.0172 -0.5643  1.5382]), 1 bonds, id: 140593039145232>\n",
      "<H pos=([ 2.1082 -0.6325  1.3247]), 1 bonds, id: 140593039145376>\n",
      "<H pos=([ 2.5825 -0.3462  1.5652]), 1 bonds, id: 140593039145520>\n",
      "<H pos=([ 2.8238 -0.3408  1.5287]), 1 bonds, id: 140593039145664>\n",
      "<H pos=([ 2.8014 -0.7121  1.3107]), 1 bonds, id: 140593039145808>\n",
      "<H pos=([ 2.5637 -0.7209  1.3496]), 1 bonds, id: 140593039145952>\n",
      "<H pos=([ 3.0143 -0.5987  1.3225]), 1 bonds, id: 140593039146096>\n",
      "<H pos=([ 3.0986 -0.4268  1.5388]), 1 bonds, id: 140593039146240>\n",
      "<H pos=([ 2.9567 -0.3984  1.2074]), 1 bonds, id: 140593039146384>\n",
      "<H pos=([ 2.9841 -0.3     1.3566]), 1 bonds, id: 140593039146528>\n",
      "<H pos=([ 3.1206 -0.3908  1.2812]), 1 bonds, id: 140593039146672>\n",
      "<H pos=([ 2.4817 -0.4476  1.2032]), 1 bonds, id: 140593039146816>\n",
      "<H pos=([ 2.5695 -0.5235  0.9893]), 1 bonds, id: 140593039146960>\n",
      "<C pos=([ 3.0575 -0.6153  1.6087]), 3 bonds, id: 140593039355248>\n",
      "<O pos=([ 3.1062 -0.5863  1.7172]), 1 bonds, id: 140593039354912>\n",
      "<C pos=([ 3.0084 -0.757   1.5927]), 3 bonds, id: 140593039350976>\n",
      "<C pos=([ 3.0052 -0.8264  1.4699]), 3 bonds, id: 140593039354816>\n",
      "<C pos=([ 2.9641 -0.9591  1.462 ]), 3 bonds, id: 140593039353136>\n",
      "<C pos=([ 2.929  -1.0292  1.5771]), 3 bonds, id: 140593039353040>\n",
      "<C pos=([ 2.8952 -1.1736  1.5678]), 3 bonds, id: 140593039351072>\n",
      "<C pos=([ 2.9539 -1.2709  1.6538]), 3 bonds, id: 140593039345600>\n",
      "<C pos=([ 2.912  -1.4049  1.6432]), 3 bonds, id: 140593039345648>\n",
      "<C pos=([ 2.818  -1.444   1.5467]), 3 bonds, id: 140593039349296>\n",
      "<O pos=([ 2.7856 -1.5757  1.5371]), 2 bonds, id: 140593039345408>\n",
      "<C pos=([ 2.7022 -1.6307  1.4418]), 4 bonds, id: 140593039347376>\n",
      "<C pos=([ 2.7632 -1.3471  1.4609]), 3 bonds, id: 140593039347664>\n",
      "<C pos=([ 2.8014 -1.2138  1.4717]), 3 bonds, id: 140593039355488>\n",
      "<C pos=([ 3.0669 -1.2367  1.746 ]), 3 bonds, id: 140593039356112>\n",
      "<C pos=([ 3.0775 -1.2904  1.8755]), 3 bonds, id: 140593039356256>\n",
      "<C pos=([ 3.1851 -1.2546  1.9585]), 3 bonds, id: 140593039356400>\n",
      "<C pos=([ 3.2853 -1.1672  1.9118]), 3 bonds, id: 140593039356544>\n",
      "<C pos=([ 3.2764 -1.1171  1.7817]), 3 bonds, id: 140593039356688>\n",
      "<C pos=([ 3.1692 -1.1509  1.7005]), 3 bonds, id: 140593039356832>\n",
      "<C pos=([ 3.4037 -1.1272  1.9976]), 4 bonds, id: 140593039356976>\n",
      "<N pos=([ 3.4762 -1.2444  2.044 ]), 3 bonds, id: 140593039357120>\n",
      "<C pos=([ 3.3575 -1.0415  2.1158]), 4 bonds, id: 140593039357264>\n",
      "<C pos=([ 2.9324 -0.9628  1.701 ]), 3 bonds, id: 140593039357408>\n",
      "<C pos=([ 2.9713 -0.8288  1.7085]), 3 bonds, id: 140593039357552>\n",
      "<H pos=([ 3.0391 -0.7852  1.378 ]), 1 bonds, id: 140593039357696>\n",
      "<H pos=([ 2.9661 -1.0092  1.3659]), 1 bonds, id: 140593039357840>\n",
      "<H pos=([ 2.9568 -1.4811  1.706 ]), 1 bonds, id: 140593039357984>\n",
      "<H pos=([ 2.6971 -1.7404  1.4565]), 1 bonds, id: 140593039358128>\n",
      "<H pos=([ 2.7421 -1.6108  1.3399]), 1 bonds, id: 140593039358272>\n",
      "<H pos=([ 2.5999 -1.5885  1.4511]), 1 bonds, id: 140593039358416>\n",
      "<H pos=([ 2.6906 -1.3736  1.3852]), 1 bonds, id: 140593039358560>\n",
      "<H pos=([ 2.756  -1.1411  1.4053]), 1 bonds, id: 140593039358704>\n",
      "<H pos=([ 3.0016 -1.3576  1.9135]), 1 bonds, id: 140593039358848>\n",
      "<H pos=([ 3.1908 -1.2955  2.0585]), 1 bonds, id: 140593039355152>\n",
      "<H pos=([ 3.3528 -1.0511  1.7423]), 1 bonds, id: 140593039355536>\n",
      "<H pos=([ 3.1682 -1.1108  1.6001]), 1 bonds, id: 140593039358896>\n",
      "<H pos=([ 3.4738 -1.0643  1.9383]), 1 bonds, id: 140593039359040>\n",
      "<H pos=([ 3.4879 -1.2601  2.1452]), 1 bonds, id: 140593039359184>\n",
      "<H pos=([ 3.306  -0.9504  2.0782]), 1 bonds, id: 140593039359328>\n",
      "<H pos=([ 3.2881 -1.0979  2.1815]), 1 bonds, id: 140593039359472>\n",
      "<H pos=([ 3.4455 -1.0094  2.1755]), 1 bonds, id: 140593039359616>\n",
      "<H pos=([ 2.9053 -1.015   1.792 ]), 1 bonds, id: 140593039359760>\n",
      "<H pos=([ 2.973  -0.7813  1.8059]), 1 bonds, id: 140593039359904>\n",
      "<C pos=([-0.2384 -0.6693 -0.0423]), 4 bonds, id: 140593038578384>\n",
      "<O pos=([-0.2913 -0.5513 -0.0894]), 2 bonds, id: 140593038578480>\n",
      "<H pos=([-0.193  -0.7288 -0.1243]), 1 bonds, id: 140593038578624>\n",
      "<H pos=([-0.3183 -0.728   0.0071]), 1 bonds, id: 140593038578768>\n",
      "<H pos=([-0.1605 -0.6454  0.0336]), 1 bonds, id: 140593038578912>\n",
      "<C pos=([ 3.7262 -1.6369  2.0492]), 4 bonds, id: 140593038583712>\n",
      "<C pos=([ 3.6534 -1.5507  1.9446]), 4 bonds, id: 140593038583808>\n",
      "<C pos=([ 3.7562 -1.5068  1.838 ]), 4 bonds, id: 140593038583952>\n",
      "<C pos=([ 3.5414 -1.6345  1.8803]), 4 bonds, id: 140593038584096>\n",
      "<O pos=([ 3.5997 -1.4412  2.0114]), 2 bonds, id: 140593038584240>\n",
      "<C pos=([ 3.532  -1.3356  1.9592]), 3 bonds, id: 140593038584384>\n",
      "<O pos=([ 3.5193 -1.3219  1.8382]), 1 bonds, id: 140593038584528>\n",
      "<H pos=([ 3.7712 -1.727   2.0025]), 1 bonds, id: 140593038584672>\n",
      "<H pos=([ 3.807  -1.5783  2.098 ]), 1 bonds, id: 140593038584816>\n",
      "<H pos=([ 3.6552 -1.6698  2.1284]), 1 bonds, id: 140593038584960>\n",
      "<H pos=([ 3.8363 -1.4453  1.8843]), 1 bonds, id: 140593038585104>\n",
      "<H pos=([ 3.7092 -1.4475  1.757 ]), 1 bonds, id: 140593038585248>\n",
      "<H pos=([ 3.8032 -1.5956  1.7903]), 1 bonds, id: 140593038585392>\n",
      "<H pos=([ 3.4685 -1.6672  1.9578]), 1 bonds, id: 140593038585536>\n",
      "<H pos=([ 3.4865 -1.5759  1.8037]), 1 bonds, id: 140593038585680>\n",
      "<H pos=([ 3.5833 -1.7249  1.831 ]), 1 bonds, id: 140593038585824>\n"
     ]
    }
   ],
   "source": [
    "for p in chain.particles():\n",
    "    print(p)"
   ]
  },
  {
   "cell_type": "code",
   "execution_count": 10,
   "id": "7e5b1cba",
   "metadata": {},
   "outputs": [
    {
     "name": "stdout",
     "output_type": "stream",
     "text": [
      "Rotating bond: (<N pos=([ 0.5421 -0.0747  0.0411]), 3 bonds, id: 140593038660016>, <C pos=([ 0.5572 -0.0576  0.1766]), 3 bonds, id: 140593038666688>) by 1.5707963267948966\n",
      "Rotating bond: (<N pos=([0.8824 0.3365 0.8863]), 3 bonds, id: 140593078338272>, <C pos=([1.0151 0.3653 0.866 ]), 3 bonds, id: 140593038747888>) by 1.5707963267948966\n",
      "Rotating bond: (<N pos=([1.8304 0.524  1.1323]), 3 bonds, id: 140593038749232>, <C pos=([1.8266 0.6049 1.2432]), 3 bonds, id: 140593038945312>) by 1.5707963267948966\n",
      "Rotating bond: (<N pos=([2.1596 1.1961 1.793 ]), 3 bonds, id: 140593038946512>, <C pos=([2.292  1.1675 1.8154]), 3 bonds, id: 140593039142832>) by 1.5707963267948966\n",
      "Rotating bond: (<N pos=([3.0264 1.1839 2.2863]), 3 bonds, id: 140593039143792>, <C pos=([3.042  1.3081 2.343 ]), 3 bonds, id: 140593039355248>) by 1.5707963267948966\n",
      "Rotating bond: (<N pos=([3.5337 1.9342 2.6989]), 3 bonds, id: 140593039357120>, <C pos=([3.6066 1.8872 2.8042]), 3 bonds, id: 140593038584384>) by 1.5707963267948966\n"
     ]
    }
   ],
   "source": [
    "# no need for rotation of peptide bonds\n",
    "for bond in chain.bonds():\n",
    "    if bond[0].name == \"N\":\n",
    "        if bond[1].n_direct_bonds == 3:\n",
    "            print(\"Rotating bond:\", bond, \"by\", np.pi/2)\n",
    "            chain.rotate_dihedral(bond, np.pi/2)\n",
    "            \n",
    "    if bond[1].name == \"N\":\n",
    "        if bond[0].n_direct_bonds == 3:\n",
    "            print(\"Rotating bond:\", bond, \"by\", np.pi/2)\n",
    "            chain.rotate_dihedral(bond, np.pi/2)       "
   ]
  },
  {
   "cell_type": "code",
   "execution_count": 11,
   "id": "afea3dba",
   "metadata": {},
   "outputs": [
    {
     "data": {
      "application/3dmoljs_load.v0": "<div id=\"3dmolviewer_1692039111416102\"  style=\"position: relative; width: 640px; height: 480px\">\n        <p id=\"3dmolwarning_1692039111416102\" style=\"background-color:#ffcccc;color:black\">You appear to be running in JupyterLab (or JavaScript failed to load for some other reason).  You need to install the 3dmol extension: <br>\n        <tt>jupyter labextension install jupyterlab_3dmol</tt></p>\n        </div>\n<script>\n\nvar loadScriptAsync = function(uri){\n  return new Promise((resolve, reject) => {\n    //this is to ignore the existence of requirejs amd\n    var savedexports, savedmodule;\n    if (typeof exports !== 'undefined') savedexports = exports;\n    else exports = {}\n    if (typeof module !== 'undefined') savedmodule = module;\n    else module = {}\n\n    var tag = document.createElement('script');\n    tag.src = uri;\n    tag.async = true;\n    tag.onload = () => {\n        exports = savedexports;\n        module = savedmodule;\n        resolve();\n    };\n  var firstScriptTag = document.getElementsByTagName('script')[0];\n  firstScriptTag.parentNode.insertBefore(tag, firstScriptTag);\n});\n};\n\nif(typeof $3Dmolpromise === 'undefined') {\n$3Dmolpromise = null;\n  $3Dmolpromise = loadScriptAsync('https://cdnjs.cloudflare.com/ajax/libs/3Dmol/2.0.1/3Dmol-min.js');\n}\n\nvar viewer_1692039111416102 = null;\nvar warn = document.getElementById(\"3dmolwarning_1692039111416102\");\nif(warn) {\n    warn.parentNode.removeChild(warn);\n}\n$3Dmolpromise.then(function() {\nviewer_1692039111416102 = $3Dmol.createViewer(document.getElementById(\"3dmolviewer_1692039111416102\"),{backgroundColor:\"white\"});\nviewer_1692039111416102.zoomTo();\n\tviewer_1692039111416102.addModel(\"@<TRIPOS>MOLECULE\\nPolymer\\n285 302 1 0 1\\nSMALL\\nNO_CHARGES\\n@<TRIPOS>CRYSIN\\n   47.3182    32.7487    42.4604    90.0000    90.0000    90.0000  1  1\\n@<TRIPOS>ATOM\\n       1 C           -2.1737    -4.6229    -1.5971 C             1 Polymer \\n       2 O           -1.3752    -5.0126    -2.4390 O             1 Polymer \\n       3 C           -2.2090    -3.2015    -1.2007 C             1 Polymer \\n       4 C           -3.0860    -2.7730    -0.1899 C             1 Polymer \\n       5 C           -3.0457    -1.4572     0.2744 C             1 Polymer \\n       6 C           -2.1083    -0.5513    -0.2473 C             1 Polymer \\n       7 C           -1.9845     0.8289     0.3051 C             1 Polymer \\n       8 C           -0.7193     1.4701     0.5057 C             1 Polymer \\n       9 C           -0.7055     2.8206     0.9101 C             1 Polymer \\n      10 C           -1.8904     3.5224     1.1555 C             1 Polymer \\n      11 O           -1.8022     4.8200     1.5486 O             1 Polymer \\n      12 C           -2.8699     5.6546     1.8091 C             1 Polymer \\n      13 C           -3.1216     2.8657     1.0000 C             1 Polymer \\n      14 C           -3.1649     1.5391     0.5822 C             1 Polymer \\n      15 C            0.5927     0.7495     0.3553 C             1 Polymer \\n      16 C            1.7140     1.3948    -0.1943 C             1 Polymer \\n      17 C            2.9123     0.7000    -0.3847 C             1 Polymer \\n      18 C            3.0279    -0.6541    -0.0194 C             1 Polymer \\n      19 C            1.9312    -1.2890     0.5745 C             1 Polymer \\n      20 C            0.7345    -0.5963     0.7650 C             1 Polymer \\n      21 C            4.3185    -1.4096    -0.2780 C             1 Polymer \\n      22 N            5.4207    -0.7465     0.4113 N             1 Polymer \\n      23 C            4.5847    -1.4817    -1.7872 C             1 Polymer \\n      24 C           -1.2716    -0.9735    -1.3006 C             1 Polymer \\n      25 C           -1.3202    -2.2817    -1.7720 C             1 Polymer \\n      26 H           -3.7832    -3.4635     0.2673 H             1 Polymer \\n      27 H           -3.7086    -1.1682     1.0797 H             1 Polymer \\n      28 H            0.2340     3.3343     1.0707 H             1 Polymer \\n      29 H           -2.4873     6.6523     2.1059 H             1 Polymer \\n      30 H           -3.4826     5.2476     2.6417 H             1 Polymer \\n      31 H           -3.4952     5.7717     0.8980 H             1 Polymer \\n      32 H           -4.0570     3.3765     1.1846 H             1 Polymer \\n      33 H           -4.1343     1.0781     0.4383 H             1 Polymer \\n      34 H            1.6575     2.4257    -0.5172 H             1 Polymer \\n      35 H            3.7490     1.2163    -0.8367 H             1 Polymer \\n      36 H            1.9920    -2.3253     0.8820 H             1 Polymer \\n      37 H           -0.0853    -1.1249     1.2324 H             1 Polymer \\n      38 H            4.2466    -2.4654    -0.0061 H             1 Polymer \\n      39 H            6.1144    -0.2706    -0.1881 H             1 Polymer \\n      40 H            3.7445    -2.0084    -2.2910 H             1 Polymer \\n      41 H            4.7005    -0.4740    -2.2346 H             1 Polymer \\n      42 H            5.5147    -2.0621    -1.9716 H             1 Polymer \\n      43 H           -0.5596    -0.2937    -1.7507 H             1 Polymer \\n      44 H           -0.6352    -2.5792    -2.5568 H             1 Polymer \\n      45 C            5.5718    -0.5760     1.7655 C             1 Polymer \\n      46 O            4.9214     0.3191     2.2884 O             1 Polymer \\n      47 C            6.4599    -1.3824     2.6775 C             1 Polymer \\n      48 C            7.6546    -2.0079     2.2642 C             1 Polymer \\n      49 C            8.4694    -2.6877     3.1621 C             1 Polymer \\n      50 C            8.1453    -2.7351     4.5165 C             1 Polymer \\n      51 C            9.0870    -3.3760     5.4682 C             1 Polymer \\n      52 C            9.5052    -2.7467     6.6800 C             1 Polymer \\n      53 C           10.3437    -3.4696     7.5561 C             1 Polymer \\n      54 C           10.7970    -4.7577     7.2366 C             1 Polymer \\n      55 O           11.6337    -5.3869     8.1035 O             1 Polymer \\n      56 C           12.2023    -6.6303     7.9069 C             1 Polymer \\n      57 C           10.3957    -5.3461     6.0266 C             1 Polymer \\n      58 C            9.5543    -4.6624     5.1576 C             1 Polymer \\n      59 C            9.1419    -1.3255     7.0148 C             1 Polymer \\n      60 C            8.8828    -0.9325     8.3391 C             1 Polymer \\n      61 C            8.4968     0.3811     8.6280 C             1 Polymer \\n      62 C            8.3699     1.3385     7.6035 C             1 Polymer \\n      63 C            8.6755     0.9670     6.2914 C             1 Polymer \\n      64 C            9.0633    -0.3396     6.0037 C             1 Polymer \\n      65 C            7.9036     2.7470     7.9164 C             1 Polymer \\n      66 N            8.8243     3.3650     8.8629 N             1 Polymer \\n      67 C            6.4784     2.7106     8.4790 C             1 Polymer \\n      68 C            6.9608    -2.1171     4.9552 C             1 Polymer \\n      69 C            6.1320    -1.4505     4.0485 C             1 Polymer \\n      70 H            8.0401    -1.9500     1.2773 H             1 Polymer \\n      71 H            9.3940    -3.1248     2.8049 H             1 Polymer \\n      72 H           10.6915    -3.0192     8.4770 H             1 Polymer \\n      73 H           12.8574    -6.8732     8.7678 H             1 Polymer \\n      74 H           12.8219    -6.6277     6.9837 H             1 Polymer \\n      75 H           11.4121    -7.4074     7.8298 H             1 Polymer \\n      76 H           10.7244    -6.3377     5.7460 H             1 Polymer \\n      77 H            9.2449    -5.1534     4.2424 H             1 Polymer \\n      78 H            8.9401    -1.6460     9.1504 H             1 Polymer \\n      79 H            8.2779     0.6482     9.6536 H             1 Polymer \\n      80 H            8.6085     1.6832     5.4824 H             1 Polymer \\n      81 H            9.3034    -0.5680     4.9760 H             1 Polymer \\n      82 H            7.7809     3.3532     7.0170 H             1 Polymer \\n      83 H            8.4657     3.5139     9.8209 H             1 Polymer \\n      84 H            5.7941     2.2525     7.7321 H             1 Polymer \\n      85 H            6.4218     2.1331     9.4243 H             1 Polymer \\n      86 H            6.1306     3.7484     8.6735 H             1 Polymer \\n      87 H            6.6835    -2.1414     6.0024 H             1 Polymer \\n      88 H            5.2338    -0.9775     4.4271 H             1 Polymer \\n      89 C           10.1509     3.6531     8.6600 C             1 Polymer \\n      90 O           10.9423     2.7242     8.7406 O             1 Polymer \\n      91 C           10.7349     5.0072     8.3477 C             1 Polymer \\n      92 C           10.1756     6.2264     8.7866 C             1 Polymer \\n      93 C           10.7930     7.4455     8.5296 C             1 Polymer \\n      94 C           12.0155     7.4933     7.8620 C             1 Polymer \\n      95 C           12.7063     8.7980     7.7039 C             1 Polymer \\n      96 C           14.0802     8.9879     8.0452 C             1 Polymer \\n      97 C           14.6657    10.2479     7.7935 C             1 Polymer \\n      98 C           13.9174    11.3084     7.2624 C             1 Polymer \\n      99 O           14.5271    12.5100     7.0832 O             1 Polymer \\n     100 C           13.9103    13.6614     6.6338 C             1 Polymer \\n     101 C           12.5614    11.1069     6.9586 C             1 Polymer \\n     102 C           11.9681     9.8696     7.1780 C             1 Polymer \\n     103 C           14.8945     7.9215     8.7274 C             1 Polymer \\n     104 C           16.2609     7.7539     8.4430 C             1 Polymer \\n     105 C           16.9929     6.7268     9.0505 C             1 Polymer \\n     106 C           16.3813     5.8476     9.9650 C             1 Polymer \\n     107 C           15.0363     6.0403    10.2888 C             1 Polymer \\n     108 C           14.3086     7.0650     9.6883 C             1 Polymer \\n     109 C           17.1658     4.7061    10.5822 C             1 Polymer \\n     110 N           18.3037     5.2395    11.3227 N             1 Polymer \\n     111 C           17.6275     3.7396     9.4848 C             1 Polymer \\n     112 C           12.5958     6.2925     7.4172 C             1 Polymer \\n     113 C           11.9643     5.0689     7.6578 C             1 Polymer \\n     114 H            9.3031     6.2925     9.3886 H             1 Polymer \\n     115 H           10.3452     8.3531     8.9154 H             1 Polymer \\n     116 H           15.7004    10.4326     8.0536 H             1 Polymer \\n     117 H           14.6484    14.4886     6.6145 H             1 Polymer \\n     118 H           13.0825    13.9457     7.3196 H             1 Polymer \\n     119 H           13.5155    13.5119     5.6063 H             1 Polymer \\n     120 H           11.9525    11.9008     6.5474 H             1 Polymer \\n     121 H           10.9251     9.7406     6.9135 H             1 Polymer \\n     122 H           16.7596     8.3900     7.7238 H             1 Polymer \\n     123 H           18.0365     6.6056     8.7922 H             1 Polymer \\n     124 H           14.5396     5.3953    11.0025 H             1 Polymer \\n     125 H           13.2781     7.1786     9.9895 H             1 Polymer \\n     126 H           16.5425     4.0635    11.2080 H             1 Polymer \\n     127 H           19.2362     5.0692    10.9123 H             1 Polymer \\n     128 H           16.7415     3.3328     8.9489 H             1 Polymer \\n     129 H           18.2968     4.2347     8.7530 H             1 Polymer \\n     130 H           18.1713     2.8873     9.9466 H             1 Polymer \\n     131 H           13.5457     6.3021     6.8956 H             1 Polymer \\n     132 H           12.4501     4.1643     7.3118 H             1 Polymer \\n     133 C           18.2661     6.0489    12.4319 C             1 Polymer \\n     134 O           18.0336     7.2357    12.2453 O             1 Polymer \\n     135 C           18.4867     5.6249    13.8627 C             1 Polymer \\n     136 C           19.3049     4.5424    14.2504 C             1 Polymer \\n     137 C           19.5280     4.2400    15.5898 C             1 Polymer \\n     138 C           18.9767     5.0317    16.5963 C             1 Polymer \\n     139 C           19.3231     4.7556    18.0142 C             1 Polymer \\n     140 C           19.7554     5.7771    18.9147 C             1 Polymer \\n     141 C           19.9888     5.4278    20.2627 C             1 Polymer \\n     142 C           19.8440     4.1078    20.7115 C             1 Polymer \\n     143 O           20.1186     3.8302    22.0135 O             1 Polymer \\n     144 C           20.0650     2.5785    22.5945 C             1 Polymer \\n     145 C           19.4454     3.1141    19.8033 C             1 Polymer \\n     146 C           19.1910     3.4364    18.4753 C             1 Polymer \\n     147 C           20.0357     7.1851    18.4628 C             1 Polymer \\n     148 C           19.7584     8.2846    19.2940 C             1 Polymer \\n     149 C           19.9775     9.5905    18.8421 C             1 Polymer \\n     150 C           20.4878     9.8326    17.5526 C             1 Polymer \\n     151 C           20.8122     8.7427    16.7402 C             1 Polymer \\n     152 C           20.5994     7.4424    17.1915 C             1 Polymer \\n     153 C           20.6751    11.2510    17.0509 C             1 Polymer \\n     154 N           21.5963    11.9608    17.9304 N             1 Polymer \\n     155 C           19.3169    11.9620    16.9877 C             1 Polymer \\n     156 C           18.1574     6.1159    16.2361 C             1 Polymer \\n     157 C           17.9180     6.4077    14.8903 C             1 Polymer \\n     158 H           19.8489     3.9393    13.5665 H             1 Polymer \\n     159 H           20.1912     3.4209    15.8401 H             1 Polymer \\n     160 H           20.3304     6.1723    20.9705 H             1 Polymer \\n     161 H           20.3628     2.6568    23.6598 H             1 Polymer \\n     162 H           20.7691     1.8868    22.0828 H             1 Polymer \\n     163 H           19.0317     2.1739    22.5422 H             1 Polymer \\n     164 H           19.3234     2.0849    20.1131 H             1 Polymer \\n     165 H           18.8634     2.6504    17.8051 H             1 Polymer \\n     166 H           19.3366     8.1425    20.2800 H             1 Polymer \\n     167 H           19.7299    10.4173    19.4949 H             1 Polymer \\n     168 H           21.2242     8.8919    15.7504 H             1 Polymer \\n     169 H           20.8845     6.6384    16.5294 H             1 Polymer \\n     170 H           21.0030    11.2880    16.0099 H             1 Polymer \\n     171 H           21.1837    12.7016    18.5211 H             1 Polymer \\n     172 H           18.6397    11.4127    16.2968 H             1 Polymer \\n     173 H           18.8383    12.0287    17.9852 H             1 Polymer \\n     174 H           19.4550    12.9901    16.5888 H             1 Polymer \\n     175 H           17.7136     6.7459    16.9980 H             1 Polymer \\n     176 H           17.2922     7.2600    14.6545 H             1 Polymer \\n     177 C           22.9205    11.6754    18.1544 C             1 Polymer \\n     178 O           23.1673    10.7491    18.9155 O             1 Polymer \\n     179 C           24.1101    12.3904    17.5621 C             1 Polymer \\n     180 C           24.1061    13.7457    17.1688 C             1 Polymer \\n     181 C           25.2548    14.3713    16.6960 C             1 Polymer \\n     182 C           26.4643    13.6807    16.6342 C             1 Polymer \\n     183 C           27.6982    14.4047    16.2327 C             1 Polymer \\n     184 C           28.9185    14.3166    16.9705 C             1 Polymer \\n     185 C           30.0565    14.9841    16.4677 C             1 Polymer \\n     186 C           29.9942    15.7541    15.2976 C             1 Polymer \\n     187 O           31.1141    16.4060    14.8870 O             1 Polymer \\n     188 C           31.1963    17.2441    13.7921 C             1 Polymer \\n     189 C           28.7779    15.8494    14.6027 C             1 Polymer \\n     190 C           27.6492    15.1844    15.0665 C             1 Polymer \\n     191 C           29.0103    13.6027    18.2917 C             1 Polymer \\n     192 C           30.1655    12.8894    18.6562 C             1 Polymer \\n     193 C           30.2151    12.1873    19.8662 C             1 Polymer \\n     194 C           29.1166    12.1885    20.7474 C             1 Polymer \\n     195 C           27.9853    12.9378    20.4134 C             1 Polymer \\n     196 C           27.9370    13.6400    19.2115 C             1 Polymer \\n     197 C           29.1556    11.3827    22.0320 C             1 Polymer \\n     198 N           30.2644    11.8393    22.8633 N             1 Polymer \\n     199 C           29.2901     9.8908    21.7068 C             1 Polymer \\n     200 C           26.4943    12.3281    17.0171 C             1 Polymer \\n     201 C           25.3353    11.6950    17.4749 C             1 Polymer \\n     202 H           23.2663    14.3869    17.2661 H             1 Polymer \\n     203 H           25.2118    15.4228    16.4391 H             1 Polymer \\n     204 H           30.9939    14.9506    17.0084 H             1 Polymer \\n     205 H           32.2250    17.6515    13.7195 H             1 Polymer \\n     206 H           30.4891    18.0946    13.9058 H             1 Polymer \\n     207 H           30.9679    16.6844    12.8601 H             1 Polymer \\n     208 H           28.6915    16.4336    13.6964 H             1 Polymer \\n     209 H           26.7320    15.2610    14.4943 H             1 Polymer \\n     210 H           31.0183    12.8391    17.9921 H             1 Polymer \\n     211 H           31.1072    11.6243    20.1074 H             1 Polymer \\n     212 H           27.1303    12.9763    21.0762 H             1 Polymer \\n     213 H           27.0450    14.2148    19.0103 H             1 Polymer \\n     214 H           28.2071    11.4154    22.5720 H             1 Polymer \\n     215 H           31.0615    11.1908    22.9556 H             1 Polymer \\n     216 H           28.4232     9.5633    21.0914 H             1 Polymer \\n     217 H           30.2274     9.6703    21.1576 H             1 Polymer \\n     218 H           29.2827     9.3040    22.6507 H             1 Polymer \\n     219 H           27.4191    11.7653    16.9748 H             1 Polymer \\n     220 H           25.4048    10.6560    17.7740 H             1 Polymer \\n     221 C           30.4199    13.0805    23.4305 C             1 Polymer \\n     222 O           30.8078    13.9812    22.6977 O             1 Polymer \\n     223 C           30.1616    13.4492    24.8696 C             1 Polymer \\n     224 C           30.2914    12.5536    25.9527 C             1 Polymer \\n     225 C           30.0957    12.9640    27.2677 C             1 Polymer \\n     226 C           29.8072    14.2961    27.5575 C             1 Polymer \\n     227 C           29.7018    14.7335    28.9730 C             1 Polymer \\n     228 C           30.3940    15.8778    29.4661 C             1 Polymer \\n     229 C           30.1935    16.2682    30.8046 C             1 Polymer \\n     230 C           29.3687    15.5231    31.6603 C             1 Polymer \\n     231 O           29.2574    15.9120    32.9577 O             1 Polymer \\n     232 C           28.5608    15.2333    33.9385 C             1 Polymer \\n     233 C           28.7145    14.3822    31.1635 C             1 Polymer \\n     234 C           28.8801    13.9965    29.8377 C             1 Polymer \\n     235 C           31.4162    16.5971    28.6405 C             1 Polymer \\n     236 C           31.5473    17.9975    28.6541 C             1 Polymer \\n     237 C           32.5173    18.6257    27.8558 C             1 Polymer \\n     238 C           33.3912    17.8609    27.0583 C             1 Polymer \\n     239 C           33.2829    16.4678    27.0764 C             1 Polymer \\n     240 C           32.3126    15.8483    27.8507 C             1 Polymer \\n     241 C           34.4599    18.4992    26.1932 C             1 Polymer \\n     242 N           35.3369    19.3422    26.9891 N             1 Polymer \\n     243 C           33.8198    19.3001    25.0564 C             1 Polymer \\n     244 C           29.6840    15.2119    26.4982 C             1 Polymer \\n     245 C           29.8563    14.7937    25.1755 C             1 Polymer \\n     246 H           30.6022    11.5439    25.8482 H             1 Polymer \\n     247 H           30.2348    12.2483    28.0689 H             1 Polymer \\n     248 H           30.7259    17.1206    31.2086 H             1 Polymer \\n     249 H           28.6740    15.7670    34.9037 H             1 Polymer \\n     250 H           28.9687    14.2054    34.0566 H             1 Polymer \\n     251 H           27.4814    15.1842    33.6814 H             1 Polymer \\n     252 H           28.0729    13.7818    31.7941 H             1 Polymer \\n     253 H           28.3490    13.1228    29.4787 H             1 Polymer \\n     254 H           30.8862    18.6050    29.2585 H             1 Polymer \\n     255 H           32.5936    19.7055    27.8649 H             1 Polymer \\n     256 H           33.9510    15.8514    26.4874 H             1 Polymer \\n     257 H           32.2847    14.7679    27.8418 H             1 Polymer \\n     258 H           35.0802    17.7085    25.7141 H             1 Polymer \\n     259 H           35.4328    20.3413    26.7522 H             1 Polymer \\n     260 H           33.1864    18.6296    24.4353 H             1 Polymer \\n     261 H           33.1930    20.1266    25.4512 H             1 Polymer \\n     262 H           34.6120    19.7281    24.4055 H             1 Polymer \\n     263 H           29.4574    16.2529    26.6957 H             1 Polymer \\n     264 H           29.7570    15.5312    24.3880 H             1 Polymer \\n     265 C           -2.3836    -6.6925    -0.4232 C             1 Polymer \\n     266 O           -2.9127    -5.5129    -0.8944 O             1 Polymer \\n     267 H           -1.9302    -7.2880    -1.2425 H             1 Polymer \\n     268 H           -3.1828    -7.2797     0.0706 H             1 Polymer \\n     269 H           -1.6054    -6.4545     0.3364 H             1 Polymer \\n     270 C           35.0691    18.7626    31.5985 C             1 Polymer \\n     271 C           36.0376    18.3793    30.4669 C             1 Polymer \\n     272 C           37.4251    18.9735    30.7940 C             1 Polymer \\n     273 C           36.1150    16.8440    30.3769 C             1 Polymer \\n     274 O           35.5238    18.9074    29.2873 O             1 Polymer \\n     275 C           36.0661    18.8718    28.0420 C             1 Polymer \\n     276 O           37.1858    18.4159    27.8503 O             1 Polymer \\n     277 H           35.4166    18.3645    32.5751 H             1 Polymer \\n     278 H           34.9859    19.8684    31.6779 H             1 Polymer \\n     279 H           34.0527    18.3575    31.3930 H             1 Polymer \\n     280 H           37.3696    20.0820    30.8453 H             1 Polymer \\n     281 H           38.1839    18.6987    30.0339 H             1 Polymer \\n     282 H           37.7906    18.5937    31.7731 H             1 Polymer \\n     283 H           35.1102    16.4206    30.1571 H             1 Polymer \\n     284 H           36.8088    16.5245    29.5718 H             1 Polymer \\n     285 H           36.4773    16.4127    31.3351 H             1 Polymer \\n@<TRIPOS>BOND\\n       1        1        2 1\\n       2        1        3 1\\n       3        1      266 1\\n       4        3        4 1\\n       5        3       25 1\\n       6        4        5 1\\n       7        4       26 1\\n       8        5        6 1\\n       9        5       27 1\\n      10        6        7 1\\n      11        6       24 1\\n      12        7        8 1\\n      13        7       14 1\\n      14        8        9 1\\n      15        8       15 1\\n      16        9       10 1\\n      17        9       28 1\\n      18       10       11 1\\n      19       10       13 1\\n      20       11       12 1\\n      21       12       29 1\\n      22       12       30 1\\n      23       12       31 1\\n      24       13       14 1\\n      25       13       32 1\\n      26       14       33 1\\n      27       15       16 1\\n      28       15       20 1\\n      29       16       17 1\\n      30       16       34 1\\n      31       17       18 1\\n      32       17       35 1\\n      33       18       19 1\\n      34       18       21 1\\n      35       19       20 1\\n      36       19       36 1\\n      37       20       37 1\\n      38       21       22 1\\n      39       21       23 1\\n      40       21       38 1\\n      41       22       39 1\\n      42       22       45 1\\n      43       23       40 1\\n      44       23       41 1\\n      45       23       42 1\\n      46       24       25 1\\n      47       24       43 1\\n      48       25       44 1\\n      49       45       46 1\\n      50       45       47 1\\n      51       47       48 1\\n      52       47       69 1\\n      53       48       49 1\\n      54       48       70 1\\n      55       49       50 1\\n      56       49       71 1\\n      57       50       51 1\\n      58       50       68 1\\n      59       51       52 1\\n      60       51       58 1\\n      61       52       53 1\\n      62       52       59 1\\n      63       53       54 1\\n      64       53       72 1\\n      65       54       55 1\\n      66       54       57 1\\n      67       55       56 1\\n      68       56       73 1\\n      69       56       74 1\\n      70       56       75 1\\n      71       57       58 1\\n      72       57       76 1\\n      73       58       77 1\\n      74       59       60 1\\n      75       59       64 1\\n      76       60       61 1\\n      77       60       78 1\\n      78       61       62 1\\n      79       61       79 1\\n      80       62       63 1\\n      81       62       65 1\\n      82       63       64 1\\n      83       63       80 1\\n      84       64       81 1\\n      85       65       66 1\\n      86       65       67 1\\n      87       65       82 1\\n      88       66       83 1\\n      89       66       89 1\\n      90       67       84 1\\n      91       67       85 1\\n      92       67       86 1\\n      93       68       69 1\\n      94       68       87 1\\n      95       69       88 1\\n      96       89       90 1\\n      97       89       91 1\\n      98       91       92 1\\n      99       91      113 1\\n     100       92       93 1\\n     101       92      114 1\\n     102       93       94 1\\n     103       93      115 1\\n     104       94       95 1\\n     105       94      112 1\\n     106       95       96 1\\n     107       95      102 1\\n     108       96       97 1\\n     109       96      103 1\\n     110       97       98 1\\n     111       97      116 1\\n     112       98       99 1\\n     113       98      101 1\\n     114       99      100 1\\n     115      100      117 1\\n     116      100      118 1\\n     117      100      119 1\\n     118      101      102 1\\n     119      101      120 1\\n     120      102      121 1\\n     121      103      104 1\\n     122      103      108 1\\n     123      104      105 1\\n     124      104      122 1\\n     125      105      106 1\\n     126      105      123 1\\n     127      106      107 1\\n     128      106      109 1\\n     129      107      108 1\\n     130      107      124 1\\n     131      108      125 1\\n     132      109      110 1\\n     133      109      111 1\\n     134      109      126 1\\n     135      110      127 1\\n     136      110      133 1\\n     137      111      128 1\\n     138      111      129 1\\n     139      111      130 1\\n     140      112      113 1\\n     141      112      131 1\\n     142      113      132 1\\n     143      133      134 1\\n     144      133      135 1\\n     145      135      136 1\\n     146      135      157 1\\n     147      136      137 1\\n     148      136      158 1\\n     149      137      138 1\\n     150      137      159 1\\n     151      138      139 1\\n     152      138      156 1\\n     153      139      140 1\\n     154      139      146 1\\n     155      140      141 1\\n     156      140      147 1\\n     157      141      142 1\\n     158      141      160 1\\n     159      142      143 1\\n     160      142      145 1\\n     161      143      144 1\\n     162      144      161 1\\n     163      144      162 1\\n     164      144      163 1\\n     165      145      146 1\\n     166      145      164 1\\n     167      146      165 1\\n     168      147      148 1\\n     169      147      152 1\\n     170      148      149 1\\n     171      148      166 1\\n     172      149      150 1\\n     173      149      167 1\\n     174      150      151 1\\n     175      150      153 1\\n     176      151      152 1\\n     177      151      168 1\\n     178      152      169 1\\n     179      153      154 1\\n     180      153      155 1\\n     181      153      170 1\\n     182      154      171 1\\n     183      154      177 1\\n     184      155      172 1\\n     185      155      173 1\\n     186      155      174 1\\n     187      156      157 1\\n     188      156      175 1\\n     189      157      176 1\\n     190      177      178 1\\n     191      177      179 1\\n     192      179      180 1\\n     193      179      201 1\\n     194      180      181 1\\n     195      180      202 1\\n     196      181      182 1\\n     197      181      203 1\\n     198      182      183 1\\n     199      182      200 1\\n     200      183      184 1\\n     201      183      190 1\\n     202      184      185 1\\n     203      184      191 1\\n     204      185      186 1\\n     205      185      204 1\\n     206      186      187 1\\n     207      186      189 1\\n     208      187      188 1\\n     209      188      205 1\\n     210      188      206 1\\n     211      188      207 1\\n     212      189      190 1\\n     213      189      208 1\\n     214      190      209 1\\n     215      191      192 1\\n     216      191      196 1\\n     217      192      193 1\\n     218      192      210 1\\n     219      193      194 1\\n     220      193      211 1\\n     221      194      195 1\\n     222      194      197 1\\n     223      195      196 1\\n     224      195      212 1\\n     225      196      213 1\\n     226      197      198 1\\n     227      197      199 1\\n     228      197      214 1\\n     229      198      215 1\\n     230      198      221 1\\n     231      199      216 1\\n     232      199      217 1\\n     233      199      218 1\\n     234      200      201 1\\n     235      200      219 1\\n     236      201      220 1\\n     237      221      222 1\\n     238      221      223 1\\n     239      223      224 1\\n     240      223      245 1\\n     241      224      225 1\\n     242      224      246 1\\n     243      225      226 1\\n     244      225      247 1\\n     245      226      227 1\\n     246      226      244 1\\n     247      227      228 1\\n     248      227      234 1\\n     249      228      229 1\\n     250      228      235 1\\n     251      229      230 1\\n     252      229      248 1\\n     253      230      231 1\\n     254      230      233 1\\n     255      231      232 1\\n     256      232      249 1\\n     257      232      250 1\\n     258      232      251 1\\n     259      233      234 1\\n     260      233      252 1\\n     261      234      253 1\\n     262      235      236 1\\n     263      235      240 1\\n     264      236      237 1\\n     265      236      254 1\\n     266      237      238 1\\n     267      237      255 1\\n     268      238      239 1\\n     269      238      241 1\\n     270      239      240 1\\n     271      239      256 1\\n     272      240      257 1\\n     273      241      242 1\\n     274      241      243 1\\n     275      241      258 1\\n     276      242      259 1\\n     277      242      275 1\\n     278      243      260 1\\n     279      243      261 1\\n     280      243      262 1\\n     281      244      245 1\\n     282      244      263 1\\n     283      245      264 1\\n     284      265      266 1\\n     285      265      267 1\\n     286      265      268 1\\n     287      265      269 1\\n     288      270      271 1\\n     289      270      277 1\\n     290      270      278 1\\n     291      270      279 1\\n     292      271      272 1\\n     293      271      273 1\\n     294      271      274 1\\n     295      272      280 1\\n     296      272      281 1\\n     297      272      282 1\\n     298      273      283 1\\n     299      273      284 1\\n     300      273      285 1\\n     301      274      275 1\\n     302      275      276 1\\n@<TRIPOS>SUBSTRUCTURE\\n       1 Polymer         1 RESIDUE    0 **** ROOT      0\\n\",\"mol2\");\n\tviewer_1692039111416102.setStyle({\"stick\": {\"radius\": 0.2, \"color\": \"grey\"}, \"sphere\": {\"scale\": 0.3, \"colorscheme\": {}}});\n\tviewer_1692039111416102.zoomTo();\nviewer_1692039111416102.render();\n});\n</script>",
      "text/html": [
       "<div id=\"3dmolviewer_1692039111416102\"  style=\"position: relative; width: 640px; height: 480px\">\n",
       "        <p id=\"3dmolwarning_1692039111416102\" style=\"background-color:#ffcccc;color:black\">You appear to be running in JupyterLab (or JavaScript failed to load for some other reason).  You need to install the 3dmol extension: <br>\n",
       "        <tt>jupyter labextension install jupyterlab_3dmol</tt></p>\n",
       "        </div>\n",
       "<script>\n",
       "\n",
       "var loadScriptAsync = function(uri){\n",
       "  return new Promise((resolve, reject) => {\n",
       "    //this is to ignore the existence of requirejs amd\n",
       "    var savedexports, savedmodule;\n",
       "    if (typeof exports !== 'undefined') savedexports = exports;\n",
       "    else exports = {}\n",
       "    if (typeof module !== 'undefined') savedmodule = module;\n",
       "    else module = {}\n",
       "\n",
       "    var tag = document.createElement('script');\n",
       "    tag.src = uri;\n",
       "    tag.async = true;\n",
       "    tag.onload = () => {\n",
       "        exports = savedexports;\n",
       "        module = savedmodule;\n",
       "        resolve();\n",
       "    };\n",
       "  var firstScriptTag = document.getElementsByTagName('script')[0];\n",
       "  firstScriptTag.parentNode.insertBefore(tag, firstScriptTag);\n",
       "});\n",
       "};\n",
       "\n",
       "if(typeof $3Dmolpromise === 'undefined') {\n",
       "$3Dmolpromise = null;\n",
       "  $3Dmolpromise = loadScriptAsync('https://cdnjs.cloudflare.com/ajax/libs/3Dmol/2.0.1/3Dmol-min.js');\n",
       "}\n",
       "\n",
       "var viewer_1692039111416102 = null;\n",
       "var warn = document.getElementById(\"3dmolwarning_1692039111416102\");\n",
       "if(warn) {\n",
       "    warn.parentNode.removeChild(warn);\n",
       "}\n",
       "$3Dmolpromise.then(function() {\n",
       "viewer_1692039111416102 = $3Dmol.createViewer(document.getElementById(\"3dmolviewer_1692039111416102\"),{backgroundColor:\"white\"});\n",
       "viewer_1692039111416102.zoomTo();\n",
       "\tviewer_1692039111416102.addModel(\"@<TRIPOS>MOLECULE\\nPolymer\\n285 302 1 0 1\\nSMALL\\nNO_CHARGES\\n@<TRIPOS>CRYSIN\\n   47.3182    32.7487    42.4604    90.0000    90.0000    90.0000  1  1\\n@<TRIPOS>ATOM\\n       1 C           -2.1737    -4.6229    -1.5971 C             1 Polymer \\n       2 O           -1.3752    -5.0126    -2.4390 O             1 Polymer \\n       3 C           -2.2090    -3.2015    -1.2007 C             1 Polymer \\n       4 C           -3.0860    -2.7730    -0.1899 C             1 Polymer \\n       5 C           -3.0457    -1.4572     0.2744 C             1 Polymer \\n       6 C           -2.1083    -0.5513    -0.2473 C             1 Polymer \\n       7 C           -1.9845     0.8289     0.3051 C             1 Polymer \\n       8 C           -0.7193     1.4701     0.5057 C             1 Polymer \\n       9 C           -0.7055     2.8206     0.9101 C             1 Polymer \\n      10 C           -1.8904     3.5224     1.1555 C             1 Polymer \\n      11 O           -1.8022     4.8200     1.5486 O             1 Polymer \\n      12 C           -2.8699     5.6546     1.8091 C             1 Polymer \\n      13 C           -3.1216     2.8657     1.0000 C             1 Polymer \\n      14 C           -3.1649     1.5391     0.5822 C             1 Polymer \\n      15 C            0.5927     0.7495     0.3553 C             1 Polymer \\n      16 C            1.7140     1.3948    -0.1943 C             1 Polymer \\n      17 C            2.9123     0.7000    -0.3847 C             1 Polymer \\n      18 C            3.0279    -0.6541    -0.0194 C             1 Polymer \\n      19 C            1.9312    -1.2890     0.5745 C             1 Polymer \\n      20 C            0.7345    -0.5963     0.7650 C             1 Polymer \\n      21 C            4.3185    -1.4096    -0.2780 C             1 Polymer \\n      22 N            5.4207    -0.7465     0.4113 N             1 Polymer \\n      23 C            4.5847    -1.4817    -1.7872 C             1 Polymer \\n      24 C           -1.2716    -0.9735    -1.3006 C             1 Polymer \\n      25 C           -1.3202    -2.2817    -1.7720 C             1 Polymer \\n      26 H           -3.7832    -3.4635     0.2673 H             1 Polymer \\n      27 H           -3.7086    -1.1682     1.0797 H             1 Polymer \\n      28 H            0.2340     3.3343     1.0707 H             1 Polymer \\n      29 H           -2.4873     6.6523     2.1059 H             1 Polymer \\n      30 H           -3.4826     5.2476     2.6417 H             1 Polymer \\n      31 H           -3.4952     5.7717     0.8980 H             1 Polymer \\n      32 H           -4.0570     3.3765     1.1846 H             1 Polymer \\n      33 H           -4.1343     1.0781     0.4383 H             1 Polymer \\n      34 H            1.6575     2.4257    -0.5172 H             1 Polymer \\n      35 H            3.7490     1.2163    -0.8367 H             1 Polymer \\n      36 H            1.9920    -2.3253     0.8820 H             1 Polymer \\n      37 H           -0.0853    -1.1249     1.2324 H             1 Polymer \\n      38 H            4.2466    -2.4654    -0.0061 H             1 Polymer \\n      39 H            6.1144    -0.2706    -0.1881 H             1 Polymer \\n      40 H            3.7445    -2.0084    -2.2910 H             1 Polymer \\n      41 H            4.7005    -0.4740    -2.2346 H             1 Polymer \\n      42 H            5.5147    -2.0621    -1.9716 H             1 Polymer \\n      43 H           -0.5596    -0.2937    -1.7507 H             1 Polymer \\n      44 H           -0.6352    -2.5792    -2.5568 H             1 Polymer \\n      45 C            5.5718    -0.5760     1.7655 C             1 Polymer \\n      46 O            4.9214     0.3191     2.2884 O             1 Polymer \\n      47 C            6.4599    -1.3824     2.6775 C             1 Polymer \\n      48 C            7.6546    -2.0079     2.2642 C             1 Polymer \\n      49 C            8.4694    -2.6877     3.1621 C             1 Polymer \\n      50 C            8.1453    -2.7351     4.5165 C             1 Polymer \\n      51 C            9.0870    -3.3760     5.4682 C             1 Polymer \\n      52 C            9.5052    -2.7467     6.6800 C             1 Polymer \\n      53 C           10.3437    -3.4696     7.5561 C             1 Polymer \\n      54 C           10.7970    -4.7577     7.2366 C             1 Polymer \\n      55 O           11.6337    -5.3869     8.1035 O             1 Polymer \\n      56 C           12.2023    -6.6303     7.9069 C             1 Polymer \\n      57 C           10.3957    -5.3461     6.0266 C             1 Polymer \\n      58 C            9.5543    -4.6624     5.1576 C             1 Polymer \\n      59 C            9.1419    -1.3255     7.0148 C             1 Polymer \\n      60 C            8.8828    -0.9325     8.3391 C             1 Polymer \\n      61 C            8.4968     0.3811     8.6280 C             1 Polymer \\n      62 C            8.3699     1.3385     7.6035 C             1 Polymer \\n      63 C            8.6755     0.9670     6.2914 C             1 Polymer \\n      64 C            9.0633    -0.3396     6.0037 C             1 Polymer \\n      65 C            7.9036     2.7470     7.9164 C             1 Polymer \\n      66 N            8.8243     3.3650     8.8629 N             1 Polymer \\n      67 C            6.4784     2.7106     8.4790 C             1 Polymer \\n      68 C            6.9608    -2.1171     4.9552 C             1 Polymer \\n      69 C            6.1320    -1.4505     4.0485 C             1 Polymer \\n      70 H            8.0401    -1.9500     1.2773 H             1 Polymer \\n      71 H            9.3940    -3.1248     2.8049 H             1 Polymer \\n      72 H           10.6915    -3.0192     8.4770 H             1 Polymer \\n      73 H           12.8574    -6.8732     8.7678 H             1 Polymer \\n      74 H           12.8219    -6.6277     6.9837 H             1 Polymer \\n      75 H           11.4121    -7.4074     7.8298 H             1 Polymer \\n      76 H           10.7244    -6.3377     5.7460 H             1 Polymer \\n      77 H            9.2449    -5.1534     4.2424 H             1 Polymer \\n      78 H            8.9401    -1.6460     9.1504 H             1 Polymer \\n      79 H            8.2779     0.6482     9.6536 H             1 Polymer \\n      80 H            8.6085     1.6832     5.4824 H             1 Polymer \\n      81 H            9.3034    -0.5680     4.9760 H             1 Polymer \\n      82 H            7.7809     3.3532     7.0170 H             1 Polymer \\n      83 H            8.4657     3.5139     9.8209 H             1 Polymer \\n      84 H            5.7941     2.2525     7.7321 H             1 Polymer \\n      85 H            6.4218     2.1331     9.4243 H             1 Polymer \\n      86 H            6.1306     3.7484     8.6735 H             1 Polymer \\n      87 H            6.6835    -2.1414     6.0024 H             1 Polymer \\n      88 H            5.2338    -0.9775     4.4271 H             1 Polymer \\n      89 C           10.1509     3.6531     8.6600 C             1 Polymer \\n      90 O           10.9423     2.7242     8.7406 O             1 Polymer \\n      91 C           10.7349     5.0072     8.3477 C             1 Polymer \\n      92 C           10.1756     6.2264     8.7866 C             1 Polymer \\n      93 C           10.7930     7.4455     8.5296 C             1 Polymer \\n      94 C           12.0155     7.4933     7.8620 C             1 Polymer \\n      95 C           12.7063     8.7980     7.7039 C             1 Polymer \\n      96 C           14.0802     8.9879     8.0452 C             1 Polymer \\n      97 C           14.6657    10.2479     7.7935 C             1 Polymer \\n      98 C           13.9174    11.3084     7.2624 C             1 Polymer \\n      99 O           14.5271    12.5100     7.0832 O             1 Polymer \\n     100 C           13.9103    13.6614     6.6338 C             1 Polymer \\n     101 C           12.5614    11.1069     6.9586 C             1 Polymer \\n     102 C           11.9681     9.8696     7.1780 C             1 Polymer \\n     103 C           14.8945     7.9215     8.7274 C             1 Polymer \\n     104 C           16.2609     7.7539     8.4430 C             1 Polymer \\n     105 C           16.9929     6.7268     9.0505 C             1 Polymer \\n     106 C           16.3813     5.8476     9.9650 C             1 Polymer \\n     107 C           15.0363     6.0403    10.2888 C             1 Polymer \\n     108 C           14.3086     7.0650     9.6883 C             1 Polymer \\n     109 C           17.1658     4.7061    10.5822 C             1 Polymer \\n     110 N           18.3037     5.2395    11.3227 N             1 Polymer \\n     111 C           17.6275     3.7396     9.4848 C             1 Polymer \\n     112 C           12.5958     6.2925     7.4172 C             1 Polymer \\n     113 C           11.9643     5.0689     7.6578 C             1 Polymer \\n     114 H            9.3031     6.2925     9.3886 H             1 Polymer \\n     115 H           10.3452     8.3531     8.9154 H             1 Polymer \\n     116 H           15.7004    10.4326     8.0536 H             1 Polymer \\n     117 H           14.6484    14.4886     6.6145 H             1 Polymer \\n     118 H           13.0825    13.9457     7.3196 H             1 Polymer \\n     119 H           13.5155    13.5119     5.6063 H             1 Polymer \\n     120 H           11.9525    11.9008     6.5474 H             1 Polymer \\n     121 H           10.9251     9.7406     6.9135 H             1 Polymer \\n     122 H           16.7596     8.3900     7.7238 H             1 Polymer \\n     123 H           18.0365     6.6056     8.7922 H             1 Polymer \\n     124 H           14.5396     5.3953    11.0025 H             1 Polymer \\n     125 H           13.2781     7.1786     9.9895 H             1 Polymer \\n     126 H           16.5425     4.0635    11.2080 H             1 Polymer \\n     127 H           19.2362     5.0692    10.9123 H             1 Polymer \\n     128 H           16.7415     3.3328     8.9489 H             1 Polymer \\n     129 H           18.2968     4.2347     8.7530 H             1 Polymer \\n     130 H           18.1713     2.8873     9.9466 H             1 Polymer \\n     131 H           13.5457     6.3021     6.8956 H             1 Polymer \\n     132 H           12.4501     4.1643     7.3118 H             1 Polymer \\n     133 C           18.2661     6.0489    12.4319 C             1 Polymer \\n     134 O           18.0336     7.2357    12.2453 O             1 Polymer \\n     135 C           18.4867     5.6249    13.8627 C             1 Polymer \\n     136 C           19.3049     4.5424    14.2504 C             1 Polymer \\n     137 C           19.5280     4.2400    15.5898 C             1 Polymer \\n     138 C           18.9767     5.0317    16.5963 C             1 Polymer \\n     139 C           19.3231     4.7556    18.0142 C             1 Polymer \\n     140 C           19.7554     5.7771    18.9147 C             1 Polymer \\n     141 C           19.9888     5.4278    20.2627 C             1 Polymer \\n     142 C           19.8440     4.1078    20.7115 C             1 Polymer \\n     143 O           20.1186     3.8302    22.0135 O             1 Polymer \\n     144 C           20.0650     2.5785    22.5945 C             1 Polymer \\n     145 C           19.4454     3.1141    19.8033 C             1 Polymer \\n     146 C           19.1910     3.4364    18.4753 C             1 Polymer \\n     147 C           20.0357     7.1851    18.4628 C             1 Polymer \\n     148 C           19.7584     8.2846    19.2940 C             1 Polymer \\n     149 C           19.9775     9.5905    18.8421 C             1 Polymer \\n     150 C           20.4878     9.8326    17.5526 C             1 Polymer \\n     151 C           20.8122     8.7427    16.7402 C             1 Polymer \\n     152 C           20.5994     7.4424    17.1915 C             1 Polymer \\n     153 C           20.6751    11.2510    17.0509 C             1 Polymer \\n     154 N           21.5963    11.9608    17.9304 N             1 Polymer \\n     155 C           19.3169    11.9620    16.9877 C             1 Polymer \\n     156 C           18.1574     6.1159    16.2361 C             1 Polymer \\n     157 C           17.9180     6.4077    14.8903 C             1 Polymer \\n     158 H           19.8489     3.9393    13.5665 H             1 Polymer \\n     159 H           20.1912     3.4209    15.8401 H             1 Polymer \\n     160 H           20.3304     6.1723    20.9705 H             1 Polymer \\n     161 H           20.3628     2.6568    23.6598 H             1 Polymer \\n     162 H           20.7691     1.8868    22.0828 H             1 Polymer \\n     163 H           19.0317     2.1739    22.5422 H             1 Polymer \\n     164 H           19.3234     2.0849    20.1131 H             1 Polymer \\n     165 H           18.8634     2.6504    17.8051 H             1 Polymer \\n     166 H           19.3366     8.1425    20.2800 H             1 Polymer \\n     167 H           19.7299    10.4173    19.4949 H             1 Polymer \\n     168 H           21.2242     8.8919    15.7504 H             1 Polymer \\n     169 H           20.8845     6.6384    16.5294 H             1 Polymer \\n     170 H           21.0030    11.2880    16.0099 H             1 Polymer \\n     171 H           21.1837    12.7016    18.5211 H             1 Polymer \\n     172 H           18.6397    11.4127    16.2968 H             1 Polymer \\n     173 H           18.8383    12.0287    17.9852 H             1 Polymer \\n     174 H           19.4550    12.9901    16.5888 H             1 Polymer \\n     175 H           17.7136     6.7459    16.9980 H             1 Polymer \\n     176 H           17.2922     7.2600    14.6545 H             1 Polymer \\n     177 C           22.9205    11.6754    18.1544 C             1 Polymer \\n     178 O           23.1673    10.7491    18.9155 O             1 Polymer \\n     179 C           24.1101    12.3904    17.5621 C             1 Polymer \\n     180 C           24.1061    13.7457    17.1688 C             1 Polymer \\n     181 C           25.2548    14.3713    16.6960 C             1 Polymer \\n     182 C           26.4643    13.6807    16.6342 C             1 Polymer \\n     183 C           27.6982    14.4047    16.2327 C             1 Polymer \\n     184 C           28.9185    14.3166    16.9705 C             1 Polymer \\n     185 C           30.0565    14.9841    16.4677 C             1 Polymer \\n     186 C           29.9942    15.7541    15.2976 C             1 Polymer \\n     187 O           31.1141    16.4060    14.8870 O             1 Polymer \\n     188 C           31.1963    17.2441    13.7921 C             1 Polymer \\n     189 C           28.7779    15.8494    14.6027 C             1 Polymer \\n     190 C           27.6492    15.1844    15.0665 C             1 Polymer \\n     191 C           29.0103    13.6027    18.2917 C             1 Polymer \\n     192 C           30.1655    12.8894    18.6562 C             1 Polymer \\n     193 C           30.2151    12.1873    19.8662 C             1 Polymer \\n     194 C           29.1166    12.1885    20.7474 C             1 Polymer \\n     195 C           27.9853    12.9378    20.4134 C             1 Polymer \\n     196 C           27.9370    13.6400    19.2115 C             1 Polymer \\n     197 C           29.1556    11.3827    22.0320 C             1 Polymer \\n     198 N           30.2644    11.8393    22.8633 N             1 Polymer \\n     199 C           29.2901     9.8908    21.7068 C             1 Polymer \\n     200 C           26.4943    12.3281    17.0171 C             1 Polymer \\n     201 C           25.3353    11.6950    17.4749 C             1 Polymer \\n     202 H           23.2663    14.3869    17.2661 H             1 Polymer \\n     203 H           25.2118    15.4228    16.4391 H             1 Polymer \\n     204 H           30.9939    14.9506    17.0084 H             1 Polymer \\n     205 H           32.2250    17.6515    13.7195 H             1 Polymer \\n     206 H           30.4891    18.0946    13.9058 H             1 Polymer \\n     207 H           30.9679    16.6844    12.8601 H             1 Polymer \\n     208 H           28.6915    16.4336    13.6964 H             1 Polymer \\n     209 H           26.7320    15.2610    14.4943 H             1 Polymer \\n     210 H           31.0183    12.8391    17.9921 H             1 Polymer \\n     211 H           31.1072    11.6243    20.1074 H             1 Polymer \\n     212 H           27.1303    12.9763    21.0762 H             1 Polymer \\n     213 H           27.0450    14.2148    19.0103 H             1 Polymer \\n     214 H           28.2071    11.4154    22.5720 H             1 Polymer \\n     215 H           31.0615    11.1908    22.9556 H             1 Polymer \\n     216 H           28.4232     9.5633    21.0914 H             1 Polymer \\n     217 H           30.2274     9.6703    21.1576 H             1 Polymer \\n     218 H           29.2827     9.3040    22.6507 H             1 Polymer \\n     219 H           27.4191    11.7653    16.9748 H             1 Polymer \\n     220 H           25.4048    10.6560    17.7740 H             1 Polymer \\n     221 C           30.4199    13.0805    23.4305 C             1 Polymer \\n     222 O           30.8078    13.9812    22.6977 O             1 Polymer \\n     223 C           30.1616    13.4492    24.8696 C             1 Polymer \\n     224 C           30.2914    12.5536    25.9527 C             1 Polymer \\n     225 C           30.0957    12.9640    27.2677 C             1 Polymer \\n     226 C           29.8072    14.2961    27.5575 C             1 Polymer \\n     227 C           29.7018    14.7335    28.9730 C             1 Polymer \\n     228 C           30.3940    15.8778    29.4661 C             1 Polymer \\n     229 C           30.1935    16.2682    30.8046 C             1 Polymer \\n     230 C           29.3687    15.5231    31.6603 C             1 Polymer \\n     231 O           29.2574    15.9120    32.9577 O             1 Polymer \\n     232 C           28.5608    15.2333    33.9385 C             1 Polymer \\n     233 C           28.7145    14.3822    31.1635 C             1 Polymer \\n     234 C           28.8801    13.9965    29.8377 C             1 Polymer \\n     235 C           31.4162    16.5971    28.6405 C             1 Polymer \\n     236 C           31.5473    17.9975    28.6541 C             1 Polymer \\n     237 C           32.5173    18.6257    27.8558 C             1 Polymer \\n     238 C           33.3912    17.8609    27.0583 C             1 Polymer \\n     239 C           33.2829    16.4678    27.0764 C             1 Polymer \\n     240 C           32.3126    15.8483    27.8507 C             1 Polymer \\n     241 C           34.4599    18.4992    26.1932 C             1 Polymer \\n     242 N           35.3369    19.3422    26.9891 N             1 Polymer \\n     243 C           33.8198    19.3001    25.0564 C             1 Polymer \\n     244 C           29.6840    15.2119    26.4982 C             1 Polymer \\n     245 C           29.8563    14.7937    25.1755 C             1 Polymer \\n     246 H           30.6022    11.5439    25.8482 H             1 Polymer \\n     247 H           30.2348    12.2483    28.0689 H             1 Polymer \\n     248 H           30.7259    17.1206    31.2086 H             1 Polymer \\n     249 H           28.6740    15.7670    34.9037 H             1 Polymer \\n     250 H           28.9687    14.2054    34.0566 H             1 Polymer \\n     251 H           27.4814    15.1842    33.6814 H             1 Polymer \\n     252 H           28.0729    13.7818    31.7941 H             1 Polymer \\n     253 H           28.3490    13.1228    29.4787 H             1 Polymer \\n     254 H           30.8862    18.6050    29.2585 H             1 Polymer \\n     255 H           32.5936    19.7055    27.8649 H             1 Polymer \\n     256 H           33.9510    15.8514    26.4874 H             1 Polymer \\n     257 H           32.2847    14.7679    27.8418 H             1 Polymer \\n     258 H           35.0802    17.7085    25.7141 H             1 Polymer \\n     259 H           35.4328    20.3413    26.7522 H             1 Polymer \\n     260 H           33.1864    18.6296    24.4353 H             1 Polymer \\n     261 H           33.1930    20.1266    25.4512 H             1 Polymer \\n     262 H           34.6120    19.7281    24.4055 H             1 Polymer \\n     263 H           29.4574    16.2529    26.6957 H             1 Polymer \\n     264 H           29.7570    15.5312    24.3880 H             1 Polymer \\n     265 C           -2.3836    -6.6925    -0.4232 C             1 Polymer \\n     266 O           -2.9127    -5.5129    -0.8944 O             1 Polymer \\n     267 H           -1.9302    -7.2880    -1.2425 H             1 Polymer \\n     268 H           -3.1828    -7.2797     0.0706 H             1 Polymer \\n     269 H           -1.6054    -6.4545     0.3364 H             1 Polymer \\n     270 C           35.0691    18.7626    31.5985 C             1 Polymer \\n     271 C           36.0376    18.3793    30.4669 C             1 Polymer \\n     272 C           37.4251    18.9735    30.7940 C             1 Polymer \\n     273 C           36.1150    16.8440    30.3769 C             1 Polymer \\n     274 O           35.5238    18.9074    29.2873 O             1 Polymer \\n     275 C           36.0661    18.8718    28.0420 C             1 Polymer \\n     276 O           37.1858    18.4159    27.8503 O             1 Polymer \\n     277 H           35.4166    18.3645    32.5751 H             1 Polymer \\n     278 H           34.9859    19.8684    31.6779 H             1 Polymer \\n     279 H           34.0527    18.3575    31.3930 H             1 Polymer \\n     280 H           37.3696    20.0820    30.8453 H             1 Polymer \\n     281 H           38.1839    18.6987    30.0339 H             1 Polymer \\n     282 H           37.7906    18.5937    31.7731 H             1 Polymer \\n     283 H           35.1102    16.4206    30.1571 H             1 Polymer \\n     284 H           36.8088    16.5245    29.5718 H             1 Polymer \\n     285 H           36.4773    16.4127    31.3351 H             1 Polymer \\n@<TRIPOS>BOND\\n       1        1        2 1\\n       2        1        3 1\\n       3        1      266 1\\n       4        3        4 1\\n       5        3       25 1\\n       6        4        5 1\\n       7        4       26 1\\n       8        5        6 1\\n       9        5       27 1\\n      10        6        7 1\\n      11        6       24 1\\n      12        7        8 1\\n      13        7       14 1\\n      14        8        9 1\\n      15        8       15 1\\n      16        9       10 1\\n      17        9       28 1\\n      18       10       11 1\\n      19       10       13 1\\n      20       11       12 1\\n      21       12       29 1\\n      22       12       30 1\\n      23       12       31 1\\n      24       13       14 1\\n      25       13       32 1\\n      26       14       33 1\\n      27       15       16 1\\n      28       15       20 1\\n      29       16       17 1\\n      30       16       34 1\\n      31       17       18 1\\n      32       17       35 1\\n      33       18       19 1\\n      34       18       21 1\\n      35       19       20 1\\n      36       19       36 1\\n      37       20       37 1\\n      38       21       22 1\\n      39       21       23 1\\n      40       21       38 1\\n      41       22       39 1\\n      42       22       45 1\\n      43       23       40 1\\n      44       23       41 1\\n      45       23       42 1\\n      46       24       25 1\\n      47       24       43 1\\n      48       25       44 1\\n      49       45       46 1\\n      50       45       47 1\\n      51       47       48 1\\n      52       47       69 1\\n      53       48       49 1\\n      54       48       70 1\\n      55       49       50 1\\n      56       49       71 1\\n      57       50       51 1\\n      58       50       68 1\\n      59       51       52 1\\n      60       51       58 1\\n      61       52       53 1\\n      62       52       59 1\\n      63       53       54 1\\n      64       53       72 1\\n      65       54       55 1\\n      66       54       57 1\\n      67       55       56 1\\n      68       56       73 1\\n      69       56       74 1\\n      70       56       75 1\\n      71       57       58 1\\n      72       57       76 1\\n      73       58       77 1\\n      74       59       60 1\\n      75       59       64 1\\n      76       60       61 1\\n      77       60       78 1\\n      78       61       62 1\\n      79       61       79 1\\n      80       62       63 1\\n      81       62       65 1\\n      82       63       64 1\\n      83       63       80 1\\n      84       64       81 1\\n      85       65       66 1\\n      86       65       67 1\\n      87       65       82 1\\n      88       66       83 1\\n      89       66       89 1\\n      90       67       84 1\\n      91       67       85 1\\n      92       67       86 1\\n      93       68       69 1\\n      94       68       87 1\\n      95       69       88 1\\n      96       89       90 1\\n      97       89       91 1\\n      98       91       92 1\\n      99       91      113 1\\n     100       92       93 1\\n     101       92      114 1\\n     102       93       94 1\\n     103       93      115 1\\n     104       94       95 1\\n     105       94      112 1\\n     106       95       96 1\\n     107       95      102 1\\n     108       96       97 1\\n     109       96      103 1\\n     110       97       98 1\\n     111       97      116 1\\n     112       98       99 1\\n     113       98      101 1\\n     114       99      100 1\\n     115      100      117 1\\n     116      100      118 1\\n     117      100      119 1\\n     118      101      102 1\\n     119      101      120 1\\n     120      102      121 1\\n     121      103      104 1\\n     122      103      108 1\\n     123      104      105 1\\n     124      104      122 1\\n     125      105      106 1\\n     126      105      123 1\\n     127      106      107 1\\n     128      106      109 1\\n     129      107      108 1\\n     130      107      124 1\\n     131      108      125 1\\n     132      109      110 1\\n     133      109      111 1\\n     134      109      126 1\\n     135      110      127 1\\n     136      110      133 1\\n     137      111      128 1\\n     138      111      129 1\\n     139      111      130 1\\n     140      112      113 1\\n     141      112      131 1\\n     142      113      132 1\\n     143      133      134 1\\n     144      133      135 1\\n     145      135      136 1\\n     146      135      157 1\\n     147      136      137 1\\n     148      136      158 1\\n     149      137      138 1\\n     150      137      159 1\\n     151      138      139 1\\n     152      138      156 1\\n     153      139      140 1\\n     154      139      146 1\\n     155      140      141 1\\n     156      140      147 1\\n     157      141      142 1\\n     158      141      160 1\\n     159      142      143 1\\n     160      142      145 1\\n     161      143      144 1\\n     162      144      161 1\\n     163      144      162 1\\n     164      144      163 1\\n     165      145      146 1\\n     166      145      164 1\\n     167      146      165 1\\n     168      147      148 1\\n     169      147      152 1\\n     170      148      149 1\\n     171      148      166 1\\n     172      149      150 1\\n     173      149      167 1\\n     174      150      151 1\\n     175      150      153 1\\n     176      151      152 1\\n     177      151      168 1\\n     178      152      169 1\\n     179      153      154 1\\n     180      153      155 1\\n     181      153      170 1\\n     182      154      171 1\\n     183      154      177 1\\n     184      155      172 1\\n     185      155      173 1\\n     186      155      174 1\\n     187      156      157 1\\n     188      156      175 1\\n     189      157      176 1\\n     190      177      178 1\\n     191      177      179 1\\n     192      179      180 1\\n     193      179      201 1\\n     194      180      181 1\\n     195      180      202 1\\n     196      181      182 1\\n     197      181      203 1\\n     198      182      183 1\\n     199      182      200 1\\n     200      183      184 1\\n     201      183      190 1\\n     202      184      185 1\\n     203      184      191 1\\n     204      185      186 1\\n     205      185      204 1\\n     206      186      187 1\\n     207      186      189 1\\n     208      187      188 1\\n     209      188      205 1\\n     210      188      206 1\\n     211      188      207 1\\n     212      189      190 1\\n     213      189      208 1\\n     214      190      209 1\\n     215      191      192 1\\n     216      191      196 1\\n     217      192      193 1\\n     218      192      210 1\\n     219      193      194 1\\n     220      193      211 1\\n     221      194      195 1\\n     222      194      197 1\\n     223      195      196 1\\n     224      195      212 1\\n     225      196      213 1\\n     226      197      198 1\\n     227      197      199 1\\n     228      197      214 1\\n     229      198      215 1\\n     230      198      221 1\\n     231      199      216 1\\n     232      199      217 1\\n     233      199      218 1\\n     234      200      201 1\\n     235      200      219 1\\n     236      201      220 1\\n     237      221      222 1\\n     238      221      223 1\\n     239      223      224 1\\n     240      223      245 1\\n     241      224      225 1\\n     242      224      246 1\\n     243      225      226 1\\n     244      225      247 1\\n     245      226      227 1\\n     246      226      244 1\\n     247      227      228 1\\n     248      227      234 1\\n     249      228      229 1\\n     250      228      235 1\\n     251      229      230 1\\n     252      229      248 1\\n     253      230      231 1\\n     254      230      233 1\\n     255      231      232 1\\n     256      232      249 1\\n     257      232      250 1\\n     258      232      251 1\\n     259      233      234 1\\n     260      233      252 1\\n     261      234      253 1\\n     262      235      236 1\\n     263      235      240 1\\n     264      236      237 1\\n     265      236      254 1\\n     266      237      238 1\\n     267      237      255 1\\n     268      238      239 1\\n     269      238      241 1\\n     270      239      240 1\\n     271      239      256 1\\n     272      240      257 1\\n     273      241      242 1\\n     274      241      243 1\\n     275      241      258 1\\n     276      242      259 1\\n     277      242      275 1\\n     278      243      260 1\\n     279      243      261 1\\n     280      243      262 1\\n     281      244      245 1\\n     282      244      263 1\\n     283      245      264 1\\n     284      265      266 1\\n     285      265      267 1\\n     286      265      268 1\\n     287      265      269 1\\n     288      270      271 1\\n     289      270      277 1\\n     290      270      278 1\\n     291      270      279 1\\n     292      271      272 1\\n     293      271      273 1\\n     294      271      274 1\\n     295      272      280 1\\n     296      272      281 1\\n     297      272      282 1\\n     298      273      283 1\\n     299      273      284 1\\n     300      273      285 1\\n     301      274      275 1\\n     302      275      276 1\\n@<TRIPOS>SUBSTRUCTURE\\n       1 Polymer         1 RESIDUE    0 **** ROOT      0\\n\",\"mol2\");\n",
       "\tviewer_1692039111416102.setStyle({\"stick\": {\"radius\": 0.2, \"color\": \"grey\"}, \"sphere\": {\"scale\": 0.3, \"colorscheme\": {}}});\n",
       "\tviewer_1692039111416102.zoomTo();\n",
       "viewer_1692039111416102.render();\n",
       "});\n",
       "</script>"
      ]
     },
     "metadata": {},
     "output_type": "display_data"
    },
    {
     "data": {
      "text/plain": [
       "<py3Dmol.view at 0x7fde48ea8310>"
      ]
     },
     "execution_count": 11,
     "metadata": {},
     "output_type": "execute_result"
    }
   ],
   "source": [
    "chain.visualize(show_ports=True)"
   ]
  },
  {
   "cell_type": "markdown",
   "id": "438faabc",
   "metadata": {},
   "source": [
    "Next we add specific residue labels for the componenets of the `Polymer` object. Here we label the monomers as HEX and the capping moieties as CAP."
   ]
  },
  {
   "cell_type": "code",
   "execution_count": 12,
   "id": "106fb8a7",
   "metadata": {},
   "outputs": [
    {
     "name": "stdout",
     "output_type": "stream",
     "text": [
      "OrderedDict([('monomer', [<Compound 44 particles, 46 bonds, non-periodic, id: 140593038583616>, <Compound 44 particles, 46 bonds, non-periodic, id: 140593038573968>, <Compound 44 particles, 46 bonds, non-periodic, id: 140593038669040>, <Compound 44 particles, 46 bonds, non-periodic, id: 140593038945408>, <Compound 44 particles, 46 bonds, non-periodic, id: 140593039140432>, <Compound 44 particles, 46 bonds, non-periodic, id: 140593039355344>]), ('monomer[0]', <Compound 44 particles, 46 bonds, non-periodic, id: 140593038583616>), ('monomer[1]', <Compound 44 particles, 46 bonds, non-periodic, id: 140593038573968>), ('monomer[2]', <Compound 44 particles, 46 bonds, non-periodic, id: 140593038669040>), ('monomer[3]', <Compound 44 particles, 46 bonds, non-periodic, id: 140593038945408>), ('monomer[4]', <Compound 44 particles, 46 bonds, non-periodic, id: 140593039140432>), ('monomer[5]', <Compound 44 particles, 46 bonds, non-periodic, id: 140593039355344>), ('Compound', [<Compound 5 particles, 4 bonds, non-periodic, id: 140593078555008>, <Compound 16 particles, 15 bonds, non-periodic, id: 140593078566528>]), ('Compound[0]', <Compound 5 particles, 4 bonds, non-periodic, id: 140593078555008>), ('Compound[1]', <Compound 16 particles, 15 bonds, non-periodic, id: 140593078566528>)])\n",
      "<HEX 44 particles, 46 bonds, non-periodic, id: 140593038583616>\n",
      "<HEX 44 particles, 46 bonds, non-periodic, id: 140593038573968>\n",
      "<HEX 44 particles, 46 bonds, non-periodic, id: 140593038669040>\n",
      "<HEX 44 particles, 46 bonds, non-periodic, id: 140593038945408>\n",
      "<HEX 44 particles, 46 bonds, non-periodic, id: 140593039140432>\n",
      "<HEX 44 particles, 46 bonds, non-periodic, id: 140593039355344>\n",
      "<CAP 5 particles, 4 bonds, non-periodic, id: 140593078555008>\n",
      "<CAP 16 particles, 15 bonds, non-periodic, id: 140593078566528>\n"
     ]
    }
   ],
   "source": [
    "print(chain.labels)\n",
    "for label in chain.labels[\"monomer\"]:\n",
    "    label.name = \"HEX\"\n",
    "    print(label)\n",
    "for label in chain.labels[\"Compound\"]:\n",
    "    label.name = \"CAP\"\n",
    "    print(label)"
   ]
  },
  {
   "cell_type": "markdown",
   "id": "a6e0bc38",
   "metadata": {},
   "source": [
    "We save these as a pdb file and provide the names of the residues to include in the file."
   ]
  },
  {
   "cell_type": "code",
   "execution_count": 13,
   "id": "eaa3f061",
   "metadata": {
    "scrolled": true
   },
   "outputs": [],
   "source": [
    "chain.save(\"pop_hexamer_mbuild.pdb\", overwrite=True, residues=[\"HEX\", \"CAP\"])"
   ]
  },
  {
   "cell_type": "markdown",
   "id": "0b405a5a",
   "metadata": {},
   "source": [
    "Using Gromacs I generate a new gro file with the correct residue labels. `mbuild` doesn't seem to label residues correctly when writing `.gro` files."
   ]
  },
  {
   "cell_type": "code",
   "execution_count": 14,
   "id": "a6c16565",
   "metadata": {},
   "outputs": [
    {
     "name": "stdout",
     "output_type": "stream",
     "text": [
      "                     :-) GROMACS - gmx editconf, 2022.4 (-:\n",
      "\n",
      "Executable:   /usr/local/bin/gmx\n",
      "Data prefix:  /usr/local\n",
      "Working dir:  /home/tfobe/Research/terphenyl_simulations/examples/build_polymer/pop\n",
      "Command line:\n",
      "  gmx editconf -f pop_hexamer_mbuild.pdb -o pop_hexamer_mbuild.gro\n",
      "\n",
      "Note that major changes are planned in future for editconf, to improve usability and utility.\n",
      "WARNING: all CONECT records are ignored\n",
      "Read 285 atoms\n",
      "Volume: 65.7967 nm^3, corresponds to roughly 29600 electrons\n",
      "No velocities found\n",
      "\n",
      "Back Off! I just backed up pop_hexamer_mbuild.gro to ./#pop_hexamer_mbuild.gro.4#\n",
      "\n",
      "GROMACS reminds you: \"Pain is inevitable. Suffering is optional.\" (Haruki Murakami)\n",
      "\n"
     ]
    }
   ],
   "source": [
    "! gmx editconf -f pop_hexamer_mbuild.pdb -o pop_hexamer_mbuild.gro"
   ]
  },
  {
   "cell_type": "markdown",
   "id": "527e9edb",
   "metadata": {},
   "source": [
    "Lastly, I use openBabel to generate a `.mol` file for use in the OpenFF parameter assignment workflow."
   ]
  },
  {
   "cell_type": "code",
   "execution_count": 15,
   "id": "07362221",
   "metadata": {},
   "outputs": [
    {
     "name": "stdout",
     "output_type": "stream",
     "text": [
      "==============================\r\n",
      "*** Open Babel Error  in ReadMolecule\r\n",
      "  ERROR: not a valid PDB file\r\n",
      "\r\n",
      "1 molecule converted\r\n"
     ]
    }
   ],
   "source": [
    "! obabel -ipdb pop_hexamer_mbuild.pdb -omol pop_hexamer_mbuild.mol -O pop_hexamer_mbuild.mol"
   ]
  },
  {
   "cell_type": "markdown",
   "id": "6725027a",
   "metadata": {},
   "source": [
    "# Building arbitrary n-mers of POP monomer\n",
    "\n",
    "Now we put it all together to generate a tetramer, hexamer and octamer PMP terphenyl foldamer:"
   ]
  },
  {
   "cell_type": "code",
   "execution_count": 16,
   "id": "1f14cd02",
   "metadata": {
    "scrolled": true
   },
   "outputs": [
    {
     "name": "stdout",
     "output_type": "stream",
     "text": [
      "<TET 44 particles, 46 bonds, non-periodic, id: 140592682095696>\n",
      "<TET 44 particles, 46 bonds, non-periodic, id: 140592682097568>\n",
      "<TET 44 particles, 46 bonds, non-periodic, id: 140592682380128>\n",
      "<TET 44 particles, 46 bonds, non-periodic, id: 140592682527152>\n",
      "<CAP 5 particles, 4 bonds, non-periodic, id: 140592681952944>\n",
      "<CAP 16 particles, 15 bonds, non-periodic, id: 140592681959136>\n",
      "Note that major changes are planned in future for editconf, to improve usability and utility.\n",
      "Read 197 atoms\n",
      "Volume: 17.6158 nm^3, corresponds to roughly 7900 electrons\n",
      "No velocities found\n"
     ]
    },
    {
     "name": "stderr",
     "output_type": "stream",
     "text": [
      "                     :-) GROMACS - gmx editconf, 2022.4 (-:\n",
      "\n",
      "Executable:   /usr/local/bin/gmx\n",
      "Data prefix:  /usr/local\n",
      "Working dir:  /home/tfobe/Research/terphenyl_simulations/examples/build_polymer/pop\n",
      "Command line:\n",
      "  gmx editconf -f pop_tetramer_mbuild.pdb -o pop_tetramer_mbuild.gro\n",
      "\n",
      "WARNING: all CONECT records are ignored\n",
      "\n",
      "Back Off! I just backed up pop_tetramer_mbuild.gro to ./#pop_tetramer_mbuild.gro.3#\n",
      "\n",
      "GROMACS reminds you: \"Nobody Never Learnt No-Nothing from No History\" (Gogol Bordello)\n",
      "\n",
      "==============================\n",
      "*** Open Babel Error  in ReadMolecule\n",
      "  ERROR: not a valid PDB file\n",
      "\n",
      "1 molecule converted\n",
      "Warning: importing 'simtk.openmm' is deprecated.  Import 'openmm' instead.\n"
     ]
    },
    {
     "name": "stdout",
     "output_type": "stream",
     "text": [
      "<HEX 44 particles, 46 bonds, non-periodic, id: 140593762005008>\n",
      "<HEX 44 particles, 46 bonds, non-periodic, id: 140593762003280>\n",
      "<HEX 44 particles, 46 bonds, non-periodic, id: 140593760534192>\n",
      "<HEX 44 particles, 46 bonds, non-periodic, id: 140593760626928>\n",
      "<HEX 44 particles, 46 bonds, non-periodic, id: 140593760727872>\n",
      "<HEX 44 particles, 46 bonds, non-periodic, id: 140593760874128>\n",
      "<CAP 5 particles, 4 bonds, non-periodic, id: 140593760387136>\n",
      "<CAP 16 particles, 15 bonds, non-periodic, id: 140593762306368>\n",
      "Note that major changes are planned in future for editconf, to improve usability and utility.\n",
      "Read 285 atoms\n",
      "Volume: 40.5641 nm^3, corresponds to roughly 18200 electrons\n",
      "No velocities found\n"
     ]
    },
    {
     "name": "stderr",
     "output_type": "stream",
     "text": [
      "                     :-) GROMACS - gmx editconf, 2022.4 (-:\n",
      "\n",
      "Executable:   /usr/local/bin/gmx\n",
      "Data prefix:  /usr/local\n",
      "Working dir:  /home/tfobe/Research/terphenyl_simulations/examples/build_polymer/pop\n",
      "Command line:\n",
      "  gmx editconf -f pop_hexamer_mbuild.pdb -o pop_hexamer_mbuild.gro\n",
      "\n",
      "WARNING: all CONECT records are ignored\n",
      "\n",
      "Back Off! I just backed up pop_hexamer_mbuild.gro to ./#pop_hexamer_mbuild.gro.5#\n",
      "\n",
      "GROMACS reminds you: \"I can't go to a restaurant and order food because I keep looking at the fonts on the menu. Five minutes later I realize that it's also talking about food.\" (Donald Knuth)\n",
      "\n",
      "==============================\n",
      "*** Open Babel Error  in ReadMolecule\n",
      "  ERROR: not a valid PDB file\n",
      "\n",
      "1 molecule converted\n",
      "Warning: importing 'simtk.openmm' is deprecated.  Import 'openmm' instead.\n"
     ]
    },
    {
     "name": "stdout",
     "output_type": "stream",
     "text": [
      "<OCT 44 particles, 46 bonds, non-periodic, id: 140593759486880>\n",
      "<OCT 44 particles, 46 bonds, non-periodic, id: 140593759499024>\n",
      "<OCT 44 particles, 46 bonds, non-periodic, id: 140593759698416>\n",
      "<OCT 44 particles, 46 bonds, non-periodic, id: 140593759844672>\n",
      "<OCT 44 particles, 46 bonds, non-periodic, id: 140593760025808>\n",
      "<OCT 44 particles, 46 bonds, non-periodic, id: 140593760184320>\n",
      "<OCT 44 particles, 46 bonds, non-periodic, id: 140593758354208>\n",
      "<OCT 44 particles, 46 bonds, non-periodic, id: 140593758468896>\n",
      "<CAP 5 particles, 4 bonds, non-periodic, id: 140593759354496>\n",
      "<CAP 16 particles, 15 bonds, non-periodic, id: 140593759491728>\n",
      "Note that major changes are planned in future for editconf, to improve usability and utility.\n",
      "Read 373 atoms\n",
      "Volume: 63.1806 nm^3, corresponds to roughly 28400 electrons\n",
      "No velocities found\n"
     ]
    },
    {
     "name": "stderr",
     "output_type": "stream",
     "text": [
      "                     :-) GROMACS - gmx editconf, 2022.4 (-:\n",
      "\n",
      "Executable:   /usr/local/bin/gmx\n",
      "Data prefix:  /usr/local\n",
      "Working dir:  /home/tfobe/Research/terphenyl_simulations/examples/build_polymer/pop\n",
      "Command line:\n",
      "  gmx editconf -f pop_octamer_mbuild.pdb -o pop_octamer_mbuild.gro\n",
      "\n",
      "WARNING: all CONECT records are ignored\n",
      "\n",
      "Back Off! I just backed up pop_octamer_mbuild.gro to ./#pop_octamer_mbuild.gro.2#\n",
      "\n",
      "GROMACS reminds you: \"Put Me Inside SSC, Let's Test Superstring Theory, Oh Yoi Yoi Accelerate the Protons\" (Gogol Bordello)\n",
      "\n",
      "==============================\n",
      "*** Open Babel Error  in ReadMolecule\n",
      "  ERROR: not a valid PDB file\n",
      "\n",
      "1 molecule converted\n",
      "Warning: importing 'simtk.openmm' is deprecated.  Import 'openmm' instead.\n"
     ]
    },
    {
     "name": "stdout",
     "output_type": "stream",
     "text": [
      "<DEC 44 particles, 46 bonds, non-periodic, id: 140593756625632>\n",
      "<DEC 44 particles, 46 bonds, non-periodic, id: 140593756634560>\n",
      "<DEC 44 particles, 46 bonds, non-periodic, id: 140593756846832>\n",
      "<DEC 44 particles, 46 bonds, non-periodic, id: 140593756988912>\n",
      "<DEC 44 particles, 46 bonds, non-periodic, id: 140593757159328>\n",
      "<DEC 44 particles, 46 bonds, non-periodic, id: 140593755254848>\n",
      "<DEC 44 particles, 46 bonds, non-periodic, id: 140593755455344>\n",
      "<DEC 44 particles, 46 bonds, non-periodic, id: 140593757155344>\n",
      "<DEC 44 particles, 46 bonds, non-periodic, id: 140593755580752>\n",
      "<DEC 44 particles, 46 bonds, non-periodic, id: 140593755324176>\n",
      "<CAP 5 particles, 4 bonds, non-periodic, id: 140593756621072>\n",
      "<CAP 16 particles, 15 bonds, non-periodic, id: 140593756627264>\n"
     ]
    },
    {
     "name": "stderr",
     "output_type": "stream",
     "text": [
      "                     :-) GROMACS - gmx editconf, 2022.4 (-:\n",
      "\n",
      "Executable:   /usr/local/bin/gmx\n",
      "Data prefix:  /usr/local\n",
      "Working dir:  /home/tfobe/Research/terphenyl_simulations/examples/build_polymer/pop\n",
      "Command line:\n",
      "  gmx editconf -f pop_decamer_mbuild.pdb -o pop_decamer_mbuild.gro\n",
      "\n",
      "WARNING: all CONECT records are ignored\n",
      "\n",
      "Back Off! I just backed up pop_decamer_mbuild.gro to ./#pop_decamer_mbuild.gro.2#\n",
      "\n",
      "GROMACS reminds you: \"There's Nothing We Can't Fix, 'coz We Can Do It in the Mix\" (Indeep)\n",
      "\n"
     ]
    },
    {
     "name": "stdout",
     "output_type": "stream",
     "text": [
      "Note that major changes are planned in future for editconf, to improve usability and utility.\n",
      "Read 461 atoms\n",
      "Volume: 101.105 nm^3, corresponds to roughly 45400 electrons\n",
      "No velocities found\n"
     ]
    },
    {
     "name": "stderr",
     "output_type": "stream",
     "text": [
      "==============================\n",
      "*** Open Babel Error  in ReadMolecule\n",
      "  ERROR: not a valid PDB file\n",
      "\n",
      "1 molecule converted\n",
      "Warning: importing 'simtk.openmm' is deprecated.  Import 'openmm' instead.\n"
     ]
    }
   ],
   "source": [
    "n_residues = [4,6,8,10]\n",
    "residue_labels = [\"TET\", \"HEX\", \"OCT\", \"DEC\"]\n",
    "file_names = [\"pop_tetramer_mbuild\", \"pop_hexamer_mbuild\", \"pop_octamer_mbuild\", \"pop_decamer_mbuild\"]\n",
    "for i in range(len(n_residues)):\n",
    "    # Generate polymer\n",
    "    chain = Polymer()\n",
    "    chain.add_monomer(compound=comp,\n",
    "                      indices=[cterm_connect - 1, nterm_connect - 1],\n",
    "                      separation=.15,\n",
    "                      replace=True,\n",
    "                      # orientation = [[0,-1,0],[1,0,0]]\n",
    "                     )\n",
    "    chain.add_end_groups(compound = cap_o,\n",
    "                         index = -1,\n",
    "                         separation=0.15,\n",
    "                         label=\"head\",\n",
    "                         duplicate = False\n",
    "                        )\n",
    "\n",
    "    chain.add_end_groups(compound = cap_n,\n",
    "                         index = -1,\n",
    "                         separation=0.15,\n",
    "                         label=\"tail\",\n",
    "                         duplicate = False\n",
    "                        )\n",
    "\n",
    "    chain.build(n=n_residues[i], sequence='A')\n",
    "    chain.energy_minimize()\n",
    "\n",
    "    # Rotate peptide bond\n",
    "    #for bond in chain.bonds():\n",
    "    #    if bond[0].name == \"N\":\n",
    "    #        if bond[1].n_direct_bonds == 3:\n",
    "    #            print(\"Rotating bond:\", bond, \"by\", np.pi/2)\n",
    "    #            chain.rotate_dihedral(bond, np.pi/2)\n",
    "\n",
    "    #    if bond[1].name == \"N\":\n",
    "    #        if bond[0].n_direct_bonds == 3:\n",
    "    #            print(\"Rotating bond:\", bond, \"by\", np.pi/2)\n",
    "    #            chain.rotate_dihedral(bond, np.pi/2)  \n",
    "\n",
    "\n",
    "    # Relabel chains\n",
    "    for label in chain.labels[\"monomer\"]:\n",
    "        label.name = residue_labels[i]\n",
    "        print(label)\n",
    "    for label in chain.labels[\"Compound\"]:\n",
    "        label.name = \"CAP\"\n",
    "        print(label)\n",
    "            \n",
    "            \n",
    "    chain.save(file_names[i] + \".pdb\", overwrite=True, residues=[residue_labels[i], \"CAP\"])\n",
    "    \n",
    "    subprocess.run([\"gmx\", \"editconf\", \"-f\", file_names[i] + \".pdb\", \"-o\", file_names[i]+ \".gro\"])\n",
    "    subprocess.run([\"obabel\", \"-ipdb\", file_names[i] + \".pdb\", \"-omol\", file_names[i] + \".mol\",  \"-O\", file_names[i] + \".mol\"])\n",
    "    subprocess.run([\"renumber_pdb_atoms\", \"-f\", file_names[i] + \".pdb\", \"-o\", file_names[i] + \"_renum.pdb\"])"
   ]
  },
  {
   "cell_type": "code",
   "execution_count": null,
   "id": "db526c12",
   "metadata": {},
   "outputs": [],
   "source": []
  }
 ],
 "metadata": {
  "kernelspec": {
   "display_name": "Python 3 (ipykernel)",
   "language": "python",
   "name": "python3"
  },
  "language_info": {
   "codemirror_mode": {
    "name": "ipython",
    "version": 3
   },
   "file_extension": ".py",
   "mimetype": "text/x-python",
   "name": "python",
   "nbconvert_exporter": "python",
   "pygments_lexer": "ipython3",
   "version": "3.10.10"
  }
 },
 "nbformat": 4,
 "nbformat_minor": 5
}
