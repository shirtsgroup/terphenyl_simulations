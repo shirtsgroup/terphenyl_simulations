{
 "cells": [
  {
   "cell_type": "markdown",
   "id": "fc04dc5f",
   "metadata": {},
   "source": [
    "# Building POM-Terphenyl Polymers using mbuild\n",
    "\n",
    "Here we use `mbuild` to read in a SMILES string of a terphenyl monomer and build an n-residue polymer from the monomer."
   ]
  },
  {
   "cell_type": "code",
   "execution_count": 1,
   "id": "8d8dc4a9",
   "metadata": {},
   "outputs": [
    {
     "name": "stderr",
     "output_type": "stream",
     "text": [
      "Warning: importing 'simtk.openmm' is deprecated.  Import 'openmm' instead.\n"
     ]
    }
   ],
   "source": [
    "import mbuild as mb\n",
    "import numpy as np\n",
    "from mbuild.lib.recipes.polymer import Polymer\n",
    "import subprocess\n",
    "import warnings\n",
    "\n",
    "warnings.filterwarnings('ignore')"
   ]
  },
  {
   "cell_type": "markdown",
   "id": "c054b3df",
   "metadata": {},
   "source": [
    "First we get the POM-terphenyl monomer from a smiles string."
   ]
  },
  {
   "cell_type": "code",
   "execution_count": 2,
   "id": "de5966db",
   "metadata": {},
   "outputs": [],
   "source": [
    "comp = mb.load('COc3ccc(c1cccc(C=O)c1)c(c2ccc([C@@H](C)N)cc2)c3', smiles = True, name=\"POM\")"
   ]
  },
  {
   "cell_type": "markdown",
   "id": "d77b3b26",
   "metadata": {},
   "source": [
    "I output all the indexes of hydrogen atoms because we will uses these indexes for extending the polymer later on."
   ]
  },
  {
   "cell_type": "code",
   "execution_count": 3,
   "id": "97ca2c2a",
   "metadata": {},
   "outputs": [
    {
     "name": "stdout",
     "output_type": "stream",
     "text": [
      "25 <H pos=([-0.2619 -0.6738 -0.1057]), 1 bonds, id: 139994968239424>\n",
      "26 <H pos=([-0.3272 -0.5848  0.0369]), 1 bonds, id: 139994968239472>\n",
      "27 <H pos=([-0.3757 -0.5363 -0.1318]), 1 bonds, id: 139994968241344>\n",
      "28 <H pos=([-0.3936 -0.3462  0.0261]), 1 bonds, id: 139994968241488>\n",
      "29 <H pos=([-0.3904 -0.1125  0.0952]), 1 bonds, id: 139994968425760>\n",
      "30 <H pos=([-0.0188  0.0341  0.2297]), 1 bonds, id: 139994968425088>\n",
      "31 <H pos=([-0.0211  0.2676  0.3082]), 1 bonds, id: 139994968426576>\n",
      "32 <H pos=([-0.1868  0.4276  0.2205]), 1 bonds, id: 139994968240672>\n",
      "33 <H pos=([-0.3797  0.483   0.0736]), 1 bonds, id: 139994968241536>\n",
      "34 <H pos=([-0.3514  0.1181 -0.0307]), 1 bonds, id: 139994968233136>\n",
      "35 <H pos=([ 0.1831 -0.1982  0.0834]), 1 bonds, id: 139994968243504>\n",
      "36 <H pos=([ 0.3893 -0.0704  0.0507]), 1 bonds, id: 139994968243696>\n",
      "37 <H pos=([ 0.4012  0.2527 -0.1548]), 1 bonds, id: 139994968424848>\n",
      "38 <H pos=([0.5627 0.2867 0.0274]), 1 bonds, id: 139994968426000>\n",
      "39 <H pos=([0.5016 0.1413 0.115 ]), 1 bonds, id: 139994968242928>\n",
      "40 <H pos=([0.3945 0.285  0.0919]), 1 bonds, id: 139994968243360>\n",
      "41 <H pos=([ 0.6052  0.1474 -0.1818]), 1 bonds, id: 139994968239904>\n",
      "42 <H pos=([ 0.5648  0.0149 -0.0866]), 1 bonds, id: 139994968425376>\n",
      "43 <H pos=([ 0.1716  0.2201 -0.1833]), 1 bonds, id: 139994968426768>\n",
      "44 <H pos=([-0.034   0.091  -0.1514]), 1 bonds, id: 139994968428160>\n",
      "45 <H pos=([ 0.0202 -0.3217 -0.0879]), 1 bonds, id: 139994968428592>\n"
     ]
    }
   ],
   "source": [
    "for i, atom in enumerate(comp):\n",
    "    if atom.name == \"H\":\n",
    "        print(i, atom)"
   ]
  },
  {
   "cell_type": "markdown",
   "id": "49431c09",
   "metadata": {},
   "source": [
    "`mbuild` comes with a nice tool to visualize Compounds built into jupyter-notebooks. Using the object from `py3Dmol` we can coloro the atoms to identify the indices needed to make substiutions when building the polymer."
   ]
  },
  {
   "cell_type": "code",
   "execution_count": 4,
   "id": "c147e44b",
   "metadata": {
    "scrolled": false
   },
   "outputs": [],
   "source": [
    "view = comp.visualize(show_ports=True)\n",
    "style = {\n",
    "                \"stick\": {\"radius\": 0.2, \"color\": \"grey\"},\n",
    "                \"sphere\": {\"scale\": 0.3, \"color\" : \"black\"},\n",
    "    }\n",
    "view.setStyle({'model': -1, 'serial':43},style)\n",
    "view.setStyle({'model': -1, 'serial':34},style)\n",
    "\n",
    "cterm_connect = 34\n",
    "nterm_connect = 43"
   ]
  },
  {
   "cell_type": "markdown",
   "id": "82da58e8",
   "metadata": {},
   "source": [
    "We also make the two capping compounds using SMILES strings:"
   ]
  },
  {
   "cell_type": "code",
   "execution_count": 5,
   "id": "48b31918",
   "metadata": {
    "scrolled": false
   },
   "outputs": [
    {
     "data": {
      "application/3dmoljs_load.v0": "<div id=\"3dmolviewer_1691594632023459\"  style=\"position: relative; width: 640px; height: 480px\">\n        <p id=\"3dmolwarning_1691594632023459\" style=\"background-color:#ffcccc;color:black\">You appear to be running in JupyterLab (or JavaScript failed to load for some other reason).  You need to install the 3dmol extension: <br>\n        <tt>jupyter labextension install jupyterlab_3dmol</tt></p>\n        </div>\n<script>\n\nvar loadScriptAsync = function(uri){\n  return new Promise((resolve, reject) => {\n    //this is to ignore the existence of requirejs amd\n    var savedexports, savedmodule;\n    if (typeof exports !== 'undefined') savedexports = exports;\n    else exports = {}\n    if (typeof module !== 'undefined') savedmodule = module;\n    else module = {}\n\n    var tag = document.createElement('script');\n    tag.src = uri;\n    tag.async = true;\n    tag.onload = () => {\n        exports = savedexports;\n        module = savedmodule;\n        resolve();\n    };\n  var firstScriptTag = document.getElementsByTagName('script')[0];\n  firstScriptTag.parentNode.insertBefore(tag, firstScriptTag);\n});\n};\n\nif(typeof $3Dmolpromise === 'undefined') {\n$3Dmolpromise = null;\n  $3Dmolpromise = loadScriptAsync('https://cdnjs.cloudflare.com/ajax/libs/3Dmol/2.0.1/3Dmol-min.js');\n}\n\nvar viewer_1691594632023459 = null;\nvar warn = document.getElementById(\"3dmolwarning_1691594632023459\");\nif(warn) {\n    warn.parentNode.removeChild(warn);\n}\n$3Dmolpromise.then(function() {\nviewer_1691594632023459 = $3Dmol.createViewer(document.getElementById(\"3dmolviewer_1691594632023459\"),{backgroundColor:\"white\"});\nviewer_1691594632023459.zoomTo();\n\tviewer_1691594632023459.addModel(\"@<TRIPOS>MOLECULE\\nCompound\\n6 5 1 0 1\\nSMALL\\nNO_CHARGES\\n@<TRIPOS>CRYSIN\\n    7.5955     6.7325     6.5627    90.0000    90.0000    90.0000  1  1\\n@<TRIPOS>ATOM\\n       1 C           -0.3566    -0.0316    -0.0168 C             1 Compound\\n       2 O            0.9584    -0.4372    -0.2657 O             1 Compound\\n       3 H           -0.5386     0.0288     1.0783 H             1 Compound\\n       4 H           -1.0555    -0.7739    -0.4544 H             1 Compound\\n       5 H           -0.5477     0.9586    -0.4845 H             1 Compound\\n       6 H            1.5400     0.2553     0.1430 H             1 Compound\\n@<TRIPOS>BOND\\n       1        1        2 1\\n       2        1        3 1\\n       3        1        4 1\\n       4        1        5 1\\n       5        2        6 1\\n@<TRIPOS>SUBSTRUCTURE\\n       1 Compound        1 RESIDUE    0 **** ROOT      0\\n\",\"mol2\");\n\tviewer_1691594632023459.setStyle({\"stick\": {\"radius\": 0.2, \"color\": \"grey\"}, \"sphere\": {\"scale\": 0.3, \"colorscheme\": {}}});\n\tviewer_1691594632023459.zoomTo();\nviewer_1691594632023459.render();\n});\n</script>",
      "text/html": [
       "<div id=\"3dmolviewer_1691594632023459\"  style=\"position: relative; width: 640px; height: 480px\">\n",
       "        <p id=\"3dmolwarning_1691594632023459\" style=\"background-color:#ffcccc;color:black\">You appear to be running in JupyterLab (or JavaScript failed to load for some other reason).  You need to install the 3dmol extension: <br>\n",
       "        <tt>jupyter labextension install jupyterlab_3dmol</tt></p>\n",
       "        </div>\n",
       "<script>\n",
       "\n",
       "var loadScriptAsync = function(uri){\n",
       "  return new Promise((resolve, reject) => {\n",
       "    //this is to ignore the existence of requirejs amd\n",
       "    var savedexports, savedmodule;\n",
       "    if (typeof exports !== 'undefined') savedexports = exports;\n",
       "    else exports = {}\n",
       "    if (typeof module !== 'undefined') savedmodule = module;\n",
       "    else module = {}\n",
       "\n",
       "    var tag = document.createElement('script');\n",
       "    tag.src = uri;\n",
       "    tag.async = true;\n",
       "    tag.onload = () => {\n",
       "        exports = savedexports;\n",
       "        module = savedmodule;\n",
       "        resolve();\n",
       "    };\n",
       "  var firstScriptTag = document.getElementsByTagName('script')[0];\n",
       "  firstScriptTag.parentNode.insertBefore(tag, firstScriptTag);\n",
       "});\n",
       "};\n",
       "\n",
       "if(typeof $3Dmolpromise === 'undefined') {\n",
       "$3Dmolpromise = null;\n",
       "  $3Dmolpromise = loadScriptAsync('https://cdnjs.cloudflare.com/ajax/libs/3Dmol/2.0.1/3Dmol-min.js');\n",
       "}\n",
       "\n",
       "var viewer_1691594632023459 = null;\n",
       "var warn = document.getElementById(\"3dmolwarning_1691594632023459\");\n",
       "if(warn) {\n",
       "    warn.parentNode.removeChild(warn);\n",
       "}\n",
       "$3Dmolpromise.then(function() {\n",
       "viewer_1691594632023459 = $3Dmol.createViewer(document.getElementById(\"3dmolviewer_1691594632023459\"),{backgroundColor:\"white\"});\n",
       "viewer_1691594632023459.zoomTo();\n",
       "\tviewer_1691594632023459.addModel(\"@<TRIPOS>MOLECULE\\nCompound\\n6 5 1 0 1\\nSMALL\\nNO_CHARGES\\n@<TRIPOS>CRYSIN\\n    7.5955     6.7325     6.5627    90.0000    90.0000    90.0000  1  1\\n@<TRIPOS>ATOM\\n       1 C           -0.3566    -0.0316    -0.0168 C             1 Compound\\n       2 O            0.9584    -0.4372    -0.2657 O             1 Compound\\n       3 H           -0.5386     0.0288     1.0783 H             1 Compound\\n       4 H           -1.0555    -0.7739    -0.4544 H             1 Compound\\n       5 H           -0.5477     0.9586    -0.4845 H             1 Compound\\n       6 H            1.5400     0.2553     0.1430 H             1 Compound\\n@<TRIPOS>BOND\\n       1        1        2 1\\n       2        1        3 1\\n       3        1        4 1\\n       4        1        5 1\\n       5        2        6 1\\n@<TRIPOS>SUBSTRUCTURE\\n       1 Compound        1 RESIDUE    0 **** ROOT      0\\n\",\"mol2\");\n",
       "\tviewer_1691594632023459.setStyle({\"stick\": {\"radius\": 0.2, \"color\": \"grey\"}, \"sphere\": {\"scale\": 0.3, \"colorscheme\": {}}});\n",
       "\tviewer_1691594632023459.zoomTo();\n",
       "viewer_1691594632023459.render();\n",
       "});\n",
       "</script>"
      ]
     },
     "metadata": {},
     "output_type": "display_data"
    },
    {
     "data": {
      "text/plain": [
       "<py3Dmol.view at 0x7f531e605ba0>"
      ]
     },
     "execution_count": 5,
     "metadata": {},
     "output_type": "execute_result"
    }
   ],
   "source": [
    "cap_o = mb.load('CO', smiles = True)\n",
    "cap_o.visualize()"
   ]
  },
  {
   "cell_type": "code",
   "execution_count": 6,
   "id": "98f339ae",
   "metadata": {
    "scrolled": false
   },
   "outputs": [
    {
     "data": {
      "application/3dmoljs_load.v0": "<div id=\"3dmolviewer_16915946321287308\"  style=\"position: relative; width: 640px; height: 480px\">\n        <p id=\"3dmolwarning_16915946321287308\" style=\"background-color:#ffcccc;color:black\">You appear to be running in JupyterLab (or JavaScript failed to load for some other reason).  You need to install the 3dmol extension: <br>\n        <tt>jupyter labextension install jupyterlab_3dmol</tt></p>\n        </div>\n<script>\n\nvar loadScriptAsync = function(uri){\n  return new Promise((resolve, reject) => {\n    //this is to ignore the existence of requirejs amd\n    var savedexports, savedmodule;\n    if (typeof exports !== 'undefined') savedexports = exports;\n    else exports = {}\n    if (typeof module !== 'undefined') savedmodule = module;\n    else module = {}\n\n    var tag = document.createElement('script');\n    tag.src = uri;\n    tag.async = true;\n    tag.onload = () => {\n        exports = savedexports;\n        module = savedmodule;\n        resolve();\n    };\n  var firstScriptTag = document.getElementsByTagName('script')[0];\n  firstScriptTag.parentNode.insertBefore(tag, firstScriptTag);\n});\n};\n\nif(typeof $3Dmolpromise === 'undefined') {\n$3Dmolpromise = null;\n  $3Dmolpromise = loadScriptAsync('https://cdnjs.cloudflare.com/ajax/libs/3Dmol/2.0.1/3Dmol-min.js');\n}\n\nvar viewer_16915946321287308 = null;\nvar warn = document.getElementById(\"3dmolwarning_16915946321287308\");\nif(warn) {\n    warn.parentNode.removeChild(warn);\n}\n$3Dmolpromise.then(function() {\nviewer_16915946321287308 = $3Dmol.createViewer(document.getElementById(\"3dmolviewer_16915946321287308\"),{backgroundColor:\"white\"});\nviewer_16915946321287308.zoomTo();\n\tviewer_16915946321287308.addModel(\"@<TRIPOS>MOLECULE\\nCompound\\n17 16 1 0 1\\nSMALL\\nNO_CHARGES\\n@<TRIPOS>CRYSIN\\n   10.1459     9.1665     9.1441    90.0000    90.0000    90.0000  1  1\\n@<TRIPOS>ATOM\\n       1 C           -0.7699     1.5203    -0.5363 C             1 Compound\\n       2 C           -0.1188     0.2072    -0.0756 C             1 Compound\\n       3 C           -0.7685    -0.2314     1.2509 C             1 Compound\\n       4 C           -0.3325    -0.8625    -1.1638 C             1 Compound\\n       5 O            1.2809     0.4683     0.1089 O             1 Compound\\n       6 C            2.2481    -0.4575     0.5254 C             1 Compound\\n       7 O            1.9539    -1.6539     0.7850 O             1 Compound\\n       8 H           -1.8618     1.3889    -0.6991 H             1 Compound\\n       9 H           -0.6194     2.3137     0.2272 H             1 Compound\\n      10 H           -0.3099     1.8657    -1.4872 H             1 Compound\\n      11 H           -0.5474     0.5091     2.0492 H             1 Compound\\n      12 H           -0.3906    -1.2212     1.5788 H             1 Compound\\n      13 H           -1.8713    -0.3123     1.1379 H             1 Compound\\n      14 H            0.2008    -0.5740    -2.0948 H             1 Compound\\n      15 H            0.0457    -1.8527    -0.8376 H             1 Compound\\n      16 H           -1.4140    -0.9742    -1.3948 H             1 Compound\\n      17 H            3.2746    -0.1334     0.6260 H             1 Compound\\n@<TRIPOS>BOND\\n       1        1        2 1\\n       2        1        8 1\\n       3        1        9 1\\n       4        1       10 1\\n       5        2        3 1\\n       6        2        4 1\\n       7        2        5 1\\n       8        3       11 1\\n       9        3       12 1\\n      10        3       13 1\\n      11        4       14 1\\n      12        4       15 1\\n      13        4       16 1\\n      14        5        6 1\\n      15        6        7 1\\n      16        6       17 1\\n@<TRIPOS>SUBSTRUCTURE\\n       1 Compound        1 RESIDUE    0 **** ROOT      0\\n\",\"mol2\");\n\tviewer_16915946321287308.setStyle({\"stick\": {\"radius\": 0.2, \"color\": \"grey\"}, \"sphere\": {\"scale\": 0.3, \"colorscheme\": {}}});\n\tviewer_16915946321287308.zoomTo();\nviewer_16915946321287308.render();\n});\n</script>",
      "text/html": [
       "<div id=\"3dmolviewer_16915946321287308\"  style=\"position: relative; width: 640px; height: 480px\">\n",
       "        <p id=\"3dmolwarning_16915946321287308\" style=\"background-color:#ffcccc;color:black\">You appear to be running in JupyterLab (or JavaScript failed to load for some other reason).  You need to install the 3dmol extension: <br>\n",
       "        <tt>jupyter labextension install jupyterlab_3dmol</tt></p>\n",
       "        </div>\n",
       "<script>\n",
       "\n",
       "var loadScriptAsync = function(uri){\n",
       "  return new Promise((resolve, reject) => {\n",
       "    //this is to ignore the existence of requirejs amd\n",
       "    var savedexports, savedmodule;\n",
       "    if (typeof exports !== 'undefined') savedexports = exports;\n",
       "    else exports = {}\n",
       "    if (typeof module !== 'undefined') savedmodule = module;\n",
       "    else module = {}\n",
       "\n",
       "    var tag = document.createElement('script');\n",
       "    tag.src = uri;\n",
       "    tag.async = true;\n",
       "    tag.onload = () => {\n",
       "        exports = savedexports;\n",
       "        module = savedmodule;\n",
       "        resolve();\n",
       "    };\n",
       "  var firstScriptTag = document.getElementsByTagName('script')[0];\n",
       "  firstScriptTag.parentNode.insertBefore(tag, firstScriptTag);\n",
       "});\n",
       "};\n",
       "\n",
       "if(typeof $3Dmolpromise === 'undefined') {\n",
       "$3Dmolpromise = null;\n",
       "  $3Dmolpromise = loadScriptAsync('https://cdnjs.cloudflare.com/ajax/libs/3Dmol/2.0.1/3Dmol-min.js');\n",
       "}\n",
       "\n",
       "var viewer_16915946321287308 = null;\n",
       "var warn = document.getElementById(\"3dmolwarning_16915946321287308\");\n",
       "if(warn) {\n",
       "    warn.parentNode.removeChild(warn);\n",
       "}\n",
       "$3Dmolpromise.then(function() {\n",
       "viewer_16915946321287308 = $3Dmol.createViewer(document.getElementById(\"3dmolviewer_16915946321287308\"),{backgroundColor:\"white\"});\n",
       "viewer_16915946321287308.zoomTo();\n",
       "\tviewer_16915946321287308.addModel(\"@<TRIPOS>MOLECULE\\nCompound\\n17 16 1 0 1\\nSMALL\\nNO_CHARGES\\n@<TRIPOS>CRYSIN\\n   10.1459     9.1665     9.1441    90.0000    90.0000    90.0000  1  1\\n@<TRIPOS>ATOM\\n       1 C           -0.7699     1.5203    -0.5363 C             1 Compound\\n       2 C           -0.1188     0.2072    -0.0756 C             1 Compound\\n       3 C           -0.7685    -0.2314     1.2509 C             1 Compound\\n       4 C           -0.3325    -0.8625    -1.1638 C             1 Compound\\n       5 O            1.2809     0.4683     0.1089 O             1 Compound\\n       6 C            2.2481    -0.4575     0.5254 C             1 Compound\\n       7 O            1.9539    -1.6539     0.7850 O             1 Compound\\n       8 H           -1.8618     1.3889    -0.6991 H             1 Compound\\n       9 H           -0.6194     2.3137     0.2272 H             1 Compound\\n      10 H           -0.3099     1.8657    -1.4872 H             1 Compound\\n      11 H           -0.5474     0.5091     2.0492 H             1 Compound\\n      12 H           -0.3906    -1.2212     1.5788 H             1 Compound\\n      13 H           -1.8713    -0.3123     1.1379 H             1 Compound\\n      14 H            0.2008    -0.5740    -2.0948 H             1 Compound\\n      15 H            0.0457    -1.8527    -0.8376 H             1 Compound\\n      16 H           -1.4140    -0.9742    -1.3948 H             1 Compound\\n      17 H            3.2746    -0.1334     0.6260 H             1 Compound\\n@<TRIPOS>BOND\\n       1        1        2 1\\n       2        1        8 1\\n       3        1        9 1\\n       4        1       10 1\\n       5        2        3 1\\n       6        2        4 1\\n       7        2        5 1\\n       8        3       11 1\\n       9        3       12 1\\n      10        3       13 1\\n      11        4       14 1\\n      12        4       15 1\\n      13        4       16 1\\n      14        5        6 1\\n      15        6        7 1\\n      16        6       17 1\\n@<TRIPOS>SUBSTRUCTURE\\n       1 Compound        1 RESIDUE    0 **** ROOT      0\\n\",\"mol2\");\n",
       "\tviewer_16915946321287308.setStyle({\"stick\": {\"radius\": 0.2, \"color\": \"grey\"}, \"sphere\": {\"scale\": 0.3, \"colorscheme\": {}}});\n",
       "\tviewer_16915946321287308.zoomTo();\n",
       "viewer_16915946321287308.render();\n",
       "});\n",
       "</script>"
      ]
     },
     "metadata": {},
     "output_type": "display_data"
    },
    {
     "data": {
      "text/plain": [
       "<py3Dmol.view at 0x7f531e607280>"
      ]
     },
     "execution_count": 6,
     "metadata": {},
     "output_type": "execute_result"
    }
   ],
   "source": [
    "cap_n = mb.load('CC(C)(C)OC=O', smiles = True)\n",
    "cap_n.visualize()"
   ]
  },
  {
   "cell_type": "markdown",
   "id": "21187d37",
   "metadata": {},
   "source": [
    "Here we use the `Polymer` object to build a hexamer from the molecules we built in the previous cells. `Polymer.add_monomer()` is used to add the monomers to the polymer object. `Polymer.add_end_groups()` adds the capping groups to the object with `\"head\"` and `\"tail\"` labels for the each end of the polymer. `replace = True` will replace the specified atoms with the next residue. `indices` is used to specify which atom will be replaced in each group. Finally, when we call `Polymer.build()`, the polymer is built with the specified `n` residues and the provided capping residues. `sequence` is used if multiple monomers are provided."
   ]
  },
  {
   "cell_type": "code",
   "execution_count": 7,
   "id": "e6206e9d",
   "metadata": {},
   "outputs": [],
   "source": [
    "chain = Polymer()\n",
    "chain.add_monomer(compound=comp,\n",
    "                  indices=[nterm_connect - 1, cterm_connect - 1],\n",
    "                  separation=.15,\n",
    "                  replace=True,\n",
    "                  # orientation = [[1,0,0],[1,0,0]]\n",
    "                 )\n",
    "chain.add_end_groups(compound = cap_n,\n",
    "                     index = -1,\n",
    "                     separation=0.15,\n",
    "                     label=\"head\",\n",
    "                     duplicate = False\n",
    "                    )\n",
    "\n",
    "chain.add_end_groups(compound = cap_o,\n",
    "                     index = -1,\n",
    "                     separation=0.15,\n",
    "                     label=\"tail\",\n",
    "                     duplicate = False\n",
    "                    )\n",
    "\n",
    "chain.build(n=6, sequence='A')\n",
    "chain.energy_minimize()"
   ]
  },
  {
   "cell_type": "code",
   "execution_count": 8,
   "id": "afea3dba",
   "metadata": {},
   "outputs": [
    {
     "data": {
      "application/3dmoljs_load.v0": "<div id=\"3dmolviewer_1691594641138486\"  style=\"position: relative; width: 640px; height: 480px\">\n        <p id=\"3dmolwarning_1691594641138486\" style=\"background-color:#ffcccc;color:black\">You appear to be running in JupyterLab (or JavaScript failed to load for some other reason).  You need to install the 3dmol extension: <br>\n        <tt>jupyter labextension install jupyterlab_3dmol</tt></p>\n        </div>\n<script>\n\nvar loadScriptAsync = function(uri){\n  return new Promise((resolve, reject) => {\n    //this is to ignore the existence of requirejs amd\n    var savedexports, savedmodule;\n    if (typeof exports !== 'undefined') savedexports = exports;\n    else exports = {}\n    if (typeof module !== 'undefined') savedmodule = module;\n    else module = {}\n\n    var tag = document.createElement('script');\n    tag.src = uri;\n    tag.async = true;\n    tag.onload = () => {\n        exports = savedexports;\n        module = savedmodule;\n        resolve();\n    };\n  var firstScriptTag = document.getElementsByTagName('script')[0];\n  firstScriptTag.parentNode.insertBefore(tag, firstScriptTag);\n});\n};\n\nif(typeof $3Dmolpromise === 'undefined') {\n$3Dmolpromise = null;\n  $3Dmolpromise = loadScriptAsync('https://cdnjs.cloudflare.com/ajax/libs/3Dmol/2.0.1/3Dmol-min.js');\n}\n\nvar viewer_1691594641138486 = null;\nvar warn = document.getElementById(\"3dmolwarning_1691594641138486\");\nif(warn) {\n    warn.parentNode.removeChild(warn);\n}\n$3Dmolpromise.then(function() {\nviewer_1691594641138486 = $3Dmol.createViewer(document.getElementById(\"3dmolviewer_1691594641138486\"),{backgroundColor:\"white\"});\nviewer_1691594641138486.zoomTo();\n\tviewer_1691594641138486.addModel(\"@<TRIPOS>MOLECULE\\nPolymer\\n285 302 1 0 1\\nSMALL\\nNO_CHARGES\\n@<TRIPOS>CRYSIN\\n   61.4819    29.7023    36.2665    90.0000    90.0000    90.0000  1  1\\n@<TRIPOS>ATOM\\n       1 C           -3.0746    -5.6832    -0.6713 C             1 Polymer \\n       2 O           -1.9725    -4.8569    -0.7287 O             1 Polymer \\n       3 C           -1.9553    -3.5288    -0.4448 C             1 Polymer \\n       4 C           -3.1132    -2.8079    -0.0922 C             1 Polymer \\n       5 C           -3.0339    -1.4452     0.2135 C             1 Polymer \\n       6 C           -1.7987    -0.7762     0.1734 C             1 Polymer \\n       7 C           -1.6990     0.6327     0.6646 C             1 Polymer \\n       8 C           -0.6336     0.9775     1.5225 C             1 Polymer \\n       9 C           -0.4930     2.2628     2.0112 C             1 Polymer \\n      10 C           -1.4155     3.2364     1.6727 C             1 Polymer \\n      11 C           -2.5123     2.9350     0.8321 C             1 Polymer \\n      12 C           -3.5916     3.9287     0.5515 C             1 Polymer \\n      13 O           -4.5098     3.6064    -0.1839 O             1 Polymer \\n      14 C           -2.6460     1.6156     0.3388 C             1 Polymer \\n      15 C           -0.6384    -1.4896    -0.2368 C             1 Polymer \\n      16 C            0.6634    -0.7911    -0.4107 C             1 Polymer \\n      17 C            1.8410    -1.3171     0.1226 C             1 Polymer \\n      18 C            3.0315    -0.5928     0.0412 C             1 Polymer \\n      19 C            3.0853     0.6598    -0.6141 C             1 Polymer \\n      20 C            4.3485     1.5127    -0.7242 C             1 Polymer \\n      21 C            4.5740     2.3826     0.5217 C             1 Polymer \\n      22 N            5.5217     0.7304    -1.1071 N             1 Polymer \\n      23 C            1.9032     1.1546    -1.1889 C             1 Polymer \\n      24 C            0.7112     0.4468    -1.0800 C             1 Polymer \\n      25 C           -0.7306    -2.8604    -0.5168 C             1 Polymer \\n      26 H           -2.7685    -6.7111    -0.9556 H             1 Polymer \\n      27 H           -3.4800    -5.7085     0.3628 H             1 Polymer \\n      28 H           -3.8539    -5.3355    -1.3814 H             1 Polymer \\n      29 H           -4.0760    -3.2973    -0.0285 H             1 Polymer \\n      30 H           -3.9318    -0.9282     0.5293 H             1 Polymer \\n      31 H            0.0929     0.2430     1.8399 H             1 Polymer \\n      32 H            0.3295     2.5028     2.6730 H             1 Polymer \\n      33 H           -1.2432     4.2018     2.1131 H             1 Polymer \\n      34 H           -3.4850     1.3489    -0.2924 H             1 Polymer \\n      35 H            1.8305    -2.2635     0.6489 H             1 Polymer \\n      36 H            3.8830    -1.0447     0.5021 H             1 Polymer \\n      37 H            4.1713     2.2427    -1.5470 H             1 Polymer \\n      38 H            5.4702     3.0228     0.3794 H             1 Polymer \\n      39 H            4.6938     1.7818     1.4441 H             1 Polymer \\n      40 H            3.6949     3.0454     0.6747 H             1 Polymer \\n      41 H            5.8406     0.8071    -2.0848 H             1 Polymer \\n      42 H            1.8922     2.1086    -1.7015 H             1 Polymer \\n      43 H           -0.1841     0.8740    -1.5157 H             1 Polymer \\n      44 H            0.1517    -3.4120    -0.8186 H             1 Polymer \\n      45 C          -14.0613     4.2437    -1.9905 C             1 Polymer \\n      46 O          -12.7374     4.2693    -1.6113 O             1 Polymer \\n      47 C          -12.2684     4.5726    -0.3740 C             1 Polymer \\n      48 C          -13.1118     4.9240     0.7018 C             1 Polymer \\n      49 C          -12.5730     5.2165     1.9613 C             1 Polymer \\n      50 C          -11.1855     5.1639     2.1700 C             1 Polymer \\n      51 C          -10.6129     5.3347     3.5466 C             1 Polymer \\n      52 C           -9.6104     4.4412     3.9803 C             1 Polymer \\n      53 C           -9.0534     4.5365     5.2414 C             1 Polymer \\n      54 C           -9.4877     5.5134     6.1166 C             1 Polymer \\n      55 C          -10.5049     6.4214     5.7416 C             1 Polymer \\n      56 C          -11.0863     7.3989     6.7105 C             1 Polymer \\n      57 O          -11.9535     8.1633     6.3221 O             1 Polymer \\n      58 C          -11.0670     6.3143     4.4449 C             1 Polymer \\n      59 C          -10.3411     4.8600     1.0686 C             1 Polymer \\n      60 C           -8.8805     4.9559     1.2238 C             1 Polymer \\n      61 C           -8.0491     3.8493     1.0457 C             1 Polymer \\n      62 C           -6.6960     3.9489     1.3721 C             1 Polymer \\n      63 C           -6.1382     5.1780     1.7993 C             1 Polymer \\n      64 C           -4.6899     5.3455     2.2342 C             1 Polymer \\n      65 C           -4.4228     4.4453     3.4557 C             1 Polymer \\n      66 N           -3.6486     5.1087     1.2332 N             1 Polymer \\n      67 C           -6.9855     6.2866     1.9342 C             1 Polymer \\n      68 C           -8.3410     6.1709     1.6710 C             1 Polymer \\n      69 C          -10.8866     4.5470    -0.1778 C             1 Polymer \\n      70 H          -14.1216     3.9624    -3.0619 H             1 Polymer \\n      71 H          -14.6159     3.4894    -1.3932 H             1 Polymer \\n      72 H          -14.5159     5.2486    -1.8608 H             1 Polymer \\n      73 H          -14.1857     4.9557     0.5788 H             1 Polymer \\n      74 H          -13.2445     5.4420     2.7807 H             1 Polymer \\n      75 H           -9.2664     3.6333     3.3551 H             1 Polymer \\n      76 H           -8.2920     3.8317     5.5518 H             1 Polymer \\n      77 H           -9.0184     5.5004     7.0839 H             1 Polymer \\n      78 H          -11.8617     6.9822     4.1361 H             1 Polymer \\n      79 H           -8.4606     2.8956     0.7386 H             1 Polymer \\n      80 H           -6.1102     3.0452     1.3197 H             1 Polymer \\n      81 H           -4.5532     6.3925     2.5893 H             1 Polymer \\n      82 H           -3.3938     4.6176     3.8395 H             1 Polymer \\n      83 H           -4.5132     3.3714     3.1851 H             1 Polymer \\n      84 H           -5.1401     4.6718     4.2723 H             1 Polymer \\n      85 H           -2.7740     5.4348     1.6536 H             1 Polymer \\n      86 H           -6.6102     7.2371     2.2932 H             1 Polymer \\n      87 H           -8.9802     7.0309     1.8324 H             1 Polymer \\n      88 H          -10.2332     4.3135    -1.0101 H             1 Polymer \\n      89 C          -20.1634    12.9189     8.4985 C             1 Polymer \\n      90 O          -18.9961    12.2007     8.3633 O             1 Polymer \\n      91 C          -18.6333    11.1215     9.1034 C             1 Polymer \\n      92 C          -19.4294    10.6039    10.1473 C             1 Polymer \\n      93 C          -19.0106     9.4789    10.8702 C             1 Polymer \\n      94 C          -17.7919     8.8524    10.5643 C             1 Polymer \\n      95 C          -17.4072     7.5653    11.2334 C             1 Polymer \\n      96 C          -16.8958     6.5163    10.4405 C             1 Polymer \\n      97 C          -16.5397     5.3005    10.9921 C             1 Polymer \\n      98 C          -16.6962     5.0846    12.3484 C             1 Polymer \\n      99 C          -17.2231     6.0944    13.1861 C             1 Polymer \\n     100 C          -17.5265     5.8443    14.6277 C             1 Polymer \\n     101 O          -17.9684     6.7598    15.3013 O             1 Polymer \\n     102 C          -17.5836     7.3374    12.6082 C             1 Polymer \\n     103 C          -16.9740     9.4104     9.5469 C             1 Polymer \\n     104 C          -15.6254     8.8685     9.3159 C             1 Polymer \\n     105 C          -15.2618     8.3053     8.0921 C             1 Polymer \\n     106 C          -14.0333     7.6544     7.9744 C             1 Polymer \\n     107 C          -13.1141     7.6328     9.0506 C             1 Polymer \\n     108 C          -11.7871     6.8899     9.0155 C             1 Polymer \\n     109 C          -12.0554     5.3866     8.8156 C             1 Polymer \\n     110 N          -10.7867     7.3276     8.0405 N             1 Polymer \\n     111 C          -13.4863     8.2370    10.2602 C             1 Polymer \\n     112 C          -14.7332     8.8268    10.3972 C             1 Polymer \\n     113 C          -17.4083    10.5184     8.8160 C             1 Polymer \\n     114 H          -20.1674    13.7398     7.7525 H             1 Polymer \\n     115 H          -21.0396    12.2630     8.3100 H             1 Polymer \\n     116 H          -20.2249    13.3620     9.5149 H             1 Polymer \\n     117 H          -20.3818    11.0527    10.3948 H             1 Polymer \\n     118 H          -19.6601     9.0763    11.6377 H             1 Polymer \\n     119 H          -16.7960     6.6147     9.3717 H             1 Polymer \\n     120 H          -16.1595     4.5088    10.3586 H             1 Polymer \\n     121 H          -16.4171     4.1037    12.6886 H             1 Polymer \\n     122 H          -18.0098     8.1225    13.2205 H             1 Polymer \\n     123 H          -15.9577     8.2965     7.2621 H             1 Polymer \\n     124 H          -13.8362     7.1431     7.0462 H             1 Polymer \\n     125 H          -11.3115     6.9851    10.0192 H             1 Polymer \\n     126 H          -11.1021     4.8176     8.8741 H             1 Polymer \\n     127 H          -12.5102     5.1940     7.8202 H             1 Polymer \\n     128 H          -12.7373     5.0031     9.6030 H             1 Polymer \\n     129 H           -9.9204     6.8417     8.2882 H             1 Polymer \\n     130 H          -12.8316     8.2118    11.1228 H             1 Polymer \\n     131 H          -15.0132     9.2421    11.3581 H             1 Polymer \\n     132 H          -16.7773    10.9336     8.0391 H             1 Polymer \\n     133 C          -24.0672     9.3586    22.4420 C             1 Polymer \\n     134 O          -23.2423     8.8228    21.4778 O             1 Polymer \\n     135 C          -23.4185     7.6320    20.8502 C             1 Polymer \\n     136 C          -24.4947     6.7654    21.1361 C             1 Polymer \\n     137 C          -24.6344     5.5534    20.4476 C             1 Polymer \\n     138 C          -23.7037     5.1852    19.4630 C             1 Polymer \\n     139 C          -23.9277     3.9628    18.6217 C             1 Polymer \\n     140 C          -23.7254     4.0516    17.2279 C             1 Polymer \\n     141 C          -23.9317     2.9671    16.3970 C             1 Polymer \\n     142 C          -24.3620     1.7644    16.9243 C             1 Polymer \\n     143 C          -24.6009     1.6257    18.3113 C             1 Polymer \\n     144 C          -25.1943     0.3824    18.8893 C             1 Polymer \\n     145 O          -25.3636     0.3194    20.0953 O             1 Polymer \\n     146 C          -24.3834     2.7450    19.1531 C             1 Polymer \\n     147 C          -22.5955     6.0393    19.2180 C             1 Polymer \\n     148 C          -21.5262     5.6030    18.3053 C             1 Polymer \\n     149 C          -21.2146     6.3178    17.1481 C             1 Polymer \\n     150 C          -20.3155     5.7766    16.2288 C             1 Polymer \\n     151 C          -19.6497     4.5559    16.4932 C             1 Polymer \\n     152 C          -18.7092     3.8745    15.5109 C             1 Polymer \\n     153 C          -19.4874     3.5218    14.2294 C             1 Polymer \\n     154 N          -17.4803     4.5809    15.1427 N             1 Polymer \\n     155 C          -19.9501     3.8733    17.6806 C             1 Polymer \\n     156 C          -20.8915     4.3791    18.5631 C             1 Polymer \\n     157 C          -22.4759     7.2562    19.8922 C             1 Polymer \\n     158 H          -23.6571    10.3394    22.7594 H             1 Polymer \\n     159 H          -25.0860     9.5164    22.0292 H             1 Polymer \\n     160 H          -24.1086     8.6879    23.3260 H             1 Polymer \\n     161 H          -25.2387     7.0285    21.8757 H             1 Polymer \\n     162 H          -25.4930     4.9272    20.6559 H             1 Polymer \\n     163 H          -23.4345     4.9772    16.7582 H             1 Polymer \\n     164 H          -23.7784     3.0659    15.3296 H             1 Polymer \\n     165 H          -24.5205     0.9818    16.2044 H             1 Polymer \\n     166 H          -24.5776     2.6757    20.2164 H             1 Polymer \\n     167 H          -21.7266     7.2443    16.9191 H             1 Polymer \\n     168 H          -20.1831     6.3090    15.3011 H             1 Polymer \\n     169 H          -18.3925     2.9019    15.9540 H             1 Polymer \\n     170 H          -18.8387     2.9456    13.5346 H             1 Polymer \\n     171 H          -19.8238     4.4411    13.7038 H             1 Polymer \\n     172 H          -20.3754     2.9004    14.4704 H             1 Polymer \\n     173 H          -16.9093     3.9012    14.6331 H             1 Polymer \\n     174 H          -19.4940     2.9172    17.9073 H             1 Polymer \\n     175 H          -21.1407     3.8052    19.4479 H             1 Polymer \\n     176 H          -21.6285     7.9020    19.6944 H             1 Polymer \\n     177 C          -31.0232    -2.8690    27.3408 C             1 Polymer \\n     178 O          -30.3291    -2.5068    26.2060 O             1 Polymer \\n     179 C          -30.8486    -2.4095    24.9556 C             1 Polymer \\n     180 C          -32.1949    -2.6886    24.6602 C             1 Polymer \\n     181 C          -32.6777    -2.5587    23.3445 C             1 Polymer \\n     182 C          -31.8224    -2.1498    22.3136 C             1 Polymer \\n     183 C          -32.3665    -1.8703    20.9438 C             1 Polymer \\n     184 C          -31.9458    -0.7082    20.2662 C             1 Polymer \\n     185 C          -32.4257    -0.3885    19.0100 C             1 Polymer \\n     186 C          -33.3525    -1.2091    18.3939 C             1 Polymer \\n     187 C          -33.8249    -2.3778    19.0350 C             1 Polymer \\n     188 C          -34.9235    -3.2099    18.4532 C             1 Polymer \\n     189 O          -35.2824    -4.2095    19.0525 O             1 Polymer \\n     190 C          -33.3228    -2.6948    20.3221 C             1 Polymer \\n     191 C          -30.4525    -1.9187    22.6115 C             1 Polymer \\n     192 C          -29.5017    -1.6402    21.5241 C             1 Polymer \\n     193 C          -28.7789    -0.4484    21.4699 C             1 Polymer \\n     194 C          -28.0186    -0.1584    20.3368 C             1 Polymer \\n     195 C          -27.9005    -1.0933    19.2797 C             1 Polymer \\n     196 C          -27.1437    -0.8210    17.9887 C             1 Polymer \\n     197 C          -27.7946     0.3738    17.2658 C             1 Polymer \\n     198 N          -25.7006    -0.5924    18.0786 N             1 Polymer \\n     199 C          -28.6070    -2.3011    19.3737 C             1 Polymer \\n     200 C          -29.4135    -2.5610    20.4700 C             1 Polymer \\n     201 C          -29.9854    -2.0263    23.9248 C             1 Polymer \\n     202 H          -30.3260    -2.8601    28.2046 H             1 Polymer \\n     203 H          -31.8408    -2.1443    27.5378 H             1 Polymer \\n     204 H          -31.4343    -3.8944    27.2280 H             1 Polymer \\n     205 H          -32.8847    -2.9886    25.4355 H             1 Polymer \\n     206 H          -33.7287    -2.7399    23.1587 H             1 Polymer \\n     207 H          -31.2609    -0.0090    20.7187 H             1 Polymer \\n     208 H          -32.0933     0.5175    18.5184 H             1 Polymer \\n     209 H          -33.6908    -0.8728    17.4303 H             1 Polymer \\n     210 H          -33.6808    -3.5721    20.8469 H             1 Polymer \\n     211 H          -28.8692     0.2869    22.2602 H             1 Polymer \\n     212 H          -27.5608     0.8160    20.2893 H             1 Polymer \\n     213 H          -27.2826    -1.6979    17.3154 H             1 Polymer \\n     214 H          -27.3103     0.5330    16.2777 H             1 Polymer \\n     215 H          -27.6812     1.3065    17.8592 H             1 Polymer \\n     216 H          -28.8762     0.1856    17.0956 H             1 Polymer \\n     217 H          -25.3529    -0.6116    17.1163 H             1 Polymer \\n     218 H          -28.5759    -3.0304    18.5730 H             1 Polymer \\n     219 H          -29.9852    -3.4808    20.4927 H             1 Polymer \\n     220 H          -28.9399    -1.8443    24.1421 H             1 Polymer \\n     221 C          -42.6145   -10.0169    21.4151 C             1 Polymer \\n     222 O          -41.7041    -9.0666    21.0067 O             1 Polymer \\n     223 C          -41.9908    -7.7908    20.6421 C             1 Polymer \\n     224 C          -43.3025    -7.2706    20.6447 C             1 Polymer \\n     225 C          -43.5416    -5.9480    20.2579 C             1 Polymer \\n     226 C          -42.4848    -5.1119    19.8590 C             1 Polymer \\n     227 C          -42.7485    -3.6632    19.5468 C             1 Polymer \\n     228 C          -41.8416    -2.6725    19.9820 C             1 Polymer \\n     229 C          -42.0491    -1.3300    19.6940 C             1 Polymer \\n     230 C          -43.1680    -0.9359    18.9714 C             1 Polymer \\n     231 C          -44.1170    -1.8833    18.5469 C             1 Polymer \\n     232 C          -45.3150    -1.4761    17.7539 C             1 Polymer \\n     233 O          -45.9601    -2.3365    17.1748 O             1 Polymer \\n     234 C          -43.8972    -3.2498    18.8450 C             1 Polymer \\n     235 C          -41.1702    -5.6575    19.8206 C             1 Polymer \\n     236 C          -40.0498    -4.8880    19.2549 C             1 Polymer \\n     237 C          -38.9163    -4.5830    20.0107 C             1 Polymer \\n     238 C          -37.9324    -3.7517    19.4739 C             1 Polymer \\n     239 C          -38.0229    -3.2828    18.1424 C             1 Polymer \\n     240 C          -37.0206    -2.3253    17.5114 C             1 Polymer \\n     241 C          -37.0379    -0.9988    18.2922 C             1 Polymer \\n     242 N          -35.6327    -2.7758    17.3703 N             1 Polymer \\n     243 C          -39.1546    -3.6297    17.3880 C             1 Polymer \\n     244 C          -40.1640    -4.4032    17.9445 C             1 Polymer \\n     245 C          -40.9382    -6.9742    20.2308 C             1 Polymer \\n     246 H          -42.0765   -10.9625    21.6322 H             1 Polymer \\n     247 H          -43.1299    -9.6804    22.3393 H             1 Polymer \\n     248 H          -43.3553   -10.2087    20.6098 H             1 Polymer \\n     249 H          -44.1390    -7.8801    20.9546 H             1 Polymer \\n     250 H          -44.5554    -5.5706    20.3035 H             1 Polymer \\n     251 H          -40.9679    -2.9245    20.5630 H             1 Polymer \\n     252 H          -41.3316    -0.5906    20.0293 H             1 Polymer \\n     253 H          -43.2632     0.1123    18.7386 H             1 Polymer \\n     254 H          -44.6060    -3.9947    18.5080 H             1 Polymer \\n     255 H          -38.8291    -4.9277    21.0337 H             1 Polymer \\n     256 H          -37.1250    -3.4629    20.1265 H             1 Polymer \\n     257 H          -37.3780    -2.0816    16.4841 H             1 Polymer \\n     258 H          -36.3802    -0.2533    17.7950 H             1 Polymer \\n     259 H          -36.6700    -1.1458    19.3304 H             1 Polymer \\n     260 H          -38.0666    -0.5833    18.3306 H             1 Polymer \\n     261 H          -35.1726    -2.0795    16.7770 H             1 Polymer \\n     262 H          -39.2841    -3.2655    16.3762 H             1 Polymer \\n     263 H          -41.0433    -4.6241    17.3509 H             1 Polymer \\n     264 H          -39.9344    -7.3857    20.1920 H             1 Polymer \\n     265 C            8.8934    -2.4748    -1.1741 C             1 Polymer \\n     266 C            7.8732    -1.9169    -0.1736 C             1 Polymer \\n     267 C            6.8626    -3.0306     0.1799 C             1 Polymer \\n     268 C            8.6221    -1.4501     1.0933 C             1 Polymer \\n     269 O            7.2194    -0.8574    -0.7960 O             1 Polymer \\n     270 C            6.2157    -0.0997    -0.2794 C             1 Polymer \\n     271 O            5.9383    -0.1743     0.9073 O             1 Polymer \\n     272 H            9.4430    -3.3367    -0.7384 H             1 Polymer \\n     273 H            8.3793    -2.8149    -2.0993 H             1 Polymer \\n     274 H            9.6278    -1.6892    -1.4545 H             1 Polymer \\n     275 H            6.3268    -3.3688    -0.7332 H             1 Polymer \\n     276 H            6.1046    -2.6764     0.9087 H             1 Polymer \\n     277 H            7.3811    -3.9037     0.6299 H             1 Polymer \\n     278 H            9.3390    -0.6401     0.8403 H             1 Polymer \\n     279 H            7.9319    -1.0720     1.8730 H             1 Polymer \\n     280 H            9.1851    -2.2960     1.5423 H             1 Polymer \\n     281 C          -45.9946     0.6884    18.6218 C             1 Polymer \\n     282 O          -45.6960    -0.1814    17.5896 O             1 Polymer \\n     283 H          -46.8541     0.2950    19.2034 H             1 Polymer \\n     284 H          -46.2794     1.6709    18.1923 H             1 Polymer \\n     285 H          -45.1521     0.8508    19.3151 H             1 Polymer \\n@<TRIPOS>BOND\\n       1        1        2 1\\n       2        1       26 1\\n       3        1       27 1\\n       4        1       28 1\\n       5        2        3 1\\n       6        3        4 1\\n       7        3       25 1\\n       8        4        5 1\\n       9        4       29 1\\n      10        5        6 1\\n      11        5       30 1\\n      12        6        7 1\\n      13        6       15 1\\n      14        7        8 1\\n      15        7       14 1\\n      16        8        9 1\\n      17        8       31 1\\n      18        9       10 1\\n      19        9       32 1\\n      20       10       11 1\\n      21       10       33 1\\n      22       11       12 1\\n      23       11       14 1\\n      24       12       13 1\\n      25       12       66 1\\n      26       14       34 1\\n      27       15       16 1\\n      28       15       25 1\\n      29       16       17 1\\n      30       16       24 1\\n      31       17       18 1\\n      32       17       35 1\\n      33       18       19 1\\n      34       18       36 1\\n      35       19       20 1\\n      36       19       23 1\\n      37       20       21 1\\n      38       20       22 1\\n      39       20       37 1\\n      40       21       38 1\\n      41       21       39 1\\n      42       21       40 1\\n      43       22       41 1\\n      44       22      270 1\\n      45       23       24 1\\n      46       23       42 1\\n      47       24       43 1\\n      48       25       44 1\\n      49       45       46 1\\n      50       45       70 1\\n      51       45       71 1\\n      52       45       72 1\\n      53       46       47 1\\n      54       47       48 1\\n      55       47       69 1\\n      56       48       49 1\\n      57       48       73 1\\n      58       49       50 1\\n      59       49       74 1\\n      60       50       51 1\\n      61       50       59 1\\n      62       51       52 1\\n      63       51       58 1\\n      64       52       53 1\\n      65       52       75 1\\n      66       53       54 1\\n      67       53       76 1\\n      68       54       55 1\\n      69       54       77 1\\n      70       55       56 1\\n      71       55       58 1\\n      72       56       57 1\\n      73       56      110 1\\n      74       58       78 1\\n      75       59       60 1\\n      76       59       69 1\\n      77       60       61 1\\n      78       60       68 1\\n      79       61       62 1\\n      80       61       79 1\\n      81       62       63 1\\n      82       62       80 1\\n      83       63       64 1\\n      84       63       67 1\\n      85       64       65 1\\n      86       64       66 1\\n      87       64       81 1\\n      88       65       82 1\\n      89       65       83 1\\n      90       65       84 1\\n      91       66       85 1\\n      92       67       68 1\\n      93       67       86 1\\n      94       68       87 1\\n      95       69       88 1\\n      96       89       90 1\\n      97       89      114 1\\n      98       89      115 1\\n      99       89      116 1\\n     100       90       91 1\\n     101       91       92 1\\n     102       91      113 1\\n     103       92       93 1\\n     104       92      117 1\\n     105       93       94 1\\n     106       93      118 1\\n     107       94       95 1\\n     108       94      103 1\\n     109       95       96 1\\n     110       95      102 1\\n     111       96       97 1\\n     112       96      119 1\\n     113       97       98 1\\n     114       97      120 1\\n     115       98       99 1\\n     116       98      121 1\\n     117       99      100 1\\n     118       99      102 1\\n     119      100      101 1\\n     120      100      154 1\\n     121      102      122 1\\n     122      103      104 1\\n     123      103      113 1\\n     124      104      105 1\\n     125      104      112 1\\n     126      105      106 1\\n     127      105      123 1\\n     128      106      107 1\\n     129      106      124 1\\n     130      107      108 1\\n     131      107      111 1\\n     132      108      109 1\\n     133      108      110 1\\n     134      108      125 1\\n     135      109      126 1\\n     136      109      127 1\\n     137      109      128 1\\n     138      110      129 1\\n     139      111      112 1\\n     140      111      130 1\\n     141      112      131 1\\n     142      113      132 1\\n     143      133      134 1\\n     144      133      158 1\\n     145      133      159 1\\n     146      133      160 1\\n     147      134      135 1\\n     148      135      136 1\\n     149      135      157 1\\n     150      136      137 1\\n     151      136      161 1\\n     152      137      138 1\\n     153      137      162 1\\n     154      138      139 1\\n     155      138      147 1\\n     156      139      140 1\\n     157      139      146 1\\n     158      140      141 1\\n     159      140      163 1\\n     160      141      142 1\\n     161      141      164 1\\n     162      142      143 1\\n     163      142      165 1\\n     164      143      144 1\\n     165      143      146 1\\n     166      144      145 1\\n     167      144      198 1\\n     168      146      166 1\\n     169      147      148 1\\n     170      147      157 1\\n     171      148      149 1\\n     172      148      156 1\\n     173      149      150 1\\n     174      149      167 1\\n     175      150      151 1\\n     176      150      168 1\\n     177      151      152 1\\n     178      151      155 1\\n     179      152      153 1\\n     180      152      154 1\\n     181      152      169 1\\n     182      153      170 1\\n     183      153      171 1\\n     184      153      172 1\\n     185      154      173 1\\n     186      155      156 1\\n     187      155      174 1\\n     188      156      175 1\\n     189      157      176 1\\n     190      177      178 1\\n     191      177      202 1\\n     192      177      203 1\\n     193      177      204 1\\n     194      178      179 1\\n     195      179      180 1\\n     196      179      201 1\\n     197      180      181 1\\n     198      180      205 1\\n     199      181      182 1\\n     200      181      206 1\\n     201      182      183 1\\n     202      182      191 1\\n     203      183      184 1\\n     204      183      190 1\\n     205      184      185 1\\n     206      184      207 1\\n     207      185      186 1\\n     208      185      208 1\\n     209      186      187 1\\n     210      186      209 1\\n     211      187      188 1\\n     212      187      190 1\\n     213      188      189 1\\n     214      188      242 1\\n     215      190      210 1\\n     216      191      192 1\\n     217      191      201 1\\n     218      192      193 1\\n     219      192      200 1\\n     220      193      194 1\\n     221      193      211 1\\n     222      194      195 1\\n     223      194      212 1\\n     224      195      196 1\\n     225      195      199 1\\n     226      196      197 1\\n     227      196      198 1\\n     228      196      213 1\\n     229      197      214 1\\n     230      197      215 1\\n     231      197      216 1\\n     232      198      217 1\\n     233      199      200 1\\n     234      199      218 1\\n     235      200      219 1\\n     236      201      220 1\\n     237      221      222 1\\n     238      221      246 1\\n     239      221      247 1\\n     240      221      248 1\\n     241      222      223 1\\n     242      223      224 1\\n     243      223      245 1\\n     244      224      225 1\\n     245      224      249 1\\n     246      225      226 1\\n     247      225      250 1\\n     248      226      227 1\\n     249      226      235 1\\n     250      227      228 1\\n     251      227      234 1\\n     252      228      229 1\\n     253      228      251 1\\n     254      229      230 1\\n     255      229      252 1\\n     256      230      231 1\\n     257      230      253 1\\n     258      231      232 1\\n     259      231      234 1\\n     260      232      233 1\\n     261      232      282 1\\n     262      234      254 1\\n     263      235      236 1\\n     264      235      245 1\\n     265      236      237 1\\n     266      236      244 1\\n     267      237      238 1\\n     268      237      255 1\\n     269      238      239 1\\n     270      238      256 1\\n     271      239      240 1\\n     272      239      243 1\\n     273      240      241 1\\n     274      240      242 1\\n     275      240      257 1\\n     276      241      258 1\\n     277      241      259 1\\n     278      241      260 1\\n     279      242      261 1\\n     280      243      244 1\\n     281      243      262 1\\n     282      244      263 1\\n     283      245      264 1\\n     284      265      266 1\\n     285      265      272 1\\n     286      265      273 1\\n     287      265      274 1\\n     288      266      267 1\\n     289      266      268 1\\n     290      266      269 1\\n     291      267      275 1\\n     292      267      276 1\\n     293      267      277 1\\n     294      268      278 1\\n     295      268      279 1\\n     296      268      280 1\\n     297      269      270 1\\n     298      270      271 1\\n     299      281      282 1\\n     300      281      283 1\\n     301      281      284 1\\n     302      281      285 1\\n@<TRIPOS>SUBSTRUCTURE\\n       1 Polymer         1 RESIDUE    0 **** ROOT      0\\n\",\"mol2\");\n\tviewer_1691594641138486.setStyle({\"stick\": {\"radius\": 0.2, \"color\": \"grey\"}, \"sphere\": {\"scale\": 0.3, \"colorscheme\": {}}});\n\tviewer_1691594641138486.zoomTo();\nviewer_1691594641138486.render();\n});\n</script>",
      "text/html": [
       "<div id=\"3dmolviewer_1691594641138486\"  style=\"position: relative; width: 640px; height: 480px\">\n",
       "        <p id=\"3dmolwarning_1691594641138486\" style=\"background-color:#ffcccc;color:black\">You appear to be running in JupyterLab (or JavaScript failed to load for some other reason).  You need to install the 3dmol extension: <br>\n",
       "        <tt>jupyter labextension install jupyterlab_3dmol</tt></p>\n",
       "        </div>\n",
       "<script>\n",
       "\n",
       "var loadScriptAsync = function(uri){\n",
       "  return new Promise((resolve, reject) => {\n",
       "    //this is to ignore the existence of requirejs amd\n",
       "    var savedexports, savedmodule;\n",
       "    if (typeof exports !== 'undefined') savedexports = exports;\n",
       "    else exports = {}\n",
       "    if (typeof module !== 'undefined') savedmodule = module;\n",
       "    else module = {}\n",
       "\n",
       "    var tag = document.createElement('script');\n",
       "    tag.src = uri;\n",
       "    tag.async = true;\n",
       "    tag.onload = () => {\n",
       "        exports = savedexports;\n",
       "        module = savedmodule;\n",
       "        resolve();\n",
       "    };\n",
       "  var firstScriptTag = document.getElementsByTagName('script')[0];\n",
       "  firstScriptTag.parentNode.insertBefore(tag, firstScriptTag);\n",
       "});\n",
       "};\n",
       "\n",
       "if(typeof $3Dmolpromise === 'undefined') {\n",
       "$3Dmolpromise = null;\n",
       "  $3Dmolpromise = loadScriptAsync('https://cdnjs.cloudflare.com/ajax/libs/3Dmol/2.0.1/3Dmol-min.js');\n",
       "}\n",
       "\n",
       "var viewer_1691594641138486 = null;\n",
       "var warn = document.getElementById(\"3dmolwarning_1691594641138486\");\n",
       "if(warn) {\n",
       "    warn.parentNode.removeChild(warn);\n",
       "}\n",
       "$3Dmolpromise.then(function() {\n",
       "viewer_1691594641138486 = $3Dmol.createViewer(document.getElementById(\"3dmolviewer_1691594641138486\"),{backgroundColor:\"white\"});\n",
       "viewer_1691594641138486.zoomTo();\n",
       "\tviewer_1691594641138486.addModel(\"@<TRIPOS>MOLECULE\\nPolymer\\n285 302 1 0 1\\nSMALL\\nNO_CHARGES\\n@<TRIPOS>CRYSIN\\n   61.4819    29.7023    36.2665    90.0000    90.0000    90.0000  1  1\\n@<TRIPOS>ATOM\\n       1 C           -3.0746    -5.6832    -0.6713 C             1 Polymer \\n       2 O           -1.9725    -4.8569    -0.7287 O             1 Polymer \\n       3 C           -1.9553    -3.5288    -0.4448 C             1 Polymer \\n       4 C           -3.1132    -2.8079    -0.0922 C             1 Polymer \\n       5 C           -3.0339    -1.4452     0.2135 C             1 Polymer \\n       6 C           -1.7987    -0.7762     0.1734 C             1 Polymer \\n       7 C           -1.6990     0.6327     0.6646 C             1 Polymer \\n       8 C           -0.6336     0.9775     1.5225 C             1 Polymer \\n       9 C           -0.4930     2.2628     2.0112 C             1 Polymer \\n      10 C           -1.4155     3.2364     1.6727 C             1 Polymer \\n      11 C           -2.5123     2.9350     0.8321 C             1 Polymer \\n      12 C           -3.5916     3.9287     0.5515 C             1 Polymer \\n      13 O           -4.5098     3.6064    -0.1839 O             1 Polymer \\n      14 C           -2.6460     1.6156     0.3388 C             1 Polymer \\n      15 C           -0.6384    -1.4896    -0.2368 C             1 Polymer \\n      16 C            0.6634    -0.7911    -0.4107 C             1 Polymer \\n      17 C            1.8410    -1.3171     0.1226 C             1 Polymer \\n      18 C            3.0315    -0.5928     0.0412 C             1 Polymer \\n      19 C            3.0853     0.6598    -0.6141 C             1 Polymer \\n      20 C            4.3485     1.5127    -0.7242 C             1 Polymer \\n      21 C            4.5740     2.3826     0.5217 C             1 Polymer \\n      22 N            5.5217     0.7304    -1.1071 N             1 Polymer \\n      23 C            1.9032     1.1546    -1.1889 C             1 Polymer \\n      24 C            0.7112     0.4468    -1.0800 C             1 Polymer \\n      25 C           -0.7306    -2.8604    -0.5168 C             1 Polymer \\n      26 H           -2.7685    -6.7111    -0.9556 H             1 Polymer \\n      27 H           -3.4800    -5.7085     0.3628 H             1 Polymer \\n      28 H           -3.8539    -5.3355    -1.3814 H             1 Polymer \\n      29 H           -4.0760    -3.2973    -0.0285 H             1 Polymer \\n      30 H           -3.9318    -0.9282     0.5293 H             1 Polymer \\n      31 H            0.0929     0.2430     1.8399 H             1 Polymer \\n      32 H            0.3295     2.5028     2.6730 H             1 Polymer \\n      33 H           -1.2432     4.2018     2.1131 H             1 Polymer \\n      34 H           -3.4850     1.3489    -0.2924 H             1 Polymer \\n      35 H            1.8305    -2.2635     0.6489 H             1 Polymer \\n      36 H            3.8830    -1.0447     0.5021 H             1 Polymer \\n      37 H            4.1713     2.2427    -1.5470 H             1 Polymer \\n      38 H            5.4702     3.0228     0.3794 H             1 Polymer \\n      39 H            4.6938     1.7818     1.4441 H             1 Polymer \\n      40 H            3.6949     3.0454     0.6747 H             1 Polymer \\n      41 H            5.8406     0.8071    -2.0848 H             1 Polymer \\n      42 H            1.8922     2.1086    -1.7015 H             1 Polymer \\n      43 H           -0.1841     0.8740    -1.5157 H             1 Polymer \\n      44 H            0.1517    -3.4120    -0.8186 H             1 Polymer \\n      45 C          -14.0613     4.2437    -1.9905 C             1 Polymer \\n      46 O          -12.7374     4.2693    -1.6113 O             1 Polymer \\n      47 C          -12.2684     4.5726    -0.3740 C             1 Polymer \\n      48 C          -13.1118     4.9240     0.7018 C             1 Polymer \\n      49 C          -12.5730     5.2165     1.9613 C             1 Polymer \\n      50 C          -11.1855     5.1639     2.1700 C             1 Polymer \\n      51 C          -10.6129     5.3347     3.5466 C             1 Polymer \\n      52 C           -9.6104     4.4412     3.9803 C             1 Polymer \\n      53 C           -9.0534     4.5365     5.2414 C             1 Polymer \\n      54 C           -9.4877     5.5134     6.1166 C             1 Polymer \\n      55 C          -10.5049     6.4214     5.7416 C             1 Polymer \\n      56 C          -11.0863     7.3989     6.7105 C             1 Polymer \\n      57 O          -11.9535     8.1633     6.3221 O             1 Polymer \\n      58 C          -11.0670     6.3143     4.4449 C             1 Polymer \\n      59 C          -10.3411     4.8600     1.0686 C             1 Polymer \\n      60 C           -8.8805     4.9559     1.2238 C             1 Polymer \\n      61 C           -8.0491     3.8493     1.0457 C             1 Polymer \\n      62 C           -6.6960     3.9489     1.3721 C             1 Polymer \\n      63 C           -6.1382     5.1780     1.7993 C             1 Polymer \\n      64 C           -4.6899     5.3455     2.2342 C             1 Polymer \\n      65 C           -4.4228     4.4453     3.4557 C             1 Polymer \\n      66 N           -3.6486     5.1087     1.2332 N             1 Polymer \\n      67 C           -6.9855     6.2866     1.9342 C             1 Polymer \\n      68 C           -8.3410     6.1709     1.6710 C             1 Polymer \\n      69 C          -10.8866     4.5470    -0.1778 C             1 Polymer \\n      70 H          -14.1216     3.9624    -3.0619 H             1 Polymer \\n      71 H          -14.6159     3.4894    -1.3932 H             1 Polymer \\n      72 H          -14.5159     5.2486    -1.8608 H             1 Polymer \\n      73 H          -14.1857     4.9557     0.5788 H             1 Polymer \\n      74 H          -13.2445     5.4420     2.7807 H             1 Polymer \\n      75 H           -9.2664     3.6333     3.3551 H             1 Polymer \\n      76 H           -8.2920     3.8317     5.5518 H             1 Polymer \\n      77 H           -9.0184     5.5004     7.0839 H             1 Polymer \\n      78 H          -11.8617     6.9822     4.1361 H             1 Polymer \\n      79 H           -8.4606     2.8956     0.7386 H             1 Polymer \\n      80 H           -6.1102     3.0452     1.3197 H             1 Polymer \\n      81 H           -4.5532     6.3925     2.5893 H             1 Polymer \\n      82 H           -3.3938     4.6176     3.8395 H             1 Polymer \\n      83 H           -4.5132     3.3714     3.1851 H             1 Polymer \\n      84 H           -5.1401     4.6718     4.2723 H             1 Polymer \\n      85 H           -2.7740     5.4348     1.6536 H             1 Polymer \\n      86 H           -6.6102     7.2371     2.2932 H             1 Polymer \\n      87 H           -8.9802     7.0309     1.8324 H             1 Polymer \\n      88 H          -10.2332     4.3135    -1.0101 H             1 Polymer \\n      89 C          -20.1634    12.9189     8.4985 C             1 Polymer \\n      90 O          -18.9961    12.2007     8.3633 O             1 Polymer \\n      91 C          -18.6333    11.1215     9.1034 C             1 Polymer \\n      92 C          -19.4294    10.6039    10.1473 C             1 Polymer \\n      93 C          -19.0106     9.4789    10.8702 C             1 Polymer \\n      94 C          -17.7919     8.8524    10.5643 C             1 Polymer \\n      95 C          -17.4072     7.5653    11.2334 C             1 Polymer \\n      96 C          -16.8958     6.5163    10.4405 C             1 Polymer \\n      97 C          -16.5397     5.3005    10.9921 C             1 Polymer \\n      98 C          -16.6962     5.0846    12.3484 C             1 Polymer \\n      99 C          -17.2231     6.0944    13.1861 C             1 Polymer \\n     100 C          -17.5265     5.8443    14.6277 C             1 Polymer \\n     101 O          -17.9684     6.7598    15.3013 O             1 Polymer \\n     102 C          -17.5836     7.3374    12.6082 C             1 Polymer \\n     103 C          -16.9740     9.4104     9.5469 C             1 Polymer \\n     104 C          -15.6254     8.8685     9.3159 C             1 Polymer \\n     105 C          -15.2618     8.3053     8.0921 C             1 Polymer \\n     106 C          -14.0333     7.6544     7.9744 C             1 Polymer \\n     107 C          -13.1141     7.6328     9.0506 C             1 Polymer \\n     108 C          -11.7871     6.8899     9.0155 C             1 Polymer \\n     109 C          -12.0554     5.3866     8.8156 C             1 Polymer \\n     110 N          -10.7867     7.3276     8.0405 N             1 Polymer \\n     111 C          -13.4863     8.2370    10.2602 C             1 Polymer \\n     112 C          -14.7332     8.8268    10.3972 C             1 Polymer \\n     113 C          -17.4083    10.5184     8.8160 C             1 Polymer \\n     114 H          -20.1674    13.7398     7.7525 H             1 Polymer \\n     115 H          -21.0396    12.2630     8.3100 H             1 Polymer \\n     116 H          -20.2249    13.3620     9.5149 H             1 Polymer \\n     117 H          -20.3818    11.0527    10.3948 H             1 Polymer \\n     118 H          -19.6601     9.0763    11.6377 H             1 Polymer \\n     119 H          -16.7960     6.6147     9.3717 H             1 Polymer \\n     120 H          -16.1595     4.5088    10.3586 H             1 Polymer \\n     121 H          -16.4171     4.1037    12.6886 H             1 Polymer \\n     122 H          -18.0098     8.1225    13.2205 H             1 Polymer \\n     123 H          -15.9577     8.2965     7.2621 H             1 Polymer \\n     124 H          -13.8362     7.1431     7.0462 H             1 Polymer \\n     125 H          -11.3115     6.9851    10.0192 H             1 Polymer \\n     126 H          -11.1021     4.8176     8.8741 H             1 Polymer \\n     127 H          -12.5102     5.1940     7.8202 H             1 Polymer \\n     128 H          -12.7373     5.0031     9.6030 H             1 Polymer \\n     129 H           -9.9204     6.8417     8.2882 H             1 Polymer \\n     130 H          -12.8316     8.2118    11.1228 H             1 Polymer \\n     131 H          -15.0132     9.2421    11.3581 H             1 Polymer \\n     132 H          -16.7773    10.9336     8.0391 H             1 Polymer \\n     133 C          -24.0672     9.3586    22.4420 C             1 Polymer \\n     134 O          -23.2423     8.8228    21.4778 O             1 Polymer \\n     135 C          -23.4185     7.6320    20.8502 C             1 Polymer \\n     136 C          -24.4947     6.7654    21.1361 C             1 Polymer \\n     137 C          -24.6344     5.5534    20.4476 C             1 Polymer \\n     138 C          -23.7037     5.1852    19.4630 C             1 Polymer \\n     139 C          -23.9277     3.9628    18.6217 C             1 Polymer \\n     140 C          -23.7254     4.0516    17.2279 C             1 Polymer \\n     141 C          -23.9317     2.9671    16.3970 C             1 Polymer \\n     142 C          -24.3620     1.7644    16.9243 C             1 Polymer \\n     143 C          -24.6009     1.6257    18.3113 C             1 Polymer \\n     144 C          -25.1943     0.3824    18.8893 C             1 Polymer \\n     145 O          -25.3636     0.3194    20.0953 O             1 Polymer \\n     146 C          -24.3834     2.7450    19.1531 C             1 Polymer \\n     147 C          -22.5955     6.0393    19.2180 C             1 Polymer \\n     148 C          -21.5262     5.6030    18.3053 C             1 Polymer \\n     149 C          -21.2146     6.3178    17.1481 C             1 Polymer \\n     150 C          -20.3155     5.7766    16.2288 C             1 Polymer \\n     151 C          -19.6497     4.5559    16.4932 C             1 Polymer \\n     152 C          -18.7092     3.8745    15.5109 C             1 Polymer \\n     153 C          -19.4874     3.5218    14.2294 C             1 Polymer \\n     154 N          -17.4803     4.5809    15.1427 N             1 Polymer \\n     155 C          -19.9501     3.8733    17.6806 C             1 Polymer \\n     156 C          -20.8915     4.3791    18.5631 C             1 Polymer \\n     157 C          -22.4759     7.2562    19.8922 C             1 Polymer \\n     158 H          -23.6571    10.3394    22.7594 H             1 Polymer \\n     159 H          -25.0860     9.5164    22.0292 H             1 Polymer \\n     160 H          -24.1086     8.6879    23.3260 H             1 Polymer \\n     161 H          -25.2387     7.0285    21.8757 H             1 Polymer \\n     162 H          -25.4930     4.9272    20.6559 H             1 Polymer \\n     163 H          -23.4345     4.9772    16.7582 H             1 Polymer \\n     164 H          -23.7784     3.0659    15.3296 H             1 Polymer \\n     165 H          -24.5205     0.9818    16.2044 H             1 Polymer \\n     166 H          -24.5776     2.6757    20.2164 H             1 Polymer \\n     167 H          -21.7266     7.2443    16.9191 H             1 Polymer \\n     168 H          -20.1831     6.3090    15.3011 H             1 Polymer \\n     169 H          -18.3925     2.9019    15.9540 H             1 Polymer \\n     170 H          -18.8387     2.9456    13.5346 H             1 Polymer \\n     171 H          -19.8238     4.4411    13.7038 H             1 Polymer \\n     172 H          -20.3754     2.9004    14.4704 H             1 Polymer \\n     173 H          -16.9093     3.9012    14.6331 H             1 Polymer \\n     174 H          -19.4940     2.9172    17.9073 H             1 Polymer \\n     175 H          -21.1407     3.8052    19.4479 H             1 Polymer \\n     176 H          -21.6285     7.9020    19.6944 H             1 Polymer \\n     177 C          -31.0232    -2.8690    27.3408 C             1 Polymer \\n     178 O          -30.3291    -2.5068    26.2060 O             1 Polymer \\n     179 C          -30.8486    -2.4095    24.9556 C             1 Polymer \\n     180 C          -32.1949    -2.6886    24.6602 C             1 Polymer \\n     181 C          -32.6777    -2.5587    23.3445 C             1 Polymer \\n     182 C          -31.8224    -2.1498    22.3136 C             1 Polymer \\n     183 C          -32.3665    -1.8703    20.9438 C             1 Polymer \\n     184 C          -31.9458    -0.7082    20.2662 C             1 Polymer \\n     185 C          -32.4257    -0.3885    19.0100 C             1 Polymer \\n     186 C          -33.3525    -1.2091    18.3939 C             1 Polymer \\n     187 C          -33.8249    -2.3778    19.0350 C             1 Polymer \\n     188 C          -34.9235    -3.2099    18.4532 C             1 Polymer \\n     189 O          -35.2824    -4.2095    19.0525 O             1 Polymer \\n     190 C          -33.3228    -2.6948    20.3221 C             1 Polymer \\n     191 C          -30.4525    -1.9187    22.6115 C             1 Polymer \\n     192 C          -29.5017    -1.6402    21.5241 C             1 Polymer \\n     193 C          -28.7789    -0.4484    21.4699 C             1 Polymer \\n     194 C          -28.0186    -0.1584    20.3368 C             1 Polymer \\n     195 C          -27.9005    -1.0933    19.2797 C             1 Polymer \\n     196 C          -27.1437    -0.8210    17.9887 C             1 Polymer \\n     197 C          -27.7946     0.3738    17.2658 C             1 Polymer \\n     198 N          -25.7006    -0.5924    18.0786 N             1 Polymer \\n     199 C          -28.6070    -2.3011    19.3737 C             1 Polymer \\n     200 C          -29.4135    -2.5610    20.4700 C             1 Polymer \\n     201 C          -29.9854    -2.0263    23.9248 C             1 Polymer \\n     202 H          -30.3260    -2.8601    28.2046 H             1 Polymer \\n     203 H          -31.8408    -2.1443    27.5378 H             1 Polymer \\n     204 H          -31.4343    -3.8944    27.2280 H             1 Polymer \\n     205 H          -32.8847    -2.9886    25.4355 H             1 Polymer \\n     206 H          -33.7287    -2.7399    23.1587 H             1 Polymer \\n     207 H          -31.2609    -0.0090    20.7187 H             1 Polymer \\n     208 H          -32.0933     0.5175    18.5184 H             1 Polymer \\n     209 H          -33.6908    -0.8728    17.4303 H             1 Polymer \\n     210 H          -33.6808    -3.5721    20.8469 H             1 Polymer \\n     211 H          -28.8692     0.2869    22.2602 H             1 Polymer \\n     212 H          -27.5608     0.8160    20.2893 H             1 Polymer \\n     213 H          -27.2826    -1.6979    17.3154 H             1 Polymer \\n     214 H          -27.3103     0.5330    16.2777 H             1 Polymer \\n     215 H          -27.6812     1.3065    17.8592 H             1 Polymer \\n     216 H          -28.8762     0.1856    17.0956 H             1 Polymer \\n     217 H          -25.3529    -0.6116    17.1163 H             1 Polymer \\n     218 H          -28.5759    -3.0304    18.5730 H             1 Polymer \\n     219 H          -29.9852    -3.4808    20.4927 H             1 Polymer \\n     220 H          -28.9399    -1.8443    24.1421 H             1 Polymer \\n     221 C          -42.6145   -10.0169    21.4151 C             1 Polymer \\n     222 O          -41.7041    -9.0666    21.0067 O             1 Polymer \\n     223 C          -41.9908    -7.7908    20.6421 C             1 Polymer \\n     224 C          -43.3025    -7.2706    20.6447 C             1 Polymer \\n     225 C          -43.5416    -5.9480    20.2579 C             1 Polymer \\n     226 C          -42.4848    -5.1119    19.8590 C             1 Polymer \\n     227 C          -42.7485    -3.6632    19.5468 C             1 Polymer \\n     228 C          -41.8416    -2.6725    19.9820 C             1 Polymer \\n     229 C          -42.0491    -1.3300    19.6940 C             1 Polymer \\n     230 C          -43.1680    -0.9359    18.9714 C             1 Polymer \\n     231 C          -44.1170    -1.8833    18.5469 C             1 Polymer \\n     232 C          -45.3150    -1.4761    17.7539 C             1 Polymer \\n     233 O          -45.9601    -2.3365    17.1748 O             1 Polymer \\n     234 C          -43.8972    -3.2498    18.8450 C             1 Polymer \\n     235 C          -41.1702    -5.6575    19.8206 C             1 Polymer \\n     236 C          -40.0498    -4.8880    19.2549 C             1 Polymer \\n     237 C          -38.9163    -4.5830    20.0107 C             1 Polymer \\n     238 C          -37.9324    -3.7517    19.4739 C             1 Polymer \\n     239 C          -38.0229    -3.2828    18.1424 C             1 Polymer \\n     240 C          -37.0206    -2.3253    17.5114 C             1 Polymer \\n     241 C          -37.0379    -0.9988    18.2922 C             1 Polymer \\n     242 N          -35.6327    -2.7758    17.3703 N             1 Polymer \\n     243 C          -39.1546    -3.6297    17.3880 C             1 Polymer \\n     244 C          -40.1640    -4.4032    17.9445 C             1 Polymer \\n     245 C          -40.9382    -6.9742    20.2308 C             1 Polymer \\n     246 H          -42.0765   -10.9625    21.6322 H             1 Polymer \\n     247 H          -43.1299    -9.6804    22.3393 H             1 Polymer \\n     248 H          -43.3553   -10.2087    20.6098 H             1 Polymer \\n     249 H          -44.1390    -7.8801    20.9546 H             1 Polymer \\n     250 H          -44.5554    -5.5706    20.3035 H             1 Polymer \\n     251 H          -40.9679    -2.9245    20.5630 H             1 Polymer \\n     252 H          -41.3316    -0.5906    20.0293 H             1 Polymer \\n     253 H          -43.2632     0.1123    18.7386 H             1 Polymer \\n     254 H          -44.6060    -3.9947    18.5080 H             1 Polymer \\n     255 H          -38.8291    -4.9277    21.0337 H             1 Polymer \\n     256 H          -37.1250    -3.4629    20.1265 H             1 Polymer \\n     257 H          -37.3780    -2.0816    16.4841 H             1 Polymer \\n     258 H          -36.3802    -0.2533    17.7950 H             1 Polymer \\n     259 H          -36.6700    -1.1458    19.3304 H             1 Polymer \\n     260 H          -38.0666    -0.5833    18.3306 H             1 Polymer \\n     261 H          -35.1726    -2.0795    16.7770 H             1 Polymer \\n     262 H          -39.2841    -3.2655    16.3762 H             1 Polymer \\n     263 H          -41.0433    -4.6241    17.3509 H             1 Polymer \\n     264 H          -39.9344    -7.3857    20.1920 H             1 Polymer \\n     265 C            8.8934    -2.4748    -1.1741 C             1 Polymer \\n     266 C            7.8732    -1.9169    -0.1736 C             1 Polymer \\n     267 C            6.8626    -3.0306     0.1799 C             1 Polymer \\n     268 C            8.6221    -1.4501     1.0933 C             1 Polymer \\n     269 O            7.2194    -0.8574    -0.7960 O             1 Polymer \\n     270 C            6.2157    -0.0997    -0.2794 C             1 Polymer \\n     271 O            5.9383    -0.1743     0.9073 O             1 Polymer \\n     272 H            9.4430    -3.3367    -0.7384 H             1 Polymer \\n     273 H            8.3793    -2.8149    -2.0993 H             1 Polymer \\n     274 H            9.6278    -1.6892    -1.4545 H             1 Polymer \\n     275 H            6.3268    -3.3688    -0.7332 H             1 Polymer \\n     276 H            6.1046    -2.6764     0.9087 H             1 Polymer \\n     277 H            7.3811    -3.9037     0.6299 H             1 Polymer \\n     278 H            9.3390    -0.6401     0.8403 H             1 Polymer \\n     279 H            7.9319    -1.0720     1.8730 H             1 Polymer \\n     280 H            9.1851    -2.2960     1.5423 H             1 Polymer \\n     281 C          -45.9946     0.6884    18.6218 C             1 Polymer \\n     282 O          -45.6960    -0.1814    17.5896 O             1 Polymer \\n     283 H          -46.8541     0.2950    19.2034 H             1 Polymer \\n     284 H          -46.2794     1.6709    18.1923 H             1 Polymer \\n     285 H          -45.1521     0.8508    19.3151 H             1 Polymer \\n@<TRIPOS>BOND\\n       1        1        2 1\\n       2        1       26 1\\n       3        1       27 1\\n       4        1       28 1\\n       5        2        3 1\\n       6        3        4 1\\n       7        3       25 1\\n       8        4        5 1\\n       9        4       29 1\\n      10        5        6 1\\n      11        5       30 1\\n      12        6        7 1\\n      13        6       15 1\\n      14        7        8 1\\n      15        7       14 1\\n      16        8        9 1\\n      17        8       31 1\\n      18        9       10 1\\n      19        9       32 1\\n      20       10       11 1\\n      21       10       33 1\\n      22       11       12 1\\n      23       11       14 1\\n      24       12       13 1\\n      25       12       66 1\\n      26       14       34 1\\n      27       15       16 1\\n      28       15       25 1\\n      29       16       17 1\\n      30       16       24 1\\n      31       17       18 1\\n      32       17       35 1\\n      33       18       19 1\\n      34       18       36 1\\n      35       19       20 1\\n      36       19       23 1\\n      37       20       21 1\\n      38       20       22 1\\n      39       20       37 1\\n      40       21       38 1\\n      41       21       39 1\\n      42       21       40 1\\n      43       22       41 1\\n      44       22      270 1\\n      45       23       24 1\\n      46       23       42 1\\n      47       24       43 1\\n      48       25       44 1\\n      49       45       46 1\\n      50       45       70 1\\n      51       45       71 1\\n      52       45       72 1\\n      53       46       47 1\\n      54       47       48 1\\n      55       47       69 1\\n      56       48       49 1\\n      57       48       73 1\\n      58       49       50 1\\n      59       49       74 1\\n      60       50       51 1\\n      61       50       59 1\\n      62       51       52 1\\n      63       51       58 1\\n      64       52       53 1\\n      65       52       75 1\\n      66       53       54 1\\n      67       53       76 1\\n      68       54       55 1\\n      69       54       77 1\\n      70       55       56 1\\n      71       55       58 1\\n      72       56       57 1\\n      73       56      110 1\\n      74       58       78 1\\n      75       59       60 1\\n      76       59       69 1\\n      77       60       61 1\\n      78       60       68 1\\n      79       61       62 1\\n      80       61       79 1\\n      81       62       63 1\\n      82       62       80 1\\n      83       63       64 1\\n      84       63       67 1\\n      85       64       65 1\\n      86       64       66 1\\n      87       64       81 1\\n      88       65       82 1\\n      89       65       83 1\\n      90       65       84 1\\n      91       66       85 1\\n      92       67       68 1\\n      93       67       86 1\\n      94       68       87 1\\n      95       69       88 1\\n      96       89       90 1\\n      97       89      114 1\\n      98       89      115 1\\n      99       89      116 1\\n     100       90       91 1\\n     101       91       92 1\\n     102       91      113 1\\n     103       92       93 1\\n     104       92      117 1\\n     105       93       94 1\\n     106       93      118 1\\n     107       94       95 1\\n     108       94      103 1\\n     109       95       96 1\\n     110       95      102 1\\n     111       96       97 1\\n     112       96      119 1\\n     113       97       98 1\\n     114       97      120 1\\n     115       98       99 1\\n     116       98      121 1\\n     117       99      100 1\\n     118       99      102 1\\n     119      100      101 1\\n     120      100      154 1\\n     121      102      122 1\\n     122      103      104 1\\n     123      103      113 1\\n     124      104      105 1\\n     125      104      112 1\\n     126      105      106 1\\n     127      105      123 1\\n     128      106      107 1\\n     129      106      124 1\\n     130      107      108 1\\n     131      107      111 1\\n     132      108      109 1\\n     133      108      110 1\\n     134      108      125 1\\n     135      109      126 1\\n     136      109      127 1\\n     137      109      128 1\\n     138      110      129 1\\n     139      111      112 1\\n     140      111      130 1\\n     141      112      131 1\\n     142      113      132 1\\n     143      133      134 1\\n     144      133      158 1\\n     145      133      159 1\\n     146      133      160 1\\n     147      134      135 1\\n     148      135      136 1\\n     149      135      157 1\\n     150      136      137 1\\n     151      136      161 1\\n     152      137      138 1\\n     153      137      162 1\\n     154      138      139 1\\n     155      138      147 1\\n     156      139      140 1\\n     157      139      146 1\\n     158      140      141 1\\n     159      140      163 1\\n     160      141      142 1\\n     161      141      164 1\\n     162      142      143 1\\n     163      142      165 1\\n     164      143      144 1\\n     165      143      146 1\\n     166      144      145 1\\n     167      144      198 1\\n     168      146      166 1\\n     169      147      148 1\\n     170      147      157 1\\n     171      148      149 1\\n     172      148      156 1\\n     173      149      150 1\\n     174      149      167 1\\n     175      150      151 1\\n     176      150      168 1\\n     177      151      152 1\\n     178      151      155 1\\n     179      152      153 1\\n     180      152      154 1\\n     181      152      169 1\\n     182      153      170 1\\n     183      153      171 1\\n     184      153      172 1\\n     185      154      173 1\\n     186      155      156 1\\n     187      155      174 1\\n     188      156      175 1\\n     189      157      176 1\\n     190      177      178 1\\n     191      177      202 1\\n     192      177      203 1\\n     193      177      204 1\\n     194      178      179 1\\n     195      179      180 1\\n     196      179      201 1\\n     197      180      181 1\\n     198      180      205 1\\n     199      181      182 1\\n     200      181      206 1\\n     201      182      183 1\\n     202      182      191 1\\n     203      183      184 1\\n     204      183      190 1\\n     205      184      185 1\\n     206      184      207 1\\n     207      185      186 1\\n     208      185      208 1\\n     209      186      187 1\\n     210      186      209 1\\n     211      187      188 1\\n     212      187      190 1\\n     213      188      189 1\\n     214      188      242 1\\n     215      190      210 1\\n     216      191      192 1\\n     217      191      201 1\\n     218      192      193 1\\n     219      192      200 1\\n     220      193      194 1\\n     221      193      211 1\\n     222      194      195 1\\n     223      194      212 1\\n     224      195      196 1\\n     225      195      199 1\\n     226      196      197 1\\n     227      196      198 1\\n     228      196      213 1\\n     229      197      214 1\\n     230      197      215 1\\n     231      197      216 1\\n     232      198      217 1\\n     233      199      200 1\\n     234      199      218 1\\n     235      200      219 1\\n     236      201      220 1\\n     237      221      222 1\\n     238      221      246 1\\n     239      221      247 1\\n     240      221      248 1\\n     241      222      223 1\\n     242      223      224 1\\n     243      223      245 1\\n     244      224      225 1\\n     245      224      249 1\\n     246      225      226 1\\n     247      225      250 1\\n     248      226      227 1\\n     249      226      235 1\\n     250      227      228 1\\n     251      227      234 1\\n     252      228      229 1\\n     253      228      251 1\\n     254      229      230 1\\n     255      229      252 1\\n     256      230      231 1\\n     257      230      253 1\\n     258      231      232 1\\n     259      231      234 1\\n     260      232      233 1\\n     261      232      282 1\\n     262      234      254 1\\n     263      235      236 1\\n     264      235      245 1\\n     265      236      237 1\\n     266      236      244 1\\n     267      237      238 1\\n     268      237      255 1\\n     269      238      239 1\\n     270      238      256 1\\n     271      239      240 1\\n     272      239      243 1\\n     273      240      241 1\\n     274      240      242 1\\n     275      240      257 1\\n     276      241      258 1\\n     277      241      259 1\\n     278      241      260 1\\n     279      242      261 1\\n     280      243      244 1\\n     281      243      262 1\\n     282      244      263 1\\n     283      245      264 1\\n     284      265      266 1\\n     285      265      272 1\\n     286      265      273 1\\n     287      265      274 1\\n     288      266      267 1\\n     289      266      268 1\\n     290      266      269 1\\n     291      267      275 1\\n     292      267      276 1\\n     293      267      277 1\\n     294      268      278 1\\n     295      268      279 1\\n     296      268      280 1\\n     297      269      270 1\\n     298      270      271 1\\n     299      281      282 1\\n     300      281      283 1\\n     301      281      284 1\\n     302      281      285 1\\n@<TRIPOS>SUBSTRUCTURE\\n       1 Polymer         1 RESIDUE    0 **** ROOT      0\\n\",\"mol2\");\n",
       "\tviewer_1691594641138486.setStyle({\"stick\": {\"radius\": 0.2, \"color\": \"grey\"}, \"sphere\": {\"scale\": 0.3, \"colorscheme\": {}}});\n",
       "\tviewer_1691594641138486.zoomTo();\n",
       "viewer_1691594641138486.render();\n",
       "});\n",
       "</script>"
      ]
     },
     "metadata": {},
     "output_type": "display_data"
    },
    {
     "data": {
      "text/plain": [
       "<py3Dmol.view at 0x7f531b204af0>"
      ]
     },
     "execution_count": 8,
     "metadata": {},
     "output_type": "execute_result"
    }
   ],
   "source": [
    "chain.visualize(show_ports=True)"
   ]
  },
  {
   "cell_type": "markdown",
   "id": "438faabc",
   "metadata": {},
   "source": [
    "Next we add specific residue labels for the componenets of the `Polymer` object. Here we label the monomers as HEX and the capping moieties as CAP."
   ]
  },
  {
   "cell_type": "code",
   "execution_count": 9,
   "id": "106fb8a7",
   "metadata": {},
   "outputs": [
    {
     "name": "stdout",
     "output_type": "stream",
     "text": [
      "OrderedDict([('monomer', [<Compound 44 particles, 46 bonds, non-periodic, id: 139994930129664>, <Compound 44 particles, 46 bonds, non-periodic, id: 139994930124720>, <Compound 44 particles, 46 bonds, non-periodic, id: 139994968439440>, <Compound 44 particles, 46 bonds, non-periodic, id: 139994930309648>, <Compound 44 particles, 46 bonds, non-periodic, id: 139994930495344>, <Compound 44 particles, 46 bonds, non-periodic, id: 139994930899472>]), ('monomer[0]', <Compound 44 particles, 46 bonds, non-periodic, id: 139994930129664>), ('monomer[1]', <Compound 44 particles, 46 bonds, non-periodic, id: 139994930124720>), ('monomer[2]', <Compound 44 particles, 46 bonds, non-periodic, id: 139994968439440>), ('monomer[3]', <Compound 44 particles, 46 bonds, non-periodic, id: 139994930309648>), ('monomer[4]', <Compound 44 particles, 46 bonds, non-periodic, id: 139994930495344>), ('monomer[5]', <Compound 44 particles, 46 bonds, non-periodic, id: 139994930899472>), ('Compound', [<Compound 16 particles, 15 bonds, non-periodic, id: 139994968652096>, <Compound 5 particles, 4 bonds, non-periodic, id: 139994968816656>]), ('Compound[0]', <Compound 16 particles, 15 bonds, non-periodic, id: 139994968652096>), ('Compound[1]', <Compound 5 particles, 4 bonds, non-periodic, id: 139994968816656>)])\n",
      "<HEX 44 particles, 46 bonds, non-periodic, id: 139994930129664>\n",
      "<HEX 44 particles, 46 bonds, non-periodic, id: 139994930124720>\n",
      "<HEX 44 particles, 46 bonds, non-periodic, id: 139994968439440>\n",
      "<HEX 44 particles, 46 bonds, non-periodic, id: 139994930309648>\n",
      "<HEX 44 particles, 46 bonds, non-periodic, id: 139994930495344>\n",
      "<HEX 44 particles, 46 bonds, non-periodic, id: 139994930899472>\n",
      "<CAP 16 particles, 15 bonds, non-periodic, id: 139994968652096>\n",
      "<CAP 5 particles, 4 bonds, non-periodic, id: 139994968816656>\n"
     ]
    }
   ],
   "source": [
    "print(chain.labels)\n",
    "for label in chain.labels[\"monomer\"]:\n",
    "    label.name = \"HEX\"\n",
    "    print(label)\n",
    "for label in chain.labels[\"Compound\"]:\n",
    "    label.name = \"CAP\"\n",
    "    print(label)"
   ]
  },
  {
   "cell_type": "markdown",
   "id": "a6e0bc38",
   "metadata": {},
   "source": [
    "We save these as a pdb file and provide the names of the residues to include in the file."
   ]
  },
  {
   "cell_type": "code",
   "execution_count": 10,
   "id": "eaa3f061",
   "metadata": {
    "scrolled": true
   },
   "outputs": [],
   "source": [
    "chain.save(\"pom_hexamer_mbuild.pdb\", overwrite=True, residues=[\"HEX\", \"CAP\"])"
   ]
  },
  {
   "cell_type": "markdown",
   "id": "0b405a5a",
   "metadata": {},
   "source": [
    "Using Gromacs I generate a new gro file with the correct residue labels. `mbuild` doesn't seem to label residues correctly when writing `.gro` files."
   ]
  },
  {
   "cell_type": "code",
   "execution_count": 11,
   "id": "a6c16565",
   "metadata": {},
   "outputs": [
    {
     "name": "stdout",
     "output_type": "stream",
     "text": [
      "                     :-) GROMACS - gmx editconf, 2022.4 (-:\n",
      "\n",
      "Executable:   /usr/local/bin/gmx\n",
      "Data prefix:  /usr/local\n",
      "Working dir:  /home/tfobe/Research/terphenyl_simulations/examples/build_polymer/pom\n",
      "Command line:\n",
      "  gmx editconf -f pom_hexamer_mbuild.pdb -o pom_hexamer_mbuild.gro\n",
      "\n",
      "Note that major changes are planned in future for editconf, to improve usability and utility.\n",
      "WARNING: all CONECT records are ignored\n",
      "Read 285 atoms\n",
      "Volume: 66.2267 nm^3, corresponds to roughly 29800 electrons\n",
      "No velocities found\n",
      "\n",
      "Back Off! I just backed up pom_hexamer_mbuild.gro to ./#pom_hexamer_mbuild.gro.3#\n",
      "\n",
      "GROMACS reminds you: \"It's Unacceptable That Chocolate Makes You Fat\" (MI 3)\n",
      "\n"
     ]
    }
   ],
   "source": [
    "! gmx editconf -f pom_hexamer_mbuild.pdb -o pom_hexamer_mbuild.gro"
   ]
  },
  {
   "cell_type": "markdown",
   "id": "527e9edb",
   "metadata": {},
   "source": [
    "Lastly, I use openBabel to generate a `.mol` file for use in the OpenFF parameter assignment workflow."
   ]
  },
  {
   "cell_type": "code",
   "execution_count": 12,
   "id": "07362221",
   "metadata": {},
   "outputs": [
    {
     "name": "stdout",
     "output_type": "stream",
     "text": [
      "==============================\n",
      "*** Open Babel Error  in ReadMolecule\n",
      "  ERROR: not a valid PDB file\n",
      "\n",
      "1 molecule converted\n"
     ]
    }
   ],
   "source": [
    "! obabel -ipdb pom_hexamer_mbuild.pdb -omol pom_hexamer_mbuild.mol -O pom_hexamer_mbuild.mol"
   ]
  },
  {
   "cell_type": "code",
   "execution_count": 13,
   "id": "666ee374",
   "metadata": {
    "scrolled": true
   },
   "outputs": [
    {
     "name": "stdout",
     "output_type": "stream",
     "text": [
      "<TET 44 particles, 46 bonds, non-periodic, id: 139994968650560>\n",
      "<TET 44 particles, 46 bonds, non-periodic, id: 139994914127248>\n",
      "<TET 44 particles, 46 bonds, non-periodic, id: 139994914914016>\n",
      "<TET 44 particles, 46 bonds, non-periodic, id: 139995653240912>\n",
      "<CAP 16 particles, 15 bonds, non-periodic, id: 139994914702816>\n",
      "<CAP 5 particles, 4 bonds, non-periodic, id: 139994914118176>\n",
      "Note that major changes are planned in future for editconf, to improve usability and utility.\n",
      "Read 197 atoms\n",
      "Volume: 34.0203 nm^3, corresponds to roughly 15300 electrons\n",
      "No velocities found\n"
     ]
    },
    {
     "name": "stderr",
     "output_type": "stream",
     "text": [
      "                     :-) GROMACS - gmx editconf, 2022.4 (-:\n",
      "\n",
      "Executable:   /usr/local/bin/gmx\n",
      "Data prefix:  /usr/local\n",
      "Working dir:  /home/tfobe/Research/terphenyl_simulations/examples/build_polymer/pom\n",
      "Command line:\n",
      "  gmx editconf -f pom_tetramer_mbuild.pdb -o pom_tetramer_mbuild.gro\n",
      "\n",
      "WARNING: all CONECT records are ignored\n",
      "\n",
      "Back Off! I just backed up pom_tetramer_mbuild.gro to ./#pom_tetramer_mbuild.gro.2#\n",
      "\n",
      "GROMACS reminds you: \"Marie, you're looking more radiant every day!\" (Pierre Curie)\n",
      "\n",
      "==============================\n",
      "*** Open Babel Error  in ReadMolecule\n",
      "  ERROR: not a valid PDB file\n",
      "\n",
      "1 molecule converted\n",
      "Warning: importing 'simtk.openmm' is deprecated.  Import 'openmm' instead.\n"
     ]
    },
    {
     "name": "stdout",
     "output_type": "stream",
     "text": [
      "<HEX 44 particles, 46 bonds, non-periodic, id: 139995653944080>\n",
      "<HEX 44 particles, 46 bonds, non-periodic, id: 139995653943360>\n",
      "<HEX 44 particles, 46 bonds, non-periodic, id: 139995652046800>\n",
      "<HEX 44 particles, 46 bonds, non-periodic, id: 139995652158944>\n",
      "<HEX 44 particles, 46 bonds, non-periodic, id: 139995652307408>\n",
      "<HEX 44 particles, 46 bonds, non-periodic, id: 139995652501184>\n",
      "<CAP 16 particles, 15 bonds, non-periodic, id: 139995653847264>\n",
      "<CAP 5 particles, 4 bonds, non-periodic, id: 139995653848704>\n",
      "Note that major changes are planned in future for editconf, to improve usability and utility.\n",
      "Read 285 atoms\n",
      "Volume: 66.4721 nm^3, corresponds to roughly 29900 electrons\n",
      "No velocities found\n"
     ]
    },
    {
     "name": "stderr",
     "output_type": "stream",
     "text": [
      "                     :-) GROMACS - gmx editconf, 2022.4 (-:\n",
      "\n",
      "Executable:   /usr/local/bin/gmx\n",
      "Data prefix:  /usr/local\n",
      "Working dir:  /home/tfobe/Research/terphenyl_simulations/examples/build_polymer/pom\n",
      "Command line:\n",
      "  gmx editconf -f pom_hexamer_mbuild.pdb -o pom_hexamer_mbuild.gro\n",
      "\n",
      "WARNING: all CONECT records are ignored\n",
      "\n",
      "Back Off! I just backed up pom_hexamer_mbuild.gro to ./#pom_hexamer_mbuild.gro.4#\n",
      "\n",
      "GROMACS reminds you: \"I Live the Life They Wish They Did\" (Tricky)\n",
      "\n",
      "==============================\n",
      "*** Open Babel Error  in ReadMolecule\n",
      "  ERROR: not a valid PDB file\n",
      "\n",
      "1 molecule converted\n",
      "Warning: importing 'simtk.openmm' is deprecated.  Import 'openmm' instead.\n"
     ]
    },
    {
     "name": "stdout",
     "output_type": "stream",
     "text": [
      "<OCT 44 particles, 46 bonds, non-periodic, id: 139995650213008>\n",
      "<OCT 44 particles, 46 bonds, non-periodic, id: 139995650077264>\n",
      "<OCT 44 particles, 46 bonds, non-periodic, id: 139995650309904>\n",
      "<OCT 44 particles, 46 bonds, non-periodic, id: 139995649928800>\n",
      "<OCT 44 particles, 46 bonds, non-periodic, id: 139995650637776>\n",
      "<OCT 44 particles, 46 bonds, non-periodic, id: 139995650768704>\n",
      "<OCT 44 particles, 46 bonds, non-periodic, id: 139995648882960>\n",
      "<OCT 44 particles, 46 bonds, non-periodic, id: 139995648881760>\n",
      "<CAP 16 particles, 15 bonds, non-periodic, id: 139995650067904>\n",
      "<CAP 5 particles, 4 bonds, non-periodic, id: 139995649929904>\n",
      "Note that major changes are planned in future for editconf, to improve usability and utility.\n",
      "Read 373 atoms\n",
      "Volume: 93.9731 nm^3, corresponds to roughly 42200 electrons\n",
      "No velocities found\n"
     ]
    },
    {
     "name": "stderr",
     "output_type": "stream",
     "text": [
      "                     :-) GROMACS - gmx editconf, 2022.4 (-:\n",
      "\n",
      "Executable:   /usr/local/bin/gmx\n",
      "Data prefix:  /usr/local\n",
      "Working dir:  /home/tfobe/Research/terphenyl_simulations/examples/build_polymer/pom\n",
      "Command line:\n",
      "  gmx editconf -f pom_octamer_mbuild.pdb -o pom_octamer_mbuild.gro\n",
      "\n",
      "WARNING: all CONECT records are ignored\n",
      "\n",
      "Back Off! I just backed up pom_octamer_mbuild.gro to ./#pom_octamer_mbuild.gro.2#\n",
      "\n",
      "GROMACS reminds you: \"Uh-oh .... Right Again\" (Laurie Anderson)\n",
      "\n",
      "==============================\n",
      "*** Open Babel Error  in ReadMolecule\n",
      "  ERROR: not a valid PDB file\n",
      "\n",
      "1 molecule converted\n",
      "Warning: importing 'simtk.openmm' is deprecated.  Import 'openmm' instead.\n"
     ]
    },
    {
     "name": "stdout",
     "output_type": "stream",
     "text": [
      "<DEC 44 particles, 46 bonds, non-periodic, id: 139995625049632>\n",
      "<DEC 44 particles, 46 bonds, non-periodic, id: 139995624905152>\n",
      "<DEC 44 particles, 46 bonds, non-periodic, id: 139995625282896>\n",
      "<DEC 44 particles, 46 bonds, non-periodic, id: 139995625430448>\n",
      "<DEC 44 particles, 46 bonds, non-periodic, id: 139995625430064>\n",
      "<DEC 44 particles, 46 bonds, non-periodic, id: 139995623771584>\n",
      "<DEC 44 particles, 46 bonds, non-periodic, id: 139995623782624>\n",
      "<DEC 44 particles, 46 bonds, non-periodic, id: 139995625535280>\n",
      "<DEC 44 particles, 46 bonds, non-periodic, id: 139995624251088>\n",
      "<DEC 44 particles, 46 bonds, non-periodic, id: 139995624251472>\n",
      "<CAP 16 particles, 15 bonds, non-periodic, id: 139995624904432>\n",
      "<CAP 5 particles, 4 bonds, non-periodic, id: 139995624816016>\n",
      "Note that major changes are planned in future for editconf, to improve usability and utility.\n",
      "Read 461 atoms\n",
      "Volume: 148.517 nm^3, corresponds to roughly 66800 electrons\n",
      "No velocities found\n"
     ]
    },
    {
     "name": "stderr",
     "output_type": "stream",
     "text": [
      "                     :-) GROMACS - gmx editconf, 2022.4 (-:\n",
      "\n",
      "Executable:   /usr/local/bin/gmx\n",
      "Data prefix:  /usr/local\n",
      "Working dir:  /home/tfobe/Research/terphenyl_simulations/examples/build_polymer/pom\n",
      "Command line:\n",
      "  gmx editconf -f pom_decamer_mbuild.pdb -o pom_decamer_mbuild.gro\n",
      "\n",
      "WARNING: all CONECT records are ignored\n",
      "\n",
      "Back Off! I just backed up pom_decamer_mbuild.gro to ./#pom_decamer_mbuild.gro.2#\n",
      "\n",
      "GROMACS reminds you: \"We cannot wait for Nature's good graces - to take them from her is our goal\" (Ivan Michurin)\n",
      "\n",
      "==============================\n",
      "*** Open Babel Error  in ReadMolecule\n",
      "  ERROR: not a valid PDB file\n",
      "\n",
      "1 molecule converted\n",
      "Warning: importing 'simtk.openmm' is deprecated.  Import 'openmm' instead.\n"
     ]
    }
   ],
   "source": [
    "n_residues = [3,4,6,8,10]\n",
    "residue_labels = [\"TRI\", \"TET\", \"HEX\", \"OCT\", \"DEC\"]\n",
    "file_names = [\"pom_trimer_mbuild\", \"pom_tetramer_mbuild\", \"pom_hexamer_mbuild\", \"pom_octamer_mbuild\", \"pom_decamer_mbuild\"]\n",
    "for i in range(len(n_residues)):\n",
    "    # Generate polymer\n",
    "    chain = Polymer()\n",
    "    chain.add_monomer(compound=comp,\n",
    "                      indices=[nterm_connect - 1, cterm_connect - 1],\n",
    "                      separation=.15,\n",
    "                      replace=True,\n",
    "                      # orientation = [[1,0,0],[1,0,0]]\n",
    "                     )\n",
    "    chain.add_end_groups(compound = cap_n,\n",
    "                         index = -1,\n",
    "                         separation=0.15,\n",
    "                         label=\"head\",\n",
    "                         duplicate = False\n",
    "                        )\n",
    "\n",
    "    chain.add_end_groups(compound = cap_o,\n",
    "                         index = -1,\n",
    "                         separation=0.15,\n",
    "                         label=\"tail\",\n",
    "                         duplicate = False\n",
    "                        )\n",
    "\n",
    "    chain.build(n=n_residues[i], sequence='A')\n",
    "    chain.energy_minimize() \n",
    "\n",
    "\n",
    "    # Relabel chains\n",
    "    for label in chain.labels[\"monomer\"]:\n",
    "        label.name = residue_labels[i]\n",
    "        print(label)\n",
    "    for label in chain.labels[\"Compound\"]:\n",
    "        label.name = \"CAP\"\n",
    "        print(label)\n",
    "            \n",
    "            \n",
    "    chain.save(file_names[i] + \".pdb\", overwrite=True, residues=[residue_labels[i], \"CAP\"])\n",
    "    \n",
    "    subprocess.run([\"gmx\", \"editconf\", \"-f\", file_names[i] + \".pdb\", \"-o\", file_names[i]+ \".gro\"])\n",
    "    subprocess.run([\"obabel\", \"-ipdb\", file_names[i] + \".pdb\", \"-omol\", file_names[i] + \".mol\",  \"-O\", file_names[i] + \".mol\"])\n",
    "    subprocess.run([\"renumber_pdb_atoms\", \"-f\", file_names[i] + \".pdb\", \"-o\", file_names[i] + \"_renum.pdb\"])"
   ]
  },
  {
   "cell_type": "code",
   "execution_count": null,
   "id": "a5211cf3",
   "metadata": {},
   "outputs": [],
   "source": []
  }
 ],
 "metadata": {
  "kernelspec": {
   "display_name": "Python 3 (ipykernel)",
   "language": "python",
   "name": "python3"
  },
  "language_info": {
   "codemirror_mode": {
    "name": "ipython",
    "version": 3
   },
   "file_extension": ".py",
   "mimetype": "text/x-python",
   "name": "python",
   "nbconvert_exporter": "python",
   "pygments_lexer": "ipython3",
   "version": "3.10.10"
  }
 },
 "nbformat": 4,
 "nbformat_minor": 5
}
