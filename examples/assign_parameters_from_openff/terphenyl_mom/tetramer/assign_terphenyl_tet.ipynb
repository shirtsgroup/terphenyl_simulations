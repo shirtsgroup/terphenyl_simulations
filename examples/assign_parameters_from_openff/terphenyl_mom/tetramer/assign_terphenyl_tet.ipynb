{
 "cells": [
  {
   "cell_type": "markdown",
   "metadata": {},
   "source": [
    " <div class=\"alert alert-block alert-info\">\n",
    "    <b>Note:</b> \n",
    "    Interchange is in the process of replacing ParmEd in many workflows, but it still in an alpha testing phase. Our internal tests indicate it is reliable for many small-molecule systems, but it is not yet reliable for complex, multi-component systems and there are likely still rough edges throughout. Feedback is welcome on the <a href=https://github.com/openforcefield/openff-interchange/issues/>Interchange issue tracker.</a></div>"
   ]
  },
  {
   "cell_type": "markdown",
   "metadata": {},
   "source": [
    "## Using OpenFF force fields in Amber and GROMACS\n",
    "\n",
    "The Open Forcefield Toolkit can create parametrized `openmm.System` objects that can be natively simulated with OpenMM. This example shows the Interchange project can enable parallel workflows using Amber and GROMACS."
   ]
  },
  {
   "cell_type": "markdown",
   "metadata": {},
   "source": [
    "### Preparing an OpenFF Topology\n",
    "\n",
    "We start by loading a PDB file containing one copy of ethanol and cyclohexane. Our goal is to create an OpenFF `Topology` object describing this system that we can parametrize with the SMIRNOFF-format \"Sage\" force field.\n",
    "\n",
    "The two `Molecule` objects created from the SMILES strings can contain information such as partial charges and stereochemistry that is not included in an OpenMM topology. In this example, partial charges are not explicitly given, and `ForceField` will assign AM1/BCC charges as specified by the \"Sage\" force field. Note that the OpenFF Toolkit produces partial charges that do not depend on the input conformation of parameterized molecules. See the [FAQ](https://open-forcefield-toolkit.readthedocs.io/en/latest/faq.html#the-partial-charges-generated-by-the-toolkit-don-t-seem-to-depend-on-the-molecule-s-conformation-is-this-a-bug) for more information."
   ]
  },
  {
   "cell_type": "code",
   "execution_count": 1,
   "metadata": {},
   "outputs": [],
   "source": [
    "try:\n",
    "    from openmm import app\n",
    "except ImportError:\n",
    "    from simtk.openmm import app\n",
    "\n",
    "from openff.toolkit.topology import FrozenMolecule, Molecule, Topology\n",
    "from openff.toolkit.typing.engines.smirnoff import ForceField\n",
    "import pdb"
   ]
  },
  {
   "cell_type": "code",
   "execution_count": 2,
   "metadata": {},
   "outputs": [
    {
     "data": {
      "image/svg+xml": [
       "<svg xmlns=\"http://www.w3.org/2000/svg\" xmlns:rdkit=\"http://www.rdkit.org/xml\" xmlns:xlink=\"http://www.w3.org/1999/xlink\" version=\"1.1\" baseProfile=\"full\" xml:space=\"preserve\" width=\"500px\" height=\"300px\" viewBox=\"0 0 500 300\">\n",
       "<!-- END OF HEADER -->\n",
       "<rect style=\"opacity:1.0;fill:#FFFFFF;stroke:none\" width=\"500.0\" height=\"300.0\" x=\"0.0\" y=\"0.0\"> </rect>\n",
       "<path class=\"bond-0 atom-0 atom-104\" d=\"M 273.2,147.3 L 272.3,141.9\" style=\"fill:none;fill-rule:evenodd;stroke:#000000;stroke-width:2.0px;stroke-linecap:butt;stroke-linejoin:miter;stroke-opacity:1\"/>\n",
       "<path class=\"bond-1 atom-2 atom-107\" d=\"M 290.1,170.5 L 288.0,169.3\" style=\"fill:none;fill-rule:evenodd;stroke:#000000;stroke-width:2.0px;stroke-linecap:butt;stroke-linejoin:miter;stroke-opacity:1\"/>\n",
       "<path class=\"bond-1 atom-2 atom-107\" d=\"M 288.0,169.3 L 286.0,168.1\" style=\"fill:none;fill-rule:evenodd;stroke:#0000FF;stroke-width:2.0px;stroke-linecap:butt;stroke-linejoin:miter;stroke-opacity:1\"/>\n",
       "<path class=\"bond-2 atom-3 atom-112\" d=\"M 313.6,196.2 L 307.8,199.7\" style=\"fill:none;fill-rule:evenodd;stroke:#000000;stroke-width:2.0px;stroke-linecap:butt;stroke-linejoin:miter;stroke-opacity:1\"/>\n",
       "<path class=\"bond-3 atom-4 atom-113\" d=\"M 299.6,187.9 L 299.6,194.9\" style=\"fill:none;fill-rule:evenodd;stroke:#000000;stroke-width:2.0px;stroke-linecap:butt;stroke-linejoin:miter;stroke-opacity:1\"/>\n",
       "<path class=\"bond-4 atom-5 atom-166\" d=\"M 302.7,32.8 L 306.1,38.5\" style=\"fill:none;fill-rule:evenodd;stroke:#000000;stroke-width:2.0px;stroke-linecap:butt;stroke-linejoin:miter;stroke-opacity:1\"/>\n",
       "<path class=\"bond-5 atom-7 atom-134\" d=\"M 185.9,112.4 L 191.8,115.8\" style=\"fill:none;fill-rule:evenodd;stroke:#000000;stroke-width:2.0px;stroke-linecap:butt;stroke-linejoin:miter;stroke-opacity:1\"/>\n",
       "<path class=\"bond-6 atom-8 atom-135\" d=\"M 199.8,103.8 L 199.9,110.9\" style=\"fill:none;fill-rule:evenodd;stroke:#000000;stroke-width:2.0px;stroke-linecap:butt;stroke-linejoin:miter;stroke-opacity:1\"/>\n",
       "<path class=\"bond-7 atom-9 atom-124\" d=\"M 289.8,227.4 L 283.1,224.4\" style=\"fill:none;fill-rule:evenodd;stroke:#000000;stroke-width:2.0px;stroke-linecap:butt;stroke-linejoin:miter;stroke-opacity:1\"/>\n",
       "<path class=\"bond-8 atom-11 atom-127\" d=\"M 259.3,213.5 L 265.7,216.8\" style=\"fill:none;fill-rule:evenodd;stroke:#000000;stroke-width:2.0px;stroke-linecap:butt;stroke-linejoin:miter;stroke-opacity:1\"/>\n",
       "<path class=\"bond-9 atom-12 atom-130\" d=\"M 260.5,239.4 L 262.9,240.5\" style=\"fill:none;fill-rule:evenodd;stroke:#000000;stroke-width:2.0px;stroke-linecap:butt;stroke-linejoin:miter;stroke-opacity:1\"/>\n",
       "<path class=\"bond-9 atom-12 atom-130\" d=\"M 262.9,240.5 L 265.2,241.7\" style=\"fill:none;fill-rule:evenodd;stroke:#0000FF;stroke-width:2.0px;stroke-linecap:butt;stroke-linejoin:miter;stroke-opacity:1\"/>\n",
       "<path class=\"bond-10 atom-13 atom-101\" d=\"M 271.6,116.2 L 271.7,123.1\" style=\"fill:none;fill-rule:evenodd;stroke:#000000;stroke-width:2.0px;stroke-linecap:butt;stroke-linejoin:miter;stroke-opacity:1\"/>\n",
       "<path class=\"bond-11 atom-14 atom-99\" d=\"M 301.3,165.3 L 300.8,158.4\" style=\"fill:none;fill-rule:evenodd;stroke:#000000;stroke-width:2.0px;stroke-linecap:butt;stroke-linejoin:miter;stroke-opacity:1\"/>\n",
       "<path class=\"bond-12 atom-15 atom-138\" d=\"M 210.6,143.4 L 217.1,140.2\" style=\"fill:none;fill-rule:evenodd;stroke:#000000;stroke-width:2.0px;stroke-linecap:butt;stroke-linejoin:miter;stroke-opacity:1\"/>\n",
       "<path class=\"bond-13 atom-16 atom-110\" d=\"M 299.5,221.0 L 299.5,213.9\" style=\"fill:none;fill-rule:evenodd;stroke:#000000;stroke-width:2.0px;stroke-linecap:butt;stroke-linejoin:miter;stroke-opacity:1\"/>\n",
       "<path class=\"bond-14 atom-17 atom-90\" d=\"M 298.3,102.6 L 298.5,109.8\" style=\"fill:none;fill-rule:evenodd;stroke:#000000;stroke-width:2.0px;stroke-linecap:butt;stroke-linejoin:miter;stroke-opacity:1\"/>\n",
       "<path class=\"bond-15 atom-18 atom-122\" d=\"M 289.3,180.3 L 283.5,183.5\" style=\"fill:none;fill-rule:evenodd;stroke:#000000;stroke-width:2.0px;stroke-linecap:butt;stroke-linejoin:miter;stroke-opacity:1\"/>\n",
       "<path class=\"bond-16 atom-19 atom-143\" d=\"M 236.9,111.5 L 232.7,108.1\" style=\"fill:none;fill-rule:evenodd;stroke:#000000;stroke-width:2.0px;stroke-linecap:butt;stroke-linejoin:miter;stroke-opacity:1\"/>\n",
       "<path class=\"bond-17 atom-20 atom-151\" d=\"M 247.6,114.6 L 240.0,126.6\" style=\"fill:none;fill-rule:evenodd;stroke:#000000;stroke-width:2.0px;stroke-linecap:butt;stroke-linejoin:miter;stroke-opacity:1\"/>\n",
       "<path class=\"bond-18 atom-20 atom-191\" d=\"M 247.6,114.6 L 250.2,117.4\" style=\"fill:none;fill-rule:evenodd;stroke:#000000;stroke-width:2.0px;stroke-linecap:butt;stroke-linejoin:miter;stroke-opacity:1\"/>\n",
       "<path class=\"bond-19 atom-20 atom-192\" d=\"M 247.6,114.6 L 252.3,112.5\" style=\"fill:none;fill-rule:evenodd;stroke:#000000;stroke-width:2.0px;stroke-linecap:butt;stroke-linejoin:miter;stroke-opacity:1\"/>\n",
       "<path class=\"bond-20 atom-20 atom-193\" d=\"M 247.6,114.6 L 245.0,108.4\" style=\"fill:none;fill-rule:evenodd;stroke:#000000;stroke-width:2.0px;stroke-linecap:butt;stroke-linejoin:miter;stroke-opacity:1\"/>\n",
       "<path class=\"bond-21 atom-21 atom-41\" d=\"M 261.3,73.4 L 255.1,69.8\" style=\"fill:none;fill-rule:evenodd;stroke:#000000;stroke-width:2.0px;stroke-linecap:butt;stroke-linejoin:miter;stroke-opacity:1\"/>\n",
       "<path class=\"bond-22 atom-22 atom-48\" d=\"M 263.4,51.6 L 265.6,51.1\" style=\"fill:none;fill-rule:evenodd;stroke:#000000;stroke-width:2.0px;stroke-linecap:butt;stroke-linejoin:miter;stroke-opacity:1\"/>\n",
       "<path class=\"bond-23 atom-23 atom-86\" d=\"M 273.2,63.4 L 273.6,56.3\" style=\"fill:none;fill-rule:evenodd;stroke:#000000;stroke-width:2.0px;stroke-linecap:butt;stroke-linejoin:miter;stroke-opacity:1\"/>\n",
       "<path class=\"bond-24 atom-24 atom-60\" d=\"M 274.8,30.5 L 274.5,37.5\" style=\"fill:none;fill-rule:evenodd;stroke:#000000;stroke-width:2.0px;stroke-linecap:butt;stroke-linejoin:miter;stroke-opacity:1\"/>\n",
       "<path class=\"bond-25 atom-25 atom-92\" d=\"M 313.0,127.5 L 306.7,124.0\" style=\"fill:none;fill-rule:evenodd;stroke:#000000;stroke-width:2.0px;stroke-linecap:butt;stroke-linejoin:miter;stroke-opacity:1\"/>\n",
       "<path class=\"bond-26 atom-26 atom-28\" d=\"M 223.0,77.1 L 222.8,71.7\" style=\"fill:none;fill-rule:evenodd;stroke:#000000;stroke-width:2.0px;stroke-linecap:butt;stroke-linejoin:miter;stroke-opacity:1\"/>\n",
       "<path class=\"bond-27 atom-27 atom-163\" d=\"M 233.4,55.3 L 239.4,59.2\" style=\"fill:none;fill-rule:evenodd;stroke:#000000;stroke-width:2.0px;stroke-linecap:butt;stroke-linejoin:miter;stroke-opacity:1\"/>\n",
       "<path class=\"bond-28 atom-28 atom-79\" d=\"M 222.8,71.7 L 231.7,72.4\" style=\"fill:none;fill-rule:evenodd;stroke:#000000;stroke-width:2.0px;stroke-linecap:butt;stroke-linejoin:miter;stroke-opacity:1\"/>\n",
       "<path class=\"bond-29 atom-28 atom-194\" d=\"M 222.8,71.7 L 216.7,75.4\" style=\"fill:none;fill-rule:evenodd;stroke:#000000;stroke-width:2.0px;stroke-linecap:butt;stroke-linejoin:miter;stroke-opacity:1\"/>\n",
       "<path class=\"bond-30 atom-28 atom-195\" d=\"M 222.8,71.7 L 219.7,65.9\" style=\"fill:none;fill-rule:evenodd;stroke:#000000;stroke-width:2.0px;stroke-linecap:butt;stroke-linejoin:miter;stroke-opacity:1\"/>\n",
       "<path class=\"bond-31 atom-29 atom-156\" d=\"M 247.8,18.1 L 248.0,25.1\" style=\"fill:none;fill-rule:evenodd;stroke:#000000;stroke-width:2.0px;stroke-linecap:butt;stroke-linejoin:miter;stroke-opacity:1\"/>\n",
       "<path class=\"bond-32 atom-31 atom-149\" d=\"M 224.6,152.4 L 225.0,145.4\" style=\"fill:none;fill-rule:evenodd;stroke:#000000;stroke-width:2.0px;stroke-linecap:butt;stroke-linejoin:miter;stroke-opacity:1\"/>\n",
       "<path class=\"bond-33 atom-32 atom-148\" d=\"M 239.4,145.0 L 233.4,141.1\" style=\"fill:none;fill-rule:evenodd;stroke:#000000;stroke-width:2.0px;stroke-linecap:butt;stroke-linejoin:miter;stroke-opacity:1\"/>\n",
       "<path class=\"bond-34 atom-33 atom-140\" d=\"M 210.2,95.1 L 216.4,98.6\" style=\"fill:none;fill-rule:evenodd;stroke:#000000;stroke-width:2.0px;stroke-linecap:butt;stroke-linejoin:miter;stroke-opacity:1\"/>\n",
       "<path class=\"bond-35 atom-34 atom-155\" d=\"M 262.4,25.7 L 256.3,29.5\" style=\"fill:none;fill-rule:evenodd;stroke:#000000;stroke-width:2.0px;stroke-linecap:butt;stroke-linejoin:miter;stroke-opacity:1\"/>\n",
       "<path class=\"bond-36 atom-35 atom-72\" d=\"M 268.5,271.7 L 266.2,264.6\" style=\"fill:none;fill-rule:evenodd;stroke:#000000;stroke-width:2.0px;stroke-linecap:butt;stroke-linejoin:miter;stroke-opacity:1\"/>\n",
       "<path class=\"bond-37 atom-36 atom-46\" d=\"M 247.9,272.4 L 247.7,265.6\" style=\"fill:none;fill-rule:evenodd;stroke:#000000;stroke-width:2.0px;stroke-linecap:butt;stroke-linejoin:miter;stroke-opacity:1\"/>\n",
       "<path class=\"bond-38 atom-37 atom-66\" d=\"M 260.4,277.2 L 257.0,277.0\" style=\"fill:none;fill-rule:evenodd;stroke:#000000;stroke-width:2.0px;stroke-linecap:butt;stroke-linejoin:miter;stroke-opacity:1\"/>\n",
       "<path class=\"bond-39 atom-38 atom-66\" d=\"M 261.1,282.0 L 257.0,277.0\" style=\"fill:none;fill-rule:evenodd;stroke:#000000;stroke-width:2.0px;stroke-linecap:butt;stroke-linejoin:miter;stroke-opacity:1\"/>\n",
       "<path class=\"bond-40 atom-39 atom-63\" d=\"M 238.4,86.0 L 236.1,84.8\" style=\"fill:none;fill-rule:evenodd;stroke:#000000;stroke-width:2.0px;stroke-linecap:butt;stroke-linejoin:miter;stroke-opacity:1\"/>\n",
       "<path class=\"bond-40 atom-39 atom-63\" d=\"M 236.1,84.8 L 233.8,83.6\" style=\"fill:none;fill-rule:evenodd;stroke:#0000FF;stroke-width:2.0px;stroke-linecap:butt;stroke-linejoin:miter;stroke-opacity:1\"/>\n",
       "<path class=\"bond-41 atom-40 atom-144\" d=\"M 223.3,114.9 L 224.4,112.8\" style=\"fill:none;fill-rule:evenodd;stroke:#000000;stroke-width:2.0px;stroke-linecap:butt;stroke-linejoin:miter;stroke-opacity:1\"/>\n",
       "<path class=\"bond-42 atom-41 atom-161\" d=\"M 255.1,69.8 L 255.7,60.4\" style=\"fill:none;fill-rule:evenodd;stroke:#000000;stroke-width:2.0px;stroke-linecap:butt;stroke-linejoin:miter;stroke-opacity:1\"/>\n",
       "<path class=\"bond-42 atom-41 atom-161\" d=\"M 253.5,68.3 L 253.9,61.7\" style=\"fill:none;fill-rule:evenodd;stroke:#000000;stroke-width:2.0px;stroke-linecap:butt;stroke-linejoin:miter;stroke-opacity:1\"/>\n",
       "<path class=\"bond-43 atom-41 atom-51\" d=\"M 255.1,69.8 L 246.6,73.9\" style=\"fill:none;fill-rule:evenodd;stroke:#000000;stroke-width:2.0px;stroke-linecap:butt;stroke-linejoin:miter;stroke-opacity:1\"/>\n",
       "<path class=\"bond-44 atom-42 atom-79\" d=\"M 238.8,68.7 L 231.7,72.4\" style=\"fill:none;fill-rule:evenodd;stroke:#000000;stroke-width:2.0px;stroke-linecap:butt;stroke-linejoin:miter;stroke-opacity:1\"/>\n",
       "<path class=\"bond-45 atom-42 atom-163\" d=\"M 238.8,68.7 L 239.4,59.2\" style=\"fill:none;fill-rule:evenodd;stroke:#000000;stroke-width:2.0px;stroke-linecap:butt;stroke-linejoin:miter;stroke-opacity:1\"/>\n",
       "<path class=\"bond-46 atom-42 atom-51\" d=\"M 238.8,68.7 L 246.6,73.9\" style=\"fill:none;fill-rule:evenodd;stroke:#000000;stroke-width:2.0px;stroke-linecap:butt;stroke-linejoin:miter;stroke-opacity:1\"/>\n",
       "<path class=\"bond-46 atom-42 atom-51\" d=\"M 240.9,68.0 L 246.4,71.7\" style=\"fill:none;fill-rule:evenodd;stroke:#000000;stroke-width:2.0px;stroke-linecap:butt;stroke-linejoin:miter;stroke-opacity:1\"/>\n",
       "<path class=\"bond-47 atom-44 atom-45\" d=\"M 259.7,254.1 L 263.6,252.2\" style=\"fill:none;fill-rule:evenodd;stroke:#FF0000;stroke-width:2.0px;stroke-linecap:butt;stroke-linejoin:miter;stroke-opacity:1\"/>\n",
       "<path class=\"bond-47 atom-44 atom-45\" d=\"M 263.6,252.2 L 267.4,250.4\" style=\"fill:none;fill-rule:evenodd;stroke:#000000;stroke-width:2.0px;stroke-linecap:butt;stroke-linejoin:miter;stroke-opacity:1\"/>\n",
       "<path class=\"bond-48 atom-44 atom-83\" d=\"M 257.3,257.7 L 257.1,261.5\" style=\"fill:none;fill-rule:evenodd;stroke:#FF0000;stroke-width:2.0px;stroke-linecap:butt;stroke-linejoin:miter;stroke-opacity:1\"/>\n",
       "<path class=\"bond-48 atom-44 atom-83\" d=\"M 257.1,261.5 L 256.9,265.4\" style=\"fill:none;fill-rule:evenodd;stroke:#000000;stroke-width:2.0px;stroke-linecap:butt;stroke-linejoin:miter;stroke-opacity:1\"/>\n",
       "<path class=\"bond-49 atom-45 atom-82\" d=\"M 268.0,249.7 L 272.1,253.1\" style=\"fill:none;fill-rule:evenodd;stroke:#000000;stroke-width:2.0px;stroke-linecap:butt;stroke-linejoin:miter;stroke-opacity:1\"/>\n",
       "<path class=\"bond-49 atom-45 atom-82\" d=\"M 272.1,253.1 L 276.3,256.5\" style=\"fill:none;fill-rule:evenodd;stroke:#FF0000;stroke-width:2.0px;stroke-linecap:butt;stroke-linejoin:miter;stroke-opacity:1\"/>\n",
       "<path class=\"bond-49 atom-45 atom-82\" d=\"M 266.9,251.0 L 271.0,254.4\" style=\"fill:none;fill-rule:evenodd;stroke:#000000;stroke-width:2.0px;stroke-linecap:butt;stroke-linejoin:miter;stroke-opacity:1\"/>\n",
       "<path class=\"bond-49 atom-45 atom-82\" d=\"M 271.0,254.4 L 275.2,257.9\" style=\"fill:none;fill-rule:evenodd;stroke:#FF0000;stroke-width:2.0px;stroke-linecap:butt;stroke-linejoin:miter;stroke-opacity:1\"/>\n",
       "<path class=\"bond-50 atom-45 atom-130\" d=\"M 267.4,250.4 L 267.3,247.7\" style=\"fill:none;fill-rule:evenodd;stroke:#000000;stroke-width:2.0px;stroke-linecap:butt;stroke-linejoin:miter;stroke-opacity:1\"/>\n",
       "<path class=\"bond-50 atom-45 atom-130\" d=\"M 267.3,247.7 L 267.2,245.1\" style=\"fill:none;fill-rule:evenodd;stroke:#0000FF;stroke-width:2.0px;stroke-linecap:butt;stroke-linejoin:miter;stroke-opacity:1\"/>\n",
       "<path class=\"bond-51 atom-46 atom-52\" d=\"M 247.7,265.6 L 241.8,269.5\" style=\"fill:none;fill-rule:evenodd;stroke:#000000;stroke-width:2.0px;stroke-linecap:butt;stroke-linejoin:miter;stroke-opacity:1\"/>\n",
       "<path class=\"bond-52 atom-46 atom-53\" d=\"M 247.7,265.6 L 244.3,260.3\" style=\"fill:none;fill-rule:evenodd;stroke:#000000;stroke-width:2.0px;stroke-linecap:butt;stroke-linejoin:miter;stroke-opacity:1\"/>\n",
       "<path class=\"bond-53 atom-46 atom-83\" d=\"M 247.7,265.6 L 256.9,265.4\" style=\"fill:none;fill-rule:evenodd;stroke:#000000;stroke-width:2.0px;stroke-linecap:butt;stroke-linejoin:miter;stroke-opacity:1\"/>\n",
       "<path class=\"bond-54 atom-48 atom-160\" d=\"M 265.6,51.1 L 266.1,41.7\" style=\"fill:none;fill-rule:evenodd;stroke:#000000;stroke-width:2.0px;stroke-linecap:butt;stroke-linejoin:miter;stroke-opacity:1\"/>\n",
       "<path class=\"bond-54 atom-48 atom-160\" d=\"M 267.4,49.8 L 267.7,43.2\" style=\"fill:none;fill-rule:evenodd;stroke:#000000;stroke-width:2.0px;stroke-linecap:butt;stroke-linejoin:miter;stroke-opacity:1\"/>\n",
       "<path class=\"bond-55 atom-48 atom-86\" d=\"M 265.6,51.1 L 273.6,56.3\" style=\"fill:none;fill-rule:evenodd;stroke:#000000;stroke-width:2.0px;stroke-linecap:butt;stroke-linejoin:miter;stroke-opacity:1\"/>\n",
       "<path class=\"bond-56 atom-49 atom-95\" d=\"M 313.6,139.5 L 307.8,143.6\" style=\"fill:none;fill-rule:evenodd;stroke:#000000;stroke-width:2.0px;stroke-linecap:butt;stroke-linejoin:miter;stroke-opacity:1\"/>\n",
       "<path class=\"bond-57 atom-50 atom-118\" d=\"M 276.7,199.6 L 276.1,198.0\" style=\"fill:none;fill-rule:evenodd;stroke:#000000;stroke-width:2.0px;stroke-linecap:butt;stroke-linejoin:miter;stroke-opacity:1\"/>\n",
       "<path class=\"bond-58 atom-51 atom-64\" d=\"M 246.6,73.9 L 246.7,80.4\" style=\"fill:none;fill-rule:evenodd;stroke:#000000;stroke-width:2.0px;stroke-linecap:butt;stroke-linejoin:miter;stroke-opacity:1\"/>\n",
       "<path class=\"bond-59 atom-54 atom-72\" d=\"M 272.7,268.1 L 266.2,264.6\" style=\"fill:none;fill-rule:evenodd;stroke:#000000;stroke-width:2.0px;stroke-linecap:butt;stroke-linejoin:miter;stroke-opacity:1\"/>\n",
       "<path class=\"bond-60 atom-55 atom-66\" d=\"M 252.9,280.5 L 257.0,277.0\" style=\"fill:none;fill-rule:evenodd;stroke:#000000;stroke-width:2.0px;stroke-linecap:butt;stroke-linejoin:miter;stroke-opacity:1\"/>\n",
       "<path class=\"bond-61 atom-56 atom-72\" d=\"M 268.4,262.4 L 266.2,264.6\" style=\"fill:none;fill-rule:evenodd;stroke:#000000;stroke-width:2.0px;stroke-linecap:butt;stroke-linejoin:miter;stroke-opacity:1\"/>\n",
       "<path class=\"bond-62 atom-57 atom-89\" d=\"M 284.1,110.9 L 290.3,114.4\" style=\"fill:none;fill-rule:evenodd;stroke:#000000;stroke-width:2.0px;stroke-linecap:butt;stroke-linejoin:miter;stroke-opacity:1\"/>\n",
       "<path class=\"bond-63 atom-58 atom-161\" d=\"M 257.9,59.9 L 255.7,60.4\" style=\"fill:none;fill-rule:evenodd;stroke:#000000;stroke-width:2.0px;stroke-linecap:butt;stroke-linejoin:miter;stroke-opacity:1\"/>\n",
       "<path class=\"bond-64 atom-59 atom-129\" d=\"M 282.5,245.2 L 276.3,237.3\" style=\"fill:none;fill-rule:evenodd;stroke:#000000;stroke-width:2.0px;stroke-linecap:butt;stroke-linejoin:miter;stroke-opacity:1\"/>\n",
       "<path class=\"bond-65 atom-59 atom-185\" d=\"M 282.5,245.2 L 276.9,247.7\" style=\"fill:none;fill-rule:evenodd;stroke:#000000;stroke-width:2.0px;stroke-linecap:butt;stroke-linejoin:miter;stroke-opacity:1\"/>\n",
       "<path class=\"bond-66 atom-59 atom-186\" d=\"M 282.5,245.2 L 283.1,251.4\" style=\"fill:none;fill-rule:evenodd;stroke:#000000;stroke-width:2.0px;stroke-linecap:butt;stroke-linejoin:miter;stroke-opacity:1\"/>\n",
       "<path class=\"bond-67 atom-59 atom-187\" d=\"M 282.5,245.2 L 290.0,244.9\" style=\"fill:none;fill-rule:evenodd;stroke:#000000;stroke-width:2.0px;stroke-linecap:butt;stroke-linejoin:miter;stroke-opacity:1\"/>\n",
       "<path class=\"bond-68 atom-60 atom-71\" d=\"M 274.5,37.5 L 282.5,42.6\" style=\"fill:none;fill-rule:evenodd;stroke:#000000;stroke-width:2.0px;stroke-linecap:butt;stroke-linejoin:miter;stroke-opacity:1\"/>\n",
       "<path class=\"bond-68 atom-60 atom-71\" d=\"M 274.8,39.7 L 280.3,43.2\" style=\"fill:none;fill-rule:evenodd;stroke:#000000;stroke-width:2.0px;stroke-linecap:butt;stroke-linejoin:miter;stroke-opacity:1\"/>\n",
       "<path class=\"bond-69 atom-60 atom-160\" d=\"M 274.5,37.5 L 266.1,41.7\" style=\"fill:none;fill-rule:evenodd;stroke:#000000;stroke-width:2.0px;stroke-linecap:butt;stroke-linejoin:miter;stroke-opacity:1\"/>\n",
       "<path class=\"bond-70 atom-61 atom-106\" d=\"M 270.8,158.1 L 284.9,157.2\" style=\"fill:none;fill-rule:evenodd;stroke:#000000;stroke-width:2.0px;stroke-linecap:butt;stroke-linejoin:miter;stroke-opacity:1\"/>\n",
       "<path class=\"bond-71 atom-61 atom-188\" d=\"M 270.8,158.1 L 272.1,162.1\" style=\"fill:none;fill-rule:evenodd;stroke:#000000;stroke-width:2.0px;stroke-linecap:butt;stroke-linejoin:miter;stroke-opacity:1\"/>\n",
       "<path class=\"bond-72 atom-61 atom-189\" d=\"M 270.8,158.1 L 266.9,161.1\" style=\"fill:none;fill-rule:evenodd;stroke:#000000;stroke-width:2.0px;stroke-linecap:butt;stroke-linejoin:miter;stroke-opacity:1\"/>\n",
       "<path class=\"bond-73 atom-61 atom-190\" d=\"M 270.8,158.1 L 266.8,153.3\" style=\"fill:none;fill-rule:evenodd;stroke:#000000;stroke-width:2.0px;stroke-linecap:butt;stroke-linejoin:miter;stroke-opacity:1\"/>\n",
       "<path class=\"bond-74 atom-62 atom-152\" d=\"M 249.3,137.5 L 249.2,135.2\" style=\"fill:none;fill-rule:evenodd;stroke:#000000;stroke-width:2.0px;stroke-linecap:butt;stroke-linejoin:miter;stroke-opacity:1\"/>\n",
       "<path class=\"bond-74 atom-62 atom-152\" d=\"M 249.2,135.2 L 249.1,133.0\" style=\"fill:none;fill-rule:evenodd;stroke:#0000FF;stroke-width:2.0px;stroke-linecap:butt;stroke-linejoin:miter;stroke-opacity:1\"/>\n",
       "<path class=\"bond-75 atom-63 atom-150\" d=\"M 230.0,83.9 L 227.1,85.9\" style=\"fill:none;fill-rule:evenodd;stroke:#0000FF;stroke-width:2.0px;stroke-linecap:butt;stroke-linejoin:miter;stroke-opacity:1\"/>\n",
       "<path class=\"bond-75 atom-63 atom-150\" d=\"M 227.1,85.9 L 224.1,87.9\" style=\"fill:none;fill-rule:evenodd;stroke:#000000;stroke-width:2.0px;stroke-linecap:butt;stroke-linejoin:miter;stroke-opacity:1\"/>\n",
       "<path class=\"bond-76 atom-63 atom-79\" d=\"M 231.9,80.2 L 231.8,76.3\" style=\"fill:none;fill-rule:evenodd;stroke:#0000FF;stroke-width:2.0px;stroke-linecap:butt;stroke-linejoin:miter;stroke-opacity:1\"/>\n",
       "<path class=\"bond-76 atom-63 atom-79\" d=\"M 231.8,76.3 L 231.7,72.4\" style=\"fill:none;fill-rule:evenodd;stroke:#000000;stroke-width:2.0px;stroke-linecap:butt;stroke-linejoin:miter;stroke-opacity:1\"/>\n",
       "<path class=\"bond-77 atom-65 atom-158\" d=\"M 234.3,43.4 L 240.3,39.7\" style=\"fill:none;fill-rule:evenodd;stroke:#000000;stroke-width:2.0px;stroke-linecap:butt;stroke-linejoin:miter;stroke-opacity:1\"/>\n",
       "<path class=\"bond-78 atom-66 atom-83\" d=\"M 257.0,277.0 L 256.9,265.4\" style=\"fill:none;fill-rule:evenodd;stroke:#000000;stroke-width:2.0px;stroke-linecap:butt;stroke-linejoin:miter;stroke-opacity:1\"/>\n",
       "<path class=\"bond-79 atom-67 atom-105\" d=\"M 283.4,136.9 L 280.3,136.9\" style=\"fill:none;fill-rule:evenodd;stroke:#000000;stroke-width:2.0px;stroke-linecap:butt;stroke-linejoin:miter;stroke-opacity:1\"/>\n",
       "<path class=\"bond-80 atom-68 atom-111\" d=\"M 313.9,212.7 L 310.8,210.9\" style=\"fill:none;fill-rule:evenodd;stroke:#FF0000;stroke-width:2.0px;stroke-linecap:butt;stroke-linejoin:miter;stroke-opacity:1\"/>\n",
       "<path class=\"bond-80 atom-68 atom-111\" d=\"M 310.8,210.9 L 307.7,209.2\" style=\"fill:none;fill-rule:evenodd;stroke:#000000;stroke-width:2.0px;stroke-linecap:butt;stroke-linejoin:miter;stroke-opacity:1\"/>\n",
       "<path class=\"bond-81 atom-68 atom-169\" d=\"M 318.4,212.6 L 321.5,210.8\" style=\"fill:none;fill-rule:evenodd;stroke:#FF0000;stroke-width:2.0px;stroke-linecap:butt;stroke-linejoin:miter;stroke-opacity:1\"/>\n",
       "<path class=\"bond-81 atom-68 atom-169\" d=\"M 321.5,210.8 L 324.7,209.0\" style=\"fill:none;fill-rule:evenodd;stroke:#000000;stroke-width:2.0px;stroke-linecap:butt;stroke-linejoin:miter;stroke-opacity:1\"/>\n",
       "<path class=\"bond-82 atom-69 atom-133\" d=\"M 186.0,128.9 L 189.0,127.1\" style=\"fill:none;fill-rule:evenodd;stroke:#FF0000;stroke-width:2.0px;stroke-linecap:butt;stroke-linejoin:miter;stroke-opacity:1\"/>\n",
       "<path class=\"bond-82 atom-69 atom-133\" d=\"M 189.0,127.1 L 192.1,125.3\" style=\"fill:none;fill-rule:evenodd;stroke:#000000;stroke-width:2.0px;stroke-linecap:butt;stroke-linejoin:miter;stroke-opacity:1\"/>\n",
       "<path class=\"bond-83 atom-69 atom-171\" d=\"M 181.5,129.0 L 178.4,127.3\" style=\"fill:none;fill-rule:evenodd;stroke:#FF0000;stroke-width:2.0px;stroke-linecap:butt;stroke-linejoin:miter;stroke-opacity:1\"/>\n",
       "<path class=\"bond-83 atom-69 atom-171\" d=\"M 178.4,127.3 L 175.2,125.6\" style=\"fill:none;fill-rule:evenodd;stroke:#000000;stroke-width:2.0px;stroke-linecap:butt;stroke-linejoin:miter;stroke-opacity:1\"/>\n",
       "<path class=\"bond-84 atom-70 atom-126\" d=\"M 261.2,229.6 L 266.8,226.1\" style=\"fill:none;fill-rule:evenodd;stroke:#000000;stroke-width:2.0px;stroke-linecap:butt;stroke-linejoin:miter;stroke-opacity:1\"/>\n",
       "<path class=\"bond-85 atom-71 atom-80\" d=\"M 282.5,42.6 L 290.3,38.4\" style=\"fill:none;fill-rule:evenodd;stroke:#000000;stroke-width:2.0px;stroke-linecap:butt;stroke-linejoin:miter;stroke-opacity:1\"/>\n",
       "<path class=\"bond-86 atom-71 atom-87\" d=\"M 282.5,42.6 L 282.0,52.0\" style=\"fill:none;fill-rule:evenodd;stroke:#000000;stroke-width:2.0px;stroke-linecap:butt;stroke-linejoin:miter;stroke-opacity:1\"/>\n",
       "<path class=\"bond-87 atom-72 atom-83\" d=\"M 266.2,264.6 L 256.9,265.4\" style=\"fill:none;fill-rule:evenodd;stroke:#000000;stroke-width:2.0px;stroke-linecap:butt;stroke-linejoin:miter;stroke-opacity:1\"/>\n",
       "<path class=\"bond-88 atom-73 atom-91\" d=\"M 312.8,111.0 L 309.7,112.8\" style=\"fill:none;fill-rule:evenodd;stroke:#FF0000;stroke-width:2.0px;stroke-linecap:butt;stroke-linejoin:miter;stroke-opacity:1\"/>\n",
       "<path class=\"bond-88 atom-73 atom-91\" d=\"M 309.7,112.8 L 306.7,114.5\" style=\"fill:none;fill-rule:evenodd;stroke:#000000;stroke-width:2.0px;stroke-linecap:butt;stroke-linejoin:miter;stroke-opacity:1\"/>\n",
       "<path class=\"bond-89 atom-73 atom-170\" d=\"M 315.0,107.3 L 315.0,103.8\" style=\"fill:none;fill-rule:evenodd;stroke:#FF0000;stroke-width:2.0px;stroke-linecap:butt;stroke-linejoin:miter;stroke-opacity:1\"/>\n",
       "<path class=\"bond-89 atom-73 atom-170\" d=\"M 315.0,103.8 L 315.0,100.2\" style=\"fill:none;fill-rule:evenodd;stroke:#000000;stroke-width:2.0px;stroke-linecap:butt;stroke-linejoin:miter;stroke-opacity:1\"/>\n",
       "<path class=\"bond-90 atom-75 atom-119\" d=\"M 261.7,197.6 L 267.7,193.7\" style=\"fill:none;fill-rule:evenodd;stroke:#000000;stroke-width:2.0px;stroke-linecap:butt;stroke-linejoin:miter;stroke-opacity:1\"/>\n",
       "<path class=\"bond-91 atom-77 atom-100\" d=\"M 315.1,156.1 L 308.6,153.0\" style=\"fill:none;fill-rule:evenodd;stroke:#000000;stroke-width:2.0px;stroke-linecap:butt;stroke-linejoin:miter;stroke-opacity:1\"/>\n",
       "<path class=\"bond-92 atom-78 atom-97\" d=\"M 289.2,144.6 L 291.5,145.0\" style=\"fill:none;fill-rule:evenodd;stroke:#000000;stroke-width:2.0px;stroke-linecap:butt;stroke-linejoin:miter;stroke-opacity:1\"/>\n",
       "<path class=\"bond-93 atom-79 atom-47\" d=\"M 231.7,72.4 L 228.1,67.2 L 229.7,66.4 Z\" style=\"fill:#000000;fill-rule:evenodd;fill-opacity:1;stroke:#000000;stroke-width:1.0px;stroke-linecap:butt;stroke-linejoin:miter;stroke-opacity:1;\"/>\n",
       "<path class=\"bond-94 atom-80 atom-81\" d=\"M 289.4,38.3 L 289.5,34.9\" style=\"fill:none;fill-rule:evenodd;stroke:#000000;stroke-width:2.0px;stroke-linecap:butt;stroke-linejoin:miter;stroke-opacity:1\"/>\n",
       "<path class=\"bond-94 atom-80 atom-81\" d=\"M 289.5,34.9 L 289.5,31.4\" style=\"fill:none;fill-rule:evenodd;stroke:#FF0000;stroke-width:2.0px;stroke-linecap:butt;stroke-linejoin:miter;stroke-opacity:1\"/>\n",
       "<path class=\"bond-94 atom-80 atom-81\" d=\"M 291.1,38.4 L 291.2,34.9\" style=\"fill:none;fill-rule:evenodd;stroke:#000000;stroke-width:2.0px;stroke-linecap:butt;stroke-linejoin:miter;stroke-opacity:1\"/>\n",
       "<path class=\"bond-94 atom-80 atom-81\" d=\"M 291.2,34.9 L 291.2,31.5\" style=\"fill:none;fill-rule:evenodd;stroke:#FF0000;stroke-width:2.0px;stroke-linecap:butt;stroke-linejoin:miter;stroke-opacity:1\"/>\n",
       "<path class=\"bond-95 atom-80 atom-164\" d=\"M 290.3,38.4 L 293.1,40.1\" style=\"fill:none;fill-rule:evenodd;stroke:#000000;stroke-width:2.0px;stroke-linecap:butt;stroke-linejoin:miter;stroke-opacity:1\"/>\n",
       "<path class=\"bond-95 atom-80 atom-164\" d=\"M 293.1,40.1 L 295.9,41.8\" style=\"fill:none;fill-rule:evenodd;stroke:#FF0000;stroke-width:2.0px;stroke-linecap:butt;stroke-linejoin:miter;stroke-opacity:1\"/>\n",
       "<path class=\"bond-96 atom-84 atom-157\" d=\"M 233.8,26.8 L 236.9,28.5\" style=\"fill:none;fill-rule:evenodd;stroke:#FF0000;stroke-width:2.0px;stroke-linecap:butt;stroke-linejoin:miter;stroke-opacity:1\"/>\n",
       "<path class=\"bond-96 atom-84 atom-157\" d=\"M 236.9,28.5 L 240.0,30.2\" style=\"fill:none;fill-rule:evenodd;stroke:#000000;stroke-width:2.0px;stroke-linecap:butt;stroke-linejoin:miter;stroke-opacity:1\"/>\n",
       "<path class=\"bond-97 atom-84 atom-172\" d=\"M 229.3,26.8 L 226.4,28.5\" style=\"fill:none;fill-rule:evenodd;stroke:#FF0000;stroke-width:2.0px;stroke-linecap:butt;stroke-linejoin:miter;stroke-opacity:1\"/>\n",
       "<path class=\"bond-97 atom-84 atom-172\" d=\"M 226.4,28.5 L 223.4,30.2\" style=\"fill:none;fill-rule:evenodd;stroke:#000000;stroke-width:2.0px;stroke-linecap:butt;stroke-linejoin:miter;stroke-opacity:1\"/>\n",
       "<path class=\"bond-98 atom-85 atom-146\" d=\"M 226.7,124.9 L 226.1,126.6\" style=\"fill:none;fill-rule:evenodd;stroke:#000000;stroke-width:2.0px;stroke-linecap:butt;stroke-linejoin:miter;stroke-opacity:1\"/>\n",
       "<path class=\"bond-99 atom-86 atom-87\" d=\"M 273.6,56.3 L 282.0,52.0\" style=\"fill:none;fill-rule:evenodd;stroke:#000000;stroke-width:2.0px;stroke-linecap:butt;stroke-linejoin:miter;stroke-opacity:1\"/>\n",
       "<path class=\"bond-99 atom-86 atom-87\" d=\"M 274.1,54.1 L 279.9,51.1\" style=\"fill:none;fill-rule:evenodd;stroke:#000000;stroke-width:2.0px;stroke-linecap:butt;stroke-linejoin:miter;stroke-opacity:1\"/>\n",
       "<path class=\"bond-100 atom-87 atom-196\" d=\"M 282.0,52.0 L 288.0,55.9\" style=\"fill:none;fill-rule:evenodd;stroke:#000000;stroke-width:2.0px;stroke-linecap:butt;stroke-linejoin:miter;stroke-opacity:1\"/>\n",
       "<path class=\"bond-101 atom-88 atom-89\" d=\"M 290.3,123.9 L 290.3,114.4\" style=\"fill:none;fill-rule:evenodd;stroke:#000000;stroke-width:2.0px;stroke-linecap:butt;stroke-linejoin:miter;stroke-opacity:1\"/>\n",
       "<path class=\"bond-101 atom-88 atom-89\" d=\"M 292.0,122.5 L 292.0,115.9\" style=\"fill:none;fill-rule:evenodd;stroke:#000000;stroke-width:2.0px;stroke-linecap:butt;stroke-linejoin:miter;stroke-opacity:1\"/>\n",
       "<path class=\"bond-102 atom-88 atom-93\" d=\"M 290.3,123.9 L 298.5,128.7\" style=\"fill:none;fill-rule:evenodd;stroke:#000000;stroke-width:2.0px;stroke-linecap:butt;stroke-linejoin:miter;stroke-opacity:1\"/>\n",
       "<path class=\"bond-103 atom-88 atom-94\" d=\"M 290.3,123.9 L 280.0,127.5\" style=\"fill:none;fill-rule:evenodd;stroke:#000000;stroke-width:2.0px;stroke-linecap:butt;stroke-linejoin:miter;stroke-opacity:1\"/>\n",
       "<path class=\"bond-104 atom-89 atom-90\" d=\"M 290.3,114.4 L 298.5,109.8\" style=\"fill:none;fill-rule:evenodd;stroke:#000000;stroke-width:2.0px;stroke-linecap:butt;stroke-linejoin:miter;stroke-opacity:1\"/>\n",
       "<path class=\"bond-105 atom-90 atom-91\" d=\"M 298.5,109.8 L 306.7,114.5\" style=\"fill:none;fill-rule:evenodd;stroke:#000000;stroke-width:2.0px;stroke-linecap:butt;stroke-linejoin:miter;stroke-opacity:1\"/>\n",
       "<path class=\"bond-105 atom-90 atom-91\" d=\"M 298.9,111.9 L 304.7,115.3\" style=\"fill:none;fill-rule:evenodd;stroke:#000000;stroke-width:2.0px;stroke-linecap:butt;stroke-linejoin:miter;stroke-opacity:1\"/>\n",
       "<path class=\"bond-106 atom-91 atom-92\" d=\"M 306.7,114.5 L 306.7,124.0\" style=\"fill:none;fill-rule:evenodd;stroke:#000000;stroke-width:2.0px;stroke-linecap:butt;stroke-linejoin:miter;stroke-opacity:1\"/>\n",
       "<path class=\"bond-107 atom-92 atom-93\" d=\"M 306.7,124.0 L 298.5,128.7\" style=\"fill:none;fill-rule:evenodd;stroke:#000000;stroke-width:2.0px;stroke-linecap:butt;stroke-linejoin:miter;stroke-opacity:1\"/>\n",
       "<path class=\"bond-107 atom-92 atom-93\" d=\"M 304.6,123.2 L 298.9,126.5\" style=\"fill:none;fill-rule:evenodd;stroke:#000000;stroke-width:2.0px;stroke-linecap:butt;stroke-linejoin:miter;stroke-opacity:1\"/>\n",
       "<path class=\"bond-108 atom-93 atom-96\" d=\"M 298.5,128.7 L 299.3,139.6\" style=\"fill:none;fill-rule:evenodd;stroke:#000000;stroke-width:2.0px;stroke-linecap:butt;stroke-linejoin:miter;stroke-opacity:1\"/>\n",
       "<path class=\"bond-109 atom-94 atom-101\" d=\"M 280.0,127.5 L 271.7,123.1\" style=\"fill:none;fill-rule:evenodd;stroke:#000000;stroke-width:2.0px;stroke-linecap:butt;stroke-linejoin:miter;stroke-opacity:1\"/>\n",
       "<path class=\"bond-109 atom-94 atom-101\" d=\"M 277.9,128.4 L 272.1,125.3\" style=\"fill:none;fill-rule:evenodd;stroke:#000000;stroke-width:2.0px;stroke-linecap:butt;stroke-linejoin:miter;stroke-opacity:1\"/>\n",
       "<path class=\"bond-110 atom-94 atom-105\" d=\"M 280.0,127.5 L 280.3,136.9\" style=\"fill:none;fill-rule:evenodd;stroke:#000000;stroke-width:2.0px;stroke-linecap:butt;stroke-linejoin:miter;stroke-opacity:1\"/>\n",
       "<path class=\"bond-111 atom-95 atom-96\" d=\"M 307.8,143.6 L 299.3,139.6\" style=\"fill:none;fill-rule:evenodd;stroke:#000000;stroke-width:2.0px;stroke-linecap:butt;stroke-linejoin:miter;stroke-opacity:1\"/>\n",
       "<path class=\"bond-111 atom-95 atom-96\" d=\"M 305.8,144.5 L 299.8,141.8\" style=\"fill:none;fill-rule:evenodd;stroke:#000000;stroke-width:2.0px;stroke-linecap:butt;stroke-linejoin:miter;stroke-opacity:1\"/>\n",
       "<path class=\"bond-112 atom-95 atom-100\" d=\"M 307.8,143.6 L 308.6,153.0\" style=\"fill:none;fill-rule:evenodd;stroke:#000000;stroke-width:2.0px;stroke-linecap:butt;stroke-linejoin:miter;stroke-opacity:1\"/>\n",
       "<path class=\"bond-113 atom-96 atom-97\" d=\"M 299.3,139.6 L 291.5,145.0\" style=\"fill:none;fill-rule:evenodd;stroke:#000000;stroke-width:2.0px;stroke-linecap:butt;stroke-linejoin:miter;stroke-opacity:1\"/>\n",
       "<path class=\"bond-114 atom-97 atom-98\" d=\"M 291.5,145.0 L 292.3,154.4\" style=\"fill:none;fill-rule:evenodd;stroke:#000000;stroke-width:2.0px;stroke-linecap:butt;stroke-linejoin:miter;stroke-opacity:1\"/>\n",
       "<path class=\"bond-114 atom-97 atom-98\" d=\"M 293.3,146.3 L 293.8,152.8\" style=\"fill:none;fill-rule:evenodd;stroke:#000000;stroke-width:2.0px;stroke-linecap:butt;stroke-linejoin:miter;stroke-opacity:1\"/>\n",
       "<path class=\"bond-115 atom-98 atom-99\" d=\"M 292.3,154.4 L 300.8,158.4\" style=\"fill:none;fill-rule:evenodd;stroke:#000000;stroke-width:2.0px;stroke-linecap:butt;stroke-linejoin:miter;stroke-opacity:1\"/>\n",
       "<path class=\"bond-116 atom-98 atom-106\" d=\"M 292.3,154.4 L 284.9,157.2\" style=\"fill:none;fill-rule:evenodd;stroke:#000000;stroke-width:2.0px;stroke-linecap:butt;stroke-linejoin:miter;stroke-opacity:1\"/>\n",
       "<path class=\"bond-117 atom-99 atom-100\" d=\"M 300.8,158.4 L 308.6,153.0\" style=\"fill:none;fill-rule:evenodd;stroke:#000000;stroke-width:2.0px;stroke-linecap:butt;stroke-linejoin:miter;stroke-opacity:1\"/>\n",
       "<path class=\"bond-117 atom-99 atom-100\" d=\"M 301.0,156.2 L 306.4,152.4\" style=\"fill:none;fill-rule:evenodd;stroke:#000000;stroke-width:2.0px;stroke-linecap:butt;stroke-linejoin:miter;stroke-opacity:1\"/>\n",
       "<path class=\"bond-118 atom-101 atom-102\" d=\"M 271.7,123.1 L 263.6,128.1\" style=\"fill:none;fill-rule:evenodd;stroke:#000000;stroke-width:2.0px;stroke-linecap:butt;stroke-linejoin:miter;stroke-opacity:1\"/>\n",
       "<path class=\"bond-119 atom-102 atom-108\" d=\"M 263.6,128.1 L 258.7,125.0\" style=\"fill:none;fill-rule:evenodd;stroke:#000000;stroke-width:2.0px;stroke-linecap:butt;stroke-linejoin:miter;stroke-opacity:1\"/>\n",
       "<path class=\"bond-120 atom-102 atom-103\" d=\"M 263.6,128.1 L 263.9,137.6\" style=\"fill:none;fill-rule:evenodd;stroke:#000000;stroke-width:2.0px;stroke-linecap:butt;stroke-linejoin:miter;stroke-opacity:1\"/>\n",
       "<path class=\"bond-120 atom-102 atom-103\" d=\"M 265.4,129.5 L 265.6,136.1\" style=\"fill:none;fill-rule:evenodd;stroke:#000000;stroke-width:2.0px;stroke-linecap:butt;stroke-linejoin:miter;stroke-opacity:1\"/>\n",
       "<path class=\"bond-121 atom-103 atom-104\" d=\"M 263.9,137.6 L 272.3,141.9\" style=\"fill:none;fill-rule:evenodd;stroke:#000000;stroke-width:2.0px;stroke-linecap:butt;stroke-linejoin:miter;stroke-opacity:1\"/>\n",
       "<path class=\"bond-122 atom-103 atom-43\" d=\"M 263.9,137.6 L 258.4,141.4\" style=\"fill:none;fill-rule:evenodd;stroke:#000000;stroke-width:2.0px;stroke-linecap:butt;stroke-linejoin:miter;stroke-opacity:1\"/>\n",
       "<path class=\"bond-123 atom-104 atom-105\" d=\"M 272.3,141.9 L 280.3,136.9\" style=\"fill:none;fill-rule:evenodd;stroke:#000000;stroke-width:2.0px;stroke-linecap:butt;stroke-linejoin:miter;stroke-opacity:1\"/>\n",
       "<path class=\"bond-123 atom-104 atom-105\" d=\"M 272.6,139.7 L 278.2,136.2\" style=\"fill:none;fill-rule:evenodd;stroke:#000000;stroke-width:2.0px;stroke-linecap:butt;stroke-linejoin:miter;stroke-opacity:1\"/>\n",
       "<path class=\"bond-124 atom-106 atom-1\" d=\"M 284.9,157.2 L 281.5,151.7 L 283.2,150.9 Z\" style=\"fill:#000000;fill-rule:evenodd;fill-opacity:1;stroke:#000000;stroke-width:1.0px;stroke-linecap:butt;stroke-linejoin:miter;stroke-opacity:1;\"/>\n",
       "<path class=\"bond-125 atom-106 atom-107\" d=\"M 284.9,157.2 L 284.6,160.9\" style=\"fill:none;fill-rule:evenodd;stroke:#000000;stroke-width:2.0px;stroke-linecap:butt;stroke-linejoin:miter;stroke-opacity:1\"/>\n",
       "<path class=\"bond-125 atom-106 atom-107\" d=\"M 284.6,160.9 L 284.3,164.5\" style=\"fill:none;fill-rule:evenodd;stroke:#0000FF;stroke-width:2.0px;stroke-linecap:butt;stroke-linejoin:miter;stroke-opacity:1\"/>\n",
       "<path class=\"bond-126 atom-107 atom-128\" d=\"M 282.2,168.2 L 278.4,170.5\" style=\"fill:none;fill-rule:evenodd;stroke:#0000FF;stroke-width:2.0px;stroke-linecap:butt;stroke-linejoin:miter;stroke-opacity:1\"/>\n",
       "<path class=\"bond-126 atom-107 atom-128\" d=\"M 278.4,170.5 L 274.6,172.9\" style=\"fill:none;fill-rule:evenodd;stroke:#000000;stroke-width:2.0px;stroke-linecap:butt;stroke-linejoin:miter;stroke-opacity:1\"/>\n",
       "<path class=\"bond-127 atom-108 atom-109\" d=\"M 257.9,124.9 L 258.5,121.5\" style=\"fill:none;fill-rule:evenodd;stroke:#000000;stroke-width:2.0px;stroke-linecap:butt;stroke-linejoin:miter;stroke-opacity:1\"/>\n",
       "<path class=\"bond-127 atom-108 atom-109\" d=\"M 258.5,121.5 L 259.2,118.2\" style=\"fill:none;fill-rule:evenodd;stroke:#FF0000;stroke-width:2.0px;stroke-linecap:butt;stroke-linejoin:miter;stroke-opacity:1\"/>\n",
       "<path class=\"bond-127 atom-108 atom-109\" d=\"M 259.5,125.2 L 260.2,121.9\" style=\"fill:none;fill-rule:evenodd;stroke:#000000;stroke-width:2.0px;stroke-linecap:butt;stroke-linejoin:miter;stroke-opacity:1\"/>\n",
       "<path class=\"bond-127 atom-108 atom-109\" d=\"M 260.2,121.9 L 260.9,118.5\" style=\"fill:none;fill-rule:evenodd;stroke:#FF0000;stroke-width:2.0px;stroke-linecap:butt;stroke-linejoin:miter;stroke-opacity:1\"/>\n",
       "<path class=\"bond-128 atom-108 atom-152\" d=\"M 258.7,125.0 L 254.8,127.3\" style=\"fill:none;fill-rule:evenodd;stroke:#000000;stroke-width:2.0px;stroke-linecap:butt;stroke-linejoin:miter;stroke-opacity:1\"/>\n",
       "<path class=\"bond-128 atom-108 atom-152\" d=\"M 254.8,127.3 L 250.9,129.5\" style=\"fill:none;fill-rule:evenodd;stroke:#0000FF;stroke-width:2.0px;stroke-linecap:butt;stroke-linejoin:miter;stroke-opacity:1\"/>\n",
       "<path class=\"bond-129 atom-110 atom-111\" d=\"M 299.5,213.9 L 307.7,209.2\" style=\"fill:none;fill-rule:evenodd;stroke:#000000;stroke-width:2.0px;stroke-linecap:butt;stroke-linejoin:miter;stroke-opacity:1\"/>\n",
       "<path class=\"bond-129 atom-110 atom-111\" d=\"M 299.9,211.7 L 305.7,208.4\" style=\"fill:none;fill-rule:evenodd;stroke:#000000;stroke-width:2.0px;stroke-linecap:butt;stroke-linejoin:miter;stroke-opacity:1\"/>\n",
       "<path class=\"bond-130 atom-110 atom-115\" d=\"M 299.5,213.9 L 291.3,209.1\" style=\"fill:none;fill-rule:evenodd;stroke:#000000;stroke-width:2.0px;stroke-linecap:butt;stroke-linejoin:miter;stroke-opacity:1\"/>\n",
       "<path class=\"bond-131 atom-111 atom-112\" d=\"M 307.7,209.2 L 307.8,199.7\" style=\"fill:none;fill-rule:evenodd;stroke:#000000;stroke-width:2.0px;stroke-linecap:butt;stroke-linejoin:miter;stroke-opacity:1\"/>\n",
       "<path class=\"bond-132 atom-112 atom-113\" d=\"M 307.8,199.7 L 299.6,194.9\" style=\"fill:none;fill-rule:evenodd;stroke:#000000;stroke-width:2.0px;stroke-linecap:butt;stroke-linejoin:miter;stroke-opacity:1\"/>\n",
       "<path class=\"bond-132 atom-112 atom-113\" d=\"M 305.7,200.5 L 300.0,197.1\" style=\"fill:none;fill-rule:evenodd;stroke:#000000;stroke-width:2.0px;stroke-linecap:butt;stroke-linejoin:miter;stroke-opacity:1\"/>\n",
       "<path class=\"bond-133 atom-113 atom-114\" d=\"M 299.6,194.9 L 291.4,199.6\" style=\"fill:none;fill-rule:evenodd;stroke:#000000;stroke-width:2.0px;stroke-linecap:butt;stroke-linejoin:miter;stroke-opacity:1\"/>\n",
       "<path class=\"bond-134 atom-114 atom-115\" d=\"M 291.4,199.6 L 291.3,209.1\" style=\"fill:none;fill-rule:evenodd;stroke:#000000;stroke-width:2.0px;stroke-linecap:butt;stroke-linejoin:miter;stroke-opacity:1\"/>\n",
       "<path class=\"bond-134 atom-114 atom-115\" d=\"M 293.1,201.0 L 293.0,207.7\" style=\"fill:none;fill-rule:evenodd;stroke:#000000;stroke-width:2.0px;stroke-linecap:butt;stroke-linejoin:miter;stroke-opacity:1\"/>\n",
       "<path class=\"bond-135 atom-114 atom-117\" d=\"M 291.4,199.6 L 284.0,192.9\" style=\"fill:none;fill-rule:evenodd;stroke:#000000;stroke-width:2.0px;stroke-linecap:butt;stroke-linejoin:miter;stroke-opacity:1\"/>\n",
       "<path class=\"bond-136 atom-115 atom-123\" d=\"M 291.3,209.1 L 282.0,215.0\" style=\"fill:none;fill-rule:evenodd;stroke:#000000;stroke-width:2.0px;stroke-linecap:butt;stroke-linejoin:miter;stroke-opacity:1\"/>\n",
       "<path class=\"bond-137 atom-116 atom-123\" d=\"M 273.3,211.2 L 282.0,215.0\" style=\"fill:none;fill-rule:evenodd;stroke:#000000;stroke-width:2.0px;stroke-linecap:butt;stroke-linejoin:miter;stroke-opacity:1\"/>\n",
       "<path class=\"bond-137 atom-116 atom-123\" d=\"M 274.0,213.4 L 280.1,216.0\" style=\"fill:none;fill-rule:evenodd;stroke:#000000;stroke-width:2.0px;stroke-linecap:butt;stroke-linejoin:miter;stroke-opacity:1\"/>\n",
       "<path class=\"bond-138 atom-116 atom-127\" d=\"M 273.3,211.2 L 265.7,216.8\" style=\"fill:none;fill-rule:evenodd;stroke:#000000;stroke-width:2.0px;stroke-linecap:butt;stroke-linejoin:miter;stroke-opacity:1\"/>\n",
       "<path class=\"bond-139 atom-116 atom-74\" d=\"M 273.3,211.2 L 272.8,209.6\" style=\"fill:none;fill-rule:evenodd;stroke:#000000;stroke-width:2.0px;stroke-linecap:butt;stroke-linejoin:miter;stroke-opacity:1\"/>\n",
       "<path class=\"bond-140 atom-117 atom-118\" d=\"M 284.0,192.9 L 276.1,198.0\" style=\"fill:none;fill-rule:evenodd;stroke:#000000;stroke-width:2.0px;stroke-linecap:butt;stroke-linejoin:miter;stroke-opacity:1\"/>\n",
       "<path class=\"bond-140 atom-117 atom-118\" d=\"M 281.9,192.3 L 276.4,195.8\" style=\"fill:none;fill-rule:evenodd;stroke:#000000;stroke-width:2.0px;stroke-linecap:butt;stroke-linejoin:miter;stroke-opacity:1\"/>\n",
       "<path class=\"bond-141 atom-117 atom-122\" d=\"M 284.0,192.9 L 283.5,183.5\" style=\"fill:none;fill-rule:evenodd;stroke:#000000;stroke-width:2.0px;stroke-linecap:butt;stroke-linejoin:miter;stroke-opacity:1\"/>\n",
       "<path class=\"bond-142 atom-118 atom-119\" d=\"M 276.1,198.0 L 267.7,193.7\" style=\"fill:none;fill-rule:evenodd;stroke:#000000;stroke-width:2.0px;stroke-linecap:butt;stroke-linejoin:miter;stroke-opacity:1\"/>\n",
       "<path class=\"bond-143 atom-119 atom-120\" d=\"M 267.7,193.7 L 267.2,184.3\" style=\"fill:none;fill-rule:evenodd;stroke:#000000;stroke-width:2.0px;stroke-linecap:butt;stroke-linejoin:miter;stroke-opacity:1\"/>\n",
       "<path class=\"bond-143 atom-119 atom-120\" d=\"M 269.3,192.2 L 269.0,185.6\" style=\"fill:none;fill-rule:evenodd;stroke:#000000;stroke-width:2.0px;stroke-linecap:butt;stroke-linejoin:miter;stroke-opacity:1\"/>\n",
       "<path class=\"bond-144 atom-120 atom-6\" d=\"M 267.2,184.3 L 260.7,181.0\" style=\"fill:none;fill-rule:evenodd;stroke:#000000;stroke-width:2.0px;stroke-linecap:butt;stroke-linejoin:miter;stroke-opacity:1\"/>\n",
       "<path class=\"bond-145 atom-120 atom-121\" d=\"M 267.2,184.3 L 275.1,179.2\" style=\"fill:none;fill-rule:evenodd;stroke:#000000;stroke-width:2.0px;stroke-linecap:butt;stroke-linejoin:miter;stroke-opacity:1\"/>\n",
       "<path class=\"bond-146 atom-121 atom-128\" d=\"M 275.1,179.2 L 274.6,172.9\" style=\"fill:none;fill-rule:evenodd;stroke:#000000;stroke-width:2.0px;stroke-linecap:butt;stroke-linejoin:miter;stroke-opacity:1\"/>\n",
       "<path class=\"bond-147 atom-121 atom-122\" d=\"M 275.1,179.2 L 283.5,183.5\" style=\"fill:none;fill-rule:evenodd;stroke:#000000;stroke-width:2.0px;stroke-linecap:butt;stroke-linejoin:miter;stroke-opacity:1\"/>\n",
       "<path class=\"bond-147 atom-121 atom-122\" d=\"M 275.6,181.4 L 281.5,184.4\" style=\"fill:none;fill-rule:evenodd;stroke:#000000;stroke-width:2.0px;stroke-linecap:butt;stroke-linejoin:miter;stroke-opacity:1\"/>\n",
       "<path class=\"bond-148 atom-123 atom-124\" d=\"M 282.0,215.0 L 283.1,224.4\" style=\"fill:none;fill-rule:evenodd;stroke:#000000;stroke-width:2.0px;stroke-linecap:butt;stroke-linejoin:miter;stroke-opacity:1\"/>\n",
       "<path class=\"bond-149 atom-124 atom-125\" d=\"M 283.1,224.4 L 275.5,230.0\" style=\"fill:none;fill-rule:evenodd;stroke:#000000;stroke-width:2.0px;stroke-linecap:butt;stroke-linejoin:miter;stroke-opacity:1\"/>\n",
       "<path class=\"bond-149 atom-124 atom-125\" d=\"M 281.0,223.8 L 275.7,227.7\" style=\"fill:none;fill-rule:evenodd;stroke:#000000;stroke-width:2.0px;stroke-linecap:butt;stroke-linejoin:miter;stroke-opacity:1\"/>\n",
       "<path class=\"bond-150 atom-125 atom-126\" d=\"M 275.5,230.0 L 266.8,226.1\" style=\"fill:none;fill-rule:evenodd;stroke:#000000;stroke-width:2.0px;stroke-linecap:butt;stroke-linejoin:miter;stroke-opacity:1\"/>\n",
       "<path class=\"bond-151 atom-125 atom-129\" d=\"M 275.5,230.0 L 276.3,237.3\" style=\"fill:none;fill-rule:evenodd;stroke:#000000;stroke-width:2.0px;stroke-linecap:butt;stroke-linejoin:miter;stroke-opacity:1\"/>\n",
       "<path class=\"bond-152 atom-126 atom-127\" d=\"M 266.8,226.1 L 265.7,216.8\" style=\"fill:none;fill-rule:evenodd;stroke:#000000;stroke-width:2.0px;stroke-linecap:butt;stroke-linejoin:miter;stroke-opacity:1\"/>\n",
       "<path class=\"bond-152 atom-126 atom-127\" d=\"M 268.4,224.5 L 267.6,218.0\" style=\"fill:none;fill-rule:evenodd;stroke:#000000;stroke-width:2.0px;stroke-linecap:butt;stroke-linejoin:miter;stroke-opacity:1\"/>\n",
       "<path class=\"bond-153 atom-128 atom-131\" d=\"M 274.3,173.7 L 271.0,172.7\" style=\"fill:none;fill-rule:evenodd;stroke:#000000;stroke-width:2.0px;stroke-linecap:butt;stroke-linejoin:miter;stroke-opacity:1\"/>\n",
       "<path class=\"bond-153 atom-128 atom-131\" d=\"M 271.0,172.7 L 267.6,171.6\" style=\"fill:none;fill-rule:evenodd;stroke:#FF0000;stroke-width:2.0px;stroke-linecap:butt;stroke-linejoin:miter;stroke-opacity:1\"/>\n",
       "<path class=\"bond-153 atom-128 atom-131\" d=\"M 274.8,172.1 L 271.5,171.1\" style=\"fill:none;fill-rule:evenodd;stroke:#000000;stroke-width:2.0px;stroke-linecap:butt;stroke-linejoin:miter;stroke-opacity:1\"/>\n",
       "<path class=\"bond-153 atom-128 atom-131\" d=\"M 271.5,171.1 L 268.1,170.0\" style=\"fill:none;fill-rule:evenodd;stroke:#FF0000;stroke-width:2.0px;stroke-linecap:butt;stroke-linejoin:miter;stroke-opacity:1\"/>\n",
       "<path class=\"bond-154 atom-129 atom-10\" d=\"M 278.7,237.4 L 278.6,236.8\" style=\"fill:none;fill-rule:evenodd;stroke:#000000;stroke-width:1.0px;stroke-linecap:butt;stroke-linejoin:miter;stroke-opacity:1\"/>\n",
       "<path class=\"bond-154 atom-129 atom-10\" d=\"M 281.1,237.5 L 281.0,236.2\" style=\"fill:none;fill-rule:evenodd;stroke:#000000;stroke-width:1.0px;stroke-linecap:butt;stroke-linejoin:miter;stroke-opacity:1\"/>\n",
       "<path class=\"bond-154 atom-129 atom-10\" d=\"M 283.5,237.5 L 283.3,235.7\" style=\"fill:none;fill-rule:evenodd;stroke:#000000;stroke-width:1.0px;stroke-linecap:butt;stroke-linejoin:miter;stroke-opacity:1\"/>\n",
       "<path class=\"bond-155 atom-129 atom-130\" d=\"M 276.3,237.3 L 272.7,239.5\" style=\"fill:none;fill-rule:evenodd;stroke:#000000;stroke-width:2.0px;stroke-linecap:butt;stroke-linejoin:miter;stroke-opacity:1\"/>\n",
       "<path class=\"bond-155 atom-129 atom-130\" d=\"M 272.7,239.5 L 269.1,241.6\" style=\"fill:none;fill-rule:evenodd;stroke:#0000FF;stroke-width:2.0px;stroke-linecap:butt;stroke-linejoin:miter;stroke-opacity:1\"/>\n",
       "<path class=\"bond-156 atom-132 atom-133\" d=\"M 200.4,129.9 L 192.1,125.3\" style=\"fill:none;fill-rule:evenodd;stroke:#000000;stroke-width:2.0px;stroke-linecap:butt;stroke-linejoin:miter;stroke-opacity:1\"/>\n",
       "<path class=\"bond-156 atom-132 atom-133\" d=\"M 200.0,127.7 L 194.1,124.5\" style=\"fill:none;fill-rule:evenodd;stroke:#000000;stroke-width:2.0px;stroke-linecap:butt;stroke-linejoin:miter;stroke-opacity:1\"/>\n",
       "<path class=\"bond-157 atom-132 atom-137\" d=\"M 200.4,129.9 L 208.5,124.9\" style=\"fill:none;fill-rule:evenodd;stroke:#000000;stroke-width:2.0px;stroke-linecap:butt;stroke-linejoin:miter;stroke-opacity:1\"/>\n",
       "<path class=\"bond-158 atom-132 atom-168\" d=\"M 200.4,129.9 L 200.5,136.9\" style=\"fill:none;fill-rule:evenodd;stroke:#000000;stroke-width:2.0px;stroke-linecap:butt;stroke-linejoin:miter;stroke-opacity:1\"/>\n",
       "<path class=\"bond-159 atom-133 atom-134\" d=\"M 192.1,125.3 L 191.8,115.8\" style=\"fill:none;fill-rule:evenodd;stroke:#000000;stroke-width:2.0px;stroke-linecap:butt;stroke-linejoin:miter;stroke-opacity:1\"/>\n",
       "<path class=\"bond-160 atom-134 atom-135\" d=\"M 191.8,115.8 L 199.9,110.9\" style=\"fill:none;fill-rule:evenodd;stroke:#000000;stroke-width:2.0px;stroke-linecap:butt;stroke-linejoin:miter;stroke-opacity:1\"/>\n",
       "<path class=\"bond-160 atom-134 atom-135\" d=\"M 193.9,116.5 L 199.6,113.1\" style=\"fill:none;fill-rule:evenodd;stroke:#000000;stroke-width:2.0px;stroke-linecap:butt;stroke-linejoin:miter;stroke-opacity:1\"/>\n",
       "<path class=\"bond-161 atom-135 atom-136\" d=\"M 199.9,110.9 L 208.2,115.4\" style=\"fill:none;fill-rule:evenodd;stroke:#000000;stroke-width:2.0px;stroke-linecap:butt;stroke-linejoin:miter;stroke-opacity:1\"/>\n",
       "<path class=\"bond-162 atom-136 atom-137\" d=\"M 208.2,115.4 L 208.5,124.9\" style=\"fill:none;fill-rule:evenodd;stroke:#000000;stroke-width:2.0px;stroke-linecap:butt;stroke-linejoin:miter;stroke-opacity:1\"/>\n",
       "<path class=\"bond-162 atom-136 atom-137\" d=\"M 206.5,116.8 L 206.7,123.5\" style=\"fill:none;fill-rule:evenodd;stroke:#000000;stroke-width:2.0px;stroke-linecap:butt;stroke-linejoin:miter;stroke-opacity:1\"/>\n",
       "<path class=\"bond-163 atom-136 atom-139\" d=\"M 208.2,115.4 L 216.3,108.0\" style=\"fill:none;fill-rule:evenodd;stroke:#000000;stroke-width:2.0px;stroke-linecap:butt;stroke-linejoin:miter;stroke-opacity:1\"/>\n",
       "<path class=\"bond-164 atom-137 atom-145\" d=\"M 208.5,124.9 L 217.7,130.8\" style=\"fill:none;fill-rule:evenodd;stroke:#000000;stroke-width:2.0px;stroke-linecap:butt;stroke-linejoin:miter;stroke-opacity:1\"/>\n",
       "<path class=\"bond-165 atom-138 atom-145\" d=\"M 217.1,140.2 L 217.7,130.8\" style=\"fill:none;fill-rule:evenodd;stroke:#000000;stroke-width:2.0px;stroke-linecap:butt;stroke-linejoin:miter;stroke-opacity:1\"/>\n",
       "<path class=\"bond-165 atom-138 atom-145\" d=\"M 218.9,138.9 L 219.3,132.3\" style=\"fill:none;fill-rule:evenodd;stroke:#000000;stroke-width:2.0px;stroke-linecap:butt;stroke-linejoin:miter;stroke-opacity:1\"/>\n",
       "<path class=\"bond-166 atom-138 atom-149\" d=\"M 217.1,140.2 L 225.0,145.4\" style=\"fill:none;fill-rule:evenodd;stroke:#000000;stroke-width:2.0px;stroke-linecap:butt;stroke-linejoin:miter;stroke-opacity:1\"/>\n",
       "<path class=\"bond-167 atom-139 atom-140\" d=\"M 216.3,108.0 L 216.4,98.6\" style=\"fill:none;fill-rule:evenodd;stroke:#000000;stroke-width:2.0px;stroke-linecap:butt;stroke-linejoin:miter;stroke-opacity:1\"/>\n",
       "<path class=\"bond-167 atom-139 atom-140\" d=\"M 218.0,106.6 L 218.1,100.0\" style=\"fill:none;fill-rule:evenodd;stroke:#000000;stroke-width:2.0px;stroke-linecap:butt;stroke-linejoin:miter;stroke-opacity:1\"/>\n",
       "<path class=\"bond-168 atom-139 atom-144\" d=\"M 216.3,108.0 L 224.4,112.8\" style=\"fill:none;fill-rule:evenodd;stroke:#000000;stroke-width:2.0px;stroke-linecap:butt;stroke-linejoin:miter;stroke-opacity:1\"/>\n",
       "<path class=\"bond-169 atom-140 atom-141\" d=\"M 216.4,98.6 L 224.6,93.9\" style=\"fill:none;fill-rule:evenodd;stroke:#000000;stroke-width:2.0px;stroke-linecap:butt;stroke-linejoin:miter;stroke-opacity:1\"/>\n",
       "<path class=\"bond-170 atom-141 atom-150\" d=\"M 224.6,93.9 L 224.1,87.9\" style=\"fill:none;fill-rule:evenodd;stroke:#000000;stroke-width:2.0px;stroke-linecap:butt;stroke-linejoin:miter;stroke-opacity:1\"/>\n",
       "<path class=\"bond-171 atom-141 atom-142\" d=\"M 224.6,93.9 L 232.8,98.7\" style=\"fill:none;fill-rule:evenodd;stroke:#000000;stroke-width:2.0px;stroke-linecap:butt;stroke-linejoin:miter;stroke-opacity:1\"/>\n",
       "<path class=\"bond-171 atom-141 atom-142\" d=\"M 225.0,96.1 L 230.7,99.5\" style=\"fill:none;fill-rule:evenodd;stroke:#000000;stroke-width:2.0px;stroke-linecap:butt;stroke-linejoin:miter;stroke-opacity:1\"/>\n",
       "<path class=\"bond-172 atom-142 atom-76\" d=\"M 232.8,98.7 L 239.0,95.5\" style=\"fill:none;fill-rule:evenodd;stroke:#000000;stroke-width:2.0px;stroke-linecap:butt;stroke-linejoin:miter;stroke-opacity:1\"/>\n",
       "<path class=\"bond-173 atom-142 atom-143\" d=\"M 232.8,98.7 L 232.7,108.1\" style=\"fill:none;fill-rule:evenodd;stroke:#000000;stroke-width:2.0px;stroke-linecap:butt;stroke-linejoin:miter;stroke-opacity:1\"/>\n",
       "<path class=\"bond-174 atom-143 atom-144\" d=\"M 232.7,108.1 L 224.4,112.8\" style=\"fill:none;fill-rule:evenodd;stroke:#000000;stroke-width:2.0px;stroke-linecap:butt;stroke-linejoin:miter;stroke-opacity:1\"/>\n",
       "<path class=\"bond-174 atom-143 atom-144\" d=\"M 230.6,107.3 L 224.8,110.6\" style=\"fill:none;fill-rule:evenodd;stroke:#000000;stroke-width:2.0px;stroke-linecap:butt;stroke-linejoin:miter;stroke-opacity:1\"/>\n",
       "<path class=\"bond-175 atom-145 atom-146\" d=\"M 217.7,130.8 L 226.1,126.6\" style=\"fill:none;fill-rule:evenodd;stroke:#000000;stroke-width:2.0px;stroke-linecap:butt;stroke-linejoin:miter;stroke-opacity:1\"/>\n",
       "<path class=\"bond-176 atom-146 atom-147\" d=\"M 226.1,126.6 L 234.0,131.7\" style=\"fill:none;fill-rule:evenodd;stroke:#000000;stroke-width:2.0px;stroke-linecap:butt;stroke-linejoin:miter;stroke-opacity:1\"/>\n",
       "<path class=\"bond-176 atom-146 atom-147\" d=\"M 226.4,128.8 L 231.9,132.4\" style=\"fill:none;fill-rule:evenodd;stroke:#000000;stroke-width:2.0px;stroke-linecap:butt;stroke-linejoin:miter;stroke-opacity:1\"/>\n",
       "<path class=\"bond-177 atom-147 atom-148\" d=\"M 234.0,131.7 L 233.4,141.1\" style=\"fill:none;fill-rule:evenodd;stroke:#000000;stroke-width:2.0px;stroke-linecap:butt;stroke-linejoin:miter;stroke-opacity:1\"/>\n",
       "<path class=\"bond-178 atom-147 atom-151\" d=\"M 234.0,131.7 L 240.0,126.6\" style=\"fill:none;fill-rule:evenodd;stroke:#000000;stroke-width:2.0px;stroke-linecap:butt;stroke-linejoin:miter;stroke-opacity:1\"/>\n",
       "<path class=\"bond-179 atom-148 atom-149\" d=\"M 233.4,141.1 L 225.0,145.4\" style=\"fill:none;fill-rule:evenodd;stroke:#000000;stroke-width:2.0px;stroke-linecap:butt;stroke-linejoin:miter;stroke-opacity:1\"/>\n",
       "<path class=\"bond-179 atom-148 atom-149\" d=\"M 231.4,140.2 L 225.5,143.2\" style=\"fill:none;fill-rule:evenodd;stroke:#000000;stroke-width:2.0px;stroke-linecap:butt;stroke-linejoin:miter;stroke-opacity:1\"/>\n",
       "<path class=\"bond-180 atom-150 atom-153\" d=\"M 223.8,88.7 L 220.5,87.5\" style=\"fill:none;fill-rule:evenodd;stroke:#000000;stroke-width:2.0px;stroke-linecap:butt;stroke-linejoin:miter;stroke-opacity:1\"/>\n",
       "<path class=\"bond-180 atom-150 atom-153\" d=\"M 220.5,87.5 L 217.2,86.4\" style=\"fill:none;fill-rule:evenodd;stroke:#FF0000;stroke-width:2.0px;stroke-linecap:butt;stroke-linejoin:miter;stroke-opacity:1\"/>\n",
       "<path class=\"bond-180 atom-150 atom-153\" d=\"M 224.4,87.1 L 221.1,85.9\" style=\"fill:none;fill-rule:evenodd;stroke:#000000;stroke-width:2.0px;stroke-linecap:butt;stroke-linejoin:miter;stroke-opacity:1\"/>\n",
       "<path class=\"bond-180 atom-150 atom-153\" d=\"M 221.1,85.9 L 217.8,84.8\" style=\"fill:none;fill-rule:evenodd;stroke:#FF0000;stroke-width:2.0px;stroke-linecap:butt;stroke-linejoin:miter;stroke-opacity:1\"/>\n",
       "<path class=\"bond-181 atom-151 atom-30\" d=\"M 239.0,124.8 L 238.5,125.2\" style=\"fill:none;fill-rule:evenodd;stroke:#000000;stroke-width:1.0px;stroke-linecap:butt;stroke-linejoin:miter;stroke-opacity:1\"/>\n",
       "<path class=\"bond-181 atom-151 atom-30\" d=\"M 238.0,123.1 L 237.1,123.8\" style=\"fill:none;fill-rule:evenodd;stroke:#000000;stroke-width:1.0px;stroke-linecap:butt;stroke-linejoin:miter;stroke-opacity:1\"/>\n",
       "<path class=\"bond-181 atom-151 atom-30\" d=\"M 237.1,121.3 L 235.6,122.4\" style=\"fill:none;fill-rule:evenodd;stroke:#000000;stroke-width:1.0px;stroke-linecap:butt;stroke-linejoin:miter;stroke-opacity:1\"/>\n",
       "<path class=\"bond-182 atom-151 atom-152\" d=\"M 240.0,126.6 L 243.5,128.2\" style=\"fill:none;fill-rule:evenodd;stroke:#000000;stroke-width:2.0px;stroke-linecap:butt;stroke-linejoin:miter;stroke-opacity:1\"/>\n",
       "<path class=\"bond-182 atom-151 atom-152\" d=\"M 243.5,128.2 L 247.1,129.7\" style=\"fill:none;fill-rule:evenodd;stroke:#0000FF;stroke-width:2.0px;stroke-linecap:butt;stroke-linejoin:miter;stroke-opacity:1\"/>\n",
       "<path class=\"bond-183 atom-154 atom-159\" d=\"M 256.7,38.9 L 248.7,44.1\" style=\"fill:none;fill-rule:evenodd;stroke:#000000;stroke-width:2.0px;stroke-linecap:butt;stroke-linejoin:miter;stroke-opacity:1\"/>\n",
       "<path class=\"bond-184 atom-154 atom-160\" d=\"M 256.7,38.9 L 266.1,41.7\" style=\"fill:none;fill-rule:evenodd;stroke:#000000;stroke-width:2.0px;stroke-linecap:butt;stroke-linejoin:miter;stroke-opacity:1\"/>\n",
       "<path class=\"bond-185 atom-154 atom-155\" d=\"M 256.7,38.9 L 256.3,29.5\" style=\"fill:none;fill-rule:evenodd;stroke:#000000;stroke-width:2.0px;stroke-linecap:butt;stroke-linejoin:miter;stroke-opacity:1\"/>\n",
       "<path class=\"bond-185 atom-154 atom-155\" d=\"M 255.0,37.6 L 254.7,31.0\" style=\"fill:none;fill-rule:evenodd;stroke:#000000;stroke-width:2.0px;stroke-linecap:butt;stroke-linejoin:miter;stroke-opacity:1\"/>\n",
       "<path class=\"bond-186 atom-155 atom-156\" d=\"M 256.3,29.5 L 248.0,25.1\" style=\"fill:none;fill-rule:evenodd;stroke:#000000;stroke-width:2.0px;stroke-linecap:butt;stroke-linejoin:miter;stroke-opacity:1\"/>\n",
       "<path class=\"bond-187 atom-156 atom-157\" d=\"M 248.0,25.1 L 240.0,30.2\" style=\"fill:none;fill-rule:evenodd;stroke:#000000;stroke-width:2.0px;stroke-linecap:butt;stroke-linejoin:miter;stroke-opacity:1\"/>\n",
       "<path class=\"bond-187 atom-156 atom-157\" d=\"M 247.7,27.3 L 242.1,30.9\" style=\"fill:none;fill-rule:evenodd;stroke:#000000;stroke-width:2.0px;stroke-linecap:butt;stroke-linejoin:miter;stroke-opacity:1\"/>\n",
       "<path class=\"bond-188 atom-157 atom-158\" d=\"M 240.0,30.2 L 240.3,39.7\" style=\"fill:none;fill-rule:evenodd;stroke:#000000;stroke-width:2.0px;stroke-linecap:butt;stroke-linejoin:miter;stroke-opacity:1\"/>\n",
       "<path class=\"bond-189 atom-158 atom-159\" d=\"M 240.3,39.7 L 248.7,44.1\" style=\"fill:none;fill-rule:evenodd;stroke:#000000;stroke-width:2.0px;stroke-linecap:butt;stroke-linejoin:miter;stroke-opacity:1\"/>\n",
       "<path class=\"bond-189 atom-158 atom-159\" d=\"M 242.4,38.8 L 248.3,41.9\" style=\"fill:none;fill-rule:evenodd;stroke:#000000;stroke-width:2.0px;stroke-linecap:butt;stroke-linejoin:miter;stroke-opacity:1\"/>\n",
       "<path class=\"bond-190 atom-159 atom-162\" d=\"M 248.7,44.1 L 247.9,55.1\" style=\"fill:none;fill-rule:evenodd;stroke:#000000;stroke-width:2.0px;stroke-linecap:butt;stroke-linejoin:miter;stroke-opacity:1\"/>\n",
       "<path class=\"bond-191 atom-161 atom-162\" d=\"M 255.7,60.4 L 247.9,55.1\" style=\"fill:none;fill-rule:evenodd;stroke:#000000;stroke-width:2.0px;stroke-linecap:butt;stroke-linejoin:miter;stroke-opacity:1\"/>\n",
       "<path class=\"bond-192 atom-162 atom-163\" d=\"M 247.9,55.1 L 239.4,59.2\" style=\"fill:none;fill-rule:evenodd;stroke:#000000;stroke-width:2.0px;stroke-linecap:butt;stroke-linejoin:miter;stroke-opacity:1\"/>\n",
       "<path class=\"bond-192 atom-162 atom-163\" d=\"M 247.3,57.3 L 241.4,60.2\" style=\"fill:none;fill-rule:evenodd;stroke:#000000;stroke-width:2.0px;stroke-linecap:butt;stroke-linejoin:miter;stroke-opacity:1\"/>\n",
       "<path class=\"bond-193 atom-164 atom-166\" d=\"M 300.4,41.8 L 303.2,40.2\" style=\"fill:none;fill-rule:evenodd;stroke:#FF0000;stroke-width:2.0px;stroke-linecap:butt;stroke-linejoin:miter;stroke-opacity:1\"/>\n",
       "<path class=\"bond-193 atom-164 atom-166\" d=\"M 303.2,40.2 L 306.1,38.5\" style=\"fill:none;fill-rule:evenodd;stroke:#000000;stroke-width:2.0px;stroke-linecap:butt;stroke-linejoin:miter;stroke-opacity:1\"/>\n",
       "<path class=\"bond-194 atom-165 atom-166\" d=\"M 309.3,32.7 L 306.1,38.5\" style=\"fill:none;fill-rule:evenodd;stroke:#000000;stroke-width:2.0px;stroke-linecap:butt;stroke-linejoin:miter;stroke-opacity:1\"/>\n",
       "<path class=\"bond-195 atom-166 atom-167\" d=\"M 306.1,38.5 L 312.3,42.1\" style=\"fill:none;fill-rule:evenodd;stroke:#000000;stroke-width:2.0px;stroke-linecap:butt;stroke-linejoin:miter;stroke-opacity:1\"/>\n",
       "<path class=\"bond-196 atom-169 atom-173\" d=\"M 324.7,209.0 L 321.5,203.4\" style=\"fill:none;fill-rule:evenodd;stroke:#000000;stroke-width:2.0px;stroke-linecap:butt;stroke-linejoin:miter;stroke-opacity:1\"/>\n",
       "<path class=\"bond-197 atom-169 atom-174\" d=\"M 324.7,209.0 L 328.0,203.2\" style=\"fill:none;fill-rule:evenodd;stroke:#000000;stroke-width:2.0px;stroke-linecap:butt;stroke-linejoin:miter;stroke-opacity:1\"/>\n",
       "<path class=\"bond-198 atom-169 atom-175\" d=\"M 324.7,209.0 L 330.9,212.5\" style=\"fill:none;fill-rule:evenodd;stroke:#000000;stroke-width:2.0px;stroke-linecap:butt;stroke-linejoin:miter;stroke-opacity:1\"/>\n",
       "<path class=\"bond-199 atom-170 atom-176\" d=\"M 315.0,100.2 L 307.8,100.3\" style=\"fill:none;fill-rule:evenodd;stroke:#000000;stroke-width:2.0px;stroke-linecap:butt;stroke-linejoin:miter;stroke-opacity:1\"/>\n",
       "<path class=\"bond-200 atom-170 atom-177\" d=\"M 315.0,100.2 L 311.6,94.5\" style=\"fill:none;fill-rule:evenodd;stroke:#000000;stroke-width:2.0px;stroke-linecap:butt;stroke-linejoin:miter;stroke-opacity:1\"/>\n",
       "<path class=\"bond-201 atom-170 atom-178\" d=\"M 315.0,100.2 L 321.2,96.6\" style=\"fill:none;fill-rule:evenodd;stroke:#000000;stroke-width:2.0px;stroke-linecap:butt;stroke-linejoin:miter;stroke-opacity:1\"/>\n",
       "<path class=\"bond-202 atom-171 atom-179\" d=\"M 175.2,125.6 L 178.2,119.9\" style=\"fill:none;fill-rule:evenodd;stroke:#000000;stroke-width:2.0px;stroke-linecap:butt;stroke-linejoin:miter;stroke-opacity:1\"/>\n",
       "<path class=\"bond-203 atom-171 atom-180\" d=\"M 175.2,125.6 L 171.8,119.9\" style=\"fill:none;fill-rule:evenodd;stroke:#000000;stroke-width:2.0px;stroke-linecap:butt;stroke-linejoin:miter;stroke-opacity:1\"/>\n",
       "<path class=\"bond-204 atom-171 atom-181\" d=\"M 175.2,125.6 L 169.1,129.2\" style=\"fill:none;fill-rule:evenodd;stroke:#000000;stroke-width:2.0px;stroke-linecap:butt;stroke-linejoin:miter;stroke-opacity:1\"/>\n",
       "<path class=\"bond-205 atom-172 atom-183\" d=\"M 223.4,30.2 L 226.7,35.9\" style=\"fill:none;fill-rule:evenodd;stroke:#000000;stroke-width:2.0px;stroke-linecap:butt;stroke-linejoin:miter;stroke-opacity:1\"/>\n",
       "<path class=\"bond-206 atom-172 atom-184\" d=\"M 223.4,30.2 L 220.0,35.9\" style=\"fill:none;fill-rule:evenodd;stroke:#000000;stroke-width:2.0px;stroke-linecap:butt;stroke-linejoin:miter;stroke-opacity:1\"/>\n",
       "<path class=\"bond-207 atom-172 atom-182\" d=\"M 223.4,30.2 L 217.1,26.6\" style=\"fill:none;fill-rule:evenodd;stroke:#000000;stroke-width:2.0px;stroke-linecap:butt;stroke-linejoin:miter;stroke-opacity:1\"/>\n",
       "<path class=\"atom-0\" d=\"M 272.0 147.6 L 272.5 147.6 L 272.5 149.4 L 274.7 149.4 L 274.7 147.6 L 275.3 147.6 L 275.3 151.9 L 274.7 151.9 L 274.7 149.9 L 272.5 149.9 L 272.5 151.9 L 272.0 151.9 L 272.0 147.6 \" fill=\"#000000\"/>\n",
       "<path class=\"atom-1\" d=\"M 279.4 146.5 L 280.0 146.5 L 280.0 148.3 L 282.2 148.3 L 282.2 146.5 L 282.8 146.5 L 282.8 150.7 L 282.2 150.7 L 282.2 148.7 L 280.0 148.7 L 280.0 150.7 L 279.4 150.7 L 279.4 146.5 \" fill=\"#000000\"/>\n",
       "<path class=\"atom-2\" d=\"M 290.4 169.6 L 290.9 169.6 L 290.9 171.4 L 293.1 171.4 L 293.1 169.6 L 293.7 169.6 L 293.7 173.8 L 293.1 173.8 L 293.1 171.9 L 290.9 171.9 L 290.9 173.8 L 290.4 173.8 L 290.4 169.6 \" fill=\"#000000\"/>\n",
       "<path class=\"atom-3\" d=\"M 313.9 192.9 L 314.5 192.9 L 314.5 194.7 L 316.6 194.7 L 316.6 192.9 L 317.2 192.9 L 317.2 197.1 L 316.6 197.1 L 316.6 195.1 L 314.5 195.1 L 314.5 197.1 L 313.9 197.1 L 313.9 192.9 \" fill=\"#000000\"/>\n",
       "<path class=\"atom-4\" d=\"M 297.9 183.4 L 298.5 183.4 L 298.5 185.2 L 300.7 185.2 L 300.7 183.4 L 301.3 183.4 L 301.3 187.6 L 300.7 187.6 L 300.7 185.6 L 298.5 185.6 L 298.5 187.6 L 297.9 187.6 L 297.9 183.4 \" fill=\"#000000\"/>\n",
       "<path class=\"atom-5\" d=\"M 299.5 28.2 L 300.1 28.2 L 300.1 30.0 L 302.3 30.0 L 302.3 28.2 L 302.9 28.2 L 302.9 32.5 L 302.3 32.5 L 302.3 30.5 L 300.1 30.5 L 300.1 32.5 L 299.5 32.5 L 299.5 28.2 \" fill=\"#000000\"/>\n",
       "<path class=\"atom-6\" d=\"M 257.0 177.9 L 257.6 177.9 L 257.6 179.7 L 259.8 179.7 L 259.8 177.9 L 260.4 177.9 L 260.4 182.1 L 259.8 182.1 L 259.8 180.2 L 257.6 180.2 L 257.6 182.1 L 257.0 182.1 L 257.0 177.9 \" fill=\"#000000\"/>\n",
       "<path class=\"atom-7\" d=\"M 182.3 109.1 L 182.8 109.1 L 182.8 110.9 L 185.0 110.9 L 185.0 109.1 L 185.6 109.1 L 185.6 113.4 L 185.0 113.4 L 185.0 111.4 L 182.8 111.4 L 182.8 113.4 L 182.3 113.4 L 182.3 109.1 \" fill=\"#000000\"/>\n",
       "<path class=\"atom-8\" d=\"M 198.0 99.3 L 198.6 99.3 L 198.6 101.1 L 200.8 101.1 L 200.8 99.3 L 201.4 99.3 L 201.4 103.5 L 200.8 103.5 L 200.8 101.6 L 198.6 101.6 L 198.6 103.5 L 198.0 103.5 L 198.0 99.3 \" fill=\"#000000\"/>\n",
       "<path class=\"atom-9\" d=\"M 290.1 226.2 L 290.7 226.2 L 290.7 228.0 L 292.9 228.0 L 292.9 226.2 L 293.5 226.2 L 293.5 230.4 L 292.9 230.4 L 292.9 228.4 L 290.7 228.4 L 290.7 230.4 L 290.1 230.4 L 290.1 226.2 \" fill=\"#000000\"/>\n",
       "<path class=\"atom-10\" d=\"M 284.0 234.2 L 284.6 234.2 L 284.6 236.0 L 286.7 236.0 L 286.7 234.2 L 287.3 234.2 L 287.3 238.5 L 286.7 238.5 L 286.7 236.5 L 284.6 236.5 L 284.6 238.5 L 284.0 238.5 L 284.0 234.2 \" fill=\"#000000\"/>\n",
       "<path class=\"atom-11\" d=\"M 255.7 210.4 L 256.3 210.4 L 256.3 212.2 L 258.4 212.2 L 258.4 210.4 L 259.0 210.4 L 259.0 214.6 L 258.4 214.6 L 258.4 212.7 L 256.3 212.7 L 256.3 214.6 L 255.7 214.6 L 255.7 210.4 \" fill=\"#000000\"/>\n",
       "<path class=\"atom-12\" d=\"M 256.9 236.3 L 257.5 236.3 L 257.5 238.1 L 259.6 238.1 L 259.6 236.3 L 260.2 236.3 L 260.2 240.5 L 259.6 240.5 L 259.6 238.6 L 257.5 238.6 L 257.5 240.5 L 256.9 240.5 L 256.9 236.3 \" fill=\"#000000\"/>\n",
       "<path class=\"atom-13\" d=\"M 269.9 111.6 L 270.4 111.6 L 270.4 113.4 L 272.6 113.4 L 272.6 111.6 L 273.2 111.6 L 273.2 115.9 L 272.6 115.9 L 272.6 113.9 L 270.4 113.9 L 270.4 115.9 L 269.9 115.9 L 269.9 111.6 \" fill=\"#000000\"/>\n",
       "<path class=\"atom-14\" d=\"M 299.8 165.6 L 300.4 165.6 L 300.4 167.4 L 302.6 167.4 L 302.6 165.6 L 303.2 165.6 L 303.2 169.9 L 302.6 169.9 L 302.6 167.9 L 300.4 167.9 L 300.4 169.9 L 299.8 169.9 L 299.8 165.6 \" fill=\"#000000\"/>\n",
       "<path class=\"atom-15\" d=\"M 206.9 142.3 L 207.5 142.3 L 207.5 144.1 L 209.7 144.1 L 209.7 142.3 L 210.3 142.3 L 210.3 146.6 L 209.7 146.6 L 209.7 144.6 L 207.5 144.6 L 207.5 146.6 L 206.9 146.6 L 206.9 142.3 \" fill=\"#000000\"/>\n",
       "<path class=\"atom-16\" d=\"M 297.9 221.3 L 298.5 221.3 L 298.5 223.1 L 300.7 223.1 L 300.7 221.3 L 301.2 221.3 L 301.2 225.5 L 300.7 225.5 L 300.7 223.6 L 298.5 223.6 L 298.5 225.5 L 297.9 225.5 L 297.9 221.3 \" fill=\"#000000\"/>\n",
       "<path class=\"atom-17\" d=\"M 296.6 98.0 L 297.2 98.0 L 297.2 99.8 L 299.4 99.8 L 299.4 98.0 L 299.9 98.0 L 299.9 102.3 L 299.4 102.3 L 299.4 100.3 L 297.2 100.3 L 297.2 102.3 L 296.6 102.3 L 296.6 98.0 \" fill=\"#000000\"/>\n",
       "<path class=\"atom-18\" d=\"M 289.6 177.1 L 290.2 177.1 L 290.2 178.9 L 292.3 178.9 L 292.3 177.1 L 292.9 177.1 L 292.9 181.4 L 292.3 181.4 L 292.3 179.4 L 290.2 179.4 L 290.2 181.4 L 289.6 181.4 L 289.6 177.1 \" fill=\"#000000\"/>\n",
       "<path class=\"atom-19\" d=\"M 237.2 111.0 L 237.8 111.0 L 237.8 112.8 L 239.9 112.8 L 239.9 111.0 L 240.5 111.0 L 240.5 115.3 L 239.9 115.3 L 239.9 113.3 L 237.8 113.3 L 237.8 115.3 L 237.2 115.3 L 237.2 111.0 \" fill=\"#000000\"/>\n",
       "<path class=\"atom-21\" d=\"M 261.6 72.5 L 262.1 72.5 L 262.1 74.3 L 264.3 74.3 L 264.3 72.5 L 264.9 72.5 L 264.9 76.7 L 264.3 76.7 L 264.3 74.8 L 262.1 74.8 L 262.1 76.7 L 261.6 76.7 L 261.6 72.5 \" fill=\"#000000\"/>\n",
       "<path class=\"atom-22\" d=\"M 259.8 49.9 L 260.3 49.9 L 260.3 51.8 L 262.5 51.8 L 262.5 49.9 L 263.1 49.9 L 263.1 54.2 L 262.5 54.2 L 262.5 52.2 L 260.3 52.2 L 260.3 54.2 L 259.8 54.2 L 259.8 49.9 \" fill=\"#000000\"/>\n",
       "<path class=\"atom-23\" d=\"M 271.4 63.7 L 272.0 63.7 L 272.0 65.5 L 274.1 65.5 L 274.1 63.7 L 274.7 63.7 L 274.7 67.9 L 274.1 67.9 L 274.1 66.0 L 272.0 66.0 L 272.0 67.9 L 271.4 67.9 L 271.4 63.7 \" fill=\"#000000\"/>\n",
       "<path class=\"atom-24\" d=\"M 273.3 25.9 L 273.9 25.9 L 273.9 27.7 L 276.0 27.7 L 276.0 25.9 L 276.6 25.9 L 276.6 30.2 L 276.0 30.2 L 276.0 28.2 L 273.9 28.2 L 273.9 30.2 L 273.3 30.2 L 273.3 25.9 \" fill=\"#000000\"/>\n",
       "<path class=\"atom-25\" d=\"M 313.3 126.5 L 313.9 126.5 L 313.9 128.3 L 316.1 128.3 L 316.1 126.5 L 316.6 126.5 L 316.6 130.8 L 316.1 130.8 L 316.1 128.8 L 313.9 128.8 L 313.9 130.8 L 313.3 130.8 L 313.3 126.5 \" fill=\"#000000\"/>\n",
       "<path class=\"atom-26\" d=\"M 221.3 77.4 L 221.9 77.4 L 221.9 79.2 L 224.1 79.2 L 224.1 77.4 L 224.7 77.4 L 224.7 81.6 L 224.1 81.6 L 224.1 79.6 L 221.9 79.6 L 221.9 81.6 L 221.3 81.6 L 221.3 77.4 \" fill=\"#000000\"/>\n",
       "<path class=\"atom-27\" d=\"M 229.8 51.9 L 230.3 51.9 L 230.3 53.7 L 232.5 53.7 L 232.5 51.9 L 233.1 51.9 L 233.1 56.2 L 232.5 56.2 L 232.5 54.2 L 230.3 54.2 L 230.3 56.2 L 229.8 56.2 L 229.8 51.9 \" fill=\"#000000\"/>\n",
       "<path class=\"atom-29\" d=\"M 246.0 13.5 L 246.6 13.5 L 246.6 15.3 L 248.8 15.3 L 248.8 13.5 L 249.4 13.5 L 249.4 17.8 L 248.8 17.8 L 248.8 15.8 L 246.6 15.8 L 246.6 17.8 L 246.0 17.8 L 246.0 13.5 \" fill=\"#000000\"/>\n",
       "<path class=\"atom-30\" d=\"M 232.6 117.0 L 233.2 117.0 L 233.2 118.8 L 235.3 118.8 L 235.3 117.0 L 235.9 117.0 L 235.9 121.3 L 235.3 121.3 L 235.3 119.3 L 233.2 119.3 L 233.2 121.3 L 232.6 121.3 L 232.6 117.0 \" fill=\"#000000\"/>\n",
       "<path class=\"atom-31\" d=\"M 222.8 152.7 L 223.3 152.7 L 223.3 154.5 L 225.5 154.5 L 225.5 152.7 L 226.1 152.7 L 226.1 156.9 L 225.5 156.9 L 225.5 154.9 L 223.3 154.9 L 223.3 156.9 L 222.8 156.9 L 222.8 152.7 \" fill=\"#000000\"/>\n",
       "<path class=\"atom-32\" d=\"M 239.7 144.1 L 240.2 144.1 L 240.2 145.9 L 242.4 145.9 L 242.4 144.1 L 243.0 144.1 L 243.0 148.4 L 242.4 148.4 L 242.4 146.4 L 240.2 146.4 L 240.2 148.4 L 239.7 148.4 L 239.7 144.1 \" fill=\"#000000\"/>\n",
       "<path class=\"atom-33\" d=\"M 206.6 91.9 L 207.2 91.9 L 207.2 93.7 L 209.3 93.7 L 209.3 91.9 L 209.9 91.9 L 209.9 96.1 L 209.3 96.1 L 209.3 94.2 L 207.2 94.2 L 207.2 96.1 L 206.6 96.1 L 206.6 91.9 \" fill=\"#000000\"/>\n",
       "<path class=\"atom-34\" d=\"M 262.7 22.4 L 263.3 22.4 L 263.3 24.2 L 265.5 24.2 L 265.5 22.4 L 266.1 22.4 L 266.1 26.6 L 265.5 26.6 L 265.5 24.7 L 263.3 24.7 L 263.3 26.6 L 262.7 26.6 L 262.7 22.4 \" fill=\"#000000\"/>\n",
       "<path class=\"atom-35\" d=\"M 267.6 272.0 L 268.2 272.0 L 268.2 273.8 L 270.4 273.8 L 270.4 272.0 L 271.0 272.0 L 271.0 276.3 L 270.4 276.3 L 270.4 274.3 L 268.2 274.3 L 268.2 276.3 L 267.6 276.3 L 267.6 272.0 \" fill=\"#000000\"/>\n",
       "<path class=\"atom-36\" d=\"M 246.3 272.7 L 246.9 272.7 L 246.9 274.5 L 249.0 274.5 L 249.0 272.7 L 249.6 272.7 L 249.6 277.0 L 249.0 277.0 L 249.0 275.0 L 246.9 275.0 L 246.9 277.0 L 246.3 277.0 L 246.3 272.7 \" fill=\"#000000\"/>\n",
       "<path class=\"atom-37\" d=\"M 260.7 275.1 L 261.3 275.1 L 261.3 276.9 L 263.5 276.9 L 263.5 275.1 L 264.1 275.1 L 264.1 279.3 L 263.5 279.3 L 263.5 277.4 L 261.3 277.4 L 261.3 279.3 L 260.7 279.3 L 260.7 275.1 \" fill=\"#000000\"/>\n",
       "<path class=\"atom-38\" d=\"M 261.4 282.2 L 262.0 282.2 L 262.0 284.0 L 264.2 284.0 L 264.2 282.2 L 264.7 282.2 L 264.7 286.5 L 264.2 286.5 L 264.2 284.5 L 262.0 284.5 L 262.0 286.5 L 261.4 286.5 L 261.4 282.2 \" fill=\"#000000\"/>\n",
       "<path class=\"atom-39\" d=\"M 238.7 84.9 L 239.3 84.9 L 239.3 86.7 L 241.5 86.7 L 241.5 84.9 L 242.0 84.9 L 242.0 89.1 L 241.5 89.1 L 241.5 87.2 L 239.3 87.2 L 239.3 89.1 L 238.7 89.1 L 238.7 84.9 \" fill=\"#000000\"/>\n",
       "<path class=\"atom-40\" d=\"M 220.4 115.2 L 220.9 115.2 L 220.9 117.0 L 223.1 117.0 L 223.1 115.2 L 223.7 115.2 L 223.7 119.4 L 223.1 119.4 L 223.1 117.5 L 220.9 117.5 L 220.9 119.4 L 220.4 119.4 L 220.4 115.2 \" fill=\"#000000\"/>\n",
       "<path class=\"atom-43\" d=\"M 254.8 140.6 L 255.4 140.6 L 255.4 142.4 L 257.5 142.4 L 257.5 140.6 L 258.1 140.6 L 258.1 144.9 L 257.5 144.9 L 257.5 142.9 L 255.4 142.9 L 255.4 144.9 L 254.8 144.9 L 254.8 140.6 \" fill=\"#000000\"/>\n",
       "<path class=\"atom-44\" d=\"M 255.5 255.2 Q 255.5 254.2, 256.0 253.6 Q 256.5 253.0, 257.5 253.0 Q 258.4 253.0, 258.9 253.6 Q 259.4 254.2, 259.4 255.2 Q 259.4 256.2, 258.9 256.8 Q 258.4 257.4, 257.5 257.4 Q 256.5 257.4, 256.0 256.8 Q 255.5 256.2, 255.5 255.2 M 257.5 256.9 Q 258.1 256.9, 258.5 256.5 Q 258.8 256.0, 258.8 255.2 Q 258.8 254.4, 258.5 253.9 Q 258.1 253.5, 257.5 253.5 Q 256.8 253.5, 256.5 253.9 Q 256.1 254.4, 256.1 255.2 Q 256.1 256.1, 256.5 256.5 Q 256.8 256.9, 257.5 256.9 \" fill=\"#FF0000\"/>\n",
       "<path class=\"atom-47\" d=\"M 225.9 62.0 L 226.4 62.0 L 226.4 63.8 L 228.6 63.8 L 228.6 62.0 L 229.2 62.0 L 229.2 66.2 L 228.6 66.2 L 228.6 64.2 L 226.4 64.2 L 226.4 66.2 L 225.9 66.2 L 225.9 62.0 \" fill=\"#000000\"/>\n",
       "<path class=\"atom-49\" d=\"M 313.9 136.1 L 314.5 136.1 L 314.5 137.9 L 316.7 137.9 L 316.7 136.1 L 317.3 136.1 L 317.3 140.3 L 316.7 140.3 L 316.7 138.3 L 314.5 138.3 L 314.5 140.3 L 313.9 140.3 L 313.9 136.1 \" fill=\"#000000\"/>\n",
       "<path class=\"atom-50\" d=\"M 275.9 199.9 L 276.5 199.9 L 276.5 201.7 L 278.7 201.7 L 278.7 199.9 L 279.3 199.9 L 279.3 204.1 L 278.7 204.1 L 278.7 202.2 L 276.5 202.2 L 276.5 204.1 L 275.9 204.1 L 275.9 199.9 \" fill=\"#000000\"/>\n",
       "<path class=\"atom-52\" d=\"M 238.1 268.6 L 238.7 268.6 L 238.7 270.4 L 240.9 270.4 L 240.9 268.6 L 241.5 268.6 L 241.5 272.9 L 240.9 272.9 L 240.9 270.9 L 238.7 270.9 L 238.7 272.9 L 238.1 272.9 L 238.1 268.6 \" fill=\"#000000\"/>\n",
       "<path class=\"atom-53\" d=\"M 241.1 255.7 L 241.7 255.7 L 241.7 257.5 L 243.9 257.5 L 243.9 255.7 L 244.5 255.7 L 244.5 260.0 L 243.9 260.0 L 243.9 258.0 L 241.7 258.0 L 241.7 260.0 L 241.1 260.0 L 241.1 255.7 \" fill=\"#000000\"/>\n",
       "<path class=\"atom-54\" d=\"M 273.0 267.1 L 273.5 267.1 L 273.5 268.9 L 275.7 268.9 L 275.7 267.1 L 276.3 267.1 L 276.3 271.3 L 275.7 271.3 L 275.7 269.4 L 273.5 269.4 L 273.5 271.3 L 273.0 271.3 L 273.0 267.1 \" fill=\"#000000\"/>\n",
       "<path class=\"atom-55\" d=\"M 249.3 280.1 L 249.9 280.1 L 249.9 281.9 L 252.1 281.9 L 252.1 280.1 L 252.6 280.1 L 252.6 284.3 L 252.1 284.3 L 252.1 282.4 L 249.9 282.4 L 249.9 284.3 L 249.3 284.3 L 249.3 280.1 \" fill=\"#000000\"/>\n",
       "<path class=\"atom-56\" d=\"M 268.7 258.3 L 269.3 258.3 L 269.3 260.1 L 271.4 260.1 L 271.4 258.3 L 272.0 258.3 L 272.0 262.6 L 271.4 262.6 L 271.4 260.6 L 269.3 260.6 L 269.3 262.6 L 268.7 262.6 L 268.7 258.3 \" fill=\"#000000\"/>\n",
       "<path class=\"atom-57\" d=\"M 280.4 107.6 L 281.0 107.6 L 281.0 109.4 L 283.2 109.4 L 283.2 107.6 L 283.7 107.6 L 283.7 111.9 L 283.2 111.9 L 283.2 109.9 L 281.0 109.9 L 281.0 111.9 L 280.4 111.9 L 280.4 107.6 \" fill=\"#000000\"/>\n",
       "<path class=\"atom-58\" d=\"M 258.2 57.3 L 258.8 57.3 L 258.8 59.1 L 261.0 59.1 L 261.0 57.3 L 261.5 57.3 L 261.5 61.6 L 261.0 61.6 L 261.0 59.6 L 258.8 59.6 L 258.8 61.6 L 258.2 61.6 L 258.2 57.3 \" fill=\"#000000\"/>\n",
       "<path class=\"atom-62\" d=\"M 247.8 137.8 L 248.4 137.8 L 248.4 139.6 L 250.5 139.6 L 250.5 137.8 L 251.1 137.8 L 251.1 142.0 L 250.5 142.0 L 250.5 140.0 L 248.4 140.0 L 248.4 142.0 L 247.8 142.0 L 247.8 137.8 \" fill=\"#000000\"/>\n",
       "<path class=\"atom-63\" d=\"M 231.0 80.5 L 232.4 82.7 Q 232.5 83.0, 232.7 83.4 Q 233.0 83.8, 233.0 83.8 L 233.0 80.5 L 233.5 80.5 L 233.5 84.7 L 233.0 84.7 L 231.5 82.3 Q 231.3 82.0, 231.1 81.7 Q 230.9 81.3, 230.9 81.2 L 230.9 84.7 L 230.3 84.7 L 230.3 80.5 L 231.0 80.5 \" fill=\"#0000FF\"/>\n",
       "<path class=\"atom-64\" d=\"M 245.1 80.7 L 245.7 80.7 L 245.7 82.5 L 247.8 82.5 L 247.8 80.7 L 248.4 80.7 L 248.4 85.0 L 247.8 85.0 L 247.8 83.0 L 245.7 83.0 L 245.7 85.0 L 245.1 85.0 L 245.1 80.7 \" fill=\"#000000\"/>\n",
       "<path class=\"atom-65\" d=\"M 230.7 42.5 L 231.2 42.5 L 231.2 44.3 L 233.4 44.3 L 233.4 42.5 L 234.0 42.5 L 234.0 46.7 L 233.4 46.7 L 233.4 44.8 L 231.2 44.8 L 231.2 46.7 L 230.7 46.7 L 230.7 42.5 \" fill=\"#000000\"/>\n",
       "<path class=\"atom-67\" d=\"M 283.7 134.8 L 284.3 134.8 L 284.3 136.7 L 286.4 136.7 L 286.4 134.8 L 287.0 134.8 L 287.0 139.1 L 286.4 139.1 L 286.4 137.1 L 284.3 137.1 L 284.3 139.1 L 283.7 139.1 L 283.7 134.8 \" fill=\"#000000\"/>\n",
       "<path class=\"atom-68\" d=\"M 314.2 213.9 Q 314.2 212.9, 314.7 212.3 Q 315.2 211.8, 316.2 211.8 Q 317.1 211.8, 317.6 212.3 Q 318.1 212.9, 318.1 213.9 Q 318.1 214.9, 317.6 215.5 Q 317.1 216.1, 316.2 216.1 Q 315.2 216.1, 314.7 215.5 Q 314.2 215.0, 314.2 213.9 M 316.2 215.6 Q 316.8 215.6, 317.2 215.2 Q 317.5 214.8, 317.5 213.9 Q 317.5 213.1, 317.2 212.7 Q 316.8 212.2, 316.2 212.2 Q 315.5 212.2, 315.2 212.7 Q 314.8 213.1, 314.8 213.9 Q 314.8 214.8, 315.2 215.2 Q 315.5 215.6, 316.2 215.6 \" fill=\"#FF0000\"/>\n",
       "<path class=\"atom-69\" d=\"M 181.8 130.2 Q 181.8 129.2, 182.3 128.6 Q 182.8 128.1, 183.8 128.1 Q 184.7 128.1, 185.2 128.6 Q 185.7 129.2, 185.7 130.2 Q 185.7 131.2, 185.2 131.8 Q 184.7 132.4, 183.8 132.4 Q 182.8 132.4, 182.3 131.8 Q 181.8 131.3, 181.8 130.2 M 183.8 131.9 Q 184.4 131.9, 184.8 131.5 Q 185.1 131.1, 185.1 130.2 Q 185.1 129.4, 184.8 129.0 Q 184.4 128.5, 183.8 128.5 Q 183.1 128.5, 182.8 129.0 Q 182.4 129.4, 182.4 130.2 Q 182.4 131.1, 182.8 131.5 Q 183.1 131.9, 183.8 131.9 \" fill=\"#FF0000\"/>\n",
       "<path class=\"atom-70\" d=\"M 257.6 228.7 L 258.2 228.7 L 258.2 230.5 L 260.3 230.5 L 260.3 228.7 L 260.9 228.7 L 260.9 233.0 L 260.3 233.0 L 260.3 231.0 L 258.2 231.0 L 258.2 233.0 L 257.6 233.0 L 257.6 228.7 \" fill=\"#000000\"/>\n",
       "<path class=\"atom-73\" d=\"M 313.1 109.7 Q 313.1 108.7, 313.6 108.1 Q 314.1 107.6, 315.0 107.6 Q 315.9 107.6, 316.5 108.1 Q 317.0 108.7, 317.0 109.7 Q 317.0 110.8, 316.4 111.4 Q 315.9 111.9, 315.0 111.9 Q 314.1 111.9, 313.6 111.4 Q 313.1 110.8, 313.1 109.7 M 315.0 111.5 Q 315.7 111.5, 316.0 111.0 Q 316.4 110.6, 316.4 109.7 Q 316.4 108.9, 316.0 108.5 Q 315.7 108.1, 315.0 108.1 Q 314.4 108.1, 314.0 108.5 Q 313.7 108.9, 313.7 109.7 Q 313.7 110.6, 314.0 111.0 Q 314.4 111.5, 315.0 111.5 \" fill=\"#FF0000\"/>\n",
       "<path class=\"atom-74\" d=\"M 270.5 205.0 L 271.0 205.0 L 271.0 206.9 L 273.2 206.9 L 273.2 205.0 L 273.8 205.0 L 273.8 209.3 L 273.2 209.3 L 273.2 207.3 L 271.0 207.3 L 271.0 209.3 L 270.5 209.3 L 270.5 205.0 \" fill=\"#000000\"/>\n",
       "<path class=\"atom-75\" d=\"M 258.0 196.8 L 258.6 196.8 L 258.6 198.6 L 260.8 198.6 L 260.8 196.8 L 261.4 196.8 L 261.4 201.0 L 260.8 201.0 L 260.8 199.1 L 258.6 199.1 L 258.6 201.0 L 258.0 201.0 L 258.0 196.8 \" fill=\"#000000\"/>\n",
       "<path class=\"atom-76\" d=\"M 239.3 92.4 L 239.9 92.4 L 239.9 94.2 L 242.0 94.2 L 242.0 92.4 L 242.6 92.4 L 242.6 96.7 L 242.0 96.7 L 242.0 94.7 L 239.9 94.7 L 239.9 96.7 L 239.3 96.7 L 239.3 92.4 \" fill=\"#000000\"/>\n",
       "<path class=\"atom-77\" d=\"M 315.4 154.9 L 316.0 154.9 L 316.0 156.7 L 318.2 156.7 L 318.2 154.9 L 318.8 154.9 L 318.8 159.2 L 318.2 159.2 L 318.2 157.2 L 316.0 157.2 L 316.0 159.2 L 315.4 159.2 L 315.4 154.9 \" fill=\"#000000\"/>\n",
       "<path class=\"atom-78\" d=\"M 285.6 142.1 L 286.2 142.1 L 286.2 143.9 L 288.3 143.9 L 288.3 142.1 L 288.9 142.1 L 288.9 146.4 L 288.3 146.4 L 288.3 144.4 L 286.2 144.4 L 286.2 146.4 L 285.6 146.4 L 285.6 142.1 \" fill=\"#000000\"/>\n",
       "<path class=\"atom-81\" d=\"M 288.4 28.9 Q 288.4 27.9, 288.9 27.4 Q 289.4 26.8, 290.4 26.8 Q 291.3 26.8, 291.8 27.4 Q 292.3 27.9, 292.3 28.9 Q 292.3 30.0, 291.8 30.6 Q 291.3 31.1, 290.4 31.1 Q 289.5 31.1, 288.9 30.6 Q 288.4 30.0, 288.4 28.9 M 290.4 30.7 Q 291.0 30.7, 291.4 30.2 Q 291.7 29.8, 291.7 28.9 Q 291.7 28.1, 291.4 27.7 Q 291.0 27.3, 290.4 27.3 Q 289.7 27.3, 289.4 27.7 Q 289.0 28.1, 289.0 28.9 Q 289.0 29.8, 289.4 30.2 Q 289.7 30.7, 290.4 30.7 \" fill=\"#FF0000\"/>\n",
       "<path class=\"atom-82\" d=\"M 276.0 259.1 Q 276.0 258.0, 276.5 257.5 Q 277.0 256.9, 278.0 256.9 Q 278.9 256.9, 279.4 257.5 Q 279.9 258.0, 279.9 259.1 Q 279.9 260.1, 279.4 260.7 Q 278.9 261.3, 278.0 261.3 Q 277.0 261.3, 276.5 260.7 Q 276.0 260.1, 276.0 259.1 M 278.0 260.8 Q 278.6 260.8, 279.0 260.3 Q 279.3 259.9, 279.3 259.1 Q 279.3 258.2, 279.0 257.8 Q 278.6 257.4, 278.0 257.4 Q 277.3 257.4, 277.0 257.8 Q 276.6 258.2, 276.6 259.1 Q 276.6 259.9, 277.0 260.3 Q 277.3 260.8, 278.0 260.8 \" fill=\"#FF0000\"/>\n",
       "<path class=\"atom-84\" d=\"M 229.6 25.5 Q 229.6 24.5, 230.2 23.9 Q 230.7 23.4, 231.6 23.4 Q 232.5 23.4, 233.0 23.9 Q 233.5 24.5, 233.5 25.5 Q 233.5 26.6, 233.0 27.1 Q 232.5 27.7, 231.6 27.7 Q 230.7 27.7, 230.2 27.1 Q 229.6 26.6, 229.6 25.5 M 231.6 27.2 Q 232.2 27.2, 232.6 26.8 Q 232.9 26.4, 232.9 25.5 Q 232.9 24.7, 232.6 24.3 Q 232.2 23.8, 231.6 23.8 Q 230.9 23.8, 230.6 24.3 Q 230.2 24.7, 230.2 25.5 Q 230.2 26.4, 230.6 26.8 Q 230.9 27.2, 231.6 27.2 \" fill=\"#FF0000\"/>\n",
       "<path class=\"atom-85\" d=\"M 225.8 120.3 L 226.4 120.3 L 226.4 122.1 L 228.6 122.1 L 228.6 120.3 L 229.2 120.3 L 229.2 124.6 L 228.6 124.6 L 228.6 122.6 L 226.4 122.6 L 226.4 124.6 L 225.8 124.6 L 225.8 120.3 \" fill=\"#000000\"/>\n",
       "<path class=\"atom-107\" d=\"M 283.2 164.8 L 284.5 167.1 Q 284.7 167.3, 284.9 167.7 Q 285.1 168.1, 285.1 168.1 L 285.1 164.8 L 285.7 164.8 L 285.7 169.1 L 285.1 169.1 L 283.6 166.6 Q 283.5 166.3, 283.3 166.0 Q 283.1 165.7, 283.0 165.6 L 283.0 169.1 L 282.5 169.1 L 282.5 164.8 L 283.2 164.8 \" fill=\"#0000FF\"/>\n",
       "<path class=\"atom-109\" d=\"M 258.6 115.8 Q 258.6 114.8, 259.1 114.2 Q 259.6 113.7, 260.5 113.7 Q 261.5 113.7, 262.0 114.2 Q 262.5 114.8, 262.5 115.8 Q 262.5 116.9, 262.0 117.5 Q 261.5 118.0, 260.5 118.0 Q 259.6 118.0, 259.1 117.5 Q 258.6 116.9, 258.6 115.8 M 260.5 117.6 Q 261.2 117.6, 261.5 117.1 Q 261.9 116.7, 261.9 115.8 Q 261.9 115.0, 261.5 114.6 Q 261.2 114.2, 260.5 114.2 Q 259.9 114.2, 259.5 114.6 Q 259.2 115.0, 259.2 115.8 Q 259.2 116.7, 259.5 117.1 Q 259.9 117.6, 260.5 117.6 \" fill=\"#FF0000\"/>\n",
       "<path class=\"atom-130\" d=\"M 266.2 240.5 L 267.6 242.8 Q 267.7 243.0, 268.0 243.4 Q 268.2 243.8, 268.2 243.8 L 268.2 240.5 L 268.8 240.5 L 268.8 244.8 L 268.2 244.8 L 266.7 242.3 Q 266.5 242.0, 266.3 241.7 Q 266.1 241.4, 266.1 241.3 L 266.1 244.8 L 265.5 244.8 L 265.5 240.5 L 266.2 240.5 \" fill=\"#0000FF\"/>\n",
       "<path class=\"atom-131\" d=\"M 263.6 170.1 Q 263.6 169.1, 264.1 168.5 Q 264.7 168.0, 265.6 168.0 Q 266.5 168.0, 267.0 168.5 Q 267.5 169.1, 267.5 170.1 Q 267.5 171.2, 267.0 171.7 Q 266.5 172.3, 265.6 172.3 Q 264.7 172.3, 264.1 171.7 Q 263.6 171.2, 263.6 170.1 M 265.6 171.8 Q 266.2 171.8, 266.6 171.4 Q 266.9 171.0, 266.9 170.1 Q 266.9 169.3, 266.6 168.9 Q 266.2 168.4, 265.6 168.4 Q 264.9 168.4, 264.6 168.9 Q 264.2 169.3, 264.2 170.1 Q 264.2 171.0, 264.6 171.4 Q 264.9 171.8, 265.6 171.8 \" fill=\"#FF0000\"/>\n",
       "<path class=\"atom-152\" d=\"M 248.1 128.5 L 249.5 130.7 Q 249.6 130.9, 249.8 131.3 Q 250.0 131.7, 250.1 131.8 L 250.1 128.5 L 250.6 128.5 L 250.6 132.7 L 250.0 132.7 L 248.5 130.3 Q 248.4 130.0, 248.2 129.6 Q 248.0 129.3, 247.9 129.2 L 247.9 132.7 L 247.4 132.7 L 247.4 128.5 L 248.1 128.5 \" fill=\"#0000FF\"/>\n",
       "<path class=\"atom-153\" d=\"M 213.3 84.8 Q 213.3 83.8, 213.8 83.2 Q 214.3 82.6, 215.3 82.6 Q 216.2 82.6, 216.7 83.2 Q 217.2 83.8, 217.2 84.8 Q 217.2 85.8, 216.7 86.4 Q 216.2 87.0, 215.3 87.0 Q 214.3 87.0, 213.8 86.4 Q 213.3 85.8, 213.3 84.8 M 215.3 86.5 Q 215.9 86.5, 216.2 86.1 Q 216.6 85.6, 216.6 84.8 Q 216.6 83.9, 216.2 83.5 Q 215.9 83.1, 215.3 83.1 Q 214.6 83.1, 214.3 83.5 Q 213.9 83.9, 213.9 84.8 Q 213.9 85.6, 214.3 86.1 Q 214.6 86.5, 215.3 86.5 \" fill=\"#FF0000\"/>\n",
       "<path class=\"atom-164\" d=\"M 296.2 43.2 Q 296.2 42.2, 296.7 41.6 Q 297.2 41.0, 298.1 41.0 Q 299.1 41.0, 299.6 41.6 Q 300.1 42.2, 300.1 43.2 Q 300.1 44.2, 299.6 44.8 Q 299.1 45.4, 298.1 45.4 Q 297.2 45.4, 296.7 44.8 Q 296.2 44.2, 296.2 43.2 M 298.1 44.9 Q 298.8 44.9, 299.1 44.5 Q 299.5 44.0, 299.5 43.2 Q 299.5 42.3, 299.1 41.9 Q 298.8 41.5, 298.1 41.5 Q 297.5 41.5, 297.1 41.9 Q 296.8 42.3, 296.8 43.2 Q 296.8 44.0, 297.1 44.5 Q 297.5 44.9, 298.1 44.9 \" fill=\"#FF0000\"/>\n",
       "<path class=\"atom-165\" d=\"M 309.0 28.1 L 309.6 28.1 L 309.6 30.0 L 311.8 30.0 L 311.8 28.1 L 312.3 28.1 L 312.3 32.4 L 311.8 32.4 L 311.8 30.4 L 309.6 30.4 L 309.6 32.4 L 309.0 32.4 L 309.0 28.1 \" fill=\"#000000\"/>\n",
       "<path class=\"atom-167\" d=\"M 312.6 41.0 L 313.2 41.0 L 313.2 42.9 L 315.4 42.9 L 315.4 41.0 L 315.9 41.0 L 315.9 45.3 L 315.4 45.3 L 315.4 43.3 L 313.2 43.3 L 313.2 45.3 L 312.6 45.3 L 312.6 41.0 \" fill=\"#000000\"/>\n",
       "<path class=\"atom-168\" d=\"M 198.9 137.2 L 199.4 137.2 L 199.4 139.0 L 201.6 139.0 L 201.6 137.2 L 202.2 137.2 L 202.2 141.4 L 201.6 141.4 L 201.6 139.5 L 199.4 139.5 L 199.4 141.4 L 198.9 141.4 L 198.9 137.2 \" fill=\"#000000\"/>\n",
       "<path class=\"atom-173\" d=\"M 318.5 198.8 L 319.1 198.8 L 319.1 200.7 L 321.3 200.7 L 321.3 198.8 L 321.8 198.8 L 321.8 203.1 L 321.3 203.1 L 321.3 201.1 L 319.1 201.1 L 319.1 203.1 L 318.5 203.1 L 318.5 198.8 \" fill=\"#000000\"/>\n",
       "<path class=\"atom-174\" d=\"M 327.7 198.6 L 328.3 198.6 L 328.3 200.4 L 330.5 200.4 L 330.5 198.6 L 331.0 198.6 L 331.0 202.9 L 330.5 202.9 L 330.5 200.9 L 328.3 200.9 L 328.3 202.9 L 327.7 202.9 L 327.7 198.6 \" fill=\"#000000\"/>\n",
       "<path class=\"atom-175\" d=\"M 331.2 211.5 L 331.7 211.5 L 331.7 213.3 L 333.9 213.3 L 333.9 211.5 L 334.5 211.5 L 334.5 215.8 L 333.9 215.8 L 333.9 213.8 L 331.7 213.8 L 331.7 215.8 L 331.2 215.8 L 331.2 211.5 \" fill=\"#000000\"/>\n",
       "<path class=\"atom-176\" d=\"M 304.2 98.2 L 304.8 98.2 L 304.8 100.0 L 306.9 100.0 L 306.9 98.2 L 307.5 98.2 L 307.5 102.4 L 306.9 102.4 L 306.9 100.5 L 304.8 100.5 L 304.8 102.4 L 304.2 102.4 L 304.2 98.2 \" fill=\"#000000\"/>\n",
       "<path class=\"atom-177\" d=\"M 308.5 89.9 L 309.1 89.9 L 309.1 91.7 L 311.2 91.7 L 311.2 89.9 L 311.8 89.9 L 311.8 94.2 L 311.2 94.2 L 311.2 92.2 L 309.1 92.2 L 309.1 94.2 L 308.5 94.2 L 308.5 89.9 \" fill=\"#000000\"/>\n",
       "<path class=\"atom-178\" d=\"M 321.5 93.3 L 322.1 93.3 L 322.1 95.1 L 324.2 95.1 L 324.2 93.3 L 324.8 93.3 L 324.8 97.6 L 324.2 97.6 L 324.2 95.6 L 322.1 95.6 L 322.1 97.6 L 321.5 97.6 L 321.5 93.3 \" fill=\"#000000\"/>\n",
       "<path class=\"atom-179\" d=\"M 177.9 115.3 L 178.4 115.3 L 178.4 117.1 L 180.6 117.1 L 180.6 115.3 L 181.2 115.3 L 181.2 119.6 L 180.6 119.6 L 180.6 117.6 L 178.4 117.6 L 178.4 119.6 L 177.9 119.6 L 177.9 115.3 \" fill=\"#000000\"/>\n",
       "<path class=\"atom-180\" d=\"M 168.6 115.3 L 169.2 115.3 L 169.2 117.1 L 171.4 117.1 L 171.4 115.3 L 172.0 115.3 L 172.0 119.6 L 171.4 119.6 L 171.4 117.6 L 169.2 117.6 L 169.2 119.6 L 168.6 119.6 L 168.6 115.3 \" fill=\"#000000\"/>\n",
       "<path class=\"atom-181\" d=\"M 165.5 128.3 L 166.1 128.3 L 166.1 130.1 L 168.3 130.1 L 168.3 128.3 L 168.8 128.3 L 168.8 132.6 L 168.3 132.6 L 168.3 130.6 L 166.1 130.6 L 166.1 132.6 L 165.5 132.6 L 165.5 128.3 \" fill=\"#000000\"/>\n",
       "<path class=\"atom-182\" d=\"M 213.5 23.3 L 214.1 23.3 L 214.1 25.1 L 216.3 25.1 L 216.3 23.3 L 216.8 23.3 L 216.8 27.5 L 216.3 27.5 L 216.3 25.6 L 214.1 25.6 L 214.1 27.5 L 213.5 27.5 L 213.5 23.3 \" fill=\"#000000\"/>\n",
       "<path class=\"atom-183\" d=\"M 226.4 36.2 L 227.0 36.2 L 227.0 38.0 L 229.1 38.0 L 229.1 36.2 L 229.7 36.2 L 229.7 40.5 L 229.1 40.5 L 229.1 38.5 L 227.0 38.5 L 227.0 40.5 L 226.4 40.5 L 226.4 36.2 \" fill=\"#000000\"/>\n",
       "<path class=\"atom-184\" d=\"M 217.0 36.2 L 217.5 36.2 L 217.5 38.0 L 219.7 38.0 L 219.7 36.2 L 220.3 36.2 L 220.3 40.5 L 219.7 40.5 L 219.7 38.5 L 217.5 38.5 L 217.5 40.5 L 217.0 40.5 L 217.0 36.2 \" fill=\"#000000\"/>\n",
       "<path class=\"atom-185\" d=\"M 273.2 246.5 L 273.8 246.5 L 273.8 248.3 L 276.0 248.3 L 276.0 246.5 L 276.6 246.5 L 276.6 250.7 L 276.0 250.7 L 276.0 248.8 L 273.8 248.8 L 273.8 250.7 L 273.2 250.7 L 273.2 246.5 \" fill=\"#000000\"/>\n",
       "<path class=\"atom-186\" d=\"M 281.7 251.7 L 282.3 251.7 L 282.3 253.5 L 284.5 253.5 L 284.5 251.7 L 285.1 251.7 L 285.1 255.9 L 284.5 255.9 L 284.5 253.9 L 282.3 253.9 L 282.3 255.9 L 281.7 255.9 L 281.7 251.7 \" fill=\"#000000\"/>\n",
       "<path class=\"atom-187\" d=\"M 290.3 242.7 L 290.9 242.7 L 290.9 244.5 L 293.1 244.5 L 293.1 242.7 L 293.7 242.7 L 293.7 247.0 L 293.1 247.0 L 293.1 245.0 L 290.9 245.0 L 290.9 247.0 L 290.3 247.0 L 290.3 242.7 \" fill=\"#000000\"/>\n",
       "<path class=\"atom-188\" d=\"M 271.2 162.4 L 271.8 162.4 L 271.8 164.2 L 274.0 164.2 L 274.0 162.4 L 274.6 162.4 L 274.6 166.6 L 274.0 166.6 L 274.0 164.7 L 271.8 164.7 L 271.8 166.6 L 271.2 166.6 L 271.2 162.4 \" fill=\"#000000\"/>\n",
       "<path class=\"atom-189\" d=\"M 263.2 160.5 L 263.8 160.5 L 263.8 162.3 L 266.0 162.3 L 266.0 160.5 L 266.6 160.5 L 266.6 164.7 L 266.0 164.7 L 266.0 162.8 L 263.8 162.8 L 263.8 164.7 L 263.2 164.7 L 263.2 160.5 \" fill=\"#000000\"/>\n",
       "<path class=\"atom-190\" d=\"M 263.2 148.8 L 263.8 148.8 L 263.8 150.6 L 266.0 150.6 L 266.0 148.8 L 266.5 148.8 L 266.5 153.0 L 266.0 153.0 L 266.0 151.0 L 263.8 151.0 L 263.8 153.0 L 263.2 153.0 L 263.2 148.8 \" fill=\"#000000\"/>\n",
       "<path class=\"atom-191\" d=\"M 250.5 117.4 L 251.0 117.4 L 251.0 119.3 L 253.2 119.3 L 253.2 117.4 L 253.8 117.4 L 253.8 121.7 L 253.2 121.7 L 253.2 119.7 L 251.0 119.7 L 251.0 121.7 L 250.5 121.7 L 250.5 117.4 \" fill=\"#000000\"/>\n",
       "<path class=\"atom-192\" d=\"M 252.6 109.5 L 253.2 109.5 L 253.2 111.3 L 255.4 111.3 L 255.4 109.5 L 255.9 109.5 L 255.9 113.7 L 255.4 113.7 L 255.4 111.8 L 253.2 111.8 L 253.2 113.7 L 252.6 113.7 L 252.6 109.5 \" fill=\"#000000\"/>\n",
       "<path class=\"atom-193\" d=\"M 242.4 103.9 L 243.0 103.9 L 243.0 105.7 L 245.1 105.7 L 245.1 103.9 L 245.7 103.9 L 245.7 108.1 L 245.1 108.1 L 245.1 106.1 L 243.0 106.1 L 243.0 108.1 L 242.4 108.1 L 242.4 103.9 \" fill=\"#000000\"/>\n",
       "<path class=\"atom-194\" d=\"M 213.0 74.5 L 213.6 74.5 L 213.6 76.3 L 215.8 76.3 L 215.8 74.5 L 216.4 74.5 L 216.4 78.7 L 215.8 78.7 L 215.8 76.8 L 213.6 76.8 L 213.6 78.7 L 213.0 78.7 L 213.0 74.5 \" fill=\"#000000\"/>\n",
       "<path class=\"atom-195\" d=\"M 216.7 61.4 L 217.3 61.4 L 217.3 63.2 L 219.5 63.2 L 219.5 61.4 L 220.1 61.4 L 220.1 65.6 L 219.5 65.6 L 219.5 63.7 L 217.3 63.7 L 217.3 65.6 L 216.7 65.6 L 216.7 61.4 \" fill=\"#000000\"/>\n",
       "<path class=\"atom-196\" d=\"M 288.3 55.1 L 288.9 55.1 L 288.9 56.9 L 291.0 56.9 L 291.0 55.1 L 291.6 55.1 L 291.6 59.3 L 291.0 59.3 L 291.0 57.4 L 288.9 57.4 L 288.9 59.3 L 288.3 59.3 L 288.3 55.1 \" fill=\"#000000\"/>\n",
       "</svg>"
      ],
      "text/plain": [
       "<IPython.core.display.SVG object>"
      ]
     },
     "metadata": {},
     "output_type": "display_data"
    }
   ],
   "source": [
    "tetra_pmp = Molecule.from_file(\"terphenyl_mom_tetramer.mol\")\n",
    "tetra_pmp"
   ]
  },
  {
   "cell_type": "code",
   "execution_count": 3,
   "metadata": {},
   "outputs": [
    {
     "data": {
      "text/plain": [
       "<Topology; 1 chains, 1 residues, 197 atoms, 208 bonds>"
      ]
     },
     "execution_count": 3,
     "metadata": {},
     "output_type": "execute_result"
    }
   ],
   "source": [
    "# Load the PDB file using OpenMM and save the OpenMM Topology\n",
    "pdbfile = app.PDBFile(\"terphenyl_mom_tetramer_renum.pdb\")\n",
    "omm_topology = pdbfile.topology\n",
    "omm_topology"
   ]
  },
  {
   "cell_type": "code",
   "execution_count": 4,
   "metadata": {},
   "outputs": [],
   "source": [
    "# Create the OpenFF Topology.\n",
    "off_topology = Topology.from_openmm(\n",
    "    omm_topology, unique_molecules=[tetra_pmp]\n",
    ")\n"
   ]
  },
  {
   "cell_type": "code",
   "execution_count": 5,
   "metadata": {},
   "outputs": [],
   "source": [
    "# Modified OpenFF to increase maxAtoms for AM1BCC method to 500 atoms\n",
    "tetra_pmp.compute_partial_charges_am1bcc()"
   ]
  },
  {
   "cell_type": "markdown",
   "metadata": {},
   "source": [
    "### Preparing an OpenFF ForceField\n",
    "\n",
    "Once the `ForceField` class is imported, the only decision to make is which force field to use. An exhaustive list of force fields released by the Open Force Field Initiative can be found [here](from openff.toolkit.typing.engines.smirnoff import ForceField\n",
    ").\n",
    "\n",
    "Here we will use force field from the \"Sage\" line."
   ]
  },
  {
   "cell_type": "code",
   "execution_count": 6,
   "metadata": {},
   "outputs": [],
   "source": [
    "forcefield = ForceField(\"openff-2.0.0.offxml\")"
   ]
  },
  {
   "cell_type": "markdown",
   "metadata": {},
   "source": [
    "### Preparing an OpenMM System\n",
    "\n",
    "Once a force field and topology have been loaded, an `openmm.System` can be generated natively with the OpenFF Toolkit."
   ]
  },
  {
   "cell_type": "code",
   "execution_count": 7,
   "metadata": {
    "scrolled": false
   },
   "outputs": [
    {
     "data": {
      "text/plain": [
       "<openmm.openmm.System; proxy of <Swig Object of type 'OpenMM::System *' at 0x7f0c84127b40> >"
      ]
     },
     "execution_count": 7,
     "metadata": {},
     "output_type": "execute_result"
    }
   ],
   "source": [
    "omm_system = forcefield.create_openmm_system(off_topology, charge_from_molecules = [tetra_pmp])\n",
    "omm_system"
   ]
  },
  {
   "cell_type": "markdown",
   "metadata": {},
   "source": [
    "### Preparing an Interchange object\n",
    "\n",
    "To exports to engines other than OpenMM, we will make use of the [Interchange](https://openff-interchange.readthedocs.io/) project. There is a high-level `Interchange.from_smirnoff` function that consumes OpenFF Toolkit and ForceField objects and produces an `Interchange` object which can then be exported to formats understood by other molecular simulation engines. This extra step is needed to provide a clean interface between _applied_ parameters and engines. Note also that this step does not require an OpenMM System to be generated; `ForceField.create_openmm_system` does not need to be called to use Amber and GROMACS."
   ]
  },
  {
   "cell_type": "code",
   "execution_count": 8,
   "metadata": {},
   "outputs": [
    {
     "name": "stderr",
     "output_type": "stream",
     "text": [
      "/home/tfobe/anaconda3/envs/terphenyl/lib/python3.9/site-packages/numpy/core/getlimits.py:499: UserWarning: The value of the smallest subnormal for <class 'numpy.float64'> type is zero.\n",
      "  setattr(self, word, getattr(machar, word).flat[0])\n",
      "/home/tfobe/anaconda3/envs/terphenyl/lib/python3.9/site-packages/numpy/core/getlimits.py:89: UserWarning: The value of the smallest subnormal for <class 'numpy.float64'> type is zero.\n",
      "  return self._float_to_str(self.smallest_subnormal)\n",
      "/home/tfobe/anaconda3/envs/terphenyl/lib/python3.9/site-packages/numpy/core/getlimits.py:499: UserWarning: The value of the smallest subnormal for <class 'numpy.float32'> type is zero.\n",
      "  setattr(self, word, getattr(machar, word).flat[0])\n",
      "/home/tfobe/anaconda3/envs/terphenyl/lib/python3.9/site-packages/numpy/core/getlimits.py:89: UserWarning: The value of the smallest subnormal for <class 'numpy.float32'> type is zero.\n",
      "  return self._float_to_str(self.smallest_subnormal)\n"
     ]
    },
    {
     "data": {
      "text/plain": [
       "Interchange with 197 atoms, non-periodic topology"
      ]
     },
     "execution_count": 8,
     "metadata": {},
     "output_type": "execute_result"
    }
   ],
   "source": [
    "from openff.interchange.components.interchange import Interchange\n",
    "\n",
    "interchange = Interchange.from_smirnoff(\n",
    "    force_field=forcefield,\n",
    "    topology=off_topology,\n",
    ")\n",
    "interchange.positions = pdbfile.positions\n",
    "interchange"
   ]
  },
  {
   "cell_type": "markdown",
   "metadata": {},
   "source": [
    "### Exporting to Amber and GROMACS files\n",
    "\n",
    "Once an `Interchange` object has been constructed, its API can be used to export to files understood by GROMACS, Amber, and more."
   ]
  },
  {
   "cell_type": "code",
   "execution_count": 9,
   "metadata": {},
   "outputs": [],
   "source": [
    "# Export GROMACS files.\n",
    "interchange.to_top(\"terphenyl_mom_tetramer.top\")\n",
    "interchange.to_gro(\"terphenyl_mom_tetramer.gro\")"
   ]
  },
  {
   "cell_type": "markdown",
   "metadata": {},
   "source": [
    "### Validating the conversion to Amber files\n",
    "\n",
    "The Interchange project includes functions that take in an `Interchange` object and call out to simulation engines to run single-point energy calculations (with no minimization or dynamics) for the purpose of validating the export layer with each engine. Under the hood, each of these functions calls API points like those used above while converting to files understood by each engine. These rely on having each engine installed and accessible in the current `$PATH`."
   ]
  },
  {
   "cell_type": "code",
   "execution_count": 10,
   "metadata": {},
   "outputs": [],
   "source": [
    "from openff.interchange.drivers import get_amber_energies, get_openmm_energies"
   ]
  },
  {
   "cell_type": "code",
   "execution_count": 11,
   "metadata": {
    "scrolled": true
   },
   "outputs": [
    {
     "data": {
      "text/plain": [
       "{'Bond': 139.0044509853919 <Unit('kilojoule / mole')>,\n",
       " 'Angle': 1376.4155295623668 <Unit('kilojoule / mole')>,\n",
       " 'Torsion': 557.0616720174974 <Unit('kilojoule / mole')>,\n",
       " 'vdW': 55780502652.69506 <Unit('kilojoule / mole')>,\n",
       " 'Electrostatics': -985.2450177071951 <Unit('kilojoule / mole')>}"
      ]
     },
     "execution_count": 11,
     "metadata": {},
     "output_type": "execute_result"
    }
   ],
   "source": [
    "openmm_energies = get_openmm_energies(interchange)\n",
    "openmm_energies.energies"
   ]
  },
  {
   "cell_type": "code",
   "execution_count": 12,
   "metadata": {
    "scrolled": true
   },
   "outputs": [
    {
     "name": "stdout",
     "output_type": "stream",
     "text": [
      "cat: terphenyl_pom_tetramer.top: No such file or directory\n",
      "cat: terphenyl_pom_tetramer.gro: No such file or directory\n"
     ]
    }
   ],
   "source": [
    "!cat terphenyl_pom_tetramer.top\n",
    "!cat terphenyl_pom_tetramer.gro"
   ]
  },
  {
   "cell_type": "markdown",
   "metadata": {},
   "source": [
    "### Appendix: Validating the conversion to GROMACS and LAMMPS files\n",
    "\n",
    "If GROMACS and/or LAMMPS are installed on your machine, the same comparisons can also take place with those engines. They are available via `conda` by running a command like:\n",
    "\n",
    "```conda install gromacs lammps -c conda-forge -c bioconda```"
   ]
  },
  {
   "cell_type": "code",
   "execution_count": 13,
   "metadata": {},
   "outputs": [],
   "source": [
    "from distutils.spawn import find_executable\n",
    "from pprint import pprint\n",
    "\n",
    "from openff.interchange.drivers import get_gromacs_energies, get_lammps_energies"
   ]
  },
  {
   "cell_type": "code",
   "execution_count": 14,
   "metadata": {},
   "outputs": [],
   "source": [
    "if find_executable(\"lmp_serial\"):\n",
    "    pprint(get_lammps_energies(interchange).energies)"
   ]
  },
  {
   "cell_type": "code",
   "execution_count": 15,
   "metadata": {},
   "outputs": [
    {
     "name": "stdout",
     "output_type": "stream",
     "text": [
      "{'Angle': <Quantity(1376.41956, 'kilojoule / mole')>,\n",
      " 'Bond': <Quantity(139.007034, 'kilojoule / mole')>,\n",
      " 'Electrostatics': <Quantity(-933.723129, 'kilojoule / mole')>,\n",
      " 'Torsion': <Quantity(545.351929, 'kilojoule / mole')>,\n",
      " 'vdW': <Quantity(292.603499, 'kilojoule / mole')>}\n"
     ]
    }
   ],
   "source": [
    "if find_executable(\"gmx\"):\n",
    "    pprint(get_gromacs_energies(interchange).energies)"
   ]
  },
  {
   "cell_type": "markdown",
   "metadata": {},
   "source": [
    "Finally, there is a helper function `get_summary_data` that will attempt to run drivers of each engine. A summary reported is prepared as a Pandas `DataFrame`."
   ]
  }
 ],
 "metadata": {
  "kernelspec": {
   "display_name": "Python [conda env:terphenyl] *",
   "language": "python",
   "name": "conda-env-terphenyl-py"
  },
  "language_info": {
   "codemirror_mode": {
    "name": "ipython",
    "version": 3
   },
   "file_extension": ".py",
   "mimetype": "text/x-python",
   "name": "python",
   "nbconvert_exporter": "python",
   "pygments_lexer": "ipython3",
   "version": "3.9.12"
  }
 },
 "nbformat": 4,
 "nbformat_minor": 4
}
