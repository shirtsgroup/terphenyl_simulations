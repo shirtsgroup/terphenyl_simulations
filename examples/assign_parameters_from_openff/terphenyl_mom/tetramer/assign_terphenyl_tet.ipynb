{
 "cells": [
  {
   "cell_type": "markdown",
   "metadata": {},
   "source": [
    " <div class=\"alert alert-block alert-info\">\n",
    "    <b>Note:</b> \n",
    "    Interchange is in the process of replacing ParmEd in many workflows, but it still in an alpha testing phase. Our internal tests indicate it is reliable for many small-molecule systems, but it is not yet reliable for complex, multi-component systems and there are likely still rough edges throughout. Feedback is welcome on the <a href=https://github.com/openforcefield/openff-interchange/issues/>Interchange issue tracker.</a></div>"
   ]
  },
  {
   "cell_type": "markdown",
   "metadata": {},
   "source": [
    "## Using OpenFF force fields in Amber and GROMACS\n",
    "\n",
    "The Open Forcefield Toolkit can create parametrized `openmm.System` objects that can be natively simulated with OpenMM. This example shows the Interchange project can enable parallel workflows using Amber and GROMACS."
   ]
  },
  {
   "cell_type": "markdown",
   "metadata": {},
   "source": [
    "### Preparing an OpenFF Topology\n",
    "\n",
    "We start by loading a PDB file containing one copy of ethanol and cyclohexane. Our goal is to create an OpenFF `Topology` object describing this system that we can parametrize with the SMIRNOFF-format \"Sage\" force field.\n",
    "\n",
    "The two `Molecule` objects created from the SMILES strings can contain information such as partial charges and stereochemistry that is not included in an OpenMM topology. In this example, partial charges are not explicitly given, and `ForceField` will assign AM1/BCC charges as specified by the \"Sage\" force field. Note that the OpenFF Toolkit produces partial charges that do not depend on the input conformation of parameterized molecules. See the [FAQ](https://open-forcefield-toolkit.readthedocs.io/en/latest/faq.html#the-partial-charges-generated-by-the-toolkit-don-t-seem-to-depend-on-the-molecule-s-conformation-is-this-a-bug) for more information."
   ]
  },
  {
   "cell_type": "code",
   "execution_count": 1,
   "metadata": {},
   "outputs": [],
   "source": [
    "try:\n",
    "    from openmm import app\n",
    "except ImportError:\n",
    "    from simtk.openmm import app\n",
    "\n",
    "from openff.toolkit.topology import FrozenMolecule, Molecule, Topology\n",
    "from openff.toolkit.typing.engines.smirnoff import ForceField\n",
    "import pdb\n",
    "import os"
   ]
  },
  {
   "cell_type": "code",
   "execution_count": 2,
   "metadata": {},
   "outputs": [],
   "source": [
    "tetra_mom = Molecule.from_file(\"../../../build_polymer/mom/mom_tetramer_mbuild.mol\")"
   ]
  },
  {
   "cell_type": "code",
   "execution_count": 3,
   "metadata": {},
   "outputs": [
    {
     "data": {
      "text/plain": [
       "<Topology; 1 chains, 6 residues, 197 atoms, 208 bonds>"
      ]
     },
     "execution_count": 3,
     "metadata": {},
     "output_type": "execute_result"
    }
   ],
   "source": [
    "# Load the PDB file using OpenMM and save the OpenMM Topology\n",
    "pdbfile = app.PDBFile(\"../../../build_polymer/mom/mom_tetramer_mbuild_renum.pdb\")\n",
    "omm_topology = pdbfile.topology\n",
    "omm_topology"
   ]
  },
  {
   "cell_type": "code",
   "execution_count": 4,
   "metadata": {},
   "outputs": [],
   "source": [
    "# Create the OpenFF Topology.\n",
    "off_topology = Topology.from_openmm(\n",
    "    omm_topology, unique_molecules=[tetra_mom]\n",
    ")\n"
   ]
  },
  {
   "cell_type": "code",
   "execution_count": 8,
   "metadata": {},
   "outputs": [],
   "source": [
    "# Modified OpenFF to increase maxAtoms for AM1BCC method to 500 atoms\n",
    "if not os.path.exists('terphenyl_mom_tetramer_charges.sdf'):\n",
    "    tetra_mom.assign_partial_charges(partial_charge_method=\"am1bcc\")\n",
    "    tetra_mom.to_file('terphenyl_mom_tetramer_charges.sdf', file_format='sdf')\n",
    "else:\n",
    "    tetra_mom = Molecule.from_file('terphenyl_mom_tetramer_charges.sdf')"
   ]
  },
  {
   "cell_type": "markdown",
   "metadata": {},
   "source": [
    "### Preparing an OpenFF ForceField\n",
    "\n",
    "Once the `ForceField` class is imported, the only decision to make is which force field to use. An exhaustive list of force fields released by the Open Force Field Initiative can be found [here](from openff.toolkit.typing.engines.smirnoff import ForceField\n",
    ").\n",
    "\n",
    "Here we will use force field from the \"Sage\" line."
   ]
  },
  {
   "cell_type": "code",
   "execution_count": 9,
   "metadata": {},
   "outputs": [],
   "source": [
    "forcefield = ForceField(\"openff-2.0.0.offxml\")"
   ]
  },
  {
   "cell_type": "markdown",
   "metadata": {},
   "source": [
    "### Preparing an OpenMM System\n",
    "\n",
    "Once a force field and topology have been loaded, an `openmm.System` can be generated natively with the OpenFF Toolkit."
   ]
  },
  {
   "cell_type": "code",
   "execution_count": 10,
   "metadata": {},
   "outputs": [
    {
     "data": {
      "text/plain": [
       "<openmm.openmm.System; proxy of <Swig Object of type 'OpenMM::System *' at 0x7f44a8c4dc30> >"
      ]
     },
     "execution_count": 10,
     "metadata": {},
     "output_type": "execute_result"
    }
   ],
   "source": [
    "omm_system = forcefield.create_openmm_system(off_topology, charge_from_molecules = [tetra_mom])\n",
    "omm_system"
   ]
  },
  {
   "cell_type": "markdown",
   "metadata": {},
   "source": [
    "### Preparing an Interchange object\n",
    "\n",
    "To exports to engines other than OpenMM, we will make use of the [Interchange](https://openff-interchange.readthedocs.io/) project. There is a high-level `Interchange.from_smirnoff` function that consumes OpenFF Toolkit and ForceField objects and produces an `Interchange` object which can then be exported to formats understood by other molecular simulation engines. This extra step is needed to provide a clean interface between _applied_ parameters and engines. Note also that this step does not require an OpenMM System to be generated; `ForceField.create_openmm_system` does not need to be called to use Amber and GROMACS."
   ]
  },
  {
   "cell_type": "code",
   "execution_count": 13,
   "metadata": {},
   "outputs": [
    {
     "data": {
      "text/plain": [
       "Interchange with 7 potential handlers, non-periodic topology with 197 atoms."
      ]
     },
     "execution_count": 13,
     "metadata": {},
     "output_type": "execute_result"
    }
   ],
   "source": [
    "from openff.interchange.components.interchange import Interchange\n",
    "\n",
    "interchange = Interchange.from_smirnoff(\n",
    "    force_field=forcefield,\n",
    "    topology=off_topology,\n",
    "    charge_from_molecules = [tetra_mom]\n",
    ")\n",
    "interchange.positions = pdbfile.positions\n",
    "interchange"
   ]
  },
  {
   "cell_type": "markdown",
   "metadata": {},
   "source": [
    "### Exporting to Amber and GROMACS files\n",
    "\n",
    "Once an `Interchange` object has been constructed, its API can be used to export to files understood by GROMACS, Amber, and more."
   ]
  },
  {
   "cell_type": "code",
   "execution_count": 14,
   "metadata": {},
   "outputs": [
    {
     "name": "stderr",
     "output_type": "stream",
     "text": [
      "/home/tfobe/anaconda3/envs/terphenyl/lib/python3.9/site-packages/openff/interchange/interop/internal/gromacs.py:164: UserWarning: WARNING: System defined with no box vectors, which GROMACS does not offically support in versions 2020 or newer (see https://gitlab.com/gromacs/gromacs/-/issues/3526). Setting box vectors to a 5  nm cube.\n",
      "  warnings.warn(\n"
     ]
    }
   ],
   "source": [
    "# Export GROMACS files.\n",
    "interchange.to_top(\"terphenyl_mom_tetramer.top\")\n",
    "interchange.to_gro(\"terphenyl_mom_tetramer.gro\")"
   ]
  },
  {
   "cell_type": "markdown",
   "metadata": {},
   "source": [
    "### Validating the conversion to Amber files\n",
    "\n",
    "The Interchange project includes functions that take in an `Interchange` object and call out to simulation engines to run single-point energy calculations (with no minimization or dynamics) for the purpose of validating the export layer with each engine. Under the hood, each of these functions calls API points like those used above while converting to files understood by each engine. These rely on having each engine installed and accessible in the current `$PATH`."
   ]
  },
  {
   "cell_type": "code",
   "execution_count": 15,
   "metadata": {},
   "outputs": [],
   "source": [
    "from openff.interchange.drivers import get_amber_energies, get_openmm_energies"
   ]
  },
  {
   "cell_type": "code",
   "execution_count": 16,
   "metadata": {
    "scrolled": true
   },
   "outputs": [
    {
     "data": {
      "text/plain": [
       "{'Bond': 219.46983149172524 <Unit('kilojoule / mole')>,\n",
       " 'Angle': 1297.1353727280873 <Unit('kilojoule / mole')>,\n",
       " 'Torsion': 366.0213327091996 <Unit('kilojoule / mole')>,\n",
       " 'vdW': 74921.10418843284 <Unit('kilojoule / mole')>,\n",
       " 'Electrostatics': -978.416909358118 <Unit('kilojoule / mole')>}"
      ]
     },
     "execution_count": 16,
     "metadata": {},
     "output_type": "execute_result"
    }
   ],
   "source": [
    "openmm_energies = get_openmm_energies(interchange)\n",
    "openmm_energies.energies"
   ]
  },
  {
   "cell_type": "code",
   "execution_count": 17,
   "metadata": {
    "scrolled": true
   },
   "outputs": [
    {
     "name": "stdout",
     "output_type": "stream",
     "text": [
      "cat: terphenyl_pom_tetramer.top: No such file or directory\n",
      "cat: terphenyl_pom_tetramer.gro: No such file or directory\n"
     ]
    }
   ],
   "source": [
    "!cat terphenyl_pom_tetramer.top\n",
    "!cat terphenyl_pom_tetramer.gro"
   ]
  },
  {
   "cell_type": "markdown",
   "metadata": {},
   "source": [
    "### Appendix: Validating the conversion to GROMACS and LAMMPS files\n",
    "\n",
    "If GROMACS and/or LAMMPS are installed on your machine, the same comparisons can also take place with those engines. They are available via `conda` by running a command like:\n",
    "\n",
    "```conda install gromacs lammps -c conda-forge -c bioconda```"
   ]
  },
  {
   "cell_type": "code",
   "execution_count": 18,
   "metadata": {},
   "outputs": [],
   "source": [
    "from distutils.spawn import find_executable\n",
    "from pprint import pprint\n",
    "\n",
    "from openff.interchange.drivers import get_gromacs_energies, get_lammps_energies"
   ]
  },
  {
   "cell_type": "code",
   "execution_count": 19,
   "metadata": {},
   "outputs": [],
   "source": [
    "if find_executable(\"lmp_serial\"):\n",
    "    pprint(get_lammps_energies(interchange).energies)"
   ]
  },
  {
   "cell_type": "code",
   "execution_count": 20,
   "metadata": {},
   "outputs": [
    {
     "ename": "UnsupportedCutoffMethodError",
     "evalue": "PME is not valid with a non-periodic system.",
     "output_type": "error",
     "traceback": [
      "\u001b[0;31m---------------------------------------------------------------------------\u001b[0m",
      "\u001b[0;31mUnsupportedCutoffMethodError\u001b[0m              Traceback (most recent call last)",
      "Input \u001b[0;32mIn [20]\u001b[0m, in \u001b[0;36m<cell line: 1>\u001b[0;34m()\u001b[0m\n\u001b[1;32m      1\u001b[0m \u001b[38;5;28;01mif\u001b[39;00m find_executable(\u001b[38;5;124m\"\u001b[39m\u001b[38;5;124mgmx\u001b[39m\u001b[38;5;124m\"\u001b[39m):\n\u001b[0;32m----> 2\u001b[0m     pprint(\u001b[43mget_gromacs_energies\u001b[49m\u001b[43m(\u001b[49m\u001b[43minterchange\u001b[49m\u001b[43m)\u001b[49m\u001b[38;5;241m.\u001b[39menergies)\n",
      "File \u001b[0;32m~/anaconda3/envs/terphenyl/lib/python3.9/site-packages/openff/interchange/drivers/gromacs.py:84\u001b[0m, in \u001b[0;36mget_gromacs_energies\u001b[0;34m(off_sys, mdp, writer, decimal)\u001b[0m\n\u001b[1;32m     82\u001b[0m \u001b[38;5;28;01mif\u001b[39;00m mdp \u001b[38;5;241m==\u001b[39m \u001b[38;5;124m\"\u001b[39m\u001b[38;5;124mauto\u001b[39m\u001b[38;5;124m\"\u001b[39m:\n\u001b[1;32m     83\u001b[0m     mdconfig \u001b[38;5;241m=\u001b[39m MDConfig\u001b[38;5;241m.\u001b[39mfrom_interchange(off_sys)\n\u001b[0;32m---> 84\u001b[0m     \u001b[43mmdconfig\u001b[49m\u001b[38;5;241;43m.\u001b[39;49m\u001b[43mwrite_mdp_file\u001b[49m\u001b[43m(\u001b[49m\u001b[38;5;124;43m\"\u001b[39;49m\u001b[38;5;124;43mtmp.mdp\u001b[39;49m\u001b[38;5;124;43m\"\u001b[39;49m\u001b[43m)\u001b[49m\n\u001b[1;32m     85\u001b[0m     mdp_file \u001b[38;5;241m=\u001b[39m \u001b[38;5;124m\"\u001b[39m\u001b[38;5;124mtmp.mdp\u001b[39m\u001b[38;5;124m\"\u001b[39m\n\u001b[1;32m     86\u001b[0m \u001b[38;5;28;01melse\u001b[39;00m:\n",
      "File \u001b[0;32m~/anaconda3/envs/terphenyl/lib/python3.9/site-packages/openff/interchange/components/mdconfig.py:116\u001b[0m, in \u001b[0;36mMDConfig.write_mdp_file\u001b[0;34m(self, mdp_file)\u001b[0m\n\u001b[1;32m    114\u001b[0m \u001b[38;5;28;01melif\u001b[39;00m \u001b[38;5;28mself\u001b[39m\u001b[38;5;241m.\u001b[39mcoul_method \u001b[38;5;241m==\u001b[39m _PME:\n\u001b[1;32m    115\u001b[0m     \u001b[38;5;28;01mif\u001b[39;00m \u001b[38;5;129;01mnot\u001b[39;00m \u001b[38;5;28mself\u001b[39m\u001b[38;5;241m.\u001b[39mperiodic:\n\u001b[0;32m--> 116\u001b[0m         \u001b[38;5;28;01mraise\u001b[39;00m UnsupportedCutoffMethodError(\n\u001b[1;32m    117\u001b[0m             \u001b[38;5;124m\"\u001b[39m\u001b[38;5;124mPME is not valid with a non-periodic system.\u001b[39m\u001b[38;5;124m\"\u001b[39m\n\u001b[1;32m    118\u001b[0m         )\n\u001b[1;32m    119\u001b[0m     mdp\u001b[38;5;241m.\u001b[39mwrite(\u001b[38;5;124m\"\u001b[39m\u001b[38;5;124mcoulombtype = PME\u001b[39m\u001b[38;5;130;01m\\n\u001b[39;00m\u001b[38;5;124m\"\u001b[39m)\n\u001b[1;32m    120\u001b[0m     mdp\u001b[38;5;241m.\u001b[39mwrite(\u001b[38;5;124mf\u001b[39m\u001b[38;5;124m\"\u001b[39m\u001b[38;5;124mrcoulomb = \u001b[39m\u001b[38;5;132;01m{\u001b[39;00mcoul_cutoff\u001b[38;5;132;01m}\u001b[39;00m\u001b[38;5;130;01m\\n\u001b[39;00m\u001b[38;5;124m\"\u001b[39m)\n",
      "\u001b[0;31mUnsupportedCutoffMethodError\u001b[0m: PME is not valid with a non-periodic system."
     ]
    }
   ],
   "source": [
    "if find_executable(\"gmx\"):\n",
    "    pprint(get_gromacs_energies(interchange).energies)"
   ]
  },
  {
   "cell_type": "markdown",
   "metadata": {},
   "source": [
    "Finally, there is a helper function `get_summary_data` that will attempt to run drivers of each engine. A summary reported is prepared as a Pandas `DataFrame`."
   ]
  }
 ],
 "metadata": {
  "kernelspec": {
   "display_name": "Python 3 (ipykernel)",
   "language": "python",
   "name": "python3"
  },
  "language_info": {
   "codemirror_mode": {
    "name": "ipython",
    "version": 3
   },
   "file_extension": ".py",
   "mimetype": "text/x-python",
   "name": "python",
   "nbconvert_exporter": "python",
   "pygments_lexer": "ipython3",
   "version": "3.9.13"
  }
 },
 "nbformat": 4,
 "nbformat_minor": 4
}
