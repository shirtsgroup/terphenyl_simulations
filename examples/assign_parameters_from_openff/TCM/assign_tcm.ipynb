{
 "cells": [
  {
   "cell_type": "markdown",
   "metadata": {},
   "source": [
    " <div class=\"alert alert-block alert-info\">\n",
    "    <b>Note:</b> \n",
    "    Interchange is in the process of replacing ParmEd in many workflows, but it still in an alpha testing phase. Our internal tests indicate it is reliable for many small-molecule systems, but it is not yet reliable for complex, multi-component systems and there are likely still rough edges throughout. Feedback is welcome on the <a href=https://github.com/openforcefield/openff-interchange/issues/>Interchange issue tracker.</a></div>"
   ]
  },
  {
   "cell_type": "markdown",
   "metadata": {},
   "source": [
    "## Using OpenFF force fields in Amber and GROMACS\n",
    "\n",
    "The Open Forcefield Toolkit can create parametrized `openmm.System` objects that can be natively simulated with OpenMM. This example shows the Interchange project can enable parallel workflows using Amber and GROMACS."
   ]
  },
  {
   "cell_type": "markdown",
   "metadata": {},
   "source": [
    "### Preparing an OpenFF Topology\n",
    "\n",
    "We start by loading a PDB file containing one copy of ethanol and cyclohexane. Our goal is to create an OpenFF `Topology` object describing this system that we can parametrize with the SMIRNOFF-format \"Sage\" force field.\n",
    "\n",
    "The two `Molecule` objects created from the SMILES strings can contain information such as partial charges and stereochemistry that is not included in an OpenMM topology. In this example, partial charges are not explicitly given, and `ForceField` will assign AM1/BCC charges as specified by the \"Sage\" force field. Note that the OpenFF Toolkit produces partial charges that do not depend on the input conformation of parameterized molecules. See the [FAQ](https://open-forcefield-toolkit.readthedocs.io/en/latest/faq.html#the-partial-charges-generated-by-the-toolkit-don-t-seem-to-depend-on-the-molecule-s-conformation-is-this-a-bug) for more information."
   ]
  },
  {
   "cell_type": "code",
   "execution_count": 21,
   "metadata": {},
   "outputs": [],
   "source": [
    "try:\n",
    "    from openmm import app\n",
    "except ImportError:\n",
    "    from simtk.openmm import app\n",
    "\n",
    "from openff.toolkit.topology import FrozenMolecule, Molecule, Topology\n",
    "from openff.toolkit.typing.engines.smirnoff import ForceField\n",
    "import pdb"
   ]
  },
  {
   "cell_type": "code",
   "execution_count": 22,
   "metadata": {},
   "outputs": [
    {
     "data": {
      "image/svg+xml": [
       "<svg xmlns=\"http://www.w3.org/2000/svg\" xmlns:rdkit=\"http://www.rdkit.org/xml\" xmlns:xlink=\"http://www.w3.org/1999/xlink\" version=\"1.1\" baseProfile=\"full\" xml:space=\"preserve\" width=\"500px\" height=\"300px\" viewBox=\"0 0 500 300\">\n",
       "<!-- END OF HEADER -->\n",
       "<rect style=\"opacity:1.0;fill:#FFFFFF;stroke:none\" width=\"500.0\" height=\"300.0\" x=\"0.0\" y=\"0.0\"> </rect>\n",
       "<path class=\"bond-0 atom-0 atom-1\" d=\"M 254.9,176.9 L 221.3,118.2\" style=\"fill:none;fill-rule:evenodd;stroke:#000000;stroke-width:2.0px;stroke-linecap:butt;stroke-linejoin:miter;stroke-opacity:1\"/>\n",
       "<path class=\"bond-0 atom-0 atom-1\" d=\"M 221.3,118.2 L 187.8,59.6\" style=\"fill:none;fill-rule:evenodd;stroke:#00CC00;stroke-width:2.0px;stroke-linecap:butt;stroke-linejoin:miter;stroke-opacity:1\"/>\n",
       "<path class=\"bond-1 atom-0 atom-2\" d=\"M 254.9,176.9 L 311.2,209.8\" style=\"fill:none;fill-rule:evenodd;stroke:#000000;stroke-width:2.0px;stroke-linecap:butt;stroke-linejoin:miter;stroke-opacity:1\"/>\n",
       "<path class=\"bond-1 atom-0 atom-2\" d=\"M 311.2,209.8 L 367.6,242.7\" style=\"fill:none;fill-rule:evenodd;stroke:#00CC00;stroke-width:2.0px;stroke-linecap:butt;stroke-linejoin:miter;stroke-opacity:1\"/>\n",
       "<path class=\"bond-2 atom-0 atom-3\" d=\"M 254.9,176.9 L 193.6,211.9\" style=\"fill:none;fill-rule:evenodd;stroke:#000000;stroke-width:2.0px;stroke-linecap:butt;stroke-linejoin:miter;stroke-opacity:1\"/>\n",
       "<path class=\"bond-2 atom-0 atom-3\" d=\"M 193.6,211.9 L 132.4,246.9\" style=\"fill:none;fill-rule:evenodd;stroke:#00CC00;stroke-width:2.0px;stroke-linecap:butt;stroke-linejoin:miter;stroke-opacity:1\"/>\n",
       "<path class=\"bond-3 atom-0 atom-4\" d=\"M 254.9,176.9 L 318.7,67.5\" style=\"fill:none;fill-rule:evenodd;stroke:#000000;stroke-width:2.0px;stroke-linecap:butt;stroke-linejoin:miter;stroke-opacity:1\"/>\n",
       "<path class=\"atom-1\" d=\"M 155.8 48.7 Q 155.8 41.7, 159.0 38.0 Q 162.4 34.3, 168.6 34.3 Q 174.5 34.3, 177.6 38.4 L 175.0 40.6 Q 172.7 37.6, 168.6 37.6 Q 164.4 37.6, 162.1 40.4 Q 159.8 43.3, 159.8 48.7 Q 159.8 54.3, 162.2 57.2 Q 164.5 60.1, 169.1 60.1 Q 172.2 60.1, 175.8 58.2 L 177.0 61.2 Q 175.5 62.2, 173.2 62.7 Q 171.0 63.3, 168.5 63.3 Q 162.4 63.3, 159.0 59.5 Q 155.8 55.8, 155.8 48.7 \" fill=\"#00CC00\"/>\n",
       "<path class=\"atom-1\" d=\"M 179.2 32.6 L 182.9 32.6 L 182.9 62.9 L 179.2 62.9 L 179.2 32.6 \" fill=\"#00CC00\"/>\n",
       "<path class=\"atom-2\" d=\"M 372.5 252.9 Q 372.5 245.8, 375.8 242.2 Q 379.1 238.4, 385.4 238.4 Q 391.2 238.4, 394.3 242.6 L 391.7 244.7 Q 389.4 241.7, 385.4 241.7 Q 381.1 241.7, 378.8 244.6 Q 376.6 247.4, 376.6 252.9 Q 376.6 258.5, 378.9 261.4 Q 381.2 264.2, 385.8 264.2 Q 388.9 264.2, 392.6 262.4 L 393.7 265.4 Q 392.2 266.3, 390.0 266.9 Q 387.7 267.4, 385.2 267.4 Q 379.1 267.4, 375.8 263.7 Q 372.5 259.9, 372.5 252.9 \" fill=\"#00CC00\"/>\n",
       "<path class=\"atom-2\" d=\"M 395.9 236.7 L 399.6 236.7 L 399.6 267.1 L 395.9 267.1 L 395.9 236.7 \" fill=\"#00CC00\"/>\n",
       "<path class=\"atom-3\" d=\"M 100.4 251.7 Q 100.4 244.7, 103.7 241.0 Q 107.0 237.3, 113.3 237.3 Q 119.1 237.3, 122.2 241.4 L 119.6 243.6 Q 117.3 240.6, 113.3 240.6 Q 109.0 240.6, 106.7 243.5 Q 104.5 246.3, 104.5 251.7 Q 104.5 257.3, 106.8 260.2 Q 109.2 263.1, 113.7 263.1 Q 116.8 263.1, 120.5 261.2 L 121.6 264.2 Q 120.1 265.2, 117.9 265.7 Q 115.6 266.3, 113.2 266.3 Q 107.0 266.3, 103.7 262.5 Q 100.4 258.8, 100.4 251.7 \" fill=\"#00CC00\"/>\n",
       "<path class=\"atom-3\" d=\"M 123.8 235.6 L 127.5 235.6 L 127.5 265.9 L 123.8 265.9 L 123.8 235.6 \" fill=\"#00CC00\"/>\n",
       "<path class=\"atom-4\" d=\"M 318.8 34.2 L 322.6 34.2 L 322.6 46.3 L 337.1 46.3 L 337.1 34.2 L 340.9 34.2 L 340.9 62.6 L 337.1 62.6 L 337.1 49.5 L 322.6 49.5 L 322.6 62.6 L 318.8 62.6 L 318.8 34.2 \" fill=\"#000000\"/>\n",
       "</svg>"
      ],
      "text/plain": [
       "<IPython.core.display.SVG object>"
      ]
     },
     "metadata": {},
     "output_type": "display_data"
    }
   ],
   "source": [
    "tcm = Molecule.from_smiles(\"C(Cl)(Cl)Cl\")\n",
    "tcm"
   ]
  },
  {
   "cell_type": "code",
   "execution_count": 23,
   "metadata": {},
   "outputs": [
    {
     "data": {
      "text/plain": [
       "<Topology; 1 chains, 1 residues, 5 atoms, 4 bonds>"
      ]
     },
     "execution_count": 23,
     "metadata": {},
     "output_type": "execute_result"
    }
   ],
   "source": [
    "# Load the PDB file using OpenMM and save the OpenMM Topology\n",
    "pdbfile = app.PDBFile(\"TCM_renum.pdb\")\n",
    "omm_topology = pdbfile.topology\n",
    "omm_topology"
   ]
  },
  {
   "cell_type": "code",
   "execution_count": 24,
   "metadata": {},
   "outputs": [],
   "source": [
    "# Create the OpenFF Topology.\n",
    "off_topology = Topology.from_openmm(\n",
    "    omm_topology, unique_molecules=[tcm]\n",
    ")\n"
   ]
  },
  {
   "cell_type": "code",
   "execution_count": 25,
   "metadata": {},
   "outputs": [],
   "source": [
    "# Modified OpenFF to increase maxAtoms for AM1BCC method to 500 atoms\n",
    "tcm.compute_partial_charges_am1bcc()"
   ]
  },
  {
   "cell_type": "markdown",
   "metadata": {},
   "source": [
    "### Preparing an OpenFF ForceField\n",
    "\n",
    "Once the `ForceField` class is imported, the only decision to make is which force field to use. An exhaustive list of force fields released by the Open Force Field Initiative can be found [here](from openff.toolkit.typing.engines.smirnoff import ForceField\n",
    ").\n",
    "\n",
    "Here we will use force field from the \"Sage\" line."
   ]
  },
  {
   "cell_type": "code",
   "execution_count": 26,
   "metadata": {},
   "outputs": [],
   "source": [
    "forcefield = ForceField(\"openff-2.0.0.offxml\")"
   ]
  },
  {
   "cell_type": "markdown",
   "metadata": {},
   "source": [
    "### Preparing an OpenMM System\n",
    "\n",
    "Once a force field and topology have been loaded, an `openmm.System` can be generated natively with the OpenFF Toolkit."
   ]
  },
  {
   "cell_type": "code",
   "execution_count": 27,
   "metadata": {
    "scrolled": false
   },
   "outputs": [
    {
     "data": {
      "text/plain": [
       "<openmm.openmm.System; proxy of <Swig Object of type 'OpenMM::System *' at 0x7f61ec3a9960> >"
      ]
     },
     "execution_count": 27,
     "metadata": {},
     "output_type": "execute_result"
    }
   ],
   "source": [
    "omm_system = forcefield.create_openmm_system(off_topology, charge_from_molecules = [tcm])\n",
    "omm_system"
   ]
  },
  {
   "cell_type": "markdown",
   "metadata": {},
   "source": [
    "### Preparing an Interchange object\n",
    "\n",
    "To exports to engines other than OpenMM, we will make use of the [Interchange](https://openff-interchange.readthedocs.io/) project. There is a high-level `Interchange.from_smirnoff` function that consumes OpenFF Toolkit and ForceField objects and produces an `Interchange` object which can then be exported to formats understood by other molecular simulation engines. This extra step is needed to provide a clean interface between _applied_ parameters and engines. Note also that this step does not require an OpenMM System to be generated; `ForceField.create_openmm_system` does not need to be called to use Amber and GROMACS."
   ]
  },
  {
   "cell_type": "code",
   "execution_count": 28,
   "metadata": {},
   "outputs": [
    {
     "data": {
      "text/plain": [
       "Interchange with 5 atoms, non-periodic topology"
      ]
     },
     "execution_count": 28,
     "metadata": {},
     "output_type": "execute_result"
    }
   ],
   "source": [
    "from openff.interchange.components.interchange import Interchange\n",
    "\n",
    "interchange = Interchange.from_smirnoff(\n",
    "    force_field=forcefield,\n",
    "    topology=off_topology,\n",
    ")\n",
    "interchange.positions = pdbfile.positions\n",
    "interchange"
   ]
  },
  {
   "cell_type": "markdown",
   "metadata": {},
   "source": [
    "### Exporting to Amber and GROMACS files\n",
    "\n",
    "Once an `Interchange` object has been constructed, its API can be used to export to files understood by GROMACS, Amber, and more."
   ]
  },
  {
   "cell_type": "code",
   "execution_count": 9,
   "metadata": {},
   "outputs": [],
   "source": [
    "# Export GROMACS files.\n",
    "interchange.to_top(\"tcm.top\")\n",
    "interchange.to_gro(\"tcm.gro\")"
   ]
  },
  {
   "cell_type": "markdown",
   "metadata": {},
   "source": [
    "### Validating the conversion to Amber files\n",
    "\n",
    "The Interchange project includes functions that take in an `Interchange` object and call out to simulation engines to run single-point energy calculations (with no minimization or dynamics) for the purpose of validating the export layer with each engine. Under the hood, each of these functions calls API points like those used above while converting to files understood by each engine. These rely on having each engine installed and accessible in the current `$PATH`."
   ]
  },
  {
   "cell_type": "code",
   "execution_count": 10,
   "metadata": {},
   "outputs": [],
   "source": [
    "from openff.interchange.drivers import get_amber_energies, get_openmm_energies"
   ]
  },
  {
   "cell_type": "code",
   "execution_count": 11,
   "metadata": {
    "scrolled": true
   },
   "outputs": [
    {
     "data": {
      "text/plain": [
       "{'Bond': 0.37383594945585064 <Unit('kilojoule / mole')>,\n",
       " 'Angle': 20.374073700933764 <Unit('kilojoule / mole')>,\n",
       " 'Torsion': 0.0 <Unit('kilojoule / mole')>,\n",
       " 'vdW': 0.0 <Unit('kilojoule / mole')>,\n",
       " 'Electrostatics': -0.04106166952213286 <Unit('kilojoule / mole')>}"
      ]
     },
     "execution_count": 11,
     "metadata": {},
     "output_type": "execute_result"
    }
   ],
   "source": [
    "openmm_energies = get_openmm_energies(interchange)\n",
    "openmm_energies.energies"
   ]
  },
  {
   "cell_type": "code",
   "execution_count": 18,
   "metadata": {
    "scrolled": true
   },
   "outputs": [
    {
     "name": "stdout",
     "output_type": "stream",
     "text": [
      "; Generated by OpenFF Interchange\n",
      "[ defaults ]\n",
      "; nbfunc\tcomb-rule\tgen-pairs\tfudgeLJ\tfudgeQQ\n",
      "     1\t     2\tno     0.500000 0.833333\n",
      "\n",
      "[ atomtypes ]\n",
      ";type, bondingtype, mass, charge, ptype, sigma, epsilon\n",
      "C1               6 12.01078 0.0000000000000000 A     0.337953176162662 0.4553891161106184\n",
      "\n",
      "Cl1             17 35.4532 0.0000000000000000 A     0.3307527806460624 1.111270837866897\n",
      "\n",
      "Cl2             17 35.4532 0.0000000000000000 A     0.3307527806460624 1.111270837866897\n",
      "\n",
      "H1               1 1.007947 0.0000000000000000 A     0.2114993556865165 0.06568879999999999\n",
      "\n",
      "Cl3             17 35.4532 0.0000000000000000 A     0.3307527806460624 1.111270837866897\n",
      "\n",
      "[ moleculetype ]\n",
      "; Name\tnrexcl\n",
      "MOL\t3\n",
      "\n",
      "[ atoms ]\n",
      ";num, type, resnum, resname, atomname, cgnr, q, m\n",
      "     1 C1                      1 1        C1            1         0.22431000        12.01078000\n",
      "     2 Cl1                     1 1        Cl1           2        -0.11438000        35.45320000\n",
      "     3 Cl2                     1 1        Cl2           3        -0.11438000        35.45320000\n",
      "     4 H1                      1 1        H1            4         0.11883000         1.00794700\n",
      "     5 Cl3                     1 1        Cl3           5        -0.11438000        35.45320000\n",
      "[ pairs ]\n",
      "; ai\taj\tfunct\n",
      "[ bonds ]\n",
      "; ai\taj\tfunc\tr\tk\n",
      "      1       2 1    0.1791475381368 144269.526418976\n",
      "      1       3 1    0.1791475381368 144269.526418976\n",
      "      1       5 1    0.1791475381368 144269.526418976\n",
      "      1       4 1    0.1093899492634 309655.0843224141\n",
      "\n",
      "\n",
      "[ angles ]\n",
      "; ai\taj\tak\tfunc\tr\tk\n",
      "      2       1       3 1    116.5475862634 445.2220865092856\n",
      "      2       1       5 1    116.5475862634 445.2220865092856\n",
      "      2       1       4 1    116.5475862634 445.2220865092856\n",
      "      3       1       5 1    116.5475862634 445.2220865092856\n",
      "      3       1       4 1    116.5475862634 445.2220865092856\n",
      "      4       1       5 1    116.5475862634 445.2220865092856\n",
      "\n",
      "\n",
      "[ dihedrals ]\n",
      ";    i      j      k      l   func\n",
      "[ system ]\n",
      "; name \n",
      "System name\n",
      "\n",
      "[ molecules ]\n",
      "; Compound\tnmols\n",
      "MOL\t1\n",
      "Generated by OpenFF\n",
      "5\n",
      "    1        C1    1  -0.15030000   0.16460000  -0.00530000\n",
      "    1       Cl1    2  -0.22640000   0.28840000  -0.10780000\n",
      "    1       Cl2    3  -0.20980000   0.18110000   0.16150000\n",
      "    1        H1    4  -0.17590000   0.06380000  -0.04390000\n",
      "    1       Cl3    5   0.02620000   0.18600000  -0.00760000\n",
      " 11.0000000 11.0000000 11.0000000\n"
     ]
    },
    {
     "data": {
      "text/plain": [
       "{'Bond': 0.37383594945585064 <Unit('kilojoule / mole')>,\n",
       " 'Angle': 20.374073700933764 <Unit('kilojoule / mole')>,\n",
       " 'Torsion': 0.0 <Unit('kilojoule / mole')>,\n",
       " 'vdW': 0.0 <Unit('kilojoule / mole')>,\n",
       " 'Electrostatics': -0.04106166952213286 <Unit('kilojoule / mole')>}"
      ]
     },
     "execution_count": 18,
     "metadata": {},
     "output_type": "execute_result"
    }
   ],
   "source": [
    "!cat tcm.top\n",
    "!cat tcm.gro\n",
    "open_mm_energies = get_openmm_energies(interchange)\n",
    "open_mm_energies.energies"
   ]
  },
  {
   "cell_type": "markdown",
   "metadata": {},
   "source": [
    "### Appendix: Validating the conversion to GROMACS and LAMMPS files\n",
    "\n",
    "If GROMACS and/or LAMMPS are installed on your machine, the same comparisons can also take place with those engines. They are available via `conda` by running a command like:\n",
    "\n",
    "```conda install gromacs lammps -c conda-forge -c bioconda```"
   ]
  },
  {
   "cell_type": "code",
   "execution_count": 14,
   "metadata": {},
   "outputs": [],
   "source": [
    "from distutils.spawn import find_executable\n",
    "from pprint import pprint\n",
    "\n",
    "from openff.interchange.drivers import get_gromacs_energies, get_lammps_energies"
   ]
  },
  {
   "cell_type": "code",
   "execution_count": 15,
   "metadata": {},
   "outputs": [],
   "source": [
    "if find_executable(\"lmp_serial\"):\n",
    "    pprint(get_lammps_energies(interchange).energies)"
   ]
  },
  {
   "cell_type": "code",
   "execution_count": 16,
   "metadata": {},
   "outputs": [
    {
     "name": "stdout",
     "output_type": "stream",
     "text": [
      "{'Angle': <Quantity(20.3740883, 'kilojoule / mole')>,\n",
      " 'Bond': <Quantity(0.373844057, 'kilojoule / mole')>,\n",
      " 'Electrostatics': <Quantity(-0.0159397125, 'kilojoule / mole')>,\n",
      " 'Torsion': <Quantity(0.0, 'kilojoule / mole')>,\n",
      " 'vdW': <Quantity(0.0, 'kilojoule / mole')>}\n"
     ]
    }
   ],
   "source": [
    "if find_executable(\"gmx\"):\n",
    "    pprint(get_gromacs_energies(interchange).energies)"
   ]
  },
  {
   "cell_type": "markdown",
   "metadata": {},
   "source": [
    "Finally, there is a helper function `get_summary_data` that will attempt to run drivers of each engine. A summary reported is prepared as a Pandas `DataFrame`."
   ]
  }
 ],
 "metadata": {
  "kernelspec": {
   "display_name": "Python [conda env:terphenyl] *",
   "language": "python",
   "name": "conda-env-terphenyl-py"
  },
  "language_info": {
   "codemirror_mode": {
    "name": "ipython",
    "version": 3
   },
   "file_extension": ".py",
   "mimetype": "text/x-python",
   "name": "python",
   "nbconvert_exporter": "python",
   "pygments_lexer": "ipython3",
   "version": "3.9.12"
  }
 },
 "nbformat": 4,
 "nbformat_minor": 4
}
