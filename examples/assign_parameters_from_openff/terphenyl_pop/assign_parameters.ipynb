{
 "cells": [
  {
   "cell_type": "markdown",
   "id": "dd36960b",
   "metadata": {},
   "source": [
    "# Assigning Parameters for *pop*-terphenyl oligomers\n",
    "\n",
    "This notebook is setup to assign parameters for a several lengths of oligomers for the *pop*-terphenyl system. This workflow is based off of the OpenFF example [here](https://github.com/openforcefield/openff-toolkit/tree/main/examples/using_smirnoff_in_amber_or_gromacs). This notebook relies on structures generated with `mbuild` from `/heteropolymer_simulations/examples/build_polymer`, so make sure the structure files from those examples are generated."
   ]
  },
  {
   "cell_type": "markdown",
   "id": "7906abbc",
   "metadata": {},
   "source": [
    "## Prepare an OpenFF and OpenMM Topologies"
   ]
  },
  {
   "cell_type": "code",
   "execution_count": 1,
   "id": "d8ea5030",
   "metadata": {},
   "outputs": [
    {
     "data": {
      "application/vnd.jupyter.widget-view+json": {
       "model_id": "91db72c84a304a8788e5bc5fd13a73c3",
       "version_major": 2,
       "version_minor": 0
      },
      "text/plain": []
     },
     "metadata": {},
     "output_type": "display_data"
    }
   ],
   "source": [
    "try:\n",
    "    from openmm import app\n",
    "except ImportError:\n",
    "    from simtk.openmm import app\n",
    "\n",
    "from openff.toolkit.topology import FrozenMolecule, Molecule, Topology\n",
    "from openff.toolkit.typing.engines.smirnoff import ForceField\n",
    "from openff.interchange.components.interchange import Interchange\n",
    "import pdb\n",
    "import os"
   ]
  },
  {
   "cell_type": "code",
   "execution_count": 2,
   "id": "9b9f8d39",
   "metadata": {},
   "outputs": [],
   "source": [
    "mol_files = [\n",
    "    \"../../build_polymer/pop/pop_tetramer_mbuild.mol\",\n",
    "    \"../../build_polymer/pop/pop_hexamer_mbuild.mol\",\n",
    "    \"../../build_polymer/pop/pop_octamer_mbuild.mol\",\n",
    "    \"../../build_polymer/pop/pop_decamer_mbuild.mol\"\n",
    "]\n",
    "\n",
    "molecules = [Molecule.from_file(fn) for fn in mol_files]"
   ]
  },
  {
   "cell_type": "code",
   "execution_count": 3,
   "id": "1688d8bb",
   "metadata": {},
   "outputs": [],
   "source": [
    "openmm_topologies = []\n",
    "openff_topologies = []\n",
    "pdbfiles = []\n",
    "for i in range(len(mol_files)):\n",
    "    prefix = mol_files[i].split(\".mol\")[0]\n",
    "    pdb_file = app.PDBFile(prefix + \"_renum.pdb\")\n",
    "    omm_topology = pdb_file.topology\n",
    "    off_topology = Topology.from_openmm(omm_topology, unique_molecules = [molecules[i]])\n",
    "    openmm_topologies.append(omm_topology)\n",
    "    openff_topologies.append(off_topology)\n",
    "    pdbfiles.append(pdb_file)"
   ]
  },
  {
   "cell_type": "markdown",
   "id": "155289f8",
   "metadata": {},
   "source": [
    "## Assign partial charges using AM1-BCC\n",
    "\n",
    "Here we assign partial charges uses AM1-BCC method. This method scales poorly for large systems, so for longer oligomers, like the octamer and decamer this may take several hours. For systems with more than 300 atoms a modified version of the OpenEye toolkit is needed to make sure AM1-BCC calculations can be run on systems larger than 300 atoms."
   ]
  },
  {
   "cell_type": "code",
   "execution_count": 4,
   "id": "e3041d89",
   "metadata": {},
   "outputs": [
    {
     "name": "stdout",
     "output_type": "stream",
     "text": [
      "pop_tetramer_mbuild\n",
      "pop_hexamer_mbuild\n",
      "pop_octamer_mbuild\n",
      "pop_decamer_mbuild\n"
     ]
    }
   ],
   "source": [
    "for i in range(len(molecules)):\n",
    "    prefix = molecules[i].name.split(\".\")[0]\n",
    "    print(prefix)\n",
    "    sdf_file = prefix + \"_charges.sdf\"\n",
    "    if not os.path.exists(sdf_file):\n",
    "        molecules[i].assign_partial_charges(partial_charge_method=\"am1bcc\")\n",
    "        molecules[i].to_file(sdf_file, file_format='sdf')\n",
    "    else:\n",
    "        molecules[i] = Molecule.from_file(sdf_file)"
   ]
  },
  {
   "cell_type": "markdown",
   "id": "005cf933",
   "metadata": {},
   "source": [
    "## Writing Force Fields Topologies\n",
    "\n",
    "First we load the speicfic force fields we want to write topologies with:"
   ]
  },
  {
   "cell_type": "code",
   "execution_count": 5,
   "id": "17dbcad7",
   "metadata": {
    "scrolled": false
   },
   "outputs": [],
   "source": [
    "force_fields = [\n",
    "    ForceField(\"openff-2.0.0.offxml\"),\n",
    "    ForceField(\"openff-2.0.0_bespoke_pop_trimer.offxml\")\n",
    "]\n",
    "\n",
    "ff_prefixes = [\"off-2.0.0\", \"off-2.0.0-bespoke\"]"
   ]
  },
  {
   "cell_type": "code",
   "execution_count": 6,
   "id": "e16c6f45",
   "metadata": {},
   "outputs": [
    {
     "name": "stderr",
     "output_type": "stream",
     "text": [
      "/home/tfobe/anaconda3/envs/hs_analysis/lib/python3.10/site-packages/openff/interchange/interop/gromacs/export/_export.py:321: UserWarning: WARNING: System defined with no box vectors, which GROMACS does not offically support in versions 2020 or newer (see https://gitlab.com/gromacs/gromacs/-/issues/3526). Setting box vectors to a 5  nm cube.\n",
      "  warnings.warn(\n"
     ]
    }
   ],
   "source": [
    "for ff,ff_prefix in zip(force_fields, ff_prefixes):\n",
    "    for i in range(len(molecules)):\n",
    "        prefix = molecules[i].name.split(\".\")[0]\n",
    "        interchange = Interchange.from_smirnoff(\n",
    "            force_field = ff,\n",
    "            topology = openff_topologies[i],\n",
    "            charge_from_molecules = [molecules[i]],\n",
    "        )\n",
    "        interchange.positions = pdbfiles[i].getPositions()\n",
    "        \n",
    "        # Convert to Gromacs format\n",
    "        interchange.to_top(prefix + \"_\" + ff_prefix + \".top\")\n",
    "        interchange.to_gro(prefix + \"_\" + ff_prefix + \".gro\")"
   ]
  }
 ],
 "metadata": {
  "kernelspec": {
   "display_name": "Python 3 (ipykernel)",
   "language": "python",
   "name": "python3"
  },
  "language_info": {
   "codemirror_mode": {
    "name": "ipython",
    "version": 3
   },
   "file_extension": ".py",
   "mimetype": "text/x-python",
   "name": "python",
   "nbconvert_exporter": "python",
   "pygments_lexer": "ipython3",
   "version": "3.10.10"
  }
 },
 "nbformat": 4,
 "nbformat_minor": 5
}
